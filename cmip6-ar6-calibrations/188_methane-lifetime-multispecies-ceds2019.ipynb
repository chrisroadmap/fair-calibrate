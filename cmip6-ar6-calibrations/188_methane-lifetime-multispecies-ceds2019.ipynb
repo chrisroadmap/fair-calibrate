{
 "cells": [
  {
   "cell_type": "markdown",
   "id": "5531ab70",
   "metadata": {},
   "source": [
    "# What affects methane chemical lifetime?\n",
    "\n",
    "- methane\n",
    "- VOCs\n",
    "- NOx\n",
    "- Ozone\n",
    "- halocarbons (specifically ODSs)\n",
    "- N2O\n",
    "- climate\n",
    "\n",
    "Here I suggest an override of the alpha scaling factor for methane that is calculated from multiple species.\n",
    "\n",
    "Ozone itself is a function of other precursors: we do not include ozone as a direct influence on methane lifetime, and restrict ourselves to directly emitted anthropogenic species.\n",
    "\n",
    "Gill Thornhill published two papers on methane lifetime: one on the chemical adjustments to lifetime, and one on the climate adjustments. Both effects will be included. We will \n",
    "\n",
    "1. take AerChemMIP multi-model means from Gill's papers\n",
    "2. run the lifetime relationship to individual AerChemMIP models in Gill's papers\n",
    "3. find a least squares fit with reasonable sensitivies across the historical USING UPDATES TO EMISSIONS AND CONCENTRATIONS\n",
    "4. run a Monte Carlo that perturbs the sensitivity of lifetime to each emitted species"
   ]
  },
  {
   "cell_type": "code",
   "execution_count": null,
   "id": "4d4c5f50",
   "metadata": {},
   "outputs": [],
   "source": [
    "from climateforcing.utils import mkdir_p\n",
    "import numpy as np\n",
    "import pandas as pd\n",
    "import pooch\n",
    "import matplotlib.pyplot as pl\n",
    "import time\n",
    "import scipy.stats\n",
    "import scipy.optimize\n",
    "from tqdm import tqdm\n",
    "\n",
    "from fair import FAIR\n",
    "from fair.interface import fill, initialise"
   ]
  },
  {
   "cell_type": "code",
   "execution_count": null,
   "id": "c21a7c43",
   "metadata": {},
   "outputs": [],
   "source": [
    "mkdir_p('../plots/')"
   ]
  },
  {
   "cell_type": "markdown",
   "id": "24f6fa32",
   "metadata": {},
   "source": [
    "## Temperature data\n",
    "\n",
    "Use observations 1850-2020"
   ]
  },
  {
   "cell_type": "code",
   "execution_count": null,
   "id": "015305de",
   "metadata": {},
   "outputs": [],
   "source": [
    "df_temp = pd.read_csv('../data/forcing/AR6_GMST.csv')\n",
    "gmst = np.zeros(270)\n",
    "gmst[0:101] = np.linspace(0, 0.1, 101)\n",
    "gmst[100:270] = df_temp['gmst'].values[:170]+0.1"
   ]
  },
  {
   "cell_type": "markdown",
   "id": "046e15b1",
   "metadata": {},
   "source": [
    "## Get emissions and concentrations "
   ]
  },
  {
   "cell_type": "code",
   "execution_count": null,
   "id": "ddee1d59",
   "metadata": {},
   "outputs": [],
   "source": [
    "rcmip_emissions_file = pooch.retrieve(\n",
    "    url=\"doi:10.5281/zenodo.4589756/rcmip-emissions-annual-means-v5-1-0.csv\",\n",
    "    known_hash=\"md5:4044106f55ca65b094670e7577eaf9b3\",\n",
    ")\n",
    "\n",
    "rcmip_concentration_file = pooch.retrieve(\n",
    "    url=(\n",
    "        \"doi:10.5281/zenodo.4589756/\"\n",
    "        \"rcmip-concentrations-annual-means-v5-1-0.csv\"\n",
    "    ),\n",
    "    known_hash=\"md5:0d82c3c3cdd4dd632b2bb9449a5c315f\",\n",
    ")\n",
    "\n",
    "df_emis_rcmip = pd.read_csv(rcmip_emissions_file)\n",
    "df_conc_rcmip = pd.read_csv(rcmip_concentration_file)\n",
    "input = {}\n",
    "hc_input = {}"
   ]
  },
  {
   "cell_type": "code",
   "execution_count": null,
   "id": "a9b938a0",
   "metadata": {},
   "outputs": [],
   "source": [
    "df_emis_update = pd.read_csv('../data/emissions/co2_ch4_n2o_slcfs_1750-2020.csv', index_col=0)\n",
    "df_conc_update = pd.read_csv('../data/ar6_ghg_concentrations/wmghgs_1750-2019.csv', index_col=0)"
   ]
  },
  {
   "cell_type": "code",
   "execution_count": null,
   "id": "e3e210da",
   "metadata": {},
   "outputs": [],
   "source": [
    "#df_conc_update"
   ]
  },
  {
   "cell_type": "markdown",
   "id": "380305fd",
   "metadata": {},
   "source": [
    "## Calibration\n",
    "\n",
    "is from models, so use the CMIP6 emissions/concentrations for this step."
   ]
  },
  {
   "cell_type": "code",
   "execution_count": null,
   "id": "425512a6",
   "metadata": {},
   "outputs": [],
   "source": [
    "conc_species = ['CH4', 'N2O']\n",
    "hc_species = ['CFC-11', 'CFC-12', 'CFC-113', 'CFC-114', 'CFC-115', 'HCFC-22', 'HCFC-141b', 'HCFC-142b',\n",
    "               'CCl4', 'CHCl3', 'CH2Cl2', 'CH3Cl', 'CH3CCl3', 'CH3Br', 'Halon-1211', 'Halon-1301', 'Halon-2402']\n",
    "\n",
    "for species in conc_species:\n",
    "    input[species] = df_conc_rcmip.loc[\n",
    "        (df_conc_rcmip['Scenario']=='ssp370') & (df_conc_rcmip['Variable'].str.endswith(species)) & \n",
    "        (df_conc_rcmip['Region']=='World'), '1750':'2019'\n",
    "    ].interpolate(axis=1).values.squeeze()\n",
    "    \n",
    "for species in hc_species:\n",
    "    species_rcmip_name = species.replace(\"-\", \"\")\n",
    "    hc_input[species] = df_conc_rcmip.loc[\n",
    "        (df_conc_rcmip['Scenario']=='ssp370') & (df_conc_rcmip['Variable'].str.endswith(species_rcmip_name)) & \n",
    "        (df_conc_rcmip['Region']=='World'), '1750':'2019'\n",
    "    ].interpolate(axis=1).values.squeeze()"
   ]
  },
  {
   "cell_type": "code",
   "execution_count": null,
   "id": "f7ff14a3",
   "metadata": {},
   "outputs": [],
   "source": [
    "emis_species = ['CO', 'VOC', 'NOx']\n",
    "for species in emis_species:\n",
    "    input[species] = df_emis_rcmip.loc[\n",
    "        (df_emis_rcmip['Scenario']=='ssp370') & (df_emis_rcmip['Variable'].str.endswith(species)) & \n",
    "        (df_emis_rcmip['Region']=='World'), '1750':'2020'\n",
    "    ].interpolate(axis=1).values.squeeze()[:270]"
   ]
  },
  {
   "cell_type": "code",
   "execution_count": null,
   "id": "93c7b7f1",
   "metadata": {},
   "outputs": [],
   "source": [
    "input['temp'] = gmst"
   ]
  },
  {
   "cell_type": "code",
   "execution_count": null,
   "id": "33ae96d5",
   "metadata": {},
   "outputs": [],
   "source": [
    "def calculate_eesc(\n",
    "    concentration,\n",
    "    baseline_concentration,\n",
    "    fractional_release,\n",
    "    fractional_release_cfc11,\n",
    "    cl_atoms,\n",
    "    br_atoms,\n",
    "    br_cl_ratio = 45,\n",
    "):\n",
    "\n",
    "    # EESC is in terms of CFC11-eq\n",
    "    eesc_out = (\n",
    "        cl_atoms * (concentration - baseline_concentration) * fractional_release / fractional_release_cfc11 +\n",
    "        br_cl_ratio * br_atoms * (concentration - baseline_concentration) * fractional_release / fractional_release_cfc11\n",
    "    ) * fractional_release_cfc11\n",
    "    return eesc_out"
   ]
  },
  {
   "cell_type": "code",
   "execution_count": null,
   "id": "8b7c6259",
   "metadata": {},
   "outputs": [],
   "source": [
    "fractional_release = {\n",
    "    'CFC-11':0.47, \n",
    "    'CFC-12':0.23, \n",
    "    'CFC-113':0.29, \n",
    "    'CFC-114':0.12, \n",
    "    'CFC-115':0.04, \n",
    "    'HCFC-22':0.13, \n",
    "    'HCFC-141b':0.34, \n",
    "    'HCFC-142b':0.17,\n",
    "    'CCl4':0.56, \n",
    "    'CHCl3':0, \n",
    "    'CH2Cl2':0, \n",
    "    'CH3Cl':0.44, \n",
    "    'CH3CCl3':0.67, \n",
    "    'CH3Br':0.6, \n",
    "    'Halon-1211':0.62,\n",
    "    'Halon-1301':0.28, \n",
    "    'Halon-2402':0.65\n",
    "}\n",
    "\n",
    "cl_atoms = {\n",
    "    'CFC-11':3, \n",
    "    'CFC-12':2, \n",
    "    'CFC-113':3, \n",
    "    'CFC-114':2, \n",
    "    'CFC-115':1, \n",
    "    'HCFC-22':1, \n",
    "    'HCFC-141b':2, \n",
    "    'HCFC-142b':1,\n",
    "    'CCl4':4, \n",
    "    'CHCl3':3, \n",
    "    'CH2Cl2':2, \n",
    "    'CH3Cl':1, \n",
    "    'CH3CCl3':3, \n",
    "    'CH3Br':0, \n",
    "    'Halon-1211':1,\n",
    "    'Halon-1301':0, \n",
    "    'Halon-2402':0\n",
    "}\n",
    "\n",
    "br_atoms = {\n",
    "    'CFC-11':0, \n",
    "    'CFC-12':0, \n",
    "    'CFC-113':0, \n",
    "    'CFC-114':0, \n",
    "    'CFC-115':0, \n",
    "    'HCFC-22':0, \n",
    "    'HCFC-141b':0, \n",
    "    'HCFC-142b':0,\n",
    "    'CCl4':0, \n",
    "    'CHCl3':0, \n",
    "    'CH2Cl2':0, \n",
    "    'CH3Cl':0, \n",
    "    'CH3CCl3':0, \n",
    "    'CH3Br':1, \n",
    "    'Halon-1211':1,\n",
    "    'Halon-1301':1, \n",
    "    'Halon-2402':2\n",
    "}"
   ]
  },
  {
   "cell_type": "code",
   "execution_count": null,
   "id": "4235cd33",
   "metadata": {},
   "outputs": [],
   "source": [
    "hc_eesc = {}\n",
    "total_eesc = 0\n",
    "for species in hc_species:\n",
    "    hc_eesc[species] = calculate_eesc(\n",
    "        hc_input[species],\n",
    "        hc_input[species][0],\n",
    "        fractional_release[species],\n",
    "        fractional_release['CFC-11'],\n",
    "        cl_atoms[species],\n",
    "        br_atoms[species],\n",
    "    )\n",
    "    total_eesc = total_eesc + hc_eesc[species]"
   ]
  },
  {
   "cell_type": "code",
   "execution_count": null,
   "id": "17222499",
   "metadata": {},
   "outputs": [],
   "source": [
    "for species in hc_species:\n",
    "    pl.plot(hc_eesc[species])"
   ]
  },
  {
   "cell_type": "code",
   "execution_count": null,
   "id": "2ce52dc7",
   "metadata": {},
   "outputs": [],
   "source": [
    "input['HC'] = total_eesc"
   ]
  },
  {
   "cell_type": "markdown",
   "id": "88e128ed",
   "metadata": {},
   "source": [
    "Use 1850 and 2014 emissions or concentrations corresponding to methane lifetime changes in Thornhill et al. 2021.\n",
    "\n",
    "TODO: Could we also take into account the fact that there are multiple loss pathways for CH4:\n",
    "- tropospheric OH loss is 560 Tg/yr\n",
    "- chlorine oxidation, 11 Tg/yr, assumed not included in AerChemMIP models\n",
    "- stratospheric loss is 31 Tg/yr, assumed not included in AerChemMIP models\n",
    "- soil uptake, 30 Tg/yr, not included in AerChemMIP models\n",
    "\n",
    "Saunois (2020): 90% of sink is OH chemistry in troposphere and is 553 [476–677] Tg CH4 yr−1, which is close to the IPCC number of 560, (chapter 5)\n",
    "\n",
    "Chapter 6 only give time constants for soil uptake and the combined chemistry loss (trop OH + chlorine + stratosphere). "
   ]
  },
  {
   "cell_type": "code",
   "execution_count": null,
   "id": "5aa147e3",
   "metadata": {},
   "outputs": [],
   "source": [
    "def alpha_scaling_exp(\n",
    "    input,\n",
    "    baseline,\n",
    "    normalisation,\n",
    "    beta,\n",
    "):\n",
    "    log_lifetime_scaling = 0\n",
    "    for species in ['CH4', 'N2O', 'VOC', 'CO', 'HC', 'NOx', 'temp']:\n",
    "        log_lifetime_scaling = log_lifetime_scaling + (\n",
    "            np.log(1 + (input[species]-baseline[species])/normalisation[species] * beta[species])\n",
    "        )\n",
    "    return np.exp(log_lifetime_scaling)"
   ]
  },
  {
   "cell_type": "code",
   "execution_count": null,
   "id": "e75c88a1",
   "metadata": {},
   "outputs": [],
   "source": [
    "normalisation = {}\n",
    "for species in ['CH4', 'N2O', 'VOC', 'CO', 'NOx', 'HC']:\n",
    "    normalisation[species] = input[species][264] - input[species][100]\n",
    "    print(species, normalisation[species])\n",
    "normalisation['temp'] = 1"
   ]
  },
  {
   "cell_type": "code",
   "execution_count": null,
   "id": "2ea3de5b",
   "metadata": {},
   "outputs": [],
   "source": [
    "baseline = {}\n",
    "for species in ['CH4', 'N2O', 'VOC', 'CO', 'NOx', 'HC']:\n",
    "    baseline[species] = input[species][100]\n",
    "baseline['temp'] = 0"
   ]
  },
  {
   "cell_type": "markdown",
   "id": "5933563d",
   "metadata": {},
   "source": [
    "## Steps 1 and 2\n",
    "\n",
    "Get and tune to AerChemMIP models\n",
    "\n",
    "MRI and GISS both give pretty good historical emulations"
   ]
  },
  {
   "cell_type": "code",
   "execution_count": null,
   "id": "7c2aa2f6",
   "metadata": {},
   "outputs": [],
   "source": [
    "parameters = {}\n",
    "\n",
    "parameters['AerChemMIP_mean'] = {\n",
    "    'base': 10.0,\n",
    "    'CH4': +0.22,\n",
    "    'NOx': -0.33,\n",
    "    'CO': 0,\n",
    "    'VOC': +0.19,\n",
    "    'HC': -0.037,\n",
    "    'N2O': -0.02,\n",
    "    'temp': -0.006,\n",
    "}\n",
    "\n",
    "parameters['UKESM'] = {\n",
    "    'base': 8,\n",
    "    'CH4': +0.22,\n",
    "    'NOx': -0.25,\n",
    "    'CO': 0,\n",
    "    'VOC': +0.11,\n",
    "    'HC': -0.049,\n",
    "    'N2O': -0.012,\n",
    "    'temp': -0.0408\n",
    "}\n",
    "\n",
    "# we'll exclude BCC and CESM as they don't have VOC expt and that's important. \n",
    "# We can live with a missing N2O from GFDL and a missing temperature feedback from MRI.\n",
    "\n",
    "parameters['GFDL'] = {\n",
    "    'base': 9.6,\n",
    "    'CH4': +0.21,\n",
    "    'NOx': -0.33,\n",
    "    'CO': 0,\n",
    "    'VOC': +0.15,\n",
    "    'HC': -0.075,\n",
    "    'N2O': 0,  # missing\n",
    "    'temp': -0.0205\n",
    "}\n",
    "\n",
    "parameters['GISS'] = {\n",
    "    'base': 13.4,\n",
    "    'CH4': +0.18,\n",
    "    'NOx': -0.46,\n",
    "    'CO': 0,\n",
    "    'VOC': +0.27,\n",
    "    'HC': -0.006,\n",
    "    'N2O': -0.039,\n",
    "    'temp': -0.0333\n",
    "}\n",
    "\n",
    "parameters['MRI'] = {\n",
    "    'base': 10.1,\n",
    "    'CH4': +0.22,\n",
    "    'NOx': -0.26,\n",
    "    'CO': 0,\n",
    "    'VOC': +0.21,\n",
    "    'HC': -0.024,\n",
    "    'N2O': -0.013,\n",
    "    'temp': 0  # missing\n",
    "}"
   ]
  },
  {
   "cell_type": "code",
   "execution_count": null,
   "id": "521523ec",
   "metadata": {},
   "outputs": [],
   "source": [
    "lifetime_scaling = {}"
   ]
  },
  {
   "cell_type": "code",
   "execution_count": null,
   "id": "3f61c511",
   "metadata": {},
   "outputs": [],
   "source": [
    "models = ['AerChemMIP_mean', 'UKESM', 'GFDL', 'GISS', 'MRI']"
   ]
  },
  {
   "cell_type": "code",
   "execution_count": null,
   "id": "a36263d8",
   "metadata": {},
   "outputs": [],
   "source": [
    "for model in models:\n",
    "    print(parameters[model])\n",
    "    lifetime_scaling[model] = alpha_scaling_exp(\n",
    "        input,\n",
    "        baseline,\n",
    "        normalisation,\n",
    "        parameters[model],\n",
    "    )"
   ]
  },
  {
   "cell_type": "code",
   "execution_count": null,
   "id": "c64c6664",
   "metadata": {},
   "outputs": [],
   "source": [
    "#pl.plot(np.arange(1750, 2501), aerchemmip_mean[:] * 8.25)\n",
    "for model in models:\n",
    "    pl.plot(np.arange(1750, 2020), lifetime_scaling[model] * parameters[model]['base'], label=model)\n",
    "pl.legend(loc='upper left', bbox_to_anchor=[0, 0.8], frameon=False)\n",
    "pl.xlim(1750, 2020)\n",
    "pl.ylabel('CH4 chemical lifetime (yr)')\n",
    "pl.title('CH$_4$ model calibration lifetime SSP3-7.0')\n",
    "#pl.savefig('../plots/ch4_chemical_lifetime_tuning.png')"
   ]
  },
  {
   "cell_type": "code",
   "execution_count": null,
   "id": "d24f232c",
   "metadata": {},
   "outputs": [],
   "source": [
    "# put this into a simple one box model\n",
    "def one_box(\n",
    "    emissions,\n",
    "    gas_boxes_old,\n",
    "    burden_per_emission,\n",
    "    lifetime,\n",
    "    alpha_lifetime,\n",
    "    partition_fraction,\n",
    "    pre_industrial_concentration,\n",
    "    timestep=1,\n",
    "    natural_emissions_adjustment=0,\n",
    "):\n",
    "    decay_rate = timestep/(lifetime * alpha_lifetime)\n",
    "    decay_factor = np.exp(-decay_rate)\n",
    "    \n",
    "    # additions and removals\n",
    "    gas_boxes_new = (\n",
    "        partition_fraction\n",
    "        * (emissions - natural_emissions_adjustment)\n",
    "        * 1\n",
    "        / decay_rate\n",
    "        * (1 - decay_factor)\n",
    "        * timestep\n",
    "        + gas_boxes_old * decay_factor\n",
    "    )\n",
    "\n",
    "    airborne_emissions_new = gas_boxes_new\n",
    "    concentration_out = (\n",
    "        pre_industrial_concentration +\n",
    "        burden_per_emission * airborne_emissions_new\n",
    "    )\n",
    "    return concentration_out, gas_boxes_new, airborne_emissions_new"
   ]
  },
  {
   "cell_type": "markdown",
   "id": "857f7d78",
   "metadata": {},
   "source": [
    "For this model testing step, I'm now going to sub in emissions from observations"
   ]
  },
  {
   "cell_type": "code",
   "execution_count": null,
   "id": "4d590dc2",
   "metadata": {},
   "outputs": [],
   "source": [
    "# emis_ch4 = df_emis.loc[\n",
    "#     (df_emis['Scenario']=='ssp370') & (df_emis['Variable'].str.endswith('CH4')) & \n",
    "#     (df_emis['Region']=='World'), '1750':'2500'\n",
    "# ].interpolate(axis=1).values.squeeze()\n",
    "\n",
    "emis_ch4_update = df_emis_update.loc['CH4'].values.squeeze()[:270]\n",
    "conc_ch4_update = df_conc_update.loc['CH4'].values.squeeze()[:270]"
   ]
  },
  {
   "cell_type": "code",
   "execution_count": null,
   "id": "1661ec0a",
   "metadata": {},
   "outputs": [],
   "source": [
    "burden_per_emission = 1 / (5.1352e18 / 1e18 * 16.043 / 28.97)\n",
    "partition_fraction = 1\n",
    "pre_industrial_concentration = conc_ch4_update[0]\n",
    "natural_emissions_adjustment = emis_ch4_update[0]"
   ]
  },
  {
   "cell_type": "code",
   "execution_count": null,
   "id": "25a43741",
   "metadata": {},
   "outputs": [],
   "source": [
    "conc_ch4 = {}"
   ]
  },
  {
   "cell_type": "code",
   "execution_count": null,
   "id": "26c91cf5",
   "metadata": {},
   "outputs": [],
   "source": [
    "for model in models:\n",
    "    conc_ch4[model] = np.zeros(270)\n",
    "    gas_boxes = 0\n",
    "    airborne_emissions = 0\n",
    "    for i in range(270):\n",
    "        conc_ch4[model][i], gas_boxes, airborne_emissions = one_box(\n",
    "            emis_ch4_update[i],\n",
    "            gas_boxes,\n",
    "            burden_per_emission,\n",
    "            parameters[model]['base'],\n",
    "            lifetime_scaling[model][i],\n",
    "            partition_fraction,\n",
    "            pre_industrial_concentration,\n",
    "            timestep=1,\n",
    "            natural_emissions_adjustment=natural_emissions_adjustment,\n",
    "        )"
   ]
  },
  {
   "cell_type": "code",
   "execution_count": null,
   "id": "46a459dd",
   "metadata": {},
   "outputs": [],
   "source": [
    "for model in models:\n",
    "    pl.plot(np.arange(1750, 2020), conc_ch4[model], label=model)\n",
    "pl.plot(np.arange(1750, 2020), conc_ch4_update, color='k', label='obs')\n",
    "pl.ylabel('CH4 concentrations, ppb')\n",
    "pl.xlim(1750, 2020)\n",
    "pl.legend(frameon=False)\n",
    "pl.title('CH$_4$ model calibrations SSP3-7.0')\n",
    "#pl.savefig('../plots/aerchemmip_tuning_ch4_conc.pdf')\n",
    "#pl.savefig('../plots/aerchemmip_tuning_ch4_conc.png')"
   ]
  },
  {
   "cell_type": "code",
   "execution_count": null,
   "id": "6640ddec",
   "metadata": {},
   "outputs": [],
   "source": [
    "# df_ch4 = pd.read_csv('../data/calibration/methane_ukesm1.csv', index_col=0)"
   ]
  },
  {
   "cell_type": "code",
   "execution_count": null,
   "id": "096f4e54",
   "metadata": {},
   "outputs": [],
   "source": [
    "# df_ch4.mean(axis=1)"
   ]
  },
  {
   "cell_type": "code",
   "execution_count": null,
   "id": "e56fb6b2",
   "metadata": {},
   "outputs": [],
   "source": [
    "# pl.plot(np.arange(1850.5, 2015), conc_ch4['UKESM'][100:265], label='FaIR UKESM1 calibration')\n",
    "# pl.plot(df_ch4.index, df_ch4.mean(axis=1), label='UKESM1')\n",
    "# pl.legend()\n",
    "# pl.savefig('../plots/ukesm_historical_methane.png')"
   ]
  },
  {
   "cell_type": "code",
   "execution_count": null,
   "id": "b88659e1",
   "metadata": {},
   "outputs": [],
   "source": [
    "# for model in models:\n",
    "#     pl.plot(np.arange(1750, 2021), conc_ch4[model][:271], label=model)\n",
    "# pl.plot(np.arange(1750, 2021), input['CH4'][:271], color='k', label='obs')\n",
    "# pl.legend()\n",
    "# pl.savefig('../plots/aerchemmip_tuning_ch4_conc_1750-2020.pdf')"
   ]
  },
  {
   "cell_type": "markdown",
   "id": "b6ac2598",
   "metadata": {},
   "source": [
    "## Step 3\n",
    "\n",
    "Find least squares sensible historical fit\n",
    "\n",
    "Now we move to observational emissions and concentrations"
   ]
  },
  {
   "cell_type": "code",
   "execution_count": null,
   "id": "c8cff475",
   "metadata": {},
   "outputs": [],
   "source": [
    "hc_eesc_update = {}\n",
    "total_eesc_update = 0\n",
    "for species in hc_species:\n",
    "    hc_eesc_update[species] = calculate_eesc(\n",
    "        df_conc_update.loc[species].values.squeeze()[:270],\n",
    "        df_conc_update.loc[species].values.squeeze()[0],\n",
    "        fractional_release[species],\n",
    "        fractional_release['CFC-11'],\n",
    "        cl_atoms[species],\n",
    "        br_atoms[species],\n",
    "    )\n",
    "    total_eesc_update = total_eesc_update + hc_eesc_update[species]"
   ]
  },
  {
   "cell_type": "code",
   "execution_count": null,
   "id": "3c7b1e19",
   "metadata": {},
   "outputs": [],
   "source": [
    "total_eesc_update"
   ]
  },
  {
   "cell_type": "code",
   "execution_count": null,
   "id": "596dba02",
   "metadata": {},
   "outputs": [],
   "source": [
    "input_update = {\n",
    "    'CH4': conc_ch4_update,\n",
    "    'NOx': df_emis_update.loc['NOx'].values.squeeze()[:270], \n",
    "    'VOC': df_emis_update.loc['VOC'].values.squeeze()[:270],\n",
    "    'CO': df_emis_update.loc['CO'].values.squeeze()[:270],\n",
    "    'HC': total_eesc_update,\n",
    "    'N2O': df_conc_update.loc['N2O'].values.squeeze()[:270],\n",
    "    'temp': input['temp']\n",
    "}"
   ]
  },
  {
   "cell_type": "code",
   "execution_count": null,
   "id": "03389046",
   "metadata": {},
   "outputs": [],
   "source": [
    "normalisation_update = {}\n",
    "for species in ['CH4', 'N2O', 'VOC', 'CO', 'NOx', 'HC']:\n",
    "    normalisation_update[species] = input_update[species][264] - input_update[species][100]\n",
    "    print(species, normalisation_update[species])\n",
    "normalisation_update['temp'] = 1\n",
    "\n",
    "baseline_update = {}\n",
    "for species in ['CH4', 'N2O', 'VOC', 'CO', 'NOx', 'HC']:\n",
    "    baseline_update[species] = input_update[species][0]\n",
    "baseline_update['temp'] = 0"
   ]
  },
  {
   "cell_type": "code",
   "execution_count": null,
   "id": "17dcbc01",
   "metadata": {},
   "outputs": [],
   "source": [
    "invect = np.array(\n",
    "    [\n",
    "        input_update['CH4'], \n",
    "        input_update['NOx'], \n",
    "        input_update['VOC'], \n",
    "        input_update['CO'], \n",
    "        input_update['HC'], \n",
    "        input_update['N2O'], \n",
    "        input['temp']\n",
    "    ]\n",
    ")"
   ]
  },
  {
   "cell_type": "code",
   "execution_count": null,
   "id": "a33b19dc",
   "metadata": {},
   "outputs": [],
   "source": [
    "def fit_precursors(x, rch4, rnox, rvoc, rco, rhc, rn2o, rtemp, rbase):\n",
    "    conc_ch4 = np.zeros(270)\n",
    "    gas_boxes = 0\n",
    "    airborne_emissions = 0\n",
    "    \n",
    "    params = {}\n",
    "    params['CH4'] = rch4\n",
    "    params['NOx'] = rnox\n",
    "    params['VOC'] = rvoc\n",
    "    params['CO'] = rco\n",
    "    params['HC'] = rhc\n",
    "    params['N2O'] = rn2o\n",
    "    params['temp'] = rtemp\n",
    "    \n",
    "    inp = {}\n",
    "    inp['CH4'] = x[0]\n",
    "    inp['NOx'] = x[1]\n",
    "    inp['VOC'] = x[2]\n",
    "    inp['CO'] = x[3]\n",
    "    inp['HC'] = x[4]\n",
    "    inp['N2O'] = x[5]\n",
    "    inp['temp'] = x[6]\n",
    "    \n",
    "    lifetime_scaling = alpha_scaling_exp(\n",
    "        inp,\n",
    "        baseline_update,\n",
    "        normalisation_update,\n",
    "        params,\n",
    "    )\n",
    "    \n",
    "    for i in range(270):\n",
    "        conc_ch4[i], gas_boxes, airborne_emissions = one_box(\n",
    "            emis_ch4_update[i],\n",
    "            gas_boxes,\n",
    "            burden_per_emission,\n",
    "            rbase,\n",
    "            lifetime_scaling[i],\n",
    "            partition_fraction,\n",
    "            pre_industrial_concentration,\n",
    "            timestep=1,\n",
    "            natural_emissions_adjustment=natural_emissions_adjustment,\n",
    "        )\n",
    "    return conc_ch4\n",
    "\n",
    "\n",
    "p, cov = scipy.optimize.curve_fit(\n",
    "    fit_precursors, \n",
    "    invect,\n",
    "    conc_ch4_update[:270],\n",
    "    bounds = (  # AerChemMIP min to max range\n",
    "       (0.18, -0.46, 0.11, 0.11, -0.075, -0.039, -0.0408, 6.3),\n",
    "       (0.26, -0.25, 0.27, 0.27, -0.006, -0.012, +0.0718, 13.4)\n",
    "    )\n",
    ")"
   ]
  },
  {
   "cell_type": "code",
   "execution_count": null,
   "id": "792a223d",
   "metadata": {},
   "outputs": [],
   "source": [
    "parameters['best_fit'] = {\n",
    "    'base': p[7],\n",
    "    'CH4': p[0],\n",
    "    'NOx': p[1],\n",
    "    'VOC': p[2],\n",
    "    'CO': p[3],\n",
    "    'HC': p[4],\n",
    "    'N2O': p[5],\n",
    "    'temp': p[6],\n",
    "}\n",
    "p"
   ]
  },
  {
   "cell_type": "code",
   "execution_count": null,
   "id": "e33461c5",
   "metadata": {},
   "outputs": [],
   "source": [
    "# these are the feedback values per ppb / per Mt that go into FaIR\n",
    "for specie in ['CH4', 'NOx', 'VOC', 'CO', 'HC', 'N2O']:\n",
    "    print(specie, parameters['best_fit'][specie]/normalisation[specie])"
   ]
  },
  {
   "cell_type": "code",
   "execution_count": null,
   "id": "4e9360f5",
   "metadata": {},
   "outputs": [],
   "source": [
    "# beta_hc_sum = 0\n",
    "\n",
    "# for species in hc_species:\n",
    "#     beta_hc = (\n",
    "#         p[3] * (\n",
    "#             (hc_eesc[species][264] - hc_eesc[species][100])/(total_eesc[264]-total_eesc[100])\n",
    "#         )\n",
    "#     )\n",
    "#     print(species, beta_hc)\n",
    "#     beta_hc_sum = beta_hc_sum + beta_hc\n",
    "# print(beta_hc_sum)"
   ]
  },
  {
   "cell_type": "code",
   "execution_count": null,
   "id": "2ea5de05",
   "metadata": {},
   "outputs": [],
   "source": [
    "input_update"
   ]
  },
  {
   "cell_type": "code",
   "execution_count": null,
   "id": "f7741db8",
   "metadata": {},
   "outputs": [],
   "source": [
    "lifetime_scaling['best_fit'] = alpha_scaling_exp(\n",
    "    input_update,\n",
    "    baseline_update,\n",
    "    normalisation_update,\n",
    "    parameters['best_fit'],\n",
    ")"
   ]
  },
  {
   "cell_type": "code",
   "execution_count": null,
   "id": "80e87f5e",
   "metadata": {},
   "outputs": [],
   "source": [
    "pl.plot(np.arange(1750, 2020), lifetime_scaling['best_fit'])"
   ]
  },
  {
   "cell_type": "code",
   "execution_count": null,
   "id": "053f46af",
   "metadata": {},
   "outputs": [],
   "source": [
    "lifetime_scaling['best_fit'][0]"
   ]
  },
  {
   "cell_type": "code",
   "execution_count": null,
   "id": "b592e3dc",
   "metadata": {},
   "outputs": [],
   "source": [
    "lifetime_scaling['best_fit'][0] * parameters['best_fit']['base']"
   ]
  },
  {
   "cell_type": "code",
   "execution_count": null,
   "id": "9e60f85f",
   "metadata": {},
   "outputs": [],
   "source": [
    "pl.plot(np.arange(1750, 2020), lifetime_scaling['best_fit'] * parameters['best_fit']['base'], label='best_fit')\n",
    "pl.legend()\n",
    "pl.ylabel('CH4 chemical lifetime (yr)')\n",
    "#pl.savefig('../plots/ch4_chemical_lifetime_best_fit.pdf')"
   ]
  },
  {
   "cell_type": "code",
   "execution_count": null,
   "id": "937a0807",
   "metadata": {},
   "outputs": [],
   "source": [
    "conc_ch4['best_fit'] = np.zeros(270)\n",
    "gas_boxes = 0\n",
    "airborne_emissions = 0\n",
    "for i in range(270):\n",
    "    conc_ch4['best_fit'][i], gas_boxes, airborne_emissions = one_box(\n",
    "        emis_ch4_update[i],\n",
    "        gas_boxes,\n",
    "        burden_per_emission,\n",
    "        parameters['best_fit']['base'],\n",
    "        lifetime_scaling['best_fit'][i],\n",
    "        partition_fraction,\n",
    "        conc_ch4_update[0],\n",
    "        timestep=1,\n",
    "        natural_emissions_adjustment=natural_emissions_adjustment,\n",
    "    )"
   ]
  },
  {
   "cell_type": "code",
   "execution_count": null,
   "id": "4c16dc15",
   "metadata": {},
   "outputs": [],
   "source": [
    "pl.plot(np.arange(1750, 2020), conc_ch4['best_fit'][:], label='best_fit')\n",
    "pl.plot(np.arange(1750, 2020), input_update['CH4'], color='k', label='observations')\n",
    "pl.ylabel('CH4 concentrations, ppb')\n",
    "pl.xlim(1750, 2020)\n",
    "pl.title('CH$_4$ calibrated lifetime best coefficient fit')\n",
    "pl.legend(frameon=False)\n",
    "#pl.savefig('../plots/ch4_lifetime_best_fit_v_obs_ssp370.pdf')\n",
    "#pl.savefig('../plots/ch4_lifetime_best_fit_v_obs_ssp370.png')"
   ]
  },
  {
   "cell_type": "markdown",
   "id": "f6e15dd4",
   "metadata": {},
   "source": [
    "## Step 4\n",
    "\n",
    "Run a Monte Carlo around these parameters"
   ]
  },
  {
   "cell_type": "code",
   "execution_count": null,
   "id": "82e5672f",
   "metadata": {},
   "outputs": [],
   "source": [
    "samples = 100000"
   ]
  },
  {
   "cell_type": "code",
   "execution_count": null,
   "id": "095d6dea",
   "metadata": {},
   "outputs": [],
   "source": []
  },
  {
   "cell_type": "code",
   "execution_count": null,
   "id": "f86841dd",
   "metadata": {},
   "outputs": [],
   "source": [
    "param_mc = []\n",
    "base = scipy.stats.uniform.rvs(6.3, 7.1, size=samples, random_state=1001251)\n",
    "ch4 = scipy.stats.uniform.rvs(0.18, 0.08, size=samples, random_state=21260)\n",
    "nox = scipy.stats.uniform.rvs(-0.46, 0.21, size=samples, random_state=3936801)\n",
    "# voc and co are not separated in AR6, so rescale to preserve the mean of the sum\n",
    "voc = scipy.stats.uniform.rvs(0.11-0.095, 0.16, size=samples, random_state=10372947)\n",
    "co = scipy.stats.uniform.rvs(0.11-0.095, 0.16, size=samples, random_state=32015)\n",
    "hc = scipy.stats.uniform.rvs(-0.075, 0.069, size=samples, random_state=9165539)\n",
    "n2o = scipy.stats.uniform.rvs(-0.039, 0.027, size=samples, random_state=442935)\n",
    "temp = scipy.stats.uniform.rvs(-0.0408, +0.1126, size=samples, random_state=1930159)  # should allow for wetland feedback\n",
    "ch4_1850 = scipy.stats.norm.rvs(807.6, 13.8/1.65, size=samples, random_state=327801)\n",
    "ch4_1750 = scipy.stats.norm.rvs(729.2, 9.4/1.65, size=samples, random_state=327801)\n",
    "natural = scipy.stats.norm.rvs(153, 20, size=samples, random_state=2838698)\n",
    "wetland = scipy.stats.norm.rvs(50, 10, size=samples, random_state=290193379)\n",
    "\n",
    "for sample in range(samples):\n",
    "    param_mc.append(\n",
    "        {\n",
    "            'base': base[sample],\n",
    "            'CH4': ch4[sample],\n",
    "            'NOx': nox[sample],\n",
    "            'VOC': voc[sample],\n",
    "            'CO': co[sample],\n",
    "            'HC': hc[sample],\n",
    "            'N2O': n2o[sample],\n",
    "            'temp': temp[sample],\n",
    "            'ch4_1750': ch4_1750[sample],\n",
    "            'natural': natural[sample],\n",
    "            'wetland': wetland[sample],\n",
    "        }\n",
    "    )"
   ]
  },
  {
   "cell_type": "code",
   "execution_count": null,
   "id": "c11a43c7",
   "metadata": {},
   "outputs": [],
   "source": [
    "731 * (np.exp(-1/lt))"
   ]
  },
  {
   "cell_type": "code",
   "execution_count": null,
   "id": "07d18e53",
   "metadata": {},
   "outputs": [],
   "source": [
    "e"
   ]
  },
  {
   "cell_type": "code",
   "execution_count": null,
   "id": "d97c522c",
   "metadata": {},
   "outputs": [],
   "source": [
    "e * 8 * (1 - np.exp(-1/8))"
   ]
  },
  {
   "cell_type": "code",
   "execution_count": null,
   "id": "08cd344c",
   "metadata": {},
   "outputs": [],
   "source": [
    "lt = 8.8\n",
    "e = 225\n",
    "c = 731\n",
    "vm = 0.351\n",
    "\n",
    "def emis_to_conc(c, e, ts, lt, vm):\n",
    "    return c * (np.exp(-ts/lt)) + ts * e * vm\n",
    "\n",
    "for i in range(200):\n",
    "    c = emis_to_conc(c, e, 1, lt, vm)\n",
    "    print(c)"
   ]
  },
  {
   "cell_type": "code",
   "execution_count": null,
   "id": "5ccec93d",
   "metadata": {},
   "outputs": [],
   "source": [
    "def one_box_nat(\n",
    "    emissions,\n",
    "    concentration_in,\n",
    "    burden_per_emission,\n",
    "    lifetime,\n",
    "    alpha_lifetime,\n",
    "    timestep=1,\n",
    "    natural_emissions=0,\n",
    "):\n",
    "    decay_rate = timestep/(lifetime * alpha_lifetime)\n",
    "    decay_factor = np.exp(-decay_rate)\n",
    "    \n",
    "    # additions and removals\n",
    "    concentration_out = (\n",
    "        (emissions + natural_emissions)\n",
    "        * 1\n",
    "        / decay_rate\n",
    "        * (1 - decay_factor)\n",
    "        * burden_per_emission\n",
    "        * timestep\n",
    "        + concentration_in * decay_factor\n",
    "    )\n",
    "\n",
    "    return concentration_out"
   ]
  },
  {
   "cell_type": "code",
   "execution_count": null,
   "id": "e8cc2e1a",
   "metadata": {},
   "outputs": [],
   "source": [
    "conc_ch4_mc = {}\n",
    "for sample in tqdm(range(samples)):\n",
    "    conc_ch4_mc[sample] = np.zeros(270)\n",
    "    gas_boxes = 0\n",
    "    airborne_emissions = 0\n",
    "    lifetime_scaling_mc = alpha_scaling_exp(\n",
    "        input_update,\n",
    "        baseline_update,\n",
    "        normalisation_update,\n",
    "        param_mc[sample],\n",
    "    )\n",
    "    conc_ch4_mc[sample][0] = param_mc[sample]['ch4_1750']\n",
    "    for i in range(0,269):\n",
    "        conc_ch4_mc[sample][i+1] = one_box_nat(\n",
    "            emis_ch4_update[i],\n",
    "            conc_ch4_mc[sample][i],\n",
    "            burden_per_emission,\n",
    "            param_mc[sample]['base'],\n",
    "            lifetime_scaling_mc[i],\n",
    "            timestep=1,\n",
    "            natural_emissions=param_mc[sample]['natural'] + param_mc[sample]['wetland']*gmst[i],\n",
    "        )"
   ]
  },
  {
   "cell_type": "code",
   "execution_count": null,
   "id": "81c77c45",
   "metadata": {},
   "outputs": [],
   "source": [
    "def rmse(obs, mod):\n",
    "    return np.sqrt(np.sum((mod-obs)**2))"
   ]
  },
  {
   "cell_type": "code",
   "execution_count": null,
   "id": "15b069cf",
   "metadata": {},
   "outputs": [],
   "source": [
    "rms = np.zeros(100000)\n",
    "for sample in range(100000):\n",
    "    rms[sample] = rmse(input_update['CH4'], conc_ch4_mc[sample])"
   ]
  },
  {
   "cell_type": "code",
   "execution_count": null,
   "id": "097e7168",
   "metadata": {},
   "outputs": [],
   "source": [
    "np.sum(rms < 600)"
   ]
  },
  {
   "cell_type": "code",
   "execution_count": null,
   "id": "4a8c1543",
   "metadata": {},
   "outputs": [],
   "source": [
    "np.argmin(rms)"
   ]
  },
  {
   "cell_type": "code",
   "execution_count": null,
   "id": "ffce93fe",
   "metadata": {},
   "outputs": [],
   "source": [
    "pl.plot(np.arange(1750, 2020), conc_ch4_mc[np.argmin(rms)])\n",
    "pl.plot(np.arange(1750, 2020), input_update['CH4'], color='k')"
   ]
  },
  {
   "cell_type": "code",
   "execution_count": null,
   "id": "60d41e31",
   "metadata": {},
   "outputs": [],
   "source": [
    "accept = rms<600\n",
    "#accept = np.zeros(samples, dtype=bool)\n",
    "#for sample in range(samples):\n",
    "    #if input_update['CH4'][169] - 10 < conc_ch4_mc[sample][169] < input_update['CH4'][169] + 10:\n",
    "    #    accept[sample] = True"
   ]
  },
  {
   "cell_type": "code",
   "execution_count": null,
   "id": "88b70c71",
   "metadata": {},
   "outputs": [],
   "source": [
    "for sample in range(samples):\n",
    "    if accept[sample]:\n",
    "        pl.plot(np.arange(1750, 2020), conc_ch4_mc[sample])\n",
    "pl.plot(np.arange(1750, 2020), input_update['CH4'], color='k')"
   ]
  },
  {
   "cell_type": "code",
   "execution_count": null,
   "id": "a50db223",
   "metadata": {},
   "outputs": [],
   "source": [
    "param_mc[5554]"
   ]
  },
  {
   "cell_type": "code",
   "execution_count": null,
   "id": "b3685900",
   "metadata": {},
   "outputs": [],
   "source": [
    "accept"
   ]
  },
  {
   "cell_type": "code",
   "execution_count": null,
   "id": "82dea764",
   "metadata": {},
   "outputs": [],
   "source": [
    "param_mc[9999]"
   ]
  },
  {
   "cell_type": "code",
   "execution_count": null,
   "id": "e42ffc23",
   "metadata": {},
   "outputs": [],
   "source": [
    "accept_inds = np.arange(samples, dtype=int)[accept]\n",
    "accept_inds"
   ]
  },
  {
   "cell_type": "code",
   "execution_count": null,
   "id": "b40a361f",
   "metadata": {},
   "outputs": [],
   "source": [
    "base_accept = np.zeros_like(accept_inds, dtype=float)\n",
    "ch4_accept = np.zeros_like(accept_inds, dtype=float)\n",
    "nox_accept = np.zeros_like(accept_inds, dtype=float)\n",
    "co_accept = np.zeros_like(accept_inds, dtype=float)\n",
    "voc_accept = np.zeros_like(accept_inds, dtype=float)\n",
    "for i, n in enumerate(accept_inds):\n",
    "    base_accept[i] = param_mc[n]['base']\n",
    "    ch4_accept[i] = param_mc[n]['CH4']\n",
    "    nox_accept[i] = param_mc[n]['NOx']\n",
    "    co_accept[i] = param_mc[n]['CO']\n",
    "    voc_accept[i] = param_mc[n]['VOC']"
   ]
  },
  {
   "cell_type": "code",
   "execution_count": null,
   "id": "253a506c",
   "metadata": {},
   "outputs": [],
   "source": [
    "pl.hist(co_accept)"
   ]
  },
  {
   "cell_type": "code",
   "execution_count": null,
   "id": "e0a08aa1",
   "metadata": {},
   "outputs": [],
   "source": [
    "pl.hist(voc_accept)"
   ]
  },
  {
   "cell_type": "code",
   "execution_count": null,
   "id": "748da47a",
   "metadata": {},
   "outputs": [],
   "source": [
    "pl.hist(co_accept+voc_accept)"
   ]
  },
  {
   "cell_type": "code",
   "execution_count": null,
   "id": "48e85446",
   "metadata": {},
   "outputs": [],
   "source": [
    "pl.plot(emis_ch4_update-emis_ch4_update[0])\n",
    "pl.plot(conc_ch4_update-conc_ch4_update[0])"
   ]
  },
  {
   "cell_type": "code",
   "execution_count": null,
   "id": "cc39be88",
   "metadata": {},
   "outputs": [],
   "source": [
    "pl.plot((emis_ch4_update[50:]-emis_ch4_update[0])/(conc_ch4_update[50:]-conc_ch4_update[0]))"
   ]
  },
  {
   "cell_type": "code",
   "execution_count": null,
   "id": "5dfc2c55",
   "metadata": {},
   "outputs": [],
   "source": [
    "emis_ch4_update[0]"
   ]
  },
  {
   "cell_type": "code",
   "execution_count": null,
   "id": "01928878",
   "metadata": {},
   "outputs": [],
   "source": [
    "conc_ch4_update[0]   # ppb = volume * 1e-9"
   ]
  },
  {
   "cell_type": "code",
   "execution_count": null,
   "id": "bc0469b5",
   "metadata": {},
   "outputs": [],
   "source": [
    "burden_per_emission  # ppb per MtCH4 emitted"
   ]
  },
  {
   "cell_type": "code",
   "execution_count": null,
   "id": "dad1a9a4",
   "metadata": {},
   "outputs": [],
   "source": [
    "emis_ch4_update[0] * burden_per_emission  #  ppb increase for one year of 1750 emissions"
   ]
  },
  {
   "cell_type": "code",
   "execution_count": null,
   "id": "9fc80989",
   "metadata": {},
   "outputs": [],
   "source": [
    "# lifetime - with no natural emissions (obviously incorrect)\n",
    "conc_ch4_update[0] / (emis_ch4_update[0] * burden_per_emission)"
   ]
  },
  {
   "cell_type": "code",
   "execution_count": null,
   "id": "d5de64d6",
   "metadata": {},
   "outputs": [],
   "source": [
    "# lifetime - with 200 MtCH4 natural emissions\n",
    "conc_ch4_update[0] / ((emis_ch4_update[0]+200) * burden_per_emission)"
   ]
  },
  {
   "cell_type": "code",
   "execution_count": null,
   "id": "78f080a3",
   "metadata": {},
   "outputs": [],
   "source": [
    "# what would the lifetime be if we assumed a constant 200 MtCH4 background natural emissions flux?\n",
    "conc_ch4_update / ((emis_ch4_update+200) * burden_per_emission)"
   ]
  },
  {
   "cell_type": "code",
   "execution_count": null,
   "id": "d727c266",
   "metadata": {},
   "outputs": [],
   "source": [
    "# add in a wetland feedback!\n",
    "pl.plot(np.arange(1750, 2020), conc_ch4_update / ((emis_ch4_update+160+40*gmst) * burden_per_emission))"
   ]
  },
  {
   "cell_type": "code",
   "execution_count": null,
   "id": "7d0443f2",
   "metadata": {},
   "outputs": [],
   "source": [
    "pl.plot(input_update['N2O'])"
   ]
  },
  {
   "cell_type": "code",
   "execution_count": null,
   "id": "baf819af",
   "metadata": {},
   "outputs": [],
   "source": []
  }
 ],
 "metadata": {
  "kernelspec": {
   "display_name": "Python 3 (ipykernel)",
   "language": "python",
   "name": "python3"
  },
  "language_info": {
   "codemirror_mode": {
    "name": "ipython",
    "version": 3
   },
   "file_extension": ".py",
   "mimetype": "text/x-python",
   "name": "python",
   "nbconvert_exporter": "python",
   "pygments_lexer": "ipython3",
   "version": "3.10.6"
  }
 },
 "nbformat": 4,
 "nbformat_minor": 5
}
