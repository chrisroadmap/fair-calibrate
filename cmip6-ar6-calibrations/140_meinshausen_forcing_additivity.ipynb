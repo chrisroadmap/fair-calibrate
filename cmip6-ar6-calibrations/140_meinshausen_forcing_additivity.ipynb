{
 "cells": [
  {
   "cell_type": "code",
   "execution_count": null,
   "id": "5fdcd6d5",
   "metadata": {},
   "outputs": [],
   "source": [
    "import numpy as np\n",
    "\n",
    "from fair.forcing.ghg import meinshausen2020"
   ]
  },
  {
   "cell_type": "code",
   "execution_count": null,
   "id": "4e437c79",
   "metadata": {},
   "outputs": [],
   "source": [
    "help(meinshausen2020)"
   ]
  },
  {
   "cell_type": "code",
   "execution_count": null,
   "id": "43c7131c",
   "metadata": {},
   "outputs": [],
   "source": [
    "meinshausen2020(\n",
    "    np.array([277, 731, 270]) * np.ones((1, 1, 1, 3)),\n",
    "    np.array([277, 731, 270]) * np.ones((1, 1, 1, 3)),\n",
    "    np.ones((1, 1, 1, 3)),\n",
    "    np.ones((1, 1, 1, 3)),\n",
    "    np.array([True, False, False]),\n",
    "    np.array([False, True, False]),\n",
    "    np.array([False, False, True]),\n",
    "    np.array([False, False, False])\n",
    ")"
   ]
  },
  {
   "cell_type": "code",
   "execution_count": null,
   "id": "106e62eb",
   "metadata": {},
   "outputs": [],
   "source": [
    "f400_277 = meinshausen2020(\n",
    "    np.array([400, 731.41, 273.87]) * np.ones((1, 1, 1, 3)),\n",
    "    np.array([277.15, 731.41, 273.87]) * np.ones((1, 1, 1, 3)),\n",
    "    np.ones((1, 1, 1, 3)),\n",
    "    np.ones((1, 1, 1, 3)),\n",
    "    np.array([True, False, False]),\n",
    "    np.array([False, True, False]),\n",
    "    np.array([False, False, True]),\n",
    "    np.array([False, False, False])\n",
    ").squeeze()[0]"
   ]
  },
  {
   "cell_type": "code",
   "execution_count": null,
   "id": "3c78deae",
   "metadata": {},
   "outputs": [],
   "source": [
    "f554_277 = meinshausen2020(\n",
    "    np.array([554.30, 731.41, 273.87]) * np.ones((1, 1, 1, 3)),\n",
    "    np.array([277.15, 731.41, 273.87]) * np.ones((1, 1, 1, 3)),\n",
    "    np.ones((1, 1, 1, 3)),\n",
    "    np.ones((1, 1, 1, 3)),\n",
    "    np.array([True, False, False]),\n",
    "    np.array([False, True, False]),\n",
    "    np.array([False, False, True]),\n",
    "    np.array([False, False, False])\n",
    ").squeeze()[0]"
   ]
  },
  {
   "cell_type": "code",
   "execution_count": null,
   "id": "3cc482e3",
   "metadata": {},
   "outputs": [],
   "source": [
    "f554_400 = meinshausen2020(\n",
    "    np.array([544.30, 731.41, 273.87]) * np.ones((1, 1, 1, 3)),\n",
    "    np.array([400, 731.41, 273.87]) * np.ones((1, 1, 1, 3)),\n",
    "    np.ones((1, 1, 1, 3)),\n",
    "    np.ones((1, 1, 1, 3)),\n",
    "    np.array([True, False, False]),\n",
    "    np.array([False, True, False]),\n",
    "    np.array([False, False, True]),\n",
    "    np.array([False, False, False])\n",
    ").squeeze()[0]"
   ]
  },
  {
   "cell_type": "code",
   "execution_count": null,
   "id": "0dddd488",
   "metadata": {},
   "outputs": [],
   "source": [
    "f554_277"
   ]
  },
  {
   "cell_type": "code",
   "execution_count": null,
   "id": "c337d059",
   "metadata": {},
   "outputs": [],
   "source": [
    "f554_400 + f400_277"
   ]
  },
  {
   "cell_type": "code",
   "execution_count": null,
   "id": "45ad3d88",
   "metadata": {},
   "outputs": [],
   "source": [
    "# using a 400 ppm baseline gives this...\n",
    "f554_400"
   ]
  },
  {
   "cell_type": "code",
   "execution_count": null,
   "id": "8ccb1948",
   "metadata": {},
   "outputs": [],
   "source": [
    "# this is what the radiative forcing of 554 ppm over a 400 ppm baseline actually is\n",
    "f554_277 - f400_277"
   ]
  },
  {
   "cell_type": "code",
   "execution_count": null,
   "id": "9f98f160",
   "metadata": {},
   "outputs": [],
   "source": [
    "5.4 * np.log(554.30/277.15)"
   ]
  },
  {
   "cell_type": "code",
   "execution_count": null,
   "id": "3747fdea",
   "metadata": {},
   "outputs": [],
   "source": [
    "# whereas the classical log formula does not have a criticality on the baseline.\n",
    "5.4 * np.log(554.30/400) + 5.4 * np.log(400/277.15)"
   ]
  },
  {
   "cell_type": "code",
   "execution_count": null,
   "id": "8c825185",
   "metadata": {},
   "outputs": [],
   "source": [
    "meinshausen2020(\n",
    "    np.array([[400, 731.41, 273.87]])[None, None, ...],\n",
    "    np.array([[277.15, 731.41, 273.87]])[None, None, ...],\n",
    "    np.ones((1, 1, 1, 3)),\n",
    "    np.ones((1, 1, 1, 3)),\n",
    "    np.array([True, False, False]),\n",
    "    np.array([False, True, False]),\n",
    "    np.array([False, False, True]),\n",
    "    np.array([False, False, False])\n",
    ")"
   ]
  },
  {
   "cell_type": "code",
   "execution_count": null,
   "id": "e24f21e5",
   "metadata": {},
   "outputs": [],
   "source": [
    "np.array([[400, 731.41, 273.87]])[None, None, ...].shape"
   ]
  },
  {
   "cell_type": "code",
   "execution_count": null,
   "id": "b0e6e7d2",
   "metadata": {},
   "outputs": [],
   "source": [
    "meinshausen2020(\n",
    "    np.array([[278.3, 729.2, 270.1]])[None, None, ...],\n",
    "    np.array([[277.15, 731.41, 273.87]])[None, None, ...],\n",
    "    np.ones((1, 1, 1, 3)),\n",
    "    np.ones((1, 1, 1, 3)),\n",
    "    np.array([True, False, False]),\n",
    "    np.array([False, True, False]),\n",
    "    np.array([False, False, True]),\n",
    "    np.array([False, False, False])\n",
    ")"
   ]
  },
  {
   "cell_type": "code",
   "execution_count": null,
   "id": "e9c98736",
   "metadata": {},
   "outputs": [],
   "source": []
  }
 ],
 "metadata": {
  "kernelspec": {
   "display_name": "Python 3 (ipykernel)",
   "language": "python",
   "name": "python3"
  },
  "language_info": {
   "codemirror_mode": {
    "name": "ipython",
    "version": 3
   },
   "file_extension": ".py",
   "mimetype": "text/x-python",
   "name": "python",
   "nbconvert_exporter": "python",
   "pygments_lexer": "ipython3",
   "version": "3.10.6"
  }
 },
 "nbformat": 4,
 "nbformat_minor": 5
}
