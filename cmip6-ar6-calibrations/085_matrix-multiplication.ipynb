{
 "cells": [
  {
   "cell_type": "markdown",
   "id": "036ba924",
   "metadata": {},
   "source": [
    "# Eliminate loops in the temperature calculation\n",
    "\n",
    "Temperature calculation requires matrix multiplication. It seems like matrix multiplication applies only to the last two dimensions of a numpy array, so we can construct 4-dimensional arrays for [iscen, iconf, ENERGY_BALANCE_MATRIX] and avoid loops."
   ]
  },
  {
   "cell_type": "code",
   "execution_count": null,
   "id": "6aacb645",
   "metadata": {},
   "outputs": [],
   "source": [
    "import numpy as np"
   ]
  },
  {
   "cell_type": "code",
   "execution_count": null,
   "id": "81c30543",
   "metadata": {},
   "outputs": [],
   "source": [
    "A = np.array([\n",
    "    [\n",
    "        [3, 4],\n",
    "        [1, 0]\n",
    "    ],\n",
    "    [\n",
    "        [21, 9],\n",
    "        [1, 3]\n",
    "    ],\n",
    "    [\n",
    "        [3, 9],\n",
    "        [7, 2]\n",
    "    ]\n",
    "])"
   ]
  },
  {
   "cell_type": "code",
   "execution_count": null,
   "id": "00efc688",
   "metadata": {},
   "outputs": [],
   "source": [
    "A.shape"
   ]
  },
  {
   "cell_type": "code",
   "execution_count": null,
   "id": "3d1ad6bd",
   "metadata": {},
   "outputs": [],
   "source": [
    "A * A"
   ]
  },
  {
   "cell_type": "code",
   "execution_count": null,
   "id": "c5873ff8",
   "metadata": {},
   "outputs": [],
   "source": [
    "A @ A"
   ]
  },
  {
   "cell_type": "code",
   "execution_count": null,
   "id": "84bb5f43",
   "metadata": {},
   "outputs": [],
   "source": [
    "A[0,...] @ A[0,...], A[1,...] @ A[1,...], A[2,...] @ A[2,...], "
   ]
  },
  {
   "cell_type": "code",
   "execution_count": null,
   "id": "cccae329",
   "metadata": {},
   "outputs": [],
   "source": []
  }
 ],
 "metadata": {
  "kernelspec": {
   "display_name": "Python 3 (ipykernel)",
   "language": "python",
   "name": "python3"
  },
  "language_info": {
   "codemirror_mode": {
    "name": "ipython",
    "version": 3
   },
   "file_extension": ".py",
   "mimetype": "text/x-python",
   "name": "python",
   "nbconvert_exporter": "python",
   "pygments_lexer": "ipython3",
   "version": "3.7.12"
  }
 },
 "nbformat": 4,
 "nbformat_minor": 5
}
