{
 "cells": [
  {
   "cell_type": "code",
   "execution_count": null,
   "id": "1d4ff031",
   "metadata": {},
   "outputs": [],
   "source": [
    "from netCDF4 import Dataset\n",
    "import os\n",
    "import numpy as np\n",
    "import matplotlib.pyplot as pl\n",
    "import pandas as pd"
   ]
  },
  {
   "cell_type": "code",
   "execution_count": null,
   "id": "6c494143",
   "metadata": {},
   "outputs": [],
   "source": [
    "DATA_DIR = os.path.join(\"..\", \"data\", \"forcing\")\n",
    "#nc = Dataset(os.path.join(DATA_DIR, \"HolVol_SAOD_-9500_1900_v1.0.nc\"))"
   ]
  },
  {
   "cell_type": "code",
   "execution_count": null,
   "id": "e9a807c2",
   "metadata": {},
   "outputs": [],
   "source": [
    "#nc.close()"
   ]
  },
  {
   "cell_type": "code",
   "execution_count": null,
   "id": "57c7b5ad",
   "metadata": {},
   "outputs": [],
   "source": [
    "# -9500 to 1900 ERF\n",
    "nc = Dataset(os.path.join(DATA_DIR, \"HolVol_SAOD_-9500_1900_v1.0.nc\"))\n",
    "aod550_mt = nc.variables['aod550'][:]\n",
    "lat_mt = nc.variables['lat'][:]\n",
    "time_mt = nc.variables['time'][:]\n",
    "nc.close()\n",
    "time_mt[-51*12]\n",
    "\n",
    "# 1979 to 2018 ERF\n",
    "nc = Dataset(os.path.join(DATA_DIR, \"GloSSAC_V2.0.nc\"))\n",
    "data_glossac = nc.variables['Glossac_Aerosol_Optical_Depth'][:]\n",
    "lat_glossac = nc.variables['lat'][:]\n",
    "trp_hgt_glossac = nc.variables['trp_hgt'][:]  # lat, month\n",
    "alt_glossac = nc.variables['alt'][:]\n",
    "nc.close()\n",
    "time_mt[-51*12]\n",
    "lat_glossac\n",
    "alt_glossac\n",
    "data_glossac[0,0,:]"
   ]
  },
  {
   "cell_type": "code",
   "execution_count": null,
   "id": "cbe6ef1e",
   "metadata": {},
   "outputs": [],
   "source": [
    "lat_mt_bnds = np.concatenate([[90], 0.5*(lat_mt[1:]+lat_mt[:-1]), [-90]])\n",
    "weights = -np.squeeze(np.diff(np.sin(np.radians(lat_mt_bnds))))\n",
    "\n",
    "lat_glossac_bnds = np.concatenate(([-90], 0.5*(lat_glossac[1:]+lat_glossac[:-1]), [90]))\n",
    "weights_glossac = np.diff(np.sin(np.radians(lat_glossac_bnds)))\n",
    "\n",
    "aod_mt = np.zeros((len(time_mt)))\n",
    "for i in range(len(time_mt)):\n",
    "    aod_mt[i] = np.average(aod550_mt[i,:],weights=weights)\n",
    "\n",
    "angstrom = (550/525)**(-2.33)\n",
    "\n",
    "aod_glossac = np.zeros(480)\n",
    "for i in range(480):\n",
    "    aod_glossac[i] = np.average(data_glossac[i,:,2],weights=weights_glossac)*angstrom"
   ]
  },
  {
   "cell_type": "code",
   "execution_count": null,
   "id": "6ab95d75",
   "metadata": {},
   "outputs": [],
   "source": [
    "nc = Dataset(os.path.join(DATA_DIR, \"CMIP_1850_2014_extinction_550nm_strat_only_v3.nc\"))\n",
    "ext = nc.variables['ext550'][:].transpose((2,1,0))  # time, height, lat\n",
    "lev = nc.variables['altitude'][:]\n",
    "lat = nc.variables['latitude'][:]\n",
    "time = nc.variables['month'][:]\n",
    "print(nc.variables['month'])\n",
    "nc.close()"
   ]
  },
  {
   "cell_type": "code",
   "execution_count": null,
   "id": "d2eaba5a",
   "metadata": {},
   "outputs": [],
   "source": [
    "lat_bnds = np.concatenate(([-90], 0.5*(lat[1:]+lat[:-1]), [90]))\n",
    "weights = np.diff(np.sin(np.radians(lat_bnds)))\n",
    "tax = np.zeros(165*12)\n",
    "aod_cmip6 = np.zeros(165*12)\n",
    "for i in range(0,1970,12):\n",
    "    gl_mn_OD = np.average(np.sum(np.mean(ext[i:i+12,...],axis=0) * 0.5 ,axis=0),weights=weights) # 0.5 is thickness in km\n",
    "\n",
    "for i in range(1980):\n",
    "    aod_cmip6[i] = np.average(np.sum(ext[i,...] * 0.5,axis=0),weights=weights)"
   ]
  },
  {
   "cell_type": "code",
   "execution_count": null,
   "id": "d2a98baf",
   "metadata": {},
   "outputs": [],
   "source": [
    "aod = np.concatenate((aod_mt[:-51*12],aod_cmip6[:129*12],aod_glossac))\n",
    "len(aod)"
   ]
  },
  {
   "cell_type": "code",
   "execution_count": null,
   "id": "92d9816f",
   "metadata": {},
   "outputs": [],
   "source": [
    "aod[108000+28200:108000+28812] = (1-np.linspace(0,1,612))*aod_mt[-51*12:]+np.linspace(0,1,612)*aod_cmip6[:612]\n",
    "aod[108000+29748:108000+29868] = (1-np.linspace(0,1,120))*aod_cmip6[1548:1668] + np.linspace(0,1,120)*aod_glossac[:120]\n",
    "# repeat last year\n",
    "aod = np.append(aod, aod[-12:])"
   ]
  },
  {
   "cell_type": "code",
   "execution_count": null,
   "id": "ab711aae",
   "metadata": {},
   "outputs": [],
   "source": [
    "pl.plot(np.arange(1845+1/24,1901+1/24,1/12), aod_mt[(108000+28140):], label='Toohey & Sigl -500 to 1900 incl. background')\n",
    "pl.plot(np.arange(1850+1/24,1905+1/24,1/12), aod_cmip6[:660], label='CMIP6')\n",
    "pl.plot(np.arange(1845+1/24,1905+1/24,1/12), aod[(108000+28140):(108000+28860)], label='blended')\n",
    "pl.legend()"
   ]
  },
  {
   "cell_type": "code",
   "execution_count": null,
   "id": "b29cd076",
   "metadata": {},
   "outputs": [],
   "source": [
    "pl.plot(np.arange(1979+1/24,2019+1/24,1/12), aod_glossac, label='Glossac')\n",
    "pl.plot(np.arange(1975+1/24,2015+1/24,1/12), aod_cmip6[-480:], label='CMIP6')\n",
    "pl.plot(np.arange(1975+1/24,2020+1/24,1/12), aod[-540:], label='blended')\n",
    "pl.legend()"
   ]
  },
  {
   "cell_type": "code",
   "execution_count": null,
   "id": "5cf8b5d7",
   "metadata": {},
   "outputs": [],
   "source": [
    "volc_erf_minus20 = -20 * (aod - np.mean(aod[:((9500+1750)*12)]))"
   ]
  },
  {
   "cell_type": "code",
   "execution_count": null,
   "id": "98820581",
   "metadata": {},
   "outputs": [],
   "source": [
    "len(volc_erf_minus20)"
   ]
  },
  {
   "cell_type": "code",
   "execution_count": null,
   "id": "3b396d25",
   "metadata": {},
   "outputs": [],
   "source": [
    "time = np.arange(-9500, 2020, 1/12)\n",
    "len(time)"
   ]
  },
  {
   "cell_type": "code",
   "execution_count": null,
   "id": "fb0fb165",
   "metadata": {},
   "outputs": [],
   "source": [
    "df_out = pd.DataFrame({\n",
    "    'year': time,\n",
    "    'erf': volc_erf_minus20\n",
    "})"
   ]
  },
  {
   "cell_type": "code",
   "execution_count": null,
   "id": "8ceefb02",
   "metadata": {},
   "outputs": [],
   "source": [
    "df_out.to_csv('../data/forcing/volcanic_ERF_monthly_-950001-201912.csv', index=False)"
   ]
  }
 ],
 "metadata": {
  "kernelspec": {
   "display_name": "Python 3 (ipykernel)",
   "language": "python",
   "name": "python3"
  },
  "language_info": {
   "codemirror_mode": {
    "name": "ipython",
    "version": 3
   },
   "file_extension": ".py",
   "mimetype": "text/x-python",
   "name": "python",
   "nbconvert_exporter": "python",
   "pygments_lexer": "ipython3",
   "version": "3.7.12"
  }
 },
 "nbformat": 4,
 "nbformat_minor": 5
}
