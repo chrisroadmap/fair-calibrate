{
 "cells": [
  {
   "cell_type": "markdown",
   "id": "5531ab70",
   "metadata": {},
   "source": [
    "# What affects methane lifetime?\n",
    "\n",
    "- methane\n",
    "- VOCs\n",
    "- NOx\n",
    "- Ozone\n",
    "- HCs\n",
    "- N2O\n",
    "- climate\n",
    "\n",
    "Here I suggest an override of the alpha scaling factor for methane that is calculated from multiple species."
   ]
  },
  {
   "cell_type": "code",
   "execution_count": null,
   "id": "4d4c5f50",
   "metadata": {},
   "outputs": [],
   "source": [
    "import numpy as np\n",
    "import pandas as pd\n",
    "import matplotlib.pyplot as pl\n",
    "import time\n",
    "import scipy.stats\n",
    "\n",
    "from tqdm import tqdm\n",
    "from fair21 import SpeciesID, Category, Config, Species, RunMode, Scenario, ClimateResponse, RunConfig, FAIR\n",
    "from fair21.defaults import species_config_from_default"
   ]
  },
  {
   "cell_type": "markdown",
   "id": "24f6fa32",
   "metadata": {},
   "source": [
    "SSP3-7.0 climate"
   ]
  },
  {
   "cell_type": "code",
   "execution_count": null,
   "id": "015305de",
   "metadata": {},
   "outputs": [],
   "source": [
    "df_temp = pd.read_csv('../data/forcing/AR6_GMST.csv')\n",
    "gmst = np.zeros(751)\n",
    "gmst[100:271] = df_temp['gmst'].values\n",
    "gmst[271:351] = np.linspace(gmst[270], 4, 80)\n",
    "gmst[351:] = 4"
   ]
  },
  {
   "cell_type": "code",
   "execution_count": null,
   "id": "82e5672f",
   "metadata": {},
   "outputs": [],
   "source": [
    "samples = 500"
   ]
  },
  {
   "cell_type": "markdown",
   "id": "931e3e73",
   "metadata": {},
   "source": [
    "Here we need to include all methane lifetime precursors.\n",
    "For now I will exclude HC, effect is small. \n",
    "\n",
    "Do I need to include ozone?"
   ]
  },
  {
   "cell_type": "code",
   "execution_count": null,
   "id": "ddee1d59",
   "metadata": {},
   "outputs": [],
   "source": [
    "df_emis = pd.read_csv('../data/rcmip/rcmip-emissions-annual-means-v5-1-0.csv')\n",
    "df_conc = pd.read_csv('../data/rcmip/rcmip-concentrations-annual-means-v5-1-0.csv')"
   ]
  },
  {
   "cell_type": "code",
   "execution_count": null,
   "id": "425512a6",
   "metadata": {},
   "outputs": [],
   "source": [
    "conc_species = ['CH4', 'N2O']\n",
    "conc_in = {}\n",
    "for species in conc_species:\n",
    "    conc_in[species] = df_conc.loc[\n",
    "        (df_conc['Scenario']=='ssp370') & (df_conc['Variable'].str.endswith(species)) & \n",
    "        (df_conc['Region']=='World'), '1750':'2500'\n",
    "    ].interpolate(axis=1).values.squeeze()"
   ]
  },
  {
   "cell_type": "code",
   "execution_count": null,
   "id": "f7ff14a3",
   "metadata": {},
   "outputs": [],
   "source": [
    "emis_species = ['CO', 'VOC', 'NOx']\n",
    "emis_in = {}\n",
    "for species in emis_species:\n",
    "    emis_in[species] = df_emis.loc[\n",
    "        (df_emis['Scenario']=='ssp370') & (df_emis['Variable'].str.endswith(species)) & \n",
    "        (df_emis['Region']=='World'), '1750':'2500'\n",
    "    ].interpolate(axis=1).values.squeeze()"
   ]
  },
  {
   "cell_type": "code",
   "execution_count": null,
   "id": "e64006dc",
   "metadata": {},
   "outputs": [],
   "source": [
    "# species_ids = {\n",
    "#     'ch4': SpeciesID('CH4', Category.CH4),\n",
    "#     'co2': SpeciesID('CO2', Category.CO2, run_mode=RunMode.CONCENTRATION),\n",
    "#     'n2o': SpeciesID('N2O', Category.N2O, run_mode=RunMode.CONCENTRATION),\n",
    "#     'co': SpeciesID('CO', Category.SLCF_OZONE_PRECURSOR),\n",
    "#     'voc': SpeciesID('VOC', Category.SLCF_OZONE_PRECURSOR),\n",
    "#     'nox': SpeciesID('NOx', Category.SLCF_OZONE_PRECURSOR),\n",
    "# }"
   ]
  },
  {
   "cell_type": "code",
   "execution_count": null,
   "id": "d7a4e457",
   "metadata": {},
   "outputs": [],
   "source": [
    "emis_in"
   ]
  },
  {
   "cell_type": "code",
   "execution_count": null,
   "id": "5aa147e3",
   "metadata": {},
   "outputs": [],
   "source": [
    "def alpha_scaling(\n",
    "    emis,\n",
    "    conc,\n",
    "    emis_pi,\n",
    "    conc_pi,\n",
    "    temperature,\n",
    "    beta_ch4,\n",
    "    beta_n2o,\n",
    "    beta_co,\n",
    "    beta_voc,\n",
    "    beta_nox,\n",
    "    beta_temperature\n",
    "):\n",
    "    (conc['CH4']-conc_pi['CH4']) * beta_ch4"
   ]
  }
 ],
 "metadata": {
  "kernelspec": {
   "display_name": "Python 3 (ipykernel)",
   "language": "python",
   "name": "python3"
  },
  "language_info": {
   "codemirror_mode": {
    "name": "ipython",
    "version": 3
   },
   "file_extension": ".py",
   "mimetype": "text/x-python",
   "name": "python",
   "nbconvert_exporter": "python",
   "pygments_lexer": "ipython3",
   "version": "3.7.12"
  }
 },
 "nbformat": 4,
 "nbformat_minor": 5
}
