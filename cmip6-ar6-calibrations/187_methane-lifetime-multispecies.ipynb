{
 "cells": [
  {
   "cell_type": "markdown",
   "id": "5531ab70",
   "metadata": {},
   "source": [
    "# What affects methane chemical lifetime?\n",
    "\n",
    "- methane\n",
    "- VOCs\n",
    "- NOx\n",
    "- Ozone\n",
    "- HCs\n",
    "- N2O\n",
    "- climate\n",
    "\n",
    "Here I suggest an override of the alpha scaling factor for methane that is calculated from multiple species.\n",
    "\n",
    "Ozone itself is a function of other precursors: we do not include ozone as a direct influence on methane lifetime, and restrict ourselves to directly emitted anthropogenic species.\n",
    "\n",
    "Gill Thornhill published two papers on methane lifetime: one on the chemical adjustments to lifetime, and one on the climate adjustments. Both effects will be included. We will \n",
    "\n",
    "1. take AerChemMIP multi-model means\n",
    "2. run the lifetime relationship to individual AerChemMIP models\n",
    "3. run a Monte Carlo"
   ]
  },
  {
   "cell_type": "code",
   "execution_count": null,
   "id": "4d4c5f50",
   "metadata": {},
   "outputs": [],
   "source": [
    "import numpy as np\n",
    "import pandas as pd\n",
    "import matplotlib.pyplot as pl\n",
    "import time\n",
    "import scipy.stats\n",
    "\n",
    "from tqdm import tqdm\n",
    "from fair21 import SpeciesID, Category, Config, Species, RunMode, Scenario, ClimateResponse, RunConfig, FAIR\n",
    "from fair21.defaults import species_config_from_default"
   ]
  },
  {
   "cell_type": "markdown",
   "id": "24f6fa32",
   "metadata": {},
   "source": [
    "## Temperature data\n",
    "\n",
    "Use observations 1850-2020, then simulate an SSP3-7.0 climate with a linear warming rate to 4C in 2100."
   ]
  },
  {
   "cell_type": "code",
   "execution_count": null,
   "id": "015305de",
   "metadata": {},
   "outputs": [],
   "source": [
    "df_temp = pd.read_csv('../data/forcing/AR6_GMST.csv')\n",
    "gmst = np.zeros(751)\n",
    "gmst[100:271] = df_temp['gmst'].values\n",
    "gmst[271:351] = np.linspace(gmst[270], 4, 80)\n",
    "gmst[351:] = 4"
   ]
  },
  {
   "cell_type": "markdown",
   "id": "046e15b1",
   "metadata": {},
   "source": [
    "## Get emissions and concentrations "
   ]
  },
  {
   "cell_type": "code",
   "execution_count": null,
   "id": "82e5672f",
   "metadata": {},
   "outputs": [],
   "source": [
    "samples = 500"
   ]
  },
  {
   "cell_type": "code",
   "execution_count": null,
   "id": "ddee1d59",
   "metadata": {},
   "outputs": [],
   "source": [
    "df_emis = pd.read_csv('../data/rcmip/rcmip-emissions-annual-means-v5-1-0.csv')\n",
    "df_conc = pd.read_csv('../data/rcmip/rcmip-concentrations-annual-means-v5-1-0.csv')\n",
    "input = {}"
   ]
  },
  {
   "cell_type": "code",
   "execution_count": null,
   "id": "425512a6",
   "metadata": {},
   "outputs": [],
   "source": [
    "conc_species = ['CH4', 'N2O', 'HFC-125', 'HFC-134a', 'HFC-143a', 'HFC-152a', 'HFC-227ea', 'HFC-23', 'HFC-236fa', 'HFC-245fa', 'HFC-32',\n",
    "    'HFC-365mfc', 'HFC-4310mee']\n",
    "\n",
    "for species in conc_species:\n",
    "    species_rcmip_name = species.replace(\"-\", \"\")\n",
    "    input[species] = df_conc.loc[\n",
    "        (df_conc['Scenario']=='ssp370') & (df_conc['Variable'].str.endswith(species_rcmip_name)) & \n",
    "        (df_conc['Region']=='World'), '1750':'2500'\n",
    "    ].interpolate(axis=1).values.squeeze()"
   ]
  },
  {
   "cell_type": "code",
   "execution_count": null,
   "id": "f7ff14a3",
   "metadata": {},
   "outputs": [],
   "source": [
    "emis_species = ['CO', 'VOC', 'NOx']\n",
    "for species in emis_species:\n",
    "    input[species] = df_emis.loc[\n",
    "        (df_emis['Scenario']=='ssp370') & (df_emis['Variable'].str.endswith(species)) & \n",
    "        (df_emis['Region']=='World'), '1750':'2500'\n",
    "    ].interpolate(axis=1).values.squeeze()"
   ]
  },
  {
   "cell_type": "code",
   "execution_count": null,
   "id": "93c7b7f1",
   "metadata": {},
   "outputs": [],
   "source": [
    "input['temp'] = gmst"
   ]
  },
  {
   "cell_type": "code",
   "execution_count": null,
   "id": "e64006dc",
   "metadata": {},
   "outputs": [],
   "source": [
    "# species_ids = {\n",
    "#     'ch4': SpeciesID('CH4', Category.CH4),\n",
    "#     'co2': SpeciesID('CO2', Category.CO2, run_mode=RunMode.CONCENTRATION),\n",
    "#     'n2o': SpeciesID('N2O', Category.N2O, run_mode=RunMode.CONCENTRATION),\n",
    "#     'co': SpeciesID('CO', Category.SLCF_OZONE_PRECURSOR),\n",
    "#     'voc': SpeciesID('VOC', Category.SLCF_OZONE_PRECURSOR),\n",
    "#     'nox': SpeciesID('NOx', Category.SLCF_OZONE_PRECURSOR),\n",
    "# }"
   ]
  },
  {
   "cell_type": "code",
   "execution_count": null,
   "id": "8b7c6259",
   "metadata": {},
   "outputs": [],
   "source": [
    "radiative_efficiency = pd.Series({\n",
    "    'HFC-125': 0.23378,\n",
    "    'HFC-134a': 0.16714,\n",
    "    'HFC-143a': 0.168,\n",
    "    'HFC-152a': 0.10174,\n",
    "    'HFC-227ea': 0.27325,\n",
    "    'HFC-23': 0.19111,\n",
    "    'HFC-236fa': 0.25069,\n",
    "    'HFC-245fa': 0.24498,\n",
    "    'HFC-32': 0.11144,\n",
    "    'HFC-365mfc': 0.22813,\n",
    "    'HFC-4310mee': 0.35731\n",
    "})"
   ]
  },
  {
   "cell_type": "code",
   "execution_count": null,
   "id": "1e3a375b",
   "metadata": {},
   "outputs": [],
   "source": [
    "hfc_erf = {}\n",
    "hfc_sum = 0\n",
    "for species in ['HFC-125', 'HFC-134a', 'HFC-143a', 'HFC-152a', 'HFC-227ea', 'HFC-23', 'HFC-236fa', 'HFC-245fa', 'HFC-32',\n",
    "    'HFC-365mfc', 'HFC-4310mee']:\n",
    "    hfc_erf[species] = (input[species][269] * radiative_efficiency[species]/1000)\n",
    "    hfc_sum = hfc_sum + hfc_erf[species]"
   ]
  },
  {
   "cell_type": "markdown",
   "id": "88e128ed",
   "metadata": {},
   "source": [
    "Use 1850 and 2014 emissions or concentrations corresponding to methane lifetime changes in Thornhill et al. 2021.\n",
    "\n",
    "Could we also take into account the fact that there are multiple loss pathways for CH4:\n",
    "- tropospheric OH loss is 560 Tg/yr\n",
    "- chlorine oxidation, 11 Tg/yr, assumed not included in AerChemMIP models\n",
    "- stratospheric loss is 31 Tg/yr, assumed not included in AerChemMIP models\n",
    "- soil uptake, 30 Tg/yr, not included in AerChemMIP models\n",
    "\n",
    "Saunois (2020): 90% of sink is OH chemistry in troposphere and is 553 [476–677] Tg CH4 yr−1, which is close to the IPCC number of 560, (chapter 5)\n",
    "\n",
    "Chapter 6 only give time constants for soil uptake and the combined chemistry loss (trop OH + chlorine + stratosphere). "
   ]
  },
  {
   "cell_type": "code",
   "execution_count": null,
   "id": "5aa147e3",
   "metadata": {},
   "outputs": [],
   "source": [
    "# def alpha_scaling(\n",
    "#     input,\n",
    "#     baseline,\n",
    "#     normalisation,\n",
    "#     beta\n",
    "# ):\n",
    "#     lifetime_scaling = 1\n",
    "#     for species in ['CH4', 'N2O', 'CO', 'VOC', 'NOx', 'HFC-125', 'HFC-134a', 'HFC-143a', 'HFC-152a', 'HFC-227ea',\n",
    "#                     'HFC-23', 'HFC-236fa', 'HFC-245fa', 'HFC-32', 'HFC-365mfc', 'HFC-4310mee', 'temp']:\n",
    "#         lifetime_scaling = lifetime_scaling + (\n",
    "#             (input[species]-baseline[species])/normalisation[species] * beta[species]\n",
    "#         )\n",
    "#     return lifetime_scaling\n",
    "\n",
    "def alpha_scaling_exp(\n",
    "    input,\n",
    "    baseline,\n",
    "    normalisation,\n",
    "    beta,\n",
    "    hfc_erf,\n",
    "    hfc_sum,\n",
    "):\n",
    "    log_lifetime_scaling = 0\n",
    "    for species in ['CH4', 'N2O', 'CO', 'VOC', 'NOx', 'temp']:\n",
    "        log_lifetime_scaling = log_lifetime_scaling + (\n",
    "            np.log(1 + (input[species]-baseline[species])/normalisation[species] * beta[species])\n",
    "        )\n",
    "    for species in ['HFC-125', 'HFC-134a', 'HFC-143a', 'HFC-152a', 'HFC-227ea',\n",
    "                    'HFC-23', 'HFC-236fa', 'HFC-245fa', 'HFC-32', 'HFC-365mfc', 'HFC-4310mee']:\n",
    "        log_lifetime_scaling = log_lifetime_scaling + (\n",
    "            np.log(1 + \n",
    "                (\n",
    "                    (input[species]-baseline[species])/(normalisation[species]) * beta['HC'] * hfc_erf[species]/hfc_sum\n",
    "                )\n",
    "            )\n",
    "        )\n",
    "    return np.exp(log_lifetime_scaling)"
   ]
  },
  {
   "cell_type": "code",
   "execution_count": null,
   "id": "e75c88a1",
   "metadata": {},
   "outputs": [],
   "source": [
    "normalisation = {}\n",
    "for species in ['CH4', 'N2O', 'CO', 'VOC', 'NOx', 'HFC-125', 'HFC-134a', 'HFC-143a', 'HFC-152a', 'HFC-227ea',\n",
    "                    'HFC-23', 'HFC-236fa', 'HFC-245fa', 'HFC-32', 'HFC-365mfc', 'HFC-4310mee']:\n",
    "    normalisation[species] = input[species][264] - input[species][100]\n",
    "normalisation['temp'] = 1"
   ]
  },
  {
   "cell_type": "code",
   "execution_count": null,
   "id": "2ea3de5b",
   "metadata": {},
   "outputs": [],
   "source": [
    "baseline = {}\n",
    "for species in ['CH4', 'N2O', 'CO', 'VOC', 'NOx', 'HFC-125', 'HFC-134a', 'HFC-143a', 'HFC-152a', 'HFC-227ea',\n",
    "                    'HFC-23', 'HFC-236fa', 'HFC-245fa', 'HFC-32', 'HFC-365mfc', 'HFC-4310mee']:\n",
    "    baseline[species] = input[species][100]\n",
    "baseline['temp'] = 0"
   ]
  },
  {
   "cell_type": "code",
   "execution_count": null,
   "id": "7c2aa2f6",
   "metadata": {},
   "outputs": [],
   "source": [
    "parameters = {}\n",
    "\n",
    "parameters['AerChemMIP_mean'] = {\n",
    "    'base': 10.0,\n",
    "    'CH4': +0.22,\n",
    "    'NOx': -0.33,\n",
    "    'CO': 0,\n",
    "    'VOC': +0.19,\n",
    "    'HC': -0.0037,\n",
    "    'N2O': -0.02,\n",
    "    'temp': 0.0012,\n",
    "}\n",
    "\n",
    "parameters['UKESM'] = {\n",
    "    'base': 8,\n",
    "    'CH4': +0.22,\n",
    "    'NOx': -0.25,\n",
    "    'CO': 0,\n",
    "    'VOC': +0.11,\n",
    "    'HC': -0.0049,\n",
    "    'N2O': -0.0012,\n",
    "    'temp': 0.0043\n",
    "}"
   ]
  },
  {
   "cell_type": "code",
   "execution_count": null,
   "id": "521523ec",
   "metadata": {},
   "outputs": [],
   "source": [
    "lifetime_scaling = {}"
   ]
  },
  {
   "cell_type": "code",
   "execution_count": null,
   "id": "a36263d8",
   "metadata": {},
   "outputs": [],
   "source": [
    "for setup in ['AerChemMIP_mean', 'UKESM']:\n",
    "    lifetime_scaling[setup] = alpha_scaling_exp(\n",
    "        input,\n",
    "        baseline,\n",
    "        normalisation,\n",
    "        parameters[setup],\n",
    "        hfc_erf,\n",
    "        hfc_sum,\n",
    "    )"
   ]
  },
  {
   "cell_type": "code",
   "execution_count": null,
   "id": "c64c6664",
   "metadata": {},
   "outputs": [],
   "source": [
    "#pl.plot(np.arange(1750, 2501), aerchemmip_mean[:] * 8.25)\n",
    "pl.plot(np.arange(1750, 2501), lifetime_scaling['AerChemMIP_mean'] * parameters['AerChemMIP_mean']['base'])\n",
    "pl.plot(np.arange(1750, 2501), lifetime_scaling['UKESM'] * parameters['UKESM']['base'])"
   ]
  },
  {
   "cell_type": "code",
   "execution_count": null,
   "id": "95ecce57",
   "metadata": {},
   "outputs": [],
   "source": [
    "1/(1/135 + 1/9.7)"
   ]
  },
  {
   "cell_type": "code",
   "execution_count": null,
   "id": "2df32ff4",
   "metadata": {},
   "outputs": [],
   "source": [
    "1/(1/120 + 1/200 + 1/150 + 1/11.2)"
   ]
  },
  {
   "cell_type": "code",
   "execution_count": null,
   "id": "d24f232c",
   "metadata": {},
   "outputs": [],
   "source": [
    "# put this into a simple one box model\n",
    "def one_box(\n",
    "    emissions,\n",
    "    gas_boxes_old,\n",
    "    airborne_emissions_old,\n",
    "    burden_per_emission,\n",
    "    lifetime,\n",
    "    alpha_lifetime,\n",
    "    partition_fraction,\n",
    "    pre_industrial_concentration,\n",
    "    soil_lifetime=135,\n",
    "    timestep=1,\n",
    "    natural_emissions_adjustment=0,\n",
    "):\n",
    "    \n",
    "    effective_lifetime = 1/(1/(alpha_lifetime * lifetime) + 1/soil_lifetime)\n",
    "    decay_rate = timestep/(effective_lifetime)\n",
    "    decay_factor = np.exp(-decay_rate)\n",
    "    gas_boxes_new = (\n",
    "        partition_fraction *\n",
    "        (emissions-natural_emissions_adjustment) *\n",
    "        1 / decay_rate *\n",
    "        (1 - decay_factor) * timestep + gas_boxes_old * decay_factor\n",
    "    )\n",
    "    airborne_emissions_new = gas_boxes_new\n",
    "    concentration_out = (\n",
    "        pre_industrial_concentration +\n",
    "        burden_per_emission * (\n",
    "            airborne_emissions_new + airborne_emissions_old\n",
    "        ) / 2\n",
    "    )\n",
    "    return concentration_out, gas_boxes_new, airborne_emissions_new"
   ]
  },
  {
   "cell_type": "code",
   "execution_count": null,
   "id": "4d590dc2",
   "metadata": {},
   "outputs": [],
   "source": [
    "emis_ch4 = df_emis.loc[\n",
    "    (df_emis['Scenario']=='ssp370') & (df_emis['Variable'].str.endswith('CH4')) & \n",
    "    (df_emis['Region']=='World'), '1750':'2500'\n",
    "].interpolate(axis=1).values.squeeze()"
   ]
  },
  {
   "cell_type": "code",
   "execution_count": null,
   "id": "1661ec0a",
   "metadata": {},
   "outputs": [],
   "source": [
    "burden_per_emission = 1 / (5.1352e18 / 1e18 * 16.043 / 28.97)\n",
    "partition_fraction = 1\n",
    "pre_industrial_concentration = 729.2\n",
    "natural_emissions_adjustment = emis_ch4[0]"
   ]
  },
  {
   "cell_type": "code",
   "execution_count": null,
   "id": "25a43741",
   "metadata": {},
   "outputs": [],
   "source": [
    "conc_ch4 = {}"
   ]
  },
  {
   "cell_type": "code",
   "execution_count": null,
   "id": "26c91cf5",
   "metadata": {},
   "outputs": [],
   "source": [
    "for setup in ['UKESM', 'AerChemMIP_mean']:\n",
    "    conc_ch4[setup] = np.zeros(751)\n",
    "    gas_boxes = 0\n",
    "    airborne_emissions = 0\n",
    "    for i in range(751):\n",
    "        conc_ch4[setup][i], gas_boxes, airborne_emissions = one_box(\n",
    "            emis_ch4[i],\n",
    "            gas_boxes,\n",
    "            airborne_emissions,\n",
    "            burden_per_emission,\n",
    "            parameters[setup]['base'],\n",
    "            lifetime_scaling[setup][i],\n",
    "            partition_fraction,\n",
    "            pre_industrial_concentration,\n",
    "            soil_lifetime=135,\n",
    "            timestep=1,\n",
    "            natural_emissions_adjustment=natural_emissions_adjustment,\n",
    "        )"
   ]
  },
  {
   "cell_type": "code",
   "execution_count": null,
   "id": "46a459dd",
   "metadata": {},
   "outputs": [],
   "source": [
    "pl.plot(np.arange(1750, 2501), conc_ch4['AerChemMIP_mean'])\n",
    "pl.plot(np.arange(1750, 2501), conc_ch4['UKESM'])\n",
    "pl.plot(np.arange(1750, 2501), input['CH4'], color='k')"
   ]
  },
  {
   "cell_type": "code",
   "execution_count": null,
   "id": "112ae456",
   "metadata": {},
   "outputs": [],
   "source": [
    "pl.plot(np.arange(1750, 2021), conc_ch4['AerChemMIP_mean'][:271])\n",
    "pl.plot(np.arange(1750, 2021), conc_ch4['UKESM'][:271])\n",
    "pl.plot(np.arange(1750, 2021), input['CH4'][:271], color='k')"
   ]
  },
  {
   "cell_type": "code",
   "execution_count": null,
   "id": "b88659e1",
   "metadata": {},
   "outputs": [],
   "source": [
    "np.exp(-0.33)"
   ]
  },
  {
   "cell_type": "code",
   "execution_count": null,
   "id": "c6ee54a8",
   "metadata": {},
   "outputs": [],
   "source": [
    "np.log(1-0.33)"
   ]
  }
 ],
 "metadata": {
  "kernelspec": {
   "display_name": "Python 3 (ipykernel)",
   "language": "python",
   "name": "python3"
  },
  "language_info": {
   "codemirror_mode": {
    "name": "ipython",
    "version": 3
   },
   "file_extension": ".py",
   "mimetype": "text/x-python",
   "name": "python",
   "nbconvert_exporter": "python",
   "pygments_lexer": "ipython3",
   "version": "3.7.12"
  }
 },
 "nbformat": 4,
 "nbformat_minor": 5
}
