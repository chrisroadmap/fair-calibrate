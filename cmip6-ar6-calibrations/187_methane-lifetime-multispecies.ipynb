{
 "cells": [
  {
   "cell_type": "markdown",
   "id": "5531ab70",
   "metadata": {},
   "source": [
    "# What affects methane chemical lifetime?\n",
    "\n",
    "- methane\n",
    "- VOCs\n",
    "- NOx\n",
    "- Ozone\n",
    "- halocarbons (specifically ODSs)\n",
    "- N2O\n",
    "- climate\n",
    "\n",
    "Here I suggest an override of the alpha scaling factor for methane that is calculated from multiple species.\n",
    "\n",
    "Ozone itself is a function of other precursors: we do not include ozone as a direct influence on methane lifetime, and restrict ourselves to directly emitted anthropogenic species.\n",
    "\n",
    "Gill Thornhill published two papers on methane lifetime: one on the chemical adjustments to lifetime, and one on the climate adjustments. Both effects will be included. We will \n",
    "\n",
    "1. take AerChemMIP multi-model means from Gill's papers\n",
    "2. run the lifetime relationship to individual AerChemMIP models in Gill's papers\n",
    "3. find a least squares fit with reasonable sensitivies across the historical\n",
    "4. run a Monte Carlo that perturbs the sensitivity of lifetime to each emitted species"
   ]
  },
  {
   "cell_type": "code",
   "execution_count": null,
   "id": "4d4c5f50",
   "metadata": {},
   "outputs": [],
   "source": [
    "from climateforcing.utils import mkdir_p\n",
    "import numpy as np\n",
    "import pandas as pd\n",
    "import pooch\n",
    "import matplotlib.pyplot as pl\n",
    "import time\n",
    "import scipy.stats\n",
    "import scipy.optimize\n",
    "from tqdm import tqdm\n",
    "\n",
    "from fair import FAIR\n",
    "from fair.interface import fill, initialise"
   ]
  },
  {
   "cell_type": "code",
   "execution_count": null,
   "id": "e678c023",
   "metadata": {},
   "outputs": [],
   "source": [
    "pl.rcParams['figure.figsize'] = (11.4, 11.4)\n",
    "pl.rcParams['font.size'] = 12\n",
    "pl.rcParams['font.family'] = 'Arial'\n",
    "pl.rcParams['ytick.direction'] = 'in'\n",
    "pl.rcParams['ytick.minor.visible'] = True\n",
    "pl.rcParams['ytick.major.right'] = True\n",
    "pl.rcParams['ytick.right'] = True\n",
    "pl.rcParams['xtick.direction'] = 'in'\n",
    "pl.rcParams['xtick.minor.visible'] = True\n",
    "pl.rcParams['xtick.major.top'] = True\n",
    "pl.rcParams['xtick.top'] = True\n",
    "pl.rcParams['axes.spines.top'] = True\n",
    "pl.rcParams['axes.spines.bottom'] = True\n",
    "pl.rcParams['figure.dpi'] = 300"
   ]
  },
  {
   "cell_type": "code",
   "execution_count": null,
   "id": "c21a7c43",
   "metadata": {},
   "outputs": [],
   "source": [
    "mkdir_p('../plots/')"
   ]
  },
  {
   "cell_type": "markdown",
   "id": "24f6fa32",
   "metadata": {},
   "source": [
    "## Temperature data\n",
    "\n",
    "Use observations 1850-2020, then simulate an SSP3-7.0 climate with a linear warming rate to 4C in 2100."
   ]
  },
  {
   "cell_type": "code",
   "execution_count": null,
   "id": "015305de",
   "metadata": {},
   "outputs": [],
   "source": [
    "df_temp = pd.read_csv('../data/forcing/AR6_GMST.csv')\n",
    "gmst = np.zeros(351)\n",
    "gmst[100:271] = df_temp['gmst'].values\n",
    "gmst[271:351] = np.linspace(gmst[270], 4, 80)"
   ]
  },
  {
   "cell_type": "markdown",
   "id": "046e15b1",
   "metadata": {},
   "source": [
    "## Get emissions and concentrations "
   ]
  },
  {
   "cell_type": "code",
   "execution_count": null,
   "id": "ddee1d59",
   "metadata": {},
   "outputs": [],
   "source": [
    "rcmip_emissions_file = pooch.retrieve(\n",
    "    url=\"doi:10.5281/zenodo.4589756/rcmip-emissions-annual-means-v5-1-0.csv\",\n",
    "    known_hash=\"md5:4044106f55ca65b094670e7577eaf9b3\",\n",
    ")\n",
    "\n",
    "rcmip_concentration_file = pooch.retrieve(\n",
    "    url=(\n",
    "        \"doi:10.5281/zenodo.4589756/\"\n",
    "        \"rcmip-concentrations-annual-means-v5-1-0.csv\"\n",
    "    ),\n",
    "    known_hash=\"md5:0d82c3c3cdd4dd632b2bb9449a5c315f\",\n",
    ")\n",
    "\n",
    "df_emis = pd.read_csv(rcmip_emissions_file)\n",
    "df_conc = pd.read_csv(rcmip_concentration_file)\n",
    "input = {}\n",
    "hc_input = {}"
   ]
  },
  {
   "cell_type": "code",
   "execution_count": null,
   "id": "425512a6",
   "metadata": {},
   "outputs": [],
   "source": [
    "conc_species = ['CH4', 'N2O']\n",
    "hc_species = ['CFC-11', 'CFC-12', 'CFC-113', 'CFC-114', 'CFC-115', 'HCFC-22', 'HCFC-141b', 'HCFC-142b',\n",
    "               'CCl4', 'CHCl3', 'CH2Cl2', 'CH3Cl', 'CH3CCl3', 'CH3Br', 'Halon-1211', 'Halon-1301', 'Halon-2402']\n",
    "\n",
    "for species in conc_species:\n",
    "    input[species] = df_conc.loc[\n",
    "        (df_conc['Scenario']=='ssp370') & (df_conc['Variable'].str.endswith(species)) & \n",
    "        (df_conc['Region']=='World'), '1750':'2100'\n",
    "    ].interpolate(axis=1).values.squeeze()\n",
    "    \n",
    "for species in hc_species:\n",
    "    species_rcmip_name = species.replace(\"-\", \"\")\n",
    "    hc_input[species] = df_conc.loc[\n",
    "        (df_conc['Scenario']=='ssp370') & (df_conc['Variable'].str.endswith(species_rcmip_name)) & \n",
    "        (df_conc['Region']=='World'), '1750':'2100'\n",
    "    ].interpolate(axis=1).values.squeeze()"
   ]
  },
  {
   "cell_type": "code",
   "execution_count": null,
   "id": "f7ff14a3",
   "metadata": {},
   "outputs": [],
   "source": [
    "emis_species = ['CO', 'VOC', 'NOx']\n",
    "for species in emis_species:\n",
    "    input[species] = df_emis.loc[\n",
    "        (df_emis['Scenario']=='ssp370') & (df_emis['Variable'].str.endswith(species)) & \n",
    "        (df_emis['Region']=='World'), '1750':'2100'\n",
    "    ].interpolate(axis=1).values.squeeze()"
   ]
  },
  {
   "cell_type": "code",
   "execution_count": null,
   "id": "93c7b7f1",
   "metadata": {},
   "outputs": [],
   "source": [
    "input['temp'] = gmst"
   ]
  },
  {
   "cell_type": "code",
   "execution_count": null,
   "id": "33ae96d5",
   "metadata": {},
   "outputs": [],
   "source": [
    "def calculate_eesc(\n",
    "    concentration,\n",
    "    fractional_release,\n",
    "    fractional_release_cfc11,\n",
    "    cl_atoms,\n",
    "    br_atoms,\n",
    "    br_cl_ratio = 45,\n",
    "):\n",
    "\n",
    "    # EESC is in terms of CFC11-eq\n",
    "    eesc_out = (\n",
    "        cl_atoms * (concentration) * fractional_release / fractional_release_cfc11 +\n",
    "        br_cl_ratio * br_atoms * (concentration) * fractional_release / fractional_release_cfc11\n",
    "    ) * fractional_release_cfc11\n",
    "    return eesc_out"
   ]
  },
  {
   "cell_type": "code",
   "execution_count": null,
   "id": "8b7c6259",
   "metadata": {},
   "outputs": [],
   "source": [
    "fractional_release = {\n",
    "    'CFC-11':0.47, \n",
    "    'CFC-12':0.23, \n",
    "    'CFC-113':0.29, \n",
    "    'CFC-114':0.12, \n",
    "    'CFC-115':0.04, \n",
    "    'HCFC-22':0.13, \n",
    "    'HCFC-141b':0.34, \n",
    "    'HCFC-142b':0.17,\n",
    "    'CCl4':0.56, \n",
    "    'CHCl3':0, \n",
    "    'CH2Cl2':0, \n",
    "    'CH3Cl':0.44, \n",
    "    'CH3CCl3':0.67, \n",
    "    'CH3Br':0.6, \n",
    "    'Halon-1211':0.62,\n",
    "    'Halon-1301':0.28, \n",
    "    'Halon-2402':0.65\n",
    "}\n",
    "\n",
    "cl_atoms = {\n",
    "    'CFC-11':3, \n",
    "    'CFC-12':2, \n",
    "    'CFC-113':3, \n",
    "    'CFC-114':2, \n",
    "    'CFC-115':1, \n",
    "    'HCFC-22':1, \n",
    "    'HCFC-141b':2, \n",
    "    'HCFC-142b':1,\n",
    "    'CCl4':4, \n",
    "    'CHCl3':3, \n",
    "    'CH2Cl2':2, \n",
    "    'CH3Cl':1, \n",
    "    'CH3CCl3':3, \n",
    "    'CH3Br':0, \n",
    "    'Halon-1211':1,\n",
    "    'Halon-1301':0, \n",
    "    'Halon-2402':0\n",
    "}\n",
    "\n",
    "br_atoms = {\n",
    "    'CFC-11':0, \n",
    "    'CFC-12':0, \n",
    "    'CFC-113':0, \n",
    "    'CFC-114':0, \n",
    "    'CFC-115':0, \n",
    "    'HCFC-22':0, \n",
    "    'HCFC-141b':0, \n",
    "    'HCFC-142b':0,\n",
    "    'CCl4':0, \n",
    "    'CHCl3':0, \n",
    "    'CH2Cl2':0, \n",
    "    'CH3Cl':0, \n",
    "    'CH3CCl3':0, \n",
    "    'CH3Br':1, \n",
    "    'Halon-1211':1,\n",
    "    'Halon-1301':1, \n",
    "    'Halon-2402':2\n",
    "}"
   ]
  },
  {
   "cell_type": "code",
   "execution_count": null,
   "id": "4235cd33",
   "metadata": {},
   "outputs": [],
   "source": [
    "hc_eesc = {}\n",
    "total_eesc = 0\n",
    "\n",
    "for species in hc_species:\n",
    "    hc_eesc[species] = calculate_eesc(\n",
    "        hc_input[species],\n",
    "        fractional_release[species],\n",
    "        fractional_release['CFC-11'],\n",
    "        cl_atoms[species],\n",
    "        br_atoms[species],\n",
    "    )\n",
    "    total_eesc = total_eesc + hc_eesc[species]"
   ]
  },
  {
   "cell_type": "code",
   "execution_count": null,
   "id": "fdb2fb6c",
   "metadata": {},
   "outputs": [],
   "source": [
    "total_eesc_1850 = total_eesc[100]"
   ]
  },
  {
   "cell_type": "code",
   "execution_count": null,
   "id": "9548a294",
   "metadata": {},
   "outputs": [],
   "source": [
    "total_eesc_1850"
   ]
  },
  {
   "cell_type": "code",
   "execution_count": null,
   "id": "1e3a375b",
   "metadata": {},
   "outputs": [],
   "source": [
    "# hfc_erf = {}\n",
    "# hfc_sum = 0\n",
    "# for species in ['HFC-125', 'HFC-134a', 'HFC-143a', 'HFC-152a', 'HFC-227ea', 'HFC-23', 'HFC-236fa', 'HFC-245fa', 'HFC-32',\n",
    "#     'HFC-365mfc', 'HFC-4310mee']:\n",
    "#     hfc_erf[species] = (input[species][269] * radiative_efficiency[species]/1000)\n",
    "#     hfc_sum = hfc_sum + hfc_erf[species]"
   ]
  },
  {
   "cell_type": "code",
   "execution_count": null,
   "id": "b45c76c0",
   "metadata": {},
   "outputs": [],
   "source": [
    "# hfc134a_eq = 0\n",
    "# for species in hfc_species:\n",
    "#     hfc134a_eq = hfc134a_eq + (hfc_input[species] * radiative_efficiency[species])/(radiative_efficiency['HFC-134a'])"
   ]
  },
  {
   "cell_type": "code",
   "execution_count": null,
   "id": "22908f1b",
   "metadata": {},
   "outputs": [],
   "source": [
    "#total_eesc, hc_eesc['CFC-11'], hc_eesc['CFC-12']"
   ]
  },
  {
   "cell_type": "code",
   "execution_count": null,
   "id": "17222499",
   "metadata": {},
   "outputs": [],
   "source": [
    "for species in hc_species:\n",
    "    pl.plot(hc_eesc[species])"
   ]
  },
  {
   "cell_type": "code",
   "execution_count": null,
   "id": "2ce52dc7",
   "metadata": {},
   "outputs": [],
   "source": [
    "input['HC'] = total_eesc"
   ]
  },
  {
   "cell_type": "markdown",
   "id": "88e128ed",
   "metadata": {},
   "source": [
    "Use 1850 and 2014 emissions or concentrations corresponding to methane lifetime changes in Thornhill et al. 2021.\n",
    "\n",
    "Could we also take into account the fact that there are multiple loss pathways for CH4:\n",
    "- tropospheric OH loss is 560 Tg/yr\n",
    "- chlorine oxidation, 11 Tg/yr, assumed not included in AerChemMIP models\n",
    "- stratospheric loss is 31 Tg/yr, assumed not included in AerChemMIP models\n",
    "- soil uptake, 30 Tg/yr, not included in AerChemMIP models\n",
    "\n",
    "Saunois (2020): 90% of sink is OH chemistry in troposphere and is 553 [476–677] Tg CH4 yr−1, which is close to the IPCC number of 560, (chapter 5)\n",
    "\n",
    "Chapter 6 only give time constants for soil uptake and the combined chemistry loss (trop OH + chlorine + stratosphere). "
   ]
  },
  {
   "cell_type": "code",
   "execution_count": null,
   "id": "5aa147e3",
   "metadata": {},
   "outputs": [],
   "source": [
    "def alpha_scaling_exp(\n",
    "    input,\n",
    "    baseline,\n",
    "    normalisation,\n",
    "    beta,\n",
    "):\n",
    "    log_lifetime_scaling = 0\n",
    "    for species in ['CH4', 'N2O', 'VOC', 'HC', 'NOx', 'temp']:\n",
    "        log_lifetime_scaling = log_lifetime_scaling + (\n",
    "            np.log(1 + (input[species]-baseline[species])/normalisation[species] * beta[species])\n",
    "        )\n",
    "    return np.exp(log_lifetime_scaling)"
   ]
  },
  {
   "cell_type": "code",
   "execution_count": null,
   "id": "e75c88a1",
   "metadata": {},
   "outputs": [],
   "source": [
    "normalisation = {}\n",
    "for species in ['CH4', 'N2O', 'VOC', 'NOx', 'HC']:\n",
    "    normalisation[species] = input[species][264] - input[species][100]\n",
    "    print(species, normalisation[species])\n",
    "normalisation['temp'] = 1"
   ]
  },
  {
   "cell_type": "code",
   "execution_count": null,
   "id": "2ea3de5b",
   "metadata": {},
   "outputs": [],
   "source": [
    "baseline = {}\n",
    "for species in ['CH4', 'N2O', 'VOC', 'NOx', 'HC']:\n",
    "    baseline[species] = input[species][100]\n",
    "baseline['temp'] = 0"
   ]
  },
  {
   "cell_type": "markdown",
   "id": "5933563d",
   "metadata": {},
   "source": [
    "## Steps 1 and 2\n",
    "\n",
    "Get and tune to AerChemMIP models\n",
    "\n",
    "MRI and GISS both give pretty good historical emulations"
   ]
  },
  {
   "cell_type": "code",
   "execution_count": null,
   "id": "7c2aa2f6",
   "metadata": {},
   "outputs": [],
   "source": [
    "parameters = {}\n",
    "\n",
    "parameters['AerChemMIP_mean'] = {\n",
    "    'base': 10.0,\n",
    "    'CH4': +0.22,\n",
    "    'NOx': -0.33,\n",
    "#    'CO': 0,\n",
    "    'VOC': +0.19,\n",
    "    'HC': -0.037,\n",
    "    'N2O': -0.02,\n",
    "    'temp': -0.006,\n",
    "}\n",
    "\n",
    "parameters['UKESM'] = {\n",
    "    'base': 8,\n",
    "    'CH4': +0.22,\n",
    "    'NOx': -0.25,\n",
    "#    'CO': 0,\n",
    "    'VOC': +0.11,\n",
    "    'HC': -0.049,\n",
    "    'N2O': -0.012,\n",
    "    'temp': -0.0408\n",
    "}\n",
    "\n",
    "# we'll exclude BCC and CESM as they don't have VOC expt and that's important. \n",
    "# We can live with a missing N2O from GFDL and a missing temperature feedback from MRI.\n",
    "\n",
    "parameters['GFDL'] = {\n",
    "    'base': 9.6,\n",
    "    'CH4': +0.21,\n",
    "    'NOx': -0.33,\n",
    "#    'CO': 0,\n",
    "    'VOC': +0.15,\n",
    "    'HC': -0.075,\n",
    "    'N2O': 0,  # missing\n",
    "    'temp': -0.0205\n",
    "}\n",
    "\n",
    "parameters['GISS'] = {\n",
    "    'base': 13.4,\n",
    "    'CH4': +0.18,\n",
    "    'NOx': -0.46,\n",
    "#    'CO': 0,\n",
    "    'VOC': +0.27,\n",
    "    'HC': -0.006,\n",
    "    'N2O': -0.039,\n",
    "    'temp': -0.0333\n",
    "}\n",
    "\n",
    "parameters['MRI'] = {\n",
    "    'base': 10.1,\n",
    "    'CH4': +0.22,\n",
    "    'NOx': -0.26,\n",
    "#    'CO': 0,\n",
    "    'VOC': +0.21,\n",
    "    'HC': -0.024,\n",
    "    'N2O': -0.013,\n",
    "    'temp': 0  # missing\n",
    "}"
   ]
  },
  {
   "cell_type": "code",
   "execution_count": null,
   "id": "521523ec",
   "metadata": {},
   "outputs": [],
   "source": [
    "lifetime_scaling = {}"
   ]
  },
  {
   "cell_type": "code",
   "execution_count": null,
   "id": "3f61c511",
   "metadata": {},
   "outputs": [],
   "source": [
    "models = ['UKESM', 'GFDL', 'GISS', 'MRI']"
   ]
  },
  {
   "cell_type": "code",
   "execution_count": null,
   "id": "a36263d8",
   "metadata": {},
   "outputs": [],
   "source": [
    "for model in models:\n",
    "    print(parameters[model])\n",
    "    lifetime_scaling[model] = alpha_scaling_exp(\n",
    "        input,\n",
    "        baseline,\n",
    "        normalisation,\n",
    "        parameters[model],\n",
    "    )"
   ]
  },
  {
   "cell_type": "code",
   "execution_count": null,
   "id": "c64c6664",
   "metadata": {},
   "outputs": [],
   "source": [
    "#pl.plot(np.arange(1750, 2501), aerchemmip_mean[:] * 8.25)\n"
   ]
  },
  {
   "cell_type": "code",
   "execution_count": null,
   "id": "95ecce57",
   "metadata": {},
   "outputs": [],
   "source": [
    "#1/(1/135 + 1/9.7)"
   ]
  },
  {
   "cell_type": "code",
   "execution_count": null,
   "id": "2df32ff4",
   "metadata": {},
   "outputs": [],
   "source": [
    "#1/(1/120 + 1/200 + 1/150 + 1/11.2)"
   ]
  },
  {
   "cell_type": "code",
   "execution_count": null,
   "id": "18249e51",
   "metadata": {},
   "outputs": [],
   "source": [
    "1/np.inf"
   ]
  },
  {
   "cell_type": "code",
   "execution_count": null,
   "id": "d24f232c",
   "metadata": {},
   "outputs": [],
   "source": [
    "# put this into a simple one box model\n",
    "def one_box(\n",
    "    emissions,\n",
    "    gas_boxes_old,\n",
    "    airborne_emissions_old,\n",
    "    burden_per_emission,\n",
    "    lifetime,\n",
    "    alpha_lifetime,\n",
    "    partition_fraction,\n",
    "    pre_industrial_concentration,\n",
    "    soil_lifetime=135,\n",
    "    timestep=1,\n",
    "    natural_emissions_adjustment=0,\n",
    "):\n",
    "    \n",
    "    effective_lifetime = 1/(1/(alpha_lifetime * lifetime) + 1/soil_lifetime)\n",
    "    decay_rate = timestep/(effective_lifetime)\n",
    "    decay_factor = np.exp(-decay_rate)\n",
    "    gas_boxes_new = (\n",
    "        partition_fraction *\n",
    "        (emissions-natural_emissions_adjustment) *\n",
    "        1 / decay_rate *\n",
    "        (1 - decay_factor) * timestep + gas_boxes_old * decay_factor\n",
    "    )\n",
    "    airborne_emissions_new = gas_boxes_new\n",
    "    concentration_out = (\n",
    "        pre_industrial_concentration +\n",
    "        burden_per_emission * (\n",
    "            airborne_emissions_new + airborne_emissions_old\n",
    "        ) / 2\n",
    "    )\n",
    "    return concentration_out, gas_boxes_new, airborne_emissions_new"
   ]
  },
  {
   "cell_type": "code",
   "execution_count": null,
   "id": "4d590dc2",
   "metadata": {},
   "outputs": [],
   "source": [
    "emis_ch4 = df_emis.loc[\n",
    "    (df_emis['Scenario']=='ssp370') & (df_emis['Variable'].str.endswith('CH4')) & \n",
    "    (df_emis['Region']=='World'), '1750':'2500'\n",
    "].interpolate(axis=1).values.squeeze()"
   ]
  },
  {
   "cell_type": "code",
   "execution_count": null,
   "id": "1661ec0a",
   "metadata": {},
   "outputs": [],
   "source": [
    "burden_per_emission = 1 / (5.1352e18 / 1e18 * 16.043 / 28.97)\n",
    "partition_fraction = 1\n",
    "pre_industrial_concentration = 729.2\n",
    "natural_emissions_adjustment = emis_ch4[0]"
   ]
  },
  {
   "cell_type": "code",
   "execution_count": null,
   "id": "25a43741",
   "metadata": {},
   "outputs": [],
   "source": [
    "conc_ch4 = {}"
   ]
  },
  {
   "cell_type": "code",
   "execution_count": null,
   "id": "26c91cf5",
   "metadata": {},
   "outputs": [],
   "source": [
    "for model in models:\n",
    "    conc_ch4[model] = np.zeros(351)\n",
    "    gas_boxes = 0\n",
    "    airborne_emissions = 0\n",
    "    for i in range(351):\n",
    "        conc_ch4[model][i], gas_boxes, airborne_emissions = one_box(\n",
    "            emis_ch4[i],\n",
    "            gas_boxes,\n",
    "            airborne_emissions,\n",
    "            burden_per_emission,\n",
    "            parameters[model]['base'],\n",
    "            lifetime_scaling[model][i],\n",
    "            partition_fraction,\n",
    "            pre_industrial_concentration,\n",
    "            soil_lifetime=np.inf,\n",
    "            timestep=1,\n",
    "            natural_emissions_adjustment=natural_emissions_adjustment,\n",
    "        )"
   ]
  },
  {
   "cell_type": "code",
   "execution_count": null,
   "id": "46a459dd",
   "metadata": {},
   "outputs": [],
   "source": []
  },
  {
   "cell_type": "code",
   "execution_count": null,
   "id": "6640ddec",
   "metadata": {},
   "outputs": [],
   "source": [
    "df_ch4 = pd.read_csv('../data/calibration/methane_ukesm1.csv', index_col=0)"
   ]
  },
  {
   "cell_type": "code",
   "execution_count": null,
   "id": "096f4e54",
   "metadata": {},
   "outputs": [],
   "source": [
    "df_ch4.mean(axis=1)"
   ]
  },
  {
   "cell_type": "code",
   "execution_count": null,
   "id": "e56fb6b2",
   "metadata": {},
   "outputs": [],
   "source": [
    "pl.plot(np.arange(1850.5, 2015), conc_ch4['UKESM'][100:265], label='FaIR UKESM1 calibration')\n",
    "pl.plot(df_ch4.index, df_ch4.mean(axis=1), label='UKESM1')\n",
    "pl.legend()\n",
    "#pl.savefig('../plots/ukesm_historical_methane.png')"
   ]
  },
  {
   "cell_type": "code",
   "execution_count": null,
   "id": "b88659e1",
   "metadata": {},
   "outputs": [],
   "source": [
    "for model in models:\n",
    "    pl.plot(np.arange(1750, 2021), conc_ch4[model][:271], label=model)\n",
    "pl.plot(np.arange(1750, 2021), input['CH4'][:271], color='k', label='obs')\n",
    "pl.legend()\n",
    "#pl.savefig('../plots/aerchemmip_tuning_ch4_conc_1750-2020.pdf')"
   ]
  },
  {
   "cell_type": "markdown",
   "id": "b6ac2598",
   "metadata": {},
   "source": [
    "## Step 3\n",
    "\n",
    "Find least squares sensible historical fit"
   ]
  },
  {
   "cell_type": "code",
   "execution_count": null,
   "id": "17dcbc01",
   "metadata": {},
   "outputs": [],
   "source": [
    "invect = np.array([input['CH4'], input['NOx'], input['VOC'], input['HC'], input['N2O'], input['temp']])"
   ]
  },
  {
   "cell_type": "code",
   "execution_count": null,
   "id": "a33b19dc",
   "metadata": {},
   "outputs": [],
   "source": [
    "def fit_precursors(x, rch4, rnox, rvoc, rhc, rn2o, rtemp, rbase):\n",
    "    conc_ch4 = np.zeros(271)\n",
    "    gas_boxes = 0\n",
    "    airborne_emissions = 0\n",
    "    \n",
    "    params = {}\n",
    "    params['CH4'] = rch4\n",
    "    params['NOx'] = rnox\n",
    "    params['VOC'] = rvoc\n",
    "    params['HC'] = rhc\n",
    "    params['N2O'] = rn2o\n",
    "    params['temp'] = rtemp\n",
    "    \n",
    "    inp = {}\n",
    "    inp['CH4'] = x[0]\n",
    "    inp['NOx'] = x[1]\n",
    "    inp['VOC'] = x[2]\n",
    "    inp['HC'] = x[3]\n",
    "    inp['N2O'] = x[4]\n",
    "    inp['temp'] = x[5]\n",
    "    \n",
    "    lifetime_scaling = alpha_scaling_exp(\n",
    "        inp,\n",
    "        baseline,\n",
    "        normalisation,\n",
    "        params,\n",
    "    )\n",
    "    \n",
    "    for i in range(271):\n",
    "        conc_ch4[i], gas_boxes, airborne_emissions = one_box(\n",
    "            emis_ch4[i],\n",
    "            gas_boxes,\n",
    "            airborne_emissions,\n",
    "            burden_per_emission,\n",
    "            rbase,\n",
    "            lifetime_scaling[i],\n",
    "            partition_fraction,\n",
    "            pre_industrial_concentration,\n",
    "            soil_lifetime=np.inf,\n",
    "            timestep=1,\n",
    "            natural_emissions_adjustment=natural_emissions_adjustment,\n",
    "        )\n",
    "    return conc_ch4\n",
    "\n",
    "\n",
    "p, cov = scipy.optimize.curve_fit(\n",
    "    fit_precursors, \n",
    "    invect[:, :271],\n",
    "    input['CH4'][:271],\n",
    "    bounds = (  # AerChemMIP min to max range\n",
    "        (0.18, -0.46, 0.11, -0.075, -0.039, -0.0408, 6.3),\n",
    "        (0.26, -0.25, 0.27, -0.006, -0.012, +0.0718, 13.4)\n",
    "    )\n",
    ")"
   ]
  },
  {
   "cell_type": "code",
   "execution_count": null,
   "id": "792a223d",
   "metadata": {},
   "outputs": [],
   "source": [
    "parameters['best_fit'] = {\n",
    "    'base': p[6],\n",
    "    'CH4': p[0],\n",
    "    'NOx': p[1],\n",
    "#    'CO': 0,\n",
    "    'VOC': p[2],\n",
    "    'HC': p[3],\n",
    "    'N2O': p[4],\n",
    "    'temp': p[5],\n",
    "}\n",
    "p"
   ]
  },
  {
   "cell_type": "code",
   "execution_count": null,
   "id": "e33461c5",
   "metadata": {},
   "outputs": [],
   "source": [
    "# these are the feedback values per ppb / per Mt that go into FaIR\n",
    "for specie in ['CH4', 'NOx', 'VOC', 'HC', 'N2O']:\n",
    "    print(specie, parameters['best_fit'][specie]/normalisation[specie])"
   ]
  },
  {
   "cell_type": "code",
   "execution_count": null,
   "id": "4e9360f5",
   "metadata": {},
   "outputs": [],
   "source": [
    "beta_hc_sum = 0\n",
    "\n",
    "for species in hc_species:\n",
    "    beta_hc = (\n",
    "        p[3] * (\n",
    "            (hc_eesc[species][264] - hc_eesc[species][100])/(total_eesc[264]-total_eesc[100])\n",
    "        )\n",
    "    )\n",
    "    print(species, beta_hc)\n",
    "    beta_hc_sum = beta_hc_sum + beta_hc\n",
    "print(beta_hc_sum)"
   ]
  },
  {
   "cell_type": "code",
   "execution_count": null,
   "id": "f7741db8",
   "metadata": {},
   "outputs": [],
   "source": [
    "lifetime_scaling['best_fit'] = alpha_scaling_exp(\n",
    "    input,\n",
    "    baseline,\n",
    "    normalisation,\n",
    "    parameters['best_fit'],\n",
    ")"
   ]
  },
  {
   "cell_type": "code",
   "execution_count": null,
   "id": "80e87f5e",
   "metadata": {},
   "outputs": [],
   "source": [
    "pl.plot(np.arange(1750, 2101), lifetime_scaling['best_fit'])"
   ]
  },
  {
   "cell_type": "code",
   "execution_count": null,
   "id": "053f46af",
   "metadata": {},
   "outputs": [],
   "source": [
    "lifetime_scaling['best_fit'][0]"
   ]
  },
  {
   "cell_type": "code",
   "execution_count": null,
   "id": "b592e3dc",
   "metadata": {},
   "outputs": [],
   "source": [
    "lifetime_scaling['best_fit'][0] * parameters['best_fit']['base']"
   ]
  },
  {
   "cell_type": "code",
   "execution_count": null,
   "id": "9e60f85f",
   "metadata": {},
   "outputs": [],
   "source": [
    "pl.plot(np.arange(1750, 2101), lifetime_scaling['best_fit'] * parameters['best_fit']['base'], label='best_fit')\n",
    "pl.legend()\n",
    "pl.ylabel('CH4 chemical lifetime (yr)')\n",
    "#pl.savefig('../plots/ch4_chemical_lifetime_best_fit.pdf')"
   ]
  },
  {
   "cell_type": "code",
   "execution_count": null,
   "id": "937a0807",
   "metadata": {},
   "outputs": [],
   "source": [
    "conc_ch4['best_fit'] = np.zeros(351)\n",
    "gas_boxes = 0\n",
    "airborne_emissions = 0\n",
    "for i in range(351):\n",
    "    conc_ch4['best_fit'][i], gas_boxes, airborne_emissions = one_box(\n",
    "        emis_ch4[i],\n",
    "        gas_boxes,\n",
    "        airborne_emissions,\n",
    "        burden_per_emission,\n",
    "        parameters['best_fit']['base'],\n",
    "        lifetime_scaling['best_fit'][i],\n",
    "        partition_fraction,\n",
    "        pre_industrial_concentration,\n",
    "        soil_lifetime=np.inf,\n",
    "        timestep=1,\n",
    "        natural_emissions_adjustment=natural_emissions_adjustment,\n",
    "    )"
   ]
  },
  {
   "cell_type": "code",
   "execution_count": null,
   "id": "4c16dc15",
   "metadata": {},
   "outputs": [],
   "source": []
  },
  {
   "cell_type": "markdown",
   "id": "a6c7a68f",
   "metadata": {},
   "source": [
    "### Compare the SSP3-7.0 fit to other SSPs\n",
    "\n",
    "should do something with the temperature projections here"
   ]
  },
  {
   "cell_type": "code",
   "execution_count": null,
   "id": "77321136",
   "metadata": {},
   "outputs": [],
   "source": [
    "emis_ch4_ssps = {}\n",
    "\n",
    "for ssp in ['ssp119', 'ssp126', 'ssp245', 'ssp370', 'ssp434', 'ssp460', 'ssp534-over', 'ssp585']:\n",
    "    emis_ch4_ssps[ssp] = df_emis.loc[\n",
    "        (df_emis['Scenario']==ssp) & (df_emis['Variable'].str.endswith('CH4')) & \n",
    "        (df_emis['Region']=='World'), '1750':'2100'\n",
    "    ].interpolate(axis=1).values.squeeze()"
   ]
  },
  {
   "cell_type": "code",
   "execution_count": null,
   "id": "e6d8ad11",
   "metadata": {},
   "outputs": [],
   "source": [
    "for ssp in ['ssp119', 'ssp126', 'ssp245', 'ssp370', 'ssp434', 'ssp460', 'ssp534-over', 'ssp585']:\n",
    "    conc_ch4[ssp] = np.zeros(351)\n",
    "    gas_boxes = 0\n",
    "    airborne_emissions = 0\n",
    "    for i in range(351):\n",
    "        conc_ch4[ssp][i], gas_boxes, airborne_emissions = one_box(\n",
    "            emis_ch4_ssps[ssp][i],\n",
    "            gas_boxes,\n",
    "            airborne_emissions,\n",
    "            burden_per_emission,\n",
    "            parameters['best_fit']['base'],\n",
    "            lifetime_scaling['best_fit'][i],\n",
    "            partition_fraction,\n",
    "            pre_industrial_concentration,\n",
    "            soil_lifetime=np.inf,\n",
    "            timestep=1,\n",
    "            natural_emissions_adjustment=natural_emissions_adjustment,\n",
    "        )"
   ]
  },
  {
   "cell_type": "markdown",
   "id": "bd3453b2",
   "metadata": {},
   "source": [
    "### Four panel plot"
   ]
  },
  {
   "cell_type": "code",
   "execution_count": null,
   "id": "75772093",
   "metadata": {},
   "outputs": [],
   "source": [
    "ar6_colors = {\n",
    "    'ssp119': '#00a9cf',\n",
    "    'ssp126': '#003466',\n",
    "    'ssp245': '#f69320',\n",
    "    'ssp370': '#df0000',\n",
    "    'ssp434': '#2274ae',\n",
    "    'ssp460': '#b0724e',\n",
    "    'ssp534-over': '#92397a',\n",
    "    'ssp585': '#980002'\n",
    "}"
   ]
  },
  {
   "cell_type": "code",
   "execution_count": null,
   "id": "f945ea9b",
   "metadata": {},
   "outputs": [],
   "source": [
    "fig, ax = pl.subplots(1, 3, figsize=(11.4, 4.5))\n",
    "for model in models:\n",
    "    ax[0].plot(np.arange(1750, 2101), lifetime_scaling[model] * parameters[model]['base'], label=model)\n",
    "ax[0].plot(np.arange(1750, 2101), lifetime_scaling['best_fit'] * parameters[model]['base'], color='0.5', label='Best fit')\n",
    "ax[0].legend(loc='upper left', bbox_to_anchor=[0, 0.85], frameon=False)\n",
    "ax[0].set_xlim(1750, 2100)\n",
    "ax[0].set_ylabel('yr')\n",
    "ax[0].set_title('(a) CH$_4$ lifetime SSP3-7.0')\n",
    "\n",
    "for model in models:\n",
    "    ax[1].plot(np.arange(1750, 2101), conc_ch4[model], label=model)\n",
    "ax[1].plot(np.arange(1750, 2101), conc_ch4['best_fit'], color='0.5', label='Best fit')\n",
    "ax[1].plot(np.arange(1750, 2101), input['CH4'], color='k', label='observations +\\nMAGICC6')\n",
    "ax[1].set_ylabel('ppb')\n",
    "ax[1].set_xlim(1750, 2100)\n",
    "ax[1].legend(frameon=False)\n",
    "ax[1].set_title('(b) CH$_4$ concentration SSP3-7.0')\n",
    "\n",
    "# ax[1,0].plot(np.arange(1750, 2101), conc_ch4['best_fit'], color='0.5', label='Best fit')\n",
    "# ax[1,0].plot(np.arange(1750, 2101), input['CH4'], color='k', label='observations + MAGICC6')\n",
    "# ax[1,0].set_ylabel('ppb')\n",
    "# ax[1,0].set_xlim(1750, 2100)\n",
    "# ax[1,0].set_title('(c) CH$_4$ concentration, best lifetime coefficient fit')\n",
    "# ax[1,0].legend(frameon=False)\n",
    "\n",
    "for ssp in ['ssp119', 'ssp126', 'ssp434', 'ssp534-over', 'ssp245', 'ssp460', 'ssp370',    'ssp585']:\n",
    "    ax[2].plot(np.arange(1750, 2101), conc_ch4[ssp], label=ssp, color=ar6_colors[ssp])\n",
    "ax[2].set_ylabel('ppb')\n",
    "ax[2].set_title('(c) Best fit CH$_4$ projections')\n",
    "ax[2].set_xlim(1750, 2100)\n",
    "ax[2].legend(frameon=False)\n",
    "\n",
    "fig.tight_layout()\n",
    "pl.savefig('../plots/methane_calibrations.png')\n",
    "pl.savefig('../plots/methane_calibrations.pdf')"
   ]
  },
  {
   "cell_type": "code",
   "execution_count": null,
   "id": "898cf299",
   "metadata": {},
   "outputs": [],
   "source": [
    "\n"
   ]
  }
 ],
 "metadata": {
  "kernelspec": {
   "display_name": "Python 3 (ipykernel)",
   "language": "python",
   "name": "python3"
  },
  "language_info": {
   "codemirror_mode": {
    "name": "ipython",
    "version": 3
   },
   "file_extension": ".py",
   "mimetype": "text/x-python",
   "name": "python",
   "nbconvert_exporter": "python",
   "pygments_lexer": "ipython3",
   "version": "3.10.6"
  }
 },
 "nbformat": 4,
 "nbformat_minor": 5
}
