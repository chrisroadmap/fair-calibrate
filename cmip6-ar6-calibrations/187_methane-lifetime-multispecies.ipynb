{
 "cells": [
  {
   "cell_type": "markdown",
   "id": "5531ab70",
   "metadata": {},
   "source": [
    "# What affects methane chemical lifetime?\n",
    "\n",
    "- methane\n",
    "- VOCs\n",
    "- NOx\n",
    "- Ozone\n",
    "- HCs\n",
    "- N2O\n",
    "- climate\n",
    "\n",
    "Here I suggest an override of the alpha scaling factor for methane that is calculated from multiple species.\n",
    "\n",
    "Ozone itself is a function of other precursors: we do not include ozone as a direct influence on methane lifetime, and restrict ourselves to directly emitted anthropogenic species.\n",
    "\n",
    "Gill Thornhill published two papers on methane lifetime: one on the chemical adjustments to lifetime, and one on the climate adjustments. Both effects will be included. We will \n",
    "\n",
    "1. take AerChemMIP multi-model means from Gill's papers\n",
    "2. run the lifetime relationship to individual AerChemMIP models in Gill's papers\n",
    "3. find a least squares fit with reasonable sensitivies across the historical\n",
    "4. run a Monte Carlo that perturbs the sensitivity of lifetime to each emitted species\n",
    "  - include the perturbation to soil lifetime too"
   ]
  },
  {
   "cell_type": "code",
   "execution_count": null,
   "id": "4d4c5f50",
   "metadata": {},
   "outputs": [],
   "source": [
    "import numpy as np\n",
    "import pandas as pd\n",
    "import matplotlib.pyplot as pl\n",
    "import time\n",
    "import scipy.stats\n",
    "import scipy.optimize\n",
    "\n",
    "from tqdm import tqdm\n",
    "from fair21 import SpeciesID, Category, Config, Species, RunMode, Scenario, ClimateResponse, RunConfig, FAIR\n",
    "from fair21.defaults import species_config_from_default"
   ]
  },
  {
   "cell_type": "markdown",
   "id": "24f6fa32",
   "metadata": {},
   "source": [
    "## Temperature data\n",
    "\n",
    "Use observations 1850-2020, then simulate an SSP3-7.0 climate with a linear warming rate to 4C in 2100."
   ]
  },
  {
   "cell_type": "code",
   "execution_count": null,
   "id": "015305de",
   "metadata": {},
   "outputs": [],
   "source": [
    "df_temp = pd.read_csv('../data/forcing/AR6_GMST.csv')\n",
    "gmst = np.zeros(751)\n",
    "gmst[100:271] = df_temp['gmst'].values\n",
    "gmst[271:351] = np.linspace(gmst[270], 4, 80)\n",
    "gmst[351:] = 4"
   ]
  },
  {
   "cell_type": "markdown",
   "id": "046e15b1",
   "metadata": {},
   "source": [
    "## Get emissions and concentrations "
   ]
  },
  {
   "cell_type": "code",
   "execution_count": null,
   "id": "ddee1d59",
   "metadata": {},
   "outputs": [],
   "source": [
    "df_emis = pd.read_csv('../data/rcmip/rcmip-emissions-annual-means-v5-1-0.csv')\n",
    "df_conc = pd.read_csv('../data/rcmip/rcmip-concentrations-annual-means-v5-1-0.csv')\n",
    "input = {}\n",
    "hfc_input = {}"
   ]
  },
  {
   "cell_type": "code",
   "execution_count": null,
   "id": "425512a6",
   "metadata": {},
   "outputs": [],
   "source": [
    "conc_species = ['CH4', 'N2O']\n",
    "hfc_species = ['HFC-125', 'HFC-134a', 'HFC-143a', 'HFC-152a', 'HFC-227ea', 'HFC-23', 'HFC-236fa', 'HFC-245fa', 'HFC-32',\n",
    "    'HFC-365mfc', 'HFC-4310mee']\n",
    "\n",
    "for species in conc_species:\n",
    "    input[species] = df_conc.loc[\n",
    "        (df_conc['Scenario']=='ssp370') & (df_conc['Variable'].str.endswith(species)) & \n",
    "        (df_conc['Region']=='World'), '1750':'2500'\n",
    "    ].interpolate(axis=1).values.squeeze()\n",
    "    \n",
    "for species in hfc_species:\n",
    "    species_rcmip_name = species.replace(\"-\", \"\")\n",
    "    hfc_input[species] = df_conc.loc[\n",
    "        (df_conc['Scenario']=='ssp370') & (df_conc['Variable'].str.endswith(species_rcmip_name)) & \n",
    "        (df_conc['Region']=='World'), '1750':'2500'\n",
    "    ].interpolate(axis=1).values.squeeze()"
   ]
  },
  {
   "cell_type": "code",
   "execution_count": null,
   "id": "f7ff14a3",
   "metadata": {},
   "outputs": [],
   "source": [
    "emis_species = ['CO', 'VOC', 'NOx']\n",
    "for species in emis_species:\n",
    "    input[species] = df_emis.loc[\n",
    "        (df_emis['Scenario']=='ssp370') & (df_emis['Variable'].str.endswith(species)) & \n",
    "        (df_emis['Region']=='World'), '1750':'2500'\n",
    "    ].interpolate(axis=1).values.squeeze()"
   ]
  },
  {
   "cell_type": "code",
   "execution_count": null,
   "id": "93c7b7f1",
   "metadata": {},
   "outputs": [],
   "source": [
    "input['temp'] = gmst"
   ]
  },
  {
   "cell_type": "code",
   "execution_count": null,
   "id": "e64006dc",
   "metadata": {},
   "outputs": [],
   "source": [
    "# species_ids = {\n",
    "#     'ch4': SpeciesID('CH4', Category.CH4),\n",
    "#     'co2': SpeciesID('CO2', Category.CO2, run_mode=RunMode.CONCENTRATION),\n",
    "#     'n2o': SpeciesID('N2O', Category.N2O, run_mode=RunMode.CONCENTRATION),\n",
    "#     'co': SpeciesID('CO', Category.SLCF_OZONE_PRECURSOR),\n",
    "#     'voc': SpeciesID('VOC', Category.SLCF_OZONE_PRECURSOR),\n",
    "#     'nox': SpeciesID('NOx', Category.SLCF_OZONE_PRECURSOR),\n",
    "# }"
   ]
  },
  {
   "cell_type": "code",
   "execution_count": null,
   "id": "8b7c6259",
   "metadata": {},
   "outputs": [],
   "source": [
    "radiative_efficiency = pd.Series({\n",
    "    'HFC-125': 0.23378,\n",
    "    'HFC-134a': 0.16714,\n",
    "    'HFC-143a': 0.168,\n",
    "    'HFC-152a': 0.10174,\n",
    "    'HFC-227ea': 0.27325,\n",
    "    'HFC-23': 0.19111,\n",
    "    'HFC-236fa': 0.25069,\n",
    "    'HFC-245fa': 0.24498,\n",
    "    'HFC-32': 0.11144,\n",
    "    'HFC-365mfc': 0.22813,\n",
    "    'HFC-4310mee': 0.35731\n",
    "})"
   ]
  },
  {
   "cell_type": "code",
   "execution_count": null,
   "id": "1e3a375b",
   "metadata": {},
   "outputs": [],
   "source": [
    "# hfc_erf = {}\n",
    "# hfc_sum = 0\n",
    "# for species in ['HFC-125', 'HFC-134a', 'HFC-143a', 'HFC-152a', 'HFC-227ea', 'HFC-23', 'HFC-236fa', 'HFC-245fa', 'HFC-32',\n",
    "#     'HFC-365mfc', 'HFC-4310mee']:\n",
    "#     hfc_erf[species] = (input[species][269] * radiative_efficiency[species]/1000)\n",
    "#     hfc_sum = hfc_sum + hfc_erf[species]"
   ]
  },
  {
   "cell_type": "code",
   "execution_count": null,
   "id": "b45c76c0",
   "metadata": {},
   "outputs": [],
   "source": [
    "hfc134a_eq = 0\n",
    "for species in hfc_species:\n",
    "    hfc134a_eq = hfc134a_eq + (hfc_input[species] * radiative_efficiency[species])/(radiative_efficiency['HFC-134a'])"
   ]
  },
  {
   "cell_type": "code",
   "execution_count": null,
   "id": "22908f1b",
   "metadata": {},
   "outputs": [],
   "source": [
    "pl.plot(hfc134a_eq)\n",
    "pl.plot(hfc_input['HFC-134a'])"
   ]
  },
  {
   "cell_type": "code",
   "execution_count": null,
   "id": "17222499",
   "metadata": {},
   "outputs": [],
   "source": [
    "for species in hfc_species:\n",
    "    pl.plot(hfc_input[species])"
   ]
  },
  {
   "cell_type": "code",
   "execution_count": null,
   "id": "ca65194a",
   "metadata": {},
   "outputs": [],
   "source": [
    "for species in hfc_species:\n",
    "    print(species, (hfc_input[species][264] * radiative_efficiency[species])/radiative_efficiency['HFC-134a']/hfc134a_eq[264], hfc_input[species][264]-hfc_input[species][100])"
   ]
  },
  {
   "cell_type": "code",
   "execution_count": null,
   "id": "48c9f5c6",
   "metadata": {},
   "outputs": [],
   "source": [
    "hfc134a_eq[269]  # 237 ppm in SPM WG1 AR6"
   ]
  },
  {
   "cell_type": "code",
   "execution_count": null,
   "id": "2ce52dc7",
   "metadata": {},
   "outputs": [],
   "source": [
    "input['HFC'] = hfc134a_eq"
   ]
  },
  {
   "cell_type": "markdown",
   "id": "88e128ed",
   "metadata": {},
   "source": [
    "Use 1850 and 2014 emissions or concentrations corresponding to methane lifetime changes in Thornhill et al. 2021.\n",
    "\n",
    "Could we also take into account the fact that there are multiple loss pathways for CH4:\n",
    "- tropospheric OH loss is 560 Tg/yr\n",
    "- chlorine oxidation, 11 Tg/yr, assumed not included in AerChemMIP models\n",
    "- stratospheric loss is 31 Tg/yr, assumed not included in AerChemMIP models\n",
    "- soil uptake, 30 Tg/yr, not included in AerChemMIP models\n",
    "\n",
    "Saunois (2020): 90% of sink is OH chemistry in troposphere and is 553 [476–677] Tg CH4 yr−1, which is close to the IPCC number of 560, (chapter 5)\n",
    "\n",
    "Chapter 6 only give time constants for soil uptake and the combined chemistry loss (trop OH + chlorine + stratosphere). "
   ]
  },
  {
   "cell_type": "code",
   "execution_count": null,
   "id": "5aa147e3",
   "metadata": {},
   "outputs": [],
   "source": [
    "def alpha_scaling_exp(\n",
    "    input,\n",
    "    baseline,\n",
    "    normalisation,\n",
    "    beta,\n",
    "):\n",
    "    log_lifetime_scaling = 0\n",
    "    for species in ['CH4', 'N2O', 'VOC', 'HFC', 'NOx', 'temp']:\n",
    "        log_lifetime_scaling = log_lifetime_scaling + (\n",
    "            np.log(1 + (input[species]-baseline[species])/normalisation[species] * beta[species])\n",
    "        )\n",
    "#    for species in ['HFC-125', 'HFC-134a', 'HFC-143a', 'HFC-152a', 'HFC-227ea',\n",
    "#                    'HFC-23', 'HFC-236fa', 'HFC-245fa', 'HFC-32', 'HFC-365mfc', 'HFC-4310mee']:\n",
    "#        log_lifetime_scaling = log_lifetime_scaling + (\n",
    "#            np.log(1 + \n",
    "#                (\n",
    "#                    (input[species]-baseline[species])/(normalisation[species]) * beta['HC'] * hfc_erf[species]/hfc_sum\n",
    "#                )\n",
    "#            )\n",
    "#        )\n",
    "    return np.exp(log_lifetime_scaling)"
   ]
  },
  {
   "cell_type": "code",
   "execution_count": null,
   "id": "e75c88a1",
   "metadata": {},
   "outputs": [],
   "source": [
    "normalisation = {}\n",
    "for species in ['CH4', 'N2O', 'VOC', 'NOx', 'HFC']:\n",
    "    normalisation[species] = input[species][264] - input[species][100]\n",
    "    print(species, normalisation[species])\n",
    "normalisation['temp'] = 1"
   ]
  },
  {
   "cell_type": "code",
   "execution_count": null,
   "id": "2ea3de5b",
   "metadata": {},
   "outputs": [],
   "source": [
    "baseline = {}\n",
    "for species in ['CH4', 'N2O', 'VOC', 'NOx', 'HFC']:\n",
    "    baseline[species] = input[species][100]\n",
    "baseline['temp'] = 0"
   ]
  },
  {
   "cell_type": "markdown",
   "id": "5933563d",
   "metadata": {},
   "source": [
    "## Steps 1 and 2\n",
    "\n",
    "Get and tune to AerChemMIP models\n",
    "\n",
    "MRI and GISS both give pretty good historical emulations"
   ]
  },
  {
   "cell_type": "code",
   "execution_count": null,
   "id": "7c2aa2f6",
   "metadata": {},
   "outputs": [],
   "source": [
    "parameters = {}\n",
    "\n",
    "parameters['AerChemMIP_mean'] = {\n",
    "    'base': 10.0,\n",
    "    'CH4': +0.22,\n",
    "    'NOx': -0.33,\n",
    "#    'CO': 0,\n",
    "    'VOC': +0.19,\n",
    "    'HFC': -0.037,\n",
    "    'N2O': -0.02,\n",
    "    'temp': 0.012,\n",
    "}\n",
    "\n",
    "parameters['UKESM'] = {\n",
    "    'base': 8,\n",
    "    'CH4': +0.22,\n",
    "    'NOx': -0.25,\n",
    "#    'CO': 0,\n",
    "    'VOC': +0.11,\n",
    "    'HFC': -0.049,\n",
    "    'N2O': -0.012,\n",
    "    'temp': 0.0043\n",
    "}\n",
    "\n",
    "# we'll exclude BCC and CESM as they don't have VOC expt and that's important. \n",
    "# We can live with a missing N2O from GFDL and a missing temperature feedback from MRI.\n",
    "\n",
    "parameters['GFDL'] = {\n",
    "    'base': 9.6,\n",
    "    'CH4': +0.21,\n",
    "    'NOx': -0.33,\n",
    "#    'CO': 0,\n",
    "    'VOC': +0.15,\n",
    "    'HFC': -0.075,\n",
    "    'N2O': 0,  # missing\n",
    "    'temp': 0.0258\n",
    "}\n",
    "\n",
    "parameters['GISS'] = {\n",
    "    'base': 13.4,\n",
    "    'CH4': +0.18,\n",
    "    'NOx': -0.46,\n",
    "#    'CO': 0,\n",
    "    'VOC': +0.27,\n",
    "    'HFC': -0.006,\n",
    "    'N2O': -0.039,\n",
    "    'temp': -0.0167\n",
    "}\n",
    "\n",
    "parameters['MRI'] = {\n",
    "    'base': 10.1,\n",
    "    'CH4': +0.22,\n",
    "    'NOx': -0.26,\n",
    "#    'CO': 0,\n",
    "    'VOC': +0.21,\n",
    "    'HFC': -0.024,\n",
    "    'N2O': -0.013,\n",
    "    'temp': 0  # missing\n",
    "}"
   ]
  },
  {
   "cell_type": "code",
   "execution_count": null,
   "id": "521523ec",
   "metadata": {},
   "outputs": [],
   "source": [
    "lifetime_scaling = {}"
   ]
  },
  {
   "cell_type": "code",
   "execution_count": null,
   "id": "3f61c511",
   "metadata": {},
   "outputs": [],
   "source": [
    "models = ['AerChemMIP_mean', 'UKESM', 'GFDL', 'GISS', 'MRI']"
   ]
  },
  {
   "cell_type": "code",
   "execution_count": null,
   "id": "a36263d8",
   "metadata": {},
   "outputs": [],
   "source": [
    "for model in models:\n",
    "    print(parameters[model])\n",
    "    lifetime_scaling[model] = alpha_scaling_exp(\n",
    "        input,\n",
    "        baseline,\n",
    "        normalisation,\n",
    "        parameters[model],\n",
    "    )"
   ]
  },
  {
   "cell_type": "code",
   "execution_count": null,
   "id": "c64c6664",
   "metadata": {},
   "outputs": [],
   "source": [
    "#pl.plot(np.arange(1750, 2501), aerchemmip_mean[:] * 8.25)\n",
    "for model in models:\n",
    "    pl.plot(np.arange(1750, 2501), lifetime_scaling[model] * parameters[model]['base'], label=model)\n",
    "pl.legend()\n",
    "pl.ylabel('CH4 chemical lifetime (yr)')"
   ]
  },
  {
   "cell_type": "code",
   "execution_count": null,
   "id": "95ecce57",
   "metadata": {},
   "outputs": [],
   "source": [
    "#1/(1/135 + 1/9.7)"
   ]
  },
  {
   "cell_type": "code",
   "execution_count": null,
   "id": "2df32ff4",
   "metadata": {},
   "outputs": [],
   "source": [
    "#1/(1/120 + 1/200 + 1/150 + 1/11.2)"
   ]
  },
  {
   "cell_type": "code",
   "execution_count": null,
   "id": "18249e51",
   "metadata": {},
   "outputs": [],
   "source": [
    "1/np.inf"
   ]
  },
  {
   "cell_type": "code",
   "execution_count": null,
   "id": "d24f232c",
   "metadata": {},
   "outputs": [],
   "source": [
    "# put this into a simple one box model\n",
    "def one_box(\n",
    "    emissions,\n",
    "    gas_boxes_old,\n",
    "    airborne_emissions_old,\n",
    "    burden_per_emission,\n",
    "    lifetime,\n",
    "    alpha_lifetime,\n",
    "    partition_fraction,\n",
    "    pre_industrial_concentration,\n",
    "    soil_lifetime=135,\n",
    "    timestep=1,\n",
    "    natural_emissions_adjustment=0,\n",
    "):\n",
    "    \n",
    "    effective_lifetime = 1/(1/(alpha_lifetime * lifetime) + 1/soil_lifetime)\n",
    "    decay_rate = timestep/(effective_lifetime)\n",
    "    decay_factor = np.exp(-decay_rate)\n",
    "    gas_boxes_new = (\n",
    "        partition_fraction *\n",
    "        (emissions-natural_emissions_adjustment) *\n",
    "        1 / decay_rate *\n",
    "        (1 - decay_factor) * timestep + gas_boxes_old * decay_factor\n",
    "    )\n",
    "    airborne_emissions_new = gas_boxes_new\n",
    "    concentration_out = (\n",
    "        pre_industrial_concentration +\n",
    "        burden_per_emission * (\n",
    "            airborne_emissions_new + airborne_emissions_old\n",
    "        ) / 2\n",
    "    )\n",
    "    return concentration_out, gas_boxes_new, airborne_emissions_new"
   ]
  },
  {
   "cell_type": "code",
   "execution_count": null,
   "id": "4d590dc2",
   "metadata": {},
   "outputs": [],
   "source": [
    "emis_ch4 = df_emis.loc[\n",
    "    (df_emis['Scenario']=='ssp370') & (df_emis['Variable'].str.endswith('CH4')) & \n",
    "    (df_emis['Region']=='World'), '1750':'2500'\n",
    "].interpolate(axis=1).values.squeeze()"
   ]
  },
  {
   "cell_type": "code",
   "execution_count": null,
   "id": "1661ec0a",
   "metadata": {},
   "outputs": [],
   "source": [
    "burden_per_emission = 1 / (5.1352e18 / 1e18 * 16.043 / 28.97)\n",
    "partition_fraction = 1\n",
    "pre_industrial_concentration = 729.2\n",
    "natural_emissions_adjustment = emis_ch4[0]"
   ]
  },
  {
   "cell_type": "code",
   "execution_count": null,
   "id": "25a43741",
   "metadata": {},
   "outputs": [],
   "source": [
    "conc_ch4 = {}"
   ]
  },
  {
   "cell_type": "code",
   "execution_count": null,
   "id": "26c91cf5",
   "metadata": {},
   "outputs": [],
   "source": [
    "for model in models:\n",
    "    conc_ch4[model] = np.zeros(751)\n",
    "    gas_boxes = 0\n",
    "    airborne_emissions = 0\n",
    "    for i in range(751):\n",
    "        conc_ch4[model][i], gas_boxes, airborne_emissions = one_box(\n",
    "            emis_ch4[i],\n",
    "            gas_boxes,\n",
    "            airborne_emissions,\n",
    "            burden_per_emission,\n",
    "            parameters[model]['base'],\n",
    "            lifetime_scaling[model][i],\n",
    "            partition_fraction,\n",
    "            pre_industrial_concentration,\n",
    "            soil_lifetime=135,\n",
    "            timestep=1,\n",
    "            natural_emissions_adjustment=natural_emissions_adjustment,\n",
    "        )"
   ]
  },
  {
   "cell_type": "code",
   "execution_count": null,
   "id": "46a459dd",
   "metadata": {},
   "outputs": [],
   "source": [
    "for model in models:\n",
    "    pl.plot(np.arange(1750, 2501), conc_ch4[model], label=model)\n",
    "pl.plot(np.arange(1750, 2501), input['CH4'], color='k', label='obs')\n",
    "pl.legend()"
   ]
  },
  {
   "cell_type": "code",
   "execution_count": null,
   "id": "b88659e1",
   "metadata": {},
   "outputs": [],
   "source": [
    "for model in models:\n",
    "    pl.plot(np.arange(1750, 2021), conc_ch4[model][:271], label=model)\n",
    "pl.plot(np.arange(1750, 2021), input['CH4'][:271], color='k', label='obs')\n",
    "pl.legend()"
   ]
  },
  {
   "cell_type": "markdown",
   "id": "b6ac2598",
   "metadata": {},
   "source": [
    "## Step 3\n",
    "\n",
    "Find least squares sensible historical fit"
   ]
  },
  {
   "cell_type": "code",
   "execution_count": null,
   "id": "17dcbc01",
   "metadata": {},
   "outputs": [],
   "source": [
    "invect = np.array([input['CH4'], input['NOx'], input['VOC'], input['HFC'], input['N2O'], input['temp']])"
   ]
  },
  {
   "cell_type": "code",
   "execution_count": null,
   "id": "a33b19dc",
   "metadata": {},
   "outputs": [],
   "source": [
    "def fit_precursors(x, rch4, rnox, rvoc, rhfc, rn2o, rtemp, rsoil, rbase):\n",
    "    conc_ch4 = np.zeros(751)\n",
    "    gas_boxes = 0\n",
    "    airborne_emissions = 0\n",
    "    \n",
    "    params = {}\n",
    "    params['CH4'] = rch4\n",
    "    params['NOx'] = rnox\n",
    "    params['VOC'] = rvoc\n",
    "    params['HFC'] = rhfc\n",
    "    params['N2O'] = rn2o\n",
    "    params['temp'] = rtemp\n",
    "    params['soil'] = rsoil\n",
    "    \n",
    "    inp = {}\n",
    "    inp['CH4'] = x[0]\n",
    "    inp['NOx'] = x[1]\n",
    "    inp['VOC'] = x[2]\n",
    "    inp['HFC'] = x[3]\n",
    "    inp['N2O'] = x[4]\n",
    "    inp['temp'] = x[5]\n",
    "    \n",
    "    lifetime_scaling = alpha_scaling_exp(\n",
    "        inp,\n",
    "        baseline,\n",
    "        normalisation,\n",
    "        params,\n",
    "    )\n",
    "    \n",
    "    for i in range(751):\n",
    "        conc_ch4[i], gas_boxes, airborne_emissions = one_box(\n",
    "            emis_ch4[i],\n",
    "            gas_boxes,\n",
    "            airborne_emissions,\n",
    "            burden_per_emission,\n",
    "            rbase,\n",
    "            lifetime_scaling[i],\n",
    "            partition_fraction,\n",
    "            pre_industrial_concentration,\n",
    "            soil_lifetime=rsoil,\n",
    "            timestep=1,\n",
    "            natural_emissions_adjustment=natural_emissions_adjustment,\n",
    "        )\n",
    "    return conc_ch4\n",
    "\n",
    "\n",
    "p, cov = scipy.optimize.curve_fit(\n",
    "    fit_precursors, \n",
    "    invect[:, :751],\n",
    "    input['CH4'],\n",
    "    bounds = (  # AerChemMIP range +/- a little bit\n",
    "        (0.18, -0.46, 0.11, -0.075, -0.039, -0.0167, 85, 6.3),\n",
    "        (0.26, -0.25, 0.27, -0.006, -0.012, +0.0258, 185, 13.4)\n",
    "    )\n",
    ")"
   ]
  },
  {
   "cell_type": "code",
   "execution_count": null,
   "id": "792a223d",
   "metadata": {},
   "outputs": [],
   "source": [
    "parameters['best_fit'] = {\n",
    "    'base': p[7],\n",
    "    'CH4': p[0],\n",
    "    'NOx': p[1],\n",
    "#    'CO': 0,\n",
    "    'VOC': p[2],\n",
    "    'HFC': p[3],\n",
    "    'N2O': p[4],\n",
    "    'temp': p[5],\n",
    "    'soil': p[6]\n",
    "}\n",
    "p"
   ]
  },
  {
   "cell_type": "code",
   "execution_count": null,
   "id": "4e9360f5",
   "metadata": {},
   "outputs": [],
   "source": [
    "for species in hfc_species:\n",
    "    print(species, p[3] * (hfc_input[species][264] * radiative_efficiency[species])/radiative_efficiency['HFC-134a']/hfc134a_eq[264])"
   ]
  },
  {
   "cell_type": "code",
   "execution_count": null,
   "id": "f7741db8",
   "metadata": {},
   "outputs": [],
   "source": [
    "lifetime_scaling['best_fit'] = alpha_scaling_exp(\n",
    "    input,\n",
    "    baseline,\n",
    "    normalisation,\n",
    "    parameters['best_fit'],\n",
    ")"
   ]
  },
  {
   "cell_type": "code",
   "execution_count": null,
   "id": "9e60f85f",
   "metadata": {},
   "outputs": [],
   "source": [
    "pl.plot(np.arange(1750, 2501), lifetime_scaling['best_fit'] * parameters['best_fit']['base'], label='best_fit')\n",
    "pl.legend()\n",
    "pl.ylabel('CH4 chemical lifetime (yr)')"
   ]
  },
  {
   "cell_type": "code",
   "execution_count": null,
   "id": "937a0807",
   "metadata": {},
   "outputs": [],
   "source": [
    "conc_ch4['best_fit'] = np.zeros(751)\n",
    "gas_boxes = 0\n",
    "airborne_emissions = 0\n",
    "for i in range(751):\n",
    "    conc_ch4['best_fit'][i], gas_boxes, airborne_emissions = one_box(\n",
    "        emis_ch4[i],\n",
    "        gas_boxes,\n",
    "        airborne_emissions,\n",
    "        burden_per_emission,\n",
    "        parameters['best_fit']['base'],\n",
    "        lifetime_scaling['best_fit'][i],\n",
    "        partition_fraction,\n",
    "        pre_industrial_concentration,\n",
    "        soil_lifetime=parameters['best_fit']['soil'],\n",
    "        timestep=1,\n",
    "        natural_emissions_adjustment=natural_emissions_adjustment,\n",
    "    )"
   ]
  },
  {
   "cell_type": "code",
   "execution_count": null,
   "id": "4c16dc15",
   "metadata": {},
   "outputs": [],
   "source": [
    "pl.plot(np.arange(1750, 2501), conc_ch4['best_fit'], label='best_fit')\n",
    "pl.plot(np.arange(1750, 2501), input['CH4'], color='k', label='obs')\n",
    "pl.legend()"
   ]
  },
  {
   "cell_type": "markdown",
   "id": "a6c7a68f",
   "metadata": {},
   "source": [
    "### Compare the SSP3-7.0 fit to other SSPs\n",
    "\n",
    "should do something with the temperature projections here"
   ]
  },
  {
   "cell_type": "code",
   "execution_count": null,
   "id": "77321136",
   "metadata": {},
   "outputs": [],
   "source": [
    "emis_ch4_ssps = {}\n",
    "\n",
    "for ssp in ['ssp119', 'ssp126', 'ssp245', 'ssp370', 'ssp434', 'ssp460', 'ssp534-over', 'ssp585']:\n",
    "    emis_ch4_ssps[ssp] = df_emis.loc[\n",
    "        (df_emis['Scenario']==ssp) & (df_emis['Variable'].str.endswith('CH4')) & \n",
    "        (df_emis['Region']=='World'), '1750':'2500'\n",
    "    ].interpolate(axis=1).values.squeeze()"
   ]
  },
  {
   "cell_type": "code",
   "execution_count": null,
   "id": "e6d8ad11",
   "metadata": {},
   "outputs": [],
   "source": [
    "for ssp in ['ssp119', 'ssp126', 'ssp245', 'ssp370', 'ssp434', 'ssp460', 'ssp534-over', 'ssp585']:\n",
    "    conc_ch4[ssp] = np.zeros(751)\n",
    "    gas_boxes = 0\n",
    "    airborne_emissions = 0\n",
    "    for i in range(751):\n",
    "        conc_ch4[ssp][i], gas_boxes, airborne_emissions = one_box(\n",
    "            emis_ch4_ssps[ssp][i],\n",
    "            gas_boxes,\n",
    "            airborne_emissions,\n",
    "            burden_per_emission,\n",
    "            parameters['best_fit']['base'],\n",
    "            lifetime_scaling['best_fit'][i],\n",
    "            partition_fraction,\n",
    "            pre_industrial_concentration,\n",
    "            soil_lifetime=parameters['best_fit']['soil'],\n",
    "            timestep=1,\n",
    "            natural_emissions_adjustment=natural_emissions_adjustment,\n",
    "        )"
   ]
  },
  {
   "cell_type": "code",
   "execution_count": null,
   "id": "f945ea9b",
   "metadata": {},
   "outputs": [],
   "source": [
    "for ssp in ['ssp119', 'ssp126', 'ssp245', 'ssp370', 'ssp434', 'ssp460', 'ssp534-over', 'ssp585']:\n",
    "    pl.plot(np.arange(1750, 2501), conc_ch4[ssp], label=ssp)\n",
    "#pl.plot(np.arange(1750, 2501), input['CH4'], color='k', label='obs')\n",
    "pl.legend()"
   ]
  },
  {
   "cell_type": "markdown",
   "id": "f6e15dd4",
   "metadata": {},
   "source": [
    "## Step 4\n",
    "\n",
    "Run a Monte Carlo around these parameters"
   ]
  },
  {
   "cell_type": "code",
   "execution_count": null,
   "id": "82e5672f",
   "metadata": {},
   "outputs": [],
   "source": [
    "samples = 25000"
   ]
  },
  {
   "cell_type": "code",
   "execution_count": null,
   "id": "f86841dd",
   "metadata": {},
   "outputs": [],
   "source": [
    "param_mc = []\n",
    "base = scipy.stats.uniform.rvs(9, 15-9, size=samples, random_state=1001251)\n",
    "#ch4 = scipy.stats.uniform.rvs(0.18, 0.26-0.18, size=samples, random_state=21260)  # extend?\n",
    "ch4 = scipy.stats.uniform.rvs(0.12, 0.32-0.12, size=samples, random_state=21260)\n",
    "#nox = scipy.stats.uniform.rvs(-0.46, -0.25-(-0.46), size=samples, random_state=3936801)\n",
    "nox = scipy.stats.uniform.rvs(-0.53, -0.18-(-0.53), size=samples, random_state=3936801)\n",
    "co = np.zeros(samples)\n",
    "#voc = scipy.stats.uniform.rvs(0.11, 0.27-0.11, size=samples, random_state=10372947)\n",
    "voc = scipy.stats.uniform.rvs(0.05, 0.33-0.05, size=samples, random_state=10372947)\n",
    "hfc = scipy.stats.uniform.rvs(-0.075, -0.006-(-0.075), size=samples, random_state=9165539)\n",
    "n2o = scipy.stats.uniform.rvs(-0.039, -0.012-(-0.039), size=samples, random_state=442935)\n",
    "#temp = scipy.stats.uniform.rvs(-0.0167, 0.0258-(-0.0167), size=samples, random_state=1930159)\n",
    "temp = scipy.stats.uniform.rvs(-0.025, 0.035-(-0.025), size=samples, random_state=1930159)\n",
    "soil = scipy.stats.uniform.rvs(135-44*2, 135+44*2, size=samples, random_state=6645293)\n",
    "\n",
    "for sample in range(samples):\n",
    "    param_mc.append(\n",
    "        {\n",
    "            'base': base[sample],\n",
    "            'CH4': ch4[sample],\n",
    "            'NOx': nox[sample],\n",
    "            'CO': co[sample],\n",
    "            'VOC': voc[sample],\n",
    "            'HFC': hfc[sample],\n",
    "            'N2O': n2o[sample],\n",
    "            'temp': temp[sample],\n",
    "            'soil': soil[sample]\n",
    "        }\n",
    "    )"
   ]
  },
  {
   "cell_type": "code",
   "execution_count": null,
   "id": "e8cc2e1a",
   "metadata": {},
   "outputs": [],
   "source": [
    "conc_ch4_mc = {}\n",
    "for sample in tqdm(range(samples)):\n",
    "    conc_ch4_mc[sample] = np.zeros(751)\n",
    "    gas_boxes = 0\n",
    "    airborne_emissions = 0\n",
    "    lifetime_scaling_mc = alpha_scaling_exp(\n",
    "        input,\n",
    "        baseline,\n",
    "        normalisation,\n",
    "        param_mc[sample],\n",
    "    )\n",
    "    for i in range(751):\n",
    "        conc_ch4_mc[sample][i], gas_boxes, airborne_emissions = one_box(\n",
    "            emis_ch4[i],\n",
    "            gas_boxes,\n",
    "            airborne_emissions,\n",
    "            burden_per_emission,\n",
    "            param_mc[sample]['base'],\n",
    "            lifetime_scaling_mc[i],\n",
    "            partition_fraction,\n",
    "            pre_industrial_concentration,\n",
    "            soil_lifetime=param_mc[sample]['soil'],\n",
    "            timestep=1,\n",
    "            natural_emissions_adjustment=natural_emissions_adjustment,\n",
    "        )"
   ]
  },
  {
   "cell_type": "code",
   "execution_count": null,
   "id": "a67aba67",
   "metadata": {},
   "outputs": [],
   "source": [
    "input['CH4'][264]"
   ]
  },
  {
   "cell_type": "code",
   "execution_count": null,
   "id": "60d41e31",
   "metadata": {},
   "outputs": [],
   "source": [
    "accept = np.zeros(samples, dtype=bool)\n",
    "for sample in range(samples):\n",
    "    if input['CH4'][264] - 10 < conc_ch4_mc[sample][264] < input['CH4'][264] + 10:\n",
    "        accept[sample] = True"
   ]
  },
  {
   "cell_type": "code",
   "execution_count": null,
   "id": "93d130a3",
   "metadata": {},
   "outputs": [],
   "source": [
    "np.sum(accept)"
   ]
  },
  {
   "cell_type": "code",
   "execution_count": null,
   "id": "88b70c71",
   "metadata": {},
   "outputs": [],
   "source": [
    "for sample in range(samples):\n",
    "    if accept[sample]:\n",
    "        pl.plot(np.arange(1750, 2501), conc_ch4_mc[sample])\n",
    "pl.plot(np.arange(1750, 2501), input['CH4'], color='k')"
   ]
  },
  {
   "cell_type": "code",
   "execution_count": null,
   "id": "a8053953",
   "metadata": {},
   "outputs": [],
   "source": [
    "for sample in range(samples):\n",
    "    if accept[sample]:\n",
    "        pl.plot(np.arange(1750, 2021), conc_ch4_mc[sample][:271])\n",
    "pl.plot(np.arange(1750, 2021), input['CH4'][:271], color='k')"
   ]
  },
  {
   "cell_type": "code",
   "execution_count": null,
   "id": "7061b703",
   "metadata": {},
   "outputs": [],
   "source": [
    "pl.hist(base[accept])  # we're wasting time looking below tau = 9, and we can explore more tau > 13"
   ]
  },
  {
   "cell_type": "code",
   "execution_count": null,
   "id": "a8f2ae03",
   "metadata": {},
   "outputs": [],
   "source": [
    "pl.hist(ch4[accept])  # no surprise that CH4 sensitivity is probably overconstrained"
   ]
  },
  {
   "cell_type": "code",
   "execution_count": null,
   "id": "c9541b1d",
   "metadata": {},
   "outputs": [],
   "source": [
    "pl.hist(nox[accept])  # a wide range of nox sensitivities are possible"
   ]
  },
  {
   "cell_type": "code",
   "execution_count": null,
   "id": "1109fd70",
   "metadata": {},
   "outputs": [],
   "source": [
    "pl.hist(voc[accept])"
   ]
  },
  {
   "cell_type": "code",
   "execution_count": null,
   "id": "c88bf7c6",
   "metadata": {},
   "outputs": [],
   "source": [
    "pl.hist(temp[accept])"
   ]
  },
  {
   "cell_type": "code",
   "execution_count": null,
   "id": "5e13889f",
   "metadata": {},
   "outputs": [],
   "source": [
    "pl.hist(soil[accept])"
   ]
  },
  {
   "cell_type": "code",
   "execution_count": null,
   "id": "6dc509fd",
   "metadata": {},
   "outputs": [],
   "source": [
    "1 / (1/10 + 1/180)"
   ]
  },
  {
   "cell_type": "code",
   "execution_count": null,
   "id": "10ae6cf4",
   "metadata": {},
   "outputs": [],
   "source": [
    "(1/12) / (1/10 + 1/180)"
   ]
  },
  {
   "cell_type": "code",
   "execution_count": null,
   "id": "2b57aef3",
   "metadata": {},
   "outputs": [],
   "source": [
    "(1) / ((1/12)/10 + (1/12)/180)"
   ]
  },
  {
   "cell_type": "code",
   "execution_count": null,
   "id": "ed03a51b",
   "metadata": {},
   "outputs": [],
   "source": [
    "# decay rate yearly\n",
    "1 / 10"
   ]
  },
  {
   "cell_type": "code",
   "execution_count": null,
   "id": "e32f4764",
   "metadata": {},
   "outputs": [],
   "source": [
    "# decay rate monthly\n",
    "(1/12) / 10"
   ]
  },
  {
   "cell_type": "code",
   "execution_count": null,
   "id": "db0ebee5",
   "metadata": {},
   "outputs": [],
   "source": [
    "# new decay rate yearly\n",
    "1/ (1 / (1/10 + 1/180))"
   ]
  },
  {
   "cell_type": "code",
   "execution_count": null,
   "id": "940d66aa",
   "metadata": {},
   "outputs": [],
   "source": [
    "# new decay rate monthly\n",
    "(1/12) / (1 / (1/10 + 1/180))"
   ]
  },
  {
   "cell_type": "code",
   "execution_count": null,
   "id": "1936f4f7",
   "metadata": {},
   "outputs": [],
   "source": [
    "(1) / (1/12 / (1/10 + 1/180))"
   ]
  },
  {
   "cell_type": "code",
   "execution_count": null,
   "id": "f49e146d",
   "metadata": {},
   "outputs": [],
   "source": []
  }
 ],
 "metadata": {
  "kernelspec": {
   "display_name": "Python 3 (ipykernel)",
   "language": "python",
   "name": "python3"
  },
  "language_info": {
   "codemirror_mode": {
    "name": "ipython",
    "version": 3
   },
   "file_extension": ".py",
   "mimetype": "text/x-python",
   "name": "python",
   "nbconvert_exporter": "python",
   "pygments_lexer": "ipython3",
   "version": "3.7.12"
  }
 },
 "nbformat": 4,
 "nbformat_minor": 5
}
