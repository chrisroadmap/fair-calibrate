{
 "cells": [
  {
   "cell_type": "markdown",
   "id": "dedc9bed",
   "metadata": {},
   "source": [
    "# New methane lifetime treatment within FaIR\n",
    "\n",
    "- all species emissions driven\n",
    "- interactive temperatures\n",
    "- CMIP6 model calibrations\n",
    "\n",
    "We might expect historical lifetimes to be marginally off as it's possible model-generated temperatures will be too warm."
   ]
  },
  {
   "cell_type": "code",
   "execution_count": null,
   "id": "98e58080",
   "metadata": {},
   "outputs": [],
   "source": [
    "import numpy as np\n",
    "import pandas as pd\n",
    "import matplotlib.pyplot as pl\n",
    "import scipy.stats\n",
    "from tqdm import tqdm\n",
    "\n",
    "from fair21 import FAIR\n",
    "from fair21.interface import initialise, fill\n",
    "from fair21.io import read_properties"
   ]
  },
  {
   "cell_type": "code",
   "execution_count": null,
   "id": "303b7de0",
   "metadata": {},
   "outputs": [],
   "source": [
    "%load_ext autoreload"
   ]
  },
  {
   "cell_type": "code",
   "execution_count": null,
   "id": "1fe20b58",
   "metadata": {},
   "outputs": [],
   "source": [
    "%autoreload 2"
   ]
  },
  {
   "cell_type": "code",
   "execution_count": null,
   "id": "204d66f4",
   "metadata": {},
   "outputs": [],
   "source": [
    "scenarios = ['ssp119', 'ssp126', 'ssp245', 'ssp370', 'ssp434', 'ssp460', 'ssp534-over', 'ssp585']"
   ]
  },
  {
   "cell_type": "code",
   "execution_count": null,
   "id": "c583bbe6",
   "metadata": {},
   "outputs": [],
   "source": [
    "df = pd.read_csv(\"../data/calibration/4xCO2_cummins.csv\")\n",
    "models = df['model'].unique()\n",
    "\n",
    "configs = []\n",
    "\n",
    "seedgen = 1355763\n",
    "for imodel, model in enumerate(models):\n",
    "    for run in df.loc[df['model']==model, 'run']:\n",
    "#        condition = (df['model']==model) & (df['run']==run)\n",
    "        configs.append(f\"{model}_{run}\")\n",
    "#         climate_response = ClimateResponse(\n",
    "#             ocean_heat_capacity = df.loc[condition, 'C1':'C3'].values.squeeze(),\n",
    "#             ocean_heat_transfer = df.loc[condition, 'kappa1':'kappa3'].values.squeeze(),\n",
    "#             deep_ocean_efficacy = df.loc[condition, 'epsilon'].values[0],\n",
    "#             gamma_autocorrelation = df.loc[condition, 'gamma'].values[0],\n",
    "#             sigma_eta = df.loc[condition, 'sigma_eta'].values[0],\n",
    "#             sigma_xi = df.loc[condition, 'sigma_xi'].values[0],\n",
    "#             stochastic_run = True,\n",
    "#             seed = seedgen\n",
    "#         )\n",
    "#         seedgen = seedgen+399\n",
    "#         species_config = [species_config_from_default(species) for species in species_to_include]\n",
    "        \n",
    "#         # edit the methane characteristics\n",
    "#         species_config[2].lifetime = 10.788405534387858\n",
    "#         species_config[2].natural_emissions_adjustment = 19.019783117809567\n",
    "#         species_config[2].soil_lifetime = 185\n",
    "        \n",
    "#         configs.append(Config(config_name, climate_response, species_config))"
   ]
  },
  {
   "cell_type": "code",
   "execution_count": null,
   "id": "cf5e5e4f",
   "metadata": {},
   "outputs": [],
   "source": [
    "species, properties = read_properties()"
   ]
  },
  {
   "cell_type": "code",
   "execution_count": null,
   "id": "32710566",
   "metadata": {},
   "outputs": [],
   "source": [
    "f = FAIR(ch4_method='thornhill2021')\n",
    "f.define_time(1750, 2500, 1)\n",
    "f.define_configs(configs)\n",
    "f.define_scenarios(scenarios)\n",
    "f.define_species(species, properties)"
   ]
  },
  {
   "cell_type": "code",
   "execution_count": null,
   "id": "9fc3b7d8",
   "metadata": {},
   "outputs": [],
   "source": [
    "f.allocate()"
   ]
  },
  {
   "cell_type": "code",
   "execution_count": null,
   "id": "a696e28c",
   "metadata": {},
   "outputs": [],
   "source": [
    "seed = 1355763\n",
    "\n",
    "fill(f.climate_configs['stochastic_run'], True)\n",
    "fill(f.climate_configs['use_seed'], True)\n",
    "\n",
    "for imodel, model in enumerate(models):\n",
    "    for run in df.loc[df['model']==model, 'run']:\n",
    "        condition = (df['model']==model) & (df['run']==run)\n",
    "        config = f\"{model}_{run}\"\n",
    "        fill(f.climate_configs['ocean_heat_capacity'], df.loc[condition, 'C1':'C3'].values.squeeze(), config=config)\n",
    "        fill(f.climate_configs['ocean_heat_transfer'], df.loc[condition, 'kappa1':'kappa3'].values.squeeze(), config=config)\n",
    "        fill(f.climate_configs['deep_ocean_efficacy'], df.loc[condition, 'epsilon'].values[0], config=config)\n",
    "        fill(f.climate_configs['gamma_autocorrelation'], df.loc[condition, 'gamma'].values[0], config=config)\n",
    "        fill(f.climate_configs['sigma_eta'], df.loc[condition, 'sigma_eta'].values[0], config=config)\n",
    "        fill(f.climate_configs['sigma_xi'], df.loc[condition, 'sigma_xi'].values[0], config=config)\n",
    "        fill(f.climate_configs['seed'], seed, config=config)\n",
    "        \n",
    "        seed=seed+399"
   ]
  },
  {
   "cell_type": "code",
   "execution_count": null,
   "id": "f0c9217e",
   "metadata": {},
   "outputs": [],
   "source": [
    "f.fill_species_configs()"
   ]
  },
  {
   "cell_type": "code",
   "execution_count": null,
   "id": "01085434",
   "metadata": {},
   "outputs": [],
   "source": [
    "fill(f.species_configs['unperturbed_lifetime'], 10.4198121, specie='CH4')\n",
    "fill(f.species_configs['baseline_emissions'], 19.019783117809567, specie='CH4')\n",
    "fill(f.species_configs['baseline_emissions'], 0.08602230754, specie='N2O')"
   ]
  },
  {
   "cell_type": "code",
   "execution_count": null,
   "id": "82f871cc",
   "metadata": {},
   "outputs": [],
   "source": [
    "# this is slow, slower than running FaIR! We should move to a binary format and purge all the junk\n",
    "f.fill_from_rcmip()"
   ]
  },
  {
   "cell_type": "code",
   "execution_count": null,
   "id": "041b05b8",
   "metadata": {},
   "outputs": [],
   "source": [
    "initialise(f.temperature, 0)\n",
    "initialise(f.forcing, 0)\n",
    "initialise(f.cumulative_emissions, 0)\n",
    "initialise(f.airborne_emissions, 0)\n",
    "initialise(f.concentration, f.species_configs['baseline_concentration'])"
   ]
  },
  {
   "cell_type": "code",
   "execution_count": null,
   "id": "3a81ba30",
   "metadata": {},
   "outputs": [],
   "source": [
    "f.species_configs"
   ]
  },
  {
   "cell_type": "code",
   "execution_count": null,
   "id": "55cbfc95",
   "metadata": {},
   "outputs": [],
   "source": [
    "f.run()"
   ]
  },
  {
   "cell_type": "code",
   "execution_count": null,
   "id": "066e1e6d",
   "metadata": {},
   "outputs": [],
   "source": [
    "df_conc = pd.read_csv('../data/rcmip/rcmip-concentrations-annual-means-v5-1-0.csv')\n",
    "conc_ch4 = {}\n",
    "for scenario in scenarios:\n",
    "    conc_ch4[scenario] = df_conc.loc[\n",
    "        (df_conc['Scenario']==scenario) & (df_conc['Variable'].str.endswith(\"|CH4\")) & \n",
    "        (df_conc['Region']=='World'), '1750':'2500'\n",
    "    ].interpolate(axis=1).values.squeeze()"
   ]
  },
  {
   "cell_type": "code",
   "execution_count": null,
   "id": "03a5384f",
   "metadata": {},
   "outputs": [],
   "source": [
    "fig, ax = pl.subplots(2, 4, figsize=(16,9))\n",
    "for iscen, scenario in enumerate(scenarios):\n",
    "    ax[iscen//4, iscen%4].plot(f.timebounds, f.concentration.loc[dict(scenario=scenario, specie='CH4')]);\n",
    "    ax[iscen//4, iscen%4].plot(f.timebounds, conc_ch4[scenario][:], color='k', label='MAGICC CMIP6')\n",
    "    ax[iscen//4, iscen%4].set_title(scenario)\n",
    "ax[iscen//4, iscen%4].legend();"
   ]
  },
  {
   "cell_type": "code",
   "execution_count": null,
   "id": "ccf4602c",
   "metadata": {},
   "outputs": [],
   "source": [
    "fig, ax = pl.subplots(2, 4, figsize=(16,9))\n",
    "for i in range(8):\n",
    "    ax[i//4, i%4].plot(f.alpha_lifetime[:,i,:,3] * 10.4198121);\n",
    "    ax[i//4, i%4].set_title(scenarios[i])"
   ]
  },
  {
   "cell_type": "code",
   "execution_count": null,
   "id": "3a6db88c",
   "metadata": {},
   "outputs": [],
   "source": [
    "fig, ax = pl.subplots(2, 4, figsize=(16, 10))\n",
    "\n",
    "for i in range(8):\n",
    "    ax[i//4,i%4].fill_between(\n",
    "        f.timebounds, \n",
    "        np.min(f.temperature[:, i, :, 0]-f.temperature[100:151, i, :, 0].mean(axis=0), axis=1), \n",
    "        np.max(f.temperature[:, i, :, 0]-f.temperature[100:151, i, :, 0].mean(axis=0), axis=1),\n",
    "        color='#000000',\n",
    "        alpha=0.2,\n",
    "    )\n",
    "    ax[i//4,i%4].fill_between(\n",
    "        f.timebounds, \n",
    "        np.percentile(f.temperature[:, i, :, 0]-f.temperature[100:151, i, :, 0].mean(axis=0), 5, axis=1), \n",
    "        np.percentile(f.temperature[:, i, :, 0]-f.temperature[100:151, i, :, 0].mean(axis=0), 95, axis=1),\n",
    "        color='#000000',\n",
    "        alpha=0.2,\n",
    "    )\n",
    "    ax[i//4,i%4].fill_between(\n",
    "        f.timebounds, \n",
    "        np.percentile(f.temperature[:, i, :, 0]-f.temperature[100:151, i, :, 0].mean(axis=0), 16, axis=1), \n",
    "        np.percentile(f.temperature[:, i, :, 0]-f.temperature[100:151, i, :, 0].mean(axis=0), 84, axis=1),\n",
    "        color='#000000',\n",
    "        alpha=0.2,\n",
    "    )\n",
    "    ax[i//4,i%4].plot(\n",
    "        f.timebounds, \n",
    "        np.median(f.temperature[:, i, :, 0]-f.temperature[100:151, i, :, 0].mean(axis=0), axis=1), \n",
    "        color='#000000',\n",
    "    )\n",
    "    ax[i//4, i%4].plot(2021, 1.2, 'bx')\n",
    "    ax[i//4,i%4].set_xlim(1850,2100)\n",
    "    ax[i//4,i%4].set_ylim(-1, 10)\n",
    "    ax[i//4,i%4].axhline(0, color='k', ls=\":\", lw=0.5)\n",
    "    ax[i//4,i%4].set_title(scenarios[i])\n",
    "pl.suptitle('Temperature anomaly')"
   ]
  },
  {
   "cell_type": "code",
   "execution_count": null,
   "id": "5eb7eb3e",
   "metadata": {},
   "outputs": [],
   "source": [
    "f.concentration[269, 3, :, 3]"
   ]
  },
  {
   "cell_type": "code",
   "execution_count": null,
   "id": "11c7dce7",
   "metadata": {},
   "outputs": [],
   "source": []
  }
 ],
 "metadata": {
  "kernelspec": {
   "display_name": "Python 3 (ipykernel)",
   "language": "python",
   "name": "python3"
  },
  "language_info": {
   "codemirror_mode": {
    "name": "ipython",
    "version": 3
   },
   "file_extension": ".py",
   "mimetype": "text/x-python",
   "name": "python",
   "nbconvert_exporter": "python",
   "pygments_lexer": "ipython3",
   "version": "3.7.12"
  }
 },
 "nbformat": 4,
 "nbformat_minor": 5
}
