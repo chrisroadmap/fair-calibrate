{
 "cells": [
  {
   "cell_type": "markdown",
   "id": "dedc9bed",
   "metadata": {},
   "source": [
    "# New methane lifetime treatment within FaIR\n",
    "\n",
    "- all species emissions driven\n",
    "- interactive temperatures\n",
    "- CMIP6 model calibrations\n",
    "\n",
    "We might expect historical lifetimes to be marginally off as it's possible temperatures will be too warm"
   ]
  },
  {
   "cell_type": "code",
   "execution_count": null,
   "id": "98e58080",
   "metadata": {},
   "outputs": [],
   "source": [
    "import numpy as np\n",
    "import pandas as pd\n",
    "import matplotlib.pyplot as pl\n",
    "import time\n",
    "import scipy.stats\n",
    "\n",
    "from tqdm import tqdm\n",
    "from fair21 import SpeciesID, Category, Config, Species, RunMode, Scenario, ClimateResponse, RunConfig, CH4LifetimeMethod, FAIR\n",
    "from fair21.defaults import species_config_from_default"
   ]
  },
  {
   "cell_type": "code",
   "execution_count": null,
   "id": "afcbdc21",
   "metadata": {},
   "outputs": [],
   "source": [
    "species_ids = {\n",
    "    # Greenhouse gases and precursors\n",
    "    'CO2_FFI': SpeciesID('CO2 fossil fuel and industrial', Category.CO2_FFI),\n",
    "    'CO2_AFOLU': SpeciesID('CO2 AFOLU', Category.CO2_AFOLU),\n",
    "    'CO2': SpeciesID('CO2', Category.CO2),\n",
    "    'CH4': SpeciesID('CH4', Category.CH4),\n",
    "    'N2O': SpeciesID('N2O', Category.N2O),\n",
    "    'CFC-11': SpeciesID('CFC-11', Category.CFC_11),\n",
    "    'CFC-12': SpeciesID('CFC-12', Category.OTHER_HALOGEN),\n",
    "    'CFC-113': SpeciesID('CFC-113', Category.OTHER_HALOGEN),\n",
    "    'CFC-114': SpeciesID('CFC-114', Category.OTHER_HALOGEN),\n",
    "    'CFC-115': SpeciesID('CFC-115', Category.OTHER_HALOGEN),\n",
    "    'HCFC-22': SpeciesID('HCFC-22', Category.OTHER_HALOGEN),\n",
    "    'HCFC-141b': SpeciesID('HCFC-141b', Category.OTHER_HALOGEN),\n",
    "    'HCFC-142b': SpeciesID('HCFC-142b', Category.OTHER_HALOGEN),\n",
    "    'CCl4': SpeciesID('CCl4', Category.OTHER_HALOGEN),\n",
    "    'CHCl3': SpeciesID('CHCl3', Category.OTHER_HALOGEN),\n",
    "    'CH2Cl2': SpeciesID('CH2Cl2', Category.OTHER_HALOGEN),\n",
    "    'CH3Cl': SpeciesID('CH3Cl', Category.OTHER_HALOGEN),\n",
    "    'CH3CCl3': SpeciesID('CH3CCl3', Category.OTHER_HALOGEN),\n",
    "    'CH3Br': SpeciesID('CH3Br', Category.OTHER_HALOGEN),\n",
    "    'Halon-1211': SpeciesID('Halon-1211', Category.OTHER_HALOGEN),\n",
    "    'Halon-1301': SpeciesID('Halon-1301', Category.OTHER_HALOGEN),\n",
    "    'Halon-2402': SpeciesID('Halon-2402', Category.OTHER_HALOGEN),\n",
    "    'CF4': SpeciesID('CF4', Category.F_GAS),\n",
    "    'C2F6': SpeciesID('C2F6', Category.F_GAS),\n",
    "    'C3F8': SpeciesID('C3F8', Category.F_GAS),\n",
    "    'c-C4F8': SpeciesID('C-C4F8', Category.F_GAS),\n",
    "    'C4F10': SpeciesID('C4F10', Category.F_GAS),\n",
    "    'C5F12': SpeciesID('C5F12', Category.F_GAS),\n",
    "    'C6F14': SpeciesID('C6F14', Category.F_GAS),\n",
    "    'C7F16': SpeciesID('C7F16', Category.F_GAS),\n",
    "    'C8F18': SpeciesID('C8F18', Category.F_GAS),\n",
    "    'HFC-125': SpeciesID('HFC-125', Category.F_GAS),\n",
    "    'HFC-134a': SpeciesID('HFC-134a', Category.F_GAS),\n",
    "    'HFC-143a': SpeciesID('HFC-143a', Category.F_GAS),\n",
    "    'HFC-152a': SpeciesID('HFC-152a', Category.F_GAS),\n",
    "    'HFC-227ea': SpeciesID('HFC-227ea', Category.F_GAS),\n",
    "    'HFC-23': SpeciesID('HFC-23', Category.F_GAS),\n",
    "    'HFC-236fa': SpeciesID('HFC-236fa', Category.F_GAS),\n",
    "    'HFC-245fa': SpeciesID('HFC-245fa', Category.F_GAS),\n",
    "    'HFC-32': SpeciesID('HFC-32', Category.F_GAS),\n",
    "    'HFC-365mfc': SpeciesID('HFC-365mfc', Category.F_GAS),\n",
    "    'HFC-4310mee': SpeciesID('HFC-4310mee', Category.F_GAS),\n",
    "    'NF3': SpeciesID('NF3', Category.F_GAS),\n",
    "    'SF6': SpeciesID('SF6', Category.F_GAS),\n",
    "    'SO2F2': SpeciesID('SO2F2', Category.F_GAS),\n",
    "    # aerosols, ozone, and their precursors\n",
    "    'Sulfur': SpeciesID('Sulfur', Category.SULFUR),\n",
    "    'BC': SpeciesID('BC', Category.BC),\n",
    "    'OC': SpeciesID('OC', Category.OC),\n",
    "    'NH3': SpeciesID('NH3', Category.OTHER_AEROSOL),\n",
    "    'VOC': SpeciesID('VOC', Category.REACTIVE_GAS),\n",
    "    'CO': SpeciesID('CO', Category.REACTIVE_GAS),\n",
    "    'NOx': SpeciesID('NOx', Category.REACTIVE_GAS),\n",
    "    'ari': SpeciesID('Aerosol-Radiation Interactions', Category.AEROSOL_RADIATION_INTERACTIONS),\n",
    "    'aci': SpeciesID('Aerosol-Cloud Interactions', Category.AEROSOL_CLOUD_INTERACTIONS),\n",
    "    'ozone': SpeciesID('Ozone', Category.OZONE),\n",
    "    # Contrails and precursors\n",
    "    'NOx_aviation': SpeciesID('NOx Aviation', Category.NOX_AVIATION),\n",
    "    'contrails': SpeciesID('Contrails', Category.CONTRAILS),\n",
    "    # other minor anthropogenic\n",
    "    'lapsi': SpeciesID('Light absorbing particles on snow and ice', Category.LAPSI),\n",
    "    'H2O_stratospheric': SpeciesID('H2O Stratospheric', Category.H2O_STRATOSPHERIC),\n",
    "    'land_use': SpeciesID('Land Use', Category.LAND_USE),\n",
    "    # natural\n",
    "    'solar': SpeciesID('Solar', Category.SOLAR),\n",
    "    'volcanic': SpeciesID('Volcanic', Category.VOLCANIC)\n",
    "}"
   ]
  },
  {
   "cell_type": "code",
   "execution_count": null,
   "id": "204d66f4",
   "metadata": {},
   "outputs": [],
   "source": [
    "scenarios_to_include = ['ssp119', 'ssp126', 'ssp245', 'ssp370', 'ssp434', 'ssp460', 'ssp534-over', 'ssp585']"
   ]
  },
  {
   "cell_type": "code",
   "execution_count": null,
   "id": "066e1e6d",
   "metadata": {},
   "outputs": [],
   "source": [
    "df_emis = pd.read_csv('../data/rcmip/rcmip-emissions-annual-means-v5-1-0.csv')\n",
    "df_conc = pd.read_csv('../data/rcmip/rcmip-concentrations-annual-means-v5-1-0.csv')\n",
    "df_forc = pd.read_csv('../data/forcing/table_A3.3_historical_ERF_1750-2019_best_estimate.csv')"
   ]
  },
  {
   "cell_type": "code",
   "execution_count": null,
   "id": "64d1008b",
   "metadata": {},
   "outputs": [],
   "source": [
    "# these will use the dict keys from above rather than the actual species names.\n",
    "# Remember, order is not important, but we need to have consistency between the order the species are input here and in the\n",
    "# SpeciesConfigs later on.\n",
    "\n",
    "# We'll use mixed-case here, because we want to extract these species from the RCMIP database and that's how they're \n",
    "# entered there.\n",
    "emitted_species = [\n",
    "    'CO2_FFI', 'CO2_AFOLU', 'CH4', 'N2O',\n",
    "    'Sulfur', 'BC', 'OC', 'NH3', 'NOx', 'VOC', 'CO',\n",
    "    'CFC-11', 'CFC-12', 'CFC-113', 'CFC-114', 'CFC-115',\n",
    "    'HCFC-22', 'HCFC-141b', 'HCFC-142b',\n",
    "    'CCl4', 'CHCl3', 'CH2Cl2', 'CH3Cl', 'CH3CCl3', 'CH3Br',\n",
    "    'Halon-1211', 'Halon-1301', 'Halon-2402',\n",
    "    'CF4', 'C2F6', 'C3F8', 'c-C4F8', 'C4F10', 'C5F12', 'C6F14', 'C7F16', 'C8F18',\n",
    "    'NF3', 'SF6', 'SO2F2',\n",
    "    'HFC-125', 'HFC-134a', 'HFC-143a', 'HFC-152a', 'HFC-227ea', 'HFC-23', 'HFC-236fa', 'HFC-245fa', 'HFC-32', \n",
    "    'HFC-365mfc', 'HFC-4310mee', 'NOx_aviation']\n",
    "forced_species = ['solar', 'volcanic']\n",
    "from_other_species = ['CO2', 'ari', 'aci', 'ozone', 'contrails', 'lapsi', 'H2O_stratospheric', 'land_use']\n",
    "\n",
    "species_to_include = emitted_species + forced_species + from_other_species"
   ]
  },
  {
   "cell_type": "code",
   "execution_count": null,
   "id": "78b43ea0",
   "metadata": {},
   "outputs": [],
   "source": [
    "scenarios = []\n",
    "for iscen, scenario in enumerate(scenarios_to_include):\n",
    "    list_of_species = []\n",
    "    for ispec, species in enumerate(emitted_species):\n",
    "        species_rcmip_name = species.replace(\"-\", \"\")\n",
    "        if species == 'NOx_aviation':\n",
    "            species_rcmip_name = 'NOx|MAGICC Fossil and Industrial|Aircraft'\n",
    "        elif species == 'CO2_FFI':\n",
    "            species_rcmip_name = 'CO2|MAGICC Fossil and Industrial'\n",
    "        elif species == 'CO2_AFOLU':\n",
    "            species_rcmip_name = 'CO2|MAGICC AFOLU'\n",
    "        emis_in = df_emis.loc[\n",
    "            (df_emis['Scenario']==scenario) & (df_emis['Variable'].str.endswith(\"|\"+species_rcmip_name)) & \n",
    "            (df_emis['Region']=='World'), '1750':'2500'\n",
    "        ].interpolate(axis=1).values.squeeze()\n",
    "\n",
    "        # CO2 and N2O units need to behave: TODO, sort this out\n",
    "        if species in ('CO2_FFI', 'CO2_AFOLU', 'N2O'):\n",
    "            emis_in = emis_in / 1000\n",
    "        list_of_species.append(Species(species_ids[species], emissions=emis_in))\n",
    "        \n",
    "    # solar and volcanic forcing still a little hacky\n",
    "    solar_forcing = np.zeros(751)\n",
    "    solar_forcing[:270] = df_forc['solar'].values\n",
    "    volcanic_forcing = np.zeros(751)\n",
    "    volcanic_forcing[:270] = df_forc['volcanic'].values\n",
    "    list_of_species.append(Species(species_ids['solar'], forcing=solar_forcing))\n",
    "    list_of_species.append(Species(species_ids['volcanic'], forcing=volcanic_forcing))\n",
    "    \n",
    "    # add derived species: at this stage just a declaration that we want them\n",
    "    for species in from_other_species:\n",
    "        list_of_species.append(Species(species_ids[species]))\n",
    "        \n",
    "    scenarios.append(Scenario(scenario, list_of_species))"
   ]
  },
  {
   "cell_type": "code",
   "execution_count": null,
   "id": "79001fef",
   "metadata": {},
   "outputs": [],
   "source": [
    "conc_ch4 = {}\n",
    "for scenario in scenarios_to_include:\n",
    "    conc_ch4[scenario] = df_conc.loc[\n",
    "        (df_conc['Scenario']==scenario) & (df_conc['Variable'].str.endswith(\"|CH4\")) & \n",
    "        (df_conc['Region']=='World'), '1750':'2500'\n",
    "    ].interpolate(axis=1).values.squeeze()"
   ]
  },
  {
   "cell_type": "code",
   "execution_count": null,
   "id": "c583bbe6",
   "metadata": {},
   "outputs": [],
   "source": [
    "df = pd.read_csv(\"../data/calibration/4xCO2_cummins.csv\")\n",
    "models = df['model'].unique()\n",
    "\n",
    "params = {}\n",
    "\n",
    "configs = []\n",
    "\n",
    "seedgen = 1355763\n",
    "for imodel, model in enumerate(models):\n",
    "    for run in df.loc[df['model']==model, 'run']:\n",
    "        condition = (df['model']==model) & (df['run']==run)\n",
    "        config_name = f\"{model}_{run}\"\n",
    "        climate_response = ClimateResponse(\n",
    "            ocean_heat_capacity = df.loc[condition, 'C1':'C3'].values.squeeze(),\n",
    "            ocean_heat_transfer = df.loc[condition, 'kappa1':'kappa3'].values.squeeze(),\n",
    "            deep_ocean_efficacy = df.loc[condition, 'epsilon'].values[0],\n",
    "            gamma_autocorrelation = df.loc[condition, 'gamma'].values[0],\n",
    "            sigma_eta = df.loc[condition, 'sigma_eta'].values[0],\n",
    "            sigma_xi = df.loc[condition, 'sigma_xi'].values[0],\n",
    "            stochastic_run = True,\n",
    "            seed = seedgen\n",
    "        )\n",
    "        seedgen = seedgen+399\n",
    "        species_config = [species_config_from_default(species) for species in species_to_include]\n",
    "        \n",
    "        # edit the methane characteristics\n",
    "        species_config[2].lifetime = 10.788405534387858\n",
    "        species_config[2].natural_emissions_adjustment = 19.019783117809567\n",
    "        species_config[2].soil_lifetime = 185\n",
    "        \n",
    "        configs.append(Config(config_name, climate_response, species_config))"
   ]
  },
  {
   "cell_type": "code",
   "execution_count": null,
   "id": "25df3c4b",
   "metadata": {},
   "outputs": [],
   "source": [
    "len(species_to_include)"
   ]
  },
  {
   "cell_type": "code",
   "execution_count": null,
   "id": "069231db",
   "metadata": {},
   "outputs": [],
   "source": [
    "configs[1].species_configs[2]"
   ]
  },
  {
   "cell_type": "code",
   "execution_count": null,
   "id": "6d3d2938",
   "metadata": {},
   "outputs": [],
   "source": [
    "# default\n",
    "RunConfig()"
   ]
  },
  {
   "cell_type": "code",
   "execution_count": null,
   "id": "453042dd",
   "metadata": {},
   "outputs": [],
   "source": [
    "# modify\n",
    "run_config = RunConfig(ch4_lifetime_method=CH4LifetimeMethod.AERCHEMMIP)\n",
    "run_config"
   ]
  },
  {
   "cell_type": "code",
   "execution_count": null,
   "id": "c190c3cc",
   "metadata": {},
   "outputs": [],
   "source": [
    "start = time.time()\n",
    "fair = FAIR(scenarios, configs, timestep=1, run_config=run_config)\n",
    "fair.run()\n",
    "end = time.time()\n",
    "print (f\"{len(scenarios) * len(configs)} ensemble members in {end - start}s.\")"
   ]
  },
  {
   "cell_type": "code",
   "execution_count": null,
   "id": "ca616973",
   "metadata": {},
   "outputs": [],
   "source": [
    "fair.concentration_array[:,0,0,2,0]"
   ]
  },
  {
   "cell_type": "code",
   "execution_count": null,
   "id": "03a5384f",
   "metadata": {},
   "outputs": [],
   "source": [
    "fig, ax = pl.subplots(2, 4, figsize=(16,9))\n",
    "for i in range(8):\n",
    "    ax[i//4, i%4].plot(fair.concentration_array[:,i,:,2,0]);\n",
    "    ax[i//4, i%4].plot(conc_ch4[scenarios_to_include[i]][:], color='k')\n",
    "    ax[i//4, i%4].set_title(scenarios_to_include[i])"
   ]
  },
  {
   "cell_type": "code",
   "execution_count": null,
   "id": "ccf4602c",
   "metadata": {},
   "outputs": [],
   "source": [
    "fig, ax = pl.subplots(2, 4, figsize=(16,9))\n",
    "for i in range(8):\n",
    "    ax[i//4, i%4].plot(fair.alpha_lifetime_array[:,i,:,2,0] * fair.lifetime_array[:,0,:,2,0]);\n",
    "    ax[i//4, i%4].set_title(scenarios_to_include[i])"
   ]
  },
  {
   "cell_type": "code",
   "execution_count": null,
   "id": "3a6db88c",
   "metadata": {},
   "outputs": [],
   "source": [
    "fig, ax = pl.subplots(2, 4, figsize=(16, 10))\n",
    "\n",
    "for i in range(8):\n",
    "    ax[i//4,i%4].fill_between(\n",
    "        np.arange(1850.5, 2101), \n",
    "        np.min(fair.temperature[100:351, i, :, 0, 0]-fair.temperature[100:151, i, :, 0, 0].mean(axis=0), axis=1), \n",
    "        np.max(fair.temperature[100:351, i, :, 0, 0]-fair.temperature[100:151, i, :, 0, 0].mean(axis=0), axis=1),\n",
    "        color='#000000',\n",
    "        alpha=0.2,\n",
    "    )\n",
    "    ax[i//4,i%4].fill_between(\n",
    "        np.arange(1850.5, 2101), \n",
    "        np.percentile(fair.temperature[100:351, i, :, 0, 0]-fair.temperature[100:151, i, :, 0, 0].mean(axis=0), 5, axis=1), \n",
    "        np.percentile(fair.temperature[100:351, i, :, 0, 0]-fair.temperature[100:151, i, :, 0, 0].mean(axis=0), 95, axis=1),\n",
    "        color='#000000',\n",
    "        alpha=0.2,\n",
    "    )\n",
    "    ax[i//4,i%4].fill_between(\n",
    "        np.arange(1850.5, 2101), \n",
    "        np.percentile(fair.temperature[100:351, i, :, 0, 0]-fair.temperature[100:151, i, :, 0, 0].mean(axis=0), 16, axis=1), \n",
    "        np.percentile(fair.temperature[100:351, i, :, 0, 0]-fair.temperature[100:151, i, :, 0, 0].mean(axis=0), 84, axis=1),\n",
    "        color='#000000',\n",
    "        alpha=0.2,\n",
    "    )\n",
    "    ax[i//4,i%4].plot(\n",
    "        np.arange(1850.5, 2101), \n",
    "        np.median(fair.temperature[100:351, i, :, 0, 0]-fair.temperature[100:151, i, :, 0, 0].mean(axis=0), axis=1), \n",
    "        color='#000000',\n",
    "    )\n",
    "    ax[i//4, i%4].plot(2021, 1.2, 'bx')\n",
    "    ax[i//4,i%4].set_xlim(1850,2100)\n",
    "    ax[i//4,i%4].set_ylim(-1, 10)\n",
    "    ax[i//4,i%4].axhline(0, color='k', ls=\":\", lw=0.5)\n",
    "    ax[i//4,i%4].set_title(scenarios_to_include[i])\n",
    "pl.suptitle('Temperature anomaly')"
   ]
  }
 ],
 "metadata": {
  "kernelspec": {
   "display_name": "Python 3 (ipykernel)",
   "language": "python",
   "name": "python3"
  },
  "language_info": {
   "codemirror_mode": {
    "name": "ipython",
    "version": 3
   },
   "file_extension": ".py",
   "mimetype": "text/x-python",
   "name": "python",
   "nbconvert_exporter": "python",
   "pygments_lexer": "ipython3",
   "version": "3.7.12"
  }
 },
 "nbformat": 4,
 "nbformat_minor": 5
}
