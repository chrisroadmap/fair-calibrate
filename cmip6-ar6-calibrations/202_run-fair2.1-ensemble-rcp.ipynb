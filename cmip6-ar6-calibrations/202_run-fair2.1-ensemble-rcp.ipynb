{
 "cells": [
  {
   "cell_type": "markdown",
   "id": "f753b9af",
   "metadata": {},
   "source": [
    "# AR6 calibration of FaIR 2.1\n",
    "\n",
    "- use the exact aerosol indirect forcing relationship from Smith et al. (2021). \n",
    "- aerosol direct is from AR6.\n",
    "- three layer model for climate response.\n",
    "- include overlap of the major GHGs.\n",
    "- prognostic equation for land use related forcing (e.g. from FaIR 1.6).\n",
    "- ozone relationship from FaIR 1.6 used in AR6.\n",
    "- interactive methane lifetime (NEW!)\n",
    "- rough hack for RCP scenarios\n",
    "\n",
    "We have to do this slightly differently to the examples so far. 1.5 million ensemble members is going to take up too much memory, so we run in batches of 1000, initialising a new FaIR instance for each batch, and saving the output as we go."
   ]
  },
  {
   "cell_type": "markdown",
   "id": "d9942f2f",
   "metadata": {},
   "source": [
    "## Basic imports"
   ]
  },
  {
   "cell_type": "code",
   "execution_count": null,
   "id": "5cbf141e",
   "metadata": {},
   "outputs": [],
   "source": [
    "import os\n",
    "\n",
    "import numpy as np\n",
    "import pandas as pd\n",
    "import matplotlib.pyplot as pl\n",
    "import scipy.interpolate\n",
    "import scipy.stats\n",
    "from tqdm.auto import tqdm\n",
    "import xarray as xr\n",
    "\n",
    "from fair import FAIR\n",
    "from fair.interface import fill, initialise\n",
    "from fair.io import read_properties\n",
    "from fair.forcing.ghg import meinshausen2020"
   ]
  },
  {
   "cell_type": "code",
   "execution_count": null,
   "id": "a3b29ecc",
   "metadata": {},
   "outputs": [],
   "source": [
    "os.makedirs('../data/ar6_ensemble_batches_rcp/', exist_ok=True)"
   ]
  },
  {
   "cell_type": "markdown",
   "id": "2945670a",
   "metadata": {},
   "source": [
    "## Set up problem"
   ]
  },
  {
   "cell_type": "code",
   "execution_count": null,
   "id": "b83178e0",
   "metadata": {},
   "outputs": [],
   "source": [
    "erf_2co2 = meinshausen2020(\n",
    "    np.array([554.30, 731.41, 273.87]) * np.ones((1, 1, 1, 3)),\n",
    "    np.array([277.15, 731.41, 273.87]) * np.ones((1, 1, 1, 3)),\n",
    "    np.array((1.05, 0.86, 1.07)) * np.ones((1, 1, 1, 1)),\n",
    "    np.ones((1, 1, 1, 3)),\n",
    "    np.array([True, False, False]),\n",
    "    np.array([False, True, False]),\n",
    "    np.array([False, False, True]),\n",
    "    np.array([False, False, False])\n",
    ").squeeze()[0]\n",
    "erf_2co2"
   ]
  },
  {
   "cell_type": "code",
   "execution_count": null,
   "id": "5a2b160a",
   "metadata": {},
   "outputs": [],
   "source": [
    "scenarios = ['rcp45']"
   ]
  },
  {
   "cell_type": "code",
   "execution_count": null,
   "id": "5b6aefa8",
   "metadata": {},
   "outputs": [],
   "source": [
    "df_forc = pd.read_csv('../data/forcing/table_A3.3_historical_ERF_1750-2019_best_estimate.csv')\n",
    "df_solar = pd.read_csv('../data/forcing/solar_erf.csv', index_col='year')"
   ]
  },
  {
   "cell_type": "code",
   "execution_count": null,
   "id": "815dd1b3",
   "metadata": {},
   "outputs": [],
   "source": [
    "solar_forcing = df_solar['solar_erf'].loc[1765.5:2101].values\n",
    "volcanic_forcing = np.zeros(336)\n",
    "volcanic_forcing[:255] = df_forc['volcanic'].values[15:]\n",
    "volcanic_forcing[254:266] = np.linspace(1, 0, 12) * volcanic_forcing[254]"
   ]
  },
  {
   "cell_type": "code",
   "execution_count": null,
   "id": "4a6d18c8",
   "metadata": {},
   "outputs": [],
   "source": [
    "da_emissions = xr.load_dataarray('../data/rcmip/rcp_emissions_fair2.1.nc')"
   ]
  },
  {
   "cell_type": "code",
   "execution_count": null,
   "id": "9a5991bf",
   "metadata": {},
   "outputs": [],
   "source": [
    "da_emissions"
   ]
  },
  {
   "cell_type": "code",
   "execution_count": null,
   "id": "66aef39d",
   "metadata": {},
   "outputs": [],
   "source": [
    "species = [\n",
    "    'CO2 FFI', 'CO2 AFOLU', 'CO2', 'CH4', 'N2O',\n",
    "    'Sulfur', 'BC', 'OC', 'NH3', 'NOx', 'VOC', 'CO',\n",
    "    'CFC-11', 'CFC-12', 'CFC-113', 'CFC-114', 'CFC-115',\n",
    "    'HCFC-22', 'HCFC-141b', 'HCFC-142b',\n",
    "    'CCl4', 'CH3Cl', 'CH3CCl3', 'CH3Br',\n",
    "    'Halon-1211', 'Halon-1202', 'Halon-1301', 'Halon-2402',\n",
    "    'CF4', 'C2F6', 'C6F14',\n",
    "    'SF6',\n",
    "    'HFC-125', 'HFC-134a', 'HFC-143a', 'HFC-227ea', 'HFC-23', 'HFC-245fa', 'HFC-32', \n",
    "    'HFC-4310mee', 'Solar', 'Volcanic', 'Aerosol-radiation interactions',\n",
    "    'Aerosol-cloud interactions', 'Ozone', 'Light absorbing particles on snow and ice',\n",
    "    'Land use', 'Stratospheric water vapour', 'Equivalent effective stratospheric chlorine',\n",
    "    'Contrails', 'NOx aviation'\n",
    "]\n",
    "\n",
    "species, properties = read_properties(species=species)"
   ]
  },
  {
   "cell_type": "code",
   "execution_count": null,
   "id": "98381d12",
   "metadata": {},
   "outputs": [],
   "source": [
    "df_cc=pd.read_csv('../data/parameter_sets/carbon_cycle.csv')\n",
    "df_cr=pd.read_csv('../data/parameter_sets/climate_response.csv')\n",
    "df_aci=pd.read_csv('../data/parameter_sets/erfaci.csv')\n",
    "df_ari=pd.read_csv('../data/parameter_sets/erfari.csv')\n",
    "df_ozone=pd.read_csv('../data/parameter_sets/ozone.csv')\n",
    "df_scaling=pd.read_csv('../data/parameter_sets/forcing_scaling.csv')\n",
    "df_1750co2=pd.read_csv('../data/parameter_sets/co2_concentration_1750.csv')"
   ]
  },
  {
   "cell_type": "code",
   "execution_count": null,
   "id": "71df4221",
   "metadata": {},
   "outputs": [],
   "source": [
    "# using an extremely crude curve fit to estimate 1765 CO2\n",
    "\n",
    "obs_co2 = np.array([278.3, 285.5, 296.4])\n",
    "obs_years = [1750, 1850, 1900]\n",
    "\n",
    "def fit(x, a, b, c):\n",
    "    return a + b*np.exp(c*(x-1750))\n",
    "\n",
    "p, _ = scipy.optimize.curve_fit(fit, obs_years, obs_co2, p0=[278.3, 1.45, 0.0171])\n",
    "pl.plot(np.arange(1750, 1900), p[0]+p[1]*np.exp(p[2] * (np.arange(1750, 1900)-1750)))\n",
    "pl.scatter(obs_years, obs_co2, color='k')\n",
    "\n",
    "offset1765co2 = fit(1765, p[0], p[1], p[2]) - fit(1750, p[0], p[1], p[2])\n",
    "offset1765co2"
   ]
  },
  {
   "cell_type": "code",
   "execution_count": null,
   "id": "7cc0b110",
   "metadata": {},
   "outputs": [],
   "source": [
    "df_1765co2 = df_1750co2 + offset1765co2"
   ]
  },
  {
   "cell_type": "code",
   "execution_count": null,
   "id": "b33102c1",
   "metadata": {},
   "outputs": [],
   "source": [
    "obs_ch4 = np.array([729.2, 807.6, 925.1])\n",
    "obs_years = [1750, 1850, 1900]\n",
    "\n",
    "def fit(x, a, b, c):\n",
    "    return a + b*np.exp(c*(x-1750))\n",
    "\n",
    "p, _ = scipy.optimize.curve_fit(fit, obs_years, obs_ch4, p0=[278.3, 1.45, 0.0171])\n",
    "pl.plot(np.arange(1750, 1900), p[0]+p[1]*np.exp(p[2] * (np.arange(1750, 1900)-1750)))\n",
    "pl.scatter(obs_years, obs_ch4, color='k')\n",
    "\n",
    "baseline1765ch4 = fit(1765, p[0], p[1], p[2])\n",
    "baseline1765ch4"
   ]
  },
  {
   "cell_type": "code",
   "execution_count": null,
   "id": "df8b23ce",
   "metadata": {},
   "outputs": [],
   "source": [
    "obs_n2o = np.array([270.1, 272.1, 278.9])\n",
    "obs_years = [1750, 1850, 1900]\n",
    "\n",
    "def fit(x, a, b, c):\n",
    "    return a + b*np.exp(c*(x-1750))\n",
    "\n",
    "p, _ = scipy.optimize.curve_fit(fit, obs_years, obs_n2o, p0=[278.3, 1.45, 0.0171])\n",
    "pl.plot(np.arange(1750, 1900), p[0]+p[1]*np.exp(p[2] * (np.arange(1750, 1900)-1750)))\n",
    "pl.scatter(obs_years, obs_n2o, color='k')\n",
    "\n",
    "baseline1765n2o = fit(1765, p[0], p[1], p[2])\n",
    "baseline1765n2o"
   ]
  },
  {
   "cell_type": "markdown",
   "id": "46fc4a4c",
   "metadata": {},
   "source": [
    "## Generate 1.5 million ensemble members in batches of 1000"
   ]
  },
  {
   "cell_type": "code",
   "execution_count": null,
   "id": "48ad9b58",
   "metadata": {},
   "outputs": [],
   "source": [
    "samples = 1500000\n",
    "batch_size = 1000"
   ]
  },
  {
   "cell_type": "code",
   "execution_count": null,
   "id": "6849a8b7",
   "metadata": {},
   "outputs": [],
   "source": [
    "species[5:12]"
   ]
  },
  {
   "cell_type": "code",
   "execution_count": null,
   "id": "9c523577",
   "metadata": {},
   "outputs": [],
   "source": [
    "seedgen = 1355763\n",
    "seedstep = 399\n",
    "#run_config = RunConfig(ch4_lifetime_method=CH4LifetimeMethod.AERCHEMMIP)\n",
    "\n",
    "trend_shape = np.ones(336)\n",
    "trend_shape[:256] = np.linspace(0, 1, 256)\n",
    "\n",
    "# for all except temperature, the full time series is not important so we can save a bit of space\n",
    "temp_out = np.ones((251, samples)) * np.nan\n",
    "ohc_out = np.ones((samples)) * np.nan\n",
    "fari_out = np.ones((samples)) * np.nan\n",
    "faci_out = np.ones((samples)) * np.nan\n",
    "co2_out = np.ones((samples)) * np.nan\n",
    "fo3_out = np.ones((samples)) * np.nan\n",
    "ecs = np.ones(samples) * np.nan\n",
    "tcr = np.ones(samples) * np.nan\n",
    "\n",
    "calibrated_f4co2_mean = df_cr['F_4xCO2'].mean()\n",
    "\n",
    "for ibatch, batch_start in tqdm(enumerate(range(0, samples, batch_size)), total=samples/batch_size):\n",
    "    batch_end = batch_start + batch_size\n",
    "    \n",
    "    f = FAIR(ch4_method='Thornhill2021')\n",
    "    f.define_time(1765, 2100, 1)\n",
    "    f.define_scenarios(scenarios)\n",
    "    f.define_configs(list(range(batch_start, batch_end)))\n",
    "    f.define_species(species, properties)\n",
    "    f.allocate()\n",
    "    \n",
    "    # emissions and forcing\n",
    "    #f.fill_from_rcmip()\n",
    "    da = da_emissions.loc[dict(config='unspecified', scenario='rcp45')][:335, ...]\n",
    "    fe = da.expand_dims(dim=['scenario', 'config'], axis=(1,2))\n",
    "    f.emissions = fe.drop('config') * np.ones((1,1,batch_size,1))\n",
    "    f.emissions[:86,0,:,5] = np.linspace(2, f.emissions[85,0,0,5], 86)[:, None]\n",
    "    f.emissions[:86,0,:,6] = np.linspace(1.2, f.emissions[85,0,0,6], 86)[:, None]\n",
    "    f.emissions[:86,0,:,7] = np.linspace(10, f.emissions[85,0,0,7], 86)[:, None]\n",
    "    f.emissions[:86,0,:,8] = np.linspace(4, f.emissions[85,0,0,8], 86)[:, None]\n",
    "    f.emissions[:86,0,:,9] = np.linspace(46/14*2, f.emissions[85,0,0,9], 86)[:, None]\n",
    "    f.emissions[:86,0,:,10] = np.linspace(10, f.emissions[85,0,0,10], 86)[:, None]\n",
    "    f.emissions[:86,0,:,11] = np.linspace(174, f.emissions[85,0,0,11], 86)[:, None]      \n",
    "    \n",
    "    fill(f.forcing, volcanic_forcing[:, None, None] * df_scaling.loc[batch_start:batch_end-1, 'Volcanic'].values.squeeze(), specie='Volcanic')\n",
    "    fill(f.forcing, \n",
    "         solar_forcing[:, None, None] * \n",
    "         df_scaling.loc[batch_start:batch_end-1, 'solar_amplitude'].values.squeeze() + \n",
    "         trend_shape[:, None, None] * df_scaling.loc[batch_start:batch_end-1, 'solar_trend'].values.squeeze(),\n",
    "         specie='Solar'\n",
    "    )\n",
    "    \n",
    "    # climate response\n",
    "    fill(f.climate_configs['ocean_heat_capacity'], df_cr.loc[batch_start:batch_end-1, 'c1':'c3'].values)\n",
    "    fill(f.climate_configs['ocean_heat_transfer'], df_cr.loc[batch_start:batch_end-1, 'kappa1':'kappa3'].values)\n",
    "    fill(f.climate_configs['deep_ocean_efficacy'], df_cr.loc[batch_start:batch_end-1, 'epsilon'].values.squeeze())\n",
    "    fill(f.climate_configs['gamma_autocorrelation'], df_cr.loc[batch_start:batch_end-1, 'gamma'].values.squeeze())\n",
    "    fill(f.climate_configs['sigma_eta'], df_cr.loc[batch_start:batch_end-1, 'sigma_eta'].values.squeeze())\n",
    "    fill(f.climate_configs['sigma_xi'], df_cr.loc[batch_start:batch_end-1, 'sigma_xi'].values.squeeze())\n",
    "    fill(f.climate_configs['seed'], np.arange(seedgen+batch_start*seedstep, seedgen+batch_end*seedstep, seedstep, dtype=int))\n",
    "    fill(f.climate_configs['stochastic_run'], True)\n",
    "    fill(f.climate_configs['use_seed'], True)\n",
    "    fill(f.climate_configs['forcing_4co2'], 2 * erf_2co2 * (1 + 0.561*(calibrated_f4co2_mean - df_cr.loc[batch_start:batch_end-1,'F_4xCO2'])/calibrated_f4co2_mean))\n",
    "    \n",
    "    # species level\n",
    "    f.fill_species_configs()\n",
    "    \n",
    "    # carbon cycle\n",
    "    fill(f.species_configs['iirf_0'], df_cc.loc[batch_start:batch_end-1, 'r0'].values.squeeze(), specie='CO2')\n",
    "    fill(f.species_configs['iirf_airborne'], df_cc.loc[batch_start:batch_end-1, 'rA'].values.squeeze(), specie='CO2')\n",
    "    fill(f.species_configs['iirf_uptake'], df_cc.loc[batch_start:batch_end-1, 'rU'].values.squeeze(), specie='CO2')\n",
    "    fill(f.species_configs['iirf_temperature'], df_cc.loc[batch_start:batch_end-1, 'rT'].values.squeeze(), specie='CO2')\n",
    "    \n",
    "    # aerosol indirect\n",
    "    fill(f.species_configs['aci_scale'], df_aci.loc[batch_start:batch_end-1, 'beta'].values.squeeze())\n",
    "    fill(f.species_configs['aci_shape'], df_aci.loc[batch_start:batch_end-1, 'shape_so2'].values.squeeze(), specie='Sulfur')\n",
    "    fill(f.species_configs['aci_shape'], df_aci.loc[batch_start:batch_end-1, 'shape_bc'].values.squeeze(), specie='BC')\n",
    "    fill(f.species_configs['aci_shape'], df_aci.loc[batch_start:batch_end-1, 'shape_oc'].values.squeeze(), specie='OC')\n",
    "        \n",
    "    # methane lifetime baseline\n",
    "    fill(f.species_configs['unperturbed_lifetime'], 10.4198121, specie='CH4')\n",
    "    \n",
    "    # emissions adjustments for N2O and CH4 (we don't want to make these defaults as people might wanna run pulse expts with these gases)\n",
    "    fill(f.species_configs['baseline_emissions'], 19.019783117809567, specie='CH4')\n",
    "    fill(f.species_configs['baseline_emissions'], 0.08602230754, specie='N2O')\n",
    "    \n",
    "    # aerosol direct\n",
    "    for specie in df_ari:\n",
    "        fill(f.species_configs['erfari_radiative_efficiency'], df_ari.loc[batch_start:batch_end-1, specie], specie=specie)\n",
    "    \n",
    "    # forcing\n",
    "    for specie in df_scaling:\n",
    "        if specie in ['minorGHG', 'solar_amplitude', 'solar_trend', 'CO2', 'Volcanic']:\n",
    "            continue\n",
    "        fill(f.species_configs['forcing_scale'], df_scaling.loc[batch_start:batch_end-1, specie].values.squeeze(), specie=specie)\n",
    "    for specie in ['CFC-11', 'CFC-12', 'CFC-113', 'CFC-114', 'CFC-115', 'HCFC-22', 'HCFC-141b', 'HCFC-142b',\n",
    "        'CCl4', 'CH3Cl', 'CH3CCl3', 'CH3Br', 'Halon-1202', 'Halon-1211', 'Halon-1301', 'Halon-2402',\n",
    "        'CF4', 'C2F6', 'C6F14', 'SF6',\n",
    "        'HFC-125', 'HFC-134a', 'HFC-143a', 'HFC-227ea', 'HFC-23', 'HFC-245fa', 'HFC-32', 'HFC-4310mee']:\n",
    "        fill(f.species_configs['forcing_scale'], df_scaling.loc[batch_start:batch_end-1, 'minorGHG'].values.squeeze(), specie=specie)\n",
    "    fill(f.species_configs['forcing_scale'], 1 + 0.561*(calibrated_f4co2_mean - df_cr.loc[batch_start:batch_end-1,'F_4xCO2'].values)/calibrated_f4co2_mean, specie='CO2')\n",
    "\n",
    "    # ozone\n",
    "    for specie in df_ozone:\n",
    "        fill(f.species_configs['ozone_radiative_efficiency'], df_ozone.loc[batch_start:batch_end-1, specie], specie=specie)\n",
    "    \n",
    "    # tune down volcanic efficacy\n",
    "    fill(f.species_configs['forcing_efficacy'], 0.6, specie='Volcanic')\n",
    "    \n",
    "    # initial condition of CO2 concentration (but not baseline for forcing calculations)\n",
    "    fill(f.species_configs['baseline_concentration'], df_1765co2.loc[batch_start:batch_end-1, 'co2_concentration'].values.squeeze(), specie='CO2')\n",
    "\n",
    "    # initial condition of other species\n",
    "    fill(f.species_configs['baseline_concentration'], baseline1765ch4, specie='CH4')\n",
    "    fill(f.species_configs['baseline_concentration'], baseline1765n2o, specie='N2O')\n",
    "    fill(f.species_configs['baseline_emissions'], 2, specie='Sulfur')\n",
    "    fill(f.species_configs['baseline_emissions'], 174, specie='CO')\n",
    "    fill(f.species_configs['baseline_emissions'], 10, specie='VOC')\n",
    "    fill(f.species_configs['baseline_emissions'], 4, specie='NH3')\n",
    "    fill(f.species_configs['baseline_emissions'], 2*46/14, specie='NOx')\n",
    "    fill(f.species_configs['baseline_emissions'], 1.2, specie='BC')\n",
    "    fill(f.species_configs['baseline_emissions'], 10, specie='OC')\n",
    "    \n",
    "    # initial conditions\n",
    "    initialise(f.concentration, f.species_configs['baseline_concentration'])\n",
    "    initialise(f.forcing, 0)\n",
    "    initialise(f.temperature, 0)\n",
    "    initialise(f.cumulative_emissions, 0)\n",
    "    initialise(f.airborne_emissions, 0)\n",
    "    \n",
    "    f.run(progress=False)\n",
    "    \n",
    "    # at this point dump out some batch output and put the constraining in another notebook\n",
    "    temp_out[:, batch_start:batch_end] = f.temperature[85:, 0, :, 0]\n",
    "    ohc_out[batch_start:batch_end] = f.ocean_heat_content_change[253, 0, :]-f.ocean_heat_content_change[206, 0, :]\n",
    "    co2_out[batch_start:batch_end] = f.concentration[249, 0, :, 2]\n",
    "    fari_out[batch_start:batch_end] = f.forcing[240:250, 0, :, 42].mean(axis=0)\n",
    "    faci_out[batch_start:batch_end] = f.forcing[240:250, 0, :, 43].mean(axis=0)\n",
    "    fo3_out[batch_start:batch_end] = f.forcing[254, 0, :, 44]\n",
    "    ecs[batch_start:batch_end] = f.ebms.ecs\n",
    "    tcr[batch_start:batch_end] = f.ebms.tcr"
   ]
  },
  {
   "cell_type": "code",
   "execution_count": null,
   "id": "93df284a",
   "metadata": {},
   "outputs": [],
   "source": [
    "pl.plot(f.temperature[:254, 0, :, 0]);"
   ]
  },
  {
   "cell_type": "code",
   "execution_count": null,
   "id": "8115b9b6",
   "metadata": {},
   "outputs": [],
   "source": [
    "pl.plot(f.concentration[:254, 0, :, 4]);"
   ]
  },
  {
   "cell_type": "code",
   "execution_count": null,
   "id": "234627f2",
   "metadata": {},
   "outputs": [],
   "source": [
    "pl.plot(f.forcing[:254, 0, :, 43]);"
   ]
  },
  {
   "cell_type": "code",
   "execution_count": null,
   "id": "37224554",
   "metadata": {},
   "outputs": [],
   "source": [
    "pl.plot(f.forcing[:254, 0, :, 42]);"
   ]
  },
  {
   "cell_type": "code",
   "execution_count": null,
   "id": "0c0174aa",
   "metadata": {},
   "outputs": [],
   "source": [
    "pl.plot(f.forcing[:254, 0, :, 44]);"
   ]
  },
  {
   "cell_type": "code",
   "execution_count": null,
   "id": "7b5cdc0d",
   "metadata": {},
   "outputs": [],
   "source": [
    "pl.plot(f.concentration[:, 0, :, 3]);"
   ]
  },
  {
   "cell_type": "code",
   "execution_count": null,
   "id": "fdccdde6",
   "metadata": {},
   "outputs": [],
   "source": [
    "pl.plot(f.concentration[:, 0, :, 2]);"
   ]
  },
  {
   "cell_type": "code",
   "execution_count": null,
   "id": "28e0cc7e",
   "metadata": {},
   "outputs": [],
   "source": [
    "np.save('../data/ar6_ensemble_batches_rcp/temperature_1850-2100.npy', temp_out, allow_pickle=True)\n",
    "np.save('../data/ar6_ensemble_batches_rcp/ohc_2018_minus_1971.npy', ohc_out, allow_pickle=True)\n",
    "np.save('../data/ar6_ensemble_batches_rcp/co2_2014.npy', co2_out, allow_pickle=True)\n",
    "np.save('../data/ar6_ensemble_batches_rcp/fari_2005-2014_mean.npy', fari_out, allow_pickle=True)\n",
    "np.save('../data/ar6_ensemble_batches_rcp/faci_2005-2014_mean.npy', faci_out, allow_pickle=True)\n",
    "np.save('../data/ar6_ensemble_batches_rcp/fo3_2019.npy', fo3_out, allow_pickle=True)\n",
    "np.save('../data/ar6_ensemble_batches_rcp/ecs.npy', ecs, allow_pickle=True)\n",
    "np.save('../data/ar6_ensemble_batches_rcp/tcr.npy', tcr, allow_pickle=True)"
   ]
  }
 ],
 "metadata": {
  "kernelspec": {
   "display_name": "Python 3 (ipykernel)",
   "language": "python",
   "name": "python3"
  },
  "language_info": {
   "codemirror_mode": {
    "name": "ipython",
    "version": 3
   },
   "file_extension": ".py",
   "mimetype": "text/x-python",
   "name": "python",
   "nbconvert_exporter": "python",
   "pygments_lexer": "ipython3",
   "version": "3.10.6"
  }
 },
 "nbformat": 4,
 "nbformat_minor": 5
}
