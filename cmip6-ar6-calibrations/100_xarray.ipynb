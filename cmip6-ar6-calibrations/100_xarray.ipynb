{
 "cells": [
  {
   "cell_type": "code",
   "execution_count": null,
   "id": "5dc32cf5",
   "metadata": {},
   "outputs": [],
   "source": [
    "import xarray as xr\n",
    "import numpy as np\n",
    "import pandas as pd\n",
    "from tqdm import tqdm\n",
    "\n",
    "from fair21.energy_balance_model import EnergyBalanceModel"
   ]
  },
  {
   "cell_type": "code",
   "execution_count": null,
   "id": "d6fa219e",
   "metadata": {},
   "outputs": [],
   "source": [
    "# coordinates\n",
    "timepoints = pd.date_range('2000-07-01', periods=50, freq='12MS')\n",
    "timebounds = pd.date_range('2000-01-01', periods=51, freq='12MS')\n",
    "scenarios = ['abrupt', 'ramp']\n",
    "configs = ['high', 'central', 'low']\n",
    "species = ['CO2 fossil', 'CO2 AFOLU', 'CO2', 'CH4', 'N2O', 'Sulfur', 'Aerosol-cloud interactions']\n",
    "gasboxes = range(4)\n",
    "layers = range(3)"
   ]
  },
  {
   "cell_type": "code",
   "execution_count": null,
   "id": "bf6cf937",
   "metadata": {},
   "outputs": [],
   "source": [
    "n_scenarios = len(scenarios)\n",
    "n_species = len(species)\n",
    "n_configs = len(configs)\n",
    "n_timepoints = len(timepoints)\n",
    "n_timebounds = len(timebounds)\n",
    "n_gasboxes = len(gasboxes)\n",
    "n_layers = len(layers)"
   ]
  },
  {
   "cell_type": "code",
   "execution_count": null,
   "id": "6104eb2b",
   "metadata": {},
   "outputs": [],
   "source": [
    "# Create placeholder arrays. This would be inside the FAIR class\n",
    "emissions = xr.DataArray(\n",
    "    np.ones((n_timepoints, n_scenarios, n_configs, n_species)) * np.nan,\n",
    "    coords = (timepoints, scenarios, configs, species),\n",
    "    dims = ('timepoints', 'scenario', 'config', 'specie')\n",
    ")\n",
    "concentration = xr.DataArray(\n",
    "    np.ones((n_timebounds, n_scenarios, n_configs, n_species)) * np.nan,\n",
    "    coords = (timebounds, scenarios, configs, species),\n",
    "    dims = ('timebounds', 'scenario', 'config', 'specie')\n",
    ")\n",
    "forcing = xr.DataArray(\n",
    "    np.ones((n_timebounds, n_scenarios, n_configs, n_species)) * np.nan,\n",
    "    coords = (timebounds, scenarios, configs, species),\n",
    "    dims = ('timebounds', 'scenario', 'config', 'specie')\n",
    ")\n",
    "temperature = xr.DataArray(\n",
    "    np.ones((n_timebounds, n_scenarios, n_configs, n_layers)) * np.nan,\n",
    "    coords = (timebounds, scenarios, configs, layers),\n",
    "    dims = ('timebounds', 'scenario', 'config', 'layer')\n",
    ")"
   ]
  },
  {
   "cell_type": "code",
   "execution_count": null,
   "id": "98c43ca2",
   "metadata": {},
   "outputs": [],
   "source": [
    "emissions"
   ]
  },
  {
   "cell_type": "code",
   "execution_count": null,
   "id": "a8bbc254",
   "metadata": {},
   "outputs": [],
   "source": [
    "climate_configs = xr.DataArray(\n",
    "    np.ones((n_configs, n_layers)) * np.nan,\n",
    "    coords = (configs, layers),\n",
    "    dims = ('config', 'box')\n",
    ")"
   ]
  },
  {
   "cell_type": "code",
   "execution_count": null,
   "id": "4f77a7d2",
   "metadata": {},
   "outputs": [],
   "source": [
    "# initialise configs\n",
    "climate_configs = xr.Dataset(\n",
    "    {\n",
    "        'ocean_heat_transfer': ([\"config\", \"layer\"], np.ones((n_configs, n_layers)) * np.nan),\n",
    "        'ocean_heat_capacity': ([\"config\", \"layer\"], np.ones((n_configs, n_layers)) * np.nan),\n",
    "        'deep_ocean_efficacy': (\"config\", np.ones(n_configs) * np.nan),\n",
    "        'stochastic_run': (\"config\", np.zeros(n_configs, dtype=bool)),\n",
    "        'sigma_eta': (\"config\", np.ones(n_configs) * 0.5),\n",
    "        'sigma_xi': (\"config\", np.ones(n_configs) * 0.5),\n",
    "        'gamma_autocorrelation': (\"config\", np.ones(n_configs) * 2),#(\"config\", np.ones(n_configs) * np.nan),\n",
    "        'seed': (\"config\", np.zeros(n_configs, dtype=np.uint32)),\n",
    "        'use_seed': (\"config\", np.zeros(n_configs, dtype=bool)),\n",
    "    },\n",
    "    coords = {\n",
    "        \"config\": configs,\n",
    "        \"layer\": layers\n",
    "    },\n",
    ")"
   ]
  },
  {
   "cell_type": "code",
   "execution_count": null,
   "id": "998a9463",
   "metadata": {},
   "outputs": [],
   "source": [
    "climate_configs"
   ]
  },
  {
   "cell_type": "code",
   "execution_count": null,
   "id": "72be05fa",
   "metadata": {},
   "outputs": [],
   "source": [
    "# fill in configs\n",
    "climate_configs[\"ocean_heat_transfer\"].loc[dict(config='high')] = np.array([0.6, 1.3, 1.0])\n",
    "climate_configs[\"ocean_heat_capacity\"].loc[dict(config='high')] = np.array([5, 15, 80])\n",
    "climate_configs[\"deep_ocean_efficacy\"].loc[dict(config='high')] = 1.29\n",
    "\n",
    "climate_configs[\"ocean_heat_transfer\"].loc[dict(config='central')] = np.array([1.1, 1.6, 0.9])\n",
    "climate_configs[\"ocean_heat_capacity\"].loc[dict(config='central')] = np.array([8, 14, 100])\n",
    "climate_configs[\"deep_ocean_efficacy\"].loc[dict(config='central')] = 1.1\n",
    "\n",
    "climate_configs[\"ocean_heat_transfer\"].loc[dict(config='low')] = np.array([1.7, 2.0, 1.1])\n",
    "climate_configs[\"ocean_heat_capacity\"].loc[dict(config='low')] = np.array([6, 11, 75])\n",
    "climate_configs[\"deep_ocean_efficacy\"].loc[dict(config='low')] = 0.8\n",
    "\n",
    "climate_configs"
   ]
  },
  {
   "cell_type": "code",
   "execution_count": null,
   "id": "516d8a2f",
   "metadata": {},
   "outputs": [],
   "source": [
    "aci_parameters = ['scale', 'shape_Sulfur', 'shape_BC+OC']\n",
    "n_aci_parameters = len(aci_parameters)"
   ]
  },
  {
   "cell_type": "code",
   "execution_count": null,
   "id": "aafeda8f",
   "metadata": {},
   "outputs": [],
   "source": [
    "# initialise species configs\n",
    "species_configs = xr.Dataset(\n",
    "    {\n",
    "        # general parameters applicable to all species\n",
    "        'tropospheric_adjustment': ([\"config\", \"specie\"], np.zeros((n_configs, n_species))),\n",
    "        'forcing_efficacy': ([\"config\", \"specie\"], np.ones((n_configs, n_species))),\n",
    "        'forcing_temperature_feedback': ([\"config\", \"specie\"], np.zeros((n_configs, n_species))),\n",
    "        'forcing_scale': ([\"config\", \"specie\"], np.ones((n_configs, n_species))),\n",
    "        \n",
    "        # greenhouse gas parameters\n",
    "        'partition_fraction': (\n",
    "            [\"config\", \"specie\", \"gasbox\"], np.ones((n_configs, n_species, n_gasboxes)) * np.nan\n",
    "        ),\n",
    "        'unperturbed_lifetime': (\n",
    "            [\"config\", \"specie\", \"gasbox\"], np.ones((n_configs, n_species, n_gasboxes)) * np.nan\n",
    "        ),\n",
    "        'molecular_weight': (\"specie\", np.ones(n_species) * np.nan),\n",
    "        'baseline_concentration': ([\"config\", \"specie\"], np.ones((n_configs, n_species)) * np.nan),\n",
    "        'iirf_0': ([\"config\", \"specie\"], np.ones((n_configs, n_species)) * np.nan),\n",
    "        'iirf_airborne': ([\"config\", \"specie\"], np.ones((n_configs, n_species)) * np.nan),\n",
    "        'iirf_uptake': ([\"config\", \"specie\"], np.ones((n_configs, n_species)) * np.nan),\n",
    "        'iirf_temperature': ([\"config\", \"specie\"], np.ones((n_configs, n_species)) * np.nan),\n",
    "        'baseline_emissions': ([\"config\", \"specie\"], np.zeros((n_configs, n_species))),\n",
    "        \n",
    "        # general parameters relating emissions, concentration or forcing of one species to forcing of another\n",
    "        # these are all linear factors\n",
    "        'contrails_radiative_efficiency': ([\"config\", \"specie\"], np.zeros((n_configs, n_species))),\n",
    "        'erfari_radiative_efficiency': ([\"config\", \"specie\"], np.zeros((n_configs, n_species))),\n",
    "        'h2o_stratospheric_factor': ([\"config\", \"specie\"], np.zeros((n_configs, n_species))),\n",
    "        'lapsi_radiative_efficiency': ([\"config\", \"specie\"], np.zeros((n_configs, n_species))),\n",
    "        'land_use_cumulative_emissions_to_forcing': ([\"config\", \"specie\"], np.zeros((n_configs, n_species))),\n",
    "        'ozone_radiative_efficiency': ([\"config\", \"specie\"], np.zeros((n_configs, n_species))),\n",
    "        \n",
    "        # specific parameters for ozone-depleting GHGs\n",
    "        'cl_atoms': (\"specie\", np.zeros(n_species)),\n",
    "        'br_atoms': (\"specie\", np.zeros(n_species)),\n",
    "        'fractional_release': ([\"config\", \"specie\"], np.zeros((n_configs, n_species))),\n",
    "        \n",
    "        # specific parameters for methane lifetime\n",
    "        'ch4_soil_lifetime'\n",
    "        'ch4_lifetime_chemical_sensitivity'\n",
    "        'ch4_lifetime_temperature_sensitivity'\n",
    "        'normalisation_2014_1850'\n",
    "\n",
    "        # specific parameters for aerosol-cloud interactions\n",
    "        'aci_parameters': ([\"config\", \"aci_parameter\"], np.ones((n_configs, n_aci_parameters)) * np.nan)\n",
    "            # n_aci_parameters can be defined at the top level\n",
    "    },\n",
    "    coords = {\n",
    "        \"config\": configs,\n",
    "        \"specie\": species,\n",
    "        \"gasbox\": gasboxes,\n",
    "        \"aci_parameter\": aci_parameters\n",
    "    },\n",
    ")"
   ]
  },
  {
   "cell_type": "code",
   "execution_count": null,
   "id": "57c9b662",
   "metadata": {},
   "outputs": [],
   "source": [
    "species_configs"
   ]
  },
  {
   "cell_type": "code",
   "execution_count": null,
   "id": "6fabb384",
   "metadata": {},
   "outputs": [],
   "source": [
    "# fill in species configs\n",
    "species_configs[\"partition_fraction\"].loc[dict(specie=\"CO2\")] = np.array([0.2173, 0.2240, 0.2824, 0.2763])\n",
    "\n",
    "non_co2_ghgs = [\"CH4\", \"N2O\"]\n",
    "for gas in non_co2_ghgs:\n",
    "    species_configs[\"partition_fraction\"].loc[dict(specie=gas)] = np.array([1, 0, 0, 0])\n",
    "    \n",
    "species_configs[\"unperturbed_lifetime\"].loc[dict(specie=\"CO2\")] = np.array([1e9, 394.4, 36.54, 4.304])\n",
    "species_configs[\"unperturbed_lifetime\"].loc[dict(specie=\"CH4\")] = 8.25\n",
    "species_configs[\"unperturbed_lifetime\"].loc[dict(specie=\"N2O\")] = 109\n",
    "\n",
    "species_configs[\"baseline_concentration\"].loc[dict(specie=\"CO2\")] = 278.3\n",
    "species_configs[\"baseline_concentration\"].loc[dict(specie=\"CH4\")] = 729\n",
    "species_configs[\"baseline_concentration\"].loc[dict(specie=\"N2O\")] = 270.3\n",
    "\n",
    "species_configs[\"molecular_weight\"].loc[dict(specie=\"CO2\")] = 44.009\n",
    "species_configs[\"molecular_weight\"].loc[dict(specie=\"CH4\")] = 16.043\n",
    "species_configs[\"molecular_weight\"].loc[dict(specie=\"N2O\")] = 44.013"
   ]
  },
  {
   "cell_type": "code",
   "execution_count": null,
   "id": "7ff3c50c",
   "metadata": {},
   "outputs": [],
   "source": [
    "def calculate_iirf0(species_configs, iirf_horizon=100):\n",
    "    gasbox_axis = species_configs[\"partition_fraction\"].get_axis_num('gasbox')\n",
    "    iirf_0 = (\n",
    "        np.sum(species_configs[\"unperturbed_lifetime\"] *\n",
    "        (1 - np.exp(-iirf_horizon / species_configs[\"unperturbed_lifetime\"]))\n",
    "        * species_configs[\"partition_fraction\"], gasbox_axis)\n",
    "    )\n",
    "    return iirf_0"
   ]
  },
  {
   "cell_type": "code",
   "execution_count": null,
   "id": "53707ed1",
   "metadata": {},
   "outputs": [],
   "source": [
    "# fill in species configs\n",
    "species_configs[\"partition_fraction\"].loc[dict(specie=\"CO2\")] = np.array([0.2173, 0.2240, 0.2824, 0.2763])\n",
    "\n",
    "non_co2_ghgs = [\"CH4\", \"N2O\"]\n",
    "for gas in non_co2_ghgs:\n",
    "    species_configs[\"partition_fraction\"].loc[dict(specie=gas)] = np.array([1, 0, 0, 0])\n",
    "    \n",
    "species_configs[\"unperturbed_lifetime\"].loc[dict(specie=\"CO2\")] = np.array([1e9, 394.4, 36.54, 4.304])\n",
    "species_configs[\"unperturbed_lifetime\"].loc[dict(specie=\"CH4\")] = 8.25\n",
    "species_configs[\"unperturbed_lifetime\"].loc[dict(specie=\"N2O\")] = 109\n",
    "\n",
    "species_configs[\"baseline_concentration\"].loc[dict(specie=\"CO2\")] = 278.3\n",
    "species_configs[\"baseline_concentration\"].loc[dict(specie=\"CH4\")] = 729\n",
    "species_configs[\"baseline_concentration\"].loc[dict(specie=\"N2O\")] = 270.3\n",
    "\n",
    "species_configs[\"molecular_weight\"].loc[dict(specie=\"CO2\")] = 44.009\n",
    "species_configs[\"molecular_weight\"].loc[dict(specie=\"CH4\")] = 16.043\n",
    "species_configs[\"molecular_weight\"].loc[dict(specie=\"N2O\")] = 44.013"
   ]
  },
  {
   "cell_type": "code",
   "execution_count": null,
   "id": "fcfc5e58",
   "metadata": {},
   "outputs": [],
   "source": [
    "species_configs[\"iirf_0\"] = calculate_iirf0(species_configs)"
   ]
  },
  {
   "cell_type": "code",
   "execution_count": null,
   "id": "6757f6a3",
   "metadata": {},
   "outputs": [],
   "source": [
    "# fill in emissions\n",
    "# todo - write convenience functions to fill in config dimension\n",
    "emissions.loc[dict(scenario='abrupt', specie='CO2 fossil')] = 38\n",
    "emissions.loc[dict(scenario='abrupt', specie='CO2 AFOLU')] = 3\n",
    "emissions.loc[dict(scenario='abrupt', specie='Sulfur')] = 100\n",
    "emissions.loc[dict(scenario='ramp', specie='CO2 fossil')] = np.linspace(0, 38, 50)[:, None]\n",
    "emissions.loc[dict(scenario='ramp', specie='CO2 AFOLU')] = np.linspace(0, 3, 50)[:, None]\n",
    "emissions.loc[dict(scenario='ramp', specie='Sulfur')] = np.linspace(2.2, 100, 50)[:, None]\n",
    "\n",
    "emissions.loc[dict(specie='CO2')] = emissions.loc[dict(specie='CO2 fossil')] + emissions.loc[dict(specie='CO2 AFOLU')]\n",
    "\n",
    "# fill in concentrations\n",
    "concentration.loc[dict(scenario='abrupt', specie='CH4')] = 1800\n",
    "concentration.loc[dict(scenario='abrupt', specie='N2O')] = 325\n",
    "concentration.loc[dict(scenario='ramp', specie='CH4')] = np.linspace(729, 1800, 51)[:, None]\n",
    "concentration.loc[dict(scenario='ramp', specie='N2O')] = np.linspace(270, 325, 51)[:, None]"
   ]
  },
  {
   "cell_type": "code",
   "execution_count": null,
   "id": "147f87e1",
   "metadata": {},
   "outputs": [],
   "source": [
    "emissions"
   ]
  },
  {
   "cell_type": "code",
   "execution_count": null,
   "id": "9e47338d",
   "metadata": {},
   "outputs": [],
   "source": [
    "concentration"
   ]
  },
  {
   "cell_type": "code",
   "execution_count": null,
   "id": "bb1d509e",
   "metadata": {},
   "outputs": [],
   "source": []
  },
  {
   "cell_type": "code",
   "execution_count": null,
   "id": "82d57477",
   "metadata": {},
   "outputs": [],
   "source": [
    "def multi_ebm(\n",
    "    configs,\n",
    "    ocean_heat_capacity,\n",
    "    ocean_heat_transfer,\n",
    "    deep_ocean_efficacy,\n",
    "    stochastic_run,\n",
    "    sigma_eta,\n",
    "    sigma_xi,\n",
    "    gamma_autocorrelation,\n",
    "    seed,\n",
    "    use_seed,\n",
    "    forcing_4co2,\n",
    "    n_timesteps\n",
    "):\n",
    "    \"\"\"Create several instances of the EnergyBalanceModel for efficient implementation in FaIR.\n",
    "    \n",
    "    We have to use a for loop at is does not look like the linear algebra functions in scipy are naturally\n",
    "    parallel.\n",
    "    \"\"\"\n",
    "    \n",
    "    n_runs = ocean_heat_capacity.shape[1]\n",
    "    ebms = xr.Dataset(\n",
    "        {\n",
    "            \"eb_matrix_d\": ([\"config\", \"eb_dim0\", \"eb_dim1\"], np.ones((n_configs, n_layers+1, n_layers+1))*np.nan),\n",
    "            \"forcing_vector_d\": ([\"config\", \"eb_dim0\"], np.ones((n_configs, n_layers+1))*np.nan),\n",
    "            \"stochastic_d\": ([\"timebounds\", \"config\", \"eb_dim0\"], np.ones((n_timebounds, n_configs, n_layers+1))*np.nan),\n",
    "            \"ecs\": ([\"config\"], np.ones(n_configs) * np.nan),\n",
    "            \"tcr\": ([\"config\"], np.ones(n_configs) * np.nan),\n",
    "        },\n",
    "        coords = {\n",
    "            \"timebounds\": timebounds,\n",
    "            \"config\": configs,\n",
    "            \"eb_dim0\": np.arange(-1, n_layers),\n",
    "            \"eb_dim1\": np.arange(-1, n_layers),\n",
    "        }\n",
    "    )\n",
    "    \n",
    "    for i_run, config in enumerate(configs):\n",
    "        ebm = EnergyBalanceModel(\n",
    "            ocean_heat_capacity=ocean_heat_capacity[i_run, :],\n",
    "            ocean_heat_transfer=ocean_heat_transfer[i_run, :],\n",
    "            deep_ocean_efficacy=deep_ocean_efficacy[i_run],\n",
    "            stochastic_run=stochastic_run[i_run],\n",
    "            sigma_eta=sigma_eta[i_run],\n",
    "            sigma_xi=sigma_xi[i_run],\n",
    "            gamma_autocorrelation=gamma_autocorrelation[i_run],\n",
    "            seed=seed[i_run] if use_seed[i_run] else None,\n",
    "            forcing_4co2=forcing_4co2[i_run],\n",
    "            n_timesteps=n_timebounds,\n",
    "        )\n",
    "        ebms[\"eb_matrix_d\"].loc[dict(config=config)]=ebm.eb_matrix_d\n",
    "        ebms[\"forcing_vector_d\"].loc[dict(config=config)]=ebm.forcing_vector_d\n",
    "        ebms[\"stochastic_d\"].loc[dict(config=config)]=ebm.stochastic_d\n",
    "        ebm.emergent_parameters()\n",
    "        ebms[\"ecs\"].loc[dict(config=config)]=ebm.ecs\n",
    "        ebms[\"tcr\"].loc[dict(config=config)]=ebm.tcr\n",
    "        \n",
    "    return ebms"
   ]
  },
  {
   "cell_type": "code",
   "execution_count": null,
   "id": "6a0440cc",
   "metadata": {},
   "outputs": [],
   "source": [
    "ebms = multi_ebm(\n",
    "    configs,\n",
    "    ocean_heat_capacity=climate_configs['ocean_heat_capacity'],\n",
    "    ocean_heat_transfer=climate_configs['ocean_heat_transfer'],\n",
    "    deep_ocean_efficacy=climate_configs['deep_ocean_efficacy'],\n",
    "    stochastic_run=climate_configs['stochastic_run'],\n",
    "    sigma_eta=climate_configs['sigma_eta'],\n",
    "    sigma_xi=climate_configs['sigma_xi'],\n",
    "    gamma_autocorrelation=climate_configs['gamma_autocorrelation'],\n",
    "    seed=climate_configs['seed'],\n",
    "    use_seed=climate_configs['use_seed'],\n",
    "    forcing_4co2=np.ones(3)*8,\n",
    "    n_timesteps=n_timebounds,\n",
    ")"
   ]
  },
  {
   "cell_type": "code",
   "execution_count": null,
   "id": "421f7e49",
   "metadata": {},
   "outputs": [],
   "source": [
    "ebms[\"eb_matrix_d\"]"
   ]
  },
  {
   "cell_type": "code",
   "execution_count": null,
   "id": "6733936e",
   "metadata": {},
   "outputs": [],
   "source": [
    "ebms[\"forcing_vector_d\"]"
   ]
  },
  {
   "cell_type": "code",
   "execution_count": null,
   "id": "bbcb58f4",
   "metadata": {},
   "outputs": [],
   "source": [
    "ebms[\"stochastic_d\"]"
   ]
  },
  {
   "cell_type": "code",
   "execution_count": null,
   "id": "fb150c29",
   "metadata": {},
   "outputs": [],
   "source": [
    "ebms[\"ecs\"]"
   ]
  },
  {
   "cell_type": "code",
   "execution_count": null,
   "id": "3ca85ee7",
   "metadata": {},
   "outputs": [],
   "source": [
    "ebms[\"tcr\"]"
   ]
  },
  {
   "cell_type": "code",
   "execution_count": null,
   "id": "11edc773",
   "metadata": {},
   "outputs": [],
   "source": [
    "concentration.loc[dict(specie='CO2', timebounds='2000-01-01')] = 278.3"
   ]
  },
  {
   "cell_type": "code",
   "execution_count": null,
   "id": "55b67daa",
   "metadata": {},
   "outputs": [],
   "source": [
    "cumulative_emissions = xr.DataArray(\n",
    "    np.ones((n_timebounds, n_scenarios, n_configs, n_species)) * np.nan,\n",
    "    coords = (timebounds, scenarios, configs, species),\n",
    "    dims = ('timebounds', 'scenario', 'config', 'specie')\n",
    ")"
   ]
  },
  {
   "cell_type": "code",
   "execution_count": null,
   "id": "ddef76d8",
   "metadata": {},
   "outputs": [],
   "source": [
    "cumulative_emissions[dict(timebounds=0)] = 0"
   ]
  },
  {
   "cell_type": "code",
   "execution_count": null,
   "id": "eada45b7",
   "metadata": {},
   "outputs": [],
   "source": [
    "emissions"
   ]
  },
  {
   "cell_type": "code",
   "execution_count": null,
   "id": "a3a0ed13",
   "metadata": {},
   "outputs": [],
   "source": [
    "def calculate_g(species_configs, iirf_horizon=100):\n",
    "    gasbox_axis = species_configs[\"partition_fraction\"].get_axis_num('gasbox')\n",
    "    g1 = np.sum(\n",
    "        species_configs[\"partition_fraction\"] * species_configs[\"unperturbed_lifetime\"] *\n",
    "        (1 - (1 + iirf_horizon/species_configs[\"unperturbed_lifetime\"]) *\n",
    "        np.exp(-iirf_horizon/species_configs[\"unperturbed_lifetime\"])),\n",
    "    axis=gasbox_axis)\n",
    "    g0 = np.exp(-1 * np.sum((species_configs[\"partition_fraction\"])*\n",
    "        species_configs[\"unperturbed_lifetime\"]*\n",
    "        (1 - np.exp(-iirf_horizon/species_configs[\"unperturbed_lifetime\"])), axis=gasbox_axis)/\n",
    "        g1\n",
    "    )\n",
    "    return g0, g1\n",
    "\n",
    "def append_g(species_configs):\n",
    "    g0, g1 = calculate_g(species_configs, iirf_horizon=100)\n",
    "    species_configs[\"g0\"]=g0\n",
    "    species_configs[\"g1\"]=g1\n",
    "    return species_configs"
   ]
  },
  {
   "cell_type": "code",
   "execution_count": null,
   "id": "a2f5f54c",
   "metadata": {},
   "outputs": [],
   "source": [
    "def calculate_concentration_per_emission(species_configs, mass_atmosphere=5.1352e18, molecular_weight_air=28.97):\n",
    "    concentration_per_emission = 1 / (\n",
    "        mass_atmosphere / 1e18 * \n",
    "        species_configs[\"molecular_weight\"] / molecular_weight_air\n",
    "    )\n",
    "    return concentration_per_emission\n",
    "    \n",
    "def append_concentration_per_emission(species_configs):\n",
    "    species_configs[\"concentration_per_emission\"] = calculate_concentration_per_emission(species_configs)\n",
    "    return species_configs"
   ]
  },
  {
   "cell_type": "code",
   "execution_count": null,
   "id": "d3176863",
   "metadata": {},
   "outputs": [],
   "source": [
    "species_configs = append_g(species_configs)\n",
    "species_configs = append_concentration_per_emission(species_configs)"
   ]
  },
  {
   "cell_type": "code",
   "execution_count": null,
   "id": "d1beb4d1",
   "metadata": {},
   "outputs": [],
   "source": [
    "species_configs"
   ]
  },
  {
   "cell_type": "code",
   "execution_count": null,
   "id": "9075d268",
   "metadata": {},
   "outputs": [],
   "source": [
    "def calculate_alpha(\n",
    "    cumulative_emissions,\n",
    "    airborne_emissions,\n",
    "    temperature,\n",
    "    species_configs,\n",
    "    iirf_max=100\n",
    "):\n",
    "    \n",
    "    iirf = (\n",
    "        species_configs[\"iirf_0\"] + \n",
    "        species_configs[\"iirf_uptake\"] * (cumulative_emissions-airborne_emissions) + \n",
    "        species_configs[\"iirf_temperature\"] * temperature + \n",
    "        species_configs[\"iirf_airborne\"] * airborne_emissions\n",
    "    )\n",
    "    iirf = ((iirf>iirf_max) * iirf_max + iirf * (iirf<iirf_max)).transpose('scenario', 'config', 'specie')\n",
    "    \n",
    "    alpha = species_configs[\"g0\"] * np.exp(iirf / species_configs[\"g1\"])\n",
    "    return alpha"
   ]
  },
  {
   "cell_type": "code",
   "execution_count": null,
   "id": "1ae37546",
   "metadata": {},
   "outputs": [],
   "source": [
    "airborne_emissions = xr.DataArray(\n",
    "    np.zeros((n_timebounds, n_scenarios, n_configs, n_species)),\n",
    "    coords = (timebounds, scenarios, configs, species),\n",
    "    dims = ('timebounds', 'scenario', 'config', 'specie')\n",
    ")"
   ]
  },
  {
   "cell_type": "code",
   "execution_count": null,
   "id": "c1d66a09",
   "metadata": {},
   "outputs": [],
   "source": [
    "cumulative_emissions.loc[dict(timebounds=timebounds[0])]"
   ]
  },
  {
   "cell_type": "code",
   "execution_count": null,
   "id": "0292a7ed",
   "metadata": {},
   "outputs": [],
   "source": [
    "def step_concentration(\n",
    "    emissions,\n",
    "    gasboxes_last,\n",
    "    airborne_emissions_last,\n",
    "    species_configs,\n",
    "    alpha,\n",
    "    timestep\n",
    "):\n",
    "    \n",
    "    gasbox_axis = species_configs[\"partition_fraction\"].get_axis_num('gasbox')\n",
    "    \n",
    "    decay_rate = timestep/(alpha * species_configs[\"unperturbed_lifetime\"])\n",
    "    decay_factor = np.exp(-decay_rate)\n",
    "    gasboxes_next = (\n",
    "        species_configs[\"partition_fraction\"] *\n",
    "        (emissions-species_configs[\"baseline_emissions\"]) *\n",
    "        1 / decay_rate *\n",
    "        (1 - decay_factor) * timestep + gasboxes_last * decay_factor\n",
    "    )\n",
    "    \n",
    "    airborne_emissions_next = np.sum(gasboxes_next, axis=gasbox_axis)\n",
    "    concentration_next = (\n",
    "        species_configs[\"baseline_concentration\"] +\n",
    "        species_configs[\"concentration_per_emission\"] * airborne_emissions_next\n",
    "    )\n",
    "\n",
    "    return (\n",
    "        concentration_next.transpose('scenario', 'config', 'specie'), \n",
    "        gasboxes_next.transpose('scenario', 'config', 'specie', 'gasbox'), \n",
    "        airborne_emissions_next.transpose('scenario', 'config', 'specie')\n",
    "    )"
   ]
  },
  {
   "cell_type": "code",
   "execution_count": null,
   "id": "0bb85b06",
   "metadata": {},
   "outputs": [],
   "source": [
    "gas_partitions = xr.DataArray(\n",
    "    np.zeros((n_scenarios, n_configs, n_species, n_gasboxes)),\n",
    "    coords = (scenarios, configs, species, gasboxes),\n",
    "    dims = ('scenario', 'config', 'specie', 'gasbox')\n",
    ")"
   ]
  },
  {
   "cell_type": "code",
   "execution_count": null,
   "id": "3c716fbf",
   "metadata": {},
   "outputs": [],
   "source": [
    "gas_partitions"
   ]
  },
  {
   "cell_type": "code",
   "execution_count": null,
   "id": "00bdd340",
   "metadata": {},
   "outputs": [],
   "source": [
    "# defined at top level\n",
    "species_in = {\n",
    "    'CO2 fossil': {\n",
    "        'emissions': True,\n",
    "        'concentration': False,\n",
    "        'forcing': False,\n",
    "        'input': 'emissions',\n",
    "        'greenhouse_gas': False,  # it doesn't behave as a GHG in the model\n",
    "    },\n",
    "    'CO2 AFOLU': {\n",
    "        'emissions': True,\n",
    "        'concentration': False,\n",
    "        'forcing': False,\n",
    "        'input': 'emissions',\n",
    "        'greenhouse_gas': False,  # it doesn't behave as a GHG in the model\n",
    "    },\n",
    "    'CO2': {\n",
    "        'emissions': True,\n",
    "        'concentration': True,\n",
    "        'forcing': True,\n",
    "        'input': ('CO2 fossil', 'CO2 AFOLU'),\n",
    "        'greenhouse_gas': True,\n",
    "    },\n",
    "    'CH4': {\n",
    "        'emissions': True,\n",
    "        'concentration': True,\n",
    "        'forcing': True,\n",
    "        'input': 'concentration',\n",
    "        'greenhouse_gas': True,\n",
    "    },\n",
    "    'N2O': {\n",
    "        'emissions': True,\n",
    "        'concentration': True,\n",
    "        'forcing': True,\n",
    "        'input': 'concentration',\n",
    "        'greenhouse_gas': True,\n",
    "    },\n",
    "    'Sulfur': {\n",
    "        'emissions': True,\n",
    "        'concentration': False,\n",
    "        'forcing': True,\n",
    "        'input': 'emissions',\n",
    "        'greenhouse_gas': False,\n",
    "    },\n",
    "    'Aerosol-radiation interactions': {\n",
    "        'emissions': False,\n",
    "        'concentration': False,\n",
    "        'forcing': True,\n",
    "        'input': ('Sulfur',),\n",
    "        'greenhouse_gas': False,\n",
    "    },\n",
    "    'Aerosol-cloud interactions': {\n",
    "        'emissions': False,\n",
    "        'concentration': False,\n",
    "        'forcing': True,\n",
    "        'input': ('Sulfur',),\n",
    "        'greenhouse_gas': False,\n",
    "    }\n",
    "}"
   ]
  },
  {
   "cell_type": "code",
   "execution_count": null,
   "id": "04e14c01",
   "metadata": {},
   "outputs": [],
   "source": [
    "species_in_df = pd.DataFrame(\n",
    "    species_in\n",
    ")\n",
    "species_in_df"
   ]
  },
  {
   "cell_type": "code",
   "execution_count": null,
   "id": "aa0ef09a",
   "metadata": {},
   "outputs": [],
   "source": [
    "species_in_df.loc['emissions']"
   ]
  },
  {
   "cell_type": "code",
   "execution_count": null,
   "id": "6dfa2a03",
   "metadata": {},
   "outputs": [],
   "source": [
    "emissions_species = list(species_in_df.loc['emissions',species_in_df.loc['emissions']==True].index)\n",
    "concentration_species = list(species_in_df.loc['concentration',species_in_df.loc['concentration']==True].index)\n",
    "forcing_species = list(species_in_df.loc['forcing',species_in_df.loc['forcing']==True].index)\n",
    "greenhouse_gas_species = list(species_in_df.loc['greenhouse_gas',species_in_df.loc['greenhouse_gas']==True].index)"
   ]
  },
  {
   "cell_type": "code",
   "execution_count": null,
   "id": "ece17291",
   "metadata": {},
   "outputs": [],
   "source": [
    "emissions_species"
   ]
  },
  {
   "cell_type": "code",
   "execution_count": null,
   "id": "197e8e11",
   "metadata": {},
   "outputs": [],
   "source": [
    "species_xr = xr.DataArray(species, dims=(\"specie\",))\n",
    "species_xr.isin(greenhouse_gas_species)"
   ]
  },
  {
   "cell_type": "code",
   "execution_count": null,
   "id": "2c29ad75",
   "metadata": {},
   "outputs": [],
   "source": [
    "concentration.data[:,0,0,4]"
   ]
  },
  {
   "cell_type": "code",
   "execution_count": null,
   "id": "f78fc1d3",
   "metadata": {},
   "outputs": [],
   "source": [
    "class FAIR:\n",
    "    \n",
    "    def __init__(self):\n",
    "        pass\n",
    "    \n",
    "    def scenario(\n",
    "        self,\n",
    "        emissions=emissions,\n",
    "        concentration=concentration,\n",
    "        forcing=forcing,\n",
    "        temperature=temperature\n",
    "    ):\n",
    "        # do some checking\n",
    "        \n",
    "        self.emissions_array = emissions.data\n",
    "        self.concentration_array = concentration.data\n",
    "        self.forcing_array = forcing.data\n",
    "        self.temperature_array = temperature.data\n",
    "        "
   ]
  },
  {
   "cell_type": "code",
   "execution_count": null,
   "id": "e62c2431",
   "metadata": {},
   "outputs": [],
   "source": []
  }
 ],
 "metadata": {
  "kernelspec": {
   "display_name": "Python 3 (ipykernel)",
   "language": "python",
   "name": "python3"
  },
  "language_info": {
   "codemirror_mode": {
    "name": "ipython",
    "version": 3
   },
   "file_extension": ".py",
   "mimetype": "text/x-python",
   "name": "python",
   "nbconvert_exporter": "python",
   "pygments_lexer": "ipython3",
   "version": "3.7.12"
  }
 },
 "nbformat": 4,
 "nbformat_minor": 5
}
