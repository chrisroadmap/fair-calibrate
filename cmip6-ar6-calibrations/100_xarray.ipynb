{
 "cells": [
  {
   "cell_type": "code",
   "execution_count": null,
   "id": "5dc32cf5",
   "metadata": {},
   "outputs": [],
   "source": [
    "import numpy as np\n",
    "import matplotlib.pyplot as pl\n",
    "\n",
    "#import fair\n",
    "from fair import FAIR\n",
    "from fair.interface import fill, initialise"
   ]
  },
  {
   "cell_type": "code",
   "execution_count": null,
   "id": "00bdd340",
   "metadata": {},
   "outputs": [],
   "source": [
    "properties = {\n",
    "    'CO2 FFI': {\n",
    "        'type': 'co2 ffi',\n",
    "        'emissions': True,\n",
    "        'concentration': False,\n",
    "        'forcing': False,\n",
    "        'input_mode': 'emissions',\n",
    "        'greenhouse_gas': False,  # it doesn't behave as a GHG in the model\n",
    "        'aerosol_radiation_precursor': False,\n",
    "        'aerosol_cloud_precursor': False,\n",
    "    },\n",
    "    'CO2 AFOLU': {\n",
    "        'type': 'co2 afolu',\n",
    "        'emissions': True,\n",
    "        'concentration': False,\n",
    "        'forcing': False,\n",
    "        'input_mode': 'emissions',\n",
    "        'greenhouse_gas': False,  # it doesn't behave as a GHG in the model\n",
    "        'aerosol_radiation_precursor': False,\n",
    "        'aerosol_cloud_precursor': False,\n",
    "    },\n",
    "    'CO2': {\n",
    "        'type': 'co2',\n",
    "        'emissions': True,\n",
    "        'concentration': True,\n",
    "        'forcing': True,\n",
    "        'input_mode': 'calculated',\n",
    "        'greenhouse_gas': True,\n",
    "        'aerosol_radiation_precursor': False,\n",
    "        'aerosol_cloud_precursor': False,\n",
    "    },\n",
    "    'CH4': {\n",
    "        'type': 'ch4',\n",
    "        'emissions': True,\n",
    "        'concentration': True,\n",
    "        'forcing': True,\n",
    "        'input_mode': 'concentration',\n",
    "        'greenhouse_gas': True,\n",
    "        'aerosol_radiation_precursor': True,\n",
    "        'aerosol_cloud_precursor': False,\n",
    "    },\n",
    "    'N2O': {\n",
    "        'type': 'n2o',\n",
    "        'emissions': True,\n",
    "        'concentration': True,\n",
    "        'forcing': True,\n",
    "        'input_mode': 'concentration',\n",
    "        'greenhouse_gas': True,\n",
    "        'aerosol_radiation_precursor': True,\n",
    "        'aerosol_cloud_precursor': False,\n",
    "    },\n",
    "    'Sulfur': {\n",
    "        'type': 'sulfur',\n",
    "        'emissions': True,\n",
    "        'concentration': False,\n",
    "        'forcing': True,\n",
    "        'input_mode': 'emissions',\n",
    "        'greenhouse_gas': False,\n",
    "        'aerosol_radiation_precursor': True,\n",
    "        'aerosol_cloud_precursor': True,\n",
    "    },\n",
    "    'Aerosol-radiation interactions': {\n",
    "        'type': 'aerosol-radiation interactions',\n",
    "        'emissions': False,\n",
    "        'concentration': False,\n",
    "        'forcing': True,\n",
    "        'input_mode': 'calculated',\n",
    "        'greenhouse_gas': False,\n",
    "        'aerosol_radiation_precursor': False,\n",
    "        'aerosol_cloud_precursor': False,\n",
    "    },\n",
    "    'Aerosol-cloud interactions': {\n",
    "        'type': 'aerosol-cloud interactions',\n",
    "        'emissions': False,\n",
    "        'concentration': False,\n",
    "        'forcing': True,\n",
    "        'input_mode': 'calculated',\n",
    "        'greenhouse_gas': False,\n",
    "        'aerosol_radiation_precursor': False,\n",
    "        'aerosol_cloud_precursor': False,\n",
    "    }\n",
    "}"
   ]
  },
  {
   "cell_type": "code",
   "execution_count": null,
   "id": "4109b40e",
   "metadata": {},
   "outputs": [],
   "source": [
    "species = [\n",
    "    'CO2 FFI',\n",
    "    'CO2 AFOLU',\n",
    "    'CO2',\n",
    "    'CH4',\n",
    "    'N2O',\n",
    "    'Sulfur',\n",
    "    'Aerosol-radiation interactions',\n",
    "    'Aerosol-cloud interactions'\n",
    "]"
   ]
  },
  {
   "cell_type": "code",
   "execution_count": null,
   "id": "36b63838",
   "metadata": {},
   "outputs": [],
   "source": [
    "f = FAIR()\n",
    "f.define_time(2000, 2050, 1)\n",
    "f.define_scenarios(['abrupt', 'ramp'])\n",
    "f.define_configs(['high', 'central', 'low'])\n",
    "f.define_species(species, properties)\n",
    "f.run_control(aci_method='Stevens2015')\n",
    "f.allocate()"
   ]
  },
  {
   "cell_type": "markdown",
   "id": "3e762792",
   "metadata": {},
   "source": [
    "## Fill in `climate_configs`\n",
    "\n",
    "These describe how temperature responds to forcing. Here, we will also use the `fill` function to fill in the `configs`. Note you can pass multiple dimensions at once by specifying multiple `kwargs` to `fill`, each corresponding to a dimension of the variable we are filling."
   ]
  },
  {
   "cell_type": "code",
   "execution_count": null,
   "id": "918c023f",
   "metadata": {},
   "outputs": [],
   "source": [
    "fill(f.climate_configs[\"ocean_heat_transfer\"], [0.6, 1.3, 1.0], config='high')\n",
    "fill(f.climate_configs[\"ocean_heat_capacity\"], [5, 15, 80], config='high')\n",
    "fill(f.climate_configs[\"deep_ocean_efficacy\"], 1.29, config='high')\n",
    "\n",
    "fill(f.climate_configs[\"ocean_heat_transfer\"], [1.1, 1.6, 0.9], config='central')\n",
    "fill(f.climate_configs[\"ocean_heat_capacity\"], [8, 14, 100], config='central')\n",
    "fill(f.climate_configs[\"deep_ocean_efficacy\"], 1.1, config='central')\n",
    "\n",
    "fill(f.climate_configs[\"ocean_heat_transfer\"], [1.7, 2.0, 1.1], config='low')\n",
    "fill(f.climate_configs[\"ocean_heat_capacity\"], [6, 11, 75], config='low')\n",
    "fill(f.climate_configs[\"deep_ocean_efficacy\"], 0.8, config='low')"
   ]
  },
  {
   "cell_type": "markdown",
   "id": "0207b883",
   "metadata": {},
   "source": [
    "Alternatively we can work directly with `xarray` using `.loc`, though this does not contain validation and error checking. e.g.\n",
    "\n",
    "```\n",
    "fair.climate_configs[\"ocean_heat_transfer\"].loc[dict(config='high')] = np.array([0.6, 1.3, 1.0])\n",
    "```"
   ]
  },
  {
   "cell_type": "markdown",
   "id": "1e29196b",
   "metadata": {},
   "source": [
    "## Fill in `species_configs`\n",
    "\n",
    "The basic information we need about a greenhouse gas is its lifetime, partition fraction, baseline concentration and molecular weight."
   ]
  },
  {
   "cell_type": "code",
   "execution_count": null,
   "id": "6fabb384",
   "metadata": {},
   "outputs": [],
   "source": [
    "fill(f.species_configs[\"partition_fraction\"], [0.2173, 0.2240, 0.2824, 0.2763], specie='CO2')\n",
    "\n",
    "non_co2_ghgs = [\"CH4\", \"N2O\"]   # make a param?\n",
    "for gas in non_co2_ghgs:\n",
    "    fill(f.species_configs[\"partition_fraction\"], [1, 0, 0, 0], specie=gas)\n",
    "\n",
    "fill(f.species_configs[\"unperturbed_lifetime\"], [1e9, 394.4, 36.54, 4.304], specie=\"CO2\")\n",
    "fill(f.species_configs[\"unperturbed_lifetime\"], 8.25, specie=\"CH4\")\n",
    "fill(f.species_configs[\"unperturbed_lifetime\"], 109, specie=\"N2O\")\n",
    "    \n",
    "fill(f.species_configs[\"baseline_concentration\"], 278.3, specie=\"CO2\")\n",
    "fill(f.species_configs[\"baseline_concentration\"], 729, specie=\"CH4\")\n",
    "fill(f.species_configs[\"baseline_concentration\"], 270.3, specie=\"N2O\")\n",
    "\n",
    "fill(f.species_configs[\"molecular_weight\"], 44.009, specie=\"CO2\")\n",
    "fill(f.species_configs[\"molecular_weight\"], 16.043, specie=\"CH4\")\n",
    "fill(f.species_configs[\"molecular_weight\"], 44.013, specie=\"N2O\")"
   ]
  },
  {
   "cell_type": "markdown",
   "id": "aab5a0ed",
   "metadata": {},
   "source": [
    "#### Greenhouse gas state-dependence\n",
    "\n",
    "`iirf_0` is the baseline time-integrated airborne fraction (usually over 100 years). It can be calculated from the variables above, but sometimes we might want to change these values."
   ]
  },
  {
   "cell_type": "code",
   "execution_count": null,
   "id": "8218c683",
   "metadata": {},
   "outputs": [],
   "source": [
    "f.calculate_iirf0()\n",
    "f.calculate_g()\n",
    "f.calculate_concentration_per_emission()"
   ]
  },
  {
   "cell_type": "code",
   "execution_count": null,
   "id": "53ae6b3f",
   "metadata": {},
   "outputs": [],
   "source": [
    "f.species_configs['iirf_0']"
   ]
  },
  {
   "cell_type": "code",
   "execution_count": null,
   "id": "ab213769",
   "metadata": {},
   "outputs": [],
   "source": [
    "# override CO2 iirf0 as value as calculation is for present day and we want PI\n",
    "fill(f.species_configs[\"iirf_0\"], 29, specie='CO2')"
   ]
  },
  {
   "cell_type": "code",
   "execution_count": null,
   "id": "7e2b4e1e",
   "metadata": {},
   "outputs": [],
   "source": [
    "f.species_configs[\"iirf_airborne\"]"
   ]
  },
  {
   "cell_type": "code",
   "execution_count": null,
   "id": "fbfb7222",
   "metadata": {},
   "outputs": [],
   "source": [
    "fill(f.species_configs[\"iirf_airborne\"], [0.000819*2, 0.000819, 0], specie='CO2')\n",
    "fill(f.species_configs[\"iirf_uptake\"], [0.00846*2, 0.00846, 0], specie='CO2')\n",
    "fill(f.species_configs[\"iirf_temperature\"], [8, 4, 0], specie='CO2')"
   ]
  },
  {
   "cell_type": "code",
   "execution_count": null,
   "id": "52ae886f",
   "metadata": {},
   "outputs": [],
   "source": [
    "fill(f.species_configs['iirf_airborne'], 0.00032, specie='CH4')\n",
    "fill(f.species_configs['iirf_airborne'], -0.0065, specie='N2O')"
   ]
  },
  {
   "cell_type": "code",
   "execution_count": null,
   "id": "ac2f76e6",
   "metadata": {},
   "outputs": [],
   "source": [
    "fill(f.species_configs['iirf_uptake'], 0, specie='N2O')\n",
    "fill(f.species_configs['iirf_uptake'], 0, specie='CH4')"
   ]
  },
  {
   "cell_type": "code",
   "execution_count": null,
   "id": "00699247",
   "metadata": {},
   "outputs": [],
   "source": [
    "fill(f.species_configs['iirf_temperature'], -0.3, specie='CH4')\n",
    "fill(f.species_configs['iirf_temperature'], 0, specie='N2O')"
   ]
  },
  {
   "cell_type": "markdown",
   "id": "80f25131",
   "metadata": {},
   "source": [
    "#### Aerosol emissions or concentrations to forcing\n",
    "\n",
    "Note, both here and with the GHG parameters above, we don't have to change parameters away from NaN if they are not relevant, e.g. Sulfur is not a GHG so we don't care about `iirf_0`, and CO2 is not an aerosol precursor so we don't care about `erfari_radiative_efficiency`."
   ]
  },
  {
   "cell_type": "code",
   "execution_count": null,
   "id": "6c00ec04",
   "metadata": {},
   "outputs": [],
   "source": [
    "fill(f.species_configs[\"erfari_radiative_efficiency\"], -0.0036167830509091486, specie='Sulfur') # W m-2 MtSO2-1 yr\n",
    "fill(f.species_configs[\"erfari_radiative_efficiency\"], -0.002653/1023.2219696044921, specie='CH4') # W m-2 ppb-1\n",
    "fill(f.species_configs[\"erfari_radiative_efficiency\"], -0.00209/53.96694437662762, specie='N2O') # W m-2 ppb-1"
   ]
  },
  {
   "cell_type": "code",
   "execution_count": null,
   "id": "b95be014",
   "metadata": {},
   "outputs": [],
   "source": [
    "fill(f.species_configs[\"aci_parameters\"], 2.09841432, aci_parameter='scale')\n",
    "fill(f.species_configs[\"aci_parameters\"], 260.34644166, aci_parameter='Sulfur')"
   ]
  },
  {
   "cell_type": "markdown",
   "id": "3838f3f4",
   "metadata": {},
   "source": [
    "## Fill in scenario drivers\n",
    "\n",
    "for example, `emissions` or `concentrations`."
   ]
  },
  {
   "cell_type": "code",
   "execution_count": null,
   "id": "6757f6a3",
   "metadata": {},
   "outputs": [],
   "source": [
    "fill(f.emissions, 38, scenario='abrupt', specie='CO2 FFI')\n",
    "fill(f.emissions, 3, scenario='abrupt', specie='CO2 AFOLU')\n",
    "fill(f.emissions, 100, scenario='abrupt', specie='Sulfur')\n",
    "fill(f.concentration, 1800, scenario='abrupt', specie='CH4')\n",
    "fill(f.concentration, 325, scenario='abrupt', specie='N2O')\n",
    "\n",
    "for config in f.configs:\n",
    "    fill(f.emissions, np.linspace(0, 38, 50), scenario='ramp', config=config, specie='CO2 FFI')\n",
    "    fill(f.emissions, np.linspace(0, 3, 50), scenario='ramp', config=config, specie='CO2 AFOLU')\n",
    "    fill(f.emissions, np.linspace(2.2, 100, 50), scenario='ramp', config=config, specie='Sulfur')\n",
    "    fill(f.concentration, np.linspace(729, 1800, 51), scenario='ramp', config=config, specie='CH4')\n",
    "    fill(f.concentration, np.linspace(270, 325, 51), scenario='ramp', config=config, specie='N2O')"
   ]
  },
  {
   "cell_type": "code",
   "execution_count": null,
   "id": "3611085a",
   "metadata": {},
   "outputs": [],
   "source": [
    "fill(f.species_configs[\"greenhouse_gas_radiative_efficiency\"], 1.3344985680386619e-05, specie='CO2')\n",
    "fill(f.species_configs[\"greenhouse_gas_radiative_efficiency\"], 0.00038864402860869495, specie='CH4')\n",
    "fill(f.species_configs[\"greenhouse_gas_radiative_efficiency\"], 0.00319550741640458, specie='N2O')"
   ]
  },
  {
   "cell_type": "code",
   "execution_count": null,
   "id": "af2e9357",
   "metadata": {},
   "outputs": [],
   "source": [
    "f.make_ebms()"
   ]
  },
  {
   "cell_type": "code",
   "execution_count": null,
   "id": "95c1b52f",
   "metadata": {},
   "outputs": [],
   "source": [
    "f.ebms"
   ]
  },
  {
   "cell_type": "markdown",
   "id": "e9a3ccdf",
   "metadata": {},
   "source": [
    "## Initial conditions"
   ]
  },
  {
   "cell_type": "code",
   "execution_count": null,
   "id": "11edc773",
   "metadata": {},
   "outputs": [],
   "source": [
    "# Define first timestep\n",
    "initialise(f.concentration, 278.3, specie='CO2')\n",
    "initialise(f.forcing, 0)\n",
    "initialise(f.temperature, 0)\n",
    "initialise(f.cumulative_emissions, 0)\n",
    "initialise(f.airborne_emissions, 0)"
   ]
  },
  {
   "cell_type": "code",
   "execution_count": null,
   "id": "9f6da72b",
   "metadata": {},
   "outputs": [],
   "source": [
    "f.run()"
   ]
  },
  {
   "cell_type": "code",
   "execution_count": null,
   "id": "72995aee",
   "metadata": {},
   "outputs": [],
   "source": [
    "pl.plot(f.timebounds, f.temperature.loc[dict(scenario='ramp', layer=0)])"
   ]
  },
  {
   "cell_type": "code",
   "execution_count": null,
   "id": "7a552989",
   "metadata": {},
   "outputs": [],
   "source": [
    "pl.plot(f.timebounds, f.concentration.loc[dict(scenario='ramp', specie='CO2')])"
   ]
  },
  {
   "cell_type": "code",
   "execution_count": null,
   "id": "899be9af",
   "metadata": {},
   "outputs": [],
   "source": [
    "pl.plot(f.timebounds, f.forcing_sum.loc[dict(scenario='ramp')])"
   ]
  },
  {
   "cell_type": "code",
   "execution_count": null,
   "id": "c431070d",
   "metadata": {},
   "outputs": [],
   "source": []
  }
 ],
 "metadata": {
  "kernelspec": {
   "display_name": "Python 3 (ipykernel)",
   "language": "python",
   "name": "python3"
  },
  "language_info": {
   "codemirror_mode": {
    "name": "ipython",
    "version": 3
   },
   "file_extension": ".py",
   "mimetype": "text/x-python",
   "name": "python",
   "nbconvert_exporter": "python",
   "pygments_lexer": "ipython3",
   "version": "3.7.12"
  }
 },
 "nbformat": 4,
 "nbformat_minor": 5
}
