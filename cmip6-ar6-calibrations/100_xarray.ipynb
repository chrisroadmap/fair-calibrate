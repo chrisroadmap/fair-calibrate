{
 "cells": [
  {
   "cell_type": "code",
   "execution_count": null,
   "id": "5dc32cf5",
   "metadata": {},
   "outputs": [],
   "source": [
    "import matplotlib.pyplot as pl\n",
    "import xarray as xr\n",
    "import numpy as np\n",
    "import pandas as pd\n",
    "from tqdm import tqdm\n",
    "\n",
    "from fair21.energy_balance_model import EnergyBalanceModel"
   ]
  },
  {
   "cell_type": "code",
   "execution_count": null,
   "id": "d6fa219e",
   "metadata": {},
   "outputs": [],
   "source": [
    "# coordinates\n",
    "timepoints = pd.date_range('2000-07-01', periods=50, freq='12MS')\n",
    "timebounds = pd.date_range('2000-01-01', periods=51, freq='12MS')\n",
    "timestep = 1\n",
    "scenarios = ['abrupt', 'ramp']\n",
    "configs = ['high', 'central', 'low']\n",
    "species = ['CO2 fossil', 'CO2 AFOLU', 'CO2', 'CH4', 'N2O', 'Sulfur', 'Aerosol-radiation interactions', 'Aerosol-cloud interactions']\n",
    "gasboxes = range(4)\n",
    "layers = range(3)"
   ]
  },
  {
   "cell_type": "code",
   "execution_count": null,
   "id": "bf6cf937",
   "metadata": {},
   "outputs": [],
   "source": [
    "# these will be internal\n",
    "n_scenarios = len(scenarios)\n",
    "n_species = len(species)\n",
    "n_configs = len(configs)\n",
    "n_timepoints = len(timepoints)\n",
    "n_timebounds = len(timebounds)\n",
    "n_gasboxes = len(gasboxes)\n",
    "n_layers = len(layers)"
   ]
  },
  {
   "cell_type": "code",
   "execution_count": null,
   "id": "6104eb2b",
   "metadata": {},
   "outputs": [],
   "source": [
    "# Create placeholder arrays. This would be inside the FAIR class\n",
    "emissions = xr.DataArray(\n",
    "    np.ones((n_timepoints, n_scenarios, n_configs, n_species)) * np.nan,\n",
    "    coords = (timepoints, scenarios, configs, species),\n",
    "    dims = ('timepoints', 'scenario', 'config', 'specie')\n",
    ")\n",
    "concentration = xr.DataArray(\n",
    "    np.ones((n_timebounds, n_scenarios, n_configs, n_species)) * np.nan,\n",
    "    coords = (timebounds, scenarios, configs, species),\n",
    "    dims = ('timebounds', 'scenario', 'config', 'specie')\n",
    ")\n",
    "forcing = xr.DataArray(\n",
    "    np.ones((n_timebounds, n_scenarios, n_configs, n_species)) * np.nan,\n",
    "    coords = (timebounds, scenarios, configs, species),\n",
    "    dims = ('timebounds', 'scenario', 'config', 'specie')\n",
    ")\n",
    "temperature = xr.DataArray(\n",
    "    np.ones((n_timebounds, n_scenarios, n_configs, n_layers)) * np.nan,\n",
    "    coords = (timebounds, scenarios, configs, layers),\n",
    "    dims = ('timebounds', 'scenario', 'config', 'layer')\n",
    ")"
   ]
  },
  {
   "cell_type": "code",
   "execution_count": null,
   "id": "4f77a7d2",
   "metadata": {},
   "outputs": [],
   "source": [
    "# initialise configs\n",
    "climate_configs = xr.Dataset(\n",
    "    {\n",
    "        'ocean_heat_transfer': ([\"config\", \"layer\"], np.ones((n_configs, n_layers)) * np.nan),\n",
    "        'ocean_heat_capacity': ([\"config\", \"layer\"], np.ones((n_configs, n_layers)) * np.nan),\n",
    "        'deep_ocean_efficacy': (\"config\", np.ones(n_configs) * np.nan),\n",
    "        'stochastic_run': (\"config\", np.zeros(n_configs, dtype=bool)),\n",
    "        'sigma_eta': (\"config\", np.ones(n_configs) * 0.5),\n",
    "        'sigma_xi': (\"config\", np.ones(n_configs) * 0.5),\n",
    "        'gamma_autocorrelation': (\"config\", np.ones(n_configs) * 2),#(\"config\", np.ones(n_configs) * np.nan),\n",
    "        'seed': (\"config\", np.zeros(n_configs, dtype=np.uint32)),\n",
    "        'use_seed': (\"config\", np.zeros(n_configs, dtype=bool)),\n",
    "    },\n",
    "    coords = {\n",
    "        \"config\": configs,\n",
    "        \"layer\": layers\n",
    "    },\n",
    ")"
   ]
  },
  {
   "cell_type": "code",
   "execution_count": null,
   "id": "998a9463",
   "metadata": {},
   "outputs": [],
   "source": [
    "climate_configs"
   ]
  },
  {
   "cell_type": "code",
   "execution_count": null,
   "id": "72be05fa",
   "metadata": {},
   "outputs": [],
   "source": [
    "# fill in configs\n",
    "climate_configs[\"ocean_heat_transfer\"].loc[dict(config='high')] = np.array([0.6, 1.3, 1.0])\n",
    "climate_configs[\"ocean_heat_capacity\"].loc[dict(config='high')] = np.array([5, 15, 80])\n",
    "climate_configs[\"deep_ocean_efficacy\"].loc[dict(config='high')] = 1.29\n",
    "\n",
    "climate_configs[\"ocean_heat_transfer\"].loc[dict(config='central')] = np.array([1.1, 1.6, 0.9])\n",
    "climate_configs[\"ocean_heat_capacity\"].loc[dict(config='central')] = np.array([8, 14, 100])\n",
    "climate_configs[\"deep_ocean_efficacy\"].loc[dict(config='central')] = 1.1\n",
    "\n",
    "climate_configs[\"ocean_heat_transfer\"].loc[dict(config='low')] = np.array([1.7, 2.0, 1.1])\n",
    "climate_configs[\"ocean_heat_capacity\"].loc[dict(config='low')] = np.array([6, 11, 75])\n",
    "climate_configs[\"deep_ocean_efficacy\"].loc[dict(config='low')] = 0.8\n",
    "\n",
    "#climate_configs"
   ]
  },
  {
   "cell_type": "code",
   "execution_count": null,
   "id": "516d8a2f",
   "metadata": {},
   "outputs": [],
   "source": [
    "aci_parameters = ['scale', 'shape_sulfur', 'shape_bcoc']\n",
    "n_aci_parameters = len(aci_parameters)"
   ]
  },
  {
   "cell_type": "code",
   "execution_count": null,
   "id": "aafeda8f",
   "metadata": {},
   "outputs": [],
   "source": [
    "# initialise species configs\n",
    "species_configs = xr.Dataset(\n",
    "    {\n",
    "        # general parameters applicable to all species\n",
    "        'tropospheric_adjustment': ([\"config\", \"specie\"], np.zeros((n_configs, n_species))),\n",
    "        'forcing_efficacy': ([\"config\", \"specie\"], np.ones((n_configs, n_species))),\n",
    "        'forcing_temperature_feedback': ([\"config\", \"specie\"], np.zeros((n_configs, n_species))),\n",
    "        'forcing_scale': ([\"config\", \"specie\"], np.ones((n_configs, n_species))),\n",
    "        \n",
    "        # greenhouse gas parameters\n",
    "        'partition_fraction': (\n",
    "            [\"config\", \"specie\", \"gasbox\"], np.ones((n_configs, n_species, n_gasboxes)) * np.nan\n",
    "        ),\n",
    "        'unperturbed_lifetime': (\n",
    "            [\"config\", \"specie\", \"gasbox\"], np.ones((n_configs, n_species, n_gasboxes)) * np.nan\n",
    "        ),\n",
    "        'molecular_weight': (\"specie\", np.ones(n_species) * np.nan),\n",
    "        'baseline_concentration': ([\"config\", \"specie\"], np.ones((n_configs, n_species)) * np.nan),\n",
    "        'iirf_0': ([\"config\", \"specie\"], np.ones((n_configs, n_species)) * np.nan),\n",
    "        'iirf_airborne': ([\"config\", \"specie\"], np.ones((n_configs, n_species)) * np.nan),\n",
    "        'iirf_uptake': ([\"config\", \"specie\"], np.ones((n_configs, n_species)) * np.nan),\n",
    "        'iirf_temperature': ([\"config\", \"specie\"], np.ones((n_configs, n_species)) * np.nan),\n",
    "        'baseline_emissions': ([\"config\", \"specie\"], np.zeros((n_configs, n_species))),\n",
    "        \n",
    "        # general parameters relating emissions, concentration or forcing of one species to forcing of another\n",
    "        # these are all linear factors\n",
    "        'greenhouse_gas_radiative_efficiency': ([\"config\", \"specie\"], np.zeros((n_configs, n_species))),\n",
    "        'contrails_radiative_efficiency': ([\"config\", \"specie\"], np.zeros((n_configs, n_species))),\n",
    "        'erfari_radiative_efficiency': ([\"config\", \"specie\"], np.zeros((n_configs, n_species))),\n",
    "        'h2o_stratospheric_factor': ([\"config\", \"specie\"], np.zeros((n_configs, n_species))),\n",
    "        'lapsi_radiative_efficiency': ([\"config\", \"specie\"], np.zeros((n_configs, n_species))),\n",
    "        'land_use_cumulative_emissions_to_forcing': ([\"config\", \"specie\"], np.zeros((n_configs, n_species))),\n",
    "        'ozone_radiative_efficiency': ([\"config\", \"specie\"], np.zeros((n_configs, n_species))),\n",
    "        \n",
    "        # specific parameters for ozone-depleting GHGs\n",
    "        'cl_atoms': (\"specie\", np.zeros(n_species)),\n",
    "        'br_atoms': (\"specie\", np.zeros(n_species)),\n",
    "        'fractional_release': ([\"config\", \"specie\"], np.zeros((n_configs, n_species))),\n",
    "        \n",
    "#         # specific parameters for methane lifetime\n",
    "#         'ch4_soil_lifetime'\n",
    "#         'ch4_lifetime_chemical_sensitivity'\n",
    "#         'ch4_lifetime_temperature_sensitivity'\n",
    "#         'normalisation_2014_1850'\n",
    "\n",
    "        # specific parameters for aerosol-cloud interactions\n",
    "        'aci_parameters': ([\"config\", \"aci_parameter\"], np.ones((n_configs, n_aci_parameters)) * np.nan)\n",
    "            # n_aci_parameters can be defined at the top level\n",
    "    },\n",
    "    coords = {\n",
    "        \"config\": configs,\n",
    "        \"specie\": species,\n",
    "        \"gasbox\": gasboxes,\n",
    "        \"aci_parameter\": aci_parameters\n",
    "    },\n",
    ")"
   ]
  },
  {
   "cell_type": "code",
   "execution_count": null,
   "id": "57c9b662",
   "metadata": {},
   "outputs": [],
   "source": [
    "species_configs['aci_parameters']"
   ]
  },
  {
   "cell_type": "code",
   "execution_count": null,
   "id": "6fabb384",
   "metadata": {},
   "outputs": [],
   "source": [
    "# fill in species configs\n",
    "species_configs[\"partition_fraction\"].loc[dict(specie=\"CO2\")] = np.array([0.2173, 0.2240, 0.2824, 0.2763])\n",
    "\n",
    "non_co2_ghgs = [\"CH4\", \"N2O\"]\n",
    "for gas in non_co2_ghgs:\n",
    "    species_configs[\"partition_fraction\"].loc[dict(specie=gas)] = np.array([1, 0, 0, 0])\n",
    "    \n",
    "species_configs[\"unperturbed_lifetime\"].loc[dict(specie=\"CO2\")] = np.array([1e9, 394.4, 36.54, 4.304])\n",
    "species_configs[\"unperturbed_lifetime\"].loc[dict(specie=\"CH4\")] = 8.25\n",
    "species_configs[\"unperturbed_lifetime\"].loc[dict(specie=\"N2O\")] = 109\n",
    "\n",
    "species_configs[\"baseline_concentration\"].loc[dict(specie=\"CO2\")] = 278.3\n",
    "species_configs[\"baseline_concentration\"].loc[dict(specie=\"CH4\")] = 729\n",
    "species_configs[\"baseline_concentration\"].loc[dict(specie=\"N2O\")] = 270.3\n",
    "\n",
    "species_configs[\"molecular_weight\"].loc[dict(specie=\"CO2\")] = 44.009\n",
    "species_configs[\"molecular_weight\"].loc[dict(specie=\"CH4\")] = 16.043\n",
    "species_configs[\"molecular_weight\"].loc[dict(specie=\"N2O\")] = 44.013"
   ]
  },
  {
   "cell_type": "code",
   "execution_count": null,
   "id": "913c9cfd",
   "metadata": {},
   "outputs": [],
   "source": [
    "# define one instance\n",
    "species_configs[\"iirf_0\"].loc[dict(specie=\"CO2\", config=\"low\")] = 30"
   ]
  },
  {
   "cell_type": "code",
   "execution_count": null,
   "id": "7ff3c50c",
   "metadata": {},
   "outputs": [],
   "source": [
    "def calculate_iirf0(species_configs, iirf_horizon=100):\n",
    "    gasbox_axis = species_configs[\"partition_fraction\"].get_axis_num('gasbox')  # MAKE CONSTANT\n",
    "    iirf_0 = (\n",
    "        np.sum(species_configs[\"unperturbed_lifetime\"] *\n",
    "        (1 - np.exp(-iirf_horizon / species_configs[\"unperturbed_lifetime\"]))\n",
    "        * species_configs[\"partition_fraction\"], gasbox_axis)\n",
    "    )\n",
    "    return iirf_0"
   ]
  },
  {
   "cell_type": "code",
   "execution_count": null,
   "id": "53707ed1",
   "metadata": {},
   "outputs": [],
   "source": [
    "# fill in species configs\n",
    "species_configs[\"partition_fraction\"].loc[dict(specie=\"CO2\")] = np.array([0.2173, 0.2240, 0.2824, 0.2763])\n",
    "\n",
    "non_co2_ghgs = [\"CH4\", \"N2O\"]\n",
    "for gas in non_co2_ghgs:\n",
    "    species_configs[\"partition_fraction\"].loc[dict(specie=gas)] = np.array([1, 0, 0, 0])\n",
    "    \n",
    "species_configs[\"unperturbed_lifetime\"].loc[dict(specie=\"CO2\")] = np.array([1e9, 394.4, 36.54, 4.304])\n",
    "species_configs[\"unperturbed_lifetime\"].loc[dict(specie=\"CH4\")] = 8.25\n",
    "species_configs[\"unperturbed_lifetime\"].loc[dict(specie=\"N2O\")] = 109\n",
    "\n",
    "species_configs[\"baseline_concentration\"].loc[dict(specie=\"CO2\")] = 278.3\n",
    "species_configs[\"baseline_concentration\"].loc[dict(specie=\"CH4\")] = 729\n",
    "species_configs[\"baseline_concentration\"].loc[dict(specie=\"N2O\")] = 270.3\n",
    "\n",
    "species_configs[\"molecular_weight\"].loc[dict(specie=\"CO2\")] = 44.009\n",
    "species_configs[\"molecular_weight\"].loc[dict(specie=\"CH4\")] = 16.043\n",
    "species_configs[\"molecular_weight\"].loc[dict(specie=\"N2O\")] = 44.013"
   ]
  },
  {
   "cell_type": "code",
   "execution_count": null,
   "id": "d3fd8463",
   "metadata": {},
   "outputs": [],
   "source": [
    "species_configs"
   ]
  },
  {
   "cell_type": "code",
   "execution_count": null,
   "id": "fcfc5e58",
   "metadata": {},
   "outputs": [],
   "source": [
    "species_configs[\"iirf_0\"] = calculate_iirf0(species_configs)  # will clobber existing value"
   ]
  },
  {
   "cell_type": "code",
   "execution_count": null,
   "id": "ba0fdf0f",
   "metadata": {},
   "outputs": [],
   "source": [
    "species_configs[\"iirf_0\"]"
   ]
  },
  {
   "cell_type": "code",
   "execution_count": null,
   "id": "ab213769",
   "metadata": {},
   "outputs": [],
   "source": [
    "# override CO2 value as calculation is for present day\n",
    "species_configs[\"iirf_0\"].loc[dict(specie='CO2')] = 29"
   ]
  },
  {
   "cell_type": "code",
   "execution_count": null,
   "id": "fbfb7222",
   "metadata": {},
   "outputs": [],
   "source": [
    "species_configs[\"iirf_airborne\"].loc[dict(specie='CO2', config='central')] = 0.000819\n",
    "species_configs[\"iirf_airborne\"].loc[dict(specie='CO2', config='low')] = 0\n",
    "species_configs[\"iirf_airborne\"].loc[dict(specie='CO2', config='high')] = 0.000819*2"
   ]
  },
  {
   "cell_type": "code",
   "execution_count": null,
   "id": "52ae886f",
   "metadata": {},
   "outputs": [],
   "source": [
    "species_configs[\"iirf_airborne\"].loc[dict(specie='CH4')] = 0.00032\n",
    "species_configs[\"iirf_airborne\"].loc[dict(specie='N2O')] = -0.0065"
   ]
  },
  {
   "cell_type": "code",
   "execution_count": null,
   "id": "3213579c",
   "metadata": {},
   "outputs": [],
   "source": [
    "species_configs[\"iirf_uptake\"].loc[dict(specie='CO2', config='central')] = 0.00846\n",
    "species_configs[\"iirf_uptake\"].loc[dict(specie='CO2', config='low')] = 0\n",
    "species_configs[\"iirf_uptake\"].loc[dict(specie='CO2', config='high')] = 0.00846*2"
   ]
  },
  {
   "cell_type": "code",
   "execution_count": null,
   "id": "46b98a23",
   "metadata": {},
   "outputs": [],
   "source": [
    "species_configs[\"iirf_uptake\"].loc[dict(specie='CH4')] = 0\n",
    "species_configs[\"iirf_uptake\"].loc[dict(specie='N2O')] = 0"
   ]
  },
  {
   "cell_type": "code",
   "execution_count": null,
   "id": "00699247",
   "metadata": {},
   "outputs": [],
   "source": [
    "species_configs[\"iirf_temperature\"].loc[dict(specie='CO2', config='central')] = 4.0\n",
    "species_configs[\"iirf_temperature\"].loc[dict(specie='CO2', config='low')] = 0\n",
    "species_configs[\"iirf_temperature\"].loc[dict(specie='CO2', config='high')] = 8.0\n",
    "species_configs[\"iirf_temperature\"].loc[dict(specie='CH4')] = -0.3\n",
    "species_configs[\"iirf_temperature\"].loc[dict(specie='N2O')] = 0"
   ]
  },
  {
   "cell_type": "code",
   "execution_count": null,
   "id": "6c00ec04",
   "metadata": {},
   "outputs": [],
   "source": [
    "species_configs[\"erfari_radiative_efficiency\"].loc[dict(specie='Sulfur')] = -0.0036167830509091486  # W m-2 MtSO2-1 yr\n",
    "species_configs[\"erfari_radiative_efficiency\"].loc[dict(specie='CH4')] = -0.002653/1023.2219696044921 # W m-2 ppb-1\n",
    "species_configs[\"erfari_radiative_efficiency\"].loc[dict(specie='N2O')] = -0.00209/53.96694437662762  # W m-2 ppb-1"
   ]
  },
  {
   "cell_type": "code",
   "execution_count": null,
   "id": "b78ffb12",
   "metadata": {},
   "outputs": [],
   "source": [
    "species_configs['aci_parameters'].loc[dict(aci_parameter='scale')] = 2.09841432\n",
    "species_configs['aci_parameters'].loc[dict(aci_parameter='shape_sulfur')] = 260.34644166\n",
    "#\"scale\": 2.09841432, \"Sulfur\": 260.34644166, \"BC+OC\": 111.05064063"
   ]
  },
  {
   "cell_type": "code",
   "execution_count": null,
   "id": "6757f6a3",
   "metadata": {},
   "outputs": [],
   "source": [
    "# define emissions\n",
    "# TODO: write convenience functions to fill in config dimension\n",
    "emissions.loc[dict(scenario='abrupt', specie='CO2 fossil')] = 38\n",
    "emissions.loc[dict(scenario='abrupt', specie='CO2 AFOLU')] = 3\n",
    "emissions.loc[dict(scenario='abrupt', specie='Sulfur')] = 100\n",
    "emissions.loc[dict(scenario='ramp', specie='CO2 fossil')] = np.linspace(0, 38, 50)[:, None]\n",
    "emissions.loc[dict(scenario='ramp', specie='CO2 AFOLU')] = np.linspace(0, 3, 50)[:, None]\n",
    "emissions.loc[dict(scenario='ramp', specie='Sulfur')] = np.linspace(2.2, 100, 50)[:, None]\n",
    "\n",
    "# TODO: automatic\n",
    "emissions.loc[dict(specie='CO2')] = emissions.loc[dict(specie='CO2 fossil')] + emissions.loc[dict(specie='CO2 AFOLU')]\n",
    "\n",
    "# fill in concentrations\n",
    "concentration.loc[dict(scenario='abrupt', specie='CH4')] = 1800\n",
    "concentration.loc[dict(scenario='abrupt', specie='N2O')] = 325\n",
    "concentration.loc[dict(scenario='ramp', specie='CH4')] = np.linspace(729, 1800, 51)[:, None]\n",
    "concentration.loc[dict(scenario='ramp', specie='N2O')] = np.linspace(270, 325, 51)[:, None]"
   ]
  },
  {
   "cell_type": "code",
   "execution_count": null,
   "id": "147f87e1",
   "metadata": {},
   "outputs": [],
   "source": [
    "emissions"
   ]
  },
  {
   "cell_type": "code",
   "execution_count": null,
   "id": "8e998e9e",
   "metadata": {},
   "outputs": [],
   "source": [
    "species_configs[\"greenhouse_gas_radiative_efficiency\"].loc[dict(specie=\"CO2\")] = 1.3344985680386619e-05\n",
    "species_configs[\"greenhouse_gas_radiative_efficiency\"].loc[dict(specie=\"CH4\")] = 0.00038864402860869495\n",
    "species_configs[\"greenhouse_gas_radiative_efficiency\"].loc[dict(specie=\"N2O\")] = 0.00319550741640458"
   ]
  },
  {
   "cell_type": "code",
   "execution_count": null,
   "id": "9e47338d",
   "metadata": {},
   "outputs": [],
   "source": [
    "concentration"
   ]
  },
  {
   "cell_type": "code",
   "execution_count": null,
   "id": "82d57477",
   "metadata": {},
   "outputs": [],
   "source": [
    "def multi_ebm(\n",
    "    configs,\n",
    "    ocean_heat_capacity,\n",
    "    ocean_heat_transfer,\n",
    "    deep_ocean_efficacy,\n",
    "    stochastic_run,\n",
    "    sigma_eta,\n",
    "    sigma_xi,\n",
    "    gamma_autocorrelation,\n",
    "    seed,\n",
    "    use_seed,\n",
    "    forcing_4co2,\n",
    "    n_timesteps\n",
    "):\n",
    "    \"\"\"Create several instances of the EnergyBalanceModel for efficient implementation in FaIR.\n",
    "    \n",
    "    We have to use a for loop at is does not look like the linear algebra functions in scipy are naturally\n",
    "    parallel.\n",
    "    \"\"\"\n",
    "    \n",
    "    n_runs = ocean_heat_capacity.shape[1]\n",
    "    ebms = xr.Dataset(\n",
    "        {\n",
    "            \"eb_matrix_d\": ([\"config\", \"eb_dim0\", \"eb_dim1\"], np.ones((n_configs, n_layers+1, n_layers+1))*np.nan),\n",
    "            \"forcing_vector_d\": ([\"config\", \"eb_dim0\"], np.ones((n_configs, n_layers+1))*np.nan),\n",
    "            \"stochastic_d\": ([\"timebounds\", \"config\", \"eb_dim0\"], np.ones((n_timebounds, n_configs, n_layers+1))*np.nan),\n",
    "            \"ecs\": ([\"config\"], np.ones(n_configs) * np.nan),\n",
    "            \"tcr\": ([\"config\"], np.ones(n_configs) * np.nan),\n",
    "        },\n",
    "        coords = {\n",
    "            \"timebounds\": timebounds,\n",
    "            \"config\": configs,\n",
    "            \"eb_dim0\": np.arange(-1, n_layers),\n",
    "            \"eb_dim1\": np.arange(-1, n_layers),\n",
    "        }\n",
    "    )\n",
    "    \n",
    "    for i_run, config in enumerate(configs):\n",
    "        ebm = EnergyBalanceModel(\n",
    "            ocean_heat_capacity=ocean_heat_capacity[i_run, :],\n",
    "            ocean_heat_transfer=ocean_heat_transfer[i_run, :],\n",
    "            deep_ocean_efficacy=deep_ocean_efficacy[i_run],\n",
    "            stochastic_run=stochastic_run[i_run],\n",
    "            sigma_eta=sigma_eta[i_run],\n",
    "            sigma_xi=sigma_xi[i_run],\n",
    "            gamma_autocorrelation=gamma_autocorrelation[i_run],\n",
    "            seed=seed[i_run] if use_seed[i_run] else None,\n",
    "            forcing_4co2=forcing_4co2[i_run],\n",
    "            n_timesteps=n_timebounds,\n",
    "        )\n",
    "        ebms[\"eb_matrix_d\"].loc[dict(config=config)]=ebm.eb_matrix_d\n",
    "        ebms[\"forcing_vector_d\"].loc[dict(config=config)]=ebm.forcing_vector_d\n",
    "        ebms[\"stochastic_d\"].loc[dict(config=config)]=ebm.stochastic_d\n",
    "        ebm.emergent_parameters()\n",
    "        ebms[\"ecs\"].loc[dict(config=config)]=ebm.ecs\n",
    "        ebms[\"tcr\"].loc[dict(config=config)]=ebm.tcr\n",
    "        \n",
    "    return ebms"
   ]
  },
  {
   "cell_type": "code",
   "execution_count": null,
   "id": "6a0440cc",
   "metadata": {},
   "outputs": [],
   "source": [
    "ebms = multi_ebm(\n",
    "    configs,\n",
    "    ocean_heat_capacity=climate_configs['ocean_heat_capacity'],\n",
    "    ocean_heat_transfer=climate_configs['ocean_heat_transfer'],\n",
    "    deep_ocean_efficacy=climate_configs['deep_ocean_efficacy'],\n",
    "    stochastic_run=climate_configs['stochastic_run'],\n",
    "    sigma_eta=climate_configs['sigma_eta'],\n",
    "    sigma_xi=climate_configs['sigma_xi'],\n",
    "    gamma_autocorrelation=climate_configs['gamma_autocorrelation'],\n",
    "    seed=climate_configs['seed'],\n",
    "    use_seed=climate_configs['use_seed'],\n",
    "    forcing_4co2=np.ones(3)*8,\n",
    "    n_timesteps=n_timebounds,\n",
    ")"
   ]
  },
  {
   "cell_type": "code",
   "execution_count": null,
   "id": "421f7e49",
   "metadata": {},
   "outputs": [],
   "source": [
    "ebms[\"eb_matrix_d\"]"
   ]
  },
  {
   "cell_type": "code",
   "execution_count": null,
   "id": "6733936e",
   "metadata": {},
   "outputs": [],
   "source": [
    "ebms[\"forcing_vector_d\"]"
   ]
  },
  {
   "cell_type": "code",
   "execution_count": null,
   "id": "bbcb58f4",
   "metadata": {},
   "outputs": [],
   "source": [
    "ebms[\"stochastic_d\"]"
   ]
  },
  {
   "cell_type": "code",
   "execution_count": null,
   "id": "fb150c29",
   "metadata": {},
   "outputs": [],
   "source": [
    "ebms[\"ecs\"]"
   ]
  },
  {
   "cell_type": "code",
   "execution_count": null,
   "id": "3ca85ee7",
   "metadata": {},
   "outputs": [],
   "source": [
    "ebms[\"tcr\"]"
   ]
  },
  {
   "cell_type": "code",
   "execution_count": null,
   "id": "11edc773",
   "metadata": {},
   "outputs": [],
   "source": [
    "# Define first timestep\n",
    "# TODO: make convenience function\n",
    "concentration.loc[dict(specie='CO2', timebounds='2000-01-01')] = 278.3"
   ]
  },
  {
   "cell_type": "code",
   "execution_count": null,
   "id": "55b67daa",
   "metadata": {},
   "outputs": [],
   "source": [
    "cumulative_emissions = xr.DataArray(\n",
    "    np.ones((n_timebounds, n_scenarios, n_configs, n_species)) * np.nan,\n",
    "    coords = (timebounds, scenarios, configs, species),\n",
    "    dims = ('timebounds', 'scenario', 'config', 'specie')\n",
    ")"
   ]
  },
  {
   "cell_type": "code",
   "execution_count": null,
   "id": "ddef76d8",
   "metadata": {},
   "outputs": [],
   "source": [
    "cumulative_emissions[dict(timebounds=0)] = 0   # initial condition"
   ]
  },
  {
   "cell_type": "code",
   "execution_count": null,
   "id": "78eaebfa",
   "metadata": {},
   "outputs": [],
   "source": [
    "cumulative_emissions[dict(timebounds=slice(1,None))] = emissions.cumsum(axis=0, skipna=False) * timestep"
   ]
  },
  {
   "cell_type": "code",
   "execution_count": null,
   "id": "a3a0ed13",
   "metadata": {},
   "outputs": [],
   "source": [
    "# as part of species configs\n",
    "\n",
    "def calculate_g(species_configs, iirf_horizon=100):\n",
    "    gasbox_axis = species_configs[\"partition_fraction\"].get_axis_num('gasbox')\n",
    "    g1 = np.sum(\n",
    "        species_configs[\"partition_fraction\"] * species_configs[\"unperturbed_lifetime\"] *\n",
    "        (1 - (1 + iirf_horizon/species_configs[\"unperturbed_lifetime\"]) *\n",
    "        np.exp(-iirf_horizon/species_configs[\"unperturbed_lifetime\"])),\n",
    "    axis=gasbox_axis)\n",
    "    g0 = np.exp(-1 * np.sum((species_configs[\"partition_fraction\"])*\n",
    "        species_configs[\"unperturbed_lifetime\"]*\n",
    "        (1 - np.exp(-iirf_horizon/species_configs[\"unperturbed_lifetime\"])), axis=gasbox_axis)/\n",
    "        g1\n",
    "    )\n",
    "    return g0, g1\n",
    "\n",
    "def append_g(species_configs):\n",
    "    g0, g1 = calculate_g(species_configs, iirf_horizon=100)\n",
    "    species_configs[\"g0\"]=g0\n",
    "    species_configs[\"g1\"]=g1\n",
    "    return species_configs"
   ]
  },
  {
   "cell_type": "code",
   "execution_count": null,
   "id": "a2f5f54c",
   "metadata": {},
   "outputs": [],
   "source": [
    "# as part of species configs\n",
    "\n",
    "def calculate_concentration_per_emission(species_configs, mass_atmosphere=5.1352e18, molecular_weight_air=28.97):\n",
    "    concentration_per_emission = 1 / (\n",
    "        mass_atmosphere / 1e18 * \n",
    "        species_configs[\"molecular_weight\"] / molecular_weight_air\n",
    "    )\n",
    "    return concentration_per_emission\n",
    "    \n",
    "def append_concentration_per_emission(species_configs):\n",
    "    species_configs[\"concentration_per_emission\"] = calculate_concentration_per_emission(species_configs)\n",
    "    return species_configs"
   ]
  },
  {
   "cell_type": "code",
   "execution_count": null,
   "id": "d3176863",
   "metadata": {},
   "outputs": [],
   "source": [
    "species_configs = append_g(species_configs)\n",
    "species_configs = append_concentration_per_emission(species_configs)"
   ]
  },
  {
   "cell_type": "code",
   "execution_count": null,
   "id": "d1beb4d1",
   "metadata": {},
   "outputs": [],
   "source": [
    "species_configs"
   ]
  },
  {
   "cell_type": "code",
   "execution_count": null,
   "id": "1ae37546",
   "metadata": {},
   "outputs": [],
   "source": [
    "airborne_emissions = xr.DataArray(\n",
    "    np.zeros((n_timebounds, n_scenarios, n_configs, n_species)),\n",
    "    coords = (timebounds, scenarios, configs, species),\n",
    "    dims = ('timebounds', 'scenario', 'config', 'specie')\n",
    ")\n",
    "\n",
    "alpha_lifetime = xr.DataArray(\n",
    "    np.ones((n_timebounds, n_scenarios, n_configs, n_species)) * np.nan,\n",
    "    coords = (timebounds, scenarios, configs, species),\n",
    "    dims = ('timebounds', 'scenario', 'config', 'specie')\n",
    ")"
   ]
  },
  {
   "cell_type": "code",
   "execution_count": null,
   "id": "0bb85b06",
   "metadata": {},
   "outputs": [],
   "source": [
    "# gas_partitions = xr.DataArray(\n",
    "#     np.zeros((n_scenarios, n_configs, n_species, n_gasboxes)),\n",
    "#     coords = (scenarios, configs, species, gasboxes),\n",
    "#     dims = ('scenario', 'config', 'specie', 'gasbox')\n",
    "# )\n",
    "gas_partitions_array = np.zeros((n_scenarios, n_configs, n_species, n_gasboxes))"
   ]
  },
  {
   "cell_type": "code",
   "execution_count": null,
   "id": "3c716fbf",
   "metadata": {},
   "outputs": [],
   "source": [
    "gas_partitions_array"
   ]
  },
  {
   "cell_type": "code",
   "execution_count": null,
   "id": "00bdd340",
   "metadata": {},
   "outputs": [],
   "source": [
    "# defined at top level\n",
    "species_in = {\n",
    "    'CO2 fossil': {\n",
    "        'emissions': True,\n",
    "        'concentration': False,\n",
    "        'forcing': False,\n",
    "        'input': 'emissions',\n",
    "        'greenhouse_gas': False,  # it doesn't behave as a GHG in the model\n",
    "        'aerosol_radiation_precursor': False,\n",
    "        'aerosol_cloud_precursor': False,\n",
    "    },\n",
    "    'CO2 AFOLU': {\n",
    "        'emissions': True,\n",
    "        'concentration': False,\n",
    "        'forcing': False,\n",
    "        'input': 'emissions',\n",
    "        'greenhouse_gas': False,  # it doesn't behave as a GHG in the model\n",
    "        'aerosol_radiation_precursor': False,\n",
    "        'aerosol_cloud_precursor': False,\n",
    "    },\n",
    "    'CO2': {\n",
    "        'emissions': True,\n",
    "        'concentration': True,\n",
    "        'forcing': True,\n",
    "        'input': 'emissions',\n",
    "        'greenhouse_gas': True,\n",
    "        'aerosol_radiation_precursor': False,\n",
    "        'aerosol_cloud_precursor': False,\n",
    "    },\n",
    "    'CH4': {\n",
    "        'emissions': True,\n",
    "        'concentration': True,\n",
    "        'forcing': True,\n",
    "        'input': 'concentration',\n",
    "        'greenhouse_gas': True,\n",
    "        'aerosol_radiation_precursor': True,\n",
    "        'aerosol_cloud_precursor': False,\n",
    "    },\n",
    "    'N2O': {\n",
    "        'emissions': True,\n",
    "        'concentration': True,\n",
    "        'forcing': True,\n",
    "        'input': 'concentration',\n",
    "        'greenhouse_gas': True,\n",
    "        'aerosol_radiation_precursor': True,\n",
    "        'aerosol_cloud_precursor': False,\n",
    "    },\n",
    "    'Sulfur': {\n",
    "        'emissions': True,\n",
    "        'concentration': False,\n",
    "        'forcing': True,\n",
    "        'input': 'emissions',\n",
    "        'greenhouse_gas': False,\n",
    "        'aerosol_radiation_precursor': True,\n",
    "        'aerosol_cloud_precursor': True,\n",
    "    },\n",
    "    'Aerosol-radiation interactions': {\n",
    "        'emissions': False,\n",
    "        'concentration': False,\n",
    "        'forcing': True,\n",
    "        'input': 'calculated',\n",
    "        'greenhouse_gas': False,\n",
    "        'aerosol_radiation_precursor': False,\n",
    "        'aerosol_cloud_precursor': False,\n",
    "    },\n",
    "    'Aerosol-cloud interactions': {\n",
    "        'emissions': False,\n",
    "        'concentration': False,\n",
    "        'forcing': True,\n",
    "        'input': 'calculated',\n",
    "        'greenhouse_gas': False,\n",
    "        'aerosol_radiation_precursor': False,\n",
    "        'aerosol_cloud_precursor': False,\n",
    "    }\n",
    "}"
   ]
  },
  {
   "cell_type": "code",
   "execution_count": null,
   "id": "04e14c01",
   "metadata": {},
   "outputs": [],
   "source": [
    "species_in_df = pd.DataFrame(\n",
    "    species_in\n",
    ")\n",
    "species_in_df"
   ]
  },
  {
   "cell_type": "code",
   "execution_count": null,
   "id": "aa0ef09a",
   "metadata": {},
   "outputs": [],
   "source": [
    "species_in_df.loc['emissions']"
   ]
  },
  {
   "cell_type": "code",
   "execution_count": null,
   "id": "6dfa2a03",
   "metadata": {},
   "outputs": [],
   "source": [
    "emissions_species = list(species_in_df.loc['emissions',species_in_df.loc['emissions']==True].index)\n",
    "concentration_species = list(species_in_df.loc['concentration',species_in_df.loc['concentration']==True].index)\n",
    "forcing_species = list(species_in_df.loc['forcing',species_in_df.loc['forcing']==True].index)\n",
    "greenhouse_gas_species = list(species_in_df.loc['greenhouse_gas',species_in_df.loc['greenhouse_gas']==True].index)"
   ]
  },
  {
   "cell_type": "code",
   "execution_count": null,
   "id": "d8c09553",
   "metadata": {},
   "outputs": [],
   "source": [
    "emissions_species"
   ]
  },
  {
   "cell_type": "code",
   "execution_count": null,
   "id": "a874fcf0",
   "metadata": {},
   "outputs": [],
   "source": [
    "np.asarray(((species_in_df.loc['input']=='emissions')&(species_in_df.loc['greenhouse_gas'])).values, dtype=bool)"
   ]
  },
  {
   "cell_type": "code",
   "execution_count": null,
   "id": "214b5cee",
   "metadata": {},
   "outputs": [],
   "source": [
    "emissions_indices = np.asarray(species_in_df.loc['emissions'].values, dtype=bool)\n",
    "concentration_indices = np.asarray(species_in_df.loc['concentration'].values, dtype=bool)\n",
    "forcing_indices = np.asarray(species_in_df.loc['forcing'].values, dtype=bool)\n",
    "\n",
    "greenhouse_gas_indices = np.asarray(species_in_df.loc['greenhouse_gas'].values, dtype=bool)\n",
    "aerosol_radiation_precursor_indices = np.asarray(species_in_df.loc['aerosol_radiation_precursor'].values, dtype=bool)\n",
    "aerosol_cloud_precursor_indices = np.asarray(species_in_df.loc['aerosol_cloud_precursor'].values, dtype=bool)\n",
    "aerosol_radiation_from_emissions_indices = np.asarray(\n",
    "    (\n",
    "        ~(species_in_df.loc['greenhouse_gas'])&\n",
    "        (species_in_df.loc['aerosol_radiation_precursor'])\n",
    "    ).values,\n",
    "    dtype=bool\n",
    ")\n",
    "aerosol_radiation_from_concentration_indices = np.asarray(\n",
    "    (\n",
    "        (species_in_df.loc['greenhouse_gas'])&\n",
    "        (species_in_df.loc['aerosol_radiation_precursor'])\n",
    "    ).values,\n",
    "    dtype=bool\n",
    ")\n",
    "\n",
    "\n",
    "co2_indices = species_in_df.columns=='CO2'\n",
    "ch4_indices = species_in_df.columns=='CH4'\n",
    "n2o_indices = species_in_df.columns=='N2O'\n",
    "sulfur_indices = species_in_df.columns=='Sulfur'\n",
    "bc_indices = species_in_df.columns=='BC'\n",
    "oc_indices = species_in_df.columns=='OC'\n",
    "aerosol_radiation_interactions_indices = species_in_df.columns=='Aerosol-radiation interactions'\n",
    "aerosol_cloud_interactions_indices = species_in_df.columns=='Aerosol-cloud interactions'\n",
    "\n",
    "greenhouse_gas_forward_indices = np.asarray(\n",
    "    (\n",
    "        (species_in_df.loc['input']=='emissions')&\n",
    "        (species_in_df.loc['greenhouse_gas'])\n",
    "    ).values,\n",
    "    dtype=bool\n",
    ")\n",
    "\n",
    "greenhouse_gas_inverse_indices = np.asarray(\n",
    "    (\n",
    "        (species_in_df.loc['input']=='concentration')&\n",
    "        (species_in_df.loc['greenhouse_gas'])\n",
    "    ).values,\n",
    "    dtype=bool\n",
    ")"
   ]
  },
  {
   "cell_type": "code",
   "execution_count": null,
   "id": "361dfbf7",
   "metadata": {},
   "outputs": [],
   "source": [
    "run_options = {\n",
    "    \"greenhouse_gas_forcing_method\": \"Meinshausen2020\",\n",
    "    \"aerosol_cloud_interactions_forcing_method\": \"Stevens2015\",\n",
    "}"
   ]
  },
  {
   "cell_type": "code",
   "execution_count": null,
   "id": "bc045a60",
   "metadata": {},
   "outputs": [],
   "source": [
    "oc_indices"
   ]
  },
  {
   "cell_type": "code",
   "execution_count": null,
   "id": "64b730e0",
   "metadata": {},
   "outputs": [],
   "source": [
    "emissions_indices, greenhouse_gas_indices, greenhouse_gas_forward_indices, greenhouse_gas_inverse_indices"
   ]
  },
  {
   "cell_type": "code",
   "execution_count": null,
   "id": "ff85db5f",
   "metadata": {},
   "outputs": [],
   "source": [
    "minor_greenhouse_gas_indices = greenhouse_gas_indices ^ co2_indices ^ ch4_indices ^ n2o_indices"
   ]
  },
  {
   "cell_type": "code",
   "execution_count": null,
   "id": "c9fc3c43",
   "metadata": {},
   "outputs": [],
   "source": [
    "aerosol_radiation_from_emissions_indices, aerosol_radiation_from_concentration_indices"
   ]
  },
  {
   "cell_type": "code",
   "execution_count": null,
   "id": "3b104191",
   "metadata": {},
   "outputs": [],
   "source": [
    "concentration_array = concentration.data\n",
    "forcing_array = forcing.data\n",
    "temperature_array = temperature.data"
   ]
  },
  {
   "cell_type": "code",
   "execution_count": null,
   "id": "9075d268",
   "metadata": {},
   "outputs": [],
   "source": [
    "# array function - not xarray\n",
    "\n",
    "import warnings\n",
    "\n",
    "def calculate_alpha(\n",
    "    airborne_emissions,\n",
    "    cumulative_emissions,\n",
    "    g0,\n",
    "    g1,\n",
    "    iirf_0,\n",
    "    iirf_airborne,\n",
    "    iirf_temperature,\n",
    "    iirf_uptake,\n",
    "    temperature,\n",
    "    iirf_max=100,\n",
    "):\n",
    "\n",
    "    iirf = iirf_0 + iirf_uptake * (cumulative_emissions-airborne_emissions) + iirf_temperature * temperature + iirf_airborne * airborne_emissions\n",
    "    iirf = (iirf>iirf_max) * iirf_max + iirf * (iirf<iirf_max)\n",
    "    # overflow and invalid value errors occur with very large and small values\n",
    "    # in the exponential. This happens with very long lifetime GHGs. Usually\n",
    "    # these GHGs don't have a temperature dependence on IIRF but even if they\n",
    "    # did the lifetimes are so long that it is unlikely to have an effect.\n",
    "    with warnings.catch_warnings():\n",
    "        warnings.simplefilter('ignore')\n",
    "        alpha = g0 * np.exp(iirf / g1)\n",
    "#        alpha[np.isnan(alpha)]=1\n",
    "    return alpha"
   ]
  },
  {
   "cell_type": "code",
   "execution_count": null,
   "id": "0292a7ed",
   "metadata": {},
   "outputs": [],
   "source": [
    "# array function\n",
    "\n",
    "GASBOX_AXIS=4\n",
    "\n",
    "def step_concentration(\n",
    "    emissions,\n",
    "    gas_boxes_old,\n",
    "    airborne_emissions_old,\n",
    "    alpha_lifetime,\n",
    "    baseline_concentration,\n",
    "    baseline_emissions,\n",
    "    concentration_per_emission,\n",
    "    lifetime,\n",
    "    partition_fraction,\n",
    "    timestep,\n",
    "):\n",
    "\n",
    "    decay_rate = timestep/(alpha_lifetime * lifetime)\n",
    "    decay_factor = np.exp(-decay_rate)\n",
    "\n",
    "    # additions and removals\n",
    "    gas_boxes_new = (\n",
    "        partition_fraction *\n",
    "        (emissions - baseline_emissions) *\n",
    "        1 / decay_rate *\n",
    "        (1 - decay_factor) * timestep + gas_boxes_old * decay_factor\n",
    "    )\n",
    "\n",
    "    airborne_emissions_new = np.sum(gas_boxes_new, axis=GASBOX_AXIS)\n",
    "    concentration_out = baseline_concentration + concentration_per_emission * airborne_emissions_new\n",
    "    \n",
    "    return concentration_out, gas_boxes_new, airborne_emissions_new"
   ]
  },
  {
   "cell_type": "code",
   "execution_count": null,
   "id": "049e6819",
   "metadata": {},
   "outputs": [],
   "source": [
    "# array function\n",
    "\n",
    "def unstep_concentration(\n",
    "    concentration,\n",
    "    gas_boxes_old,\n",
    "    airborne_emissions_old,\n",
    "    alpha_lifetime,\n",
    "    baseline_concentration,\n",
    "    baseline_emissions,\n",
    "    concentration_per_emission,\n",
    "    lifetime,\n",
    "    partition_fraction,\n",
    "    timestep,\n",
    "):\n",
    "\n",
    "    decay_rate = timestep/(alpha_lifetime * lifetime)   # [1]\n",
    "    decay_factor = np.exp(-decay_rate)  # [1]\n",
    "\n",
    "    airborne_emissions_new = (concentration-baseline_concentration)/concentration_per_emission\n",
    "    emissions = (\n",
    "        (airborne_emissions_new - np.sum(gas_boxes_old*decay_factor, axis=GASBOX_AXIS)) /\n",
    "        (np.sum(\n",
    "            partition_fraction / decay_rate * ( 1. - decay_factor ) * timestep,\n",
    "            axis=GASBOX_AXIS)\n",
    "        )\n",
    "    )\n",
    "    \n",
    "    gas_boxes_new = timestep * emissions[..., None] * partition_fraction * 1/decay_rate * ( 1. - decay_factor ) + gas_boxes_old * decay_factor\n",
    "    emissions_out = emissions + baseline_emissions\n",
    "\n",
    "    return emissions_out, gas_boxes_new, airborne_emissions_new"
   ]
  },
  {
   "cell_type": "code",
   "execution_count": null,
   "id": "e0fcc83f",
   "metadata": {},
   "outputs": [],
   "source": [
    "alpha_lifetime.shape"
   ]
  },
  {
   "cell_type": "code",
   "execution_count": null,
   "id": "5fbf6c71",
   "metadata": {},
   "outputs": [],
   "source": [
    "#concentration[i_timepoint+1, ..., greenhouse_gas_forward_indices].shape"
   ]
  },
  {
   "cell_type": "code",
   "execution_count": null,
   "id": "6c300e52",
   "metadata": {},
   "outputs": [],
   "source": [
    "airborne_emissions.shape"
   ]
  },
  {
   "cell_type": "code",
   "execution_count": null,
   "id": "8e1675c8",
   "metadata": {},
   "outputs": [],
   "source": [
    "%%time\n",
    "alpha_lifetime_array = alpha_lifetime.data\n",
    "airborne_emissions_array = airborne_emissions.data\n",
    "cumulative_emissions_array = cumulative_emissions.data\n",
    "g0_array = species_configs['g0'].data\n",
    "g1_array = species_configs['g1'].data\n",
    "iirf_0_array = species_configs['iirf_0'].data\n",
    "iirf_airborne_array = species_configs['iirf_airborne'].data\n",
    "iirf_temperature_array = species_configs['iirf_temperature'].data\n",
    "iirf_uptake_array = species_configs['iirf_uptake'].data\n",
    "iirf_temperature = species_configs['iirf_temperature'].data\n",
    "concentration_array = concentration.data\n",
    "#gas_partitions_array = gas_partitions.data\n",
    "airborne_emissions_array = airborne_emissions.data\n",
    "emissions_array = emissions.data\n",
    "baseline_concentration_array = species_configs['baseline_concentration'].data\n",
    "baseline_emissions_array = species_configs['baseline_emissions'].data\n",
    "concentration_per_emission_array = species_configs['concentration_per_emission'].data\n",
    "unperturbed_lifetime_array = species_configs['unperturbed_lifetime'].data\n",
    "partition_fraction_array = species_configs['partition_fraction'].data\n",
    "forcing_scale_array = species_configs['forcing_scale'].data\n",
    "greenhouse_gas_radiative_efficiency_array = species_configs['greenhouse_gas_radiative_efficiency'].data\n",
    "erfari_radiative_efficiency_array = species_configs['erfari_radiative_efficiency'].data\n",
    "erfaci_scale_array = species_configs['aci_parameters'].data[:,0]\n",
    "erfaci_shape_sulfur_array = species_configs['aci_parameters'].data[:,1]\n",
    "erfaci_shape_bcoc_array = species_configs['aci_parameters'].data[:,2]\n",
    "\n",
    "aci_method = run_options['aerosol_cloud_interactions_forcing_method']"
   ]
  },
  {
   "cell_type": "code",
   "execution_count": null,
   "id": "78afbfcd",
   "metadata": {},
   "outputs": [],
   "source": [
    "species_configs['aci_parameters'].data[:,0]"
   ]
  },
  {
   "cell_type": "code",
   "execution_count": null,
   "id": "307cf3c6",
   "metadata": {},
   "outputs": [],
   "source": [
    "#greenhouse_gas_forward_indices = np.array([True, False, True, False, True, False, True, False])"
   ]
  },
  {
   "cell_type": "code",
   "execution_count": null,
   "id": "558d6b0f",
   "metadata": {},
   "outputs": [],
   "source": [
    "#alpha_lifetime_array[i_timepoint:i_timepoint+1, ..., greenhouse_gas_forward_indices].shape"
   ]
  },
  {
   "cell_type": "code",
   "execution_count": null,
   "id": "8a219ccf",
   "metadata": {},
   "outputs": [],
   "source": [
    "# airborne_emissions_array[i_timepoint:i_timepoint+1, ..., greenhouse_gas_forward_indices].shape\n",
    "# #cumulative_emissions_array.shape\n",
    "# g0_array[None, None, ..., greenhouse_gas_forward_indices].shape\n",
    "# iirf_0_array[None, None, ..., greenhouse_gas_forward_indices].shape"
   ]
  },
  {
   "cell_type": "code",
   "execution_count": null,
   "id": "961b61fc",
   "metadata": {},
   "outputs": [],
   "source": [
    "# concentration_array[i_timepoint+1:i_timepoint+2, ..., greenhouse_gas_forward_indices].shape\n",
    "# gas_partitions_array[None, ..., greenhouse_gas_forward_indices, :].shape\n",
    "# airborne_emissions[i_timepoint+1:i_timepoint+2, ..., greenhouse_gas_forward_indices].shape\n",
    "# emissions_array[i_timepoint:i_timepoint+1, ..., greenhouse_gas_forward_indices, None].shape\n",
    "# baseline_concentration_array[None, None, ..., greenhouse_gas_forward_indices].shape\n",
    "# #unperturbed_lifetime_array.shape"
   ]
  },
  {
   "cell_type": "code",
   "execution_count": null,
   "id": "a7998707",
   "metadata": {},
   "outputs": [],
   "source": [
    "def meinshausen(\n",
    "    concentration,\n",
    "    baseline_concentration,\n",
    "    forcing_scaling,\n",
    "    radiative_efficiency,\n",
    "    co2_indices,\n",
    "    ch4_indices,\n",
    "    n2o_indices,\n",
    "    minor_greenhouse_gas_indices,\n",
    "    a1 = -2.4785e-07,\n",
    "    b1 = 0.00075906,\n",
    "    c1 = -0.0021492,\n",
    "    d1 = 5.2488,\n",
    "    a2 = -0.00034197,\n",
    "    b2 = 0.00025455,\n",
    "    c2 = -0.00024357,\n",
    "    d2 = 0.12173,\n",
    "    a3 = -8.9603e-05,\n",
    "    b3 = -0.00012462,\n",
    "    d3 = 0.045194,\n",
    "    ):\n",
    "    \n",
    "    erf_out = np.ones_like(concentration) * np.nan\n",
    "\n",
    "    # easier to deal with smaller arrays\n",
    "    co2 = concentration[..., co2_indices]\n",
    "    ch4 = concentration[..., ch4_indices]\n",
    "    n2o = concentration[..., n2o_indices]\n",
    "    co2_base = baseline_concentration[..., co2_indices]\n",
    "    ch4_base = baseline_concentration[..., ch4_indices]\n",
    "    n2o_base = baseline_concentration[..., n2o_indices]\n",
    "    \n",
    "    # CO2\n",
    "    ca_max = co2_base - b1/(2*a1)\n",
    "    where_central = np.asarray((co2_base < co2) & (co2 <= ca_max)).nonzero()\n",
    "    where_low = np.asarray((co2 <= co2_base)).nonzero()\n",
    "    where_high = np.asarray((co2 > ca_max)).nonzero()\n",
    "    alpha_p = np.ones_like(co2) * np.nan\n",
    "    alpha_p[where_central] = d1 + a1*(co2[where_central] - co2_base[where_central])**2 + b1*(co2[where_central] - co2_base[where_central])\n",
    "    alpha_p[where_low] = d1\n",
    "    alpha_p[where_high] = d1 - b1**2/(4*a1)\n",
    "    alpha_n2o = c1*np.sqrt(n2o)\n",
    "    erf_out[..., co2_indices] = (alpha_p + alpha_n2o) * np.log(co2/co2_base) * (forcing_scaling[..., co2_indices])\n",
    "\n",
    "    # CH4\n",
    "    erf_out[..., ch4_indices] = (\n",
    "        (a3*np.sqrt(ch4) + b3*np.sqrt(n2o) + d3) *\n",
    "        (np.sqrt(ch4) - np.sqrt(ch4_base))\n",
    "    )  * (forcing_scaling[..., ch4_indices])\n",
    "    \n",
    "    # N2O\n",
    "    erf_out[..., n2o_indices] = (\n",
    "        (a2*np.sqrt(co2) + b2*np.sqrt(n2o) + c2*np.sqrt(ch4) + d2) *\n",
    "        (np.sqrt(n2o) - np.sqrt(n2o_base))\n",
    "    )  * (forcing_scaling[..., n2o_indices])\n",
    "    \n",
    "    # linear for other gases\n",
    "    # TODO: move to a general linear function\n",
    "    erf_out[..., minor_greenhouse_gas_indices] = (\n",
    "        (concentration[..., minor_greenhouse_gas_indices] - baseline_concentration[..., minor_greenhouse_gas_indices])\n",
    "        * radiative_efficiency[..., minor_greenhouse_gas_indices] * 0.001   # unit handling\n",
    "    ) * (forcing_scaling[..., minor_greenhouse_gas_indices])\n",
    "    \n",
    "    return erf_out"
   ]
  },
  {
   "cell_type": "code",
   "execution_count": null,
   "id": "070a3dcb",
   "metadata": {},
   "outputs": [],
   "source": [
    "SPECIES_AXIS=3\n",
    "\n",
    "def calculate_erfari_forcing(\n",
    "    emissions,\n",
    "    concentration,\n",
    "    baseline_emissions,\n",
    "    baseline_concentration,\n",
    "    forcing_scaling,\n",
    "    radiative_efficiency,\n",
    "    emissions_indices,\n",
    "    concentration_indices\n",
    "):\n",
    "\n",
    "#    # zeros because nansum is slow?\n",
    "#    erf_out = np.zeros((emissions.shape[0], emissions.shape[1], emissions.shape[2], emissions.shape[3]))\n",
    "    erf_out = np.ones_like(emissions) * np.nan\n",
    "    \n",
    "    # emissions-driven forcers\n",
    "    erf_out[..., emissions_indices] = (\n",
    "        (emissions[..., emissions_indices] - baseline_emissions[..., emissions_indices])\n",
    "        * radiative_efficiency[..., emissions_indices]\n",
    "    ) * forcing_scaling[..., emissions_indices]\n",
    "\n",
    "    # concentration-driven forcers\n",
    "    erf_out[..., concentration_indices] = (\n",
    "        (concentration[..., concentration_indices] - baseline_emissions[..., concentration_indices])\n",
    "        * radiative_efficiency[..., concentration_indices]\n",
    "    ) * forcing_scaling[..., concentration_indices]\n",
    "\n",
    "    # in future we can retain contributions from each species. Will need one ERFari\n",
    "    # array index for each species so we don't do this here yet.\n",
    "    return np.nansum(erf_out, axis=SPECIES_AXIS, keepdims=True)"
   ]
  },
  {
   "cell_type": "code",
   "execution_count": null,
   "id": "61fc5d33",
   "metadata": {},
   "outputs": [],
   "source": [
    "def calculate_erfaci_forcing(\n",
    "    emissions,\n",
    "    baseline_emissions,\n",
    "    forcing_scaling,\n",
    "    scale,\n",
    "    shape_sulfur,\n",
    "    shape_bcoc,\n",
    "    sulfur_index,\n",
    "    bc_index,\n",
    "    oc_index,\n",
    "    aci_method,\n",
    "):\n",
    "\n",
    "    sulfur = emissions[..., sulfur_index]\n",
    "    sulfur_base = baseline_emissions[..., sulfur_index]\n",
    "\n",
    "    if aci_method==\"Smith2021\":\n",
    "        bc = emissions[..., bc_index]\n",
    "        bc_base = baseline_emissions[..., bc_index]\n",
    "        oc = emissions[..., oc_index]\n",
    "        oc_base = baseline_emissions[..., oc_index]\n",
    "\n",
    "    else:\n",
    "        bc = bc_base = oc = oc_base = 0\n",
    "        shape_bcoc = 100  # anything to avoid divide by zero\n",
    "\n",
    "    # TODO: raise an error if sulfur, BC and OC are not all there\n",
    "    # TODO: check species going in\n",
    "    radiative_effect = -scale * np.log(\n",
    "        1 + sulfur/shape_sulfur +\n",
    "        (bc + oc)/shape_bcoc\n",
    "    )\n",
    "    baseline_radiative_effect = -scale * np.log(\n",
    "        1 + sulfur_base/shape_sulfur +\n",
    "        (bc_base + oc_base)/shape_bcoc\n",
    "    )\n",
    "\n",
    "    erf_out = (radiative_effect - baseline_radiative_effect) * forcing_scaling\n",
    "    return erf_out"
   ]
  },
  {
   "cell_type": "code",
   "execution_count": null,
   "id": "72995aee",
   "metadata": {},
   "outputs": [],
   "source": [
    "IIRF_MAX = 100\n",
    "\n",
    "# forcing at t=0 from baseline_concentrations and baseline_emissions\n",
    "\n",
    "# error check: for Meinshausen/Etminan/Myhre, we require np.sum(co2_indices+ch4_indices+n2o_indices)=3\n",
    "\n",
    "for i_timepoint in tqdm(range(n_timepoints)):     \n",
    "    \n",
    "    # 1. alpha scaling\n",
    "    alpha_lifetime_array[i_timepoint:i_timepoint+1, ..., greenhouse_gas_indices] = calculate_alpha(   # this timepoint\n",
    "        airborne_emissions_array[i_timepoint:i_timepoint+1, ..., greenhouse_gas_indices],  # last timebound\n",
    "        cumulative_emissions_array[i_timepoint:i_timepoint+1, ..., greenhouse_gas_indices],  # last timebound\n",
    "        g0_array[None, None, ..., greenhouse_gas_indices],\n",
    "        g1_array[None, None, ..., greenhouse_gas_indices],\n",
    "        iirf_0_array[None, None, ..., greenhouse_gas_indices],\n",
    "        iirf_airborne_array[None, None, ..., greenhouse_gas_indices],\n",
    "        iirf_temperature_array[None, None, ..., greenhouse_gas_indices],\n",
    "        iirf_uptake_array[None, None, ..., greenhouse_gas_indices],\n",
    "        0,  # temperature here # last timebound\n",
    "        IIRF_MAX\n",
    "    )\n",
    "    # 2. methane lifetime here\n",
    "    # 3. emissions to concentrations\n",
    "    (\n",
    "        concentration_array[i_timepoint+1:i_timepoint+2, ..., greenhouse_gas_forward_indices], \n",
    "        gas_partitions_array[..., greenhouse_gas_forward_indices, :], \n",
    "        airborne_emissions_array[i_timepoint+1:i_timepoint+2, ..., greenhouse_gas_forward_indices]\n",
    "    ) = step_concentration( \n",
    "        emissions_array[i_timepoint:i_timepoint+1, ..., greenhouse_gas_forward_indices, None],  # this timepoint\n",
    "        gas_partitions_array[..., greenhouse_gas_forward_indices, :], # last timebound\n",
    "        airborne_emissions_array[i_timepoint+1:i_timepoint+2, ..., greenhouse_gas_forward_indices, None],  # last timebound\n",
    "        alpha_lifetime_array[i_timepoint:i_timepoint+1, ..., greenhouse_gas_forward_indices, None],\n",
    "        baseline_concentration_array[None, None, ..., greenhouse_gas_forward_indices],\n",
    "        baseline_emissions_array[None, None, ..., greenhouse_gas_forward_indices, None],\n",
    "        concentration_per_emission_array[None, None, ..., greenhouse_gas_forward_indices],\n",
    "        unperturbed_lifetime_array[None, None, ..., greenhouse_gas_forward_indices, :],\n",
    "#        oxidation_matrix,\n",
    "        partition_fraction_array[None, None, ..., greenhouse_gas_forward_indices, :],\n",
    "        timestep,\n",
    "    )\n",
    "    # 4. concentrations to emissions\n",
    "    (\n",
    "        emissions_array[i_timepoint:i_timepoint+1, ..., greenhouse_gas_inverse_indices], \n",
    "        gas_partitions_array[..., greenhouse_gas_inverse_indices, :], \n",
    "        airborne_emissions_array[i_timepoint+1:i_timepoint+2, ..., greenhouse_gas_inverse_indices]\n",
    "    ) = unstep_concentration( \n",
    "        concentration_array[i_timepoint+1:i_timepoint+2, ..., greenhouse_gas_inverse_indices],  # this timepoint\n",
    "        gas_partitions_array[None, ..., greenhouse_gas_inverse_indices, :], # last timebound\n",
    "        airborne_emissions_array[i_timepoint:i_timepoint+1, ..., greenhouse_gas_inverse_indices, None],  # last timebound\n",
    "        alpha_lifetime_array[i_timepoint:i_timepoint+1, ..., greenhouse_gas_inverse_indices, None],\n",
    "        baseline_concentration_array[None, None, ..., greenhouse_gas_inverse_indices],\n",
    "        baseline_emissions_array[None, None, ..., greenhouse_gas_inverse_indices],\n",
    "        concentration_per_emission_array[None, None, ..., greenhouse_gas_inverse_indices],\n",
    "        unperturbed_lifetime_array[None, None, ..., greenhouse_gas_inverse_indices, :],\n",
    "#        oxidation_matrix,\n",
    "        partition_fraction_array[None, None, ..., greenhouse_gas_inverse_indices, :],\n",
    "        timestep,\n",
    "    )\n",
    "    cumulative_emissions_array[i_timepoint+1, ..., greenhouse_gas_inverse_indices] = cumulative_emissions_array[i_timepoint, ..., greenhouse_gas_inverse_indices] + emissions_array[i_timepoint, ..., greenhouse_gas_inverse_indices] * timestep\n",
    "    \n",
    "    # 5. greenhouse gas concentrations to forcing\n",
    "    forcing_array[i_timepoint+1:i_timepoint+2, ..., greenhouse_gas_indices] = meinshausen(\n",
    "        concentration_array[i_timepoint+1:i_timepoint+2, ...],\n",
    "        baseline_concentration_array[None, None, ...] * np.ones((1, n_scenarios, n_configs, n_species)),\n",
    "        forcing_scale_array[None, None, ...],\n",
    "        greenhouse_gas_radiative_efficiency_array[None, None, ...],\n",
    "        co2_indices,\n",
    "        ch4_indices,\n",
    "        n2o_indices,\n",
    "        minor_greenhouse_gas_indices,\n",
    "    )[0:1, ..., greenhouse_gas_indices]\n",
    "    \n",
    "    # 6. aerosol direct forcing\n",
    "    forcing_array[i_timepoint+1:i_timepoint+2, ..., aerosol_radiation_interactions_indices] = calculate_erfari_forcing(\n",
    "        emissions_array[i_timepoint:i_timepoint+1, ...],\n",
    "        concentration_array[i_timepoint+1:i_timepoint+2, ...],\n",
    "        baseline_emissions_array[None, None, ...],\n",
    "        baseline_concentration_array[None, None, ...],\n",
    "        forcing_scale_array[None, None, ...],\n",
    "        erfari_radiative_efficiency_array[None, None, ...],\n",
    "        aerosol_radiation_from_emissions_indices,\n",
    "        aerosol_radiation_from_concentration_indices,\n",
    "    )\n",
    "    \n",
    "    # 7. aerosol indirect forcing\n",
    "    forcing_array[i_timepoint+1:i_timepoint+2, ..., aerosol_cloud_interactions_indices] = calculate_erfaci_forcing(\n",
    "        emissions_array[i_timepoint:i_timepoint+1, ...],\n",
    "        baseline_emissions_array[None, None, ...],\n",
    "        forcing_scale_array[None, None, ..., aerosol_cloud_interactions_indices],\n",
    "        erfaci_scale_array[None, None, :, None],\n",
    "        erfaci_shape_sulfur_array[None, None, :, None],\n",
    "        erfaci_shape_bcoc_array[None, None, :, None],\n",
    "        sulfur_indices,\n",
    "        bc_indices,\n",
    "        oc_indices,\n",
    "        aci_method\n",
    "    )"
   ]
  },
  {
   "cell_type": "code",
   "execution_count": null,
   "id": "87b3b2f4",
   "metadata": {},
   "outputs": [],
   "source": [
    "forcing_scale_array[None, None, ..., aerosol_cloud_interactions_indices].shape"
   ]
  },
  {
   "cell_type": "code",
   "execution_count": null,
   "id": "775ff44e",
   "metadata": {},
   "outputs": [],
   "source": [
    "erfari_radiative_efficiency_array"
   ]
  },
  {
   "cell_type": "code",
   "execution_count": null,
   "id": "ccc1e960",
   "metadata": {},
   "outputs": [],
   "source": [
    "concentration_array.shape\n",
    "#baseline_concentration_array.shape"
   ]
  },
  {
   "cell_type": "code",
   "execution_count": null,
   "id": "0dcc2875",
   "metadata": {},
   "outputs": [],
   "source": [
    "pl.plot(timepoints, emissions_array[:,:,:,5].reshape(n_timepoints, -1));"
   ]
  },
  {
   "cell_type": "code",
   "execution_count": null,
   "id": "e62c2431",
   "metadata": {},
   "outputs": [],
   "source": [
    "pl.plot(timepoints, emissions_array[:,1,:,3].reshape(n_timepoints, -1));"
   ]
  },
  {
   "cell_type": "code",
   "execution_count": null,
   "id": "f14f92e4",
   "metadata": {},
   "outputs": [],
   "source": [
    "pl.plot(timepoints, emissions_array[:,1,:,4].reshape(n_timepoints, -1));"
   ]
  },
  {
   "cell_type": "code",
   "execution_count": null,
   "id": "a1eca3b2",
   "metadata": {},
   "outputs": [],
   "source": [
    "pl.plot(timebounds, concentration_array[:,:,:,2].reshape(n_timebounds, -1));"
   ]
  },
  {
   "cell_type": "code",
   "execution_count": null,
   "id": "c59bccee",
   "metadata": {},
   "outputs": [],
   "source": [
    "pl.plot(timebounds, forcing_array[:,:,:,2].reshape(n_timebounds, -1));"
   ]
  },
  {
   "cell_type": "code",
   "execution_count": null,
   "id": "06e48597",
   "metadata": {},
   "outputs": [],
   "source": [
    "pl.plot(timebounds, forcing_array[:,:,:,6].reshape(n_timebounds, -1));"
   ]
  },
  {
   "cell_type": "code",
   "execution_count": null,
   "id": "67f452ee",
   "metadata": {},
   "outputs": [],
   "source": [
    "pl.plot(timebounds, forcing_array[:,:,:,7].reshape(n_timebounds, -1));"
   ]
  },
  {
   "cell_type": "code",
   "execution_count": null,
   "id": "7f8219fc",
   "metadata": {},
   "outputs": [],
   "source": [
    "pl.plot(timebounds, forcing_array[:,:,:,6].reshape(n_timebounds, -1) + forcing_array[:,:,:,7].reshape(n_timebounds, -1));"
   ]
  },
  {
   "cell_type": "code",
   "execution_count": null,
   "id": "a54337aa",
   "metadata": {},
   "outputs": [],
   "source": []
  }
 ],
 "metadata": {
  "kernelspec": {
   "display_name": "Python 3 (ipykernel)",
   "language": "python",
   "name": "python3"
  },
  "language_info": {
   "codemirror_mode": {
    "name": "ipython",
    "version": 3
   },
   "file_extension": ".py",
   "mimetype": "text/x-python",
   "name": "python",
   "nbconvert_exporter": "python",
   "pygments_lexer": "ipython3",
   "version": "3.7.12"
  }
 },
 "nbformat": 4,
 "nbformat_minor": 5
}
