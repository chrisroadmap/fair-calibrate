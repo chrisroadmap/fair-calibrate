{
 "cells": [
  {
   "cell_type": "markdown",
   "id": "e94a945b",
   "metadata": {},
   "source": [
    "# Make CEDS and GCP historical emissions"
   ]
  },
  {
   "cell_type": "code",
   "execution_count": null,
   "id": "4866e230",
   "metadata": {},
   "outputs": [],
   "source": [
    "import os\n",
    "import zipfile\n",
    "\n",
    "import pandas as pd\n",
    "import pooch"
   ]
  },
  {
   "cell_type": "code",
   "execution_count": null,
   "id": "d47b642c",
   "metadata": {},
   "outputs": [],
   "source": [
    "# CEDS emissions: newest version\n",
    "ceds_zip = pooch.retrieve(\n",
    "    \"https://zenodo.org/record/4741285/files/CEDS_v2021-04-21_emissions.zip\",\n",
    "    known_hash=\"md5:01659c651754a66ddf3d79715a2ba841\",\n",
    "    progressbar=True\n",
    ")"
   ]
  },
  {
   "cell_type": "code",
   "execution_count": null,
   "id": "8e5d42bf",
   "metadata": {},
   "outputs": [],
   "source": [
    "os.makedirs('../data/ceds/CEDS_v2021-04-21_emissions/', exist_ok=True)\n",
    "with zipfile.ZipFile(ceds_zip, 'r') as z:\n",
    "    z.extractall(path='../data/ceds/CEDS_v2021-04-21_emissions/')"
   ]
  },
  {
   "cell_type": "code",
   "execution_count": null,
   "id": "762fbef6",
   "metadata": {},
   "outputs": [],
   "source": [
    "pd.read_csv('../data/ceds/CEDS_v2021-04-21_emissions/CH4_global_CEDS_emissions_by_sector_2021_04_21.csv')"
   ]
  },
  {
   "cell_type": "code",
   "execution_count": null,
   "id": "cf398111",
   "metadata": {},
   "outputs": [],
   "source": []
  }
 ],
 "metadata": {
  "kernelspec": {
   "display_name": "Python 3",
   "language": "python",
   "name": "python3"
  },
  "language_info": {
   "codemirror_mode": {
    "name": "ipython",
    "version": 3
   },
   "file_extension": ".py",
   "mimetype": "text/x-python",
   "name": "python",
   "nbconvert_exporter": "python",
   "pygments_lexer": "ipython3",
   "version": "3.10.6"
  }
 },
 "nbformat": 4,
 "nbformat_minor": 5
}
