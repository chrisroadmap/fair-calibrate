{
 "cells": [
  {
   "cell_type": "markdown",
   "id": "169de3f6",
   "metadata": {},
   "source": [
    "# Scipy 1.9.1 EBM-only test\n",
    "\n",
    "We are pretty confident scipy is the issue: but does it make a difference if you call the EBM not from FaIR?"
   ]
  },
  {
   "cell_type": "code",
   "execution_count": null,
   "id": "0272a265",
   "metadata": {},
   "outputs": [],
   "source": [
    "import os\n",
    "\n",
    "import matplotlib.pyplot as pl\n",
    "import numpy as np\n",
    "import pandas as pd\n",
    "\n",
    "from fair.energy_balance_model import EnergyBalanceModel"
   ]
  },
  {
   "cell_type": "code",
   "execution_count": null,
   "id": "aa1d8f4d",
   "metadata": {},
   "outputs": [],
   "source": [
    "df_forcing = pd.read_csv(\n",
    "    os.path.join(\"..\", \"data\", \"forcing\", \"RFMIP-ERF-tier2.csv\")\n",
    ")"
   ]
  },
  {
   "cell_type": "code",
   "execution_count": null,
   "id": "60fd40f1",
   "metadata": {},
   "outputs": [],
   "source": [
    "df_cr = pd.read_csv(os.path.join(\"..\", \"data\", \"calibration\", \"4xCO2_cummins_ebm3.csv\"))\n",
    "\n",
    "cr = {}\n",
    "                    \n",
    "for irow, row in df_cr.iterrows():\n",
    "    cr[row.model, row.run] = EnergyBalanceModel(\n",
    "        ocean_heat_capacity=[row.C1, row.C2, row.C3],\n",
    "        ocean_heat_transfer=[row.kappa1, row.kappa2, row.kappa3],\n",
    "        deep_ocean_efficacy=row.epsilon,\n",
    "        gamma_autocorrelation=row.gamma,\n",
    "        sigma_xi=row.sigma_xi,\n",
    "        sigma_eta=row.sigma_eta,\n",
    "        forcing_4co2=row.F_4xCO2,\n",
    "        stochastic_run=True,\n",
    "        seed=16\n",
    "    )\n",
    "    cr[row.model, row.run].add_forcing(forcing = df_forcing['GISS-E2-1-G TOT'].values, timestep=1)"
   ]
  },
  {
   "cell_type": "code",
   "execution_count": null,
   "id": "7bfa6aba",
   "metadata": {},
   "outputs": [],
   "source": [
    "for irow, row in df_cr.iterrows():\n",
    "    cr[row.model, row.run].run()"
   ]
  },
  {
   "cell_type": "code",
   "execution_count": null,
   "id": "a49788fc",
   "metadata": {},
   "outputs": [],
   "source": [
    "for irow, row in df_cr.iterrows():\n",
    "    pl.plot(cr[row.model, row.run].temperature[:,0])"
   ]
  },
  {
   "cell_type": "code",
   "execution_count": null,
   "id": "910785d2",
   "metadata": {},
   "outputs": [],
   "source": [
    "for irow, row in df_cr.iterrows():\n",
    "    pl.plot(cr[row.model, row.run].temperature[:,1])"
   ]
  },
  {
   "cell_type": "code",
   "execution_count": null,
   "id": "5024bf5b",
   "metadata": {},
   "outputs": [],
   "source": [
    "for irow, row in df_cr.iterrows():\n",
    "    pl.plot(cr[row.model, row.run].temperature[:,2])"
   ]
  },
  {
   "cell_type": "code",
   "execution_count": null,
   "id": "5c5b8caf",
   "metadata": {},
   "outputs": [],
   "source": [
    "cr[row.model, row.run].temperature.shape"
   ]
  },
  {
   "cell_type": "markdown",
   "id": "f6e27c8c",
   "metadata": {},
   "source": [
    "Well, I suppose the good news, if there is good news, is that it isn't FaIR causing the issues."
   ]
  },
  {
   "cell_type": "code",
   "execution_count": null,
   "id": "f2407e68",
   "metadata": {},
   "outputs": [],
   "source": [
    "# these are the culprits!\n",
    "\n",
    "for irow, row in df_cr.iterrows():\n",
    "    if max(cr[row.model, row.run].temperature[:,0])>10:\n",
    "        print(row.model, row.run)"
   ]
  },
  {
   "cell_type": "code",
   "execution_count": null,
   "id": "a51f8924",
   "metadata": {},
   "outputs": [],
   "source": [
    "cr_determ = {}\n",
    "\n",
    "for irow, row in df_cr.iterrows():\n",
    "    cr_determ[row.model, row.run] = EnergyBalanceModel(\n",
    "        ocean_heat_capacity=[row.C1, row.C2, row.C3],\n",
    "        ocean_heat_transfer=[row.kappa1, row.kappa2, row.kappa3],\n",
    "        deep_ocean_efficacy=row.epsilon,\n",
    "        gamma_autocorrelation=row.gamma,\n",
    "        sigma_xi=row.sigma_xi,\n",
    "        sigma_eta=row.sigma_eta,\n",
    "        forcing_4co2=row.F_4xCO2,\n",
    "        stochastic_run=False,\n",
    "        seed=16\n",
    "    )\n",
    "    cr_determ[row.model, row.run].add_forcing(forcing = df_forcing['GISS-E2-1-G TOT'].values, timestep=1)"
   ]
  },
  {
   "cell_type": "code",
   "execution_count": null,
   "id": "7661d59b",
   "metadata": {},
   "outputs": [],
   "source": [
    "for irow, row in df_cr.iterrows():\n",
    "    cr_determ[row.model, row.run].run()"
   ]
  },
  {
   "cell_type": "code",
   "execution_count": null,
   "id": "44afa9fc",
   "metadata": {},
   "outputs": [],
   "source": [
    "for irow, row in df_cr.iterrows():\n",
    "    pl.plot(cr_determ[row.model, row.run].temperature[:,0])"
   ]
  },
  {
   "cell_type": "markdown",
   "id": "899ed5ed",
   "metadata": {},
   "source": [
    "We can see the deterministic model is behaving. So the issue is entirely in the stochastic model."
   ]
  },
  {
   "cell_type": "code",
   "execution_count": null,
   "id": "729b6385",
   "metadata": {},
   "outputs": [],
   "source": [
    "cr[('CAMS-CSM1-0', 'r1i1p1f1')].stochastic_d"
   ]
  },
  {
   "cell_type": "code",
   "execution_count": null,
   "id": "8e02a64c",
   "metadata": {},
   "outputs": [],
   "source": [
    "cr[('CAMS-CSM1-0', 'r1i1p1f1')].eb_matrix_d"
   ]
  },
  {
   "cell_type": "code",
   "execution_count": null,
   "id": "499daadc",
   "metadata": {},
   "outputs": [],
   "source": [
    "cr[('UKESM1-0-LL', 'r1i1p1f2')].eb_matrix_d"
   ]
  },
  {
   "cell_type": "code",
   "execution_count": null,
   "id": "0dc2d21d",
   "metadata": {},
   "outputs": [],
   "source": [
    "for irow, row in df_cr.iterrows():\n",
    "    print(row.model, row.run, cr[row.model, row.run].eb_matrix_d[0,0])"
   ]
  },
  {
   "cell_type": "code",
   "execution_count": null,
   "id": "cbe86569",
   "metadata": {},
   "outputs": [],
   "source": [
    "cr[('CAMS-CSM1-0', 'r1i1p1f1')].ocean_heat_capacity"
   ]
  },
  {
   "cell_type": "code",
   "execution_count": null,
   "id": "85a9c526",
   "metadata": {},
   "outputs": [],
   "source": [
    "cr[('CAMS-CSM1-0', 'r1i1p1f1')].ocean_heat_transfer"
   ]
  },
  {
   "cell_type": "code",
   "execution_count": null,
   "id": "8fdcd2b1",
   "metadata": {},
   "outputs": [],
   "source": [
    "cr[('CAMS-CSM1-0', 'r1i1p1f1')].deep_ocean_efficacy"
   ]
  },
  {
   "cell_type": "code",
   "execution_count": null,
   "id": "6ca6d5bf",
   "metadata": {},
   "outputs": [],
   "source": []
  }
 ],
 "metadata": {
  "kernelspec": {
   "display_name": "Python 3 (ipykernel)",
   "language": "python",
   "name": "python3"
  },
  "language_info": {
   "codemirror_mode": {
    "name": "ipython",
    "version": 3
   },
   "file_extension": ".py",
   "mimetype": "text/x-python",
   "name": "python",
   "nbconvert_exporter": "python",
   "pygments_lexer": "ipython3",
   "version": "3.10.6"
  }
 },
 "nbformat": 4,
 "nbformat_minor": 5
}
