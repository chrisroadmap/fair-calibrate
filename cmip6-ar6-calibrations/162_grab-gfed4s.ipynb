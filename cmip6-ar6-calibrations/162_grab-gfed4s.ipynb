{
 "cells": [
  {
   "cell_type": "markdown",
   "id": "16429247",
   "metadata": {},
   "source": [
    "# TODO: use Pooch for these files\n",
    "\n",
    "source: \n",
    "actually try these! https://www.geo.vu.nl/~gwerf/GFED/GFED4/tables/GFED4.1s_NMHC.txt"
   ]
  },
  {
   "cell_type": "code",
   "execution_count": null,
   "id": "8fa7c981",
   "metadata": {},
   "outputs": [],
   "source": [
    "import h5py\n",
    "import matplotlib.pyplot as pl"
   ]
  },
  {
   "cell_type": "code",
   "execution_count": null,
   "id": "a3441665",
   "metadata": {},
   "outputs": [],
   "source": [
    "f = h5py.File('/nfs/b0110/Data/GFED4s/GFED4.1s_1997.hdf5')"
   ]
  },
  {
   "cell_type": "code",
   "execution_count": null,
   "id": "1f8c2fb3",
   "metadata": {},
   "outputs": [],
   "source": [
    "f.keys()"
   ]
  },
  {
   "cell_type": "code",
   "execution_count": null,
   "id": "38fe637c",
   "metadata": {},
   "outputs": [],
   "source": [
    "f['/ancill'].keys()"
   ]
  },
  {
   "cell_type": "code",
   "execution_count": null,
   "id": "fc1260fb",
   "metadata": {},
   "outputs": [],
   "source": [
    "pl.contourf(f['/lon'][:], f['/lat'][:], f['/ancill/basis_regions'][:])"
   ]
  },
  {
   "cell_type": "code",
   "execution_count": null,
   "id": "9bc1a55a",
   "metadata": {},
   "outputs": [],
   "source": [
    "f['/ancill/grid_cell_area'][:]"
   ]
  },
  {
   "cell_type": "code",
   "execution_count": null,
   "id": "eea93d76",
   "metadata": {},
   "outputs": [],
   "source": [
    "# this is the original code from https://www.geo.vu.nl/~gwerf/GFED/GFED4/ancill/code/get_GFED4s_CO_emissions.py\n",
    "\n",
    "\n",
    "\n",
    "import numpy as np\n",
    "import h5py # if this creates an error please make sure you have the h5py library\n",
    "\n",
    "months       = '01','02','03','04','05','06','07','08','09','10','11','12'\n",
    "sources      = 'SAVA','BORF','TEMF','DEFO','PEAT','AGRI'\n",
    "\n",
    "# in this example we will calculate annual CO emissions for the 14 GFED \n",
    "# basisregions over 1997-2014. Please adjust the code to calculate emissions\n",
    "# for your own specie, region, and time period of interest. Please\n",
    "# first download the GFED4.1s files and the GFED4_Emission_Factors.txt\n",
    "# to your computer and adjust the directory where you placed them below\n",
    "\n",
    "directory    = '......'\n",
    "\n",
    "\n",
    "\"\"\"\n",
    "Read in emission factors\n",
    "\"\"\"\n",
    "species = [] # names of the different gas and aerosol species\n",
    "EFs     = np.zeros((41, 6)) # 41 species, 6 sources\n",
    "\n",
    "k = 0\n",
    "f = open(directory+'/GFED4_Emission_Factors.txt')\n",
    "while 1:\n",
    "    line = f.readline()\n",
    "    if line == \"\":\n",
    "        break\n",
    "        \n",
    "    if line[0] != '#':\n",
    "        contents = line.split()\n",
    "        species.append(contents[0])\n",
    "        EFs[k,:] = contents[1:]\n",
    "        k += 1\n",
    "                \n",
    "f.close()\n",
    "\n",
    "# we are interested in CO for this example (4th row):\n",
    "EF_CO = EFs[3,:]\n",
    "\n",
    "start_year = 1997\n",
    "end_year   = 2014\n",
    "\n",
    "\n",
    "\n",
    "\"\"\"\n",
    "make table with summed DM emissions for each region, year, and source\n",
    "\"\"\"\n",
    "CO_table = np.zeros((15, end_year - start_year + 1)) # region, year\n",
    "\n",
    "for year in range(start_year, end_year+1):\n",
    "    string = directory+'/GFED4.1s_'+str(year)+'.hdf5'\n",
    "    f = h5py.File(string, 'r')\n",
    "    \n",
    "    \n",
    "    if year == start_year: # these are time invariable    \n",
    "        basis_regions = f['/ancill/basis_regions'][:]\n",
    "        grid_area     = f['/ancill/grid_cell_area'][:]\n",
    "    \n",
    "    \n",
    "    CO_emissions = np.zeros((720, 1440))\n",
    "    for month in range(12):\n",
    "        # read in DM emissions\n",
    "        string = '/emissions/'+months[month]+'/DM'\n",
    "        DM_emissions = f[string][:]\n",
    "        for source in range(6):\n",
    "            # read in the fractional contribution of each source\n",
    "            string = '/emissions/'+months[month]+'/partitioning/DM_'+sources[source]\n",
    "            contribution = f[string][:]\n",
    "            # calculate CO emissions as the product of DM emissions (kg DM per \n",
    "            # m2 per month), the fraction the specific source contributes to \n",
    "            # this (unitless), and the emission factor (g CO per kg DM burned)\n",
    "            CO_emissions += DM_emissions * contribution * EF_CO[source]\n",
    "    \n",
    "    \n",
    "    # fill table with total values for the globe (row 15) or basisregion (1-14)\n",
    "    for region in range(15):\n",
    "        if region == 14:\n",
    "            mask = np.ones((720, 1440))\n",
    "        else:\n",
    "            mask = basis_regions == (region + 1)            \n",
    "    \n",
    "        CO_table[region, year-start_year] = np.sum(grid_area * mask * CO_emissions)\n",
    "        \n",
    "    print year\n",
    "        \n",
    "# convert to Tg CO \n",
    "CO_table = CO_table / 1E12\n",
    "print CO_table\n",
    "\n",
    "# please compare this to http://www.falw.vu/~gwerf/GFED/GFED4/tables/GFED4.1s_CO.txt"
   ]
  }
 ],
 "metadata": {
  "kernelspec": {
   "display_name": "Python 3",
   "language": "python",
   "name": "python3"
  },
  "language_info": {
   "codemirror_mode": {
    "name": "ipython",
    "version": 3
   },
   "file_extension": ".py",
   "mimetype": "text/x-python",
   "name": "python",
   "nbconvert_exporter": "python",
   "pygments_lexer": "ipython3",
   "version": "3.10.6"
  }
 },
 "nbformat": 4,
 "nbformat_minor": 5
}
