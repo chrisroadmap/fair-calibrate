{
 "cells": [
  {
   "cell_type": "code",
   "execution_count": null,
   "id": "e28ca19a",
   "metadata": {},
   "outputs": [],
   "source": [
    "import pandas as pd\n",
    "import xlrd\n",
    "import numpy as np\n",
    "\n",
    "import glob\n",
    "import os"
   ]
  },
  {
   "cell_type": "code",
   "execution_count": null,
   "id": "5b6e8e57",
   "metadata": {},
   "outputs": [],
   "source": [
    "EDGAR_DIR = os.path.join(\"..\", \"data\", \"edgar-4.3.2\")"
   ]
  },
  {
   "cell_type": "code",
   "execution_count": null,
   "id": "b9481560",
   "metadata": {},
   "outputs": [],
   "source": [
    "totals = {}\n",
    "for voc in range(1, 26):\n",
    "    df = pd.read_excel(\n",
    "        glob.glob(os.path.join(EDGAR_DIR, f'*_voc{voc}_*.xls'))[0],\n",
    "        sheet_name=1,\n",
    "        skiprows=9,\n",
    "    )\n",
    "    totals[f'VOC{voc}'] = df.sum().loc[1970:]\n",
    "    \n",
    "del(totals['VOC10'])\n",
    "del(totals['VOC11'])"
   ]
  },
  {
   "cell_type": "code",
   "execution_count": null,
   "id": "a8e877be",
   "metadata": {},
   "outputs": [],
   "source": [
    "emissions = pd.DataFrame(totals)"
   ]
  },
  {
   "cell_type": "code",
   "execution_count": null,
   "id": "1746a9ac",
   "metadata": {},
   "outputs": [],
   "source": [
    "molwt = pd.Series({\n",
    "    'VOC1':46.2,\n",
    "    'VOC2':30,\n",
    "    'VOC3':44,\n",
    "    'VOC4':57.8,\n",
    "    'VOC5':72,\n",
    "    'VOC6':106.8,\n",
    "    'VOC7':28,\n",
    "    'VOC8':42,\n",
    "    'VOC9':26,\n",
    "    'VOC12':67,\n",
    "    'VOC13':78,\n",
    "    'VOC14':92,\n",
    "    'VOC15':106,\n",
    "    'VOC16':120,\n",
    "    'VOC17':126.8,\n",
    "    'VOC18':104.7,\n",
    "    'VOC19':81.5,\n",
    "    'VOC20':138.8,\n",
    "    'VOC21':30,\n",
    "    'VOC22':68.8,\n",
    "    'VOC23':75.3,\n",
    "    'VOC24':59.1,\n",
    "    'VOC25':68.9,\n",
    "})"
   ]
  },
  {
   "cell_type": "code",
   "execution_count": null,
   "id": "cb178e95",
   "metadata": {},
   "outputs": [],
   "source": [
    "mass_sum = emissions.sum(axis=1)\n",
    "mass_sum"
   ]
  },
  {
   "cell_type": "code",
   "execution_count": null,
   "id": "d876b8c3",
   "metadata": {},
   "outputs": [],
   "source": [
    "# normalised moles\n",
    "emissions / molwt"
   ]
  },
  {
   "cell_type": "code",
   "execution_count": null,
   "id": "fbde7670",
   "metadata": {},
   "outputs": [],
   "source": [
    "mol_sum = (emissions / molwt).sum(axis=1)\n",
    "mol_sum"
   ]
  },
  {
   "cell_type": "code",
   "execution_count": null,
   "id": "45173d41",
   "metadata": {},
   "outputs": [],
   "source": [
    "# weighted average VOC molar mass\n",
    "mass_sum/mol_sum"
   ]
  },
  {
   "cell_type": "code",
   "execution_count": null,
   "id": "82a2edb4",
   "metadata": {},
   "outputs": [],
   "source": [
    "(mass_sum/mol_sum).mean()"
   ]
  },
  {
   "cell_type": "code",
   "execution_count": null,
   "id": "6e51972f",
   "metadata": {},
   "outputs": [],
   "source": []
  }
 ],
 "metadata": {
  "kernelspec": {
   "display_name": "Python 3 (ipykernel)",
   "language": "python",
   "name": "python3"
  },
  "language_info": {
   "codemirror_mode": {
    "name": "ipython",
    "version": 3
   },
   "file_extension": ".py",
   "mimetype": "text/x-python",
   "name": "python",
   "nbconvert_exporter": "python",
   "pygments_lexer": "ipython3",
   "version": "3.7.12"
  }
 },
 "nbformat": 4,
 "nbformat_minor": 5
}
