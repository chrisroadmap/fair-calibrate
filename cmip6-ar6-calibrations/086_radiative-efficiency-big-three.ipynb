{
 "cells": [
  {
   "cell_type": "code",
   "execution_count": null,
   "id": "0e6a12e3",
   "metadata": {},
   "outputs": [],
   "source": [
    "from fair21.forcing.ghg import meinshausen\n",
    "import numpy as np"
   ]
  },
  {
   "cell_type": "code",
   "execution_count": null,
   "id": "4420f5a8",
   "metadata": {},
   "outputs": [],
   "source": [
    "co2 = 409.9\n",
    "ch4 = 1866.3\n",
    "n2o = 332.1"
   ]
  },
  {
   "cell_type": "code",
   "execution_count": null,
   "id": "099b63b4",
   "metadata": {},
   "outputs": [],
   "source": [
    "meinshausen(np.array([co2+0.001, ch4, n2o]), np.array([co2, ch4, n2o]))"
   ]
  },
  {
   "cell_type": "code",
   "execution_count": null,
   "id": "e4dc2c38",
   "metadata": {},
   "outputs": [],
   "source": [
    "meinshausen(np.array([co2, ch4+1, n2o]), np.array([co2, ch4, n2o]))"
   ]
  },
  {
   "cell_type": "code",
   "execution_count": null,
   "id": "d0b61428",
   "metadata": {},
   "outputs": [],
   "source": [
    "meinshausen(np.array([co2, ch4, n2o+1]), np.array([co2, ch4, n2o]))"
   ]
  },
  {
   "cell_type": "code",
   "execution_count": null,
   "id": "b440ee66",
   "metadata": {},
   "outputs": [],
   "source": []
  }
 ],
 "metadata": {
  "kernelspec": {
   "display_name": "Python 3 (ipykernel)",
   "language": "python",
   "name": "python3"
  },
  "language_info": {
   "codemirror_mode": {
    "name": "ipython",
    "version": 3
   },
   "file_extension": ".py",
   "mimetype": "text/x-python",
   "name": "python",
   "nbconvert_exporter": "python",
   "pygments_lexer": "ipython3",
   "version": "3.7.12"
  }
 },
 "nbformat": 4,
 "nbformat_minor": 5
}
