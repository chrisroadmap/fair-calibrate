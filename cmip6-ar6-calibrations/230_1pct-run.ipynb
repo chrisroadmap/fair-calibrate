{
 "cells": [
  {
   "cell_type": "markdown",
   "id": "3c94faff",
   "metadata": {},
   "source": [
    "# 1 percent CO2 run for carbon cycle metrics\n",
    "\n",
    "Could add this to the examples"
   ]
  },
  {
   "cell_type": "code",
   "execution_count": null,
   "id": "090acaf5",
   "metadata": {},
   "outputs": [],
   "source": [
    "import copy\n",
    "\n",
    "import numpy as np\n",
    "import pandas as pd\n",
    "import matplotlib.pyplot as pl\n",
    "import time\n",
    "import scipy.stats\n",
    "from tqdm import tqdm\n",
    "\n",
    "from fair21 import (\n",
    "    SpeciesID, Category, Config, Species, RunMode, Scenario, ClimateResponse, RunConfig, CH4LifetimeMethod, FAIR\n",
    ")\n",
    "from fair21.defaults import species_config_from_default"
   ]
  },
  {
   "cell_type": "code",
   "execution_count": null,
   "id": "038e5cd3",
   "metadata": {},
   "outputs": [],
   "source": [
    "species_ids = {\n",
    "    # Greenhouse gases\n",
    "    'CO2': SpeciesID('CO2', Category.CO2, run_mode=RunMode.CONCENTRATION),\n",
    "    'CH4': SpeciesID('CH4', Category.CH4, run_mode=RunMode.CONCENTRATION),\n",
    "    'N2O': SpeciesID('N2O', Category.N2O, run_mode=RunMode.CONCENTRATION),\n",
    "}"
   ]
  },
  {
   "cell_type": "code",
   "execution_count": null,
   "id": "e4ac69f6",
   "metadata": {},
   "outputs": [],
   "source": [
    "scenarios_to_include = ['1pctCO2']"
   ]
  },
  {
   "cell_type": "code",
   "execution_count": null,
   "id": "543ae808",
   "metadata": {},
   "outputs": [],
   "source": [
    "concentration_species = ['CO2', 'CH4', 'N2O']\n",
    "species_to_include = concentration_species"
   ]
  },
  {
   "cell_type": "code",
   "execution_count": null,
   "id": "3f8c0394",
   "metadata": {},
   "outputs": [],
   "source": [
    "df_conc = pd.read_csv('../data/rcmip/rcmip-concentrations-annual-means-v5-1-0.csv')\n",
    "df_conc.loc[(df_conc['Scenario']=='1pctCO2') & (df_conc['Variable'].str.endswith(\"|CO2\")),'1850']"
   ]
  },
  {
   "cell_type": "code",
   "execution_count": null,
   "id": "5188248f",
   "metadata": {},
   "outputs": [],
   "source": [
    "scenarios = []\n",
    "for iscen, scenario in enumerate(scenarios_to_include):\n",
    "    list_of_species = []\n",
    "    for ispec, species in enumerate(concentration_species):\n",
    "        species_rcmip_name = species.replace(\"-\", \"\")\n",
    "        if species == 'NOx_aviation':\n",
    "            species_rcmip_name = 'NOx|MAGICC Fossil and Industrial|Aircraft'\n",
    "        elif species == 'CO2_FFI':\n",
    "            species_rcmip_name = 'CO2|MAGICC Fossil and Industrial'\n",
    "        elif species == 'CO2_AFOLU':\n",
    "            species_rcmip_name = 'CO2|MAGICC AFOLU'\n",
    "        conc_in = df_conc.loc[\n",
    "            (df_conc['Scenario']==scenario) & (df_conc['Variable'].str.endswith(\"|\"+species_rcmip_name)) & \n",
    "            (df_conc['Region']=='World'), '1850':'2000'\n",
    "        ].interpolate(axis=1).values.squeeze()\n",
    "\n",
    "        list_of_species.append(Species(species_ids[species], concentration=conc_in))\n",
    "        #print(species_rcmip_name, emis_in.shape)\n",
    "        \n",
    "    scenarios.append(Scenario(scenario, list_of_species))"
   ]
  }
 ],
 "metadata": {
  "kernelspec": {
   "display_name": "Python 3 (ipykernel)",
   "language": "python",
   "name": "python3"
  },
  "language_info": {
   "codemirror_mode": {
    "name": "ipython",
    "version": 3
   },
   "file_extension": ".py",
   "mimetype": "text/x-python",
   "name": "python",
   "nbconvert_exporter": "python",
   "pygments_lexer": "ipython3",
   "version": "3.7.12"
  }
 },
 "nbformat": 4,
 "nbformat_minor": 5
}
