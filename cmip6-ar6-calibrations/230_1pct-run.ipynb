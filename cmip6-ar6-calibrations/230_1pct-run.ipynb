{
 "cells": [
  {
   "cell_type": "markdown",
   "id": "3c94faff",
   "metadata": {},
   "source": [
    "# 1 percent CO2 run for carbon cycle metrics\n",
    "\n",
    "Could add this to the examples"
   ]
  },
  {
   "cell_type": "code",
   "execution_count": null,
   "id": "090acaf5",
   "metadata": {},
   "outputs": [],
   "source": [
    "import copy\n",
    "\n",
    "import numpy as np\n",
    "import pandas as pd\n",
    "import matplotlib.pyplot as pl\n",
    "import time\n",
    "import scipy.stats\n",
    "from tqdm import tqdm\n",
    "\n",
    "from fair import (\n",
    "    SpeciesID, Category, Config, Species, RunMode, Scenario, ClimateResponse, RunConfig, CH4LifetimeMethod, FAIR\n",
    ")\n",
    "from fair.defaults import species_config_from_default"
   ]
  },
  {
   "cell_type": "code",
   "execution_count": null,
   "id": "038e5cd3",
   "metadata": {},
   "outputs": [],
   "source": [
    "species_ids = {\n",
    "    # Greenhouse gases\n",
    "    'CO2': SpeciesID('CO2', Category.CO2, run_mode=RunMode.CONCENTRATION),\n",
    "    'CH4': SpeciesID('CH4', Category.CH4, run_mode=RunMode.CONCENTRATION),\n",
    "    'N2O': SpeciesID('N2O', Category.N2O, run_mode=RunMode.CONCENTRATION),\n",
    "}"
   ]
  },
  {
   "cell_type": "code",
   "execution_count": null,
   "id": "e4ac69f6",
   "metadata": {},
   "outputs": [],
   "source": [
    "scenarios_to_include = ['1pctCO2']"
   ]
  },
  {
   "cell_type": "code",
   "execution_count": null,
   "id": "543ae808",
   "metadata": {},
   "outputs": [],
   "source": [
    "concentration_species = ['CO2', 'CH4', 'N2O']\n",
    "species_to_include = concentration_species"
   ]
  },
  {
   "cell_type": "code",
   "execution_count": null,
   "id": "3f8c0394",
   "metadata": {},
   "outputs": [],
   "source": [
    "df_conc = pd.read_csv('../data/rcmip/rcmip-concentrations-annual-means-v5-1-0.csv')\n",
    "df_conc.loc[(df_conc['Scenario']=='1pctCO2') & (df_conc['Variable'].str.endswith(\"|CO2\")),'1850']"
   ]
  },
  {
   "cell_type": "code",
   "execution_count": null,
   "id": "5188248f",
   "metadata": {},
   "outputs": [],
   "source": [
    "scenarios = []\n",
    "for iscen, scenario in enumerate(scenarios_to_include):\n",
    "    list_of_species = []\n",
    "    for ispec, species in enumerate(concentration_species):\n",
    "        species_rcmip_name = species.replace(\"-\", \"\")\n",
    "        if species == 'NOx_aviation':\n",
    "            species_rcmip_name = 'NOx|MAGICC Fossil and Industrial|Aircraft'\n",
    "        elif species == 'CO2_FFI':\n",
    "            species_rcmip_name = 'CO2|MAGICC Fossil and Industrial'\n",
    "        elif species == 'CO2_AFOLU':\n",
    "            species_rcmip_name = 'CO2|MAGICC AFOLU'\n",
    "        conc_in = df_conc.loc[\n",
    "            (df_conc['Scenario']==scenario) & (df_conc['Variable'].str.endswith(\"|\"+species_rcmip_name)) & \n",
    "            (df_conc['Region']=='World'), '1850':'2000'\n",
    "        ].interpolate(axis=1).values.squeeze()\n",
    "\n",
    "        list_of_species.append(Species(species_ids[species], concentration=conc_in))\n",
    "        #print(species_rcmip_name, emis_in.shape)\n",
    "        \n",
    "    scenarios.append(Scenario(scenario, list_of_species))"
   ]
  },
  {
   "cell_type": "code",
   "execution_count": null,
   "id": "abea7f70",
   "metadata": {},
   "outputs": [],
   "source": [
    "valid_all = np.loadtxt('../data/ar6_ensemble_batches/final.csv', dtype=int)#[:1000]\n",
    "valid_all"
   ]
  },
  {
   "cell_type": "code",
   "execution_count": null,
   "id": "3b171391",
   "metadata": {},
   "outputs": [],
   "source": [
    "df_cc=pd.read_csv('../data/parameter_sets/carbon_cycle.csv')\n",
    "df_cr=pd.read_csv('../data/parameter_sets/climate_response.csv')\n",
    "df_scaling=pd.read_csv('../data/parameter_sets/forcing_scaling.csv')"
   ]
  },
  {
   "cell_type": "code",
   "execution_count": null,
   "id": "5de00ae1",
   "metadata": {},
   "outputs": [],
   "source": [
    "species_index = {}\n",
    "for i in range(len(species_to_include)):\n",
    "    species_index[species_to_include[i]] = i"
   ]
  },
  {
   "cell_type": "code",
   "execution_count": null,
   "id": "6837fb70",
   "metadata": {},
   "outputs": [],
   "source": [
    "species_index"
   ]
  },
  {
   "cell_type": "code",
   "execution_count": null,
   "id": "e0954176",
   "metadata": {},
   "outputs": [],
   "source": [
    "co2_pi = df_conc.loc[\n",
    "            (df_conc['Scenario']==scenario) & (df_conc['Variable'].str.endswith(\"|CO2\")) & \n",
    "            (df_conc['Region']=='World'), '1850'\n",
    "        ].values[0]\n",
    "ch4_pi = df_conc.loc[\n",
    "            (df_conc['Scenario']==scenario) & (df_conc['Variable'].str.endswith(\"|CH4\")) & \n",
    "            (df_conc['Region']=='World'), '1850'\n",
    "        ].values[0]\n",
    "n2o_pi = df_conc.loc[\n",
    "            (df_conc['Scenario']==scenario) & (df_conc['Variable'].str.endswith(\"|N2O\")) & \n",
    "            (df_conc['Region']=='World'), '1850'\n",
    "        ].values[0]"
   ]
  },
  {
   "cell_type": "code",
   "execution_count": null,
   "id": "6969b47e",
   "metadata": {},
   "outputs": [],
   "source": [
    "seedgen = 1355763\n",
    "seed = seedgen\n",
    "\n",
    "calibrated_f4co2_mean = df_cr['F_4xCO2'].mean()\n",
    "\n",
    "configs = []\n",
    "for iconf in valid_all:\n",
    "    config_name = f\"{iconf}\"\n",
    "\n",
    "    # Climate response configs\n",
    "    climate_response = ClimateResponse(\n",
    "        ocean_heat_capacity = df_cr.loc[iconf, 'c1':'c3'].values.squeeze(),\n",
    "        ocean_heat_transfer = df_cr.loc[iconf, 'kappa1':'kappa3'].values.squeeze(),\n",
    "        deep_ocean_efficacy = df_cr.loc[iconf, 'epsilon'],\n",
    "        gamma_autocorrelation = df_cr.loc[iconf, 'gamma'],\n",
    "        sigma_eta = df_cr.loc[iconf, 'sigma_eta'],\n",
    "        sigma_xi = df_cr.loc[iconf, 'sigma_xi'],\n",
    "        stochastic_run = True,\n",
    "        seed = seed\n",
    "    )\n",
    "    seed = seedgen + 399 * iconf\n",
    "\n",
    "    # Species configs\n",
    "    # get defaults\n",
    "    species_config = [copy.copy(species_config_from_default(species)) for species in species_to_include]\n",
    "    species_config[0].species_id.run_mode = RunMode.CONCENTRATION\n",
    "    species_config[1].species_id.run_mode = RunMode.CONCENTRATION\n",
    "    species_config[2].species_id.run_mode = RunMode.CONCENTRATION\n",
    "    \n",
    "    species_config[0].baseline_concentration = co2_pi\n",
    "    species_config[1].baseline_concentration = ch4_pi\n",
    "    species_config[2].baseline_concentration = n2o_pi\n",
    "    \n",
    "    # CO2 carbon cycle sensitivity\n",
    "    species_config[0].iirf_0 = df_cc.loc[iconf, 'r0']\n",
    "    species_config[0].iirf_airborne = df_cc.loc[iconf, 'rA']\n",
    "    species_config[0].iirf_cumulative = df_cc.loc[iconf, 'rC']\n",
    "    species_config[0].iirf_temperature = df_cc.loc[iconf, 'rT']\n",
    "\n",
    "    # overwrite CO2 forcing scaling with correlated parameter from lambda1\n",
    "    species_config[0].scale = 1 + 0.561*(calibrated_f4co2_mean - df_cr.loc[iconf,'F_4xCO2'])/calibrated_f4co2_mean\n",
    "\n",
    "    configs.append(Config(config_name, climate_response, species_config))"
   ]
  },
  {
   "cell_type": "code",
   "execution_count": null,
   "id": "c8c9c2cd",
   "metadata": {},
   "outputs": [],
   "source": [
    "fair = FAIR(scenarios, configs)\n",
    "fair.run(progress=True)"
   ]
  },
  {
   "cell_type": "code",
   "execution_count": null,
   "id": "dccd6929",
   "metadata": {},
   "outputs": [],
   "source": [
    "fig, ax = pl.subplots(1, 1, figsize=(8, 8))\n",
    "ax.fill_between(\n",
    "    np.arange(151), \n",
    "    np.min(fair.temperature[:, 0, :, 0, 0], axis=1), \n",
    "    np.max(fair.temperature[:, 0, :, 0, 0], axis=1),\n",
    "    color='#000000',\n",
    "    alpha=0.2,\n",
    ")\n",
    "ax.fill_between(\n",
    "    np.arange(151), \n",
    "    np.percentile(fair.temperature[:, 0, :, 0, 0], 5, axis=1), \n",
    "    np.percentile(fair.temperature[:, 0, :, 0, 0], 95, axis=1),\n",
    "    color='#000000',\n",
    "    alpha=0.2,\n",
    ")\n",
    "ax.fill_between(\n",
    "    np.arange(151), \n",
    "    np.percentile(fair.temperature[:, 0, :, 0, 0], 16, axis=1), \n",
    "    np.percentile(fair.temperature[:, 0, :, 0, 0], 84, axis=1),\n",
    "    color='#000000',\n",
    "    alpha=0.2,\n",
    ")\n",
    "ax.plot(\n",
    "    np.arange(151), \n",
    "    np.median(fair.temperature[:, 0, :, 0, 0], axis=1), \n",
    "    color='#000000',\n",
    ")\n",
    "ax.set_ylim(-1, 10)\n",
    "ax.set_xlim(0, 150)\n",
    "ax.axhline(0, color='k', ls=\":\", lw=0.5)\n",
    "ax.set_title(scenarios_to_include[0])"
   ]
  },
  {
   "cell_type": "code",
   "execution_count": null,
   "id": "45bd2e9f",
   "metadata": {},
   "outputs": [],
   "source": [
    "pl.plot(fair.temperature[:, 0, :, 0, 0]);"
   ]
  },
  {
   "cell_type": "code",
   "execution_count": null,
   "id": "81566308",
   "metadata": {},
   "outputs": [],
   "source": [
    "np.median(fair.temperature[60:81, 0, :, 0, 0].mean(axis=0))"
   ]
  },
  {
   "cell_type": "code",
   "execution_count": null,
   "id": "e882e660",
   "metadata": {},
   "outputs": [],
   "source": [
    "fair.airborne_emissions_array[:, 0, 0, 0, 0]"
   ]
  },
  {
   "cell_type": "code",
   "execution_count": null,
   "id": "11ee395d",
   "metadata": {},
   "outputs": [],
   "source": [
    "fair.cumulative_emissions_array[:, 0, 0, 0, 0]"
   ]
  },
  {
   "cell_type": "code",
   "execution_count": null,
   "id": "32d773dd",
   "metadata": {},
   "outputs": [],
   "source": [
    "airborne_fraction_co2 = fair.airborne_emissions_array[:-1, 0, 0, 0, 0] / fair.cumulative_emissions_array[1:, 0, 0, 0, 0]"
   ]
  },
  {
   "cell_type": "code",
   "execution_count": null,
   "id": "1fbfc4b3",
   "metadata": {},
   "outputs": [],
   "source": [
    "pl.plot(airborne_fraction_co2)"
   ]
  },
  {
   "cell_type": "code",
   "execution_count": null,
   "id": "d55b3fd0",
   "metadata": {},
   "outputs": [],
   "source": []
  }
 ],
 "metadata": {
  "kernelspec": {
   "display_name": "Python 3 (ipykernel)",
   "language": "python",
   "name": "python3"
  },
  "language_info": {
   "codemirror_mode": {
    "name": "ipython",
    "version": 3
   },
   "file_extension": ".py",
   "mimetype": "text/x-python",
   "name": "python",
   "nbconvert_exporter": "python",
   "pygments_lexer": "ipython3",
   "version": "3.7.12"
  }
 },
 "nbformat": 4,
 "nbformat_minor": 5
}
