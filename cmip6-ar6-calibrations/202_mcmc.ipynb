{
 "cells": [
  {
   "cell_type": "markdown",
   "id": "d52269f2",
   "metadata": {},
   "source": [
    "# AR6 calibration of FaIR 2.1\n",
    "\n",
    "Calibration\n",
    "- use the exact aerosol indirect forcing relationship from Smith et al. (2021). \n",
    "- aerosol direct is from AR6.\n",
    "- three layer model for climate response.\n",
    "- include overlap of the major GHGs.\n",
    "- prognostic equation for land use related forcing (e.g. from FaIR 1.6).\n",
    "- ozone relationship from FaIR 1.6 used in AR6.\n",
    "- interactive methane lifetime (NEW!)\n",
    "\n",
    "TODO:\n",
    "- solar trend\n",
    "- vary pre-industrial concentrations of CO2\n",
    "\n",
    "CONSTRAINT:\n",
    "- Markov-chain Monte Carlo based on AR6 assessed ranges."
   ]
  },
  {
   "cell_type": "markdown",
   "id": "f6efed3c",
   "metadata": {},
   "source": [
    "## Basic imports"
   ]
  },
  {
   "cell_type": "code",
   "execution_count": null,
   "id": "f0770b5c",
   "metadata": {},
   "outputs": [],
   "source": [
    "import copy\n",
    "\n",
    "import numpy as np\n",
    "import pandas as pd\n",
    "import matplotlib.pyplot as pl\n",
    "import time\n",
    "import scipy.stats\n",
    "from tqdm import tqdm\n",
    "\n",
    "from fair21 import (\n",
    "    SpeciesID, Category, Config, Species, RunMode, Scenario, ClimateResponse, RunConfig, CH4LifetimeMethod, FAIR\n",
    ")\n",
    "from fair21.defaults import species_config_from_default\n",
    "from fair21.energy_balance_model import EnergyBalanceModel"
   ]
  },
  {
   "cell_type": "markdown",
   "id": "7a498042",
   "metadata": {},
   "source": [
    "## Set up problem"
   ]
  },
  {
   "cell_type": "code",
   "execution_count": null,
   "id": "102d484b",
   "metadata": {},
   "outputs": [],
   "source": [
    "species_ids = {\n",
    "    # Greenhouse gases and precursors\n",
    "    'CO2_FFI': SpeciesID('CO2 fossil fuel and industrial', Category.CO2_FFI),\n",
    "    'CO2_AFOLU': SpeciesID('CO2 AFOLU', Category.CO2_AFOLU),\n",
    "    'CO2': SpeciesID('CO2', Category.CO2),\n",
    "    'CH4': SpeciesID('CH4', Category.CH4),\n",
    "    'N2O': SpeciesID('N2O', Category.N2O),\n",
    "    'CFC-11': SpeciesID('CFC-11', Category.CFC_11),\n",
    "    'CFC-12': SpeciesID('CFC-12', Category.OTHER_HALOGEN),\n",
    "    'CFC-113': SpeciesID('CFC-113', Category.OTHER_HALOGEN),\n",
    "    'CFC-114': SpeciesID('CFC-114', Category.OTHER_HALOGEN),\n",
    "    'CFC-115': SpeciesID('CFC-115', Category.OTHER_HALOGEN),\n",
    "    'HCFC-22': SpeciesID('HCFC-22', Category.OTHER_HALOGEN),\n",
    "    'HCFC-141b': SpeciesID('HCFC-141b', Category.OTHER_HALOGEN),\n",
    "    'HCFC-142b': SpeciesID('HCFC-142b', Category.OTHER_HALOGEN),\n",
    "    'CCl4': SpeciesID('CCl4', Category.OTHER_HALOGEN),\n",
    "    'CHCl3': SpeciesID('CHCl3', Category.OTHER_HALOGEN),\n",
    "    'CH2Cl2': SpeciesID('CH2Cl2', Category.OTHER_HALOGEN),\n",
    "    'CH3Cl': SpeciesID('CH3Cl', Category.OTHER_HALOGEN),\n",
    "    'CH3CCl3': SpeciesID('CH3CCl3', Category.OTHER_HALOGEN),\n",
    "    'CH3Br': SpeciesID('CH3Br', Category.OTHER_HALOGEN),\n",
    "    'Halon-1211': SpeciesID('Halon-1211', Category.OTHER_HALOGEN),\n",
    "    'Halon-1301': SpeciesID('Halon-1301', Category.OTHER_HALOGEN),\n",
    "    'Halon-2402': SpeciesID('Halon-2402', Category.OTHER_HALOGEN),\n",
    "    'CF4': SpeciesID('CF4', Category.F_GAS),\n",
    "    'C2F6': SpeciesID('C2F6', Category.F_GAS),\n",
    "    'C3F8': SpeciesID('C3F8', Category.F_GAS),\n",
    "    'c-C4F8': SpeciesID('C-C4F8', Category.F_GAS),\n",
    "    'C4F10': SpeciesID('C4F10', Category.F_GAS),\n",
    "    'C5F12': SpeciesID('C5F12', Category.F_GAS),\n",
    "    'C6F14': SpeciesID('C6F14', Category.F_GAS),\n",
    "    'C7F16': SpeciesID('C7F16', Category.F_GAS),\n",
    "    'C8F18': SpeciesID('C8F18', Category.F_GAS),\n",
    "    'HFC-125': SpeciesID('HFC-125', Category.F_GAS),\n",
    "    'HFC-134a': SpeciesID('HFC-134a', Category.F_GAS),\n",
    "    'HFC-143a': SpeciesID('HFC-143a', Category.F_GAS),\n",
    "    'HFC-152a': SpeciesID('HFC-152a', Category.F_GAS),\n",
    "    'HFC-227ea': SpeciesID('HFC-227ea', Category.F_GAS),\n",
    "    'HFC-23': SpeciesID('HFC-23', Category.F_GAS),\n",
    "    'HFC-236fa': SpeciesID('HFC-236fa', Category.F_GAS),\n",
    "    'HFC-245fa': SpeciesID('HFC-245fa', Category.F_GAS),\n",
    "    'HFC-32': SpeciesID('HFC-32', Category.F_GAS),\n",
    "    'HFC-365mfc': SpeciesID('HFC-365mfc', Category.F_GAS),\n",
    "    'HFC-4310mee': SpeciesID('HFC-4310mee', Category.F_GAS),\n",
    "    'NF3': SpeciesID('NF3', Category.F_GAS),\n",
    "    'SF6': SpeciesID('SF6', Category.F_GAS),\n",
    "    'SO2F2': SpeciesID('SO2F2', Category.F_GAS),\n",
    "    # aerosols, ozone, and their precursors\n",
    "    'Sulfur': SpeciesID('Sulfur', Category.SULFUR),\n",
    "    'BC': SpeciesID('BC', Category.BC),\n",
    "    'OC': SpeciesID('OC', Category.OC),\n",
    "    'NH3': SpeciesID('NH3', Category.OTHER_AEROSOL),\n",
    "    'VOC': SpeciesID('VOC', Category.REACTIVE_GAS),\n",
    "    'CO': SpeciesID('CO', Category.REACTIVE_GAS),\n",
    "    'NOx': SpeciesID('NOx', Category.REACTIVE_GAS),\n",
    "    'ari': SpeciesID('Aerosol-Radiation Interactions', Category.AEROSOL_RADIATION_INTERACTIONS),\n",
    "    'aci': SpeciesID('Aerosol-Cloud Interactions', Category.AEROSOL_CLOUD_INTERACTIONS),\n",
    "    'ozone': SpeciesID('Ozone', Category.OZONE),\n",
    "    # Contrails and precursors\n",
    "    'NOx_aviation': SpeciesID('NOx Aviation', Category.NOX_AVIATION),\n",
    "    'contrails': SpeciesID('Contrails', Category.CONTRAILS),\n",
    "    # other minor anthropogenic\n",
    "    'LAPSI': SpeciesID('Light absorbing particles on snow and ice', Category.LAPSI),\n",
    "    'H2O_stratospheric': SpeciesID('H2O Stratospheric', Category.H2O_STRATOSPHERIC),\n",
    "    'land_use': SpeciesID('Land Use', Category.LAND_USE),\n",
    "    # natural\n",
    "    'solar': SpeciesID('Solar', Category.SOLAR),\n",
    "    'volcanic': SpeciesID('Volcanic', Category.VOLCANIC)\n",
    "}"
   ]
  },
  {
   "cell_type": "code",
   "execution_count": null,
   "id": "bd21aadd",
   "metadata": {},
   "outputs": [],
   "source": [
    "scenarios_to_include=['ssp245']"
   ]
  },
  {
   "cell_type": "code",
   "execution_count": null,
   "id": "842f3bde",
   "metadata": {},
   "outputs": [],
   "source": [
    "df_emis = pd.read_csv('../data/rcmip/rcmip-emissions-annual-means-v5-1-0.csv')\n",
    "df_conc = pd.read_csv('../data/rcmip/rcmip-concentrations-annual-means-v5-1-0.csv')\n",
    "df_forc = pd.read_csv('../data/forcing/table_A3.3_historical_ERF_1750-2019_best_estimate.csv')"
   ]
  },
  {
   "cell_type": "code",
   "execution_count": null,
   "id": "05aac48d",
   "metadata": {},
   "outputs": [],
   "source": [
    "emitted_species = [\n",
    "    'CO2_FFI', 'CO2_AFOLU', 'CH4', 'N2O',\n",
    "    'Sulfur', 'BC', 'OC', 'NH3', 'NOx', 'VOC', 'CO',\n",
    "    'CFC-11', 'CFC-12', 'CFC-113', 'CFC-114', 'CFC-115',\n",
    "    'HCFC-22', 'HCFC-141b', 'HCFC-142b',\n",
    "    'CCl4', 'CHCl3', 'CH2Cl2', 'CH3Cl', 'CH3CCl3', 'CH3Br',\n",
    "    'Halon-1211', 'Halon-1301', 'Halon-2402',\n",
    "    'CF4', 'C2F6', 'C3F8', 'c-C4F8', 'C4F10', 'C5F12', 'C6F14', 'C7F16', 'C8F18',\n",
    "    'NF3', 'SF6', 'SO2F2',\n",
    "    'HFC-125', 'HFC-134a', 'HFC-143a', 'HFC-152a', 'HFC-227ea', 'HFC-23', 'HFC-236fa', 'HFC-245fa', 'HFC-32', \n",
    "    'HFC-365mfc', 'HFC-4310mee', 'NOx_aviation']\n",
    "forced_species = ['solar', 'volcanic']\n",
    "from_other_species = ['CO2', 'ari', 'aci', 'ozone', 'contrails', 'LAPSI', 'H2O_stratospheric', 'land_use']\n",
    "\n",
    "species_to_include = emitted_species + forced_species + from_other_species"
   ]
  },
  {
   "cell_type": "code",
   "execution_count": null,
   "id": "844c5804",
   "metadata": {},
   "outputs": [],
   "source": [
    "scenarios = []\n",
    "for iscen, scenario in enumerate(scenarios_to_include):\n",
    "    list_of_species = []\n",
    "    for ispec, species in enumerate(emitted_species):\n",
    "        species_rcmip_name = species.replace(\"-\", \"\")\n",
    "        if species == 'NOx_aviation':\n",
    "            species_rcmip_name = 'NOx|MAGICC Fossil and Industrial|Aircraft'\n",
    "        elif species == 'CO2_FFI':\n",
    "            species_rcmip_name = 'CO2|MAGICC Fossil and Industrial'\n",
    "        elif species == 'CO2_AFOLU':\n",
    "            species_rcmip_name = 'CO2|MAGICC AFOLU'\n",
    "        emis_in = df_emis.loc[\n",
    "            (df_emis['Scenario']==scenario) & (df_emis['Variable'].str.endswith(\"|\"+species_rcmip_name)) & \n",
    "            (df_emis['Region']=='World'), '1750':'2030'\n",
    "        ].interpolate(axis=1).values.squeeze()\n",
    "\n",
    "        # CO2 and N2O units need to behave: TODO, sort this out\n",
    "        if species in ('CO2_FFI', 'CO2_AFOLU', 'N2O'):\n",
    "            emis_in = emis_in / 1000\n",
    "        list_of_species.append(Species(species_ids[species], emissions=emis_in))\n",
    "        #print(species_rcmip_name, emis_in.shape)\n",
    "        \n",
    "    # solar and volcanic forcing still a little hacky\n",
    "    solar_forcing = np.zeros(281)\n",
    "    solar_forcing[:270] = df_forc['solar'].values\n",
    "    volcanic_forcing = np.zeros(281)\n",
    "    volcanic_forcing[:270] = df_forc['volcanic'].values\n",
    "    volcanic_forcing[269:] = np.linspace(1, 0, 12) * volcanic_forcing[269]\n",
    "    list_of_species.append(Species(species_ids['solar'], forcing=solar_forcing))\n",
    "    list_of_species.append(Species(species_ids['volcanic'], forcing=volcanic_forcing))\n",
    "    \n",
    "    # add derived species: at this stage just a declaration that we want them\n",
    "    for species in from_other_species:\n",
    "        list_of_species.append(Species(species_ids[species]))\n",
    "        \n",
    "    scenarios.append(Scenario(scenario, list_of_species))"
   ]
  },
  {
   "cell_type": "code",
   "execution_count": null,
   "id": "0c4fe247",
   "metadata": {},
   "outputs": [],
   "source": [
    "iterations = 2000\n",
    "batch_size = 500"
   ]
  },
  {
   "cell_type": "markdown",
   "id": "c36acb10",
   "metadata": {},
   "source": [
    "## Define parameters and starting values"
   ]
  },
  {
   "cell_type": "code",
   "execution_count": null,
   "id": "ed8a8f28",
   "metadata": {},
   "outputs": [],
   "source": [
    "bounds = np.array(\n",
    "    [\n",
    "        [0.2, 4],  # kappa1\n",
    "        [1.5, 7],  # kappa2\n",
    "        [0.3, 3],  # kappa3\n",
    "        [1.6, 6.0],  # c1\n",
    "        [1.6, 15],   # c2\n",
    "        [10, 290],   # c3\n",
    "        [0.8, 2.0],  # epsilon\n",
    "        [0.8, 3.0],   # gamma\n",
    "        [0.5, 2.5],   # sigma eta\n",
    "        [0.25, 1],   # sigma xi\n",
    "        [0.75, 1.25]  # scale co2\n",
    "    ]\n",
    ")\n",
    "\n",
    "jump = np.array(\n",
    "    [0.05, 0.05, 0.05, 0.5, 0.1, 7, 0.03, 0.1, 0.1, 0.04, 0.01]\n",
    ")\n",
    "\n",
    "params = scipy.stats.uniform.rvs(loc=bounds[:,0], scale=bounds[:,1]-bounds[:,0], size=(batch_size, 11))"
   ]
  },
  {
   "cell_type": "code",
   "execution_count": null,
   "id": "ca9ffe60",
   "metadata": {},
   "outputs": [],
   "source": [
    "species_index = {}\n",
    "for i in range(len(species_to_include)):\n",
    "    species_index[species_to_include[i]] = i"
   ]
  },
  {
   "cell_type": "code",
   "execution_count": null,
   "id": "5facafe1",
   "metadata": {},
   "outputs": [],
   "source": [
    "0.5+0.5*np.tanh(8-50*np.arange(0.1, 0.21, 0.01))"
   ]
  },
  {
   "cell_type": "code",
   "execution_count": null,
   "id": "0af0285a",
   "metadata": {},
   "outputs": [],
   "source": [
    "pl.plot(np.arange(0,0.5,0.01), 0.5+0.5*np.tanh(8-50*np.arange(0, 0.5, 0.01)))"
   ]
  },
  {
   "cell_type": "code",
   "execution_count": null,
   "id": "ec3cee29",
   "metadata": {},
   "outputs": [],
   "source": [
    "NINETY_TO_ONESIGMA=scipy.stats.norm.ppf(0.95)\n",
    "ecs_dist = scipy.stats.skewnorm(8.82185594, loc=1.95059779, scale=1.55584604)\n",
    "tcr_dist = scipy.stats.norm(loc=1.2, scale=0.6/NINETY_TO_ONESIGMA)\n",
    "ohc_dist = scipy.stats.norm(loc=434.3730268913012, scale=73.70562981598447)\n",
    "temp_9514_dist = scipy.stats.skewnorm(-1.65506091, loc=0.92708099, scale=0.12096636)\n",
    "temp_rmse_dist = scipy.stats.halfnorm(scale=0.11)\n",
    "\n",
    "def rmse(obs, mod):\n",
    "    return np.sqrt(np.sum((obs-mod)**2)/len(obs))"
   ]
  },
  {
   "cell_type": "code",
   "execution_count": null,
   "id": "dab28879",
   "metadata": {},
   "outputs": [],
   "source": [
    "df_gmst = pd.read_csv('../data/forcing/AR6_GMST.csv')\n",
    "gmst = df_gmst['gmst'].values"
   ]
  },
  {
   "cell_type": "code",
   "execution_count": null,
   "id": "a4bc5541",
   "metadata": {},
   "outputs": [],
   "source": [
    "run_config = RunConfig(ch4_lifetime_method=CH4LifetimeMethod.AERCHEMMIP)\n",
    "\n",
    "# for all except temperature, the full time series is not important.\n",
    "temp_rmse_out = np.ones((iterations, batch_size)) * np.nan\n",
    "temp_9514_out = np.ones((iterations, batch_size)) * np.nan\n",
    "ohc_out = np.ones((iterations, batch_size)) * np.nan\n",
    "ecs_out = np.ones((iterations, batch_size)) * np.nan\n",
    "tcr_out = np.ones((iterations, batch_size)) * np.nan\n",
    "\n",
    "# nothing to start from\n",
    "likelihood = np.zeros(500)\n",
    "\n",
    "seedgen = 370160\n",
    "for i in tqdm(range(iterations)):\n",
    "    # calculate random step size\n",
    "    step = scipy.stats.norm.rvs(loc=0, scale=jump*np.ones((batch_size, 11)))\n",
    "    \n",
    "    # pre-calculate replacement values if we go off a cliff (wasteful but likely more efficient than looping)\n",
    "    redraw = scipy.stats.uniform.rvs(loc=bounds[:,0], scale=bounds[:,1]-bounds[:,0], size=(batch_size, 11))\n",
    "    newparams = params + step\n",
    "    \n",
    "    # fill in places where we go off a cliff\n",
    "    newparams[newparams[:,:] > bounds[:,1]] = redraw[newparams[:,:] > bounds[:,1]]\n",
    "    newparams[newparams[:,:] < bounds[:,0]] = redraw[newparams[:,:] < bounds[:,0]]\n",
    "    \n",
    "    configs = []\n",
    "    for iconf in range(batch_size):\n",
    "        config_name = f\"{iconf}\"\n",
    "\n",
    "        # Climate response configs\n",
    "        climate_response = ClimateResponse(\n",
    "            ocean_heat_capacity = [params[iconf, 3], params[iconf, 4], params[iconf, 5]],\n",
    "            ocean_heat_transfer = [params[iconf, 0], params[iconf, 1], params[iconf, 2]],\n",
    "            deep_ocean_efficacy = params[iconf, 6],\n",
    "            gamma_autocorrelation = params[iconf, 7],\n",
    "            sigma_eta = params[iconf, 8],\n",
    "            sigma_xi = params[iconf, 9],\n",
    "            stochastic_run = False,\n",
    "            seed=seedgen+iconf*163\n",
    "        )\n",
    "        \n",
    "        # Species configs\n",
    "        # get defaults\n",
    "        species_config = [copy.copy(species_config_from_default(species)) for species in species_to_include]\n",
    "        \n",
    "        # methane lifetime params (not varied, defaults are baked in)\n",
    "        species_config[2].lifetime = 10.788405534387858\n",
    "        species_config[2].natural_emissions_adjustment = 19.019783117809567\n",
    "        species_config[2].soil_lifetime = 185\n",
    "        \n",
    "        species_config[54].scale = params[iconf, 10]\n",
    "        \n",
    "        # volcanic efficacy is something like 0.6\n",
    "        species_config[53].efficacy = 0.6\n",
    "        \n",
    "        configs.append(Config(config_name, climate_response, species_config))\n",
    "        \n",
    "    fair = FAIR(scenarios, configs, run_config=run_config)\n",
    "    fair.run()\n",
    "    \n",
    "    \n",
    "    fair.calculate_ocean_heat_content_change()\n",
    "    \n",
    "    #temp_rmse_out = np.ones((iterations, batch_size)) * np.nan\n",
    "    temp_9514_out[i, :] = fair.temperature[245:265, 0, :, 0, 0].mean(axis=0) - fair.temperature[100:151, 0, :, 0, 0].mean(axis=0)\n",
    "    \n",
    "    \n",
    "    for iconf in range(batch_size):\n",
    "        ebm = EnergyBalanceModel(\n",
    "            ocean_heat_capacity = np.array([params[iconf, 3], params[iconf, 4], params[iconf, 5]]),\n",
    "            ocean_heat_transfer = np.array([params[iconf, 0], params[iconf, 1], params[iconf, 2]]),\n",
    "            deep_ocean_efficacy = params[iconf, 6],\n",
    "            gamma_autocorrelation = params[iconf, 7],\n",
    "            sigma_eta = params[iconf, 8],\n",
    "            sigma_xi = params[iconf, 9],\n",
    "            forcing_4co2 = 2* 3.934 * params[iconf, 10]\n",
    "        )\n",
    "        ebm.emergent_parameters()\n",
    "        ecs_out[i, iconf] = ebm.ecs\n",
    "        tcr_out[i, iconf] = ebm.tcr\n",
    "        temp_rmse_out[i, iconf] = rmse(gmst[:171], fair.temperature[100:271, 0, iconf, 0, 0]-fair.temperature[100:151, 0, iconf, 0, 0].mean(axis=0))\n",
    "        \n",
    "    ohc_out[i, :] = 1e-21*(fair.ocean_heat_content_change[268, 0, :, 0, 0]-fair.ocean_heat_content_change[221, 0, :, 0, 0])\n",
    "#    print(ohc_out[i, :])\n",
    "#    print(ecs_out[i, :])\n",
    "#    print(tcr_out[i, :])\n",
    "#    print(temp_9514_out[i, :])\n",
    "    likelihood_old = likelihood\n",
    "    \n",
    "    likelihood = (\n",
    "        ohc_dist.pdf(ohc_out[i, :]) *\n",
    "        temp_9514_dist.pdf(temp_9514_out[i, :]) * \n",
    "        ecs_dist.pdf(ecs_out[i, :]) *\n",
    "        tcr_dist.pdf(tcr_out[i, :]) *\n",
    "        (0.5+0.5*np.tanh(8-50*(temp_rmse_out[i, :])))\n",
    "    )\n",
    "    \n",
    "    if i==0:\n",
    "        likelihood_old = likelihood\n",
    "    likelihood_old[likelihood_old==0] = 1e-100  # prevents divide by zero, ensures next step is almost always accepted\n",
    "    accept_probability = likelihood / likelihood_old\n",
    "#    accept_probability[np.isinf(accept_probability)] = 1  # force a move when minus infinity crops up, as it likely means\n",
    "#                                                          # the likelihood in the previous iteration was zero, so anything\n",
    "#                                                          # drawn at random will be no worse and possibly be an improvement\n",
    "    #accept = likelihood > likelihood_old\n",
    "    coinflip = scipy.stats.uniform.rvs(size=batch_size)\n",
    "    \n",
    "    params[accept_probability >= coinflip, :] = newparams[accept_probability >= coinflip, :]\n",
    "    likelihood[accept_probability < coinflip] = likelihood_old[accept_probability < coinflip]\n",
    "    #likelihood < like\n",
    "    \n",
    "    #params[likelihood > likelihood_old, :] = newparams[likelihood > likelihood_old, :]\n",
    "     \n",
    "    \n",
    "#     co2_out[batch_start:batch_end] = fair.concentration_array[264, 0, :, 54, 0]\n",
    "#     fari_out[batch_start:batch_end] = fair.forcing_array[255:265, 0, :, 55, 0].mean(axis=0)\n",
    "#     faci_out[batch_start:batch_end] = fair.forcing_array[255:265, 0, :, 56, 0].mean(axis=0)\n",
    "#     fo3_out[batch_start:batch_end] = fair.forcing_array[269, 0, :, 57, 0]\n",
    "    \n",
    "#     # at this point dump out some batch output and put the constraining in another sheet\n",
    "#     temp_out[:, batch_start:batch_end] = fair.temperature[100:, 0, :, 0, 0]"
   ]
  },
  {
   "cell_type": "code",
   "execution_count": null,
   "id": "63c34437",
   "metadata": {},
   "outputs": [],
   "source": [
    "pl.plot(temp_9514_out);"
   ]
  },
  {
   "cell_type": "code",
   "execution_count": null,
   "id": "fa8e911d",
   "metadata": {},
   "outputs": [],
   "source": [
    "temp_9514_out[:,70]"
   ]
  },
  {
   "cell_type": "code",
   "execution_count": null,
   "id": "0e2349bf",
   "metadata": {},
   "outputs": [],
   "source": [
    "ecs_out[:,70]"
   ]
  },
  {
   "cell_type": "code",
   "execution_count": null,
   "id": "8777811e",
   "metadata": {},
   "outputs": [],
   "source": [
    "tcr_out[:,70]"
   ]
  },
  {
   "cell_type": "code",
   "execution_count": null,
   "id": "a7da06ac",
   "metadata": {},
   "outputs": [],
   "source": [
    "ohc_out[:,70]"
   ]
  },
  {
   "cell_type": "code",
   "execution_count": null,
   "id": "8bebddbe",
   "metadata": {},
   "outputs": [],
   "source": [
    "likelihood"
   ]
  },
  {
   "cell_type": "code",
   "execution_count": null,
   "id": "f6141862",
   "metadata": {},
   "outputs": [],
   "source": [
    "ohc_dist.pdf(ohc_out[i, :])"
   ]
  },
  {
   "cell_type": "code",
   "execution_count": null,
   "id": "ad8368bf",
   "metadata": {},
   "outputs": [],
   "source": [
    "pl.hist(ecs_out[-1,:], bins=np.arange(0,20,0.2))"
   ]
  },
  {
   "cell_type": "code",
   "execution_count": null,
   "id": "c9de4160",
   "metadata": {},
   "outputs": [],
   "source": [
    "temp_rmse_out[:,70]"
   ]
  },
  {
   "cell_type": "code",
   "execution_count": null,
   "id": "5f8945bb",
   "metadata": {},
   "outputs": [],
   "source": [
    "np.percentile(ecs_out[-1,:], (5, 50, 95))"
   ]
  },
  {
   "cell_type": "code",
   "execution_count": null,
   "id": "3763d165",
   "metadata": {},
   "outputs": [],
   "source": [
    "accept_probability"
   ]
  },
  {
   "cell_type": "code",
   "execution_count": null,
   "id": "0636823f",
   "metadata": {},
   "outputs": [],
   "source": [
    "np.sum(accept_probability >= coinflip)/500"
   ]
  },
  {
   "cell_type": "code",
   "execution_count": null,
   "id": "ce96538f",
   "metadata": {},
   "outputs": [],
   "source": [
    "coinflip"
   ]
  },
  {
   "cell_type": "code",
   "execution_count": null,
   "id": "577d459e",
   "metadata": {},
   "outputs": [],
   "source": [
    "0.5+0.5*np.tanh(8-50*(temp_rmse_out[i, :]))"
   ]
  },
  {
   "cell_type": "code",
   "execution_count": null,
   "id": "52c4abf5",
   "metadata": {},
   "outputs": [],
   "source": [
    "likelihood"
   ]
  },
  {
   "cell_type": "code",
   "execution_count": null,
   "id": "3de44037",
   "metadata": {},
   "outputs": [],
   "source": [
    "pl.hist(temp_9514_out[-1,:], bins=np.arange(0,2.6,0.1))"
   ]
  },
  {
   "cell_type": "code",
   "execution_count": null,
   "id": "af1a6d31",
   "metadata": {},
   "outputs": [],
   "source": [
    "pl.hist(temp_rmse_out[-1,:], bins=np.arange(0,0.7,0.02))"
   ]
  }
 ],
 "metadata": {
  "kernelspec": {
   "display_name": "Python 3 (ipykernel)",
   "language": "python",
   "name": "python3"
  },
  "language_info": {
   "codemirror_mode": {
    "name": "ipython",
    "version": 3
   },
   "file_extension": ".py",
   "mimetype": "text/x-python",
   "name": "python",
   "nbconvert_exporter": "python",
   "pygments_lexer": "ipython3",
   "version": "3.7.12"
  }
 },
 "nbformat": 4,
 "nbformat_minor": 5
}
