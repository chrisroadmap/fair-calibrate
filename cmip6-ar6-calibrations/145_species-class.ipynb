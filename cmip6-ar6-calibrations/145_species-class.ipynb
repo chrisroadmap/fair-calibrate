{
 "cells": [
  {
   "cell_type": "code",
   "execution_count": null,
   "id": "24c482be",
   "metadata": {},
   "outputs": [],
   "source": [
    "class Specie():\n",
    "    \n",
    "    def __init__():\n",
    "        self.lifetime = np.array([1e6, 394, 36, 4])\n",
    "        self.partition_fraction = np.array([0.25, 0.25, 0.25, 0.25])\n",
    "        self.name = 'CO2'"
   ]
  },
  {
   "cell_type": "code",
   "execution_count": null,
   "id": "dc6df118",
   "metadata": {},
   "outputs": [],
   "source": []
  }
 ],
 "metadata": {
  "kernelspec": {
   "display_name": "Python 3 (ipykernel)",
   "language": "python",
   "name": "python3"
  },
  "language_info": {
   "codemirror_mode": {
    "name": "ipython",
    "version": 3
   },
   "file_extension": ".py",
   "mimetype": "text/x-python",
   "name": "python",
   "nbconvert_exporter": "python",
   "pygments_lexer": "ipython3",
   "version": "3.7.12"
  }
 },
 "nbformat": 4,
 "nbformat_minor": 5
}
