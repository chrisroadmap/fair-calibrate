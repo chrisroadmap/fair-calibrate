{
 "cells": [
  {
   "cell_type": "markdown",
   "id": "93173193",
   "metadata": {},
   "source": [
    "# ERFaci priors analysis\n",
    "\n",
    "If we end up doing an MCMC, let's save ourselves a large amount of headache by finding the places in which beta, shape_SO2 and shape_BCOC cannot coexist in the prior and we won't sample them in the posterior / MCMC.\n",
    "\n",
    "Due to the empirical nature of this we create a 3D histogram, and due to the fact that the input parameters can span several orders of magnitude we work in log space.\n",
    "\n",
    "Where the joint 3D histogram counts of log(shape_so2), log(shape_bcoc), log(beta) = 0, we consider this parameter combination as out of bounds.\n",
    "\n",
    "Making a histogram is reasonably forgiving as it's likely some parameters will make it through."
   ]
  },
  {
   "cell_type": "code",
   "execution_count": null,
   "id": "798e1103",
   "metadata": {},
   "outputs": [],
   "source": [
    "import pandas as pd\n",
    "import numpy as np\n",
    "import matplotlib.pyplot as pl\n",
    "import json\n",
    "import scipy.stats\n",
    "\n",
    "import pickle\n",
    "from tqdm import tqdm"
   ]
  },
  {
   "cell_type": "code",
   "execution_count": null,
   "id": "988b8896",
   "metadata": {},
   "outputs": [],
   "source": [
    "df = pd.read_csv('../data/parameter_sets/erfaci.csv')"
   ]
  },
  {
   "cell_type": "code",
   "execution_count": null,
   "id": "05d856f8",
   "metadata": {},
   "outputs": [],
   "source": [
    "df"
   ]
  },
  {
   "cell_type": "code",
   "execution_count": null,
   "id": "eb8a1ef1",
   "metadata": {},
   "outputs": [],
   "source": [
    "pd.plotting.scatter_matrix(np.log(df), figsize=(16,16));"
   ]
  },
  {
   "cell_type": "code",
   "execution_count": null,
   "id": "c18889b4",
   "metadata": {},
   "outputs": [],
   "source": [
    "pl.figure(figsize = (8,8))\n",
    "pl.scatter(np.log(df.shape_so2), np.log(df.beta))\n",
    "pl.plot(np.arange(0,20)+3.3, np.arange(0,20), color='k')"
   ]
  },
  {
   "cell_type": "code",
   "execution_count": null,
   "id": "f475315c",
   "metadata": {},
   "outputs": [],
   "source": [
    "pl.figure(figsize=(6,6))\n",
    "pl.hist2d(\n",
    "    np.log(df.beta), np.log(df.shape_so2), bins=(\n",
    "          np.arange(np.min(np.floor(np.log(df.beta))), np.max(np.ceil(np.log(df.beta)+1))),\n",
    "          np.arange(np.min(np.floor(np.log(df.shape_so2))), np.max(np.ceil(np.log(df.shape_so2)+1)))\n",
    "      ), cmin=1\n",
    ")"
   ]
  },
  {
   "cell_type": "code",
   "execution_count": null,
   "id": "44179567",
   "metadata": {},
   "outputs": [],
   "source": [
    "np.max(np.ceil(np.log(df.beta)+1))"
   ]
  },
  {
   "cell_type": "code",
   "execution_count": null,
   "id": "c27e0a52",
   "metadata": {},
   "outputs": [],
   "source": [
    "hist = np.histogramdd(\n",
    "    np.log(df).values, \n",
    "    bins=(\n",
    "        np.arange(np.min(np.floor(np.log(df.shape_so2))), np.max(np.ceil(np.log(df.shape_so2) + 1))), \n",
    "        np.arange(np.min(np.floor(np.log(df.shape_bcoc))), np.max(np.ceil(np.log(df.shape_bcoc) + 1))), \n",
    "        np.arange(np.min(np.floor(np.log(df.beta))), np.max(np.ceil(np.log(df.beta) + 1)))\n",
    "    )\n",
    ")"
   ]
  },
  {
   "cell_type": "code",
   "execution_count": null,
   "id": "94047ece",
   "metadata": {},
   "outputs": [],
   "source": [
    "np.log(df).values"
   ]
  },
  {
   "cell_type": "code",
   "execution_count": null,
   "id": "ab65670e",
   "metadata": {},
   "outputs": [],
   "source": [
    "df"
   ]
  },
  {
   "cell_type": "code",
   "execution_count": null,
   "id": "80bbc890",
   "metadata": {},
   "outputs": [],
   "source": [
    "hist[1]"
   ]
  },
  {
   "cell_type": "code",
   "execution_count": null,
   "id": "cc6f8ac2",
   "metadata": {},
   "outputs": [],
   "source": [
    "hist[0][8, 8, 10]"
   ]
  },
  {
   "cell_type": "code",
   "execution_count": null,
   "id": "1101a2ee",
   "metadata": {},
   "outputs": [],
   "source": [
    "with open('../data/ar6_ensemble_batches/aci_prior_histogram.pkl', 'wb') as f:\n",
    "    pickle.dump(hist, f)"
   ]
  },
  {
   "cell_type": "code",
   "execution_count": null,
   "id": "c41f8800",
   "metadata": {},
   "outputs": [],
   "source": []
  }
 ],
 "metadata": {
  "kernelspec": {
   "display_name": "Python 3 (ipykernel)",
   "language": "python",
   "name": "python3"
  },
  "language_info": {
   "codemirror_mode": {
    "name": "ipython",
    "version": 3
   },
   "file_extension": ".py",
   "mimetype": "text/x-python",
   "name": "python",
   "nbconvert_exporter": "python",
   "pygments_lexer": "ipython3",
   "version": "3.7.12"
  }
 },
 "nbformat": 4,
 "nbformat_minor": 5
}
