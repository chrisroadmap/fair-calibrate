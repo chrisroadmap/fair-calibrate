{
 "cells": [
  {
   "cell_type": "markdown",
   "id": "5531ab70",
   "metadata": {},
   "source": [
    "# What affects methane chemical lifetime?\n",
    "\n",
    "- methane\n",
    "- VOCs\n",
    "- NOx\n",
    "- Ozone\n",
    "- halocarbons (specifically ODSs)\n",
    "- N2O\n",
    "- climate\n",
    "\n",
    "Here I suggest an override of the alpha scaling factor for methane that is calculated from multiple species.\n",
    "\n",
    "Ozone itself is a function of other precursors: we do not include ozone as a direct influence on methane lifetime, and restrict ourselves to directly emitted anthropogenic species.\n",
    "\n",
    "Gill Thornhill published two papers on methane lifetime: one on the chemical adjustments to lifetime, and one on the climate adjustments. Both effects will be included. We will \n",
    "\n",
    "1. take AerChemMIP multi-model means from Gill's papers\n",
    "2. run the lifetime relationship to individual AerChemMIP models in Gill's papers\n",
    "3. find a least squares fit with reasonable sensitivies across the historical\n",
    "4. run a Monte Carlo that perturbs the sensitivity of lifetime to each emitted species\n",
    "  - include the perturbation to soil lifetime too"
   ]
  },
  {
   "cell_type": "code",
   "execution_count": null,
   "id": "4d4c5f50",
   "metadata": {},
   "outputs": [],
   "source": [
    "from climateforcing.utils import mkdir_p\n",
    "import numpy as np\n",
    "import pandas as pd\n",
    "import matplotlib.pyplot as pl\n",
    "import time\n",
    "import scipy.stats\n",
    "import scipy.optimize\n",
    "\n",
    "from tqdm import tqdm\n",
    "from fair21 import SpeciesID, Category, Config, Species, RunMode, Scenario, ClimateResponse, RunConfig, FAIR\n",
    "from fair21.defaults import species_config_from_default"
   ]
  },
  {
   "cell_type": "code",
   "execution_count": null,
   "id": "c21a7c43",
   "metadata": {},
   "outputs": [],
   "source": [
    "mkdir_p('../plots/')"
   ]
  },
  {
   "cell_type": "markdown",
   "id": "24f6fa32",
   "metadata": {},
   "source": [
    "## Temperature data\n",
    "\n",
    "Use observations 1850-2020, then simulate an SSP3-7.0 climate with a linear warming rate to 4C in 2100."
   ]
  },
  {
   "cell_type": "code",
   "execution_count": null,
   "id": "015305de",
   "metadata": {},
   "outputs": [],
   "source": [
    "df_temp = pd.read_csv('../data/forcing/AR6_GMST.csv')\n",
    "gmst = np.zeros(736)\n",
    "gmst[85:256] = df_temp['gmst'].values\n",
    "gmst[256:336] = np.linspace(gmst[255], 4, 80)\n",
    "gmst[336:] = 4"
   ]
  },
  {
   "cell_type": "markdown",
   "id": "046e15b1",
   "metadata": {},
   "source": [
    "## Get emissions and concentrations "
   ]
  },
  {
   "cell_type": "code",
   "execution_count": null,
   "id": "ddee1d59",
   "metadata": {},
   "outputs": [],
   "source": [
    "df_emis = pd.read_csv('../data/rcmip/rcmip-emissions-annual-means-v5-1-0.csv')\n",
    "df_conc = pd.read_csv('../data/rcmip/rcmip-concentrations-annual-means-v5-1-0.csv')\n",
    "input = {}\n",
    "hc_input = {}"
   ]
  },
  {
   "cell_type": "code",
   "execution_count": null,
   "id": "425512a6",
   "metadata": {},
   "outputs": [],
   "source": [
    "conc_species = ['CH4', 'N2O']\n",
    "hc_species = ['CFC-11', 'CFC-12', 'CFC-113', 'CFC-114', 'CFC-115', 'HCFC-22', 'HCFC-141b', 'HCFC-142b',\n",
    "               'CCl4', 'CH3Cl', 'CH3CCl3', 'CH3Br', 'Halon-1211', 'Halon-1301', 'Halon-2402']\n",
    "\n",
    "for species in conc_species:\n",
    "    input[species] = df_conc.loc[\n",
    "        (df_conc['Scenario']=='rcp85') & (df_conc['Variable'].str.endswith(species)) & \n",
    "        (df_conc['Region']=='World'), '1765':'2500'\n",
    "    ].interpolate(axis=1).values.squeeze()\n",
    "    \n",
    "for species in hc_species:\n",
    "    species_rcmip_name = species.replace(\"-\", \"\")\n",
    "    hc_input[species] = df_conc.loc[\n",
    "        (df_conc['Scenario']=='rcp85') & (df_conc['Variable'].str.endswith(species_rcmip_name)) & \n",
    "        (df_conc['Region']=='World'), '1765':'2500'\n",
    "    ].interpolate(axis=1).values.squeeze()"
   ]
  },
  {
   "cell_type": "code",
   "execution_count": null,
   "id": "f7ff14a3",
   "metadata": {},
   "outputs": [],
   "source": [
    "emis_species = ['CO', 'VOC', 'NOx']\n",
    "for species in emis_species:\n",
    "    input[species] = df_emis.loc[\n",
    "        (df_emis['Scenario']=='rcp85') & (df_emis['Variable'].str.endswith(species)) & \n",
    "        (df_emis['Region']=='World'), '1765':'2500'\n",
    "    ].interpolate(axis=1).values.squeeze()"
   ]
  },
  {
   "cell_type": "code",
   "execution_count": null,
   "id": "93c7b7f1",
   "metadata": {},
   "outputs": [],
   "source": [
    "input['temp'] = gmst"
   ]
  },
  {
   "cell_type": "code",
   "execution_count": null,
   "id": "33ae96d5",
   "metadata": {},
   "outputs": [],
   "source": [
    "def calculate_eesc(\n",
    "    concentration,\n",
    "    baseline_concentration,\n",
    "    fractional_release,\n",
    "    fractional_release_cfc11,\n",
    "    cl_atoms,\n",
    "    br_atoms,\n",
    "    br_cl_ratio = 45,\n",
    "):\n",
    "\n",
    "    # EESC is in terms of CFC11-eq\n",
    "    eesc_out = (\n",
    "        cl_atoms * (concentration - baseline_concentration) * fractional_release / fractional_release_cfc11 +\n",
    "        br_cl_ratio * br_atoms * (concentration - baseline_concentration) * fractional_release / fractional_release_cfc11\n",
    "    ) * fractional_release_cfc11\n",
    "    return eesc_out"
   ]
  },
  {
   "cell_type": "code",
   "execution_count": null,
   "id": "8b7c6259",
   "metadata": {},
   "outputs": [],
   "source": [
    "fractional_release = {\n",
    "    'CFC-11':0.47, \n",
    "    'CFC-12':0.23, \n",
    "    'CFC-113':0.29, \n",
    "    'CFC-114':0.12, \n",
    "    'CFC-115':0.04, \n",
    "    'HCFC-22':0.13, \n",
    "    'HCFC-141b':0.34, \n",
    "    'HCFC-142b':0.17,\n",
    "    'CCl4':0.56, \n",
    "    'CHCl3':0, \n",
    "    'CH2Cl2':0, \n",
    "    'CH3Cl':0.44, \n",
    "    'CH3CCl3':0.67, \n",
    "    'CH3Br':0.6, \n",
    "    'Halon-1211':0.62,\n",
    "    'Halon-1301':0.28, \n",
    "    'Halon-2402':0.65\n",
    "}\n",
    "\n",
    "cl_atoms = {\n",
    "    'CFC-11':3, \n",
    "    'CFC-12':2, \n",
    "    'CFC-113':3, \n",
    "    'CFC-114':2, \n",
    "    'CFC-115':1, \n",
    "    'HCFC-22':1, \n",
    "    'HCFC-141b':2, \n",
    "    'HCFC-142b':1,\n",
    "    'CCl4':4, \n",
    "    'CHCl3':3, \n",
    "    'CH2Cl2':2, \n",
    "    'CH3Cl':1, \n",
    "    'CH3CCl3':3, \n",
    "    'CH3Br':0, \n",
    "    'Halon-1211':1,\n",
    "    'Halon-1301':0, \n",
    "    'Halon-2402':0\n",
    "}\n",
    "\n",
    "br_atoms = {\n",
    "    'CFC-11':0, \n",
    "    'CFC-12':0, \n",
    "    'CFC-113':0, \n",
    "    'CFC-114':0, \n",
    "    'CFC-115':0, \n",
    "    'HCFC-22':0, \n",
    "    'HCFC-141b':0, \n",
    "    'HCFC-142b':0,\n",
    "    'CCl4':0, \n",
    "    'CHCl3':0, \n",
    "    'CH2Cl2':0, \n",
    "    'CH3Cl':0, \n",
    "    'CH3CCl3':0, \n",
    "    'CH3Br':1, \n",
    "    'Halon-1211':1,\n",
    "    'Halon-1301':1, \n",
    "    'Halon-2402':2\n",
    "}"
   ]
  },
  {
   "cell_type": "code",
   "execution_count": null,
   "id": "4235cd33",
   "metadata": {},
   "outputs": [],
   "source": [
    "hc_eesc = {}\n",
    "total_eesc = 0\n",
    "for species in hc_species:\n",
    "    hc_eesc[species] = calculate_eesc(\n",
    "        hc_input[species],\n",
    "        hc_input[species][85],\n",
    "        fractional_release[species],\n",
    "        fractional_release['CFC-11'],\n",
    "        cl_atoms[species],\n",
    "        br_atoms[species],\n",
    "    )\n",
    "    total_eesc = total_eesc + hc_eesc[species]"
   ]
  },
  {
   "cell_type": "code",
   "execution_count": null,
   "id": "1e3a375b",
   "metadata": {},
   "outputs": [],
   "source": [
    "# hfc_erf = {}\n",
    "# hfc_sum = 0\n",
    "# for species in ['HFC-125', 'HFC-134a', 'HFC-143a', 'HFC-152a', 'HFC-227ea', 'HFC-23', 'HFC-236fa', 'HFC-245fa', 'HFC-32',\n",
    "#     'HFC-365mfc', 'HFC-4310mee']:\n",
    "#     hfc_erf[species] = (input[species][269] * radiative_efficiency[species]/1000)\n",
    "#     hfc_sum = hfc_sum + hfc_erf[species]"
   ]
  },
  {
   "cell_type": "code",
   "execution_count": null,
   "id": "b45c76c0",
   "metadata": {},
   "outputs": [],
   "source": [
    "# hfc134a_eq = 0\n",
    "# for species in hfc_species:\n",
    "#     hfc134a_eq = hfc134a_eq + (hfc_input[species] * radiative_efficiency[species])/(radiative_efficiency['HFC-134a'])"
   ]
  },
  {
   "cell_type": "code",
   "execution_count": null,
   "id": "22908f1b",
   "metadata": {},
   "outputs": [],
   "source": [
    "#total_eesc, hc_eesc['CFC-11'], hc_eesc['CFC-12']"
   ]
  },
  {
   "cell_type": "code",
   "execution_count": null,
   "id": "17222499",
   "metadata": {},
   "outputs": [],
   "source": [
    "for species in hc_species:\n",
    "    pl.plot(hc_eesc[species])"
   ]
  },
  {
   "cell_type": "code",
   "execution_count": null,
   "id": "2ce52dc7",
   "metadata": {},
   "outputs": [],
   "source": [
    "input['HC'] = total_eesc"
   ]
  },
  {
   "cell_type": "markdown",
   "id": "88e128ed",
   "metadata": {},
   "source": [
    "Use 1850 and 2014 emissions or concentrations corresponding to methane lifetime changes in Thornhill et al. 2021.\n",
    "\n",
    "Could we also take into account the fact that there are multiple loss pathways for CH4:\n",
    "- tropospheric OH loss is 560 Tg/yr\n",
    "- chlorine oxidation, 11 Tg/yr, assumed not included in AerChemMIP models\n",
    "- stratospheric loss is 31 Tg/yr, assumed not included in AerChemMIP models\n",
    "- soil uptake, 30 Tg/yr, not included in AerChemMIP models\n",
    "\n",
    "Saunois (2020): 90% of sink is OH chemistry in troposphere and is 553 [476–677] Tg CH4 yr−1, which is close to the IPCC number of 560, (chapter 5)\n",
    "\n",
    "Chapter 6 only give time constants for soil uptake and the combined chemistry loss (trop OH + chlorine + stratosphere). "
   ]
  },
  {
   "cell_type": "code",
   "execution_count": null,
   "id": "5aa147e3",
   "metadata": {},
   "outputs": [],
   "source": [
    "def alpha_scaling_exp(\n",
    "    input,\n",
    "    baseline,\n",
    "    normalisation,\n",
    "    beta,\n",
    "):\n",
    "    log_lifetime_scaling = 0\n",
    "    for species in ['CH4', 'N2O', 'VOC', 'HC', 'NOx', 'temp']:\n",
    "        log_lifetime_scaling = log_lifetime_scaling + (\n",
    "            np.log(1 + (input[species]-baseline[species])/normalisation[species] * beta[species])\n",
    "        )\n",
    "    return np.exp(log_lifetime_scaling)"
   ]
  },
  {
   "cell_type": "code",
   "execution_count": null,
   "id": "e75c88a1",
   "metadata": {},
   "outputs": [],
   "source": [
    "normalisation = {}\n",
    "for species in ['CH4', 'N2O', 'VOC', 'NOx', 'HC']:\n",
    "    normalisation[species] = input[species][249] - input[species][85]\n",
    "    print(species, normalisation[species])\n",
    "normalisation['temp'] = 1"
   ]
  },
  {
   "cell_type": "code",
   "execution_count": null,
   "id": "2ea3de5b",
   "metadata": {},
   "outputs": [],
   "source": [
    "baseline = {}\n",
    "for species in ['CH4', 'N2O', 'VOC', 'NOx', 'HC']:\n",
    "    baseline[species] = input[species][85]\n",
    "baseline['temp'] = 0"
   ]
  },
  {
   "cell_type": "markdown",
   "id": "5933563d",
   "metadata": {},
   "source": [
    "## Steps 1 and 2\n",
    "\n",
    "Get and tune to AerChemMIP models\n",
    "\n",
    "MRI and GISS both give pretty good historical emulations"
   ]
  },
  {
   "cell_type": "code",
   "execution_count": null,
   "id": "7c2aa2f6",
   "metadata": {},
   "outputs": [],
   "source": [
    "parameters = {}\n",
    "\n",
    "parameters['AerChemMIP_mean'] = {\n",
    "    'base': 10.0,\n",
    "    'CH4': +0.22,\n",
    "    'NOx': -0.33,\n",
    "#    'CO': 0,\n",
    "    'VOC': +0.19,\n",
    "    'HC': -0.037,\n",
    "    'N2O': -0.02,\n",
    "    'temp': 0.012,\n",
    "}\n",
    "\n",
    "parameters['UKESM'] = {\n",
    "    'base': 8,\n",
    "    'CH4': +0.22,\n",
    "    'NOx': -0.25,\n",
    "#    'CO': 0,\n",
    "    'VOC': +0.11,\n",
    "    'HC': -0.049,\n",
    "    'N2O': -0.012,\n",
    "    'temp': 0.0043\n",
    "}\n",
    "\n",
    "# we'll exclude BCC and CESM as they don't have VOC expt and that's important. \n",
    "# We can live with a missing N2O from GFDL and a missing temperature feedback from MRI.\n",
    "\n",
    "parameters['GFDL'] = {\n",
    "    'base': 9.6,\n",
    "    'CH4': +0.21,\n",
    "    'NOx': -0.33,\n",
    "#    'CO': 0,\n",
    "    'VOC': +0.15,\n",
    "    'HC': -0.075,\n",
    "    'N2O': 0,  # missing\n",
    "    'temp': 0.0258\n",
    "}\n",
    "\n",
    "parameters['GISS'] = {\n",
    "    'base': 13.4,\n",
    "    'CH4': +0.18,\n",
    "    'NOx': -0.46,\n",
    "#    'CO': 0,\n",
    "    'VOC': +0.27,\n",
    "    'HC': -0.006,\n",
    "    'N2O': -0.039,\n",
    "    'temp': -0.0167\n",
    "}\n",
    "\n",
    "parameters['MRI'] = {\n",
    "    'base': 10.1,\n",
    "    'CH4': +0.22,\n",
    "    'NOx': -0.26,\n",
    "#    'CO': 0,\n",
    "    'VOC': +0.21,\n",
    "    'HC': -0.024,\n",
    "    'N2O': -0.013,\n",
    "    'temp': 0  # missing\n",
    "}"
   ]
  },
  {
   "cell_type": "code",
   "execution_count": null,
   "id": "521523ec",
   "metadata": {},
   "outputs": [],
   "source": [
    "lifetime_scaling = {}"
   ]
  },
  {
   "cell_type": "code",
   "execution_count": null,
   "id": "3f61c511",
   "metadata": {},
   "outputs": [],
   "source": [
    "models = ['AerChemMIP_mean', 'UKESM', 'GFDL', 'GISS', 'MRI']"
   ]
  },
  {
   "cell_type": "code",
   "execution_count": null,
   "id": "a36263d8",
   "metadata": {},
   "outputs": [],
   "source": [
    "for model in models:\n",
    "    print(parameters[model])\n",
    "    lifetime_scaling[model] = alpha_scaling_exp(\n",
    "        input,\n",
    "        baseline,\n",
    "        normalisation,\n",
    "        parameters[model],\n",
    "    )"
   ]
  },
  {
   "cell_type": "code",
   "execution_count": null,
   "id": "c64c6664",
   "metadata": {},
   "outputs": [],
   "source": [
    "#pl.plot(np.arange(1750, 2501), aerchemmip_mean[:] * 8.25)\n",
    "for model in models:\n",
    "    pl.plot(np.arange(1765, 2501), lifetime_scaling[model] * parameters[model]['base'], label=model)\n",
    "pl.legend()\n",
    "pl.ylabel('CH4 chemical lifetime (yr)')"
   ]
  },
  {
   "cell_type": "code",
   "execution_count": null,
   "id": "d24f232c",
   "metadata": {},
   "outputs": [],
   "source": [
    "# put this into a simple one box model\n",
    "def one_box(\n",
    "    emissions,\n",
    "    gas_boxes_old,\n",
    "    airborne_emissions_old,\n",
    "    burden_per_emission,\n",
    "    lifetime,\n",
    "    alpha_lifetime,\n",
    "    partition_fraction,\n",
    "    pre_industrial_concentration,\n",
    "    soil_lifetime=135,\n",
    "    timestep=1,\n",
    "    natural_emissions_adjustment=0,\n",
    "):\n",
    "    \n",
    "    effective_lifetime = 1/(1/(alpha_lifetime * lifetime) + 1/soil_lifetime)\n",
    "    decay_rate = timestep/(effective_lifetime)\n",
    "    decay_factor = np.exp(-decay_rate)\n",
    "    gas_boxes_new = (\n",
    "        partition_fraction *\n",
    "        (emissions-natural_emissions_adjustment) *\n",
    "        1 / decay_rate *\n",
    "        (1 - decay_factor) * timestep + gas_boxes_old * decay_factor\n",
    "    )\n",
    "    airborne_emissions_new = gas_boxes_new\n",
    "    concentration_out = (\n",
    "        pre_industrial_concentration +\n",
    "        burden_per_emission * (\n",
    "            airborne_emissions_new + airborne_emissions_old\n",
    "        ) / 2\n",
    "    )\n",
    "    return concentration_out, gas_boxes_new, airborne_emissions_new"
   ]
  },
  {
   "cell_type": "code",
   "execution_count": null,
   "id": "4d590dc2",
   "metadata": {},
   "outputs": [],
   "source": [
    "emis_ch4 = df_emis.loc[\n",
    "    (df_emis['Scenario']=='rcp85') & (df_emis['Variable'].str.endswith('CH4')) & \n",
    "    (df_emis['Region']=='World'), '1765':'2500'\n",
    "].interpolate(axis=1).values.squeeze()"
   ]
  },
  {
   "cell_type": "code",
   "execution_count": null,
   "id": "1661ec0a",
   "metadata": {},
   "outputs": [],
   "source": [
    "burden_per_emission = 1 / (5.1352e18 / 1e18 * 16.043 / 28.97)\n",
    "partition_fraction = 1\n",
    "pre_industrial_concentration = 734.69\n",
    "natural_emissions_adjustment = emis_ch4[0]"
   ]
  },
  {
   "cell_type": "code",
   "execution_count": null,
   "id": "40edd4c4",
   "metadata": {},
   "outputs": [],
   "source": [
    "natural_emissions_adjustment"
   ]
  },
  {
   "cell_type": "code",
   "execution_count": null,
   "id": "25a43741",
   "metadata": {},
   "outputs": [],
   "source": [
    "conc_ch4 = {}"
   ]
  },
  {
   "cell_type": "code",
   "execution_count": null,
   "id": "26c91cf5",
   "metadata": {},
   "outputs": [],
   "source": [
    "for model in models:\n",
    "    conc_ch4[model] = np.zeros(736)\n",
    "    gas_boxes = 0\n",
    "    airborne_emissions = 0\n",
    "    for i in range(736):\n",
    "        conc_ch4[model][i], gas_boxes, airborne_emissions = one_box(\n",
    "            emis_ch4[i],\n",
    "            gas_boxes,\n",
    "            airborne_emissions,\n",
    "            burden_per_emission,\n",
    "            parameters[model]['base'],\n",
    "            lifetime_scaling[model][i],\n",
    "            partition_fraction,\n",
    "            pre_industrial_concentration,\n",
    "            soil_lifetime=np.inf,\n",
    "            timestep=1,\n",
    "            natural_emissions_adjustment=natural_emissions_adjustment,\n",
    "        )"
   ]
  },
  {
   "cell_type": "code",
   "execution_count": null,
   "id": "46a459dd",
   "metadata": {},
   "outputs": [],
   "source": [
    "for model in models:\n",
    "    pl.plot(np.arange(1765, 2501), conc_ch4[model], label=model)\n",
    "pl.plot(np.arange(1765, 2501), input['CH4'], color='k', label='obs')\n",
    "pl.legend()\n",
    "pl.savefig('../plots/aerchemmip_tuning_ch4_conc.pdf')"
   ]
  },
  {
   "cell_type": "markdown",
   "id": "b6ac2598",
   "metadata": {},
   "source": [
    "## Step 3\n",
    "\n",
    "Find least squares sensible historical fit"
   ]
  },
  {
   "cell_type": "code",
   "execution_count": null,
   "id": "17dcbc01",
   "metadata": {},
   "outputs": [],
   "source": [
    "invect = np.array([input['CH4'], input['NOx'], input['VOC'], input['HC'], input['N2O'], input['temp']])"
   ]
  },
  {
   "cell_type": "code",
   "execution_count": null,
   "id": "a33b19dc",
   "metadata": {},
   "outputs": [],
   "source": [
    "def fit_precursors(x, rch4, rnox, rvoc, rhc, rn2o, rtemp, rsoil, rbase):\n",
    "    conc_ch4 = np.zeros(256)\n",
    "    gas_boxes = 0\n",
    "    airborne_emissions = 0\n",
    "    \n",
    "    params = {}\n",
    "    params['CH4'] = rch4\n",
    "    params['NOx'] = rnox\n",
    "    params['VOC'] = rvoc\n",
    "    params['HC'] = rhc\n",
    "    params['N2O'] = rn2o\n",
    "    params['temp'] = rtemp\n",
    "    params['soil'] = rsoil\n",
    "    \n",
    "    inp = {}\n",
    "    inp['CH4'] = x[0]\n",
    "    inp['NOx'] = x[1]\n",
    "    inp['VOC'] = x[2]\n",
    "    inp['HC'] = x[3]\n",
    "    inp['N2O'] = x[4]\n",
    "    inp['temp'] = x[5]\n",
    "    \n",
    "    lifetime_scaling = alpha_scaling_exp(\n",
    "        inp,\n",
    "        baseline,\n",
    "        normalisation,\n",
    "        params,\n",
    "    )\n",
    "    \n",
    "    for i in range(256):\n",
    "        conc_ch4[i], gas_boxes, airborne_emissions = one_box(\n",
    "            emis_ch4[i],\n",
    "            gas_boxes,\n",
    "            airborne_emissions,\n",
    "            burden_per_emission,\n",
    "            rbase,\n",
    "            lifetime_scaling[i],\n",
    "            partition_fraction,\n",
    "            pre_industrial_concentration,\n",
    "            soil_lifetime=rsoil,\n",
    "            timestep=1,\n",
    "            natural_emissions_adjustment=natural_emissions_adjustment,\n",
    "        )\n",
    "    return conc_ch4\n",
    "\n",
    "\n",
    "p, cov = scipy.optimize.curve_fit(\n",
    "    fit_precursors, \n",
    "    invect[:, :256],\n",
    "    input['CH4'][:256],\n",
    "    bounds = (  # AerChemMIP min to max range\n",
    "        (0.18, -0.46, 0.11, -0.075, -0.039, -0.0167, 85, 6.3),\n",
    "        (0.26, -0.25, 0.27, -0.006, -0.012, +0.0258, 185, 13.4)\n",
    "    )\n",
    ")"
   ]
  },
  {
   "cell_type": "code",
   "execution_count": null,
   "id": "792a223d",
   "metadata": {},
   "outputs": [],
   "source": [
    "parameters['best_fit'] = {\n",
    "    'base': p[7],\n",
    "    'CH4': p[0],\n",
    "    'NOx': p[1],\n",
    "#    'CO': 0,\n",
    "    'VOC': p[2],\n",
    "    'HC': p[3],\n",
    "    'N2O': p[4],\n",
    "    'temp': p[5],\n",
    "    'soil': p[6]\n",
    "}\n",
    "p"
   ]
  },
  {
   "cell_type": "code",
   "execution_count": null,
   "id": "4e9360f5",
   "metadata": {},
   "outputs": [],
   "source": [
    "beta_hc_sum = 0\n",
    "\n",
    "for species in hc_species:\n",
    "    beta_hc = (\n",
    "        p[3] * (\n",
    "            (hc_eesc[species][249] - hc_eesc[species][85])/(total_eesc[249]-total_eesc[85])\n",
    "        )\n",
    "    )\n",
    "    print(species, beta_hc)\n",
    "    beta_hc_sum = beta_hc_sum + beta_hc\n",
    "print(beta_hc_sum)"
   ]
  },
  {
   "cell_type": "code",
   "execution_count": null,
   "id": "f7741db8",
   "metadata": {},
   "outputs": [],
   "source": [
    "lifetime_scaling['best_fit'] = alpha_scaling_exp(\n",
    "    input,\n",
    "    baseline,\n",
    "    normalisation,\n",
    "    parameters['best_fit'],\n",
    ")"
   ]
  },
  {
   "cell_type": "code",
   "execution_count": null,
   "id": "80e87f5e",
   "metadata": {},
   "outputs": [],
   "source": [
    "pl.plot(np.arange(1765, 2501), lifetime_scaling['best_fit'])"
   ]
  },
  {
   "cell_type": "code",
   "execution_count": null,
   "id": "053f46af",
   "metadata": {},
   "outputs": [],
   "source": [
    "lifetime_scaling['best_fit'][0]"
   ]
  },
  {
   "cell_type": "code",
   "execution_count": null,
   "id": "b592e3dc",
   "metadata": {},
   "outputs": [],
   "source": [
    "lifetime_scaling['best_fit'][0] * parameters['best_fit']['base']"
   ]
  },
  {
   "cell_type": "code",
   "execution_count": null,
   "id": "9e60f85f",
   "metadata": {},
   "outputs": [],
   "source": [
    "pl.plot(np.arange(1765, 2501), lifetime_scaling['best_fit'] * parameters['best_fit']['base'], label='best_fit')\n",
    "pl.legend()\n",
    "pl.ylabel('CH4 chemical lifetime (yr)')\n",
    "pl.savefig('../plots/ch4_chemical_lifetime_best_fit.pdf')"
   ]
  },
  {
   "cell_type": "code",
   "execution_count": null,
   "id": "937a0807",
   "metadata": {},
   "outputs": [],
   "source": [
    "conc_ch4['best_fit'] = np.zeros(736)\n",
    "gas_boxes = 0\n",
    "airborne_emissions = 0\n",
    "for i in range(736):\n",
    "    conc_ch4['best_fit'][i], gas_boxes, airborne_emissions = one_box(\n",
    "        emis_ch4[i],\n",
    "        gas_boxes,\n",
    "        airborne_emissions,\n",
    "        burden_per_emission,\n",
    "        parameters['best_fit']['base'],\n",
    "        lifetime_scaling['best_fit'][i],\n",
    "        partition_fraction,\n",
    "        pre_industrial_concentration,\n",
    "        soil_lifetime=parameters['best_fit']['soil'],\n",
    "        timestep=1,\n",
    "        natural_emissions_adjustment=natural_emissions_adjustment,\n",
    "    )"
   ]
  },
  {
   "cell_type": "code",
   "execution_count": null,
   "id": "4c16dc15",
   "metadata": {},
   "outputs": [],
   "source": [
    "pl.plot(np.arange(1765, 2501), conc_ch4['best_fit'], label='best_fit')\n",
    "pl.plot(np.arange(1765, 2501), input['CH4'], color='k', label='obs + MAGICC rcp85')\n",
    "pl.legend()\n",
    "#pl.savefig('../plots/ch4_lifetime_best_fit_v_obs_ssp370.pdf')"
   ]
  },
  {
   "cell_type": "markdown",
   "id": "a6c7a68f",
   "metadata": {},
   "source": [
    "### Compare the SSP3-7.0 fit to other SSPs\n",
    "\n",
    "should do something with the temperature projections here"
   ]
  },
  {
   "cell_type": "code",
   "execution_count": null,
   "id": "77321136",
   "metadata": {},
   "outputs": [],
   "source": [
    "emis_ch4_ssps = {}\n",
    "\n",
    "for rcp in ['rcp26', 'rcp45', 'rcp60', 'rcp85']:\n",
    "    emis_ch4_ssps[rcp] = df_emis.loc[\n",
    "        (df_emis['Scenario']==rcp) & (df_emis['Variable'].str.endswith('CH4')) & \n",
    "        (df_emis['Region']=='World'), '1765':'2500'\n",
    "    ].interpolate(axis=1).values.squeeze()"
   ]
  },
  {
   "cell_type": "code",
   "execution_count": null,
   "id": "e6d8ad11",
   "metadata": {},
   "outputs": [],
   "source": [
    "for rcp in ['rcp26', 'rcp45', 'rcp60', 'rcp85']:\n",
    "    conc_ch4[rcp] = np.zeros(736)\n",
    "    gas_boxes = 0\n",
    "    airborne_emissions = 0\n",
    "    for i in range(736):\n",
    "        conc_ch4[rcp][i], gas_boxes, airborne_emissions = one_box(\n",
    "            emis_ch4_ssps[rcp][i],\n",
    "            gas_boxes,\n",
    "            airborne_emissions,\n",
    "            burden_per_emission,\n",
    "            parameters['best_fit']['base'],\n",
    "            lifetime_scaling['best_fit'][i],\n",
    "            partition_fraction,\n",
    "            pre_industrial_concentration,\n",
    "            soil_lifetime=parameters['best_fit']['soil'],\n",
    "            timestep=1,\n",
    "            natural_emissions_adjustment=natural_emissions_adjustment,\n",
    "        )"
   ]
  },
  {
   "cell_type": "code",
   "execution_count": null,
   "id": "f945ea9b",
   "metadata": {},
   "outputs": [],
   "source": [
    "for rcp in ['rcp26', 'rcp45', 'rcp60', 'rcp85']:\n",
    "    pl.plot(np.arange(1765, 2501), conc_ch4[rcp], label=rcp)\n",
    "pl.plot(np.arange(1765, 2501), input['CH4'], color='k', label='obs')\n",
    "pl.legend()\n",
    "#pl.savefig('../plots/ch4_lifetime_best_fit_ssps.pdf')"
   ]
  },
  {
   "cell_type": "markdown",
   "id": "f6e15dd4",
   "metadata": {},
   "source": [
    "## Step 4\n",
    "\n",
    "Run a Monte Carlo around these parameters"
   ]
  },
  {
   "cell_type": "code",
   "execution_count": null,
   "id": "82e5672f",
   "metadata": {},
   "outputs": [],
   "source": [
    "samples = 5000"
   ]
  },
  {
   "cell_type": "code",
   "execution_count": null,
   "id": "f86841dd",
   "metadata": {},
   "outputs": [],
   "source": [
    "param_mc = []\n",
    "base = scipy.stats.uniform.rvs(9, 15-9, size=samples, random_state=1001251)\n",
    "#ch4 = scipy.stats.uniform.rvs(0.18, 0.26-0.18, size=samples, random_state=21260)  # extend?\n",
    "ch4 = scipy.stats.uniform.rvs(0.12, 0.32-0.12, size=samples, random_state=21260)\n",
    "#nox = scipy.stats.uniform.rvs(-0.46, -0.25-(-0.46), size=samples, random_state=3936801)\n",
    "nox = scipy.stats.uniform.rvs(-0.53, -0.18-(-0.53), size=samples, random_state=3936801)\n",
    "co = np.zeros(samples)\n",
    "#voc = scipy.stats.uniform.rvs(0.11, 0.27-0.11, size=samples, random_state=10372947)\n",
    "voc = scipy.stats.uniform.rvs(0.05, 0.33-0.05, size=samples, random_state=10372947)\n",
    "hc = scipy.stats.uniform.rvs(-0.075, -0.006-(-0.075), size=samples, random_state=9165539)\n",
    "n2o = scipy.stats.uniform.rvs(-0.039, -0.012-(-0.039), size=samples, random_state=442935)\n",
    "#temp = scipy.stats.uniform.rvs(-0.0167, 0.0258-(-0.0167), size=samples, random_state=1930159)\n",
    "temp = scipy.stats.uniform.rvs(-0.025, 0.035-(-0.025), size=samples, random_state=1930159)\n",
    "soil = scipy.stats.uniform.rvs(135-44*2, 135+44*2, size=samples, random_state=6645293)\n",
    "\n",
    "for sample in range(samples):\n",
    "    param_mc.append(\n",
    "        {\n",
    "            'base': base[sample],\n",
    "            'CH4': ch4[sample],\n",
    "            'NOx': nox[sample],\n",
    "            'CO': co[sample],\n",
    "            'VOC': voc[sample],\n",
    "            'HC': hc[sample],\n",
    "            'N2O': n2o[sample],\n",
    "            'temp': temp[sample],\n",
    "            'soil': soil[sample]\n",
    "        }\n",
    "    )"
   ]
  },
  {
   "cell_type": "code",
   "execution_count": null,
   "id": "e8cc2e1a",
   "metadata": {},
   "outputs": [],
   "source": [
    "conc_ch4_mc = {}\n",
    "for sample in tqdm(range(samples)):\n",
    "    conc_ch4_mc[sample] = np.zeros(736)\n",
    "    gas_boxes = 0\n",
    "    airborne_emissions = 0\n",
    "    lifetime_scaling_mc = alpha_scaling_exp(\n",
    "        input,\n",
    "        baseline,\n",
    "        normalisation,\n",
    "        param_mc[sample],\n",
    "    )\n",
    "    for i in range(736):\n",
    "        conc_ch4_mc[sample][i], gas_boxes, airborne_emissions = one_box(\n",
    "            emis_ch4[i],\n",
    "            gas_boxes,\n",
    "            airborne_emissions,\n",
    "            burden_per_emission,\n",
    "            param_mc[sample]['base'],\n",
    "            lifetime_scaling_mc[i],\n",
    "            partition_fraction,\n",
    "            pre_industrial_concentration,\n",
    "            soil_lifetime=param_mc[sample]['soil'],\n",
    "            timestep=1,\n",
    "            natural_emissions_adjustment=natural_emissions_adjustment,\n",
    "        )"
   ]
  },
  {
   "cell_type": "code",
   "execution_count": null,
   "id": "a67aba67",
   "metadata": {},
   "outputs": [],
   "source": [
    "input['CH4'][249]"
   ]
  },
  {
   "cell_type": "code",
   "execution_count": null,
   "id": "60d41e31",
   "metadata": {},
   "outputs": [],
   "source": [
    "accept = np.zeros(samples, dtype=bool)\n",
    "for sample in range(samples):\n",
    "    if input['CH4'][249] - 10 < conc_ch4_mc[sample][249] < input['CH4'][249] + 10:\n",
    "        accept[sample] = True"
   ]
  },
  {
   "cell_type": "code",
   "execution_count": null,
   "id": "93d130a3",
   "metadata": {},
   "outputs": [],
   "source": [
    "np.sum(accept)"
   ]
  },
  {
   "cell_type": "code",
   "execution_count": null,
   "id": "88b70c71",
   "metadata": {},
   "outputs": [],
   "source": [
    "for sample in range(samples):\n",
    "    if accept[sample]:\n",
    "        pl.plot(np.arange(1765, 2501), conc_ch4_mc[sample])\n",
    "pl.plot(np.arange(1765, 2501), input['CH4'], color='k')"
   ]
  }
 ],
 "metadata": {
  "kernelspec": {
   "display_name": "Python 3 (ipykernel)",
   "language": "python",
   "name": "python3"
  },
  "language_info": {
   "codemirror_mode": {
    "name": "ipython",
    "version": 3
   },
   "file_extension": ".py",
   "mimetype": "text/x-python",
   "name": "python",
   "nbconvert_exporter": "python",
   "pygments_lexer": "ipython3",
   "version": "3.7.12"
  }
 },
 "nbformat": 4,
 "nbformat_minor": 5
}
