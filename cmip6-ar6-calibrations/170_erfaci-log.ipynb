{
 "cells": [
  {
   "cell_type": "markdown",
   "id": "50b5ae0b",
   "metadata": {},
   "source": [
    "# Investigate a pure log fit to aerosol cloud interactions\n",
    "\n",
    "\n",
    "\\begin{equation}\n",
    "F = \\sum_{i} \\beta_i \\log \\left( 1 + \\frac{A_i}{n_i} \\right)\n",
    "\\end{equation}\n",
    "\n",
    "\n",
    "where \n",
    "- $A_i$ is the atmospheric input (concentrations or emissions of a specie),\n",
    "- $\\beta_i$ is a scale factor,\n",
    "- $n_i$ is a shape factor that describes how linear or logarithmic the relationship is."
   ]
  },
  {
   "cell_type": "code",
   "execution_count": null,
   "id": "38ec8ef5",
   "metadata": {},
   "outputs": [],
   "source": [
    "import pandas as pd\n",
    "import numpy as np\n",
    "import matplotlib.pyplot as pl\n",
    "import json\n",
    "import scipy.stats\n",
    "import pooch\n",
    "import os\n",
    "import glob\n",
    "from scipy.optimize import curve_fit"
   ]
  },
  {
   "cell_type": "code",
   "execution_count": null,
   "id": "8d656b37",
   "metadata": {},
   "outputs": [],
   "source": [
    "files = glob.glob('../data/smith2021aerosol/*.csv')\n",
    "\n",
    "ari = {}\n",
    "aci = {}\n",
    "models = []\n",
    "years = {}\n",
    "for file in files:\n",
    "    model = os.path.split(file)[1][:-4]\n",
    "    models.append(model)\n",
    "    df = pd.read_csv(file, index_col='year')\n",
    "    ari[model] = (df['aprp_ERFariSW'] + df['aprp_ERFariLW']).values.squeeze()\n",
    "    aci[model] = (df['aprp_ERFaciSW'] + df['aprp_ERFaciLW']).values.squeeze()\n",
    "    years[model] = df.index\n",
    "#pd.read_csv('../data/smith2021aerosol/')"
   ]
  },
  {
   "cell_type": "code",
   "execution_count": null,
   "id": "fca17ee7",
   "metadata": {},
   "outputs": [],
   "source": [
    "int(np.floor(years['E3SM'][0]-1850))"
   ]
  },
  {
   "cell_type": "code",
   "execution_count": null,
   "id": "7584de72",
   "metadata": {},
   "outputs": [],
   "source": [
    "rcmip_emissions_file = pooch.retrieve(\n",
    "    url=\"doi:10.5281/zenodo.4589756/rcmip-emissions-annual-means-v5-1-0.csv\",\n",
    "    known_hash=\"md5:4044106f55ca65b094670e7577eaf9b3\",\n",
    ")"
   ]
  },
  {
   "cell_type": "code",
   "execution_count": null,
   "id": "359de1b5",
   "metadata": {},
   "outputs": [],
   "source": [
    "emis_df = pd.read_csv(rcmip_emissions_file)"
   ]
  },
  {
   "cell_type": "code",
   "execution_count": null,
   "id": "f6289ffe",
   "metadata": {},
   "outputs": [],
   "source": [
    "bc = emis_df.loc[(emis_df['Scenario']=='ssp245')&\n",
    "                 (emis_df['Region']=='World')&\n",
    "                 (emis_df['Variable']=='Emissions|BC'), '1750':'2100'].interpolate(axis=1).squeeze().values\n",
    "\n",
    "oc = emis_df.loc[(emis_df['Scenario']=='ssp245')&\n",
    "                 (emis_df['Region']=='World')&\n",
    "                 (emis_df['Variable']=='Emissions|OC'), '1750':'2100'].interpolate(axis=1).squeeze().values\n",
    "\n",
    "so2 = emis_df.loc[(emis_df['Scenario']=='ssp245')&\n",
    "                 (emis_df['Region']=='World')&\n",
    "                 (emis_df['Variable']=='Emissions|Sulfur'), '1750':'2100'].interpolate(axis=1).squeeze().values"
   ]
  },
  {
   "cell_type": "code",
   "execution_count": null,
   "id": "c87b6a30",
   "metadata": {},
   "outputs": [],
   "source": [
    "aci['UKESM1-0-LL']"
   ]
  },
  {
   "cell_type": "code",
   "execution_count": null,
   "id": "6db0d0d9",
   "metadata": {},
   "outputs": [],
   "source": [
    "def aci_log(x, beta0, beta1, beta2, n0, n1, n2):\n",
    "    aci = beta0*np.log(1 + x[0]/n0) + beta1*np.log(1 + x[1]/n1) + beta2*np.log(1 + x[2]/n2)\n",
    "    aci_1850 = beta0*np.log(1 + so2[100]/n0) + beta1*np.log(1 + bc[100]/n1) + beta2*np.log(1 + oc[100]/n2)\n",
    "    #aci_1750 = beta0*np.log(1 + so2[0]/n0) + beta1*np.log(1 + bc[0]/n1) + beta2*np.log(1 + oc[0]/n2)\n",
    "    return (aci - aci_1850)"
   ]
  },
  {
   "cell_type": "code",
   "execution_count": null,
   "id": "7475a79c",
   "metadata": {},
   "outputs": [],
   "source": [
    "param_fits = {}\n",
    "\n",
    "for model in models:\n",
    "    ist = int(np.floor(years[model][0]-1750))\n",
    "    ien = int(np.ceil(years[model][-1]-1750))\n",
    "    param_fits[model], cov = curve_fit(\n",
    "        aci_log, \n",
    "        [so2[ist:ien], bc[ist:ien], oc[ist:ien]],\n",
    "        aci[model],\n",
    "        bounds = ((-np.inf, -np.inf, -np.inf, 0, 0, 0), (0, 0, 0, np.inf, np.inf, np.inf))\n",
    "    )\n",
    "#    p[0], p[1], p[2], p[3], p[4], p[5]"
   ]
  },
  {
   "cell_type": "code",
   "execution_count": null,
   "id": "67f50461",
   "metadata": {},
   "outputs": [],
   "source": [
    "fig, ax = pl.subplots(3, 4, figsize=(16, 12))\n",
    "for imodel, model in enumerate(models):\n",
    "    ax[imodel//4, imodel%4].plot(np.arange(1750.5, 2101), aci_log([so2, bc, oc], *param_fits[model]))\n",
    "    ax[imodel//4, imodel%4].plot(years[model], aci[model])"
   ]
  },
  {
   "cell_type": "code",
   "execution_count": null,
   "id": "2ed706f2",
   "metadata": {},
   "outputs": [],
   "source": [
    "df_params = pd.DataFrame(param_fits, index=['beta0', 'beta1', 'beta2', 'n0', 'n1', 'n2']).T"
   ]
  },
  {
   "cell_type": "code",
   "execution_count": null,
   "id": "a3aedb29",
   "metadata": {},
   "outputs": [],
   "source": [
    "def aci_log1750(x, beta0, beta1, beta2, n0, n1, n2):\n",
    "    aci = beta0*np.log(1 + x[0]/n0) + beta1*np.log(1 + x[1]/n1) + beta2*np.log(1 + x[2]/n2)\n",
    "    aci_1750 = beta0*np.log(1 + so2[0]/n0) + beta1*np.log(1 + bc[0]/n1) + beta2*np.log(1 + oc[0]/n2)\n",
    "    return (aci - aci_1750)"
   ]
  },
  {
   "cell_type": "code",
   "execution_count": null,
   "id": "eeaa222e",
   "metadata": {},
   "outputs": [],
   "source": [
    "fig, ax = pl.subplots(3, 4, figsize=(16, 12))\n",
    "for imodel, model in enumerate(models):\n",
    "    ax[imodel//4, imodel%4].plot(np.arange(1750.5, 2101), aci_log([so2, bc, oc], *param_fits[model]))\n",
    "    ax[imodel//4, imodel%4].plot(np.arange(1750.5, 2101), aci_log1750([so2, bc, oc], *param_fits[model]))"
   ]
  },
  {
   "cell_type": "code",
   "execution_count": null,
   "id": "3ca04f3a",
   "metadata": {},
   "outputs": [],
   "source": [
    "fig, ax = pl.subplots(3, 4, figsize=(16, 12))\n",
    "for imodel, model in enumerate(models):\n",
    "    ax[imodel//4, imodel%4].plot(np.arange(1750.5, 2101), aci_log([so2, bc, oc], *param_fits[model]) - aci_log1750([so2, bc, oc], *param_fits[model]))"
   ]
  },
  {
   "cell_type": "code",
   "execution_count": null,
   "id": "e539af81",
   "metadata": {},
   "outputs": [],
   "source": [
    "df_params.to_csv('../data/smith2021aerosol/sumlog.csv')"
   ]
  },
  {
   "cell_type": "code",
   "execution_count": null,
   "id": "d2cce648",
   "metadata": {},
   "outputs": [],
   "source": []
  }
 ],
 "metadata": {
  "kernelspec": {
   "display_name": "Python 3 (ipykernel)",
   "language": "python",
   "name": "python3"
  },
  "language_info": {
   "codemirror_mode": {
    "name": "ipython",
    "version": 3
   },
   "file_extension": ".py",
   "mimetype": "text/x-python",
   "name": "python",
   "nbconvert_exporter": "python",
   "pygments_lexer": "ipython3",
   "version": "3.10.6"
  }
 },
 "nbformat": 4,
 "nbformat_minor": 5
}
