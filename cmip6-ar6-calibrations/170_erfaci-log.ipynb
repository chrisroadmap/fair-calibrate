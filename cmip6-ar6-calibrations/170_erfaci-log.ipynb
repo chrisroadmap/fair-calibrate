{
 "cells": [
  {
   "cell_type": "markdown",
   "id": "50b5ae0b",
   "metadata": {},
   "source": [
    "# Investigate a pure log fit to aerosol cloud interactions\n",
    "\n",
    "\n",
    "\\begin{equation}\n",
    "F = \\sum_{i} \\beta_i \\log \\left( 1 + \\frac{A_i}{n_i} \\right)\n",
    "\\end{equation}\n",
    "\n",
    "\n",
    "where \n",
    "- $A_i$ is the atmospheric input (concentrations or emissions of a specie),\n",
    "- $\\beta_i$ is a scale factor,\n",
    "- $n_i$ is a shape factor that describes how linear or logarithmic the relationship is."
   ]
  },
  {
   "cell_type": "code",
   "execution_count": null,
   "id": "38ec8ef5",
   "metadata": {},
   "outputs": [],
   "source": [
    "import pandas as pd\n",
    "import numpy as np\n",
    "import matplotlib.pyplot as pl\n",
    "import json\n",
    "import scipy.stats\n",
    "import pooch\n",
    "import os\n",
    "import glob\n",
    "from tqdm.autonotebook import tqdm\n",
    "from scipy.optimize import curve_fit"
   ]
  },
  {
   "cell_type": "code",
   "execution_count": null,
   "id": "8d656b37",
   "metadata": {},
   "outputs": [],
   "source": [
    "files = glob.glob('../data/smith2021aerosol/*.csv')\n",
    "\n",
    "ari = {}\n",
    "aci = {}\n",
    "models = []\n",
    "years = {}\n",
    "for file in files:\n",
    "    model = os.path.split(file)[1][:-4]\n",
    "    if model=='sumlog':\n",
    "        continue\n",
    "    models.append(model)\n",
    "    df = pd.read_csv(file, index_col='year')\n",
    "    ari[model] = (df['aprp_ERFariSW'] + df['aprp_ERFariLW']).values.squeeze()\n",
    "    aci[model] = (df['aprp_ERFaciSW'] + df['aprp_ERFaciLW']).values.squeeze()\n",
    "    years[model] = df.index\n",
    "#pd.read_csv('../data/smith2021aerosol/')"
   ]
  },
  {
   "cell_type": "code",
   "execution_count": null,
   "id": "fca17ee7",
   "metadata": {},
   "outputs": [],
   "source": [
    "int(np.floor(years['E3SM'][0]-1850))"
   ]
  },
  {
   "cell_type": "code",
   "execution_count": null,
   "id": "7584de72",
   "metadata": {},
   "outputs": [],
   "source": [
    "rcmip_emissions_file = pooch.retrieve(\n",
    "    url=\"doi:10.5281/zenodo.4589756/rcmip-emissions-annual-means-v5-1-0.csv\",\n",
    "    known_hash=\"md5:4044106f55ca65b094670e7577eaf9b3\",\n",
    ")"
   ]
  },
  {
   "cell_type": "code",
   "execution_count": null,
   "id": "359de1b5",
   "metadata": {},
   "outputs": [],
   "source": [
    "emis_df = pd.read_csv(rcmip_emissions_file)"
   ]
  },
  {
   "cell_type": "code",
   "execution_count": null,
   "id": "f6289ffe",
   "metadata": {},
   "outputs": [],
   "source": [
    "bc = emis_df.loc[(emis_df['Scenario']=='ssp245')&\n",
    "                 (emis_df['Region']=='World')&\n",
    "                 (emis_df['Variable']=='Emissions|BC'), '1750':'2100'].interpolate(axis=1).squeeze().values\n",
    "\n",
    "oc = emis_df.loc[(emis_df['Scenario']=='ssp245')&\n",
    "                 (emis_df['Region']=='World')&\n",
    "                 (emis_df['Variable']=='Emissions|OC'), '1750':'2100'].interpolate(axis=1).squeeze().values\n",
    "\n",
    "so2 = emis_df.loc[(emis_df['Scenario']=='ssp245')&\n",
    "                 (emis_df['Region']=='World')&\n",
    "                 (emis_df['Variable']=='Emissions|Sulfur'), '1750':'2100'].interpolate(axis=1).squeeze().values"
   ]
  },
  {
   "cell_type": "code",
   "execution_count": null,
   "id": "c87b6a30",
   "metadata": {},
   "outputs": [],
   "source": [
    "aci['UKESM1-0-LL']"
   ]
  },
  {
   "cell_type": "code",
   "execution_count": null,
   "id": "6db0d0d9",
   "metadata": {},
   "outputs": [],
   "source": [
    "#def aci_log(x, beta0, beta1, beta2, n0, n1, n2):\n",
    "def aci_log(x, beta, n0, n1, n2):\n",
    "#def aci_log(x, beta0, n0):\n",
    "    #aci = beta0*np.log(1 + x[0]/n0)# + beta1*np.log(1 + x[1]/n1) + beta2*np.log(1 + x[2]/n2)\n",
    "    #aci = beta0*np.log(1 + x/n0)\n",
    "    aci = beta*np.log(1 + x[0]*n0 + x[1]*n1 + x[2]*n2)# + beta1*np.log(1 + x[1]/n1) + beta2*np.log(1 + x[2]/n2)\n",
    "    #aci_1850 = beta0*np.log(1 + so2[100]/n0)# + beta1*np.log(1 + bc[100]/n1) + beta2*np.log(1 + oc[100]/n2)\n",
    "    aci_1850 = beta*np.log(1 + so2[100]*n0 + bc[100]*n1 + oc[100]*n2)\n",
    "    return (aci - aci_1850)"
   ]
  },
  {
   "cell_type": "code",
   "execution_count": null,
   "id": "7475a79c",
   "metadata": {},
   "outputs": [],
   "source": [
    "param_fits = {}\n",
    "\n",
    "for model in models:\n",
    "    ist = int(np.floor(years[model][0]-1750))\n",
    "    ien = int(np.ceil(years[model][-1]-1750))\n",
    "    print(model)\n",
    "    param_fits[model], cov = curve_fit(\n",
    "        aci_log, \n",
    "        [so2[ist:ien], bc[ist:ien], oc[ist:ien]],\n",
    "        #so2[ist:ien],\n",
    "        aci[model],\n",
    "        #bounds = ((-np.inf, -np.inf, -np.inf, 0, 0, 0), (0, 0, 0, np.inf, np.inf, np.inf))\n",
    "        #bounds = ((-np.inf, 0), (0, np.inf))\n",
    "        bounds = ((-np.inf, 0, 0, 0), (0, np.inf, np.inf, np.inf)),\n",
    "        max_nfev = 10000\n",
    "    )\n",
    "#    p[0], p[1], p[2], p[3], p[4], p[5]"
   ]
  },
  {
   "cell_type": "code",
   "execution_count": null,
   "id": "bb3f9166",
   "metadata": {},
   "outputs": [],
   "source": [
    "param_fits[model]"
   ]
  },
  {
   "cell_type": "code",
   "execution_count": null,
   "id": "67f50461",
   "metadata": {},
   "outputs": [],
   "source": [
    "fig, ax = pl.subplots(3, 4, figsize=(16, 12))\n",
    "for imodel, model in enumerate(models):\n",
    "    #ax[imodel//4, imodel%4].plot(np.arange(1750.5, 2101), aci_log(so2, *param_fits[model]))\n",
    "    ax[imodel//4, imodel%4].plot(np.arange(1750.5, 2101), aci_log([so2, bc, oc], *param_fits[model]))\n",
    "    ax[imodel//4, imodel%4].plot(years[model], aci[model])"
   ]
  },
  {
   "cell_type": "code",
   "execution_count": null,
   "id": "2ed706f2",
   "metadata": {},
   "outputs": [],
   "source": [
    "#df_params = pd.DataFrame(param_fits, index=['beta0', 'beta1', 'beta2', 'n0', 'n1', 'n2']).T\n",
    "df_params = pd.DataFrame(param_fits, index=['beta', 'n0', 'n1', 'n2']).T"
   ]
  },
  {
   "cell_type": "code",
   "execution_count": null,
   "id": "a3aedb29",
   "metadata": {},
   "outputs": [],
   "source": [
    "#def aci_log1750(x, beta0, beta1, beta2, n0, n1, n2):\n",
    "def aci_log1750(x, beta, n0, n1, n2):\n",
    "    #aci = beta0*np.log(1 + x[0]/n0) + beta1*np.log(1 + x[1]/n1) + beta2*np.log(1 + x[2]/n2)\n",
    "    #aci_1750 = beta0*np.log(1 + so2[0]/n0) + beta1*np.log(1 + bc[0]/n1) + beta2*np.log(1 + oc[0]/n2)\n",
    "    aci = beta*np.log(1 + x[0]*n0 + x[1]*n1 + x[2]*n2)\n",
    "    aci_1750 = beta*np.log(1 + so2[0]*n0 + bc[0]*n1 + oc[0]*n2)\n",
    "    return (aci - aci_1750)"
   ]
  },
  {
   "cell_type": "code",
   "execution_count": null,
   "id": "eeaa222e",
   "metadata": {},
   "outputs": [],
   "source": [
    "fig, ax = pl.subplots(3, 4, figsize=(16, 12))\n",
    "for imodel, model in enumerate(models):\n",
    "    ax[imodel//4, imodel%4].plot(np.arange(1750.5, 2101), aci_log([so2, bc, oc], *param_fits[model]))\n",
    "    ax[imodel//4, imodel%4].plot(np.arange(1750.5, 2101), aci_log1750([so2, bc, oc], *param_fits[model]))"
   ]
  },
  {
   "cell_type": "code",
   "execution_count": null,
   "id": "3ca04f3a",
   "metadata": {},
   "outputs": [],
   "source": [
    "fig, ax = pl.subplots(3, 4, figsize=(16, 12))\n",
    "for imodel, model in enumerate(models):\n",
    "    ax[imodel//4, imodel%4].plot(np.arange(1750.5, 2101), aci_log([so2, bc, oc], *param_fits[model]) - aci_log1750([so2, bc, oc], *param_fits[model]))"
   ]
  },
  {
   "cell_type": "code",
   "execution_count": null,
   "id": "e539af81",
   "metadata": {},
   "outputs": [],
   "source": [
    "df_params.to_csv('../data/smith2021aerosol/sumlog.csv')"
   ]
  },
  {
   "cell_type": "code",
   "execution_count": null,
   "id": "d7b8c354",
   "metadata": {},
   "outputs": [],
   "source": [
    "samples = 1000"
   ]
  },
  {
   "cell_type": "code",
   "execution_count": null,
   "id": "6d6c3ba7",
   "metadata": {},
   "outputs": [],
   "source": [
    "df_params"
   ]
  },
  {
   "cell_type": "code",
   "execution_count": null,
   "id": "f9a24bc4",
   "metadata": {},
   "outputs": [],
   "source": [
    "# log_beta0_samp = np.log(-df_params['beta0'])\n",
    "# log_beta1_samp = np.log(-df_params['beta1'])\n",
    "# log_beta2_samp = np.log(-df_params['beta2'])\n",
    "beta_samp = df_params['beta']\n",
    "log_n0_samp = np.log(df_params['n0'])\n",
    "log_n1_samp = np.log(df_params['n1'])\n",
    "log_n2_samp = np.log(df_params['n2'])\n",
    "log_n0_samp, log_n1_samp, log_n2_samp"
   ]
  },
  {
   "cell_type": "code",
   "execution_count": null,
   "id": "81a2c1a7",
   "metadata": {},
   "outputs": [],
   "source": [
    "#log_beta0_samp"
   ]
  },
  {
   "cell_type": "code",
   "execution_count": null,
   "id": "1bfa2436",
   "metadata": {},
   "outputs": [],
   "source": [
    "#kde = scipy.stats.gaussian_kde([log_beta0_samp, log_beta1_samp, log_beta2_samp, log_n0_samp, log_n1_samp, log_n2_samp])\n",
    "kde = scipy.stats.gaussian_kde([beta_samp, log_n0_samp, log_n1_samp, log_n2_samp])\n",
    "aci_sample=kde.resample(size=samples*5, seed=63648708)"
   ]
  },
  {
   "cell_type": "code",
   "execution_count": null,
   "id": "b546a698",
   "metadata": {},
   "outputs": [],
   "source": [
    "aci_sample[1, aci_sample[1,:] > -3.295975/2] = np.nan\n",
    "aci_sample[2, aci_sample[2,:] > -0.553641/2] = np.nan\n",
    "aci_sample[3, aci_sample[3,:] > -3.582930/2] = np.nan"
   ]
  },
  {
   "cell_type": "code",
   "execution_count": null,
   "id": "37d1365a",
   "metadata": {},
   "outputs": [],
   "source": [
    "mask = np.any(np.isnan(aci_sample), axis=0)\n",
    "aci_sample = aci_sample[:, ~mask]"
   ]
  },
  {
   "cell_type": "code",
   "execution_count": null,
   "id": "8bb5fc31",
   "metadata": {},
   "outputs": [],
   "source": [
    "mask.sum()"
   ]
  },
  {
   "cell_type": "code",
   "execution_count": null,
   "id": "5718d26f",
   "metadata": {},
   "outputs": [],
   "source": [
    "aci_sample"
   ]
  },
  {
   "cell_type": "code",
   "execution_count": null,
   "id": "63a0dbf5",
   "metadata": {},
   "outputs": [],
   "source": [
    "NINETY_TO_ONESIGMA = scipy.stats.norm.ppf(0.95)\n",
    "erfaci_sample = scipy.stats.uniform.rvs(size=samples, loc=-2.0, scale=2.0, random_state=71271)"
   ]
  },
  {
   "cell_type": "code",
   "execution_count": null,
   "id": "d2cce648",
   "metadata": {},
   "outputs": [],
   "source": [
    "beta = np.zeros(samples)\n",
    "erfaci = np.zeros((351,samples))\n",
    "for i in tqdm(range(samples)):\n",
    "    ts2010 = np.mean(\n",
    "        aci_log(\n",
    "            [so2[255:265], bc[255:265], oc[255:265]], \n",
    "            #-np.exp(aci_sample[0,i]), -np.exp(aci_sample[1,i]), -np.exp(aci_sample[2,i]), \n",
    "            #np.exp(aci_sample[3,i]), np.exp(aci_sample[4,i]), np.exp(aci_sample[5,i])\n",
    "            aci_sample[0,i],\n",
    "            np.exp(aci_sample[1,i]), np.exp(aci_sample[2,i]), np.exp(aci_sample[3,i])\n",
    "        )\n",
    "    )\n",
    "    ts1850 = aci_log(\n",
    "        [so2[100], bc[100], oc[100]], \n",
    "        aci_sample[0,i],\n",
    "        np.exp(aci_sample[1,i]), np.exp(aci_sample[2,i]), np.exp(aci_sample[3,i])\n",
    "        #-np.exp(aci_sample[0,i]), -np.exp(aci_sample[1,i]), -np.exp(aci_sample[2,i]),\n",
    "        #np.exp(aci_sample[3,i]), np.exp(aci_sample[4,i]), np.exp(aci_sample[5,i])\n",
    "    )\n",
    "    ts1750 = aci_log(\n",
    "        [so2[0], bc[0], oc[0]], \n",
    "        aci_sample[0,i],\n",
    "        np.exp(aci_sample[1,i]), np.exp(aci_sample[2,i]), np.exp(aci_sample[3,i])\n",
    "        #-np.exp(aci_sample[0,i]), -np.exp(aci_sample[1,i]), -np.exp(aci_sample[2,i]),\n",
    "        #np.exp(aci_sample[3,i]), np.exp(aci_sample[4,i]), np.exp(aci_sample[5,i])\n",
    "    )\n",
    "    erfaci[:,i] = (\n",
    "        aci_log(\n",
    "            [so2, bc, oc], \n",
    "            #-np.exp(aci_sample[0,i]), -np.exp(aci_sample[1,i]), -np.exp(aci_sample[2,i]),\n",
    "            #np.exp(aci_sample[3,i]), np.exp(aci_sample[4,i]), np.exp(aci_sample[5,i])\n",
    "            aci_sample[0,i],\n",
    "            np.exp(aci_sample[1,i]), np.exp(aci_sample[2,i]), np.exp(aci_sample[3,i])\n",
    "        ) - ts1750\n",
    "    )/(ts2010-ts1850)*(erfaci_sample[i])\n",
    "    beta[i] = erfaci_sample[i] / (ts2010-ts1750)"
   ]
  },
  {
   "cell_type": "code",
   "execution_count": null,
   "id": "ddd18e1e",
   "metadata": {},
   "outputs": [],
   "source": [
    "pl.plot(np.arange(1750, 2101), np.percentile(erfaci, 95, axis=1));\n",
    "pl.plot(np.arange(1750, 2101), np.percentile(erfaci, 50, axis=1));\n",
    "pl.plot(np.arange(1750, 2101), np.percentile(erfaci, 5, axis=1));"
   ]
  },
  {
   "cell_type": "code",
   "execution_count": null,
   "id": "71125ca5",
   "metadata": {},
   "outputs": [],
   "source": [
    "pl.plot(erfaci[:, 6])\n",
    "aci_sample[0,6],np.exp(aci_sample[1,6]), np.exp(aci_sample[2,6]), np.exp(aci_sample[3,6])"
   ]
  },
  {
   "cell_type": "code",
   "execution_count": null,
   "id": "52c36499",
   "metadata": {},
   "outputs": [],
   "source": [
    "pl.hist(aci_sample[1,:])"
   ]
  },
  {
   "cell_type": "code",
   "execution_count": null,
   "id": "5ed94497",
   "metadata": {},
   "outputs": [],
   "source": [
    "so2"
   ]
  },
  {
   "cell_type": "code",
   "execution_count": null,
   "id": "14e8d5b2",
   "metadata": {},
   "outputs": [],
   "source": [
    "-np.exp(aci_sample[2,:])"
   ]
  },
  {
   "cell_type": "code",
   "execution_count": null,
   "id": "da920786",
   "metadata": {},
   "outputs": [],
   "source": [
    "np.log(1 + 0.54 * 14)"
   ]
  },
  {
   "cell_type": "code",
   "execution_count": null,
   "id": "c3d6ef22",
   "metadata": {},
   "outputs": [],
   "source": [
    "np.log(1 + 0.54 * 15)"
   ]
  },
  {
   "cell_type": "code",
   "execution_count": null,
   "id": "3aae2a3c",
   "metadata": {},
   "outputs": [],
   "source": [
    "np.log(1 + 0.008 * 30)"
   ]
  },
  {
   "cell_type": "code",
   "execution_count": null,
   "id": "f4ee12d2",
   "metadata": {},
   "outputs": [],
   "source": []
  }
 ],
 "metadata": {
  "kernelspec": {
   "display_name": "Python 3 (ipykernel)",
   "language": "python",
   "name": "python3"
  },
  "language_info": {
   "codemirror_mode": {
    "name": "ipython",
    "version": 3
   },
   "file_extension": ".py",
   "mimetype": "text/x-python",
   "name": "python",
   "nbconvert_exporter": "python",
   "pygments_lexer": "ipython3",
   "version": "3.10.6"
  }
 },
 "nbformat": 4,
 "nbformat_minor": 5
}
