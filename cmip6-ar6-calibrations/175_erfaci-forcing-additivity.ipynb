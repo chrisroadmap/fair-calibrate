{
 "cells": [
  {
   "cell_type": "markdown",
   "id": "a1fcd3b9",
   "metadata": {},
   "source": [
    "# Check reflexivity of new aerosol indirect\n",
    "\n",
    "Use E3SM calibration which is quite even in each of the three precursors"
   ]
  },
  {
   "cell_type": "code",
   "execution_count": null,
   "id": "5fdcd6d5",
   "metadata": {},
   "outputs": [],
   "source": [
    "import numpy as np\n",
    "\n",
    "from fair.forcing.aerosol.erfaci import logsum"
   ]
  },
  {
   "cell_type": "code",
   "execution_count": null,
   "id": "ae25a30a",
   "metadata": {},
   "outputs": [],
   "source": [
    "%load_ext autoreload\n",
    "%autoreload 2"
   ]
  },
  {
   "cell_type": "code",
   "execution_count": null,
   "id": "4e437c79",
   "metadata": {},
   "outputs": [],
   "source": [
    "help(logsum)"
   ]
  },
  {
   "cell_type": "code",
   "execution_count": null,
   "id": "43c7131c",
   "metadata": {},
   "outputs": [],
   "source": [
    "logsum(\n",
    "    np.array([100, 9, 36]) * np.ones((1, 1, 1, 3)),\n",
    "    np.array([np.nan]*3) * np.ones((1, 1, 1, 3)),\n",
    "    np.array([2.5, 2, 15]) * np.ones((1, 1, 1, 3)),\n",
    "    np.array([np.nan]*3) * np.ones((1, 1, 1, 3)),\n",
    "    np.ones((1, 1, 1, 3)),\n",
    "    -2.010402,\n",
    "    np.array([1.058066e-02, 4.426106e-03, 2.779413e-02]),\n",
    "    np.array([True, True, True]),\n",
    "    np.array([False, False, False])\n",
    ")"
   ]
  },
  {
   "cell_type": "code",
   "execution_count": null,
   "id": "106e62eb",
   "metadata": {},
   "outputs": [],
   "source": [
    "f2010_1750 = logsum(\n",
    "    np.array([100, 9, 36]) * np.ones((1, 1, 1, 3)),\n",
    "    np.array([np.nan]*3) * np.ones((1, 1, 1, 3)),\n",
    "    np.array([2.5, 2, 15]) * np.ones((1, 1, 1, 3)),\n",
    "    np.array([np.nan]*3) * np.ones((1, 1, 1, 3)),\n",
    "    np.ones((1, 1, 1, 3)),\n",
    "    -2.010402,\n",
    "    np.array([1.058066e-02, 4.426106e-03, 2.779413e-02]),\n",
    "    np.array([True, True, True]),\n",
    "    np.array([False, False, False])\n",
    ").squeeze()[0]"
   ]
  },
  {
   "cell_type": "code",
   "execution_count": null,
   "id": "3c78deae",
   "metadata": {},
   "outputs": [],
   "source": [
    "f2010_1850 = logsum(\n",
    "    np.array([100, 9, 36]) * np.ones((1, 1, 1, 3)),\n",
    "    np.array([np.nan]*3) * np.ones((1, 1, 1, 3)),\n",
    "    np.array([4.5, 2.5, 18]) * np.ones((1, 1, 1, 3)),\n",
    "    np.array([np.nan]*3) * np.ones((1, 1, 1, 3)),\n",
    "    np.ones((1, 1, 1, 3)),\n",
    "    -2.010402,\n",
    "    np.array([1.058066e-02, 4.426106e-03, 2.779413e-02]),\n",
    "    np.array([True, True, True]),\n",
    "    np.array([False, False, False])\n",
    ").squeeze()[0]"
   ]
  },
  {
   "cell_type": "code",
   "execution_count": null,
   "id": "3cc482e3",
   "metadata": {},
   "outputs": [],
   "source": [
    "f1850_1750 = logsum(\n",
    "    np.array([4.5, 2.5, 18]) * np.ones((1, 1, 1, 3)),\n",
    "    np.array([np.nan]*3) * np.ones((1, 1, 1, 3)),\n",
    "    np.array([2.5, 2, 15]) * np.ones((1, 1, 1, 3)),\n",
    "    np.array([np.nan]*3) * np.ones((1, 1, 1, 3)),\n",
    "    np.ones((1, 1, 1, 3)),\n",
    "    -2.010402,\n",
    "    np.array([1.058066e-02, 4.426106e-03, 2.779413e-02]),\n",
    "    np.array([True, True, True]),\n",
    "    np.array([False, False, False])\n",
    ").squeeze()[0]"
   ]
  },
  {
   "cell_type": "code",
   "execution_count": null,
   "id": "0dddd488",
   "metadata": {},
   "outputs": [],
   "source": [
    "f2010_1750"
   ]
  },
  {
   "cell_type": "code",
   "execution_count": null,
   "id": "c337d059",
   "metadata": {},
   "outputs": [],
   "source": [
    "f2010_1850 + f1850_1750"
   ]
  },
  {
   "cell_type": "code",
   "execution_count": null,
   "id": "45ad3d88",
   "metadata": {},
   "outputs": [],
   "source": [
    "# aerosol ERFaci since 1850\n",
    "f2010_1850"
   ]
  },
  {
   "cell_type": "code",
   "execution_count": null,
   "id": "8ccb1948",
   "metadata": {},
   "outputs": [],
   "source": [
    "# aerosol ERFaci in 1850 relative to 1750\n",
    "f2010_1750 - f2010_1850"
   ]
  },
  {
   "cell_type": "code",
   "execution_count": null,
   "id": "e9c98736",
   "metadata": {},
   "outputs": [],
   "source": []
  }
 ],
 "metadata": {
  "kernelspec": {
   "display_name": "Python 3 (ipykernel)",
   "language": "python",
   "name": "python3"
  },
  "language_info": {
   "codemirror_mode": {
    "name": "ipython",
    "version": 3
   },
   "file_extension": ".py",
   "mimetype": "text/x-python",
   "name": "python",
   "nbconvert_exporter": "python",
   "pygments_lexer": "ipython3",
   "version": "3.10.6"
  }
 },
 "nbformat": 4,
 "nbformat_minor": 5
}
