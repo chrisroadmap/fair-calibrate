{
 "cells": [
  {
   "cell_type": "markdown",
   "id": "d842b448",
   "metadata": {},
   "source": [
    "# Pre-generate some probabalistic scaling factors for ERF\n",
    "\n",
    "Based on AR6 Chapter 7 ERF uncertainty\n",
    "\n",
    "We do not do scale factors for ozone and aerosols, because we adjust the precursor species to span the forcing uncertainty this way."
   ]
  },
  {
   "cell_type": "code",
   "execution_count": null,
   "id": "ef524d2b",
   "metadata": {},
   "outputs": [],
   "source": [
    "import pandas as pd\n",
    "import scipy.stats\n",
    "import numpy as np"
   ]
  },
  {
   "cell_type": "code",
   "execution_count": null,
   "id": "a958cb0e",
   "metadata": {},
   "outputs": [],
   "source": [
    "forcing_u90 = {\n",
    "    'CO2': 0.12,      # CO2\n",
    "    'CH4': 0.20,      # CH4: updated value from etminan 2016\n",
    "    'N2O': 0.14,      # N2O\n",
    "    'minorGHG': 0.19,      # other WMGHGs\n",
    "    'stratospheric_H2O': 1.00,\n",
    "    'contrails' : 0.70,      # contrails approx - half-normal\n",
    "    'LAPSI': 1.25,      # bc on snow - half-normal\n",
    "    'land_use': 0.50,      # land use change\n",
    "    'volcanic': 5.0/20.0,  # needs to be way bigger?\n",
    "    'solar_amplitude': 0.50,\n",
    "    'solar_trend': 0.07,\n",
    "}"
   ]
  },
  {
   "cell_type": "code",
   "execution_count": null,
   "id": "409d2b31",
   "metadata": {},
   "outputs": [],
   "source": [
    "samples = 50000"
   ]
  },
  {
   "cell_type": "code",
   "execution_count": null,
   "id": "cffb93ce",
   "metadata": {},
   "outputs": [],
   "source": [
    "seedgen = 380133900\n",
    "scalings = {}\n",
    "for forcer in forcing_u90:\n",
    "    scalings[forcer] = scipy.stats.norm.rvs(1, forcing_u90[forcer], size=samples, random_state=seedgen)\n",
    "    seedgen=seedgen+112"
   ]
  },
  {
   "cell_type": "code",
   "execution_count": null,
   "id": "0a2b85ff",
   "metadata": {},
   "outputs": [],
   "source": [
    "scalings['CO2']"
   ]
  },
  {
   "cell_type": "code",
   "execution_count": null,
   "id": "fd0300dd",
   "metadata": {},
   "outputs": [],
   "source": [
    "NORMALS = len(unc_ranges)\n",
    "\n",
    "scale_normals = st.norm.rvs(\n",
    "    size=(SAMPLES,NORMALS),\n",
    "    loc=np.ones((SAMPLES,NORMALS)),\n",
    "    scale=np.ones((SAMPLES, NORMALS)) * unc_ranges[None,:],\n",
    "    random_state=SEEDS[4]\n",
    ")\n",
    "\n",
    "## bc snow is asymmetric Gaussian. We can just scale the half of the distribution above/below best estimate\n",
    "scale_normals[scale_normals[:,7]<1,7] = 0.08/0.1*(scale_normals[scale_normals[:,7]<1,7]-1) + 1\n",
    "\n",
    "## so is contrails - the benefits of doing this are tiny :)\n",
    "scale_normals[scale_normals[:,6]<1,6] = 0.0384/0.0406*(scale_normals[scale_normals[:,6]<1,6]-1) + 1\n",
    "\n",
    "trend_solar = st.norm.rvs(size=SAMPLES, loc=+0.01, scale=0.07/NINETY_TO_ONESIGMA, random_state=SEEDS[50])"
   ]
  }
 ],
 "metadata": {
  "kernelspec": {
   "display_name": "Python 3 (ipykernel)",
   "language": "python",
   "name": "python3"
  },
  "language_info": {
   "codemirror_mode": {
    "name": "ipython",
    "version": 3
   },
   "file_extension": ".py",
   "mimetype": "text/x-python",
   "name": "python",
   "nbconvert_exporter": "python",
   "pygments_lexer": "ipython3",
   "version": "3.7.12"
  }
 },
 "nbformat": 4,
 "nbformat_minor": 5
}
