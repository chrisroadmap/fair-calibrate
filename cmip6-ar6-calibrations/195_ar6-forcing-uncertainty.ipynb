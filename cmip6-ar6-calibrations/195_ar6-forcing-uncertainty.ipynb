{
 "cells": [
  {
   "cell_type": "markdown",
   "id": "d842b448",
   "metadata": {},
   "source": [
    "# Pre-generate some probabalistic scaling factors for ERF\n",
    "\n",
    "Based on AR6 Chapter 7 ERF uncertainty\n",
    "\n",
    "We do not do scale factors for ozone and aerosols, because we adjust the precursor species to span the forcing uncertainty this way."
   ]
  },
  {
   "cell_type": "code",
   "execution_count": null,
   "id": "ef524d2b",
   "metadata": {},
   "outputs": [],
   "source": [
    "import pandas as pd\n",
    "import scipy.stats\n",
    "import numpy as np\n",
    "import matplotlib.pyplot as pl"
   ]
  },
  {
   "cell_type": "code",
   "execution_count": null,
   "id": "54299745",
   "metadata": {},
   "outputs": [],
   "source": [
    "NINETY_TO_ONESIGMA = scipy.stats.norm.ppf(0.95)\n",
    "NINETY_TO_ONESIGMA"
   ]
  },
  {
   "cell_type": "code",
   "execution_count": null,
   "id": "a958cb0e",
   "metadata": {},
   "outputs": [],
   "source": [
    "forcing_u90 = {\n",
    "    'CO2': 0.12,      # CO2\n",
    "    'CH4': 0.20,      # CH4: updated value from etminan 2016\n",
    "    'N2O': 0.14,      # N2O\n",
    "    'minorGHG': 0.19,      # other WMGHGs\n",
    "    'Stratospheric water vapour': 1.00,\n",
    "    'Contrails' : 0.70,      # contrails approx - half-normal\n",
    "    'Light absorbing particles on snow and ice': 1.25,      # bc on snow - half-normal\n",
    "    'Land use': 0.50,      # land use change\n",
    "    'Volcanic': 5.0/20.0,  # needs to be way bigger?\n",
    "    'solar_amplitude': 0.50,\n",
    "    'solar_trend': 0.07,\n",
    "}"
   ]
  },
  {
   "cell_type": "code",
   "execution_count": null,
   "id": "409d2b31",
   "metadata": {},
   "outputs": [],
   "source": [
    "samples = 1500000"
   ]
  },
  {
   "cell_type": "code",
   "execution_count": null,
   "id": "cffb93ce",
   "metadata": {},
   "outputs": [],
   "source": [
    "seedgen = 380133900\n",
    "scalings = {}\n",
    "for forcer in forcing_u90:\n",
    "    scalings[forcer] = scipy.stats.norm.rvs(1, forcing_u90[forcer]/NINETY_TO_ONESIGMA, size=samples, random_state=seedgen)\n",
    "    seedgen=seedgen+112"
   ]
  },
  {
   "cell_type": "code",
   "execution_count": null,
   "id": "0a2b85ff",
   "metadata": {},
   "outputs": [],
   "source": [
    "scalings['CO2']"
   ]
  },
  {
   "cell_type": "code",
   "execution_count": null,
   "id": "fd0300dd",
   "metadata": {},
   "outputs": [],
   "source": [
    "## LAPSI is asymmetric Gaussian. We can just scale the half of the distribution above/below best estimate\n",
    "scalings['Light absorbing particles on snow and ice'][scalings['Light absorbing particles on snow and ice']<1] = 0.08/0.1*(scalings['Light absorbing particles on snow and ice'][scalings['Light absorbing particles on snow and ice']<1]-1) + 1\n",
    "\n",
    "## so is contrails - the benefits of doing this are tiny :)\n",
    "scalings['Contrails'][scalings['Contrails']<1] = 0.0384/0.0406*(scalings['Contrails'][scalings['Contrails']<1]-1) + 1"
   ]
  },
  {
   "cell_type": "code",
   "execution_count": null,
   "id": "1d818d2c",
   "metadata": {},
   "outputs": [],
   "source": [
    "## Solar trend is absolute, not scaled\n",
    "scalings['solar_trend'] = scalings['solar_trend'] - 1"
   ]
  },
  {
   "cell_type": "code",
   "execution_count": null,
   "id": "b7c9b77e",
   "metadata": {},
   "outputs": [],
   "source": [
    "pl.hist(scalings['Light absorbing particles on snow and ice'])"
   ]
  },
  {
   "cell_type": "code",
   "execution_count": null,
   "id": "803bc4bf",
   "metadata": {},
   "outputs": [],
   "source": [
    "df_out = pd.DataFrame(scalings, columns=forcing_u90.keys())\n",
    "df_out"
   ]
  },
  {
   "cell_type": "code",
   "execution_count": null,
   "id": "5cc2e9a0",
   "metadata": {},
   "outputs": [],
   "source": [
    "df_out.quantile((.05, 0.50, .95))"
   ]
  },
  {
   "cell_type": "code",
   "execution_count": null,
   "id": "7ad17acd",
   "metadata": {},
   "outputs": [],
   "source": [
    "df_out.to_csv('../data/parameter_sets/forcing_scaling.csv', index=False)"
   ]
  },
  {
   "cell_type": "code",
   "execution_count": null,
   "id": "c96ec4f6",
   "metadata": {},
   "outputs": [],
   "source": []
  }
 ],
 "metadata": {
  "kernelspec": {
   "display_name": "Python 3",
   "language": "python",
   "name": "python3"
  },
  "language_info": {
   "codemirror_mode": {
    "name": "ipython",
    "version": 3
   },
   "file_extension": ".py",
   "mimetype": "text/x-python",
   "name": "python",
   "nbconvert_exporter": "python",
   "pygments_lexer": "ipython3",
   "version": "3.10.6"
  }
 },
 "nbformat": 4,
 "nbformat_minor": 5
}
