{
 "cells": [
  {
   "cell_type": "markdown",
   "id": "c7c43fe7",
   "metadata": {},
   "source": [
    "# Build a Gaussian Process Emulator of FaIR output\n",
    "\n",
    "Why? We need an efficient way to quickly sample and build an MCMC from FaIR input, which we can then pass back to the full model for a detailed run.\n",
    "\n",
    "At the moment we are running deterministic, can run stochastic with 10x the number of samples to get RMSE for temperature down."
   ]
  },
  {
   "cell_type": "code",
   "execution_count": null,
   "id": "b49893d1",
   "metadata": {},
   "outputs": [],
   "source": [
    "import numpy as np\n",
    "import gp_emulator\n",
    "import pandas as pd\n",
    "\n",
    "from sklearn.gaussian_process import GaussianProcessRegressor\n",
    "from sklearn.gaussian_process.kernels import RBF\n",
    "\n",
    "from sklearn.decomposition import PCA"
   ]
  },
  {
   "cell_type": "code",
   "execution_count": null,
   "id": "c246cf1c",
   "metadata": {},
   "outputs": [],
   "source": [
    "def rmse(obs, mod):\n",
    "    return np.sqrt(np.sum((obs-mod)**2)/len(obs))"
   ]
  },
  {
   "cell_type": "code",
   "execution_count": null,
   "id": "24fc704b",
   "metadata": {},
   "outputs": [],
   "source": [
    "temp_in = np.load('../data/ar6_ensemble_batches/temperature_1850-2030.npy')\n",
    "ohc_in = np.load('../data/ar6_ensemble_batches/ohc_2018_minus_1971.npy')\n",
    "co2_in = np.load('../data/ar6_ensemble_batches/co2_2014.npy')\n",
    "ari_in = np.load('../data/ar6_ensemble_batches/fari_2005-2014_mean.npy')\n",
    "aci_in = np.load('../data/ar6_ensemble_batches/faci_2005-2014_mean.npy')\n",
    "o3_in = np.load('../data/ar6_ensemble_batches/fo3_2019.npy')\n",
    "ecs_in = np.load('../data/ar6_ensemble_batches/ecs.npy')\n",
    "tcr_in = np.load('../data/ar6_ensemble_batches/tcr.npy')"
   ]
  },
  {
   "cell_type": "code",
   "execution_count": null,
   "id": "21dba679",
   "metadata": {},
   "outputs": [],
   "source": [
    "temp_19952014 = temp_in[145:165,:].mean(axis=0)-temp_in[:51,:].mean(axis=0)"
   ]
  },
  {
   "cell_type": "code",
   "execution_count": null,
   "id": "42a5dbd8",
   "metadata": {},
   "outputs": [],
   "source": [
    "samples = len(temp_19952014)"
   ]
  },
  {
   "cell_type": "code",
   "execution_count": null,
   "id": "328ef0eb",
   "metadata": {},
   "outputs": [],
   "source": [
    "df_gmst = pd.read_csv('../data/forcing/AR6_GMST.csv')\n",
    "gmst = df_gmst['gmst'].values"
   ]
  },
  {
   "cell_type": "code",
   "execution_count": null,
   "id": "a9815042",
   "metadata": {},
   "outputs": [],
   "source": [
    "temp_rmse = np.ones((samples)) * np.nan\n",
    "for i in range(samples):\n",
    "    temp_rmse[i] = rmse(gmst[:171], temp_in[:171,i]-temp_in[:51, i].mean())"
   ]
  },
  {
   "cell_type": "code",
   "execution_count": null,
   "id": "de514148",
   "metadata": {},
   "outputs": [],
   "source": [
    "output_vector = np.array(\n",
    "    [\n",
    "        temp_19952014,\n",
    "        temp_rmse,\n",
    "        ohc_in,\n",
    "        co2_in,\n",
    "        ari_in,\n",
    "        aci_in,\n",
    "        o3_in,\n",
    "        ecs_in,\n",
    "        tcr_in,\n",
    "    ]\n",
    ")"
   ]
  },
  {
   "cell_type": "code",
   "execution_count": null,
   "id": "542c8494",
   "metadata": {},
   "outputs": [],
   "source": [
    "df_cc=pd.read_csv('../data/parameter_sets/carbon_cycle.csv')\n",
    "df_cr=pd.read_csv('../data/parameter_sets/climate_response.csv')\n",
    "df_aci=pd.read_csv('../data/parameter_sets/erfaci.csv')\n",
    "df_ari=pd.read_csv('../data/parameter_sets/erfari.csv')\n",
    "df_ozone=pd.read_csv('../data/parameter_sets/ozone.csv')\n",
    "df_scaling=pd.read_csv('../data/parameter_sets/forcing_scaling.csv')"
   ]
  },
  {
   "cell_type": "code",
   "execution_count": null,
   "id": "563b537c",
   "metadata": {},
   "outputs": [],
   "source": [
    "input_vector = np.hstack(\n",
    "    (\n",
    "        df_cr.loc[:samples-1, 'c1':'epsilon'].values.squeeze(),\n",
    "        df_cc.loc[:samples-1, :].values.squeeze(),\n",
    "        df_ari.loc[:samples-1, :'VOC'].values.squeeze(),\n",
    "        df_ari.loc[:samples-1, 'CH4':'CFC-11'].values.squeeze(),\n",
    "        df_aci.loc[:samples-1, :].values.squeeze(),\n",
    "        df_ozone.loc[:samples-1, :].values.squeeze(),\n",
    "        df_scaling.loc[:samples-1, :'solar_amplitude'].values.squeeze(),\n",
    "    )\n",
    ")"
   ]
  },
  {
   "cell_type": "code",
   "execution_count": null,
   "id": "f777eb2e",
   "metadata": {},
   "outputs": [],
   "source": [
    "input_vector.shape, output_vector.shape"
   ]
  },
  {
   "cell_type": "code",
   "execution_count": null,
   "id": "1c9c5d72",
   "metadata": {},
   "outputs": [],
   "source": [
    "samples"
   ]
  },
  {
   "cell_type": "code",
   "execution_count": null,
   "id": "7379c325",
   "metadata": {},
   "outputs": [],
   "source": [
    "#gp = gp_emulator.MultivariateEmulator(y=output_vector[:,:100].T, X=input_vector,\n",
    "#                                        thresh=0.99, n_tries=25)\n",
    "kernel = RBF()\n",
    "gpr = GaussianProcessRegressor(\n",
    "    kernel=kernel,\n",
    "#    normalize_y=True\n",
    ").fit(X=input_vector[:4000,:], y=output_vector[:,:4000].T)"
   ]
  },
  {
   "cell_type": "code",
   "execution_count": null,
   "id": "40f8f393",
   "metadata": {},
   "outputs": [],
   "source": [
    "gpr.get_params()"
   ]
  },
  {
   "cell_type": "code",
   "execution_count": null,
   "id": "714c6a60",
   "metadata": {},
   "outputs": [],
   "source": [
    "gpr.score(input_vector[:4000,:], output_vector[:,:4000].T)"
   ]
  },
  {
   "cell_type": "code",
   "execution_count": null,
   "id": "fa3f302b",
   "metadata": {},
   "outputs": [],
   "source": [
    "gpr.predict(input_vector[11000:11001, :])"
   ]
  },
  {
   "cell_type": "code",
   "execution_count": null,
   "id": "94d2623e",
   "metadata": {},
   "outputs": [],
   "source": [
    "output_vector[:, 11000:11001]"
   ]
  },
  {
   "cell_type": "code",
   "execution_count": null,
   "id": "3d484936",
   "metadata": {},
   "outputs": [],
   "source": [
    "input_vector[11000:11001, :]"
   ]
  },
  {
   "cell_type": "code",
   "execution_count": null,
   "id": "136ecbc2",
   "metadata": {},
   "outputs": [],
   "source": [
    "gpr.sample_y(input_vector[11000:11001, :])"
   ]
  },
  {
   "cell_type": "code",
   "execution_count": null,
   "id": "25bfdf8f",
   "metadata": {},
   "outputs": [],
   "source": [
    "pca = PCA(n_components=2)"
   ]
  },
  {
   "cell_type": "code",
   "execution_count": null,
   "id": "ec7e6c19",
   "metadata": {},
   "outputs": [],
   "source": [
    "pca.fit(input_vector)"
   ]
  },
  {
   "cell_type": "code",
   "execution_count": null,
   "id": "387dd5d3",
   "metadata": {},
   "outputs": [],
   "source": [
    "print(pca.explained_variance_ratio_.sum())"
   ]
  },
  {
   "cell_type": "code",
   "execution_count": null,
   "id": "739ca510",
   "metadata": {},
   "outputs": [],
   "source": [
    "print(pca.n_components_)"
   ]
  },
  {
   "cell_type": "code",
   "execution_count": null,
   "id": "e5514332",
   "metadata": {},
   "outputs": [],
   "source": [
    "pca.score(input_vector)"
   ]
  },
  {
   "cell_type": "code",
   "execution_count": null,
   "id": "e2fabb02",
   "metadata": {},
   "outputs": [],
   "source": [
    "pca.transform(input_vector)"
   ]
  },
  {
   "cell_type": "code",
   "execution_count": null,
   "id": "c21df828",
   "metadata": {},
   "outputs": [],
   "source": [
    "import matplotlib.pyplot as pl"
   ]
  },
  {
   "cell_type": "code",
   "execution_count": null,
   "id": "d8f8904f",
   "metadata": {},
   "outputs": [],
   "source": [
    "pl.hist(pca.transform(input_vector)[:,0], bins=np.linspace(-3e6,1e6))"
   ]
  },
  {
   "cell_type": "code",
   "execution_count": null,
   "id": "181d8f32",
   "metadata": {},
   "outputs": [],
   "source": [
    "pca.components_"
   ]
  },
  {
   "cell_type": "code",
   "execution_count": null,
   "id": "ed4c1814",
   "metadata": {},
   "outputs": [],
   "source": []
  }
 ],
 "metadata": {
  "kernelspec": {
   "display_name": "Python 3 (ipykernel)",
   "language": "python",
   "name": "python3"
  },
  "language_info": {
   "codemirror_mode": {
    "name": "ipython",
    "version": 3
   },
   "file_extension": ".py",
   "mimetype": "text/x-python",
   "name": "python",
   "nbconvert_exporter": "python",
   "pygments_lexer": "ipython3",
   "version": "3.7.12"
  }
 },
 "nbformat": 4,
 "nbformat_minor": 5
}
