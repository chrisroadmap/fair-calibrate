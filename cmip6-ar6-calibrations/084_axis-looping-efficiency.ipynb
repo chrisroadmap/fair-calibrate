{
 "cells": [
  {
   "cell_type": "markdown",
   "id": "7b6c7643",
   "metadata": {},
   "source": [
    "# Axis looping efficiency\n",
    "\n",
    "Looks like for large arrays, looping over the 0th dimension is most efficient. Therefore, dimension zero should be time. This logic is taken forward into FaIR."
   ]
  },
  {
   "cell_type": "code",
   "execution_count": null,
   "id": "a9f36c63",
   "metadata": {},
   "outputs": [],
   "source": [
    "import numpy as np"
   ]
  },
  {
   "cell_type": "code",
   "execution_count": null,
   "id": "43d116d5",
   "metadata": {},
   "outputs": [],
   "source": [
    "array = np.ones((751, 20, 20, 20, 20))"
   ]
  },
  {
   "cell_type": "code",
   "execution_count": null,
   "id": "764d8edd",
   "metadata": {},
   "outputs": [],
   "source": [
    "%%timeit\n",
    "for i in range(751):\n",
    "    array[i, :, :, :, :] * 2"
   ]
  },
  {
   "cell_type": "code",
   "execution_count": null,
   "id": "f0258a14",
   "metadata": {},
   "outputs": [],
   "source": [
    "array = np.ones((20, 751, 20, 20, 20))"
   ]
  },
  {
   "cell_type": "code",
   "execution_count": null,
   "id": "6b6b5429",
   "metadata": {},
   "outputs": [],
   "source": [
    "%%timeit\n",
    "for i in range(751):\n",
    "    array[:, i, :, :, :] * 2"
   ]
  },
  {
   "cell_type": "code",
   "execution_count": null,
   "id": "73f10e3b",
   "metadata": {},
   "outputs": [],
   "source": [
    "array = np.ones((20, 20, 751, 20, 20))"
   ]
  },
  {
   "cell_type": "code",
   "execution_count": null,
   "id": "87510057",
   "metadata": {},
   "outputs": [],
   "source": [
    "%%timeit\n",
    "for i in range(751):\n",
    "    array[:, :, i, :, :] * 2"
   ]
  },
  {
   "cell_type": "code",
   "execution_count": null,
   "id": "6a25fb24",
   "metadata": {},
   "outputs": [],
   "source": [
    "array = np.ones((20, 20, 20, 751, 20))"
   ]
  },
  {
   "cell_type": "code",
   "execution_count": null,
   "id": "4cb3e8c1",
   "metadata": {},
   "outputs": [],
   "source": [
    "%%timeit\n",
    "for i in range(751):\n",
    "    array[:, :, :, i, :] * 2"
   ]
  },
  {
   "cell_type": "code",
   "execution_count": null,
   "id": "ef0621bd",
   "metadata": {},
   "outputs": [],
   "source": [
    "array = np.ones((20, 20, 20, 20, 751))"
   ]
  },
  {
   "cell_type": "code",
   "execution_count": null,
   "id": "a55683ef",
   "metadata": {},
   "outputs": [],
   "source": [
    "%%timeit\n",
    "for i in range(751):\n",
    "    array[:, :, :, :, i] * 2"
   ]
  }
 ],
 "metadata": {
  "kernelspec": {
   "display_name": "Python 3 (ipykernel)",
   "language": "python",
   "name": "python3"
  },
  "language_info": {
   "codemirror_mode": {
    "name": "ipython",
    "version": 3
   },
   "file_extension": ".py",
   "mimetype": "text/x-python",
   "name": "python",
   "nbconvert_exporter": "python",
   "pygments_lexer": "ipython3",
   "version": "3.7.12"
  }
 },
 "nbformat": 4,
 "nbformat_minor": 5
}
