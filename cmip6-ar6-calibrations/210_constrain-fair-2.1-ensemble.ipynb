{
 "cells": [
  {
   "cell_type": "markdown",
   "id": "d52269f2",
   "metadata": {},
   "source": [
    "# AR6 calibration of FaIR 2.1\n",
    "\n",
    "Constraint\n",
    "- AR6 assessed GSAT, 1850-2020\n",
    "- AR6 assessed OHC, 1971-2018\n",
    "- CO2 concentration, 1750-2014"
   ]
  },
  {
   "cell_type": "markdown",
   "id": "f6efed3c",
   "metadata": {},
   "source": [
    "## Basic imports"
   ]
  },
  {
   "cell_type": "code",
   "execution_count": null,
   "id": "f0770b5c",
   "metadata": {},
   "outputs": [],
   "source": [
    "import glob\n",
    "\n",
    "import numpy as np\n",
    "import pandas as pd\n",
    "import matplotlib.pyplot as pl\n",
    "import time\n",
    "import scipy.stats\n",
    "import scipy.optimize\n",
    "from tqdm import tqdm\n",
    "\n",
    "from fair21.energy_balance_model import EnergyBalanceModel"
   ]
  },
  {
   "cell_type": "code",
   "execution_count": null,
   "id": "842f3bde",
   "metadata": {},
   "outputs": [],
   "source": [
    "df_conc = pd.read_csv('../data/rcmip/rcmip-concentrations-annual-means-v5-1-0.csv')"
   ]
  },
  {
   "cell_type": "code",
   "execution_count": null,
   "id": "0c4fe247",
   "metadata": {},
   "outputs": [],
   "source": [
    "samples = 1000000\n",
    "#batch_size = 1000"
   ]
  },
  {
   "cell_type": "markdown",
   "id": "c36acb10",
   "metadata": {},
   "source": [
    "## Load in results"
   ]
  },
  {
   "cell_type": "code",
   "execution_count": null,
   "id": "dfbd5e87",
   "metadata": {},
   "outputs": [],
   "source": [
    "temp_in = np.load('../data/ar6_ensemble_batches/temperature_1850-2030.npy')\n",
    "ohc_in = np.load('../data/ar6_ensemble_batches/ohc_2018_minus_1971.npy')\n",
    "fari_in = np.load('../data/ar6_ensemble_batches/fari_2005-2014_mean.npy')\n",
    "faci_in = np.load('../data/ar6_ensemble_batches/faci_2005-2014_mean.npy')\n",
    "co2_in = np.load('../data/ar6_ensemble_batches/co2_2014.npy')\n",
    "ecs_in = np.load('../data/ar6_ensemble_batches/ecs.npy')\n",
    "tcr_in = np.load('../data/ar6_ensemble_batches/tcr.npy')"
   ]
  },
  {
   "cell_type": "code",
   "execution_count": null,
   "id": "94c3dc98",
   "metadata": {},
   "outputs": [],
   "source": [
    "pl.hist(fari_in, bins=np.arange(-1.0,0.4,0.05));\n",
    "np.percentile(fari_in, (5, 50, 95))"
   ]
  },
  {
   "cell_type": "code",
   "execution_count": null,
   "id": "2f13ff84",
   "metadata": {},
   "outputs": [],
   "source": [
    "pl.hist(faci_in, bins=np.arange(-2.5,0.4,0.05));\n",
    "np.percentile(faci_in, (5, 50, 95))"
   ]
  },
  {
   "cell_type": "markdown",
   "id": "f0086598",
   "metadata": {},
   "source": [
    "## 1. sufrace temperature 1850-2020"
   ]
  },
  {
   "cell_type": "code",
   "execution_count": null,
   "id": "7f96ef11",
   "metadata": {},
   "outputs": [],
   "source": [
    "df_gmst = pd.read_csv('../data/forcing/AR6_GMST.csv')\n",
    "gmst = df_gmst['gmst'].values"
   ]
  },
  {
   "cell_type": "code",
   "execution_count": null,
   "id": "956dadc7",
   "metadata": {},
   "outputs": [],
   "source": [
    "df_four = pd.read_csv('../data/forcing/AR6_GMST_four_datasets.csv', index_col=0)\n",
    "df_four"
   ]
  },
  {
   "cell_type": "code",
   "execution_count": null,
   "id": "4cb932ca",
   "metadata": {},
   "outputs": [],
   "source": [
    "def rmse(obs, mod):\n",
    "    return np.sqrt(np.sum((obs-mod)**2)/len(obs))"
   ]
  },
  {
   "cell_type": "code",
   "execution_count": null,
   "id": "1b4eb1e6",
   "metadata": {},
   "outputs": [],
   "source": [
    "rmse_temp = np.zeros((samples))"
   ]
  },
  {
   "cell_type": "code",
   "execution_count": null,
   "id": "b65060b4",
   "metadata": {},
   "outputs": [],
   "source": [
    "temp_in-temp_in[:51,:].mean(axis=0)\n",
    "#df_temp.shape"
   ]
  },
  {
   "cell_type": "code",
   "execution_count": null,
   "id": "0e378c0d",
   "metadata": {},
   "outputs": [],
   "source": [
    "fig, ax = pl.subplots()\n",
    "ax.fill_between(\n",
    "    np.arange(1850.5, 2031), \n",
    "    np.min(temp_in-temp_in[:51,:].mean(axis=0), axis=1), \n",
    "    np.max(temp_in-temp_in[:51,:].mean(axis=0), axis=1),\n",
    "    color='#000000',\n",
    "    alpha=0.03,\n",
    ")\n",
    "ax.fill_between(\n",
    "    np.arange(1850.5, 2031), \n",
    "    np.percentile(temp_in-temp_in[:51,:].mean(axis=0), 5, axis=1), \n",
    "    np.percentile(temp_in-temp_in[51,:].mean(axis=0), 95, axis=1),\n",
    "    color='#000000',\n",
    "    alpha=0.2,\n",
    ")\n",
    "ax.fill_between(\n",
    "    np.arange(1850.5, 2031), \n",
    "    np.percentile(temp_in-temp_in[:51,:].mean(axis=0), 16, axis=1), \n",
    "    np.percentile(temp_in-temp_in[:51,:].mean(axis=0), 84, axis=1),\n",
    "    color='#000000',\n",
    "    alpha=0.2,\n",
    ")\n",
    "ax.plot(\n",
    "    np.arange(1850.5, 2031), \n",
    "    np.median(temp_in-temp_in[:51,:].mean(axis=0), axis=1), \n",
    "    color='#000000',\n",
    ")\n",
    "ax.plot(np.arange(1850.5, 2021), gmst, color='b')\n",
    "ax.set_xlim(1850,2030)\n",
    "ax.set_ylim(-1, 3)\n",
    "ax.axhline(0, color='k', ls=\":\", lw=0.5)\n",
    "pl.title('Temperature anomaly - unconstrained')"
   ]
  },
  {
   "cell_type": "code",
   "execution_count": null,
   "id": "26d376c7",
   "metadata": {},
   "outputs": [],
   "source": [
    "# pandas is so slow!\n",
    "hadcrut = df_four['HadCRUT'].values\n",
    "noaa = df_four['NOAA'].values\n",
    "berkeley = df_four['Berkeley'].values\n",
    "kadow = df_four['Kadow'].values"
   ]
  },
  {
   "cell_type": "code",
   "execution_count": null,
   "id": "a5eeed38",
   "metadata": {},
   "outputs": [],
   "source": [
    "# rmse_temp = np.zeros((samples))\n",
    "rmse_hadcrut = np.zeros((samples))\n",
    "rmse_noaa = np.zeros((samples))\n",
    "rmse_berkeley = np.zeros((samples))\n",
    "rmse_kadow = np.zeros((samples))\n",
    "\n",
    "for i in tqdm(range(samples)):\n",
    "    rmse_temp[i] = rmse(gmst[:171], temp_in[:171,i]-temp_in[:51, i].mean())\n",
    "#     rmse_hadcrut[i] = rmse(hadcrut[:171], temp_in[:171,i]-temp_in[:51, i].mean())\n",
    "#     rmse_noaa[i] = rmse(noaa[:171], temp_in[:171,i]-temp_in[:51, i].mean())\n",
    "#     rmse_berkeley[i] = rmse(berkeley[:171], temp_in[:171,i]-temp_in[:51, i].mean())\n",
    "#     rmse_kadow[i] = rmse(kadow[:171], temp_in[:171,i]-temp_in[:51, i].mean())"
   ]
  },
  {
   "cell_type": "code",
   "execution_count": null,
   "id": "1c929e09",
   "metadata": {},
   "outputs": [],
   "source": [
    "accept_temp=(rmse_temp<0.135)\n",
    "accept_temp=(rmse_temp<0.16)\n",
    "#accept_temp = np.logical_or.reduce((rmse_hadcrut<0.125, rmse_noaa<0.125, rmse_berkeley<0.125, rmse_kadow<0.125))\n",
    "print(np.sum(accept_temp))\n",
    "valid_temp = np.arange(samples, dtype=int)[accept_temp]"
   ]
  },
  {
   "cell_type": "code",
   "execution_count": null,
   "id": "460dcbcf",
   "metadata": {},
   "outputs": [],
   "source": [
    "def opt(x, q05_desired, q50_desired, q95_desired):\n",
    "    \"x is (a, loc, scale) in that order.\"\n",
    "    q05, q50, q95 = scipy.stats.skewnorm.ppf((0.05, 0.50, 0.95), x[0], loc=x[1], scale=x[2])\n",
    "    #print(q05, q50, q95, x)\n",
    "    return (q05-q05_desired, q50-q50_desired, q95-q95_desired)\n",
    "    \n",
    "scipy.optimize.root(opt, (2.0, 2.6, 1.2), (2, 3, 5), options={'maxfev': 5000})"
   ]
  },
  {
   "cell_type": "code",
   "execution_count": null,
   "id": "46fc20bc",
   "metadata": {},
   "outputs": [],
   "source": [
    "scipy.stats.skewnorm.ppf((0.01, 0.05, 0.16, 0.50, 0.84, 0.95, 0.99), 8.82185594, loc=1.95059779, scale=1.55584604)"
   ]
  },
  {
   "cell_type": "code",
   "execution_count": null,
   "id": "b4f355c2",
   "metadata": {},
   "outputs": [],
   "source": [
    "pl.plot(np.arange(1,11,0.01), scipy.stats.skewnorm.pdf(np.arange(1,11,0.01), 8.82185594, loc=1.95059779, scale=1.55584604))"
   ]
  },
  {
   "cell_type": "code",
   "execution_count": null,
   "id": "1cdd99a3",
   "metadata": {},
   "outputs": [],
   "source": [
    "pl.plot(np.arange(0.6,1.1,0.01), scipy.stats.skewnorm.pdf(np.arange(0.6,1.1,0.01), -1.65506091, loc=0.92708099, scale=0.12096636))"
   ]
  },
  {
   "cell_type": "code",
   "execution_count": null,
   "id": "3c089962",
   "metadata": {},
   "outputs": [],
   "source": [
    "fig, ax = pl.subplots()\n",
    "ax.fill_between(\n",
    "    np.arange(1850.5, 2031), \n",
    "    np.min(temp_in[:,accept_temp]-temp_in[:51,accept_temp].mean(axis=0), axis=1), \n",
    "    np.max(temp_in[:,accept_temp]-temp_in[:51,accept_temp].mean(axis=0), axis=1),\n",
    "    color='#000000',\n",
    "    alpha=0.2,\n",
    ")\n",
    "ax.fill_between(\n",
    "    np.arange(1850.5, 2031), \n",
    "    np.percentile(temp_in[:,accept_temp]-temp_in[:51,accept_temp].mean(axis=0), 5, axis=1), \n",
    "    np.percentile(temp_in[:,accept_temp]-temp_in[:51,accept_temp].mean(axis=0), 95, axis=1),\n",
    "    color='#000000',\n",
    "    alpha=0.2,\n",
    ")\n",
    "ax.fill_between(\n",
    "    np.arange(1850.5, 2031), \n",
    "    np.percentile(temp_in[:,accept_temp]-temp_in[:51,accept_temp].mean(axis=0), 16, axis=1), \n",
    "    np.percentile(temp_in[:,accept_temp]-temp_in[:51,accept_temp].mean(axis=0), 84, axis=1),\n",
    "    color='#000000',\n",
    "    alpha=0.2,\n",
    ")\n",
    "ax.plot(\n",
    "    np.arange(1850.5, 2031), \n",
    "    np.median(temp_in[:,accept_temp]-temp_in[:51,accept_temp].mean(axis=0), axis=1), \n",
    "    color='#000000',\n",
    ")\n",
    "\n",
    "#ax.plot(np.arange(1850.5, 2021), gmst, color='b')\n",
    "ax.plot(np.arange(1850.5, 2021), df_four['HadCRUT'], color='r')\n",
    "ax.plot(np.arange(1850.5, 2021), df_four['NOAA'], color='y')\n",
    "ax.plot(np.arange(1850.5, 2021), df_four['Berkeley'], color='g')\n",
    "ax.plot(np.arange(1850.5, 2021), df_four['Kadow'], color='c')\n",
    "\n",
    "ax.set_xlim(1850,2030)\n",
    "ax.set_ylim(-0.6, 2.2)\n",
    "ax.axhline(0, color='k', ls=\":\", lw=0.5)\n",
    "pl.title('Temperature anomaly - constrained')"
   ]
  },
  {
   "cell_type": "code",
   "execution_count": null,
   "id": "29382ba2",
   "metadata": {},
   "outputs": [],
   "source": [
    "# ch7 SM: aiming on 0.67 0.85 0.98\n",
    "pl.hist(temp_in[145:165,accept_temp].mean(axis=0)-temp_in[:51,accept_temp].mean(axis=0))\n",
    "np.percentile(temp_in[145:165,accept_temp].mean(axis=0)-temp_in[:51,accept_temp].mean(axis=0), (5, 50, 95))"
   ]
  },
  {
   "cell_type": "code",
   "execution_count": null,
   "id": "75537ad0",
   "metadata": {},
   "outputs": [],
   "source": [
    "np.median(temp_in[180,accept_temp]-temp_in[:51,accept_temp].mean(axis=0))"
   ]
  },
  {
   "cell_type": "markdown",
   "id": "35ae2aa4",
   "metadata": {},
   "source": [
    "## 2. Ocean heat content 1971-2018"
   ]
  },
  {
   "cell_type": "code",
   "execution_count": null,
   "id": "6fe226e6",
   "metadata": {},
   "outputs": [],
   "source": [
    "ohc_df = pd.read_csv(\"../data/forcing/AR6_OHC_ensemble_FGDprelim.csv\", skiprows=1)\n",
    "ohc = ohc_df['Central Estimate Full-depth'].values\n",
    "ohc_onesigma = ohc_df['Full-depth Uncertainty (1-sigma)'].values"
   ]
  },
  {
   "cell_type": "code",
   "execution_count": null,
   "id": "d448a661",
   "metadata": {},
   "outputs": [],
   "source": [
    "ohc"
   ]
  },
  {
   "cell_type": "code",
   "execution_count": null,
   "id": "aaaefd5d",
   "metadata": {},
   "outputs": [],
   "source": [
    "ohc_onesigma"
   ]
  },
  {
   "cell_type": "code",
   "execution_count": null,
   "id": "626b67ea",
   "metadata": {},
   "outputs": [],
   "source": [
    "NINETY_TO_ONESIGMA = scipy.stats.norm.ppf(0.95)"
   ]
  },
  {
   "cell_type": "code",
   "execution_count": null,
   "id": "6ba062f7",
   "metadata": {},
   "outputs": [],
   "source": [
    "pl.fill_between(np.arange(1971.5, 2019), (ohc - NINETY_TO_ONESIGMA*ohc_onesigma)/0.9, (ohc + NINETY_TO_ONESIGMA*ohc_onesigma)/0.9)\n",
    "pl.plot(np.arange(1971.5, 2019), ohc/0.9, color='k')"
   ]
  },
  {
   "cell_type": "code",
   "execution_count": null,
   "id": "f39bd4df",
   "metadata": {},
   "outputs": [],
   "source": [
    "((ohc[-1]-ohc[0]))/.91"
   ]
  },
  {
   "cell_type": "code",
   "execution_count": null,
   "id": "b1767e47",
   "metadata": {},
   "outputs": [],
   "source": [
    "np.sqrt(ohc_onesigma[0]**2+ohc_onesigma[-1]**2)/.91"
   ]
  },
  {
   "cell_type": "code",
   "execution_count": null,
   "id": "eb13d93f",
   "metadata": {},
   "outputs": [],
   "source": [
    "((ohc[-1]-ohc[0]) - NINETY_TO_ONESIGMA*np.sqrt(ohc_onesigma[0]**2+ohc_onesigma[-1]**2))/.91"
   ]
  },
  {
   "cell_type": "code",
   "execution_count": null,
   "id": "0d6937c6",
   "metadata": {},
   "outputs": [],
   "source": [
    "((ohc[-1]-ohc[0]) + NINETY_TO_ONESIGMA*np.sqrt(ohc_onesigma[0]**2+ohc_onesigma[-1]**2))/.91"
   ]
  },
  {
   "cell_type": "code",
   "execution_count": null,
   "id": "55a979a6",
   "metadata": {},
   "outputs": [],
   "source": [
    "((ohc[-1]-ohc[0]))"
   ]
  },
  {
   "cell_type": "code",
   "execution_count": null,
   "id": "481361a7",
   "metadata": {},
   "outputs": [],
   "source": [
    "(ohc_in).shape"
   ]
  },
  {
   "cell_type": "code",
   "execution_count": null,
   "id": "a13d6c9b",
   "metadata": {},
   "outputs": [],
   "source": [
    "pl.hist(ohc_in, bins=np.linspace(0e23, 10e23));"
   ]
  },
  {
   "cell_type": "code",
   "execution_count": null,
   "id": "54a55c12",
   "metadata": {},
   "outputs": [],
   "source": [
    "ohc_to_eshc_factor = 0.91"
   ]
  },
  {
   "cell_type": "code",
   "execution_count": null,
   "id": "a4edbbf4",
   "metadata": {},
   "outputs": [],
   "source": [
    "# asymmetical bounds here are deliberate\n",
    "accept_ohc = np.logical_and(\n",
    "    (\n",
    "        ((ohc[-1]-ohc[0]) - 0.90*NINETY_TO_ONESIGMA*np.sqrt(ohc_onesigma[0]**2+ohc_onesigma[-1]**2)) < \n",
    "        ohc_to_eshc_factor*(ohc_in)*1e-21\n",
    "    ), (\n",
    "        ohc_to_eshc_factor*(ohc_in)*1e-21 < \n",
    "        ((ohc[-1]-ohc[0]) + NINETY_TO_ONESIGMA*np.sqrt(ohc_onesigma[0]**2+ohc_onesigma[-1]**2))\n",
    "    )\n",
    ")\n",
    "valid_ohc = np.arange(samples, dtype=int)[accept_ohc]\n",
    "print(np.sum(accept_ohc))"
   ]
  },
  {
   "cell_type": "code",
   "execution_count": null,
   "id": "633e781e",
   "metadata": {},
   "outputs": [],
   "source": [
    "# target is 329 396 463 for 16, 50, 84\n",
    "pl.hist(ohc_to_eshc_factor*(ohc_in[accept_ohc]));\n",
    "np.percentile(ohc_to_eshc_factor*(ohc_in[accept_ohc]), (5, 16, 50, 84, 95))"
   ]
  },
  {
   "cell_type": "markdown",
   "id": "4c3c8aa8",
   "metadata": {},
   "source": [
    "### 3. CO2 concentrations in 2014"
   ]
  },
  {
   "cell_type": "code",
   "execution_count": null,
   "id": "6810f2d6",
   "metadata": {},
   "outputs": [],
   "source": [
    "co2_2014 = df_conc[\n",
    "    (df_conc['Variable']=='Atmospheric Concentrations|CO2') &\n",
    "    (df_conc['Scenario']=='historical') &\n",
    "    (df_conc['Region']=='World')\n",
    "]['2014'].values[0]\n",
    "co2_2014"
   ]
  },
  {
   "cell_type": "code",
   "execution_count": null,
   "id": "007fd85b",
   "metadata": {},
   "outputs": [],
   "source": [
    "accept_co2 = np.logical_and((co2_2014 - 3*0.36) < co2_in, co2_in < (co2_2014 + 3*0.36))\n",
    "print(np.sum(accept_co2))\n",
    "valid_co2 = np.arange(samples, dtype=int)[accept_co2]"
   ]
  },
  {
   "cell_type": "markdown",
   "id": "b5272eae",
   "metadata": {},
   "source": [
    "## 4. just for now, constraint on aerosol forcing"
   ]
  },
  {
   "cell_type": "code",
   "execution_count": null,
   "id": "ce6a923d",
   "metadata": {},
   "outputs": [],
   "source": [
    "#accept_faer = faer_in[5:15, :].mean(axis=0)>-2.1\n",
    "#print(np.sum(accept_faer))\n",
    "#valid_faer = np.arange(samples, dtype=int)[accept_faer]"
   ]
  },
  {
   "cell_type": "code",
   "execution_count": null,
   "id": "a4c0db88",
   "metadata": {},
   "outputs": [],
   "source": [
    "accept_all = accept_temp * accept_ohc * accept_co2 #* accept_faer\n",
    "#accept_all = accept_temp * accept_co2\n",
    "valid_all = np.arange(samples, dtype=int)[accept_all]\n",
    "np.sum(accept_all)"
   ]
  },
  {
   "cell_type": "markdown",
   "id": "8b32dd99",
   "metadata": {},
   "source": [
    "## Everything!"
   ]
  },
  {
   "cell_type": "code",
   "execution_count": null,
   "id": "b2e15095",
   "metadata": {},
   "outputs": [],
   "source": [
    "fig, ax = pl.subplots()\n",
    "ax.fill_between(\n",
    "    np.arange(1850.5, 2031), \n",
    "    np.min(temp_in[:,accept_all]-temp_in[:51,accept_all].mean(axis=0), axis=1), \n",
    "    np.max(temp_in[:,accept_all]-temp_in[:51,accept_all].mean(axis=0), axis=1),\n",
    "    color='#000000',\n",
    "    alpha=0.2,\n",
    ")\n",
    "ax.fill_between(\n",
    "    np.arange(1850.5, 2031), \n",
    "    np.percentile(temp_in[:,accept_all]-temp_in[:51,accept_all].mean(axis=0), 5, axis=1), \n",
    "    np.percentile(temp_in[:,accept_all]-temp_in[:51,accept_all].mean(axis=0), 95, axis=1),\n",
    "    color='#000000',\n",
    "    alpha=0.2,\n",
    ")\n",
    "ax.fill_between(\n",
    "    np.arange(1850.5, 2031), \n",
    "    np.percentile(temp_in[:,accept_all]-temp_in[:51,accept_all].mean(axis=0), 16, axis=1), \n",
    "    np.percentile(temp_in[:,accept_all]-temp_in[:51,accept_all].mean(axis=0), 84, axis=1),\n",
    "    color='#000000',\n",
    "    alpha=0.2,\n",
    ")\n",
    "ax.plot(\n",
    "    np.arange(1850.5, 2031), \n",
    "    np.median(temp_in[:,accept_all]-temp_in[:51,accept_all].mean(axis=0), axis=1), \n",
    "    color='#000000',\n",
    ")\n",
    "ax.plot(np.arange(1850.5, 2021), gmst, color='b')\n",
    "ax.set_xlim(1850,2030)\n",
    "ax.set_ylim(-1, 3)\n",
    "ax.axhline(0, color='k', ls=\":\", lw=0.5)\n",
    "pl.title('Temperature anomaly - constrained')"
   ]
  },
  {
   "cell_type": "code",
   "execution_count": null,
   "id": "687f9e53",
   "metadata": {},
   "outputs": [],
   "source": [
    "pl.hist(temp_in[145:165,accept_all].mean(axis=0)-temp_in[:51,accept_all].mean(axis=0))\n",
    "np.percentile(temp_in[145:165,accept_all].mean(axis=0)-temp_in[:51,accept_all].mean(axis=0), (5, 50, 95))"
   ]
  },
  {
   "cell_type": "code",
   "execution_count": null,
   "id": "d7dccde0",
   "metadata": {},
   "outputs": [],
   "source": [
    "np.percentile(temp_in[180,accept_all].mean()-temp_in[:51,accept_all].mean(axis=0), (5, 50, 95))"
   ]
  },
  {
   "cell_type": "code",
   "execution_count": null,
   "id": "5d5b3b99",
   "metadata": {},
   "outputs": [],
   "source": [
    "# target is 329 396 463 for 16, 50, 84\n",
    "pl.hist(ohc_to_eshc_factor*(ohc_in[accept_all]));\n",
    "np.percentile(ohc_to_eshc_factor*(ohc_in[accept_all]), (5, 16, 50, 84, 95))"
   ]
  },
  {
   "cell_type": "code",
   "execution_count": null,
   "id": "55320a3b",
   "metadata": {},
   "outputs": [],
   "source": [
    "valid_all"
   ]
  },
  {
   "cell_type": "code",
   "execution_count": null,
   "id": "7dff1d09",
   "metadata": {},
   "outputs": [],
   "source": [
    "np.median(temp_in[180,accept_all]-temp_in[:51,accept_all].mean(axis=0))"
   ]
  },
  {
   "cell_type": "code",
   "execution_count": null,
   "id": "ef8c72c4",
   "metadata": {},
   "outputs": [],
   "source": [
    "pl.hist(ecs_in[accept_all]);\n",
    "np.percentile(ecs_in[accept_all], (0, 5, 16, 50, 84, 95, 100))"
   ]
  },
  {
   "cell_type": "code",
   "execution_count": null,
   "id": "70b8b108",
   "metadata": {},
   "outputs": [],
   "source": [
    "pl.hist(tcr_in[accept_all]);\n",
    "np.percentile(tcr_in[accept_all], (5, 16, 50, 84, 95))"
   ]
  },
  {
   "cell_type": "code",
   "execution_count": null,
   "id": "e915c6f5",
   "metadata": {},
   "outputs": [],
   "source": [
    "# target -2.0 -1.3 -0.6\n",
    "pl.hist(fari_in[accept_all])\n",
    "np.percentile(fari_in[accept_all], (5, 16, 50, 84, 95))"
   ]
  },
  {
   "cell_type": "code",
   "execution_count": null,
   "id": "58367091",
   "metadata": {},
   "outputs": [],
   "source": [
    "pl.hist(faci_in[accept_all])\n",
    "np.percentile(faci_in[accept_all], (5, 16, 50, 84, 95))"
   ]
  },
  {
   "cell_type": "code",
   "execution_count": null,
   "id": "3a6402d3",
   "metadata": {},
   "outputs": [],
   "source": [
    "np.savetxt('../data/ar6_ensemble_batches/accepted.csv', valid_all)"
   ]
  },
  {
   "cell_type": "code",
   "execution_count": null,
   "id": "944c1852",
   "metadata": {},
   "outputs": [],
   "source": [
    "pl.hist(ecs_in)\n",
    "np.percentile(ecs_in, (5, 16, 50, 84, 95))"
   ]
  },
  {
   "cell_type": "code",
   "execution_count": null,
   "id": "09de57d4",
   "metadata": {},
   "outputs": [],
   "source": []
  }
 ],
 "metadata": {
  "kernelspec": {
   "display_name": "Python 3 (ipykernel)",
   "language": "python",
   "name": "python3"
  },
  "language_info": {
   "codemirror_mode": {
    "name": "ipython",
    "version": 3
   },
   "file_extension": ".py",
   "mimetype": "text/x-python",
   "name": "python",
   "nbconvert_exporter": "python",
   "pygments_lexer": "ipython3",
   "version": "3.7.12"
  }
 },
 "nbformat": 4,
 "nbformat_minor": 5
}
