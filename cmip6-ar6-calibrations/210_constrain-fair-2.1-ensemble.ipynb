{
 "cells": [
  {
   "cell_type": "markdown",
   "id": "d52269f2",
   "metadata": {},
   "source": [
    "# AR6 calibration of FaIR 2.1\n",
    "\n",
    "Constraint\n",
    "- AR6 assessed GSAT, 1850-2020\n",
    "- AR6 assessed OHC, 1971-2018\n",
    "- CO2 concentration, 1750-2014"
   ]
  },
  {
   "cell_type": "markdown",
   "id": "f6efed3c",
   "metadata": {},
   "source": [
    "## Basic imports"
   ]
  },
  {
   "cell_type": "code",
   "execution_count": null,
   "id": "f0770b5c",
   "metadata": {},
   "outputs": [],
   "source": [
    "import glob\n",
    "\n",
    "import numpy as np\n",
    "import pandas as pd\n",
    "import matplotlib.pyplot as pl\n",
    "import time\n",
    "import scipy.stats\n",
    "import scipy.optimize\n",
    "from tqdm import tqdm\n",
    "\n",
    "from fair21.energy_balance_model import EnergyBalanceModel"
   ]
  },
  {
   "cell_type": "code",
   "execution_count": null,
   "id": "842f3bde",
   "metadata": {},
   "outputs": [],
   "source": [
    "df_conc = pd.read_csv('../data/rcmip/rcmip-concentrations-annual-means-v5-1-0.csv')"
   ]
  },
  {
   "cell_type": "code",
   "execution_count": null,
   "id": "0c4fe247",
   "metadata": {},
   "outputs": [],
   "source": [
    "samples = 200000\n",
    "#batch_size = 1000"
   ]
  },
  {
   "cell_type": "markdown",
   "id": "c36acb10",
   "metadata": {},
   "source": [
    "## Load in results"
   ]
  },
  {
   "cell_type": "code",
   "execution_count": null,
   "id": "dfbd5e87",
   "metadata": {},
   "outputs": [],
   "source": [
    "temp_in = np.load('../data/ar6_ensemble_batches/temperature_1850-2030_20220415.npy')\n",
    "ohc_in = np.load('../data/ar6_ensemble_batches/ohc_1971-2018_20220415.npy')\n",
    "faer_in = np.load('../data/ar6_ensemble_batches/faer_2000-2019_20220415.npy')\n",
    "fari_in = np.load('../data/ar6_ensemble_batches/fari_1750-2019_20220415.npy')\n",
    "faci_in = np.load('../data/ar6_ensemble_batches/faci_1750-2019_20220415.npy')\n",
    "co2_in = np.load('../data/ar6_ensemble_batches/co2_2014_20220415.npy')"
   ]
  },
  {
   "cell_type": "code",
   "execution_count": null,
   "id": "3d740f66",
   "metadata": {},
   "outputs": [],
   "source": [
    "pl.hist(faer_in[5:15,:].mean(axis=0), bins=np.arange(-3.2,0.7,0.1));\n",
    "np.percentile(faer_in[5:15,:].mean(axis=0), (5, 50, 95))"
   ]
  },
  {
   "cell_type": "code",
   "execution_count": null,
   "id": "94c3dc98",
   "metadata": {},
   "outputs": [],
   "source": [
    "pl.hist(fari_in[255:265,:].mean(axis=0), bins=np.arange(-1.0,0.4,0.05));\n",
    "np.percentile(fari_in[255:265,:].mean(axis=0), (5, 50, 95))"
   ]
  },
  {
   "cell_type": "code",
   "execution_count": null,
   "id": "2f13ff84",
   "metadata": {},
   "outputs": [],
   "source": [
    "pl.hist(faci_in[255:265,:].mean(axis=0), bins=np.arange(-2.5,0.4,0.05));\n",
    "np.percentile(faci_in[255:265,:].mean(axis=0), (5, 50, 95))"
   ]
  },
  {
   "cell_type": "code",
   "execution_count": null,
   "id": "70cae2b4",
   "metadata": {},
   "outputs": [],
   "source": [
    "faci_in[0,:]"
   ]
  },
  {
   "cell_type": "code",
   "execution_count": null,
   "id": "d96d762f",
   "metadata": {},
   "outputs": [],
   "source": [
    "temp_in.shape"
   ]
  },
  {
   "cell_type": "markdown",
   "id": "f0086598",
   "metadata": {},
   "source": [
    "## 1. sufrace temperature 1850-2020"
   ]
  },
  {
   "cell_type": "code",
   "execution_count": null,
   "id": "7f96ef11",
   "metadata": {},
   "outputs": [],
   "source": [
    "df_gmst = pd.read_csv('../data/forcing/AR6_GMST.csv')\n",
    "gmst = df_gmst['gmst'].values"
   ]
  },
  {
   "cell_type": "code",
   "execution_count": null,
   "id": "956dadc7",
   "metadata": {},
   "outputs": [],
   "source": [
    "df_four = pd.read_csv('../data/forcing/AR6_GMST_four_datasets.csv', index_col=0)\n",
    "df_four"
   ]
  },
  {
   "cell_type": "code",
   "execution_count": null,
   "id": "4cb932ca",
   "metadata": {},
   "outputs": [],
   "source": [
    "def rmse(obs, mod):\n",
    "    return np.sqrt(np.sum((obs-mod)**2)/len(obs))"
   ]
  },
  {
   "cell_type": "code",
   "execution_count": null,
   "id": "1b4eb1e6",
   "metadata": {},
   "outputs": [],
   "source": [
    "rmse_temp = np.zeros((samples))"
   ]
  },
  {
   "cell_type": "code",
   "execution_count": null,
   "id": "b65060b4",
   "metadata": {},
   "outputs": [],
   "source": [
    "temp_in-temp_in[:51,:].mean(axis=0)\n",
    "#df_temp.shape"
   ]
  },
  {
   "cell_type": "code",
   "execution_count": null,
   "id": "0e378c0d",
   "metadata": {},
   "outputs": [],
   "source": [
    "fig, ax = pl.subplots()\n",
    "ax.fill_between(\n",
    "    np.arange(1850.5, 2031), \n",
    "    np.min(temp_in-temp_in[:51,:].mean(axis=0), axis=1), \n",
    "    np.max(temp_in-temp_in[:51,:].mean(axis=0), axis=1),\n",
    "    color='#000000',\n",
    "    alpha=0.03,\n",
    ")\n",
    "ax.fill_between(\n",
    "    np.arange(1850.5, 2031), \n",
    "    np.percentile(temp_in-temp_in[:51,:].mean(axis=0), 5, axis=1), \n",
    "    np.percentile(temp_in-temp_in[51,:].mean(axis=0), 95, axis=1),\n",
    "    color='#000000',\n",
    "    alpha=0.2,\n",
    ")\n",
    "ax.fill_between(\n",
    "    np.arange(1850.5, 2031), \n",
    "    np.percentile(temp_in-temp_in[:51,:].mean(axis=0), 16, axis=1), \n",
    "    np.percentile(temp_in-temp_in[:51,:].mean(axis=0), 84, axis=1),\n",
    "    color='#000000',\n",
    "    alpha=0.2,\n",
    ")\n",
    "ax.plot(\n",
    "    np.arange(1850.5, 2031), \n",
    "    np.median(temp_in-temp_in[:51,:].mean(axis=0), axis=1), \n",
    "    color='#000000',\n",
    ")\n",
    "ax.plot(np.arange(1850.5, 2021), gmst, color='b')\n",
    "ax.set_xlim(1850,2030)\n",
    "ax.set_ylim(-1, 3)\n",
    "ax.axhline(0, color='k', ls=\":\", lw=0.5)\n",
    "pl.title('Temperature anomaly - unconstrained')"
   ]
  },
  {
   "cell_type": "code",
   "execution_count": null,
   "id": "26d376c7",
   "metadata": {},
   "outputs": [],
   "source": [
    "# pandas is so slow!\n",
    "hadcrut = df_four['HadCRUT'].values\n",
    "noaa = df_four['NOAA'].values\n",
    "berkeley = df_four['Berkeley'].values\n",
    "kadow = df_four['Kadow'].values"
   ]
  },
  {
   "cell_type": "code",
   "execution_count": null,
   "id": "a5eeed38",
   "metadata": {},
   "outputs": [],
   "source": [
    "rmse_temp = np.zeros((samples))\n",
    "rmse_hadcrut = np.zeros((samples))\n",
    "rmse_noaa = np.zeros((samples))\n",
    "rmse_berkeley = np.zeros((samples))\n",
    "rmse_kadow = np.zeros((samples))\n",
    "\n",
    "for i in tqdm(range(samples)):\n",
    "    rmse_temp[i] = rmse(gmst[:171], temp_in[:171,i]-temp_in[:51, i].mean())\n",
    "    rmse_hadcrut[i] = rmse(hadcrut, temp_in[:171,i]-temp_in[:51, i].mean())\n",
    "    rmse_noaa[i] = rmse(noaa, temp_in[:171,i]-temp_in[:51, i].mean())\n",
    "    rmse_berkeley[i] = rmse(berkeley, temp_in[:171,i]-temp_in[:51, i].mean())\n",
    "    rmse_kadow[i] = rmse(kadow, temp_in[:171,i]-temp_in[:51, i].mean())"
   ]
  },
  {
   "cell_type": "code",
   "execution_count": null,
   "id": "1c929e09",
   "metadata": {},
   "outputs": [],
   "source": [
    "#accept_temp=(rmse_temp<0.135)\n",
    "accept_temp=(rmse_temp<0.15)\n",
    "#accept_temp = np.logical_or.reduce((rmse_hadcrut<0.142, rmse_noaa<0.142, rmse_berkeley<0.142, rmse_kadow<0.142))\n",
    "print(np.sum(accept_temp))\n",
    "valid_temp = np.arange(samples, dtype=int)[accept_temp]"
   ]
  },
  {
   "cell_type": "code",
   "execution_count": null,
   "id": "5cc75755",
   "metadata": {},
   "outputs": [],
   "source": [
    "# pl.plot(np.arange(0.6,1.11,0.01), scipy.stats.skewnorm.pdf(np.arange(0.6,1.11,0.01), 0, scale=0.1, loc=0.85))"
   ]
  },
  {
   "cell_type": "code",
   "execution_count": null,
   "id": "c6dc90ad",
   "metadata": {},
   "outputs": [],
   "source": [
    "# scipy.stats.skewnorm.ppf((0.05, 0.50, 0.95), 0, loc=.85, scale=0.1)"
   ]
  },
  {
   "cell_type": "code",
   "execution_count": null,
   "id": "69f74888",
   "metadata": {},
   "outputs": [],
   "source": [
    "# def opt(x, q05_desired, q50_desired, q95_desired):\n",
    "#     \"x is (a, loc, scale) in that order.\"\n",
    "#     q05, q50, q95 = scipy.stats.skewnorm.ppf((0.05, 0.50, 0.95), x[0], loc=x[1], scale=x[2])\n",
    "#     #print(q05, q50, q95, x)\n",
    "#     return (q05-q05_desired, q50-q50_desired, q95-q95_desired)\n",
    "    \n",
    "# scipy.optimize.root(opt, (-0.1,0.83,0.08), (0.69, 0.85, 0.98), options={'maxfev': 5000})"
   ]
  },
  {
   "cell_type": "code",
   "execution_count": null,
   "id": "0a43b880",
   "metadata": {},
   "outputs": [],
   "source": [
    "# scipy.stats.skewnorm.ppf((0.05, 0.50, 0.95), -1.65506091, loc=0.92708099, scale=0.12096636)"
   ]
  },
  {
   "cell_type": "code",
   "execution_count": null,
   "id": "3747676b",
   "metadata": {},
   "outputs": [],
   "source": [
    "# # d(x)\n",
    "# pl.plot(np.linspace(0.55,1.15), scipy.stats.skewnorm.pdf(np.linspace(0.55, 1.15), -1.65506091, loc=0.92708099, scale=0.12096636))"
   ]
  },
  {
   "cell_type": "code",
   "execution_count": null,
   "id": "e534a574",
   "metadata": {},
   "outputs": [],
   "source": [
    "# # f(x)\n",
    "# pl.hist(temp_in[245:265,:].mean(axis=0)-temp_in[100:151,:].mean(axis=0), bins=np.arange(0.2,1.41,0.02))\n",
    "# #pl.xlim(0.5,1.1)"
   ]
  },
  {
   "cell_type": "code",
   "execution_count": null,
   "id": "99b3acfc",
   "metadata": {},
   "outputs": [],
   "source": [
    "# f_x = 0.01 * np.histogram(temp_in[245:265,:].mean(axis=0)-temp_in[100:151,:].mean(axis=0), bins=np.arange(0.2,1.41,0.01), density=True)[0]"
   ]
  },
  {
   "cell_type": "code",
   "execution_count": null,
   "id": "3ca68be6",
   "metadata": {},
   "outputs": [],
   "source": [
    "# d_x = np.zeros(120)\n",
    "# dtemp=0.01\n",
    "# for i, temp_int in enumerate(np.arange(0.2, 1.4, 0.01)):\n",
    "#     d_x[i] = (\n",
    "#         scipy.stats.skewnorm.cdf(temp_int+dtemp, -1.65506091, loc=0.92708099, scale=0.12096636) - \n",
    "#         scipy.stats.skewnorm.cdf(temp_int, -1.65506091, loc=0.92708099, scale=0.12096636)\n",
    "#     )"
   ]
  },
  {
   "cell_type": "code",
   "execution_count": null,
   "id": "341626a9",
   "metadata": {},
   "outputs": [],
   "source": [
    "# accept_ratio = d_x/f_x / (np.max(d_x/f_x))\n",
    "# pl.plot(np.arange(0.2, 1.4, 0.01), accept_ratio)"
   ]
  },
  {
   "cell_type": "code",
   "execution_count": null,
   "id": "79a73106",
   "metadata": {},
   "outputs": [],
   "source": [
    "# accept_prob = scipy.stats.uniform.rvs(loc=0, scale=1, size=samples, random_state=7324789)\n",
    "# accept_temp = np.zeros(samples, dtype=bool)\n",
    "\n",
    "# accept_ratio>=accept_prob = "
   ]
  },
  {
   "cell_type": "code",
   "execution_count": null,
   "id": "f72267d9",
   "metadata": {},
   "outputs": [],
   "source": [
    "# accept_prob = scipy.stats.uniform.rvs(loc=0, scale=1, size=samples, random_state=7324789)\n",
    "# accept_temp = np.zeros(samples, dtype=bool)\n",
    "\n",
    "# likelihood = scipy.stats.skewnorm.pdf(\n",
    "#     temp_in[245:265,:].mean(axis=0)-temp_in[100:151, :].mean(axis=0),\n",
    "#     -1.65506091, loc=0.92708099, scale=0.12096636\n",
    "# )/4.5 #st.norm.pdf(-1.53, loc=-1.53, scale=0.10)\n",
    "\n",
    "# accept_temp[likelihood>=accept_prob] = True\n",
    "\n",
    "# np.sum(accept_temp)"
   ]
  },
  {
   "cell_type": "code",
   "execution_count": null,
   "id": "3c089962",
   "metadata": {},
   "outputs": [],
   "source": [
    "fig, ax = pl.subplots()\n",
    "ax.fill_between(\n",
    "    np.arange(1850.5, 2031), \n",
    "    np.min(temp_in[:,accept_temp]-temp_in[:51,accept_temp].mean(axis=0), axis=1), \n",
    "    np.max(temp_in[:,accept_temp]-temp_in[:51,accept_temp].mean(axis=0), axis=1),\n",
    "    color='#000000',\n",
    "    alpha=0.2,\n",
    ")\n",
    "ax.fill_between(\n",
    "    np.arange(1850.5, 2031), \n",
    "    np.percentile(temp_in[:,accept_temp]-temp_in[:51,accept_temp].mean(axis=0), 5, axis=1), \n",
    "    np.percentile(temp_in[:,accept_temp]-temp_in[:51,accept_temp].mean(axis=0), 95, axis=1),\n",
    "    color='#000000',\n",
    "    alpha=0.2,\n",
    ")\n",
    "ax.fill_between(\n",
    "    np.arange(1850.5, 2031), \n",
    "    np.percentile(temp_in[:,accept_temp]-temp_in[:51,accept_temp].mean(axis=0), 16, axis=1), \n",
    "    np.percentile(temp_in[:,accept_temp]-temp_in[:51,accept_temp].mean(axis=0), 84, axis=1),\n",
    "    color='#000000',\n",
    "    alpha=0.2,\n",
    ")\n",
    "ax.plot(\n",
    "    np.arange(1850.5, 2031), \n",
    "    np.median(temp_in[:,accept_temp]-temp_in[:51,accept_temp].mean(axis=0), axis=1), \n",
    "    color='#000000',\n",
    ")\n",
    "\n",
    "#ax.plot(np.arange(1850.5, 2021), gmst, color='b')\n",
    "ax.plot(np.arange(1850.5, 2021), df_four['HadCRUT'], color='r')\n",
    "ax.plot(np.arange(1850.5, 2021), df_four['NOAA'], color='y')\n",
    "ax.plot(np.arange(1850.5, 2021), df_four['Berkeley'], color='g')\n",
    "ax.plot(np.arange(1850.5, 2021), df_four['Kadow'], color='c')\n",
    "\n",
    "ax.set_xlim(1850,2030)\n",
    "ax.set_ylim(-0.6, 2.2)\n",
    "ax.axhline(0, color='k', ls=\":\", lw=0.5)\n",
    "pl.title('Temperature anomaly - constrained')"
   ]
  },
  {
   "cell_type": "code",
   "execution_count": null,
   "id": "29382ba2",
   "metadata": {},
   "outputs": [],
   "source": [
    "# ch7 SM: aiming on 0.67 0.85 0.98\n",
    "pl.hist(temp_in[145:165,accept_temp].mean(axis=0)-temp_in[:51,accept_temp].mean(axis=0))\n",
    "np.percentile(temp_in[145:165,accept_temp].mean(axis=0)-temp_in[:51,accept_temp].mean(axis=0), (5, 50, 95))"
   ]
  },
  {
   "cell_type": "code",
   "execution_count": null,
   "id": "75537ad0",
   "metadata": {},
   "outputs": [],
   "source": [
    "np.median(temp_in[180,accept_temp]-temp_in[:51,accept_temp].mean(axis=0))"
   ]
  },
  {
   "cell_type": "markdown",
   "id": "35ae2aa4",
   "metadata": {},
   "source": [
    "## 2. Ocean heat content 1971-2018"
   ]
  },
  {
   "cell_type": "code",
   "execution_count": null,
   "id": "6fe226e6",
   "metadata": {},
   "outputs": [],
   "source": [
    "ohc_df = pd.read_csv(\"../data/forcing/AR6_OHC_ensemble_FGDprelim.csv\", skiprows=1)\n",
    "ohc = ohc_df['Central Estimate Full-depth'].values\n",
    "ohc_onesigma = ohc_df['Full-depth Uncertainty (1-sigma)'].values"
   ]
  },
  {
   "cell_type": "code",
   "execution_count": null,
   "id": "d448a661",
   "metadata": {},
   "outputs": [],
   "source": [
    "ohc"
   ]
  },
  {
   "cell_type": "code",
   "execution_count": null,
   "id": "626b67ea",
   "metadata": {},
   "outputs": [],
   "source": [
    "NINETY_TO_ONESIGMA = scipy.stats.norm.ppf(0.95)"
   ]
  },
  {
   "cell_type": "code",
   "execution_count": null,
   "id": "6ba062f7",
   "metadata": {},
   "outputs": [],
   "source": [
    "pl.fill_between(np.arange(1971.5, 2019), (ohc - NINETY_TO_ONESIGMA*ohc_onesigma)/0.9, (ohc + NINETY_TO_ONESIGMA*ohc_onesigma)/0.9)\n",
    "pl.plot(np.arange(1971.5, 2019), ohc/0.9, color='k')"
   ]
  },
  {
   "cell_type": "code",
   "execution_count": null,
   "id": "f39bd4df",
   "metadata": {},
   "outputs": [],
   "source": [
    "((ohc[-1]-ohc[0]))/.91"
   ]
  },
  {
   "cell_type": "code",
   "execution_count": null,
   "id": "eb13d93f",
   "metadata": {},
   "outputs": [],
   "source": [
    "((ohc[-1]-ohc[0]) - NINETY_TO_ONESIGMA*np.sqrt(ohc_onesigma[0]**2+ohc_onesigma[-1]**2))/.91"
   ]
  },
  {
   "cell_type": "code",
   "execution_count": null,
   "id": "0d6937c6",
   "metadata": {},
   "outputs": [],
   "source": [
    "((ohc[-1]-ohc[0]) + NINETY_TO_ONESIGMA*np.sqrt(ohc_onesigma[0]**2+ohc_onesigma[-1]**2))/.91"
   ]
  },
  {
   "cell_type": "code",
   "execution_count": null,
   "id": "55a979a6",
   "metadata": {},
   "outputs": [],
   "source": [
    "((ohc[-1]-ohc[0]))"
   ]
  },
  {
   "cell_type": "code",
   "execution_count": null,
   "id": "481361a7",
   "metadata": {},
   "outputs": [],
   "source": [
    "(ohc_in[-1,:] - ohc_in[0,:]).shape"
   ]
  },
  {
   "cell_type": "code",
   "execution_count": null,
   "id": "a13d6c9b",
   "metadata": {},
   "outputs": [],
   "source": [
    "pl.hist((ohc_in[-1,:] - ohc_in[0,:]), bins=np.linspace(0e23, 6e23));"
   ]
  },
  {
   "cell_type": "code",
   "execution_count": null,
   "id": "54a55c12",
   "metadata": {},
   "outputs": [],
   "source": [
    "ohc_to_eshc_factor = 0.91"
   ]
  },
  {
   "cell_type": "code",
   "execution_count": null,
   "id": "a57c452c",
   "metadata": {},
   "outputs": [],
   "source": [
    "fig, ax = pl.subplots()\n",
    "ax.fill_between(\n",
    "    np.arange(1971.5, 2019), \n",
    "    np.min(ohc_to_eshc_factor*(ohc_in-ohc_in[0, :]), axis=1), \n",
    "    np.max(ohc_to_eshc_factor*(ohc_in-ohc_in[0, :]), axis=1),\n",
    "    color='#000000',\n",
    "    alpha=0.03,\n",
    ")\n",
    "ax.fill_between(\n",
    "    np.arange(1971.5, 2019), \n",
    "    np.percentile(ohc_to_eshc_factor*(ohc_in-ohc_in[0, :]), 5, axis=1), \n",
    "    np.percentile(ohc_to_eshc_factor*(ohc_in-ohc_in[0, :]), 95, axis=1),\n",
    "    color='#000000',\n",
    "    alpha=0.2,\n",
    ")\n",
    "ax.fill_between(\n",
    "    np.arange(1971.5, 2019), \n",
    "    np.percentile(ohc_to_eshc_factor*(ohc_in-ohc_in[0, :]), 16, axis=1), \n",
    "    np.percentile(ohc_to_eshc_factor*(ohc_in-ohc_in[0, :]), 84, axis=1),\n",
    "    color='#000000',\n",
    "    alpha=0.2,\n",
    ")\n",
    "ax.plot(\n",
    "    np.arange(1971.5, 2019), \n",
    "    np.median(ohc_to_eshc_factor*(ohc_in-ohc_in[0, :]), axis=1), \n",
    "    color='#000000',\n",
    ")\n",
    "ax.plot(np.arange(1971.5, 2019), ohc*1e21, color='b')\n",
    "ax.set_xlim(1971, 2019)\n",
    "ax.set_ylim(-1e24, 1.5e24)\n",
    "ax.axhline(0, color='k', ls=\":\", lw=0.5)\n",
    "pl.title('Ocean heat content - unconstrained')"
   ]
  },
  {
   "cell_type": "code",
   "execution_count": null,
   "id": "ac4f4dab",
   "metadata": {},
   "outputs": [],
   "source": [
    "rmse(ohc, ohc_in[:,i]-ohc_in[0, i])"
   ]
  },
  {
   "cell_type": "code",
   "execution_count": null,
   "id": "a4edbbf4",
   "metadata": {},
   "outputs": [],
   "source": [
    "# asymmetical bounds here are deliberate\n",
    "accept_ohc = np.logical_and(\n",
    "    (\n",
    "        ((ohc[-1]-ohc[0]) - 0.90*NINETY_TO_ONESIGMA*np.sqrt(ohc_onesigma[0]**2+ohc_onesigma[-1]**2)) < \n",
    "        ohc_to_eshc_factor*(ohc_in[-1,:] - ohc_in[0,:])*1e-21\n",
    "    ), (\n",
    "        ohc_to_eshc_factor*(ohc_in[-1,:] - ohc_in[0,:])*1e-21 < \n",
    "        ((ohc[-1]-ohc[0]) + NINETY_TO_ONESIGMA*np.sqrt(ohc_onesigma[0]**2+ohc_onesigma[-1]**2))\n",
    "    )\n",
    ")\n",
    "valid_ohc = np.arange(samples, dtype=int)[accept_ohc]\n",
    "print(np.sum(accept_ohc))"
   ]
  },
  {
   "cell_type": "code",
   "execution_count": null,
   "id": "c25361e9",
   "metadata": {},
   "outputs": [],
   "source": [
    "fig, ax = pl.subplots()\n",
    "ax.fill_between(\n",
    "    np.arange(1971.5, 2019), \n",
    "    np.min(ohc_to_eshc_factor*(ohc_in[:, accept_ohc]-ohc_in[0, accept_ohc]), axis=1), \n",
    "    np.max(ohc_to_eshc_factor*(ohc_in[:, accept_ohc]-ohc_in[0, accept_ohc]), axis=1),\n",
    "    color='#000000',\n",
    "    alpha=0.03,\n",
    ")\n",
    "ax.fill_between(\n",
    "    np.arange(1971.5, 2019), \n",
    "    np.percentile(ohc_to_eshc_factor*(ohc_in[:, accept_ohc]-ohc_in[0, accept_ohc]), 5, axis=1), \n",
    "    np.percentile(ohc_to_eshc_factor*(ohc_in[:, accept_ohc]-ohc_in[0, accept_ohc]), 95, axis=1),\n",
    "    color='#000000',\n",
    "    alpha=0.2,\n",
    ")\n",
    "ax.fill_between(\n",
    "    np.arange(1971.5, 2019), \n",
    "    np.percentile(ohc_to_eshc_factor*(ohc_in[:, accept_ohc]-ohc_in[0, accept_ohc]), 16, axis=1), \n",
    "    np.percentile(ohc_to_eshc_factor*(ohc_in[:, accept_ohc]-ohc_in[0, accept_ohc]), 84, axis=1),\n",
    "    color='#000000',\n",
    "    alpha=0.2,\n",
    ")\n",
    "ax.plot(\n",
    "    np.arange(1971.5, 2019), \n",
    "    np.median(ohc_to_eshc_factor*(ohc_in[:, accept_ohc]-ohc_in[0, accept_ohc]), axis=1), \n",
    "    color='#000000',\n",
    ")\n",
    "ax.plot(np.arange(1971.5, 2019), ohc*1e21, color='b')\n",
    "ax.set_xlim(1971,2019)\n",
    "#ax.set_ylim(-1, 3)\n",
    "ax.axhline(0, color='k', ls=\":\", lw=0.5)\n",
    "pl.title('Ocean heat content - constrained')"
   ]
  },
  {
   "cell_type": "code",
   "execution_count": null,
   "id": "633e781e",
   "metadata": {},
   "outputs": [],
   "source": [
    "# target is 329 396 463 for 16, 50, 84\n",
    "pl.hist(ohc_to_eshc_factor*(ohc_in[-1, accept_ohc]-ohc_in[0, accept_ohc]));\n",
    "np.percentile(ohc_to_eshc_factor*(ohc_in[-1, accept_ohc]-ohc_in[0, accept_ohc]), (5, 16, 50, 84, 95))"
   ]
  },
  {
   "cell_type": "markdown",
   "id": "4c3c8aa8",
   "metadata": {},
   "source": [
    "### 3. CO2 concentrations in 2014"
   ]
  },
  {
   "cell_type": "code",
   "execution_count": null,
   "id": "6810f2d6",
   "metadata": {},
   "outputs": [],
   "source": [
    "co2_2014 = df_conc[\n",
    "    (df_conc['Variable']=='Atmospheric Concentrations|CO2') &\n",
    "    (df_conc['Scenario']=='historical') &\n",
    "    (df_conc['Region']=='World')\n",
    "]['2014'].values[0]"
   ]
  },
  {
   "cell_type": "code",
   "execution_count": null,
   "id": "007fd85b",
   "metadata": {},
   "outputs": [],
   "source": [
    "accept_co2 = np.logical_and((co2_2014 - 3*0.36) < co2_in, co2_in < (co2_2014 + 3*0.36))\n",
    "print(np.sum(accept_co2))\n",
    "valid_co2 = np.arange(samples, dtype=int)[accept_co2]"
   ]
  },
  {
   "cell_type": "markdown",
   "id": "b5272eae",
   "metadata": {},
   "source": [
    "## 4. just for now, constraint on aerosol forcing"
   ]
  },
  {
   "cell_type": "code",
   "execution_count": null,
   "id": "ce6a923d",
   "metadata": {},
   "outputs": [],
   "source": [
    "#accept_faer = faer_in[5:15, :].mean(axis=0)>-2.1\n",
    "#print(np.sum(accept_faer))\n",
    "#valid_faer = np.arange(samples, dtype=int)[accept_faer]"
   ]
  },
  {
   "cell_type": "code",
   "execution_count": null,
   "id": "a4c0db88",
   "metadata": {},
   "outputs": [],
   "source": [
    "accept_all = accept_temp * accept_ohc * accept_co2 #* accept_faer\n",
    "#accept_all = accept_temp * accept_co2\n",
    "valid_all = np.arange(samples, dtype=int)[accept_all]\n",
    "np.sum(accept_all)"
   ]
  },
  {
   "cell_type": "markdown",
   "id": "8b32dd99",
   "metadata": {},
   "source": [
    "## Everything!"
   ]
  },
  {
   "cell_type": "code",
   "execution_count": null,
   "id": "b2e15095",
   "metadata": {},
   "outputs": [],
   "source": [
    "fig, ax = pl.subplots()\n",
    "ax.fill_between(\n",
    "    np.arange(1850.5, 2031), \n",
    "    np.min(temp_in[:,accept_all]-temp_in[:51,accept_all].mean(axis=0), axis=1), \n",
    "    np.max(temp_in[:,accept_all]-temp_in[:51,accept_all].mean(axis=0), axis=1),\n",
    "    color='#000000',\n",
    "    alpha=0.2,\n",
    ")\n",
    "ax.fill_between(\n",
    "    np.arange(1850.5, 2031), \n",
    "    np.percentile(temp_in[:,accept_all]-temp_in[:51,accept_all].mean(axis=0), 5, axis=1), \n",
    "    np.percentile(temp_in[:,accept_all]-temp_in[:51,accept_all].mean(axis=0), 95, axis=1),\n",
    "    color='#000000',\n",
    "    alpha=0.2,\n",
    ")\n",
    "ax.fill_between(\n",
    "    np.arange(1850.5, 2031), \n",
    "    np.percentile(temp_in[:,accept_all]-temp_in[:51,accept_all].mean(axis=0), 16, axis=1), \n",
    "    np.percentile(temp_in[:,accept_all]-temp_in[:51,accept_all].mean(axis=0), 84, axis=1),\n",
    "    color='#000000',\n",
    "    alpha=0.2,\n",
    ")\n",
    "ax.plot(\n",
    "    np.arange(1850.5, 2031), \n",
    "    np.median(temp_in[:,accept_all]-temp_in[:51,accept_all].mean(axis=0), axis=1), \n",
    "    color='#000000',\n",
    ")\n",
    "ax.plot(np.arange(1850.5, 2021), gmst, color='b')\n",
    "ax.set_xlim(1850,2030)\n",
    "ax.set_ylim(-1, 3)\n",
    "ax.axhline(0, color='k', ls=\":\", lw=0.5)\n",
    "pl.title('Temperature anomaly - constrained')"
   ]
  },
  {
   "cell_type": "code",
   "execution_count": null,
   "id": "687f9e53",
   "metadata": {},
   "outputs": [],
   "source": [
    "pl.hist(temp_in[145:165,accept_all].mean(axis=0)-temp_in[:51,accept_all].mean(axis=0))\n",
    "np.percentile(temp_in[145:165,accept_all].mean(axis=0)-temp_in[:51,accept_all].mean(axis=0), (5, 50, 95))"
   ]
  },
  {
   "cell_type": "code",
   "execution_count": null,
   "id": "5d5b3b99",
   "metadata": {},
   "outputs": [],
   "source": [
    "# target is 329 396 463 for 16, 50, 84\n",
    "pl.hist(ohc_to_eshc_factor*(ohc_in[-1, accept_all]-ohc_in[0, accept_all]));\n",
    "np.percentile(ohc_to_eshc_factor*(ohc_in[-1, accept_all]-ohc_in[0, accept_all]), (5, 16, 50, 84, 95))"
   ]
  },
  {
   "cell_type": "code",
   "execution_count": null,
   "id": "55320a3b",
   "metadata": {},
   "outputs": [],
   "source": [
    "valid_all"
   ]
  },
  {
   "cell_type": "code",
   "execution_count": null,
   "id": "7dff1d09",
   "metadata": {},
   "outputs": [],
   "source": [
    "np.median(temp_in[180,accept_all]-temp_in[:51,accept_all].mean(axis=0))"
   ]
  },
  {
   "cell_type": "code",
   "execution_count": null,
   "id": "015ab0e3",
   "metadata": {},
   "outputs": [],
   "source": [
    "fig, ax = pl.subplots()\n",
    "ax.fill_between(\n",
    "    np.arange(1971.5, 2019), \n",
    "    np.min(ohc_to_eshc_factor*(ohc_in[:, accept_all]-ohc_in[0, accept_all]), axis=1), \n",
    "    np.max(ohc_to_eshc_factor*(ohc_in[:, accept_all]-ohc_in[0, accept_all]), axis=1),\n",
    "    color='#000000',\n",
    "    alpha=0.03,\n",
    ")\n",
    "ax.fill_between(\n",
    "    np.arange(1971.5, 2019), \n",
    "    np.percentile(ohc_to_eshc_factor*(ohc_in[:, accept_all]-ohc_in[0, accept_all]), 5, axis=1), \n",
    "    np.percentile(ohc_to_eshc_factor*(ohc_in[:, accept_all]-ohc_in[0, accept_all]), 95, axis=1),\n",
    "    color='#000000',\n",
    "    alpha=0.2,\n",
    ")\n",
    "ax.fill_between(\n",
    "    np.arange(1971.5, 2019), \n",
    "    np.percentile(ohc_to_eshc_factor*(ohc_in[:, accept_all]-ohc_in[0, accept_all]), 16, axis=1), \n",
    "    np.percentile(ohc_to_eshc_factor*(ohc_in[:, accept_all]-ohc_in[0, accept_all]), 84, axis=1),\n",
    "    color='#000000',\n",
    "    alpha=0.2,\n",
    ")\n",
    "ax.plot(\n",
    "    np.arange(1971.5, 2019), \n",
    "    np.median(ohc_to_eshc_factor*(ohc_in[:, accept_all]-ohc_in[0, accept_all]), axis=1), \n",
    "    color='#000000',\n",
    ")\n",
    "ax.plot(np.arange(1971.5, 2019), ohc*1e21, color='b')\n",
    "ax.set_xlim(1971,2019)\n",
    "#ax.set_ylim(-1, 3)\n",
    "ax.axhline(0, color='k', ls=\":\", lw=0.5)\n",
    "pl.title('Ocean heat content - constrained')"
   ]
  },
  {
   "cell_type": "code",
   "execution_count": null,
   "id": "073d8442",
   "metadata": {},
   "outputs": [],
   "source": [
    "df_cr=pd.read_csv('../data/parameter_sets/climate_response.csv')\n",
    "df_scale = pd.read_csv('../data/parameter_sets/forcing_scaling.csv')"
   ]
  },
  {
   "cell_type": "code",
   "execution_count": null,
   "id": "65d09dce",
   "metadata": {},
   "outputs": [],
   "source": []
  },
  {
   "cell_type": "code",
   "execution_count": null,
   "id": "7170c802",
   "metadata": {},
   "outputs": [],
   "source": [
    "# use F2xCO2 and scale factor to determine ECS: this is what each climate simulation actually \"sees\"\n",
    "erf_2co2 = 3.934168323890023"
   ]
  },
  {
   "cell_type": "code",
   "execution_count": null,
   "id": "20feb6b1",
   "metadata": {},
   "outputs": [],
   "source": [
    "ecs = np.ones(samples) * np.nan\n",
    "tcr = np.ones(samples) * np.nan\n",
    "for i in tqdm(valid_all):\n",
    "    ebm = EnergyBalanceModel(\n",
    "        ocean_heat_capacity = np.array([df_cr.loc[i,'c1'], df_cr.loc[i,'c2'], df_cr.loc[i, 'c3']]),\n",
    "        ocean_heat_transfer = np.array([df_cr.loc[i,'kappa1'], df_cr.loc[i,'kappa2'], df_cr.loc[i,'kappa3']]),\n",
    "        deep_ocean_efficacy = df_cr.loc[i,'epsilon'],\n",
    "        forcing_4co2 = 2*erf_2co2*df_scale.loc[i,'CO2'],\n",
    "    )\n",
    "    ebm.emergent_parameters()\n",
    "    ecs[i] = ebm.ecs\n",
    "    tcr[i] = ebm.tcr"
   ]
  },
  {
   "cell_type": "code",
   "execution_count": null,
   "id": "ef8c72c4",
   "metadata": {},
   "outputs": [],
   "source": [
    "pl.hist(ecs[~np.isnan(ecs)]);\n",
    "np.percentile(ecs[~np.isnan(ecs)], (5, 16, 50, 84, 95))"
   ]
  },
  {
   "cell_type": "code",
   "execution_count": null,
   "id": "70b8b108",
   "metadata": {},
   "outputs": [],
   "source": [
    "pl.hist(tcr[~np.isnan(tcr)]);\n",
    "np.percentile(tcr[~np.isnan(tcr)], (5, 16, 50, 84, 95))"
   ]
  },
  {
   "cell_type": "code",
   "execution_count": null,
   "id": "e915c6f5",
   "metadata": {},
   "outputs": [],
   "source": [
    "# target -2.0 -1.3 -0.6\n",
    "pl.hist(faer_in[5:15, accept_all].mean(axis=0))\n",
    "np.percentile(faer_in[5:15, accept_all].mean(axis=0), (5, 16, 50, 84, 95))"
   ]
  },
  {
   "cell_type": "code",
   "execution_count": null,
   "id": "58367091",
   "metadata": {},
   "outputs": [],
   "source": [
    "pl.hist(faer_in[19, accept_all])\n",
    "np.percentile(faer_in[19, accept_all], (5, 16, 50, 84, 95))"
   ]
  },
  {
   "cell_type": "code",
   "execution_count": null,
   "id": "221f3aeb",
   "metadata": {},
   "outputs": [],
   "source": [
    "np.sum(faer_in[5:15, accept_all].mean(axis=0)>-2.2)"
   ]
  },
  {
   "cell_type": "code",
   "execution_count": null,
   "id": "8c87dcd0",
   "metadata": {},
   "outputs": [],
   "source": [
    "pl.plot(fari_in[:, accept_all].mean(axis=1))"
   ]
  },
  {
   "cell_type": "code",
   "execution_count": null,
   "id": "48f1dfb1",
   "metadata": {},
   "outputs": [],
   "source": [
    "pl.plot(faci_in[:, accept_all].mean(axis=1))"
   ]
  },
  {
   "cell_type": "code",
   "execution_count": null,
   "id": "3a6402d3",
   "metadata": {},
   "outputs": [],
   "source": [
    "np.savetxt('../data/ar6_ensemble_batches/accepted.csv', valid_all)"
   ]
  },
  {
   "cell_type": "code",
   "execution_count": null,
   "id": "2a7d5b6f",
   "metadata": {},
   "outputs": [],
   "source": [
    "pl.hist(df_cr[:samples].loc[accept_all,'kappa1']);\n",
    "np.percentile(df_cr[:samples].loc[accept_all,'kappa1'], (5, 16, 50, 84, 95))"
   ]
  }
 ],
 "metadata": {
  "kernelspec": {
   "display_name": "Python 3",
   "language": "python",
   "name": "python3"
  },
  "language_info": {
   "codemirror_mode": {
    "name": "ipython",
    "version": 3
   },
   "file_extension": ".py",
   "mimetype": "text/x-python",
   "name": "python",
   "nbconvert_exporter": "python",
   "pygments_lexer": "ipython3",
   "version": "3.8.8"
  }
 },
 "nbformat": 4,
 "nbformat_minor": 5
}
