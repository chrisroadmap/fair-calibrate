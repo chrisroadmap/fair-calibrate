{
 "cells": [
  {
   "cell_type": "code",
   "execution_count": null,
   "id": "ffaa1a7e",
   "metadata": {},
   "outputs": [],
   "source": [
    "from fair.energy_balance_model import EnergyBalanceModel\n",
    "import numpy as np"
   ]
  },
  {
   "cell_type": "code",
   "execution_count": null,
   "id": "74d5091d",
   "metadata": {},
   "outputs": [],
   "source": [
    "ebm = EnergyBalanceModel(\n",
    "    ocean_heat_capacity = np.array([5, 20, 80]),\n",
    "    ocean_heat_transfer = np.array([1, 2, 1]),\n",
    "    deep_ocean_efficacy = 1.2,\n",
    "    forcing_4co2 = 8,\n",
    "    gamma_autocorrelation = 10\n",
    ")\n",
    "ebm.emergent_parameters()"
   ]
  },
  {
   "cell_type": "code",
   "execution_count": null,
   "id": "f331cfa4",
   "metadata": {},
   "outputs": [],
   "source": [
    "ebm.ecs"
   ]
  },
  {
   "cell_type": "code",
   "execution_count": null,
   "id": "8ba84c70",
   "metadata": {},
   "outputs": [],
   "source": [
    "ebm.tcr"
   ]
  },
  {
   "cell_type": "code",
   "execution_count": null,
   "id": "bf27e914",
   "metadata": {},
   "outputs": [],
   "source": [
    "ebm.timescales"
   ]
  },
  {
   "cell_type": "code",
   "execution_count": null,
   "id": "f97386e7",
   "metadata": {},
   "outputs": [],
   "source": [
    "ebm.response_coefficients"
   ]
  },
  {
   "cell_type": "code",
   "execution_count": null,
   "id": "c49d9b02",
   "metadata": {},
   "outputs": [],
   "source": [
    "ebm = EnergyBalanceModel(\n",
    "    ocean_heat_capacity = np.array([5, 20, 80]),\n",
    "    ocean_heat_transfer = np.array([1, 2, 1]),\n",
    "    deep_ocean_efficacy = 1.2,\n",
    "    forcing_4co2 = 8,\n",
    "    gamma_autocorrelation = 10,\n",
    "    timestep = 5\n",
    ")\n",
    "ebm.emergent_parameters()"
   ]
  },
  {
   "cell_type": "code",
   "execution_count": null,
   "id": "ee0e00b9",
   "metadata": {},
   "outputs": [],
   "source": [
    "ebm.ecs"
   ]
  },
  {
   "cell_type": "code",
   "execution_count": null,
   "id": "f1bc8e4d",
   "metadata": {},
   "outputs": [],
   "source": [
    "ebm.tcr"
   ]
  },
  {
   "cell_type": "code",
   "execution_count": null,
   "id": "ae467a56",
   "metadata": {},
   "outputs": [],
   "source": [
    "ebm.timescales"
   ]
  },
  {
   "cell_type": "code",
   "execution_count": null,
   "id": "b486d3f4",
   "metadata": {},
   "outputs": [],
   "source": [
    "ebm.response_coefficients"
   ]
  }
 ],
 "metadata": {
  "kernelspec": {
   "display_name": "Python 3 (ipykernel)",
   "language": "python",
   "name": "python3"
  },
  "language_info": {
   "codemirror_mode": {
    "name": "ipython",
    "version": 3
   },
   "file_extension": ".py",
   "mimetype": "text/x-python",
   "name": "python",
   "nbconvert_exporter": "python",
   "pygments_lexer": "ipython3",
   "version": "3.10.6"
  }
 },
 "nbformat": 4,
 "nbformat_minor": 5
}
