{
 "cells": [
  {
   "cell_type": "code",
   "execution_count": null,
   "id": "80c20deb",
   "metadata": {},
   "outputs": [],
   "source": [
    "from fair.energy_balance_model import EnergyBalanceModel\n",
    "import numpy as np"
   ]
  },
  {
   "cell_type": "code",
   "execution_count": null,
   "id": "c1fe1258",
   "metadata": {},
   "outputs": [],
   "source": [
    "ebm = EnergyBalanceModel(\n",
    "    ocean_heat_capacity = np.array([5, 20, 80]),\n",
    "    ocean_heat_transfer = np.array([1, 2, 1]),\n",
    "    deep_ocean_efficacy = 1.2,\n",
    "    forcing_4co2 = 8,\n",
    "    gamma_autocorrelation = 10\n",
    ")\n",
    "ebm.emergent_parameters()"
   ]
  },
  {
   "cell_type": "code",
   "execution_count": null,
   "id": "49d71c58",
   "metadata": {},
   "outputs": [],
   "source": [
    "ebm.ecs"
   ]
  },
  {
   "cell_type": "code",
   "execution_count": null,
   "id": "dcc3013a",
   "metadata": {},
   "outputs": [],
   "source": [
    "ebm.tcr"
   ]
  },
  {
   "cell_type": "code",
   "execution_count": null,
   "id": "41158122",
   "metadata": {},
   "outputs": [],
   "source": [
    "ebm.timescales"
   ]
  },
  {
   "cell_type": "code",
   "execution_count": null,
   "id": "133ff129",
   "metadata": {},
   "outputs": [],
   "source": [
    "ebm.response_coefficients"
   ]
  },
  {
   "cell_type": "code",
   "execution_count": null,
   "id": "ec7636ad",
   "metadata": {},
   "outputs": [],
   "source": [
    "ebm = EnergyBalanceModel(\n",
    "    ocean_heat_capacity = np.array([5, 20, 80]),\n",
    "    ocean_heat_transfer = np.array([1, 2, 1]),\n",
    "    deep_ocean_efficacy = 1.2,\n",
    "    forcing_4co2 = 8,\n",
    "    gamma_autocorrelation = 10,\n",
    "    timestep = 5\n",
    ")\n",
    "ebm.emergent_parameters()"
   ]
  },
  {
   "cell_type": "code",
   "execution_count": null,
   "id": "5543a0b2",
   "metadata": {},
   "outputs": [],
   "source": [
    "ebm.ecs"
   ]
  },
  {
   "cell_type": "code",
   "execution_count": null,
   "id": "0335494c",
   "metadata": {},
   "outputs": [],
   "source": [
    "ebm.tcr"
   ]
  },
  {
   "cell_type": "code",
   "execution_count": null,
   "id": "60fa7592",
   "metadata": {},
   "outputs": [],
   "source": [
    "ebm.timescales"
   ]
  },
  {
   "cell_type": "code",
   "execution_count": null,
   "id": "a205e25f",
   "metadata": {},
   "outputs": [],
   "source": [
    "ebm.response_coefficients"
   ]
  }
 ],
 "metadata": {
  "kernelspec": {
   "display_name": "Python 3 (ipykernel)",
   "language": "python",
   "name": "python3"
  },
  "language_info": {
   "codemirror_mode": {
    "name": "ipython",
    "version": 3
   },
   "file_extension": ".py",
   "mimetype": "text/x-python",
   "name": "python",
   "nbconvert_exporter": "python",
   "pygments_lexer": "ipython3",
   "version": "3.10.6"
  }
 },
 "nbformat": 4,
 "nbformat_minor": 5
}
