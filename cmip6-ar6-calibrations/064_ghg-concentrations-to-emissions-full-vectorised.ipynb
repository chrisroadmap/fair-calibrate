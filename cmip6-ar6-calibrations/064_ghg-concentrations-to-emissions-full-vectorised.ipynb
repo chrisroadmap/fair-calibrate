{
 "cells": [
  {
   "cell_type": "markdown",
   "id": "1f3d51ed",
   "metadata": {},
   "source": [
    "# Greenhouse gas concentrations to emissions\n",
    "\n",
    "Hopefully fully vectorising this will actually make things a bit easier."
   ]
  },
  {
   "cell_type": "code",
   "execution_count": null,
   "id": "31b9f4c9",
   "metadata": {},
   "outputs": [],
   "source": [
    "import numpy as np\n",
    "import pandas as pd\n",
    "import matplotlib.pyplot as pl\n",
    "from scipy.interpolate import interp1d\n",
    "import pickle\n",
    "from climateforcing.utils import mkdir_p\n",
    "\n",
    "from fair21.constants.gases import molwt, burden_per_emission, lifetime, gas_list\n",
    "from fair21.constants.general import TIME_AXIS, GAS_BOX_AXIS\n",
    "from fair21.defaults import n_gas_boxes\n",
    "from fair21.defaults.gases import (\n",
    "    partition_fraction,\n",
    "    pre_industrial_concentration,\n",
    "    natural_emissions_adjustment,\n",
    "    iirf_0,\n",
    "    iirf_cumulative,\n",
    "    iirf_temperature,\n",
    "    iirf_airborne,\n",
    "    iirf_horizon\n",
    ")\n",
    "from fair21.gas_cycle import (\n",
    "    calculate_g,\n",
    "    calculate_alpha,\n",
    ")\n",
    "from fair21.gas_cycle.inverse import unstep_concentration"
   ]
  },
  {
   "cell_type": "code",
   "execution_count": null,
   "id": "62bcf8a4",
   "metadata": {},
   "outputs": [],
   "source": [
    "# grab pre-computed concentrations\n",
    "with open(\"../data/output/rcmip-fair21-concentrations.pkl\",\"rb\") as filein:\n",
    "    concentration = pickle.load(filein)"
   ]
  },
  {
   "cell_type": "code",
   "execution_count": null,
   "id": "25273698",
   "metadata": {},
   "outputs": [],
   "source": [
    "# # interpolate all to a monthly timestep\n",
    "# t_new = np.arange(1750+1/24, 2501, 1/12)\n",
    "# concentration_monthly = {}\n",
    "\n",
    "# for specie in concentration.keys():\n",
    "#     f = interp1d(np.arange(1750.5, 2501), concentration[specie], fill_value=\"extrapolate\")\n",
    "#     concentration_monthly[specie] = f(t_new)\n",
    "    \n",
    "# f = interp1d(np.arange(1750.5, 2501), concentration['CO2'], fill_value='extrapolate')\n",
    "# concentration_co2_halfyear = f(np.arange(1750.25, 2501, 0.5))"
   ]
  },
  {
   "cell_type": "code",
   "execution_count": null,
   "id": "10e9589a",
   "metadata": {},
   "outputs": [],
   "source": [
    "scenarios = ['ssp119', 'ssp126', 'ssp245', 'ssp370', 'ssp434', 'ssp460', 'ssp534-over', 'ssp585']"
   ]
  },
  {
   "cell_type": "code",
   "execution_count": null,
   "id": "5d651f18",
   "metadata": {},
   "outputs": [],
   "source": [
    "# grab some emissions\n",
    "emissions_rcmip = {}\n",
    "df = pd.read_csv('../data/rcmip/rcmip-emissions-annual-means-v5-1-0.csv')\n",
    "for iscen, scenario in enumerate(scenarios):\n",
    "    emissions_rcmip[scenario] = {}\n",
    "    for igas, gas in enumerate(gas_list):\n",
    "        gas_rcmip_name = gas.replace(\"-\", \"\")\n",
    "        emissions_rcmip[scenario][gas] = df.loc[\n",
    "            (df['Scenario']==scenario) & (df['Variable'].str.endswith(\"|\"+gas_rcmip_name)) & (df['Region']=='World'), '1750':\n",
    "        ].interpolate(axis=1).values.T\n",
    "    \n",
    "        # CO2 and N2O units need to behave\n",
    "        if gas in ('CO2', 'N2O'):\n",
    "            emissions_rcmip[scenario][gas] = emissions_rcmip[scenario][gas] / 1000"
   ]
  },
  {
   "cell_type": "code",
   "execution_count": null,
   "id": "d41615f8",
   "metadata": {},
   "outputs": [],
   "source": [
    "# grab some concentrations\n",
    "concentration_rcmip = {}\n",
    "df = pd.read_csv('../data/rcmip/rcmip-concentrations-annual-means-v5-1-0.csv')\n",
    "for scenario in scenarios:\n",
    "    concentration_rcmip[scenario] = {}\n",
    "    for gas in gas_list:\n",
    "        gas_rcmip_name = gas.replace(\"-\", \"\")\n",
    "        concentration_rcmip[scenario][gas] = df.loc[\n",
    "            (df['Scenario']==scenario) & (df['Variable'].str.endswith(\"|\"+gas_rcmip_name)) & (df['Region']=='World'), '1750':\n",
    "        ].interpolate(axis=1).values.squeeze()"
   ]
  },
  {
   "cell_type": "code",
   "execution_count": null,
   "id": "05f27ff1",
   "metadata": {},
   "outputs": [],
   "source": [
    "# grab indicative temperature projections\n",
    "df = pd.read_csv('../data/rcmip-phase2/rcmip-phase2-fair162-ssp245-mean-temperature.csv')\n",
    "ssp245_temperature_rfmip = df['temperature'].values\n",
    "\n",
    "t_new = np.arange(1750+1/24, 2501, 1/12)\n",
    "f = interp1d(np.arange(1750.5, 2501), ssp245_temperature_rfmip, fill_value=\"extrapolate\")\n",
    "ssp245_temperature_monthly = f(t_new)\n",
    "\n",
    "t_new = np.arange(1750.25, 2501, 0.5)\n",
    "f = interp1d(np.arange(1750.5, 2501), ssp245_temperature_rfmip, fill_value=\"extrapolate\")\n",
    "ssp245_temperature_halfyear = f(t_new)"
   ]
  },
  {
   "cell_type": "code",
   "execution_count": null,
   "id": "c414f213",
   "metadata": {},
   "outputs": [],
   "source": [
    "# emissions = {}\n",
    "# cumulative_emissions = {}\n",
    "\n",
    "# for specie in concentration.keys():\n",
    "#     cumulative_emissions[specie] = 0\n",
    "#     gas_boxes=0\n",
    "#     emissions[specie] = np.zeros(751*12)\n",
    "#     airborne_emissions = 0\n",
    "    \n",
    "#     if specie in (\"CO2\", \"CH4\"):\n",
    "#         g0, g1 = calculate_g(lifetime[specie], partition_fraction[specie])\n",
    "#         for i in range(751*12): \n",
    "#             alpha_lifetime = calculate_alpha(\n",
    "#                 cumulative_emissions[specie],\n",
    "#                 airborne_emissions,\n",
    "#                 ssp245_temperature_monthly[i],\n",
    "#                 iirf_0[specie],\n",
    "#                 iirf_cumulative[specie],\n",
    "#                 iirf_temperature[specie],\n",
    "#                 iirf_airborne[specie],\n",
    "#                 g0,\n",
    "#                 g1\n",
    "#             )\n",
    "\n",
    "#             emissions[specie][i], gas_boxes, airborne_emissions = unstep_concentration(\n",
    "#                 concentration_monthly[specie][i],\n",
    "#                 gas_boxes,\n",
    "#                 airborne_emissions,\n",
    "#                 burden_per_emission[specie],\n",
    "#                 lifetime[specie],\n",
    "#                 alpha_lifetime=alpha_lifetime,\n",
    "#                 pre_industrial_concentration=pre_industrial_concentration[specie],\n",
    "#                 partition_fraction=partition_fraction[specie],\n",
    "#                 timestep=1/12,\n",
    "#                 natural_emissions_adjustment=natural_emissions_adjustment[specie]\n",
    "#             )\n",
    "#             cumulative_emissions[specie] = np.sum(emissions[specie][:i] * 1/12)\n",
    "\n",
    "#     else:\n",
    "#         alpha_lifetime=1\n",
    "#         for i in range(751*12): \n",
    "#             emissions[specie][i], gas_boxes, airborne_emissions = unstep_concentration(\n",
    "#                 concentration_monthly[specie][i],\n",
    "#                 gas_boxes,\n",
    "#                 airborne_emissions,\n",
    "#                 burden_per_emission[specie],\n",
    "#                 lifetime[specie],\n",
    "#                 alpha_lifetime=alpha_lifetime,\n",
    "#                 pre_industrial_concentration=pre_industrial_concentration[specie],\n",
    "#                 partition_fraction=partition_fraction[specie],\n",
    "#                 timestep=1/12,\n",
    "#                 natural_emissions_adjustment=natural_emissions_adjustment[specie]\n",
    "#             )\n",
    "#             cumulative_emissions[specie] = np.sum(emissions[specie][:i] * 1/12)\n",
    "#     cumulative_emissions[specie] = np.cumsum(emissions[specie] * 1/12)"
   ]
  },
  {
   "cell_type": "code",
   "execution_count": null,
   "id": "1154fecb",
   "metadata": {},
   "outputs": [],
   "source": [
    "# fig, ax = pl.subplots(6, 8, figsize=(16,16))\n",
    "# for igas, gas in enumerate(gas_list):\n",
    "#     iy = igas % 8\n",
    "#     ix = igas // 8\n",
    "#     ax[ix, iy].plot(np.arange(1750.5, 2501), emissions_rcmip[gas], label='RCMIP')\n",
    "#     ax[ix, iy].plot(np.arange(1750+1/24, 2501, 1/12), emissions[gas], label='Back-calculated')\n",
    "#     ax[ix, iy].set_title(gas)\n",
    "# fig.tight_layout()"
   ]
  },
  {
   "cell_type": "markdown",
   "id": "7cfe58b1",
   "metadata": {},
   "source": [
    "## Check with annual time stepping"
   ]
  },
  {
   "cell_type": "code",
   "execution_count": null,
   "id": "0843756b",
   "metadata": {},
   "outputs": [],
   "source": [
    "# turn into arrays for speed\n",
    "n_gases = len(gas_list)\n",
    "n_timesteps = len(concentration['ssp245'][\"CFC-11\"])\n",
    "n_scenarios = len(scenarios)"
   ]
  },
  {
   "cell_type": "code",
   "execution_count": null,
   "id": "2e8597a4",
   "metadata": {},
   "outputs": [],
   "source": [
    "concentration_array = np.ones((n_scenarios, n_gases, n_timesteps, 1)) * np.nan\n",
    "for iscen, scenario in enumerate(scenarios):\n",
    "    for igas, gas in enumerate(gas_list):\n",
    "        gas_rcmip_name = gas.replace(\"-\", \"\")\n",
    "        concentration_array[iscen, igas, ...] = concentration[scenario][gas]"
   ]
  },
  {
   "cell_type": "code",
   "execution_count": null,
   "id": "34c1c8b3",
   "metadata": {},
   "outputs": [],
   "source": [
    "%%time\n",
    "\n",
    "# remember: scen, species, time, box\n",
    "emissions_array = np.ones((n_scenarios, n_gases, n_timesteps, 1)) * np.nan\n",
    "g0 = np.ones((n_scenarios, n_gases, 1, 1)) * np.nan\n",
    "g1 = np.ones((n_scenarios, n_gases, 1, 1)) * np.nan\n",
    "alpha_lifetime = np.ones((n_scenarios, n_gases, 1, 1))\n",
    "airborne_emissions = np.zeros((n_scenarios, n_gases, 1, 1))\n",
    "gas_boxes = np.zeros((n_scenarios, n_gases, 1, n_gas_boxes))\n",
    "iirf_0_array = np.ones((n_scenarios, n_gases, 1, 1)) * np.nan\n",
    "iirf_cumulative_array = np.ones((n_scenarios, n_gases, 1, 1)) * np.nan\n",
    "iirf_temperature_array = np.ones((n_scenarios, n_gases, 1, 1)) * np.nan\n",
    "iirf_airborne_array = np.ones((n_scenarios, n_gases, 1, 1)) * np.nan\n",
    "burden_per_emission_array = np.ones((1, n_gases, 1, 1)) * np.nan\n",
    "lifetime_array = np.ones((n_scenarios, n_gases, 1, n_gas_boxes)) * np.nan\n",
    "pre_industrial_concentration_array = np.ones((n_scenarios, n_gases, 1, 1)) * np.nan\n",
    "partition_fraction_array = np.zeros((n_scenarios, n_gases, 1, n_gas_boxes))\n",
    "natural_emissions_adjustment_array = np.ones((n_scenarios, n_gases, 1, 1)) * np.nan\n",
    "\n",
    "cumulative_emissions_tracker = np.zeros((n_scenarios, n_gases, 1, 1))\n",
    "\n",
    "for igas, gas in enumerate(gas_list):\n",
    "    lifetime_array[:, igas, :, :] = lifetime[gas]\n",
    "    partition_fraction_array[:, igas, :, :] = partition_fraction[gas]\n",
    "    iirf_0_array[:, igas, :, :] = iirf_0[gas]\n",
    "    iirf_cumulative_array[:, igas, :, :] = iirf_cumulative[gas]\n",
    "    iirf_temperature_array[:, igas, :, :] = iirf_temperature[gas]\n",
    "    iirf_airborne_array[:, igas, :, :] = iirf_airborne[gas]\n",
    "    burden_per_emission_array[:, igas, :, :] = burden_per_emission[gas]\n",
    "    pre_industrial_concentration_array[:, igas, :, :] = pre_industrial_concentration[gas]\n",
    "    partition_fraction_array[:, igas, :, :] = partition_fraction[gas]\n",
    "    natural_emissions_adjustment_array[:, igas, :, :] = natural_emissions_adjustment[gas]\n",
    "\n",
    "g0, g1 = calculate_g(lifetime_array, partition_fraction_array)\n",
    "\n",
    "for i_timestep in range(n_timesteps):\n",
    "    alpha_lifetime = calculate_alpha(\n",
    "        cumulative_emissions_tracker,\n",
    "        airborne_emissions[:, :, [0], :],\n",
    "        ssp245_temperature_rfmip[i_timestep],\n",
    "        iirf_0_array,\n",
    "        iirf_cumulative_array,\n",
    "        iirf_temperature_array,\n",
    "        iirf_airborne_array,\n",
    "        g0,\n",
    "        g1,\n",
    "    )\n",
    "    alpha_lifetime[np.isnan(alpha_lifetime)]=1  # CF4 seems to have an issue. Should we raise warning?\n",
    "    emissions_array[:, :, [i_timestep], :], gas_boxes, airborne_emissions = unstep_concentration(\n",
    "        concentration_array[:, :, [i_timestep], :],\n",
    "        gas_boxes,\n",
    "        airborne_emissions,\n",
    "        burden_per_emission_array,\n",
    "        lifetime_array,\n",
    "        alpha_lifetime=alpha_lifetime,\n",
    "        pre_industrial_concentration=pre_industrial_concentration_array,\n",
    "        timestep=1,\n",
    "        partition_fraction=partition_fraction_array,\n",
    "        natural_emissions_adjustment=natural_emissions_adjustment_array,\n",
    "    )\n",
    "    cumulative_emissions_tracker = cumulative_emissions_tracker + emissions_array[:, :, [i_timestep], :]\n",
    "cumulative_emissions_array = np.cumsum(emissions_array, axis=TIME_AXIS)"
   ]
  },
  {
   "cell_type": "code",
   "execution_count": null,
   "id": "3daa2cd0",
   "metadata": {},
   "outputs": [],
   "source": [
    "# # put back together\n",
    "emissions = {}\n",
    "for iscen, scenario in enumerate(scenarios):\n",
    "    emissions[scenario] = {}\n",
    "    for igas, gas in enumerate(gas_list):\n",
    "        emissions[scenario][gas] = emissions_array[iscen, igas, :, :]"
   ]
  },
  {
   "cell_type": "code",
   "execution_count": null,
   "id": "5400605a",
   "metadata": {},
   "outputs": [],
   "source": [
    "fig, ax = pl.subplots(6, 8, figsize=(16,16))\n",
    "for igas, gas in enumerate(gas_list):\n",
    "    iy = igas % 8\n",
    "    ix = igas // 8\n",
    "    for iscen, scenario in enumerate(scenarios):\n",
    "        ax[ix, iy].plot(np.arange(1750.5, 2501), emissions_rcmip[scenario][gas], label='RCMIP', color='r')\n",
    "        ax[ix, iy].plot(np.arange(1750.5, 2501, 1), emissions[scenario][gas], label='Back-calculated', color='k')\n",
    "    ax[ix, iy].set_title(gas)\n",
    "fig.tight_layout()"
   ]
  },
  {
   "cell_type": "code",
   "execution_count": null,
   "id": "0f4f40eb",
   "metadata": {},
   "outputs": [],
   "source": [
    "cumulative_emissions_array[0,21,:,0]"
   ]
  },
  {
   "cell_type": "code",
   "execution_count": null,
   "id": "cfd93f12",
   "metadata": {},
   "outputs": [],
   "source": []
  }
 ],
 "metadata": {
  "kernelspec": {
   "display_name": "Python 3 (ipykernel)",
   "language": "python",
   "name": "python3"
  },
  "language_info": {
   "codemirror_mode": {
    "name": "ipython",
    "version": 3
   },
   "file_extension": ".py",
   "mimetype": "text/x-python",
   "name": "python",
   "nbconvert_exporter": "python",
   "pygments_lexer": "ipython3",
   "version": "3.7.12"
  }
 },
 "nbformat": 4,
 "nbformat_minor": 5
}
