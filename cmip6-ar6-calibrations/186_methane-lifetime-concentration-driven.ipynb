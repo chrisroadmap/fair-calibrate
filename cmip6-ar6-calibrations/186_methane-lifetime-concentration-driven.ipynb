{
 "cells": [
  {
   "cell_type": "markdown",
   "id": "1d89690a",
   "metadata": {},
   "source": [
    "# Run concentration driven for methane and investigate methane lifetime"
   ]
  },
  {
   "cell_type": "code",
   "execution_count": null,
   "id": "98e58080",
   "metadata": {},
   "outputs": [],
   "source": [
    "import numpy as np\n",
    "import pandas as pd\n",
    "import matplotlib.pyplot as pl\n",
    "import time\n",
    "import scipy.stats\n",
    "\n",
    "from tqdm import tqdm\n",
    "from fair21 import SpeciesID, Category, Config, Species, RunMode, Scenario, ClimateResponse, RunConfig, FAIR\n",
    "from fair21.defaults import species_config_from_default"
   ]
  },
  {
   "cell_type": "code",
   "execution_count": null,
   "id": "53c29d46",
   "metadata": {},
   "outputs": [],
   "source": [
    "df_temp = pd.read_csv('../data/forcing/AR6_GMST.csv')\n",
    "gmst = np.zeros(751)\n",
    "gmst[100:271] = df_temp['gmst'].values\n",
    "gmst[271:351] = np.linspace(gmst[270], 4, 80)\n",
    "gmst[351:] = 4"
   ]
  },
  {
   "cell_type": "code",
   "execution_count": null,
   "id": "afcbdc21",
   "metadata": {},
   "outputs": [],
   "source": [
    "samples = 1000"
   ]
  },
  {
   "cell_type": "code",
   "execution_count": null,
   "id": "f286161f",
   "metadata": {},
   "outputs": [],
   "source": [
    "species_ids = {\n",
    "    'ch4': SpeciesID('CH4', Category.CH4, run_mode=RunMode.CONCENTRATION),\n",
    "    'co2': SpeciesID('CO2', Category.CO2, run_mode=RunMode.CONCENTRATION),\n",
    "    'n2o': SpeciesID('N2O', Category.N2O, run_mode=RunMode.CONCENTRATION),\n",
    "}"
   ]
  },
  {
   "cell_type": "code",
   "execution_count": null,
   "id": "a7d87f89",
   "metadata": {},
   "outputs": [],
   "source": [
    "concentration_species = ['CH4']\n",
    "dummy_species = ['CO2', 'N2O']\n",
    "species_to_include = concentration_species + dummy_species"
   ]
  },
  {
   "cell_type": "code",
   "execution_count": null,
   "id": "066e1e6d",
   "metadata": {},
   "outputs": [],
   "source": [
    "df_emis = pd.read_csv('../data/rcmip/rcmip-emissions-annual-means-v5-1-0.csv')\n",
    "df_conc = pd.read_csv('../data/rcmip/rcmip-concentrations-annual-means-v5-1-0.csv')"
   ]
  },
  {
   "cell_type": "code",
   "execution_count": null,
   "id": "78b43ea0",
   "metadata": {},
   "outputs": [],
   "source": [
    "emis_in = df_emis.loc[\n",
    "    (df_emis['Scenario']=='ssp370') & (df_emis['Variable'].str.endswith(\"CH4\")) & \n",
    "    (df_emis['Region']=='World'), '1750':'2500'\n",
    "].interpolate(axis=1).values.squeeze()"
   ]
  },
  {
   "cell_type": "code",
   "execution_count": null,
   "id": "5f4615e6",
   "metadata": {},
   "outputs": [],
   "source": [
    "scenarios_to_include = ['ssp370']\n",
    "scenarios = []\n",
    "\n",
    "for iscen, scenario in enumerate(scenarios_to_include):\n",
    "    list_of_species = []\n",
    "    for ispec, species in enumerate(concentration_species):\n",
    "        species_rcmip_name = species.replace(\"-\", \"\")\n",
    "        conc_in = df_conc.loc[\n",
    "            (df_conc['Scenario']==scenario) & (df_conc['Variable'].str.endswith(\"|\"+species_rcmip_name)) & \n",
    "            (df_conc['Region']=='World'), '1750':'2500'\n",
    "        ].interpolate(axis=1).values.squeeze()\n",
    "\n",
    "        list_of_species.append(Species(species_ids[species.lower()], concentration=conc_in))\n",
    "    for species in dummy_species:\n",
    "        list_of_species.append(Species(species_ids[species.lower()], concentration=np.ones(751)*species_config_from_default(species).baseline_concentration))\n",
    "        \n",
    "    scenarios.append(Scenario(scenario, list_of_species))"
   ]
  },
  {
   "cell_type": "code",
   "execution_count": null,
   "id": "d74396ec",
   "metadata": {},
   "outputs": [],
   "source": [
    "ch4_lifetime = scipy.stats.uniform.rvs(7.25, 2, size=samples, random_state=31018316)\n",
    "ch4_iirf_0 = np.ones(samples) * scipy.stats.uniform.rvs(7.25, 2, size=samples, random_state=10810610)\n",
    "ch4_iirf_temperature = scipy.stats.uniform.rvs(-0.4, 0.35, size=samples, random_state=33372001)\n",
    "ch4_iirf_airborne = scipy.stats.uniform.rvs(0.0001, 0.0005, size=samples, random_state=371210)\n",
    "ch4_baseline_concentration = scipy.stats.norm.rvs(729.2, 9.4, size=samples, random_state=121270)"
   ]
  },
  {
   "cell_type": "code",
   "execution_count": null,
   "id": "343d6449",
   "metadata": {},
   "outputs": [],
   "source": [
    "configs = []\n",
    "\n",
    "seedgen = 1876963\n",
    "for imodel in tqdm(range(samples)):\n",
    "    config_name = f\"{imodel}\"\n",
    "    climate_response = ClimateResponse()\n",
    "    seedgen = seedgen+399\n",
    "    species_config = [species_config_from_default(species) for species in species_to_include]\n",
    "    # CH4 is index 0\n",
    "    #species_config[0].iirf_0 = ch4_iirf_0[imodel]\n",
    "    species_config[0].iirf_airborne = ch4_iirf_airborne[imodel]\n",
    "    species_config[0].iirf_temperature = ch4_iirf_temperature[imodel]\n",
    "    species_config[0].lifetime = ch4_lifetime[imodel]\n",
    "    species_config[0].baseline_concentration = ch4_baseline_concentration[imodel]\n",
    "    species_config[0].natural_emissions_adjustment = 19.019783117809567\n",
    "    species_config[0].calculate_iirf0()  # needed if editing the other params\n",
    "    species_config[0].species_id = species_ids['ch4']\n",
    "    species_config[1].species_id = species_ids['co2']\n",
    "    species_config[2].species_id = species_ids['n2o']\n",
    "    configs.append(Config(config_name, climate_response, species_config))"
   ]
  },
  {
   "cell_type": "code",
   "execution_count": null,
   "id": "069231db",
   "metadata": {},
   "outputs": [],
   "source": [
    "configs[0].species_configs[0]"
   ]
  },
  {
   "cell_type": "code",
   "execution_count": null,
   "id": "c190c3cc",
   "metadata": {},
   "outputs": [],
   "source": [
    "start = time.time()\n",
    "fair = FAIR(scenarios, configs, time=np.arange(1750.5, 2501))\n",
    "fair.prescribe_temperature(gmst)\n",
    "fair.run()\n",
    "end = time.time()\n",
    "print (f\"{len(scenarios) * len(configs)} ensemble members in {end - start}s.\")"
   ]
  },
  {
   "cell_type": "code",
   "execution_count": null,
   "id": "03a5384f",
   "metadata": {},
   "outputs": [],
   "source": [
    "pl.plot(fair.concentration_array[:271,0,:,0,0]);\n",
    "pl.plot(conc_in[:271], color='k')"
   ]
  },
  {
   "cell_type": "code",
   "execution_count": null,
   "id": "98f204f7",
   "metadata": {},
   "outputs": [],
   "source": [
    "pl.plot(fair.emissions_array[:271,0,:,0,0]);\n",
    "pl.plot(emis_in[:271], color='k')"
   ]
  },
  {
   "cell_type": "code",
   "execution_count": null,
   "id": "5acb90df",
   "metadata": {},
   "outputs": [],
   "source": [
    "pl.hist(fair.emissions_array[264,0,:,0,0]);\n",
    "pl.axvline(emis_in[264], color='k')"
   ]
  },
  {
   "cell_type": "code",
   "execution_count": null,
   "id": "524c3b4a",
   "metadata": {},
   "outputs": [],
   "source": [
    "pl.plot(fair.alpha_lifetime_array[:,0,:,0,0]);"
   ]
  },
  {
   "cell_type": "code",
   "execution_count": null,
   "id": "e35f6d59",
   "metadata": {},
   "outputs": [],
   "source": [
    "pl.plot(fair.alpha_lifetime_array[:,0,:,0,0] * fair.lifetime_array[:,0,:,0,0]);"
   ]
  },
  {
   "cell_type": "code",
   "execution_count": null,
   "id": "b4c06cbf",
   "metadata": {},
   "outputs": [],
   "source": []
  }
 ],
 "metadata": {
  "kernelspec": {
   "display_name": "Python 3 (ipykernel)",
   "language": "python",
   "name": "python3"
  },
  "language_info": {
   "codemirror_mode": {
    "name": "ipython",
    "version": 3
   },
   "file_extension": ".py",
   "mimetype": "text/x-python",
   "name": "python",
   "nbconvert_exporter": "python",
   "pygments_lexer": "ipython3",
   "version": "3.7.12"
  }
 },
 "nbformat": 4,
 "nbformat_minor": 5
}
