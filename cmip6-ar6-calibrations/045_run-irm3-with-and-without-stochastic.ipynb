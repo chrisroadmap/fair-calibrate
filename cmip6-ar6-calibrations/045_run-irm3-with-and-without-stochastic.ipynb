{
 "cells": [
  {
   "cell_type": "markdown",
   "id": "7ca42a84",
   "metadata": {},
   "source": [
    "# Run the three-layer IRM and define with/without autocorrelation\n",
    "\n",
    "When running deterministically, we want to whack gamma up high (infinity would be ideal, but linear algebra error results)."
   ]
  },
  {
   "cell_type": "code",
   "execution_count": null,
   "id": "7c8fba9e",
   "metadata": {},
   "outputs": [],
   "source": [
    "import os\n",
    "\n",
    "import numpy as np\n",
    "import matplotlib.pyplot as pl\n",
    "import pandas as pd\n",
    "\n",
    "from fair21.earth_params import seconds_per_year, earth_radius\n",
    "from fair21.energy_balance_model import EnergyBalanceModel"
   ]
  },
  {
   "cell_type": "code",
   "execution_count": null,
   "id": "71709502",
   "metadata": {},
   "outputs": [],
   "source": [
    "df = pd.read_csv(\n",
    "    os.path.join(\"..\", \"data\", \"calibration\", \"4xCO2_cummins.csv\")\n",
    ")"
   ]
  },
  {
   "cell_type": "code",
   "execution_count": null,
   "id": "7c951fa1",
   "metadata": {},
   "outputs": [],
   "source": [
    "models = df['model'].unique()\n",
    "models"
   ]
  },
  {
   "cell_type": "markdown",
   "id": "df0cc11d",
   "metadata": {},
   "source": [
    "## effect of gamma on determininstic forcing"
   ]
  },
  {
   "cell_type": "code",
   "execution_count": null,
   "id": "c5e60d2c",
   "metadata": {},
   "outputs": [],
   "source": [
    "params = {}\n",
    "for model in models:\n",
    "    params[model] = {}\n",
    "    for run in df.loc[df['model']==model, 'run']:\n",
    "        condition = (df['model']==model) & (df['run']==run)\n",
    "        params[model][run] = {}\n",
    "        params[model][run]['gamma_autocorrelation'] = df.loc[condition, 'gamma'].values[0]\n",
    "        params[model][run]['ocean_heat_capacity'] = df.loc[condition, 'C1':'C3'].values.squeeze()\n",
    "        params[model][run]['ocean_heat_transfer'] = df.loc[condition, 'kappa1':'kappa3'].values.squeeze()\n",
    "        params[model][run]['deep_ocean_efficacy'] = df.loc[condition, 'epsilon'].values[0]\n",
    "        params[model][run]['sigma_eta'] = df.loc[condition, 'sigma_eta'].values[0]\n",
    "        params[model][run]['sigma_xi'] = df.loc[condition, 'sigma_xi'].values[0]\n",
    "        params[model][run]['forcing_4co2'] = df.loc[condition, 'F_4xCO2'].values[0]\n",
    "        params[model][run]['stochastic_run'] = False\n",
    "        params[model][run]['seed'] = 100"
   ]
  },
  {
   "cell_type": "code",
   "execution_count": null,
   "id": "5170dac0",
   "metadata": {},
   "outputs": [],
   "source": [
    "time = np.arange(1850, 2101)\n",
    "time.shape"
   ]
  },
  {
   "cell_type": "code",
   "execution_count": null,
   "id": "10e2eeb3",
   "metadata": {},
   "outputs": [],
   "source": [
    "df_forcing = pd.read_csv(\n",
    "    os.path.join(\"..\", \"data\", \"forcing\", \"RFMIP-ERF-tier2.csv\")\n",
    ")"
   ]
  },
  {
   "cell_type": "code",
   "execution_count": null,
   "id": "03983341",
   "metadata": {},
   "outputs": [],
   "source": [
    "giss_params = params['GISS-E2-1-G']['r1i1p1f1']\n",
    "giss_params['gamma_autocorrelation']"
   ]
  },
  {
   "cell_type": "code",
   "execution_count": null,
   "id": "1c5cb485",
   "metadata": {},
   "outputs": [],
   "source": [
    "ebm = EnergyBalanceModel(**params['GISS-E2-1-G']['r1i1p1f1'])"
   ]
  },
  {
   "cell_type": "code",
   "execution_count": null,
   "id": "1b1395d8",
   "metadata": {},
   "outputs": [],
   "source": [
    "ebm.add_forcing(forcing = df_forcing['GISS-E2-1-G TOT'].values, timestep=1)"
   ]
  },
  {
   "cell_type": "code",
   "execution_count": null,
   "id": "cd8829c4",
   "metadata": {},
   "outputs": [],
   "source": [
    "#ebm.stochastic_run"
   ]
  },
  {
   "cell_type": "code",
   "execution_count": null,
   "id": "13a3a21f",
   "metadata": {},
   "outputs": [],
   "source": [
    "ebm.run()"
   ]
  },
  {
   "cell_type": "code",
   "execution_count": null,
   "id": "71dca151",
   "metadata": {},
   "outputs": [],
   "source": [
    "temperature = {}\n",
    "forcing = {}"
   ]
  },
  {
   "cell_type": "code",
   "execution_count": null,
   "id": "d702c0e1",
   "metadata": {},
   "outputs": [],
   "source": [
    "temperature['gamma_2.89'] = ebm.temperature[:,0]\n",
    "forcing['gamma_2.89'] = ebm.stochastic_forcing"
   ]
  },
  {
   "cell_type": "code",
   "execution_count": null,
   "id": "59b708d2",
   "metadata": {},
   "outputs": [],
   "source": [
    "giss_params['gamma_autocorrelation'] = 0.01\n",
    "ebm = EnergyBalanceModel(**giss_params)\n",
    "ebm.add_forcing(forcing = df_forcing['GISS-E2-1-G TOT'].values, timestep=1)\n",
    "ebm.run()\n",
    "temperature['gamma_0.01'] = ebm.temperature[:,0]\n",
    "forcing['gamma_0.01'] = ebm.stochastic_forcing"
   ]
  },
  {
   "cell_type": "code",
   "execution_count": null,
   "id": "50fb9ba7",
   "metadata": {},
   "outputs": [],
   "source": [
    "giss_params"
   ]
  },
  {
   "cell_type": "code",
   "execution_count": null,
   "id": "90c6f8e1",
   "metadata": {},
   "outputs": [],
   "source": [
    "giss_params['gamma_autocorrelation'] = 1\n",
    "ebm = EnergyBalanceModel(**giss_params)\n",
    "ebm.add_forcing(forcing = df_forcing['GISS-E2-1-G TOT'].values, timestep=1)\n",
    "ebm.run()\n",
    "temperature['gamma_1'] = ebm.temperature[:,0]\n",
    "forcing['gamma_1'] = ebm.stochastic_forcing"
   ]
  },
  {
   "cell_type": "code",
   "execution_count": null,
   "id": "110e7753",
   "metadata": {},
   "outputs": [],
   "source": [
    "giss_params['gamma_autocorrelation'] = 10\n",
    "ebm = EnergyBalanceModel(**giss_params)\n",
    "ebm.add_forcing(forcing = df_forcing['GISS-E2-1-G TOT'].values, timestep=1)\n",
    "ebm.run()\n",
    "temperature['gamma_10'] = ebm.temperature[:,0]\n",
    "forcing['gamma_10'] = ebm.stochastic_forcing"
   ]
  },
  {
   "cell_type": "code",
   "execution_count": null,
   "id": "ef911e92",
   "metadata": {},
   "outputs": [],
   "source": [
    "giss_params['gamma_autocorrelation'] = 100\n",
    "ebm = EnergyBalanceModel(**giss_params)\n",
    "ebm.add_forcing(forcing = df_forcing['GISS-E2-1-G TOT'].values, timestep=1)\n",
    "ebm.run()\n",
    "temperature['gamma_100'] = ebm.temperature[:,0]\n",
    "forcing['gamma_100'] = ebm.stochastic_forcing"
   ]
  },
  {
   "cell_type": "code",
   "execution_count": null,
   "id": "aecbac26",
   "metadata": {},
   "outputs": [],
   "source": [
    "giss_params['gamma_autocorrelation'] = 1000\n",
    "ebm = EnergyBalanceModel(**giss_params)\n",
    "ebm.add_forcing(forcing = df_forcing['GISS-E2-1-G TOT'].values, timestep=1)\n",
    "ebm.run()\n",
    "temperature['gamma_1000'] = ebm.temperature[:,0]\n",
    "forcing['gamma_1000'] = ebm.stochastic_forcing"
   ]
  },
  {
   "cell_type": "code",
   "execution_count": null,
   "id": "8f86c799",
   "metadata": {},
   "outputs": [],
   "source": [
    "time = np.arange(1850.5, 2101)"
   ]
  },
  {
   "cell_type": "code",
   "execution_count": null,
   "id": "af887d32",
   "metadata": {},
   "outputs": [],
   "source": [
    "for gam in ['0.01', '1', '2.89', '10', '100']:\n",
    "    pl.plot(time, temperature['gamma_%s' % gam], label='gamma = %s' % gam)\n",
    "pl.ylabel('K relative to 1850')\n",
    "pl.title('GISS-E2-1-G SSP2-4.5 temperature change')\n",
    "pl.legend()"
   ]
  },
  {
   "cell_type": "code",
   "execution_count": null,
   "id": "934c94fa",
   "metadata": {},
   "outputs": [],
   "source": [
    "for gam in ['0.01', '1', '2.89', '10', '100', '1000']:\n",
    "    pl.plot(time, forcing['gamma_%s' % gam], label='gamma = %s' % gam)\n",
    "pl.ylabel('W/m2 relative to 1850')\n",
    "pl.title('GISS-E2-1-G SSP2-4.5 forcing')\n",
    "pl.legend()"
   ]
  },
  {
   "cell_type": "code",
   "execution_count": null,
   "id": "e7cc4c70",
   "metadata": {},
   "outputs": [],
   "source": [
    "for gam in ['0.01', '1', '2.89', '10', '100', '1000']:\n",
    "    pl.plot(time, temperature['gamma_%s' % gam], label='gamma = %s' % gam)\n",
    "pl.ylabel('K relative to 1850')\n",
    "pl.title('GISS-E2-1-G SSP2-4.5 temperature change')\n",
    "pl.legend()\n",
    "pl.xlim(1850,1860)\n",
    "pl.ylim(-0.05,0.05)"
   ]
  },
  {
   "cell_type": "code",
   "execution_count": null,
   "id": "6c9bb54f",
   "metadata": {},
   "outputs": [],
   "source": [
    "for gam in ['0.01', '1', '2.89', '10', '100', '1000']:\n",
    "    pl.plot(time, forcing['gamma_%s' % gam], label='gamma = %s' % gam)\n",
    "pl.plot(time+1, df_forcing['GISS-E2-1-G TOT'].values, color='k', label='RFMIP')\n",
    "pl.ylabel('W/m2 relative to 1850')\n",
    "pl.title('GISS-E2-1-G SSP2-4.5 forcing')\n",
    "pl.legend()\n",
    "pl.xlim(1850,1860)\n",
    "pl.ylim(-0.5,0.5)"
   ]
  },
  {
   "cell_type": "markdown",
   "id": "5f25c9f1",
   "metadata": {},
   "source": [
    "## determine effect on stochastic forcing"
   ]
  },
  {
   "cell_type": "code",
   "execution_count": null,
   "id": "4a88ffbc",
   "metadata": {},
   "outputs": [],
   "source": [
    "params = {}\n",
    "for model in models:\n",
    "    params[model] = {}\n",
    "    for run in df.loc[df['model']==model, 'run']:\n",
    "        condition = (df['model']==model) & (df['run']==run)\n",
    "        params[model][run] = {}\n",
    "        params[model][run]['gamma_autocorrelation'] = df.loc[condition, 'gamma'].values[0]\n",
    "        params[model][run]['ocean_heat_capacity'] = df.loc[condition, 'C1':'C3'].values.squeeze()\n",
    "        params[model][run]['ocean_heat_transfer'] = df.loc[condition, 'kappa1':'kappa3'].values.squeeze()\n",
    "        params[model][run]['deep_ocean_efficacy'] = df.loc[condition, 'epsilon'].values[0]\n",
    "        params[model][run]['sigma_eta'] = df.loc[condition, 'sigma_eta'].values[0]\n",
    "        params[model][run]['sigma_xi'] = df.loc[condition, 'sigma_xi'].values[0]\n",
    "        params[model][run]['forcing_4co2'] = df.loc[condition, 'F_4xCO2'].values[0]\n",
    "        params[model][run]['stochastic_run'] = True\n",
    "        params[model][run]['seed'] = 100"
   ]
  },
  {
   "cell_type": "code",
   "execution_count": null,
   "id": "aedc04a6",
   "metadata": {},
   "outputs": [],
   "source": [
    "time = np.arange(1850, 2101)\n",
    "time.shape"
   ]
  },
  {
   "cell_type": "code",
   "execution_count": null,
   "id": "e1840d90",
   "metadata": {},
   "outputs": [],
   "source": [
    "df_forcing = pd.read_csv(\n",
    "    os.path.join(\"..\", \"data\", \"forcing\", \"RFMIP-ERF-tier2.csv\")\n",
    ")"
   ]
  },
  {
   "cell_type": "code",
   "execution_count": null,
   "id": "adc8b25b",
   "metadata": {},
   "outputs": [],
   "source": [
    "giss_params = params['GISS-E2-1-G']['r1i1p1f1']\n",
    "giss_params['gamma_autocorrelation']"
   ]
  },
  {
   "cell_type": "code",
   "execution_count": null,
   "id": "b1b1f920",
   "metadata": {},
   "outputs": [],
   "source": [
    "ebm = EnergyBalanceModel(**params['GISS-E2-1-G']['r1i1p1f1'])"
   ]
  },
  {
   "cell_type": "code",
   "execution_count": null,
   "id": "48d6a07a",
   "metadata": {},
   "outputs": [],
   "source": [
    "ebm.add_forcing(forcing = df_forcing['GISS-E2-1-G TOT'].values, timestep=1)"
   ]
  },
  {
   "cell_type": "code",
   "execution_count": null,
   "id": "aba75524",
   "metadata": {},
   "outputs": [],
   "source": [
    "#ebm.stochastic_run"
   ]
  },
  {
   "cell_type": "code",
   "execution_count": null,
   "id": "dfa720a9",
   "metadata": {},
   "outputs": [],
   "source": [
    "ebm.run()"
   ]
  },
  {
   "cell_type": "code",
   "execution_count": null,
   "id": "03c83c74",
   "metadata": {},
   "outputs": [],
   "source": [
    "temperature = {}\n",
    "forcing = {}"
   ]
  },
  {
   "cell_type": "code",
   "execution_count": null,
   "id": "33deb8c0",
   "metadata": {},
   "outputs": [],
   "source": [
    "temperature['gamma_2.89'] = ebm.temperature[:,0]\n",
    "forcing['gamma_2.89'] = ebm.stochastic_forcing"
   ]
  },
  {
   "cell_type": "code",
   "execution_count": null,
   "id": "0aacce75",
   "metadata": {},
   "outputs": [],
   "source": [
    "giss_params['gamma_autocorrelation'] = 0.01\n",
    "ebm = EnergyBalanceModel(**giss_params)\n",
    "ebm.add_forcing(forcing = df_forcing['GISS-E2-1-G TOT'].values, timestep=1)\n",
    "ebm.run()\n",
    "temperature['gamma_0.01'] = ebm.temperature[:,0]\n",
    "forcing['gamma_0.01'] = ebm.stochastic_forcing"
   ]
  },
  {
   "cell_type": "code",
   "execution_count": null,
   "id": "7e5af59d",
   "metadata": {},
   "outputs": [],
   "source": [
    "giss_params"
   ]
  },
  {
   "cell_type": "code",
   "execution_count": null,
   "id": "26ee634b",
   "metadata": {},
   "outputs": [],
   "source": [
    "giss_params['gamma_autocorrelation'] = 1\n",
    "ebm = EnergyBalanceModel(**giss_params)\n",
    "ebm.add_forcing(forcing = df_forcing['GISS-E2-1-G TOT'].values, timestep=1)\n",
    "ebm.run()\n",
    "temperature['gamma_1'] = ebm.temperature[:,0]\n",
    "forcing['gamma_1'] = ebm.stochastic_forcing"
   ]
  },
  {
   "cell_type": "code",
   "execution_count": null,
   "id": "15de975e",
   "metadata": {},
   "outputs": [],
   "source": [
    "giss_params['gamma_autocorrelation'] = 10\n",
    "ebm = EnergyBalanceModel(**giss_params)\n",
    "ebm.add_forcing(forcing = df_forcing['GISS-E2-1-G TOT'].values, timestep=1)\n",
    "ebm.run()\n",
    "temperature['gamma_10'] = ebm.temperature[:,0]\n",
    "forcing['gamma_10'] = ebm.stochastic_forcing"
   ]
  },
  {
   "cell_type": "code",
   "execution_count": null,
   "id": "1d1e078a",
   "metadata": {},
   "outputs": [],
   "source": [
    "giss_params['gamma_autocorrelation'] = 100\n",
    "ebm = EnergyBalanceModel(**giss_params)\n",
    "ebm.add_forcing(forcing = df_forcing['GISS-E2-1-G TOT'].values, timestep=1)\n",
    "ebm.run()\n",
    "temperature['gamma_100'] = ebm.temperature[:,0]\n",
    "forcing['gamma_100'] = ebm.stochastic_forcing"
   ]
  },
  {
   "cell_type": "code",
   "execution_count": null,
   "id": "7c5450e4",
   "metadata": {},
   "outputs": [],
   "source": [
    "# giss_params['gamma_autocorrelation'] = 1000\n",
    "# ebm = EnergyBalanceModel(**giss_params)\n",
    "# ebm.add_forcing(forcing = df_forcing['GISS-E2-1-G TOT'].values, timestep=1)\n",
    "# ebm.run()\n",
    "# temperature['gamma_1000'] = ebm.temperature[:,0]\n",
    "# forcing['gamma_1000'] = ebm.stochastic_forcing"
   ]
  },
  {
   "cell_type": "code",
   "execution_count": null,
   "id": "00362a2f",
   "metadata": {},
   "outputs": [],
   "source": [
    "time = np.arange(1850.5, 2101)"
   ]
  },
  {
   "cell_type": "code",
   "execution_count": null,
   "id": "71d76828",
   "metadata": {},
   "outputs": [],
   "source": [
    "for gam in ['0.01', '1', '2.89', '10']:\n",
    "    pl.plot(time, temperature['gamma_%s' % gam], label='gamma = %s' % gam)\n",
    "pl.ylabel('K relative to 1850')\n",
    "pl.title('GISS-E2-1-G SSP2-4.5 temperature change')\n",
    "pl.legend()"
   ]
  },
  {
   "cell_type": "code",
   "execution_count": null,
   "id": "c0b521dc",
   "metadata": {},
   "outputs": [],
   "source": [
    "for gam in ['0.01', '1', '2.89', '10']:\n",
    "    pl.plot(time, forcing['gamma_%s' % gam], label='gamma = %s' % gam)\n",
    "pl.ylabel('W/m2 relative to 1850')\n",
    "pl.title('GISS-E2-1-G SSP2-4.5 forcing')\n",
    "pl.legend()"
   ]
  },
  {
   "cell_type": "code",
   "execution_count": null,
   "id": "b5234c51",
   "metadata": {},
   "outputs": [],
   "source": [
    "for gam in ['0.01', '1', '2.89', '10']:\n",
    "    pl.plot(time, temperature['gamma_%s' % gam], label='gamma = %s' % gam)\n",
    "pl.ylabel('K relative to 1850')\n",
    "pl.title('GISS-E2-1-G SSP2-4.5 temperature change')\n",
    "pl.legend()\n",
    "pl.xlim(1850,1860)\n",
    "pl.ylim(-0.05,0.05)"
   ]
  },
  {
   "cell_type": "code",
   "execution_count": null,
   "id": "2da69dc4",
   "metadata": {},
   "outputs": [],
   "source": [
    "for gam in ['0.01', '1', '2.89', '10']:\n",
    "    pl.plot(time, forcing['gamma_%s' % gam], label='gamma = %s' % gam)\n",
    "pl.plot(time+1, df_forcing['GISS-E2-1-G TOT'].values, color='k', label='RFMIP')\n",
    "pl.ylabel('W/m2 relative to 1850')\n",
    "pl.title('GISS-E2-1-G SSP2-4.5 forcing')\n",
    "pl.legend()\n",
    "pl.xlim(1850,1860)\n",
    "pl.ylim(-0.5,0.5)"
   ]
  },
  {
   "cell_type": "code",
   "execution_count": null,
   "id": "12479646",
   "metadata": {},
   "outputs": [],
   "source": []
  }
 ],
 "metadata": {
  "kernelspec": {
   "display_name": "Python 3 (ipykernel)",
   "language": "python",
   "name": "python3"
  },
  "language_info": {
   "codemirror_mode": {
    "name": "ipython",
    "version": 3
   },
   "file_extension": ".py",
   "mimetype": "text/x-python",
   "name": "python",
   "nbconvert_exporter": "python",
   "pygments_lexer": "ipython3",
   "version": "3.7.12"
  }
 },
 "nbformat": 4,
 "nbformat_minor": 5
}
