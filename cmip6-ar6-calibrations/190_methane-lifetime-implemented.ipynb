{
 "cells": [
  {
   "cell_type": "markdown",
   "id": "dedc9bed",
   "metadata": {},
   "source": [
    "# New methane lifetime treatment within FaIR\n",
    "\n",
    "Use the option `ch4_method = thornhill2021`.\n",
    "\n",
    "We should try this first with concentrations and then with emissions, both with prescribed temperatures.\n",
    "\n",
    "Then in another notebook, we will try a full emissions-driven run with freely evolving temperatures."
   ]
  },
  {
   "cell_type": "code",
   "execution_count": null,
   "id": "98e58080",
   "metadata": {},
   "outputs": [],
   "source": [
    "import numpy as np\n",
    "import pandas as pd\n",
    "import matplotlib.pyplot as pl\n",
    "import time\n",
    "import scipy.stats\n",
    "from tqdm import tqdm\n",
    "\n",
    "from fair import FAIR\n",
    "from fair.interface import fill, initialise\n",
    "from fair.io import read_properties"
   ]
  },
  {
   "cell_type": "code",
   "execution_count": null,
   "id": "fb7638f0",
   "metadata": {},
   "outputs": [],
   "source": [
    "%load_ext autoreload"
   ]
  },
  {
   "cell_type": "code",
   "execution_count": null,
   "id": "0c96e43b",
   "metadata": {},
   "outputs": [],
   "source": [
    "%autoreload 2"
   ]
  },
  {
   "cell_type": "code",
   "execution_count": null,
   "id": "afcbdc21",
   "metadata": {},
   "outputs": [],
   "source": [
    "samples = 1"
   ]
  },
  {
   "cell_type": "code",
   "execution_count": null,
   "id": "7d51b9c2",
   "metadata": {},
   "outputs": [],
   "source": [
    "# we focus on a stylised SSP3-7.0 pathway has has historical warming to 2020 and a straight line up to 4C at 2100.\n",
    "# note that this will not be correct for other SSPs, but temperature feedback effect on methane lifetime is\n",
    "# relatively small.\n",
    "\n",
    "df_temp = pd.read_csv('../data/forcing/AR6_GMST.csv')\n",
    "gmst = np.zeros(351)\n",
    "gmst[100:271] = df_temp['gmst'].values\n",
    "gmst[271:351] = np.linspace(gmst[270], 4, 80)"
   ]
  },
  {
   "cell_type": "code",
   "execution_count": null,
   "id": "f286161f",
   "metadata": {},
   "outputs": [],
   "source": [
    "species = ['CH4', 'N2O', 'Equivalent effective stratospheric chlorine', 'NOx', 'VOC',\n",
    "          'CFC-11', 'CFC-12', 'CFC-113', 'CFC-114', 'CFC-115', 'HCFC-22', 'HCFC-141b',\n",
    "          'HCFC-142b', 'CCl4', 'CHCl3', 'CH2Cl2', 'CH3Cl', 'CH3CCl3', 'CH3Br',\n",
    "          'Halon-1211', 'Halon-1301', 'Halon-2402']"
   ]
  },
  {
   "cell_type": "code",
   "execution_count": null,
   "id": "a7d87f89",
   "metadata": {},
   "outputs": [],
   "source": [
    "species, properties = read_properties(species=species)"
   ]
  },
  {
   "cell_type": "code",
   "execution_count": null,
   "id": "711e337b",
   "metadata": {},
   "outputs": [],
   "source": [
    "properties"
   ]
  },
  {
   "cell_type": "code",
   "execution_count": null,
   "id": "204d66f4",
   "metadata": {},
   "outputs": [],
   "source": [
    "scenarios_to_include = ['ssp119', 'ssp126', 'ssp245', 'ssp370', 'ssp434', 'ssp460', 'ssp534-over', 'ssp585']"
   ]
  },
  {
   "cell_type": "code",
   "execution_count": null,
   "id": "066e1e6d",
   "metadata": {},
   "outputs": [],
   "source": [
    "# for benchmarking FaIR calculated concentrations\n",
    "df_conc = pd.read_csv('../data/rcmip/rcmip-concentrations-annual-means-v5-1-0.csv')"
   ]
  },
  {
   "cell_type": "code",
   "execution_count": null,
   "id": "79001fef",
   "metadata": {},
   "outputs": [],
   "source": [
    "conc_ch4 = {}\n",
    "for scenario in scenarios_to_include:\n",
    "    conc_ch4[scenario] = df_conc.loc[\n",
    "        (df_conc['Scenario']==scenario) & (df_conc['Variable'].str.endswith(\"|CH4\")) & \n",
    "        (df_conc['Region']=='World'), '1750':'2100'\n",
    "    ].interpolate(axis=1).values.squeeze()\n",
    "conc_ch4"
   ]
  },
  {
   "cell_type": "code",
   "execution_count": null,
   "id": "dc297dcc",
   "metadata": {},
   "outputs": [],
   "source": [
    "f=FAIR()\n",
    "f.define_time(1750, 2100, 1)\n",
    "f.define_scenarios(scenarios_to_include)\n",
    "f.define_species(species, properties)\n",
    "f.define_configs(list(range(samples)))\n",
    "f.temperature_prescribed=True\n",
    "f.ch4_method='thornhill2021'\n",
    "f.ghg_method='leach2021'"
   ]
  },
  {
   "cell_type": "code",
   "execution_count": null,
   "id": "179b738d",
   "metadata": {},
   "outputs": [],
   "source": [
    "f.allocate()"
   ]
  },
  {
   "cell_type": "code",
   "execution_count": null,
   "id": "c9d98968",
   "metadata": {},
   "outputs": [],
   "source": [
    "fill(f.temperature, gmst[:, None, None], layer=0)"
   ]
  },
  {
   "cell_type": "code",
   "execution_count": null,
   "id": "84aa9f8d",
   "metadata": {},
   "outputs": [],
   "source": [
    "f.fill_from_rcmip()\n",
    "f.fill_species_configs()"
   ]
  },
  {
   "cell_type": "code",
   "execution_count": null,
   "id": "a5cb3768",
   "metadata": {},
   "outputs": [],
   "source": [
    "fill(f.species_configs['unperturbed_lifetime'], 10.4198121, specie='CH4')\n",
    "fill(f.species_configs['baseline_emissions'], 19.019783117809567, specie='CH4')\n",
    "fill(f.species_configs['baseline_emissions'], 0.08602230754, specie='N2O')"
   ]
  },
  {
   "cell_type": "code",
   "execution_count": null,
   "id": "dbe0d64b",
   "metadata": {},
   "outputs": [],
   "source": [
    "initialise(f.forcing, 0)\n",
    "initialise(f.cumulative_emissions, 0)\n",
    "initialise(f.airborne_emissions, 0)\n",
    "initialise(f.concentration, f.species_configs['baseline_concentration'])"
   ]
  },
  {
   "cell_type": "code",
   "execution_count": null,
   "id": "c190c3cc",
   "metadata": {},
   "outputs": [],
   "source": [
    "f.run()"
   ]
  },
  {
   "cell_type": "code",
   "execution_count": null,
   "id": "ca616973",
   "metadata": {},
   "outputs": [],
   "source": [
    "f.concentration.loc[dict(scenario='ssp370', specie='CH4')]"
   ]
  },
  {
   "cell_type": "code",
   "execution_count": null,
   "id": "03a5384f",
   "metadata": {},
   "outputs": [],
   "source": [
    "pl.plot(f.timebounds, f.concentration.loc[dict(specie='CH4', config=0)], label=scenarios_to_include)\n",
    "pl.plot(f.timebounds, conc_ch4['ssp370'][:351], color='k', label='CMIP6 hist+SSP3-7.0')\n",
    "pl.legend()"
   ]
  },
  {
   "cell_type": "code",
   "execution_count": null,
   "id": "524c3b4a",
   "metadata": {},
   "outputs": [],
   "source": [
    "pl.plot(f.alpha_lifetime[:,3,:,0]);"
   ]
  },
  {
   "cell_type": "code",
   "execution_count": null,
   "id": "e35f6d59",
   "metadata": {},
   "outputs": [],
   "source": [
    "pl.plot(f.alpha_lifetime[:,3,:,0] * f.species_configs['unperturbed_lifetime'][0,0,0]);"
   ]
  },
  {
   "cell_type": "code",
   "execution_count": null,
   "id": "3a6db88c",
   "metadata": {},
   "outputs": [],
   "source": [
    "pl.plot(f.temperature[:,3,:,0]);"
   ]
  }
 ],
 "metadata": {
  "kernelspec": {
   "display_name": "Python 3 (ipykernel)",
   "language": "python",
   "name": "python3"
  },
  "language_info": {
   "codemirror_mode": {
    "name": "ipython",
    "version": 3
   },
   "file_extension": ".py",
   "mimetype": "text/x-python",
   "name": "python",
   "nbconvert_exporter": "python",
   "pygments_lexer": "ipython3",
   "version": "3.10.6"
  }
 },
 "nbformat": 4,
 "nbformat_minor": 5
}
