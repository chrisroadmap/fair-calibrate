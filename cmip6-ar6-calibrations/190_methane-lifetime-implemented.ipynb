{
 "cells": [
  {
   "cell_type": "markdown",
   "id": "dedc9bed",
   "metadata": {},
   "source": [
    "# New methane lifetime treatment within FaIR\n",
    "\n",
    "Use the option `RunMode.CH4LifetimeMethod = CH4LifetimeMethod.AERCHEMMIP`\n",
    "\n",
    "We should try this first with concentrations and then with emissions, both with prescribed temperatures.\n",
    "\n",
    "Then in another notebook, we will try a full emissions-driven run with freely evolving temperatures."
   ]
  },
  {
   "cell_type": "code",
   "execution_count": null,
   "id": "98e58080",
   "metadata": {},
   "outputs": [],
   "source": [
    "import numpy as np\n",
    "import pandas as pd\n",
    "import matplotlib.pyplot as pl\n",
    "import time\n",
    "import scipy.stats\n",
    "\n",
    "from tqdm import tqdm\n",
    "from fair21 import SpeciesID, Category, Config, Species, RunMode, Scenario, ClimateResponse, RunConfig, CH4LifetimeMethod, FAIR\n",
    "from fair21.defaults import species_config_from_default"
   ]
  },
  {
   "cell_type": "code",
   "execution_count": null,
   "id": "afcbdc21",
   "metadata": {},
   "outputs": [],
   "source": [
    "samples = 25"
   ]
  },
  {
   "cell_type": "code",
   "execution_count": null,
   "id": "7d51b9c2",
   "metadata": {},
   "outputs": [],
   "source": [
    "# note that this will not be correct for other SSPs\n",
    "\n",
    "df_temp = pd.read_csv('../data/forcing/AR6_GMST.csv')\n",
    "gmst = np.zeros(751)\n",
    "gmst[100:271] = df_temp['gmst'].values\n",
    "gmst[271:351] = np.linspace(gmst[270], 4, 80)\n",
    "gmst[351:] = 4"
   ]
  },
  {
   "cell_type": "code",
   "execution_count": null,
   "id": "f286161f",
   "metadata": {},
   "outputs": [],
   "source": [
    "# TODO: change the SLCF_OZONE_PRECURSOR label to something more general; REACTIVE_GAS?\n",
    "\n",
    "species_ids = {\n",
    "    'CH4': SpeciesID('CH4', Category.CH4, run_mode=RunMode.EMISSIONS),\n",
    "    'CO2': SpeciesID('CO2', Category.CO2, run_mode=RunMode.CONCENTRATION),\n",
    "    'N2O': SpeciesID('N2O', Category.N2O, run_mode=RunMode.CONCENTRATION),\n",
    "    'HFC-125': SpeciesID('HFC-125', Category.F_GAS, run_mode=RunMode.CONCENTRATION),\n",
    "    'HFC-134a': SpeciesID('HFC-134a', Category.F_GAS, run_mode=RunMode.CONCENTRATION),\n",
    "    'HFC-143a': SpeciesID('HFC-143a', Category.F_GAS, run_mode=RunMode.CONCENTRATION),\n",
    "    'HFC-152a': SpeciesID('HFC-152a', Category.F_GAS, run_mode=RunMode.CONCENTRATION),\n",
    "    'HFC-227ea': SpeciesID('HFC-227ea', Category.F_GAS, run_mode=RunMode.CONCENTRATION),\n",
    "    'HFC-23': SpeciesID('HFC-23', Category.F_GAS, run_mode=RunMode.CONCENTRATION),\n",
    "    'HFC-236fa': SpeciesID('HFC-236fa', Category.F_GAS, run_mode=RunMode.CONCENTRATION),\n",
    "    'HFC-245fa': SpeciesID('HFC-245fa', Category.F_GAS, run_mode=RunMode.CONCENTRATION),\n",
    "    'HFC-32': SpeciesID('HFC-32', Category.F_GAS, run_mode=RunMode.CONCENTRATION),\n",
    "    'HFC-365mfc': SpeciesID('HFC-365mfc', Category.F_GAS, run_mode=RunMode.CONCENTRATION),\n",
    "    'HFC-4310mee': SpeciesID('HFC-4310mee', Category.F_GAS, run_mode=RunMode.CONCENTRATION),\n",
    "    'VOC': SpeciesID('VOC', Category.SLCF_OZONE_PRECURSOR),\n",
    "    'NOx': SpeciesID('NOx', Category.SLCF_OZONE_PRECURSOR),\n",
    "    'CO': SpeciesID('CO', Category.SLCF_OZONE_PRECURSOR),\n",
    "}"
   ]
  },
  {
   "cell_type": "code",
   "execution_count": null,
   "id": "a7d87f89",
   "metadata": {},
   "outputs": [],
   "source": [
    "concentration_species = list(species_ids.keys())\n",
    "emitted_species = ['CH4', 'VOC', 'NOx', 'CO']\n",
    "for species in emitted_species:\n",
    "    concentration_species.remove(species)\n",
    "species_to_include = emitted_species + concentration_species\n",
    "species_to_include"
   ]
  },
  {
   "cell_type": "code",
   "execution_count": null,
   "id": "204d66f4",
   "metadata": {},
   "outputs": [],
   "source": [
    "scenarios_to_include = ['ssp119', 'ssp126', 'ssp245', 'ssp370', 'ssp434', 'ssp460', 'ssp534-over', 'ssp585']"
   ]
  },
  {
   "cell_type": "code",
   "execution_count": null,
   "id": "066e1e6d",
   "metadata": {},
   "outputs": [],
   "source": [
    "df_emis = pd.read_csv('../data/rcmip/rcmip-emissions-annual-means-v5-1-0.csv')\n",
    "df_conc = pd.read_csv('../data/rcmip/rcmip-concentrations-annual-means-v5-1-0.csv')"
   ]
  },
  {
   "cell_type": "code",
   "execution_count": null,
   "id": "78b43ea0",
   "metadata": {},
   "outputs": [],
   "source": [
    "scenarios = []\n",
    "\n",
    "for iscen, scenario in enumerate(scenarios_to_include):\n",
    "    list_of_species = []\n",
    "    for ispec, species in enumerate(emitted_species):\n",
    "        species_rcmip_name = species.replace(\"-\", \"\")\n",
    "        emis_in = df_emis.loc[\n",
    "            (df_emis['Scenario']==scenario) & (df_emis['Variable'].str.endswith(\"|\"+species_rcmip_name)) & \n",
    "            (df_emis['Region']=='World'), '1750':'2500'\n",
    "        ].interpolate(axis=1).values.squeeze()\n",
    "        list_of_species.append(Species(species_ids[species], emissions=emis_in))\n",
    "    \n",
    "    for ispec, species in enumerate(concentration_species):\n",
    "        species_rcmip_name = species.replace(\"-\", \"\")\n",
    "        conc_in = df_conc.loc[\n",
    "            (df_conc['Scenario']==scenario) & (df_conc['Variable'].str.endswith(\"|\"+species_rcmip_name)) & \n",
    "            (df_conc['Region']=='World'), '1750':'2500'\n",
    "        ].interpolate(axis=1).values.squeeze()\n",
    "        list_of_species.append(Species(species_ids[species], concentration=conc_in))\n",
    "        \n",
    "    scenarios.append(Scenario(scenario, list_of_species))"
   ]
  },
  {
   "cell_type": "code",
   "execution_count": null,
   "id": "79001fef",
   "metadata": {},
   "outputs": [],
   "source": [
    "conc_ch4 = {}\n",
    "for scenario in scenarios_to_include:\n",
    "    conc_ch4[scenario] = df_conc.loc[\n",
    "        (df_conc['Scenario']==scenario) & (df_conc['Variable'].str.endswith(\"|CH4\")) & \n",
    "        (df_conc['Region']=='World'), '1750':'2500'\n",
    "    ].interpolate(axis=1).values.squeeze()\n",
    "conc_ch4"
   ]
  },
  {
   "cell_type": "code",
   "execution_count": null,
   "id": "c583bbe6",
   "metadata": {},
   "outputs": [],
   "source": [
    "list_of_species"
   ]
  },
  {
   "cell_type": "code",
   "execution_count": null,
   "id": "d74396ec",
   "metadata": {},
   "outputs": [],
   "source": [
    "#ch4_lifetime = np.ones(samples) * scipy.stats.uniform.rvs(7.25, 2, size=samples, random_state=31018316)\n",
    "#ch4_iirf_0 = np.ones(samples) * scipy.stats.uniform.rvs(7.25, 2, size=samples, random_state=10810610)\n",
    "#ch4_iirf_temperature = np.ones(samples) * scipy.stats.uniform.rvs(-0.4, 0.35, size=samples, random_state=33372001)\n",
    "#ch4_iirf_airborne = np.ones(samples) * scipy.stats.uniform.rvs(0.0001, 0.0005, size=samples, random_state=371210)\n",
    "#ch4_baseline_concentration = scipy.stats.norm.rvs(729.2, 9.4, size=samples, random_state=121270)\n",
    "\n",
    "ch4_lifetime = np.ones(samples) * 10.8537568 * 0.9776656032699657\n",
    "ch4_soil_lifetime = np.ones(samples) * 185"
   ]
  },
  {
   "cell_type": "code",
   "execution_count": null,
   "id": "25df3c4b",
   "metadata": {},
   "outputs": [],
   "source": [
    "len(species_to_include)"
   ]
  },
  {
   "cell_type": "code",
   "execution_count": null,
   "id": "343d6449",
   "metadata": {},
   "outputs": [],
   "source": [
    "configs = []\n",
    "\n",
    "seedgen = 1876963\n",
    "for imodel in tqdm(range(samples)):\n",
    "    config_name = f\"{imodel}\"\n",
    "    climate_response = ClimateResponse()\n",
    "    seedgen = seedgen+399\n",
    "    species_config = [species_config_from_default(species) for species in species_to_include]\n",
    "    # CH4 is index 0\n",
    "    #species_config[0].iirf_0 = ch4_iirf_0[imodel]\n",
    "    #species_config[0].iirf_airborne = ch4_iirf_airborne[imodel]\n",
    "    #species_config[0].iirf_temperature = ch4_iirf_temperature[imodel]\n",
    "    species_config[0].lifetime = ch4_lifetime[imodel]\n",
    "    #species_config[0].baseline_concentration = ch4_baseline_concentration[imodel]\n",
    "    species_config[0].natural_emissions_adjustment = 19.019783117809567\n",
    "    species_config[0].soil_lifetime = ch4_soil_lifetime[imodel]\n",
    "    #species_config[0].calculate_iirf0()  # needed if editing the other params\n",
    "    #species_config[1].species_id = species_ids['co2']\n",
    "    #species_config[2].species_id = species_ids['n2o']\n",
    "    for isid, species_id in enumerate(species_to_include):\n",
    "        species_config[isid].species_id = species_ids[species_id]\n",
    "    \n",
    "    configs.append(Config(config_name, climate_response, species_config))"
   ]
  },
  {
   "cell_type": "code",
   "execution_count": null,
   "id": "069231db",
   "metadata": {},
   "outputs": [],
   "source": [
    "configs[1].species_configs[2]"
   ]
  },
  {
   "cell_type": "code",
   "execution_count": null,
   "id": "6d3d2938",
   "metadata": {},
   "outputs": [],
   "source": [
    "# default\n",
    "RunConfig()"
   ]
  },
  {
   "cell_type": "code",
   "execution_count": null,
   "id": "453042dd",
   "metadata": {},
   "outputs": [],
   "source": [
    "# modify\n",
    "run_config = RunConfig(ch4_lifetime_method=CH4LifetimeMethod.AERCHEMMIP)\n",
    "run_config"
   ]
  },
  {
   "cell_type": "code",
   "execution_count": null,
   "id": "c190c3cc",
   "metadata": {},
   "outputs": [],
   "source": [
    "start = time.time()\n",
    "fair = FAIR(scenarios, configs, timestep=1, run_config=run_config)\n",
    "fair.prescribe_temperature(gmst)\n",
    "fair.run()\n",
    "end = time.time()\n",
    "print (f\"{len(scenarios) * len(configs)} ensemble members in {end - start}s.\")"
   ]
  },
  {
   "cell_type": "code",
   "execution_count": null,
   "id": "ca616973",
   "metadata": {},
   "outputs": [],
   "source": [
    "fair.concentration_array[:,0,0,0,0]"
   ]
  },
  {
   "cell_type": "code",
   "execution_count": null,
   "id": "03a5384f",
   "metadata": {},
   "outputs": [],
   "source": [
    "fig, ax = pl.subplots(2, 4, figsize=(16,9))\n",
    "for i in range(8):\n",
    "    ax[i//4, i%4].plot(fair.concentration_array[:,i,0,0,0]);\n",
    "    ax[i//4, i%4].plot(conc_ch4[scenarios_to_include[i]][:], color='k')\n",
    "    ax[i//4, i%4].set_title(scenarios_to_include[i])"
   ]
  },
  {
   "cell_type": "code",
   "execution_count": null,
   "id": "98f204f7",
   "metadata": {},
   "outputs": [],
   "source": [
    "pl.plot(fair.emissions_array[:271,0,0,0,0]);"
   ]
  },
  {
   "cell_type": "code",
   "execution_count": null,
   "id": "524c3b4a",
   "metadata": {},
   "outputs": [],
   "source": [
    "pl.plot(fair.alpha_lifetime_array[:,0,:,0,0]);"
   ]
  },
  {
   "cell_type": "code",
   "execution_count": null,
   "id": "e35f6d59",
   "metadata": {},
   "outputs": [],
   "source": [
    "pl.plot(fair.alpha_lifetime_array[:,:,0,0,0] * fair.lifetime_array[:,:,0,0,0]);"
   ]
  },
  {
   "cell_type": "code",
   "execution_count": null,
   "id": "3a6db88c",
   "metadata": {},
   "outputs": [],
   "source": [
    "pl.plot(fair.temperature[:,0,:,0,0]);"
   ]
  },
  {
   "cell_type": "code",
   "execution_count": null,
   "id": "b4c06cbf",
   "metadata": {},
   "outputs": [],
   "source": [
    "pl.plot(fair.alpha_lifetime_array[:,0,:,0,0]);"
   ]
  },
  {
   "cell_type": "code",
   "execution_count": null,
   "id": "8ba0f5d0",
   "metadata": {},
   "outputs": [],
   "source": [
    "fair.alpha_lifetime_array.shape"
   ]
  },
  {
   "cell_type": "code",
   "execution_count": null,
   "id": "e7a37fe2",
   "metadata": {},
   "outputs": [],
   "source": [
    "fair.lifetime_array.shape"
   ]
  }
 ],
 "metadata": {
  "kernelspec": {
   "display_name": "Python 3 (ipykernel)",
   "language": "python",
   "name": "python3"
  },
  "language_info": {
   "codemirror_mode": {
    "name": "ipython",
    "version": 3
   },
   "file_extension": ".py",
   "mimetype": "text/x-python",
   "name": "python",
   "nbconvert_exporter": "python",
   "pygments_lexer": "ipython3",
   "version": "3.7.12"
  }
 },
 "nbformat": 4,
 "nbformat_minor": 5
}
