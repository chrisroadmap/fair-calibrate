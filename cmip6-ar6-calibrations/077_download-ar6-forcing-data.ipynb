{
 "cells": [
  {
   "cell_type": "markdown",
   "id": "3bd1fb58",
   "metadata": {},
   "source": [
    "# Download CMIP6, AR6 and HolVol (last 11500 years volcanic) forcing data"
   ]
  },
  {
   "cell_type": "code",
   "execution_count": null,
   "id": "22079d84",
   "metadata": {},
   "outputs": [],
   "source": [
    "from climateforcing.utils import mkdir_p, check_and_download\n",
    "import os"
   ]
  },
  {
   "cell_type": "code",
   "execution_count": null,
   "id": "87a3bf82",
   "metadata": {},
   "outputs": [],
   "source": [
    "# directory in which to extract data\n",
    "DATA_DIR = os.path.join(\"..\", \"data\", \"forcing\")\n",
    "mkdir_p(DATA_DIR)"
   ]
  },
  {
   "cell_type": "code",
   "execution_count": null,
   "id": "9617d4f0",
   "metadata": {},
   "outputs": [],
   "source": [
    "check_and_download(\n",
    "    url=\"https://zenodo.org/record/5705391/files/table_A3.3_historical_ERF_1750-2019_best_estimate.csv\",\n",
    "    filepath = os.path.join(DATA_DIR, \"table_A3.3_historical_ERF_1750-2019_best_estimate.csv\")\n",
    ")"
   ]
  },
  {
   "cell_type": "code",
   "execution_count": null,
   "id": "ead396e8",
   "metadata": {},
   "outputs": [],
   "source": [
    "check_and_download(\n",
    "    url=\"https://download.pangaea.de/dataset/928646/files/HolVol_SAOD_-9500_1900_v1.0.nc\",\n",
    "    filepath = os.path.join(DATA_DIR, \"HolVol_SAOD_-9500_1900_v1.0.nc\")\n",
    ")"
   ]
  },
  {
   "cell_type": "code",
   "execution_count": null,
   "id": "168b9251",
   "metadata": {},
   "outputs": [],
   "source": [
    "check_and_download(\n",
    "    filepath = os.path.join(DATA_DIR,'CMIP_1850_2014_extinction_550nm_strat_only_v3.nc'),\n",
    "    url = 'ftp://iacftp.ethz.ch/pub_read/luo/CMIP6/CMIP_1850_2014_extinction_550nm_strat_only_v3.nc'\n",
    ")"
   ]
  },
  {
   "cell_type": "code",
   "execution_count": null,
   "id": "5462895e",
   "metadata": {},
   "outputs": [],
   "source": []
  }
 ],
 "metadata": {
  "kernelspec": {
   "display_name": "Python 3 (ipykernel)",
   "language": "python",
   "name": "python3"
  },
  "language_info": {
   "codemirror_mode": {
    "name": "ipython",
    "version": 3
   },
   "file_extension": ".py",
   "mimetype": "text/x-python",
   "name": "python",
   "nbconvert_exporter": "python",
   "pygments_lexer": "ipython3",
   "version": "3.7.12"
  }
 },
 "nbformat": 4,
 "nbformat_minor": 5
}
