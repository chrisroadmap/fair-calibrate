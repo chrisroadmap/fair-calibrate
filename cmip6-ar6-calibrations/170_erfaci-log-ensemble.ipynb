{
 "cells": [
  {
   "cell_type": "markdown",
   "id": "50b5ae0b",
   "metadata": {},
   "source": [
    "# Investigate a pure log fit to aerosol cloud interactions\n",
    "\n",
    "\n",
    "\\begin{equation}\n",
    "F = \\beta \\log \\left( 1 + \\sum_{i} n_i A_i \\right)\n",
    "\\end{equation}\n",
    "\n",
    "\n",
    "where \n",
    "- $A_i$ is the atmospheric input (concentrations or emissions of a specie),\n",
    "- $\\beta_i$ is a scale factor,\n",
    "- $n_i$ dictates how much emissions of a specie contributes to CDNC."
   ]
  },
  {
   "cell_type": "code",
   "execution_count": null,
   "id": "38ec8ef5",
   "metadata": {},
   "outputs": [],
   "source": [
    "import pandas as pd\n",
    "import numpy as np\n",
    "import matplotlib.pyplot as pl\n",
    "import json\n",
    "import scipy.stats\n",
    "import pooch\n",
    "import os\n",
    "import glob\n",
    "from tqdm.autonotebook import tqdm\n",
    "from scipy.optimize import curve_fit"
   ]
  },
  {
   "cell_type": "code",
   "execution_count": null,
   "id": "94677995",
   "metadata": {},
   "outputs": [],
   "source": [
    "pl.rcParams['figure.figsize'] = (11.75, 5.875)\n",
    "pl.rcParams['font.size'] = 12\n",
    "pl.rcParams['font.family'] = 'Arial'\n",
    "pl.rcParams['ytick.direction'] = 'in'\n",
    "pl.rcParams['ytick.minor.visible'] = True\n",
    "pl.rcParams['ytick.major.right'] = True\n",
    "pl.rcParams['ytick.right'] = True\n",
    "pl.rcParams['xtick.direction'] = 'in'\n",
    "pl.rcParams['xtick.minor.visible'] = True\n",
    "pl.rcParams['xtick.major.top'] = True\n",
    "pl.rcParams['xtick.top'] = True\n",
    "pl.rcParams['axes.spines.top'] = True\n",
    "pl.rcParams['axes.spines.bottom'] = True\n",
    "pl.rcParams['figure.dpi'] = 300"
   ]
  },
  {
   "cell_type": "code",
   "execution_count": null,
   "id": "8d656b37",
   "metadata": {},
   "outputs": [],
   "source": [
    "files = glob.glob('../data/smith2021aerosol/*.csv')\n",
    "\n",
    "ari = {}\n",
    "aci = {}\n",
    "models = []\n",
    "years = {}\n",
    "for file in files:\n",
    "    model = os.path.split(file)[1][:-4]\n",
    "    if model=='sumlog':\n",
    "        continue\n",
    "    models.append(model)\n",
    "    df = pd.read_csv(file, index_col='year')\n",
    "    ari[model] = (df['aprp_ERFariSW'] + df['aprp_ERFariLW']).values.squeeze()\n",
    "    aci[model] = (df['aprp_ERFaciSW'] + df['aprp_ERFaciLW']).values.squeeze()\n",
    "    years[model] = df.index\n",
    "#pd.read_csv('../data/smith2021aerosol/')"
   ]
  },
  {
   "cell_type": "code",
   "execution_count": null,
   "id": "fca17ee7",
   "metadata": {},
   "outputs": [],
   "source": [
    "int(np.floor(years['E3SM'][0]-1850))"
   ]
  },
  {
   "cell_type": "code",
   "execution_count": null,
   "id": "7584de72",
   "metadata": {},
   "outputs": [],
   "source": [
    "rcmip_emissions_file = pooch.retrieve(\n",
    "    url=\"doi:10.5281/zenodo.4589756/rcmip-emissions-annual-means-v5-1-0.csv\",\n",
    "    known_hash=\"md5:4044106f55ca65b094670e7577eaf9b3\",\n",
    ")"
   ]
  },
  {
   "cell_type": "code",
   "execution_count": null,
   "id": "359de1b5",
   "metadata": {},
   "outputs": [],
   "source": [
    "emis_df = pd.read_csv(rcmip_emissions_file)"
   ]
  },
  {
   "cell_type": "code",
   "execution_count": null,
   "id": "f6289ffe",
   "metadata": {},
   "outputs": [],
   "source": [
    "bc = emis_df.loc[(emis_df['Scenario']=='ssp245')&\n",
    "                 (emis_df['Region']=='World')&\n",
    "                 (emis_df['Variable']=='Emissions|BC'), '1750':'2100'].interpolate(axis=1).squeeze().values\n",
    "\n",
    "oc = emis_df.loc[(emis_df['Scenario']=='ssp245')&\n",
    "                 (emis_df['Region']=='World')&\n",
    "                 (emis_df['Variable']=='Emissions|OC'), '1750':'2100'].interpolate(axis=1).squeeze().values\n",
    "\n",
    "so2 = emis_df.loc[(emis_df['Scenario']=='ssp245')&\n",
    "                 (emis_df['Region']=='World')&\n",
    "                 (emis_df['Variable']=='Emissions|Sulfur'), '1750':'2100'].interpolate(axis=1).squeeze().values"
   ]
  },
  {
   "cell_type": "code",
   "execution_count": null,
   "id": "c87b6a30",
   "metadata": {},
   "outputs": [],
   "source": [
    "aci['UKESM1-0-LL']"
   ]
  },
  {
   "cell_type": "code",
   "execution_count": null,
   "id": "6db0d0d9",
   "metadata": {},
   "outputs": [],
   "source": [
    "#def aci_log(x, beta0, beta1, beta2, n0, n1, n2):\n",
    "def aci_log(x, beta, n0, n1, n2):\n",
    "#def aci_log(x, beta0, n0):\n",
    "    #aci = beta0*np.log(1 + x[0]/n0) + beta1*np.log(1 + x[1]/n1) + beta2*np.log(1 + x[2]/n2)\n",
    "    #aci = beta0*np.log(1 + x/n0)\n",
    "    aci = beta*np.log(1 + x[0]*n0 + x[1]*n1 + x[2]*n2)# + beta1*np.log(1 + x[1]/n1) + beta2*np.log(1 + x[2]/n2)\n",
    "    #aci_1850 = beta0*np.log(1 + so2[100]/n0) + beta1*np.log(1 + bc[100]/n1) + beta2*np.log(1 + oc[100]/n2)\n",
    "    aci_1850 = beta*np.log(1 + so2[100]*n0 + bc[100]*n1 + oc[100]*n2)\n",
    "    return (aci - aci_1850)"
   ]
  },
  {
   "cell_type": "code",
   "execution_count": null,
   "id": "7475a79c",
   "metadata": {},
   "outputs": [],
   "source": [
    "param_fits = {}\n",
    "\n",
    "for model in models:\n",
    "    ist = int(np.floor(years[model][0]-1750))\n",
    "    ien = int(np.ceil(years[model][-1]-1750))\n",
    "    print(model)\n",
    "    param_fits[model], cov = curve_fit(\n",
    "        aci_log, \n",
    "        [so2[ist:ien], bc[ist:ien], oc[ist:ien]],\n",
    "        #so2[ist:ien],\n",
    "        aci[model],\n",
    "        #bounds = ((-np.inf, -np.inf, -np.inf, 0, 0, 0), (0, 0, 0, np.inf, np.inf, np.inf)),\n",
    "        #bounds = ((-np.inf, 0), (0, np.inf))\n",
    "        bounds = ((-np.inf, 0, 0, 0), (0, np.inf, np.inf, np.inf)),\n",
    "        max_nfev = 10000\n",
    "    )\n",
    "#    p[0], p[1], p[2], p[3], p[4], p[5]"
   ]
  },
  {
   "cell_type": "code",
   "execution_count": null,
   "id": "bb3f9166",
   "metadata": {},
   "outputs": [],
   "source": [
    "param_fits[model]"
   ]
  },
  {
   "cell_type": "code",
   "execution_count": null,
   "id": "553a4301",
   "metadata": {},
   "outputs": [],
   "source": [
    "# param_fits['UKESM1-0-LL'] = np.array([-2.539700806, 0.003980065, 0.002869812, 0.001653145])\n",
    "# param_fits['MIROC6'] = np.array([-7.642476315, 0.000774497, 0.000138215, 0.00080687])\n",
    "# param_fits['GISS-E2-1-G'] = np.array([-1.873251487, 0.00207261, 0.010251979, 0.011606903])\n",
    "# param_fits['MRI-ESM2-0'] = np.array([-0.502976496, 0.012416925, 0.048429429, 0.073393427])\n",
    "# param_fits['GFDL-ESM4'] = np.array([-16.32454756, 0.000391837, -0.000240587, 0.000505624])\n",
    "# param_fits['CNRM-ESM2-1'] = np.array([-9.318243747, 0.000566375, -4.88714E-05, 0.000335176])\n",
    "# param_fits['MPI-ESM-1-2-HAM'] = np.array([-1.976693681, 0.001599969, 0.006260918, 0.003781761])\n",
    "# param_fits['NorESM2-LM'] = np.array([-3.10948714, 0.003243032, -0.00290163, 0.003265711])\n",
    "# param_fits['IPSL-CM6A-LR-INCA'] = np.array([-4.317085509, 0.000519199, 0, 0.000567797])"
   ]
  },
  {
   "cell_type": "code",
   "execution_count": null,
   "id": "08f6ca76",
   "metadata": {},
   "outputs": [],
   "source": [
    "# class fitClass:\n",
    "\n",
    "#     def __init__(self):\n",
    "#         pass\n",
    "\n",
    "#     def refit_beta(self, x, beta):\n",
    "#         aci = beta*np.log(1 + x[0]*self.n0 + x[1]*self.n1 + x[2]*self.n2)\n",
    "#         aci_1850 = beta*np.log(1 + so2[100]*self.n0 + bc[100]*self.n1 + oc[100]*self.n2)\n",
    "#         return (aci - aci_1850)\n",
    "\n",
    "# inst = fitClass()\n",
    "\n",
    "# for model in ['UKESM1-0-LL', 'MIROC6', 'GISS-E2-1-G', 'MRI-ESM2-0', 'GFDL-ESM4', 'NorESM2-LM']:\n",
    "#     ist = int(np.floor(years[model][0]-1750))\n",
    "#     ien = int(np.ceil(years[model][-1]-1750))\n",
    "#     inst.n0 = param_fits[model][1]\n",
    "#     inst.n1 = param_fits[model][2]\n",
    "#     inst.n2 = param_fits[model][3]\n",
    "#     coeffs, _ = curve_fit(inst.refit_beta, [so2[ist:ien], bc[ist:ien], oc[ist:ien]], aci[model])\n",
    "#     param_fits[model][0] = coeffs[0]"
   ]
  },
  {
   "cell_type": "code",
   "execution_count": null,
   "id": "bbce9dfc",
   "metadata": {},
   "outputs": [],
   "source": [
    "# param_fits['UKESM1-0-LL'][0], param_fits['MIROC6'][0], param_fits['GISS-E2-1-G'][0], param_fits['MRI-ESM2-0'][0], param_fits['GFDL-ESM4'][0], param_fits['NorESM2-LM'][0]"
   ]
  },
  {
   "cell_type": "code",
   "execution_count": null,
   "id": "a3aedb29",
   "metadata": {},
   "outputs": [],
   "source": [
    "#def aci_log1750(x, beta0, beta1, beta2, n0, n1, n2):\n",
    "def aci_log1750(x, beta, n0, n1, n2):\n",
    "    #aci = beta0*np.log(1 + x[0]/n0) + beta1*np.log(1 + x[1]/n1) + beta2*np.log(1 + x[2]/n2)\n",
    "    #aci_1750 = beta0*np.log(1 + so2[0]/n0) + beta1*np.log(1 + bc[0]/n1) + beta2*np.log(1 + oc[0]/n2)\n",
    "    aci = beta*np.log(1 + x[0]*n0 + x[1]*n1 + x[2]*n2)\n",
    "    aci_1750 = beta*np.log(1 + so2[0]*n0 + bc[0]*n1 + oc[0]*n2)\n",
    "    return (aci - aci_1750)"
   ]
  },
  {
   "cell_type": "code",
   "execution_count": null,
   "id": "c64f1a78",
   "metadata": {},
   "outputs": [],
   "source": [
    "df_ar6 = pd.read_csv('../data/forcing/table_A3.3_historical_ERF_1750-2019_best_estimate.csv')\n",
    "#df_ar6['aerosol-cloud_interactions'].values\n",
    "\n",
    "params_ar6, cov = curve_fit(\n",
    "    aci_log1750, \n",
    "    [so2[:270], bc[:270], oc[:270]],\n",
    "    df_ar6['aerosol-cloud_interactions'].values,\n",
    "    bounds = ((-np.inf, 0, 0, 0), (0, np.inf, np.inf, np.inf)),\n",
    "    max_nfev = 10000\n",
    ")"
   ]
  },
  {
   "cell_type": "code",
   "execution_count": null,
   "id": "f901dc03",
   "metadata": {},
   "outputs": [],
   "source": [
    "params_ar6"
   ]
  },
  {
   "cell_type": "code",
   "execution_count": null,
   "id": "67f50461",
   "metadata": {},
   "outputs": [],
   "source": [
    "fig, ax = pl.subplots(3, 4, figsize=(16, 12))\n",
    "for imodel, model in enumerate(models):\n",
    "    #ax[imodel//4, imodel%4].plot(np.arange(1750.5, 2101), aci_log(so2, *param_fits[model]))\n",
    "    ax[imodel//4, imodel%4].plot(years[model], aci[model])\n",
    "    ax[imodel//4, imodel%4].plot(np.arange(1750.5, 2101), aci_log([so2, bc, oc], *param_fits[model]))\n",
    "    ax[imodel//4, imodel%4].set_title(model)\n",
    "ax[2,3].plot(np.arange(1750.5, 2020), df_ar6['aerosol-cloud_interactions'].values)\n",
    "ax[2,3].plot(np.arange(1750.5, 2101), aci_log1750([so2, bc, oc], *params_ar6))"
   ]
  },
  {
   "cell_type": "code",
   "execution_count": null,
   "id": "c5dc8697",
   "metadata": {},
   "outputs": [],
   "source": [
    "colors = {\n",
    "    'CanESM5'    :  'red',#'#1e4c24',\n",
    "    'E3SM'       : 'darkorange',\n",
    "    'GFDL-ESM4'  : 'yellowgreen', \n",
    "    'GFDL-CM4'   : 'yellow',#'green',\n",
    "    'GISS-E2-1-G':  'green',#'#771d7b',\n",
    "    'HadGEM3-GC31-LL': 'turquoise',\n",
    "    'IPSL-CM6A-LR': 'teal',\n",
    "    'MIROC6'     :  'blue',#b85fb7',\n",
    "    'MRI-ESM2-0' : 'blueviolet',\n",
    "    'NorESM2-LM' :  'purple',#'red',\n",
    "    'UKESM1-0-LL': 'crimson',\n",
    "    'mean'       : 'black',\n",
    "    'AR5'         : '0.6',\n",
    "    'AR6'         : '0.3',\n",
    "    'Lund'        : 'pink',\n",
    "}\n",
    "\n",
    "endyear = {\n",
    "    'CanESM5'    : 2100,\n",
    "    'MIROC6'     : 2100,\n",
    "    'NorESM2-LM' : 2100,\n",
    "    'GISS-E2-1-G': 2100,\n",
    "    'HadGEM3-GC31-LL': 2099,\n",
    "    'GFDL-CM4'   : 2100,\n",
    "    'E3SM'       : 2014,\n",
    "    'UKESM1-0-LL': 2014,\n",
    "    'GFDL-ESM4'  : 2014,\n",
    "    'IPSL-CM6A-LR': 2100,\n",
    "    'MRI-ESM2-0' : 2014,\n",
    "}\n",
    "\n",
    "startyear = {\n",
    "    'CanESM5'    : 1850,\n",
    "    'MIROC6'     : 1850,\n",
    "    'NorESM2-LM' : 1850,\n",
    "    'GISS-E2-1-G': 1850,\n",
    "    'HadGEM3-GC31-LL': 1850,\n",
    "    'GFDL-CM4'   : 1850,\n",
    "    'E3SM'       : 1870,\n",
    "    'GFDL-ESM4'  : 1850,\n",
    "    'UKESM1-0-LL': 1850,\n",
    "    'IPSL-CM6A-LR': 1850,\n",
    "    'MRI-ESM2-0': 1850,\n",
    "}"
   ]
  },
  {
   "cell_type": "code",
   "execution_count": null,
   "id": "a2484219",
   "metadata": {},
   "outputs": [],
   "source": [
    "fig, ax = pl.subplots(3,4, squeeze=False)\n",
    "for imodel, model in enumerate(sorted(models)):\n",
    "    i = imodel//4\n",
    "    j = imodel%4\n",
    "    ax[i,j].plot(years[model], aci[model], \n",
    "                 color='k', ls='-', alpha=0.5)\n",
    "    ax[i,j].plot(np.arange(1750.5,2101), aci_log([so2, bc, oc], *param_fits[model]), color=colors[model], zorder=7)\n",
    "\n",
    "    ax[i,j].set_xlim(1750,2100)\n",
    "    ax[i,j].set_ylim(-1.7, 0.5)\n",
    "    ax[i,j].axhline(0, lw=0.5, ls=':', color='k')\n",
    "    ax[i,j].fill_between(np.arange(1850,2015),-10,10, color='#e0e0e0', zorder=-20)\n",
    "    ax[i,j].get_xticklabels()[-1].set_ha(\"right\")\n",
    "    if model!='HadGEM3-GC31-LL':\n",
    "        modlab = model\n",
    "    else:\n",
    "        modlab = 'HadGEM3'\n",
    "    ax[i,j].text(0.05,0.05,modlab,transform=ax[i,j].transAxes, fontweight='bold')\n",
    "    #ax[i,1].text(0.95,0.09,'ERFaci',transform=ax[i,1].transAxes, ha='right')\n",
    "\n",
    "ax[0,0].set_ylabel('W m$^{-2}$')\n",
    "ax[1,0].set_ylabel('W m$^{-2}$')\n",
    "ax[2,0].set_ylabel('W m$^{-2}$')\n",
    "ax[2,3].axis('off')\n",
    "\n",
    "pl.suptitle('Aerosol-cloud interaction forcing emulations in FaIR v2.1')\n",
    "fig.tight_layout()\n",
    "pl.savefig('../plots/aci_calibration.png')\n",
    "pl.savefig('../plots/aci_calibration.pdf')"
   ]
  },
  {
   "cell_type": "code",
   "execution_count": null,
   "id": "2ed706f2",
   "metadata": {},
   "outputs": [],
   "source": [
    "#df_params = pd.DataFrame(param_fits, index=['beta0', 'beta1', 'beta2', 'n0', 'n1', 'n2']).T\n",
    "df_params = pd.DataFrame(param_fits, index=['beta', 'n0', 'n1', 'n2']).T"
   ]
  },
  {
   "cell_type": "code",
   "execution_count": null,
   "id": "eeaa222e",
   "metadata": {},
   "outputs": [],
   "source": [
    "fig, ax = pl.subplots(3, 4, figsize=(16, 12))\n",
    "for imodel, model in enumerate(models):\n",
    "    ax[imodel//4, imodel%4].plot(np.arange(1750.5, 2101), aci_log([so2, bc, oc], *param_fits[model]))\n",
    "    ax[imodel//4, imodel%4].plot(np.arange(1750.5, 2101), aci_log1750([so2, bc, oc], *param_fits[model]))"
   ]
  },
  {
   "cell_type": "code",
   "execution_count": null,
   "id": "3ca04f3a",
   "metadata": {},
   "outputs": [],
   "source": [
    "fig, ax = pl.subplots(3, 4, figsize=(16, 12))\n",
    "for imodel, model in enumerate(models):\n",
    "    ax[imodel//4, imodel%4].plot(np.arange(1750.5, 2101), aci_log([so2, bc, oc], *param_fits[model]) - aci_log1750([so2, bc, oc], *param_fits[model]))"
   ]
  },
  {
   "cell_type": "code",
   "execution_count": null,
   "id": "e539af81",
   "metadata": {},
   "outputs": [],
   "source": [
    "df_params.to_csv('../data/smith2021aerosol/sumlog.csv')"
   ]
  },
  {
   "cell_type": "code",
   "execution_count": null,
   "id": "d7b8c354",
   "metadata": {},
   "outputs": [],
   "source": [
    "samples = 1500000"
   ]
  },
  {
   "cell_type": "code",
   "execution_count": null,
   "id": "6d6c3ba7",
   "metadata": {},
   "outputs": [],
   "source": [
    "df_params"
   ]
  },
  {
   "cell_type": "code",
   "execution_count": null,
   "id": "8bfac43e",
   "metadata": {},
   "outputs": [],
   "source": [
    "df_params.corr()"
   ]
  },
  {
   "cell_type": "code",
   "execution_count": null,
   "id": "f9a24bc4",
   "metadata": {},
   "outputs": [],
   "source": [
    "beta_samp = df_params['beta']\n",
    "n0_samp = (df_params['n0'])\n",
    "n1_samp = (df_params['n1'])\n",
    "n2_samp = (df_params['n2'])"
   ]
  },
  {
   "cell_type": "code",
   "execution_count": null,
   "id": "1bfa2436",
   "metadata": {},
   "outputs": [],
   "source": [
    "kde = scipy.stats.gaussian_kde([n0_samp, n1_samp, n2_samp])\n",
    "aci_sample=kde.resample(size=samples*4, seed=63648708)"
   ]
  },
  {
   "cell_type": "code",
   "execution_count": null,
   "id": "202c7ba9",
   "metadata": {},
   "outputs": [],
   "source": [
    "aci_sample[1,:]\n",
    "#np.exp(-436.18073312)"
   ]
  },
  {
   "cell_type": "code",
   "execution_count": null,
   "id": "b546a698",
   "metadata": {},
   "outputs": [],
   "source": [
    "aci_sample[0, aci_sample[0,:] < 0] = np.nan\n",
    "aci_sample[1, aci_sample[1,:] < 0] = np.nan\n",
    "aci_sample[2, aci_sample[2,:] < 0] = np.nan"
   ]
  },
  {
   "cell_type": "code",
   "execution_count": null,
   "id": "37d1365a",
   "metadata": {},
   "outputs": [],
   "source": [
    "mask = np.any(np.isnan(aci_sample), axis=0)\n",
    "aci_sample = aci_sample[:, ~mask]"
   ]
  },
  {
   "cell_type": "code",
   "execution_count": null,
   "id": "8bb5fc31",
   "metadata": {},
   "outputs": [],
   "source": [
    "mask.sum()"
   ]
  },
  {
   "cell_type": "code",
   "execution_count": null,
   "id": "5718d26f",
   "metadata": {},
   "outputs": [],
   "source": [
    "aci_sample"
   ]
  },
  {
   "cell_type": "code",
   "execution_count": null,
   "id": "63a0dbf5",
   "metadata": {},
   "outputs": [],
   "source": [
    "NINETY_TO_ONESIGMA = scipy.stats.norm.ppf(0.95)\n",
    "erfaci_sample = scipy.stats.uniform.rvs(size=samples, loc=-2.0, scale=2.0, random_state=71271)"
   ]
  },
  {
   "cell_type": "code",
   "execution_count": null,
   "id": "d2cce648",
   "metadata": {},
   "outputs": [],
   "source": [
    "beta = np.zeros(samples)\n",
    "erfaci = np.zeros((351,samples))\n",
    "for i in tqdm(range(samples)):\n",
    "    ts2010 = np.mean(\n",
    "        aci_log(\n",
    "            [so2[255:265], bc[255:265], oc[255:265]], \n",
    "            0.92,\n",
    "            aci_sample[0,i], aci_sample[1,i], aci_sample[2,i]\n",
    "        )\n",
    "    )\n",
    "    ts1850 = aci_log(\n",
    "        [so2[100], bc[100], oc[100]], \n",
    "        0.92,\n",
    "        aci_sample[0,i], aci_sample[1,i], aci_sample[2,i]\n",
    "    )\n",
    "    ts1750 = aci_log(\n",
    "        [so2[0], bc[0], oc[0]], \n",
    "        0.92,\n",
    "        aci_sample[0,i], aci_sample[1,i], aci_sample[2,i]\n",
    "    )\n",
    "    erfaci[:,i] = (\n",
    "        aci_log(\n",
    "            [so2, bc, oc], \n",
    "            0.92,\n",
    "            aci_sample[0,i], aci_sample[1,i], aci_sample[2,i]\n",
    "        ) - ts1750\n",
    "    )/(ts2010-ts1850)*(erfaci_sample[i])\n",
    "    beta[i] = erfaci_sample[i] / (ts2010-ts1750)"
   ]
  },
  {
   "cell_type": "code",
   "execution_count": null,
   "id": "9c67d668",
   "metadata": {},
   "outputs": [],
   "source": [
    "erfaci_sample[-1]"
   ]
  },
  {
   "cell_type": "code",
   "execution_count": null,
   "id": "ddd18e1e",
   "metadata": {},
   "outputs": [],
   "source": [
    "# pl.fill_between(np.arange(1750, 2101), np.nanpercentile(erfaci, 95, axis=1), np.nanpercentile(erfaci, 5, axis=1), color='lightgray');\n",
    "# pl.plot(np.arange(1750, 2101), np.nanpercentile(erfaci, 50, axis=1));"
   ]
  },
  {
   "cell_type": "code",
   "execution_count": null,
   "id": "71125ca5",
   "metadata": {},
   "outputs": [],
   "source": [
    "pl.plot(erfaci[:, :20]);"
   ]
  },
  {
   "cell_type": "code",
   "execution_count": null,
   "id": "757791ac",
   "metadata": {},
   "outputs": [],
   "source": [
    "pl.plot(erfaci[100:, :20]/erfaci[100:, 0:1]);"
   ]
  },
  {
   "cell_type": "code",
   "execution_count": null,
   "id": "52c36499",
   "metadata": {},
   "outputs": [],
   "source": [
    "pl.hist(aci_sample[0,:])"
   ]
  },
  {
   "cell_type": "code",
   "execution_count": null,
   "id": "f4ee12d2",
   "metadata": {},
   "outputs": [],
   "source": [
    "pl.hist(aci_sample[1,:])"
   ]
  },
  {
   "cell_type": "code",
   "execution_count": null,
   "id": "05f116a6",
   "metadata": {},
   "outputs": [],
   "source": [
    "pl.hist(aci_sample[2,:])"
   ]
  },
  {
   "cell_type": "code",
   "execution_count": null,
   "id": "a89a3ef6",
   "metadata": {},
   "outputs": [],
   "source": [
    "pl.hist(beta)"
   ]
  },
  {
   "cell_type": "code",
   "execution_count": null,
   "id": "92fcab82",
   "metadata": {},
   "outputs": [],
   "source": [
    "pl.plot(erfaci[:, 7])\n",
    "pl.plot(aci_log1750([so2, bc, oc], beta[7], *aci_sample[0:,7]))"
   ]
  },
  {
   "cell_type": "code",
   "execution_count": null,
   "id": "be26bd2a",
   "metadata": {},
   "outputs": [],
   "source": [
    "aci_log1750([so2, bc, oc], beta[0], *aci_sample[:,0])"
   ]
  },
  {
   "cell_type": "code",
   "execution_count": null,
   "id": "f3217104",
   "metadata": {},
   "outputs": [],
   "source": [
    "aci_sample.shape"
   ]
  },
  {
   "cell_type": "code",
   "execution_count": null,
   "id": "6db21ee3",
   "metadata": {},
   "outputs": [],
   "source": [
    "df = pd.DataFrame({\n",
    "    'shape_so2' : aci_sample[0,:samples],\n",
    "    'shape_bc' : aci_sample[1,:samples], \n",
    "    'shape_oc' : aci_sample[2,:samples], \n",
    "    'beta' : beta\n",
    "})"
   ]
  },
  {
   "cell_type": "code",
   "execution_count": null,
   "id": "86ccb2e3",
   "metadata": {},
   "outputs": [],
   "source": [
    "df.to_csv('../data/parameter_sets/erfaci.csv', index=False)"
   ]
  },
  {
   "cell_type": "code",
   "execution_count": null,
   "id": "54af0e1c",
   "metadata": {},
   "outputs": [],
   "source": []
  }
 ],
 "metadata": {
  "kernelspec": {
   "display_name": "Python 3 (ipykernel)",
   "language": "python",
   "name": "python3"
  },
  "language_info": {
   "codemirror_mode": {
    "name": "ipython",
    "version": 3
   },
   "file_extension": ".py",
   "mimetype": "text/x-python",
   "name": "python",
   "nbconvert_exporter": "python",
   "pygments_lexer": "ipython3",
   "version": "3.10.6"
  }
 },
 "nbformat": 4,
 "nbformat_minor": 5
}
