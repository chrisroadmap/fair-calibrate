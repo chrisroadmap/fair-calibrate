{
 "cells": [
  {
   "cell_type": "code",
   "execution_count": null,
   "id": "e118b6b1",
   "metadata": {},
   "outputs": [],
   "source": [
    "import numpy as np\n",
    "import pandas as pd\n",
    "import scipy.stats\n",
    "from tqdm import tqdm\n",
    "import matplotlib.pyplot as pl\n",
    "\n",
    "from fair21.energy_balance_model import EnergyBalanceModel"
   ]
  },
  {
   "cell_type": "code",
   "execution_count": null,
   "id": "d66e9243",
   "metadata": {},
   "outputs": [],
   "source": [
    "temp_in = np.load('../data/ar6_ensemble_batches/temperature_1850-2030.npy')\n",
    "ohc_in = np.load('../data/ar6_ensemble_batches/ohc_2018_minus_1971.npy')\n",
    "co2_in = np.load('../data/ar6_ensemble_batches/co2_2014.npy')\n",
    "ari_in = np.load('../data/ar6_ensemble_batches/fari_2005-2014_mean.npy')\n",
    "aci_in = np.load('../data/ar6_ensemble_batches/faci_2005-2014_mean.npy')\n",
    "o3_in = np.load('../data/ar6_ensemble_batches/fo3_2019.npy')\n",
    "ecs_in = np.load('../data/ar6_ensemble_batches/ecs.npy')\n",
    "tcr_in = np.load('../data/ar6_ensemble_batches/tcr.npy')"
   ]
  },
  {
   "cell_type": "code",
   "execution_count": null,
   "id": "94d4af2d",
   "metadata": {},
   "outputs": [],
   "source": [
    "df_cc=pd.read_csv('../data/parameter_sets/carbon_cycle.csv')\n",
    "df_cr=pd.read_csv('../data/parameter_sets/climate_response.csv')\n",
    "df_aci=pd.read_csv('../data/parameter_sets/erfaci.csv')\n",
    "df_ari=pd.read_csv('../data/parameter_sets/erfari.csv')\n",
    "df_ozone=pd.read_csv('../data/parameter_sets/ozone.csv')\n",
    "df_scaling=pd.read_csv('../data/parameter_sets/forcing_scaling.csv')"
   ]
  },
  {
   "cell_type": "code",
   "execution_count": null,
   "id": "de9c0d12",
   "metadata": {},
   "outputs": [],
   "source": [
    "def rmse(obs, mod):\n",
    "    return np.sqrt(np.sum((obs-mod)**2)/len(obs))"
   ]
  },
  {
   "cell_type": "code",
   "execution_count": null,
   "id": "95856873",
   "metadata": {},
   "outputs": [],
   "source": [
    "temp_19952014 = temp_in[145:165,:].mean(axis=0)-temp_in[:51,:].mean(axis=0)"
   ]
  },
  {
   "cell_type": "code",
   "execution_count": null,
   "id": "53142880",
   "metadata": {},
   "outputs": [],
   "source": [
    "samples = len(temp_19952014)"
   ]
  },
  {
   "cell_type": "code",
   "execution_count": null,
   "id": "020bb79c",
   "metadata": {},
   "outputs": [],
   "source": [
    "df_gmst = pd.read_csv('../data/forcing/AR6_GMST.csv')\n",
    "gmst = df_gmst['gmst'].values"
   ]
  },
  {
   "cell_type": "code",
   "execution_count": null,
   "id": "6759758b",
   "metadata": {},
   "outputs": [],
   "source": [
    "temp_rmse = np.ones((samples)) * np.nan\n",
    "for i in range(samples):\n",
    "    temp_rmse[i] = rmse(gmst[:171], temp_in[:171,i]-temp_in[:51, i].mean())"
   ]
  },
  {
   "cell_type": "code",
   "execution_count": null,
   "id": "4f9ca4b1",
   "metadata": {},
   "outputs": [],
   "source": [
    "NINETY_TO_ONESIGMA=scipy.stats.norm.ppf(0.95)\n",
    "ecs_dist = scipy.stats.skewnorm(8.82185594, loc=1.95059779, scale=1.55584604)\n",
    "tcr_dist = scipy.stats.norm(loc=1.2, scale=0.6/NINETY_TO_ONESIGMA)\n",
    "temp_rmse_dist = scipy.stats."
   ]
  },
  {
   "cell_type": "code",
   "execution_count": null,
   "id": "01a0823f",
   "metadata": {},
   "outputs": [],
   "source": [
    "likelihood = np.zeros(samples)\n",
    "for i in tqdm(range(samples)):\n",
    "    likelihood[i] = ecs_dist.pdf(ecs_in[i]) * tcr_dist.pdf(tcr_in[i])"
   ]
  },
  {
   "cell_type": "code",
   "execution_count": null,
   "id": "1fb7ef6e",
   "metadata": {},
   "outputs": [],
   "source": [
    "pl.hist(likelihood)"
   ]
  },
  {
   "cell_type": "code",
   "execution_count": null,
   "id": "849cc926",
   "metadata": {},
   "outputs": [],
   "source": [
    "erf_2co2 = 3.934168323890023\n",
    "calibrated_f4co2_mean = df_cr['F_4xCO2'].mean()\n",
    "\n",
    "ecs = np.ones(samples) * np.nan\n",
    "tcr = np.ones(samples) * np.nan\n",
    "for iconf in tqdm(range(samples)):\n",
    "    ebm = EnergyBalanceModel(\n",
    "        ocean_heat_capacity = np.array([df_cr.loc[iconf,'c1'], df_cr.loc[iconf,'c2'], df_cr.loc[iconf, 'c3']]),\n",
    "        ocean_heat_transfer = np.array([df_cr.loc[iconf,'kappa1'], df_cr.loc[iconf,'kappa2'], df_cr.loc[iconf,'kappa3']]),\n",
    "        deep_ocean_efficacy = df_cr.loc[iconf,'epsilon'],\n",
    "        forcing_4co2 = 2*erf_2co2 * (1+ 0.561*(calibrated_f4co2_mean - df_cr.loc[iconf,'F_4xCO2'])/calibrated_f4co2_mean) #2*erf_2co2*df_scale.loc[i,'CO2'],\n",
    "    )\n",
    "    ebm.emergent_parameters()\n",
    "    ecs[iconf] = ebm.ecs\n",
    "    tcr[iconf] = ebm.tcr"
   ]
  },
  {
   "cell_type": "code",
   "execution_count": null,
   "id": "d0f7c571",
   "metadata": {},
   "outputs": [],
   "source": [
    "pl.hist(ecs, bins=np.arange(0,15,0.1), density=True)\n",
    "kde_ecs = scipy.stats.gaussian_kde(ecs)\n",
    "pl.plot(np.arange(0,15,0.1), kde_ecs(np.arange(0,15,0.1)))"
   ]
  },
  {
   "cell_type": "code",
   "execution_count": null,
   "id": "5b2c5d23",
   "metadata": {},
   "outputs": [],
   "source": [
    "np.histogram(ecs, bins=np.arange(0,15,0.1), density=True)[0]"
   ]
  },
  {
   "cell_type": "code",
   "execution_count": null,
   "id": "be253c38",
   "metadata": {},
   "outputs": [],
   "source": [
    "ecs[0]"
   ]
  },
  {
   "cell_type": "code",
   "execution_count": null,
   "id": "480780f8",
   "metadata": {},
   "outputs": [],
   "source": [
    "np.histogram(ecs, bins=np.arange(0,15,0.1), density=True)[0][np.floor(ecs[0:10]*10).astype(int)]"
   ]
  },
  {
   "cell_type": "code",
   "execution_count": null,
   "id": "aee48670",
   "metadata": {},
   "outputs": [],
   "source": [
    "kde_tcr = scipy.stats.gaussian_kde(tcr)"
   ]
  },
  {
   "cell_type": "code",
   "execution_count": null,
   "id": "60f77a13",
   "metadata": {},
   "outputs": [],
   "source": [
    "prior = (\n",
    "    np.histogram(ecs, bins=np.arange(0,25,0.1), density=True)[0][np.floor(ecs*10).astype(int)] *\n",
    "    np.histogram(tcr, bins=np.arange(0,25,0.1), density=True)[0][np.floor(tcr*10).astype(int)]\n",
    ")"
   ]
  },
  {
   "cell_type": "code",
   "execution_count": null,
   "id": "811ecceb",
   "metadata": {},
   "outputs": [],
   "source": [
    "pl.hist(prior)"
   ]
  },
  {
   "cell_type": "code",
   "execution_count": null,
   "id": "c6197d43",
   "metadata": {},
   "outputs": [],
   "source": [
    "posterior = prior * likelihood"
   ]
  },
  {
   "cell_type": "code",
   "execution_count": null,
   "id": "79ba8051",
   "metadata": {},
   "outputs": [],
   "source": [
    "pl.hist(posterior)"
   ]
  },
  {
   "cell_type": "code",
   "execution_count": null,
   "id": "e4e69cc9",
   "metadata": {},
   "outputs": [],
   "source": []
  }
 ],
 "metadata": {
  "kernelspec": {
   "display_name": "Python 3 (ipykernel)",
   "language": "python",
   "name": "python3"
  },
  "language_info": {
   "codemirror_mode": {
    "name": "ipython",
    "version": 3
   },
   "file_extension": ".py",
   "mimetype": "text/x-python",
   "name": "python",
   "nbconvert_exporter": "python",
   "pygments_lexer": "ipython3",
   "version": "3.7.12"
  }
 },
 "nbformat": 4,
 "nbformat_minor": 5
}
