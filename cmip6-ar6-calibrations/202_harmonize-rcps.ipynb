{
 "cells": [
  {
   "cell_type": "markdown",
   "id": "db8af7c5",
   "metadata": {},
   "source": [
    "# Harmonize RCPs\n",
    "\n",
    "because recalibrating the historical is too damn hard"
   ]
  },
  {
   "cell_type": "code",
   "execution_count": null,
   "id": "a2130156",
   "metadata": {},
   "outputs": [],
   "source": [
    "import aneris\n",
    "import scmdata\n",
    "import datetime\n",
    "import pyam\n",
    "import pandas as pd\n",
    "import numpy as np\n",
    "\n",
    "import aneris.convenience"
   ]
  },
  {
   "cell_type": "code",
   "execution_count": null,
   "id": "b59c6154",
   "metadata": {},
   "outputs": [],
   "source": [
    "aneris.__version__"
   ]
  },
  {
   "cell_type": "code",
   "execution_count": null,
   "id": "28a15fa6",
   "metadata": {},
   "outputs": [],
   "source": [
    "# only try and harmonize species common to both!\n",
    "variables = [\n",
    "    'Emissions|CO2|MAGICC Fossil and Industrial',\n",
    "    'Emissions|CO2|MAGICC AFOLU',\n",
    "    'Emissions|CH4',\n",
    "    'Emissions|N2O',\n",
    "    'Emissions|Sulfur',\n",
    "    'Emissions|CO',\n",
    "    'Emissions|VOC',\n",
    "    'Emissions|NOx',\n",
    "    'Emissions|BC',\n",
    "    'Emissions|OC',\n",
    "    'Emissions|NH3',\n",
    "    'Emissions|F-Gases|PFC|CF4',\n",
    "    'Emissions|F-Gases|PFC|C2F6',\n",
    "    'Emissions|F-Gases|PFC|C6F14',\n",
    "    'Emissions|F-Gases|HFC|HFC23',\n",
    "    'Emissions|F-Gases|HFC|HFC32',\n",
    "    'Emissions|F-Gases|HFC|HFC4310mee',\n",
    "    'Emissions|F-Gases|HFC|HFC125',\n",
    "    'Emissions|F-Gases|HFC|HFC134a',\n",
    "    'Emissions|F-Gases|HFC|HFC143a',\n",
    "    'Emissions|F-Gases|HFC|HFC227ea',\n",
    "    'Emissions|F-Gases|HFC|HFC245fa',\n",
    "    'Emissions|F-Gases|SF6',\n",
    "    'Emissions|Montreal Gases|CFC|CFC11',\n",
    "    'Emissions|Montreal Gases|CFC|CFC12',\n",
    "    'Emissions|Montreal Gases|CFC|CFC113',\n",
    "    'Emissions|Montreal Gases|CFC|CFC114',\n",
    "    'Emissions|Montreal Gases|CFC|CFC115',\n",
    "    'Emissions|Montreal Gases|CCl4',\n",
    "    'Emissions|Montreal Gases|CH3CCl3',\n",
    "    'Emissions|Montreal Gases|HCFC22',\n",
    "    'Emissions|Montreal Gases|HCFC141b',\n",
    "    'Emissions|Montreal Gases|HCFC142b',\n",
    "    'Emissions|Montreal Gases|Halon1211',\n",
    "    'Emissions|Montreal Gases|Halon1202',\n",
    "    'Emissions|Montreal Gases|Halon1301',\n",
    "    'Emissions|Montreal Gases|Halon2402',\n",
    "    'Emissions|Montreal Gases|CH3Br',\n",
    "    'Emissions|Montreal Gases|CH3Cl',\n",
    "]"
   ]
  },
  {
   "cell_type": "code",
   "execution_count": null,
   "id": "77b6c65d",
   "metadata": {},
   "outputs": [],
   "source": [
    "len(variables)"
   ]
  },
  {
   "cell_type": "code",
   "execution_count": null,
   "id": "c14ed2af",
   "metadata": {},
   "outputs": [],
   "source": [
    "df_hist = scmdata.ScmRun(\n",
    "    '../data/rcmip/rcmip-emissions-annual-means-v5-1-0.csv',\n",
    "    lowercase_cols=True\n",
    ").filter(region='World', scenario='historical', variable=variables)"
   ]
  },
  {
   "cell_type": "code",
   "execution_count": null,
   "id": "09729661",
   "metadata": {},
   "outputs": [],
   "source": [
    "df_hist"
   ]
  },
  {
   "cell_type": "code",
   "execution_count": null,
   "id": "f540aad8",
   "metadata": {},
   "outputs": [],
   "source": [
    "times = []\n",
    "yearfaff = range(1750, 2016)\n",
    "for year in yearfaff:\n",
    "    times.append(datetime.datetime(year, 1, 1))"
   ]
  },
  {
   "cell_type": "code",
   "execution_count": null,
   "id": "5cfd9902",
   "metadata": {},
   "outputs": [],
   "source": [
    "df_hist = df_hist.interpolate(target_times=times)"
   ]
  },
  {
   "cell_type": "code",
   "execution_count": null,
   "id": "104ff67b",
   "metadata": {},
   "outputs": [],
   "source": [
    "def add_year_historical_percentage_offset(df, dfhist, yr=2015, low_yr=2010):\n",
    "    \"\"\"\n",
    "    add a harmonization year based on the percentage difference with historical data\n",
    "    \"\"\"\n",
    "    if yr not in df.columns:\n",
    "        df[yr] = None\n",
    "        df[yr] = pd.to_numeric(df[yr])\n",
    "\n",
    "    df2015 = df[~df[yr].isnull()]\n",
    "    dfno2015 = df[df[yr].isnull()].copy()\n",
    "    \n",
    "    if low_yr in dfno2015.columns:\n",
    "        dfhist_low = dfhist[low_yr].reset_index([\"model\", \"scenario\"], drop=True)\n",
    "        dfhist_yr = dfhist[yr].reset_index([\"model\", \"scenario\"], drop=True)\n",
    "\n",
    "        dfno2015_low = dfno2015[[low_yr]]\n",
    "        \n",
    "        relative_diff = (\n",
    "            dfno2015_low.subtract(dfhist_low, axis=0)\n",
    "            .divide(dfhist_low, axis=0)\n",
    "            .dropna()\n",
    "        )\n",
    "        if relative_diff.shape[0] != dfno2015.shape[0]:\n",
    "            raise AssertionError(\"Some data will not get adjusted properly\")\n",
    "\n",
    "        fill_values = (\n",
    "            relative_diff.multiply(dfhist_yr, axis=0)\n",
    "            .add(dfhist_yr, axis=0)\n",
    "            .dropna()\n",
    "            .rename({low_yr: yr}, axis=\"columns\")\n",
    "        )\n",
    "        if fill_values.shape[0] != dfno2015.shape[0]:\n",
    "            raise AssertionError(\"Some data will not get adjusted properly\")\n",
    "\n",
    "        dfno2015[yr] = fill_values[yr].reorder_levels(dfno2015.index.names)\n",
    "        df = pd.concat([df2015, dfno2015])\n",
    "    else:\n",
    "        raise KeyError(f\"{low_yr} not in `dfno2015`\")\n",
    "\n",
    "    return df"
   ]
  },
  {
   "cell_type": "code",
   "execution_count": null,
   "id": "751a91d6",
   "metadata": {},
   "outputs": [],
   "source": [
    "harmonisation_year = 2015"
   ]
  },
  {
   "cell_type": "code",
   "execution_count": null,
   "id": "0721fd08",
   "metadata": {},
   "outputs": [],
   "source": [
    "df_rcp = scmdata.ScmRun(\n",
    "    '../data/rcmip/rcmip-emissions-annual-means-v5-1-0.csv',\n",
    "    lowercase_cols=True\n",
    ").filter(region='World', scenario='rcp*', variable=variables)"
   ]
  },
  {
   "cell_type": "code",
   "execution_count": null,
   "id": "d7930213",
   "metadata": {},
   "outputs": [],
   "source": [
    "times = []\n",
    "yearfaff = range(2000, 2301)\n",
    "for year in yearfaff:\n",
    "    times.append(datetime.datetime(year, 1, 1))\n",
    "df_rcp = df_rcp.interpolate(target_times=times)"
   ]
  },
  {
   "cell_type": "code",
   "execution_count": null,
   "id": "fcadcd01",
   "metadata": {},
   "outputs": [],
   "source": [
    "df_rcp"
   ]
  },
  {
   "cell_type": "code",
   "execution_count": null,
   "id": "b9fc628e",
   "metadata": {},
   "outputs": [],
   "source": [
    "prefix = ''\n",
    "\n",
    "scenarios = df_rcp.copy()\n",
    "scenarios = scenarios.timeseries(time_axis=\"year\")\n",
    "# df_hist[\"variable\"] = df_hist[\"variable\"].apply(\n",
    "#     lambda x: x.replace(f\"{prefix}|\", \"\").replace(\"|Unharmonized\", \"\")\n",
    "# )\n",
    "df_hist[\"unit\"] = df_hist[\"unit\"].str.replace(\"-equiv\", \"\").str.replace(\"-\", \"\")\n",
    "history = df_hist.filter(year=range(1990, 2020)).timeseries(time_axis=\"year\")\n",
    "\n",
    "# TODO: remove hard-coding\n",
    "# not sure about this. can we put 2019 in?\n",
    "historical_offset_add_year = 2015\n",
    "historical_offset_base_year = 2010\n",
    "\n",
    "if harmonisation_year == historical_offset_add_year:\n",
    "    scenarios = add_year_historical_percentage_offset(\n",
    "        scenarios,\n",
    "        history,\n",
    "        yr=historical_offset_add_year,\n",
    "        low_yr=historical_offset_base_year,\n",
    "    )\n",
    "    \n",
    "output_timesteps = range(harmonisation_year, 2300 + 1)\n",
    "scenarios = pyam.IamDataFrame(scenarios).interpolate(output_timesteps)\n",
    "scenarios = scenarios.filter(year=output_timesteps).timeseries()"
   ]
  },
  {
   "cell_type": "code",
   "execution_count": null,
   "id": "c777252b",
   "metadata": {},
   "outputs": [],
   "source": [
    "overrides = pd.DataFrame(\n",
    "    [\n",
    "        {\n",
    "            \"method\": \"reduce_ratio_2050\",\n",
    "            \"variable\": \"Emissions|BC\",\n",
    "        },  # always ratio method by choice\n",
    "        {\n",
    "            \"method\": \"reduce_ratio_2150_cov\",\n",
    "            \"variable\": \"Emissions|PFC\",\n",
    "        },  # high historical variance (cov=16.2)\n",
    "        {\n",
    "            \"method\": \"reduce_ratio_2150_cov\",\n",
    "            \"variable\": \"Emissions|F-Gases|PFC|C2F6\",\n",
    "        },  # high historical variance (cov=16.2)\n",
    "        {\n",
    "            \"method\": \"reduce_ratio_2150_cov\",\n",
    "            \"variable\": \"Emissions|F-Gases|PFC|C6F14\",\n",
    "        },  # high historical variance (cov=15.4)\n",
    "        {\n",
    "            \"method\": \"reduce_ratio_2150_cov\",\n",
    "            \"variable\": \"Emissions|F-Gases|PFC|CF4\",\n",
    "        },  # high historical variance (cov=11.2)\n",
    "        {\n",
    "            \"method\": \"reduce_ratio_2050\",\n",
    "            \"variable\": \"Emissions|CH4\",\n",
    "        },  # always ratio method by choice\n",
    "        {\n",
    "            \"method\": \"reduce_ratio_2150_cov\",\n",
    "            \"variable\": \"Emissions|CO\",\n",
    "        },  # high historical variance (cov=15.4)\n",
    "        {\n",
    "            \"method\": \"reduce_ratio_2050\",\n",
    "            \"variable\": \"Emissions|CO2\",\n",
    "        },  # always ratio method by choice\n",
    "        {\n",
    "            \"method\": \"reduce_offset_2150_cov\",\n",
    "            \"variable\": \"Emissions|CO2|MAGICC AFOLU\",\n",
    "        },  # high historical variance, but using offset method to prevent diff from increasing when going negative rapidly (cov=23.2)\n",
    "        {\n",
    "            \"method\": \"reduce_ratio_2050\",  # always ratio method by choice\n",
    "            \"variable\": \"Emissions|CO2|MAGICC Fossil and Industrial\",\n",
    "        },\n",
    "        {\n",
    "            \"method\": \"constant_ratio\",\n",
    "            \"variable\": \"Emissions|F-Gases\",\n",
    "        },  # basket not used in infilling (sum of f-gases with low model reporting confidence)\n",
    "        {\n",
    "            \"method\": \"constant_ratio\",\n",
    "            \"variable\": \"Emissions|HFC\",\n",
    "        },  # basket not used in infilling (sum of subset of f-gases with low model reporting confidence)\n",
    "        {\n",
    "            \"method\": \"constant_ratio\",\n",
    "            \"variable\": \"Emissions|F-Gases|HFC|HFC125\",\n",
    "        },  # minor f-gas with low model reporting confidence\n",
    "        {\n",
    "            \"method\": \"constant_ratio\",\n",
    "            \"variable\": \"Emissions|F-Gases|HFC|HFC134a\",\n",
    "        },  # minor f-gas with low model reporting confidence\n",
    "        {\n",
    "            \"method\": \"constant_ratio\",\n",
    "            \"variable\": \"Emissions|F-Gases|HFC|HFC143a\",\n",
    "        },  # minor f-gas with low model reporting confidence\n",
    "        {\n",
    "            \"method\": \"constant_ratio\",\n",
    "            \"variable\": \"Emissions|F-Gases|HFC|HFC227ea\",\n",
    "        },  # minor f-gas with low model reporting confidence\n",
    "        {\n",
    "            \"method\": \"constant_ratio\",\n",
    "            \"variable\": \"Emissions|F-Gases|HFC|HFC245fa\",\n",
    "        },  # minor f-gas with low model reporting confidence\n",
    "        {\n",
    "            \"method\": \"constant_ratio\",\n",
    "            \"variable\": \"Emissions|F-Gases|HFC|HFC23\",\n",
    "        },  # minor f-gas with low model reporting confidence\n",
    "        {\n",
    "            \"method\": \"constant_ratio\",\n",
    "            \"variable\": \"Emissions|F-Gases|HFC|HFC32\",\n",
    "        },  # minor f-gas with low model reporting confidence\n",
    "        {\n",
    "            \"method\": \"constant_ratio\",\n",
    "            \"variable\": \"Emissions|F-Gases|HFC|HFC4310mee\",\n",
    "        },  # minor f-gas with low model reporting confidence\n",
    "        {\n",
    "            \"method\": \"reduce_ratio_2050\",\n",
    "            \"variable\": \"Emissions|N2O\",\n",
    "        },  # always ratio method by choice\n",
    "        {\n",
    "            \"method\": \"reduce_ratio_2050\",\n",
    "            \"variable\": \"Emissions|NH3\",\n",
    "        },  # always ratio method by choice\n",
    "        {\n",
    "            \"method\": \"reduce_ratio_2050\",\n",
    "            \"variable\": \"Emissions|NOx\",\n",
    "        },  # always ratio method by choice\n",
    "        {\n",
    "            \"method\": \"reduce_ratio_2150_cov\",\n",
    "            \"variable\": \"Emissions|OC\",\n",
    "        },  # high historical variance (cov=18.5)\n",
    "        {\n",
    "            \"method\": \"constant_ratio\",\n",
    "            \"variable\": \"Emissions|F-Gases|SF6\",\n",
    "        },  # minor f-gas with low model reporting confidence\n",
    "        #     {'method': 'default_aneris_tree', 'variable': 'Emissions|Sulfur'}, # depending on the decision tree in aneris/method.py\n",
    "        {\n",
    "            \"method\": \"reduce_ratio_2050\",\n",
    "            \"variable\": \"Emissions|Sulfur\",\n",
    "        },  # always ratio method by choice\n",
    "        {\n",
    "            \"method\": \"reduce_ratio_2150_cov\",\n",
    "            \"variable\": \"Emissions|VOC\",\n",
    "        },  # high historical variance (cov=12.0)\n",
    "        {\n",
    "            \"method\": \"reduce_ratio_2050\",\n",
    "            \"variable\": \"Emissions|Montreal Gases|CFC|CFC11\",\n",
    "        },  # always ratio method by choice\n",
    "        {\n",
    "            \"method\": \"reduce_ratio_2050\",\n",
    "            \"variable\": \"Emissions|Montreal Gases|CFC|CFC12\",\n",
    "        },  # always ratio method by choice\n",
    "        {\n",
    "            \"method\": \"reduce_ratio_2050\",\n",
    "            \"variable\": \"Emissions|Montreal Gases|CFC|CFC113\",\n",
    "        },  # always ratio method by choice\n",
    "        {\n",
    "            \"method\": \"reduce_ratio_2050\",\n",
    "            \"variable\": \"Emissions|Montreal Gases|CFC|CFC114\",\n",
    "        },  # always ratio method by choice\n",
    "        {\n",
    "            \"method\": \"reduce_ratio_2050\",\n",
    "            \"variable\": \"Emissions|Montreal Gases|CFC|CFC115\",\n",
    "        },  # always ratio method by choice\n",
    "        {\n",
    "            \"method\": \"reduce_ratio_2050\",\n",
    "            \"variable\": \"Emissions|Montreal Gases|CFC|CCl4\",\n",
    "        },  # always ratio method by choice\n",
    "        {\n",
    "            \"method\": \"reduce_ratio_2050\",\n",
    "            \"variable\": \"Emissions|Montreal Gases|CFC|CH3CCl3\",\n",
    "        },  # always ratio method by choice\n",
    "        {\n",
    "            \"method\": \"reduce_ratio_2050\",\n",
    "            \"variable\": \"Emissions|Montreal Gases|CFC|HCFC22\",\n",
    "        },  # always ratio method by choice\n",
    "        {\n",
    "            \"method\": \"reduce_ratio_2050\",\n",
    "            \"variable\": \"Emissions|Montreal Gases|CFC|HCFC141b\",\n",
    "        },  # always ratio method by choice\n",
    "        {\n",
    "            \"method\": \"reduce_ratio_2050\",\n",
    "            \"variable\": \"Emissions|Montreal Gases|CFC|HCFC142b\",\n",
    "        },  # always ratio method by choi\n",
    "        {\n",
    "            \"method\": \"reduce_ratio_2050\",\n",
    "            \"variable\": \"Emissions|Montreal Gases|CFC|Halon1211\",\n",
    "        },  # always ratio method by choice\n",
    "        {\n",
    "            \"method\": \"reduce_ratio_2050\",\n",
    "            \"variable\": \"Emissions|Montreal Gases|CFC|Halon1202\",\n",
    "        },  # always ratio method by choice\n",
    "        {\n",
    "            \"method\": \"reduce_ratio_2050\",\n",
    "            \"variable\": \"Emissions|Montreal Gases|CFC|Halon1301\",\n",
    "        },  # always ratio method by choice\n",
    "        {\n",
    "            \"method\": \"reduce_ratio_2050\",\n",
    "            \"variable\": \"Emissions|Montreal Gases|CFC|Halon2402\",\n",
    "        },  # always ratio method by choice\n",
    "                {\n",
    "            \"method\": \"reduce_ratio_2050\",\n",
    "            \"variable\": \"Emissions|Montreal Gases|CFC|CH3Br\",\n",
    "        },  # always ratio method by choice\n",
    "        {\n",
    "            \"method\": \"reduce_ratio_2050\",\n",
    "            \"variable\": \"Emissions|Montreal Gases|CFC|CH3Cl\",\n",
    "        },  # always ratio method by choice\n",
    "    ]\n",
    ")"
   ]
  },
  {
   "cell_type": "code",
   "execution_count": null,
   "id": "764ef52e",
   "metadata": {},
   "outputs": [],
   "source": [
    "for _, msdf in scenarios.groupby([\"model\", \"scenario\"]):\n",
    "    aneris.convenience.harmonise_all(\n",
    "        msdf,\n",
    "        history=history,\n",
    "        harmonisation_year=harmonisation_year,\n",
    "        overrides=overrides,\n",
    "    )"
   ]
  },
  {
   "cell_type": "code",
   "execution_count": null,
   "id": "857a0885",
   "metadata": {},
   "outputs": [],
   "source": [
    "scenarios_harmonised = [\n",
    "    aneris.convenience.harmonise_all(\n",
    "        msdf,\n",
    "        history=history,\n",
    "        harmonisation_year=harmonisation_year,\n",
    "        overrides=overrides,\n",
    "    )\n",
    "    for _, msdf in scenarios.groupby([\"model\", \"scenario\"])\n",
    "]"
   ]
  },
  {
   "cell_type": "code",
   "execution_count": null,
   "id": "c527b01f",
   "metadata": {},
   "outputs": [],
   "source": [
    "#scenarios_harmonised"
   ]
  },
  {
   "cell_type": "code",
   "execution_count": null,
   "id": "8decaa0b",
   "metadata": {},
   "outputs": [],
   "source": [
    "pd.options.display.max_columns = 500\n",
    "scenarios_harmonised[0].iloc[scenarios_harmonised[0].index.get_level_values('variable') == \"Emissions|BC\"]"
   ]
  },
  {
   "cell_type": "code",
   "execution_count": null,
   "id": "40ace8b1",
   "metadata": {},
   "outputs": [],
   "source": [
    "scenarios_harmonised[0]"
   ]
  },
  {
   "cell_type": "code",
   "execution_count": null,
   "id": "1ddf0a46",
   "metadata": {},
   "outputs": [],
   "source": [
    "len(scenarios_harmonised[0])"
   ]
  },
  {
   "cell_type": "code",
   "execution_count": null,
   "id": "83f9369d",
   "metadata": {},
   "outputs": [],
   "source": [
    "scenarios_harmonised = pd.concat(scenarios_harmonised).reset_index()"
   ]
  },
  {
   "cell_type": "code",
   "execution_count": null,
   "id": "8b0bfb01",
   "metadata": {},
   "outputs": [],
   "source": [
    "np.tile(df_hist.values, (4,1))"
   ]
  },
  {
   "cell_type": "code",
   "execution_count": null,
   "id": "cca20e87",
   "metadata": {},
   "outputs": [],
   "source": [
    "scenarios_harmonised"
   ]
  },
  {
   "cell_type": "code",
   "execution_count": null,
   "id": "ec011a3e",
   "metadata": {},
   "outputs": [],
   "source": [
    "for i in range(265):\n",
    "    scenarios_harmonised.insert(i+7, 1750+i, np.tile(df_hist.values, (4,1))[:, i])"
   ]
  },
  {
   "cell_type": "code",
   "execution_count": null,
   "id": "20cb7424",
   "metadata": {},
   "outputs": [],
   "source": [
    "scenarios_harmonised"
   ]
  },
  {
   "cell_type": "code",
   "execution_count": null,
   "id": "5e040be1",
   "metadata": {},
   "outputs": [],
   "source": [
    "scenarios_harmonised = pyam.IamDataFrame(scenarios_harmonised)\n",
    "scenarios_harmonised.to_csv('../data/rcmip/rcps_harmonized.csv')"
   ]
  },
  {
   "cell_type": "code",
   "execution_count": null,
   "id": "32ac3172",
   "metadata": {},
   "outputs": [],
   "source": []
  }
 ],
 "metadata": {
  "kernelspec": {
   "display_name": "Python 3 (ipykernel)",
   "language": "python",
   "name": "python3"
  },
  "language_info": {
   "codemirror_mode": {
    "name": "ipython",
    "version": 3
   },
   "file_extension": ".py",
   "mimetype": "text/x-python",
   "name": "python",
   "nbconvert_exporter": "python",
   "pygments_lexer": "ipython3",
   "version": "3.7.12"
  }
 },
 "nbformat": 4,
 "nbformat_minor": 5
}
