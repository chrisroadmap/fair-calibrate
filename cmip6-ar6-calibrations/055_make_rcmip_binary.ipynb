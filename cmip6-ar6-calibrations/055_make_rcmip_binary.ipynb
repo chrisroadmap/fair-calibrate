{
 "cells": [
  {
   "cell_type": "markdown",
   "id": "be617380",
   "metadata": {},
   "source": [
    "# pandas and ascii is slow AF\n",
    "\n",
    "I'm making a binary file with only the stuff from RCMIP that we actually need"
   ]
  },
  {
   "cell_type": "code",
   "execution_count": null,
   "id": "b682de81",
   "metadata": {},
   "outputs": [],
   "source": [
    "import pandas as pd\n",
    "import xarray as xr"
   ]
  },
  {
   "cell_type": "code",
   "execution_count": null,
   "id": "ae6887ac",
   "metadata": {},
   "outputs": [],
   "source": [
    "df_emis = pd.read_csv('../data/rcmip/rcmip-emissions-annual-means-v5-1-0.csv')"
   ]
  },
  {
   "cell_type": "code",
   "execution_count": null,
   "id": "0884db49",
   "metadata": {},
   "outputs": [],
   "source": [
    "df_emis.drop(columns=['Model', 'Mip_Era', 'Activity_Id'], inplace=True)\n",
    "df_emis"
   ]
  },
  {
   "cell_type": "code",
   "execution_count": null,
   "id": "393bb21e",
   "metadata": {},
   "outputs": [],
   "source": [
    "df_emis.Scenario.unique()"
   ]
  },
  {
   "cell_type": "code",
   "execution_count": null,
   "id": "9db67231",
   "metadata": {},
   "outputs": [],
   "source": [
    "df_emis_filt = df_emis[df_emis['Region']=='World']"
   ]
  },
  {
   "cell_type": "code",
   "execution_count": null,
   "id": "a8ce1474",
   "metadata": {},
   "outputs": [],
   "source": [
    "df_emis_reconstruct = pd.DataFrame()\n",
    "for var in [\n",
    "    '|CO2|MAGICC Fossil and Industrial',\n",
    "    '|CO2|MAGICC AFOLU',\n",
    "    '|CO2',\n",
    "    '|CH4',\n",
    "    '|N2O',\n",
    "    '|Sulfur',\n",
    "    '|CO',\n",
    "    '|VOC',\n",
    "    '|NOx|MAGICC Fossil and Industrial|Aircraft',\n",
    "    '|NOx',\n",
    "    '|BC',\n",
    "    '|OC',\n",
    "    '|NH3',\n",
    "    '|CF4',\n",
    "    '|C2F6',\n",
    "    '|C3F8',\n",
    "    '|C4F10',\n",
    "    '|C5F12',\n",
    "    '|C6F14',\n",
    "    '|C7F16',\n",
    "    '|C8F18',\n",
    "    '|cC4F8',\n",
    "    '|HFC23',\n",
    "    '|HFC32',\n",
    "    '|HFC125',\n",
    "    '|HFC134a',\n",
    "    '|HFC143a',\n",
    "    '|HFC152a',\n",
    "    '|HFC227ea',\n",
    "    '|HFC236fa',\n",
    "    '|HFC245fa',\n",
    "    '|HFC365mfc',\n",
    "    '|HFC4310mee',\n",
    "    '|SF6',\n",
    "    '|SO2F2',\n",
    "    '|NF3',\n",
    "    '|CFC11',\n",
    "    '|CFC12',\n",
    "    '|CFC113',\n",
    "    '|CFC114',\n",
    "    '|CFC115',\n",
    "    '|CCl4',\n",
    "    '|CH3CCl3',\n",
    "    '|HCFC22',\n",
    "    '|HCFC141b',\n",
    "    '|HCFC142b',\n",
    "    '|Halon1211',\n",
    "    '|Halon1202',\n",
    "    '|Halon1301',\n",
    "    '|Halon2402',\n",
    "    '|CH3Br',\n",
    "    '|CH3Cl',\n",
    "    '|CH2Cl2',\n",
    "    '|CHCl3',\n",
    "]:\n",
    "    df_emis_reconstruct = pd.concat([df_emis_reconstruct, df_emis_filt[df_emis_filt['Variable'].str.endswith(var)]])"
   ]
  },
  {
   "cell_type": "code",
   "execution_count": null,
   "id": "43fc58a3",
   "metadata": {},
   "outputs": [],
   "source": [
    "df_emis_reconstruct"
   ]
  },
  {
   "cell_type": "code",
   "execution_count": null,
   "id": "01831a56",
   "metadata": {},
   "outputs": [],
   "source": [
    "data = df_emis_reconstruct.loc[:,'1750':].interpolate(axis=1, limit_direction='backward')"
   ]
  },
  {
   "cell_type": "code",
   "execution_count": null,
   "id": "c78c8e87",
   "metadata": {},
   "outputs": [],
   "source": [
    "data"
   ]
  },
  {
   "cell_type": "code",
   "execution_count": null,
   "id": "fae004fc",
   "metadata": {},
   "outputs": [],
   "source": [
    "df_emis_reconstruct = df_emis_reconstruct.loc[:,'Scenario':'Unit'].join(data)"
   ]
  },
  {
   "cell_type": "code",
   "execution_count": null,
   "id": "3d226a52",
   "metadata": {},
   "outputs": [],
   "source": [
    "df_emis_reconstruct.drop(columns=['Region'], inplace=True)"
   ]
  },
  {
   "cell_type": "code",
   "execution_count": null,
   "id": "77b41c5c",
   "metadata": {},
   "outputs": [],
   "source": [
    "df_emis_reconstruct"
   ]
  },
  {
   "cell_type": "code",
   "execution_count": null,
   "id": "efd7ff70",
   "metadata": {},
   "outputs": [],
   "source": [
    "df_emis_reconstruct[\n",
    "    (df_emis_reconstruct['Scenario']=='ssp119')&\n",
    "    (df_emis_reconstruct['Variable']=='Emissions|Montreal Gases|CHCl3')\n",
    "]"
   ]
  },
  {
   "cell_type": "code",
   "execution_count": null,
   "id": "1ce67d0b",
   "metadata": {},
   "outputs": [],
   "source": [
    "df_emis_reconstruct.Scenario.unique()"
   ]
  },
  {
   "cell_type": "code",
   "execution_count": null,
   "id": "80b96db2",
   "metadata": {},
   "outputs": [],
   "source": [
    "len(df_emis_reconstruct.Scenario.unique())"
   ]
  },
  {
   "cell_type": "code",
   "execution_count": null,
   "id": "ae886fb8",
   "metadata": {},
   "outputs": [],
   "source": [
    "df_emis_reconstruct.Variable.unique()"
   ]
  },
  {
   "cell_type": "code",
   "execution_count": null,
   "id": "25f4bb2a",
   "metadata": {},
   "outputs": [],
   "source": [
    "len(df_emis_reconstruct.Variable.unique())"
   ]
  },
  {
   "cell_type": "code",
   "execution_count": null,
   "id": "3866de5a",
   "metadata": {},
   "outputs": [],
   "source": [
    "for scenario in scenarios:\n",
    "    da = xr.Dataset(\n",
    "        {\n",
    "            'emissions': ['year', 'scenario', 'specie']\n",
    "        }\n",
    "    )"
   ]
  }
 ],
 "metadata": {
  "kernelspec": {
   "display_name": "Python 3 (ipykernel)",
   "language": "python",
   "name": "python3"
  },
  "language_info": {
   "codemirror_mode": {
    "name": "ipython",
    "version": 3
   },
   "file_extension": ".py",
   "mimetype": "text/x-python",
   "name": "python",
   "nbconvert_exporter": "python",
   "pygments_lexer": "ipython3",
   "version": "3.7.12"
  }
 },
 "nbformat": 4,
 "nbformat_minor": 5
}
