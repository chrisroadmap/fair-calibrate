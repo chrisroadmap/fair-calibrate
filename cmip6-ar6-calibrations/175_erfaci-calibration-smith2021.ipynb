{
 "cells": [
  {
   "cell_type": "markdown",
   "id": "93173193",
   "metadata": {},
   "source": [
    "# Aerosol calibration\n",
    "\n",
    "Use the Smith et al. 2021 calibrations to 12 CMIP6 models, with a uniform distribution of 1750-2010 ERFaci of 0 to -3 W m-2"
   ]
  },
  {
   "cell_type": "code",
   "execution_count": null,
   "id": "798e1103",
   "metadata": {},
   "outputs": [],
   "source": [
    "import pandas as pd\n",
    "import numpy as np\n",
    "import matplotlib.pyplot as pl\n",
    "import json\n",
    "import scipy.stats\n",
    "\n",
    "from tqdm import tqdm"
   ]
  },
  {
   "cell_type": "code",
   "execution_count": null,
   "id": "b3a48a9c",
   "metadata": {},
   "outputs": [],
   "source": [
    "with open('../data/smith2021aerosol/cmip6_aerosol_coefficients.json') as f:\n",
    "    data = json.load(f)"
   ]
  },
  {
   "cell_type": "code",
   "execution_count": null,
   "id": "4c51132b",
   "metadata": {},
   "outputs": [],
   "source": [
    "log_n0_samp = np.zeros(12)\n",
    "log_n1_samp = np.zeros(12)"
   ]
  },
  {
   "cell_type": "code",
   "execution_count": null,
   "id": "3fc57e8e",
   "metadata": {},
   "outputs": [],
   "source": [
    "for imodel, model in enumerate(data):\n",
    "    if imodel==12:\n",
    "        break\n",
    "    log_n0_samp[imodel] = np.log(data[model]['ERFaci']['n0'])\n",
    "    log_n1_samp[imodel] = np.log(data[model]['ERFaci']['n1'])"
   ]
  },
  {
   "cell_type": "code",
   "execution_count": null,
   "id": "d34662b7",
   "metadata": {},
   "outputs": [],
   "source": [
    "kde = scipy.stats.gaussian_kde([log_n0_samp, log_n1_samp])\n",
    "aci_sample=kde.resample(size=50000, seed=63648708)"
   ]
  },
  {
   "cell_type": "code",
   "execution_count": null,
   "id": "b5cd8df7",
   "metadata": {},
   "outputs": [],
   "source": [
    "emissions = pd.read_csv('../data/rcmip/rcmip-emissions-annual-means-v5-1-0.csv')\n",
    "df_emissions = pd.concat([emissions.loc[(\n",
    "        (emissions.Variable=='Emissions|BC')|\n",
    "        (emissions.Variable=='Emissions|OC')|\n",
    "        (emissions.Variable=='Emissions|Sulfur')|\n",
    "        (emissions.Variable=='Emissions|NOx')|\n",
    "        (emissions.Variable=='Emissions|NH3')\n",
    "    ) & (emissions.Scenario=='ssp245') & (emissions.Region=='World'), 'Variable'], emissions.loc[(\n",
    "        (emissions.Variable=='Emissions|BC')|\n",
    "        (emissions.Variable=='Emissions|OC')|\n",
    "        (emissions.Variable=='Emissions|Sulfur')|\n",
    "        (emissions.Variable=='Emissions|NOx')|\n",
    "        (emissions.Variable=='Emissions|NH3')\n",
    "    ) & (emissions.Scenario=='ssp245') & (emissions.Region=='World'), '1750':'2100']], axis=1)#.interpolate(axis=1).T\n",
    "df_emissions.set_index('Variable', inplace=True)\n",
    "df_emissions = df_emissions.interpolate(axis=1).T\n",
    "df_emissions.rename(\n",
    "    columns={\n",
    "        'Emissions|BC': 'BC',\n",
    "        'Emissions|OC': 'OC',\n",
    "        'Emissions|Sulfur': 'SO2',\n",
    "        'Emissions|NOx': 'NOx',\n",
    "        'Emissions|NH3': 'NH3',\n",
    "    }, inplace=True\n",
    ")\n",
    "# only keep cols we want\n",
    "emissions = df_emissions[['SO2', 'BC', 'OC', 'NH3', 'NOx']]\n",
    "emissions.index = emissions.index.astype('int')\n",
    "emissions.index.name='year'\n",
    "emissions.columns.name=None"
   ]
  },
  {
   "cell_type": "code",
   "execution_count": null,
   "id": "46f6ef76",
   "metadata": {},
   "outputs": [],
   "source": [
    "emissions"
   ]
  },
  {
   "cell_type": "code",
   "execution_count": null,
   "id": "529d1b0c",
   "metadata": {},
   "outputs": [],
   "source": [
    "def ghan(x, beta, n0, n1):\n",
    "    return -beta*np.log(1 + x[0]/n0 + x[1]/n1)"
   ]
  },
  {
   "cell_type": "code",
   "execution_count": null,
   "id": "fa71fc6c",
   "metadata": {},
   "outputs": [],
   "source": [
    "samples = 50000"
   ]
  },
  {
   "cell_type": "code",
   "execution_count": null,
   "id": "4ef1b724",
   "metadata": {},
   "outputs": [],
   "source": [
    "erfaci_sample = scipy.stats.uniform.rvs(-3, 3, size=samples, random_state = 71271)"
   ]
  },
  {
   "cell_type": "code",
   "execution_count": null,
   "id": "f5350c70",
   "metadata": {},
   "outputs": [],
   "source": [
    "erfaci = np.zeros((351,samples))\n",
    "beta = np.zeros(samples)\n",
    "for i in tqdm(range(samples)):\n",
    "    ts2010 = np.mean(ghan([emissions.loc[2005:2015,'SO2'], emissions.loc[2005:2015,'BC']+emissions.loc[2005:2015,'OC']], 0.97, np.exp(aci_sample[0,i]), np.exp(aci_sample[1,i])))\n",
    "    ts1850 = ghan([emissions.loc[1850,'SO2'],emissions.loc[1850,'BC']+emissions.loc[1850,'OC']], 0.97, np.exp(aci_sample[0,i]), np.exp(aci_sample[1,i])) \n",
    "    ts1750 = ghan([emissions.loc[1750,'SO2'],emissions.loc[1750,'BC']+emissions.loc[1750,'OC']], 0.97, np.exp(aci_sample[0,i]), np.exp(aci_sample[1,i]))\n",
    "    erfaci[:,i] = (\n",
    "        ghan([emissions['SO2'],emissions['BC']+emissions['OC']], 0.97, np.exp(aci_sample[0,i]), np.exp(aci_sample[1,i])) \n",
    "        - ts1750\n",
    "    )/(ts2010-ts1850)*(erfaci_sample[i])\n",
    "    beta[i] = erfaci_sample[i] / (ts2010-ts1750)"
   ]
  },
  {
   "cell_type": "code",
   "execution_count": null,
   "id": "8bcc3b86",
   "metadata": {},
   "outputs": [],
   "source": [
    "pl.plot(erfaci[:, :]);\n",
    "#pl.ylim(-4, 0.5);"
   ]
  },
  {
   "cell_type": "code",
   "execution_count": null,
   "id": "d8f9a978",
   "metadata": {},
   "outputs": [],
   "source": [
    "np.sum(np.isnan(erfaci))"
   ]
  },
  {
   "cell_type": "code",
   "execution_count": null,
   "id": "4b7aa4b1",
   "metadata": {},
   "outputs": [],
   "source": [
    "df = pd.DataFrame({\n",
    "    'shape_so2' : np.exp(aci_sample[0,:]),\n",
    "    'shape_bcoc' : np.exp(aci_sample[1,:]), \n",
    "    'beta' : beta\n",
    "})"
   ]
  },
  {
   "cell_type": "code",
   "execution_count": null,
   "id": "62857b36",
   "metadata": {},
   "outputs": [],
   "source": [
    "df"
   ]
  },
  {
   "cell_type": "code",
   "execution_count": null,
   "id": "db8c0fd7",
   "metadata": {},
   "outputs": [],
   "source": [
    "df.to_csv('../data/parameter_sets/erfaci.csv', index=False)"
   ]
  }
 ],
 "metadata": {
  "kernelspec": {
   "display_name": "Python 3 (ipykernel)",
   "language": "python",
   "name": "python3"
  },
  "language_info": {
   "codemirror_mode": {
    "name": "ipython",
    "version": 3
   },
   "file_extension": ".py",
   "mimetype": "text/x-python",
   "name": "python",
   "nbconvert_exporter": "python",
   "pygments_lexer": "ipython3",
   "version": "3.7.12"
  }
 },
 "nbformat": 4,
 "nbformat_minor": 5
}
