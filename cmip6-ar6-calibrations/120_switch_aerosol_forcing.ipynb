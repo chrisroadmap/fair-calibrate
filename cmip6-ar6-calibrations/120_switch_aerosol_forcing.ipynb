{
 "cells": [
  {
   "cell_type": "markdown",
   "id": "c63595e7",
   "metadata": {},
   "source": [
    "# Investigate different aerosol indirect forcing relationships\n",
    "\n",
    "This might be better coded up as a test rather than an example."
   ]
  },
  {
   "cell_type": "code",
   "execution_count": null,
   "id": "73db168e",
   "metadata": {},
   "outputs": [],
   "source": [
    "import copy\n",
    "\n",
    "import matplotlib.pyplot as pl\n",
    "\n",
    "from fair import FAIR\n",
    "from fair.interface import fill, initialise\n",
    "from fair.io import read_properties"
   ]
  },
  {
   "cell_type": "code",
   "execution_count": null,
   "id": "a28ad6c8",
   "metadata": {},
   "outputs": [],
   "source": [
    "%load_ext autoreload"
   ]
  },
  {
   "cell_type": "code",
   "execution_count": null,
   "id": "e800ff68",
   "metadata": {},
   "outputs": [],
   "source": [
    "%autoreload 2"
   ]
  },
  {
   "cell_type": "markdown",
   "id": "d05b81e0",
   "metadata": {},
   "source": [
    "## Test 1: SO2, BC, OC"
   ]
  },
  {
   "cell_type": "code",
   "execution_count": null,
   "id": "61276574",
   "metadata": {},
   "outputs": [],
   "source": [
    "f1 = FAIR()"
   ]
  },
  {
   "cell_type": "code",
   "execution_count": null,
   "id": "25fb9e52",
   "metadata": {},
   "outputs": [],
   "source": [
    "scenarios = ['ssp245']"
   ]
  },
  {
   "cell_type": "code",
   "execution_count": null,
   "id": "505780a5",
   "metadata": {},
   "outputs": [],
   "source": [
    "f1.define_scenarios(scenarios)"
   ]
  },
  {
   "cell_type": "code",
   "execution_count": null,
   "id": "ddf32cd2",
   "metadata": {},
   "outputs": [],
   "source": [
    "f1.define_time(1750, 2500, 1)"
   ]
  },
  {
   "cell_type": "code",
   "execution_count": null,
   "id": "29145222",
   "metadata": {},
   "outputs": [],
   "source": [
    "species = ['Sulfur', 'BC', 'OC', 'Aerosol-cloud interactions']"
   ]
  },
  {
   "cell_type": "code",
   "execution_count": null,
   "id": "59f2a346",
   "metadata": {},
   "outputs": [],
   "source": [
    "properties = {\n",
    "    'Sulfur': {\n",
    "        'type': 'sulfur',\n",
    "        'input_mode': 'emissions',\n",
    "        'greenhouse_gas': False,\n",
    "        'aerosol_chemistry_from_emissions': True,\n",
    "        'aerosol_chemistry_from_concentration': False\n",
    "    },\n",
    "    'BC': {\n",
    "        'type': 'black carbon',\n",
    "        'input_mode': 'emissions',\n",
    "        'greenhouse_gas': False,\n",
    "        'aerosol_chemistry_from_emissions': True,\n",
    "        'aerosol_chemistry_from_concentration': False\n",
    "    },\n",
    "    'OC': {\n",
    "        'type': 'organic carbon',\n",
    "        'input_mode': 'emissions',\n",
    "        'greenhouse_gas': False,\n",
    "        'aerosol_chemistry_from_emissions': True,\n",
    "        'aerosol_chemistry_from_concentration': False\n",
    "    },\n",
    "    'Aerosol-cloud interactions': {\n",
    "        'type': 'aci',\n",
    "        'input_mode': 'calculated',\n",
    "        'greenhouse_gas': False,\n",
    "        'aerosol_chemistry_from_emissions': False,\n",
    "        'aerosol_chemistry_from_concentration': False\n",
    "    },\n",
    "}"
   ]
  },
  {
   "cell_type": "code",
   "execution_count": null,
   "id": "d4344304",
   "metadata": {},
   "outputs": [],
   "source": [
    "f1.define_species(species, properties)"
   ]
  },
  {
   "cell_type": "code",
   "execution_count": null,
   "id": "b2673921",
   "metadata": {},
   "outputs": [],
   "source": [
    "f1.define_configs(['UKESM1-0-LL'])"
   ]
  },
  {
   "cell_type": "code",
   "execution_count": null,
   "id": "04168a1a",
   "metadata": {},
   "outputs": [],
   "source": [
    "f1.allocate()"
   ]
  },
  {
   "cell_type": "code",
   "execution_count": null,
   "id": "10f7f71d",
   "metadata": {},
   "outputs": [],
   "source": [
    "f1.aci_method='Smith2021'"
   ]
  },
  {
   "cell_type": "code",
   "execution_count": null,
   "id": "89dcfdb9",
   "metadata": {},
   "outputs": [],
   "source": [
    "fill(f1.climate_configs['ocean_heat_capacity'], [ 2.91730005, 11.28317472, 73.2487238 ], config='UKESM1-0-LL')\n",
    "fill(f1.climate_configs['ocean_heat_transfer'], [0.65576633, 2.59787768, 0.61293389], config='UKESM1-0-LL')\n",
    "fill(f1.climate_configs['deep_ocean_efficacy'], 1.13370877488901, config='UKESM1-0-LL')\n",
    "fill(f1.climate_configs['stochastic_run'], False, config='UKESM1-0-LL')\n",
    "fill(f1.climate_configs['use_seed'], False, config='UKESM1-0-LL')"
   ]
  },
  {
   "cell_type": "code",
   "execution_count": null,
   "id": "e894d287",
   "metadata": {},
   "outputs": [],
   "source": [
    "fill(f1.species_configs['aci_parameters'], [0.741, 39.5, 228.1])\n",
    "fill(f1.species_configs['baseline_emissions'], 2.440048435, specie='Sulfur')\n",
    "fill(f1.species_configs['baseline_emissions'], 2.097770755, specie='BC')\n",
    "fill(f1.species_configs['baseline_emissions'], 15.44766815, specie='OC')"
   ]
  },
  {
   "cell_type": "code",
   "execution_count": null,
   "id": "5af0bf3a",
   "metadata": {},
   "outputs": [],
   "source": [
    "f1.fill_from_rcmip()"
   ]
  },
  {
   "cell_type": "code",
   "execution_count": null,
   "id": "7d9f5710",
   "metadata": {},
   "outputs": [],
   "source": [
    "initialise(f1.temperature, 0)\n",
    "initialise(f1.forcing, 0)"
   ]
  },
  {
   "cell_type": "code",
   "execution_count": null,
   "id": "72c7b141",
   "metadata": {},
   "outputs": [],
   "source": [
    "f1.species_configs"
   ]
  },
  {
   "cell_type": "code",
   "execution_count": null,
   "id": "57194df8",
   "metadata": {},
   "outputs": [],
   "source": [
    "f1.species_configs['aci_parameters']"
   ]
  },
  {
   "cell_type": "code",
   "execution_count": null,
   "id": "eca4fa46",
   "metadata": {},
   "outputs": [],
   "source": [
    "f1.run()"
   ]
  },
  {
   "cell_type": "code",
   "execution_count": null,
   "id": "c069a7a2",
   "metadata": {},
   "outputs": [],
   "source": [
    "f2 = copy.deepcopy(f1)"
   ]
  },
  {
   "cell_type": "code",
   "execution_count": null,
   "id": "8431110e",
   "metadata": {},
   "outputs": [],
   "source": [
    "f2.aci_method='Leach2021'"
   ]
  },
  {
   "cell_type": "code",
   "execution_count": null,
   "id": "255bed8d",
   "metadata": {},
   "outputs": [],
   "source": [
    "f2.aci_parameters = ['scale_sulfur', 'shape_sulfur', 'shape_bcoc']"
   ]
  },
  {
   "cell_type": "code",
   "execution_count": null,
   "id": "b431e102",
   "metadata": {},
   "outputs": [],
   "source": [
    "fill(f2.species_configs['aci_parameters'], [0.74, 38.9, -0.000265])"
   ]
  },
  {
   "cell_type": "code",
   "execution_count": null,
   "id": "dd1aa6ef",
   "metadata": {},
   "outputs": [],
   "source": [
    "f2.run()"
   ]
  },
  {
   "cell_type": "code",
   "execution_count": null,
   "id": "c09684ce",
   "metadata": {},
   "outputs": [],
   "source": [
    "pl.plot(f1.timebounds, f1.forcing_sum.loc[dict(config='UKESM1-0-LL')], label='Smith et al. 2021')\n",
    "pl.plot(f2.timebounds, f2.forcing_sum.loc[dict(config='UKESM1-0-LL')], label='Leach et al. 2021')\n",
    "#pl.plot(f3.timebounds, f3.forcing_sum.loc[dict(config='UKESM1-0-LL')], label='Stevens et al. 2015')\n",
    "pl.title('Total radiative forcing')\n",
    "pl.legend()"
   ]
  },
  {
   "cell_type": "code",
   "execution_count": null,
   "id": "7fefb58f",
   "metadata": {},
   "outputs": [],
   "source": [
    "pl.plot(f1.timebounds, f1.temperature.loc[dict(config='UKESM1-0-LL', layer=0)], label='Smith et al. 2021')\n",
    "pl.plot(f2.timebounds, f2.temperature.loc[dict(config='UKESM1-0-LL', layer=0)], label='Leach et al. 2021')\n",
    "#pl.plot(f3.timebounds, f3.temperature.loc[dict(config='UKESM1-0-LL', layer=0)], label='Stevens et al. 2015')\n",
    "pl.title('Temperature anomaly')\n",
    "pl.legend()"
   ]
  },
  {
   "cell_type": "code",
   "execution_count": null,
   "id": "0ba4cf40",
   "metadata": {},
   "outputs": [],
   "source": [
    "pl.plot(f1.timebounds, f1.forcing.loc[dict(config='UKESM1-0-LL', specie='Aerosol-cloud interactions')], label='Smith et al. 2021')\n",
    "pl.plot(f2.timebounds, f2.forcing.loc[dict(config='UKESM1-0-LL', specie='Aerosol-cloud interactions')], label='Leach et al. 2021')\n",
    "#pl.plot(f3.timebounds, f3.forcing.loc[dict(config='UKESM1-0-LL', specie='Aerosol-cloud interactions')], label='Stevens et al. 2015')\n",
    "pl.title('ERFaci')\n",
    "pl.legend()"
   ]
  },
  {
   "cell_type": "markdown",
   "id": "9bd253f7",
   "metadata": {},
   "source": [
    "## Test 2: SO2 only\n",
    "\n",
    "will work only for Leach and Stevens"
   ]
  },
  {
   "cell_type": "code",
   "execution_count": null,
   "id": "7b944256",
   "metadata": {},
   "outputs": [],
   "source": [
    "f5 = FAIR()"
   ]
  },
  {
   "cell_type": "code",
   "execution_count": null,
   "id": "392133b3",
   "metadata": {},
   "outputs": [],
   "source": [
    "f5.define_scenarios(scenarios)"
   ]
  },
  {
   "cell_type": "code",
   "execution_count": null,
   "id": "3c11c605",
   "metadata": {},
   "outputs": [],
   "source": [
    "f5.define_time(1750, 2500, 1)"
   ]
  },
  {
   "cell_type": "code",
   "execution_count": null,
   "id": "71c5f69a",
   "metadata": {},
   "outputs": [],
   "source": [
    "species = ['Sulfur', 'Aerosol-cloud interactions']"
   ]
  },
  {
   "cell_type": "code",
   "execution_count": null,
   "id": "c57ce85d",
   "metadata": {},
   "outputs": [],
   "source": [
    "properties = {\n",
    "    'Sulfur': {\n",
    "        'type': 'sulfur',\n",
    "        'input_mode': 'emissions',\n",
    "        'greenhouse_gas': False,\n",
    "        'aerosol_chemistry_from_emissions': True,\n",
    "        'aerosol_chemistry_from_concentration': False\n",
    "    },\n",
    "    'Aerosol-cloud interactions': {\n",
    "        'type': 'aci',\n",
    "        'input_mode': 'calculated',\n",
    "        'greenhouse_gas': False,\n",
    "        'aerosol_chemistry_from_emissions': False,\n",
    "        'aerosol_chemistry_from_concentration': False\n",
    "    },\n",
    "}"
   ]
  },
  {
   "cell_type": "code",
   "execution_count": null,
   "id": "1b8f137a",
   "metadata": {},
   "outputs": [],
   "source": [
    "f5.define_species(species, properties)"
   ]
  },
  {
   "cell_type": "code",
   "execution_count": null,
   "id": "23a44062",
   "metadata": {},
   "outputs": [],
   "source": [
    "f5.define_configs(['UKESM1-0-LL'])"
   ]
  },
  {
   "cell_type": "code",
   "execution_count": null,
   "id": "c8c41aae",
   "metadata": {},
   "outputs": [],
   "source": [
    "f5.allocate()"
   ]
  },
  {
   "cell_type": "code",
   "execution_count": null,
   "id": "0def3bc6",
   "metadata": {},
   "outputs": [],
   "source": [
    "f5.aci_method='Leach2021'"
   ]
  },
  {
   "cell_type": "code",
   "execution_count": null,
   "id": "0b6319bc",
   "metadata": {},
   "outputs": [],
   "source": [
    "fill(f5.climate_configs['ocean_heat_capacity'], [ 2.91730005, 11.28317472, 73.2487238 ], config='UKESM1-0-LL')\n",
    "fill(f5.climate_configs['ocean_heat_transfer'], [0.65576633, 2.59787768, 0.61293389], config='UKESM1-0-LL')\n",
    "fill(f5.climate_configs['deep_ocean_efficacy'], 1.13370877488901, config='UKESM1-0-LL')\n",
    "fill(f5.climate_configs['stochastic_run'], False, config='UKESM1-0-LL')\n",
    "fill(f5.climate_configs['use_seed'], False, config='UKESM1-0-LL')"
   ]
  },
  {
   "cell_type": "code",
   "execution_count": null,
   "id": "6542680d",
   "metadata": {},
   "outputs": [],
   "source": [
    "fill(f5.species_configs['aci_parameters'], [0.74, 38.9, -0.000265])\n",
    "fill(f5.species_configs['baseline_emissions'], 2.440048435, specie='Sulfur')"
   ]
  },
  {
   "cell_type": "code",
   "execution_count": null,
   "id": "234a825c",
   "metadata": {},
   "outputs": [],
   "source": [
    "f5.fill_from_rcmip()"
   ]
  },
  {
   "cell_type": "code",
   "execution_count": null,
   "id": "87d94271",
   "metadata": {},
   "outputs": [],
   "source": [
    "initialise(f5.temperature, 0)\n",
    "initialise(f5.forcing, 0)"
   ]
  },
  {
   "cell_type": "code",
   "execution_count": null,
   "id": "3b688026",
   "metadata": {},
   "outputs": [],
   "source": [
    "f5.run()"
   ]
  },
  {
   "cell_type": "code",
   "execution_count": null,
   "id": "93b7723b",
   "metadata": {},
   "outputs": [],
   "source": [
    "f6 = copy.deepcopy(f5)"
   ]
  },
  {
   "cell_type": "code",
   "execution_count": null,
   "id": "7a25e940",
   "metadata": {},
   "outputs": [],
   "source": [
    "f6.aci_method='Stevens2015'"
   ]
  },
  {
   "cell_type": "code",
   "execution_count": null,
   "id": "03fb4403",
   "metadata": {},
   "outputs": [],
   "source": [
    "f6.run()"
   ]
  },
  {
   "cell_type": "code",
   "execution_count": null,
   "id": "6a9341b8",
   "metadata": {},
   "outputs": [],
   "source": [
    "pl.plot(f5.timebounds, f5.forcing_sum.loc[dict(config='UKESM1-0-LL')], label='Leach et al. 2021')\n",
    "pl.plot(f6.timebounds, f6.forcing_sum.loc[dict(config='UKESM1-0-LL')], label='Stevens et al. 2015')\n",
    "pl.title('Total radiative forcing')\n",
    "pl.legend()"
   ]
  },
  {
   "cell_type": "code",
   "execution_count": null,
   "id": "1e17d3f8",
   "metadata": {},
   "outputs": [],
   "source": [
    "pl.plot(f5.timebounds, f5.temperature.loc[dict(config='UKESM1-0-LL', layer=0)], label='Leach et al. 2021')\n",
    "pl.plot(f6.timebounds, f6.temperature.loc[dict(config='UKESM1-0-LL', layer=0)], label='Stevens et al. 2015')\n",
    "pl.title('Temperature anomaly')\n",
    "pl.legend()"
   ]
  },
  {
   "cell_type": "code",
   "execution_count": null,
   "id": "cb397af2",
   "metadata": {},
   "outputs": [],
   "source": [
    "pl.plot(f5.timebounds, f5.forcing.loc[dict(config='UKESM1-0-LL', specie='Aerosol-cloud interactions')], label='Leach et al. 2021')\n",
    "pl.plot(f6.timebounds, f6.forcing.loc[dict(config='UKESM1-0-LL', specie='Aerosol-cloud interactions')], label='Stevens et al. 2015')\n",
    "pl.title('ERFaci')\n",
    "pl.legend()"
   ]
  },
  {
   "cell_type": "markdown",
   "id": "25e55710",
   "metadata": {},
   "source": [
    "## Test 3: BC only\n",
    "\n",
    "Only for Leach"
   ]
  },
  {
   "cell_type": "code",
   "execution_count": null,
   "id": "44ea5896",
   "metadata": {},
   "outputs": [],
   "source": [
    "f8 = FAIR()"
   ]
  },
  {
   "cell_type": "code",
   "execution_count": null,
   "id": "bde6d69a",
   "metadata": {},
   "outputs": [],
   "source": [
    "f8.define_scenarios(scenarios)"
   ]
  },
  {
   "cell_type": "code",
   "execution_count": null,
   "id": "b6631729",
   "metadata": {},
   "outputs": [],
   "source": [
    "f8.define_time(1750, 2500, 1)"
   ]
  },
  {
   "cell_type": "code",
   "execution_count": null,
   "id": "d64854fd",
   "metadata": {},
   "outputs": [],
   "source": [
    "species = ['BC', 'Aerosol-cloud interactions']"
   ]
  },
  {
   "cell_type": "code",
   "execution_count": null,
   "id": "66c094d4",
   "metadata": {},
   "outputs": [],
   "source": [
    "properties = {\n",
    "    'BC': {\n",
    "        'type': 'black carbon',\n",
    "        'input_mode': 'emissions',\n",
    "        'greenhouse_gas': False,\n",
    "        'aerosol_chemistry_from_emissions': True,\n",
    "        'aerosol_chemistry_from_concentration': False\n",
    "    },\n",
    "    'Aerosol-cloud interactions': {\n",
    "        'type': 'aci',\n",
    "        'input_mode': 'calculated',\n",
    "        'greenhouse_gas': False,\n",
    "        'aerosol_chemistry_from_emissions': False,\n",
    "        'aerosol_chemistry_from_concentration': False\n",
    "    },\n",
    "}"
   ]
  },
  {
   "cell_type": "code",
   "execution_count": null,
   "id": "30fd0b29",
   "metadata": {},
   "outputs": [],
   "source": [
    "f8.define_species(species, properties)"
   ]
  },
  {
   "cell_type": "code",
   "execution_count": null,
   "id": "a7b1d9a7",
   "metadata": {},
   "outputs": [],
   "source": [
    "f8.define_configs(['UKESM1-0-LL'])"
   ]
  },
  {
   "cell_type": "code",
   "execution_count": null,
   "id": "850d9805",
   "metadata": {},
   "outputs": [],
   "source": [
    "f8.allocate()"
   ]
  },
  {
   "cell_type": "code",
   "execution_count": null,
   "id": "6e4dfdf9",
   "metadata": {},
   "outputs": [],
   "source": [
    "f8.aci_method='Leach2021'"
   ]
  },
  {
   "cell_type": "code",
   "execution_count": null,
   "id": "a5529317",
   "metadata": {},
   "outputs": [],
   "source": [
    "fill(f8.climate_configs['ocean_heat_capacity'], [ 2.91730005, 11.28317472, 73.2487238 ], config='UKESM1-0-LL')\n",
    "fill(f8.climate_configs['ocean_heat_transfer'], [0.65576633, 2.59787768, 0.61293389], config='UKESM1-0-LL')\n",
    "fill(f8.climate_configs['deep_ocean_efficacy'], 1.13370877488901, config='UKESM1-0-LL')\n",
    "fill(f8.climate_configs['stochastic_run'], False, config='UKESM1-0-LL')\n",
    "fill(f8.climate_configs['use_seed'], False, config='UKESM1-0-LL')"
   ]
  },
  {
   "cell_type": "code",
   "execution_count": null,
   "id": "c720646e",
   "metadata": {},
   "outputs": [],
   "source": [
    "fill(f8.species_configs['aci_parameters'], [0.74, 38.9, -0.000265])\n",
    "fill(f8.species_configs['baseline_emissions'], 2.097770755, specie='BC')"
   ]
  },
  {
   "cell_type": "code",
   "execution_count": null,
   "id": "210908bf",
   "metadata": {},
   "outputs": [],
   "source": [
    "f8.fill_from_rcmip()"
   ]
  },
  {
   "cell_type": "code",
   "execution_count": null,
   "id": "76620dd3",
   "metadata": {},
   "outputs": [],
   "source": [
    "initialise(f8.temperature, 0)\n",
    "initialise(f8.forcing, 0)"
   ]
  },
  {
   "cell_type": "code",
   "execution_count": null,
   "id": "7778952b",
   "metadata": {},
   "outputs": [],
   "source": [
    "f8.run()"
   ]
  },
  {
   "cell_type": "code",
   "execution_count": null,
   "id": "3e6dab41",
   "metadata": {},
   "outputs": [],
   "source": [
    "pl.plot(f8.timebounds, f8.temperature.loc[dict(config='UKESM1-0-LL', layer=0)], label='Leach et al. 2021')"
   ]
  },
  {
   "cell_type": "code",
   "execution_count": null,
   "id": "73defb67",
   "metadata": {},
   "outputs": [],
   "source": [
    "pl.plot(f8.timebounds, f8.forcing.loc[dict(config='UKESM1-0-LL', specie='Aerosol-cloud interactions')], label='Leach et al. 2021')"
   ]
  },
  {
   "cell_type": "code",
   "execution_count": null,
   "id": "72e34c97",
   "metadata": {},
   "outputs": [],
   "source": []
  }
 ],
 "metadata": {
  "kernelspec": {
   "display_name": "Python 3 (ipykernel)",
   "language": "python",
   "name": "python3"
  },
  "language_info": {
   "codemirror_mode": {
    "name": "ipython",
    "version": 3
   },
   "file_extension": ".py",
   "mimetype": "text/x-python",
   "name": "python",
   "nbconvert_exporter": "python",
   "pygments_lexer": "ipython3",
   "version": "3.7.12"
  }
 },
 "nbformat": 4,
 "nbformat_minor": 5
}
