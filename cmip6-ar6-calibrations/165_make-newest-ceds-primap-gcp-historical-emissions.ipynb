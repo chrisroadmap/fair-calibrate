{
 "cells": [
  {
   "cell_type": "markdown",
   "id": "e94a945b",
   "metadata": {},
   "source": [
    "# Make CEDS and GCP historical emissions\n",
    "\n",
    "- N2O FFI & Agriculture: PRIMAP-hist\n",
    "- CO2: Global carbon project\n",
    "- SLCFs: CEDS\n",
    "\n",
    "TODO: pre-1850 for CEDS: want some sort of balancing emissions that reflect IPCC assessed concentrations\n",
    "\n",
    "Methane is an arse. PRIMAP is probably an underestimate but it goes back to 1850. CEDS only goes back to 1970 and seems odd.\n",
    "\n",
    "We also first need to fill in co-emittants for CH4 in order to get methane lifetime as a residual\n",
    "\n",
    "Carbon dioxide\n",
    "- 1750: 278.3 ppm\n",
    "- 1850: 285.5 ppm\n",
    "\n",
    "Methane\n",
    "- 1750: 729.2 ppb\n",
    "- 1850: 807.6 ppb"
   ]
  },
  {
   "cell_type": "code",
   "execution_count": null,
   "id": "4866e230",
   "metadata": {},
   "outputs": [],
   "source": [
    "import os\n",
    "import zipfile\n",
    "\n",
    "import numpy as np\n",
    "import pandas as pd\n",
    "import pooch"
   ]
  },
  {
   "cell_type": "code",
   "execution_count": null,
   "id": "bd5a9daf",
   "metadata": {},
   "outputs": [],
   "source": [
    "update = pd.DataFrame(columns=range(1750, 2021))"
   ]
  },
  {
   "cell_type": "markdown",
   "id": "1ba290a7",
   "metadata": {},
   "source": [
    "## CO2"
   ]
  },
  {
   "cell_type": "code",
   "execution_count": null,
   "id": "551d6428",
   "metadata": {},
   "outputs": [],
   "source": [
    "df_co2 = pd.read_csv('../data/gcp_2021/co2_emissions_gcp2021.csv', index_col='Year')\n",
    "update.loc['CO2 FFI'] = df_co2['FFI']*44.009/12.011\n",
    "update.loc['CO2 AFOLU', 1850:2020] = df_co2['AFOLU'].loc[1850:2020]*44.009/12.011\n",
    "\n",
    "deflate = df_co2['AFOLU'].loc[1850]/df_co2['AFOLU'].loc[1860]\n",
    "update.loc['CO2 AFOLU', 1750:1849] = deflate**np.arange(11, 1, -0.1) * df_co2['AFOLU'].loc[1860] * 44.009/12.011\n",
    "\n",
    "update.loc['CO2 AFOLU'].plot()"
   ]
  },
  {
   "cell_type": "code",
   "execution_count": null,
   "id": "2f78c315",
   "metadata": {},
   "outputs": [],
   "source": [
    "update"
   ]
  },
  {
   "cell_type": "code",
   "execution_count": null,
   "id": "d47b642c",
   "metadata": {},
   "outputs": [],
   "source": [
    "# CEDS emissions: newest version\n",
    "ceds_zip = pooch.retrieve(\n",
    "    \"https://zenodo.org/record/4741285/files/CEDS_v2021-04-21_emissions.zip\",\n",
    "    known_hash=\"md5:01659c651754a66ddf3d79715a2ba841\",\n",
    "    progressbar=True\n",
    ")"
   ]
  },
  {
   "cell_type": "code",
   "execution_count": null,
   "id": "8e5d42bf",
   "metadata": {},
   "outputs": [],
   "source": [
    "os.makedirs('../data/ceds/CEDS_v2021-04-21_emissions/', exist_ok=True)\n",
    "with zipfile.ZipFile(ceds_zip, 'r') as z:\n",
    "    z.extractall(path='../data/ceds/CEDS_v2021-04-21_emissions/')"
   ]
  },
  {
   "cell_type": "markdown",
   "id": "4fc1c0bb",
   "metadata": {},
   "source": [
    "## update CH4 CEDS back to 1850 using sectoral split"
   ]
  },
  {
   "cell_type": "code",
   "execution_count": null,
   "id": "801ee7c6",
   "metadata": {},
   "outputs": [],
   "source": [
    "# df_ceds_latest = pd.read_csv('../data/ceds/CEDS_v2021-04-21_emissions/CH4_global_CEDS_emissions_by_sector_2021_04_21.csv')"
   ]
  },
  {
   "cell_type": "code",
   "execution_count": null,
   "id": "cf398111",
   "metadata": {},
   "outputs": [],
   "source": [
    "# df_ceds_cmip6 = pd.read_csv('../data/ceds/CEDS_v2017-05-18_emissions/CH4_CEDS_emissions_by_sector_v2017_05_18.csv')"
   ]
  },
  {
   "cell_type": "code",
   "execution_count": null,
   "id": "2972c3c1",
   "metadata": {},
   "outputs": [],
   "source": [
    "# df_ceds_cmip6_1850_1970 = pd.read_csv('../data/ceds/CEDS_v2017-05-18_emissions/CH4_Extension_CEDS_emissions_by_sector_v2017_05_18.csv')"
   ]
  },
  {
   "cell_type": "code",
   "execution_count": null,
   "id": "514f56d5",
   "metadata": {},
   "outputs": [],
   "source": [
    "# df_ceds_cmip6_1850_1970"
   ]
  },
  {
   "cell_type": "code",
   "execution_count": null,
   "id": "4ad8b4d7",
   "metadata": {},
   "outputs": [],
   "source": [
    "# rcp_sectors = df_ceds_cmip6_1850_1970['RCP_Sector']\n",
    "# rcp_sectors"
   ]
  },
  {
   "cell_type": "code",
   "execution_count": null,
   "id": "0761014d",
   "metadata": {},
   "outputs": [],
   "source": [
    "# df_ceds_cmip6.insert(0, 'RCP_Sector', np.nan)"
   ]
  },
  {
   "cell_type": "code",
   "execution_count": null,
   "id": "21a0e241",
   "metadata": {},
   "outputs": [],
   "source": [
    "# df_ceds_cmip6"
   ]
  },
  {
   "cell_type": "code",
   "execution_count": null,
   "id": "62183f2c",
   "metadata": {},
   "outputs": [],
   "source": [
    "# df_ceds_cmip6.loc[42:46, 'RCP_Sector'] = 'AGR'"
   ]
  },
  {
   "cell_type": "code",
   "execution_count": null,
   "id": "fcb27e6c",
   "metadata": {},
   "outputs": [],
   "source": [
    "# df_ceds_cmip6.loc[25:28, 'RCP_Sector'] = 'DOM'"
   ]
  },
  {
   "cell_type": "code",
   "execution_count": null,
   "id": "6afa88b7",
   "metadata": {},
   "outputs": [],
   "source": [
    "# df_ceds_cmip6.loc[0:3, 'RCP_Sector'] = 'ENE'\n",
    "# df_ceds_cmip6.loc[29:31, 'RCP_Sector'] = 'ENE'"
   ]
  },
  {
   "cell_type": "code",
   "execution_count": null,
   "id": "e97d5544",
   "metadata": {},
   "outputs": [],
   "source": [
    "# df_ceds_cmip6.loc[4:16, 'RCP_Sector'] = 'IND'\n",
    "# df_ceds_cmip6.loc[32:36, 'RCP_Sector'] = 'IND'\n",
    "# df_ceds_cmip6.loc[41, 'RCP_Sector'] = 'IND'"
   ]
  },
  {
   "cell_type": "code",
   "execution_count": null,
   "id": "be4f1bc6",
   "metadata": {},
   "outputs": [],
   "source": [
    "# df_ceds_cmip6.loc[37:40, 'RCP_Sector'] = 'SLV'"
   ]
  },
  {
   "cell_type": "code",
   "execution_count": null,
   "id": "ca1a7724",
   "metadata": {},
   "outputs": [],
   "source": [
    "# df_ceds_cmip6.loc[21, 'RCP_Sector'] = 'International-shipping'"
   ]
  },
  {
   "cell_type": "code",
   "execution_count": null,
   "id": "b01f17c8",
   "metadata": {},
   "outputs": [],
   "source": [
    "# df_ceds_cmip6.loc[19:20, 'RCP_Sector'] = 'TRA'\n",
    "# df_ceds_cmip6.loc[22:24, 'RCP_Sector'] = 'TRA'"
   ]
  },
  {
   "cell_type": "code",
   "execution_count": null,
   "id": "8c409f0f",
   "metadata": {},
   "outputs": [],
   "source": [
    "# df_ceds_cmip6.loc[47:52, 'RCP_Sector'] = 'WST'"
   ]
  },
  {
   "cell_type": "code",
   "execution_count": null,
   "id": "f319f19b",
   "metadata": {},
   "outputs": [],
   "source": [
    "# df_ceds_cmip6.loc[53, 'RCP_Sector'] = 'Fossil-fuel-fires'"
   ]
  },
  {
   "cell_type": "code",
   "execution_count": null,
   "id": "05cb27f2",
   "metadata": {},
   "outputs": [],
   "source": [
    "# df_ceds_cmip6.loc[17:18, 'RCP_Sector'] = 'Aviation'  # not clear if all, or international only. But both zero."
   ]
  },
  {
   "cell_type": "code",
   "execution_count": null,
   "id": "658de5c6",
   "metadata": {},
   "outputs": [],
   "source": [
    "# for rcp_sector in rcp_sectors:\n",
    "#     print(rcp_sector, df_ceds_cmip6.loc[df_ceds_cmip6['RCP_Sector']==rcp_sector, 'X1970'].sum())"
   ]
  },
  {
   "cell_type": "code",
   "execution_count": null,
   "id": "e8b02e03",
   "metadata": {},
   "outputs": [],
   "source": [
    "# df_ceds_latest.insert(0, 'RCP_Sector', np.nan)"
   ]
  },
  {
   "cell_type": "code",
   "execution_count": null,
   "id": "28f729f2",
   "metadata": {},
   "outputs": [],
   "source": [
    "# for rcp_sector in rcp_sectors:\n",
    "#     for sector in df_ceds_cmip6.loc[df_ceds_cmip6['RCP_Sector']==rcp_sector, 'sector']:\n",
    "#         df_ceds_latest.loc[df_ceds_latest['sector']==sector, 'RCP_Sector'] = rcp_sector"
   ]
  },
  {
   "cell_type": "markdown",
   "id": "6c4a90f8",
   "metadata": {},
   "source": [
    "add a couple of missing categories"
   ]
  },
  {
   "cell_type": "code",
   "execution_count": null,
   "id": "1357844b",
   "metadata": {},
   "outputs": [],
   "source": [
    "# df_ceds_latest.loc[30:32, 'RCP_Sector']='ENE'"
   ]
  },
  {
   "cell_type": "code",
   "execution_count": null,
   "id": "10009f24",
   "metadata": {},
   "outputs": [],
   "source": [
    "# for rcp_sector in rcp_sectors:\n",
    "#     print(rcp_sector, df_ceds_latest.loc[df_ceds_latest['RCP_Sector']==rcp_sector, 'X1970'].sum())"
   ]
  },
  {
   "cell_type": "code",
   "execution_count": null,
   "id": "720d671d",
   "metadata": {},
   "outputs": [],
   "source": [
    "# df_ceds_latest_1850_1970 = df_ceds_cmip6_1850_1970.copy()\n",
    "# df_ceds_latest_1850_1970[:] = 0\n",
    "# df_ceds_latest_1850_1970.loc[:, 'RCP_Sector'] = rcp_sectors\n",
    "# df_ceds_latest_1850_1970"
   ]
  },
  {
   "cell_type": "code",
   "execution_count": null,
   "id": "070bb2a7",
   "metadata": {},
   "outputs": [],
   "source": [
    "# for rcp_sector in rcp_sectors:\n",
    "#     df_ceds_latest_1850_1970.loc[df_ceds_latest_1850_1970['RCP_Sector']==rcp_sector,'X1970'] = df_ceds_latest.loc[df_ceds_latest['RCP_Sector']==rcp_sector, 'X1970'].sum()"
   ]
  },
  {
   "cell_type": "code",
   "execution_count": null,
   "id": "55891dc9",
   "metadata": {},
   "outputs": [],
   "source": [
    "# df_ceds_latest_1850_1970"
   ]
  },
  {
   "cell_type": "code",
   "execution_count": null,
   "id": "0e3d9937",
   "metadata": {},
   "outputs": [],
   "source": [
    "# for year in range(1850, 1970, 10):\n",
    "#     col = f'X{year}'\n",
    "#     df_ceds_latest_1850_1970.loc[:, col] = df_ceds_latest_1850_1970['X1970']/df_ceds_cmip6_1850_1970['X1970'] * df_ceds_cmip6_1850_1970[col]"
   ]
  },
  {
   "cell_type": "code",
   "execution_count": null,
   "id": "165e2db1",
   "metadata": {},
   "outputs": [],
   "source": [
    "# df_ceds_latest_1850_1970"
   ]
  },
  {
   "cell_type": "code",
   "execution_count": null,
   "id": "fa62550e",
   "metadata": {},
   "outputs": [],
   "source": [
    "# df_ceds_latest_1850_1970.fillna(0, inplace=True)\n",
    "# df_ceds_latest_1850_1970"
   ]
  },
  {
   "cell_type": "code",
   "execution_count": null,
   "id": "d1a7f714",
   "metadata": {},
   "outputs": [],
   "source": [
    "# df_ceds_latest_1850_1970.sum()"
   ]
  },
  {
   "cell_type": "code",
   "execution_count": null,
   "id": "7605d6fe",
   "metadata": {},
   "outputs": [],
   "source": [
    "# df_ceds_latest_1750_2020 = pd.DataFrame(columns = np.arange(1750, 2021), dtype=float)\n",
    "# for year in range(1850, 1971, 10):\n",
    "#     df_ceds_latest_1750_2020.loc[0,year] = df_ceds_latest_1850_1970.sum()[f'X{year}']"
   ]
  },
  {
   "cell_type": "code",
   "execution_count": null,
   "id": "972053bc",
   "metadata": {},
   "outputs": [],
   "source": [
    "# df_ceds_latest.loc[:,'X1971':].sum()"
   ]
  },
  {
   "cell_type": "code",
   "execution_count": null,
   "id": "f0d6bda4",
   "metadata": {},
   "outputs": [],
   "source": [
    "# df_ceds_latest_1750_2020 = df_ceds_latest_1750_2020.interpolate(axis=1)\n",
    "# for year in range(1971, 2020):\n",
    "#     df_ceds_latest_1750_2020.loc[0, year] = df_ceds_latest.loc[:,f'X{year}'].sum()\n",
    "# df_ceds_latest_1750_2020.loc[0, 2020] = df_ceds_latest_1750_2020.loc[0, 2019]"
   ]
  },
  {
   "cell_type": "code",
   "execution_count": null,
   "id": "c835b178",
   "metadata": {},
   "outputs": [],
   "source": [
    "# df_ceds_latest_1750_2020.T.plot()"
   ]
  },
  {
   "cell_type": "code",
   "execution_count": null,
   "id": "978edcb3",
   "metadata": {},
   "outputs": [],
   "source": [
    "# df_ceds_latest_1750_2020.T"
   ]
  },
  {
   "cell_type": "code",
   "execution_count": null,
   "id": "ba7d8fbc",
   "metadata": {},
   "outputs": [],
   "source": [
    "rcmip_emissions_file = pooch.retrieve(\n",
    "    url=\"doi:10.5281/zenodo.4589756/rcmip-emissions-annual-means-v5-1-0.csv\",\n",
    "    known_hash=\"md5:4044106f55ca65b094670e7577eaf9b3\",\n",
    ")"
   ]
  },
  {
   "cell_type": "code",
   "execution_count": null,
   "id": "40ee0224",
   "metadata": {},
   "outputs": [],
   "source": [
    "emis_df = pd.read_csv(rcmip_emissions_file)"
   ]
  },
  {
   "cell_type": "code",
   "execution_count": null,
   "id": "f8c9675e",
   "metadata": {},
   "outputs": [],
   "source": [
    "# ch4_rcmip = emis_df.loc[(emis_df['Scenario']=='ssp245')&\n",
    "#                  (emis_df['Region']=='World')&\n",
    "#                  (emis_df['Variable'].str.startswith('Emissions|CH4')), :]#.interpolate(axis=1).squeeze().values"
   ]
  },
  {
   "cell_type": "code",
   "execution_count": null,
   "id": "bf2c859d",
   "metadata": {},
   "outputs": [],
   "source": [
    "# for irow, row in ch4_rcmip.iterrows():\n",
    "#     print(row.Variable)"
   ]
  },
  {
   "cell_type": "code",
   "execution_count": null,
   "id": "4e8ce6e6",
   "metadata": {},
   "outputs": [],
   "source": [
    "# ceds_rcmip = ['Emissions|CH4|MAGICC AFOLU|Agriculture', 'Emissions|CH4|MAGICC Fossil and Industrial']\n",
    "# uva_rcmip = ['Emissions|CH4|MAGICC AFOLU|Agricultural Waste Burning', 'Emissions|CH4|MAGICC AFOLU|Forest Burning', 'Emissions|CH4|MAGICC AFOLU|Grassland Burning', 'Emissions|CH4|MAGICC AFOLU|Peat Burning']"
   ]
  },
  {
   "cell_type": "code",
   "execution_count": null,
   "id": "29cdf6bb",
   "metadata": {},
   "outputs": [],
   "source": [
    "# ch4_rcmip[ch4_rcmip['Variable'].isin(uva_rcmip)].sum()['1970']"
   ]
  },
  {
   "cell_type": "code",
   "execution_count": null,
   "id": "e1dc9270",
   "metadata": {},
   "outputs": [],
   "source": [
    "# ch4_rcmip[ch4_rcmip['Variable'].isin(ceds_rcmip)].sum()['1970']"
   ]
  },
  {
   "cell_type": "code",
   "execution_count": null,
   "id": "a73144df",
   "metadata": {},
   "outputs": [],
   "source": [
    "# ch4_rcmip.loc[ch4_rcmip['Variable'].isin(ceds_rcmip),'1850':'2020'].interpolate(axis=1).sum().plot()"
   ]
  },
  {
   "cell_type": "code",
   "execution_count": null,
   "id": "9619ef35",
   "metadata": {},
   "outputs": [],
   "source": [
    "# df_ceds_latest.loc[:,'X1970':].sum().plot()"
   ]
  },
  {
   "cell_type": "code",
   "execution_count": null,
   "id": "16ba58b6",
   "metadata": {},
   "outputs": [],
   "source": [
    "# ch4_rcmip[ch4_rcmip['Variable'].isin(ceds_rcmip)].sum()['1850']"
   ]
  },
  {
   "cell_type": "code",
   "execution_count": null,
   "id": "8a355790",
   "metadata": {},
   "outputs": [],
   "source": [
    "# ch4_rcmip[ch4_rcmip['Variable'].isin(ceds_rcmip)].sum()['1750':'1850'].plot()"
   ]
  },
  {
   "cell_type": "code",
   "execution_count": null,
   "id": "f4fc47ef",
   "metadata": {},
   "outputs": [],
   "source": [
    "# ch4_rcmip[ch4_rcmip['Variable'].isin(ceds_rcmip)].sum()['1850':'1970'].plot()"
   ]
  },
  {
   "cell_type": "code",
   "execution_count": null,
   "id": "dfe39de1",
   "metadata": {},
   "outputs": [],
   "source": [
    "update"
   ]
  },
  {
   "cell_type": "code",
   "execution_count": null,
   "id": "2e356eb7",
   "metadata": {},
   "outputs": [],
   "source": [
    "# update.loc['CH4', 1850:] = (\n",
    "#     df_ceds_latest_1750_2020.T.loc[1850:].values.squeeze() / 1000 +\n",
    "#     ch4_rcmip.loc[ch4_rcmip['Variable'].isin(uva_rcmip), '1850':'2020'].interpolate(axis=1).sum().values.squeeze()\n",
    "# )"
   ]
  },
  {
   "cell_type": "code",
   "execution_count": null,
   "id": "e4d17a24",
   "metadata": {},
   "outputs": [],
   "source": [
    "# update"
   ]
  },
  {
   "cell_type": "code",
   "execution_count": null,
   "id": "e1f95586",
   "metadata": {},
   "outputs": [],
   "source": [
    "ch4 = pd.read_csv('../data/primap-2.3.1/HISTTP_EARTH_CH4_Mt.csv', index_col='year').sum(axis=1)"
   ]
  },
  {
   "cell_type": "code",
   "execution_count": null,
   "id": "ea242e82",
   "metadata": {},
   "outputs": [],
   "source": [
    "ch4"
   ]
  },
  {
   "cell_type": "code",
   "execution_count": null,
   "id": "18e93d89",
   "metadata": {},
   "outputs": [],
   "source": [
    "rcmip = emis_df.loc[\n",
    "    (emis_df['Scenario']=='ssp245')&\n",
    "    (emis_df['Region']=='World')&\n",
    "    (emis_df['Variable'].str.startswith(f'Emissions|CH4|')),\n",
    ":]\n",
    "ceds_rcmip = [f'Emissions|CH4|MAGICC AFOLU|Agriculture', f'Emissions|CH4|MAGICC Fossil and Industrial']\n",
    "uva_rcmip = [\n",
    "    f'Emissions|CH4|MAGICC AFOLU|Agricultural Waste Burning', \n",
    "    f'Emissions|CH4|MAGICC AFOLU|Forest Burning', \n",
    "    f'Emissions|CH4|MAGICC AFOLU|Grassland Burning', \n",
    "    f'Emissions|CH4|MAGICC AFOLU|Peat Burning'\n",
    "]\n",
    "update.loc['CH4', 1750:2019] = (\n",
    "    ch4.values +\n",
    "    rcmip.loc[rcmip['Variable'].isin(uva_rcmip), '1750':'2020'].interpolate(axis=1).sum().values.squeeze()[:-1]\n",
    ")\n",
    "update.loc['CH4', 2020] = (\n",
    "    ch4.values[-1] +\n",
    "    rcmip.loc[rcmip['Variable'].isin(uva_rcmip), '2020'].sum()\n",
    ")"
   ]
  },
  {
   "cell_type": "code",
   "execution_count": null,
   "id": "d840b2f5",
   "metadata": {},
   "outputs": [],
   "source": [
    "update.T.plot()"
   ]
  },
  {
   "cell_type": "markdown",
   "id": "015b19da",
   "metadata": {},
   "source": [
    "## N2O - from PRIMAP-hist"
   ]
  },
  {
   "cell_type": "code",
   "execution_count": null,
   "id": "7518266b",
   "metadata": {},
   "outputs": [],
   "source": [
    "n2o = pd.read_csv('../data/primap-2.3.1/HISTTP_EARTH_N2O_Mt.csv', index_col='year').sum(axis=1)"
   ]
  },
  {
   "cell_type": "code",
   "execution_count": null,
   "id": "3e2172b2",
   "metadata": {},
   "outputs": [],
   "source": [
    "n2o"
   ]
  },
  {
   "cell_type": "code",
   "execution_count": null,
   "id": "338ec1f5",
   "metadata": {},
   "outputs": [],
   "source": [
    "n2o_biomass = pd.read_csv('../data/vua/n2o_biomass_burning_global_totals_1750-2015.csv', index_col='year')\n",
    "n2o_biomass.loc[1750:2015]"
   ]
  },
  {
   "cell_type": "code",
   "execution_count": null,
   "id": "93ebe52a",
   "metadata": {},
   "outputs": [],
   "source": [
    "update.loc['N2O', 1750:2015] = (\n",
    "    n2o.loc[1750:2015] +\n",
    "    n2o_biomass.loc[1750:2015].values.squeeze()\n",
    ")\n",
    "update.loc['N2O', 2016:2019] = (\n",
    "    n2o.loc[2016:2019] +\n",
    "    n2o_biomass.loc[2015].values.squeeze()\n",
    ")\n",
    "update.loc['N2O', 2020] = (\n",
    "    n2o.loc[2019] +\n",
    "    n2o_biomass.loc[2015].values.squeeze()\n",
    ")"
   ]
  },
  {
   "cell_type": "markdown",
   "id": "d178dd8b",
   "metadata": {},
   "source": [
    "## Non-CH4/non-N2O species should hopefully be easier; we can go back to 1750 at least"
   ]
  },
  {
   "cell_type": "code",
   "execution_count": null,
   "id": "43c11a71",
   "metadata": {},
   "outputs": [],
   "source": [
    "species = ['Sulfur', 'CO', 'VOC', 'NOx', 'BC', 'OC', 'NH3']\n",
    "\n",
    "unit_convert = {specie: 1/1000 for specie in species}\n",
    "ceds_names = {specie: specie for specie in species}\n",
    "ceds_names.update({'VOC': 'NMVOC', 'Sulfur': 'SO2'})\n",
    "\n",
    "\n",
    "for specie in species:\n",
    "    df_ceds_latest = pd.read_csv(f'../data/ceds/CEDS_v2021-04-21_emissions/{ceds_names[specie]}_global_CEDS_emissions_by_sector_2021_04_21.csv')\n",
    "    df_ceds_latest.drop(columns=['em', 'sector', 'units'], inplace=True)\n",
    "    rcmip = emis_df.loc[\n",
    "        (emis_df['Scenario']=='ssp245')&\n",
    "        (emis_df['Region']=='World')&\n",
    "        (emis_df['Variable'].str.startswith(f'Emissions|{specie}|')),\n",
    "    :]\n",
    "    ceds_rcmip = [f'Emissions|{specie}|MAGICC AFOLU|Agriculture', f'Emissions|{specie}|MAGICC Fossil and Industrial']\n",
    "    uva_rcmip = [\n",
    "        f'Emissions|{specie}|MAGICC AFOLU|Agricultural Waste Burning', \n",
    "        f'Emissions|{specie}|MAGICC AFOLU|Forest Burning', \n",
    "        f'Emissions|{specie}|MAGICC AFOLU|Grassland Burning', \n",
    "        f'Emissions|{specie}|MAGICC AFOLU|Peat Burning'\n",
    "    ]\n",
    "    update.loc[specie, 1750:2019] = (\n",
    "        df_ceds_latest.sum().values * unit_convert[specie] +\n",
    "        rcmip.loc[rcmip['Variable'].isin(uva_rcmip), '1750':'2020'].interpolate(axis=1).sum().values.squeeze()[:-1]\n",
    "    )\n",
    "    update.loc[specie, 2020] = (\n",
    "        df_ceds_latest.sum().values[-1] * unit_convert[specie] +\n",
    "        rcmip.loc[rcmip['Variable'].isin(uva_rcmip), '2020'].sum()\n",
    "    )"
   ]
  },
  {
   "cell_type": "code",
   "execution_count": null,
   "id": "056c0936",
   "metadata": {},
   "outputs": [],
   "source": [
    "update.T.plot()"
   ]
  },
  {
   "cell_type": "code",
   "execution_count": null,
   "id": "fd00d7ee",
   "metadata": {},
   "outputs": [],
   "source": [
    "emis_df.loc[\n",
    "        (emis_df['Scenario']=='ssp245')&\n",
    "        (emis_df['Region']=='World')&\n",
    "        (emis_df['Variable'].str.startswith(f'Emissions|CO2|MAGICC AFOLU')),\n",
    "    '1750':'2020'].T.plot()\n",
    "\n"
   ]
  },
  {
   "cell_type": "code",
   "execution_count": null,
   "id": "bb09600c",
   "metadata": {},
   "outputs": [],
   "source": [
    "update.loc['CO2 AFOLU', :].plot()"
   ]
  },
  {
   "cell_type": "code",
   "execution_count": null,
   "id": "14ce9a9f",
   "metadata": {},
   "outputs": [],
   "source": [
    "update"
   ]
  },
  {
   "cell_type": "code",
   "execution_count": null,
   "id": "642fbb7e",
   "metadata": {},
   "outputs": [],
   "source": [
    "os.makedirs('../data/emissions/', exist_ok=True)\n",
    "update.to_csv('../data/emissions/co2_ch4_n2o_slcfs_1750-2020.csv')"
   ]
  },
  {
   "cell_type": "code",
   "execution_count": null,
   "id": "a46d3ae3",
   "metadata": {},
   "outputs": [],
   "source": []
  }
 ],
 "metadata": {
  "kernelspec": {
   "display_name": "Python 3",
   "language": "python",
   "name": "python3"
  },
  "language_info": {
   "codemirror_mode": {
    "name": "ipython",
    "version": 3
   },
   "file_extension": ".py",
   "mimetype": "text/x-python",
   "name": "python",
   "nbconvert_exporter": "python",
   "pygments_lexer": "ipython3",
   "version": "3.10.6"
  }
 },
 "nbformat": 4,
 "nbformat_minor": 5
}
