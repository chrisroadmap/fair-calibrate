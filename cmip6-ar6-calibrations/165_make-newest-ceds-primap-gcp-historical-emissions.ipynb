{
 "cells": [
  {
   "cell_type": "markdown",
   "id": "e94a945b",
   "metadata": {},
   "source": [
    "# Make CEDS and GCP historical emissions\n",
    "\n",
    "- N2O \n",
    "  - FFI & Agriculture: PRIMAP-hist v2.4 1750 to 2021\n",
    "  - input4mips for 1750 to 1996\n",
    "  - GFEDv4.1s for 1997 to 2021\n",
    "- CH4\n",
    "  - FFI & Agriculture: PRIMAP-hist v2.4 1750 to 2021\n",
    "  - input4mips for 1750 to 1996\n",
    "  - GFEDv4.1s for 1997 to 2021\n",
    "- CO2: Global carbon project 1750 to 2021 with 2022 estimate\n",
    "- SLCFs: CEDS to 1750 to 2019 (STILL)\n",
    "\n",
    "Biomass burning for SLCFs will come from GFED4.1s\n",
    "\n",
    "- Do we need to include biomass burning N2O and CH4 emissions?\n",
    "\n",
    "We also first need to fill in co-emittants for CH4 in order to get methane lifetime as a residual\n",
    "\n",
    "Carbon dioxide\n",
    "- 1750: 278.3 ppm\n",
    "- 1850: 285.5 ppm\n",
    "\n",
    "Methane\n",
    "- 1750: 729.2 ppb\n",
    "- 1850: 807.6 ppb"
   ]
  },
  {
   "cell_type": "code",
   "execution_count": null,
   "id": "4866e230",
   "metadata": {},
   "outputs": [],
   "source": [
    "import os\n",
    "import zipfile\n",
    "\n",
    "import numpy as np\n",
    "import pandas as pd\n",
    "import pooch"
   ]
  },
  {
   "cell_type": "code",
   "execution_count": null,
   "id": "bd5a9daf",
   "metadata": {},
   "outputs": [],
   "source": [
    "update = pd.DataFrame(columns=range(1750, 2022))"
   ]
  },
  {
   "cell_type": "markdown",
   "id": "1ba290a7",
   "metadata": {},
   "source": [
    "## CO2"
   ]
  },
  {
   "cell_type": "code",
   "execution_count": null,
   "id": "551d6428",
   "metadata": {},
   "outputs": [],
   "source": [
    "df_co2 = pd.read_csv('../data/global_carbon_project/co2_emissions_gcp2022.csv', index_col='Year')\n",
    "update.loc['CO2 FFI'] = df_co2['fossil emissions including carbonation']*44.009/12.011\n",
    "update.loc['CO2 AFOLU'] = df_co2['land-use change emissions']*44.009/12.011\n",
    "\n",
    "#deflate = df_co2['AFOLU'].loc[1850]/df_co2['AFOLU'].loc[1860]\n",
    "#update.loc['CO2 AFOLU', 1750:1849] = deflate**np.arange(11, 1, -0.1) * df_co2['AFOLU'].loc[1860] * 44.009/12.011\n",
    "update.loc['CO2 AFOLU', 1750:1850] = np.linspace(0, 1, 101) * df_co2['land-use change emissions'].loc[1850] * 44.009/12.011\n",
    "\n",
    "update.loc['CO2 AFOLU'].plot()"
   ]
  },
  {
   "cell_type": "code",
   "execution_count": null,
   "id": "2f78c315",
   "metadata": {},
   "outputs": [],
   "source": [
    "update"
   ]
  },
  {
   "cell_type": "code",
   "execution_count": null,
   "id": "d47b642c",
   "metadata": {},
   "outputs": [],
   "source": [
    "# CEDS emissions: newest version\n",
    "ceds_zip = pooch.retrieve(\n",
    "    \"https://zenodo.org/record/4741285/files/CEDS_v2021-04-21_emissions.zip\",\n",
    "    known_hash=\"md5:01659c651754a66ddf3d79715a2ba841\",\n",
    "    progressbar=True\n",
    ")"
   ]
  },
  {
   "cell_type": "code",
   "execution_count": null,
   "id": "8e5d42bf",
   "metadata": {},
   "outputs": [],
   "source": [
    "os.makedirs('../data/ceds/CEDS_v2021-04-21_emissions/', exist_ok=True)\n",
    "with zipfile.ZipFile(ceds_zip, 'r') as z:\n",
    "    z.extractall(path='../data/ceds/CEDS_v2021-04-21_emissions/')"
   ]
  },
  {
   "cell_type": "markdown",
   "id": "15aeb757",
   "metadata": {},
   "source": [
    "## CH4: anthro from PRIMAP-hist, also need biomass from RCMIP"
   ]
  },
  {
   "cell_type": "code",
   "execution_count": null,
   "id": "ba7d8fbc",
   "metadata": {},
   "outputs": [],
   "source": [
    "rcmip_emissions_file = pooch.retrieve(\n",
    "    url=\"doi:10.5281/zenodo.4589756/rcmip-emissions-annual-means-v5-1-0.csv\",\n",
    "    known_hash=\"md5:4044106f55ca65b094670e7577eaf9b3\",\n",
    ")"
   ]
  },
  {
   "cell_type": "code",
   "execution_count": null,
   "id": "40ee0224",
   "metadata": {},
   "outputs": [],
   "source": [
    "emis_df = pd.read_csv(rcmip_emissions_file)"
   ]
  },
  {
   "cell_type": "code",
   "execution_count": null,
   "id": "398f42d3",
   "metadata": {},
   "outputs": [],
   "source": [
    "# PRIMAP-hist emissions: newest version\n",
    "primap24 = pooch.retrieve(\n",
    "    \"https://zenodo.org/record/7179775/files/Guetschow-et-al-2022-PRIMAP-hist_v2.4_no_rounding_11-Oct-2022.csv\",\n",
    "    known_hash=\"md5:3a40d9abb47fe688295af36301424679\",\n",
    "    progressbar=True\n",
    ")\n",
    "primap24_df = pd.read_csv(primap24)"
   ]
  },
  {
   "cell_type": "code",
   "execution_count": null,
   "id": "8452f179",
   "metadata": {},
   "outputs": [],
   "source": [
    "primap24_df.loc[\n",
    "    (primap24_df['scenario (PRIMAP-hist)']=='HISTTP')&\n",
    "    (primap24_df['entity']=='CH4')&\n",
    "    (primap24_df['category (IPCC2006_PRIMAP)']=='M.0.EL')&\n",
    "    (primap24_df['area (ISO3)']=='EARTH')\n",
    "]"
   ]
  },
  {
   "cell_type": "code",
   "execution_count": null,
   "id": "de128aed",
   "metadata": {},
   "outputs": [],
   "source": [
    "primap24_df.loc[\n",
    "    (primap24_df['scenario (PRIMAP-hist)']=='HISTTP')&\n",
    "    (primap24_df['entity']=='CH4')&\n",
    "    (primap24_df['category (IPCC2006_PRIMAP)']=='M.0.EL')&\n",
    "    (primap24_df['area (ISO3)']=='EARTH'),\n",
    "'1750':].T.plot()"
   ]
  },
  {
   "cell_type": "code",
   "execution_count": null,
   "id": "dfe39de1",
   "metadata": {},
   "outputs": [],
   "source": [
    "update"
   ]
  },
  {
   "cell_type": "code",
   "execution_count": null,
   "id": "b6cc5831",
   "metadata": {},
   "outputs": [],
   "source": [
    "ch4 = primap24_df.loc[\n",
    "    (primap24_df['scenario (PRIMAP-hist)']=='HISTTP')&\n",
    "    (primap24_df['entity']=='CH4')&\n",
    "    (primap24_df['category (IPCC2006_PRIMAP)']=='M.0.EL')&\n",
    "    (primap24_df['area (ISO3)']=='EARTH'),\n",
    "'1750':].values.squeeze()"
   ]
  },
  {
   "cell_type": "code",
   "execution_count": null,
   "id": "92f4eb8f",
   "metadata": {},
   "outputs": [],
   "source": [
    "# from updated GFED\n",
    "gfed41s = pd.read_csv('../data/gfed4.1s/gfed4.1s_1997-2021.csv', index_col=0)\n",
    "gfed41s.loc['N2O', '1997':'2021'].values"
   ]
  },
  {
   "cell_type": "code",
   "execution_count": null,
   "id": "18e93d89",
   "metadata": {},
   "outputs": [],
   "source": [
    "rcmip = emis_df.loc[\n",
    "    (emis_df['Scenario']=='ssp245')&\n",
    "    (emis_df['Region']=='World')&\n",
    "    (emis_df['Variable'].str.startswith(f'Emissions|CH4|')),\n",
    ":]\n",
    "ceds_rcmip = [f'Emissions|CH4|MAGICC AFOLU|Agriculture', f'Emissions|CH4|MAGICC Fossil and Industrial']\n",
    "uva_rcmip = [\n",
    "    f'Emissions|CH4|MAGICC AFOLU|Agricultural Waste Burning', \n",
    "    f'Emissions|CH4|MAGICC AFOLU|Forest Burning', \n",
    "    f'Emissions|CH4|MAGICC AFOLU|Grassland Burning', \n",
    "    f'Emissions|CH4|MAGICC AFOLU|Peat Burning'\n",
    "]\n",
    "update.loc['CH4', 1750:1996] = (\n",
    "    ch4[:247]/1000 +\n",
    "    rcmip.loc[rcmip['Variable'].isin(uva_rcmip), '1750':'1996'].interpolate(axis=1).sum().values.squeeze()#[:-4]\n",
    ")\n",
    "update.loc['CH4', 1997:2021] = (\n",
    "    ch4[247:]/1000 +\n",
    "    gfed41s.loc['CH4', '1997':'2021'].values.squeeze()\n",
    ")"
   ]
  },
  {
   "cell_type": "code",
   "execution_count": null,
   "id": "d840b2f5",
   "metadata": {},
   "outputs": [],
   "source": [
    "update.T.plot()"
   ]
  },
  {
   "cell_type": "markdown",
   "id": "015b19da",
   "metadata": {},
   "source": [
    "## N2O - from PRIMAP-hist"
   ]
  },
  {
   "cell_type": "code",
   "execution_count": null,
   "id": "3e2172b2",
   "metadata": {},
   "outputs": [],
   "source": [
    "n2o = primap24_df.loc[\n",
    "    (primap24_df['scenario (PRIMAP-hist)']=='HISTTP')&\n",
    "    (primap24_df['entity']=='N2O')&\n",
    "    (primap24_df['category (IPCC2006_PRIMAP)']=='M.0.EL')&\n",
    "    (primap24_df['area (ISO3)']=='EARTH'),\n",
    "'1750':].values.squeeze()"
   ]
  },
  {
   "cell_type": "code",
   "execution_count": null,
   "id": "338ec1f5",
   "metadata": {},
   "outputs": [],
   "source": [
    "# from AR6\n",
    "n2o_biomass = pd.read_csv('../data/vua/n2o_biomass_burning_global_totals_1750-2015.csv', index_col='year')\n",
    "n2o_biomass.loc[1750:2015]"
   ]
  },
  {
   "cell_type": "code",
   "execution_count": null,
   "id": "93ebe52a",
   "metadata": {},
   "outputs": [],
   "source": [
    "update.loc['N2O', 1750:1996] = (\n",
    "    n2o[:247]/1000 +\n",
    "    n2o_biomass.loc[1750:1996].values.squeeze()\n",
    ")\n",
    "update.loc['N2O', 1997:2021] = (\n",
    "    n2o[247:]/1000 +\n",
    "    gfed41s.loc['N2O', '1997':'2021'].values.squeeze()\n",
    ")"
   ]
  },
  {
   "cell_type": "code",
   "execution_count": null,
   "id": "76bcacda",
   "metadata": {},
   "outputs": [],
   "source": [
    "update"
   ]
  },
  {
   "cell_type": "code",
   "execution_count": null,
   "id": "b2875110",
   "metadata": {},
   "outputs": [],
   "source": [
    "update.loc['N2O'].T.plot()"
   ]
  },
  {
   "cell_type": "markdown",
   "id": "d178dd8b",
   "metadata": {},
   "source": [
    "## SLCFs = CEDS + VUA"
   ]
  },
  {
   "cell_type": "code",
   "execution_count": null,
   "id": "4cdc191a",
   "metadata": {},
   "outputs": [],
   "source": [
    "gfed41s.loc['NMVOC'] = pd.concat((gfed41s.loc['C2H6':'C3H6O'], gfed41s.loc['C2H6S':])).sum()\n",
    "gfed41s"
   ]
  },
  {
   "cell_type": "code",
   "execution_count": null,
   "id": "43c11a71",
   "metadata": {},
   "outputs": [],
   "source": [
    "species = ['Sulfur', 'CO', 'VOC', 'NOx', 'BC', 'OC', 'NH3']\n",
    "\n",
    "unit_convert = {specie: 1/1000 for specie in species}\n",
    "ceds_names = {specie: specie for specie in species}\n",
    "ceds_names.update({'VOC': 'NMVOC', 'Sulfur': 'SO2'})\n",
    "\n",
    "\n",
    "for specie in species:\n",
    "    df_ceds_latest = pd.read_csv(f'../data/ceds/CEDS_v2021-04-21_emissions/{ceds_names[specie]}_global_CEDS_emissions_by_sector_2021_04_21.csv')\n",
    "    df_ceds_latest.drop(columns=['em', 'sector', 'units'], inplace=True)\n",
    "    rcmip = emis_df.loc[\n",
    "        (emis_df['Scenario']=='ssp245')&\n",
    "        (emis_df['Region']=='World')&\n",
    "        (emis_df['Variable'].str.startswith(f'Emissions|{specie}|')),\n",
    "    :]\n",
    "    ceds_rcmip = [f'Emissions|{specie}|MAGICC AFOLU|Agriculture', f'Emissions|{specie}|MAGICC Fossil and Industrial']\n",
    "    uva_rcmip = [\n",
    "        f'Emissions|{specie}|MAGICC AFOLU|Agricultural Waste Burning', \n",
    "        f'Emissions|{specie}|MAGICC AFOLU|Forest Burning', \n",
    "        f'Emissions|{specie}|MAGICC AFOLU|Grassland Burning', \n",
    "        f'Emissions|{specie}|MAGICC AFOLU|Peat Burning'\n",
    "    ]\n",
    "    update.loc[specie, 1750:1996] = (\n",
    "        df_ceds_latest.sum().values[:247] * unit_convert[specie] +\n",
    "        rcmip.loc[rcmip['Variable'].isin(uva_rcmip), '1750':'1996'].interpolate(axis=1).sum().values.squeeze()\n",
    "    )\n",
    "    update.loc[specie, 1997:2019] = (\n",
    "        df_ceds_latest.sum().values[247:] * unit_convert[specie] +\n",
    "        gfed41s.loc[ceds_names[specie], '1997':'2019'].values.squeeze()\n",
    "    )\n",
    "    update.loc[specie, 2020:2021] = (\n",
    "        df_ceds_latest.sum().values[-1] * unit_convert[specie] +\n",
    "        gfed41s.loc[ceds_names[specie], '2020':'2021'].values.squeeze()\n",
    "    )"
   ]
  },
  {
   "cell_type": "code",
   "execution_count": null,
   "id": "056c0936",
   "metadata": {},
   "outputs": [],
   "source": [
    "update.T.plot()"
   ]
  },
  {
   "cell_type": "code",
   "execution_count": null,
   "id": "fd00d7ee",
   "metadata": {},
   "outputs": [],
   "source": [
    "emis_df.loc[\n",
    "        (emis_df['Scenario']=='ssp245')&\n",
    "        (emis_df['Region']=='World')&\n",
    "        (emis_df['Variable'].str.startswith(f'Emissions|CO2|MAGICC AFOLU')),\n",
    "    '1750':'2020'].T.plot()"
   ]
  },
  {
   "cell_type": "code",
   "execution_count": null,
   "id": "bb09600c",
   "metadata": {},
   "outputs": [],
   "source": [
    "update.loc['CO2 AFOLU', :].plot()"
   ]
  },
  {
   "cell_type": "code",
   "execution_count": null,
   "id": "14ce9a9f",
   "metadata": {},
   "outputs": [],
   "source": [
    "update"
   ]
  },
  {
   "cell_type": "code",
   "execution_count": null,
   "id": "642fbb7e",
   "metadata": {},
   "outputs": [],
   "source": [
    "os.makedirs('../data/emissions/', exist_ok=True)\n",
    "update.to_csv('../data/emissions/co2_ch4_n2o_slcfs_1750-2021.csv')"
   ]
  },
  {
   "cell_type": "code",
   "execution_count": null,
   "id": "a46d3ae3",
   "metadata": {},
   "outputs": [],
   "source": []
  }
 ],
 "metadata": {
  "kernelspec": {
   "display_name": "Python 3",
   "language": "python",
   "name": "python3"
  },
  "language_info": {
   "codemirror_mode": {
    "name": "ipython",
    "version": 3
   },
   "file_extension": ".py",
   "mimetype": "text/x-python",
   "name": "python",
   "nbconvert_exporter": "python",
   "pygments_lexer": "ipython3",
   "version": "3.10.6"
  }
 },
 "nbformat": 4,
 "nbformat_minor": 5
}
