{
 "cells": [
  {
   "cell_type": "markdown",
   "id": "d52269f2",
   "metadata": {},
   "source": [
    "# Get likelihood of priors"
   ]
  },
  {
   "cell_type": "markdown",
   "id": "f6efed3c",
   "metadata": {},
   "source": [
    "## Basic imports"
   ]
  },
  {
   "cell_type": "code",
   "execution_count": null,
   "id": "f0770b5c",
   "metadata": {},
   "outputs": [],
   "source": [
    "import glob\n",
    "\n",
    "import numpy as np\n",
    "import pandas as pd\n",
    "import matplotlib.pyplot as pl\n",
    "import time\n",
    "import scipy.stats\n",
    "import scipy.optimize\n",
    "from tqdm import tqdm\n",
    "\n",
    "from fair21.energy_balance_model import EnergyBalanceModel"
   ]
  },
  {
   "cell_type": "code",
   "execution_count": null,
   "id": "0c4fe247",
   "metadata": {},
   "outputs": [],
   "source": [
    "samples = 1000000"
   ]
  },
  {
   "cell_type": "code",
   "execution_count": null,
   "id": "ffb543e3",
   "metadata": {},
   "outputs": [],
   "source": [
    "df_gmst = pd.read_csv('../data/forcing/AR6_GMST.csv')\n",
    "gmst = df_gmst['gmst'].values"
   ]
  },
  {
   "cell_type": "markdown",
   "id": "c36acb10",
   "metadata": {},
   "source": [
    "## Load in results"
   ]
  },
  {
   "cell_type": "code",
   "execution_count": null,
   "id": "dfbd5e87",
   "metadata": {},
   "outputs": [],
   "source": [
    "temp_in = np.load('../data/ar6_ensemble_batches/temperature_1850-2030.npy')\n",
    "ohc_in = np.load('../data/ar6_ensemble_batches/ohc_2018_minus_1971.npy')\n",
    "ari_in = np.load('../data/ar6_ensemble_batches/fari_2005-2014_mean.npy')\n",
    "aci_in = np.load('../data/ar6_ensemble_batches/faci_2005-2014_mean.npy')\n",
    "co2_in = np.load('../data/ar6_ensemble_batches/co2_2014.npy')\n",
    "ecs_in = np.load('../data/ar6_ensemble_batches/ecs.npy')\n",
    "tcr_in = np.load('../data/ar6_ensemble_batches/tcr.npy')\n",
    "o3_in = np.load('../data/ar6_ensemble_batches/fo3_2019.npy')"
   ]
  },
  {
   "cell_type": "code",
   "execution_count": null,
   "id": "687012df",
   "metadata": {},
   "outputs": [],
   "source": [
    "temp_9514_in = np.mean(temp_in[145:165, :], axis=0) - np.mean(temp_in[:51, :], axis=0)"
   ]
  },
  {
   "cell_type": "code",
   "execution_count": null,
   "id": "2bee355a",
   "metadata": {},
   "outputs": [],
   "source": [
    "NINETY_TO_ONESIGMA=scipy.stats.norm.ppf(0.95)\n",
    "\n",
    "ecs_dist = scipy.stats.skewnorm(8.82185594, loc=1.95059779, scale=1.55584604)\n",
    "tcr_dist = scipy.stats.norm(loc=1.2, scale=0.6/NINETY_TO_ONESIGMA)\n",
    "ohc_dist = scipy.stats.norm(loc=434.3730268913012, scale=73.70562981598447)\n",
    "temp_9514_dist = scipy.stats.skewnorm(-1.65506091, loc=0.92708099, scale=0.12096636)\n",
    "ari_dist = scipy.stats.norm(loc=-0.3, scale=0.3/NINETY_TO_ONESIGMA)\n",
    "aci_dist = scipy.stats.norm(loc=-1.0, scale=0.7/NINETY_TO_ONESIGMA)\n",
    "co2_dist = scipy.stats.norm(loc=397.5469792683919, scale=0.36)\n",
    "#temp_rmse_dist = (0.5+0.5*np.tanh(8-50*(temp_rmse_out[i, :]))"
   ]
  },
  {
   "cell_type": "code",
   "execution_count": null,
   "id": "880fef56",
   "metadata": {},
   "outputs": [],
   "source": [
    "pl.plot(np.arange(0, 0.5, 0.01), np.log(0.5+0.5*np.tanh(8-47*(np.arange(0, 0.5, 0.01)))))"
   ]
  },
  {
   "cell_type": "code",
   "execution_count": null,
   "id": "3af9c1f9",
   "metadata": {},
   "outputs": [],
   "source": [
    "def rmse(obs, mod):\n",
    "    return np.sqrt(np.sum((obs-mod)**2)/len(obs))\n",
    "\n",
    "rmse_temp = np.zeros((samples))\n",
    "for i in tqdm(range(samples)):\n",
    "    rmse_temp[i] = rmse(gmst[:171], temp_in[:171,i]-temp_in[:51, i].mean())"
   ]
  },
  {
   "cell_type": "code",
   "execution_count": null,
   "id": "346dce7b",
   "metadata": {},
   "outputs": [],
   "source": [
    "log_likelihood = (\n",
    "    ohc_dist.logpdf(ohc_in/1e21) +\n",
    "    temp_9514_dist.logpdf(temp_9514_in) +\n",
    "    ecs_dist.logpdf(ecs_in) +\n",
    "    tcr_dist.logpdf(tcr_in) +\n",
    "    ari_dist.logpdf(ari_in) + \n",
    "    aci_dist.logpdf(aci_in) +\n",
    "    co2_dist.logpdf(co2_in) #+\n",
    "    #np.log(0.5+0.5*np.tanh(8-50*(rmse_temp)))\n",
    "    np.log(0.5+0.5*np.tanh(8-45*(rmse_temp)))\n",
    ")\n",
    "\n",
    "#log_likelihood[np.isinf(log_likelihood)] = 0"
   ]
  },
  {
   "cell_type": "code",
   "execution_count": null,
   "id": "3dfed9a4",
   "metadata": {},
   "outputs": [],
   "source": [
    "pl.hist(log_likelihood[~np.isinf(log_likelihood)])"
   ]
  },
  {
   "cell_type": "code",
   "execution_count": null,
   "id": "5eaff8b9",
   "metadata": {},
   "outputs": [],
   "source": [
    "top1000 = np.argpartition(log_likelihood, -1000)[-1000:]"
   ]
  },
  {
   "cell_type": "code",
   "execution_count": null,
   "id": "eeb996dc",
   "metadata": {},
   "outputs": [],
   "source": [
    "np.argmax(log_likelihood)"
   ]
  },
  {
   "cell_type": "code",
   "execution_count": null,
   "id": "9828ae5c",
   "metadata": {},
   "outputs": [],
   "source": [
    "pl.hist(ecs_in[top1000])\n",
    "np.percentile(ecs_in[top1000], (5, 16, 50, 84, 95))"
   ]
  },
  {
   "cell_type": "code",
   "execution_count": null,
   "id": "94cabea3",
   "metadata": {},
   "outputs": [],
   "source": [
    "pl.hist(tcr_in[top1000])"
   ]
  },
  {
   "cell_type": "code",
   "execution_count": null,
   "id": "e6a604ab",
   "metadata": {},
   "outputs": [],
   "source": [
    "pl.hist(ari_in[top1000])"
   ]
  },
  {
   "cell_type": "code",
   "execution_count": null,
   "id": "fc9eaed2",
   "metadata": {},
   "outputs": [],
   "source": [
    "pl.hist(aci_in[top1000])\n",
    "np.percentile(aci_in[top1000], (5, 50,95))"
   ]
  },
  {
   "cell_type": "code",
   "execution_count": null,
   "id": "faa7b266",
   "metadata": {},
   "outputs": [],
   "source": [
    "pl.hist(ohc_in[top1000])"
   ]
  },
  {
   "cell_type": "code",
   "execution_count": null,
   "id": "13ce39be",
   "metadata": {},
   "outputs": [],
   "source": [
    "pl.hist(temp_9514_in[top1000])\n",
    "np.percentile(temp_9514_in[top1000], (5, 50, 95))"
   ]
  },
  {
   "cell_type": "code",
   "execution_count": null,
   "id": "944c1852",
   "metadata": {},
   "outputs": [],
   "source": [
    "pl.hist(co2_in[top1000])"
   ]
  },
  {
   "cell_type": "code",
   "execution_count": null,
   "id": "1fa5a41f",
   "metadata": {},
   "outputs": [],
   "source": [
    "pl.hist(rmse_temp[top1000])"
   ]
  },
  {
   "cell_type": "code",
   "execution_count": null,
   "id": "466f0968",
   "metadata": {},
   "outputs": [],
   "source": [
    "pl.plot(temp_in[:, top1000]);"
   ]
  },
  {
   "cell_type": "code",
   "execution_count": null,
   "id": "63e65246",
   "metadata": {},
   "outputs": [],
   "source": [
    "pl.hist(o3_in[top1000])\n",
    "np.percentile(o3_in[top1000], (5, 16, 50, 84, 95))"
   ]
  },
  {
   "cell_type": "code",
   "execution_count": null,
   "id": "8cb3818b",
   "metadata": {},
   "outputs": [],
   "source": [
    "pl.scatter(tcr_in[top1000], aci_in[top1000])"
   ]
  },
  {
   "cell_type": "code",
   "execution_count": null,
   "id": "8b310343",
   "metadata": {},
   "outputs": [],
   "source": []
  }
 ],
 "metadata": {
  "kernelspec": {
   "display_name": "Python 3 (ipykernel)",
   "language": "python",
   "name": "python3"
  },
  "language_info": {
   "codemirror_mode": {
    "name": "ipython",
    "version": 3
   },
   "file_extension": ".py",
   "mimetype": "text/x-python",
   "name": "python",
   "nbconvert_exporter": "python",
   "pygments_lexer": "ipython3",
   "version": "3.7.12"
  }
 },
 "nbformat": 4,
 "nbformat_minor": 5
}
