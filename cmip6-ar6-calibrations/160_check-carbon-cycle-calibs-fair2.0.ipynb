{
 "cells": [
  {
   "cell_type": "markdown",
   "id": "2f776e3d",
   "metadata": {},
   "source": [
    "# Check and run carbon cycle calibrations\n",
    "\n",
    "From FaIR 2.0 from Nick. Calibrated on CMIP6 1pct runs. Let's see if they give reasonable concentrations in emissions-driven mode."
   ]
  },
  {
   "cell_type": "code",
   "execution_count": null,
   "id": "5bc7b3d6",
   "metadata": {},
   "outputs": [],
   "source": [
    "import numpy as np\n",
    "import pandas as pd\n",
    "import scipy.stats\n",
    "import matplotlib.pyplot as pl\n",
    "\n",
    "from fair21 import SpeciesID, Category, Config, Species, RunMode, Scenario, ClimateResponse, FAIR\n",
    "from fair21.defaults import species_config_from_default"
   ]
  },
  {
   "cell_type": "code",
   "execution_count": null,
   "id": "3b877e77",
   "metadata": {},
   "outputs": [],
   "source": [
    "data = np.array(\n",
    "    [\n",
    "        [36.7, 0.035, 3.04, -0.00066],\n",
    "        [25.6, 0.00598,5.2, 0.00439],\n",
    "        [40.7, 0.0107, 1.28, 0.00421],\n",
    "        [38.1, 0.000581, 2.47, 0.00978],\n",
    "        [35.7, -0.00596, -0.104, 0.0181],\n",
    "        [34.3, 0.0219, 4.86, -0.00424],\n",
    "        [32.2, 0.0166, 1.07, 0.0123],\n",
    "        [33.4, 0.0131, 3.46, 0.00399],\n",
    "        [33.3, 0.031, 1.5, -0.00257],\n",
    "        [40.7, 0.00947, 1.56, 0.00489],\n",
    "        [37.9, 0.0201, 2.67, 0.00181],\n",
    "    ]\n",
    ")"
   ]
  },
  {
   "cell_type": "code",
   "execution_count": null,
   "id": "7651fcba",
   "metadata": {},
   "outputs": [],
   "source": [
    "params = pd.DataFrame(data, columns=['r0','rC','rT','rA'], index=[\n",
    "    'ACCESS-ESM1-5', 'BCC-CSM2-MR', 'CESM2', 'CNRM-ESM2-1', 'CanESM5', 'GFDL-ESM4', 'IPSL-CM6A-LR', 'MIROC-ES2L',\n",
    "    'MPI-ESM1-2-LR', 'NorESM2-LM', 'UKESM1-0-LL'\n",
    "])"
   ]
  },
  {
   "cell_type": "code",
   "execution_count": null,
   "id": "0cdb4428",
   "metadata": {},
   "outputs": [],
   "source": [
    "params.corr()"
   ]
  },
  {
   "cell_type": "code",
   "execution_count": null,
   "id": "14f7bec0",
   "metadata": {},
   "outputs": [],
   "source": [
    "pd.plotting.scatter_matrix(params);"
   ]
  },
  {
   "cell_type": "code",
   "execution_count": null,
   "id": "80949207",
   "metadata": {},
   "outputs": [],
   "source": [
    "samples = 1000000\n",
    "\n",
    "kde = scipy.stats.gaussian_kde(params.T)\n",
    "cc_sample = kde.resample(size=int(samples), seed=2421911)\n",
    "\n",
    "mask = np.all(np.isnan(cc_sample), axis=0)\n",
    "cc_sample = cc_sample[:,~mask]\n",
    "cc_sample_df=pd.DataFrame(\n",
    "    data=cc_sample[:,:samples].T, columns=['r0','rC','rT','rA']\n",
    ")\n",
    "#geoff_sample_df.to_csv('../data_output/geoff_sample.csv', index=False)\n",
    "cc_sample_df"
   ]
  },
  {
   "cell_type": "code",
   "execution_count": null,
   "id": "721c6731",
   "metadata": {},
   "outputs": [],
   "source": [
    "pl.hist(cc_sample_df['r0']);"
   ]
  },
  {
   "cell_type": "code",
   "execution_count": null,
   "id": "8695233a",
   "metadata": {},
   "outputs": [],
   "source": [
    "pl.hist(cc_sample_df['rC']);"
   ]
  },
  {
   "cell_type": "code",
   "execution_count": null,
   "id": "f97dcdde",
   "metadata": {},
   "outputs": [],
   "source": [
    "pl.hist(cc_sample_df['rT']);"
   ]
  },
  {
   "cell_type": "code",
   "execution_count": null,
   "id": "ed567af3",
   "metadata": {},
   "outputs": [],
   "source": [
    "pl.hist(cc_sample_df['rA']);"
   ]
  },
  {
   "cell_type": "markdown",
   "id": "35c347f4",
   "metadata": {},
   "source": [
    "## First thing we'll do is run 11 ESM simulations, CO2 only, default forcing etc.\n",
    "\n",
    "The CO2 concentrations and warming from these simulations will not be perfect because of the absence of other forcers. And the individual model values of CO2 ERF are not taken into account either."
   ]
  },
  {
   "cell_type": "code",
   "execution_count": null,
   "id": "40e520a5",
   "metadata": {},
   "outputs": [],
   "source": [
    "species_ids = {\n",
    "    'co2_ffi': SpeciesID('CO2 fossil fuel and industrial', Category.CO2_FFI),\n",
    "    'co2': SpeciesID('CO2', Category.CO2),\n",
    "    'co2_afolu': SpeciesID('CO2 AFOLU', Category.CO2_AFOLU),\n",
    "    'ch4': SpeciesID('CH4', Category.CH4),\n",
    "    'n2o': SpeciesID('N2O', Category.N2O),\n",
    "}"
   ]
  },
  {
   "cell_type": "code",
   "execution_count": null,
   "id": "326900bd",
   "metadata": {},
   "outputs": [],
   "source": [
    "emitted_species = ['CO2_FFI', 'CO2_AFOLU']\n",
    "from_other_species = ['co2']\n",
    "dummy_species = ['ch4', 'n2o']\n",
    "species_to_include = emitted_species + from_other_species + dummy_species\n",
    "scenarios_to_include = ['ssp119', 'ssp245', 'ssp585']\n",
    "scenarios = []"
   ]
  },
  {
   "cell_type": "code",
   "execution_count": null,
   "id": "b2da7270",
   "metadata": {},
   "outputs": [],
   "source": [
    "df_emis = pd.read_csv('../data/rcmip/rcmip-emissions-annual-means-v5-1-0.csv')\n",
    "df_conc = pd.read_csv('../data/rcmip/rcmip-concentrations-annual-means-v5-1-0.csv')"
   ]
  },
  {
   "cell_type": "code",
   "execution_count": null,
   "id": "bcfdba16",
   "metadata": {},
   "outputs": [],
   "source": [
    "for iscen, scenario in enumerate(scenarios_to_include):\n",
    "    list_of_species = []\n",
    "    for ispec, species in enumerate(emitted_species):\n",
    "        if species == 'CO2_FFI':\n",
    "            species_rcmip_name = 'CO2|MAGICC Fossil and Industrial'\n",
    "        elif species == 'CO2_AFOLU':\n",
    "            species_rcmip_name = 'CO2|MAGICC AFOLU'\n",
    "        emis_in = df_emis.loc[\n",
    "            (df_emis['Scenario']==scenario) & (df_emis['Variable'].str.endswith(\"|\"+species_rcmip_name)) & \n",
    "            (df_emis['Region']=='World'), '1750':'2500'\n",
    "        ].interpolate(axis=1).values.squeeze()\n",
    "        # CO2 and N2O units need to behave: TODO, sort this out\n",
    "        if species in ('CO2_FFI', 'CO2_AFOLU', 'N2O'):\n",
    "            emis_in = emis_in / 1000\n",
    "        list_of_species.append(Species(species_ids[species.lower()], emissions=emis_in))\n",
    "        \n",
    "    # add derived species: at this stage just a declaration that we want them\n",
    "    for species in from_other_species:\n",
    "        list_of_species.append(Species(species_ids[species]))\n",
    "        \n",
    "    # add dummy species, as zero\n",
    "    for species in dummy_species:\n",
    "        list_of_species.append(Species(species_ids[species], emissions=np.zeros(751)))\n",
    "        \n",
    "    scenarios.append(Scenario(scenario, list_of_species))"
   ]
  },
  {
   "cell_type": "code",
   "execution_count": null,
   "id": "9e8fd31a",
   "metadata": {},
   "outputs": [],
   "source": [
    "co2_conc_rcmip = {}\n",
    "for scenario in scenarios_to_include:\n",
    "    co2_conc_rcmip[scenario] = df_conc.loc[\n",
    "        (df_conc['Scenario']==scenario) & (df_conc['Variable'].str.endswith(\"|CO2\")) & \n",
    "        (df_conc['Region']=='World'), '1750':'2500'\n",
    "    ].interpolate(axis=1).values.squeeze()"
   ]
  },
  {
   "cell_type": "code",
   "execution_count": null,
   "id": "49c812a0",
   "metadata": {},
   "outputs": [],
   "source": [
    "df = pd.read_csv(\"../data/calibration/4xCO2_cummins.csv\")\n",
    "models_runs = {\n",
    "    'ACCESS-ESM1-5': 'r1i1p1f1',\n",
    "    'BCC-CSM2-MR': 'r1i1p1f1',\n",
    "    'CESM2': 'r1i1p1f1',\n",
    "    'CNRM-ESM2-1': 'r1i1p1f2',\n",
    "    'CanESM5': 'r1i1p2f1', \n",
    "    'GFDL-ESM4': 'r1i1p1f1',\n",
    "    'IPSL-CM6A-LR': 'r1i1p1f1',\n",
    "    'MIROC-ES2L': 'r1i1p1f2',\n",
    "    'MPI-ESM1-2-LR': 'r1i1p1f1',\n",
    "    'NorESM2-LM': 'r1i1p1f1',\n",
    "    'UKESM1-0-LL': 'r1i1p1f2',\n",
    "}\n",
    "\n",
    "configs = []\n",
    "\n",
    "for imod, model in enumerate(models_runs):\n",
    "    run = models_runs[model]\n",
    "    condition = (df['model']==model) & (df['run']==run)\n",
    "    climate_response = ClimateResponse(\n",
    "        ocean_heat_capacity = df.loc[condition, 'C1':'C3'].values.squeeze(),\n",
    "        ocean_heat_transfer = df.loc[condition, 'kappa1':'kappa3'].values.squeeze(),\n",
    "        deep_ocean_efficacy = df.loc[condition, 'epsilon'].values[0],\n",
    "        gamma_autocorrelation = df.loc[condition, 'gamma'].values[0],\n",
    "        stochastic_run = False,\n",
    "    )\n",
    "    species_config = [species_config_from_default(species) for species in species_to_include]\n",
    "    # CO2 is index 2\n",
    "    species_config[2].iirf_0 = params.loc[model, 'r0']\n",
    "    species_config[2].iirf_cumulative = params.loc[model, 'rC']\n",
    "    species_config[2].iirf_airborne = params.loc[model, 'rA']\n",
    "    species_config[2].iirf_temperature = params.loc[model, 'rT']\n",
    "    \n",
    "    configs.append(Config(model, climate_response, species_config))"
   ]
  },
  {
   "cell_type": "code",
   "execution_count": null,
   "id": "ffaa7ea7",
   "metadata": {},
   "outputs": [],
   "source": [
    "fair = FAIR(scenarios, configs, time=np.arange(1750.5, 2501))\n",
    "fair.run()"
   ]
  },
  {
   "cell_type": "code",
   "execution_count": null,
   "id": "815489ee",
   "metadata": {},
   "outputs": [],
   "source": [
    "fair.temperature.shape"
   ]
  },
  {
   "cell_type": "code",
   "execution_count": null,
   "id": "1501bf6c",
   "metadata": {},
   "outputs": [],
   "source": [
    "pl.plot(np.arange(1750.5, 2501), fair.temperature[:, 2, :, 0, 0]);"
   ]
  },
  {
   "cell_type": "code",
   "execution_count": null,
   "id": "4051a09b",
   "metadata": {},
   "outputs": [],
   "source": [
    "pl.plot(np.arange(1750.5, 2501), fair.concentration_array[:, 2, :, 2, 0]);\n",
    "pl.plot(np.arange(1750.5, 2501), co2_conc_rcmip['ssp585'], color='k');"
   ]
  },
  {
   "cell_type": "code",
   "execution_count": null,
   "id": "71351eaa",
   "metadata": {},
   "outputs": [],
   "source": [
    "pl.plot(np.arange(1750.5, 2501), fair.temperature[:, 1, :, 0, 0]);"
   ]
  },
  {
   "cell_type": "code",
   "execution_count": null,
   "id": "e53e5a02",
   "metadata": {},
   "outputs": [],
   "source": [
    "pl.plot(np.arange(1750.5, 2023), fair.temperature[:273, 1, :, 0, 0]);"
   ]
  },
  {
   "cell_type": "code",
   "execution_count": null,
   "id": "9c6cbdd6",
   "metadata": {},
   "outputs": [],
   "source": [
    "pl.plot(np.arange(1750.5, 2501), fair.concentration_array[:, 1, :, 2, 0]);\n",
    "pl.plot(np.arange(1750.5, 2501), co2_conc_rcmip['ssp245'], color='k');"
   ]
  },
  {
   "cell_type": "code",
   "execution_count": null,
   "id": "258d3f56",
   "metadata": {},
   "outputs": [],
   "source": [
    "pl.plot(np.arange(1750.5, 2023), fair.concentration_array[:273, 1, :, 2, 0]);\n",
    "pl.plot(np.arange(1750.5, 2023), co2_conc_rcmip['ssp245'][:273], color='k');"
   ]
  },
  {
   "cell_type": "code",
   "execution_count": null,
   "id": "caeb6825",
   "metadata": {},
   "outputs": [],
   "source": [
    "pl.plot(np.arange(1750.5, 2501), fair.temperature[:, 0, :, 0, 0]);"
   ]
  },
  {
   "cell_type": "code",
   "execution_count": null,
   "id": "3590fc71",
   "metadata": {},
   "outputs": [],
   "source": [
    "pl.plot(np.arange(1750.5, 2501), fair.concentration_array[:, 0, :, 2, 0]);\n",
    "pl.plot(np.arange(1750.5, 2501), co2_conc_rcmip['ssp119'], color='k');"
   ]
  },
  {
   "cell_type": "code",
   "execution_count": null,
   "id": "847938d1",
   "metadata": {},
   "outputs": [],
   "source": [
    "fair.concentration_array[264, 1, :, 2, 0]  # year 2014"
   ]
  },
  {
   "cell_type": "code",
   "execution_count": null,
   "id": "1dd6df2f",
   "metadata": {},
   "outputs": [],
   "source": [
    "pl.plot(np.arange(1750.5, 2501), fair.airborne_emissions_array[:, 1, :, 2, 0]/fair.cumulative_emissions_array[:,1,:,2,0]);"
   ]
  },
  {
   "cell_type": "code",
   "execution_count": null,
   "id": "62dd3b68",
   "metadata": {},
   "outputs": [],
   "source": [
    "pl.plot(np.arange(1750.5, 2501), fair.airborne_emissions_array[:, 2, :, 2, 0]/fair.cumulative_emissions_array[:,2,:,2,0]);"
   ]
  },
  {
   "cell_type": "code",
   "execution_count": null,
   "id": "6796b9f1",
   "metadata": {},
   "outputs": [],
   "source": [
    "pl.plot(np.arange(1750.5, 2501), fair.airborne_emissions_array[:, 0, :, 2, 0]/fair.cumulative_emissions_array[:,0,:,2,0]);"
   ]
  },
  {
   "cell_type": "code",
   "execution_count": null,
   "id": "0de92622",
   "metadata": {},
   "outputs": [],
   "source": []
  }
 ],
 "metadata": {
  "kernelspec": {
   "display_name": "Python 3 (ipykernel)",
   "language": "python",
   "name": "python3"
  },
  "language_info": {
   "codemirror_mode": {
    "name": "ipython",
    "version": 3
   },
   "file_extension": ".py",
   "mimetype": "text/x-python",
   "name": "python",
   "nbconvert_exporter": "python",
   "pygments_lexer": "ipython3",
   "version": "3.7.12"
  }
 },
 "nbformat": 4,
 "nbformat_minor": 5
}
