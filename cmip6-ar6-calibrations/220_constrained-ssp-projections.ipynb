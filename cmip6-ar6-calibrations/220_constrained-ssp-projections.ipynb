{
 "cells": [
  {
   "cell_type": "markdown",
   "id": "aea509c6",
   "metadata": {},
   "source": [
    "# Run some constrained projections\n",
    "\n",
    "Follow the same setup as in notebook 200, with more scrutiny of outputs including other forcers.\n",
    "\n",
    "We need to save out the land use forcing in each SSP and ensemble member to feed into the concentration-driven runs (240)."
   ]
  },
  {
   "cell_type": "markdown",
   "id": "c0c42a87",
   "metadata": {},
   "source": [
    "## Basic imports"
   ]
  },
  {
   "cell_type": "code",
   "execution_count": null,
   "id": "1f7b7662",
   "metadata": {},
   "outputs": [],
   "source": [
    "import numpy as np\n",
    "import pandas as pd\n",
    "import matplotlib.pyplot as pl\n",
    "import time\n",
    "import scipy.stats\n",
    "from tqdm import tqdm\n",
    "\n",
    "from fair import FAIR\n",
    "from fair.io import read_properties\n",
    "from fair.interface import fill, initialise\n",
    "from fair.forcing.ghg import meinshausen2020"
   ]
  },
  {
   "cell_type": "markdown",
   "id": "8872d62a",
   "metadata": {},
   "source": [
    "## Set up problem"
   ]
  },
  {
   "cell_type": "code",
   "execution_count": null,
   "id": "5274abb5",
   "metadata": {},
   "outputs": [],
   "source": [
    "erf_2co2 = meinshausen2020(\n",
    "    np.array([554.30, 731.41, 273.87]) * np.ones((1, 1, 1, 3)),\n",
    "    np.array([277.15, 731.41, 273.87]) * np.ones((1, 1, 1, 3)),\n",
    "    np.array((1.05, 0.86, 1.07)) * np.ones((1, 1, 1, 1)),\n",
    "    np.ones((1, 1, 1, 3)),\n",
    "    np.array([True, False, False]),\n",
    "    np.array([False, True, False]),\n",
    "    np.array([False, False, True]),\n",
    "    np.array([False, False, False])\n",
    ").squeeze()[0]\n",
    "erf_2co2"
   ]
  },
  {
   "cell_type": "code",
   "execution_count": null,
   "id": "5e49d137",
   "metadata": {},
   "outputs": [],
   "source": [
    "scenarios = ['ssp119', 'ssp126', 'ssp245', 'ssp370', 'ssp434', 'ssp460', 'ssp534-over', 'ssp585']"
   ]
  },
  {
   "cell_type": "code",
   "execution_count": null,
   "id": "b427014b",
   "metadata": {},
   "outputs": [],
   "source": [
    "df_forc = pd.read_csv('../data/forcing/table_A3.3_historical_ERF_1750-2019_best_estimate.csv')\n",
    "df_solar = pd.read_csv('../data/forcing/solar_erf.csv', index_col='year')"
   ]
  },
  {
   "cell_type": "code",
   "execution_count": null,
   "id": "b871b178",
   "metadata": {},
   "outputs": [],
   "source": [
    "solar_forcing = np.zeros(551)\n",
    "solar_forcing[:550] = df_solar.loc[1750.5:, 'solar_erf'].values\n",
    "volcanic_forcing = np.zeros(551)\n",
    "volcanic_forcing[:270] = df_forc['volcanic'].values\n",
    "volcanic_forcing[269:281] = np.linspace(1, 0, 12) * volcanic_forcing[269]"
   ]
  },
  {
   "cell_type": "code",
   "execution_count": null,
   "id": "dc7aaf04",
   "metadata": {},
   "outputs": [],
   "source": [
    "valid_all = np.loadtxt('../data/ar6_ensemble_batches/final_ebm3.csv', dtype=int)#[:1000]\n",
    "valid_all"
   ]
  },
  {
   "cell_type": "code",
   "execution_count": null,
   "id": "0545a6b7",
   "metadata": {},
   "outputs": [],
   "source": [
    "df_cc=pd.read_csv('../data/parameter_sets/carbon_cycle.csv')\n",
    "df_cr=pd.read_csv('../data/parameter_sets/climate_response.csv')\n",
    "df_aci=pd.read_csv('../data/parameter_sets/erfaci.csv')\n",
    "df_ari=pd.read_csv('../data/parameter_sets/erfari.csv')\n",
    "df_ozone=pd.read_csv('../data/parameter_sets/ozone.csv')\n",
    "df_scaling=pd.read_csv('../data/parameter_sets/forcing_scaling.csv')\n",
    "df_1750co2=pd.read_csv('../data/parameter_sets/co2_concentration_1750.csv')"
   ]
  },
  {
   "cell_type": "code",
   "execution_count": null,
   "id": "4a51df82",
   "metadata": {},
   "outputs": [],
   "source": [
    "species, properties = read_properties()"
   ]
  },
  {
   "cell_type": "code",
   "execution_count": null,
   "id": "84487393",
   "metadata": {},
   "outputs": [],
   "source": [
    "seed = 1355763 + 399 * valid_all"
   ]
  },
  {
   "cell_type": "code",
   "execution_count": null,
   "id": "f50aaf64",
   "metadata": {},
   "outputs": [],
   "source": [
    "trend_shape = np.ones(551)\n",
    "trend_shape[:271] = np.linspace(0, 1, 271)"
   ]
  },
  {
   "cell_type": "code",
   "execution_count": null,
   "id": "07553956",
   "metadata": {},
   "outputs": [],
   "source": [
    "f = FAIR(ch4_method='Thornhill2021')\n",
    "f.define_time(1750, 2300, 1)\n",
    "f.define_scenarios(scenarios)\n",
    "f.define_configs(valid_all)\n",
    "f.define_species(species, properties)\n",
    "f.allocate()"
   ]
  },
  {
   "cell_type": "code",
   "execution_count": null,
   "id": "d3d43ad9",
   "metadata": {},
   "outputs": [],
   "source": [
    "f.fill_from_rcmip()"
   ]
  },
  {
   "cell_type": "code",
   "execution_count": null,
   "id": "b36f7539",
   "metadata": {},
   "outputs": [],
   "source": [
    "calibrated_f4co2_mean = df_cr['F_4xCO2'].mean()\n",
    "\n",
    "fill(f.forcing, volcanic_forcing[:, None, None] * df_scaling.loc[valid_all, 'Volcanic'].values.squeeze(), specie='Volcanic')\n",
    "fill(f.forcing, \n",
    "     solar_forcing[:, None, None] * \n",
    "     df_scaling.loc[valid_all, 'solar_amplitude'].values.squeeze() + \n",
    "     trend_shape[:, None, None] * df_scaling.loc[valid_all, 'solar_trend'].values.squeeze(),\n",
    "     specie='Solar'\n",
    ")\n",
    "\n",
    "# climate response\n",
    "fill(f.climate_configs['ocean_heat_capacity'], df_cr.loc[valid_all, 'c1':'c3'].values)\n",
    "fill(f.climate_configs['ocean_heat_transfer'], df_cr.loc[valid_all, 'kappa1':'kappa3'].values)\n",
    "fill(f.climate_configs['deep_ocean_efficacy'], df_cr.loc[valid_all, 'epsilon'].values.squeeze())\n",
    "fill(f.climate_configs['gamma_autocorrelation'], df_cr.loc[valid_all, 'gamma'].values.squeeze())\n",
    "fill(f.climate_configs['sigma_eta'], df_cr.loc[valid_all, 'sigma_eta'].values.squeeze())\n",
    "fill(f.climate_configs['sigma_xi'], df_cr.loc[valid_all, 'sigma_xi'].values.squeeze())\n",
    "fill(f.climate_configs['seed'], seed)\n",
    "fill(f.climate_configs['stochastic_run'], True)\n",
    "fill(f.climate_configs['use_seed'], True)\n",
    "fill(f.climate_configs['forcing_4co2'], 2 * erf_2co2 * (1 + 0.561*(calibrated_f4co2_mean - df_cr.loc[valid_all,'F_4xCO2'])/calibrated_f4co2_mean))\n",
    "\n",
    "# species level\n",
    "f.fill_species_configs()\n",
    "\n",
    "# carbon cycle\n",
    "fill(f.species_configs['iirf_0'], df_cc.loc[valid_all, 'r0'].values.squeeze(), specie='CO2')\n",
    "fill(f.species_configs['iirf_airborne'], df_cc.loc[valid_all, 'rA'].values.squeeze(), specie='CO2')\n",
    "fill(f.species_configs['iirf_uptake'], df_cc.loc[valid_all, 'rU'].values.squeeze(), specie='CO2')\n",
    "fill(f.species_configs['iirf_temperature'], df_cc.loc[valid_all, 'rT'].values.squeeze(), specie='CO2')\n",
    "\n",
    "# aerosol indirect\n",
    "fill(f.species_configs['aci_scale'], df_aci.loc[valid_all, 'beta'].values.squeeze())\n",
    "fill(f.species_configs['aci_shape'], df_aci.loc[valid_all, 'shape_so2'].values.squeeze(), specie='Sulfur')\n",
    "fill(f.species_configs['aci_shape'], df_aci.loc[valid_all, 'shape_bc'].values.squeeze(), specie='BC')\n",
    "fill(f.species_configs['aci_shape'], df_aci.loc[valid_all, 'shape_oc'].values.squeeze(), specie='OC')\n",
    "\n",
    "# methane lifetime baseline\n",
    "fill(f.species_configs['unperturbed_lifetime'], 10.4198121, specie='CH4')\n",
    "\n",
    "# emissions adjustments for N2O and CH4 (we don't want to make these defaults as people might wanna run pulse expts with these gases)\n",
    "fill(f.species_configs['baseline_emissions'], 19.019783117809567, specie='CH4')\n",
    "fill(f.species_configs['baseline_emissions'], 0.08602230754, specie='N2O')\n",
    "\n",
    "# aerosol direct\n",
    "for specie in df_ari:\n",
    "    fill(f.species_configs['erfari_radiative_efficiency'], df_ari.loc[valid_all, specie], specie=specie)\n",
    "\n",
    "# forcing\n",
    "for specie in df_scaling:\n",
    "    if specie in ['minorGHG', 'solar_amplitude', 'solar_trend', 'CO2', 'Volcanic']:\n",
    "        continue\n",
    "    fill(f.species_configs['forcing_scale'], df_scaling.loc[valid_all, specie].values.squeeze(), specie=specie)\n",
    "for specie in ['CFC-11', 'CFC-12', 'CFC-113', 'CFC-114', 'CFC-115', 'HCFC-22', 'HCFC-141b', 'HCFC-142b',\n",
    "    'CCl4', 'CHCl3', 'CH2Cl2', 'CH3Cl', 'CH3CCl3', 'CH3Br', 'Halon-1211', 'Halon-1301', 'Halon-2402',\n",
    "    'CF4', 'C2F6', 'C3F8', 'c-C4F8', 'C4F10', 'C5F12', 'C6F14', 'C7F16', 'C8F18', 'NF3', 'SF6', 'SO2F2',\n",
    "    'HFC-125', 'HFC-134a', 'HFC-143a', 'HFC-152a', 'HFC-227ea', 'HFC-23', 'HFC-236fa', 'HFC-245fa', 'HFC-32',\n",
    "    'HFC-365mfc', 'HFC-4310mee']:\n",
    "    fill(f.species_configs['forcing_scale'], df_scaling.loc[valid_all, 'minorGHG'].values.squeeze(), specie=specie)\n",
    "fill(f.species_configs['forcing_scale'], 1 + 0.561*(calibrated_f4co2_mean - df_cr.loc[valid_all,'F_4xCO2'].values)/calibrated_f4co2_mean, specie='CO2')\n",
    "\n",
    "# ozone\n",
    "for specie in df_ozone:\n",
    "    fill(f.species_configs['ozone_radiative_efficiency'], df_ozone.loc[valid_all, specie], specie=specie)\n",
    "\n",
    "# tune down volcanic efficacy\n",
    "fill(f.species_configs['forcing_efficacy'], 0.6, specie='Volcanic')\n",
    "\n",
    "\n",
    "# initial condition of CO2 concentration (but not baseline for forcing calculations)\n",
    "fill(f.species_configs['baseline_concentration'], df_1750co2.loc[valid_all, 'co2_concentration'].values.squeeze(), specie='CO2')\n",
    "\n",
    "# initial conditions\n",
    "initialise(f.concentration, f.species_configs['baseline_concentration'])\n",
    "initialise(f.forcing, 0)\n",
    "initialise(f.temperature, 0)\n",
    "initialise(f.cumulative_emissions, 0)\n",
    "initialise(f.airborne_emissions, 0)\n",
    "\n",
    "f.run()"
   ]
  },
  {
   "cell_type": "code",
   "execution_count": null,
   "id": "169d5f11",
   "metadata": {},
   "outputs": [],
   "source": [
    "f.species_configs"
   ]
  },
  {
   "cell_type": "code",
   "execution_count": null,
   "id": "c5f8d412",
   "metadata": {},
   "outputs": [],
   "source": [
    "fig, ax = pl.subplots(2, 4, figsize=(16, 10))\n",
    "\n",
    "for i in range(8):\n",
    "    ax[i//4,i%4].fill_between(\n",
    "        np.arange(1750.5, 2301), \n",
    "        np.min(f.temperature[:, i, :, 0]-f.temperature[100:151, i, :, 0].mean(axis=0), axis=1), \n",
    "        np.max(f.temperature[:, i, :, 0]-f.temperature[100:151, i, :, 0].mean(axis=0), axis=1),\n",
    "        color='#000000',\n",
    "        alpha=0.2,\n",
    "    )\n",
    "    ax[i//4,i%4].fill_between(\n",
    "        np.arange(1750.5, 2301), \n",
    "        np.percentile(f.temperature[:, i, :, 0]-f.temperature[100:151, i, :, 0].mean(axis=0), 5, axis=1), \n",
    "        np.percentile(f.temperature[:, i, :, 0]-f.temperature[100:151, i, :, 0].mean(axis=0), 95, axis=1),\n",
    "        color='#000000',\n",
    "        alpha=0.2,\n",
    "    )\n",
    "    ax[i//4,i%4].fill_between(\n",
    "        np.arange(1750.5, 2301), \n",
    "        np.percentile(f.temperature[:, i, :, 0]-f.temperature[100:151, i, :, 0].mean(axis=0), 16, axis=1), \n",
    "        np.percentile(f.temperature[:, i, :, 0]-f.temperature[100:151, i, :, 0].mean(axis=0), 84, axis=1),\n",
    "        color='#000000',\n",
    "        alpha=0.2,\n",
    "    )\n",
    "    ax[i//4,i%4].plot(\n",
    "        np.arange(1750.5, 2301), \n",
    "        np.median(f.temperature[:, i, :, 0]-f.temperature[100:151, i, :, 0].mean(axis=0), axis=1), \n",
    "        color='#000000',\n",
    "    )\n",
    "    ax[i//4,i%4].set_xlim(1750,2300)\n",
    "    ax[i//4,i%4].set_ylim(-1, 10)\n",
    "    ax[i//4,i%4].axhline(0, color='k', ls=\":\", lw=0.5)\n",
    "    ax[i//4,i%4].set_title(scenarios[i])\n",
    "pl.suptitle('Temperature anomaly')"
   ]
  },
  {
   "cell_type": "markdown",
   "id": "37be72f2",
   "metadata": {},
   "source": [
    "# Temperature diffs w.r.t. 1995-2014\n",
    "\n",
    "Future periods are 2021-2040, 2041-2060, 2081-2100. Values are 5th, 50th, 95th percentile."
   ]
  },
  {
   "cell_type": "code",
   "execution_count": null,
   "id": "2d29f06b",
   "metadata": {},
   "outputs": [],
   "source": [
    "# ssp119\n",
    "print(np.percentile(f.temperature[271:291, 0, :, 0].mean(axis=0)-f.temperature[245:265, 0, :, 0].mean(axis=0), (5, 50, 95)))\n",
    "print(np.percentile(f.temperature[291:311, 0, :, 0].mean(axis=0)-f.temperature[245:265, 0, :, 0].mean(axis=0), (5, 50, 95)))\n",
    "print(np.percentile(f.temperature[331:351, 0, :, 0].mean(axis=0)-f.temperature[245:265, 0, :, 0].mean(axis=0), (5, 50, 95)))"
   ]
  },
  {
   "cell_type": "code",
   "execution_count": null,
   "id": "c254e57a",
   "metadata": {},
   "outputs": [],
   "source": [
    "# ssp126\n",
    "print(np.percentile(f.temperature[271:291, 1, :, 0].mean(axis=0)-f.temperature[245:265, 1, :, 0].mean(axis=0), (5, 50, 95)))\n",
    "print(np.percentile(f.temperature[291:311, 1, :, 0].mean(axis=0)-f.temperature[245:265, 1, :, 0].mean(axis=0), (5, 50, 95)))\n",
    "print(np.percentile(f.temperature[331:351, 1, :, 0].mean(axis=0)-f.temperature[245:265, 1, :, 0].mean(axis=0), (5, 50, 95)))"
   ]
  },
  {
   "cell_type": "code",
   "execution_count": null,
   "id": "891e4e30",
   "metadata": {},
   "outputs": [],
   "source": [
    "# ssp245\n",
    "print(np.percentile(f.temperature[271:291, 2, :, 0].mean(axis=0)-f.temperature[245:265, 2, :, 0].mean(axis=0), (5, 50, 95)))\n",
    "print(np.percentile(f.temperature[291:311, 2, :, 0].mean(axis=0)-f.temperature[245:265, 2, :, 0].mean(axis=0), (5, 50, 95)))\n",
    "print(np.percentile(f.temperature[331:351, 2, :, 0].mean(axis=0)-f.temperature[245:265, 2, :, 0].mean(axis=0), (5, 50, 95)))"
   ]
  },
  {
   "cell_type": "code",
   "execution_count": null,
   "id": "a460df44",
   "metadata": {},
   "outputs": [],
   "source": [
    "# ssp370\n",
    "print(np.percentile(f.temperature[271:291, 3, :, 0].mean(axis=0)-f.temperature[245:265, 3, :, 0].mean(axis=0), (5, 50, 95)))\n",
    "print(np.percentile(f.temperature[291:311, 3, :, 0].mean(axis=0)-f.temperature[245:265, 3, :, 0].mean(axis=0), (5, 50, 95)))\n",
    "print(np.percentile(f.temperature[331:351, 3, :, 0].mean(axis=0)-f.temperature[245:265, 3, :, 0].mean(axis=0), (5, 50, 95)))"
   ]
  },
  {
   "cell_type": "code",
   "execution_count": null,
   "id": "cf7f7577",
   "metadata": {},
   "outputs": [],
   "source": [
    "# ssp585\n",
    "print(np.percentile(f.temperature[271:291, 7, :, 0].mean(axis=0)-f.temperature[245:265, 7, :, 0].mean(axis=0), (5, 50, 95)))\n",
    "print(np.percentile(f.temperature[291:311, 7, :, 0].mean(axis=0)-f.temperature[245:265, 7, :, 0].mean(axis=0), (5, 50, 95)))\n",
    "print(np.percentile(f.temperature[331:351, 7, :, 0].mean(axis=0)-f.temperature[245:265, 7, :, 0].mean(axis=0), (5, 50, 95)))"
   ]
  },
  {
   "cell_type": "markdown",
   "id": "275d5bc2",
   "metadata": {},
   "source": [
    "# Temperature diffs w.r.t. 1850-1900"
   ]
  },
  {
   "cell_type": "code",
   "execution_count": null,
   "id": "e01eb4d4",
   "metadata": {},
   "outputs": [],
   "source": [
    "# ssp119\n",
    "print(np.percentile(f.temperature[271:291, 0, :, 0].mean(axis=0)-f.temperature[100:151, 0, :, 0].mean(axis=0), (5, 50, 95)))\n",
    "print(np.percentile(f.temperature[291:311, 0, :, 0].mean(axis=0)-f.temperature[100:151, 0, :, 0].mean(axis=0), (5, 50, 95)))\n",
    "print(np.percentile(f.temperature[331:351, 0, :, 0].mean(axis=0)-f.temperature[100:151, 0, :, 0].mean(axis=0), (5, 50, 95)))"
   ]
  },
  {
   "cell_type": "code",
   "execution_count": null,
   "id": "548155af",
   "metadata": {},
   "outputs": [],
   "source": [
    "# ssp126\n",
    "print(np.percentile(f.temperature[271:291, 1, :, 0].mean(axis=0)-f.temperature[100:151, 1, :, 0].mean(axis=0), (5, 50, 95)))\n",
    "print(np.percentile(f.temperature[291:311, 1, :, 0].mean(axis=0)-f.temperature[100:151, 1, :, 0].mean(axis=0), (5, 50, 95)))\n",
    "print(np.percentile(f.temperature[331:351, 1, :, 0].mean(axis=0)-f.temperature[100:151, 1, :, 0].mean(axis=0), (5, 50, 95)))"
   ]
  },
  {
   "cell_type": "code",
   "execution_count": null,
   "id": "665f1458",
   "metadata": {},
   "outputs": [],
   "source": [
    "# ssp245\n",
    "print(np.percentile(f.temperature[271:291, 2, :, 0].mean(axis=0)-f.temperature[100:151, 2, :, 0].mean(axis=0), (5, 50, 95)))\n",
    "print(np.percentile(f.temperature[291:311, 2, :, 0].mean(axis=0)-f.temperature[100:151, 2, :, 0].mean(axis=0), (5, 50, 95)))\n",
    "print(np.percentile(f.temperature[331:351, 2, :, 0].mean(axis=0)-f.temperature[100:151, 2, :, 0].mean(axis=0), (5, 50, 95)))"
   ]
  },
  {
   "cell_type": "code",
   "execution_count": null,
   "id": "93b78115",
   "metadata": {},
   "outputs": [],
   "source": [
    "# ssp370\n",
    "print(np.percentile(f.temperature[271:291, 3, :, 0].mean(axis=0)-f.temperature[100:151, 3, :, 0].mean(axis=0), (5, 50, 95)))\n",
    "print(np.percentile(f.temperature[291:311, 3, :, 0].mean(axis=0)-f.temperature[100:151, 3, :, 0].mean(axis=0), (5, 50, 95)))\n",
    "print(np.percentile(f.temperature[331:351, 3, :, 0].mean(axis=0)-f.temperature[100:151, 3, :, 0].mean(axis=0), (5, 50, 95)))"
   ]
  },
  {
   "cell_type": "code",
   "execution_count": null,
   "id": "6497a9c4",
   "metadata": {},
   "outputs": [],
   "source": [
    "# ssp585\n",
    "print(np.percentile(f.temperature[271:291, 7, :, 0].mean(axis=0)-f.temperature[100:151, 7, :, 0].mean(axis=0), (5, 50, 95)))\n",
    "print(np.percentile(f.temperature[291:311, 7, :, 0].mean(axis=0)-f.temperature[100:151, 7, :, 0].mean(axis=0), (5, 50, 95)))\n",
    "print(np.percentile(f.temperature[331:351, 7, :, 0].mean(axis=0)-f.temperature[100:151, 7, :, 0].mean(axis=0), (5, 50, 95)))"
   ]
  },
  {
   "cell_type": "markdown",
   "id": "51025aa4",
   "metadata": {},
   "source": [
    "## Today"
   ]
  },
  {
   "cell_type": "code",
   "execution_count": null,
   "id": "0e286bb6",
   "metadata": {},
   "outputs": [],
   "source": [
    "print(np.percentile(f.temperature[245:265, 2, :, 0].mean(axis=0)-f.temperature[100:151, 2, :, 0].mean(axis=0), (5, 50, 95)))"
   ]
  },
  {
   "cell_type": "markdown",
   "id": "e6e26427",
   "metadata": {},
   "source": [
    "## Forcing"
   ]
  },
  {
   "cell_type": "markdown",
   "id": "59e6441e",
   "metadata": {},
   "source": [
    "### Methane: SSP245 in 2019"
   ]
  },
  {
   "cell_type": "code",
   "execution_count": null,
   "id": "4221cf6f",
   "metadata": {},
   "outputs": [],
   "source": [
    "np.percentile(f.forcing[269, 2, :, 3], (5, 50, 95))"
   ]
  },
  {
   "cell_type": "code",
   "execution_count": null,
   "id": "9bfa95a0",
   "metadata": {},
   "outputs": [],
   "source": [
    "np.percentile(f.concentration[0, 2, :, 3], (5, 50, 95))\n",
    "np.percentile(f.concentration[269, 2, :, 3], (5, 50, 95))"
   ]
  },
  {
   "cell_type": "code",
   "execution_count": null,
   "id": "966cb3bb",
   "metadata": {},
   "outputs": [],
   "source": [
    "df_conc = pd.read_csv('../data/rcmip/rcmip-concentrations-annual-means-v5-1-0.csv')\n",
    "conc_ch4 = {}\n",
    "for scenario in scenarios:\n",
    "    conc_ch4[scenario] = df_conc.loc[\n",
    "        (df_conc['Scenario']==scenario) & (df_conc['Variable'].str.endswith(\"|CH4\")) & \n",
    "        (df_conc['Region']=='World'), '1750':'2500'\n",
    "    ].interpolate(axis=1).values.squeeze()"
   ]
  },
  {
   "cell_type": "code",
   "execution_count": null,
   "id": "976ec1fe",
   "metadata": {},
   "outputs": [],
   "source": [
    "pl.plot(np.percentile(f.concentration[:, 2, :, 3], (50), axis=1))\n",
    "pl.plot(conc_ch4['ssp245'][:], color='k')\n",
    "#pl.xlim(200,225)"
   ]
  },
  {
   "cell_type": "code",
   "execution_count": null,
   "id": "9702404c",
   "metadata": {},
   "outputs": [],
   "source": [
    "pl.fill_between(\n",
    "    np.arange(1750, 2101),\n",
    "    np.percentile(\n",
    "        f.forcing[:351, 2, :, 2:5].sum(axis=2) + \n",
    "        f.forcing[:351, 2, :, 11:51].sum(axis=2),\n",
    "        5,\n",
    "        axis=1\n",
    "    ),\n",
    "    np.percentile(\n",
    "        f.forcing[:351, 2, :, 2:5].sum(axis=2) + \n",
    "        f.forcing[:351, 2, :, 11:51].sum(axis=2),\n",
    "        95,\n",
    "        axis=1\n",
    "    ),\n",
    "    color='k', alpha=0.3\n",
    ")\n",
    "pl.plot(\n",
    "    np.arange(1750, 2101),\n",
    "    np.median(\n",
    "        f.forcing[:351, 2, :, 2:5].sum(axis=2) + \n",
    "        f.forcing[:351, 2, :, 11:51].sum(axis=2),\n",
    "        axis=1\n",
    "    ), color='k'\n",
    ")"
   ]
  },
  {
   "cell_type": "code",
   "execution_count": null,
   "id": "beec7f77",
   "metadata": {},
   "outputs": [],
   "source": [
    "pl.fill_between(\n",
    "    np.arange(1750, 2101),\n",
    "    np.percentile(\n",
    "        f.forcing[:351, 2, :, 56:58].sum(axis=2),\n",
    "        5,\n",
    "        axis=1\n",
    "    ),\n",
    "    np.percentile(\n",
    "        f.forcing[:351, 2, :, 56:58].sum(axis=2),\n",
    "        95,\n",
    "        axis=1\n",
    "    ),\n",
    "    color='k', alpha=0.3\n",
    ")\n",
    "pl.plot(\n",
    "    np.arange(1750, 2101),\n",
    "    np.median(\n",
    "        f.forcing[:351, 2, :, 56:58].sum(axis=2),\n",
    "        axis=1,\n",
    "    ), color='k'\n",
    ")"
   ]
  },
  {
   "cell_type": "code",
   "execution_count": null,
   "id": "8e5378f8",
   "metadata": {},
   "outputs": [],
   "source": [
    "pl.fill_between(\n",
    "    np.arange(1750, 2101),\n",
    "    np.percentile(\n",
    "        f.forcing[:351, 2, :, 2],\n",
    "        5,\n",
    "        axis=1\n",
    "    ),\n",
    "    np.percentile(\n",
    "        f.forcing[:351, 2, :, 2],\n",
    "        95,\n",
    "        axis=1\n",
    "    ),\n",
    "    color='k', alpha=0.3\n",
    ")\n",
    "pl.plot(\n",
    "    np.arange(1750, 2101),\n",
    "    np.median(\n",
    "        f.forcing[:351, 2, :, 2],\n",
    "        axis=1,\n",
    "    ), color='k'\n",
    ")"
   ]
  },
  {
   "cell_type": "code",
   "execution_count": null,
   "id": "0cc047a6",
   "metadata": {},
   "outputs": [],
   "source": [
    "pl.fill_between(\n",
    "    np.arange(1750, 2101),\n",
    "    np.percentile(\n",
    "        f.forcing[:351, 2, :, 54],\n",
    "        5,\n",
    "        axis=1\n",
    "    ),\n",
    "    np.percentile(\n",
    "        f.forcing[:351, 2, :, 54],\n",
    "        95,\n",
    "        axis=1\n",
    "    ),\n",
    "    color='k', alpha=0.3\n",
    ")\n",
    "pl.plot(\n",
    "    np.arange(1750, 2101),\n",
    "    np.median(\n",
    "        f.forcing[:351, 2, :, 54],\n",
    "        axis=1,\n",
    "    ), color='k'\n",
    ")"
   ]
  },
  {
   "cell_type": "code",
   "execution_count": null,
   "id": "0c43bd33",
   "metadata": {},
   "outputs": [],
   "source": [
    "pl.fill_between(\n",
    "    np.arange(1750, 2101),\n",
    "    np.percentile(\n",
    "        f.forcing[:351, 2, :, 58],\n",
    "        5,\n",
    "        axis=1\n",
    "    ),\n",
    "    np.percentile(\n",
    "        f.forcing[:351, 2, :, 58],\n",
    "        95,\n",
    "        axis=1\n",
    "    ),\n",
    "    color='k', alpha=0.3\n",
    ")\n",
    "pl.plot(\n",
    "    np.arange(1750, 2101),\n",
    "    np.median(\n",
    "        f.forcing[:351, 2, :, 58],\n",
    "        axis=1,\n",
    "    ), color='k'\n",
    ")"
   ]
  },
  {
   "cell_type": "code",
   "execution_count": null,
   "id": "b23d87e3",
   "metadata": {},
   "outputs": [],
   "source": [
    "pl.fill_between(\n",
    "    np.arange(1750, 2101),\n",
    "    np.percentile(\n",
    "        f.forcing[:351, 2, :, 59],\n",
    "        5,\n",
    "        axis=1\n",
    "    ),\n",
    "    np.percentile(\n",
    "        f.forcing[:351, 2, :, 59],\n",
    "        95,\n",
    "        axis=1\n",
    "    ),\n",
    "    color='k', alpha=0.3\n",
    ")\n",
    "pl.plot(\n",
    "    np.arange(1750, 2101),\n",
    "    np.median(\n",
    "        f.forcing[:351, 2, :, 59],\n",
    "        axis=1,\n",
    "    ), color='k'\n",
    ")"
   ]
  },
  {
   "cell_type": "code",
   "execution_count": null,
   "id": "d3265dfc",
   "metadata": {},
   "outputs": [],
   "source": [
    "pl.fill_between(\n",
    "    np.arange(1750, 2101),\n",
    "    np.percentile(\n",
    "        f.forcing[:351, 2, :, 60],\n",
    "        5,\n",
    "        axis=1\n",
    "    ),\n",
    "    np.percentile(\n",
    "        f.forcing[:351, 2, :, 60],\n",
    "        95,\n",
    "        axis=1\n",
    "    ),\n",
    "    color='k', alpha=0.3\n",
    ")\n",
    "pl.plot(\n",
    "    np.arange(1750, 2101),\n",
    "    np.median(\n",
    "        f.forcing[:351, 2, :, 60],\n",
    "        axis=1,\n",
    "    ), color='k'\n",
    ")"
   ]
  },
  {
   "cell_type": "code",
   "execution_count": null,
   "id": "495e4507",
   "metadata": {},
   "outputs": [],
   "source": [
    "pl.fill_between(\n",
    "    np.arange(1750, 2101),\n",
    "    np.percentile(\n",
    "        f.forcing[:351, 2, :, 61],\n",
    "        5,\n",
    "        axis=1\n",
    "    ),\n",
    "    np.percentile(\n",
    "        f.forcing[:351, 2, :, 61],\n",
    "        95,\n",
    "        axis=1\n",
    "    ),\n",
    "    color='k', alpha=0.3\n",
    ")\n",
    "pl.plot(\n",
    "    np.arange(1750, 2101),\n",
    "    np.median(\n",
    "        f.forcing[:351, 2, :, 61],\n",
    "        axis=1,\n",
    "    ), color='k'\n",
    ")"
   ]
  },
  {
   "cell_type": "code",
   "execution_count": null,
   "id": "0cb245e7",
   "metadata": {},
   "outputs": [],
   "source": [
    "pl.fill_between(\n",
    "    np.arange(1750, 2101),\n",
    "    np.percentile(\n",
    "        f.forcing[:351, 2, :, 62],\n",
    "        5,\n",
    "        axis=1\n",
    "    ),\n",
    "    np.percentile(\n",
    "        f.forcing[:351, 2, :, 62],\n",
    "        95,\n",
    "        axis=1\n",
    "    ),\n",
    "    color='k', alpha=0.3\n",
    ")\n",
    "pl.plot(\n",
    "    np.arange(1750, 2101),\n",
    "    np.median(\n",
    "        f.forcing[:351, 2, :, 62],\n",
    "        axis=1,\n",
    "    ), color='k'\n",
    ")"
   ]
  },
  {
   "cell_type": "code",
   "execution_count": null,
   "id": "ce1ba67b",
   "metadata": {},
   "outputs": [],
   "source": [
    "pl.plot(\n",
    "    np.arange(1750.5, 2301), \n",
    "    f.temperature[:, 2, :5, 0]-f.temperature[100:151, 2, :5, 0].mean(axis=0), \n",
    ")"
   ]
  },
  {
   "cell_type": "markdown",
   "id": "c1c204da",
   "metadata": {},
   "source": [
    "## Save out land use forcing"
   ]
  },
  {
   "cell_type": "code",
   "execution_count": null,
   "id": "4cbc078a",
   "metadata": {},
   "outputs": [],
   "source": [
    "f.forcing[:, :, :, 62].shape"
   ]
  },
  {
   "cell_type": "code",
   "execution_count": null,
   "id": "c3dcd1a2",
   "metadata": {},
   "outputs": [],
   "source": [
    "np.save('../data/ar6_ensemble_batches/land-use-erf-from-emissions-driven-ssps.npy', f.forcing[:, :, :, 62])"
   ]
  },
  {
   "cell_type": "code",
   "execution_count": null,
   "id": "17b3bfee",
   "metadata": {},
   "outputs": [],
   "source": [
    "df_cr.loc[valid_all, :], df_cc.loc[valid_all, :], df_ari.loc[valid_all, :], df_aci.loc[valid_all, :], df_ozone.loc[valid_all, :], df_scaling.loc[valid_all, :], df_1750co2.loc[valid_all, :]"
   ]
  },
  {
   "cell_type": "code",
   "execution_count": null,
   "id": "b03b2ee6",
   "metadata": {},
   "outputs": [],
   "source": [
    "params_out = pd.concat((df_cr.loc[valid_all, :], df_cc.loc[valid_all, :], df_ari.loc[valid_all, :], df_aci.loc[valid_all, :], df_ozone.loc[valid_all, :], df_scaling.loc[valid_all, :], df_1750co2.loc[valid_all, :]), axis=1)"
   ]
  },
  {
   "cell_type": "code",
   "execution_count": null,
   "id": "214495ad",
   "metadata": {},
   "outputs": [],
   "source": [
    "params_out.columns"
   ]
  },
  {
   "cell_type": "code",
   "execution_count": null,
   "id": "15264c85",
   "metadata": {},
   "outputs": [],
   "source": [
    "params_out.columns = ['gamma', 'c1', 'c2', 'c3', 'kappa1', 'kappa2', 'kappa3', 'epsilon',\n",
    "       'sigma_eta', 'sigma_xi', 'F_4xCO2', 'r0', 'rU', 'rT', 'rA', 'ari BC', 'ari CH4',\n",
    "       'ari CO', 'ari N2O', 'ari NH3', 'ari NOx', 'ari OC', 'ari Sulfur', 'ari VOC',\n",
    "       'ari Equivalent effective stratospheric chlorine', 'shape_so2',\n",
    "       'shape_bc', 'shape_oc', 'beta', 'o3 CH4', 'o3 N2O',\n",
    "       'o3 Equivalent effective stratospheric chlorine', 'o3 CO', 'o3 VOC', 'o3 NOx',\n",
    "       'scale CO2', 'scale CH4', 'scale N2O', 'scale minorGHG', 'scale Stratospheric water vapour',\n",
    "       'scale Contrails', 'scale Light absorbing particles on snow and ice', 'scale Land use',\n",
    "       'scale Volcanic', 'solar_amplitude', 'solar_trend', 'co2_concentration_1750']"
   ]
  },
  {
   "cell_type": "code",
   "execution_count": null,
   "id": "d45b28d8",
   "metadata": {},
   "outputs": [],
   "source": [
    "params_out.drop(columns=['scale CO2', 'ari CO'], inplace=True)"
   ]
  },
  {
   "cell_type": "code",
   "execution_count": null,
   "id": "956e1390",
   "metadata": {},
   "outputs": [],
   "source": [
    "params_out.to_csv('../data/output/ar6_calibration_ebm3.csv')"
   ]
  },
  {
   "cell_type": "code",
   "execution_count": null,
   "id": "d802e433",
   "metadata": {},
   "outputs": [],
   "source": []
  }
 ],
 "metadata": {
  "kernelspec": {
   "display_name": "Python 3 (ipykernel)",
   "language": "python",
   "name": "python3"
  },
  "language_info": {
   "codemirror_mode": {
    "name": "ipython",
    "version": 3
   },
   "file_extension": ".py",
   "mimetype": "text/x-python",
   "name": "python",
   "nbconvert_exporter": "python",
   "pygments_lexer": "ipython3",
   "version": "3.10.6"
  }
 },
 "nbformat": 4,
 "nbformat_minor": 5
}
