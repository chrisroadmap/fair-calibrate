{
 "cells": [
  {
   "cell_type": "markdown",
   "id": "aea509c6",
   "metadata": {},
   "source": [
    "# Run some constrained projections\n",
    "\n",
    "Follow the same setup as in notebook 200, with more scrutiny of outputs including other forcers"
   ]
  },
  {
   "cell_type": "markdown",
   "id": "c0c42a87",
   "metadata": {},
   "source": [
    "## Basic imports"
   ]
  },
  {
   "cell_type": "code",
   "execution_count": null,
   "id": "1f7b7662",
   "metadata": {},
   "outputs": [],
   "source": [
    "import copy\n",
    "\n",
    "import numpy as np\n",
    "import pandas as pd\n",
    "import matplotlib.pyplot as pl\n",
    "import time\n",
    "import scipy.stats\n",
    "from tqdm import tqdm\n",
    "\n",
    "from fair21 import (\n",
    "    SpeciesID, Category, Config, Species, RunMode, Scenario, ClimateResponse, RunConfig, CH4LifetimeMethod, FAIR\n",
    ")\n",
    "from fair21.defaults import species_config_from_default"
   ]
  },
  {
   "cell_type": "markdown",
   "id": "8872d62a",
   "metadata": {},
   "source": [
    "## Set up problem"
   ]
  },
  {
   "cell_type": "code",
   "execution_count": null,
   "id": "b427014b",
   "metadata": {},
   "outputs": [],
   "source": [
    "species_ids = {\n",
    "    # Greenhouse gases and precursors\n",
    "    'CO2_FFI': SpeciesID('CO2 fossil fuel and industrial', Category.CO2_FFI),\n",
    "    'CO2_AFOLU': SpeciesID('CO2 AFOLU', Category.CO2_AFOLU),\n",
    "    'CO2': SpeciesID('CO2', Category.CO2),\n",
    "    'CH4': SpeciesID('CH4', Category.CH4),\n",
    "    'N2O': SpeciesID('N2O', Category.N2O),\n",
    "    'CFC-11': SpeciesID('CFC-11', Category.CFC_11),\n",
    "    'CFC-12': SpeciesID('CFC-12', Category.OTHER_HALOGEN),\n",
    "    'CFC-113': SpeciesID('CFC-113', Category.OTHER_HALOGEN),\n",
    "    'CFC-114': SpeciesID('CFC-114', Category.OTHER_HALOGEN),\n",
    "    'CFC-115': SpeciesID('CFC-115', Category.OTHER_HALOGEN),\n",
    "    'HCFC-22': SpeciesID('HCFC-22', Category.OTHER_HALOGEN),\n",
    "    'HCFC-141b': SpeciesID('HCFC-141b', Category.OTHER_HALOGEN),\n",
    "    'HCFC-142b': SpeciesID('HCFC-142b', Category.OTHER_HALOGEN),\n",
    "    'CCl4': SpeciesID('CCl4', Category.OTHER_HALOGEN),\n",
    "    'CHCl3': SpeciesID('CHCl3', Category.OTHER_HALOGEN),\n",
    "    'CH2Cl2': SpeciesID('CH2Cl2', Category.OTHER_HALOGEN),\n",
    "    'CH3Cl': SpeciesID('CH3Cl', Category.OTHER_HALOGEN),\n",
    "    'CH3CCl3': SpeciesID('CH3CCl3', Category.OTHER_HALOGEN),\n",
    "    'CH3Br': SpeciesID('CH3Br', Category.OTHER_HALOGEN),\n",
    "    'Halon-1211': SpeciesID('Halon-1211', Category.OTHER_HALOGEN),\n",
    "    'Halon-1301': SpeciesID('Halon-1301', Category.OTHER_HALOGEN),\n",
    "    'Halon-2402': SpeciesID('Halon-2402', Category.OTHER_HALOGEN),\n",
    "    'CF4': SpeciesID('CF4', Category.F_GAS),\n",
    "    'C2F6': SpeciesID('C2F6', Category.F_GAS),\n",
    "    'C3F8': SpeciesID('C3F8', Category.F_GAS),\n",
    "    'c-C4F8': SpeciesID('C-C4F8', Category.F_GAS),\n",
    "    'C4F10': SpeciesID('C4F10', Category.F_GAS),\n",
    "    'C5F12': SpeciesID('C5F12', Category.F_GAS),\n",
    "    'C6F14': SpeciesID('C6F14', Category.F_GAS),\n",
    "    'C7F16': SpeciesID('C7F16', Category.F_GAS),\n",
    "    'C8F18': SpeciesID('C8F18', Category.F_GAS),\n",
    "    'HFC-125': SpeciesID('HFC-125', Category.F_GAS),\n",
    "    'HFC-134a': SpeciesID('HFC-134a', Category.F_GAS),\n",
    "    'HFC-143a': SpeciesID('HFC-143a', Category.F_GAS),\n",
    "    'HFC-152a': SpeciesID('HFC-152a', Category.F_GAS),\n",
    "    'HFC-227ea': SpeciesID('HFC-227ea', Category.F_GAS),\n",
    "    'HFC-23': SpeciesID('HFC-23', Category.F_GAS),\n",
    "    'HFC-236fa': SpeciesID('HFC-236fa', Category.F_GAS),\n",
    "    'HFC-245fa': SpeciesID('HFC-245fa', Category.F_GAS),\n",
    "    'HFC-32': SpeciesID('HFC-32', Category.F_GAS),\n",
    "    'HFC-365mfc': SpeciesID('HFC-365mfc', Category.F_GAS),\n",
    "    'HFC-4310mee': SpeciesID('HFC-4310mee', Category.F_GAS),\n",
    "    'NF3': SpeciesID('NF3', Category.F_GAS),\n",
    "    'SF6': SpeciesID('SF6', Category.F_GAS),\n",
    "    'SO2F2': SpeciesID('SO2F2', Category.F_GAS),\n",
    "    # aerosols, ozone, and their precursors\n",
    "    'Sulfur': SpeciesID('Sulfur', Category.SULFUR),\n",
    "    'BC': SpeciesID('BC', Category.BC),\n",
    "    'OC': SpeciesID('OC', Category.OC),\n",
    "    'NH3': SpeciesID('NH3', Category.OTHER_AEROSOL),\n",
    "    'VOC': SpeciesID('VOC', Category.REACTIVE_GAS),\n",
    "    'CO': SpeciesID('CO', Category.REACTIVE_GAS),\n",
    "    'NOx': SpeciesID('NOx', Category.REACTIVE_GAS),\n",
    "    'ari': SpeciesID('Aerosol-Radiation Interactions', Category.AEROSOL_RADIATION_INTERACTIONS),\n",
    "    'aci': SpeciesID('Aerosol-Cloud Interactions', Category.AEROSOL_CLOUD_INTERACTIONS),\n",
    "    'ozone': SpeciesID('Ozone', Category.OZONE),\n",
    "    # Contrails and precursors\n",
    "    'NOx_aviation': SpeciesID('NOx Aviation', Category.NOX_AVIATION),\n",
    "    'contrails': SpeciesID('Contrails', Category.CONTRAILS),\n",
    "    # other minor anthropogenic\n",
    "    'LAPSI': SpeciesID('Light absorbing particles on snow and ice', Category.LAPSI),\n",
    "    'H2O_stratospheric': SpeciesID('H2O Stratospheric', Category.H2O_STRATOSPHERIC),\n",
    "    'land_use': SpeciesID('Land Use', Category.LAND_USE),\n",
    "    # natural\n",
    "    'solar': SpeciesID('Solar', Category.SOLAR),\n",
    "    'volcanic': SpeciesID('Volcanic', Category.VOLCANIC)\n",
    "}"
   ]
  },
  {
   "cell_type": "code",
   "execution_count": null,
   "id": "25dcde1a",
   "metadata": {},
   "outputs": [],
   "source": [
    "scenarios_to_include=['ssp119', 'ssp126', 'ssp245', 'ssp370', 'ssp434', 'ssp460', 'ssp534-over', 'ssp585']"
   ]
  },
  {
   "cell_type": "code",
   "execution_count": null,
   "id": "fca93c4c",
   "metadata": {},
   "outputs": [],
   "source": [
    "df_emis = pd.read_csv('../data/rcmip/rcmip-emissions-annual-means-v5-1-0.csv')\n",
    "df_conc = pd.read_csv('../data/rcmip/rcmip-concentrations-annual-means-v5-1-0.csv')\n",
    "df_forc = pd.read_csv('../data/forcing/table_A3.3_historical_ERF_1750-2019_best_estimate.csv')"
   ]
  },
  {
   "cell_type": "code",
   "execution_count": null,
   "id": "c65cfb1b",
   "metadata": {},
   "outputs": [],
   "source": [
    "emitted_species = [\n",
    "    'CO2_FFI', 'CO2_AFOLU', 'CH4', 'N2O',\n",
    "    'Sulfur', 'BC', 'OC', 'NH3', 'NOx', 'VOC', 'CO',\n",
    "    'CFC-11', 'CFC-12', 'CFC-113', 'CFC-114', 'CFC-115',\n",
    "    'HCFC-22', 'HCFC-141b', 'HCFC-142b',\n",
    "    'CCl4', 'CHCl3', 'CH2Cl2', 'CH3Cl', 'CH3CCl3', 'CH3Br',\n",
    "    'Halon-1211', 'Halon-1301', 'Halon-2402',\n",
    "    'CF4', 'C2F6', 'C3F8', 'c-C4F8', 'C4F10', 'C5F12', 'C6F14', 'C7F16', 'C8F18',\n",
    "    'NF3', 'SF6', 'SO2F2',\n",
    "    'HFC-125', 'HFC-134a', 'HFC-143a', 'HFC-152a', 'HFC-227ea', 'HFC-23', 'HFC-236fa', 'HFC-245fa', 'HFC-32', \n",
    "    'HFC-365mfc', 'HFC-4310mee', 'NOx_aviation']\n",
    "forced_species = ['solar', 'volcanic']\n",
    "from_other_species = ['CO2', 'ari', 'aci', 'ozone', 'contrails', 'LAPSI', 'H2O_stratospheric', 'land_use']\n",
    "\n",
    "species_to_include = emitted_species + forced_species + from_other_species"
   ]
  },
  {
   "cell_type": "code",
   "execution_count": null,
   "id": "b871b178",
   "metadata": {},
   "outputs": [],
   "source": [
    "scenarios = []\n",
    "for iscen, scenario in enumerate(scenarios_to_include):\n",
    "    list_of_species = []\n",
    "    for ispec, species in enumerate(emitted_species):\n",
    "        species_rcmip_name = species.replace(\"-\", \"\")\n",
    "        if species == 'NOx_aviation':\n",
    "            species_rcmip_name = 'NOx|MAGICC Fossil and Industrial|Aircraft'\n",
    "        elif species == 'CO2_FFI':\n",
    "            species_rcmip_name = 'CO2|MAGICC Fossil and Industrial'\n",
    "        elif species == 'CO2_AFOLU':\n",
    "            species_rcmip_name = 'CO2|MAGICC AFOLU'\n",
    "        emis_in = df_emis.loc[\n",
    "            (df_emis['Scenario']==scenario) & (df_emis['Variable'].str.endswith(\"|\"+species_rcmip_name)) & \n",
    "            (df_emis['Region']=='World'), '1750':'2300'\n",
    "        ].interpolate(axis=1).values.squeeze()\n",
    "\n",
    "        # CO2 and N2O units need to behave: TODO, sort this out\n",
    "        if species in ('CO2_FFI', 'CO2_AFOLU', 'N2O'):\n",
    "            emis_in = emis_in / 1000\n",
    "        list_of_species.append(Species(species_ids[species], emissions=emis_in))\n",
    "        #print(species_rcmip_name, emis_in.shape)\n",
    "        \n",
    "    # solar and volcanic forcing still a little hacky\n",
    "    solar_forcing = np.zeros(551)\n",
    "    solar_forcing[:270] = df_forc['solar'].values\n",
    "    volcanic_forcing = np.zeros(551)\n",
    "    volcanic_forcing[:270] = df_forc['volcanic'].values\n",
    "    volcanic_forcing[269:281] = np.linspace(1, 0, 12) * volcanic_forcing[269]\n",
    "    list_of_species.append(Species(species_ids['solar'], forcing=solar_forcing))\n",
    "    list_of_species.append(Species(species_ids['volcanic'], forcing=volcanic_forcing))\n",
    "    \n",
    "    # add derived species: at this stage just a declaration that we want them\n",
    "    for species in from_other_species:\n",
    "        list_of_species.append(Species(species_ids[species]))\n",
    "        \n",
    "    scenarios.append(Scenario(scenario, list_of_species))"
   ]
  },
  {
   "cell_type": "code",
   "execution_count": null,
   "id": "dc7aaf04",
   "metadata": {},
   "outputs": [],
   "source": [
    "valid_all = np.loadtxt('../data/ar6_ensemble_batches/accepted.csv', dtype=int)[:1000]\n",
    "valid_all"
   ]
  },
  {
   "cell_type": "code",
   "execution_count": null,
   "id": "0545a6b7",
   "metadata": {},
   "outputs": [],
   "source": [
    "df_cc=pd.read_csv('../data/parameter_sets/carbon_cycle.csv')\n",
    "df_cr=pd.read_csv('../data/parameter_sets/climate_response.csv')\n",
    "df_aci=pd.read_csv('../data/parameter_sets/erfaci.csv')\n",
    "df_ari=pd.read_csv('../data/parameter_sets/erfari.csv')\n",
    "df_ozone=pd.read_csv('../data/parameter_sets/ozone.csv')\n",
    "df_scaling=pd.read_csv('../data/parameter_sets/forcing_scaling.csv')"
   ]
  },
  {
   "cell_type": "code",
   "execution_count": null,
   "id": "81dc438f",
   "metadata": {},
   "outputs": [],
   "source": [
    "species_index = {}\n",
    "for i in range(len(species_to_include)):\n",
    "    species_index[species_to_include[i]] = i"
   ]
  },
  {
   "cell_type": "code",
   "execution_count": null,
   "id": "017cc246",
   "metadata": {},
   "outputs": [],
   "source": [
    "seedgen = 1355763\n",
    "seed = seedgen\n",
    "run_config = RunConfig(ch4_lifetime_method=CH4LifetimeMethod.AERCHEMMIP)\n",
    "\n",
    "configs = []\n",
    "for iconf in valid_all:\n",
    "    config_name = f\"{iconf}\"\n",
    "\n",
    "    # Climate response configs\n",
    "    climate_response = ClimateResponse(\n",
    "        ocean_heat_capacity = df_cr.loc[iconf, 'c1':'c3'].values.squeeze(),\n",
    "        ocean_heat_transfer = df_cr.loc[iconf, 'kappa1':'kappa3'].values.squeeze(),\n",
    "        deep_ocean_efficacy = df_cr.loc[iconf, 'epsilon'],\n",
    "        gamma_autocorrelation = df_cr.loc[iconf, 'gamma'],\n",
    "        sigma_eta = df_cr.loc[iconf, 'sigma_eta'],\n",
    "        sigma_xi = df_cr.loc[iconf, 'sigma_xi'],\n",
    "        stochastic_run = False,#True,\n",
    "        seed = seed\n",
    "    )\n",
    "    seed = seedgen+399*iconf\n",
    "\n",
    "    # Species configs\n",
    "    # get defaults\n",
    "    species_config = [copy.copy(species_config_from_default(species)) for species in species_to_include]\n",
    "\n",
    "    # CO2 carbon cycle sensitivity\n",
    "    species_config[54].iirf_0 = df_cc.loc[iconf, 'r0']\n",
    "    species_config[54].iirf_airborne = df_cc.loc[iconf, 'rA']\n",
    "    species_config[54].iirf_cumulative = df_cc.loc[iconf, 'rC']\n",
    "    species_config[54].iirf_temperature = df_cc.loc[iconf, 'rT']\n",
    "\n",
    "    # aerosol indirect params\n",
    "    species_config[56].aci_params = {\n",
    "        \"scale\": df_aci.loc[iconf, \"beta\"],\n",
    "        \"Sulfur\": df_aci.loc[iconf, \"shape_so2\"], \n",
    "        \"BC+OC\": df_aci.loc[iconf, \"shape_bcoc\"]\n",
    "    }\n",
    "\n",
    "    # methane lifetime params (not varied, defaults are baked in)\n",
    "    species_config[2].lifetime = 10.788405534387858\n",
    "    species_config[2].natural_emissions_adjustment = 19.019783117809567\n",
    "    species_config[2].soil_lifetime = 185\n",
    "\n",
    "    # aerosol direct params\n",
    "    for index in df_ari:\n",
    "        species_config[species_index[index]].erfari_radiative_efficiency = df_ari.loc[iconf, index]\n",
    "\n",
    "    # forcing scalings!\n",
    "    for index in df_scaling:\n",
    "        if index in ['minorGHG', 'solar_amplitude', 'solar_trend']:\n",
    "            continue\n",
    "        species_config[species_index[index]].scale = df_scaling.loc[iconf, index]\n",
    "    species_config[52].scale = df_scaling.loc[iconf, 'solar_amplitude']\n",
    "    for idx in range(11, 51):\n",
    "        species_config[idx].scale = df_scaling.loc[iconf, 'minorGHG']\n",
    "\n",
    "    # ozone scalings\n",
    "    for index in df_ozone:\n",
    "        if index=='ODS':\n",
    "            for idx in range(11, 51):\n",
    "                species_config[idx].ozone_radiative_efficiency = df_ozone.loc[iconf, 'ODS']\n",
    "        else:\n",
    "            species_config[species_index[index]].ozone_radiative_efficiency = df_ozone.loc[iconf, index]\n",
    "\n",
    "    # volcanic efficacy is something like 0.6\n",
    "    species_config[53].efficacy = 0.6\n",
    "\n",
    "    configs.append(Config(config_name, climate_response, species_config))"
   ]
  },
  {
   "cell_type": "code",
   "execution_count": null,
   "id": "c66304b2",
   "metadata": {},
   "outputs": [],
   "source": [
    "fair = FAIR(scenarios, configs, run_config=run_config)\n",
    "fair.run(progress=True)\n",
    "    \n",
    "#     # at this point dump out some batch output and put the constraining in another sheet\n",
    "#     temp_out[:, batch_start:batch_end] = fair.temperature[100:, 0, :, 0, 0]\n",
    "#     fair.calculate_ocean_heat_content_change()\n",
    "#     ohc_out[:, batch_start:batch_end] = fair.ocean_heat_content_change[221:269, 0, :, 0, 0]\n",
    "#     co2_out[batch_start:batch_end] = fair.concentration_array[264, 0, :, 54, 0]\n",
    "#     faer_out[:, batch_start:batch_end] = fair.forcing_array[250:270, 0, :, 55:57, 0].sum(axis=2)"
   ]
  },
  {
   "cell_type": "code",
   "execution_count": null,
   "id": "c5f8d412",
   "metadata": {},
   "outputs": [],
   "source": [
    "fig, ax = pl.subplots(2, 4, figsize=(16, 10))\n",
    "\n",
    "for i in range(8):\n",
    "    ax[i//4,i%4].fill_between(\n",
    "        np.arange(1750.5, 2301), \n",
    "        np.min(fair.temperature[:, i, :, 0, 0]-fair.temperature[100:151, i, :, 0, 0].mean(axis=0), axis=1), \n",
    "        np.max(fair.temperature[:, i, :, 0, 0]-fair.temperature[100:151, i, :, 0, 0].mean(axis=0), axis=1),\n",
    "        color='#000000',\n",
    "        alpha=0.2,\n",
    "    )\n",
    "    ax[i//4,i%4].fill_between(\n",
    "        np.arange(1750.5, 2301), \n",
    "        np.percentile(fair.temperature[:, i, :, 0, 0]-fair.temperature[100:151, i, :, 0, 0].mean(axis=0), 5, axis=1), \n",
    "        np.percentile(fair.temperature[:, i, :, 0, 0]-fair.temperature[100:151, i, :, 0, 0].mean(axis=0), 95, axis=1),\n",
    "        color='#000000',\n",
    "        alpha=0.2,\n",
    "    )\n",
    "    ax[i//4,i%4].fill_between(\n",
    "        np.arange(1750.5, 2301), \n",
    "        np.percentile(fair.temperature[:, i, :, 0, 0]-fair.temperature[100:151, i, :, 0, 0].mean(axis=0), 16, axis=1), \n",
    "        np.percentile(fair.temperature[:, i, :, 0, 0]-fair.temperature[100:151, i, :, 0, 0].mean(axis=0), 84, axis=1),\n",
    "        color='#000000',\n",
    "        alpha=0.2,\n",
    "    )\n",
    "    ax[i//4,i%4].plot(\n",
    "        np.arange(1750.5, 2301), \n",
    "        np.median(fair.temperature[:, i, :, 0, 0]-fair.temperature[100:151, i, :, 0, 0].mean(axis=0), axis=1), \n",
    "        color='#000000',\n",
    "    )\n",
    "    ax[i//4,i%4].set_xlim(1750,2300)\n",
    "    ax[i//4,i%4].set_ylim(-1, 10)\n",
    "    ax[i//4,i%4].axhline(0, color='k', ls=\":\", lw=0.5)\n",
    "    ax[i//4,i%4].set_title(scenarios_to_include[i])\n",
    "pl.suptitle('Temperature anomaly')"
   ]
  },
  {
   "cell_type": "markdown",
   "id": "37be72f2",
   "metadata": {},
   "source": [
    "# Temperature diffs w.r.t. 1995-2014"
   ]
  },
  {
   "cell_type": "code",
   "execution_count": null,
   "id": "2d29f06b",
   "metadata": {},
   "outputs": [],
   "source": [
    "print(np.percentile(fair.temperature[271:291, 0, :, 0, 0].mean(axis=0)-fair.temperature[245:265, 0, :, 0, 0].mean(axis=0), (5, 50, 95)))\n",
    "print(np.percentile(fair.temperature[291:311, 0, :, 0, 0].mean(axis=0)-fair.temperature[245:265, 0, :, 0, 0].mean(axis=0), (5, 50, 95)))\n",
    "print(np.percentile(fair.temperature[331:351, 0, :, 0, 0].mean(axis=0)-fair.temperature[245:265, 0, :, 0, 0].mean(axis=0), (5, 50, 95)))"
   ]
  },
  {
   "cell_type": "code",
   "execution_count": null,
   "id": "c254e57a",
   "metadata": {},
   "outputs": [],
   "source": [
    "print(np.percentile(fair.temperature[271:291, 1, :, 0, 0].mean(axis=0)-fair.temperature[245:265, 1, :, 0, 0].mean(axis=0), (5, 50, 95)))\n",
    "print(np.percentile(fair.temperature[291:311, 1, :, 0, 0].mean(axis=0)-fair.temperature[245:265, 1, :, 0, 0].mean(axis=0), (5, 50, 95)))\n",
    "print(np.percentile(fair.temperature[331:351, 1, :, 0, 0].mean(axis=0)-fair.temperature[245:265, 1, :, 0, 0].mean(axis=0), (5, 50, 95)))"
   ]
  },
  {
   "cell_type": "code",
   "execution_count": null,
   "id": "891e4e30",
   "metadata": {},
   "outputs": [],
   "source": [
    "print(np.percentile(fair.temperature[271:291, 2, :, 0, 0].mean(axis=0)-fair.temperature[245:265, 2, :, 0, 0].mean(axis=0), (5, 50, 95)))\n",
    "print(np.percentile(fair.temperature[291:311, 2, :, 0, 0].mean(axis=0)-fair.temperature[245:265, 2, :, 0, 0].mean(axis=0), (5, 50, 95)))\n",
    "print(np.percentile(fair.temperature[331:351, 2, :, 0, 0].mean(axis=0)-fair.temperature[245:265, 2, :, 0, 0].mean(axis=0), (5, 50, 95)))"
   ]
  },
  {
   "cell_type": "code",
   "execution_count": null,
   "id": "a460df44",
   "metadata": {},
   "outputs": [],
   "source": [
    "print(np.percentile(fair.temperature[271:291, 3, :, 0, 0].mean(axis=0)-fair.temperature[245:265, 3, :, 0, 0].mean(axis=0), (5, 50, 95)))\n",
    "print(np.percentile(fair.temperature[291:311, 3, :, 0, 0].mean(axis=0)-fair.temperature[245:265, 3, :, 0, 0].mean(axis=0), (5, 50, 95)))\n",
    "print(np.percentile(fair.temperature[331:351, 3, :, 0, 0].mean(axis=0)-fair.temperature[245:265, 3, :, 0, 0].mean(axis=0), (5, 50, 95)))"
   ]
  },
  {
   "cell_type": "code",
   "execution_count": null,
   "id": "cf7f7577",
   "metadata": {},
   "outputs": [],
   "source": [
    "print(np.percentile(fair.temperature[271:291, 7, :, 0, 0].mean(axis=0)-fair.temperature[245:265, 7, :, 0, 0].mean(axis=0), (5, 50, 95)))\n",
    "print(np.percentile(fair.temperature[291:311, 7, :, 0, 0].mean(axis=0)-fair.temperature[245:265, 7, :, 0, 0].mean(axis=0), (5, 50, 95)))\n",
    "print(np.percentile(fair.temperature[331:351, 7, :, 0, 0].mean(axis=0)-fair.temperature[245:265, 7, :, 0, 0].mean(axis=0), (5, 50, 95)))"
   ]
  },
  {
   "cell_type": "markdown",
   "id": "275d5bc2",
   "metadata": {},
   "source": [
    "# Temperature diffs w.r.t. 1850-1900"
   ]
  },
  {
   "cell_type": "code",
   "execution_count": null,
   "id": "67de609c",
   "metadata": {},
   "outputs": [],
   "source": [
    "print(np.percentile(fair.temperature[271:291, 0, :, 0, 0].mean(axis=0)-fair.temperature[100:151, 0, :, 0, 0].mean(axis=0), (5, 50, 95)))\n",
    "print(np.percentile(fair.temperature[291:311, 0, :, 0, 0].mean(axis=0)-fair.temperature[100:151, 0, :, 0, 0].mean(axis=0), (5, 50, 95)))\n",
    "print(np.percentile(fair.temperature[331:351, 0, :, 0, 0].mean(axis=0)-fair.temperature[100:151, 0, :, 0, 0].mean(axis=0), (5, 50, 95)))"
   ]
  },
  {
   "cell_type": "code",
   "execution_count": null,
   "id": "c43c34e7",
   "metadata": {},
   "outputs": [],
   "source": [
    "print(np.percentile(fair.temperature[271:291, 1, :, 0, 0].mean(axis=0)-fair.temperature[100:151, 1, :, 0, 0].mean(axis=0), (5, 50, 95)))\n",
    "print(np.percentile(fair.temperature[291:311, 1, :, 0, 0].mean(axis=0)-fair.temperature[100:151, 1, :, 0, 0].mean(axis=0), (5, 50, 95)))\n",
    "print(np.percentile(fair.temperature[331:351, 1, :, 0, 0].mean(axis=0)-fair.temperature[100:151, 1, :, 0, 0].mean(axis=0), (5, 50, 95)))"
   ]
  },
  {
   "cell_type": "code",
   "execution_count": null,
   "id": "6d5a1695",
   "metadata": {},
   "outputs": [],
   "source": [
    "print(np.percentile(fair.temperature[271:291, 2, :, 0, 0].mean(axis=0)-fair.temperature[100:151, 2, :, 0, 0].mean(axis=0), (5, 50, 95)))\n",
    "print(np.percentile(fair.temperature[291:311, 2, :, 0, 0].mean(axis=0)-fair.temperature[100:151, 2, :, 0, 0].mean(axis=0), (5, 50, 95)))\n",
    "print(np.percentile(fair.temperature[331:351, 2, :, 0, 0].mean(axis=0)-fair.temperature[100:151, 2, :, 0, 0].mean(axis=0), (5, 50, 95)))"
   ]
  },
  {
   "cell_type": "code",
   "execution_count": null,
   "id": "6dce902f",
   "metadata": {},
   "outputs": [],
   "source": [
    "print(np.percentile(fair.temperature[271:291, 3, :, 0, 0].mean(axis=0)-fair.temperature[100:151, 3, :, 0, 0].mean(axis=0), (5, 50, 95)))\n",
    "print(np.percentile(fair.temperature[291:311, 3, :, 0, 0].mean(axis=0)-fair.temperature[100:151, 3, :, 0, 0].mean(axis=0), (5, 50, 95)))\n",
    "print(np.percentile(fair.temperature[331:351, 3, :, 0, 0].mean(axis=0)-fair.temperature[100:151, 3, :, 0, 0].mean(axis=0), (5, 50, 95)))"
   ]
  },
  {
   "cell_type": "code",
   "execution_count": null,
   "id": "39c839ae",
   "metadata": {},
   "outputs": [],
   "source": [
    "print(np.percentile(fair.temperature[271:291, 7, :, 0, 0].mean(axis=0)-fair.temperature[100:151, 7, :, 0, 0].mean(axis=0), (5, 50, 95)))\n",
    "print(np.percentile(fair.temperature[291:311, 7, :, 0, 0].mean(axis=0)-fair.temperature[100:151, 7, :, 0, 0].mean(axis=0), (5, 50, 95)))\n",
    "print(np.percentile(fair.temperature[331:351, 7, :, 0, 0].mean(axis=0)-fair.temperature[100:151, 7, :, 0, 0].mean(axis=0), (5, 50, 95)))"
   ]
  },
  {
   "cell_type": "markdown",
   "id": "e6e26427",
   "metadata": {},
   "source": [
    "## Forcing"
   ]
  },
  {
   "cell_type": "markdown",
   "id": "59e6441e",
   "metadata": {},
   "source": [
    "### Methane: SSP245 in 2019"
   ]
  },
  {
   "cell_type": "code",
   "execution_count": null,
   "id": "4221cf6f",
   "metadata": {},
   "outputs": [],
   "source": [
    "np.percentile(fair.forcing_array[269, 2, :, 2, 0], (5, 50, 95))"
   ]
  },
  {
   "cell_type": "markdown",
   "id": "1f11a50a",
   "metadata": {},
   "source": [
    "### all GHGs SSP245 in 2019"
   ]
  },
  {
   "cell_type": "code",
   "execution_count": null,
   "id": "9702404c",
   "metadata": {},
   "outputs": [],
   "source": [
    "np.percentile(\n",
    "    fair.forcing_array[269, 2, :, 2, 0] +\n",
    "    fair.forcing_array[269, 2, :, 3, 0] +\n",
    "    fair.forcing_array[269, 2, :, 11:51, 0].sum(axis=1) + \n",
    "    fair.forcing_array[269, 2, :, 54, 0],\n",
    "    (5, 50, 95)\n",
    ")"
   ]
  },
  {
   "cell_type": "code",
   "execution_count": null,
   "id": "943aa3d4",
   "metadata": {},
   "outputs": [],
   "source": [
    "np.percentile(\n",
    "    np.nansum(fair.forcing_array[269, 2, :, :, 0], axis=1),\n",
    "    (5, 50, 95)\n",
    ")"
   ]
  },
  {
   "cell_type": "markdown",
   "id": "1aec9af8",
   "metadata": {},
   "source": [
    "### total aerosols in 2005-14"
   ]
  },
  {
   "cell_type": "code",
   "execution_count": null,
   "id": "632bc076",
   "metadata": {},
   "outputs": [],
   "source": [
    "np.percentile(\n",
    "    fair.forcing_array[255:265, 2, :, 55:57, 0].sum(axis=2).mean(axis=0), (5, 50, 95)\n",
    ")"
   ]
  },
  {
   "cell_type": "code",
   "execution_count": null,
   "id": "6d3d3598",
   "metadata": {},
   "outputs": [],
   "source": [
    "fair.species_index_mapping"
   ]
  },
  {
   "cell_type": "markdown",
   "id": "e6b279cc",
   "metadata": {},
   "source": [
    "## Try and work out where things are going wrong"
   ]
  },
  {
   "cell_type": "markdown",
   "id": "3f1addb1",
   "metadata": {},
   "source": [
    "### all WMGHGs"
   ]
  },
  {
   "cell_type": "code",
   "execution_count": null,
   "id": "3fc28f3c",
   "metadata": {},
   "outputs": [],
   "source": [
    "pl.fill_between(np.arange(1750.5,2020), np.percentile(\n",
    "    fair.forcing_array[:270, 2, :, 2, 0] +\n",
    "    fair.forcing_array[:270, 2, :, 3, 0] +\n",
    "    fair.forcing_array[:270, 2, :, 11:51, 0].sum(axis=2) + \n",
    "    fair.forcing_array[:270, 2, :, 54, 0],\n",
    "    (5), axis=1),\n",
    " np.percentile(\n",
    "    fair.forcing_array[:270, 2, :, 2, 0] +\n",
    "    fair.forcing_array[:270, 2, :, 3, 0] +\n",
    "    fair.forcing_array[:270, 2, :, 11:51, 0].sum(axis=2) + \n",
    "    fair.forcing_array[:270, 2, :, 54, 0],\n",
    "    (95), axis=1)\n",
    ")"
   ]
  },
  {
   "cell_type": "code",
   "execution_count": null,
   "id": "e2eda8a5",
   "metadata": {},
   "outputs": [],
   "source": [
    "pl.fill_between(np.arange(1750.5,2020), np.percentile(\n",
    "    fair.forcing_array[:270, 2, :, 11:51, 0].sum(axis=2),\n",
    "    (5), axis=1),\n",
    " np.percentile(\n",
    "    fair.forcing_array[:270, 2, :, 11:51, 0].sum(axis=2),\n",
    "    (95), axis=1)\n",
    ")"
   ]
  },
  {
   "cell_type": "markdown",
   "id": "a79fb185",
   "metadata": {},
   "source": [
    "# OZONE forcing is wrong"
   ]
  },
  {
   "cell_type": "code",
   "execution_count": null,
   "id": "c77b0947",
   "metadata": {},
   "outputs": [],
   "source": [
    "\n",
    "pl.fill_between(np.arange(1750.5,2020), np.percentile(\n",
    "    fair.forcing_array[:270, 2, :, 57, 0],\n",
    "    (5), axis=1),\n",
    " np.percentile(\n",
    "    fair.forcing_array[:270, 2, :, 57, 0],\n",
    "    (95), axis=1)\n",
    ")\n",
    "pl.plot(np.arange(1750,2020), np.median(fair.forcing_array[:270, 2, :, 57, 0],axis=1), color='k')"
   ]
  },
  {
   "cell_type": "markdown",
   "id": "4fa03c02",
   "metadata": {},
   "source": [
    "# Land use forcing has no scaling factor"
   ]
  },
  {
   "cell_type": "code",
   "execution_count": null,
   "id": "21da8381",
   "metadata": {},
   "outputs": [],
   "source": [
    "pl.fill_between(np.arange(1750.5,2020), np.percentile(\n",
    "    fair.forcing_array[:270, 2, :, 61, 0],\n",
    "    (5), axis=1),\n",
    " np.percentile(\n",
    "    fair.forcing_array[:270, 2, :, 61, 0],\n",
    "    (95), axis=1)\n",
    ")\n",
    "pl.plot(np.arange(1750,2020), np.median(fair.forcing_array[:270, 2, :, 61, 0],axis=1), color='k')"
   ]
  },
  {
   "cell_type": "code",
   "execution_count": null,
   "id": "9cd10040",
   "metadata": {},
   "outputs": [],
   "source": [
    "pl.fill_between(np.arange(1750.5,2020), np.percentile(\n",
    "    fair.forcing_array[:270, 2, :, 54, 0],\n",
    "    (5), axis=1),\n",
    " np.percentile(\n",
    "    fair.forcing_array[:270, 2, :, 54, 0],\n",
    "    (95), axis=1)\n",
    ")\n",
    "pl.plot(np.arange(1750,2020), np.median(fair.forcing_array[:270, 2, :, 54, 0],axis=1), color='k')"
   ]
  },
  {
   "cell_type": "code",
   "execution_count": null,
   "id": "ec6d18a6",
   "metadata": {},
   "outputs": [],
   "source": [
    "pl.fill_between(np.arange(1750.5,2020), np.percentile(\n",
    "    fair.forcing_array[:270, 2, :, 2, 0],\n",
    "    (5), axis=1),\n",
    " np.percentile(\n",
    "    fair.forcing_array[:270, 2, :, 2, 0],\n",
    "    (95), axis=1)\n",
    ")\n",
    "pl.plot(np.arange(1750,2020), np.median(fair.forcing_array[:270, 2, :, 2, 0],axis=1), color='k')"
   ]
  },
  {
   "cell_type": "code",
   "execution_count": null,
   "id": "6d3d8bee",
   "metadata": {},
   "outputs": [],
   "source": [
    "pl.fill_between(np.arange(1750.5,2020), np.percentile(\n",
    "    fair.forcing_array[:270, 2, :, 3, 0],\n",
    "    (5), axis=1),\n",
    " np.percentile(\n",
    "    fair.forcing_array[:270, 2, :, 3, 0],\n",
    "    (95), axis=1)\n",
    ")\n",
    "pl.plot(np.arange(1750,2020), np.median(fair.forcing_array[:270, 2, :, 3, 0],axis=1), color='k')"
   ]
  },
  {
   "cell_type": "markdown",
   "id": "12fa59bd",
   "metadata": {},
   "source": [
    "# Stratospheric waver vapour uncertainty is too narrow"
   ]
  },
  {
   "cell_type": "code",
   "execution_count": null,
   "id": "2a3aa308",
   "metadata": {},
   "outputs": [],
   "source": [
    "pl.fill_between(np.arange(1750.5,2020), np.percentile(\n",
    "    fair.forcing_array[:270, 2, :, 60, 0],\n",
    "    (5), axis=1),\n",
    " np.percentile(\n",
    "    fair.forcing_array[:270, 2, :, 60, 0],\n",
    "    (95), axis=1)\n",
    ")\n",
    "pl.plot(np.arange(1750,2020), np.median(fair.forcing_array[:270, 2, :, 60, 0],axis=1), color='k')"
   ]
  },
  {
   "cell_type": "code",
   "execution_count": null,
   "id": "600fb058",
   "metadata": {},
   "outputs": [],
   "source": []
  }
 ],
 "metadata": {
  "kernelspec": {
   "display_name": "Python 3",
   "language": "python",
   "name": "python3"
  },
  "language_info": {
   "codemirror_mode": {
    "name": "ipython",
    "version": 3
   },
   "file_extension": ".py",
   "mimetype": "text/x-python",
   "name": "python",
   "nbconvert_exporter": "python",
   "pygments_lexer": "ipython3",
   "version": "3.8.8"
  }
 },
 "nbformat": 4,
 "nbformat_minor": 5
}
