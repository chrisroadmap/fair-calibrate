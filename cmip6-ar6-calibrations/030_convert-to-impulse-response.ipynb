{
 "cells": [
  {
   "cell_type": "markdown",
   "id": "cecfbf2a",
   "metadata": {},
   "source": [
    "# Convert EBM to IRM\n",
    "\n",
    "This notebook takes the three-layer energy balance model tunings from Donald Cummins and converts them to a three-layer impulse response function.\n",
    "\n",
    "It will then save these into a CSV file."
   ]
  },
  {
   "cell_type": "code",
   "execution_count": null,
   "id": "b036b00a",
   "metadata": {},
   "outputs": [],
   "source": [
    "import os\n",
    "\n",
    "import numpy as np\n",
    "import pandas as pd\n",
    "import scipy.linalg\n",
    "from tqdm import tqdm\n",
    "\n",
    "from fair21.constants import DOUBLING_TIME_1PCT\n",
    "from fair21.earth_params import seconds_per_year, earth_radius\n",
    "from fair21.defaults import default_species_config\n",
    "from fair21.forcing.ghg import calculate_ghg_forcing\n",
    "from fair21.energy_balance_model import EnergyBalanceModel"
   ]
  },
  {
   "cell_type": "code",
   "execution_count": null,
   "id": "9e509352",
   "metadata": {},
   "outputs": [],
   "source": [
    "df = pd.read_csv(\n",
    "    os.path.join(\"..\", \"data\", \"calibration\", \"4xCO2_cummins.csv\")\n",
    ")"
   ]
  },
  {
   "cell_type": "code",
   "execution_count": null,
   "id": "224043d4",
   "metadata": {},
   "outputs": [],
   "source": [
    "models = df['model'].unique()\n",
    "models"
   ]
  },
  {
   "cell_type": "code",
   "execution_count": null,
   "id": "c868264f",
   "metadata": {},
   "outputs": [],
   "source": [
    "params = {}\n",
    "for model in models:\n",
    "    params[model] = {}\n",
    "    for run in df.loc[df['model']==model, 'run']:\n",
    "        condition = (df['model']==model) & (df['run']==run)\n",
    "        params[model][run] = {}\n",
    "        params[model][run]['gamma_autocorrelation'] = df.loc[condition, 'gamma'].values[0]\n",
    "        params[model][run]['ocean_heat_capacity'] = df.loc[condition, 'C1':'C3'].values.squeeze()\n",
    "        params[model][run]['ocean_heat_transfer'] = df.loc[condition, 'kappa1':'kappa3'].values.squeeze()\n",
    "        params[model][run]['deep_ocean_efficacy'] = df.loc[condition, 'epsilon'].values[0]\n",
    "        params[model][run]['sigma_eta'] = df.loc[condition, 'sigma_eta'].values[0]\n",
    "        params[model][run]['sigma_xi'] = df.loc[condition, 'sigma_xi'].values[0]\n",
    "        params[model][run]['forcing_4co2'] = df.loc[condition, 'F_4xCO2'].values[0]"
   ]
  },
  {
   "cell_type": "code",
   "execution_count": null,
   "id": "0db488a9",
   "metadata": {},
   "outputs": [],
   "source": [
    "params"
   ]
  },
  {
   "cell_type": "code",
   "execution_count": null,
   "id": "9cd32bfb",
   "metadata": {},
   "outputs": [],
   "source": [
    "co2, ch4, n2o = (\n",
    "    default_species_config['co2'].baseline_concentration,\n",
    "    default_species_config['ch4'].baseline_concentration,\n",
    "    default_species_config['n2o'].baseline_concentration\n",
    ")\n",
    "\n",
    "double_co2 = co2 * 2\n",
    "quadruple_co2 = co2 * 4\n",
    "\n",
    "rf_4co2 = calculate_ghg_forcing(\n",
    "    np.array([4*co2, ch4, n2o]).reshape((1, 1, 1, 3, 1)),\n",
    "    np.array([co2, ch4, n2o]).reshape((1, 1, 1, 3, 1)),\n",
    "    np.array([1, 1, 1]).reshape((1, 1, 1, 3, 1)), \n",
    "    None,\n",
    "    {\"CO2\":0, \"CH4\": 1, \"N2O\":2}\n",
    ").squeeze()[0]\n",
    "\n",
    "rf_2co2 = calculate_ghg_forcing(\n",
    "    np.array([2*co2, ch4, n2o]).reshape((1, 1, 1, 3, 1)),\n",
    "    np.array([co2, ch4, n2o]).reshape((1, 1, 1, 3, 1)),\n",
    "    np.array([1, 1, 1]).reshape((1, 1, 1, 3, 1)), \n",
    "    None,\n",
    "    {\"CO2\":0, \"CH4\": 1, \"N2O\":2}\n",
    ").squeeze()[0]\n",
    "\n",
    "forcing_2co2_4co2_ratio=rf_2co2/rf_4co2\n",
    "forcing_2co2_4co2_ratio"
   ]
  },
  {
   "cell_type": "code",
   "execution_count": null,
   "id": "4090b335",
   "metadata": {},
   "outputs": [],
   "source": [
    "# class EnergyBalanceModel:\n",
    "    \n",
    "#     # Energy balance basics\n",
    "#     ocean_heat_capacity = np.array([5, 20, 100])\n",
    "#     ocean_heat_transfer = np.array([1, 2, 1])\n",
    "#     deep_ocean_efficacy = 1\n",
    "\n",
    "#     # Tuning\n",
    "#     forcing_4co2 = 8\n",
    "    \n",
    "#     # Stochastic parameters (see Cummins et al. 2020)\n",
    "#     stochastic_run = False\n",
    "#     sigma_eta = 0.5\n",
    "#     sigma_xi = 0.5\n",
    "#     gamma_autocorrelation = 2\n",
    "\n",
    "#     # Output - not yet relevant\n",
    "# #    start = 1850.0\n",
    "# #    end = 2101.0\n",
    "# #    timestep = 0.2\n",
    "# #    outtime = None,\n",
    "# #    forcing = np.zeros(2)\n",
    "    \n",
    "#     def __init__(self, **kwargs):\n",
    "#         self.ocean_heat_capacity = kwargs.get('ocean_heat_capacity', self.ocean_heat_capacity)\n",
    "#         self.ocean_heat_transfer = kwargs.get('ocean_heat_transfer', self.ocean_heat_transfer)\n",
    "#         self.deep_ocean_efficacy = kwargs.get('deep_ocean_efficacy', self.deep_ocean_efficacy)\n",
    "#         self.forcing_4co2 = kwargs.get('forcing_4co2', self.forcing_4co2)\n",
    "#         self.stochastic_run = kwargs.get('stochastic_run', self.stochastic_run)\n",
    "#         self.sigma_eta = kwargs.get('sigma_eta', self.sigma_eta)\n",
    "#         self.sigma_xi = kwargs.get('sigma_xi', self.sigma_xi)\n",
    "#         self.gamma_autocorrelation = kwargs.get('gamma_autocorrelation', self.gamma_autocorrelation)\n",
    "    \n",
    "#     def _eb_matrix(self):\n",
    "#         # Define the matrix of differential equations\n",
    "#         # Cummins et al. (2020); Leach et al. (2021)\n",
    "#         eb_matrix = np.array(\n",
    "#             [\n",
    "#                 [\n",
    "#                     -(self.ocean_heat_transfer[0]+self.ocean_heat_transfer[1])/self.ocean_heat_capacity[0],\n",
    "#                     self.ocean_heat_transfer[1]/self.ocean_heat_capacity[0], \n",
    "#                     0\n",
    "#                 ],\n",
    "#                 [\n",
    "#                     self.ocean_heat_transfer[1]/self.ocean_heat_capacity[1],\n",
    "#                     -(self.ocean_heat_transfer[1]+self.deep_ocean_efficacy*self.ocean_heat_transfer[2])/self.ocean_heat_capacity[1],\n",
    "#                     self.deep_ocean_efficacy*self.ocean_heat_transfer[2]/self.ocean_heat_capacity[1]\n",
    "#                 ],\n",
    "#                 [\n",
    "#                     0, \n",
    "#                     self.ocean_heat_transfer[2]/self.ocean_heat_capacity[2],\n",
    "#                     -self.ocean_heat_transfer[2]/self.ocean_heat_capacity[2]\n",
    "#                 ]\n",
    "#             ]\n",
    "#         )\n",
    "#         return(eb_matrix)\n",
    "    \n",
    "        \n",
    "#     def impulse_response(self):\n",
    "#         eb_matrix = self._eb_matrix()\n",
    "\n",
    "#         # calculate the eigenvectors and eigenvalues, these are the timescales of responses\n",
    "#         eb_matrix_eigenvalues, eb_matrix_eigenvectors = scipy.linalg.eig(eb_matrix)\n",
    "#         self.timescales = -1/(np.real(eb_matrix_eigenvalues))\n",
    "#         self.response_coefficients = self.timescales * (eb_matrix_eigenvectors[0,:] * scipy.linalg.inv(eb_matrix_eigenvectors)[:,0]) / self.ocean_heat_capacity[0]\n",
    "\n",
    "#     def emergent_parameters(self):\n",
    "#         # requires impulse response step\n",
    "#         if not hasattr(self, 'timescales'):\n",
    "#             self.impulse_response()\n",
    "#         self.ecs = self.forcing_4co2 * forcing_2co2_4co2_ratio * np.sum(self.response_coefficients)\n",
    "#         self.tcr = self.forcing_4co2 * forcing_2co2_4co2_ratio * np.sum(\n",
    "#             self.response_coefficients*(\n",
    "#                 1 - self.timescales/DOUBLING_TIME_1PCT * (\n",
    "#                     1 - np.exp(-DOUBLING_TIME_1PCT/self.timescales)\n",
    "#                 )\n",
    "#             )\n",
    "#         )"
   ]
  },
  {
   "cell_type": "code",
   "execution_count": null,
   "id": "d3dbf88d",
   "metadata": {},
   "outputs": [],
   "source": [
    "ebm = EnergyBalanceModel(**params['ACCESS-CM2']['r1i1p1f1'])"
   ]
  },
  {
   "cell_type": "code",
   "execution_count": null,
   "id": "64d94deb",
   "metadata": {},
   "outputs": [],
   "source": [
    "params['ACCESS-CM2']['r1i1p1f1']"
   ]
  },
  {
   "cell_type": "code",
   "execution_count": null,
   "id": "72ac90a6",
   "metadata": {},
   "outputs": [],
   "source": [
    "ebm._eb_matrix()"
   ]
  },
  {
   "cell_type": "code",
   "execution_count": null,
   "id": "422a00b4",
   "metadata": {},
   "outputs": [],
   "source": [
    "ebm.emergent_parameters(forcing_2co2_4co2_ratio = forcing_2co2_4co2_ratio)"
   ]
  },
  {
   "cell_type": "code",
   "execution_count": null,
   "id": "78c54c97",
   "metadata": {},
   "outputs": [],
   "source": [
    "ebm.ecs"
   ]
  },
  {
   "cell_type": "code",
   "execution_count": null,
   "id": "00732a1b",
   "metadata": {},
   "outputs": [],
   "source": [
    "for model in models:\n",
    "    for run in df.loc[df['model']==model, 'run']:\n",
    "        condition = (df['model']==model) & (df['run']==run)\n",
    "        ebm = EnergyBalanceModel(**params[model][run])\n",
    "        ebm.emergent_parameters()\n",
    "        params[model][run] = ebm.__dict__"
   ]
  },
  {
   "cell_type": "code",
   "execution_count": null,
   "id": "c8cb7937",
   "metadata": {},
   "outputs": [],
   "source": [
    "params"
   ]
  },
  {
   "cell_type": "code",
   "execution_count": null,
   "id": "1d7ff6e6",
   "metadata": {},
   "outputs": [],
   "source": [
    "# reconstruct a data table and save\n",
    "df_out = pd.DataFrame(columns=['model', 'run', 'ecs', 'tcr', 'tau1', 'tau2', 'tau3', 'q1', 'q2', 'q3'])\n",
    "\n",
    "\n",
    "count = 0\n",
    "for model in models:\n",
    "    for run in df.loc[df['model']==model, 'run']:\n",
    "        values_to_add = {\n",
    "            'model': model,\n",
    "            'run': run,\n",
    "            'ecs': params[model][run]['ecs'],\n",
    "            'tcr': params[model][run]['tcr'],\n",
    "            'tau1': params[model][run]['timescales'][0],\n",
    "            'tau2': params[model][run]['timescales'][1],\n",
    "            'tau3': params[model][run]['timescales'][2],\n",
    "            'q1': params[model][run]['response_coefficients'][0],\n",
    "            'q2': params[model][run]['response_coefficients'][1],\n",
    "            'q3': params[model][run]['response_coefficients'][2],\n",
    "        }\n",
    "        row_to_add = pd.Series(values_to_add, name=count)\n",
    "        df_out = df_out.append(row_to_add)\n",
    "        count = count + 1"
   ]
  },
  {
   "cell_type": "code",
   "execution_count": null,
   "id": "f1956ad5",
   "metadata": {},
   "outputs": [],
   "source": [
    "df_out.sort_values(['model', 'run'], inplace=True)"
   ]
  },
  {
   "cell_type": "code",
   "execution_count": null,
   "id": "f81fa4cc",
   "metadata": {},
   "outputs": [],
   "source": [
    "df_out.to_csv(os.path.join(\"..\", \"data\", \"calibration\", \"4xCO2_impulse_response.csv\"), index=False)"
   ]
  },
  {
   "cell_type": "markdown",
   "id": "2f0eaf75",
   "metadata": {},
   "source": [
    "## While we're here, sort and de-index the energy balance data from the R script\n",
    "\n",
    "Why? Makes comparing the two CSVs easier\n",
    "\n",
    "Save in a new file, as earlier on we use the R-generated one to read in"
   ]
  },
  {
   "cell_type": "code",
   "execution_count": null,
   "id": "360ef4c3",
   "metadata": {},
   "outputs": [],
   "source": [
    "df.sort_values(['model', 'run'], inplace=True)"
   ]
  },
  {
   "cell_type": "code",
   "execution_count": null,
   "id": "6214e38d",
   "metadata": {},
   "outputs": [],
   "source": [
    "df.to_csv(os.path.join(\"..\", \"data\", \"calibration\", \"4xCO2_energy_balance.csv\"), index=False)"
   ]
  },
  {
   "cell_type": "code",
   "execution_count": null,
   "id": "370a82d9",
   "metadata": {},
   "outputs": [],
   "source": []
  }
 ],
 "metadata": {
  "kernelspec": {
   "display_name": "Python 3 (ipykernel)",
   "language": "python",
   "name": "python3"
  },
  "language_info": {
   "codemirror_mode": {
    "name": "ipython",
    "version": 3
   },
   "file_extension": ".py",
   "mimetype": "text/x-python",
   "name": "python",
   "nbconvert_exporter": "python",
   "pygments_lexer": "ipython3",
   "version": "3.7.12"
  }
 },
 "nbformat": 4,
 "nbformat_minor": 5
}
