{
 "cells": [
  {
   "cell_type": "markdown",
   "id": "aea509c6",
   "metadata": {},
   "source": [
    "# Run some constrained projections\n",
    "\n",
    "Follow the same setup as in notebook 200, with more scrutiny of outputs including other forcers.\n",
    "\n",
    "We need to save out the land use forcing in each SSP and ensemble member to feed into the concentration-driven runs (240)."
   ]
  },
  {
   "cell_type": "markdown",
   "id": "c0c42a87",
   "metadata": {},
   "source": [
    "## Basic imports"
   ]
  },
  {
   "cell_type": "code",
   "execution_count": null,
   "id": "1f7b7662",
   "metadata": {},
   "outputs": [],
   "source": [
    "import numpy as np\n",
    "import pandas as pd\n",
    "import matplotlib.pyplot as pl\n",
    "import time\n",
    "import scipy.stats\n",
    "from tqdm import tqdm\n",
    "import xarray as xr\n",
    "\n",
    "from fair import FAIR\n",
    "from fair.io import read_properties\n",
    "from fair.interface import fill, initialise\n",
    "from fair.forcing.ghg import meinshausen2020"
   ]
  },
  {
   "cell_type": "markdown",
   "id": "8872d62a",
   "metadata": {},
   "source": [
    "## Set up problem"
   ]
  },
  {
   "cell_type": "code",
   "execution_count": null,
   "id": "5274abb5",
   "metadata": {},
   "outputs": [],
   "source": [
    "erf_2co2 = meinshausen2020(\n",
    "    np.array([554.30, 731.41, 273.87]) * np.ones((1, 1, 1, 3)),\n",
    "    np.array([277.15, 731.41, 273.87]) * np.ones((1, 1, 1, 3)),\n",
    "    np.array((1.05, 0.86, 1.07)) * np.ones((1, 1, 1, 1)),\n",
    "    np.ones((1, 1, 1, 3)),\n",
    "    np.array([True, False, False]),\n",
    "    np.array([False, True, False]),\n",
    "    np.array([False, False, True]),\n",
    "    np.array([False, False, False])\n",
    ").squeeze()[0]\n",
    "erf_2co2"
   ]
  },
  {
   "cell_type": "code",
   "execution_count": null,
   "id": "5e49d137",
   "metadata": {},
   "outputs": [],
   "source": [
    "scenarios = ['rcp26', 'rcp45', 'rcp60', 'rcp85']"
   ]
  },
  {
   "cell_type": "code",
   "execution_count": null,
   "id": "b427014b",
   "metadata": {},
   "outputs": [],
   "source": [
    "df_forc = pd.read_csv('../data/forcing/table_A3.3_historical_ERF_1750-2019_best_estimate.csv')\n",
    "df_solar = pd.read_csv('../data/forcing/solar_erf.csv', index_col='year')"
   ]
  },
  {
   "cell_type": "code",
   "execution_count": null,
   "id": "b871b178",
   "metadata": {},
   "outputs": [],
   "source": [
    "solar_forcing = np.zeros(536)\n",
    "solar_forcing[:535] = df_solar.loc[1765.5:, 'solar_erf'].values\n",
    "volcanic_forcing = np.zeros(536)\n",
    "volcanic_forcing[:255] = df_forc['volcanic'].values[15:]\n",
    "volcanic_forcing[254:266] = np.linspace(1, 0, 12) * volcanic_forcing[254]"
   ]
  },
  {
   "cell_type": "code",
   "execution_count": null,
   "id": "64350cc8",
   "metadata": {},
   "outputs": [],
   "source": [
    "pl.plot(solar_forcing)"
   ]
  },
  {
   "cell_type": "code",
   "execution_count": null,
   "id": "120a7b96",
   "metadata": {},
   "outputs": [],
   "source": [
    "da_emissions = xr.load_dataarray('../data/rcmip/rcp_emissions_fair2.1.nc')"
   ]
  },
  {
   "cell_type": "code",
   "execution_count": null,
   "id": "dc7aaf04",
   "metadata": {},
   "outputs": [],
   "source": [
    "valid_all = np.loadtxt('../data/ar6_ensemble_batches_rcp/final_ebm3.csv').astype(np.int64)#[:1000]\n",
    "valid_all"
   ]
  },
  {
   "cell_type": "code",
   "execution_count": null,
   "id": "0545a6b7",
   "metadata": {},
   "outputs": [],
   "source": [
    "df_cc=pd.read_csv('../data/parameter_sets/carbon_cycle.csv')\n",
    "df_cr=pd.read_csv('../data/parameter_sets/climate_response.csv')\n",
    "df_aci=pd.read_csv('../data/parameter_sets/erfaci.csv')\n",
    "df_ari=pd.read_csv('../data/parameter_sets/erfari.csv')\n",
    "df_ozone=pd.read_csv('../data/parameter_sets/ozone.csv')\n",
    "df_scaling=pd.read_csv('../data/parameter_sets/forcing_scaling.csv')\n",
    "df_1750co2=pd.read_csv('../data/parameter_sets/co2_concentration_1750.csv')"
   ]
  },
  {
   "cell_type": "code",
   "execution_count": null,
   "id": "4a51df82",
   "metadata": {},
   "outputs": [],
   "source": [
    "species = [\n",
    "    'CO2 FFI', 'CO2 AFOLU', 'CO2', 'CH4', 'N2O',\n",
    "    'Sulfur', 'BC', 'OC', 'NH3', 'NOx', 'VOC', 'CO',\n",
    "    'CFC-11', 'CFC-12', 'CFC-113', 'CFC-114', 'CFC-115',\n",
    "    'HCFC-22', 'HCFC-141b', 'HCFC-142b',\n",
    "    'CCl4', 'CH3Cl', 'CH3CCl3', 'CH3Br',\n",
    "    'Halon-1211', 'Halon-1202', 'Halon-1301', 'Halon-2402',\n",
    "    'CF4', 'C2F6', 'C6F14',\n",
    "    'SF6',\n",
    "    'HFC-125', 'HFC-134a', 'HFC-143a', 'HFC-227ea', 'HFC-23', 'HFC-245fa', 'HFC-32', \n",
    "    'HFC-4310mee', 'Solar', 'Volcanic', 'Aerosol-radiation interactions',\n",
    "    'Aerosol-cloud interactions', 'Ozone', 'Light absorbing particles on snow and ice',\n",
    "    'Land use', 'Stratospheric water vapour', 'Equivalent effective stratospheric chlorine',\n",
    "    'Contrails', 'NOx aviation'\n",
    "]\n",
    "\n",
    "species, properties = read_properties(species=species)"
   ]
  },
  {
   "cell_type": "code",
   "execution_count": null,
   "id": "84487393",
   "metadata": {},
   "outputs": [],
   "source": [
    "seed = 1355763 + 399 * valid_all"
   ]
  },
  {
   "cell_type": "code",
   "execution_count": null,
   "id": "f50aaf64",
   "metadata": {},
   "outputs": [],
   "source": [
    "trend_shape = np.ones(536)\n",
    "trend_shape[:256] = np.linspace(0, 1, 256)"
   ]
  },
  {
   "cell_type": "code",
   "execution_count": null,
   "id": "07553956",
   "metadata": {},
   "outputs": [],
   "source": [
    "f = FAIR(ch4_method='Thornhill2021')\n",
    "f.define_time(1765, 2300, 1)\n",
    "f.define_scenarios(scenarios)\n",
    "f.define_configs(valid_all)\n",
    "f.define_species(species, properties)\n",
    "f.allocate()"
   ]
  },
  {
   "cell_type": "code",
   "execution_count": null,
   "id": "601e3cc4",
   "metadata": {},
   "outputs": [],
   "source": [
    "n_configs = len(valid_all)\n",
    "n_scenarios = len(scenarios)"
   ]
  },
  {
   "cell_type": "code",
   "execution_count": null,
   "id": "d3d43ad9",
   "metadata": {},
   "outputs": [],
   "source": [
    "da = da_emissions.loc[dict(config='unspecified')][:535, ...]\n",
    "fe = da.expand_dims(dim='config', axis=2)\n",
    "f.emissions = fe.drop('config') * np.ones((1, 1, n_configs, 1))\n",
    "f.emissions[:86,0,:,5] = np.linspace(2, f.emissions[85,0,0,5], 86)[:, None]\n",
    "f.emissions[:86,0,:,6] = np.linspace(1.2, f.emissions[85,0,0,6], 86)[:, None]\n",
    "f.emissions[:86,0,:,7] = np.linspace(10, f.emissions[85,0,0,7], 86)[:, None]\n",
    "f.emissions[:86,0,:,8] = np.linspace(4, f.emissions[85,0,0,8], 86)[:, None]\n",
    "f.emissions[:86,0,:,9] = np.linspace(46/14*2, f.emissions[85,0,0,9], 86)[:, None]\n",
    "f.emissions[:86,0,:,10] = np.linspace(10, f.emissions[85,0,0,10], 86)[:, None]\n",
    "f.emissions[:86,0,:,11] = np.linspace(174, f.emissions[85,0,0,11], 86)[:, None]\n",
    "\n",
    "fill(f.forcing, volcanic_forcing[:, None, None] * df_scaling.loc[valid_all, 'Volcanic'].values.squeeze(), specie='Volcanic')\n",
    "fill(f.forcing, \n",
    "     solar_forcing[:, None, None] * \n",
    "     df_scaling.loc[valid_all, 'solar_amplitude'].values.squeeze() + \n",
    "     trend_shape[:, None, None] * df_scaling.loc[valid_all, 'solar_trend'].values.squeeze(),\n",
    "     specie='Solar'\n",
    ")"
   ]
  },
  {
   "cell_type": "code",
   "execution_count": null,
   "id": "c5488920",
   "metadata": {},
   "outputs": [],
   "source": [
    "# using an extremely crude curve fit to estimate 1765 CO2\n",
    "\n",
    "obs_co2 = np.array([278.3, 285.5, 296.4])\n",
    "obs_years = [1750, 1850, 1900]\n",
    "\n",
    "def fit(x, a, b, c):\n",
    "    return a + b*np.exp(c*(x-1750))\n",
    "\n",
    "p, _ = scipy.optimize.curve_fit(fit, obs_years, obs_co2, p0=[278.3, 1.45, 0.0171])\n",
    "pl.plot(np.arange(1750, 1900), p[0]+p[1]*np.exp(p[2] * (np.arange(1750, 1900)-1750)))\n",
    "pl.scatter(obs_years, obs_co2, color='k')\n",
    "\n",
    "offset1765co2 = fit(1765, p[0], p[1], p[2]) - fit(1750, p[0], p[1], p[2])\n",
    "offset1765co2"
   ]
  },
  {
   "cell_type": "code",
   "execution_count": null,
   "id": "e1c5722b",
   "metadata": {},
   "outputs": [],
   "source": [
    "df_1765co2 = df_1750co2 + offset1765co2"
   ]
  },
  {
   "cell_type": "code",
   "execution_count": null,
   "id": "7e9afd78",
   "metadata": {},
   "outputs": [],
   "source": [
    "obs_ch4 = np.array([729.2, 807.6, 925.1])\n",
    "obs_years = [1750, 1850, 1900]\n",
    "\n",
    "def fit(x, a, b, c):\n",
    "    return a + b*np.exp(c*(x-1750))\n",
    "\n",
    "p, _ = scipy.optimize.curve_fit(fit, obs_years, obs_ch4, p0=[278.3, 1.45, 0.0171])\n",
    "pl.plot(np.arange(1750, 1900), p[0]+p[1]*np.exp(p[2] * (np.arange(1750, 1900)-1750)))\n",
    "pl.scatter(obs_years, obs_ch4, color='k')\n",
    "\n",
    "baseline1765ch4 = fit(1765, p[0], p[1], p[2])\n",
    "baseline1765ch4"
   ]
  },
  {
   "cell_type": "code",
   "execution_count": null,
   "id": "6c860edf",
   "metadata": {},
   "outputs": [],
   "source": [
    "obs_n2o = np.array([270.1, 272.1, 278.9])\n",
    "obs_years = [1750, 1850, 1900]\n",
    "\n",
    "def fit(x, a, b, c):\n",
    "    return a + b*np.exp(c*(x-1750))\n",
    "\n",
    "p, _ = scipy.optimize.curve_fit(fit, obs_years, obs_n2o, p0=[278.3, 1.45, 0.0171])\n",
    "pl.plot(np.arange(1750, 1900), p[0]+p[1]*np.exp(p[2] * (np.arange(1750, 1900)-1750)))\n",
    "pl.scatter(obs_years, obs_n2o, color='k')\n",
    "\n",
    "baseline1765n2o = fit(1765, p[0], p[1], p[2])\n",
    "baseline1765n2o"
   ]
  },
  {
   "cell_type": "code",
   "execution_count": null,
   "id": "b36f7539",
   "metadata": {},
   "outputs": [],
   "source": [
    "calibrated_f4co2_mean = df_cr['F_4xCO2'].mean()\n",
    "\n",
    "# climate response\n",
    "fill(f.climate_configs['ocean_heat_capacity'], df_cr.loc[valid_all, 'c1':'c3'].values)\n",
    "fill(f.climate_configs['ocean_heat_transfer'], df_cr.loc[valid_all, 'kappa1':'kappa3'].values)\n",
    "fill(f.climate_configs['deep_ocean_efficacy'], df_cr.loc[valid_all, 'epsilon'].values.squeeze())\n",
    "fill(f.climate_configs['gamma_autocorrelation'], df_cr.loc[valid_all, 'gamma'].values.squeeze())\n",
    "fill(f.climate_configs['sigma_eta'], df_cr.loc[valid_all, 'sigma_eta'].values.squeeze())\n",
    "fill(f.climate_configs['sigma_xi'], df_cr.loc[valid_all, 'sigma_xi'].values.squeeze())\n",
    "fill(f.climate_configs['seed'], seed)\n",
    "fill(f.climate_configs['stochastic_run'], True)\n",
    "fill(f.climate_configs['use_seed'], True)\n",
    "fill(f.climate_configs['forcing_4co2'], 2 * erf_2co2 * (1 + 0.561*(calibrated_f4co2_mean - df_cr.loc[valid_all,'F_4xCO2'])/calibrated_f4co2_mean))\n",
    "\n",
    "# species level\n",
    "f.fill_species_configs()\n",
    "\n",
    "# carbon cycle\n",
    "fill(f.species_configs['iirf_0'], df_cc.loc[valid_all, 'r0'].values.squeeze(), specie='CO2')\n",
    "fill(f.species_configs['iirf_airborne'], df_cc.loc[valid_all, 'rA'].values.squeeze(), specie='CO2')\n",
    "fill(f.species_configs['iirf_uptake'], df_cc.loc[valid_all, 'rU'].values.squeeze(), specie='CO2')\n",
    "fill(f.species_configs['iirf_temperature'], df_cc.loc[valid_all, 'rT'].values.squeeze(), specie='CO2')\n",
    "\n",
    "# aerosol indirect\n",
    "fill(f.species_configs['aci_scale'], df_aci.loc[valid_all, 'beta'].values.squeeze())\n",
    "fill(f.species_configs['aci_shape'], df_aci.loc[valid_all, 'shape_so2'].values.squeeze(), specie='Sulfur')\n",
    "fill(f.species_configs['aci_shape'], df_aci.loc[valid_all, 'shape_bc'].values.squeeze(), specie='BC')\n",
    "fill(f.species_configs['aci_shape'], df_aci.loc[valid_all, 'shape_oc'].values.squeeze(), specie='OC')\n",
    "\n",
    "# methane lifetime baseline\n",
    "fill(f.species_configs['unperturbed_lifetime'], 10.4198121, specie='CH4')\n",
    "\n",
    "# emissions adjustments for N2O and CH4 (we don't want to make these defaults as people might wanna run pulse expts with these gases)\n",
    "fill(f.species_configs['baseline_emissions'], 19.019783117809567, specie='CH4')\n",
    "fill(f.species_configs['baseline_emissions'], 0.08602230754, specie='N2O')\n",
    "\n",
    "# aerosol direct\n",
    "for specie in df_ari:\n",
    "    fill(f.species_configs['erfari_radiative_efficiency'], df_ari.loc[valid_all, specie], specie=specie)\n",
    "\n",
    "# forcing\n",
    "for specie in df_scaling:\n",
    "    if specie in ['minorGHG', 'solar_amplitude', 'solar_trend', 'CO2', 'Volcanic']:\n",
    "        continue\n",
    "    fill(f.species_configs['forcing_scale'], df_scaling.loc[valid_all, specie].values.squeeze(), specie=specie)\n",
    "for specie in ['CFC-11', 'CFC-12', 'CFC-113', 'CFC-114', 'CFC-115', 'HCFC-22', 'HCFC-141b', 'HCFC-142b',\n",
    "        'CCl4', 'CH3Cl', 'CH3CCl3', 'CH3Br', 'Halon-1202', 'Halon-1211', 'Halon-1301', 'Halon-2402',\n",
    "        'CF4', 'C2F6', 'C6F14', 'SF6',\n",
    "        'HFC-125', 'HFC-134a', 'HFC-143a', 'HFC-227ea', 'HFC-23', 'HFC-245fa', 'HFC-32', 'HFC-4310mee']:\n",
    "    fill(f.species_configs['forcing_scale'], df_scaling.loc[valid_all, 'minorGHG'].values.squeeze(), specie=specie)\n",
    "fill(f.species_configs['forcing_scale'], 1 + 0.561*(calibrated_f4co2_mean - df_cr.loc[valid_all,'F_4xCO2'].values)/calibrated_f4co2_mean, specie='CO2')\n",
    "\n",
    "# ozone\n",
    "for specie in df_ozone:\n",
    "    fill(f.species_configs['ozone_radiative_efficiency'], df_ozone.loc[valid_all, specie], specie=specie)\n",
    "\n",
    "# tune down volcanic efficacy\n",
    "fill(f.species_configs['forcing_efficacy'], 0.6, specie='Volcanic')\n",
    "\n",
    "\n",
    "# initial condition of CO2 concentration (but not baseline for forcing calculations)\n",
    "fill(f.species_configs['baseline_concentration'], df_1765co2.loc[valid_all, 'co2_concentration'].values.squeeze(), specie='CO2')\n",
    "\n",
    "# initial condition of other species\n",
    "fill(f.species_configs['baseline_concentration'], baseline1765ch4, specie='CH4')\n",
    "fill(f.species_configs['baseline_concentration'], baseline1765n2o, specie='N2O')\n",
    "fill(f.species_configs['baseline_emissions'], 2, specie='Sulfur')\n",
    "fill(f.species_configs['baseline_emissions'], 174, specie='CO')\n",
    "fill(f.species_configs['baseline_emissions'], 10, specie='VOC')\n",
    "fill(f.species_configs['baseline_emissions'], 4, specie='NH3')\n",
    "fill(f.species_configs['baseline_emissions'], 2*46/14, specie='NOx')\n",
    "fill(f.species_configs['baseline_emissions'], 1.2, specie='BC')\n",
    "fill(f.species_configs['baseline_emissions'], 10, specie='OC')\n",
    "\n",
    "# initial conditions\n",
    "initialise(f.concentration, f.species_configs['baseline_concentration'])\n",
    "initialise(f.forcing, 0)\n",
    "initialise(f.temperature, 0)\n",
    "initialise(f.cumulative_emissions, 0)\n",
    "initialise(f.airborne_emissions, 0)\n",
    "\n",
    "f.run()"
   ]
  },
  {
   "cell_type": "code",
   "execution_count": null,
   "id": "169d5f11",
   "metadata": {},
   "outputs": [],
   "source": [
    "f.species_configs"
   ]
  },
  {
   "cell_type": "code",
   "execution_count": null,
   "id": "c5f8d412",
   "metadata": {},
   "outputs": [],
   "source": [
    "fig, ax = pl.subplots(1, 4, figsize=(16, 5))\n",
    "\n",
    "for i in range(4):\n",
    "    ax[i].fill_between(\n",
    "        f.timebounds, \n",
    "        np.min(f.temperature[:, i, :, 0]-f.temperature[85:136, i, :, 0].mean(axis=0), axis=1), \n",
    "        np.max(f.temperature[:, i, :, 0]-f.temperature[85:136, i, :, 0].mean(axis=0), axis=1),\n",
    "        color='#000000',\n",
    "        alpha=0.2,\n",
    "    )\n",
    "    ax[i].fill_between(\n",
    "        f.timebounds, \n",
    "        np.percentile(f.temperature[:, i, :, 0]-f.temperature[85:136, i, :, 0].mean(axis=0), 5, axis=1), \n",
    "        np.percentile(f.temperature[:, i, :, 0]-f.temperature[85:136, i, :, 0].mean(axis=0), 95, axis=1),\n",
    "        color='#000000',\n",
    "        alpha=0.2,\n",
    "    )\n",
    "    ax[i].fill_between(\n",
    "        f.timebounds, \n",
    "        np.percentile(f.temperature[:, i, :, 0]-f.temperature[85:136, i, :, 0].mean(axis=0), 16, axis=1), \n",
    "        np.percentile(f.temperature[:, i, :, 0]-f.temperature[85:136, i, :, 0].mean(axis=0), 84, axis=1),\n",
    "        color='#000000',\n",
    "        alpha=0.2,\n",
    "    )\n",
    "    ax[i].plot(\n",
    "        f.timebounds, \n",
    "        np.median(f.temperature[:, i, :, 0]-f.temperature[85:136, i, :, 0].mean(axis=0), axis=1), \n",
    "        color='#000000',\n",
    "    )\n",
    "    ax[i].set_xlim(1750,2300)\n",
    "    ax[i].set_ylim(-1, 10)\n",
    "    ax[i].axhline(0, color='k', ls=\":\", lw=0.5)\n",
    "    ax[i].set_title(scenarios[i])\n",
    "pl.suptitle('Temperature anomaly')"
   ]
  },
  {
   "cell_type": "markdown",
   "id": "37be72f2",
   "metadata": {},
   "source": [
    "# Temperature diffs w.r.t. 1995-2014\n",
    "\n",
    "Future periods are 2021-2040, 2041-2060, 2081-2100. Values are 5th, 50th, 95th percentile."
   ]
  },
  {
   "cell_type": "code",
   "execution_count": null,
   "id": "2d29f06b",
   "metadata": {},
   "outputs": [],
   "source": [
    "# rcp26\n",
    "print(np.percentile(f.temperature[256:276, 0, :, 0].mean(axis=0)-f.temperature[230:250, 0, :, 0].mean(axis=0), (5, 50, 95)))\n",
    "print(np.percentile(f.temperature[276:296, 0, :, 0].mean(axis=0)-f.temperature[230:250, 0, :, 0].mean(axis=0), (5, 50, 95)))\n",
    "print(np.percentile(f.temperature[316:336, 0, :, 0].mean(axis=0)-f.temperature[230:250, 0, :, 0].mean(axis=0), (5, 50, 95)))"
   ]
  },
  {
   "cell_type": "code",
   "execution_count": null,
   "id": "c254e57a",
   "metadata": {},
   "outputs": [],
   "source": [
    "# rcp45\n",
    "print(np.percentile(f.temperature[256:276, 1, :, 0].mean(axis=0)-f.temperature[230:250, 1, :, 0].mean(axis=0), (5, 50, 95)))\n",
    "print(np.percentile(f.temperature[276:296, 1, :, 0].mean(axis=0)-f.temperature[230:250, 1, :, 0].mean(axis=0), (5, 50, 95)))\n",
    "print(np.percentile(f.temperature[316:336, 1, :, 0].mean(axis=0)-f.temperature[230:250, 1, :, 0].mean(axis=0), (5, 50, 95)))"
   ]
  },
  {
   "cell_type": "code",
   "execution_count": null,
   "id": "891e4e30",
   "metadata": {},
   "outputs": [],
   "source": [
    "# rcp60\n",
    "print(np.percentile(f.temperature[256:276, 2, :, 0].mean(axis=0)-f.temperature[230:250, 2, :, 0].mean(axis=0), (5, 50, 95)))\n",
    "print(np.percentile(f.temperature[276:296, 2, :, 0].mean(axis=0)-f.temperature[230:250, 2, :, 0].mean(axis=0), (5, 50, 95)))\n",
    "print(np.percentile(f.temperature[316:336, 2, :, 0].mean(axis=0)-f.temperature[230:250, 2, :, 0].mean(axis=0), (5, 50, 95)))"
   ]
  },
  {
   "cell_type": "code",
   "execution_count": null,
   "id": "a460df44",
   "metadata": {},
   "outputs": [],
   "source": [
    "# rcp85\n",
    "print(np.percentile(f.temperature[271:291, 3, :, 0].mean(axis=0)-f.temperature[230:250, 3, :, 0].mean(axis=0), (5, 50, 95)))\n",
    "print(np.percentile(f.temperature[276:296, 3, :, 0].mean(axis=0)-f.temperature[230:250, 3, :, 0].mean(axis=0), (5, 50, 95)))\n",
    "print(np.percentile(f.temperature[316:336, 3, :, 0].mean(axis=0)-f.temperature[230:250, 3, :, 0].mean(axis=0), (5, 50, 95)))"
   ]
  },
  {
   "cell_type": "markdown",
   "id": "275d5bc2",
   "metadata": {},
   "source": [
    "# Temperature diffs w.r.t. 1850-1900"
   ]
  },
  {
   "cell_type": "code",
   "execution_count": null,
   "id": "e01eb4d4",
   "metadata": {},
   "outputs": [],
   "source": [
    "# rcp26\n",
    "print(np.percentile(f.temperature[256:276, 0, :, 0].mean(axis=0)-f.temperature[85:136, 0, :, 0].mean(axis=0), (5, 50, 95)))\n",
    "print(np.percentile(f.temperature[276:296, 0, :, 0].mean(axis=0)-f.temperature[85:136, 0, :, 0].mean(axis=0), (5, 50, 95)))\n",
    "print(np.percentile(f.temperature[316:336, 0, :, 0].mean(axis=0)-f.temperature[85:136, 0, :, 0].mean(axis=0), (5, 50, 95)))"
   ]
  },
  {
   "cell_type": "code",
   "execution_count": null,
   "id": "548155af",
   "metadata": {},
   "outputs": [],
   "source": [
    "# rcp45\n",
    "print(np.percentile(f.temperature[256:276, 1, :, 0].mean(axis=0)-f.temperature[85:136, 1, :, 0].mean(axis=0), (5, 50, 95)))\n",
    "print(np.percentile(f.temperature[276:296, 1, :, 0].mean(axis=0)-f.temperature[85:136, 1, :, 0].mean(axis=0), (5, 50, 95)))\n",
    "print(np.percentile(f.temperature[316:336, 1, :, 0].mean(axis=0)-f.temperature[85:136, 1, :, 0].mean(axis=0), (5, 50, 95)))"
   ]
  },
  {
   "cell_type": "code",
   "execution_count": null,
   "id": "665f1458",
   "metadata": {},
   "outputs": [],
   "source": [
    "# rcp60\n",
    "print(np.percentile(f.temperature[256:276, 2, :, 0].mean(axis=0)-f.temperature[85:136, 2, :, 0].mean(axis=0), (5, 50, 95)))\n",
    "print(np.percentile(f.temperature[276:296, 2, :, 0].mean(axis=0)-f.temperature[85:136, 2, :, 0].mean(axis=0), (5, 50, 95)))\n",
    "print(np.percentile(f.temperature[316:336, 2, :, 0].mean(axis=0)-f.temperature[85:136, 2, :, 0].mean(axis=0), (5, 50, 95)))"
   ]
  },
  {
   "cell_type": "code",
   "execution_count": null,
   "id": "93b78115",
   "metadata": {},
   "outputs": [],
   "source": [
    "# rcp85\n",
    "print(np.percentile(f.temperature[271:291, 3, :, 0].mean(axis=0)-f.temperature[85:136, 3, :, 0].mean(axis=0), (5, 50, 95)))\n",
    "print(np.percentile(f.temperature[276:296, 3, :, 0].mean(axis=0)-f.temperature[85:136, 3, :, 0].mean(axis=0), (5, 50, 95)))\n",
    "print(np.percentile(f.temperature[316:336, 3, :, 0].mean(axis=0)-f.temperature[85:136, 3, :, 0].mean(axis=0), (5, 50, 95)))"
   ]
  },
  {
   "cell_type": "markdown",
   "id": "304fad5c",
   "metadata": {},
   "source": [
    "## methane concs"
   ]
  },
  {
   "cell_type": "code",
   "execution_count": null,
   "id": "45128e85",
   "metadata": {},
   "outputs": [],
   "source": [
    "fig, ax = pl.subplots(1, 4, figsize=(16, 5))\n",
    "\n",
    "for i in range(4):\n",
    "    ax[i].fill_between(\n",
    "        f.timebounds, \n",
    "        np.min(f.concentration[:, i, :, 3], axis=1), \n",
    "        np.max(f.concentration[:, i, :, 3], axis=1),\n",
    "        color='#000000',\n",
    "        alpha=0.2,\n",
    "    )\n",
    "    ax[i].fill_between(\n",
    "        f.timebounds, \n",
    "        np.percentile(f.concentration[:, i, :, 3], 5, axis=1), \n",
    "        np.percentile(f.concentration[:, i, :, 3], 95, axis=1),\n",
    "        color='#000000',\n",
    "        alpha=0.2,\n",
    "    )\n",
    "    ax[i].fill_between(\n",
    "        f.timebounds, \n",
    "        np.percentile(f.concentration[:, i, :, 3], 16, axis=1), \n",
    "        np.percentile(f.concentration[:, i, :, 3], 84, axis=1),\n",
    "        color='#000000',\n",
    "        alpha=0.2,\n",
    "    )\n",
    "    ax[i].plot(\n",
    "        f.timebounds, \n",
    "        np.median(f.concentration[:, i, :, 3], axis=1), \n",
    "        color='#000000',\n",
    "    )\n",
    "    ax[i].set_xlim(1750,2300)\n",
    "    ax[i].set_ylim(0, 6000)\n",
    "    ax[i].set_title(scenarios[i])\n",
    "pl.suptitle('Methane concentration')"
   ]
  },
  {
   "cell_type": "markdown",
   "id": "51025aa4",
   "metadata": {},
   "source": [
    "## Today"
   ]
  },
  {
   "cell_type": "code",
   "execution_count": null,
   "id": "0e286bb6",
   "metadata": {},
   "outputs": [],
   "source": [
    "print(np.percentile(f.temperature[230:250, 1, :, 0].mean(axis=0)-f.temperature[85:136, 1, :, 0].mean(axis=0), (5, 50, 95)))"
   ]
  },
  {
   "cell_type": "markdown",
   "id": "c1c204da",
   "metadata": {},
   "source": [
    "## Save out parameters"
   ]
  },
  {
   "cell_type": "code",
   "execution_count": null,
   "id": "b03b2ee6",
   "metadata": {},
   "outputs": [],
   "source": [
    "params_out = pd.concat((df_cr.loc[valid_all, :], df_cc.loc[valid_all, :], df_ari.loc[valid_all, :], df_aci.loc[valid_all, :], df_ozone.loc[valid_all, :], df_scaling.loc[valid_all, :], df_1750co2.loc[valid_all, :]), axis=1)"
   ]
  },
  {
   "cell_type": "code",
   "execution_count": null,
   "id": "214495ad",
   "metadata": {},
   "outputs": [],
   "source": [
    "params_out.columns"
   ]
  },
  {
   "cell_type": "code",
   "execution_count": null,
   "id": "15264c85",
   "metadata": {},
   "outputs": [],
   "source": [
    "params_out.columns = ['gamma', 'c1', 'c2', 'c3', 'kappa1', 'kappa2', 'kappa3', 'epsilon',\n",
    "       'sigma_eta', 'sigma_xi', 'F_4xCO2', 'r0', 'rU', 'rT', 'rA', 'ari BC', 'ari CH4',\n",
    "       'ari CO', 'ari N2O', 'ari NH3', 'ari NOx', 'ari OC', 'ari Sulfur', 'ari VOC',\n",
    "       'ari Equivalent effective stratospheric chlorine', 'shape_so2',\n",
    "       'shape_bc', 'shape_oc', 'beta', 'o3 CH4', 'o3 N2O',\n",
    "       'o3 Equivalent effective stratospheric chlorine', 'o3 CO', 'o3 VOC', 'o3 NOx',\n",
    "       'scale CO2', 'scale CH4', 'scale N2O', 'scale minorGHG', 'scale Stratospheric water vapour',\n",
    "       'scale Contrails', 'scale Light absorbing particles on snow and ice', 'scale Land use',\n",
    "       'scale Volcanic', 'solar_amplitude', 'solar_trend', 'co2_concentration_1750']"
   ]
  },
  {
   "cell_type": "code",
   "execution_count": null,
   "id": "d45b28d8",
   "metadata": {},
   "outputs": [],
   "source": [
    "params_out.drop(columns=['scale CO2', 'ari CO'], inplace=True)"
   ]
  },
  {
   "cell_type": "code",
   "execution_count": null,
   "id": "956e1390",
   "metadata": {},
   "outputs": [],
   "source": [
    "params_out.to_csv('../data/output/ar6_calibration_ebm3_rcp.csv')"
   ]
  },
  {
   "cell_type": "code",
   "execution_count": null,
   "id": "d802e433",
   "metadata": {},
   "outputs": [],
   "source": []
  }
 ],
 "metadata": {
  "kernelspec": {
   "display_name": "Python 3 (ipykernel)",
   "language": "python",
   "name": "python3"
  },
  "language_info": {
   "codemirror_mode": {
    "name": "ipython",
    "version": 3
   },
   "file_extension": ".py",
   "mimetype": "text/x-python",
   "name": "python",
   "nbconvert_exporter": "python",
   "pygments_lexer": "ipython3",
   "version": "3.10.6"
  }
 },
 "nbformat": 4,
 "nbformat_minor": 5
}
