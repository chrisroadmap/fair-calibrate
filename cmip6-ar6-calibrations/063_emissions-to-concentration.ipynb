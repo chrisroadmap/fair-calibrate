{
 "cells": [
  {
   "cell_type": "code",
   "execution_count": null,
   "id": "55599d29",
   "metadata": {},
   "outputs": [],
   "source": [
    "from climateforcing.utils import mkdir_p\n",
    "import numpy as np\n",
    "import matplotlib.pyplot as pl\n",
    "import pandas as pd\n",
    "import pickle\n",
    "import warnings"
   ]
  },
  {
   "cell_type": "code",
   "execution_count": null,
   "id": "5e75fba3",
   "metadata": {},
   "outputs": [],
   "source": [
    "9.4e8/5.1e18 * 1e9"
   ]
  },
  {
   "cell_type": "code",
   "execution_count": null,
   "id": "3961fb1d",
   "metadata": {},
   "outputs": [],
   "source": [
    "IIRF_HORIZON=100\n",
    "IIRF_MAX = 99.95\n",
    "GAS_BOX_AXIS=4\n",
    "N_GAS_BOXES=4\n",
    "TIME_AXIS=0\n",
    "M_ATMOS = 5.1352e18 # mass of atmosphere, kg\n",
    "RADIUS_EARTH = 6371000 # radius of atmosphere, m"
   ]
  },
  {
   "cell_type": "code",
   "execution_count": null,
   "id": "9b0062a9",
   "metadata": {},
   "outputs": [],
   "source": [
    "# for aerosols, convert mg m-2 to Tg by a factor of about a half"
   ]
  },
  {
   "cell_type": "code",
   "execution_count": null,
   "id": "e6ab4825",
   "metadata": {},
   "outputs": [],
   "source": [
    "# burden of sulfate in kilograms (is this S, SO2 or SO4?)\n",
    "# Myhre aerocom: 1.78 mg m-2\n",
    "4 * np.pi * RADIUS_EARTH**2 * 1.78 / 100000\n",
    "#1   1           m2          g m-2  kg mg-1   = kg\n",
    "\n",
    "# then expressed in TgSO4\n",
    "4 * np.pi * RADIUS_EARTH**2 * 1.78 / 1e15\n",
    "\n",
    "# Pham et al. 2005: global sulfur burden (in S) was 0.47 TgS in 1990 (470 Gg = 470 Mt)\n",
    "# SO4 to S conversion is approx divide 1.5 so this 0.9 TgSO4 is 0.6 TgS, not far from Pham"
   ]
  },
  {
   "cell_type": "code",
   "execution_count": null,
   "id": "57ff982a",
   "metadata": {},
   "outputs": [],
   "source": [
    "#AR4:                0.58 mg NO3 / m-2, \n",
    "#Myhre 2013 aerocom: 0.56 mg NO3 / m-2, \n",
    "4 * np.pi * RADIUS_EARTH**2 * 0.56 / 1e15   # global TgNO3 burden"
   ]
  },
  {
   "cell_type": "code",
   "execution_count": null,
   "id": "33cf7e24",
   "metadata": {},
   "outputs": [],
   "source": [
    "scenarios = ['ssp119', 'ssp126', 'ssp245', 'ssp370', 'ssp434', 'ssp460', 'ssp534-over', 'ssp585']\n",
    "n_scenarios = len(scenarios)"
   ]
  },
  {
   "cell_type": "code",
   "execution_count": null,
   "id": "ec88a571",
   "metadata": {},
   "outputs": [],
   "source": [
    "timebounds = np.arange(1750, 2501.5, 1)\n",
    "timesteps  = np.arange(1750.5, 2501, 1)\n",
    "timestep   = 1"
   ]
  },
  {
   "cell_type": "code",
   "execution_count": null,
   "id": "4815f1a3",
   "metadata": {},
   "outputs": [],
   "source": [
    "n_timesteps = len(timesteps)\n",
    "n_timebounds = len(timebounds)"
   ]
  },
  {
   "cell_type": "code",
   "execution_count": null,
   "id": "7545f2c6",
   "metadata": {},
   "outputs": [],
   "source": [
    "wmghgs = [\n",
    "    \"C2F6\",\n",
    "    \"C3F8\",\n",
    "    \"C4F10\",\n",
    "    \"C5F12\",\n",
    "    \"C6F14\",\n",
    "    \"C7F16\",\n",
    "    \"C8F18\",\n",
    "    \"cC4F8\",  # not standard PubChem but used extensively in AR6\n",
    "    \"CCl4\",\n",
    "    \"CF4\",\n",
    "    \"CFC-113\",\n",
    "    \"CFC-114\",\n",
    "    \"CFC-115\",\n",
    "    \"CFC-11\",\n",
    "    \"CFC-12\",\n",
    "    \"CH2Cl2\",\n",
    "    \"CH3Br\",\n",
    "    \"CH3CCl3\",\n",
    "    \"CH3Cl\",\n",
    "    \"CH4\",\n",
    "    \"CHCl3\",\n",
    "    \"CO2\",\n",
    "    \"Halon-1211\",\n",
    "    \"Halon-1301\",\n",
    "    \"Halon-2402\",\n",
    "    \"HCFC-141b\",\n",
    "    \"HCFC-142b\",\n",
    "    \"HCFC-22\",\n",
    "    \"HFC-125\",\n",
    "    \"HFC-134a\",\n",
    "    \"HFC-143a\",\n",
    "    \"HFC-152a\",\n",
    "    \"HFC-227ea\",\n",
    "    \"HFC-23\",\n",
    "    \"HFC-236fa\",\n",
    "    \"HFC-245fa\",\n",
    "    \"HFC-32\",\n",
    "    \"HFC-365mfc\",\n",
    "    \"HFC-4310mee\",\n",
    "    \"N2O\",\n",
    "    \"NF3\",\n",
    "    \"SF6\",\n",
    "    \"SO2F2\",\n",
    "]\n",
    "\n",
    "# #reactive_gases = [\"SO2\", \"CO\", \"NH3\", \"VOC\", \"NOx\"]\n",
    "# #primary_aerosols = [\"BC\", \"OC\"]\n",
    "# #secondary_aerosols = [\"SO4\", \"NO3\", \"SOA\"]\n",
    "\n",
    "# reactive_gases = [\"SO2\", \"CO\", \"VOC\", \"NOx\", \"NH3\"]\n",
    "# primary_aerosols = [\"BC\", \"OC\"]\n",
    "# secondary_aerosols = ['SO4', 'NO3', 'SOA']\n",
    "\n",
    "# emitted_species = wmghgs + reactive_gases + primary_aerosols\n",
    "# species = wmghgs + reactive_gases + primary_aerosols + secondary_aerosols\n",
    "# #species = wmghgs + reactive_gases + primary_aerosols\n",
    "\n",
    "n_wmghgs = len(wmghgs)\n",
    "# n_emitted_species = len(emitted_species)\n",
    "# n_species = len(species)\n",
    "\n",
    "n_configs = 1"
   ]
  },
  {
   "cell_type": "code",
   "execution_count": null,
   "id": "fc2e28f9",
   "metadata": {},
   "outputs": [],
   "source": [
    "# grab some emissions\n",
    "emissions_array = np.zeros((751, n_scenarios, n_configs, n_wmghgs, 1))\n",
    "df = pd.read_csv('../data/rcmip/rcmip-emissions-annual-means-v5-1-0.csv')\n",
    "for i_scenario, scenario in enumerate(scenarios):\n",
    "    for i_wmghg, wmghg in enumerate(wmghgs):\n",
    "        wmghg_rcmip_name = wmghg.replace(\"-\", \"\")\n",
    "#         if specie=='SO2':\n",
    "#             specie_rcmip_name='Sulfur'\n",
    "        emissions_array[:, i_scenario, 0, i_wmghg, 0] = df.loc[\n",
    "            (df['Scenario']==scenario) & (df['Variable'].str.endswith(\"|\"+wmghg_rcmip_name)) & (df['Region']=='World'), '1750':\n",
    "        ].interpolate(axis=1).squeeze().values.T\n",
    "    \n",
    "        # CO2 and N2O units need to behave\n",
    "        if wmghg in ('CO2', 'N2O'):\n",
    "            emissions_array[:, i_scenario, :, i_wmghg, :] = emissions_array[:, i_scenario, :, i_wmghg, :] / 1000\n",
    "    \n",
    "#     # fill non-directly emitted species with zeros. \n",
    "#     for ispec in range(n_emitted_species, n_species):\n",
    "#         emissions_array[:, iscen, 0, ispec, 0] = 0"
   ]
  },
  {
   "cell_type": "code",
   "execution_count": null,
   "id": "bb0451af",
   "metadata": {},
   "outputs": [],
   "source": [
    "emissions_array[5, 0, 0, :, 0]"
   ]
  },
  {
   "cell_type": "code",
   "execution_count": null,
   "id": "7f9d5c16",
   "metadata": {},
   "outputs": [],
   "source": [
    "# RCMIP concentrations for benchmarking WMGHGs\n",
    "concentration_rcmip = {}\n",
    "df = pd.read_csv('../data/rcmip/rcmip-concentrations-annual-means-v5-1-0.csv')\n",
    "for scenario in scenarios:\n",
    "    concentration_rcmip[scenario] = {}\n",
    "    for wmgas in wmghgs:\n",
    "        gas_rcmip_name = wmgas.replace(\"-\", \"\")\n",
    "        concentration_rcmip[scenario][wmgas] = df.loc[\n",
    "            (df['Scenario']==scenario) & (df['Variable'].str.endswith(\"|\"+gas_rcmip_name)) & (df['Region']=='World'), '1750':\n",
    "        ].interpolate(axis=1).values.squeeze()"
   ]
  },
  {
   "cell_type": "code",
   "execution_count": null,
   "id": "ac98a77b",
   "metadata": {},
   "outputs": [],
   "source": [
    "# grab indicative temperature projections for feedbacks\n",
    "df = pd.read_csv('../data/rcmip-phase2/rcmip-phase2-fair162-ssp245-mean-temperature.csv')\n",
    "ssp245_temperature_rfmip = df['temperature'].values"
   ]
  },
  {
   "cell_type": "markdown",
   "id": "9e0a049e",
   "metadata": {},
   "source": [
    "```\n",
    "Emissions are          1750.5, 1751.5, 1752.5, ..., 2500.5  (751 array)\n",
    "Concentrations are 1750.0, 1751.0, 1752.0, ...,   ..., 2501.0 (752 array)  \n",
    "```"
   ]
  },
  {
   "cell_type": "code",
   "execution_count": null,
   "id": "eabe7e08",
   "metadata": {},
   "outputs": [],
   "source": [
    "concentration_array = np.ones((n_timebounds, n_scenarios, n_configs, n_wmghgs, 1)) * np.nan"
   ]
  },
  {
   "cell_type": "code",
   "execution_count": null,
   "id": "7c9a291f",
   "metadata": {},
   "outputs": [],
   "source": [
    "partition_fraction = {}\n",
    "for wmghg in wmghgs:\n",
    "    partition_fraction[wmghg] = np.zeros(N_GAS_BOXES)\n",
    "    partition_fraction[wmghg][0] = 1\n",
    "partition_fraction[\"CO2\"] = np.array([0.2173, 0.2240, 0.2824, 0.2763])\n",
    "\n",
    "lifetime = {\n",
    "    \"C2F6\": 10000,\n",
    "    \"C3F8\": 2600,\n",
    "    \"C4F10\": 2600,\n",
    "    \"C5F12\": 4100,\n",
    "    \"C6F14\": 3100,\n",
    "    \"C7F16\": 3000,\n",
    "    \"C8F18\": 3000,\n",
    "    \"cC4F8\": 3200,  # not standard PubChem name but used extensively in AR6\n",
    "    \"CCl4\": 32,\n",
    "    \"CF4\": 50000,\n",
    "    \"CFC-113\": 93,\n",
    "    \"CFC-114\": 189,\n",
    "    \"CFC-115\": 540,\n",
    "    \"CFC-11\": 52,\n",
    "    \"CFC-12\": 102,\n",
    "    \"CH2Cl2\": 0.493,\n",
    "    \"CH3Br\": 0.8,\n",
    "    \"CH3CCl3\": 5,\n",
    "    \"CH3Cl\": 0.9,\n",
    "    \"CH4\": 8.25,  # atmospheric burden lifetime in pre-industrial conditions. Source: Leach et al. (2021)\n",
    "    \"CHCl3\": 0.501,\n",
    "    \"CO2\": np.array([1e9, 394.4, 36.54, 4.304]),\n",
    "    \"Halon-1211\": 16,\n",
    "    \"Halon-1301\": 72,\n",
    "    \"Halon-2402\": 28,\n",
    "    \"HCFC-141b\": 9.4,\n",
    "    \"HCFC-142b\": 18,\n",
    "    \"HCFC-22\": 11.9,\n",
    "    \"HFC-125\": 30,\n",
    "    \"HFC-134a\": 14,\n",
    "    \"HFC-143a\": 51,\n",
    "    \"HFC-152a\": 1.6,\n",
    "    \"HFC-227ea\": 36,\n",
    "    \"HFC-23\": 228,\n",
    "    \"HFC-236fa\": 213,\n",
    "    \"HFC-245fa\": 7.9,\n",
    "    \"HFC-32\": 5.4,\n",
    "    \"HFC-365mfc\": 8.9,\n",
    "    \"HFC-4310mee\": 17,\n",
    "    \"N2O\": 123, #109,\n",
    "    \"NF3\": 569,\n",
    "    \"SF6\": 3200,\n",
    "    \"SO2F2\": 36,\n",
    "#     \"SO2\": 10/365.25,  # in gas phase\n",
    "#     \"CO\":  1/6, # Khalil & Rasmussen 1990 (2 months); Zheng et al. 2019 (1-3 months)\n",
    "#     \"NH3\": 1/6/365.25,  # Nair and Yu 2020: gas phase a few hours, particle form \"under a week\"; let's assume same as NOx\n",
    "#     \"NOx\": 1/6/365.25,  # about 4 hours: https://acp.copernicus.org/articles/16/5283/2016/acp-16-5283-2016.pdf\n",
    "#     \"VOC\": 1/6,  # days to a few months https://agupubs.onlinelibrary.wiley.com/doi/full/10.1002/2017gl072602; assume same as CO\n",
    "#     \"BC\":  8/365.25,  # adjusted to get burden right: could be anything between 3 and 22 days according to Stjern et al. 2017\n",
    "#     \"OC\":  8/365.25,  # Skeie et al 2020 suggests about 6 days\n",
    "#     \"SO4\": 4.4/365.25,\n",
    "#     \"NO3\": 4/365.25,  # Nair and Yu 2020: gas phase a few hours, particle form \"under a week\"; but burdens are to high\n",
    "#     \"SOA\": 6.5/365.25,  # Hodzic et al. 2016\n",
    "}\n",
    "\n",
    "MOLWT = {\n",
    "    \"AIR\": 28.97,  # reference?\n",
    "    \"C\": 12.011,\n",
    "    \"C2F6\": 138.01,\n",
    "    \"C3F8\": 188.02,\n",
    "    \"C4F10\": 238.03,\n",
    "    \"C5F12\": 288.03,\n",
    "    \"C6F14\": 338.04,\n",
    "    \"C7F16\": 388.05,\n",
    "    \"C8F18\": 438.06,\n",
    "    \"cC4F8\": 200.03,  # not standard PubChem but used extensively in AR6\n",
    "    \"CCl4\": 153.8,\n",
    "    \"CF4\": 88.004,\n",
    "    \"CFC-113\": 187.37,\n",
    "    \"CFC-114\": 170.92,\n",
    "    \"CFC-115\": 154.46,\n",
    "    \"CFC-11\": 137.36,\n",
    "    \"CFC-12\": 120.91,\n",
    "    \"CH2Cl2\": 84.93,\n",
    "    \"CH3Br\": 94.94,\n",
    "    \"CH3CCl3\": 133.4,\n",
    "    \"CH3Cl\": 50.49,\n",
    "    \"CH4\": 16.043,\n",
    "    \"CHCl3\": 119.37,\n",
    "    \"CO2\": 44.009,\n",
    "    \"Halon-1211\": 165.36,\n",
    "    \"Halon-1301\": 148.91,\n",
    "    \"Halon-2402\": 259.82,\n",
    "    \"HCFC-141b\": 116.95,\n",
    "    \"HCFC-142b\": 100.49,\n",
    "    \"HCFC-22\": 86.47,\n",
    "    \"HFC-125\": 120.02,\n",
    "    \"HFC-134a\": 102.03,\n",
    "    \"HFC-143a\": 84.04,\n",
    "    \"HFC-152a\": 66.05,\n",
    "    \"HFC-227ea\": 170.03,\n",
    "    \"HFC-23\": 70.014,\n",
    "    \"HFC-236fa\": 152.04,\n",
    "    \"HFC-245fa\": 134.05,\n",
    "    \"HFC-32\": 52.023,\n",
    "    \"HFC-365mfc\": 148.07,\n",
    "    \"HFC-4310mee\": 252.05,\n",
    "    \"N\": 14.007,\n",
    "    \"N2\": 28.014,\n",
    "    \"N2O\": 44.013,\n",
    "    \"NF3\": 71.002,\n",
    "    \"NO\": 30.006,\n",
    "    \"NO2\": 46.006,\n",
    "    \"NOx\": 46.006,\n",
    "    \"S\": 32.07,\n",
    "    \"SF6\": 146.06,\n",
    "    \"SO2F2\": 102.06,\n",
    "#     \"SO2\": 64.069,\n",
    "#     \"SO4\": 96.07,\n",
    "#     \"CO\": 28.010,\n",
    "#     \"NH3\": 17.031,\n",
    "#     \"NO3\": 62.005,\n",
    "#     \"BC\": 12.011,\n",
    "#     \"OC\": 12.011,\n",
    "#     \"VOC\": 59.7,  # weighted average, CEDS, 1970-2012\n",
    "#     \"SOA\": 220, # guesstimate, Kourtchev et al 2015\n",
    "}\n",
    "\n",
    "iirf_0 = {wmghg: (lifetime[wmghg] * (1 - np.exp(-IIRF_HORIZON / lifetime[wmghg]))) for wmghg in wmghgs}\n",
    "iirf_0['CO2'] = 29\n",
    "\n",
    "iirf_uptake = {wmghg: 0 for wmghg in wmghgs}\n",
    "iirf_uptake[\"CO2\"] = 0.00846\n",
    "\n",
    "iirf_temperature = {wmghg: 0 for wmghg in wmghgs}\n",
    "#iirf_temperature = {gas: -iirf_0[gas]*0.015 for gas in gas_list}\n",
    "iirf_temperature[\"CO2\"] = 4.0\n",
    "iirf_temperature[\"CH4\"] = -0.3\n",
    "\n",
    "iirf_airborne = {wmghg: 0 for wmghg in wmghgs}\n",
    "iirf_airborne[\"CO2\"] = 0.000819\n",
    "iirf_airborne[\"CH4\"] = 0.00032\n",
    "iirf_airborne[\"N2O\"] = -0.0065    # hand tuning to PD and PI lifetimes: Prather et al. 2015\n",
    "\n",
    "concentration_per_emission = {}\n",
    "for wmghg in wmghgs:\n",
    "    concentration_per_emission[wmghg] = (\n",
    "        1 / (M_ATMOS / 1e18 * MOLWT[wmghg] / MOLWT[\"AIR\"])\n",
    "    )\n",
    "\n",
    "# for aerosol in primary_aerosols + secondary_aerosols:\n",
    "#     concentration_per_emission[aerosol] = 1\n",
    "\n",
    "baseline_emissions = {}\n",
    "for wmghg in wmghgs:\n",
    "    baseline_emissions[wmghg] = 0\n",
    "baseline_emissions.update(\n",
    "    {\n",
    "        \"CF4\": 0.010071225,\n",
    "        \"CCl4\": 0.024856862,\n",
    "        \"CH2Cl2\": 246.6579,\n",
    "        \"CH3Br\": 105.08773,\n",
    "        \"CH3Cl\": 4275.7449,\n",
    "        \"CHCl3\": 300.92479,\n",
    "        \"Halon-1211\": 0.0077232726,\n",
    "        # these are 1750 values\n",
    "#         \"SO2\": 2.440048435,\n",
    "#         \"CO\": 348.5273588,\n",
    "#         \"NH3\": 6.927690091,\n",
    "#         \"NOx\": 12.73521194,\n",
    "#         \"VOC\": 60.02182622,\n",
    "#         \"BC\": 2.097770755,\n",
    "#         \"OC\": 15.44766815,\n",
    "    }\n",
    ")"
   ]
  },
  {
   "cell_type": "code",
   "execution_count": null,
   "id": "da686603",
   "metadata": {},
   "outputs": [],
   "source": [
    "concentration_per_emission[\"Halon-1211\"]  "
   ]
  },
  {
   "cell_type": "code",
   "execution_count": null,
   "id": "80c2e557",
   "metadata": {},
   "outputs": [],
   "source": [
    "iirf_0[\"N2O\"]"
   ]
  },
  {
   "cell_type": "code",
   "execution_count": null,
   "id": "bc6bb404",
   "metadata": {},
   "outputs": [],
   "source": [
    "wmghgs[21]"
   ]
  },
  {
   "cell_type": "code",
   "execution_count": null,
   "id": "0cc813f2",
   "metadata": {},
   "outputs": [],
   "source": [
    "lifetime_array                   = np.ones((1, 1, 1, n_wmghgs, N_GAS_BOXES)) * np.nan\n",
    "partition_fraction_array         = np.ones((1, 1, 1, n_wmghgs, N_GAS_BOXES)) * np.nan\n",
    "iirf_0_array                     = np.ones((1, 1, 1, n_wmghgs, 1)) * np.nan\n",
    "iirf_airborne_array              = np.ones((1, 1, 1, n_wmghgs, 1)) * np.nan\n",
    "iirf_temperature_array           = np.ones((1, 1, 1, n_wmghgs, 1)) * np.nan\n",
    "iirf_uptake_array                = np.ones((1, 1, 1, n_wmghgs, 1)) * np.nan\n",
    "concentration_per_emission_array = np.ones((1, 1, 1, n_wmghgs, 1)) * np.nan\n",
    "baseline_emissions_array         = np.ones((1, 1, 1, n_wmghgs, 1)) * np.nan  # could be time dependent\n",
    "baseline_concentration_array     = np.ones((1, n_scenarios, n_configs, n_wmghgs, 1)) * np.nan\n",
    "\n",
    "# we would also loop/parallel over config here\n",
    "for i_wmghg, wmghg in enumerate(wmghgs):\n",
    "    lifetime_array                  [0, 0, 0, i_wmghg, :] = lifetime[wmghg]\n",
    "    partition_fraction_array        [0, 0, 0, i_wmghg, :] = partition_fraction[wmghg]\n",
    "    iirf_0_array                    [0, 0, 0, i_wmghg, :] = iirf_0[wmghg]\n",
    "    iirf_airborne_array             [0, 0, 0, i_wmghg, :] = iirf_airborne[wmghg]\n",
    "    iirf_temperature_array          [0, 0, 0, i_wmghg, :] = iirf_temperature[wmghg]\n",
    "    iirf_uptake_array               [0, 0, 0, i_wmghg, :] = iirf_uptake[wmghg]\n",
    "    concentration_per_emission_array[0, 0, 0, i_wmghg, 0] = concentration_per_emission[wmghg]\n",
    "    baseline_emissions_array        [0, 0, 0, i_wmghg, 0] = baseline_emissions[wmghg]\n",
    "\n",
    "# baseline concentration of WMGHGs\n",
    "for i_scenario, scenario in enumerate(scenarios):\n",
    "    for i_wmghg, wmghg in enumerate(wmghgs):\n",
    "        baseline_concentration_array[0, i_scenario, 0, i_wmghg, 0] = concentration_rcmip[scenario][wmghg][0]\n",
    "\n",
    "# CO2, CH4, N2O are not great in RCMIP\n",
    "#baseline_concentration_array[0, :, 0, 21, 0] = 278.3\n",
    "#baseline_concentration_array[0, :, 0, 19, 0] = 729.2\n",
    "#baseline_concentration_array[0, :, 0, 39, 0] = 270.1\n",
    "        \n",
    "# baseline concentration of reactive gases and primary aerosols where we don't have RCMIP values are based on emissions & lifetime\n",
    "## SO2\n",
    "#baseline_concentration_array[0,:,:,43,0] = emissions_array[0,:,:,43,0] * lifetime_array[0,:,:,43,0] * concentration_per_emission[\"SO2\"]\n",
    "\n",
    "# for now, keep secondary baseline concentrations at zero\n",
    "        \n",
    "#    for ispec in range(n_wmghgs, n_emitted_species):\n",
    "#        baseline_concentration_array[0, iscen, 0, ispec, 0] = 0\n",
    "#        \n",
    "# then all else is NaN for now\n",
    "    \n",
    "# # all SLCFs\n",
    "# for ispec, specie in enumerate(reactive_gases+primary_aerosols):\n",
    "#     baseline_concentration_array[0,:,:,ispec+n_wmghgs,0] = (\n",
    "#         lifetime_array[0,:,:,ispec+n_wmghgs,0] * emissions_array[0,:,:,ispec+n_wmghgs,0] * concentration_per_emission[specie]\n",
    "#     )\n",
    "\n",
    "    \n",
    "# for ispec, specie in enumerate(secondary_aerosols):\n",
    "#     baseline_concentration_array[0,:,:,ispec+n_emitted_species,0] = 0\n",
    "    \n",
    "# fill in first timebound\n",
    "concentration_array[0, ...] = baseline_concentration_array[0, ...]"
   ]
  },
  {
   "cell_type": "code",
   "execution_count": null,
   "id": "9925c473",
   "metadata": {},
   "outputs": [],
   "source": [
    "lifetime_array[0, 0, 0, 32, 0]"
   ]
  },
  {
   "cell_type": "code",
   "execution_count": null,
   "id": "90fe1b28",
   "metadata": {},
   "outputs": [],
   "source": [
    "# oxidation_matrix = np.zeros((53, 53))\n",
    "# om_df = pd.DataFrame(oxidation_matrix, columns=species, index=species)\n",
    "# #          from, to      oxidation efficiency   mass ratio of product to precursor   unit conversion\n",
    "# om_df.loc[\"SO2\", \"SO4\"] = 1.0                 * MOLWT[\"SO4\"] / MOLWT[\"SO2\"]\n",
    "# om_df.loc[\"NH3\", \"NO3\"] = 0.75                * MOLWT[\"NO3\"] / MOLWT[\"NH3\"]\n",
    "# om_df.loc[\"VOC\", \"SOA\"] = 0.75                * MOLWT[\"SOA\"] / MOLWT[\"VOC\"]\n",
    "# om_df.loc[\"CH4\", \"CO2\"] = 0                   * MOLWT[\"CO2\"] / MOLWT[\"CH4\"]          / 1000\n",
    "# om_df.loc[\"VOC\", \"CO2\"] = 0                   * MOLWT[\"CO2\"] / MOLWT[\"VOC\"]          / 1000\n",
    "# om_df.loc[\"VOC\", \"CO\"]  = 0                   * MOLWT[\"CO2\"] / MOLWT[\"CO\"]           / 1000\n",
    "# om_df"
   ]
  },
  {
   "cell_type": "code",
   "execution_count": null,
   "id": "8117b5a3",
   "metadata": {},
   "outputs": [],
   "source": [
    "# oxidation_matrix = om_df.values\n",
    "# om_df.loc[\"NH3\", \"NO3\"], om_df.iloc[47, 51], oxidation_matrix[47, 51]"
   ]
  },
  {
   "cell_type": "code",
   "execution_count": null,
   "id": "b0cd27bb",
   "metadata": {},
   "outputs": [],
   "source": [
    "# baseline concentration of CO is about 90 ppbv in Khalil & Rasmussen: here we have 11.6 ppb in PI\n",
    "# but they were probably overestimating the total emissions\n",
    "\n",
    "baseline_concentration_array[0,0,0,:,0]"
   ]
  },
  {
   "cell_type": "code",
   "execution_count": null,
   "id": "f0889b58",
   "metadata": {},
   "outputs": [],
   "source": [
    "g1 = np.sum(\n",
    "    partition_fraction_array * lifetime_array *\n",
    "    (1 - (1 + IIRF_HORIZON/lifetime_array) *\n",
    "    np.exp(-IIRF_HORIZON/lifetime_array)), axis=GAS_BOX_AXIS, keepdims=True\n",
    ")\n",
    "\n",
    "g0 = np.exp(\n",
    "    -1 * np.sum(\n",
    "        partition_fraction_array*lifetime_array*(1 - np.exp(-IIRF_HORIZON/lifetime_array)), axis=GAS_BOX_AXIS, keepdims=True\n",
    "    )/g1\n",
    ")"
   ]
  },
  {
   "cell_type": "code",
   "execution_count": null,
   "id": "a6c6017f",
   "metadata": {},
   "outputs": [],
   "source": [
    "g1[0,0,0,21,0], g0[0,0,0,21,0]  # looks right for CO2"
   ]
  },
  {
   "cell_type": "code",
   "execution_count": null,
   "id": "f50a7050",
   "metadata": {},
   "outputs": [],
   "source": [
    "# we need separate baselines for both the forcing and concentrations at pre-industrial.\n",
    "\n",
    "alpha_lifetime_array       = np.ones((n_timebounds, n_scenarios, 1, n_wmghgs, 1)) * np.nan\n",
    "airborne_emissions_array   = np.ones((n_timebounds, n_scenarios, 1, n_wmghgs, 1)) * np.nan\n",
    "gas_boxes_array            = np.zeros((1, n_scenarios, 1, n_wmghgs, N_GAS_BOXES))  # initial condition for restarts\n",
    "\n",
    "cumulative_emissions_array = np.ones((n_timebounds, n_scenarios, 1, n_wmghgs, 1)) * np.nan\n",
    "cumulative_emissions_array[0, ...] = 0  # initial condition: make interface option\n",
    "cumulative_emissions_array[1:, ...] = np.cumsum(emissions_array * timestep, axis=TIME_AXIS)\n",
    "\n",
    "airborne_emissions_array[0, ...] = 0  # initial condition: make interface option"
   ]
  },
  {
   "cell_type": "code",
   "execution_count": null,
   "id": "1b16fc10",
   "metadata": {},
   "outputs": [],
   "source": [
    "def calculate_alpha(\n",
    "    airborne_emissions,\n",
    "    cumulative_emissions,\n",
    "    g0,\n",
    "    g1,\n",
    "    iirf_0,\n",
    "    iirf_airborne,\n",
    "    iirf_temperature,\n",
    "    iirf_uptake,\n",
    "    temperature,\n",
    "    iirf_max=100,\n",
    "):\n",
    "\n",
    "    iirf = iirf_0 + iirf_uptake * (cumulative_emissions-airborne_emissions) + iirf_temperature * temperature + iirf_airborne * airborne_emissions\n",
    "    iirf = (iirf>iirf_max) * iirf_max + iirf * (iirf<iirf_max)\n",
    "    # overflow and invalid value errors occur with very large and small values\n",
    "    # in the exponential. This happens with very long lifetime GHGs. Usually\n",
    "    # these GHGs don't have a temperature dependence on IIRF but even if they\n",
    "    # did the lifetimes are so long that it is unlikely to have an effect.\n",
    "    with warnings.catch_warnings():\n",
    "        warnings.simplefilter('ignore')\n",
    "        alpha = g0 * np.exp(iirf / g1)\n",
    "        alpha[np.isnan(alpha)]=1\n",
    "    return alpha"
   ]
  },
  {
   "cell_type": "code",
   "execution_count": null,
   "id": "c799a639",
   "metadata": {},
   "outputs": [],
   "source": [
    "def step_concentration(\n",
    "    emissions,\n",
    "    gas_boxes_old,\n",
    "    airborne_emissions_old,\n",
    "    alpha_lifetime,\n",
    "    baseline_concentration,\n",
    "    baseline_emissions,\n",
    "    concentration_per_emission,\n",
    "    lifetime,\n",
    "#    oxidation_matrix,\n",
    "    partition_fraction,\n",
    "    timestep,\n",
    "):\n",
    "\n",
    "    decay_rate = timestep/(alpha_lifetime * lifetime)\n",
    "    decay_factor = np.exp(-decay_rate)\n",
    "\n",
    "#    print((1-decay_factor)[0,0,0,43,0], loss_this_timestep[0,0,0,43,0], gas_boxes_old[0,0,0,43,0])\n",
    "    \n",
    "#     # loss is in emissions units e.g. Tg\n",
    "#     loss_this_timestep = (gas_boxes_old * (1-decay_factor))\n",
    "#     #print(gas_boxes_old.shape)\n",
    "#     emissions_from_oxidation = np.sum(\n",
    "#         loss_this_timestep[:, :, :, :, None, :] * oxidation_matrix[None, None, None, :, :, None],\n",
    "#         axis=(3, 5)\n",
    "#     )    \n",
    "    \n",
    "    #print(loss_this_timestep[0, 0, 0, 28, :], emissions[0, 0, 28], decay_factor[0, 0, 0, 28, 0])\n",
    "    # additions and removals\n",
    "    gas_boxes_new = (\n",
    "        partition_fraction *\n",
    "        (emissions - baseline_emissions) *\n",
    "        1 / decay_rate *\n",
    "        (1 - decay_factor) * timestep + gas_boxes_old * decay_factor\n",
    "    )\n",
    "#     print(loss_this_timestep[0,0,0,43,0], gas_boxes_old[0,0,0,43,0], gas_boxes_new[0,0,0,43,0], 1-decay_factor[0,0,0,43,0])\n",
    "        \n",
    "    airborne_emissions_new = np.sum(gas_boxes_new, axis=GAS_BOX_AXIS, keepdims=True)\n",
    "    concentration_out = baseline_concentration + concentration_per_emission * airborne_emissions_new\n",
    "\n",
    "    return concentration_out, gas_boxes_new, airborne_emissions_new"
   ]
  },
  {
   "cell_type": "code",
   "execution_count": null,
   "id": "2622d267",
   "metadata": {},
   "outputs": [],
   "source": [
    "concentration_per_emission_array[0,0,0,42,0]"
   ]
  },
  {
   "cell_type": "code",
   "execution_count": null,
   "id": "2a22e18c",
   "metadata": {},
   "outputs": [],
   "source": [
    "gas_boxes_array = np.zeros((1, n_scenarios, 1, n_wmghgs, N_GAS_BOXES))  # initial condition for restarts\n",
    "\n",
    "for i_timestep in range(n_timesteps):  # 0 to 751\n",
    "    alpha_lifetime_array[i_timestep, ...] = calculate_alpha(   # this timestep\n",
    "        airborne_emissions_array[i_timestep, ...],  # last timebound\n",
    "        cumulative_emissions_array[i_timestep, ...],  # last timebound\n",
    "        g0,\n",
    "        g1,\n",
    "        iirf_0_array,\n",
    "        iirf_airborne_array,\n",
    "        iirf_temperature_array,\n",
    "        iirf_uptake_array,\n",
    "        ssp245_temperature_rfmip[i_timestep],  # last timebound\n",
    "        IIRF_MAX\n",
    "    )\n",
    "    concentration_array[i_timestep+1, ...], gas_boxes_array, airborne_emissions_array[i_timestep+1, ...] = step_concentration( # next timebound\n",
    "        emissions_array[i_timestep, ...],  # this timestep\n",
    "        gas_boxes_array, # last timebound\n",
    "        airborne_emissions_array[i_timestep, ...],  # last timebound\n",
    "        alpha_lifetime_array[i_timestep, ...],\n",
    "        baseline_concentration_array,\n",
    "        baseline_emissions_array,\n",
    "        concentration_per_emission_array,\n",
    "        lifetime_array,\n",
    "#        oxidation_matrix,\n",
    "        partition_fraction_array,\n",
    "        timestep,\n",
    "    )"
   ]
  },
  {
   "cell_type": "code",
   "execution_count": null,
   "id": "7cd633b2",
   "metadata": {},
   "outputs": [],
   "source": [
    "pl.plot(np.arange(1750, 2022), concentration_array[0:272, 0, 0, 21, 0])\n",
    "pl.plot(np.arange(1750.5, 2022), concentration_rcmip['ssp245']['CO2'][:272])\n",
    "concentration_array[270, 0, 0, 21, 0]"
   ]
  },
  {
   "cell_type": "code",
   "execution_count": null,
   "id": "10557477",
   "metadata": {},
   "outputs": [],
   "source": [
    "#concentration_array[-100:, 0, 0, 28, 0]"
   ]
  },
  {
   "cell_type": "code",
   "execution_count": null,
   "id": "bc16046d",
   "metadata": {},
   "outputs": [],
   "source": [
    "baseline_concentration_array[0, 0, 0, :, 0]"
   ]
  },
  {
   "cell_type": "code",
   "execution_count": null,
   "id": "a75ff601",
   "metadata": {},
   "outputs": [],
   "source": [
    "pl.plot(np.arange(1750, 2022), concentration_array[0:272, 0, 0, 39, 0])\n",
    "pl.plot(np.arange(1750.5, 2022), concentration_rcmip['ssp245']['N2O'][:272])"
   ]
  },
  {
   "cell_type": "code",
   "execution_count": null,
   "id": "a65b82f2",
   "metadata": {},
   "outputs": [],
   "source": [
    "# pl.plot(np.arange(1750, 2022), concentration_array[0:272, 0, 0, 43, 0])\n",
    "# pl.title('SO2 concentration')\n",
    "# pl.ylabel('ppb')\n",
    "# concentration_array[250, 0, 0, 43, 0]   # this is close to Gunnar's value of 0.9"
   ]
  },
  {
   "cell_type": "code",
   "execution_count": null,
   "id": "a67b3a65",
   "metadata": {},
   "outputs": [],
   "source": [
    "# pl.plot(np.arange(1750, 2022), concentration_array[0:272, 0, 0, 44, 0])\n",
    "# pl.title('CO concentration')\n",
    "# pl.ylabel('ppb')\n",
    "# concentration_array[240, 0, 0, 44, 0]   # Khalil & Rasmussen say 90 Tg in 1990 - this is OK"
   ]
  },
  {
   "cell_type": "code",
   "execution_count": null,
   "id": "5562d3b7",
   "metadata": {},
   "outputs": [],
   "source": [
    "# pl.plot(np.arange(1750, 2022), concentration_array[0:272, 0, 0, 45, 0])\n",
    "# pl.title('VOC concentration')\n",
    "# pl.ylabel('ppb')\n",
    "# concentration_array[250, 0, 0, 45, 0]  # this isn't far off the 16 Tg here: https://agupubs.onlinelibrary.wiley.com/doi/full/10.1002/2017gl072602"
   ]
  },
  {
   "cell_type": "code",
   "execution_count": null,
   "id": "891f1fa2",
   "metadata": {},
   "outputs": [],
   "source": [
    "# pl.plot(np.arange(1750, 2022), concentration_array[0:272, 0, 0, 46, 0])\n",
    "# pl.title('NOx concentration')\n",
    "# pl.ylabel('ppb')\n",
    "# concentration_array[250, 0, 0, 46, 0]  # this isn't far off the 16 Tg here: https://agupubs.onlinelibrary.wiley.com/doi/full/10.1002/2017gl072602"
   ]
  },
  {
   "cell_type": "code",
   "execution_count": null,
   "id": "6c40f182",
   "metadata": {},
   "outputs": [],
   "source": [
    "# pl.plot(np.arange(1750, 2022), concentration_array[0:272, 0, 0, 47, 0])\n",
    "# pl.title('BC burden')\n",
    "# pl.ylabel('Tg')\n",
    "# concentration_array[260, 0, 0, 47, 0] - concentration_array[0, 0, 0, 47, 0]  # Skeie et al. 2011: 153 GgC in 2010 versus 1750. Perfect."
   ]
  },
  {
   "cell_type": "code",
   "execution_count": null,
   "id": "3d521004",
   "metadata": {},
   "outputs": [],
   "source": [
    "# pl.plot(np.arange(1750, 2022), concentration_array[0:272, 0, 0, 48, 0])\n",
    "# pl.title('OC burden')\n",
    "# pl.ylabel('Tg')\n",
    "# concentration_array[260, 0, 0, 48, 0] - concentration_array[0, 0, 0, 48, 0]  # Skeie et al. 2011: 562 Gg in 2010 versus 1750, but off higher 1750 emissions"
   ]
  },
  {
   "cell_type": "code",
   "execution_count": null,
   "id": "1d7e87aa",
   "metadata": {},
   "outputs": [],
   "source": [
    "# pl.plot(np.arange(1750, 2022), concentration_array[0:272, 0, 0, 49, 0])\n",
    "# pl.title('NH3 concentration')\n",
    "# pl.ylabel('ppb')\n",
    "# concentration_array[260, 0, 0, 49, 0] - concentration_array[0, 0, 0, 49, 0]  # Skeie et al. 2011: 562 Gg in 2010 versus 1750, but off higher 1750 emissions"
   ]
  },
  {
   "cell_type": "code",
   "execution_count": null,
   "id": "a689ec2e",
   "metadata": {},
   "outputs": [],
   "source": [
    "# pl.plot(np.arange(1750, 2502), concentration_array[:, 0, 0, 50, 0])\n",
    "# pl.title('SO4 burden')\n",
    "# pl.ylabel('Tg')\n",
    "# concentration_array[260, 0, 0, 50, 0] # Skeie et al. 2011: 562 Gg in 2010 versus 1750, but off higher 1750 emissions\n",
    "# concentration_array[-100:, 0, 0, 50, 0]"
   ]
  },
  {
   "cell_type": "code",
   "execution_count": null,
   "id": "bba5f8d2",
   "metadata": {},
   "outputs": [],
   "source": [
    "# pl.plot(np.arange(1750, 2022), concentration_array[0:272, 0, 0, 50, 0])\n",
    "# pl.title('SO4 burden')\n",
    "# pl.ylabel('Tg')\n",
    "# concentration_array[260, 0, 0, 50, 0] # Skeie et al. 2011: 562 Gg in 2010 versus 1750, but off higher 1750 emissions"
   ]
  },
  {
   "cell_type": "code",
   "execution_count": null,
   "id": "95f29197",
   "metadata": {},
   "outputs": [],
   "source": [
    "# # steady state concentration\n",
    "\n",
    "# lamb = 4/365.25\n",
    "# emis = 2.440048435 * MOLWT[\"SO4\"]/MOLWT[\"SO2\"] # conversion, then per day\n",
    "\n",
    "# lamb * emis\n",
    "# #np.exp(-1/lamb)"
   ]
  },
  {
   "cell_type": "code",
   "execution_count": null,
   "id": "6d71a995",
   "metadata": {},
   "outputs": [],
   "source": [
    "# concentration_array[240, 0, 0, 43:, 0]"
   ]
  },
  {
   "cell_type": "code",
   "execution_count": null,
   "id": "06b64535",
   "metadata": {},
   "outputs": [],
   "source": [
    "# pl.scatter(emissions_array[:,0,0,43,0], concentration_array[1:,0,0,43,0])"
   ]
  },
  {
   "cell_type": "code",
   "execution_count": null,
   "id": "1f6095aa",
   "metadata": {},
   "outputs": [],
   "source": [
    "# pl.scatter(emissions_array[:,0,0,44,0], concentration_array[1:,0,0,44,0])"
   ]
  },
  {
   "cell_type": "code",
   "execution_count": null,
   "id": "4ddd680b",
   "metadata": {},
   "outputs": [],
   "source": [
    "for i_scenario, scenario in enumerate(scenarios):\n",
    "    pl.plot(timebounds, concentration_array[:,i_scenario,0,21,0], label=scenario)\n",
    "pl.legend();"
   ]
  },
  {
   "cell_type": "code",
   "execution_count": null,
   "id": "0b05f381",
   "metadata": {},
   "outputs": [],
   "source": [
    "pl.plot(np.arange(1750, 2502), cumulative_emissions_array[:, 0, 0, 21, 0])"
   ]
  },
  {
   "cell_type": "code",
   "execution_count": null,
   "id": "0ea63e13",
   "metadata": {},
   "outputs": [],
   "source": [
    "concentration = {}\n",
    "\n",
    "for i_scenario, scenario in enumerate(scenarios):\n",
    "    concentration[scenario] = {}\n",
    "    for i_wmghg, wmghg in enumerate(wmghgs):\n",
    "        concentration[scenario][wmghg] = concentration_array[:, i_scenario, 0, i_wmghg, 0]"
   ]
  },
  {
   "cell_type": "code",
   "execution_count": null,
   "id": "664a4565",
   "metadata": {},
   "outputs": [],
   "source": [
    "for iscen, scenario in enumerate(scenarios):\n",
    "    fig, ax = pl.subplots(6, 8, figsize=(16,16))\n",
    "    for i_wmghg, wmghg in enumerate(wmghgs):\n",
    "        iy = i_wmghg % 8\n",
    "        ix = i_wmghg // 8\n",
    "        ax[ix, iy].plot(timebounds, concentration[scenario][wmghg], label='FaIR 2.1', color='k')\n",
    "        ax[ix, iy].plot(timebounds[:-1], concentration_rcmip[scenario][wmghg], label='History + MAGICC6', color='r')\n",
    "        ax[ix, iy].set_title(wmghg)\n",
    "    fig.tight_layout()"
   ]
  },
  {
   "cell_type": "code",
   "execution_count": null,
   "id": "2cf24390",
   "metadata": {},
   "outputs": [],
   "source": [
    "alpha_lifetime_array[:, 0, 0, 39, 0] * lifetime_array[0, 0, 0, 39, 0]"
   ]
  },
  {
   "cell_type": "code",
   "execution_count": null,
   "id": "f51b9540",
   "metadata": {},
   "outputs": [],
   "source": [
    "alpha_lifetime_array[258, 0, 0, 39, 0] * lifetime_array[0, 0, 0, 39, 0]  # target 109"
   ]
  },
  {
   "cell_type": "code",
   "execution_count": null,
   "id": "2168755c",
   "metadata": {},
   "outputs": [],
   "source": [
    "alpha_lifetime_array[100, 0, 0, 39, 0] * lifetime_array[0, 0, 0, 39, 0]  # target 123"
   ]
  },
  {
   "cell_type": "code",
   "execution_count": null,
   "id": "bf9ea804",
   "metadata": {},
   "outputs": [],
   "source": [
    "mkdir_p(\"../data/output/\")\n",
    "with open(\"../data/output/rcmip-fair21-concentrations.pkl\",\"wb\") as fileout:\n",
    "    pickle.dump(concentration, fileout)"
   ]
  }
 ],
 "metadata": {
  "kernelspec": {
   "display_name": "Python 3 (ipykernel)",
   "language": "python",
   "name": "python3"
  },
  "language_info": {
   "codemirror_mode": {
    "name": "ipython",
    "version": 3
   },
   "file_extension": ".py",
   "mimetype": "text/x-python",
   "name": "python",
   "nbconvert_exporter": "python",
   "pygments_lexer": "ipython3",
   "version": "3.7.12"
  }
 },
 "nbformat": 4,
 "nbformat_minor": 5
}
