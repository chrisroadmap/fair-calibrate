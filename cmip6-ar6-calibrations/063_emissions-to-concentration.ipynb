{
 "cells": [
  {
   "cell_type": "code",
   "execution_count": null,
   "id": "af5a79e4",
   "metadata": {},
   "outputs": [],
   "source": [
    "from climateforcing.utils import mkdir_p\n",
    "import numpy as np\n",
    "import matplotlib.pyplot as pl\n",
    "import pandas as pd\n",
    "import pickle\n",
    "import warnings"
   ]
  },
  {
   "cell_type": "code",
   "execution_count": null,
   "id": "8923a33f",
   "metadata": {},
   "outputs": [],
   "source": [
    "IIRF_HORIZON=100\n",
    "IIRF_MAX = 99.95\n",
    "GAS_BOX_AXIS=4\n",
    "TIME_AXIS=0\n",
    "M_ATMOS = 5.1352e18 # mass of atmosphere, kg"
   ]
  },
  {
   "cell_type": "code",
   "execution_count": null,
   "id": "07b1595d",
   "metadata": {},
   "outputs": [],
   "source": [
    "scenarios = ['ssp119', 'ssp126', 'ssp245', 'ssp370', 'ssp434', 'ssp460', 'ssp534-over', 'ssp585']\n",
    "n_scenarios = len(scenarios)"
   ]
  },
  {
   "cell_type": "code",
   "execution_count": null,
   "id": "6b9ce5c0",
   "metadata": {},
   "outputs": [],
   "source": [
    "timebounds = np.arange(1750, 2501.5, 1)\n",
    "timesteps  = np.arange(1750.5, 2501, 1)\n",
    "timestep   = 1"
   ]
  },
  {
   "cell_type": "code",
   "execution_count": null,
   "id": "0f6127b1",
   "metadata": {},
   "outputs": [],
   "source": [
    "n_timesteps = len(timesteps)\n",
    "n_timebounds = len(timebounds)"
   ]
  },
  {
   "cell_type": "code",
   "execution_count": null,
   "id": "8a5e29dc",
   "metadata": {},
   "outputs": [],
   "source": [
    "gas_list = [\n",
    "    \"C2F6\",\n",
    "    \"C3F8\",\n",
    "    \"C4F10\",\n",
    "    \"C5F12\",\n",
    "    \"C6F14\",\n",
    "    \"C7F16\",\n",
    "    \"C8F18\",\n",
    "    \"cC4F8\",  # not standard PubChem but used extensively in AR6\n",
    "    \"CCl4\",\n",
    "    \"CF4\",\n",
    "    \"CFC-113\",\n",
    "    \"CFC-114\",\n",
    "    \"CFC-115\",\n",
    "    \"CFC-11\",\n",
    "    \"CFC-12\",\n",
    "    \"CH2Cl2\",\n",
    "    \"CH3Br\",\n",
    "    \"CH3CCl3\",\n",
    "    \"CH3Cl\",\n",
    "    \"CH4\",\n",
    "    \"CHCl3\",\n",
    "    \"CO2\",\n",
    "    \"Halon-1211\",\n",
    "    \"Halon-1301\",\n",
    "    \"Halon-2402\",\n",
    "    \"HCFC-141b\",\n",
    "    \"HCFC-142b\",\n",
    "    \"HCFC-22\",\n",
    "    \"HFC-125\",\n",
    "    \"HFC-134a\",\n",
    "    \"HFC-143a\",\n",
    "    \"HFC-152a\",\n",
    "    \"HFC-227ea\",\n",
    "    \"HFC-23\",\n",
    "    \"HFC-236fa\",\n",
    "    \"HFC-245fa\",\n",
    "    \"HFC-32\",\n",
    "    \"HFC-365mfc\",\n",
    "    \"HFC-4310mee\",\n",
    "    \"N2O\",\n",
    "    \"NF3\",\n",
    "    \"SF6\",\n",
    "    \"SO2F2\",\n",
    "]\n",
    "\n",
    "n_gases = len(gas_list)"
   ]
  },
  {
   "cell_type": "code",
   "execution_count": null,
   "id": "68366fd1",
   "metadata": {},
   "outputs": [],
   "source": [
    "# grab some emissions\n",
    "emissions_array = np.ones((751, n_scenarios, n_gases, 1, 1)) * np.nan\n",
    "df = pd.read_csv('../data/rcmip/rcmip-emissions-annual-means-v5-1-0.csv')\n",
    "for iscen, scenario in enumerate(scenarios):\n",
    "    for igas, gas in enumerate(gas_list):\n",
    "        gas_rcmip_name = gas.replace(\"-\", \"\")\n",
    "        emissions_array[:, iscen, igas, 0, 0] = df.loc[\n",
    "            (df['Scenario']==scenario) & (df['Variable'].str.endswith(\"|\"+gas_rcmip_name)) & (df['Region']=='World'), '1750':\n",
    "        ].interpolate(axis=1).squeeze().values.T\n",
    "    \n",
    "        # CO2 and N2O units need to behave\n",
    "        if gas in ('CO2', 'N2O'):\n",
    "            emissions_array[:, iscen, igas, ...] = emissions_array[:, iscen, igas, ...] / 1000"
   ]
  },
  {
   "cell_type": "code",
   "execution_count": null,
   "id": "a5bd4c73",
   "metadata": {},
   "outputs": [],
   "source": [
    "emissions_array[-1, 7, :, 0, 0]"
   ]
  },
  {
   "cell_type": "code",
   "execution_count": null,
   "id": "63a5d22f",
   "metadata": {},
   "outputs": [],
   "source": [
    "# grab some concentrations\n",
    "concentration_rcmip = {}\n",
    "df = pd.read_csv('../data/rcmip/rcmip-concentrations-annual-means-v5-1-0.csv')\n",
    "for scenario in scenarios:\n",
    "    concentration_rcmip[scenario] = {}\n",
    "    for gas in gas_list:\n",
    "        gas_rcmip_name = gas.replace(\"-\", \"\")\n",
    "        concentration_rcmip[scenario][gas] = df.loc[\n",
    "            (df['Scenario']==scenario) & (df['Variable'].str.endswith(\"|\"+gas_rcmip_name)) & (df['Region']=='World'), '1750':\n",
    "        ].interpolate(axis=1).values.squeeze()"
   ]
  },
  {
   "cell_type": "code",
   "execution_count": null,
   "id": "797d8e60",
   "metadata": {},
   "outputs": [],
   "source": [
    "#concentration_rcmip['ssp119']['CO2']"
   ]
  },
  {
   "cell_type": "code",
   "execution_count": null,
   "id": "0f8f5565",
   "metadata": {},
   "outputs": [],
   "source": [
    "# grab indicative temperature projections for feedbacks\n",
    "df = pd.read_csv('../data/rcmip-phase2/rcmip-phase2-fair162-ssp245-mean-temperature.csv')\n",
    "ssp245_temperature_rfmip = df['temperature'].values"
   ]
  },
  {
   "cell_type": "markdown",
   "id": "15b3dc6d",
   "metadata": {},
   "source": [
    "```\n",
    "Emissions are          1750.5, 1751.5, 1752.5, ..., 2500.5  (751 array)\n",
    "Concentrations are 1750.0, 1751.0, 1752.0, ...,   ..., 2501.0 (752 array)  \n",
    "```"
   ]
  },
  {
   "cell_type": "code",
   "execution_count": null,
   "id": "2fd7f65a",
   "metadata": {},
   "outputs": [],
   "source": [
    "(emissions_array.shape[0]+1,) + emissions_array.shape[1:]"
   ]
  },
  {
   "cell_type": "code",
   "execution_count": null,
   "id": "f3528bc7",
   "metadata": {},
   "outputs": [],
   "source": [
    "concentration_array = np.ones((emissions_array.shape[0]+1,) + emissions_array.shape[1:]) * np.nan"
   ]
  },
  {
   "cell_type": "code",
   "execution_count": null,
   "id": "0a401a1d",
   "metadata": {},
   "outputs": [],
   "source": [
    "for iscen, scenario in enumerate(scenarios):\n",
    "    for igas, gas in enumerate(gas_list):\n",
    "        concentration_array[0, iscen, igas, ...] = concentration_rcmip[scenario][gas][0]"
   ]
  },
  {
   "cell_type": "code",
   "execution_count": null,
   "id": "a924606e",
   "metadata": {},
   "outputs": [],
   "source": [
    "#concentration_array[0, ..., 0, 0]"
   ]
  },
  {
   "cell_type": "code",
   "execution_count": null,
   "id": "7358ca92",
   "metadata": {},
   "outputs": [],
   "source": [
    "N_GAS_BOXES=4\n",
    "\n",
    "partition_fraction = {}\n",
    "for gas in gas_list:\n",
    "    partition_fraction[gas] = np.zeros(N_GAS_BOXES)\n",
    "    partition_fraction[gas][0] = 1\n",
    "partition_fraction[\"CO2\"] = np.array([0.2173, 0.2240, 0.2824, 0.2763])\n",
    "\n",
    "lifetime = {\n",
    "    \"C2F6\": 10000,\n",
    "    \"C3F8\": 2600,\n",
    "    \"C4F10\": 2600,\n",
    "    \"C5F12\": 4100,\n",
    "    \"C6F14\": 3100,\n",
    "    \"C7F16\": 3000,\n",
    "    \"C8F18\": 3000,\n",
    "    \"cC4F8\": 3200,  # not standard PubChem name but used extensively in AR6\n",
    "    \"CCl4\": 32,\n",
    "    \"CF4\": 50000,\n",
    "    \"CFC-113\": 93,\n",
    "    \"CFC-114\": 189,\n",
    "    \"CFC-115\": 540,\n",
    "    \"CFC-11\": 52,\n",
    "    \"CFC-12\": 102,\n",
    "    \"CH2Cl2\": 0.493,\n",
    "    \"CH3Br\": 0.8,\n",
    "    \"CH3CCl3\": 5,\n",
    "    \"CH3Cl\": 0.9,\n",
    "    \"CH4\": 8.25,  # atmospheric burden lifetime in pre-industrial conditions. Source: Leach et al. (2021)\n",
    "    \"CHCl3\": 0.501,\n",
    "    \"CO2\": np.array([1e9, 394.4, 36.54, 4.304]),\n",
    "    \"Halon-1211\": 16,\n",
    "    \"Halon-1301\": 72,\n",
    "    \"Halon-2402\": 28,\n",
    "    \"HCFC-141b\": 9.4,\n",
    "    \"HCFC-142b\": 18,\n",
    "    \"HCFC-22\": 11.9,\n",
    "    \"HFC-125\": 30,\n",
    "    \"HFC-134a\": 14,\n",
    "    \"HFC-143a\": 51,\n",
    "    \"HFC-152a\": 1.6,\n",
    "    \"HFC-227ea\": 36,\n",
    "    \"HFC-23\": 228,\n",
    "    \"HFC-236fa\": 213,\n",
    "    \"HFC-245fa\": 7.9,\n",
    "    \"HFC-32\": 5.4,\n",
    "    \"HFC-365mfc\": 8.9,\n",
    "    \"HFC-4310mee\": 17,\n",
    "    \"N2O\": 123, #109,\n",
    "    \"NF3\": 569,\n",
    "    \"SF6\": 3200,\n",
    "    \"SO2F2\": 36,\n",
    "}\n",
    "\n",
    "MOLWT = {\n",
    "    \"AIR\": 28.97,  # reference?\n",
    "    \"C\": 12.011,\n",
    "    \"C2F6\": 138.01,\n",
    "    \"C3F8\": 188.02,\n",
    "    \"C4F10\": 238.03,\n",
    "    \"C5F12\": 288.03,\n",
    "    \"C6F14\": 338.04,\n",
    "    \"C7F16\": 388.05,\n",
    "    \"C8F18\": 438.06,\n",
    "    \"cC4F8\": 200.03,  # not standard PubChem but used extensively in AR6\n",
    "    \"CCl4\": 153.8,\n",
    "    \"CF4\": 88.004,\n",
    "    \"CFC-113\": 187.37,\n",
    "    \"CFC-114\": 170.92,\n",
    "    \"CFC-115\": 154.46,\n",
    "    \"CFC-11\": 137.36,\n",
    "    \"CFC-12\": 120.91,\n",
    "    \"CH2Cl2\": 84.93,\n",
    "    \"CH3Br\": 94.94,\n",
    "    \"CH3CCl3\": 133.4,\n",
    "    \"CH3Cl\": 50.49,\n",
    "    \"CH4\": 16.043,\n",
    "    \"CHCl3\": 119.37,\n",
    "    \"CO2\": 44.009,\n",
    "    \"Halon-1211\": 165.36,\n",
    "    \"Halon-1301\": 148.91,\n",
    "    \"Halon-2402\": 259.82,\n",
    "    \"HCFC-141b\": 116.95,\n",
    "    \"HCFC-142b\": 100.49,\n",
    "    \"HCFC-22\": 86.47,\n",
    "    \"HFC-125\": 120.02,\n",
    "    \"HFC-134a\": 102.03,\n",
    "    \"HFC-143a\": 84.04,\n",
    "    \"HFC-152a\": 66.05,\n",
    "    \"HFC-227ea\": 170.03,\n",
    "    \"HFC-23\": 70.014,\n",
    "    \"HFC-236fa\": 152.04,\n",
    "    \"HFC-245fa\": 134.05,\n",
    "    \"HFC-32\": 52.023,\n",
    "    \"HFC-365mfc\": 148.07,\n",
    "    \"HFC-4310mee\": 252.05,\n",
    "    \"N\": 14.007,\n",
    "    \"N2\": 28.014,\n",
    "    \"N2O\": 44.013,\n",
    "    \"NF3\": 71.002,\n",
    "    \"NO\": 30.006,\n",
    "    \"NO2\": 46.006,\n",
    "    \"S\": 32.07,\n",
    "    \"SF6\": 146.06,\n",
    "    \"SO2\": 64.069,\n",
    "    \"SO2F2\": 102.06,\n",
    "}\n",
    "\n",
    "iirf_0 = {gas: (lifetime[gas] * (1 - np.exp(-IIRF_HORIZON / lifetime[gas]))) for gas in gas_list}\n",
    "iirf_0['CO2'] = 29\n",
    "\n",
    "iirf_uptake = {gas: 0 for gas in gas_list}\n",
    "iirf_uptake[\"CO2\"] = 0.00846\n",
    "\n",
    "iirf_temperature = {gas: 0 for gas in gas_list}\n",
    "#iirf_temperature = {gas: -iirf_0[gas]*0.015 for gas in gas_list}\n",
    "iirf_temperature[\"CO2\"] = 4.0\n",
    "iirf_temperature[\"CH4\"] = -0.3\n",
    "\n",
    "iirf_airborne = {gas: 0 for gas in gas_list}\n",
    "iirf_airborne[\"CO2\"] = 0.000819\n",
    "iirf_airborne[\"CH4\"] = 0.00032\n",
    "iirf_airborne[\"N2O\"] = -0.0065    # hand tuning to PD and PI lifetimes: Prather et al. 2015\n",
    "\n",
    "concentration_per_emission = {}\n",
    "for gas in gas_list:\n",
    "    concentration_per_emission[gas] = (\n",
    "        1 / (M_ATMOS / 1e18 * MOLWT[gas] / MOLWT[\"AIR\"])\n",
    "    )\n",
    "\n",
    "rcmip_emissions_adjustment = {}\n",
    "for gas in gas_list:\n",
    "    rcmip_emissions_adjustment[gas] = 0\n",
    "rcmip_emissions_adjustment.update(\n",
    "    {\n",
    "        \"CF4\": 0.010071225,\n",
    "        \"CCl4\": 0.024856862,\n",
    "        \"CH2Cl2\": 246.6579,\n",
    "        \"CH3Br\": 105.08773,\n",
    "        \"CH3Cl\": 4275.7449,\n",
    "        \"CHCl3\": 300.92479,\n",
    "        \"Halon-1211\": 0.0077232726,\n",
    "    }\n",
    ")"
   ]
  },
  {
   "cell_type": "code",
   "execution_count": null,
   "id": "8881cf06",
   "metadata": {},
   "outputs": [],
   "source": [
    "iirf_0[\"N2O\"]"
   ]
  },
  {
   "cell_type": "code",
   "execution_count": null,
   "id": "bb29c7a7",
   "metadata": {},
   "outputs": [],
   "source": [
    "lifetime_array = np.ones((1, 1, n_gases, 1, N_GAS_BOXES)) * np.nan\n",
    "partition_fraction_array = np.ones((1, 1, n_gases, 1, N_GAS_BOXES)) * np.nan\n",
    "iirf_0_array = np.ones((1, 1, n_gases, 1, 1)) * np.nan\n",
    "iirf_airborne_array = np.ones((1, 1, n_gases, 1, 1)) * np.nan\n",
    "iirf_temperature_array = np.ones((1, 1, n_gases, 1, 1)) * np.nan\n",
    "iirf_uptake_array = np.ones((1, 1, n_gases, 1, 1)) * np.nan\n",
    "concentration_per_emission_array = np.ones((1, 1, n_gases, 1, 1)) * np.nan\n",
    "rcmip_emissions_adjustment_array = np.ones((1, 1, n_gases, 1, 1)) * np.nan  # could be time dependent\n",
    "\n",
    "baseline_concentration_array = concentration_array[0:1, :, :, :, :]\n",
    "\n",
    "# we would also loop/parallel over config here\n",
    "for igas, gas in enumerate(gas_list):\n",
    "    lifetime_array[0, 0, igas, 0, :] = lifetime[gas]\n",
    "    partition_fraction_array[0, 0, igas, 0, :] = partition_fraction[gas]\n",
    "    iirf_0_array[0, 0, igas, 0, :] = iirf_0[gas]\n",
    "    iirf_airborne_array[0, 0, igas, 0, :] = iirf_airborne[gas]\n",
    "    iirf_temperature_array[0, 0, igas, 0, :] = iirf_temperature[gas]\n",
    "    iirf_uptake_array[0, 0, igas, 0, :] = iirf_uptake[gas]\n",
    "    concentration_per_emission_array[0, 0, igas, 0, 0] = concentration_per_emission[gas]\n",
    "    rcmip_emissions_adjustment_array[0, 0, igas, 0, 0] = rcmip_emissions_adjustment[gas]"
   ]
  },
  {
   "cell_type": "code",
   "execution_count": null,
   "id": "a0cd60af",
   "metadata": {},
   "outputs": [],
   "source": [
    "baseline_concentration_array.shape"
   ]
  },
  {
   "cell_type": "code",
   "execution_count": null,
   "id": "a98a6650",
   "metadata": {},
   "outputs": [],
   "source": [
    "g1 = np.sum(\n",
    "    partition_fraction_array * lifetime_array *\n",
    "    (1 - (1 + IIRF_HORIZON/lifetime_array) *\n",
    "    np.exp(-IIRF_HORIZON/lifetime_array)), axis=4, keepdims=True\n",
    ")\n",
    "\n",
    "g0 = np.exp(\n",
    "    -1 * np.sum(\n",
    "        partition_fraction_array*lifetime_array*(1 - np.exp(-IIRF_HORIZON/lifetime_array)), axis=4, keepdims=True\n",
    "    )/g1\n",
    ")"
   ]
  },
  {
   "cell_type": "code",
   "execution_count": null,
   "id": "89a24303",
   "metadata": {},
   "outputs": [],
   "source": [
    "g1[0,0,21,0,0], g0[0,0,21,0,0]  # looks right for CO2"
   ]
  },
  {
   "cell_type": "code",
   "execution_count": null,
   "id": "c8c9768d",
   "metadata": {},
   "outputs": [],
   "source": [
    "gas_list[21]"
   ]
  },
  {
   "cell_type": "code",
   "execution_count": null,
   "id": "df26bbc3",
   "metadata": {},
   "outputs": [],
   "source": [
    "# we need separate baselines for both the forcing and concentrations at pre-industrial.\n",
    "\n",
    "alpha_lifetime_array = np.ones((n_timesteps, n_scenarios, n_gases, 1, 1)) * np.nan\n",
    "airborne_emissions_array = np.ones((n_timebounds, n_scenarios, n_gases, 1, 1)) * np.nan\n",
    "gas_boxes_array = np.zeros((1, n_scenarios, n_gases, 1, N_GAS_BOXES))  # initial condition for restarts\n",
    "#baseline_cumulative_emissions_array = np.zeros((1, n_scenarios, n_gases, 1, 1))\n",
    "#cumulative_emissions_array = np.ones((n_timebounds, n_scenarios, n_gases, 1, 1)) * np.nan\n",
    "\n",
    "#cumulative_emissions_array[0, ...] = 0\n",
    "cumulative_emissions_array = np.ones((n_timebounds, n_scenarios, n_gases, 1, 1)) * np.nan\n",
    "cumulative_emissions_array[0, ...] = 0  # initial condition: make interface option\n",
    "cumulative_emissions_array[1:, ...] = np.cumsum(emissions_array * timestep, axis=TIME_AXIS)\n",
    "#natural_emissions_adjustment_array = np.ones((n_scenarios, n_gases, 1, 1)) * np.nan\n",
    "\n",
    "airborne_emissions_array[0, ...] = 0  # initial condition: make interface option"
   ]
  },
  {
   "cell_type": "code",
   "execution_count": null,
   "id": "27afb83e",
   "metadata": {},
   "outputs": [],
   "source": [
    "def calculate_alpha(\n",
    "    cumulative_emissions,\n",
    "    airborne_emissions,\n",
    "    temperature,\n",
    "    iirf_0,\n",
    "    iirf_uptake,\n",
    "    iirf_temperature,\n",
    "    iirf_airborne,\n",
    "    g0,\n",
    "    g1,\n",
    "    iirf_max,\n",
    "):\n",
    "\n",
    "    iirf = iirf_0 + iirf_uptake * (cumulative_emissions-airborne_emissions) + iirf_temperature * temperature + iirf_airborne * airborne_emissions\n",
    "    iirf = (iirf>iirf_max) * iirf_max + iirf * (iirf<iirf_max)\n",
    "\n",
    "    # overflow and invalid value errors occur with very large and small values\n",
    "    # in the exponential. This happens with very long lifetime GHGs. Usually\n",
    "    # these GHGs don't have a temperature dependence on IIRF but even if they\n",
    "    # did the lifetimes are so long that it is unlikely to have an effect.\n",
    "    with warnings.catch_warnings():\n",
    "        warnings.simplefilter('ignore')\n",
    "        alpha = g0 * np.exp(iirf / g1)\n",
    "        alpha[np.isnan(alpha)]=1\n",
    "    return alpha"
   ]
  },
  {
   "cell_type": "code",
   "execution_count": null,
   "id": "276db972",
   "metadata": {},
   "outputs": [],
   "source": [
    "def step_concentration(\n",
    "    emissions,\n",
    "    gas_boxes_old,\n",
    "    airborne_emissions_old,\n",
    "    concentration_per_emission,\n",
    "    lifetime,\n",
    "    alpha_lifetime,\n",
    "    partition_fraction,\n",
    "    baseline_concentration,\n",
    "    timestep=1,\n",
    "    natural_emissions_adjustment=0,\n",
    "):\n",
    "\n",
    "#    # this is needed because we set alphas to one and not nan, so non-GHGs\n",
    "#    # cause a warning.\n",
    "#    with warnings.catch_warnings():\n",
    "#        warnings.simplefilter('ignore')\n",
    "    decay_rate = timestep/(alpha_lifetime * lifetime)\n",
    "    decay_factor = np.exp(-decay_rate)\n",
    "    gas_boxes_new = (\n",
    "        partition_fraction *\n",
    "        (emissions-natural_emissions_adjustment) *\n",
    "        1 / decay_rate *\n",
    "        (1 - decay_factor) * timestep + gas_boxes_old * decay_factor\n",
    "    )\n",
    "    airborne_emissions_new = np.sum(gas_boxes_new, axis=GAS_BOX_AXIS, keepdims=True)\n",
    "    concentration_out = baseline_concentration + concentration_per_emission * airborne_emissions_new\n",
    "\n",
    "    return concentration_out, gas_boxes_new, airborne_emissions_new"
   ]
  },
  {
   "cell_type": "code",
   "execution_count": null,
   "id": "60200a76",
   "metadata": {},
   "outputs": [],
   "source": [
    "gas_boxes_array = np.zeros((1, n_scenarios, n_gases, 1, N_GAS_BOXES))  # initial condition for restarts\n",
    "\n",
    "for i_timestep in range(n_timesteps):  # 0 to 751\n",
    "    alpha_lifetime_array[i_timestep, ...] = calculate_alpha(   # this timestep\n",
    "        cumulative_emissions_array[i_timestep, ...],  # last timebound\n",
    "        airborne_emissions_array[i_timestep, ...],  # last timebound\n",
    "        ssp245_temperature_rfmip[i_timestep],  # last timebound\n",
    "        iirf_0_array,\n",
    "        iirf_uptake_array,\n",
    "        iirf_temperature_array,\n",
    "        iirf_airborne_array,\n",
    "        g0,\n",
    "        g1,\n",
    "        IIRF_MAX\n",
    "    )\n",
    "    concentration_array[i_timestep+1, ...], gas_boxes_array, airborne_emissions_array[i_timestep+1, ...] = step_concentration( # next timebound\n",
    "        emissions_array[i_timestep, ...],  # this timestep\n",
    "        gas_boxes_array, # last timebound\n",
    "        airborne_emissions_array[i_timestep, ...],  # last timebound\n",
    "        concentration_per_emission_array,\n",
    "        lifetime_array,\n",
    "        alpha_lifetime_array[i_timestep, ...],\n",
    "        partition_fraction_array,\n",
    "        baseline_concentration_array,\n",
    "        timestep,\n",
    "        rcmip_emissions_adjustment_array,\n",
    "    )"
   ]
  },
  {
   "cell_type": "code",
   "execution_count": null,
   "id": "9ce3ade2",
   "metadata": {},
   "outputs": [],
   "source": [
    "pl.plot(np.arange(1750, 2022), concentration_array[0:272, 0, 21, 0, 0])\n",
    "pl.plot(np.arange(1750.5, 2022), concentration_rcmip['ssp245']['CO2'][:272])"
   ]
  },
  {
   "cell_type": "code",
   "execution_count": null,
   "id": "1f522271",
   "metadata": {},
   "outputs": [],
   "source": [
    "pl.plot(np.arange(1750, 2022), concentration_array[0:272, 0, 39, 0, 0])\n",
    "pl.plot(np.arange(1750.5, 2022), concentration_rcmip['ssp245']['N2O'][:272])"
   ]
  },
  {
   "cell_type": "code",
   "execution_count": null,
   "id": "3123af2d",
   "metadata": {},
   "outputs": [],
   "source": [
    "for iscen, scenario in enumerate(scenarios):\n",
    "    pl.plot(timebounds, concentration_array[:,iscen,21,0,0], label=scenario)\n",
    "pl.legend();"
   ]
  },
  {
   "cell_type": "code",
   "execution_count": null,
   "id": "ce0174bc",
   "metadata": {},
   "outputs": [],
   "source": [
    "concentration = {}\n",
    "\n",
    "for iscen, scenario in enumerate(scenarios):\n",
    "    concentration[scenario] = {}\n",
    "    for igas, gas in enumerate(gas_list):\n",
    "        concentration[scenario][gas] = concentration_array[:, iscen, igas, 0, 0]"
   ]
  },
  {
   "cell_type": "code",
   "execution_count": null,
   "id": "862e21f2",
   "metadata": {},
   "outputs": [],
   "source": [
    "for iscen, scenario in enumerate(scenarios):\n",
    "    fig, ax = pl.subplots(6, 8, figsize=(16,16))\n",
    "    for igas, gas in enumerate(gas_list):\n",
    "        iy = igas % 8\n",
    "        ix = igas // 8\n",
    "        ax[ix, iy].plot(timebounds, concentration[scenario][gas], label='FaIR 2.1', color='k')\n",
    "        ax[ix, iy].plot(timebounds[:-1], concentration_rcmip[scenario][gas], label='History + MAGICC6', color='r')\n",
    "        ax[ix, iy].set_title(gas)\n",
    "    fig.tight_layout()"
   ]
  },
  {
   "cell_type": "code",
   "execution_count": null,
   "id": "e4d39f3f",
   "metadata": {},
   "outputs": [],
   "source": [
    "alpha_lifetime_array[:, 0, 39, 0, 0] * lifetime_array[0, 0, 39, 0, 0]"
   ]
  },
  {
   "cell_type": "code",
   "execution_count": null,
   "id": "669f9b6e",
   "metadata": {},
   "outputs": [],
   "source": [
    "alpha_lifetime_array[258, 0, 39, 0, 0] * lifetime_array[0, 0, 39, 0, 0]  # target 109"
   ]
  },
  {
   "cell_type": "code",
   "execution_count": null,
   "id": "2613d2e5",
   "metadata": {},
   "outputs": [],
   "source": [
    "alpha_lifetime_array[100, 0, 39, 0, 0] * lifetime_array[0, 0, 39, 0, 0]  # target 123"
   ]
  },
  {
   "cell_type": "code",
   "execution_count": null,
   "id": "7b23cbb3",
   "metadata": {},
   "outputs": [],
   "source": [
    "mkdir_p(\"../data/output/\")\n",
    "with open(\"../data/output/rcmip-fair21-concentrations.pkl\",\"wb\") as fileout:\n",
    "    pickle.dump(concentration, fileout)"
   ]
  },
  {
   "cell_type": "code",
   "execution_count": null,
   "id": "25e4dd12",
   "metadata": {},
   "outputs": [],
   "source": []
  }
 ],
 "metadata": {
  "kernelspec": {
   "display_name": "Python 3 (ipykernel)",
   "language": "python",
   "name": "python3"
  },
  "language_info": {
   "codemirror_mode": {
    "name": "ipython",
    "version": 3
   },
   "file_extension": ".py",
   "mimetype": "text/x-python",
   "name": "python",
   "nbconvert_exporter": "python",
   "pygments_lexer": "ipython3",
   "version": "3.7.12"
  }
 },
 "nbformat": 4,
 "nbformat_minor": 5
}
