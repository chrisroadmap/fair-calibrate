{
 "cells": [
  {
   "cell_type": "markdown",
   "id": "93173193",
   "metadata": {},
   "source": [
    "# Aerosol calibration\n",
    "\n",
    "I will first try a relationship of the form\n",
    "\n",
    "$ERF_{aci} = \\sum_{i \\in SLCF} \\beta_i \\log \\left( 1 + \\frac{E_i}{s_i} \\right)$\n",
    "\n",
    "where in each case $\\beta_i$ is a scale factor and $s_i$ is a shape factor.\n",
    "\n",
    "The problem with this is that it doesn't allow for interaction between terms, which we assume exist - shown in Thornhill et al. 2021 that the sum of aerosol ERFaci does not equal the sum of the components."
   ]
  },
  {
   "cell_type": "code",
   "execution_count": null,
   "id": "798e1103",
   "metadata": {},
   "outputs": [],
   "source": [
    "import pandas as pd\n",
    "import numpy as np\n",
    "import matplotlib.pyplot as pl\n",
    "from scipy.interpolate import interp1d"
   ]
  },
  {
   "cell_type": "code",
   "execution_count": null,
   "id": "37a116a9",
   "metadata": {},
   "outputs": [],
   "source": [
    "ssp_df = pd.read_csv('../data/rcmip/rcmip-emissions-annual-means-v5-1-0.csv')\n",
    "years = np.arange(1750,2101)\n",
    "startyear = 1750\n",
    "first_scenyear = 2015\n",
    "last_scenyear = 2100\n",
    "first_row = int(first_scenyear-startyear)\n",
    "last_row = int(last_scenyear-startyear)\n",
    "\n",
    "species = [  # in fair 1.6, order is important\n",
    "    '|Sulfur',\n",
    "    '|NOx',\n",
    "    '|BC',\n",
    "    '|OC',\n",
    "    '|NH3',\n",
    "    '|VOC'\n",
    "]\n",
    "\n",
    "# Assume that units coming out of aneris don't change. One day I'll do unit parsing\n",
    "unit_convert = np.ones(40)\n",
    "unit_convert[0] = 32/64\n",
    "unit_convert[1] = 14/46\n",
    "\n",
    "data_out = {}\n",
    "\n",
    "scens = ['ssp245']\n",
    "for scen in scens:\n",
    "    data_out[scen] = np.ones((351, 7)) * np.nan\n",
    "    data_out[scen][:,0] = years\n",
    "\n",
    "    years_future = [2015] + list(range(2020,2101,10))\n",
    "    for i, specie in enumerate(species):\n",
    "        data_out[scen][:first_row,i+1] = ssp_df.loc[(ssp_df['Model']=='MESSAGE-GLOBIOM')&(ssp_df['Region']=='World')&(ssp_df['Scenario']==scen)&(ssp_df['Variable'].str.endswith(specie)),str(startyear):'2014']*unit_convert[i+1]\n",
    "        f = interp1d(years_future, ssp_df.loc[(ssp_df['Model']=='MESSAGE-GLOBIOM')&(ssp_df['Region']=='World')&(ssp_df['Scenario']==scen)&(ssp_df['Variable'].str.endswith(specie)),'2015':'2100'].dropna(axis=1))\n",
    "        data_out[scen][first_row:(last_row+1), i+1] = f(np.arange(first_scenyear, last_scenyear+1))*unit_convert[i+1]"
   ]
  },
  {
   "cell_type": "code",
   "execution_count": null,
   "id": "b4228305",
   "metadata": {},
   "outputs": [],
   "source": [
    "df = pd.DataFrame(data_out[scen], columns=['year','Sulfur','NOx','BC','OC','NH3','VOC'])"
   ]
  },
  {
   "cell_type": "code",
   "execution_count": null,
   "id": "453d9ede",
   "metadata": {},
   "outputs": [],
   "source": [
    "df.set_index('year', inplace=True)\n",
    "df"
   ]
  },
  {
   "cell_type": "code",
   "execution_count": null,
   "id": "f0ceccd3",
   "metadata": {},
   "outputs": [],
   "source": [
    "def one_plus_log(x, x0, beta, s):\n",
    "    erfaci = -np.sum(beta * np.log(1 + x/s), axis=1) - (-np.sum(beta * np.log(1 + x0/s)))\n",
    "    return erfaci"
   ]
  },
  {
   "cell_type": "code",
   "execution_count": null,
   "id": "92beb76a",
   "metadata": {},
   "outputs": [],
   "source": [
    "ts = one_plus_log(df, df.loc[1750], [190, 0.8, 0.5, 1.3, 0, 0], [50000, 43, 1000, 111, 1, 100])\n",
    "pl.plot(ts)\n",
    "ts[2005:2014].mean(), ts[2019]"
   ]
  },
  {
   "cell_type": "code",
   "execution_count": null,
   "id": "e9acf2aa",
   "metadata": {},
   "outputs": [],
   "source": [
    "ts = one_plus_log(df, df.loc[1750], [2820000, 0, 0, 0, 0, 0], [1e8, 43, 1000, 111, 1, 100])\n",
    "pl.plot(ts)\n",
    "ts[2005:2014].mean(), ts[2019]"
   ]
  },
  {
   "cell_type": "code",
   "execution_count": null,
   "id": "0025f085",
   "metadata": {},
   "outputs": [],
   "source": [
    "ts = one_plus_log(df, df.loc[1750], [0, 0, 0, 1, 0, 0], [1e8, 43, 1000, 111, 1, 100])\n",
    "pl.plot(ts)\n",
    "ts[2005:2014].mean(), ts[2019]"
   ]
  },
  {
   "cell_type": "code",
   "execution_count": null,
   "id": "ebb79cd3",
   "metadata": {},
   "outputs": [],
   "source": [
    "ts = one_plus_log(df, df.loc[1750], [0, 0, 5, 0, 0, 0], [1e8, 43, 1000, 111, 1, 100])\n",
    "pl.plot(ts)\n",
    "ts[2005:2014].mean(), ts[2019]"
   ]
  },
  {
   "cell_type": "code",
   "execution_count": null,
   "id": "9b8fccbb",
   "metadata": {},
   "outputs": [],
   "source": [
    "ts = one_plus_log(df, df.loc[1750], [0, 0.012, 0, 0, 0, 0], [1e8, 43, 1000, 111, 1, 100])\n",
    "pl.plot(ts)\n",
    "ts[2005:2014].mean(), ts[2019]"
   ]
  },
  {
   "cell_type": "code",
   "execution_count": null,
   "id": "a3cc2e97",
   "metadata": {},
   "outputs": [],
   "source": [
    "ts = one_plus_log(df, df.loc[1750], [0, 0, 0, 0, 0, -0.012], [1e8, 43, 1000, 111, 1, 100])\n",
    "pl.plot(ts)\n",
    "ts[2005:2014].mean(), ts[2019]"
   ]
  },
  {
   "cell_type": "code",
   "execution_count": null,
   "id": "805794fc",
   "metadata": {},
   "outputs": [],
   "source": [
    "ts = one_plus_log(df, df.loc[1750], [2820000, 0.012, 5, 1, 0, -0.012], [1e8, 43, 1000, 111, 1, 100])\n",
    "pl.plot(ts)\n",
    "ts[2005:2014].mean(), ts[2019]"
   ]
  },
  {
   "cell_type": "code",
   "execution_count": null,
   "id": "b3a48a9c",
   "metadata": {},
   "outputs": [],
   "source": []
  }
 ],
 "metadata": {
  "kernelspec": {
   "display_name": "Python 3 (ipykernel)",
   "language": "python",
   "name": "python3"
  },
  "language_info": {
   "codemirror_mode": {
    "name": "ipython",
    "version": 3
   },
   "file_extension": ".py",
   "mimetype": "text/x-python",
   "name": "python",
   "nbconvert_exporter": "python",
   "pygments_lexer": "ipython3",
   "version": "3.7.12"
  }
 },
 "nbformat": 4,
 "nbformat_minor": 5
}
