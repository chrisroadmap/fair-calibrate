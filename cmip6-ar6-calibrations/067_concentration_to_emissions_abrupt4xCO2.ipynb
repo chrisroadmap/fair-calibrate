{
 "cells": [
  {
   "cell_type": "code",
   "execution_count": null,
   "id": "62dd6e31",
   "metadata": {},
   "outputs": [],
   "source": [
    "import numpy as np\n",
    "import matplotlib.pyplot as pl\n",
    "import pandas as pd\n",
    "import pickle\n",
    "import warnings"
   ]
  },
  {
   "cell_type": "code",
   "execution_count": null,
   "id": "7722845b",
   "metadata": {},
   "outputs": [],
   "source": [
    "IIRF_HORIZON=100\n",
    "IIRF_MAX = 99.95\n",
    "GAS_BOX_AXIS=4\n",
    "TIME_AXIS=0\n",
    "M_ATMOS = 5.1352e18 # mass of atmosphere, kg"
   ]
  },
  {
   "cell_type": "code",
   "execution_count": null,
   "id": "ebd0684e",
   "metadata": {},
   "outputs": [],
   "source": [
    "scenarios = ['abrupt-4xCO2']\n",
    "n_scenarios = len(scenarios)"
   ]
  },
  {
   "cell_type": "code",
   "execution_count": null,
   "id": "de04386d",
   "metadata": {},
   "outputs": [],
   "source": [
    "timebounds = np.arange(1750, 2501.5, 1)\n",
    "timesteps  = np.arange(1750.5, 2501, 1)\n",
    "timestep   = 1"
   ]
  },
  {
   "cell_type": "code",
   "execution_count": null,
   "id": "1b8fdf09",
   "metadata": {},
   "outputs": [],
   "source": [
    "n_timesteps = len(timesteps)\n",
    "n_timebounds = len(timebounds)"
   ]
  },
  {
   "cell_type": "code",
   "execution_count": null,
   "id": "2e7b1a2c",
   "metadata": {},
   "outputs": [],
   "source": [
    "gas_list = [\"CO2\"]\n",
    "n_gases = len(gas_list)"
   ]
  },
  {
   "cell_type": "code",
   "execution_count": null,
   "id": "654ec083",
   "metadata": {},
   "outputs": [],
   "source": [
    "# grab some concentrations\n",
    "concentration_rcmip = {}\n",
    "df = pd.read_csv('../data/rcmip/rcmip-concentrations-annual-means-v5-1-0.csv')\n",
    "for scenario in scenarios:\n",
    "    concentration_rcmip[scenario] = {}\n",
    "    for gas in gas_list:\n",
    "        gas_rcmip_name = gas.replace(\"-\", \"\")\n",
    "        concentration_rcmip[scenario][gas] = df.loc[\n",
    "            (df['Scenario']==scenario) & (df['Variable'].str.endswith(\"|\"+gas_rcmip_name)) & (df['Region']=='World'), '1750':\n",
    "        ].interpolate(axis=1).values.squeeze()"
   ]
  },
  {
   "cell_type": "code",
   "execution_count": null,
   "id": "0bb70413",
   "metadata": {},
   "outputs": [],
   "source": [
    "concentration_rcmip['abrupt-4xCO2']['CO2'][:100]=concentration_rcmip['abrupt-4xCO2']['CO2'][100]/4\n",
    "concentration_rcmip['abrupt-4xCO2']['CO2'] = np.insert(concentration_rcmip['abrupt-4xCO2']['CO2'], 0, concentration_rcmip['abrupt-4xCO2']['CO2'][0], axis=0)\n",
    "concentration_rcmip['abrupt-4xCO2']['CO2']"
   ]
  },
  {
   "cell_type": "code",
   "execution_count": null,
   "id": "73de424a",
   "metadata": {},
   "outputs": [],
   "source": [
    "concentration_array = concentration_rcmip['abrupt-4xCO2']['CO2'].reshape((752, 1, 1, 1, 1))"
   ]
  },
  {
   "cell_type": "code",
   "execution_count": null,
   "id": "aae42447",
   "metadata": {},
   "outputs": [],
   "source": [
    "N_GAS_BOXES=4\n",
    "\n",
    "partition_fraction = {}\n",
    "partition_fraction[\"CO2\"] = np.array([0.2173, 0.2240, 0.2824, 0.2763])\n",
    "\n",
    "lifetime = {\n",
    "    \"CO2\": np.array([1e9, 394.4, 36.54, 4.304]),\n",
    "}\n",
    "\n",
    "MOLWT = {\n",
    "    \"AIR\": 28.97,  # reference?\n",
    "    \"C\": 12.011,\n",
    "    \"CO2\": 44.009,\n",
    "}\n",
    "\n",
    "iirf_0 = {}\n",
    "iirf_0['CO2'] = 29\n",
    "\n",
    "iirf_uptake = {}\n",
    "iirf_uptake[\"CO2\"] = 0.00846\n",
    "\n",
    "iirf_temperature = {}\n",
    "#iirf_temperature = {gas: -iirf_0[gas]*0.015 for gas in gas_list}\n",
    "iirf_temperature[\"CO2\"] = 4.0\n",
    "\n",
    "iirf_airborne = {}\n",
    "iirf_airborne[\"CO2\"] = 0.000819\n",
    "\n",
    "concentration_per_emission = {}\n",
    "for gas in gas_list:\n",
    "    concentration_per_emission[gas] = (\n",
    "        1 / (M_ATMOS / 1e18 * MOLWT[gas] / MOLWT[\"AIR\"])\n",
    "    )\n",
    "\n",
    "rcmip_emissions_adjustment = {}\n",
    "for gas in gas_list:\n",
    "    rcmip_emissions_adjustment[gas] = 0"
   ]
  },
  {
   "cell_type": "code",
   "execution_count": null,
   "id": "6f851c67",
   "metadata": {},
   "outputs": [],
   "source": [
    "lifetime_array = np.ones((1, 1, n_gases, 1, N_GAS_BOXES)) * np.nan\n",
    "partition_fraction_array = np.ones((1, 1, n_gases, 1, N_GAS_BOXES)) * np.nan\n",
    "iirf_0_array = np.ones((1, 1, n_gases, 1, 1)) * np.nan\n",
    "iirf_airborne_array = np.ones((1, 1, n_gases, 1, 1)) * np.nan\n",
    "iirf_temperature_array = np.ones((1, 1, n_gases, 1, 1)) * np.nan\n",
    "iirf_uptake_array = np.ones((1, 1, n_gases, 1, 1)) * np.nan\n",
    "concentration_per_emission_array = np.ones((1, 1, n_gases, 1, 1)) * np.nan\n",
    "rcmip_emissions_adjustment_array = np.ones((1, 1, n_gases, 1, 1)) * np.nan  # could be time dependent\n",
    "baseline_concentration_array = concentration_array[0:1, :, :, :, :]\n",
    "emissions_array = np.ones((n_timesteps, n_scenarios, n_gases, 1, 1)) * np.nan\n",
    "\n",
    "# we would also loop/parallel over config here\n",
    "for igas, gas in enumerate(gas_list):\n",
    "    lifetime_array[0, 0, igas, 0, :] = lifetime[gas]\n",
    "    partition_fraction_array[0, 0, igas, 0, :] = partition_fraction[gas]\n",
    "    iirf_0_array[0, 0, igas, 0, :] = iirf_0[gas]\n",
    "    iirf_airborne_array[0, 0, igas, 0, :] = iirf_airborne[gas]\n",
    "    iirf_temperature_array[0, 0, igas, 0, :] = iirf_temperature[gas]\n",
    "    iirf_uptake_array[0, 0, igas, 0, :] = iirf_uptake[gas]\n",
    "    concentration_per_emission_array[0, 0, igas, 0, 0] = concentration_per_emission[gas]\n",
    "    rcmip_emissions_adjustment_array[0, 0, igas, 0, 0] = rcmip_emissions_adjustment[gas]"
   ]
  },
  {
   "cell_type": "code",
   "execution_count": null,
   "id": "d006c1ad",
   "metadata": {},
   "outputs": [],
   "source": [
    "g1 = np.sum(\n",
    "    partition_fraction_array * lifetime_array *\n",
    "    (1 - (1 + IIRF_HORIZON/lifetime_array) *\n",
    "    np.exp(-IIRF_HORIZON/lifetime_array)), axis=GAS_BOX_AXIS, keepdims=True\n",
    ")\n",
    "\n",
    "g0 = np.exp(\n",
    "    -1 * np.sum(\n",
    "        partition_fraction_array*lifetime_array*(1 - np.exp(-IIRF_HORIZON/lifetime_array)), axis=4, keepdims=True\n",
    "    )/g1\n",
    ")"
   ]
  },
  {
   "cell_type": "code",
   "execution_count": null,
   "id": "f501bc29",
   "metadata": {},
   "outputs": [],
   "source": [
    "g1[0,0,0,0,0], g0[0,0,0,0,0]"
   ]
  },
  {
   "cell_type": "code",
   "execution_count": null,
   "id": "b2f39e70",
   "metadata": {},
   "outputs": [],
   "source": [
    "alpha_lifetime_array = np.ones((n_timebounds, n_scenarios, n_gases, 1, 1)) * np.nan\n",
    "airborne_emissions_array = np.ones((n_timebounds, n_scenarios, n_gases, 1, 1)) * np.nan\n",
    "gas_boxes_array = np.zeros((1, n_scenarios, n_gases, 1, N_GAS_BOXES))  # initial condition for restarts\n",
    "\n",
    "emissions_array = np.ones((n_timesteps, n_scenarios, n_gases, 1, 1)) * np.nan\n",
    "cumulative_emissions_array = np.ones((n_timebounds, n_scenarios, n_gases, 1, 1)) * np.nan\n",
    "cumulative_emissions_array[0, ...] = 0  # initial condition: make interface option\n",
    "#cumulative_emissions_array[1:, ...] = np.cumsum(emissions_array * timestep, axis=TIME_AXIS)\n",
    "\n",
    "airborne_emissions_array[0, ...] = 0  # initial condition: make interface option"
   ]
  },
  {
   "cell_type": "code",
   "execution_count": null,
   "id": "b275b236",
   "metadata": {},
   "outputs": [],
   "source": [
    "def calculate_alpha(\n",
    "    cumulative_emissions,\n",
    "    airborne_emissions,\n",
    "    temperature,\n",
    "    iirf_0,\n",
    "    iirf_uptake,\n",
    "    iirf_temperature,\n",
    "    iirf_airborne,\n",
    "    g0,\n",
    "    g1,\n",
    "    iirf_max,\n",
    "):\n",
    "\n",
    "    iirf = iirf_0 + iirf_uptake * (cumulative_emissions-airborne_emissions) + iirf_temperature * temperature + iirf_airborne * airborne_emissions\n",
    "    iirf = (iirf>iirf_max) * iirf_max + iirf * (iirf<iirf_max)\n",
    "\n",
    "    # overflow and invalid value errors occur with very large and small values\n",
    "    # in the exponential. This happens with very long lifetime GHGs. Usually\n",
    "    # these GHGs don't have a temperature dependence on IIRF but even if they\n",
    "    # did the lifetimes are so long that it is unlikely to have an effect.\n",
    "    with warnings.catch_warnings():\n",
    "        warnings.simplefilter('ignore')\n",
    "        alpha = g0 * np.exp(iirf / g1)\n",
    "        alpha[np.isnan(alpha)]=1\n",
    "    return alpha"
   ]
  },
  {
   "cell_type": "code",
   "execution_count": null,
   "id": "13e25439",
   "metadata": {},
   "outputs": [],
   "source": [
    "def unstep_concentration(\n",
    "    concentration,\n",
    "    gas_boxes_old,\n",
    "    airborne_emissions_old,\n",
    "    concentration_per_emission,\n",
    "    lifetime,\n",
    "    alpha_lifetime,\n",
    "    partition_fraction,\n",
    "    baseline_concentration,\n",
    "    timestep=1,\n",
    "    natural_emissions_adjustment=0,\n",
    "):\n",
    "\n",
    "    # comments are keeping track of units\n",
    "    decay_rate = timestep/(alpha_lifetime * lifetime)   # [1]\n",
    "    decay_factor = np.exp(-decay_rate)  # [1]\n",
    "\n",
    "    # [kg] = [ppm] - [ppm] / [ppm/kg]\n",
    "    airborne_emissions_new = (concentration-baseline_concentration)/concentration_per_emission\n",
    "\n",
    "    # [kg/yr] = [kg] - [kg]*[1] / ([1] * [1] * [1] * [yr])\n",
    "    emissions = (\n",
    "        (airborne_emissions_new - np.sum(gas_boxes_old*decay_factor, axis=GAS_BOX_AXIS, keepdims=True)) /\n",
    "        (np.sum(\n",
    "            partition_fraction / decay_rate * ( 1. - decay_factor ) * timestep,\n",
    "            axis=GAS_BOX_AXIS, keepdims=True)\n",
    "        )\n",
    "    )\n",
    "\n",
    "    # [kg] = ([yr] * [kg/yr] * [1] / [1] * [1]) + [kg] * [1]\n",
    "    gas_boxes_new = timestep * emissions * partition_fraction * 1/decay_rate * ( 1. - decay_factor ) + gas_boxes_old * decay_factor\n",
    "    emissions_out = emissions + natural_emissions_adjustment\n",
    "\n",
    "    return emissions_out, gas_boxes_new, airborne_emissions_new"
   ]
  },
  {
   "cell_type": "code",
   "execution_count": null,
   "id": "51f771fa",
   "metadata": {},
   "outputs": [],
   "source": [
    "for i_timestep in range(n_timesteps):  # 0 to 751\n",
    "    alpha_lifetime_array[i_timestep, ...] = calculate_alpha(   # this timestep\n",
    "        cumulative_emissions_array[i_timestep, ...],  # last timebound\n",
    "        airborne_emissions_array[i_timestep, ...],  # last timebound\n",
    "        np.zeros((1, 1, 1, 1)),  # last timebound\n",
    "        iirf_0_array,\n",
    "        iirf_uptake_array,\n",
    "        iirf_temperature_array,\n",
    "        iirf_airborne_array,\n",
    "        g0,\n",
    "        g1,\n",
    "        IIRF_MAX\n",
    "    )\n",
    "    \n",
    "    emissions_array[i_timestep, ...], gas_boxes_array, airborne_emissions_array[i_timestep+1, ...] = unstep_concentration( # this timestep \n",
    "        concentration_array[i_timestep+1, :], # next timebound\n",
    "        gas_boxes_array, # last timebound\n",
    "        airborne_emissions_array[i_timestep, ...], # last timebound\n",
    "        concentration_per_emission_array,\n",
    "        lifetime_array,\n",
    "        alpha_lifetime_array[i_timestep, ...], # last timebound\n",
    "        partition_fraction_array,\n",
    "        baseline_concentration_array,\n",
    "        timestep,\n",
    "        rcmip_emissions_adjustment_array,\n",
    "    )\n",
    "    cumulative_emissions_array[i_timestep+1, ...] = cumulative_emissions_array[i_timestep, ...] + emissions_array[i_timestep, ...] * timestep"
   ]
  },
  {
   "cell_type": "code",
   "execution_count": null,
   "id": "eb43605b",
   "metadata": {},
   "outputs": [],
   "source": [
    "pl.plot(np.arange(1750.5, 2501), emissions_array[:, 0, 0, 0, 0])"
   ]
  },
  {
   "cell_type": "code",
   "execution_count": null,
   "id": "2552bf1b",
   "metadata": {},
   "outputs": [],
   "source": [
    "pl.plot(np.arange(1750.5, 2501), emissions_array[:, 0, 0, 0, 0])\n",
    "pl.xlim(1860, 2500)\n",
    "pl.ylim(0, 50)"
   ]
  },
  {
   "cell_type": "code",
   "execution_count": null,
   "id": "de938131",
   "metadata": {},
   "outputs": [],
   "source": [
    "pl.plot(np.arange(1750, 2502), cumulative_emissions_array[:, 0, 0, 0, 0])"
   ]
  },
  {
   "cell_type": "code",
   "execution_count": null,
   "id": "e67731ec",
   "metadata": {},
   "outputs": [],
   "source": []
  }
 ],
 "metadata": {
  "kernelspec": {
   "display_name": "Python 3 (ipykernel)",
   "language": "python",
   "name": "python3"
  },
  "language_info": {
   "codemirror_mode": {
    "name": "ipython",
    "version": 3
   },
   "file_extension": ".py",
   "mimetype": "text/x-python",
   "name": "python",
   "nbconvert_exporter": "python",
   "pygments_lexer": "ipython3",
   "version": "3.7.12"
  }
 },
 "nbformat": 4,
 "nbformat_minor": 5
}
