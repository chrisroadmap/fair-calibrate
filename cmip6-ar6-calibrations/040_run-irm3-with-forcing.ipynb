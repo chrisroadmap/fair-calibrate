{
 "cells": [
  {
   "cell_type": "markdown",
   "id": "7ca42a84",
   "metadata": {},
   "source": [
    "# Run the three-layer IRM\n",
    "\n",
    "This notebook will demonstrate the inclusion of ocean heat uptake.\n",
    "\n",
    "We will use example forcing from RFMIP to demonstrate.\n",
    "\n",
    "Outstanding questions here is the emulated temperature so bad in some models, e.g. IPSL? Lawrence and Hege-Beate also find this, so possibly not a weakness of this particular model."
   ]
  },
  {
   "cell_type": "code",
   "execution_count": null,
   "id": "7c8fba9e",
   "metadata": {},
   "outputs": [],
   "source": [
    "import os\n",
    "\n",
    "import numpy as np\n",
    "import matplotlib.pyplot as pl\n",
    "import pandas as pd\n",
    "import scipy.linalg\n",
    "import scipy.stats\n",
    "from scipy.interpolate import interp1d\n",
    "import json\n",
    "from tqdm import tqdm\n",
    "\n",
    "from fair.earth_params import seconds_per_year, earth_radius\n",
    "from fair.energy_balance_model import EnergyBalanceModel"
   ]
  },
  {
   "cell_type": "code",
   "execution_count": null,
   "id": "71709502",
   "metadata": {},
   "outputs": [],
   "source": [
    "df = pd.read_csv(\n",
    "    os.path.join(\"..\", \"data\", \"calibration\", \"4xCO2_cummins_ebm3.csv\")\n",
    ")"
   ]
  },
  {
   "cell_type": "code",
   "execution_count": null,
   "id": "7c951fa1",
   "metadata": {},
   "outputs": [],
   "source": [
    "models = df['model'].unique()\n",
    "models"
   ]
  },
  {
   "cell_type": "code",
   "execution_count": null,
   "id": "c5e60d2c",
   "metadata": {},
   "outputs": [],
   "source": [
    "params = {}\n",
    "for model in models:\n",
    "    params[model] = {}\n",
    "    for run in df.loc[df['model']==model, 'run']:\n",
    "        condition = (df['model']==model) & (df['run']==run)\n",
    "        params[model][run] = {}\n",
    "        params[model][run]['gamma_autocorrelation'] = df.loc[condition, 'gamma'].values[0]\n",
    "        params[model][run]['ocean_heat_capacity'] = df.loc[condition, 'C1':'C3'].values.squeeze()\n",
    "        params[model][run]['ocean_heat_transfer'] = df.loc[condition, 'kappa1':'kappa3'].values.squeeze()\n",
    "        params[model][run]['deep_ocean_efficacy'] = df.loc[condition, 'epsilon'].values[0]\n",
    "        params[model][run]['sigma_eta'] = df.loc[condition, 'sigma_eta'].values[0]\n",
    "        params[model][run]['sigma_xi'] = df.loc[condition, 'sigma_xi'].values[0]\n",
    "        params[model][run]['forcing_4co2'] = df.loc[condition, 'F_4xCO2'].values[0]"
   ]
  },
  {
   "cell_type": "code",
   "execution_count": null,
   "id": "5170dac0",
   "metadata": {},
   "outputs": [],
   "source": [
    "time = np.arange(1850, 2101)\n",
    "time.shape"
   ]
  },
  {
   "cell_type": "code",
   "execution_count": null,
   "id": "10e2eeb3",
   "metadata": {},
   "outputs": [],
   "source": [
    "df_forcing = pd.read_csv(\n",
    "    os.path.join(\"..\", \"data\", \"forcing\", \"RFMIP-ERF-tier2.csv\")\n",
    ")"
   ]
  },
  {
   "cell_type": "code",
   "execution_count": null,
   "id": "03983341",
   "metadata": {},
   "outputs": [],
   "source": [
    "ebm = EnergyBalanceModel(**params['GISS-E2-1-G']['r1i1p1f1'])"
   ]
  },
  {
   "cell_type": "code",
   "execution_count": null,
   "id": "1b1395d8",
   "metadata": {},
   "outputs": [],
   "source": [
    "ebm.add_forcing(forcing = df_forcing['GISS-E2-1-G TOT'].values, timestep=1)"
   ]
  },
  {
   "cell_type": "code",
   "execution_count": null,
   "id": "13a3a21f",
   "metadata": {},
   "outputs": [],
   "source": [
    "ebm.run()"
   ]
  },
  {
   "cell_type": "code",
   "execution_count": null,
   "id": "d702c0e1",
   "metadata": {},
   "outputs": [],
   "source": [
    "ebm.temperature"
   ]
  },
  {
   "cell_type": "code",
   "execution_count": null,
   "id": "8f86c799",
   "metadata": {},
   "outputs": [],
   "source": [
    "time = np.arange(1850.5, 2101)"
   ]
  },
  {
   "cell_type": "code",
   "execution_count": null,
   "id": "af887d32",
   "metadata": {},
   "outputs": [],
   "source": [
    "pl.plot(time, ebm.temperature[:,0], label='surface / top ocean layer')\n",
    "pl.plot(time, ebm.temperature[:,1], label='second ocean layer')\n",
    "pl.plot(time, ebm.temperature[:,2], label='deep ocean layer')\n",
    "pl.ylabel('K relative to 1850')\n",
    "pl.title('GISS-E2-1-G SSP2-4.5 temperature change')\n",
    "pl.legend()"
   ]
  },
  {
   "cell_type": "code",
   "execution_count": null,
   "id": "f40c7849",
   "metadata": {},
   "outputs": [],
   "source": [
    "pl.plot(time, ebm.ocean_heat_content_change/10**21)\n",
    "pl.ylabel('ZJ relative to 1850')\n",
    "pl.title('GISS-E2-1-G SSP2-4.5 change in OHC')"
   ]
  },
  {
   "cell_type": "code",
   "execution_count": null,
   "id": "0cae155d",
   "metadata": {},
   "outputs": [],
   "source": [
    "# A very, very crude estimate of global thermosteric sea level rise\n",
    "# use Kuhlbrodt & Gregory 2012 multi-model-mean of 0.113 mm / ZJ thermal expansion coefficient\n",
    "\n",
    "pl.plot(time, ebm.ocean_heat_content_change/10**21*0.113)\n",
    "pl.ylabel('mm relative to 1850')\n",
    "pl.title('GISS-E2-1-G SSP2-4.5 thermosteric sea level rise')"
   ]
  },
  {
   "cell_type": "code",
   "execution_count": null,
   "id": "a769aea9",
   "metadata": {},
   "outputs": [],
   "source": [
    "pl.plot(time, ebm.toa_imbalance)\n",
    "pl.ylabel('W m$^{-2}$ relative to 1850')\n",
    "pl.title('GISS-E2-1-G SSP2-4.5 TOA energy imbalance')"
   ]
  },
  {
   "cell_type": "markdown",
   "id": "57299ca1",
   "metadata": {},
   "source": [
    "## Test with non-yearly timestep\n",
    "\n",
    "For this I'll use the IPCC AR6 forcing, but interpolated to monthly and monthly volcanic forcing substituted in.\n",
    "\n",
    "Use Donald Cummins' default parameters for the EBM."
   ]
  },
  {
   "cell_type": "code",
   "execution_count": null,
   "id": "5c7726b5",
   "metadata": {},
   "outputs": [],
   "source": [
    "df_volcanic = pd.read_csv(\n",
    "    os.path.join(\"..\", \"data\", \"forcing\", \"volcanic_sAOD_monthly_175001-201912.csv\"),\n",
    "    index_col=0\n",
    ")\n",
    "df_volcanic"
   ]
  },
  {
   "cell_type": "code",
   "execution_count": null,
   "id": "3e5f777b",
   "metadata": {},
   "outputs": [],
   "source": [
    "# see https://github.com/chrisroadmap/ar6/blob/main/notebooks/040_chapter2_volcanic_erf.ipynb\n",
    "df_volcanic['forcing'] = df_volcanic['stratospheric_AOD'] * (-20) + 0.2582047762183514\n",
    "pl.plot(df_volcanic['forcing'])"
   ]
  },
  {
   "cell_type": "code",
   "execution_count": null,
   "id": "a458b57d",
   "metadata": {},
   "outputs": [],
   "source": [
    "df_solar_anthro = pd.read_csv(\n",
    "    os.path.join(\"..\", \"data\", \"forcing\", \"AR6_ERF_1750-2019_solar_anthro.csv\"),\n",
    "    index_col=0\n",
    ")\n",
    "df_solar_anthro"
   ]
  },
  {
   "cell_type": "code",
   "execution_count": null,
   "id": "45c672d6",
   "metadata": {},
   "outputs": [],
   "source": [
    "f = interp1d(np.arange(1750.5, 2020), df_solar_anthro['solar'], fill_value='extrapolate')\n",
    "solar = f(np.arange(1750+1/24, 2020, 1/12))\n",
    "f = interp1d(np.arange(1750.5, 2020), df_solar_anthro['total_anthropogenic'], fill_value='extrapolate')\n",
    "anthro = f(np.arange(1750+1/24, 2020, 1/12))\n",
    "ar6_forcing_monthly = solar + anthro + df_volcanic['forcing'].values\n",
    "pl.plot(np.arange(1750+1/24, 2020, 1/12), ar6_forcing_monthly)"
   ]
  },
  {
   "cell_type": "code",
   "execution_count": null,
   "id": "59aacbff",
   "metadata": {},
   "outputs": [],
   "source": [
    "# run: heat capacities must be adjusted for new timestep\n",
    "#params_giss_monthly = params['GISS-E2-1-G']['r1i1p1f1']\n",
    "\n",
    "ebm = EnergyBalanceModel(timestep=1/12, **params['GISS-E2-1-G']['r1i1p1f1'])\n",
    "ebm.add_forcing(forcing=ar6_forcing_monthly, timestep=1/12)\n",
    "ebm.run()"
   ]
  },
  {
   "cell_type": "code",
   "execution_count": null,
   "id": "a4a9c532",
   "metadata": {},
   "outputs": [],
   "source": [
    "time=np.arange(1750+1/24, 2020, 1/12)"
   ]
  },
  {
   "cell_type": "code",
   "execution_count": null,
   "id": "10787195",
   "metadata": {},
   "outputs": [],
   "source": [
    "pl.plot(time, ebm.temperature[:,0], label='surface / top ocean layer')\n",
    "pl.plot(time, ebm.temperature[:,1], label='second ocean layer')\n",
    "pl.plot(time, ebm.temperature[:,2], label='deep ocean layer')\n",
    "pl.ylabel('K relative to 1750')\n",
    "pl.title('Forcing-driven historical temperature change')\n",
    "pl.legend()"
   ]
  },
  {
   "cell_type": "code",
   "execution_count": null,
   "id": "ca364458",
   "metadata": {},
   "outputs": [],
   "source": [
    "pl.plot(time, ebm.ocean_heat_content_change/10**21)\n",
    "pl.ylabel('ZJ relative to 1750')\n",
    "pl.title('Forcing-driven change in OHC')"
   ]
  },
  {
   "cell_type": "code",
   "execution_count": null,
   "id": "b025cb7a",
   "metadata": {},
   "outputs": [],
   "source": [
    "# A very, very crude estimate of global thermosteric sea level rise\n",
    "# use Kuhlbrodt & Gregory 2012 multi-model-mean of 0.113 mm / ZJ thermal expansion coefficient\n",
    "\n",
    "pl.plot(time, ebm.ocean_heat_content_change/10**21*0.113)\n",
    "pl.ylabel('mm relative to 1750')\n",
    "pl.title('Forcing-driven thermosteric sea level rise')"
   ]
  },
  {
   "cell_type": "code",
   "execution_count": null,
   "id": "de9a1c50",
   "metadata": {},
   "outputs": [],
   "source": [
    "pl.plot(time, ebm.toa_imbalance)\n",
    "pl.ylabel('W m$^{-2}$ relative to 1850')\n",
    "pl.title('Forcing-driven TOA energy imbalance')"
   ]
  },
  {
   "cell_type": "markdown",
   "id": "8a581cd4",
   "metadata": {},
   "source": [
    "## Run RFMIP with their tuned scenarios"
   ]
  },
  {
   "cell_type": "code",
   "execution_count": null,
   "id": "1fd6a576",
   "metadata": {},
   "outputs": [],
   "source": [
    "results = {}\n",
    "rfmip_forcing = {}\n",
    "models = ['CanESM5', 'CNRM-CM6-1', 'GFDL-CM4', 'GISS-E2-1-G', 'HadGEM3-GC31-LL', 'IPSL-CM6A-LR', 'MIROC6', 'NorESM2-LM']\n",
    "runs = {}\n",
    "for model in models:\n",
    "    runs[model] = 'r1i1p1f1'\n",
    "# exceptions\n",
    "runs['CanESM5'] = 'r1i1p2f1'\n",
    "runs['CNRM-CM6-1'] = 'r1i1p1f2'\n",
    "runs['HadGEM3-GC31-LL'] = 'r1i1p1f3'"
   ]
  },
  {
   "cell_type": "code",
   "execution_count": null,
   "id": "65ea9701",
   "metadata": {},
   "outputs": [],
   "source": [
    "for model in models:\n",
    "    rfmip_forcing[model] = df_forcing['%s TOT' % model].values\n",
    "    ebm = EnergyBalanceModel(**params[model][runs[model]])\n",
    "    ebm.emergent_parameters()\n",
    "    ebm.add_forcing(forcing = rfmip_forcing[model], timestep=1)\n",
    "    ebm.run()\n",
    "    \n",
    "    # TODO: method to easily save out results to an object or dict. Glen Harris's version had a nice Results class for this\n",
    "    results[model] = ebm.__dict__"
   ]
  },
  {
   "cell_type": "code",
   "execution_count": null,
   "id": "8e029d78",
   "metadata": {},
   "outputs": [],
   "source": [
    "# this is what the combined input/output dict looks like\n",
    "results[model]"
   ]
  },
  {
   "cell_type": "code",
   "execution_count": null,
   "id": "ce7eab4b",
   "metadata": {},
   "outputs": [],
   "source": [
    "for model in models:\n",
    "    pl.plot(np.arange(1850, 2101), results[model]['temperature'][:,0], label=model)\n",
    "pl.legend()"
   ]
  },
  {
   "cell_type": "code",
   "execution_count": null,
   "id": "6fe4d30c",
   "metadata": {},
   "outputs": [],
   "source": [
    "for model in models:\n",
    "    print(model, results[model]['ecs'], results[model]['tcr'])"
   ]
  },
  {
   "cell_type": "markdown",
   "id": "c47310b4",
   "metadata": {},
   "source": [
    "### Compare to each model's CMIP6 ScenarioMIP SSP2-4.5"
   ]
  },
  {
   "cell_type": "code",
   "execution_count": null,
   "id": "99310f0a",
   "metadata": {},
   "outputs": [],
   "source": [
    "df = pd.read_csv(os.path.join(\"..\", \"data\", \"cmip6-hbf\", \"ssp245.csv\"))\n",
    "df\n",
    "# I only want certain i, p, f combinations of some models\n",
    "filters = {\n",
    "    'CanESM5': 'i1p2f1',\n",
    "    'CNRM-CM6-1': 'i1p1f2',\n",
    "    'GFDL-CM4': 'i1p1f1',\n",
    "    'GISS-E2-1-G': 'i1p1f2',\n",
    "    'HadGEM3-GC31-LL': 'i1p1f3',\n",
    "    'IPSL-CM6A-LR': 'i1p1f1',\n",
    "    'MIROC6': 'i1p1f1',\n",
    "    'NorESM2-LM': 'i1p1f1',\n",
    "}\n",
    "\n",
    "cmip6 = {}\n",
    "\n",
    "for model in models:\n",
    "    condition = (df['climate_model']==model) & df['member_id'].str.contains(filters[model]) & (df['variable']=='tas')\n",
    "    cmip6[model] = {}\n",
    "    cmip6[model]['tas'] = df.loc[condition].values[:,9:]\n",
    "    condition = (df['climate_model']==model) & df['member_id'].str.contains(filters[model]) & (df['variable']=='rndt')\n",
    "    cmip6[model]['rndt'] = df.loc[condition].values[:,9:]"
   ]
  },
  {
   "cell_type": "code",
   "execution_count": null,
   "id": "cd4a81d2",
   "metadata": {},
   "outputs": [],
   "source": [
    "fig, ax = pl.subplots(2,4, figsize=(16, 9))\n",
    "for i, model in enumerate(models):\n",
    "    ax[i%2,i//2].plot(np.arange(1850, 2101), results[model]['temperature'][:,0], color='k', label='Emulation')\n",
    "    #ax[0,0].fill_between(np.arange(1850, 2101), np.min(cmip6[model]['tas'], axis=0), np.max(cmip6[model]['tas'], axis=0), color='r', alpha=0.3)\n",
    "    ax[i%2,i//2].plot(np.arange(1850, 2101), cmip6[model]['tas'].mean(axis=0), color='r', label='CMIP6 (single-model ensemble mean)')\n",
    "    ax[i%2,i//2].set_title(model)\n",
    "ax[0,0].legend()"
   ]
  },
  {
   "cell_type": "code",
   "execution_count": null,
   "id": "bcb98ec9",
   "metadata": {},
   "outputs": [],
   "source": [
    "# I want to see what an ensemble looks like!\n",
    "# wonder why this takes a long time compared to FaIR... probably not a lot of parallelisation?\n",
    "n_ens = 100\n",
    "\n",
    "ens = {}\n",
    "for im, model in tqdm(enumerate(models)):\n",
    "    ens[model] = {}\n",
    "    for i in tqdm(range(n_ens), leave=True, position=0):\n",
    "        params[model]['seed'] = im*1000+i\n",
    "        ebm = EnergyBalanceModel(stochastic_run=True, **params[model][runs[model]])\n",
    "        ebm.add_forcing(forcing = rfmip_forcing[model], timestep=1)\n",
    "        ebm.run()\n",
    "    \n",
    "        # TODO: method to easily save out results to an object or dict. Glen Harris's version had a nice Results class for this\n",
    "        ens[model][i] = ebm.__dict__"
   ]
  },
  {
   "cell_type": "code",
   "execution_count": null,
   "id": "44d50ed7",
   "metadata": {},
   "outputs": [],
   "source": [
    "fig, ax = pl.subplots(2,4, figsize=(16,9))\n",
    "for im, model in enumerate(models):\n",
    "    for i in range(n_ens):\n",
    "        ax[im//4,im%4].plot(np.arange(1850, 2101), ens[model][i]['temperature'][:,0], color='k', alpha=0.2)\n",
    "    #for run in branch_points['historical'][model]:\n",
    "    ax[im//4,im%4].plot(np.arange(1850, 2101), cmip6[model]['tas'].T, color='r', alpha=0.5)\n",
    "    ax[im//4,im%4].set_xlim(1850,2100)\n",
    "    ax[im//4,im%4].set_ylim(-1,6)\n",
    "    ax[im//4,im%4].grid()\n",
    "    ax[im//4,im%4].set_title(model)"
   ]
  },
  {
   "cell_type": "code",
   "execution_count": null,
   "id": "bf84710d",
   "metadata": {},
   "outputs": [],
   "source": [
    "fig, ax = pl.subplots(2,4, figsize=(16,9))\n",
    "for im, model in enumerate(models):\n",
    "    for i in range(n_ens):\n",
    "        ax[im//4,im%4].plot(np.arange(1850, 2101), ens[model][i]['toa_imbalance'], color='k', alpha=0.2)\n",
    "    ax[im//4,im%4].plot(np.arange(1850, 2101), cmip6[model]['rndt'].T, color='r', alpha=0.5)\n",
    "    ax[im//4,im%4].set_xlim(1850,2100)\n",
    "    ax[im//4,im%4].set_ylim(-2,3)\n",
    "    ax[im//4,im%4].grid()\n",
    "    ax[im//4,im%4].set_title(model)"
   ]
  },
  {
   "cell_type": "code",
   "execution_count": null,
   "id": "d87bb29f",
   "metadata": {},
   "outputs": [],
   "source": [
    "fig, ax = pl.subplots(2,4, figsize=(16,9))\n",
    "for im, model in enumerate(models):\n",
    "    for i in range(n_ens):\n",
    "        ax[im//4,im%4].plot(np.arange(1850, 2101), ens[model][i]['ocean_heat_content_change'], color='k', alpha=0.2)\n",
    "    ax[im//4,im%4].plot(np.arange(1850, 2101), np.cumsum(cmip6[model]['rndt'].T, axis=0) * earth_radius**2 * 4 * np.pi * seconds_per_year, color='r', alpha=0.5)\n",
    "    ax[im//4,im%4].set_xlim(1850,2100)\n",
    "    ax[im//4,im%4].set_ylim(-5e23, 3.5e24)\n",
    "    ax[im//4,im%4].grid()\n",
    "    ax[im//4,im%4].set_title(model)"
   ]
  },
  {
   "cell_type": "code",
   "execution_count": null,
   "id": "6c9bb54f",
   "metadata": {},
   "outputs": [],
   "source": []
  }
 ],
 "metadata": {
  "kernelspec": {
   "display_name": "Python 3 (ipykernel)",
   "language": "python",
   "name": "python3"
  },
  "language_info": {
   "codemirror_mode": {
    "name": "ipython",
    "version": 3
   },
   "file_extension": ".py",
   "mimetype": "text/x-python",
   "name": "python",
   "nbconvert_exporter": "python",
   "pygments_lexer": "ipython3",
   "version": "3.7.12"
  }
 },
 "nbformat": 4,
 "nbformat_minor": 5
}
