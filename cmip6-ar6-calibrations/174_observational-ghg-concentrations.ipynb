{
 "cells": [
  {
   "cell_type": "markdown",
   "id": "da4e3782",
   "metadata": {},
   "source": [
    "# Make concentrations time series\n",
    "\n",
    "- use AR6\n",
    "- interpolate\n",
    "- fill\n",
    "- document!\n",
    "\n",
    "A TODO is to fill in the gases that aren't in the Meinshausen et al. dataset but are in AR6 (a few CFCs and HFCs). Since they are not included in SSP projections, it may be unnecessary for now."
   ]
  },
  {
   "cell_type": "code",
   "execution_count": null,
   "id": "d28a4046",
   "metadata": {},
   "outputs": [],
   "source": [
    "import numpy as np\n",
    "import pandas as pd\n",
    "import pooch"
   ]
  },
  {
   "cell_type": "code",
   "execution_count": null,
   "id": "b5486fba",
   "metadata": {},
   "outputs": [],
   "source": [
    "df_conc = pd.read_csv('../data/ar6_ghg_concentrations/LLGHG_history_AR6_v9_for_archive.csv', skiprows=22, index_col=0)\n",
    "for year in range(1751, 1850):\n",
    "    df_conc.loc[year] = np.nan #.interpolate()\n",
    "df_conc.sort_index(inplace=True)\n",
    "df_conc.index.name = None"
   ]
  },
  {
   "cell_type": "code",
   "execution_count": null,
   "id": "41c5bd83",
   "metadata": {},
   "outputs": [],
   "source": [
    "# Interpolate 1750-1850 years with scaled Meinshausen for CO2, CH4, N2O\n",
    "rcmip_concentration_file = pooch.retrieve(\n",
    "    url=(\n",
    "        \"doi:10.5281/zenodo.4589756/\"\n",
    "        \"rcmip-concentrations-annual-means-v5-1-0.csv\"\n",
    "    ),\n",
    "    known_hash=\"md5:0d82c3c3cdd4dd632b2bb9449a5c315f\",\n",
    ")\n",
    "\n",
    "df_conc_cmip6 = pd.read_csv(rcmip_concentration_file)"
   ]
  },
  {
   "cell_type": "code",
   "execution_count": null,
   "id": "8fc90ac8",
   "metadata": {},
   "outputs": [],
   "source": [
    "for gas in ['CO2', 'CH4', 'N2O']:\n",
    "    cmip6 = df_conc_cmip6.loc[\n",
    "        (df_conc_cmip6['Variable']==f\"Atmospheric Concentrations|{gas}\")&\n",
    "        (df_conc_cmip6['Region']=='World')&\n",
    "        (df_conc_cmip6['Scenario']=='historical'),\n",
    "        '1750':'1850'\n",
    "    ].values.squeeze()\n",
    "    df_conc.loc[1751:1849, gas] = (\n",
    "        (cmip6-cmip6[0]) / \n",
    "        (cmip6[-1]-cmip6[0]) * \n",
    "        (df_conc.loc[1850, gas] - df_conc.loc[1750, gas]) \n",
    "        + df_conc.loc[1750, gas]\n",
    "    )[1:-1]"
   ]
  },
  {
   "cell_type": "code",
   "execution_count": null,
   "id": "4069dd82",
   "metadata": {},
   "outputs": [],
   "source": [
    "# for minor GHGs where 1750 and 1850 are provided and the same, fill in intermediate years\n",
    "df_conc.loc[1751:1849, 'HFC-134a':'n-C6F14'] = df_conc.loc[1750, 'HFC-134a':'n-C6F14'].values\n",
    "df_conc.loc[1751:1849, 'C7F16':'C8F18'] = df_conc.loc[1750, 'C7F16':'C8F18'].values\n",
    "df_conc"
   ]
  },
  {
   "cell_type": "code",
   "execution_count": null,
   "id": "ce2b40de",
   "metadata": {},
   "outputs": [],
   "source": [
    "# drop gases not in Meinshausen dataset\n",
    "df_conc.drop(\n",
    "    columns=[\n",
    "        'i-C6F14', 'CFC-112', 'CFC-112a', 'CFC-113a', 'CFC-114a', 'HCFC-133a', 'HCFC-31', 'HCFC-124'\n",
    "    ], \n",
    "inplace=True)"
   ]
  },
  {
   "cell_type": "code",
   "execution_count": null,
   "id": "8a172f2c",
   "metadata": {},
   "outputs": [],
   "source": [
    "# For gases where concentration time series does not run to 2019, just assume persistence for now.\n",
    "# it's likely not a terrible approximation. Some are rising, some are stable, some are falling, but the rates of change\n",
    "# in most cases aren't big, and the overall contribution to forcing will be tiny.\n",
    "\n",
    "# Note that for the gases not part of CMIP6, there are many missing years of data between 1750 and the first \n",
    "# measurement. When we come to filling these in eventually, linear interpolation would not be suitable here.\n",
    "\n",
    "df_conc = df_conc.interpolate()"
   ]
  },
  {
   "cell_type": "code",
   "execution_count": null,
   "id": "e177ff83",
   "metadata": {},
   "outputs": [],
   "source": [
    "df_conc = df_conc.rename(columns={'n-C4F10': 'C4F10', 'n-C5F12': 'C5F12', 'n-C6F14': 'C6F14'})"
   ]
  },
  {
   "cell_type": "code",
   "execution_count": null,
   "id": "1fcb9caa",
   "metadata": {},
   "outputs": [],
   "source": [
    "df_conc = df_conc.T"
   ]
  },
  {
   "cell_type": "code",
   "execution_count": null,
   "id": "92205057",
   "metadata": {},
   "outputs": [],
   "source": [
    "df_conc.to_csv('../data/ar6_ghg_concentrations/wmghgs_1750-2019.csv')"
   ]
  },
  {
   "cell_type": "code",
   "execution_count": null,
   "id": "65facbe7",
   "metadata": {},
   "outputs": [],
   "source": []
  }
 ],
 "metadata": {
  "kernelspec": {
   "display_name": "Python 3",
   "language": "python",
   "name": "python3"
  },
  "language_info": {
   "codemirror_mode": {
    "name": "ipython",
    "version": 3
   },
   "file_extension": ".py",
   "mimetype": "text/x-python",
   "name": "python",
   "nbconvert_exporter": "python",
   "pygments_lexer": "ipython3",
   "version": "3.10.6"
  }
 },
 "nbformat": 4,
 "nbformat_minor": 5
}
