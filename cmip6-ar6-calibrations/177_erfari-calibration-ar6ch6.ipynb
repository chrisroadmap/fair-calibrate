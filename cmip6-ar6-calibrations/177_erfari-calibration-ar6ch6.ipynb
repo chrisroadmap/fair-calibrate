{
 "cells": [
  {
   "cell_type": "markdown",
   "id": "93173193",
   "metadata": {},
   "source": [
    "# Aerosol calibration\n",
    "\n",
    "Use the AR6 per-species ERFari calibrations, from Chapter 6 Fig. 6.12.\n",
    "\n",
    "For piClim-HC, the marginal contributions to aerosol forcing should possibly be EESC-weighted. But they are so small in the mean that the difference by just using a radiative efficiency adjustment is probably negligible, and this effect is probably not well researched (putting in an EESC dependence will require a code modification that may not be justified). For now we will base on present-day contribution to net forcing."
   ]
  },
  {
   "cell_type": "code",
   "execution_count": null,
   "id": "798e1103",
   "metadata": {},
   "outputs": [],
   "source": [
    "import pandas as pd\n",
    "import numpy as np\n",
    "import matplotlib.pyplot as pl\n",
    "import json\n",
    "import scipy.stats\n",
    "\n",
    "from tqdm import tqdm"
   ]
  },
  {
   "cell_type": "code",
   "execution_count": null,
   "id": "53a3e841",
   "metadata": {},
   "outputs": [],
   "source": [
    "df_emis = pd.read_csv('../data/rcmip/rcmip-emissions-annual-means-v5-1-0.csv')\n",
    "df_conc = pd.read_csv('../data/rcmip/rcmip-concentrations-annual-means-v5-1-0.csv')"
   ]
  },
  {
   "cell_type": "code",
   "execution_count": null,
   "id": "f82b9cd5",
   "metadata": {},
   "outputs": [],
   "source": [
    "emitted_species = [\n",
    "    'Sulfur', 'BC', 'OC', 'NH3', 'NOx', 'VOC', 'CO',\n",
    "]"
   ]
  },
  {
   "cell_type": "code",
   "execution_count": null,
   "id": "6c0ac68a",
   "metadata": {},
   "outputs": [],
   "source": [
    "concentration_species = [\n",
    "    'CH4', 'N2O',\n",
    "    'CFC-11', 'CFC-12', 'CFC-113', 'CFC-114', 'CFC-115',\n",
    "    'HCFC-22', 'HCFC-141b', 'HCFC-142b',\n",
    "    'CCl4', 'CHCl3', 'CH2Cl2', 'CH3Cl', 'CH3CCl3', 'CH3Br',\n",
    "    'Halon-1211', 'Halon-1301', 'Halon-2402',\n",
    "]"
   ]
  },
  {
   "cell_type": "code",
   "execution_count": null,
   "id": "32a4f0cd",
   "metadata": {},
   "outputs": [],
   "source": [
    "species_out = {}\n",
    "for ispec, species in enumerate(emitted_species):\n",
    "    species_rcmip_name = species.replace(\"-\", \"\")\n",
    "    emis_in = df_emis.loc[\n",
    "        (df_emis['Scenario']=='ssp245') & (df_emis['Variable'].str.endswith(\"|\"+species_rcmip_name)) & \n",
    "        (df_emis['Region']=='World'), '1750':'2100'\n",
    "    ].interpolate(axis=1).values.squeeze()\n",
    "    species_out[species] = emis_in\n",
    "    \n",
    "for ispec, species in enumerate(concentration_species):\n",
    "    species_rcmip_name = species.replace(\"-\", \"\")\n",
    "    conc_in = df_conc.loc[\n",
    "        (df_conc['Scenario']=='ssp245') & (df_conc['Variable'].str.endswith(\"|\"+species_rcmip_name)) & \n",
    "        (df_conc['Region']=='World'), '1750':'2100'\n",
    "    ].interpolate(axis=1).values.squeeze()\n",
    "    species_out[species] = conc_in"
   ]
  },
  {
   "cell_type": "code",
   "execution_count": null,
   "id": "db068ff6",
   "metadata": {},
   "outputs": [],
   "source": [
    "species_df = pd.DataFrame(species_out, index=range(1750,2101))\n",
    "species_df"
   ]
  },
  {
   "cell_type": "code",
   "execution_count": null,
   "id": "c846875b",
   "metadata": {},
   "outputs": [],
   "source": [
    "species_df.loc[2019,'CFC-11':]"
   ]
  },
  {
   "cell_type": "code",
   "execution_count": null,
   "id": "0b3e638e",
   "metadata": {},
   "outputs": [],
   "source": [
    "radiative_efficiency = pd.Series({\n",
    "    'CFC-11': 0.25941,\n",
    "    'CFC-12': 0.31998,\n",
    "    'CFC-113': 0.30142,\n",
    "    'CFC-114': 0.31433,\n",
    "    'CFC-115': 0.24625,\n",
    "    'HCFC-22': 0.21385,\n",
    "    'HCFC-141b': 0.16065,\n",
    "    'HCFC-142b': 0.19329,\n",
    "    'CCl4': 0.16616,\n",
    "    'CHCl3': 0.07357,\n",
    "    'CH2Cl2': 0.02882,\n",
    "    'CH3Cl': 0.00466,\n",
    "    'CH3CCl3': 0.06454,\n",
    "    'CH3Br': 0.00432,\n",
    "    'Halon-1211': 0.30014,\n",
    "    'Halon-1301': 0.29943,\n",
    "    'Halon-2402': 0.31169,\n",
    "})"
   ]
  },
  {
   "cell_type": "code",
   "execution_count": null,
   "id": "31b108a6",
   "metadata": {},
   "outputs": [],
   "source": [
    "hc_erf = (species_df.loc[2019,'CFC-11':] * radiative_efficiency/1000)\n",
    "hc_sum = hc_erf.sum()"
   ]
  },
  {
   "cell_type": "code",
   "execution_count": null,
   "id": "2948dbff",
   "metadata": {},
   "outputs": [],
   "source": [
    "erfari_emitted = pd.Series({\n",
    "    'Sulfur': -0.234228,\n",
    "    'BC': 0.144702,\n",
    "    'OC': -0.072143,\n",
    "    'NH3': -0.033769,\n",
    "    'NOx': -0.009166,\n",
    "    'VOC': -0.002573,\n",
    "    'CO': 0,\n",
    "    'CH4': -0.002653,\n",
    "    'N2O': -0.00209,\n",
    "    'CFC-11': -0.00808 * hc_erf['CFC-11']/hc_sum,\n",
    "    'CFC-12': -0.00808 * hc_erf['CFC-12']/hc_sum,\n",
    "    'CFC-113': -0.00808 * hc_erf['CFC-113']/hc_sum,\n",
    "    'CFC-114': -0.00808 * hc_erf['CFC-114']/hc_sum,\n",
    "    'CFC-115': -0.00808 * hc_erf['CFC-115']/hc_sum,\n",
    "    'HCFC-22': -0.00808 * hc_erf['HCFC-22']/hc_sum,\n",
    "    'HCFC-141b': -0.00808 * hc_erf['HCFC-141b']/hc_sum,\n",
    "    'HCFC-142b': -0.00808 * hc_erf['HCFC-142b']/hc_sum,\n",
    "    'CCl4': -0.00808 * hc_erf['CCl4']/hc_sum,\n",
    "    'CHCl3': -0.00808 * hc_erf['CHCl3']/hc_sum,\n",
    "    'CH2Cl2': -0.00808 * hc_erf['CH2Cl2']/hc_sum,\n",
    "    'CH3Cl': -0.00808 * hc_erf['CH3Cl']/hc_sum,\n",
    "    'CH3CCl3': -0.00808 * hc_erf['CH3CCl3']/hc_sum,\n",
    "    'CH3Br': -0.00808 * hc_erf['CH3Br']/hc_sum,\n",
    "    'Halon-1211': -0.00808 * hc_erf['Halon-1211']/hc_sum,\n",
    "    'Halon-1301': -0.00808 * hc_erf['Halon-1301']/hc_sum,\n",
    "    'Halon-2402': -0.00808 * hc_erf['Halon-2402']/hc_sum,\n",
    "})\n",
    "erfari_emitted"
   ]
  },
  {
   "cell_type": "code",
   "execution_count": null,
   "id": "d34662b7",
   "metadata": {},
   "outputs": [],
   "source": [
    "# erfari radiative efficiency per Mt or ppb or ppt\n",
    "re = erfari_emitted / (species_df.loc[2019, :] - species_df.loc[1750, :])"
   ]
  },
  {
   "cell_type": "code",
   "execution_count": null,
   "id": "aa9f2738",
   "metadata": {},
   "outputs": [],
   "source": [
    "re"
   ]
  },
  {
   "cell_type": "code",
   "execution_count": null,
   "id": "fa71fc6c",
   "metadata": {},
   "outputs": [],
   "source": [
    "samples = 1500000"
   ]
  },
  {
   "cell_type": "code",
   "execution_count": null,
   "id": "46f6ef76",
   "metadata": {},
   "outputs": [],
   "source": [
    "scalings = scipy.stats.uniform.rvs(np.minimum(re*2, 0), np.maximum(re*2, 0)-np.minimum(re*2, 0), size=(samples, 26), random_state=3729329)"
   ]
  },
  {
   "cell_type": "code",
   "execution_count": null,
   "id": "4942a275",
   "metadata": {},
   "outputs": [],
   "source": [
    "#pl.hist(scalings[:,1])"
   ]
  },
  {
   "cell_type": "code",
   "execution_count": null,
   "id": "45c201de",
   "metadata": {},
   "outputs": [],
   "source": [
    "erfari = np.zeros((351, samples))\n",
    "\n",
    "for i in tqdm(range(samples)):\n",
    "    erfari[:, i] = ((species_df - species_df.loc[1750])*scalings[i,:]).sum(axis=1)"
   ]
  },
  {
   "cell_type": "code",
   "execution_count": null,
   "id": "d8f9a978",
   "metadata": {},
   "outputs": [],
   "source": [
    "#np.sum(np.isnan(erfari))"
   ]
  },
  {
   "cell_type": "code",
   "execution_count": null,
   "id": "c336fb45",
   "metadata": {},
   "outputs": [],
   "source": [
    "pl.hist(erfari[255:265, :].mean(axis=0))\n",
    "np.percentile(erfari[255:265, :].mean(axis=0), (5,50,95))\n",
    "# # target -0.71 -0.58 ? -0.23 -0.14 for 16-84\n",
    "# np.percentile(erfari[255:265, :].mean(axis=0), (5, 16, 50, 84, 95))"
   ]
  },
  {
   "cell_type": "code",
   "execution_count": null,
   "id": "4b7aa4b1",
   "metadata": {},
   "outputs": [],
   "source": [
    "df = pd.DataFrame(scalings, columns=[\n",
    "        'Sulfur',\n",
    "        'BC',\n",
    "        'OC',\n",
    "        'NH3',\n",
    "        'NOx',\n",
    "        'VOC',\n",
    "        'CO',\n",
    "        'CH4',\n",
    "        'N2O',\n",
    "        'CFC-11',\n",
    "        'CFC-12',\n",
    "        'CFC-113',\n",
    "        'CFC-114',\n",
    "        'CFC-115',\n",
    "        'HCFC-22',\n",
    "        'HCFC-141b',\n",
    "        'HCFC-142b',\n",
    "        'CCl4',\n",
    "        'CHCl3',\n",
    "        'CH2Cl2',\n",
    "        'CH3Cl',\n",
    "        'CH3CCl3',\n",
    "        'CH3Br',\n",
    "        'Halon-1211',\n",
    "        'Halon-1301',\n",
    "        'Halon-2402',\n",
    "    ]\n",
    ")"
   ]
  },
  {
   "cell_type": "code",
   "execution_count": null,
   "id": "62857b36",
   "metadata": {},
   "outputs": [],
   "source": [
    "df"
   ]
  },
  {
   "cell_type": "code",
   "execution_count": null,
   "id": "db8c0fd7",
   "metadata": {},
   "outputs": [],
   "source": [
    "df.to_csv('../data/parameter_sets/erfari.csv', index=False)"
   ]
  },
  {
   "cell_type": "code",
   "execution_count": null,
   "id": "0130450e",
   "metadata": {},
   "outputs": [],
   "source": []
  }
 ],
 "metadata": {
  "kernelspec": {
   "display_name": "Python 3 (ipykernel)",
   "language": "python",
   "name": "python3"
  },
  "language_info": {
   "codemirror_mode": {
    "name": "ipython",
    "version": 3
   },
   "file_extension": ".py",
   "mimetype": "text/x-python",
   "name": "python",
   "nbconvert_exporter": "python",
   "pygments_lexer": "ipython3",
   "version": "3.7.12"
  }
 },
 "nbformat": 4,
 "nbformat_minor": 5
}
