{
 "cells": [
  {
   "cell_type": "markdown",
   "id": "93173193",
   "metadata": {},
   "source": [
    "# Aerosol calibration\n",
    "\n",
    "Use the AR6 per-species ERFari calibrations, from Chapter 6 Fig. 6.12."
   ]
  },
  {
   "cell_type": "code",
   "execution_count": null,
   "id": "798e1103",
   "metadata": {},
   "outputs": [],
   "source": [
    "import pandas as pd\n",
    "import numpy as np\n",
    "import matplotlib.pyplot as pl\n",
    "import json\n",
    "import scipy.stats\n",
    "\n",
    "from tqdm import tqdm"
   ]
  },
  {
   "cell_type": "code",
   "execution_count": null,
   "id": "53a3e841",
   "metadata": {},
   "outputs": [],
   "source": [
    "df_emis = pd.read_csv('../data/rcmip/rcmip-emissions-annual-means-v5-1-0.csv')\n",
    "df_conc = pd.read_csv('../data/rcmip/rcmip-concentrations-annual-means-v5-1-0.csv')"
   ]
  },
  {
   "cell_type": "code",
   "execution_count": null,
   "id": "f82b9cd5",
   "metadata": {},
   "outputs": [],
   "source": [
    "emitted_species = [\n",
    "    'Sulfur', 'BC', 'OC', 'NH3', 'NOx', 'VOC', 'CO',\n",
    "]"
   ]
  },
  {
   "cell_type": "code",
   "execution_count": null,
   "id": "6c0ac68a",
   "metadata": {},
   "outputs": [],
   "source": [
    "concentration_species = [\n",
    "    'CH4', 'N2O',\n",
    "    'HFC-125', 'HFC-134a', 'HFC-143a', 'HFC-152a', 'HFC-227ea', 'HFC-23', 'HFC-236fa', 'HFC-245fa', 'HFC-32',\n",
    "    'HFC-365mfc', 'HFC-4310mee'\n",
    "]"
   ]
  },
  {
   "cell_type": "code",
   "execution_count": null,
   "id": "32a4f0cd",
   "metadata": {},
   "outputs": [],
   "source": [
    "species_out = {}\n",
    "for ispec, species in enumerate(emitted_species):\n",
    "    species_rcmip_name = species.replace(\"-\", \"\")\n",
    "    emis_in = df_emis.loc[\n",
    "        (df_emis['Scenario']=='ssp245') & (df_emis['Variable'].str.endswith(\"|\"+species_rcmip_name)) & \n",
    "        (df_emis['Region']=='World'), '1750':'2100'\n",
    "    ].interpolate(axis=1).values.squeeze()\n",
    "    species_out[species] = emis_in\n",
    "    \n",
    "for ispec, species in enumerate(concentration_species):\n",
    "    species_rcmip_name = species.replace(\"-\", \"\")\n",
    "    conc_in = df_conc.loc[\n",
    "        (df_conc['Scenario']=='ssp245') & (df_conc['Variable'].str.endswith(\"|\"+species_rcmip_name)) & \n",
    "        (df_conc['Region']=='World'), '1750':'2100'\n",
    "    ].interpolate(axis=1).values.squeeze()\n",
    "    species_out[species] = conc_in"
   ]
  },
  {
   "cell_type": "code",
   "execution_count": null,
   "id": "db068ff6",
   "metadata": {},
   "outputs": [],
   "source": [
    "species_df = pd.DataFrame(species_out, index=range(1750,2101))\n",
    "species_df"
   ]
  },
  {
   "cell_type": "code",
   "execution_count": null,
   "id": "c846875b",
   "metadata": {},
   "outputs": [],
   "source": [
    "species_df.loc[2019,'HFC-125':]"
   ]
  },
  {
   "cell_type": "code",
   "execution_count": null,
   "id": "0b3e638e",
   "metadata": {},
   "outputs": [],
   "source": [
    "radiative_efficiency = pd.Series({\n",
    "    'HFC-125': 0.23378,\n",
    "    'HFC-134a': 0.16714,\n",
    "    'HFC-143a': 0.168,\n",
    "    'HFC-152a': 0.10174,\n",
    "    'HFC-227ea': 0.27325,\n",
    "    'HFC-23': 0.19111,\n",
    "    'HFC-236fa': 0.25069,\n",
    "    'HFC-245fa': 0.24498,\n",
    "    'HFC-32': 0.11144,\n",
    "    'HFC-365mfc': 0.22813,\n",
    "    'HFC-4310mee': 0.35731\n",
    "})"
   ]
  },
  {
   "cell_type": "code",
   "execution_count": null,
   "id": "31b108a6",
   "metadata": {},
   "outputs": [],
   "source": [
    "hfc_erf = (species_df.loc[2019,'HFC-125':] * radiative_efficiency/1000)\n",
    "hfc_sum = hfc_erf.sum()"
   ]
  },
  {
   "cell_type": "code",
   "execution_count": null,
   "id": "2948dbff",
   "metadata": {},
   "outputs": [],
   "source": [
    "erfari_emitted = pd.Series({\n",
    "    'Sulfur': -0.234228,\n",
    "    'BC': 0.144702,\n",
    "    'OC': -0.072143,\n",
    "    'NH3': -0.033769,\n",
    "    'NOx': -0.009166,\n",
    "    'VOC': -0.002573,\n",
    "    'CO': 0,\n",
    "    'CH4': -0.002653,\n",
    "    'N2O': -0.00209,\n",
    "    'HFC-125': -0.00808 * hfc_erf['HFC-125']/hfc_sum,\n",
    "    'HFC-134a':-0.00808 * hfc_erf['HFC-134a']/hfc_sum,\n",
    "    'HFC-143a':-0.00808 * hfc_erf['HFC-143a']/hfc_sum,\n",
    "    'HFC-152a':-0.00808 * hfc_erf['HFC-152a']/hfc_sum,\n",
    "    'HFC-227ea':-0.00808 * hfc_erf['HFC-227ea']/hfc_sum,\n",
    "    'HFC-23':-0.00808 * hfc_erf['HFC-23']/hfc_sum,\n",
    "    'HFC-236fa':-0.00808 * hfc_erf['HFC-236fa']/hfc_sum,\n",
    "    'HFC-245fa':-0.00808 * hfc_erf['HFC-245fa']/hfc_sum,\n",
    "    'HFC-32':-0.00808 * hfc_erf['HFC-32']/hfc_sum,\n",
    "    'HFC-365mfc':-0.00808 * hfc_erf['HFC-365mfc']/hfc_sum,\n",
    "    'HFC-4310mee':-0.00808 * hfc_erf['HFC-4310mee']/hfc_sum\n",
    "})\n",
    "erfari_emitted"
   ]
  },
  {
   "cell_type": "code",
   "execution_count": null,
   "id": "d34662b7",
   "metadata": {},
   "outputs": [],
   "source": [
    "# erfari radiative efficiency per Mt or ppb or ppt\n",
    "re = erfari_emitted / (species_df.loc[2019, :] - species_df.loc[1750, :])"
   ]
  },
  {
   "cell_type": "code",
   "execution_count": null,
   "id": "aa9f2738",
   "metadata": {},
   "outputs": [],
   "source": [
    "re"
   ]
  },
  {
   "cell_type": "code",
   "execution_count": null,
   "id": "46f6ef76",
   "metadata": {},
   "outputs": [],
   "source": [
    "scalings = scipy.stats.uniform.rvs(np.minimum(re*2, 0), np.maximum(re*2, 0)-np.minimum(re*2, 0), size=(50000, 20), random_state=3729329)"
   ]
  },
  {
   "cell_type": "code",
   "execution_count": null,
   "id": "fa71fc6c",
   "metadata": {},
   "outputs": [],
   "source": [
    "samples = 50000"
   ]
  },
  {
   "cell_type": "code",
   "execution_count": null,
   "id": "45c201de",
   "metadata": {},
   "outputs": [],
   "source": [
    "erfari = np.zeros((351, samples))\n",
    "\n",
    "for i in tqdm(range(samples)):\n",
    "    erfari[:, i] = ((species_df - species_df.loc[1750])*scalings[i,:]).sum(axis=1)"
   ]
  },
  {
   "cell_type": "code",
   "execution_count": null,
   "id": "8bcc3b86",
   "metadata": {},
   "outputs": [],
   "source": [
    "pl.plot(erfari);\n",
    "#pl.ylim(-4, 0.5);"
   ]
  },
  {
   "cell_type": "code",
   "execution_count": null,
   "id": "d8f9a978",
   "metadata": {},
   "outputs": [],
   "source": [
    "np.sum(np.isnan(erfari))"
   ]
  },
  {
   "cell_type": "code",
   "execution_count": null,
   "id": "c336fb45",
   "metadata": {},
   "outputs": [],
   "source": [
    "pl.hist(erfari[269, :])\n",
    "np.percentile(erfari[269, :].mean(axis=0), (5, 16, 50, 84, 95))"
   ]
  },
  {
   "cell_type": "code",
   "execution_count": null,
   "id": "4b7aa4b1",
   "metadata": {},
   "outputs": [],
   "source": [
    "df = pd.DataFrame(scalings, columns=[\n",
    "        'Sulfur',\n",
    "        'BC',\n",
    "        'OC',\n",
    "        'NH3',\n",
    "        'NOx',\n",
    "        'VOC',\n",
    "        'CO',\n",
    "        'CH4',\n",
    "        'N2O',\n",
    "        'HFC-125',\n",
    "        'HFC-134a',\n",
    "        'HFC-143a',\n",
    "        'HFC-152a',\n",
    "        'HFC-227ea',\n",
    "        'HFC-23',\n",
    "        'HFC-236fa',\n",
    "        'HFC-245fa',\n",
    "        'HFC-32',\n",
    "        'HFC-365mfc',\n",
    "        'HFC-4310mee'\n",
    "    ]\n",
    ")"
   ]
  },
  {
   "cell_type": "code",
   "execution_count": null,
   "id": "62857b36",
   "metadata": {},
   "outputs": [],
   "source": [
    "df"
   ]
  },
  {
   "cell_type": "code",
   "execution_count": null,
   "id": "db8c0fd7",
   "metadata": {},
   "outputs": [],
   "source": [
    "df.to_csv('../data/parameter_sets/erfari.csv', index=False)"
   ]
  },
  {
   "cell_type": "code",
   "execution_count": null,
   "id": "0130450e",
   "metadata": {},
   "outputs": [],
   "source": []
  }
 ],
 "metadata": {
  "kernelspec": {
   "display_name": "Python 3 (ipykernel)",
   "language": "python",
   "name": "python3"
  },
  "language_info": {
   "codemirror_mode": {
    "name": "ipython",
    "version": 3
   },
   "file_extension": ".py",
   "mimetype": "text/x-python",
   "name": "python",
   "nbconvert_exporter": "python",
   "pygments_lexer": "ipython3",
   "version": "3.7.12"
  }
 },
 "nbformat": 4,
 "nbformat_minor": 5
}
