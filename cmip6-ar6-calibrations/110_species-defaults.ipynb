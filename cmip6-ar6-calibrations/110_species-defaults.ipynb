{
 "cells": [
  {
   "cell_type": "code",
   "execution_count": null,
   "id": "30a58b5b",
   "metadata": {},
   "outputs": [],
   "source": [
    "import xarray as xr\n",
    "import numpy as np\n",
    "import pandas as pd\n",
    "\n",
    "from fair21 import FAIR\n",
    "from fair21.interface import fill\n",
    "from fair21.io import read_properties"
   ]
  },
  {
   "cell_type": "code",
   "execution_count": null,
   "id": "5e786b22",
   "metadata": {},
   "outputs": [],
   "source": [
    "f = FAIR()\n",
    "f.define_time(2000, 2050, 1)\n",
    "f.define_scenarios([\"abrupt\", \"ramp\"])\n",
    "f.define_configs([\"high\", \"central\", \"low\"])\n",
    "species = [\n",
    "    'CO2 FFI', 'CO2 AFOLU', \n",
    "    'CO2', 'CH4', 'N2O',\n",
    "    'Sulfur', 'BC', 'OC', 'NH3', 'NOx', 'VOC', 'CO',\n",
    "    'CFC-11', 'CFC-12', 'CFC-113', 'CFC-114', 'CFC-115',\n",
    "    'Solar', 'Volcanic',\n",
    "    'Land use'\n",
    "]"
   ]
  },
  {
   "cell_type": "code",
   "execution_count": null,
   "id": "31be45e5",
   "metadata": {},
   "outputs": [],
   "source": [
    "properties = read_properties(species=species)"
   ]
  },
  {
   "cell_type": "code",
   "execution_count": null,
   "id": "abcd304e",
   "metadata": {},
   "outputs": [],
   "source": [
    "properties['CH4']['input_mode'] = 'concentration'\n",
    "properties['N2O']['input_mode'] = 'concentration'"
   ]
  },
  {
   "cell_type": "code",
   "execution_count": null,
   "id": "71010687",
   "metadata": {},
   "outputs": [],
   "source": [
    "f.define_species(species, properties)"
   ]
  },
  {
   "cell_type": "code",
   "execution_count": null,
   "id": "e3521e6b",
   "metadata": {},
   "outputs": [],
   "source": [
    "f.properties_df"
   ]
  },
  {
   "cell_type": "code",
   "execution_count": null,
   "id": "22741a1a",
   "metadata": {},
   "outputs": [],
   "source": [
    "f.properties"
   ]
  },
  {
   "cell_type": "code",
   "execution_count": null,
   "id": "cc6a26b6",
   "metadata": {},
   "outputs": [],
   "source": [
    "f.run_control(aci_method='Stevens2015')\n",
    "f.allocate()"
   ]
  },
  {
   "cell_type": "code",
   "execution_count": null,
   "id": "2f921534",
   "metadata": {},
   "outputs": [],
   "source": [
    "f.species_configs"
   ]
  },
  {
   "cell_type": "code",
   "execution_count": null,
   "id": "dd99559e",
   "metadata": {},
   "outputs": [],
   "source": [
    "f.fill_species_configs()\n",
    "# #fair.io.read_species_properties_csv('default' or 'filename')\n",
    "\n",
    "# for specie in species:\n",
    "#     fill(f.species_configs['tropospheric_adjustment'], df.loc[specie].tropospheric_adjustment, specie=specie)\n",
    "#     fill(f.species_configs['forcing_efficacy'], df.loc[specie].forcing_efficacy, specie=specie)\n",
    "#     fill(f.species_configs['forcing_temperature_feedback'], df.loc[specie].forcing_temperature_feedback, specie=specie)\n",
    "#     fill(f.species_configs['forcing_scale'], df.loc[specie].forcing_scale, specie=specie)\n",
    "#     for gasbox in range(f._n_gasboxes):\n",
    "#         fill(f.species_configs['partition_fraction'], df.loc[specie,f'partition_fraction{gasbox}'], specie=specie, gasbox=gasbox)\n",
    "#         fill(f.species_configs['unperturbed_lifetime'], df.loc[specie,f'unperturbed_lifetime{gasbox}'], specie=specie, gasbox=gasbox)\n",
    "#     fill(f.species_configs['molecular_weight'], df.loc[specie].molecular_weight, specie=specie)\n",
    "#     fill(f.species_configs['baseline_concentration'], df.loc[specie].baseline_concentration, specie=specie)\n",
    "#     fill(f.species_configs['forcing_scale'], df.loc[specie].forcing_scale, specie=specie)\n",
    "#     fill(f.species_configs['iirf_0'], df.loc[specie].iirf_0, specie=specie)\n",
    "#     fill(f.species_configs['iirf_airborne'], df.loc[specie].iirf_airborne, specie=specie)\n",
    "#     fill(f.species_configs['iirf_uptake'], df.loc[specie].iirf_uptake, specie=specie)\n",
    "#     fill(f.species_configs['iirf_temperature'], df.loc[specie].iirf_temperature, specie=specie)\n",
    "#     fill(f.species_configs['baseline_emissions'], df.loc[specie].baseline_emissions, specie=specie)\n",
    "#     fill(f.species_configs['g0'], df.loc[specie].g0, specie=specie)\n",
    "#     fill(f.species_configs['g1'], df.loc[specie].g1, specie=specie)\n",
    "#     fill(f.species_configs['greenhouse_gas_radiative_efficiency'], df.loc[specie].greenhouse_gas_radiative_efficiency, specie=specie)\n",
    "#     fill(f.species_configs['contrails_radiative_efficiency'], df.loc[specie].contrails_radiative_efficiency, specie=specie)\n",
    "#     fill(f.species_configs['erfari_radiative_efficiency'], df.loc[specie].erfari_radiative_efficiency, specie=specie)\n",
    "#     fill(f.species_configs['h2o_stratospheric_factor'], df.loc[specie].h2o_stratospheric_factor, specie=specie)\n",
    "#     fill(f.species_configs['lapsi_radiative_efficiency'], df.loc[specie].lapsi_radiative_efficiency, specie=specie)\n",
    "#     fill(f.species_configs['land_use_cumulative_emissions_to_forcing'], df.loc[specie].land_use_cumulative_emissions_to_forcing, specie=specie)\n",
    "#     fill(f.species_configs['ozone_radiative_efficiency'], df.loc[specie].ozone_radiative_efficiency, specie=specie)\n",
    "#     fill(f.species_configs['cl_atoms'], df.loc[specie].cl_atoms, specie=specie)\n",
    "#     fill(f.species_configs['br_atoms'], df.loc[specie].br_atoms, specie=specie)\n",
    "#     fill(f.species_configs['fractional_release'], df.loc[specie].fractional_release, specie=specie)\n",
    "# if 'aci' in list(f.properties_df['type']):\n",
    "#     fill(f.species_configs['aci_parameters'], df.loc['Aerosol-cloud interactions'].aci_params_scale, aci_parameter='scale')\n",
    "#     fill(f.species_configs['aci_parameters'], df.loc['Aerosol-cloud interactions'].aci_params_Sulfur, aci_parameter='Sulfur')\n",
    "#     fill(f.species_configs['aci_parameters'], df.loc['Aerosol-cloud interactions'].aci_params_BCOC, aci_parameter='BC+OC')"
   ]
  },
  {
   "cell_type": "code",
   "execution_count": null,
   "id": "3ec9b9d8",
   "metadata": {},
   "outputs": [],
   "source": [
    "f.species_configs"
   ]
  },
  {
   "cell_type": "code",
   "execution_count": null,
   "id": "ee99fef2",
   "metadata": {},
   "outputs": [],
   "source": []
  }
 ],
 "metadata": {
  "kernelspec": {
   "display_name": "Python 3 (ipykernel)",
   "language": "python",
   "name": "python3"
  },
  "language_info": {
   "codemirror_mode": {
    "name": "ipython",
    "version": 3
   },
   "file_extension": ".py",
   "mimetype": "text/x-python",
   "name": "python",
   "nbconvert_exporter": "python",
   "pygments_lexer": "ipython3",
   "version": "3.7.12"
  }
 },
 "nbformat": 4,
 "nbformat_minor": 5
}
