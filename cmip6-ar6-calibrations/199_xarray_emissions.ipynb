{
 "cells": [
  {
   "cell_type": "markdown",
   "id": "894259e9",
   "metadata": {},
   "source": [
    "# Because nobody wants to wait for pandas."
   ]
  },
  {
   "cell_type": "code",
   "execution_count": null,
   "id": "2f0f978b",
   "metadata": {},
   "outputs": [],
   "source": [
    "import numpy as np\n",
    "import scipy.interpolate\n",
    "import xarray as xr\n",
    "\n",
    "from fair import FAIR\n",
    "from fair.interface import initialise, fill\n",
    "from fair.io import read_properties"
   ]
  },
  {
   "cell_type": "code",
   "execution_count": null,
   "id": "1d42d4d2",
   "metadata": {},
   "outputs": [],
   "source": [
    "scenarios = ['ssp119', 'ssp126', 'ssp245', 'ssp370', 'ssp434', 'ssp460', 'ssp534-over', 'ssp585']"
   ]
  },
  {
   "cell_type": "code",
   "execution_count": null,
   "id": "6abd8a4d",
   "metadata": {},
   "outputs": [],
   "source": [
    "species, properties = read_properties()"
   ]
  },
  {
   "cell_type": "code",
   "execution_count": null,
   "id": "717db2d4",
   "metadata": {},
   "outputs": [],
   "source": [
    "f = FAIR(ch4_method='thornhill2021')\n",
    "f.define_time(1750, 2500, 1)\n",
    "f.define_configs(['unspecified'])\n",
    "f.define_scenarios(scenarios)\n",
    "f.define_species(species, properties)"
   ]
  },
  {
   "cell_type": "code",
   "execution_count": null,
   "id": "e6c369f9",
   "metadata": {},
   "outputs": [],
   "source": [
    "f.allocate()\n",
    "f.fill_from_rcmip()"
   ]
  },
  {
   "cell_type": "code",
   "execution_count": null,
   "id": "cd3944ba",
   "metadata": {},
   "outputs": [],
   "source": [
    "f.emissions.loc[dict(specie='CH4')]"
   ]
  },
  {
   "cell_type": "code",
   "execution_count": null,
   "id": "4287ab59",
   "metadata": {},
   "outputs": [],
   "source": [
    "f.emissions.to_netcdf('../data/rcmip/ssp_emissions_fair2.1.nc')"
   ]
  },
  {
   "cell_type": "code",
   "execution_count": null,
   "id": "c92e9ae8",
   "metadata": {},
   "outputs": [],
   "source": [
    "scenarios = ['rcp26', 'rcp45', 'rcp60', 'rcp85']"
   ]
  },
  {
   "cell_type": "code",
   "execution_count": null,
   "id": "b0be7e03",
   "metadata": {},
   "outputs": [],
   "source": [
    "species = [\n",
    "    'CO2 FFI', 'CO2 AFOLU', 'CO2', 'CH4', 'N2O',\n",
    "    'Sulfur', 'BC', 'OC', 'NH3', 'NOx', 'VOC', 'CO',\n",
    "    'CFC-11', 'CFC-12', 'CFC-113', 'CFC-114', 'CFC-115',\n",
    "    'HCFC-22', 'HCFC-141b', 'HCFC-142b',\n",
    "    'CCl4', 'CH3Cl', 'CH3CCl3', 'CH3Br',\n",
    "    'Halon-1211', 'Halon-1202', 'Halon-1301', 'Halon-2402',\n",
    "    'CF4', 'C2F6', 'C6F14',\n",
    "    'SF6',\n",
    "    'HFC-125', 'HFC-134a', 'HFC-143a', 'HFC-227ea', 'HFC-23', 'HFC-245fa', 'HFC-32', \n",
    "    'HFC-4310mee', 'Solar', 'Volcanic', 'Aerosol-radiation interactions',\n",
    "    'Aerosol-cloud interactions', 'Ozone', 'Light absorbing particles on snow and ice',\n",
    "    'Land use', 'Stratospheric water vapour', 'Equivalent effective stratospheric chlorine',\n",
    "    'Contrails'#, 'NOx aviation'\n",
    "]"
   ]
  },
  {
   "cell_type": "code",
   "execution_count": null,
   "id": "a5e857e7",
   "metadata": {},
   "outputs": [],
   "source": [
    "species, properties = read_properties(species=species)"
   ]
  },
  {
   "cell_type": "code",
   "execution_count": null,
   "id": "2b18c655",
   "metadata": {},
   "outputs": [],
   "source": [
    "f = FAIR(ch4_method='thornhill2021')\n",
    "f.define_time(1765, 2500, 1)\n",
    "f.define_configs(['unspecified'])\n",
    "f.define_scenarios(scenarios)\n",
    "f.define_species(species, properties)"
   ]
  },
  {
   "cell_type": "code",
   "execution_count": null,
   "id": "a60482b0",
   "metadata": {},
   "outputs": [],
   "source": [
    "f.allocate()\n",
    "f.fill_from_rcmip()"
   ]
  },
  {
   "cell_type": "code",
   "execution_count": null,
   "id": "7a67c12e",
   "metadata": {},
   "outputs": [],
   "source": [
    "rcp_aviation_years = [1765, 1930, 1940, 1950, 1960, 1970, 1980, 1990, 2000, 2005, 2010, 2020, 2030, 2040, 2050, 2060, 2070, 2080, 2090, 2100]\n",
    "rcp26_aviation_nox_data = [0, 0, 0.088, 0.190, 0.410, 0.889, 1.335, 2.045, 2.793, 3.162, 3.513, 4.156, 3.598, 4.039, 4.108, 2.664, 0.932, 0.343, 0.335, 0.337]\n",
    "rcp45_aviation_nox_data = [0, 0, 0.088, 0.190, 0.410, 0.889, 1.335, 2.045, 2.793, 2.946, 3.111, 3.440, 4.030, 4.615, 5.194, 5.676, 6.123, 6.534, 7.229, 7.923]\n",
    "rcp60_aviation_nox_data = [0, 0, 0.088, 0.190, 0.410, 0.889, 1.335, 2.045, 2.793, 2.955, 3.077, 3.395, 3.892, 4.486, 4.886, 5.042, 4.946, 4.565, 4.258, 3.865]\n",
    "rcp85_aviation_nox_data = [0, 0, 0.088, 0.190, 0.410, 0.889, 1.335, 2.045, 2.793, 3.139, 3.486, 4.185, 4.937, 5.767, 6.543, 7.679, 8.848, 9.910,10.938,11.945]\n",
    "\n",
    "interpolator = scipy.interpolate.interp1d(rcp_aviation_years, rcp26_aviation_nox_data)\n",
    "rcp26_aviation_nox_emissions = np.zeros(735)\n",
    "rcp26_aviation_nox_emissions[:335] = interpolator(np.arange(1765.5, 2100))\n",
    "rcp26_aviation_nox_emissions[335:] = rcp26_aviation_nox_emissions[334]\n",
    "\n",
    "interpolator = scipy.interpolate.interp1d(rcp_aviation_years, rcp45_aviation_nox_data)\n",
    "rcp45_aviation_nox_emissions = np.zeros(735)\n",
    "rcp45_aviation_nox_emissions[:335] = interpolator(np.arange(1765.5, 2100))\n",
    "rcp45_aviation_nox_emissions[335:] = rcp45_aviation_nox_emissions[334]\n",
    "\n",
    "interpolator = scipy.interpolate.interp1d(rcp_aviation_years, rcp60_aviation_nox_data)\n",
    "rcp60_aviation_nox_emissions = np.zeros(735)\n",
    "rcp60_aviation_nox_emissions[:335] = interpolator(np.arange(1765.5, 2100))\n",
    "rcp60_aviation_nox_emissions[335:] = rcp60_aviation_nox_emissions[334]\n",
    "\n",
    "interpolator = scipy.interpolate.interp1d(rcp_aviation_years, rcp85_aviation_nox_data)\n",
    "rcp85_aviation_nox_emissions = np.zeros(735)\n",
    "rcp85_aviation_nox_emissions[:335] = interpolator(np.arange(1765.5, 2100))\n",
    "rcp85_aviation_nox_emissions[335:] = rcp85_aviation_nox_emissions[334]"
   ]
  },
  {
   "cell_type": "code",
   "execution_count": null,
   "id": "1103dfad",
   "metadata": {},
   "outputs": [],
   "source": [
    "fnew = xr.DataArray(\n",
    "    np.ones(\n",
    "        (\n",
    "            f._n_timepoints,\n",
    "            f._n_scenarios,\n",
    "            f._n_configs,\n",
    "            f._n_species + 1,\n",
    "        )\n",
    "    )\n",
    "    * np.nan,\n",
    "    coords=(f.timepoints, f.scenarios, f.configs, species + ['NOx aviation']),\n",
    "    dims=(\"timepoints\", \"scenario\", \"config\", \"specie\"),\n",
    ")\n",
    "fnew[:, :, :, :-1] = f.emissions.data\n",
    "fnew[:, 0, 0, -1] = rcp26_aviation_nox_emissions\n",
    "fnew[:, 1, 0, -1] = rcp45_aviation_nox_emissions\n",
    "fnew[:, 2, 0, -1] = rcp60_aviation_nox_emissions\n",
    "fnew[:, 3, 0, -1] = rcp85_aviation_nox_emissions"
   ]
  },
  {
   "cell_type": "code",
   "execution_count": null,
   "id": "64afdca8",
   "metadata": {},
   "outputs": [],
   "source": [
    "fnew"
   ]
  },
  {
   "cell_type": "code",
   "execution_count": null,
   "id": "dcef24f2",
   "metadata": {},
   "outputs": [],
   "source": [
    "fnew.loc[dict(specie='CH4', scenario='rcp45')]"
   ]
  },
  {
   "cell_type": "code",
   "execution_count": null,
   "id": "ea6e602d",
   "metadata": {},
   "outputs": [],
   "source": [
    "fnew.to_netcdf('../data/rcmip/rcp_emissions_fair2.1.nc')"
   ]
  },
  {
   "cell_type": "code",
   "execution_count": null,
   "id": "5e549db7",
   "metadata": {},
   "outputs": [],
   "source": []
  }
 ],
 "metadata": {
  "kernelspec": {
   "display_name": "Python 3 (ipykernel)",
   "language": "python",
   "name": "python3"
  },
  "language_info": {
   "codemirror_mode": {
    "name": "ipython",
    "version": 3
   },
   "file_extension": ".py",
   "mimetype": "text/x-python",
   "name": "python",
   "nbconvert_exporter": "python",
   "pygments_lexer": "ipython3",
   "version": "3.10.6"
  }
 },
 "nbformat": 4,
 "nbformat_minor": 5
}
