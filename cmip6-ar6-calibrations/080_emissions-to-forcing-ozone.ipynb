{
 "cells": [
  {
   "cell_type": "markdown",
   "id": "7aa3c889",
   "metadata": {},
   "source": [
    "# Emissions to forcing for GHGs + ozone\n",
    "\n",
    "Keep the AR6 treatment in FaIR v1.6.2+ and remove all previous incarnations.\n",
    "\n",
    "We'll calculate the GHG concentrations from emissions first, and then use both to calculate ozone forcing along with the temperature feedback. We will then check the calculated forcing against the AR6 time series, which used a very similar method.\n",
    "\n",
    "Here we are starting to build the final incarnation of the model: we have to handle ERFs from emissions and GHGs."
   ]
  },
  {
   "cell_type": "code",
   "execution_count": null,
   "id": "2d3b561a",
   "metadata": {},
   "outputs": [],
   "source": [
    "import copy\n",
    "import pandas as pd\n",
    "import numpy as np\n",
    "import matplotlib.pyplot as pl\n",
    "import warnings\n",
    "\n",
    "from fair21.forcing.ghg import ghg\n",
    "from fair21.constants import TIME_AXIS, SPECIES_AXIS\n",
    "from fair21.constants.gases import MOLWT, burden_per_emission, lifetime\n",
    "from fair21.defaults import slcf_list, gas_list, montreal_gas_list, minor_gas_list, n_gas_boxes\n",
    "from fair21.defaults.gases import (\n",
    "    partition_fraction,\n",
    "    pre_industrial_concentration,\n",
    "    natural_emissions_adjustment,\n",
    "    iirf_0,\n",
    "    iirf_cumulative,\n",
    "    iirf_temperature,\n",
    "    iirf_airborne,\n",
    "    iirf_horizon,\n",
    "    radiative_efficiency\n",
    ")\n",
    "from fair21.defaults.forcing import tropospheric_adjustment\n",
    "from fair21.defaults.species import pre_industrial_emissions\n",
    "\n",
    "from fair21.gas_cycle import (\n",
    "    calculate_g,\n",
    "    calculate_alpha\n",
    ")\n",
    "from fair21.gas_cycle.forward import step_concentration\n",
    "\n",
    "from fair21.constants.gases import BR_ATOMS, CL_ATOMS\n",
    "from fair21.defaults.ozone import radiative_efficiency as o3_radiative_efficiency, br_cl_ratio, fractional_release\n",
    "from fair21.defaults.forcing import tropospheric_adjustment\n",
    "from fair21.defaults.gases import pre_industrial_concentration\n",
    "from fair21.defaults import gas_list, slcf_list\n",
    "\n",
    "from fair21.forcing.ozone import thornhill_skeie"
   ]
  },
  {
   "cell_type": "code",
   "execution_count": null,
   "id": "454a1d1e",
   "metadata": {},
   "outputs": [],
   "source": [
    "scenarios = ['ssp119', 'ssp126', 'ssp245', 'ssp370', 'ssp434', 'ssp460', 'ssp534-over', 'ssp585']\n",
    "species_list = gas_list + slcf_list\n",
    "species_list.append('O3')\n",
    "species_list"
   ]
  },
  {
   "cell_type": "code",
   "execution_count": null,
   "id": "b884e0b9",
   "metadata": {},
   "outputs": [],
   "source": [
    "# initialise dicts for outputs. These will eventually be moved to the forward model\n",
    "concentration = {}\n",
    "airborne_emissions = {}\n",
    "cumulative_emissions = {}\n",
    "effective_radiative_forcing = {}\n",
    "\n",
    "n_timesteps = 751\n",
    "n_scenarios = len(scenarios)\n",
    "\n",
    "n_configs = 1\n",
    "\n",
    "# kicker for ozone\n",
    "n_species = len(species_list)\n",
    "n_species"
   ]
  },
  {
   "cell_type": "code",
   "execution_count": null,
   "id": "a4205a05",
   "metadata": {},
   "outputs": [],
   "source": [
    "# grab some emissions\n",
    "species_index_mapping = {}\n",
    "emissions_array = np.ones((n_timesteps, n_scenarios, n_configs, n_species, 1)) * np.nan\n",
    "df = pd.read_csv('../data/rcmip/rcmip-emissions-annual-means-v5-1-0.csv')\n",
    "for iscen, scenario in enumerate(scenarios):\n",
    "    for ispec, specie in enumerate(species_list):\n",
    "        species_index_mapping[specie] = ispec\n",
    "        specie_rcmip_name = specie.replace(\"-\", \"\")\n",
    "        try:\n",
    "            emissions_array[:, iscen, 0, ispec, 0] = df.loc[\n",
    "                (df['Scenario']==scenario) & (df['Variable'].str.endswith(\"|\"+specie_rcmip_name)) & (df['Region']=='World'), '1750':\n",
    "            ].interpolate(axis=1).values.squeeze()\n",
    "        except ValueError:\n",
    "            warnings.warn(\"{} was not found in emissions file\".format(specie))\n",
    "    \n",
    "        # CO2 and N2O units need to behave\n",
    "        if specie in ('CO2', 'N2O'):\n",
    "            emissions_array[:, iscen, :, ispec, :] = emissions_array[:, iscen, :, ispec, :] / 1000"
   ]
  },
  {
   "cell_type": "code",
   "execution_count": null,
   "id": "39224c06",
   "metadata": {},
   "outputs": [],
   "source": [
    "species_index_mapping\n",
    "emissions_array[265, 7, 0, :, 0]"
   ]
  },
  {
   "cell_type": "code",
   "execution_count": null,
   "id": "b7ef38ba",
   "metadata": {},
   "outputs": [],
   "source": [
    "# grab indicative temperature projections\n",
    "df = pd.read_csv('../data/rcmip-phase2/rcmip-phase2-fair162-ssp585-mean-temperature.csv')\n",
    "ssp585_temperature_rfmip = df['temperature'].values"
   ]
  },
  {
   "cell_type": "code",
   "execution_count": null,
   "id": "5c09bd67",
   "metadata": {},
   "outputs": [],
   "source": [
    "radiative_efficiency"
   ]
  },
  {
   "cell_type": "code",
   "execution_count": null,
   "id": "6952dc22",
   "metadata": {},
   "outputs": [],
   "source": [
    "# initialise arrays. Using arrays makes things run quicker\n",
    "\n",
    "# old: scen, species, time, box\n",
    "# new: time, scen, config, species, box\n",
    "\n",
    "# where we don't care about keeping outputs we use a singleton dimension to maintain bookkeeping\n",
    "# possible memory saver: differentiate between ensembles where we vary emissions and those where we vary climate parameters\n",
    "\n",
    "n_configs = 1\n",
    "\n",
    "# this scenario definition needs to be part of the initialisation, either from pyam, scmdata or fair emissions files\n",
    "concentration_array = np.ones((n_timesteps, n_scenarios, n_configs, n_species, 1)) * np.nan\n",
    "g0 = np.ones((1, n_scenarios, n_configs, n_species, 1)) * np.nan\n",
    "g1 = np.ones((1, n_scenarios, n_configs, n_species, 1)) * np.nan\n",
    "alpha_lifetime = np.ones((1, n_scenarios, n_configs, n_species, 1))\n",
    "airborne_emissions = np.zeros((1, n_scenarios, n_configs, n_species, 1))\n",
    "gas_boxes = np.zeros((1, n_scenarios, n_configs, n_species, n_gas_boxes))\n",
    "iirf_0_array = np.ones((1, n_scenarios, n_configs, n_species, 1)) * np.nan\n",
    "iirf_cumulative_array = np.ones((1, n_scenarios, n_configs, n_species, 1)) * np.nan\n",
    "iirf_temperature_array = np.ones((1, n_scenarios, n_configs, n_species, 1)) * np.nan\n",
    "iirf_airborne_array = np.ones((1, n_scenarios, n_configs, n_species, 1)) * np.nan\n",
    "burden_per_emission_array = np.ones((1, 1, 1, n_species, 1)) * np.nan\n",
    "lifetime_array = np.ones((1, 1, 1, n_species, n_gas_boxes)) * np.nan\n",
    "pre_industrial_emissions_array = np.ones((1, n_scenarios, 1, n_species, 1)) * np.nan     # scenario axis, config or both?\n",
    "pre_industrial_concentration_array = np.ones((1, n_scenarios, 1, n_species, 1)) * np.nan\n",
    "partition_fraction_array = np.zeros((1, n_scenarios, 1, n_species, n_gas_boxes))\n",
    "natural_emissions_adjustment_array = np.ones((1, n_scenarios, 1, n_species, 1)) * np.nan\n",
    "\n",
    "cumulative_emissions_array = np.cumsum(emissions_array, axis=TIME_AXIS)\n",
    "\n",
    "# this one for the general forcing\n",
    "tropospheric_adjustment_array = np.ones((1, 1, n_configs, n_species, 1)) * np.nan\n",
    "radiative_efficiency_array = np.ones((1, 1, n_configs, n_species, 1)) * np.nan\n",
    "erf = np.ones((n_timesteps, n_scenarios, n_configs, n_species, 1)) * np.nan\n",
    "\n",
    "# ozone\n",
    "fractional_release_array = np.zeros((1, 1, 1, n_species, 1))\n",
    "cl_atoms_array = np.zeros((1, 1, 1, n_species, 1))\n",
    "br_atoms_array = np.zeros((1, 1, 1, n_species, 1))\n",
    "o3_radiative_efficiency_array = np.zeros((1, 1, n_configs, n_species, 1))\n",
    "\n",
    "for ispec, specie in enumerate(species_list):\n",
    "    # options pertaining to SLCFs\n",
    "    if specie in slcf_list:\n",
    "        pre_industrial_emissions_array[..., ispec, :] = pre_industrial_emissions[specie]\n",
    "    \n",
    "    # options pertaining to GHGs\n",
    "    if specie in gas_list:\n",
    "        lifetime_array[..., ispec, :] = lifetime[specie]\n",
    "        partition_fraction_array[..., ispec, :] = partition_fraction[specie]\n",
    "        iirf_0_array[..., ispec, :] = iirf_0[specie]\n",
    "        iirf_cumulative_array[..., ispec, :] = iirf_cumulative[specie]\n",
    "        iirf_temperature_array[..., ispec, :] = iirf_temperature[specie]\n",
    "        iirf_airborne_array[..., ispec, :] = iirf_airborne[specie]\n",
    "        burden_per_emission_array[..., ispec, :] = burden_per_emission[specie]\n",
    "        pre_industrial_concentration_array[..., ispec, :] = pre_industrial_concentration[specie]\n",
    "        partition_fraction_array[..., ispec, :] = partition_fraction[specie]\n",
    "        natural_emissions_adjustment_array[..., ispec, :] = natural_emissions_adjustment[specie]\n",
    "        fractional_release_array[..., ispec, :] = fractional_release[specie]\n",
    "        br_atoms_array[..., ispec, :] = BR_ATOMS[specie]\n",
    "        cl_atoms_array[..., ispec, :] = CL_ATOMS[specie]\n",
    "        \n",
    "    # options pertaining only to minor GHGs\n",
    "    if specie in minor_gas_list:\n",
    "        radiative_efficiency_array[..., ispec, :] = radiative_efficiency[specie]\n",
    "        \n",
    "\n",
    "    # options pertaining to all species\n",
    "    tropospheric_adjustment_array[..., ispec, :] = tropospheric_adjustment[specie]\n",
    "    o3_radiative_efficiency_array[..., ispec, :] = o3_radiative_efficiency[specie]\n",
    "\n",
    "g0, g1 = calculate_g(lifetime_array, partition_fraction_array)"
   ]
  },
  {
   "cell_type": "code",
   "execution_count": null,
   "id": "48d56e2f",
   "metadata": {},
   "outputs": [],
   "source": [
    "o3_radiative_efficiency"
   ]
  },
  {
   "cell_type": "code",
   "execution_count": null,
   "id": "19c9d70c",
   "metadata": {},
   "outputs": [],
   "source": [
    "%%time\n",
    "\n",
    "for i_timestep in range(n_timesteps):\n",
    "    alpha_lifetime = calculate_alpha(\n",
    "        cumulative_emissions_array[[i_timestep], ...],\n",
    "        airborne_emissions[[0], ...],\n",
    "        ssp585_temperature_rfmip[i_timestep],\n",
    "        iirf_0_array,\n",
    "        iirf_cumulative_array,\n",
    "        iirf_temperature_array,\n",
    "        iirf_airborne_array,\n",
    "        g0,\n",
    "        g1,\n",
    "    )\n",
    "    alpha_lifetime[np.isnan(alpha_lifetime)]=1  # CF4 seems to have an issue. Should we raise warning?\n",
    "    concentration_array[[i_timestep], ...], gas_boxes, airborne_emissions = step_concentration(\n",
    "        emissions_array[[i_timestep], ...], \n",
    "        gas_boxes,\n",
    "        airborne_emissions, \n",
    "        burden_per_emission_array,\n",
    "        lifetime_array,\n",
    "        alpha_lifetime=alpha_lifetime,\n",
    "        pre_industrial_concentration=pre_industrial_concentration_array,\n",
    "        timestep=1,\n",
    "        partition_fraction=partition_fraction_array,\n",
    "        natural_emissions_adjustment=natural_emissions_adjustment_array,\n",
    "    )"
   ]
  },
  {
   "cell_type": "code",
   "execution_count": null,
   "id": "e6265ae3",
   "metadata": {},
   "outputs": [],
   "source": [
    "concentration_array[265,6,0,:,0]"
   ]
  },
  {
   "cell_type": "code",
   "execution_count": null,
   "id": "425524ee",
   "metadata": {},
   "outputs": [],
   "source": [
    "%%time\n",
    "# Greenhouse gases\n",
    "erf[..., list(species_index_mapping.values()), :] = ghg(\n",
    "    concentration_array[..., list(species_index_mapping.values()), :],\n",
    "    pre_industrial_concentration_array[..., list(species_index_mapping.values()), :],\n",
    "    tropospheric_adjustment_array[..., list(species_index_mapping.values()), :], \n",
    "    radiative_efficiency_array[..., list(species_index_mapping.values()), :],\n",
    "    species_index_mapping\n",
    ")"
   ]
  },
  {
   "cell_type": "code",
   "execution_count": null,
   "id": "f353dfdf",
   "metadata": {},
   "outputs": [],
   "source": [
    "%%time\n",
    "erf[..., [species_index_mapping[\"O3\"]], :] = thornhill_skeie(\n",
    "    emissions_array,\n",
    "    concentration_array,\n",
    "    pre_industrial_emissions_array,\n",
    "    pre_industrial_concentration_array,\n",
    "    fractional_release_array,\n",
    "    cl_atoms_array,\n",
    "    br_atoms_array,\n",
    "    tropospheric_adjustment_array,\n",
    "    o3_radiative_efficiency_array,\n",
    "    species_index_mapping,\n",
    "    temperature=ssp585_temperature_rfmip[None, :, None, None, None]\n",
    ")"
   ]
  },
  {
   "cell_type": "code",
   "execution_count": null,
   "id": "69f13b1b",
   "metadata": {},
   "outputs": [],
   "source": [
    "ar6_df = pd.read_csv('../data/forcing/table_A3.3_historical_ERF_1750-2019_best_estimate.csv')"
   ]
  },
  {
   "cell_type": "code",
   "execution_count": null,
   "id": "a6f5e4c3",
   "metadata": {},
   "outputs": [],
   "source": [
    "# to double check, ensure we are picking up everything we want from AR6\n",
    "pl.plot(erf[:, :, 0, 50, 0])\n",
    "pl.plot(np.arange(270), ar6_df['o3'], color='k', label='AR6')\n",
    "pl.legend()"
   ]
  },
  {
   "cell_type": "code",
   "execution_count": null,
   "id": "2fd002e1",
   "metadata": {},
   "outputs": [],
   "source": []
  }
 ],
 "metadata": {
  "kernelspec": {
   "display_name": "Python 3 (ipykernel)",
   "language": "python",
   "name": "python3"
  },
  "language_info": {
   "codemirror_mode": {
    "name": "ipython",
    "version": 3
   },
   "file_extension": ".py",
   "mimetype": "text/x-python",
   "name": "python",
   "nbconvert_exporter": "python",
   "pygments_lexer": "ipython3",
   "version": "3.7.12"
  }
 },
 "nbformat": 4,
 "nbformat_minor": 5
}
