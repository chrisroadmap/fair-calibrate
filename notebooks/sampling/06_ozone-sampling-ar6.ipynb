{
 "cells": [
  {
   "cell_type": "markdown",
   "id": "93173193",
   "metadata": {},
   "source": [
    "# Ozone calibration\n",
    "\n",
    "Use the AR6 per-species ozone calibrations, from Chapter 7 of IPCC AR6. These are not generated fresh here."
   ]
  },
  {
   "cell_type": "code",
   "execution_count": null,
   "id": "798e1103",
   "metadata": {},
   "outputs": [],
   "source": [
    "import os\n",
    "import pandas as pd\n",
    "import numpy as np\n",
    "import scipy.stats\n",
    "\n",
    "from dotenv import dotenv_values\n",
    "from fair import __version__"
   ]
  },
  {
   "cell_type": "code",
   "execution_count": null,
   "id": "fa71fc6c",
   "metadata": {},
   "outputs": [],
   "source": [
    "cal_v = dotenv_values(\"../../.env\")[\"CALIBRATION_VERSION\"]\n",
    "samples = int(dotenv_values(\"../../.env\")[\"PRIOR_SAMPLES\"])\n",
    "fair_v = dotenv_values(\"../../.env\")[\"FAIR_VERSION\"]\n",
    "\n",
    "assert fair_v == __version__"
   ]
  },
  {
   "cell_type": "code",
   "execution_count": null,
   "id": "ca1fd870",
   "metadata": {},
   "outputs": [],
   "source": [
    "NINETY_TO_ONESIGMA = scipy.stats.norm.ppf(0.95)"
   ]
  },
  {
   "cell_type": "code",
   "execution_count": null,
   "id": "46f6ef76",
   "metadata": {},
   "outputs": [],
   "source": [
    "scalings = scipy.stats.norm.rvs(\n",
    "    loc=np.array(  [0.000175, 0.000710,-0.000125, 0.000155, 0.000329, 0.001797]), \n",
    "    scale=np.array([0.000062, 0.000471, 0.000113, 0.000131, 0.000328, 0.000983])/NINETY_TO_ONESIGMA, \n",
    "    size=(samples, 6),\n",
    "    random_state=52\n",
    ")"
   ]
  },
  {
   "cell_type": "code",
   "execution_count": null,
   "id": "62857b36",
   "metadata": {},
   "outputs": [],
   "source": [
    "df = pd.DataFrame(scalings, columns=['CH4','N2O','Equivalent effective stratospheric chlorine','CO','VOC','NOx'])"
   ]
  },
  {
   "cell_type": "code",
   "execution_count": null,
   "id": "db8c0fd7",
   "metadata": {},
   "outputs": [],
   "source": [
    "os.makedirs(f'../../output/fair-{fair_v}/v{cal_v}/priors/', exist_ok=True)\n",
    "df.to_csv(f'../../output/fair-{fair_v}/v{cal_v}/priors/ozone.csv', index=False)"
   ]
  },
  {
   "cell_type": "code",
   "execution_count": null,
   "id": "0130450e",
   "metadata": {},
   "outputs": [],
   "source": []
  }
 ],
 "metadata": {
  "kernelspec": {
   "display_name": "Python 3 (ipykernel)",
   "language": "python",
   "name": "python3"
  },
  "language_info": {
   "codemirror_mode": {
    "name": "ipython",
    "version": 3
   },
   "file_extension": ".py",
   "mimetype": "text/x-python",
   "name": "python",
   "nbconvert_exporter": "python",
   "pygments_lexer": "ipython3",
   "version": "3.11.0"
  }
 },
 "nbformat": 4,
 "nbformat_minor": 5
}
