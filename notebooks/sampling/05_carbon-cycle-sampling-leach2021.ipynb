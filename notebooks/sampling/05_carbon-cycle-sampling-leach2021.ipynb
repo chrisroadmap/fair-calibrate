{
 "cells": [
  {
   "cell_type": "markdown",
   "id": "2f776e3d",
   "metadata": {},
   "source": [
    "# Check and run carbon cycle calibrations\n",
    "\n",
    "Carbon cycle tunings for 11 C4MIP models are from FaIR 2.0 paper (Leach et al. 2021), calibrated on CMIP6 1pct runs. Let's see if they give reasonable concentrations in emissions-driven mode."
   ]
  },
  {
   "cell_type": "code",
   "execution_count": null,
   "id": "5bc7b3d6",
   "metadata": {},
   "outputs": [],
   "source": [
    "import os\n",
    "import numpy as np\n",
    "import pandas as pd\n",
    "import scipy.stats\n",
    "import matplotlib.pyplot as pl\n",
    "from cycler import cycler\n",
    "\n",
    "from fair import FAIR\n",
    "from fair.interface import fill, initialise\n",
    "from fair.structure.units import compound_convert\n",
    "\n",
    "from dotenv import dotenv_values\n",
    "from fair import __version__"
   ]
  },
  {
   "cell_type": "code",
   "execution_count": null,
   "id": "2e828bde",
   "metadata": {},
   "outputs": [],
   "source": [
    "compound_convert['CO2']['C']"
   ]
  },
  {
   "cell_type": "code",
   "execution_count": null,
   "id": "cfa475c8",
   "metadata": {},
   "outputs": [],
   "source": [
    "cal_v = dotenv_values(\"../../.env\")[\"CALIBRATION_VERSION\"]\n",
    "samples = int(dotenv_values(\"../../.env\")[\"PRIOR_SAMPLES\"])\n",
    "fair_v = dotenv_values(\"../../.env\")[\"FAIR_VERSION\"]\n",
    "\n",
    "assert fair_v == __version__"
   ]
  },
  {
   "cell_type": "code",
   "execution_count": null,
   "id": "3b877e77",
   "metadata": {},
   "outputs": [],
   "source": [
    "# Source: Leach et al. 2021\n",
    "\n",
    "# NB: rU and rA are in GtC units, we need to convert to GtCO2\n",
    "data = np.array(\n",
    "    [\n",
    "        [36.73854601035055,25.589821019851797,40.704695982343765,38.09182601398885,35.70573492682388,34.26732262345922,32.223599635483424,33.39478016647172,33.33937342916488,40.735872526405046,37.91594456570033],\n",
    "        [0.0349535801301073,0.00597614250950862,0.010664893971021883,0.0005810081769186404,-0.005958784801017192,0.021861410870304354,0.016608701817126814,0.013104461258272693,0.031043773610946346,0.009471296196005063,0.020138272127751655],\n",
    "        [3.036651884848311,5.196160258410032,1.2786398011433562,2.472206604249436,-0.10385375927186047,4.855081881723322,1.0693983052255476,3.4644393974775767,1.499323874009292,1.5631932779473914,2.6714005898495543],\n",
    "        [-0.0006603263192310749,0.004393751681079472,0.004211308668836011,0.009783189726962682,0.018116906645659014,-0.004242277713558451,0.012336113500092338,0.003993779169272571,-0.002570300844565665,0.004887468785878646,0.0018119017134572424]   \n",
    "    ]\n",
    ")\n",
    "data[1,:] = data[1,:] * compound_convert['CO2']['C']\n",
    "data[3,:] = data[3,:] * compound_convert['CO2']['C']"
   ]
  },
  {
   "cell_type": "code",
   "execution_count": null,
   "id": "b820dc3a",
   "metadata": {},
   "outputs": [],
   "source": [
    "models = [\n",
    "    'ACCESS-ESM1-5', 'BCC-CSM2-MR', 'CESM2', 'CNRM-ESM2-1', 'CanESM5', 'GFDL-ESM4', 'IPSL-CM6A-LR', 'MIROC-ES2L',\n",
    "    'MPI-ESM1-2-LR', 'NorESM2-LM', 'UKESM1-0-LL']"
   ]
  },
  {
   "cell_type": "code",
   "execution_count": null,
   "id": "7651fcba",
   "metadata": {},
   "outputs": [],
   "source": [
    "params = pd.DataFrame(data.T, columns=['r0','rU','rT','rA'], index=models)"
   ]
  },
  {
   "cell_type": "code",
   "execution_count": null,
   "id": "90ddf25b",
   "metadata": {},
   "outputs": [],
   "source": [
    "params.mean()"
   ]
  },
  {
   "cell_type": "code",
   "execution_count": null,
   "id": "0cdb4428",
   "metadata": {},
   "outputs": [],
   "source": [
    "params.corr()"
   ]
  },
  {
   "cell_type": "code",
   "execution_count": null,
   "id": "14f7bec0",
   "metadata": {},
   "outputs": [],
   "source": [
    "pd.plotting.scatter_matrix(params);"
   ]
  },
  {
   "cell_type": "code",
   "execution_count": null,
   "id": "80949207",
   "metadata": {},
   "outputs": [],
   "source": [
    "kde = scipy.stats.gaussian_kde(params.T)\n",
    "cc_sample = kde.resample(size=int(samples), seed=2421911)\n",
    "\n",
    "mask = np.all(np.isnan(cc_sample), axis=0)\n",
    "cc_sample = cc_sample[:,~mask]\n",
    "cc_sample_df=pd.DataFrame(\n",
    "    data=cc_sample[:,:samples].T, columns=['r0','rU','rT','rA']\n",
    ")\n",
    "#geoff_sample_df.to_csv('../data_output/geoff_sample.csv', index=False)\n",
    "cc_sample_df"
   ]
  },
  {
   "cell_type": "code",
   "execution_count": null,
   "id": "721c6731",
   "metadata": {},
   "outputs": [],
   "source": [
    "pl.hist(cc_sample_df['r0']);"
   ]
  },
  {
   "cell_type": "code",
   "execution_count": null,
   "id": "8695233a",
   "metadata": {},
   "outputs": [],
   "source": [
    "pl.hist(cc_sample_df['rU']);"
   ]
  },
  {
   "cell_type": "code",
   "execution_count": null,
   "id": "f97dcdde",
   "metadata": {},
   "outputs": [],
   "source": [
    "pl.hist(cc_sample_df['rT']);"
   ]
  },
  {
   "cell_type": "code",
   "execution_count": null,
   "id": "ed567af3",
   "metadata": {},
   "outputs": [],
   "source": [
    "pl.hist(cc_sample_df['rA']);"
   ]
  },
  {
   "cell_type": "markdown",
   "id": "35c347f4",
   "metadata": {},
   "source": [
    "## First thing we'll do is run 11 ESM simulations, CO2 only, default forcing etc.\n",
    "\n",
    "The CO2 concentrations and warming from these simulations will not be perfect because of the absence of other forcers. And the individual model values of CO2 ERF are not taken into account either."
   ]
  },
  {
   "cell_type": "code",
   "execution_count": null,
   "id": "cf577e17",
   "metadata": {},
   "outputs": [],
   "source": [
    "f = FAIR()"
   ]
  },
  {
   "cell_type": "code",
   "execution_count": null,
   "id": "f9602f28",
   "metadata": {},
   "outputs": [],
   "source": [
    "f.define_time(1750, 2500, 1)\n",
    "f.define_scenarios(['ssp119', 'ssp245', 'ssp585'])\n",
    "f.define_configs(models)"
   ]
  },
  {
   "cell_type": "code",
   "execution_count": null,
   "id": "40e520a5",
   "metadata": {},
   "outputs": [],
   "source": [
    "species = ['CO2', 'CH4', 'N2O']\n",
    "\n",
    "properties = {\n",
    "    'CO2': {\n",
    "        'type': 'co2',\n",
    "        'input_mode': 'emissions',\n",
    "        'greenhouse_gas': True,\n",
    "        'aerosol_chemistry_from_emissions': False,\n",
    "        'aerosol_chemistry_from_concentration': False,\n",
    "    },\n",
    "    'CH4': {\n",
    "        'type': 'ch4',\n",
    "        'input_mode': 'concentration',\n",
    "        'greenhouse_gas': True,\n",
    "        'aerosol_chemistry_from_emissions': False,\n",
    "        'aerosol_chemistry_from_concentration': False,\n",
    "    },\n",
    "    'N2O': {\n",
    "        'type': 'n2o',\n",
    "        'input_mode': 'concentration',\n",
    "        'greenhouse_gas': True,\n",
    "        'aerosol_chemistry_from_emissions': False,\n",
    "        'aerosol_chemistry_from_concentration': False,\n",
    "    },\n",
    "}\n",
    "\n",
    "f.define_species(species, properties)"
   ]
  },
  {
   "cell_type": "code",
   "execution_count": null,
   "id": "150c54db",
   "metadata": {},
   "outputs": [],
   "source": [
    "f.allocate()"
   ]
  },
  {
   "cell_type": "code",
   "execution_count": null,
   "id": "9f74dd61",
   "metadata": {},
   "outputs": [],
   "source": [
    "f.fill_species_configs()"
   ]
  },
  {
   "cell_type": "code",
   "execution_count": null,
   "id": "b2da7270",
   "metadata": {},
   "outputs": [],
   "source": [
    "f.fill_from_rcmip()"
   ]
  },
  {
   "cell_type": "code",
   "execution_count": null,
   "id": "9de4b2dc",
   "metadata": {},
   "outputs": [],
   "source": [
    "fill(f.concentration, 729.2, specie='CH4')\n",
    "fill(f.concentration, 270.1, specie='N2O')"
   ]
  },
  {
   "cell_type": "code",
   "execution_count": null,
   "id": "1e5f771b",
   "metadata": {},
   "outputs": [],
   "source": [
    "for model in models:\n",
    "    fill(f.species_configs['iirf_0'], params.loc[model, 'r0'], specie='CO2', config=model)\n",
    "    fill(f.species_configs['iirf_uptake'], params.loc[model, 'rU'], specie='CO2', config=model)\n",
    "    fill(f.species_configs['iirf_airborne'], params.loc[model, 'rA'], specie='CO2', config=model)\n",
    "    fill(f.species_configs['iirf_temperature'], params.loc[model, 'rT'], specie='CO2', config=model)"
   ]
  },
  {
   "cell_type": "code",
   "execution_count": null,
   "id": "49c812a0",
   "metadata": {},
   "outputs": [],
   "source": [
    "df = pd.read_csv(f\"../../output/fair-{fair_v}/v{cal_v}/calibrations/4xCO2_cummins_ebm3_cmip6.csv\")\n",
    "models_runs = {\n",
    "    'ACCESS-ESM1-5': 'r1i1p1f1',\n",
    "    'BCC-CSM2-MR': 'r1i1p1f1',\n",
    "    'CESM2': 'r1i1p1f1',\n",
    "    'CNRM-ESM2-1': 'r1i1p1f2',\n",
    "    'CanESM5': 'r1i1p2f1', \n",
    "    'GFDL-ESM4': 'r1i1p1f1',\n",
    "    'IPSL-CM6A-LR': 'r1i1p1f1',\n",
    "    'MIROC-ES2L': 'r1i1p1f2',\n",
    "    'MPI-ESM1-2-LR': 'r1i1p1f1',\n",
    "    'NorESM2-LM': 'r1i1p1f1',\n",
    "    'UKESM1-0-LL': 'r1i1p1f2',\n",
    "}\n",
    "\n",
    "fill(f.climate_configs['stochastic_run'], False)\n",
    "\n",
    "for imod, model in enumerate(models_runs):\n",
    "    run = models_runs[model]\n",
    "    condition = (df['model']==model) & (df['run']==run)\n",
    "    fill(f.climate_configs['ocean_heat_capacity'], df.loc[condition, 'C1':'C3'].values.squeeze(), config=model)\n",
    "    fill(f.climate_configs['ocean_heat_transfer'], df.loc[condition, 'kappa1':'kappa3'].values.squeeze())\n",
    "    fill(f.climate_configs['deep_ocean_efficacy'], df.loc[condition, 'epsilon'].values[0])\n",
    "    fill(f.climate_configs['gamma_autocorrelation'], df.loc[condition, 'gamma'].values[0])"
   ]
  },
  {
   "cell_type": "code",
   "execution_count": null,
   "id": "84348a74",
   "metadata": {},
   "outputs": [],
   "source": [
    "initialise(f.concentration, f.species_configs['baseline_concentration'])\n",
    "initialise(f.forcing, 0)\n",
    "initialise(f.temperature, 0)\n",
    "initialise(f.cumulative_emissions, 0)\n",
    "initialise(f.airborne_emissions, 0)"
   ]
  },
  {
   "cell_type": "code",
   "execution_count": null,
   "id": "ffaa7ea7",
   "metadata": {},
   "outputs": [],
   "source": [
    "f.run()"
   ]
  },
  {
   "cell_type": "code",
   "execution_count": null,
   "id": "815489ee",
   "metadata": {},
   "outputs": [],
   "source": [
    "f.temperature.shape"
   ]
  },
  {
   "cell_type": "code",
   "execution_count": null,
   "id": "0186380e",
   "metadata": {},
   "outputs": [],
   "source": [
    "custom_cycler = (\n",
    "    cycler(color=['red','darkorange','yellow','yellowgreen','green','turquoise','teal','blue','blueviolet','purple','pink'])\n",
    ")"
   ]
  },
  {
   "cell_type": "code",
   "execution_count": null,
   "id": "51461273",
   "metadata": {},
   "outputs": [],
   "source": [
    "# these don't seem to agree with the esm-hist runs I did in another repo. v2 should be a recalibration.\n",
    "fig, ax = pl.subplots()\n",
    "ax.set_prop_cycle(custom_cycler)\n",
    "ax.plot(f.timebounds, f.concentration.loc[dict(specie='CO2', scenario='ssp585')], label=models);\n",
    "\n",
    "pl.legend()"
   ]
  },
  {
   "cell_type": "code",
   "execution_count": null,
   "id": "1501bf6c",
   "metadata": {},
   "outputs": [],
   "source": [
    "fig, ax = pl.subplots()\n",
    "ax.set_prop_cycle(custom_cycler)\n",
    "ax.plot(f.timebounds, f.temperature.loc[dict(layer=0, scenario='ssp585')], label=models);\n",
    "pl.legend()"
   ]
  },
  {
   "cell_type": "code",
   "execution_count": null,
   "id": "d252e605",
   "metadata": {},
   "outputs": [],
   "source": [
    "fig, ax = pl.subplots()\n",
    "ax.set_prop_cycle(custom_cycler)\n",
    "pl.plot(f.timebounds, f.airborne_fraction.loc[dict(specie='CO2', scenario='ssp585')], label=models);\n",
    "pl.legend()"
   ]
  },
  {
   "cell_type": "code",
   "execution_count": null,
   "id": "43627835",
   "metadata": {},
   "outputs": [],
   "source": [
    "fig, ax = pl.subplots()\n",
    "ax.set_prop_cycle(custom_cycler)\n",
    "ax.plot(f.timebounds, f.concentration.loc[dict(specie='CO2', scenario='ssp245')], label=models);\n",
    "\n",
    "pl.legend()"
   ]
  },
  {
   "cell_type": "code",
   "execution_count": null,
   "id": "70d76901",
   "metadata": {},
   "outputs": [],
   "source": [
    "fig, ax = pl.subplots()\n",
    "ax.set_prop_cycle(custom_cycler)\n",
    "ax.plot(f.timebounds, f.temperature.loc[dict(layer=0, scenario='ssp245')], label=models);\n",
    "pl.legend()"
   ]
  },
  {
   "cell_type": "code",
   "execution_count": null,
   "id": "a13adf83",
   "metadata": {},
   "outputs": [],
   "source": [
    "fig, ax = pl.subplots()\n",
    "ax.set_prop_cycle(custom_cycler)\n",
    "pl.plot(f.timebounds, f.airborne_fraction.loc[dict(specie='CO2', scenario='ssp245')], label=models);\n",
    "pl.legend()"
   ]
  },
  {
   "cell_type": "code",
   "execution_count": null,
   "id": "7400cf58",
   "metadata": {},
   "outputs": [],
   "source": [
    "fig, ax = pl.subplots()\n",
    "ax.set_prop_cycle(custom_cycler)\n",
    "ax.plot(f.timebounds, f.concentration.loc[dict(specie='CO2', scenario='ssp119')], label=models);\n",
    "\n",
    "pl.legend()"
   ]
  },
  {
   "cell_type": "code",
   "execution_count": null,
   "id": "71a956ed",
   "metadata": {},
   "outputs": [],
   "source": [
    "fig, ax = pl.subplots()\n",
    "ax.set_prop_cycle(custom_cycler)\n",
    "ax.plot(f.timebounds, f.temperature.loc[dict(layer=0, scenario='ssp119')], label=models);\n",
    "pl.legend()"
   ]
  },
  {
   "cell_type": "code",
   "execution_count": null,
   "id": "55c72f35",
   "metadata": {},
   "outputs": [],
   "source": [
    "fig, ax = pl.subplots()\n",
    "ax.set_prop_cycle(custom_cycler)\n",
    "pl.plot(f.timebounds, f.airborne_fraction.loc[dict(specie='CO2', scenario='ssp119')], label=models);\n",
    "pl.legend()"
   ]
  },
  {
   "cell_type": "code",
   "execution_count": null,
   "id": "ae17d0b9",
   "metadata": {},
   "outputs": [],
   "source": [
    "os.makedirs(f'../../output/fair-{fair_v}/v{cal_v}/priors/', exist_ok=True)"
   ]
  },
  {
   "cell_type": "code",
   "execution_count": null,
   "id": "0de92622",
   "metadata": {},
   "outputs": [],
   "source": [
    "cc_sample_df.to_csv(f'../../output/fair-{fair_v}/v{cal_v}/priors/carbon_cycle.csv', index=False)"
   ]
  },
  {
   "cell_type": "code",
   "execution_count": null,
   "id": "759fc00c",
   "metadata": {},
   "outputs": [],
   "source": []
  }
 ],
 "metadata": {
  "kernelspec": {
   "display_name": "Python 3 (ipykernel)",
   "language": "python",
   "name": "python3"
  },
  "language_info": {
   "codemirror_mode": {
    "name": "ipython",
    "version": 3
   },
   "file_extension": ".py",
   "mimetype": "text/x-python",
   "name": "python",
   "nbconvert_exporter": "python",
   "pygments_lexer": "ipython3",
   "version": "3.10.6"
  }
 },
 "nbformat": 4,
 "nbformat_minor": 5
}
