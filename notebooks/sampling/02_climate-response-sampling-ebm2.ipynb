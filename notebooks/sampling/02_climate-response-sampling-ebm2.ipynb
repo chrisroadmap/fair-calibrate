{
 "cells": [
  {
   "cell_type": "markdown",
   "id": "22911ee4",
   "metadata": {},
   "source": [
    "# Climate response calibrations\n",
    "\n",
    "The purpose here is to provide correlated calibrations to the climate response in CMIP6 models.\n",
    "\n",
    "We will apply a very naive model weighting to the 4xCO2 results. We won't downweight for similar models*, but we will downweight for multiple ensemble members of the same model.\n",
    "\n",
    "*maybe the same model at different resolution should be downweighted."
   ]
  },
  {
   "cell_type": "code",
   "execution_count": null,
   "id": "c4ff3537",
   "metadata": {},
   "outputs": [],
   "source": [
    "import numpy as np\n",
    "import pandas as pd\n",
    "import os\n",
    "import scipy.stats\n",
    "import matplotlib.pyplot as pl\n",
    "from tqdm import tqdm\n",
    "from dotenv import dotenv_values\n",
    "\n",
    "from fair.energy_balance_model import EnergyBalanceModel\n",
    "from fair import __version__"
   ]
  },
  {
   "cell_type": "code",
   "execution_count": null,
   "id": "bc373fb0",
   "metadata": {},
   "outputs": [],
   "source": [
    "cal_v = dotenv_values(\"../../.env\")[\"CALIBRATION_VERSION\"]\n",
    "samples = int(dotenv_values(\"../../.env\")[\"PRIOR_SAMPLES\"])\n",
    "fair_v = dotenv_values(\"../../.env\")[\"FAIR_VERSION\"]\n",
    "\n",
    "assert fair_v == __version__"
   ]
  },
  {
   "cell_type": "code",
   "execution_count": null,
   "id": "755ffa7c",
   "metadata": {},
   "outputs": [],
   "source": [
    "df = pd.read_csv(\n",
    "    os.path.join(f\"../../output/fair-{fair_v}/v{cal_v}/calibrations/4xCO2_cummins_ebm2_cmip6.csv\")\n",
    ")"
   ]
  },
  {
   "cell_type": "code",
   "execution_count": null,
   "id": "ba267bec",
   "metadata": {},
   "outputs": [],
   "source": [
    "pd.set_option('display.max_rows', 78)\n",
    "df"
   ]
  },
  {
   "cell_type": "code",
   "execution_count": null,
   "id": "c58739f0",
   "metadata": {},
   "outputs": [],
   "source": [
    "models = df['model'].unique()\n",
    "models"
   ]
  },
  {
   "cell_type": "code",
   "execution_count": null,
   "id": "17b79be9",
   "metadata": {},
   "outputs": [],
   "source": [
    "for model in models:\n",
    "    print(model, df.loc[df['model']==model, 'run'].values)"
   ]
  },
  {
   "cell_type": "markdown",
   "id": "3297208e",
   "metadata": {},
   "source": [
    "Judgement time: \n",
    "- GISS-E2-1-G 'r1i1p1f1'\n",
    "- GISS-E2-1-H 'r1i1p3f1'  less wacky\n",
    "- MRI-ESM2-0 'r1i1p1f1'\n",
    "- EC-Earth3 'r3i1p1f1'  less wacky\n",
    "- FIO-ESM-2-0  'r1i1p1f1'\n",
    "- CanESM5  'r1i1p2f1'\n",
    "- FGOALS-f3-L 'r1i1p1f1'\n",
    "- CNRM-ESM2-1 'r1i1p1f2'"
   ]
  },
  {
   "cell_type": "code",
   "execution_count": null,
   "id": "02670f37",
   "metadata": {},
   "outputs": [],
   "source": [
    "n_models=len(models)"
   ]
  },
  {
   "cell_type": "code",
   "execution_count": null,
   "id": "5665fa10",
   "metadata": {},
   "outputs": [],
   "source": [
    "n_models"
   ]
  },
  {
   "cell_type": "code",
   "execution_count": null,
   "id": "f7c8738d",
   "metadata": {},
   "outputs": [],
   "source": [
    "multi_runs = {\n",
    "    'GISS-E2-1-G': 'r1i1p1f1',\n",
    "    'GISS-E2-1-H': 'r1i1p3f1',\n",
    "    'MRI-ESM2-0': 'r1i1p1f1',\n",
    "    'EC-Earth3': 'r3i1p1f1',\n",
    "    'FIO-ESM-2-0':  'r1i1p1f1',\n",
    "    'CanESM5':  'r1i1p2f1',\n",
    "    'FGOALS-f3-L': 'r1i1p1f1',\n",
    "    'CNRM-ESM2-1': 'r1i1p1f2',\n",
    "}\n",
    "\n",
    "params = {}\n",
    "\n",
    "params['gamma'] = np.ones(n_models) * np.nan\n",
    "params['c1'] = np.ones(n_models) * np.nan\n",
    "params['c2'] = np.ones(n_models) * np.nan\n",
    "params['kappa1'] = np.ones(n_models) * np.nan\n",
    "params['kappa2'] = np.ones(n_models) * np.nan\n",
    "params['epsilon'] = np.ones(n_models) * np.nan\n",
    "params['sigma_eta'] = np.ones(n_models) * np.nan\n",
    "params['sigma_xi'] = np.ones(n_models) * np.nan\n",
    "params['F_4xCO2'] = np.ones(n_models) * np.nan\n",
    "\n",
    "for im, model in enumerate(models):\n",
    "    if model in multi_runs:\n",
    "        condition = (df['model']==model) & (df['run']==multi_runs[model])\n",
    "    else:\n",
    "        condition = (df['model']==model)\n",
    "    params['gamma'][im] = df.loc[condition, 'gamma'].values[0]\n",
    "    params['c1'][im], params['c2'][im] = df.loc[condition, 'C1':'C2'].values.squeeze()\n",
    "    params['kappa1'][im], params['kappa2'][im] = df.loc[condition, 'kappa1':'kappa2'].values.squeeze()\n",
    "    params['epsilon'][im] = df.loc[condition, 'epsilon'].values[0]\n",
    "    params['sigma_eta'][im] = df.loc[condition, 'sigma_eta'].values[0]\n",
    "    params['sigma_xi'][im] = df.loc[condition, 'sigma_xi'].values[0]\n",
    "    params['F_4xCO2'][im] = df.loc[condition, 'F_4xCO2'].values[0]"
   ]
  },
  {
   "cell_type": "code",
   "execution_count": null,
   "id": "2bd81559",
   "metadata": {},
   "outputs": [],
   "source": [
    "params = pd.DataFrame(params)"
   ]
  },
  {
   "cell_type": "code",
   "execution_count": null,
   "id": "80f75f3d",
   "metadata": {},
   "outputs": [],
   "source": [
    "params.corr()"
   ]
  },
  {
   "cell_type": "code",
   "execution_count": null,
   "id": "288a6f32",
   "metadata": {},
   "outputs": [],
   "source": [
    "pd.plotting.scatter_matrix(params, figsize=(16,16));"
   ]
  },
  {
   "cell_type": "code",
   "execution_count": null,
   "id": "94e7933b",
   "metadata": {},
   "outputs": [],
   "source": [
    "NINETY_TO_ONESIGMA = scipy.stats.norm.ppf(0.95)\n",
    "\n",
    "kde = scipy.stats.gaussian_kde(params.T)\n",
    "ebm_sample = kde.resample(size=int(samples*4), seed=2181882)\n",
    "\n",
    "# remove unphysical combinations\n",
    "for col in range(8):\n",
    "    ebm_sample[:,ebm_sample[col,:] <= 0] = np.nan\n",
    "ebm_sample[:, ebm_sample[0,:] <= 0.812812398347057] = np.nan  # gamma\n",
    "ebm_sample[:, ebm_sample[1,:] <= 1.66484959939124] = np.nan   # C1\n",
    "ebm_sample[:, ebm_sample[2,:] <= ebm_sample[1,:]] = np.nan    # C2\n",
    "ebm_sample[:, ebm_sample[3,:] <= 0.3] = np.nan                # kappa1 = lambda\n",
    "\n",
    "mask = np.all(np.isnan(ebm_sample), axis=0)\n",
    "ebm_sample = ebm_sample[:,~mask]\n",
    "ebm_sample_df=pd.DataFrame(\n",
    "    data=ebm_sample[:,:samples].T, columns=['gamma','c1','c2','kappa1','kappa2','epsilon','sigma_eta','sigma_xi','F_4xCO2']\n",
    ")\n",
    "ebm_sample_df"
   ]
  },
  {
   "cell_type": "code",
   "execution_count": null,
   "id": "b9f0440a",
   "metadata": {},
   "outputs": [],
   "source": [
    "pl.hist(ebm_sample_df['kappa1'])\n",
    "np.percentile(ebm_sample_df['kappa1'], (0,5,16,50,84,95,100))"
   ]
  },
  {
   "cell_type": "code",
   "execution_count": null,
   "id": "a678876d",
   "metadata": {},
   "outputs": [],
   "source": [
    "pl.hist(3.934/ebm_sample_df['kappa1'])\n",
    "np.percentile(3.934/ebm_sample_df['kappa1'], (0,5,16,50,84,95,100))"
   ]
  },
  {
   "cell_type": "code",
   "execution_count": null,
   "id": "dfcb3253",
   "metadata": {},
   "outputs": [],
   "source": [
    "# # Since we use the actual scaled 2xCO2\n",
    "\n",
    "# ecs = np.zeros(samples)\n",
    "# tcr = np.zeros(samples)\n",
    "# for i in tqdm(range(samples)):\n",
    "#     ebm = EnergyBalanceModel(\n",
    "#         ocean_heat_capacity = np.array([ebm_sample_df.loc[i,'c1'],ebm_sample_df.loc[i,'c2'],ebm_sample_df.loc[i,'c3']]),\n",
    "#         ocean_heat_transfer = np.array([ebm_sample_df.loc[i,'kappa1'],ebm_sample_df.loc[i,'kappa2'],ebm_sample_df.loc[i,'kappa3']]),\n",
    "#         deep_ocean_efficacy = ebm_sample_df.loc[i,'epsilon'],\n",
    "#         forcing_4co2 = ebm_sample_df.loc[i,'F_4xCO2']\n",
    "#     )\n",
    "#     ebm.emergent_parameters()\n",
    "#     #ebm.emergent_parameters(forcing_2co2_4co2_ratio=0.47630403979167685)\n",
    "#     ecs[i] = ebm.ecs\n",
    "#     tcr[i] = ebm.tcr"
   ]
  },
  {
   "cell_type": "code",
   "execution_count": null,
   "id": "98e6b15b",
   "metadata": {},
   "outputs": [],
   "source": [
    "# ebm_sample_df['ecs'] = ecs\n",
    "# ebm_sample_df['tcr'] = tcr"
   ]
  },
  {
   "cell_type": "code",
   "execution_count": null,
   "id": "0f484746",
   "metadata": {},
   "outputs": [],
   "source": [
    "# pl.hist(ecs, bins=np.arange(0,10,0.1));\n",
    "# np.percentile(ecs, (5, 16, 50, 84, 95))"
   ]
  },
  {
   "cell_type": "code",
   "execution_count": null,
   "id": "63413be7",
   "metadata": {},
   "outputs": [],
   "source": [
    "# pl.hist(tcr, bins=np.arange(0,6,0.1));\n",
    "# np.percentile(tcr, (5, 16, 50, 84, 95))"
   ]
  },
  {
   "cell_type": "code",
   "execution_count": null,
   "id": "a27325bb",
   "metadata": {},
   "outputs": [],
   "source": [
    "# pl.scatter(ecs, tcr)\n",
    "# pl.xlim(0,10)\n",
    "# pl.ylim(0,6)"
   ]
  },
  {
   "cell_type": "code",
   "execution_count": null,
   "id": "689e1a9f",
   "metadata": {},
   "outputs": [],
   "source": [
    "ebm_sample_df.to_csv(f'../../output/fair-{fair_v}/v{cal_v}/priors/climate_response_ebm2.csv', index=False)"
   ]
  },
  {
   "cell_type": "code",
   "execution_count": null,
   "id": "9df4f205",
   "metadata": {},
   "outputs": [],
   "source": [
    "# preserve correlation structure of kappa1 and F4x, even though we don't use F4x in the ensemble\n",
    "pl.hist(ebm_sample_df['F_4xCO2']/ebm_sample_df['F_4xCO2'].mean())\n",
    "np.percentile(ebm_sample_df['F_4xCO2']/ebm_sample_df['F_4xCO2'].mean(), (5, 50, 95))"
   ]
  },
  {
   "cell_type": "code",
   "execution_count": null,
   "id": "b556887f",
   "metadata": {},
   "outputs": [],
   "source": [
    "# around best\n",
    "np.percentile(1+ 0.48*(ebm_sample_df['F_4xCO2'].mean() - ebm_sample_df['F_4xCO2'])/ebm_sample_df['F_4xCO2'].mean(), (5,50,95))"
   ]
  },
  {
   "cell_type": "code",
   "execution_count": null,
   "id": "10544e24",
   "metadata": {},
   "outputs": [],
   "source": [
    "# what we do want to do is to scale the variability in 4xCO2 (correlated with the other EBM parameters)\n",
    "# to feed into the effective radiative forcing scaling factor.\n",
    "1 + 0.48*(ebm_sample_df['F_4xCO2'].mean() - ebm_sample_df['F_4xCO2'])/ebm_sample_df['F_4xCO2'].mean()"
   ]
  },
  {
   "cell_type": "code",
   "execution_count": null,
   "id": "c92d4720",
   "metadata": {},
   "outputs": [],
   "source": []
  }
 ],
 "metadata": {
  "kernelspec": {
   "display_name": "Python 3 (ipykernel)",
   "language": "python",
   "name": "python3"
  },
  "language_info": {
   "codemirror_mode": {
    "name": "ipython",
    "version": 3
   },
   "file_extension": ".py",
   "mimetype": "text/x-python",
   "name": "python",
   "nbconvert_exporter": "python",
   "pygments_lexer": "ipython3",
   "version": "3.10.6"
  }
 },
 "nbformat": 4,
 "nbformat_minor": 5
}
