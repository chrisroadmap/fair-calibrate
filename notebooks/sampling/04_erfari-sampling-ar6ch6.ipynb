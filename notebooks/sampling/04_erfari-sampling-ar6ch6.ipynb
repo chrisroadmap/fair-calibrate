{
 "cells": [
  {
   "cell_type": "markdown",
   "id": "93173193",
   "metadata": {},
   "source": [
    "# Aerosol calibration\n",
    "\n",
    "Use the AR6 per-species ERFari calibrations, from Chapter 6 Fig. 6.12. This includes contibutions from CH4, N2O and HCs.\n",
    "\n",
    "The uncertainty is uniform for each specie, a factor of two. This needs to be documented in paper."
   ]
  },
  {
   "cell_type": "code",
   "execution_count": null,
   "id": "798e1103",
   "metadata": {},
   "outputs": [],
   "source": [
    "import os\n",
    "import pooch\n",
    "import pandas as pd\n",
    "import numpy as np\n",
    "import matplotlib.pyplot as pl\n",
    "import json\n",
    "import scipy.stats\n",
    "from tqdm import tqdm\n",
    "\n",
    "from dotenv import dotenv_values\n",
    "from fair import __version__"
   ]
  },
  {
   "cell_type": "code",
   "execution_count": null,
   "id": "8ceac82a",
   "metadata": {},
   "outputs": [],
   "source": [
    "cal_v = dotenv_values(\"../../.env\")[\"CALIBRATION_VERSION\"]\n",
    "samples = int(dotenv_values(\"../../.env\")[\"PRIOR_SAMPLES\"])\n",
    "fair_v = dotenv_values(\"../../.env\")[\"FAIR_VERSION\"]\n",
    "\n",
    "assert fair_v == __version__"
   ]
  },
  {
   "cell_type": "code",
   "execution_count": null,
   "id": "53a3e841",
   "metadata": {},
   "outputs": [],
   "source": [
    "rcmip_emissions_file = pooch.retrieve(\n",
    "    url=\"doi:10.5281/zenodo.4589756/rcmip-emissions-annual-means-v5-1-0.csv\",\n",
    "    known_hash=\"md5:4044106f55ca65b094670e7577eaf9b3\",\n",
    ")\n",
    "\n",
    "rcmip_concentration_file = pooch.retrieve(\n",
    "    url=(\n",
    "        \"doi:10.5281/zenodo.4589756/\"\n",
    "        \"rcmip-concentrations-annual-means-v5-1-0.csv\"\n",
    "    ),\n",
    "    known_hash=\"md5:0d82c3c3cdd4dd632b2bb9449a5c315f\",\n",
    ")\n",
    "\n",
    "df_emis = pd.read_csv(rcmip_emissions_file)\n",
    "df_conc = pd.read_csv(rcmip_concentration_file)"
   ]
  },
  {
   "cell_type": "code",
   "execution_count": null,
   "id": "f82b9cd5",
   "metadata": {},
   "outputs": [],
   "source": [
    "emitted_species = [\n",
    "    'Sulfur', 'BC', 'OC', 'NH3', 'NOx', 'VOC', 'CO',\n",
    "]"
   ]
  },
  {
   "cell_type": "code",
   "execution_count": null,
   "id": "6c0ac68a",
   "metadata": {},
   "outputs": [],
   "source": [
    "concentration_species = [\n",
    "    'CH4', 'N2O',\n",
    "    'CFC-11', 'CFC-12', 'CFC-113', 'CFC-114', 'CFC-115',\n",
    "    'HCFC-22', 'HCFC-141b', 'HCFC-142b',\n",
    "    'CCl4', 'CHCl3', 'CH2Cl2', 'CH3Cl', 'CH3CCl3', 'CH3Br',\n",
    "    'Halon-1211', 'Halon-1301', 'Halon-2402',\n",
    "]"
   ]
  },
  {
   "cell_type": "code",
   "execution_count": null,
   "id": "f50cf524",
   "metadata": {},
   "outputs": [],
   "source": [
    "hc_species = [\n",
    "    'CFC-11', 'CFC-12', 'CFC-113', 'CFC-114', 'CFC-115',\n",
    "    'HCFC-22', 'HCFC-141b', 'HCFC-142b',\n",
    "    'CCl4', 'CHCl3', 'CH2Cl2', 'CH3Cl', 'CH3CCl3', 'CH3Br',\n",
    "    'Halon-1211', 'Halon-1301', 'Halon-2402'\n",
    "]"
   ]
  },
  {
   "cell_type": "code",
   "execution_count": null,
   "id": "32a4f0cd",
   "metadata": {},
   "outputs": [],
   "source": [
    "species_out = {}\n",
    "for ispec, species in enumerate(emitted_species):\n",
    "    species_rcmip_name = species.replace(\"-\", \"\")\n",
    "    emis_in = df_emis.loc[\n",
    "        (df_emis['Scenario']=='ssp245') & (df_emis['Variable'].str.endswith(\"|\"+species_rcmip_name)) & \n",
    "        (df_emis['Region']=='World'), '1750':'2100'\n",
    "    ].interpolate(axis=1).values.squeeze()\n",
    "    species_out[species] = emis_in\n",
    "    \n",
    "for ispec, species in enumerate(concentration_species):\n",
    "    species_rcmip_name = species.replace(\"-\", \"\")\n",
    "    conc_in = df_conc.loc[\n",
    "        (df_conc['Scenario']=='ssp245') & (df_conc['Variable'].str.endswith(\"|\"+species_rcmip_name)) & \n",
    "        (df_conc['Region']=='World'), '1750':'2100'\n",
    "    ].interpolate(axis=1).values.squeeze()\n",
    "    species_out[species] = conc_in"
   ]
  },
  {
   "cell_type": "code",
   "execution_count": null,
   "id": "db068ff6",
   "metadata": {},
   "outputs": [],
   "source": [
    "species_df = pd.DataFrame(species_out, index=range(1750,2101))\n",
    "species_df"
   ]
  },
  {
   "cell_type": "code",
   "execution_count": null,
   "id": "c846875b",
   "metadata": {},
   "outputs": [],
   "source": [
    "species_df.loc[2019,'CFC-11':]"
   ]
  },
  {
   "cell_type": "code",
   "execution_count": null,
   "id": "5125a53c",
   "metadata": {},
   "outputs": [],
   "source": [
    "def calculate_eesc(\n",
    "    concentration,\n",
    "    fractional_release,\n",
    "    fractional_release_cfc11,\n",
    "    cl_atoms,\n",
    "    br_atoms,\n",
    "    br_cl_ratio = 45,\n",
    "):\n",
    "\n",
    "    # EESC is in terms of CFC11-eq\n",
    "    eesc_out = (\n",
    "        cl_atoms * (concentration) * fractional_release / fractional_release_cfc11 +\n",
    "        br_cl_ratio * br_atoms * (concentration) * fractional_release / fractional_release_cfc11\n",
    "    ) * fractional_release_cfc11\n",
    "    return eesc_out"
   ]
  },
  {
   "cell_type": "code",
   "execution_count": null,
   "id": "c0d83675",
   "metadata": {},
   "outputs": [],
   "source": [
    "fractional_release = {\n",
    "    'CFC-11':0.47, \n",
    "    'CFC-12':0.23, \n",
    "    'CFC-113':0.29, \n",
    "    'CFC-114':0.12, \n",
    "    'CFC-115':0.04, \n",
    "    'HCFC-22':0.13, \n",
    "    'HCFC-141b':0.34, \n",
    "    'HCFC-142b':0.17,\n",
    "    'CCl4':0.56, \n",
    "    'CHCl3':0, \n",
    "    'CH2Cl2':0, \n",
    "    'CH3Cl':0.44, \n",
    "    'CH3CCl3':0.67, \n",
    "    'CH3Br':0.6, \n",
    "    'Halon-1211':0.62,\n",
    "    'Halon-1301':0.28, \n",
    "    'Halon-2402':0.65\n",
    "}\n",
    "\n",
    "cl_atoms = {\n",
    "    'CFC-11':3, \n",
    "    'CFC-12':2, \n",
    "    'CFC-113':3, \n",
    "    'CFC-114':2, \n",
    "    'CFC-115':1, \n",
    "    'HCFC-22':1, \n",
    "    'HCFC-141b':2, \n",
    "    'HCFC-142b':1,\n",
    "    'CCl4':4, \n",
    "    'CHCl3':3, \n",
    "    'CH2Cl2':2, \n",
    "    'CH3Cl':1, \n",
    "    'CH3CCl3':3, \n",
    "    'CH3Br':0, \n",
    "    'Halon-1211':1,\n",
    "    'Halon-1301':0, \n",
    "    'Halon-2402':0\n",
    "}\n",
    "\n",
    "br_atoms = {\n",
    "    'CFC-11':0, \n",
    "    'CFC-12':0, \n",
    "    'CFC-113':0, \n",
    "    'CFC-114':0, \n",
    "    'CFC-115':0, \n",
    "    'HCFC-22':0, \n",
    "    'HCFC-141b':0, \n",
    "    'HCFC-142b':0,\n",
    "    'CCl4':0, \n",
    "    'CHCl3':0, \n",
    "    'CH2Cl2':0, \n",
    "    'CH3Cl':0, \n",
    "    'CH3CCl3':0, \n",
    "    'CH3Br':1, \n",
    "    'Halon-1211':1,\n",
    "    'Halon-1301':1, \n",
    "    'Halon-2402':2\n",
    "}"
   ]
  },
  {
   "cell_type": "code",
   "execution_count": null,
   "id": "4a53882a",
   "metadata": {},
   "outputs": [],
   "source": [
    "hc_eesc = {}\n",
    "total_eesc_2019 = 0\n",
    "total_eesc_1750 = 0\n",
    "for species in hc_species:\n",
    "    hc_eesc[species] = calculate_eesc(\n",
    "        species_df.loc[2019,species],\n",
    "        fractional_release[species],\n",
    "        fractional_release['CFC-11'],\n",
    "        cl_atoms[species],\n",
    "        br_atoms[species],\n",
    "    )\n",
    "    total_eesc_2019 = total_eesc_2019 + hc_eesc[species]\n",
    "    \n",
    "    hc_eesc[species] = calculate_eesc(\n",
    "        species_df.loc[1750,species],\n",
    "        fractional_release[species],\n",
    "        fractional_release['CFC-11'],\n",
    "        cl_atoms[species],\n",
    "        br_atoms[species],\n",
    "    )\n",
    "    total_eesc_1750 = total_eesc_1750 + hc_eesc[species]"
   ]
  },
  {
   "cell_type": "code",
   "execution_count": null,
   "id": "31b108a6",
   "metadata": {},
   "outputs": [],
   "source": [
    "total_eesc_2019, total_eesc_1750, -0.00808/(total_eesc_2019-total_eesc_1750)"
   ]
  },
  {
   "cell_type": "code",
   "execution_count": null,
   "id": "2948dbff",
   "metadata": {},
   "outputs": [],
   "source": [
    "erfari_emitted = pd.Series({\n",
    "    'Sulfur': -0.234228,\n",
    "    'BC': 0.144702,\n",
    "    'OC': -0.072143,\n",
    "    'NH3': -0.033769,\n",
    "    'NOx': -0.009166,\n",
    "    'VOC': -0.002573,\n",
    "    'CO': 0,\n",
    "    'CH4': -0.002653,\n",
    "    'N2O': -0.00209,\n",
    "    'Equivalent effective stratospheric chlorine': -0.00808,\n",
    "})\n",
    "erfari_emitted"
   ]
  },
  {
   "cell_type": "code",
   "execution_count": null,
   "id": "d34662b7",
   "metadata": {},
   "outputs": [],
   "source": [
    "# erfari radiative efficiency per Mt or ppb or ppt\n",
    "re = erfari_emitted / (species_df.loc[2019, :] - species_df.loc[1750, :])"
   ]
  },
  {
   "cell_type": "code",
   "execution_count": null,
   "id": "aa9f2738",
   "metadata": {},
   "outputs": [],
   "source": [
    "re.dropna(inplace=True)"
   ]
  },
  {
   "cell_type": "code",
   "execution_count": null,
   "id": "cfad43d2",
   "metadata": {},
   "outputs": [],
   "source": [
    "re['Equivalent effective stratospheric chlorine'] = erfari_emitted['Equivalent effective stratospheric chlorine']/(total_eesc_2019-total_eesc_1750)"
   ]
  },
  {
   "cell_type": "code",
   "execution_count": null,
   "id": "12e1a1fb",
   "metadata": {},
   "outputs": [],
   "source": [
    "re"
   ]
  },
  {
   "cell_type": "code",
   "execution_count": null,
   "id": "46f6ef76",
   "metadata": {},
   "outputs": [],
   "source": [
    "scalings = scipy.stats.uniform.rvs(np.minimum(re*2, 0), np.maximum(re*2, 0)-np.minimum(re*2, 0), size=(samples, 10), random_state=3729329)"
   ]
  },
  {
   "cell_type": "code",
   "execution_count": null,
   "id": "a8843dbf",
   "metadata": {},
   "outputs": [],
   "source": [
    "re.index"
   ]
  },
  {
   "cell_type": "code",
   "execution_count": null,
   "id": "4b7aa4b1",
   "metadata": {},
   "outputs": [],
   "source": [
    "df = pd.DataFrame(scalings, columns=re.index)"
   ]
  },
  {
   "cell_type": "code",
   "execution_count": null,
   "id": "62857b36",
   "metadata": {},
   "outputs": [],
   "source": [
    "df"
   ]
  },
  {
   "cell_type": "code",
   "execution_count": null,
   "id": "70bfc4b0",
   "metadata": {},
   "outputs": [],
   "source": [
    "os.makedirs(f'../../output/fair-{fair_v}/v{cal_v}/priors/', exist_ok=True)"
   ]
  },
  {
   "cell_type": "code",
   "execution_count": null,
   "id": "db8c0fd7",
   "metadata": {},
   "outputs": [],
   "source": [
    "df.to_csv(f'../../output/fair-{fair_v}/v{cal_v}/priors/aerosol_radiation.csv', index=False)"
   ]
  },
  {
   "cell_type": "code",
   "execution_count": null,
   "id": "a0c779c1",
   "metadata": {},
   "outputs": [],
   "source": []
  }
 ],
 "metadata": {
  "kernelspec": {
   "display_name": "Python 3 (ipykernel)",
   "language": "python",
   "name": "python3"
  },
  "language_info": {
   "codemirror_mode": {
    "name": "ipython",
    "version": 3
   },
   "file_extension": ".py",
   "mimetype": "text/x-python",
   "name": "python",
   "nbconvert_exporter": "python",
   "pygments_lexer": "ipython3",
   "version": "3.10.6"
  }
 },
 "nbformat": 4,
 "nbformat_minor": 5
}
