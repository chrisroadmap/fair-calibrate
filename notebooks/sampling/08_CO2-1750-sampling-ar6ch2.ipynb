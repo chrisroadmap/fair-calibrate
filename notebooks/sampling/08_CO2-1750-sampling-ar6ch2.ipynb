{
 "cells": [
  {
   "cell_type": "markdown",
   "id": "e1d7830a",
   "metadata": {},
   "source": [
    "# Sampling CO2 concentration in 1750\n",
    "\n",
    "1750 concentration was 278.3 ppm +/- 2.9 ppm (data provided by Jinho Ahn, IPCC AR6 WG1 Ch2)."
   ]
  },
  {
   "cell_type": "code",
   "execution_count": null,
   "id": "12f145f2",
   "metadata": {},
   "outputs": [],
   "source": [
    "import pandas as pd\n",
    "import scipy.stats\n",
    "import matplotlib.pyplot as pl\n",
    "\n",
    "from dotenv import dotenv_values\n",
    "from fair import __version__"
   ]
  },
  {
   "cell_type": "code",
   "execution_count": null,
   "id": "7fa16382",
   "metadata": {},
   "outputs": [],
   "source": [
    "cal_v = dotenv_values('../../.env')['CALIBRATION_VERSION']\n",
    "fair_v = dotenv_values('../../.env')['FAIR_VERSION']\n",
    "samples = int(dotenv_values('../../.env')['PRIOR_SAMPLES'])\n",
    "assert fair_v == __version__"
   ]
  },
  {
   "cell_type": "code",
   "execution_count": null,
   "id": "7b8cf3a0",
   "metadata": {},
   "outputs": [],
   "source": [
    "NINETY_TO_ONESIGMA = scipy.stats.norm.ppf(0.95)"
   ]
  },
  {
   "cell_type": "code",
   "execution_count": null,
   "id": "ae982409",
   "metadata": {},
   "outputs": [],
   "source": [
    "co2_1750_conc = scipy.stats.norm.rvs(size=samples, loc=278.3, scale=2.9/NINETY_TO_ONESIGMA, random_state=1067061)"
   ]
  },
  {
   "cell_type": "code",
   "execution_count": null,
   "id": "370f2587",
   "metadata": {},
   "outputs": [],
   "source": [
    "pl.hist(co2_1750_conc)"
   ]
  },
  {
   "cell_type": "code",
   "execution_count": null,
   "id": "be5ff818",
   "metadata": {},
   "outputs": [],
   "source": [
    "df = pd.DataFrame({\n",
    "    'co2_concentration' : co2_1750_conc\n",
    "})"
   ]
  },
  {
   "cell_type": "code",
   "execution_count": null,
   "id": "980211ff",
   "metadata": {},
   "outputs": [],
   "source": [
    "df"
   ]
  },
  {
   "cell_type": "code",
   "execution_count": null,
   "id": "d74a9302",
   "metadata": {},
   "outputs": [],
   "source": [
    "df.to_csv(f'../../output/fair-{fair_v}/v{cal_v}/priors/co2_concentration_1750.csv', index=False)"
   ]
  },
  {
   "cell_type": "code",
   "execution_count": null,
   "id": "b71578dd",
   "metadata": {},
   "outputs": [],
   "source": []
  }
 ],
 "metadata": {
  "kernelspec": {
   "display_name": "Python 3 (ipykernel)",
   "language": "python",
   "name": "python3"
  },
  "language_info": {
   "codemirror_mode": {
    "name": "ipython",
    "version": 3
   },
   "file_extension": ".py",
   "mimetype": "text/x-python",
   "name": "python",
   "nbconvert_exporter": "python",
   "pygments_lexer": "ipython3",
   "version": "3.10.6"
  }
 },
 "nbformat": 4,
 "nbformat_minor": 5
}
