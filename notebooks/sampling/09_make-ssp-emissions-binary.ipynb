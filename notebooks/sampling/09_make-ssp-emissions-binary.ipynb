{
 "cells": [
  {
   "cell_type": "markdown",
   "id": "894259e9",
   "metadata": {},
   "source": [
    "# Make emissions binary file\n",
    "\n",
    "SSPs from RCMIP"
   ]
  },
  {
   "cell_type": "code",
   "execution_count": null,
   "id": "2f0f978b",
   "metadata": {},
   "outputs": [],
   "source": [
    "import os\n",
    "from fair import FAIR\n",
    "from fair.interface import initialise, fill\n",
    "from fair.io import read_properties\n",
    "\n",
    "from dotenv import dotenv_values\n",
    "from fair import __version__"
   ]
  },
  {
   "cell_type": "code",
   "execution_count": null,
   "id": "20a84893",
   "metadata": {},
   "outputs": [],
   "source": [
    "cal_v = dotenv_values(\"../../.env\")[\"CALIBRATION_VERSION\"]\n",
    "fair_v = dotenv_values(\"../../.env\")[\"FAIR_VERSION\"]\n",
    "\n",
    "assert fair_v == __version__"
   ]
  },
  {
   "cell_type": "code",
   "execution_count": null,
   "id": "1d42d4d2",
   "metadata": {},
   "outputs": [],
   "source": [
    "scenarios = ['ssp119', 'ssp126', 'ssp245', 'ssp370', 'ssp434', 'ssp460', 'ssp534-over', 'ssp585']"
   ]
  },
  {
   "cell_type": "code",
   "execution_count": null,
   "id": "6abd8a4d",
   "metadata": {},
   "outputs": [],
   "source": [
    "species, properties = read_properties()"
   ]
  },
  {
   "cell_type": "code",
   "execution_count": null,
   "id": "717db2d4",
   "metadata": {},
   "outputs": [],
   "source": [
    "f = FAIR(ch4_method='thornhill2021')\n",
    "f.define_time(1750, 2500, 1)\n",
    "f.define_configs(['unspecified'])\n",
    "f.define_scenarios(scenarios)\n",
    "f.define_species(species, properties)"
   ]
  },
  {
   "cell_type": "code",
   "execution_count": null,
   "id": "e6c369f9",
   "metadata": {},
   "outputs": [],
   "source": [
    "f.allocate()\n",
    "f.fill_from_rcmip()"
   ]
  },
  {
   "cell_type": "code",
   "execution_count": null,
   "id": "cd3944ba",
   "metadata": {},
   "outputs": [],
   "source": [
    "f.emissions"
   ]
  },
  {
   "cell_type": "code",
   "execution_count": null,
   "id": "a07cee48",
   "metadata": {},
   "outputs": [],
   "source": [
    "os.makedirs(f'../../output/fair-{fair_v}/v{cal_v}/emissions/')"
   ]
  },
  {
   "cell_type": "code",
   "execution_count": null,
   "id": "4287ab59",
   "metadata": {},
   "outputs": [],
   "source": [
    "f.emissions.to_netcdf(f'../../output/fair-{fair_v}/v{cal_v}/emissions/ssp_emissions_1750-2500.nc')"
   ]
  },
  {
   "cell_type": "code",
   "execution_count": null,
   "id": "c92e9ae8",
   "metadata": {},
   "outputs": [],
   "source": []
  }
 ],
 "metadata": {
  "kernelspec": {
   "display_name": "Python 3 (ipykernel)",
   "language": "python",
   "name": "python3"
  },
  "language_info": {
   "codemirror_mode": {
    "name": "ipython",
    "version": 3
   },
   "file_extension": ".py",
   "mimetype": "text/x-python",
   "name": "python",
   "nbconvert_exporter": "python",
   "pygments_lexer": "ipython3",
   "version": "3.11.0"
  }
 },
 "nbformat": 4,
 "nbformat_minor": 5
}
