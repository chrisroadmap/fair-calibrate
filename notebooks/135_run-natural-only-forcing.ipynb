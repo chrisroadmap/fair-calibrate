{
 "cells": [
  {
   "cell_type": "markdown",
   "id": "65a32da7",
   "metadata": {},
   "source": [
    "# Run natural only forcing\n",
    "\n",
    "The most important thing here is time-matching"
   ]
  },
  {
   "cell_type": "code",
   "execution_count": null,
   "id": "8830724e",
   "metadata": {},
   "outputs": [],
   "source": [
    "import numpy as np\n",
    "import pandas as pd\n",
    "import scipy.interpolate\n",
    "\n",
    "from fair21.exceptions import ExternalForcingError"
   ]
  },
  {
   "cell_type": "code",
   "execution_count": null,
   "id": "e0e6b60d",
   "metadata": {},
   "outputs": [],
   "source": [
    "def forcing_from_input(data, time, column=None, **kwargs):\n",
    "    \"\"\"Creates an effective_radiative_forcing input from a DataFrame or numpy array.\n",
    "    \n",
    "    Parameters\n",
    "    ----------\n",
    "    data : str, DataFrame or ndarray\n",
    "        Input forcing data.\n",
    "        If ndarray it must be two columns, the first being time and the second being the \n",
    "        ERF on these time steps. If DataFrame, then the time should be the index, with the ERF being either the\n",
    "        sole data column, or the column to extract specified with the `column` parameter.\n",
    "    time : ndarray\n",
    "        Array of times to extract\n",
    "    column : str or None, optional\n",
    "        column to extract from `data` if a DataFrame is provided.\n",
    "    \n",
    "    Other parameters\n",
    "    ----------------\n",
    "    see `scipy.interpolate.interp1d`.\n",
    "    \n",
    "    Raises\n",
    "    ------\n",
    "    ExternalForcingError:\n",
    "        if forcing cannot be determined from input data.\n",
    "    \n",
    "    Returns\n",
    "    -------\n",
    "    forcing : ndarray\n",
    "        array of effective radiative forcing.\n",
    "    \"\"\"\n",
    "    if isinstance(data, str):\n",
    "        data = pd.read_csv(data, index_col=0)\n",
    "    if isinstance(data, pd.DataFrame):\n",
    "        base_time = data.index.values\n",
    "        if column is not None:\n",
    "            base_data = data.loc[:,column].values.squeeze()\n",
    "        else:\n",
    "            if data.shape[1] != 1:\n",
    "                raise ExternalForcingError(\"If not providing a column name to the forcing DataFrame, then only one column other than the time index should be provided.\")\n",
    "            base_data = data.iloc[:,0].values.squeeze()\n",
    "    elif isinstance(data, np.ndarray):\n",
    "        if data.shape[1] != 2:\n",
    "            raise ExternalForcingError(\"If specifying a numpy array of external forcing, a (n_timestep, 2) shape array is required where the first column is time and the second column is forcing. The shape of the array you provided is {}\".format(data.shape))\n",
    "        base_time = data[:,0]\n",
    "        base_data = data[:,1]\n",
    "    else:\n",
    "        raise ExternalForcingError(\"Please provide a filepath (to a csv), a DataFrame or a numpy array\")\n",
    "    \n",
    "    interp_func = scipy.interpolate.interp1d(base_time, base_data, **kwargs)\n",
    "    data_out = interp_func(time)\n",
    "    return data_out"
   ]
  },
  {
   "cell_type": "code",
   "execution_count": null,
   "id": "720f5aa5",
   "metadata": {},
   "outputs": [],
   "source": [
    "time = np.arange(1750.5, 2020)\n",
    "\n",
    "solar_erf = pd.read_csv('../src/fair21/defaults/data/ar6/solar_erf.csv', index_col=0)\n",
    "volcanic_erf = pd.read_csv('../src/fair21/defaults/data/ar6/volcanic_erf.csv', index_col=0)"
   ]
  },
  {
   "cell_type": "code",
   "execution_count": null,
   "id": "efec85a8",
   "metadata": {},
   "outputs": [],
   "source": [
    "solar_erf.index.values"
   ]
  },
  {
   "cell_type": "code",
   "execution_count": null,
   "id": "c0db54fe",
   "metadata": {},
   "outputs": [],
   "source": [
    "solar_erf.loc[:,'solar_erf'].values.squeeze()"
   ]
  },
  {
   "cell_type": "code",
   "execution_count": null,
   "id": "fb087b31",
   "metadata": {},
   "outputs": [],
   "source": [
    "forcing_from_input('../src/fair21/defaults/data/ar6/volcanic_erf.csv', np.arange(1750.5, 2021))"
   ]
  },
  {
   "cell_type": "code",
   "execution_count": null,
   "id": "c0eb21a1",
   "metadata": {},
   "outputs": [],
   "source": [
    "forcing_from_input(\n",
    "    '../src/fair21/defaults/data/ar6/volcanic_erf.csv', \n",
    "    np.arange(1750.5, 2040), \n",
    "    bounds_error=False\n",
    ")"
   ]
  },
  {
   "cell_type": "code",
   "execution_count": null,
   "id": "5ddefba6",
   "metadata": {},
   "outputs": [],
   "source": [
    "forcing_from_input(\n",
    "    '../src/fair21/defaults/data/ar6/volcanic_erf.csv', \n",
    "    np.arange(1750, 2040, 1/12), \n",
    "    bounds_error=False,\n",
    "    fill_value=0\n",
    ")"
   ]
  },
  {
   "cell_type": "code",
   "execution_count": null,
   "id": "36479c69",
   "metadata": {},
   "outputs": [],
   "source": [
    "forcing_from_input(\n",
    "    np.array([[1750, 0], [1850, 0.3], [1950, 1.3], [2050, 4.5]]),\n",
    "    np.arange(1750.5, 2100),\n",
    "    bounds_error=False,\n",
    "    fill_value='extrapolate'\n",
    ")"
   ]
  },
  {
   "cell_type": "code",
   "execution_count": null,
   "id": "75c4d3d4",
   "metadata": {},
   "outputs": [],
   "source": [
    "forcing_from_input(\n",
    "    np.array([[1750, 1850, 1950, 2050], [0, 0.3, 1.3, 4.5]]),\n",
    "    np.arange(1750.5, 2100),\n",
    "    bounds_error=False,\n",
    "    fill_value='extrapolate'\n",
    ")"
   ]
  },
  {
   "cell_type": "code",
   "execution_count": null,
   "id": "61769650",
   "metadata": {},
   "outputs": [],
   "source": []
  }
 ],
 "metadata": {
  "kernelspec": {
   "display_name": "Python 3 (ipykernel)",
   "language": "python",
   "name": "python3"
  },
  "language_info": {
   "codemirror_mode": {
    "name": "ipython",
    "version": 3
   },
   "file_extension": ".py",
   "mimetype": "text/x-python",
   "name": "python",
   "nbconvert_exporter": "python",
   "pygments_lexer": "ipython3",
   "version": "3.7.10"
  }
 },
 "nbformat": 4,
 "nbformat_minor": 5
}
