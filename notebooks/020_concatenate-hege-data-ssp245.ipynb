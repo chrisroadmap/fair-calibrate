{
 "cells": [
  {
   "cell_type": "markdown",
   "id": "3bd1fb58",
   "metadata": {},
   "source": [
    "# Concatenate ssp245 data\n",
    "\n",
    "This replaces the original download of 4xCO2 data using `netcdf-scm`. Hege-Beate's data contains many more models."
   ]
  },
  {
   "cell_type": "code",
   "execution_count": null,
   "id": "22079d84",
   "metadata": {},
   "outputs": [],
   "source": [
    "import pandas as pd\n",
    "import glob\n",
    "import os"
   ]
  },
  {
   "cell_type": "code",
   "execution_count": null,
   "id": "09faa697",
   "metadata": {},
   "outputs": [],
   "source": [
    "available_files = glob.glob('../data/cmip6-hbf/cmip_data/*/ssp245/*_ssp245_*_anomalies.txt')"
   ]
  },
  {
   "cell_type": "code",
   "execution_count": null,
   "id": "572b24ce",
   "metadata": {},
   "outputs": [],
   "source": [
    "lines = []\n",
    "for file in available_files:\n",
    "    model = file.split('/')[4]\n",
    "    run = file.split('/')[6].split('_')[2]\n",
    "    # Does historical exist?\n",
    "    file_hist = f'../data/cmip6-hbf/cmip_data/{model}/historical/{model}_historical_{run}_anomalies.txt'\n",
    "    if not os.path.exists(file_hist):\n",
    "        print(model, run, \"doesn't have corresponding historical\")\n",
    "        continue\n",
    "    df_ssp245 = pd.read_csv(file, index_col=0)\n",
    "    df_hist = pd.read_csv(file_hist, index_col=0)\n",
    "    vars_245 = {}\n",
    "    vars_hist = {}\n",
    "    for var in ['tas', 'rlut', 'rsut', 'rsdt']:\n",
    "        vars_245[var] = df_ssp245[var].values[:86].squeeze()\n",
    "        vars_hist[var] = df_hist[var].values[:165].squeeze()\n",
    "        line = ['CMIP', model, run, 'CMIP6', 'unspecified', 'World', 'ssp245', 'W m^-2', var]\n",
    "        line.extend(vars_hist[var])\n",
    "        line.extend(vars_245[var])\n",
    "        lines.append(line)\n",
    "    vars_245['rndt'] = vars_245['rsdt'] - vars_245['rsut'] - vars_245['rlut']\n",
    "    vars_hist['rndt'] = vars_hist['rsdt'] - vars_hist['rsut'] - vars_hist['rlut']\n",
    "    line = ['CMIP', model, run, 'CMIP6', 'unspecified', 'World', 'ssp245', 'W m^-2', 'rndt']\n",
    "    line.extend(vars_hist['rndt'])\n",
    "    line.extend(vars_245['rndt'])\n",
    "    lines.append(line)"
   ]
  },
  {
   "cell_type": "code",
   "execution_count": null,
   "id": "87a3bf82",
   "metadata": {},
   "outputs": [],
   "source": [
    "df = pd.DataFrame(\n",
    "    lines, columns = (\n",
    "        ['activity_id', 'climate_model', 'member_id', 'mip_era', 'model', 'region', 'scenario', 'unit', 'variable'] +\n",
    "        [\"X%d\" % year for year in range(1850, 2101)]\n",
    "    )\n",
    ")\n",
    "df.dropna(inplace=True)"
   ]
  },
  {
   "cell_type": "code",
   "execution_count": null,
   "id": "b414c231",
   "metadata": {},
   "outputs": [],
   "source": [
    "df.to_csv('../data/cmip6-hbf/ssp245.csv', index=False) "
   ]
  },
  {
   "cell_type": "code",
   "execution_count": null,
   "id": "9617d4f0",
   "metadata": {},
   "outputs": [],
   "source": [
    "df"
   ]
  },
  {
   "cell_type": "code",
   "execution_count": null,
   "id": "f6c2a7b6",
   "metadata": {},
   "outputs": [],
   "source": []
  }
 ],
 "metadata": {
  "kernelspec": {
   "display_name": "Python 3 (ipykernel)",
   "language": "python",
   "name": "python3"
  },
  "language_info": {
   "codemirror_mode": {
    "name": "ipython",
    "version": 3
   },
   "file_extension": ".py",
   "mimetype": "text/x-python",
   "name": "python",
   "nbconvert_exporter": "python",
   "pygments_lexer": "ipython3",
   "version": "3.7.12"
  }
 },
 "nbformat": 4,
 "nbformat_minor": 5
}
