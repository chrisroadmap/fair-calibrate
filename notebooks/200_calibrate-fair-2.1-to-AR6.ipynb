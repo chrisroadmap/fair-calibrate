{
 "cells": [
  {
   "cell_type": "markdown",
   "id": "d52269f2",
   "metadata": {},
   "source": [
    "# AR6 calibration of FaIR 2.1\n",
    "\n",
    "FaIR 2.0 is wonderfully simple. Possibly too simple.\n",
    "\n",
    "Here I try to faithfully reproduce the codebase of FaIR 2.0, but with the following modifications:\n",
    "- use the exact aerosol forcing relationship from Smith et al. (2021). \n",
    "- include overlap of the major GHGs.\n",
    "- prognostic equation for land use related forcing (e.g. from FaIR 1.6).\n",
    "- ozone relationship from FaIR 1.6 used in AR6 (should be easy to do).\n",
    "\n",
    "Bear in mind: would like to couple to `openscm-runner` and `mesmer`."
   ]
  },
  {
   "cell_type": "code",
   "execution_count": null,
   "id": "07316b47",
   "metadata": {},
   "outputs": [],
   "source": []
  }
 ],
 "metadata": {
  "kernelspec": {
   "display_name": "Python 3 (ipykernel)",
   "language": "python",
   "name": "python3"
  },
  "language_info": {
   "codemirror_mode": {
    "name": "ipython",
    "version": 3
   },
   "file_extension": ".py",
   "mimetype": "text/x-python",
   "name": "python",
   "nbconvert_exporter": "python",
   "pygments_lexer": "ipython3",
   "version": "3.7.10"
  }
 },
 "nbformat": 4,
 "nbformat_minor": 5
}
