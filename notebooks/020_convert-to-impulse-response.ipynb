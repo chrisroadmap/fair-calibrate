{
 "cells": [
  {
   "cell_type": "markdown",
   "id": "cecfbf2a",
   "metadata": {},
   "source": [
    "# Convert EBM to IRM\n",
    "\n",
    "This notebook takes the three-layer energy balance model tunings from Donald Cummins and converts them to a three-layer impulse response function.\n",
    "\n",
    "It will then save these into a CSV file."
   ]
  },
  {
   "cell_type": "code",
   "execution_count": null,
   "id": "b036b00a",
   "metadata": {},
   "outputs": [],
   "source": [
    "import os\n",
    "\n",
    "import numpy as np\n",
    "import matplotlib.pyplot as pl\n",
    "import pandas as pd\n",
    "import scipy.linalg\n",
    "import json\n",
    "from tqdm import tqdm"
   ]
  },
  {
   "cell_type": "code",
   "execution_count": null,
   "id": "9e509352",
   "metadata": {},
   "outputs": [],
   "source": [
    "df = pd.read_csv(\n",
    "    os.path.join(\"..\", \"data\", \"calibration\", \"4xCO2_cummins.csv\")\n",
    ")"
   ]
  },
  {
   "cell_type": "code",
   "execution_count": null,
   "id": "889a26d4",
   "metadata": {},
   "outputs": [],
   "source": [
    "models = df['model'].unique()\n",
    "models"
   ]
  },
  {
   "cell_type": "code",
   "execution_count": null,
   "id": "a22e167e",
   "metadata": {},
   "outputs": [],
   "source": [
    "params = {}\n",
    "for model in models:\n",
    "    params[model] = {}\n",
    "    for run in df.loc[df['model']==model, 'run']:\n",
    "        condition = (df['model']==model) & (df['run']==run)\n",
    "        params[model][run] = {}\n",
    "        params[model][run]['gamma_autocorrelation'] = df.loc[condition, 'gamma'].values[0]\n",
    "        params[model][run]['ocean_heat_capacity'] = df.loc[condition, 'C1':'C3'].values.squeeze()\n",
    "        params[model][run]['ocean_heat_transfer'] = df.loc[condition, 'kappa1':'kappa3'].values.squeeze()\n",
    "        params[model][run]['deep_ocean_efficacy'] = df.loc[condition, 'epsilon'].values[0]\n",
    "        params[model][run]['sigma_eta'] = df.loc[condition, 'sigma_eta'].values[0]\n",
    "        params[model][run]['sigma_xi'] = df.loc[condition, 'sigma_xi'].values[0]\n",
    "        params[model][run]['forcing_4co2'] = df.loc[condition, 'F_4xCO2'].values[0]"
   ]
  },
  {
   "cell_type": "code",
   "execution_count": null,
   "id": "0db488a9",
   "metadata": {},
   "outputs": [],
   "source": [
    "params"
   ]
  },
  {
   "cell_type": "code",
   "execution_count": null,
   "id": "78cc23c3",
   "metadata": {},
   "outputs": [],
   "source": [
    "# TODO: move to a constants module\n",
    "\n",
    "EARTH_RADIUS = 6.371e6  # m\n",
    "SECONDS_PER_YEAR = 365.2425 * 24 * 60 * 60  # we can be cleverer about this\n",
    "DOUBLING_TIME_1PCT = np.log(2)/np.log(1.01)  # about 69.7"
   ]
  },
  {
   "cell_type": "code",
   "execution_count": null,
   "id": "54e6acbd",
   "metadata": {},
   "outputs": [],
   "source": [
    "def emergent_parameters(response_coeffs, timescales, forcing_4co2, forcing_2co2_4co2_ratio=0.476304):\n",
    "    ecs = forcing_4co2 * forcing_2co2_4co2_ratio * np.sum(response_coeffs)\n",
    "    tcr = forcing_4co2 * forcing_2co2_4co2_ratio * np.sum(\n",
    "        response_coeffs*(\n",
    "            1 - timescales/DOUBLING_TIME_1PCT * (\n",
    "                1 - np.exp(-DOUBLING_TIME_1PCT/timescales)\n",
    "            )\n",
    "        )\n",
    "    )\n",
    "    return ecs, tcr"
   ]
  },
  {
   "cell_type": "code",
   "execution_count": null,
   "id": "2934cb8a",
   "metadata": {},
   "outputs": [],
   "source": [
    "def ebm3_to_irm3(params):\n",
    "    \"\"\"Converts the three-layer energy balance to impulse response form.\n",
    "    \n",
    "    Inputs\n",
    "    ------\n",
    "    params : dict\n",
    "    \n",
    "    Returns\n",
    "    -------\n",
    "    params : dict\n",
    "    \"\"\"\n",
    "    \n",
    "    # unpack parameters\n",
    "    ocean_heat_capacity = params['ocean_heat_capacity']\n",
    "    ocean_heat_transfer = params['ocean_heat_transfer']\n",
    "    deep_ocean_efficacy = params['deep_ocean_efficacy']\n",
    "    forcing_4co2 = params.get('forcing_4co2', None)\n",
    "    \n",
    "    nbox = len(ocean_heat_capacity)  # should be 3\n",
    "    \n",
    "    # Define the matrix of differential equations\n",
    "    eb_matrix = np.array(\n",
    "        [\n",
    "            [\n",
    "                -(ocean_heat_transfer[0]+ocean_heat_transfer[1])/ocean_heat_capacity[0],\n",
    "                ocean_heat_transfer[1]/ocean_heat_capacity[0], \n",
    "                0\n",
    "            ],\n",
    "            [\n",
    "                ocean_heat_transfer[1]/ocean_heat_capacity[1],\n",
    "                -(ocean_heat_transfer[1]+deep_ocean_efficacy*ocean_heat_transfer[2])/ocean_heat_capacity[1],\n",
    "                deep_ocean_efficacy*ocean_heat_transfer[2]/ocean_heat_capacity[1]\n",
    "            ],\n",
    "            [\n",
    "                0, \n",
    "                ocean_heat_transfer[2]/ocean_heat_capacity[2],\n",
    "                -ocean_heat_transfer[2]/ocean_heat_capacity[2]\n",
    "            ]\n",
    "        ]\n",
    "    )\n",
    "    \n",
    "    # calculate the eigenvectors and eigenvalues, these are the timescales of responses\n",
    "    eb_matrix_eigenvalues, eb_matrix_eigenvectors = scipy.linalg.eig(eb_matrix)\n",
    "    timescales = -1/(np.real(eb_matrix_eigenvalues))\n",
    "    response_coefficients = timescales * (eb_matrix_eigenvectors[0,:] * scipy.linalg.inv(eb_matrix_eigenvectors)[:,0]) / ocean_heat_capacity[0]\n",
    "\n",
    "    # calculate ECS and TCR from this parameter set; if 4xCO2 forcing is given\n",
    "    if forcing_4co2 is not None:\n",
    "        params['ecs'], params['tcr'] = emergent_parameters(response_coefficients, timescales, forcing_4co2)\n",
    "    \n",
    "    params['timescales'] = timescales\n",
    "    params['response_coefficients'] = response_coefficients\n",
    "    return params"
   ]
  },
  {
   "cell_type": "code",
   "execution_count": null,
   "id": "6b6d18a2",
   "metadata": {},
   "outputs": [],
   "source": [
    "for model in models:\n",
    "    for run in df.loc[df['model']==model, 'run']:\n",
    "        condition = (df['model']==model) & (df['run']==run)\n",
    "        ebm3_to_irm3(params[model][run])"
   ]
  },
  {
   "cell_type": "code",
   "execution_count": null,
   "id": "96c5dc0e",
   "metadata": {},
   "outputs": [],
   "source": [
    "params"
   ]
  },
  {
   "cell_type": "code",
   "execution_count": null,
   "id": "8f46fe9b",
   "metadata": {},
   "outputs": [],
   "source": [
    "# reconstruct a data table and save\n",
    "df_out = pd.DataFrame(columns=['model', 'run', 'ecs', 'tcr', 'tau1', 'tau2', 'tau3', 'q1', 'q2', 'q3'])\n",
    "\n",
    "#values_to_add = {'A': 1, 'B': 2}\n",
    "#row_to_add = pd.Series(values_to_add, name='x')\n",
    "\n",
    "#df = df.append(row_to_add)\n",
    "\n",
    "count = 0\n",
    "for model in models:\n",
    "    for run in df.loc[df['model']==model, 'run']:\n",
    "        values_to_add = {\n",
    "            'model': model,\n",
    "            'run': run,\n",
    "            'ecs': params[model][run]['ecs'],\n",
    "            'tcr': params[model][run]['tcr'],\n",
    "            'tau1': params[model][run]['timescales'][0],\n",
    "            'tau2': params[model][run]['timescales'][1],\n",
    "            'tau3': params[model][run]['timescales'][2],\n",
    "            'q1': params[model][run]['response_coefficients'][0],\n",
    "            'q2': params[model][run]['response_coefficients'][1],\n",
    "            'q3': params[model][run]['response_coefficients'][2],\n",
    "        }\n",
    "        row_to_add = pd.Series(values_to_add, name=count)\n",
    "        df_out = df_out.append(row_to_add)\n",
    "        count = count + 1"
   ]
  },
  {
   "cell_type": "code",
   "execution_count": null,
   "id": "ae93e331",
   "metadata": {},
   "outputs": [],
   "source": [
    "df_out"
   ]
  },
  {
   "cell_type": "code",
   "execution_count": null,
   "id": "f249a405",
   "metadata": {},
   "outputs": [],
   "source": [
    "df_out.to_csv(os.path.join(\"..\", \"data\", \"calibration\", \"4xCO2_impulse_response.csv\"))"
   ]
  },
  {
   "cell_type": "code",
   "execution_count": null,
   "id": "0d4d4480",
   "metadata": {},
   "outputs": [],
   "source": []
  }
 ],
 "metadata": {
  "kernelspec": {
   "display_name": "Python 3 (ipykernel)",
   "language": "python",
   "name": "python3"
  },
  "language_info": {
   "codemirror_mode": {
    "name": "ipython",
    "version": 3
   },
   "file_extension": ".py",
   "mimetype": "text/x-python",
   "name": "python",
   "nbconvert_exporter": "python",
   "pygments_lexer": "ipython3",
   "version": "3.7.10"
  }
 },
 "nbformat": 4,
 "nbformat_minor": 5
}
