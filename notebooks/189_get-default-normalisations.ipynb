{
 "cells": [
  {
   "cell_type": "markdown",
   "id": "4c4695e2",
   "metadata": {},
   "source": [
    "# Get normalisations\n",
    "\n",
    "The `normalisation` is what we divide the change in emissions or concentration by to get the methane lifetime sensitivity to precursors. This will be the 1850-2014 changes for each precursor species to make the changes consistent with Thornhill et al. 2021a, 2021b which used AerChemMIP experiments that are differences between 1850 and 2014.\n",
    "\n",
    "We have to specify a value for every atmospheric species, whether or not it is a methane-lifetime precursor species, since we sum over all species."
   ]
  },
  {
   "cell_type": "code",
   "execution_count": null,
   "id": "47c06fc6",
   "metadata": {},
   "outputs": [],
   "source": [
    "import pandas as pd\n",
    "import pooch"
   ]
  },
  {
   "cell_type": "code",
   "execution_count": null,
   "id": "0a185894",
   "metadata": {},
   "outputs": [],
   "source": [
    "rcmip_emissions_file = pooch.retrieve(\n",
    "    url=\"doi:10.5281/zenodo.4589756/rcmip-emissions-annual-means-v5-1-0.csv\",\n",
    "    known_hash=\"md5:4044106f55ca65b094670e7577eaf9b3\",\n",
    ")\n",
    "\n",
    "rcmip_concentration_file = pooch.retrieve(\n",
    "    url=(\n",
    "        \"doi:10.5281/zenodo.4589756/\"\n",
    "        \"rcmip-concentrations-annual-means-v5-1-0.csv\"\n",
    "    ),\n",
    "    known_hash=\"md5:0d82c3c3cdd4dd632b2bb9449a5c315f\",\n",
    ")"
   ]
  },
  {
   "cell_type": "code",
   "execution_count": null,
   "id": "e0ceb309",
   "metadata": {},
   "outputs": [],
   "source": [
    "df_emis = pd.read_csv(rcmip_emissions_file)\n",
    "df_conc = pd.read_csv(rcmip_concentration_file)"
   ]
  },
  {
   "cell_type": "code",
   "execution_count": null,
   "id": "c9304b13",
   "metadata": {},
   "outputs": [],
   "source": [
    "slcfs = ['Sulfur', 'CO', 'VOC', 'NOx', 'BC', 'OC', 'NH3']\n",
    "ghgs = ['CO2', 'CH4', 'N2O', 'CFC-11', 'CFC-12', 'CFC-113', 'CFC-114', 'CFC-115',\n",
    "    'HCFC-22', 'HCFC-141b', 'HCFC-142b',\n",
    "    'CCl4', 'CHCl3', 'CH2Cl2', 'CH3Cl', 'CH3CCl3', 'CH3Br',\n",
    "    'Halon-1211', 'Halon-1301', 'Halon-2402',\n",
    "    'CF4', 'C2F6', 'C3F8', 'c-C4F8', 'C4F10', 'C5F12', 'C6F14', 'C7F16', 'C8F18',\n",
    "    'NF3', 'SF6', 'SO2F2',\n",
    "    'HFC-125', 'HFC-134a', 'HFC-143a', 'HFC-152a', 'HFC-227ea', 'HFC-23', 'HFC-236fa', 'HFC-245fa', 'HFC-32',\n",
    "    'HFC-365mfc', 'HFC-4310mee']"
   ]
  },
  {
   "cell_type": "code",
   "execution_count": null,
   "id": "01e3d501",
   "metadata": {},
   "outputs": [],
   "source": [
    "normalisation = {}\n",
    "for ispec, species in enumerate(slcfs):\n",
    "    species_rcmip_name = species.replace(\"-\", \"\")\n",
    "    emis_in = df_emis.loc[\n",
    "        (df_emis['Scenario']=='ssp245') & (df_emis['Variable'].str.endswith(\"|\"+species_rcmip_name)) & \n",
    "        (df_emis['Region']=='World'), '1750':'2100'\n",
    "    ].interpolate(axis=1).values.squeeze()\n",
    "    normalisation[species] = emis_in[264] - emis_in[100]\n",
    "\n",
    "for ispec, species in enumerate(ghgs):\n",
    "    species_rcmip_name = species.replace(\"-\", \"\")\n",
    "    conc_in = df_conc.loc[\n",
    "        (df_conc['Scenario']=='ssp245') & (df_conc['Variable'].str.endswith(\"|\"+species_rcmip_name)) & \n",
    "        (df_conc['Region']=='World'), '1750':'2100'\n",
    "    ].interpolate(axis=1).values.squeeze()\n",
    "    normalisation[species] = conc_in[264] - conc_in[100]"
   ]
  },
  {
   "cell_type": "code",
   "execution_count": null,
   "id": "e14dc791",
   "metadata": {},
   "outputs": [],
   "source": [
    "normalisation"
   ]
  },
  {
   "cell_type": "code",
   "execution_count": null,
   "id": "cc11d886",
   "metadata": {},
   "outputs": [],
   "source": []
  },
  {
   "cell_type": "code",
   "execution_count": null,
   "id": "f9001349",
   "metadata": {},
   "outputs": [],
   "source": []
  }
 ],
 "metadata": {
  "kernelspec": {
   "display_name": "Python 3",
   "language": "python",
   "name": "python3"
  },
  "language_info": {
   "codemirror_mode": {
    "name": "ipython",
    "version": 3
   },
   "file_extension": ".py",
   "mimetype": "text/x-python",
   "name": "python",
   "nbconvert_exporter": "python",
   "pygments_lexer": "ipython3",
   "version": "3.10.6"
  }
 },
 "nbformat": 4,
 "nbformat_minor": 5
}
