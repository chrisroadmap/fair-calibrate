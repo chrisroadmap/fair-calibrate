{
 "cells": [
  {
   "cell_type": "markdown",
   "id": "3e085bcf",
   "metadata": {},
   "source": [
    "# Stratospheric water vapour\n",
    "\n",
    "Requires methane forcing, so let's calculate all GHGs."
   ]
  },
  {
   "cell_type": "code",
   "execution_count": null,
   "id": "a7781296",
   "metadata": {},
   "outputs": [],
   "source": [
    "import numpy as np\n",
    "import pandas as pd\n",
    "import matplotlib.pyplot as pl\n",
    "\n",
    "from fair21.constants.gases import molwt, burden_per_emission, lifetime\n",
    "from fair21.defaults.gases import (\n",
    "    partition_fraction,\n",
    "    pre_industrial_concentration,\n",
    "    natural_emissions_adjustment,\n",
    "    iirf_0,\n",
    "    iirf_cumulative,\n",
    "    iirf_temperature,\n",
    "    iirf_airborne,\n",
    "    iirf_horizon\n",
    ")\n",
    "from fair21.defaults import gas_list\n",
    "from fair21.defaults.forcing import tropospheric_adjustment\n",
    "from fair21.gas_cycle import (\n",
    "    calculate_g,\n",
    "    calculate_alpha,\n",
    "    step_concentration_1box,\n",
    "    step_concentration_co2\n",
    ")\n",
    "from fair21.forcing.ghg import meinshausen, linear as linear_forcing\n",
    "from fair21.forcing.stratospheric_water_vapour import linear as linear_stwv"
   ]
  },
  {
   "cell_type": "code",
   "execution_count": null,
   "id": "be4f105c",
   "metadata": {},
   "outputs": [],
   "source": [
    "# grab emissions\n",
    "emissions = {}\n",
    "df = pd.read_csv('../data/rcmip/rcmip-emissions-annual-means-v5-1-0.csv')\n",
    "for gas in gas_list:\n",
    "    gas_rcmip_name = gas.replace(\"-\", \"\")\n",
    "    emissions[gas] = df.loc[\n",
    "        (df['Scenario']=='ssp585') & (df['Variable'].str.endswith(\"|\"+gas_rcmip_name)) & (df['Region']=='World'), '1750':\n",
    "    ].interpolate(axis=1).values.squeeze()\n",
    "\n",
    "# CO2 and N2O units need to behave\n",
    "emissions[\"CO2\"] = emissions[\"CO2\"] / 1000\n",
    "emissions[\"N2O\"] = emissions[\"N2O\"] / 1000"
   ]
  },
  {
   "cell_type": "code",
   "execution_count": null,
   "id": "7838847a",
   "metadata": {},
   "outputs": [],
   "source": [
    "# grab indicative temperature projections\n",
    "df = pd.read_csv('../data/rcmip-phase2/rcmip-phase2-fair162-ssp585-mean-temperature.csv')\n",
    "ssp585_temperature_rfmip = df['temperature'].values"
   ]
  },
  {
   "cell_type": "code",
   "execution_count": null,
   "id": "d287a28e",
   "metadata": {},
   "outputs": [],
   "source": [
    "# initialise dicts for outputs. These will eventually be moved to the forward model\n",
    "concentration = {}\n",
    "airborne_emissions = {}\n",
    "cumulative_emissions = {}\n",
    "effective_radiative_forcing = {}\n",
    "\n",
    "n_timesteps = len(emissions[gas])"
   ]
  },
  {
   "cell_type": "code",
   "execution_count": null,
   "id": "8b122058",
   "metadata": {},
   "outputs": [],
   "source": [
    "concentration['CO2'] = np.ones(n_timesteps) * np.nan\n",
    "\n",
    "co2_boxes = 0\n",
    "airborne_emissions = 0\n",
    "cumulative_emissions['CO2'] = np.cumsum(emissions['CO2'])\n",
    "\n",
    "# g1 = np.sum(partition_fraction['CO2'] * lifetime['CO2'] * (1 - (1 + iirf_horizon/lifetime['CO2']) * np.exp(-iirf_horizon/lifetime['CO2'])))\n",
    "# g0 = 1/(np.sinh(np.sum(partition_fraction['CO2']*lifetime['CO2']*(1 - np.exp(-iirf_horizon/lifetime['CO2'])) , axis=-1)/g1))\n",
    "g0, g1 = calculate_g(lifetime['CO2'], partition_fraction=partition_fraction['CO2'])\n",
    "\n",
    "for i in range(n_timesteps):\n",
    "    alpha_lifetime = calculate_alpha(\n",
    "        cumulative_emissions['CO2'][i],\n",
    "        airborne_emissions,\n",
    "        ssp585_temperature_rfmip[i],\n",
    "        iirf_0[\"CO2\"],\n",
    "        iirf_cumulative[\"CO2\"],\n",
    "        iirf_temperature[\"CO2\"],\n",
    "        iirf_airborne[\"CO2\"],\n",
    "        g0,\n",
    "        g1,\n",
    "    )\n",
    "    concentration['CO2'][i], co2_boxes, airborne_emissions = step_concentration_co2(\n",
    "        emissions['CO2'][i], \n",
    "        co2_boxes,\n",
    "        airborne_emissions, \n",
    "        burden_per_emission['CO2'],\n",
    "        alpha_lifetime=alpha_lifetime,\n",
    "        pre_industrial_concentration=pre_industrial_concentration['CO2'],\n",
    "        timestep=1,\n",
    "    )"
   ]
  },
  {
   "cell_type": "code",
   "execution_count": null,
   "id": "291e0acb",
   "metadata": {},
   "outputs": [],
   "source": [
    "concentration['CH4'] = np.ones(n_timesteps) * np.nan\n",
    "\n",
    "ch4_boxes = 0\n",
    "airborne_emissions = 0\n",
    "concentration['CH4'][0] = pre_industrial_concentration['CH4']\n",
    "cumulative_emissions['CH4'] = np.cumsum(emissions['CH4']) # cumulative emissions are not contributing to methane lifetime, but we'll track them in case future research makes them relevant\n",
    "\n",
    "g0, g1 = calculate_g(lifetime['CH4'])\n",
    "\n",
    "ch4_lifetime = np.ones(n_timesteps) * np.nan\n",
    "\n",
    "for i in range(n_timesteps):\n",
    "    alpha_lifetime = calculate_alpha(\n",
    "        cumulative_emissions['CH4'][i],\n",
    "        airborne_emissions,\n",
    "        ssp585_temperature_rfmip[i],\n",
    "        iirf_0[\"CH4\"],\n",
    "        iirf_cumulative[\"CH4\"],\n",
    "        iirf_temperature[\"CH4\"],\n",
    "        iirf_airborne[\"CH4\"],\n",
    "        g0,\n",
    "        g1,\n",
    "    )\n",
    "    \n",
    "    ch4_lifetime[i] = alpha_lifetime * lifetime['CH4']\n",
    "    \n",
    "    concentration['CH4'][i], airborne_emissions = step_concentration_1box(\n",
    "        emissions['CH4'][i], \n",
    "        airborne_emissions, \n",
    "        lifetime['CH4'],\n",
    "        burden_per_emission['CH4'],\n",
    "        alpha_lifetime=alpha_lifetime,\n",
    "        pre_industrial_concentration=pre_industrial_concentration['CH4'],\n",
    "        timestep=1,\n",
    "    )"
   ]
  },
  {
   "cell_type": "code",
   "execution_count": null,
   "id": "ce291bf4",
   "metadata": {},
   "outputs": [],
   "source": [
    "for gas in gas_list:\n",
    "    if gas in ['CH4', 'CO2']:\n",
    "        continue  # done above and slightly different to rest!\n",
    "    \n",
    "    concentration[gas] = np.ones(n_timesteps) * np.nan\n",
    "\n",
    "    airborne_emissions = 0\n",
    "\n",
    "    for i in range(n_timesteps):\n",
    "        concentration[gas][i], airborne_emissions = step_concentration_1box(\n",
    "            emissions[gas][i], \n",
    "            airborne_emissions,\n",
    "            lifetime[gas],\n",
    "            burden_per_emission[gas],\n",
    "            pre_industrial_concentration=pre_industrial_concentration[gas],\n",
    "            timestep=1,\n",
    "            natural_emissions_adjustment=natural_emissions_adjustment[gas]\n",
    "        )"
   ]
  },
  {
   "cell_type": "code",
   "execution_count": null,
   "id": "597d7956",
   "metadata": {},
   "outputs": [],
   "source": [
    "_, effective_radiative_forcing = meinshausen(\n",
    "    concentration,\n",
    "    pre_industrial_concentration,\n",
    "    tropospheric_adjustment\n",
    ")"
   ]
  },
  {
   "cell_type": "code",
   "execution_count": null,
   "id": "68721fe6",
   "metadata": {},
   "outputs": [],
   "source": [
    "concentration"
   ]
  },
  {
   "cell_type": "code",
   "execution_count": null,
   "id": "e5d4fa55",
   "metadata": {},
   "outputs": [],
   "source": [
    "_, effective_radiative_forcing_minor = linear_forcing(\n",
    "    concentration\n",
    ")\n",
    "effective_radiative_forcing.update(effective_radiative_forcing_minor)"
   ]
  },
  {
   "cell_type": "code",
   "execution_count": null,
   "id": "2fc3e46a",
   "metadata": {},
   "outputs": [],
   "source": [
    "fig, ax = pl.subplots(6, 8, figsize=(16,16))\n",
    "for igas, gas in enumerate(gas_list):\n",
    "    iy = igas % 8\n",
    "    ix = igas // 8\n",
    "    ax[ix, iy].plot(np.arange(1750.5, 2501), effective_radiative_forcing[gas], label='FaIR 2.1')\n",
    "    #ax[ix, iy].plot(np.arange(1750.5, 2501), concentration_rcmip[gas], label='History + MAGICC6')\n",
    "    ax[ix, iy].set_title(gas)\n",
    "fig.tight_layout()"
   ]
  },
  {
   "cell_type": "code",
   "execution_count": null,
   "id": "235f2a38",
   "metadata": {},
   "outputs": [],
   "source": [
    "effective_radiative_forcing['Stratospheric water vapour|CH4'] = linear_stwv(\n",
    "    effective_radiative_forcing\n",
    ")"
   ]
  },
  {
   "cell_type": "code",
   "execution_count": null,
   "id": "51091f13",
   "metadata": {},
   "outputs": [],
   "source": [
    "# check to see if direct array input also works.\n",
    "erf_stwv_numpy = linear_stwv(effective_radiative_forcing['CH4'])"
   ]
  },
  {
   "cell_type": "code",
   "execution_count": null,
   "id": "99daef9d",
   "metadata": {},
   "outputs": [],
   "source": [
    "pl.plot(np.arange(1750.5, 2501), effective_radiative_forcing['Stratospheric water vapour|CH4'])\n",
    "pl.plot(np.arange(1750.5, 2501), erf_stwv_numpy)"
   ]
  },
  {
   "cell_type": "code",
   "execution_count": null,
   "id": "bc3fa732",
   "metadata": {},
   "outputs": [],
   "source": []
  }
 ],
 "metadata": {
  "kernelspec": {
   "display_name": "Python 3 (ipykernel)",
   "language": "python",
   "name": "python3"
  },
  "language_info": {
   "codemirror_mode": {
    "name": "ipython",
    "version": 3
   },
   "file_extension": ".py",
   "mimetype": "text/x-python",
   "name": "python",
   "nbconvert_exporter": "python",
   "pygments_lexer": "ipython3",
   "version": "3.7.10"
  }
 },
 "nbformat": 4,
 "nbformat_minor": 5
}
