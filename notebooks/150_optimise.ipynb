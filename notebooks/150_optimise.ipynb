{
 "cells": [
  {
   "cell_type": "markdown",
   "id": "9d60616f",
   "metadata": {},
   "source": [
    "# Optimise the fair code\n",
    "\n",
    "In 140, the fair model was built back up into something complex.\n",
    "\n",
    "Here, I'm going to deconstruct it again into a similar efficient formulation that Nick has.\n",
    "\n",
    "I think the biggest bottleneck at the moment is in the forcing to temperature step.\n",
    "\n",
    "On my Mac, FaIR 1.6 runs at about 6 Hz with a 1750-2110 scenario. 12 Hz is achievable on 3 cores. The goals are:\n",
    "- to achieve this level of speed for a 1750-2500 scenario in FaIR 2.1\n",
    "- make an easy scale up for parallelisation"
   ]
  },
  {
   "cell_type": "code",
   "execution_count": null,
   "id": "f846c2a6",
   "metadata": {},
   "outputs": [],
   "source": []
  }
 ],
 "metadata": {
  "kernelspec": {
   "display_name": "Python 3 (ipykernel)",
   "language": "python",
   "name": "python3"
  },
  "language_info": {
   "codemirror_mode": {
    "name": "ipython",
    "version": 3
   },
   "file_extension": ".py",
   "mimetype": "text/x-python",
   "name": "python",
   "nbconvert_exporter": "python",
   "pygments_lexer": "ipython3",
   "version": "3.7.12"
  }
 },
 "nbformat": 4,
 "nbformat_minor": 5
}
