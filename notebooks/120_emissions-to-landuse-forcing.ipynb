{
 "cells": [
  {
   "cell_type": "markdown",
   "id": "87f81209",
   "metadata": {},
   "source": [
    "# Greenhouse gas emissions to land use forcing\n",
    "\n",
    "cumulative CO2 emissions correlates with land use forcing.\n",
    "\n",
    "This will need revisiting when all this is put into classes and methods?"
   ]
  },
  {
   "cell_type": "code",
   "execution_count": null,
   "id": "5d02ac2f",
   "metadata": {},
   "outputs": [],
   "source": [
    "import numpy as np\n",
    "import pandas as pd\n",
    "import matplotlib.pyplot as pl\n",
    "from scipy.interpolate import interp1d\n",
    "\n",
    "from fair21.constants.gases import molwt, burden_per_emission, lifetime, gas_list\n",
    "from fair21.defaults.gases import (\n",
    "    partition_fraction,\n",
    "    pre_industrial_concentration,\n",
    "    natural_emissions_adjustment,\n",
    "    iirf_0,\n",
    "    iirf_cumulative,\n",
    "    iirf_temperature,\n",
    "    iirf_airborne,\n",
    "    iirf_horizon\n",
    ")\n",
    "from fair21.defaults.landuse import forcing_from_cumulative_co2_afolu\n",
    "from fair21.gas_cycle import (\n",
    "    calculate_g,\n",
    "    calculate_alpha,\n",
    "    step_concentration_1box,\n",
    "    step_concentration_co2\n",
    ")\n",
    "from fair21.forcing.ghg import meinshausen"
   ]
  },
  {
   "cell_type": "code",
   "execution_count": null,
   "id": "ba3e47f0",
   "metadata": {},
   "outputs": [],
   "source": [
    "# grab some emissions\n",
    "emissions = {}\n",
    "df = pd.read_csv('../data/rcmip/rcmip-emissions-annual-means-v5-1-0.csv')\n",
    "gas = \"CO2|MAGICC AFOLU\"\n",
    "gas_rcmip_name = \"CO2|MAGICC AFOLU\"\n",
    "emissions[gas] = df.loc[\n",
    "    (df['Scenario']=='ssp245') & (df['Variable'].str.endswith(\"|\"+gas_rcmip_name)) & (df['Region']=='World'), '1750':\n",
    "].interpolate(axis=1).values.squeeze()\n",
    "\n",
    "# CO2 units need to behave\n",
    "emissions[\"CO2|MAGICC AFOLU\"] = emissions[\"CO2|MAGICC AFOLU\"] / 1000\n",
    "\n",
    "n_timesteps = len(emissions[\"CO2|MAGICC AFOLU\"])"
   ]
  },
  {
   "cell_type": "code",
   "execution_count": null,
   "id": "eac45ae9",
   "metadata": {},
   "outputs": [],
   "source": [
    "# initialise dicts for outputs. These will eventually be moved to the forward model\n",
    "cumulative_emissions = {}\n",
    "effective_radiative_forcing = {}"
   ]
  },
  {
   "cell_type": "code",
   "execution_count": null,
   "id": "0e5e3a7b",
   "metadata": {},
   "outputs": [],
   "source": [
    "cumulative_emissions['CO2|MAGICC AFOLU'] = np.cumsum(emissions['CO2|MAGICC AFOLU'])"
   ]
  },
  {
   "cell_type": "code",
   "execution_count": null,
   "id": "8603e9cd",
   "metadata": {},
   "outputs": [],
   "source": [
    "effective_radiative_forcing[\"Albedo Change|Land Use\"] = cumulative_emissions['CO2|MAGICC AFOLU'] * forcing_from_cumulative_co2_afolu[\"AR6\"]"
   ]
  },
  {
   "cell_type": "code",
   "execution_count": null,
   "id": "47db72f1",
   "metadata": {},
   "outputs": [],
   "source": [
    "pl.plot(np.arange(1750.5,2501), effective_radiative_forcing[\"Albedo Change|Land Use\"])"
   ]
  },
  {
   "cell_type": "code",
   "execution_count": null,
   "id": "1532c6cd",
   "metadata": {},
   "outputs": [],
   "source": []
  }
 ],
 "metadata": {
  "kernelspec": {
   "display_name": "Python 3 (ipykernel)",
   "language": "python",
   "name": "python3"
  },
  "language_info": {
   "codemirror_mode": {
    "name": "ipython",
    "version": 3
   },
   "file_extension": ".py",
   "mimetype": "text/x-python",
   "name": "python",
   "nbconvert_exporter": "python",
   "pygments_lexer": "ipython3",
   "version": "3.7.10"
  }
 },
 "nbformat": 4,
 "nbformat_minor": 5
}
