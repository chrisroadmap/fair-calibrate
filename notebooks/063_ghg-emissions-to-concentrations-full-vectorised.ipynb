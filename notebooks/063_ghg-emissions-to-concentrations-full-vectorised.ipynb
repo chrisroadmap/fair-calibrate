{
 "cells": [
  {
   "cell_type": "markdown",
   "id": "87f81209",
   "metadata": {},
   "source": [
    "# Greenhouse gas emissions to concentrations: vectorised\n",
    "\n",
    "dimensions:\n",
    "(ensembles, timesteps, species, boxes)"
   ]
  },
  {
   "cell_type": "code",
   "execution_count": null,
   "id": "5d02ac2f",
   "metadata": {},
   "outputs": [],
   "source": [
    "import numpy as np\n",
    "import pandas as pd\n",
    "import matplotlib.pyplot as pl\n",
    "from scipy.interpolate import interp1d\n",
    "import pickle\n",
    "from climateforcing.utils import mkdir_p\n",
    "\n",
    "from fair21.constants.gases import molwt, burden_per_emission, lifetime, gas_list\n",
    "from fair21.constants.general import TIME_AXIS\n",
    "from fair21.defaults import n_gas_boxes\n",
    "from fair21.defaults.gases import (\n",
    "    partition_fraction,\n",
    "    pre_industrial_concentration,\n",
    "    natural_emissions_adjustment,\n",
    "    iirf_0,\n",
    "    iirf_cumulative,\n",
    "    iirf_temperature,\n",
    "    iirf_airborne,\n",
    "    iirf_horizon\n",
    ")\n",
    "from fair21.gas_cycle import (\n",
    "    calculate_g,\n",
    "    calculate_alpha\n",
    ")\n",
    "from fair21.gas_cycle.forward import step_concentration"
   ]
  },
  {
   "cell_type": "code",
   "execution_count": null,
   "id": "3f18dc45",
   "metadata": {},
   "outputs": [],
   "source": [
    "scenarios = ['ssp119', 'ssp126', 'ssp245', 'ssp370', 'ssp434', 'ssp460', 'ssp534-over', 'ssp585']"
   ]
  },
  {
   "cell_type": "code",
   "execution_count": null,
   "id": "ba3e47f0",
   "metadata": {},
   "outputs": [],
   "source": [
    "# grab some emissions\n",
    "emissions_array = np.ones((8, 43, 751, 1)) * np.nan\n",
    "df = pd.read_csv('../data/rcmip/rcmip-emissions-annual-means-v5-1-0.csv')\n",
    "for iscen, scenario in enumerate(scenarios):\n",
    "    for igas, gas in enumerate(gas_list):\n",
    "        gas_rcmip_name = gas.replace(\"-\", \"\")\n",
    "        emissions_array[iscen, igas, ...] = df.loc[\n",
    "            (df['Scenario']==scenario) & (df['Variable'].str.endswith(\"|\"+gas_rcmip_name)) & (df['Region']=='World'), '1750':\n",
    "        ].interpolate(axis=1).values.T\n",
    "    \n",
    "        # CO2 and N2O units need to behave\n",
    "        if gas in ('CO2', 'N2O'):\n",
    "            emissions_array[iscen, igas, :, :] = emissions_array[iscen, igas, :, :] / 1000"
   ]
  },
  {
   "cell_type": "code",
   "execution_count": null,
   "id": "d13a6548",
   "metadata": {},
   "outputs": [],
   "source": [
    "emissions_array[7,21,:,:]"
   ]
  },
  {
   "cell_type": "code",
   "execution_count": null,
   "id": "3c73d81d",
   "metadata": {},
   "outputs": [],
   "source": [
    "# grab some concentrations\n",
    "concentration_rcmip = {}\n",
    "df = pd.read_csv('../data/rcmip/rcmip-concentrations-annual-means-v5-1-0.csv')\n",
    "for scenario in scenarios:\n",
    "    concentration_rcmip[scenario] = {}\n",
    "    for gas in gas_list:\n",
    "        gas_rcmip_name = gas.replace(\"-\", \"\")\n",
    "        concentration_rcmip[scenario][gas] = df.loc[\n",
    "            (df['Scenario']==scenario) & (df['Variable'].str.endswith(\"|\"+gas_rcmip_name)) & (df['Region']=='World'), '1750':\n",
    "        ].interpolate(axis=1).values.squeeze()"
   ]
  },
  {
   "cell_type": "code",
   "execution_count": null,
   "id": "b1e1cf5a",
   "metadata": {},
   "outputs": [],
   "source": [
    "# grab indicative temperature projections\n",
    "df = pd.read_csv('../data/rcmip-phase2/rcmip-phase2-fair162-ssp245-mean-temperature.csv')\n",
    "ssp245_temperature_rfmip = df['temperature'].values"
   ]
  },
  {
   "cell_type": "markdown",
   "id": "a64b40a7",
   "metadata": {},
   "source": [
    "## Make plot similar to Nick's from FaIR 2.0.0-alpha\n",
    "\n",
    "Some of the minor GHGs where natural emissions are not zero have misbehaviour after 2100. This is the fault of the scenario, not FaIR."
   ]
  },
  {
   "cell_type": "code",
   "execution_count": null,
   "id": "4b46c4e8",
   "metadata": {},
   "outputs": [],
   "source": [
    "n_gases = len(gas_list)\n",
    "n_timesteps = 751\n",
    "n_scenarios = len(scenarios)\n",
    "n_gases"
   ]
  },
  {
   "cell_type": "code",
   "execution_count": null,
   "id": "27b34ffa",
   "metadata": {},
   "outputs": [],
   "source": [
    "# do we need to carry around an N-sized first dimension?\n",
    "same_scenario = False\n",
    "scenario_axis_size = (1-same_scenario) * (n_scenarios - 1) + 1\n",
    "scenario_axis_size"
   ]
  },
  {
   "cell_type": "code",
   "execution_count": null,
   "id": "bfceb401",
   "metadata": {},
   "outputs": [],
   "source": [
    "%%time\n",
    "\n",
    "# initialise arrays. Using arrays makes things run quicker\n",
    "\n",
    "# remember: scen, species, time, box\n",
    "# where we don't care about keeping outputs we use a singleton dimension to maintain bookkeeping\n",
    "# possible memory saver: differentiate between ensembles where we vary emissions and those where we vary climate parameters\n",
    "\n",
    "# this scenario definition needs to be part of the initialisation, either from pyam, scmdata or fair emissions files\n",
    "concentration_array = np.ones((n_scenarios, n_gases, n_timesteps, 1)) * np.nan\n",
    "g0 = np.ones((n_scenarios, n_gases, 1, 1)) * np.nan\n",
    "g1 = np.ones((n_scenarios, n_gases, 1, 1)) * np.nan\n",
    "alpha_lifetime = np.ones((n_scenarios, n_gases, 1, 1))\n",
    "airborne_emissions = np.zeros((n_scenarios, n_gases, 1, 1))\n",
    "gas_boxes = np.zeros((n_scenarios, n_gases, 1, n_gas_boxes))\n",
    "iirf_0_array = np.ones((n_scenarios, n_gases, 1, 1)) * np.nan\n",
    "iirf_cumulative_array = np.ones((n_scenarios, n_gases, 1, 1)) * np.nan\n",
    "iirf_temperature_array = np.ones((n_scenarios, n_gases, 1, 1)) * np.nan\n",
    "iirf_airborne_array = np.ones((n_scenarios, n_gases, 1, 1)) * np.nan\n",
    "burden_per_emission_array = np.ones((1, n_gases, 1, 1)) * np.nan\n",
    "lifetime_array = np.ones((n_scenarios, n_gases, 1, n_gas_boxes)) * np.nan\n",
    "pre_industrial_concentration_array = np.ones((n_scenarios, n_gases, 1, 1)) * np.nan\n",
    "partition_fraction_array = np.zeros((n_scenarios, n_gases, 1, n_gas_boxes))\n",
    "natural_emissions_adjustment_array = np.ones((n_scenarios, n_gases, 1, 1)) * np.nan\n",
    "\n",
    "\n",
    "cumulative_emissions_array = np.cumsum(emissions_array, axis=TIME_AXIS)\n",
    "for igas, gas in enumerate(gas_list):\n",
    "    lifetime_array[:, igas, :, :] = lifetime[gas]\n",
    "    partition_fraction_array[:, igas, :, :] = partition_fraction[gas]\n",
    "    iirf_0_array[:, igas, :, :] = iirf_0[gas]\n",
    "    iirf_cumulative_array[:, igas, :, :] = iirf_cumulative[gas]\n",
    "    iirf_temperature_array[:, igas, :, :] = iirf_temperature[gas]\n",
    "    iirf_airborne_array[:, igas, :, :] = iirf_airborne[gas]\n",
    "    burden_per_emission_array[:, igas, :, :] = burden_per_emission[gas]\n",
    "    pre_industrial_concentration_array[:, igas, :, :] = pre_industrial_concentration[gas]\n",
    "    partition_fraction_array[:, igas, :, :] = partition_fraction[gas]\n",
    "    natural_emissions_adjustment_array[:, igas, :, :] = natural_emissions_adjustment[gas]\n",
    "\n",
    "g0, g1 = calculate_g(lifetime_array, partition_fraction_array)\n",
    "\n",
    "for i_timestep in range(n_timesteps):\n",
    "    alpha_lifetime = calculate_alpha(\n",
    "        cumulative_emissions_array[:, :, [i_timestep], :],\n",
    "        airborne_emissions[:, :, [0], :],\n",
    "        ssp245_temperature_rfmip[i_timestep],\n",
    "        iirf_0_array,#[:, :, [i_timestep], :],\n",
    "        iirf_cumulative_array,#[:, :, [i_timestep], :],\n",
    "        iirf_temperature_array,#[:, :, [i_timestep], :],\n",
    "        iirf_airborne_array,#[:, :, [i_timestep], :],\n",
    "        g0,\n",
    "        g1,\n",
    "    )\n",
    "    alpha_lifetime[np.isnan(alpha_lifetime)]=1  # CF4 seems to have an issue. Should we raise warning?\n",
    "    concentration_array[:, :, [i_timestep], :], gas_boxes, airborne_emissions = step_concentration(\n",
    "        emissions_array[:, :, [i_timestep], :], \n",
    "        gas_boxes,\n",
    "        airborne_emissions, \n",
    "        burden_per_emission_array,\n",
    "        lifetime_array,\n",
    "        alpha_lifetime=alpha_lifetime,\n",
    "        pre_industrial_concentration=pre_industrial_concentration_array,\n",
    "        timestep=1,\n",
    "        partition_fraction=partition_fraction_array,\n",
    "        natural_emissions_adjustment=natural_emissions_adjustment_array,\n",
    "    )"
   ]
  },
  {
   "cell_type": "code",
   "execution_count": null,
   "id": "7289deed",
   "metadata": {},
   "outputs": [],
   "source": [
    "for i in range(8):\n",
    "    pl.plot(concentration_array[i,21,:,0], label=scenarios[i])\n",
    "pl.legend();"
   ]
  },
  {
   "cell_type": "code",
   "execution_count": null,
   "id": "ac3d8ef1",
   "metadata": {},
   "outputs": [],
   "source": [
    "# put back together\n",
    "concentration = {}\n",
    "\n",
    "for iscen, scenario in enumerate(scenarios):\n",
    "    concentration[scenario] = {}\n",
    "    for igas, gas in enumerate(gas_list):\n",
    "        concentration[scenario][gas] = concentration_array[iscen, igas, ...]"
   ]
  },
  {
   "cell_type": "code",
   "execution_count": null,
   "id": "e5095f2f",
   "metadata": {},
   "outputs": [],
   "source": [
    "fig, ax = pl.subplots(6, 8, figsize=(16,16))\n",
    "for igas, gas in enumerate(gas_list):\n",
    "    iy = igas % 8\n",
    "    ix = igas // 8\n",
    "    for iscen, scenario in enumerate(scenarios):\n",
    "        ax[ix, iy].plot(np.arange(1750.5, 2501), concentration[scenario][gas], label='FaIR 2.1', color='k')\n",
    "        ax[ix, iy].plot(np.arange(1750.5, 2501), concentration_rcmip[scenario][gas], label='History + MAGICC6', color='r')\n",
    "    ax[ix, iy].set_title(gas)\n",
    "fig.tight_layout()"
   ]
  },
  {
   "cell_type": "code",
   "execution_count": null,
   "id": "90a9c2de",
   "metadata": {},
   "outputs": [],
   "source": [
    "# would be awesome to now convert this to csv\n",
    "# TODO: create scmdata or pyam dumper\n",
    "mkdir_p(\"../data/output/\")\n",
    "with open(\"../data/output/rcmip-fair21-concentrations.pkl\",\"wb\") as fileout:\n",
    "    pickle.dump(concentration, fileout)"
   ]
  },
  {
   "cell_type": "code",
   "execution_count": null,
   "id": "117dff73",
   "metadata": {},
   "outputs": [],
   "source": []
  }
 ],
 "metadata": {
  "kernelspec": {
   "display_name": "Python 3 (ipykernel)",
   "language": "python",
   "name": "python3"
  },
  "language_info": {
   "codemirror_mode": {
    "name": "ipython",
    "version": 3
   },
   "file_extension": ".py",
   "mimetype": "text/x-python",
   "name": "python",
   "nbconvert_exporter": "python",
   "pygments_lexer": "ipython3",
   "version": "3.7.12"
  }
 },
 "nbformat": 4,
 "nbformat_minor": 5
}
