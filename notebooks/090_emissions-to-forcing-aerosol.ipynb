{
 "cells": [
  {
   "cell_type": "markdown",
   "id": "7aa3c889",
   "metadata": {},
   "source": [
    "# Emissions to forcing for aerosol\n",
    "\n",
    "Should be relatively straightforward."
   ]
  },
  {
   "cell_type": "code",
   "execution_count": null,
   "id": "2d3b561a",
   "metadata": {},
   "outputs": [],
   "source": [
    "import pandas as pd\n",
    "import numpy as np\n",
    "import matplotlib.pyplot as pl\n",
    "\n",
    "from fair21.forcing.aerosol import radiation, cloud\n",
    "from fair21.defaults import slcf_list\n",
    "from fair21.defaults.short_lived_forcers import pre_industrial_emissions"
   ]
  },
  {
   "cell_type": "code",
   "execution_count": null,
   "id": "a4205a05",
   "metadata": {},
   "outputs": [],
   "source": [
    "# grab some emissions\n",
    "emissions = {}\n",
    "df = pd.read_csv('../data/rcmip/rcmip-emissions-annual-means-v5-1-0.csv')\n",
    "for specie in slcf_list:\n",
    "    specie_rcmip_name = specie.replace(\"-\", \"\")\n",
    "    emissions[specie] = df.loc[\n",
    "        (df['Scenario']=='ssp245') & (df['Variable'].str.endswith(\"|\"+specie_rcmip_name)) & (df['Region']=='World'), '1750':\n",
    "    ].interpolate(axis=1).values.squeeze()"
   ]
  },
  {
   "cell_type": "code",
   "execution_count": null,
   "id": "1684134a",
   "metadata": {},
   "outputs": [],
   "source": [
    "# initialise dicts for outputs. These will eventually be moved to the forward model\n",
    "n_timesteps = len(emissions[specie])"
   ]
  },
  {
   "cell_type": "code",
   "execution_count": null,
   "id": "f353dfdf",
   "metadata": {},
   "outputs": [],
   "source": [
    "erf_ari = radiation.linear(\n",
    "    emissions,\n",
    "    pre_industrial_emissions\n",
    ")\n",
    "\n",
    "erf_aci = cloud.smith2021(\n",
    "    emissions,\n",
    "    pre_industrial_emissions\n",
    ")"
   ]
  },
  {
   "cell_type": "code",
   "execution_count": null,
   "id": "073b5002",
   "metadata": {},
   "outputs": [],
   "source": [
    "len(erf_ari.keys())"
   ]
  },
  {
   "cell_type": "code",
   "execution_count": null,
   "id": "18247163",
   "metadata": {},
   "outputs": [],
   "source": [
    "fig, ax = pl.subplots(2, 3, figsize=(16,9))\n",
    "for icomp, component in enumerate(erf_ari):\n",
    "    iy = icomp % 3\n",
    "    ix = icomp // 3\n",
    "    ax[ix, iy].plot(np.arange(1750.5, 2501), erf_ari[component], label='FaIR 2.1')\n",
    "    ax[ix, iy].set_title(component)\n",
    "ax[1,2].plot(np.arange(1750.5, 2501), erf_aci)\n",
    "ax[1,2].set_title('Aerosol|Aerosol-cloud interactions')\n",
    "fig.tight_layout()"
   ]
  },
  {
   "cell_type": "code",
   "execution_count": null,
   "id": "69f13b1b",
   "metadata": {},
   "outputs": [],
   "source": [
    "pl.plot(np.arange(1750.5, 2501), erf_ari['Aerosol|Aerosol-radiation interactions'] + erf_aci)"
   ]
  },
  {
   "cell_type": "code",
   "execution_count": null,
   "id": "d7ebce68",
   "metadata": {},
   "outputs": [],
   "source": []
  }
 ],
 "metadata": {
  "kernelspec": {
   "display_name": "Python 3 (ipykernel)",
   "language": "python",
   "name": "python3"
  },
  "language_info": {
   "codemirror_mode": {
    "name": "ipython",
    "version": 3
   },
   "file_extension": ".py",
   "mimetype": "text/x-python",
   "name": "python",
   "nbconvert_exporter": "python",
   "pygments_lexer": "ipython3",
   "version": "3.7.10"
  }
 },
 "nbformat": 4,
 "nbformat_minor": 5
}
