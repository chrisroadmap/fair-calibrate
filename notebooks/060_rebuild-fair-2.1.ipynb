{
 "cells": [
  {
   "cell_type": "markdown",
   "id": "87f81209",
   "metadata": {},
   "source": [
    "# Rebuild FaIR 2.1\n",
    "\n",
    "FaIR 2.0 is wonderfully simple. Possibly too simple.\n",
    "\n",
    "Here I try to faithfully reproduce the codebase of FaIR 2.0, but with the following modifications:\n",
    "- use the exact aerosol forcing relationship from Smith et al. (2021). FaIR 2.0 is trying to fit a round peg into a square hole here.\n",
    "- include overlap of the major GHGs. Despite protestations from others, this is too simple in FaIR 2.0.\n",
    "- prognostic equation for land use related forcing (e.g. from FaIR 1.6).\n",
    "- ozone relationship from FaIR 1.6 used in AR6 (should be easy to do).\n",
    "\n",
    "Bear in mind: would like to couple to `openscm-runner` and `mesmer`."
   ]
  },
  {
   "cell_type": "markdown",
   "id": "7959e9c0",
   "metadata": {},
   "source": [
    "## First: emissions to concentrations for GHGs\n",
    "\n",
    "Should be relatively straightforward, particularly for non-CO2 and non-CH4. FaIR 2.0 results should reproduce.\n",
    "\n",
    "Also, RCMIP's emissions and concentrations are inconsistent. CFC11 has emissions starting in 1943, but no delta concentrations until 1945. (unless there's some kind of 3 year delay going on for stratospheric mixing, but that's only relevant for ozone). So this is at best a sense check."
   ]
  },
  {
   "cell_type": "code",
   "execution_count": 1,
   "id": "5d02ac2f",
   "metadata": {},
   "outputs": [],
   "source": [
    "import numpy as np\n",
    "import pandas as pd\n",
    "import matplotlib.pyplot as pl\n",
    "from scipy.interpolate import interp1d\n",
    "\n",
    "from fair21.constants.gases import molwt, burden_per_emission, lifetime\n",
    "from fair21.defaults.gases import partition_fractions\n",
    "from fair21.gas_cycle import (\n",
    "    calculate_alpha,\n",
    "    step_concentration_1box,\n",
    "    step_concentration_co2\n",
    ")"
   ]
  },
  {
   "cell_type": "code",
   "execution_count": 2,
   "id": "b054de52",
   "metadata": {},
   "outputs": [
    {
     "data": {
      "text/plain": [
       "0.12818866721135597"
      ]
     },
     "execution_count": 2,
     "metadata": {},
     "output_type": "execute_result"
    }
   ],
   "source": [
    "burden_per_emission['CO2']"
   ]
  },
  {
   "cell_type": "code",
   "execution_count": 3,
   "id": "ba3e47f0",
   "metadata": {},
   "outputs": [],
   "source": [
    "# grab some emissions\n",
    "df = pd.read_csv('../data/rcmip/rcmip-emissions-annual-means-v5-1-0.csv')\n",
    "co2_emissions = 1/1000 * df.loc[(df['Scenario']=='ssp245') & (df['Variable']=='Emissions|CO2') & (df['Region']=='World'), '1750':].interpolate(axis=1).values.squeeze()\n",
    "ch4_emissions = df.loc[(df['Scenario']=='ssp245') & (df['Variable']=='Emissions|CH4') & (df['Region']=='World'), '1750':].interpolate(axis=1).values.squeeze()\n",
    "cfc11_emissions = df.loc[(df['Scenario']=='ssp245') & (df['Variable']=='Emissions|Montreal Gases|CFC|CFC11') & (df['Region']=='World'), '1750':].interpolate(axis=1).values.squeeze()"
   ]
  },
  {
   "cell_type": "code",
   "execution_count": 4,
   "id": "3c73d81d",
   "metadata": {},
   "outputs": [],
   "source": [
    "# grab some concentrations\n",
    "df = pd.read_csv('../data/rcmip/rcmip-concentrations-annual-means-v5-1-0.csv')\n",
    "co2_concentrations_rfmip = df.loc[(df['Scenario']=='ssp245') & (df['Variable']=='Atmospheric Concentrations|CO2') & (df['Region']=='World'), '1750':].interpolate(axis=1).values.squeeze()\n",
    "ch4_concentrations_rfmip = df.loc[(df['Scenario']=='ssp245') & (df['Variable']=='Atmospheric Concentrations|CH4') & (df['Region']=='World'), '1750':].interpolate(axis=1).values.squeeze()\n",
    "cfc11_concentrations_rfmip = df.loc[(df['Scenario']=='ssp245') & (df['Variable']=='Atmospheric Concentrations|Montreal Gases|CFC|CFC11') & (df['Region']=='World'), '1750':].interpolate(axis=1).values.squeeze()"
   ]
  },
  {
   "cell_type": "code",
   "execution_count": 5,
   "id": "b1e1cf5a",
   "metadata": {},
   "outputs": [],
   "source": [
    "# grab indicative temperature projections\n",
    "df = pd.read_csv('../data/rcmip-phase2/rcmip-phase2-fair162-ssp245-mean-temperature.csv')\n",
    "ssp245_temperature_rfmip = df['temperature'].values"
   ]
  },
  {
   "cell_type": "markdown",
   "id": "8af66962",
   "metadata": {},
   "source": [
    "### CFC11\n",
    "\n",
    "inocuous test case (but ozone depleting... so should pass this feedback on to ozone forcing)"
   ]
  },
  {
   "cell_type": "code",
   "execution_count": 6,
   "id": "f2a7227d",
   "metadata": {},
   "outputs": [
    {
     "data": {
      "text/plain": [
       "array([0.0000000e+00, 0.0000000e+00, 0.0000000e+00, 0.0000000e+00,\n",
       "       0.0000000e+00, 0.0000000e+00, 0.0000000e+00, 0.0000000e+00,\n",
       "       0.0000000e+00, 0.0000000e+00, 0.0000000e+00, 0.0000000e+00,\n",
       "       0.0000000e+00, 0.0000000e+00, 0.0000000e+00, 0.0000000e+00,\n",
       "       0.0000000e+00, 0.0000000e+00, 0.0000000e+00, 0.0000000e+00,\n",
       "       0.0000000e+00, 0.0000000e+00, 0.0000000e+00, 0.0000000e+00,\n",
       "       0.0000000e+00, 0.0000000e+00, 0.0000000e+00, 0.0000000e+00,\n",
       "       0.0000000e+00, 0.0000000e+00, 0.0000000e+00, 0.0000000e+00,\n",
       "       0.0000000e+00, 0.0000000e+00, 0.0000000e+00, 0.0000000e+00,\n",
       "       0.0000000e+00, 0.0000000e+00, 0.0000000e+00, 0.0000000e+00,\n",
       "       0.0000000e+00, 0.0000000e+00, 0.0000000e+00, 0.0000000e+00,\n",
       "       0.0000000e+00, 0.0000000e+00, 0.0000000e+00, 0.0000000e+00,\n",
       "       0.0000000e+00, 0.0000000e+00, 0.0000000e+00, 0.0000000e+00,\n",
       "       0.0000000e+00, 0.0000000e+00, 0.0000000e+00, 0.0000000e+00,\n",
       "       0.0000000e+00, 0.0000000e+00, 0.0000000e+00, 0.0000000e+00,\n",
       "       0.0000000e+00, 0.0000000e+00, 0.0000000e+00, 0.0000000e+00,\n",
       "       0.0000000e+00, 0.0000000e+00, 0.0000000e+00, 0.0000000e+00,\n",
       "       0.0000000e+00, 0.0000000e+00, 0.0000000e+00, 0.0000000e+00,\n",
       "       0.0000000e+00, 0.0000000e+00, 0.0000000e+00, 0.0000000e+00,\n",
       "       0.0000000e+00, 0.0000000e+00, 0.0000000e+00, 0.0000000e+00,\n",
       "       0.0000000e+00, 0.0000000e+00, 0.0000000e+00, 0.0000000e+00,\n",
       "       0.0000000e+00, 0.0000000e+00, 0.0000000e+00, 0.0000000e+00,\n",
       "       0.0000000e+00, 0.0000000e+00, 0.0000000e+00, 0.0000000e+00,\n",
       "       0.0000000e+00, 0.0000000e+00, 0.0000000e+00, 0.0000000e+00,\n",
       "       0.0000000e+00, 0.0000000e+00, 0.0000000e+00, 0.0000000e+00,\n",
       "       0.0000000e+00, 0.0000000e+00, 0.0000000e+00, 0.0000000e+00,\n",
       "       0.0000000e+00, 0.0000000e+00, 0.0000000e+00, 0.0000000e+00,\n",
       "       0.0000000e+00, 0.0000000e+00, 0.0000000e+00, 0.0000000e+00,\n",
       "       0.0000000e+00, 0.0000000e+00, 0.0000000e+00, 0.0000000e+00,\n",
       "       0.0000000e+00, 0.0000000e+00, 0.0000000e+00, 0.0000000e+00,\n",
       "       0.0000000e+00, 0.0000000e+00, 0.0000000e+00, 0.0000000e+00,\n",
       "       0.0000000e+00, 0.0000000e+00, 0.0000000e+00, 0.0000000e+00,\n",
       "       0.0000000e+00, 0.0000000e+00, 0.0000000e+00, 0.0000000e+00,\n",
       "       0.0000000e+00, 0.0000000e+00, 0.0000000e+00, 0.0000000e+00,\n",
       "       0.0000000e+00, 0.0000000e+00, 0.0000000e+00, 0.0000000e+00,\n",
       "       0.0000000e+00, 0.0000000e+00, 0.0000000e+00, 0.0000000e+00,\n",
       "       0.0000000e+00, 0.0000000e+00, 0.0000000e+00, 0.0000000e+00,\n",
       "       0.0000000e+00, 0.0000000e+00, 0.0000000e+00, 0.0000000e+00,\n",
       "       0.0000000e+00, 0.0000000e+00, 0.0000000e+00, 0.0000000e+00,\n",
       "       0.0000000e+00, 0.0000000e+00, 0.0000000e+00, 0.0000000e+00,\n",
       "       0.0000000e+00, 0.0000000e+00, 0.0000000e+00, 0.0000000e+00,\n",
       "       0.0000000e+00, 0.0000000e+00, 0.0000000e+00, 0.0000000e+00,\n",
       "       0.0000000e+00, 0.0000000e+00, 0.0000000e+00, 0.0000000e+00,\n",
       "       0.0000000e+00, 0.0000000e+00, 0.0000000e+00, 0.0000000e+00,\n",
       "       0.0000000e+00, 0.0000000e+00, 0.0000000e+00, 0.0000000e+00,\n",
       "       0.0000000e+00, 0.0000000e+00, 0.0000000e+00, 0.0000000e+00,\n",
       "       0.0000000e+00, 0.0000000e+00, 0.0000000e+00, 0.0000000e+00,\n",
       "       0.0000000e+00, 0.0000000e+00, 0.0000000e+00, 0.0000000e+00,\n",
       "       0.0000000e+00, 5.6451758e-02, 9.7266311e-01, 3.4593405e+00,\n",
       "       4.9404679e+00, 4.8390374e+00, 4.8563661e+00, 5.5611410e+00,\n",
       "       8.1460574e+00, 1.2050138e+01, 1.6078842e+01, 2.0201055e+01,\n",
       "       2.5212381e+01, 3.0727319e+01, 3.3546756e+01, 3.2871446e+01,\n",
       "       3.4746284e+01, 4.3506257e+01, 5.6281481e+01, 7.0618557e+01,\n",
       "       8.6214551e+01, 1.0183231e+02, 1.1630072e+02, 1.3083984e+02,\n",
       "       1.4799606e+02, 1.6942177e+02, 1.9513757e+02, 2.2072612e+02,\n",
       "       2.4538621e+02, 2.7644309e+02, 3.1422879e+02, 3.3806930e+02,\n",
       "       3.4060550e+02, 3.3771465e+02, 3.2927602e+02, 3.0611158e+02,\n",
       "       2.7845958e+02, 2.7113342e+02, 2.7609356e+02, 2.7100597e+02,\n",
       "       2.7772577e+02, 3.5329433e+02, 3.5261795e+02, 3.2180334e+02,\n",
       "       3.6319165e+02, 3.7717492e+02, 3.2440759e+02, 2.4646809e+02,\n",
       "       2.0825652e+02, 1.5981289e+02, 1.0691739e+02, 8.4325100e+01,\n",
       "       8.5893495e+01, 8.6264975e+01, 8.5278741e+01, 8.6341446e+01,\n",
       "       8.6348141e+01, 8.2703538e+01, 7.6330076e+01, 6.8271466e+01,\n",
       "       6.3484809e+01, 6.2277955e+01, 6.0966802e+01, 6.0331179e+01,\n",
       "       6.3037203e+01, 6.4737513e+01, 6.3060877e+01, 6.0065148e+01,\n",
       "       5.8860090e+01, 6.2415615e+01, 7.0235225e+01, 7.5740842e+01,\n",
       "       5.4936500e+01, 4.3573400e+01, 4.1880820e+01, 4.0188240e+01,\n",
       "       3.8495660e+01, 3.6803080e+01, 3.5110500e+01, 3.3879090e+01,\n",
       "       3.2647680e+01, 3.1416270e+01, 3.0184860e+01, 2.8953450e+01,\n",
       "       2.7722040e+01, 2.6490630e+01, 2.5259220e+01, 2.4027810e+01,\n",
       "       2.2796400e+01, 2.1996880e+01, 2.1197360e+01, 2.0397840e+01,\n",
       "       1.9598320e+01, 1.8798800e+01, 1.7999280e+01, 1.7199760e+01,\n",
       "       1.6400240e+01, 1.5600720e+01, 1.4801200e+01, 1.4282090e+01,\n",
       "       1.3762980e+01, 1.3243870e+01, 1.2724760e+01, 1.2205650e+01,\n",
       "       1.1686540e+01, 1.1167430e+01, 1.0648320e+01, 1.0129210e+01,\n",
       "       9.6101000e+00, 9.2730500e+00, 8.9360000e+00, 8.5989500e+00,\n",
       "       8.2619000e+00, 7.9248500e+00, 7.5878000e+00, 7.2507500e+00,\n",
       "       6.9137000e+00, 6.5766500e+00, 6.2396000e+00, 6.0207600e+00,\n",
       "       5.8019200e+00, 5.5830800e+00, 5.3642400e+00, 5.1454000e+00,\n",
       "       4.9265600e+00, 4.7077200e+00, 4.4888800e+00, 4.2700400e+00,\n",
       "       4.0512000e+00, 3.9091200e+00, 3.7670400e+00, 3.6249600e+00,\n",
       "       3.4828800e+00, 3.3408000e+00, 3.1987200e+00, 3.0566400e+00,\n",
       "       2.9145600e+00, 2.7724800e+00, 2.6304000e+00, 2.5381400e+00,\n",
       "       2.4458800e+00, 2.3536200e+00, 2.2613600e+00, 2.1691000e+00,\n",
       "       2.0768400e+00, 1.9845800e+00, 1.8923200e+00, 1.8000600e+00,\n",
       "       1.7078000e+00, 1.6476900e+00, 1.5875800e+00, 1.5274700e+00,\n",
       "       1.4673600e+00, 1.4072500e+00, 1.3471400e+00, 1.2870300e+00,\n",
       "       1.2269200e+00, 1.1668100e+00, 1.1067000e+00, 1.0993220e+00,\n",
       "       1.0919440e+00, 1.0845660e+00, 1.0771880e+00, 1.0698100e+00,\n",
       "       1.0624320e+00, 1.0550540e+00, 1.0476760e+00, 1.0402980e+00,\n",
       "       1.0329200e+00, 1.0255420e+00, 1.0181640e+00, 1.0107860e+00,\n",
       "       1.0034080e+00, 9.9603000e-01, 9.8865200e-01, 9.8127400e-01,\n",
       "       9.7389600e-01, 9.6651800e-01, 9.5914000e-01, 9.5176200e-01,\n",
       "       9.4438400e-01, 9.3700600e-01, 9.2962800e-01, 9.2225000e-01,\n",
       "       9.1487200e-01, 9.0749400e-01, 9.0011600e-01, 8.9273800e-01,\n",
       "       8.8536000e-01, 8.7798200e-01, 8.7060400e-01, 8.6322600e-01,\n",
       "       8.5584800e-01, 8.4847000e-01, 8.4109200e-01, 8.3371400e-01,\n",
       "       8.2633600e-01, 8.1895800e-01, 8.1158000e-01, 8.0420200e-01,\n",
       "       7.9682400e-01, 7.8944600e-01, 7.8206800e-01, 7.7469000e-01,\n",
       "       7.6731200e-01, 7.5993400e-01, 7.5255600e-01, 7.4517800e-01,\n",
       "       7.3780000e-01, 7.3042200e-01, 7.2304400e-01, 7.1566600e-01,\n",
       "       7.0828800e-01, 7.0091000e-01, 6.9353200e-01, 6.8615400e-01,\n",
       "       6.7877600e-01, 6.7139800e-01, 6.6402000e-01, 6.5664200e-01,\n",
       "       6.4926400e-01, 6.4188600e-01, 6.3450800e-01, 6.2713000e-01,\n",
       "       6.1975200e-01, 6.1237400e-01, 6.0499600e-01, 5.9761800e-01,\n",
       "       5.9024000e-01, 5.8286200e-01, 5.7548400e-01, 5.6810600e-01,\n",
       "       5.6072800e-01, 5.5335000e-01, 5.4597200e-01, 5.3859400e-01,\n",
       "       5.3121600e-01, 5.2383800e-01, 5.1646000e-01, 5.0908200e-01,\n",
       "       5.0170400e-01, 4.9432600e-01, 4.8694800e-01, 4.7957000e-01,\n",
       "       4.7219200e-01, 4.6481400e-01, 4.5743600e-01, 4.5005800e-01,\n",
       "       4.4268000e-01, 4.3530200e-01, 4.2792400e-01, 4.2054600e-01,\n",
       "       4.1316800e-01, 4.0579000e-01, 3.9841200e-01, 3.9103400e-01,\n",
       "       3.8365600e-01, 3.7627800e-01, 3.6890000e-01, 3.6152200e-01,\n",
       "       3.5414400e-01, 3.4676600e-01, 3.3938800e-01, 3.3201000e-01,\n",
       "       3.2463200e-01, 3.1725400e-01, 3.0987600e-01, 3.0249800e-01,\n",
       "       2.9512000e-01, 2.8774200e-01, 2.8036400e-01, 2.7298600e-01,\n",
       "       2.6560800e-01, 2.5823000e-01, 2.5085200e-01, 2.4347400e-01,\n",
       "       2.3609600e-01, 2.2871800e-01, 2.2134000e-01, 2.1396200e-01,\n",
       "       2.0658400e-01, 1.9920600e-01, 1.9182800e-01, 1.8445000e-01,\n",
       "       1.7707200e-01, 1.6969400e-01, 1.6231600e-01, 1.5493800e-01,\n",
       "       1.4756000e-01, 1.4018200e-01, 1.3280400e-01, 1.2542600e-01,\n",
       "       1.1804800e-01, 1.1067000e-01, 1.0329200e-01, 9.5914000e-02,\n",
       "       8.8536000e-02, 8.1158000e-02, 7.3780000e-02, 6.6402000e-02,\n",
       "       5.9024000e-02, 5.1646000e-02, 4.4268000e-02, 3.6890000e-02,\n",
       "       2.9512000e-02, 2.2134000e-02, 1.4756000e-02, 7.3780000e-03,\n",
       "       0.0000000e+00, 0.0000000e+00, 0.0000000e+00, 0.0000000e+00,\n",
       "       0.0000000e+00, 0.0000000e+00, 0.0000000e+00, 0.0000000e+00,\n",
       "       0.0000000e+00, 0.0000000e+00, 0.0000000e+00, 0.0000000e+00,\n",
       "       0.0000000e+00, 0.0000000e+00, 0.0000000e+00, 0.0000000e+00,\n",
       "       0.0000000e+00, 0.0000000e+00, 0.0000000e+00, 0.0000000e+00,\n",
       "       0.0000000e+00, 0.0000000e+00, 0.0000000e+00, 0.0000000e+00,\n",
       "       0.0000000e+00, 0.0000000e+00, 0.0000000e+00, 0.0000000e+00,\n",
       "       0.0000000e+00, 0.0000000e+00, 0.0000000e+00, 0.0000000e+00,\n",
       "       0.0000000e+00, 0.0000000e+00, 0.0000000e+00, 0.0000000e+00,\n",
       "       0.0000000e+00, 0.0000000e+00, 0.0000000e+00, 0.0000000e+00,\n",
       "       0.0000000e+00, 0.0000000e+00, 0.0000000e+00, 0.0000000e+00,\n",
       "       0.0000000e+00, 0.0000000e+00, 0.0000000e+00, 0.0000000e+00,\n",
       "       0.0000000e+00, 0.0000000e+00, 0.0000000e+00, 0.0000000e+00,\n",
       "       0.0000000e+00, 0.0000000e+00, 0.0000000e+00, 0.0000000e+00,\n",
       "       0.0000000e+00, 0.0000000e+00, 0.0000000e+00, 0.0000000e+00,\n",
       "       0.0000000e+00, 0.0000000e+00, 0.0000000e+00, 0.0000000e+00,\n",
       "       0.0000000e+00, 0.0000000e+00, 0.0000000e+00, 0.0000000e+00,\n",
       "       0.0000000e+00, 0.0000000e+00, 0.0000000e+00, 0.0000000e+00,\n",
       "       0.0000000e+00, 0.0000000e+00, 0.0000000e+00, 0.0000000e+00,\n",
       "       0.0000000e+00, 0.0000000e+00, 0.0000000e+00, 0.0000000e+00,\n",
       "       0.0000000e+00, 0.0000000e+00, 0.0000000e+00, 0.0000000e+00,\n",
       "       0.0000000e+00, 0.0000000e+00, 0.0000000e+00, 0.0000000e+00,\n",
       "       0.0000000e+00, 0.0000000e+00, 0.0000000e+00, 0.0000000e+00,\n",
       "       0.0000000e+00, 0.0000000e+00, 0.0000000e+00, 0.0000000e+00,\n",
       "       0.0000000e+00, 0.0000000e+00, 0.0000000e+00, 0.0000000e+00,\n",
       "       0.0000000e+00, 0.0000000e+00, 0.0000000e+00, 0.0000000e+00,\n",
       "       0.0000000e+00, 0.0000000e+00, 0.0000000e+00, 0.0000000e+00,\n",
       "       0.0000000e+00, 0.0000000e+00, 0.0000000e+00, 0.0000000e+00,\n",
       "       0.0000000e+00, 0.0000000e+00, 0.0000000e+00, 0.0000000e+00,\n",
       "       0.0000000e+00, 0.0000000e+00, 0.0000000e+00, 0.0000000e+00,\n",
       "       0.0000000e+00, 0.0000000e+00, 0.0000000e+00, 0.0000000e+00,\n",
       "       0.0000000e+00, 0.0000000e+00, 0.0000000e+00, 0.0000000e+00,\n",
       "       0.0000000e+00, 0.0000000e+00, 0.0000000e+00, 0.0000000e+00,\n",
       "       0.0000000e+00, 0.0000000e+00, 0.0000000e+00, 0.0000000e+00,\n",
       "       0.0000000e+00, 0.0000000e+00, 0.0000000e+00, 0.0000000e+00,\n",
       "       0.0000000e+00, 0.0000000e+00, 0.0000000e+00, 0.0000000e+00,\n",
       "       0.0000000e+00, 0.0000000e+00, 0.0000000e+00, 0.0000000e+00,\n",
       "       0.0000000e+00, 0.0000000e+00, 0.0000000e+00, 0.0000000e+00,\n",
       "       0.0000000e+00, 0.0000000e+00, 0.0000000e+00, 0.0000000e+00,\n",
       "       0.0000000e+00, 0.0000000e+00, 0.0000000e+00, 0.0000000e+00,\n",
       "       0.0000000e+00, 0.0000000e+00, 0.0000000e+00, 0.0000000e+00,\n",
       "       0.0000000e+00, 0.0000000e+00, 0.0000000e+00, 0.0000000e+00,\n",
       "       0.0000000e+00, 0.0000000e+00, 0.0000000e+00, 0.0000000e+00,\n",
       "       0.0000000e+00, 0.0000000e+00, 0.0000000e+00, 0.0000000e+00,\n",
       "       0.0000000e+00, 0.0000000e+00, 0.0000000e+00, 0.0000000e+00,\n",
       "       0.0000000e+00, 0.0000000e+00, 0.0000000e+00, 0.0000000e+00,\n",
       "       0.0000000e+00, 0.0000000e+00, 0.0000000e+00, 0.0000000e+00,\n",
       "       0.0000000e+00, 0.0000000e+00, 0.0000000e+00, 0.0000000e+00,\n",
       "       0.0000000e+00, 0.0000000e+00, 0.0000000e+00, 0.0000000e+00,\n",
       "       0.0000000e+00, 0.0000000e+00, 0.0000000e+00, 0.0000000e+00,\n",
       "       0.0000000e+00, 0.0000000e+00, 0.0000000e+00, 0.0000000e+00,\n",
       "       0.0000000e+00, 0.0000000e+00, 0.0000000e+00, 0.0000000e+00,\n",
       "       0.0000000e+00, 0.0000000e+00, 0.0000000e+00, 0.0000000e+00,\n",
       "       0.0000000e+00, 0.0000000e+00, 0.0000000e+00, 0.0000000e+00,\n",
       "       0.0000000e+00, 0.0000000e+00, 0.0000000e+00, 0.0000000e+00,\n",
       "       0.0000000e+00, 0.0000000e+00, 0.0000000e+00, 0.0000000e+00,\n",
       "       0.0000000e+00, 0.0000000e+00, 0.0000000e+00, 0.0000000e+00,\n",
       "       0.0000000e+00, 0.0000000e+00, 0.0000000e+00, 0.0000000e+00,\n",
       "       0.0000000e+00, 0.0000000e+00, 0.0000000e+00, 0.0000000e+00,\n",
       "       0.0000000e+00, 0.0000000e+00, 0.0000000e+00, 0.0000000e+00,\n",
       "       0.0000000e+00, 0.0000000e+00, 0.0000000e+00, 0.0000000e+00,\n",
       "       0.0000000e+00, 0.0000000e+00, 0.0000000e+00, 0.0000000e+00,\n",
       "       0.0000000e+00, 0.0000000e+00, 0.0000000e+00])"
      ]
     },
     "execution_count": 6,
     "metadata": {},
     "output_type": "execute_result"
    }
   ],
   "source": [
    "cfc11_emissions"
   ]
  },
  {
   "cell_type": "code",
   "execution_count": 7,
   "id": "50179644",
   "metadata": {},
   "outputs": [
    {
     "data": {
      "text/plain": [
       "0.041070581357779294"
      ]
     },
     "execution_count": 7,
     "metadata": {},
     "output_type": "execute_result"
    }
   ],
   "source": [
    "burden_per_emission['CFC-11']  # ppt increase per kt CFC-11 emission"
   ]
  },
  {
   "cell_type": "code",
   "execution_count": 8,
   "id": "c0747869",
   "metadata": {},
   "outputs": [],
   "source": [
    "cfc11_concentrations = np.ones(len(cfc11_emissions)) * np.nan\n",
    "\n",
    "g_a = 0\n",
    "pre_industrial_concentration = 0\n",
    "cfc11_concentrations[0] = pre_industrial_concentration  # TODO: provide pre-defined PI controls\n",
    "\n",
    "for i in range(len(cfc11_emissions)):\n",
    "    cfc11_concentrations[i], g_a = step_concentration_1box(\n",
    "        cfc11_emissions[i], \n",
    "        g_a,\n",
    "        lifetime['CFC-11'], #use old lifetime\n",
    "        burden_per_emission['CFC-11'],\n",
    "        timestep=1\n",
    "    )"
   ]
  },
  {
   "cell_type": "code",
   "execution_count": 9,
   "id": "d554ae4e",
   "metadata": {},
   "outputs": [],
   "source": [
    "# try a monthly timestep\n",
    "t_new = np.arange(1750+1/24, 2501, 1/12)\n",
    "f = interp1d(np.arange(1750.5, 2501), cfc11_emissions, fill_value=\"extrapolate\")\n",
    "cfc11_emissions_monthly = f(t_new)"
   ]
  },
  {
   "cell_type": "code",
   "execution_count": 10,
   "id": "377810b0",
   "metadata": {},
   "outputs": [],
   "source": [
    "cfc11_concentrations_monthly = np.ones(len(cfc11_emissions_monthly)) * np.nan\n",
    "\n",
    "g_a = 0\n",
    "pre_industrial_concentration = 0\n",
    "cfc11_concentrations_monthly[0] = pre_industrial_concentration  # TODO: provide pre-defined PI controls\n",
    "\n",
    "for i in range(len(cfc11_concentrations_monthly)):\n",
    "    cfc11_concentrations_monthly[i], g_a = step_concentration_1box(\n",
    "        cfc11_emissions_monthly[i], \n",
    "        g_a,\n",
    "        lifetime['CFC-11'], #use old lifetime\n",
    "        burden_per_emission['CFC-11'],\n",
    "        timestep=1/12\n",
    "    )"
   ]
  },
  {
   "cell_type": "code",
   "execution_count": 11,
   "id": "0a142b0b",
   "metadata": {},
   "outputs": [
    {
     "data": {
      "text/plain": [
       "[<matplotlib.lines.Line2D at 0x7fcd1a4bb710>]"
      ]
     },
     "execution_count": 11,
     "metadata": {},
     "output_type": "execute_result"
    },
    {
     "data": {
      "image/png": "[encoded data removed]",
      "text/plain": [
       "<Figure size 432x288 with 1 Axes>"
      ]
     },
     "metadata": {
      "needs_background": "light"
     },
     "output_type": "display_data"
    }
   ],
   "source": [
    "pl.plot(np.arange(1750.5, 2501), cfc11_concentrations)\n",
    "pl.plot(np.arange(1750.5, 2501), cfc11_concentrations_rfmip)\n",
    "pl.plot(np.arange(1750+1/24, 2501, 1/12), cfc11_concentrations_monthly)"
   ]
  },
  {
   "cell_type": "markdown",
   "id": "d58f1d5c",
   "metadata": {},
   "source": [
    "### CO2\n",
    "\n",
    "important to get correct"
   ]
  },
  {
   "cell_type": "code",
   "execution_count": 12,
   "id": "429445f3",
   "metadata": {},
   "outputs": [
    {
     "data": {
      "text/plain": [
       "array([ 0.30697023,  0.31244306,  0.31802027,  0.32369631,  0.32948047,\n",
       "        0.33537096,  0.34201646,  0.34812553,  0.35434692,  0.36068269,\n",
       "        0.36713125,  0.37466298,  0.38135469,  0.38816944,  0.39510948,\n",
       "        0.40217713,  0.41065336,  0.4179833 ,  0.42544801,  0.43304998,\n",
       "        0.44079172,  0.45002099,  0.45805008,  0.46622681,  0.47455389,\n",
       "        0.48303408,  0.49308928,  0.50188422,  0.51084088,  0.51996225,\n",
       "        0.52925505,  0.54051468,  0.55014858,  0.55996334,  0.56995482,\n",
       "        0.58013771,  0.59279864,  0.60335523,  0.6141022 ,  0.6250505 ,\n",
       "        0.63620008,  0.64980889,  0.66201897,  0.67381004,  0.68574822,\n",
       "        0.69796617,  0.71149677,  0.7253139 ,  0.73922385,  0.75371674,\n",
       "        0.76888294,  0.78227564,  0.80465962,  0.81382368,  0.83114241,\n",
       "        0.84500388,  0.86151281,  0.87920763,  0.89216634,  0.90795154,\n",
       "        0.92626321,  0.9448086 ,  0.96284398,  0.97998411,  0.99817425,\n",
       "        1.01717938,  1.03979866,  1.06017879,  1.07905176,  1.09819815,\n",
       "        1.11824036,  1.13867198,  1.1607321 ,  1.18438148,  1.2067856 ,\n",
       "        1.23051902,  1.25258068,  1.27906131,  1.30201319,  1.32410908,\n",
       "        1.370185  ,  1.38904467,  1.41309838,  1.43948015,  1.46607307,\n",
       "        1.49347185,  1.53370875,  1.56009875,  1.59059561,  1.62156063,\n",
       "        1.65746244,  1.68957158,  1.72579308,  1.7580423 ,  1.79664265,\n",
       "        1.84146621,  1.87387663,  1.91734363,  1.94814652,  1.98716316,\n",
       "        2.0297116 ,  2.001589  ,  2.21452841,  2.21546353,  2.24496963,\n",
       "        2.23648076,  2.27533159,  2.29744241,  2.31873362,  2.3644381 ,\n",
       "        2.41014847,  2.4681252 ,  2.25298276,  2.27423911,  2.30202906,\n",
       "        2.32760756,  2.34203877,  2.36524799,  2.37098778,  2.39311216,\n",
       "        2.40148112,  2.50671717,  2.87506708,  2.95095389,  2.9442784 ,\n",
       "        3.01796679,  3.05606987,  3.09469611,  3.1234375 ,  3.19463032,\n",
       "        3.31338292,  3.47334316,  3.33951107,  3.41654176,  3.43554095,\n",
       "        3.4640259 ,  3.48218054,  3.52834432,  3.62986804,  3.62943287,\n",
       "        3.71226333,  3.75556391,  3.81790382,  3.80216907,  3.90888648,\n",
       "        4.00398338,  4.05696568,  4.13298032,  4.22027237,  4.36755588,\n",
       "        4.46596412,  4.76888121,  4.83569037,  5.11566145,  5.24474685,\n",
       "        5.47976412,  5.71002176,  6.0460176 ,  5.99360887,  6.11529059,\n",
       "        6.27103467,  6.11382937,  6.12257908,  6.26577241,  5.93895299,\n",
       "        5.86455646,  6.10145338,  6.22723969,  6.20548845,  5.83387014,\n",
       "        6.29030993,  6.06515404,  6.21953962,  6.67311578,  6.73533574,\n",
       "        6.79588529,  6.76633348,  7.28051289,  7.30850436,  7.70445387,\n",
       "        7.67953379,  7.33549598,  6.65192078,  6.79847846,  7.03836696,\n",
       "        7.21632514,  7.61265306,  7.82586332,  7.5807995 ,  7.83639543,\n",
       "        8.15690394,  8.1842249 ,  8.26832412,  8.4101632 ,  8.37777464,\n",
       "        7.6210906 ,  8.34452346,  9.02747412,  9.39393898,  9.33430916,\n",
       "       10.04466935, 11.29069099, 11.51876401, 11.70625609, 12.08537713,\n",
       "       12.92306379, 13.69521983, 14.15307212, 14.64200173, 14.94119786,\n",
       "       15.35390678, 15.69577643, 16.08368449, 16.72231763, 17.26628028,\n",
       "       17.92448137, 18.51822743, 19.13512072, 19.72054151, 20.54023517,\n",
       "       21.45695682, 21.67812813, 22.10918551, 23.06416218, 22.8613745 ,\n",
       "       22.83619669, 23.87337797, 24.61235105, 25.215439  , 25.58901092,\n",
       "       25.26666414, 24.88946718, 24.6814932 , 25.34362707, 25.94512239,\n",
       "       26.30573628, 26.80340164, 27.32850313, 28.02736201, 28.37472758,\n",
       "       27.96671914, 28.68158913, 28.68884032, 28.36326228, 28.3766822 ,\n",
       "       28.81525236, 29.24804657, 32.09280975, 29.79819682, 29.18643353,\n",
       "       29.66188015, 29.01834355, 29.93339529, 30.50919137, 32.43349191,\n",
       "       33.41662986, 34.63186563, 35.3522328 , 34.45121047, 34.22539115,\n",
       "       36.13383606, 37.26602926, 37.95391187, 38.76271103, 39.63094805,\n",
       "       39.1527263 , 39.45168702, 39.75064774, 40.04960846, 40.34856918,\n",
       "       40.6475299 , 40.93038316, 41.21323643, 41.49608969, 41.77894296,\n",
       "       42.06179622, 42.34464949, 42.62750276, 42.91035602, 43.19320929,\n",
       "       43.47606255, 43.5537463 , 43.63143005, 43.7091138 , 43.78679754,\n",
       "       43.86448129, 43.94216504, 44.01984879, 44.09753254, 44.17521628,\n",
       "       44.25290003, 44.17382903, 44.09475803, 44.01568703, 43.93661604,\n",
       "       43.85754504, 43.77847404, 43.69940304, 43.62033204, 43.54126104,\n",
       "       43.46219004, 43.13561952, 42.809049  , 42.48247848, 42.15590796,\n",
       "       41.82933744, 41.50276691, 41.17619639, 40.84962587, 40.52305535,\n",
       "       40.19648483, 39.70037972, 39.20427461, 38.7081695 , 38.21206439,\n",
       "       37.71595928, 37.21985417, 36.72374906, 36.22764395, 35.73153884,\n",
       "       35.23543373, 34.3957277 , 33.55602167, 32.71631565, 31.87660962,\n",
       "       31.03690359, 30.19719756, 29.35749153, 28.5177855 , 27.67807947,\n",
       "       26.83837345, 25.78697526, 24.73557707, 23.68417888, 22.63278069,\n",
       "       21.5813825 , 20.52998432, 19.47858613, 18.42718794, 17.37578975,\n",
       "       16.32439156, 15.66023828, 14.99608501, 14.33193173, 13.66777845,\n",
       "       13.00362518, 12.3394719 , 11.67531862, 11.01116535, 10.34701207,\n",
       "        9.68285879,  9.68230743,  9.68175606,  9.6812047 ,  9.68065333,\n",
       "        9.68010197,  9.6795506 ,  9.67899923,  9.67844787,  9.6778965 ,\n",
       "        9.67734514,  9.67679377,  9.67624241,  9.67569104,  9.67513967,\n",
       "        9.67458831,  9.67403694,  9.67348558,  9.67293421,  9.67238285,\n",
       "        9.67183148,  9.67128011,  9.67072875,  9.67017738,  9.66962602,\n",
       "        9.66907465,  9.66852329,  9.66797192,  9.66742055,  9.66686919,\n",
       "        9.66631782,  9.66576646,  9.66521509,  9.66466373,  9.66411236,\n",
       "        9.66356099,  9.66300963,  9.66245826,  9.6619069 ,  9.66135553,\n",
       "        9.66080417,  9.6602528 ,  9.65970143,  9.65915007,  9.6585987 ,\n",
       "        9.65804734,  9.65749597,  9.65694461,  9.65639324,  9.65584187,\n",
       "        9.65529051,  9.5587376 ,  9.4621847 ,  9.36563179,  9.26907889,\n",
       "        9.17252598,  9.07597308,  8.97942017,  8.88286727,  8.78631436,\n",
       "        8.68976146,  8.59320855,  8.49665565,  8.40010274,  8.30354984,\n",
       "        8.20699693,  8.11044403,  8.01389112,  7.91733822,  7.82078531,\n",
       "        7.72423241,  7.6276795 ,  7.5311266 ,  7.43457369,  7.33802079,\n",
       "        7.24146788,  7.14491498,  7.04836207,  6.95180917,  6.85525626,\n",
       "        6.75870336,  6.66215045,  6.56559755,  6.46904464,  6.37249174,\n",
       "        6.27593883,  6.17938593,  6.08283302,  5.98628012,  5.88972721,\n",
       "        5.79317431,  5.6966214 ,  5.6000685 ,  5.50351559,  5.40696268,\n",
       "        5.31040978,  5.21385687,  5.11730397,  5.02075106,  4.92419816,\n",
       "        4.82764525,  4.73109235,  4.63453944,  4.53798654,  4.44143363,\n",
       "        4.34488073,  4.24832782,  4.15177492,  4.05522201,  3.95866911,\n",
       "        3.8621162 ,  3.7655633 ,  3.66901039,  3.57245749,  3.47590458,\n",
       "        3.37935168,  3.28279877,  3.18624587,  3.08969296,  2.99314006,\n",
       "        2.89658715,  2.80003425,  2.70348134,  2.60692844,  2.51037553,\n",
       "        2.41382263,  2.31726972,  2.22071682,  2.12416391,  2.02761101,\n",
       "        1.9310581 ,  1.8345052 ,  1.73795229,  1.64139939,  1.54484648,\n",
       "        1.44829358,  1.35174067,  1.25518777,  1.15863486,  1.06208196,\n",
       "        0.96552905,  0.86897615,  0.77242324,  0.67587034,  0.57931743,\n",
       "        0.48276453,  0.38621162,  0.28965872,  0.19310581,  0.09655291,\n",
       "        0.        ,  0.        ,  0.        ,  0.        ,  0.        ,\n",
       "        0.        ,  0.        ,  0.        ,  0.        ,  0.        ,\n",
       "        0.        ,  0.        ,  0.        ,  0.        ,  0.        ,\n",
       "        0.        ,  0.        ,  0.        ,  0.        ,  0.        ,\n",
       "        0.        ,  0.        ,  0.        ,  0.        ,  0.        ,\n",
       "        0.        ,  0.        ,  0.        ,  0.        ,  0.        ,\n",
       "        0.        ,  0.        ,  0.        ,  0.        ,  0.        ,\n",
       "        0.        ,  0.        ,  0.        ,  0.        ,  0.        ,\n",
       "        0.        ,  0.        ,  0.        ,  0.        ,  0.        ,\n",
       "        0.        ,  0.        ,  0.        ,  0.        ,  0.        ,\n",
       "        0.        ,  0.        ,  0.        ,  0.        ,  0.        ,\n",
       "        0.        ,  0.        ,  0.        ,  0.        ,  0.        ,\n",
       "        0.        ,  0.        ,  0.        ,  0.        ,  0.        ,\n",
       "        0.        ,  0.        ,  0.        ,  0.        ,  0.        ,\n",
       "        0.        ,  0.        ,  0.        ,  0.        ,  0.        ,\n",
       "        0.        ,  0.        ,  0.        ,  0.        ,  0.        ,\n",
       "        0.        ,  0.        ,  0.        ,  0.        ,  0.        ,\n",
       "        0.        ,  0.        ,  0.        ,  0.        ,  0.        ,\n",
       "        0.        ,  0.        ,  0.        ,  0.        ,  0.        ,\n",
       "        0.        ,  0.        ,  0.        ,  0.        ,  0.        ,\n",
       "        0.        ,  0.        ,  0.        ,  0.        ,  0.        ,\n",
       "        0.        ,  0.        ,  0.        ,  0.        ,  0.        ,\n",
       "        0.        ,  0.        ,  0.        ,  0.        ,  0.        ,\n",
       "        0.        ,  0.        ,  0.        ,  0.        ,  0.        ,\n",
       "        0.        ,  0.        ,  0.        ,  0.        ,  0.        ,\n",
       "        0.        ,  0.        ,  0.        ,  0.        ,  0.        ,\n",
       "        0.        ,  0.        ,  0.        ,  0.        ,  0.        ,\n",
       "        0.        ,  0.        ,  0.        ,  0.        ,  0.        ,\n",
       "        0.        ,  0.        ,  0.        ,  0.        ,  0.        ,\n",
       "        0.        ,  0.        ,  0.        ,  0.        ,  0.        ,\n",
       "        0.        ,  0.        ,  0.        ,  0.        ,  0.        ,\n",
       "        0.        ,  0.        ,  0.        ,  0.        ,  0.        ,\n",
       "        0.        ,  0.        ,  0.        ,  0.        ,  0.        ,\n",
       "        0.        ,  0.        ,  0.        ,  0.        ,  0.        ,\n",
       "        0.        ,  0.        ,  0.        ,  0.        ,  0.        ,\n",
       "        0.        ,  0.        ,  0.        ,  0.        ,  0.        ,\n",
       "        0.        ,  0.        ,  0.        ,  0.        ,  0.        ,\n",
       "        0.        ,  0.        ,  0.        ,  0.        ,  0.        ,\n",
       "        0.        ,  0.        ,  0.        ,  0.        ,  0.        ,\n",
       "        0.        ,  0.        ,  0.        ,  0.        ,  0.        ,\n",
       "        0.        ,  0.        ,  0.        ,  0.        ,  0.        ,\n",
       "        0.        ,  0.        ,  0.        ,  0.        ,  0.        ,\n",
       "        0.        ,  0.        ,  0.        ,  0.        ,  0.        ,\n",
       "        0.        ,  0.        ,  0.        ,  0.        ,  0.        ,\n",
       "        0.        ,  0.        ,  0.        ,  0.        ,  0.        ,\n",
       "        0.        ,  0.        ,  0.        ,  0.        ,  0.        ,\n",
       "        0.        ,  0.        ,  0.        ,  0.        ,  0.        ,\n",
       "        0.        ,  0.        ,  0.        ,  0.        ,  0.        ,\n",
       "        0.        ,  0.        ,  0.        ,  0.        ,  0.        ,\n",
       "        0.        ,  0.        ,  0.        ,  0.        ,  0.        ,\n",
       "        0.        ])"
      ]
     },
     "execution_count": 12,
     "metadata": {},
     "output_type": "execute_result"
    }
   ],
   "source": [
    "co2_emissions  # unit: GtCO2 / yr"
   ]
  },
  {
   "cell_type": "code",
   "execution_count": 14,
   "id": "0e5e3a7b",
   "metadata": {},
   "outputs": [
    {
     "name": "stdout",
     "output_type": "stream",
     "text": [
      "11.412622431258765 0.020358685640761567\n"
     ]
    }
   ],
   "source": [
    "co2_concentrations = np.ones(len(co2_emissions)) * np.nan\n",
    "\n",
    "co2_boxes = 0  # confusion with alpha parameter\n",
    "airborne_emissions = 0\n",
    "pre_industrial_concentration = 278.3\n",
    "co2_concentrations[0] = pre_industrial_concentration  # TODO: provide pre-defined PI controls\n",
    "co2_cumulative_emissions = np.cumsum(co2_emissions)\n",
    "iirf_0 = 29\n",
    "iirf_cumulative = 0.031/3.664\n",
    "iirf_temperature = 4.0\n",
    "iirf_airborne = 0.003/3.664\n",
    "\n",
    "iirf_horizon = 100\n",
    "g1 = np.sum(partition_fractions['CO2'] * lifetime['CO2'] * (1 - (1 + iirf_horizon/lifetime['CO2']) * np.exp(-iirf_horizon/lifetime['CO2'])))\n",
    "g0 = 1/(np.sinh(np.sum(partition_fractions['CO2']*lifetime['CO2']*(1 - np.exp(-iirf_horizon/lifetime['CO2'])) , axis=-1)/g1))\n",
    "\n",
    "print(g1, g0)\n",
    "\n",
    "for i in range(len(co2_emissions)):\n",
    "    \n",
    "    # airborne_emissions = np.sum(co2_boxes)\n",
    "    \n",
    "    alpha_lifetime = calculate_alpha(\n",
    "        co2_cumulative_emissions[i],\n",
    "        airborne_emissions,\n",
    "        ssp245_temperature_rfmip[i],\n",
    "        iirf_0,\n",
    "        iirf_cumulative,\n",
    "        iirf_temperature,\n",
    "        iirf_airborne,\n",
    "        g0,\n",
    "        g1,\n",
    "    )\n",
    "    \n",
    "    co2_concentrations[i], co2_boxes, airborne_emissions = step_concentration_co2(\n",
    "        co2_emissions[i], \n",
    "        co2_boxes,\n",
    "        airborne_emissions, \n",
    "        burden_per_emission['CO2'], # could be taken from constants\n",
    "        alpha_lifetime=alpha_lifetime,\n",
    "        pre_industrial_concentration=278.3,  # put in a defaults module\n",
    "        timestep=1,\n",
    "    )"
   ]
  },
  {
   "cell_type": "markdown",
   "id": "390ccb96",
   "metadata": {},
   "source": [
    "Here, we see an almost perfect agreement with the MAGICC-derived CO2 projections with appropriate carbon cycle parameter tuning"
   ]
  },
  {
   "cell_type": "code",
   "execution_count": 15,
   "id": "94c74850",
   "metadata": {},
   "outputs": [
    {
     "data": {
      "text/plain": [
       "Text(0.5, 1.0, 'CO2 concentrations: SSP2-4.5')"
      ]
     },
     "execution_count": 15,
     "metadata": {},
     "output_type": "execute_result"
    },
    {
     "data": {
      "image/png": "[encoded data removed]",
      "text/plain": [
       "<Figure size 432x288 with 1 Axes>"
      ]
     },
     "metadata": {
      "needs_background": "light"
     },
     "output_type": "display_data"
    }
   ],
   "source": [
    "pl.plot(np.arange(1750.5, 2501), co2_concentrations, label='FaIR 2.1')\n",
    "pl.plot(np.arange(1750.5, 2501), co2_concentrations_rfmip, label='History + MAGICC6')\n",
    "#pl.plot(np.arange(1750+1/24, 2501, 1/12), cfc11_concentrations_monthly)\n",
    "pl.legend()\n",
    "pl.title('CO2 concentrations: SSP2-4.5')"
   ]
  },
  {
   "cell_type": "code",
   "execution_count": 16,
   "id": "9416c91c",
   "metadata": {},
   "outputs": [
    {
     "data": {
      "text/plain": [
       "(416.7828807976373, 414.3899637858073)"
      ]
     },
     "execution_count": 16,
     "metadata": {},
     "output_type": "execute_result"
    }
   ],
   "source": [
    "co2_concentrations[270], co2_concentrations_rfmip[270]"
   ]
  },
  {
   "cell_type": "markdown",
   "id": "87d4ed5d",
   "metadata": {},
   "source": [
    "### Methane: an in-between case\n",
    "\n",
    "methane has a lifetime feedback, and it also affects ozone and stratospheric water vapor forcing.\n",
    "\n",
    "The step concentration for a one-box gas will work here, but we need an alpha adjustment."
   ]
  },
  {
   "cell_type": "code",
   "execution_count": 17,
   "id": "03bcc65e",
   "metadata": {},
   "outputs": [],
   "source": [
    "ch4_concentrations = np.ones(len(ch4_emissions)) * np.nan\n",
    "\n",
    "ch4_boxes = 0\n",
    "airborne_emissions = 0\n",
    "pre_industrial_concentration = 729.2\n",
    "ch4_concentrations[0] = pre_industrial_concentration # TODO: provide pre-defined PI controls\n",
    "ch4_cumulative_emissions = np.cumsum(ch4_emissions) # cumulative emissions are not contributing to methane lifetime, but we'll track them in case future research makes them relevant\n",
    "iirf_0 = lifetime['CH4']\n",
    "iirf_cumulative = 0.0\n",
    "iirf_temperature = -0.3\n",
    "iirf_airborne = 0.00032\n",
    "iirf_horizon = 100\n",
    "\n",
    "g1 = lifetime['CH4'] * (1 - (1 + iirf_horizon/lifetime['CH4']) * np.exp(-iirf_horizon/lifetime['CH4']))\n",
    "g0 = 1/(np.sinh((lifetime['CH4']*(1 - np.exp(-iirf_horizon/lifetime['CH4'])))/g1))\n",
    "\n",
    "ch4_lifetime = np.ones(len(ch4_emissions)) * np.nan\n",
    "\n",
    "for i in range(len(ch4_emissions)):\n",
    "    alpha_lifetime = calculate_alpha(\n",
    "        ch4_cumulative_emissions[i],\n",
    "        airborne_emissions,\n",
    "        ssp245_temperature_rfmip[i],\n",
    "        iirf_0,\n",
    "        iirf_cumulative,\n",
    "        iirf_temperature,\n",
    "        iirf_airborne,\n",
    "        g0,\n",
    "        g1,\n",
    "    )\n",
    "    \n",
    "    ch4_lifetime[i] = alpha_lifetime * lifetime['CH4']\n",
    "    \n",
    "    ch4_concentrations[i], airborne_emissions = step_concentration_1box(\n",
    "        ch4_emissions[i], \n",
    "        airborne_emissions, \n",
    "        lifetime['CH4'],\n",
    "        burden_per_emission['CH4'], # could be taken from constants\n",
    "        alpha_lifetime=alpha_lifetime,\n",
    "        pre_industrial_concentration=pre_industrial_concentration,  # put in a defaults module\n",
    "        timestep=1,\n",
    "    )"
   ]
  },
  {
   "cell_type": "code",
   "execution_count": 18,
   "id": "fa826234",
   "metadata": {},
   "outputs": [
    {
     "data": {
      "text/plain": [
       "[<matplotlib.lines.Line2D at 0x7fcd0179eb90>]"
      ]
     },
     "execution_count": 18,
     "metadata": {},
     "output_type": "execute_result"
    },
    {
     "data": {
      "image/png": "[encoded data removed]",
      "text/plain": [
       "<Figure size 432x288 with 1 Axes>"
      ]
     },
     "metadata": {
      "needs_background": "light"
     },
     "output_type": "display_data"
    }
   ],
   "source": [
    "pl.plot(np.arange(1750.5, 2501), ch4_concentrations, label='FaIR 2.1')\n",
    "pl.plot(np.arange(1750.5, 2501), ch4_concentrations_rfmip, label='History + MAGICC6')\n",
    "#pl.plot(np.arange(1750+1/24, 2501, 1/12), cfc11_concentrations_monthly)\n",
    "pl.legend()\n",
    "pl.title('CH4 concentrations: SSP2-4.5')\n",
    "pl.plot(2020, 1870, 'k+')"
   ]
  },
  {
   "cell_type": "code",
   "execution_count": 19,
   "id": "9d0ec4b6",
   "metadata": {},
   "outputs": [
    {
     "data": {
      "text/plain": [
       "[<matplotlib.lines.Line2D at 0x7fcd018e1b50>]"
      ]
     },
     "execution_count": 19,
     "metadata": {},
     "output_type": "execute_result"
    },
    {
     "data": {
      "image/png": "[encoded data removed]",
      "text/plain": [
       "<Figure size 432x288 with 1 Axes>"
      ]
     },
     "metadata": {
      "needs_background": "light"
     },
     "output_type": "display_data"
    }
   ],
   "source": [
    "pl.plot(np.arange(1750.5, 2501), ch4_lifetime)"
   ]
  },
  {
   "cell_type": "code",
   "execution_count": 20,
   "id": "7e94c364",
   "metadata": {},
   "outputs": [
    {
     "data": {
      "text/plain": [
       "1911.5546468785337"
      ]
     },
     "execution_count": 20,
     "metadata": {},
     "output_type": "execute_result"
    }
   ],
   "source": [
    "ch4_concentrations[270]"
   ]
  },
  {
   "cell_type": "code",
   "execution_count": 21,
   "id": "68290eae",
   "metadata": {},
   "outputs": [
    {
     "data": {
      "text/plain": [
       "9.148354986900035"
      ]
     },
     "execution_count": 21,
     "metadata": {},
     "output_type": "execute_result"
    }
   ],
   "source": [
    "ch4_lifetime[258:268].mean()  # good job, Nick. IPCC assess 9.1"
   ]
  },
  {
   "cell_type": "code",
   "execution_count": null,
   "id": "1111dbdf",
   "metadata": {},
   "outputs": [],
   "source": []
  }
 ],
 "metadata": {
  "kernelspec": {
   "display_name": "Python 3 (ipykernel)",
   "language": "python",
   "name": "python3"
  },
  "language_info": {
   "codemirror_mode": {
    "name": "ipython",
    "version": 3
   },
   "file_extension": ".py",
   "mimetype": "text/x-python",
   "name": "python",
   "nbconvert_exporter": "python",
   "pygments_lexer": "ipython3",
   "version": "3.7.10"
  }
 },
 "nbformat": 4,
 "nbformat_minor": 5
}
