{
 "cells": [
  {
   "cell_type": "markdown",
   "id": "7aa3c889",
   "metadata": {},
   "source": [
    "# Emissions to forcing for contrails\n",
    "\n",
    "Should be relatively straightforward."
   ]
  },
  {
   "cell_type": "code",
   "execution_count": null,
   "id": "2d3b561a",
   "metadata": {},
   "outputs": [],
   "source": [
    "import pandas as pd\n",
    "import numpy as np\n",
    "import matplotlib.pyplot as pl\n",
    "\n",
    "from fair21.forcing.contrail import linear_from_nox_aviation\n",
    "from fair21.defaults.short_lived_forcers import pre_industrial_emissions"
   ]
  },
  {
   "cell_type": "code",
   "execution_count": null,
   "id": "a4205a05",
   "metadata": {},
   "outputs": [],
   "source": [
    "# grab some emissions\n",
    "emissions = {}\n",
    "df = pd.read_csv('../data/rcmip/rcmip-emissions-annual-means-v5-1-0.csv')\n",
    "specie = \"NOx|MAGICC Fossil and Industrial|Aircraft\"\n",
    "specie_rcmip_name = specie\n",
    "emissions[specie] = df.loc[\n",
    "    (df['Scenario']=='ssp245') & (df['Variable'].str.endswith(\"|\"+specie_rcmip_name)) & (df['Region']=='World'), '1750':\n",
    "].interpolate(axis=1).values.squeeze()"
   ]
  },
  {
   "cell_type": "code",
   "execution_count": null,
   "id": "1684134a",
   "metadata": {},
   "outputs": [],
   "source": [
    "# initialise dicts for outputs. These will eventually be moved to the forward model\n",
    "n_timesteps = len(emissions[specie])"
   ]
  },
  {
   "cell_type": "code",
   "execution_count": null,
   "id": "f353dfdf",
   "metadata": {},
   "outputs": [],
   "source": [
    "erf_contrail = linear_from_nox_aviation(\n",
    "    emissions,\n",
    ")"
   ]
  },
  {
   "cell_type": "code",
   "execution_count": null,
   "id": "69f13b1b",
   "metadata": {},
   "outputs": [],
   "source": [
    "pl.plot(np.arange(1750.5, 2501), erf_contrail)"
   ]
  },
  {
   "cell_type": "code",
   "execution_count": null,
   "id": "d7ebce68",
   "metadata": {},
   "outputs": [],
   "source": []
  }
 ],
 "metadata": {
  "kernelspec": {
   "display_name": "Python 3 (ipykernel)",
   "language": "python",
   "name": "python3"
  },
  "language_info": {
   "codemirror_mode": {
    "name": "ipython",
    "version": 3
   },
   "file_extension": ".py",
   "mimetype": "text/x-python",
   "name": "python",
   "nbconvert_exporter": "python",
   "pygments_lexer": "ipython3",
   "version": "3.7.10"
  }
 },
 "nbformat": 4,
 "nbformat_minor": 5
}
