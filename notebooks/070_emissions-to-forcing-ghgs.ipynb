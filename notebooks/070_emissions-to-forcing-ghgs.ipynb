{
 "cells": [
  {
   "cell_type": "markdown",
   "id": "3e085bcf",
   "metadata": {},
   "source": [
    "# Check forcing of greenhouse gases"
   ]
  },
  {
   "cell_type": "code",
   "execution_count": null,
   "id": "a7781296",
   "metadata": {},
   "outputs": [],
   "source": [
    "import numpy as np\n",
    "import pandas as pd\n",
    "import matplotlib.pyplot as pl\n",
    "\n",
    "from fair21.constants.gases import molwt, burden_per_emission, lifetime\n",
    "from fair21.defaults.gases import (\n",
    "    partition_fraction,\n",
    "    pre_industrial_concentration,\n",
    "    natural_emissions_adjustment,\n",
    "    iirf_0,\n",
    "    iirf_cumulative,\n",
    "    iirf_temperature,\n",
    "    iirf_airborne,\n",
    "    iirf_horizon\n",
    ")\n",
    "from fair21.constants.general import TIME_AXIS, SPECIES_AXIS\n",
    "from fair21.defaults import gas_list, n_gas_boxes\n",
    "from fair21.defaults.forcing import tropospheric_adjustment\n",
    "from fair21.gas_cycle import (\n",
    "    calculate_g,\n",
    "    calculate_alpha,\n",
    ")\n",
    "from fair21.defaults.gases import radiative_efficiency\n",
    "from fair21.gas_cycle.forward import step_concentration\n",
    "from fair21.forcing.ghg import ghg"
   ]
  },
  {
   "cell_type": "code",
   "execution_count": null,
   "id": "aeca32e5",
   "metadata": {},
   "outputs": [],
   "source": [
    "scenarios = ['ssp119', 'ssp126', 'ssp245', 'ssp370', 'ssp434', 'ssp460', 'ssp534-over', 'ssp585']"
   ]
  },
  {
   "cell_type": "code",
   "execution_count": null,
   "id": "be4f105c",
   "metadata": {},
   "outputs": [],
   "source": [
    "# grab some emissions\n",
    "# we need to track indices of CO2, CH4 and N2O\n",
    "gas_index_mapping = {}\n",
    "emissions_array = np.ones((8, 43, 751, 1)) * np.nan\n",
    "df = pd.read_csv('../data/rcmip/rcmip-emissions-annual-means-v5-1-0.csv')\n",
    "for iscen, scenario in enumerate(scenarios):\n",
    "    for igas, gas in enumerate(gas_list):\n",
    "        gas_index_mapping[gas] = igas\n",
    "        gas_rcmip_name = gas.replace(\"-\", \"\")\n",
    "        emissions_array[iscen, igas, ...] = df.loc[\n",
    "            (df['Scenario']==scenario) & (df['Variable'].str.endswith(\"|\"+gas_rcmip_name)) & (df['Region']=='World'), '1750':\n",
    "        ].interpolate(axis=1).values.T\n",
    "    \n",
    "        # CO2 and N2O units need to behave\n",
    "        if gas in ('CO2', 'N2O'):\n",
    "            emissions_array[iscen, igas, :, :] = emissions_array[iscen, igas, :, :] / 1000"
   ]
  },
  {
   "cell_type": "code",
   "execution_count": null,
   "id": "b8e38da0",
   "metadata": {},
   "outputs": [],
   "source": [
    "gas_index_mapping"
   ]
  },
  {
   "cell_type": "code",
   "execution_count": null,
   "id": "7838847a",
   "metadata": {},
   "outputs": [],
   "source": [
    "# grab indicative temperature projections\n",
    "df = pd.read_csv('../data/rcmip-phase2/rcmip-phase2-fair162-ssp585-mean-temperature.csv')\n",
    "ssp585_temperature_rfmip = df['temperature'].values"
   ]
  },
  {
   "cell_type": "code",
   "execution_count": null,
   "id": "d287a28e",
   "metadata": {},
   "outputs": [],
   "source": [
    "# initialise dicts for outputs. These will eventually be moved to the forward model\n",
    "concentration = {}\n",
    "airborne_emissions = {}\n",
    "cumulative_emissions = {}\n",
    "effective_radiative_forcing = {}\n",
    "\n",
    "n_gases = len(gas_list)\n",
    "n_timesteps = 751\n",
    "n_scenarios = len(scenarios)\n",
    "n_gases"
   ]
  },
  {
   "cell_type": "code",
   "execution_count": null,
   "id": "a01fe97a",
   "metadata": {},
   "outputs": [],
   "source": [
    "# initialise arrays. Using arrays makes things run quicker\n",
    "\n",
    "# remember: scen, species, time, box\n",
    "# where we don't care about keeping outputs we use a singleton dimension to maintain bookkeeping\n",
    "# possible memory saver: differentiate between ensembles where we vary emissions and those where we vary climate parameters\n",
    "\n",
    "# this scenario definition needs to be part of the initialisation, either from pyam, scmdata or fair emissions files\n",
    "concentration_array = np.ones((n_scenarios, n_gases, n_timesteps, 1)) * np.nan\n",
    "g0 = np.ones((n_scenarios, n_gases, 1, 1)) * np.nan\n",
    "g1 = np.ones((n_scenarios, n_gases, 1, 1)) * np.nan\n",
    "alpha_lifetime = np.ones((n_scenarios, n_gases, 1, 1))\n",
    "airborne_emissions = np.zeros((n_scenarios, n_gases, 1, 1))\n",
    "gas_boxes = np.zeros((n_scenarios, n_gases, 1, n_gas_boxes))\n",
    "iirf_0_array = np.ones((n_scenarios, n_gases, 1, 1)) * np.nan\n",
    "iirf_cumulative_array = np.ones((n_scenarios, n_gases, 1, 1)) * np.nan\n",
    "iirf_temperature_array = np.ones((n_scenarios, n_gases, 1, 1)) * np.nan\n",
    "iirf_airborne_array = np.ones((n_scenarios, n_gases, 1, 1)) * np.nan\n",
    "burden_per_emission_array = np.ones((1, n_gases, 1, 1)) * np.nan\n",
    "lifetime_array = np.ones((n_scenarios, n_gases, 1, n_gas_boxes)) * np.nan\n",
    "pre_industrial_concentration_array = np.ones((n_scenarios, n_gases, 1, 1)) * np.nan\n",
    "partition_fraction_array = np.zeros((n_scenarios, n_gases, 1, n_gas_boxes))\n",
    "natural_emissions_adjustment_array = np.ones((n_scenarios, n_gases, 1, 1)) * np.nan\n",
    "\n",
    "cumulative_emissions_array = np.cumsum(emissions_array, axis=TIME_AXIS)\n",
    "\n",
    "# this one for the forcing\n",
    "tropospheric_adjustment_array = np.ones((n_scenarios, n_gases, 1, 1)) * np.nan\n",
    "radiative_efficiency_array = np.ones((n_scenarios, n_gases, 1, 1)) * np.nan\n",
    "\n",
    "for igas, gas in enumerate(gas_list):\n",
    "    lifetime_array[:, igas, :, :] = lifetime[gas]\n",
    "    partition_fraction_array[:, igas, :, :] = partition_fraction[gas]\n",
    "    iirf_0_array[:, igas, :, :] = iirf_0[gas]\n",
    "    iirf_cumulative_array[:, igas, :, :] = iirf_cumulative[gas]\n",
    "    iirf_temperature_array[:, igas, :, :] = iirf_temperature[gas]\n",
    "    iirf_airborne_array[:, igas, :, :] = iirf_airborne[gas]\n",
    "    burden_per_emission_array[:, igas, :, :] = burden_per_emission[gas]\n",
    "    pre_industrial_concentration_array[:, igas, :, :] = pre_industrial_concentration[gas]\n",
    "    partition_fraction_array[:, igas, :, :] = partition_fraction[gas]\n",
    "    natural_emissions_adjustment_array[:, igas, :, :] = natural_emissions_adjustment[gas]\n",
    "    \n",
    "    # this one for the forcing\n",
    "    tropospheric_adjustment_array[:, igas, :, :] = tropospheric_adjustment[gas]\n",
    "    if gas not in (\"CO2\", \"CH4\", \"N2O\"):\n",
    "        radiative_efficiency_array[:, igas, :, :] = radiative_efficiency[gas]\n",
    "\n",
    "g0, g1 = calculate_g(lifetime_array, partition_fraction_array)"
   ]
  },
  {
   "cell_type": "code",
   "execution_count": null,
   "id": "0028b32c",
   "metadata": {},
   "outputs": [],
   "source": [
    "%%time\n",
    "\n",
    "for i_timestep in range(n_timesteps):\n",
    "    alpha_lifetime = calculate_alpha(\n",
    "        cumulative_emissions_array[:, :, [i_timestep], :],\n",
    "        airborne_emissions[:, :, [0], :],\n",
    "        ssp585_temperature_rfmip[i_timestep],\n",
    "        iirf_0_array,\n",
    "        iirf_cumulative_array,\n",
    "        iirf_temperature_array,\n",
    "        iirf_airborne_array,\n",
    "        g0,\n",
    "        g1,\n",
    "    )\n",
    "    alpha_lifetime[np.isnan(alpha_lifetime)]=1  # CF4 seems to have an issue. Should we raise warning?\n",
    "    concentration_array[:, :, [i_timestep], :], gas_boxes, airborne_emissions = step_concentration(\n",
    "        emissions_array[:, :, [i_timestep], :], \n",
    "        gas_boxes,\n",
    "        airborne_emissions, \n",
    "        burden_per_emission_array,\n",
    "        lifetime_array,\n",
    "        alpha_lifetime=alpha_lifetime,\n",
    "        pre_industrial_concentration=pre_industrial_concentration_array,\n",
    "        timestep=1,\n",
    "        partition_fraction=partition_fraction_array,\n",
    "        natural_emissions_adjustment=natural_emissions_adjustment_array,\n",
    "    )"
   ]
  },
  {
   "cell_type": "code",
   "execution_count": null,
   "id": "742c0b0d",
   "metadata": {},
   "outputs": [],
   "source": [
    "concentration_array[7, 21, :, 0]"
   ]
  },
  {
   "cell_type": "code",
   "execution_count": null,
   "id": "e79bb346",
   "metadata": {},
   "outputs": [],
   "source": [
    "%%time\n",
    "erf = ghg(concentration_array, pre_industrial_concentration_array, tropospheric_adjustment_array, radiative_efficiency_array, gas_index_mapping)"
   ]
  },
  {
   "cell_type": "code",
   "execution_count": null,
   "id": "88363ecd",
   "metadata": {},
   "outputs": [],
   "source": [
    "fig, ax = pl.subplots(1, 3, figsize=(16,9))\n",
    "for iscen, scenario in enumerate(scenarios):\n",
    "    for igas, gas in enumerate(['CO2', 'CH4', 'N2O']):\n",
    "        ax[igas].plot(np.arange(1750.5, 2501), erf[iscen, gas_index_mapping[gas], :, 0], label='FaIR 2.1')\n",
    "        ax[igas].set_title(gas)\n",
    "fig.tight_layout()"
   ]
  },
  {
   "cell_type": "code",
   "execution_count": null,
   "id": "93084dc8",
   "metadata": {},
   "outputs": [],
   "source": [
    "# put back together\n",
    "effective_radiative_forcing = {}\n",
    "\n",
    "for iscen, scenario in enumerate(scenarios):\n",
    "    effective_radiative_forcing[scenario] = {}\n",
    "    for igas, gas in enumerate(gas_list):\n",
    "        effective_radiative_forcing[scenario][gas] = erf[iscen, igas, ...]"
   ]
  },
  {
   "cell_type": "code",
   "execution_count": null,
   "id": "2fc3e46a",
   "metadata": {},
   "outputs": [],
   "source": [
    "fig, ax = pl.subplots(6, 8, figsize=(16,16))\n",
    "for igas, gas in enumerate(gas_list):\n",
    "    iy = igas % 8\n",
    "    ix = igas // 8\n",
    "    for iscen, scenario in enumerate(scenarios):\n",
    "        ax[ix, iy].plot(np.arange(1750.5, 2501), effective_radiative_forcing[scenario][gas], label='FaIR 2.1')\n",
    "    ax[ix, iy].set_title(gas)\n",
    "fig.tight_layout()"
   ]
  },
  {
   "cell_type": "code",
   "execution_count": null,
   "id": "bc3fa732",
   "metadata": {},
   "outputs": [],
   "source": []
  }
 ],
 "metadata": {
  "kernelspec": {
   "display_name": "Python 3 (ipykernel)",
   "language": "python",
   "name": "python3"
  },
  "language_info": {
   "codemirror_mode": {
    "name": "ipython",
    "version": 3
   },
   "file_extension": ".py",
   "mimetype": "text/x-python",
   "name": "python",
   "nbconvert_exporter": "python",
   "pygments_lexer": "ipython3",
   "version": "3.7.12"
  }
 },
 "nbformat": 4,
 "nbformat_minor": 5
}
