{
 "cells": [
  {
   "cell_type": "markdown",
   "id": "3bd1fb58",
   "metadata": {},
   "source": [
    "# Download RCMIP emissions and concentrations data and Smith et al. (2021) aerosol coefficients\n",
    "\n",
    "Zebedee Nicholls, & Jared Lewis. (2021). Reduced Complexity Model Intercomparison Project (RCMIP) protocol (v5.1.0) [Data set]. Zenodo. https://doi.org/10.5281/zenodo.4589756\n",
    "\n",
    "Nicholls, Z. R. J., Meinshausen, M., Lewis, J., Gieseke, R., Dommenget, D., Dorheim, K., Fan, C.-S., Fuglestvedt, J. S., Gasser, T., Golüke, U., Goodwin, P., Hartin, C., Hope, A. P., Kriegler, E., Leach, N. J., Marchegiani, D., McBride, L. A., Quilcaille, Y., Rogelj, J., Salawitch, R. J., Samset, B. H., Sandstad, M., Shiklomanov, A. N., Skeie, R. B., Smith, C. J., Smith, S., Tanaka, K., Tsutsui, J., and Xie, Z.: Reduced Complexity Model Intercomparison Project Phase 1: introduction and evaluation of global-mean temperature response, Geosci. Model Dev., 13, 5175–5190, https://doi.org/10.5194/gmd-13-5175-2020, 2020.\n",
    "\n",
    "Smith, C. J., Harris, G., Palmer, M., Bellouin, N., Myhre, G., Schulz, M., Golaz, J.-C., Ringer, M., Storelvmo, T., Forster, P., 2021. Energy Budget Constraints on the Time History of Aerosol Forcing and Climate Sensitivity, Journal of Geophysical Research Atmospheres, 126, e2020JD033622, https://doi.org/10.1029/2020JD033622"
   ]
  },
  {
   "cell_type": "code",
   "execution_count": null,
   "id": "22079d84",
   "metadata": {},
   "outputs": [],
   "source": [
    "from climateforcing.utils import mkdir_p, check_and_download\n",
    "import os"
   ]
  },
  {
   "cell_type": "code",
   "execution_count": null,
   "id": "87a3bf82",
   "metadata": {},
   "outputs": [],
   "source": [
    "# directory in which to extract data\n",
    "DATA_DIR = os.path.join(\"..\", \"data\", \"rcmip\")\n",
    "mkdir_p(DATA_DIR)"
   ]
  },
  {
   "cell_type": "code",
   "execution_count": null,
   "id": "9617d4f0",
   "metadata": {},
   "outputs": [],
   "source": [
    "check_and_download(\n",
    "    url=\"https://zenodo.org/record/4589756/files/rcmip-emissions-annual-means-v5-1-0.csv\",\n",
    "    filepath = os.path.join(DATA_DIR, \"rcmip-emissions-annual-means-v5-1-0.csv\")\n",
    ")\n",
    "\n",
    "check_and_download(\n",
    "    url=\"https://zenodo.org/record/4589756/files/rcmip-concentrations-annual-means-v5-1-0.csv\",\n",
    "    filepath = os.path.join(DATA_DIR, \"rcmip-concentrations-annual-means-v5-1-0.csv\")\n",
    ")\n",
    "\n",
    "check_and_download(\n",
    "    url=\"https://zenodo.org/record/4589756/files/rcmip-radiative-forcing-annual-means-v5-1-0.csv\",\n",
    "    filepath = os.path.join(DATA_DIR, \"rcmip-radiative-forcing-annual-means-v5-1-0.csv\")\n",
    ")"
   ]
  },
  {
   "cell_type": "code",
   "execution_count": null,
   "id": "ead396e8",
   "metadata": {},
   "outputs": [],
   "source": [
    "check_and_download(\n",
    "    url=\"https://github.com/chrisroadmap/aerosol-history/raw/main/data_output/cmip6_aerosol_coefficients.json\",\n",
    "    filepath = '../data/smith2021aerosol/'\n",
    ")"
   ]
  },
  {
   "cell_type": "code",
   "execution_count": null,
   "id": "c936052d",
   "metadata": {},
   "outputs": [],
   "source": []
  }
 ],
 "metadata": {
  "kernelspec": {
   "display_name": "Python 3 (ipykernel)",
   "language": "python",
   "name": "python3"
  },
  "language_info": {
   "codemirror_mode": {
    "name": "ipython",
    "version": 3
   },
   "file_extension": ".py",
   "mimetype": "text/x-python",
   "name": "python",
   "nbconvert_exporter": "python",
   "pygments_lexer": "ipython3",
   "version": "3.7.12"
  }
 },
 "nbformat": 4,
 "nbformat_minor": 5
}
