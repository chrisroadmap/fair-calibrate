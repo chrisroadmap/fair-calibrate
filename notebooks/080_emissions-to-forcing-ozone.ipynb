{
 "cells": [
  {
   "cell_type": "markdown",
   "id": "7aa3c889",
   "metadata": {},
   "source": [
    "# Emissions to forcing for ozone\n",
    "\n",
    "Keep the AR6 treatment in FaIR v1.6.2+ and remove all previous incarnations.\n",
    "\n",
    "Remember, we now don't separate tropospheric and stratospheric.\n",
    "\n",
    "There is a feedback of temperature on ozone forcing."
   ]
  },
  {
   "cell_type": "code",
   "execution_count": null,
   "id": "2d3b561a",
   "metadata": {},
   "outputs": [],
   "source": []
  }
 ],
 "metadata": {
  "kernelspec": {
   "display_name": "Python 3 (ipykernel)",
   "language": "python",
   "name": "python3"
  },
  "language_info": {
   "codemirror_mode": {
    "name": "ipython",
    "version": 3
   },
   "file_extension": ".py",
   "mimetype": "text/x-python",
   "name": "python",
   "nbconvert_exporter": "python",
   "pygments_lexer": "ipython3",
   "version": "3.7.10"
  }
 },
 "nbformat": 4,
 "nbformat_minor": 5
}
