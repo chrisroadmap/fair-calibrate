{
 "cells": [
  {
   "cell_type": "markdown",
   "id": "2f46afde",
   "metadata": {},
   "source": [
    "# Combine Hege-Beate's 4xCO2 text data into one file\n",
    "\n",
    "This replaces the original download of 4xCO2 data using `netcdf-scm`. Hege-Beate's data contains many more models."
   ]
  },
  {
   "cell_type": "code",
   "execution_count": null,
   "id": "79cc1fa6",
   "metadata": {},
   "outputs": [],
   "source": [
    "import pandas as pd\n",
    "import glob\n",
    "from pathlib import PurePath\n",
    "import os\n",
    "from dotenv import dotenv_values\n",
    "from fair import __version__"
   ]
  },
  {
   "cell_type": "code",
   "execution_count": null,
   "id": "d1e83889",
   "metadata": {},
   "outputs": [],
   "source": [
    "cal_v = dotenv_values(\"../../.env\")['CALIBRATION_VERSION']\n",
    "fair_v = dotenv_values(\"../../.env\")['FAIR_VERSION']\n",
    "\n",
    "assert fair_v == __version__"
   ]
  },
  {
   "cell_type": "code",
   "execution_count": null,
   "id": "f544a120",
   "metadata": {},
   "outputs": [],
   "source": [
    "available_files = glob.glob('../../data/cmip6-hbf/cmip_data/*/abrupt-4xCO2/*_abrupt-4xCO2_*_anomalies.txt')"
   ]
  },
  {
   "cell_type": "code",
   "execution_count": null,
   "id": "4c338768",
   "metadata": {},
   "outputs": [],
   "source": [
    "models = []  # not unique\n",
    "runs = []\n",
    "lines = []\n",
    "for file in available_files:\n",
    "    model = PurePath(file).parts[5]\n",
    "    run = PurePath(file).parts[7].split('_')[2]\n",
    "    models.append(model)\n",
    "    runs.append(run)\n",
    "    df = pd.read_csv(file, index_col=0)\n",
    "    vars = {}\n",
    "    for var in ['tas', 'rlut', 'rsut', 'rsdt']:\n",
    "        vars[var] = df[var].values[:150].squeeze()\n",
    "        line = ['CMIP', model, run, 'CMIP6', 'unspecified', 'World', 'abrupt-4xCO2', 'W m^-2', var]\n",
    "        line.extend(vars[var])\n",
    "        lines.append(line)\n",
    "    vars['rndt'] = vars['rsdt'] - vars['rsut'] - vars['rlut']\n",
    "    line = ['CMIP', model, run, 'CMIP6', 'unspecified', 'World', 'abrupt-4xCO2', 'W m^-2', 'rndt']\n",
    "    line.extend(vars['rndt'])\n",
    "    lines.append(line)"
   ]
  },
  {
   "cell_type": "code",
   "execution_count": null,
   "id": "754c15ad",
   "metadata": {},
   "outputs": [],
   "source": [
    "df = pd.DataFrame(\n",
    "    lines, columns = (\n",
    "        ['activity_id', 'climate_model', 'member_id', 'mip_era', 'model', 'region', 'scenario', 'unit', 'variable'] +\n",
    "        [\"X%d\" % year for year in range(1850, 2000)]\n",
    "    )\n",
    ")\n",
    "df.dropna(inplace=True)"
   ]
  },
  {
   "cell_type": "code",
   "execution_count": null,
   "id": "b78601e2",
   "metadata": {},
   "outputs": [],
   "source": [
    "os.makedirs(f'../../output/fair-{fair_v}/v{cal_v}/calibrations/', exist_ok=True)"
   ]
  },
  {
   "cell_type": "code",
   "execution_count": null,
   "id": "15c79135",
   "metadata": {},
   "outputs": [],
   "source": [
    "df.to_csv(f'../../output/fair-{fair_v}/v{cal_v}/calibrations/4xCO2_cmip6.csv', index=False)"
   ]
  }
 ],
 "metadata": {
  "kernelspec": {
   "display_name": "Python 3 (ipykernel)",
   "language": "python",
   "name": "python3"
  },
  "language_info": {
   "codemirror_mode": {
    "name": "ipython",
    "version": 3
   },
   "file_extension": ".py",
   "mimetype": "text/x-python",
   "name": "python",
   "nbconvert_exporter": "python",
   "pygments_lexer": "ipython3",
   "version": "3.11.0"
  }
 },
 "nbformat": 4,
 "nbformat_minor": 5
}
