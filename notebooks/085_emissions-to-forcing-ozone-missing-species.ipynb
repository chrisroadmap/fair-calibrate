{
 "cells": [
  {
   "cell_type": "markdown",
   "id": "7aa3c889",
   "metadata": {},
   "source": [
    "# Emissions to forcing for GHGs + ozone\n",
    "\n",
    "As in 075, the user might not want everything that is actually needed to run the scenario, therefore we can include all necessary species, set them to pre-industrial, and the calculation will proceed silently.\n",
    "\n",
    "Actually, on second thoughts I will just say incompatible option. If you want to calculate ozone forcing, you need to include the precursor emissions - all of them. You will need at least CFC-11, so I'll include a scenario with just that. This is a useful test to see if we can run with less than all of the necessary halogens."
   ]
  },
  {
   "cell_type": "code",
   "execution_count": null,
   "id": "2d3b561a",
   "metadata": {},
   "outputs": [],
   "source": [
    "import copy\n",
    "import pandas as pd\n",
    "import numpy as np\n",
    "import matplotlib.pyplot as pl\n",
    "import warnings\n",
    "\n",
    "from fair21.forcing.ghg import ghg\n",
    "from fair21.constants.general import TIME_AXIS, SPECIES_AXIS\n",
    "from fair21.constants.gases import molwt, burden_per_emission, lifetime\n",
    "from fair21.defaults import slcf_list, gas_list, montreal_gas_list, minor_gas_list, n_gas_boxes\n",
    "from fair21.defaults.gases import (\n",
    "    partition_fraction,\n",
    "    pre_industrial_concentration,\n",
    "    natural_emissions_adjustment,\n",
    "    iirf_0,\n",
    "    iirf_cumulative,\n",
    "    iirf_temperature,\n",
    "    iirf_airborne,\n",
    "    iirf_horizon,\n",
    "    radiative_efficiency\n",
    ")\n",
    "from fair21.defaults.forcing import tropospheric_adjustment\n",
    "from fair21.defaults.species import pre_industrial_emissions\n",
    "\n",
    "from fair21.gas_cycle import (\n",
    "    calculate_g,\n",
    "    calculate_alpha\n",
    ")\n",
    "from fair21.gas_cycle.forward import step_concentration\n",
    "\n",
    "from fair21.constants.gases import BR_ATOMS, CL_ATOMS\n",
    "from fair21.defaults.ozone import radiative_efficiency as o3_radiative_efficiency, br_cl_ratio, fractional_release\n",
    "from fair21.defaults.forcing import tropospheric_adjustment\n",
    "from fair21.defaults.gases import pre_industrial_concentration\n",
    "from fair21.defaults import gas_list, slcf_list\n",
    "\n",
    "from fair21.forcing.ozone import thornhill_skeie"
   ]
  },
  {
   "cell_type": "code",
   "execution_count": null,
   "id": "fe2f3cda",
   "metadata": {},
   "outputs": [],
   "source": [
    "# let's say we only want to run with CO2, but we also want to calculate GHG and ozone forcing from \"emissions\".\n",
    "species_list = ['CO2']"
   ]
  },
  {
   "cell_type": "code",
   "execution_count": null,
   "id": "bb84b2dc",
   "metadata": {},
   "outputs": [],
   "source": [
    "ghg_forcers_required = [\"CO2\", \"CH4\", \"N2O\"]\n",
    "o3_forcers_required = [\"VOC\", \"CO\", \"NOx\", \"CH4\", \"N2O\", \"CFC-11\"]\n",
    "list(set(ghg_forcers_required) | set(o3_forcers_required))"
   ]
  },
  {
   "cell_type": "code",
   "execution_count": null,
   "id": "ae351c44",
   "metadata": {},
   "outputs": [],
   "source": [
    "# something like this to add to interface\n",
    "set_pi = {}\n",
    "\n",
    "ghg_forcers_required = [\"CO2\", \"CH4\", \"N2O\"]\n",
    "o3_forcers_required = [\"VOC\", \"CO\", \"NOx\", \"CH4\", \"N2O\", \"CFC-11\"]\n",
    "\n",
    "for specie in list(set(ghg_forcers_required) | set(o3_forcers_required)):\n",
    "    set_pi[specie] = False\n",
    "    if specie not in species_list:\n",
    "        species_list = species_list + [specie]\n",
    "        set_pi[specie] = True\n",
    "        \n",
    "# the user, somewhat bizarrely, wants O3. Hey ho...\n",
    "species_list.append('O3')\n",
    "set_pi['O3'] = False\n",
    "\n",
    "n_species = len(species_list)"
   ]
  },
  {
   "cell_type": "code",
   "execution_count": null,
   "id": "b42413dd",
   "metadata": {},
   "outputs": [],
   "source": [
    "n_species"
   ]
  },
  {
   "cell_type": "code",
   "execution_count": null,
   "id": "58739fbd",
   "metadata": {},
   "outputs": [],
   "source": [
    "scenarios = ['ssp119', 'ssp126', 'ssp245', 'ssp370', 'ssp434', 'ssp460', 'ssp534-over', 'ssp585']"
   ]
  },
  {
   "cell_type": "code",
   "execution_count": null,
   "id": "db932bce",
   "metadata": {},
   "outputs": [],
   "source": [
    "# initialise dicts for outputs. These will eventually be moved to the forward model\n",
    "concentration = {}\n",
    "airborne_emissions = {}\n",
    "cumulative_emissions = {}\n",
    "effective_radiative_forcing = {}\n",
    "\n",
    "n_timesteps = 751\n",
    "n_scenarios = len(scenarios)\n",
    "\n",
    "# kicker for ozone\n",
    "n_species = len(species_list)\n",
    "n_species"
   ]
  },
  {
   "cell_type": "code",
   "execution_count": null,
   "id": "a4205a05",
   "metadata": {},
   "outputs": [],
   "source": [
    "# grab some emissions\n",
    "species_index_mapping = {}\n",
    "emissions_array = np.ones((n_scenarios, n_species, n_timesteps, 1)) * np.nan\n",
    "df = pd.read_csv('../data/rcmip/rcmip-emissions-annual-means-v5-1-0.csv')\n",
    "for iscen, scenario in enumerate(scenarios):\n",
    "    for ispec, specie in enumerate(species_list):\n",
    "        species_index_mapping[specie] = ispec\n",
    "        specie_rcmip_name = specie.replace(\"-\", \"\")\n",
    "        if set_pi[specie]:\n",
    "            emissions_array[iscen, ispec, ...] = pre_industrial_emissions[specie]\n",
    "        else:\n",
    "            try:\n",
    "                emissions_array[iscen, ispec, ...] = df.loc[\n",
    "                    (df['Scenario']==scenario) & (df['Variable'].str.endswith(\"|\"+specie_rcmip_name)) & (df['Region']=='World'), '1750':\n",
    "                ].interpolate(axis=1).values.T\n",
    "            except ValueError:\n",
    "                warnings.warn(\"{} was not found in emissions file\".format(specie))\n",
    "    \n",
    "        # CO2 and N2O units need to behave\n",
    "        if specie in ('CO2', 'N2O'):\n",
    "            emissions_array[iscen, ispec, :, :] = emissions_array[iscen, ispec, :, :] / 1000"
   ]
  },
  {
   "cell_type": "code",
   "execution_count": null,
   "id": "f2f11001",
   "metadata": {},
   "outputs": [],
   "source": [
    "species_index_mapping\n",
    "emissions_array[7, :, 265, 0]"
   ]
  },
  {
   "cell_type": "code",
   "execution_count": null,
   "id": "b7ef38ba",
   "metadata": {},
   "outputs": [],
   "source": [
    "# grab indicative temperature projections\n",
    "df = pd.read_csv('../data/rcmip-phase2/rcmip-phase2-fair162-ssp585-mean-temperature.csv')\n",
    "ssp585_temperature_rfmip = df['temperature'].values"
   ]
  },
  {
   "cell_type": "code",
   "execution_count": null,
   "id": "6952dc22",
   "metadata": {},
   "outputs": [],
   "source": [
    "# initialise arrays. Using arrays makes things run quicker\n",
    "\n",
    "# remember: scen, species, time, box\n",
    "# where we don't care about keeping outputs we use a singleton dimension to maintain bookkeeping\n",
    "# possible memory saver: differentiate between ensembles where we vary emissions and those where we vary climate parameters\n",
    "\n",
    "# this scenario definition needs to be part of the initialisation, either from pyam, scmdata or fair emissions files\n",
    "concentration_array = np.ones((n_scenarios, n_species, n_timesteps, 1)) * np.nan\n",
    "g0 = np.ones((n_scenarios, n_species, 1, 1)) * np.nan\n",
    "g1 = np.ones((n_scenarios, n_species, 1, 1)) * np.nan\n",
    "alpha_lifetime = np.ones((n_scenarios, n_species, 1, 1))\n",
    "airborne_emissions = np.zeros((n_scenarios, n_species, 1, 1))\n",
    "gas_boxes = np.zeros((n_scenarios, n_species, 1, n_gas_boxes))\n",
    "iirf_0_array = np.ones((n_scenarios, n_species, 1, 1)) * np.nan\n",
    "iirf_cumulative_array = np.ones((n_scenarios, n_species, 1, 1)) * np.nan\n",
    "iirf_temperature_array = np.ones((n_scenarios, n_species, 1, 1)) * np.nan\n",
    "iirf_airborne_array = np.ones((n_scenarios, n_species, 1, 1)) * np.nan\n",
    "burden_per_emission_array = np.ones((1, n_species, 1, 1)) * np.nan\n",
    "lifetime_array = np.ones((n_scenarios, n_species, 1, n_gas_boxes)) * np.nan\n",
    "pre_industrial_emissions_array = np.ones((n_scenarios, n_species, 1, 1)) * np.nan\n",
    "pre_industrial_concentration_array = np.ones((n_scenarios, n_species, 1, 1)) * np.nan\n",
    "partition_fraction_array = np.zeros((n_scenarios, n_species, 1, n_gas_boxes))\n",
    "natural_emissions_adjustment_array = np.ones((n_scenarios, n_species, 1, 1)) * np.nan\n",
    "\n",
    "cumulative_emissions_array = np.cumsum(emissions_array, axis=TIME_AXIS)\n",
    "\n",
    "# this one for the general forcing\n",
    "tropospheric_adjustment_array = np.ones((n_scenarios, n_species, 1, 1)) * np.nan\n",
    "radiative_efficiency_array = np.ones((n_scenarios, n_species, 1, 1)) * np.nan\n",
    "erf = np.ones((n_scenarios, n_species, n_timesteps, 1)) * np.nan\n",
    "\n",
    "# ozone\n",
    "fractional_release_array = np.zeros((1, n_species, 1, 1)) # gonna assume this doesn't change\n",
    "cl_atoms_array = np.zeros((1, n_species, 1, 1))\n",
    "br_atoms_array = np.zeros((1, n_species, 1, 1))\n",
    "o3_radiative_efficiency_array = np.zeros((1, n_species, 1, 1))\n",
    "\n",
    "for ispec, specie in enumerate(species_list):\n",
    "    # options pertaining to SLCFs\n",
    "    if specie in slcf_list:\n",
    "        pre_industrial_emissions_array[:, ispec, :, :] = pre_industrial_emissions[specie]\n",
    "    \n",
    "    # options pertaining to GHGs\n",
    "    if specie in gas_list:\n",
    "        lifetime_array[:, ispec, :, :] = lifetime[specie]\n",
    "        partition_fraction_array[:, ispec, :, :] = partition_fraction[specie]\n",
    "        iirf_0_array[:, ispec, :, :] = iirf_0[specie]\n",
    "        iirf_cumulative_array[:, ispec, :, :] = iirf_cumulative[specie]\n",
    "        iirf_temperature_array[:, ispec, :, :] = iirf_temperature[specie]\n",
    "        iirf_airborne_array[:, ispec, :, :] = iirf_airborne[specie]\n",
    "        burden_per_emission_array[:, ispec, :, :] = burden_per_emission[specie]\n",
    "        pre_industrial_concentration_array[:, ispec, :, :] = pre_industrial_concentration[specie]\n",
    "        partition_fraction_array[:, ispec, :, :] = partition_fraction[specie]\n",
    "        natural_emissions_adjustment_array[:, ispec, :, :] = natural_emissions_adjustment[specie]\n",
    "        fractional_release_array[:, ispec, :, :] = fractional_release[specie]\n",
    "        br_atoms_array[:, ispec, :, :] = BR_ATOMS[specie]\n",
    "        cl_atoms_array[:, ispec, :, :] = CL_ATOMS[specie]\n",
    "        \n",
    "    # options pertaining only to minor GHGs\n",
    "    if specie in minor_gas_list:\n",
    "        radiative_efficiency_array[:, ispec, :, :] = radiative_efficiency[specie]\n",
    "        \n",
    "\n",
    "    # options pertaining to all species\n",
    "    tropospheric_adjustment_array[:, ispec, :, :] = tropospheric_adjustment[specie]\n",
    "    o3_radiative_efficiency_array[:, ispec, :, :] = o3_radiative_efficiency[specie]\n",
    "\n",
    "g0, g1 = calculate_g(lifetime_array, partition_fraction_array)"
   ]
  },
  {
   "cell_type": "code",
   "execution_count": null,
   "id": "e33f60c3",
   "metadata": {},
   "outputs": [],
   "source": [
    "%%time\n",
    "\n",
    "for i_timestep in range(n_timesteps):\n",
    "    alpha_lifetime = calculate_alpha(\n",
    "        cumulative_emissions_array[:, :, [i_timestep], :],\n",
    "        airborne_emissions[:, :, [0], :],\n",
    "        ssp585_temperature_rfmip[i_timestep],\n",
    "        iirf_0_array,\n",
    "        iirf_cumulative_array,\n",
    "        iirf_temperature_array,\n",
    "        iirf_airborne_array,\n",
    "        g0,\n",
    "        g1,\n",
    "    )\n",
    "    alpha_lifetime[np.isnan(alpha_lifetime)]=1  # CF4 seems to have an issue. Should we raise warning?\n",
    "    concentration_array[:, :, [i_timestep], :], gas_boxes, airborne_emissions = step_concentration(\n",
    "        emissions_array[:, :, [i_timestep], :], \n",
    "        gas_boxes,\n",
    "        airborne_emissions, \n",
    "        burden_per_emission_array,\n",
    "        lifetime_array,\n",
    "        alpha_lifetime=alpha_lifetime,\n",
    "        pre_industrial_concentration=pre_industrial_concentration_array,\n",
    "        timestep=1,\n",
    "        partition_fraction=partition_fraction_array,\n",
    "        natural_emissions_adjustment=natural_emissions_adjustment_array,\n",
    "    )"
   ]
  },
  {
   "cell_type": "code",
   "execution_count": null,
   "id": "1618a811",
   "metadata": {},
   "outputs": [],
   "source": [
    "concentration_array[6,:,265,0]"
   ]
  },
  {
   "cell_type": "code",
   "execution_count": null,
   "id": "e02bf9cf",
   "metadata": {},
   "outputs": [],
   "source": [
    "%%time\n",
    "# Greenhouse gases\n",
    "erf[:, list(species_index_mapping.values()), :, :] = ghg(\n",
    "    concentration_array[:, list(species_index_mapping.values()), :, :],\n",
    "    pre_industrial_concentration_array[:, list(species_index_mapping.values()), :, :],\n",
    "    tropospheric_adjustment_array[:, list(species_index_mapping.values()), :, :], \n",
    "    radiative_efficiency_array[:, list(species_index_mapping.values()), :, :],\n",
    "    species_index_mapping\n",
    ")"
   ]
  },
  {
   "cell_type": "code",
   "execution_count": null,
   "id": "f353dfdf",
   "metadata": {},
   "outputs": [],
   "source": [
    "%%time\n",
    "erf[:, [species_index_mapping[\"O3\"]], :, :] = thornhill_skeie(\n",
    "    emissions_array,\n",
    "    concentration_array,\n",
    "    pre_industrial_emissions_array,\n",
    "    pre_industrial_concentration_array,\n",
    "    fractional_release_array,\n",
    "    cl_atoms_array,\n",
    "    br_atoms_array,\n",
    "    tropospheric_adjustment_array,\n",
    "    o3_radiative_efficiency_array,\n",
    "    species_index_mapping,\n",
    ")"
   ]
  },
  {
   "cell_type": "code",
   "execution_count": null,
   "id": "69f13b1b",
   "metadata": {},
   "outputs": [],
   "source": [
    "#ar6_df = pd.read_csv('../data/forcing/table_A3.3_historical_ERF_1750-2019_best_estimate.csv')"
   ]
  },
  {
   "cell_type": "code",
   "execution_count": null,
   "id": "9f89f100",
   "metadata": {},
   "outputs": [],
   "source": [
    "# to double check, ensure we are picking up everything we want from AR6\n",
    "pl.plot(erf[:, species_index_mapping[\"O3\"], :, 0].T)\n",
    "#pl.plot(np.arange(270), ar6_df['o3'], color='k')"
   ]
  },
  {
   "cell_type": "code",
   "execution_count": null,
   "id": "c811b8cd",
   "metadata": {},
   "outputs": [],
   "source": []
  }
 ],
 "metadata": {
  "kernelspec": {
   "display_name": "Python 3 (ipykernel)",
   "language": "python",
   "name": "python3"
  },
  "language_info": {
   "codemirror_mode": {
    "name": "ipython",
    "version": 3
   },
   "file_extension": ".py",
   "mimetype": "text/x-python",
   "name": "python",
   "nbconvert_exporter": "python",
   "pygments_lexer": "ipython3",
   "version": "3.7.12"
  }
 },
 "nbformat": 4,
 "nbformat_minor": 5
}
