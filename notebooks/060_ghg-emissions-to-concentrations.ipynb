{
 "cells": [
  {
   "cell_type": "markdown",
   "id": "87f81209",
   "metadata": {},
   "source": [
    "# Greenhouse gas emissions to concentrations\n",
    "\n",
    "Should be relatively straightforward, particularly for non-CO2 and non-CH4. FaIR 2.0 results should reproduce.\n",
    "\n",
    "Also, RCMIP's emissions and concentrations are inconsistent. CFC11 has emissions starting in 1943, but no delta concentrations until 1945. (unless there's some kind of 3 year delay going on for stratospheric mixing, but that's only relevant for ozone). So this is at best a sense check. See also my point about natural emissions of F-gases."
   ]
  },
  {
   "cell_type": "code",
   "execution_count": null,
   "id": "5d02ac2f",
   "metadata": {},
   "outputs": [],
   "source": [
    "import numpy as np\n",
    "import pandas as pd\n",
    "import matplotlib.pyplot as pl\n",
    "from scipy.interpolate import interp1d\n",
    "import pickle\n",
    "from climateforcing.utils import mkdir_p\n",
    "\n",
    "from fair21.constants.gases import molwt, burden_per_emission, lifetime, gas_list\n",
    "from fair21.defaults.gases import (\n",
    "    partition_fraction,\n",
    "    pre_industrial_concentration,\n",
    "    natural_emissions_adjustment,\n",
    "    iirf_0,\n",
    "    iirf_cumulative,\n",
    "    iirf_temperature,\n",
    "    iirf_airborne,\n",
    "    iirf_horizon\n",
    ")\n",
    "from fair21.gas_cycle import (\n",
    "    calculate_g,\n",
    "    calculate_alpha,\n",
    "    step_concentration_1box,\n",
    "    step_concentration_co2\n",
    ")"
   ]
  },
  {
   "cell_type": "code",
   "execution_count": null,
   "id": "b054de52",
   "metadata": {},
   "outputs": [],
   "source": [
    "burden_per_emission['CO2']"
   ]
  },
  {
   "cell_type": "code",
   "execution_count": null,
   "id": "ba3e47f0",
   "metadata": {},
   "outputs": [],
   "source": [
    "# grab some emissions\n",
    "emissions = {}\n",
    "df = pd.read_csv('../data/rcmip/rcmip-emissions-annual-means-v5-1-0.csv')\n",
    "for gas in gas_list:\n",
    "    gas_rcmip_name = gas.replace(\"-\", \"\")\n",
    "    emissions[gas] = df.loc[\n",
    "        (df['Scenario']=='ssp245') & (df['Variable'].str.endswith(\"|\"+gas_rcmip_name)) & (df['Region']=='World'), '1750':\n",
    "    ].interpolate(axis=1).values.squeeze()\n",
    "    \n",
    "# CO2 and N2O units need to behave\n",
    "emissions[\"CO2\"] = emissions[\"CO2\"] / 1000\n",
    "emissions[\"N2O\"] = emissions[\"N2O\"] / 1000\n",
    "#co2_emissions = 1/1000 * df.loc[(df['Scenario']=='ssp245') & (df['Variable']=='Emissions|CO2') & (df['Region']=='World'), '1750':].interpolate(axis=1).values.squeeze()\n",
    "#ch4_emissions = df.loc[(df['Scenario']=='ssp245') & (df['Variable']=='Emissions|CH4') & (df['Region']=='World'), '1750':].interpolate(axis=1).values.squeeze()\n",
    "#cfc11_emissions = df.loc[(df['Scenario']=='ssp245') & (df['Variable']=='Emissions|Montreal Gases|CFC|CFC11') & (df['Region']=='World'), '1750':].interpolate(axis=1).values.squeeze()"
   ]
  },
  {
   "cell_type": "code",
   "execution_count": null,
   "id": "eac45ae9",
   "metadata": {},
   "outputs": [],
   "source": [
    "# initialise dicts for outputs. These will eventually be moved to the forward model\n",
    "concentration = {}\n",
    "airborne_emissions = {}\n",
    "cumulative_emissions = {}"
   ]
  },
  {
   "cell_type": "code",
   "execution_count": null,
   "id": "3c73d81d",
   "metadata": {},
   "outputs": [],
   "source": [
    "# grab some concentrations\n",
    "concentration_rcmip = {}\n",
    "df = pd.read_csv('../data/rcmip/rcmip-concentrations-annual-means-v5-1-0.csv')\n",
    "for gas in gas_list:\n",
    "    gas_rcmip_name = gas.replace(\"-\", \"\")\n",
    "    concentration_rcmip[gas] = df.loc[\n",
    "        (df['Scenario']=='ssp245') & (df['Variable'].str.endswith(\"|\"+gas_rcmip_name)) & (df['Region']=='World'), '1750':\n",
    "    ].interpolate(axis=1).values.squeeze()"
   ]
  },
  {
   "cell_type": "code",
   "execution_count": null,
   "id": "b1e1cf5a",
   "metadata": {},
   "outputs": [],
   "source": [
    "# grab indicative temperature projections\n",
    "df = pd.read_csv('../data/rcmip-phase2/rcmip-phase2-fair162-ssp245-mean-temperature.csv')\n",
    "ssp245_temperature_rfmip = df['temperature'].values"
   ]
  },
  {
   "cell_type": "markdown",
   "id": "8af66962",
   "metadata": {},
   "source": [
    "## CFC11\n",
    "\n",
    "inocuous test case (but ozone depleting... so should pass this feedback on to ozone forcing)"
   ]
  },
  {
   "cell_type": "code",
   "execution_count": null,
   "id": "f2a7227d",
   "metadata": {},
   "outputs": [],
   "source": [
    "emissions['CFC-11']"
   ]
  },
  {
   "cell_type": "code",
   "execution_count": null,
   "id": "50179644",
   "metadata": {},
   "outputs": [],
   "source": [
    "burden_per_emission['CFC-11']  # ppt increase per kt CFC-11 emission"
   ]
  },
  {
   "cell_type": "code",
   "execution_count": null,
   "id": "c0747869",
   "metadata": {},
   "outputs": [],
   "source": [
    "n_timesteps = len(emissions['CFC-11'])\n",
    "concentration['CFC-11'] = np.ones(n_timesteps) * np.nan\n",
    "\n",
    "airborne_emissions = 0\n",
    "#concentration['CFC-11'][0] = pre_industrial_concentration['CFC-11']\n",
    "\n",
    "for i in range(n_timesteps):\n",
    "    concentration['CFC-11'][i], airborne_emissions = step_concentration_1box(\n",
    "        emissions['CFC-11'][i], \n",
    "        airborne_emissions,\n",
    "        lifetime['CFC-11'],\n",
    "        burden_per_emission['CFC-11'],\n",
    "        pre_industrial_concentration=pre_industrial_concentration['CFC-11'],\n",
    "        timestep=1\n",
    "    )"
   ]
  },
  {
   "cell_type": "code",
   "execution_count": null,
   "id": "d554ae4e",
   "metadata": {},
   "outputs": [],
   "source": [
    "# try a monthly timestep\n",
    "t_new = np.arange(1750+1/24, 2501, 1/12)\n",
    "f = interp1d(np.arange(1750.5, 2501), emissions['CFC-11'], fill_value=\"extrapolate\")\n",
    "cfc11_emissions_monthly = f(t_new)"
   ]
  },
  {
   "cell_type": "code",
   "execution_count": null,
   "id": "377810b0",
   "metadata": {},
   "outputs": [],
   "source": [
    "cfc11_concentrations_monthly = np.ones(len(cfc11_emissions_monthly)) * np.nan\n",
    "\n",
    "airborne_emissions = 0\n",
    "cfc11_concentrations_monthly[0] = pre_industrial_concentration['CFC-11']\n",
    "\n",
    "for i in range(len(cfc11_concentrations_monthly)):\n",
    "    cfc11_concentrations_monthly[i], airborne_emissions = step_concentration_1box(\n",
    "        cfc11_emissions_monthly[i], \n",
    "        airborne_emissions,\n",
    "        lifetime['CFC-11'],\n",
    "        burden_per_emission['CFC-11'],\n",
    "        pre_industrial_concentration=pre_industrial_concentration['CFC-11'],\n",
    "        timestep=1/12\n",
    "    )"
   ]
  },
  {
   "cell_type": "code",
   "execution_count": null,
   "id": "0a142b0b",
   "metadata": {},
   "outputs": [],
   "source": [
    "pl.plot(np.arange(1750.5, 2501), concentration['CFC-11'])\n",
    "pl.plot(np.arange(1750.5, 2501), concentration_rcmip['CFC-11'])\n",
    "pl.plot(np.arange(1750+1/24, 2501, 1/12), cfc11_concentrations_monthly)"
   ]
  },
  {
   "cell_type": "markdown",
   "id": "d58f1d5c",
   "metadata": {},
   "source": [
    "## CO2\n",
    "\n",
    "important to get correct"
   ]
  },
  {
   "cell_type": "code",
   "execution_count": null,
   "id": "429445f3",
   "metadata": {},
   "outputs": [],
   "source": [
    "emissions['CO2']  # unit: GtCO2 / yr"
   ]
  },
  {
   "cell_type": "code",
   "execution_count": null,
   "id": "0e5e3a7b",
   "metadata": {},
   "outputs": [],
   "source": [
    "concentration['CO2'] = np.ones(n_timesteps) * np.nan\n",
    "\n",
    "co2_boxes = 0\n",
    "airborne_emissions = 0\n",
    "cumulative_emissions['CO2'] = np.cumsum(emissions['CO2'])\n",
    "\n",
    "# g1 = np.sum(partition_fraction['CO2'] * lifetime['CO2'] * (1 - (1 + iirf_horizon/lifetime['CO2']) * np.exp(-iirf_horizon/lifetime['CO2'])))\n",
    "# g0 = 1/(np.sinh(np.sum(partition_fraction['CO2']*lifetime['CO2']*(1 - np.exp(-iirf_horizon/lifetime['CO2'])) , axis=-1)/g1))\n",
    "g0, g1 = calculate_g(lifetime['CO2'], partition_fraction=partition_fraction['CO2'])\n",
    "\n",
    "print(g1, g0)\n",
    "\n",
    "for i in range(n_timesteps):\n",
    "    alpha_lifetime = calculate_alpha(\n",
    "        cumulative_emissions['CO2'][i],\n",
    "        airborne_emissions,\n",
    "        ssp245_temperature_rfmip[i],\n",
    "        iirf_0[\"CO2\"],\n",
    "        iirf_cumulative[\"CO2\"],\n",
    "        iirf_temperature[\"CO2\"],\n",
    "        iirf_airborne[\"CO2\"],\n",
    "        g0,\n",
    "        g1,\n",
    "    )\n",
    "    concentration['CO2'][i], co2_boxes, airborne_emissions = step_concentration_co2(\n",
    "        emissions['CO2'][i], \n",
    "        co2_boxes,\n",
    "        airborne_emissions, \n",
    "        burden_per_emission['CO2'],\n",
    "        alpha_lifetime=alpha_lifetime,\n",
    "        pre_industrial_concentration=pre_industrial_concentration['CO2'],\n",
    "        timestep=1,\n",
    "    )"
   ]
  },
  {
   "cell_type": "markdown",
   "id": "390ccb96",
   "metadata": {},
   "source": [
    "Here, we see an almost perfect agreement with the MAGICC-derived CO2 projections with appropriate carbon cycle parameter tuning"
   ]
  },
  {
   "cell_type": "code",
   "execution_count": null,
   "id": "94c74850",
   "metadata": {},
   "outputs": [],
   "source": [
    "pl.plot(np.arange(1750.5, 2501), concentration['CO2'], label='FaIR 2.1')\n",
    "pl.plot(np.arange(1750.5, 2501), concentration_rcmip['CO2'], label='History + MAGICC6')\n",
    "pl.legend()\n",
    "pl.title('CO2 concentrations: SSP2-4.5')"
   ]
  },
  {
   "cell_type": "code",
   "execution_count": null,
   "id": "9416c91c",
   "metadata": {},
   "outputs": [],
   "source": [
    "concentration['CO2'][270], concentration_rcmip['CO2'][270]"
   ]
  },
  {
   "cell_type": "markdown",
   "id": "87d4ed5d",
   "metadata": {},
   "source": [
    "## Methane: an in-between case\n",
    "\n",
    "methane has a lifetime feedback, and it also affects ozone and stratospheric water vapor forcing.\n",
    "\n",
    "The step concentration for a one-box gas will work here, but we need an alpha adjustment."
   ]
  },
  {
   "cell_type": "code",
   "execution_count": null,
   "id": "03bcc65e",
   "metadata": {},
   "outputs": [],
   "source": [
    "concentration['CH4'] = np.ones(n_timesteps) * np.nan\n",
    "\n",
    "ch4_boxes = 0\n",
    "airborne_emissions = 0\n",
    "concentration['CH4'][0] = pre_industrial_concentration['CH4']\n",
    "cumulative_emissions['CH4'] = np.cumsum(emissions['CH4']) # cumulative emissions are not contributing to methane lifetime, but we'll track them in case future research makes them relevant\n",
    "\n",
    "g0, g1 = calculate_g(lifetime['CH4'])\n",
    "\n",
    "ch4_lifetime = np.ones(n_timesteps) * np.nan\n",
    "\n",
    "for i in range(n_timesteps):\n",
    "    alpha_lifetime = calculate_alpha(\n",
    "        cumulative_emissions['CH4'][i],\n",
    "        airborne_emissions,\n",
    "        ssp245_temperature_rfmip[i],\n",
    "        iirf_0[\"CH4\"],\n",
    "        iirf_cumulative[\"CH4\"],\n",
    "        iirf_temperature[\"CH4\"],\n",
    "        iirf_airborne[\"CH4\"],\n",
    "        g0,\n",
    "        g1,\n",
    "    )\n",
    "    \n",
    "    ch4_lifetime[i] = alpha_lifetime * lifetime['CH4']\n",
    "    \n",
    "    concentration['CH4'][i], airborne_emissions = step_concentration_1box(\n",
    "        emissions['CH4'][i], \n",
    "        airborne_emissions, \n",
    "        lifetime['CH4'],\n",
    "        burden_per_emission['CH4'],\n",
    "        alpha_lifetime=alpha_lifetime,\n",
    "        pre_industrial_concentration=pre_industrial_concentration['CH4'],\n",
    "        timestep=1,\n",
    "    )"
   ]
  },
  {
   "cell_type": "code",
   "execution_count": null,
   "id": "fa826234",
   "metadata": {},
   "outputs": [],
   "source": [
    "pl.plot(np.arange(1750.5, 2501), concentration['CH4'], label='FaIR 2.1')\n",
    "pl.plot(np.arange(1750.5, 2501), concentration_rcmip['CH4'], label='History + MAGICC6')\n",
    "pl.legend()\n",
    "pl.title('CH4 concentrations: SSP2-4.5')\n",
    "pl.plot(2020, 1870, 'k+')"
   ]
  },
  {
   "cell_type": "code",
   "execution_count": null,
   "id": "9d0ec4b6",
   "metadata": {},
   "outputs": [],
   "source": [
    "pl.plot(np.arange(1750.5, 2501), ch4_lifetime)"
   ]
  },
  {
   "cell_type": "code",
   "execution_count": null,
   "id": "7e94c364",
   "metadata": {},
   "outputs": [],
   "source": [
    "concentration['CH4'][270]"
   ]
  },
  {
   "cell_type": "code",
   "execution_count": null,
   "id": "68290eae",
   "metadata": {},
   "outputs": [],
   "source": [
    "ch4_lifetime[258:268].mean()  # good job, Nick. IPCC assess 9.1"
   ]
  },
  {
   "cell_type": "markdown",
   "id": "a64b40a7",
   "metadata": {},
   "source": [
    "## Make plot similar to Nick's from FaIR 2.0.0-alpha\n",
    "\n",
    "Some of the minor GHGs where natural emissions are not zero have misbehaviour after 2100. This is the fault of the scenario, not FaIR."
   ]
  },
  {
   "cell_type": "code",
   "execution_count": null,
   "id": "ec8ee4fc",
   "metadata": {},
   "outputs": [],
   "source": [
    "for gas in gas_list:\n",
    "    if gas in ['CH4', 'CO2']:\n",
    "        continue  # done above and slightly different to rest!\n",
    "    \n",
    "    concentration[gas] = np.ones(n_timesteps) * np.nan\n",
    "\n",
    "    airborne_emissions = 0\n",
    "\n",
    "    for i in range(n_timesteps):\n",
    "        concentration[gas][i], airborne_emissions = step_concentration_1box(\n",
    "            emissions[gas][i], \n",
    "            airborne_emissions,\n",
    "            lifetime[gas],\n",
    "            burden_per_emission[gas],\n",
    "            pre_industrial_concentration=pre_industrial_concentration[gas],\n",
    "            timestep=1,\n",
    "            natural_emissions_adjustment=natural_emissions_adjustment[gas]\n",
    "        )"
   ]
  },
  {
   "cell_type": "code",
   "execution_count": null,
   "id": "e5095f2f",
   "metadata": {},
   "outputs": [],
   "source": [
    "fig, ax = pl.subplots(6, 8, figsize=(16,16))\n",
    "for igas, gas in enumerate(gas_list):\n",
    "    iy = igas % 8\n",
    "    ix = igas // 8\n",
    "    ax[ix, iy].plot(np.arange(1750.5, 2501), concentration[gas], label='FaIR 2.1')\n",
    "    ax[ix, iy].plot(np.arange(1750.5, 2501), concentration_rcmip[gas], label='History + MAGICC6')\n",
    "    ax[ix, iy].set_title(gas)\n",
    "fig.tight_layout()"
   ]
  },
  {
   "cell_type": "code",
   "execution_count": null,
   "id": "fad7e511",
   "metadata": {},
   "outputs": [],
   "source": [
    "concentration['HFC-227ea'][269]"
   ]
  },
  {
   "cell_type": "code",
   "execution_count": null,
   "id": "90a9c2de",
   "metadata": {},
   "outputs": [],
   "source": [
    "# would be awesome to now convert this to csv\n",
    "mkdir_p(\"../data/output/\")\n",
    "with open(\"../data/output/rcmip-fair21-ssp245-concentrations.pkl\",\"wb\") as fileout:\n",
    "    pickle.dump(concentration, fileout)"
   ]
  }
 ],
 "metadata": {
  "kernelspec": {
   "display_name": "Python 3 (ipykernel)",
   "language": "python",
   "name": "python3"
  },
  "language_info": {
   "codemirror_mode": {
    "name": "ipython",
    "version": 3
   },
   "file_extension": ".py",
   "mimetype": "text/x-python",
   "name": "python",
   "nbconvert_exporter": "python",
   "pygments_lexer": "ipython3",
   "version": "3.7.10"
  }
 },
 "nbformat": 4,
 "nbformat_minor": 5
}
