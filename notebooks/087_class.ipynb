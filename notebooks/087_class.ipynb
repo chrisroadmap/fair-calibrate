{
 "cells": [
  {
   "cell_type": "markdown",
   "id": "7c3d5583",
   "metadata": {},
   "source": [
    "why do classes make absolutely zero sense"
   ]
  },
  {
   "cell_type": "code",
   "execution_count": null,
   "id": "aeecf398",
   "metadata": {},
   "outputs": [],
   "source": [
    "from abc import ABC\n",
    "import numpy as np"
   ]
  },
  {
   "cell_type": "code",
   "execution_count": null,
   "id": "64bd77c4",
   "metadata": {},
   "outputs": [],
   "source": [
    "iirf_horizon = 100 # define in defaults"
   ]
  },
  {
   "cell_type": "markdown",
   "id": "2075191d",
   "metadata": {},
   "source": [
    "`Specie` is an abstract base class. Everything that we care about for climate is a `Specie`, but we should encourage users to use derived classes like `GreenhouseGas`"
   ]
  },
  {
   "cell_type": "code",
   "execution_count": null,
   "id": "2aee5e08",
   "metadata": {},
   "outputs": [],
   "source": [
    "class Specie(ABC):\n",
    "\n",
    "    def __init__(self, name, tropospheric_adjustment=1):\n",
    "        self.name = name\n",
    "        self.tropospheric_adjustment=tropospheric_adjustment\n",
    "    \n",
    "    def set_index(self, index):\n",
    "        self.index = index"
   ]
  },
  {
   "cell_type": "code",
   "execution_count": null,
   "id": "03aad0a4",
   "metadata": {},
   "outputs": [],
   "source": [
    "class FAIR():\n",
    "    def run():\n",
    "        pass"
   ]
  },
  {
   "cell_type": "code",
   "execution_count": null,
   "id": "71a338f2",
   "metadata": {},
   "outputs": [],
   "source": [
    "class GreenhouseGas(Specie):\n",
    "    \n",
    "    def __init__(self, name, molecular_weight, lifetime, **kwargs):\n",
    "        tropospheric_adjustment = kwargs.pop('tropospheric_adjustment', 0)\n",
    "        super().__init__(name, tropospheric_adjustment)\n",
    "        \n",
    "        # move the below to input verification method\n",
    "        self.molecular_weight = molecular_weight\n",
    "        self.lifetime = lifetime\n",
    "        if np.ndim(self.lifetime) == 1:\n",
    "            lifetime = np.asarray(lifetime)\n",
    "            # should we enforce whether strictly decreasing or not?\n",
    "            partition_fraction = kwargs.get('partition_fraction')\n",
    "            if partition_fraction is None:\n",
    "                raise ValueError('specify partition fraction if specifying more than one lifetime') # custom exception needed\n",
    "            if len(partition_fraction) != len(lifetime):\n",
    "                raise ValueError('different lengths') # custom exception needed\n",
    "            partition_fraction = np.asarray(partition_fraction)\n",
    "            if ~np.isclose(np.sum(partition_fraction), 1):\n",
    "                raise ValueError('partition fraction should sum to 1') # custom exception needed\n",
    "        elif np.ndim(self.lifetime) > 1:\n",
    "            raise ValueError('dim greater than 1')\n",
    "        else:\n",
    "            partition_fraction=1\n",
    "        self.partition_fraction=partition_fraction\n",
    "        self.emissions = kwargs.get('emissions')\n",
    "        self.concentrations = kwargs.get('concentrations')\n",
    "        self.forcing = kwargs.get('forcing')\n",
    "        self.g0, self.g1 = self.calculate_g(partition_fraction, lifetime, iirf_horizon=iirf_horizon)\n",
    "        self.iirf_0 = kwargs.get('iirf_0', self.lifetime_to_iirf_0(lifetime, partition_fraction, iirf_horizon=iirf_horizon))\n",
    "        self.iirf_cumulative = kwargs.get('iirf_cumulative', 0)\n",
    "        self.iirf_airborne = kwargs.get('iirf_airborne', 0)\n",
    "        self.iirf_temperature = kwargs.get('iirf_temperature', 0)\n",
    "        self.output_forcing=True\n",
    "\n",
    "    \n",
    "    @staticmethod\n",
    "    def calculate_g(partition_fraction, lifetime, iirf_horizon=100):\n",
    "        g1 = np.sum(partition_fraction * lifetime * (1 - (1 + iirf_horizon/lifetime) * np.exp(-iirf_horizon/lifetime)))\n",
    "        g0 = np.exp(-1 * np.sum(partition_fraction*lifetime*(1 - np.exp(-iirf_horizon/lifetime)))/g1)\n",
    "        return g0, g1\n",
    "    \n",
    "    @staticmethod\n",
    "    def lifetime_to_iirf_0(lifetime, partition_fraction=1,iirf_horizon=100):\n",
    "        return np.sum(lifetime * (1 - np.exp(-iirf_horizon / lifetime)) * partition_fraction)"
   ]
  },
  {
   "cell_type": "code",
   "execution_count": null,
   "id": "b9adbc80",
   "metadata": {},
   "outputs": [],
   "source": [
    "class CO2(GreenhouseGas):\n",
    "    def __init__(self, **kwargs):\n",
    "        self.molecular_weight=kwargs.pop('molecular_weight', 44.009)\n",
    "        self.lifetime = kwargs.pop('lifetime', np.array([1e9, 394.4, 36.54, 4.304]))\n",
    "        self.partition_fraction = kwargs.pop('partition_fraction', np.array([0.2173, 0.2240, 0.2824, 0.2763]))\n",
    "        self.tropospheric_adjustment = kwargs.pop('tropospheric_adjustment', 0.05)\n",
    "        \n",
    "        super().__init__(\n",
    "            name=\"CO2\",\n",
    "            molecular_weight=self.molecular_weight, \n",
    "            lifetime=self.lifetime,\n",
    "            partition_fraction=self.partition_fraction,\n",
    "            tropospheric_adjustment=self.tropospheric_adjustment,\n",
    "            **kwargs\n",
    "        )\n",
    "        self.emissions_unit = kwargs.get('emissions_unit', 'Gt CO2/yr')\n",
    "        self.concentrations_unit = kwargs.get('concentration_unit', 'ppm')\n",
    "        self.iirf_0 = kwargs.get('iirf_0', 29)\n",
    "        self.iirf_cumulative = kwargs.get('iirf_cumulative', 0.00846)\n",
    "        self.iirf_airborne = kwargs.get('iirf_airborne', 0.000819)\n",
    "        self.iirf_temperature = kwargs.get('iirf_temperature', 4)"
   ]
  },
  {
   "cell_type": "code",
   "execution_count": null,
   "id": "899e9f0c",
   "metadata": {},
   "outputs": [],
   "source": [
    "co2 = CO2(\n",
    "    emissions=np.ones(50) * 10,\n",
    "    molecular_weight=43,\n",
    "    iirf_0=32\n",
    ")"
   ]
  },
  {
   "cell_type": "code",
   "execution_count": null,
   "id": "d2751268",
   "metadata": {},
   "outputs": [],
   "source": [
    "vars(co2)"
   ]
  },
  {
   "cell_type": "code",
   "execution_count": null,
   "id": "60c8b2ef",
   "metadata": {},
   "outputs": [],
   "source": [
    "class Halogen(GreenhouseGas):\n",
    "    def __init__(self, cl_atoms, br_atoms, fractional_release, radiative_efficiency, **kwargs):\n",
    "        super().__init__(**kwargs)\n",
    "        self.cl_atoms = cl_atoms\n",
    "        self.br_atoms = br_atoms\n",
    "        self.fractional_release = fractional_release\n",
    "        self.radiative_efficiency = radiative_efficiency\n",
    "        self.ozone_radiative_efficiency = -1.25e-4\n",
    "        self.ozone_forcing_based_on = 'concentrations'\n",
    "        self.emissions_unit = 'kt {}/yr'.format(self.name.replace(\"-\", \"\"))\n",
    "        self.concentrations_unit = 'ppt'\n",
    "        \n",
    "#     def calculate_eesc():\n",
    "#         pass\n",
    "    \n",
    "#         eesc = calculate_eesc(\n",
    "#         concentration,\n",
    "#         pre_industrial_concentration,\n",
    "#         fractional_release,\n",
    "#         cl_atoms,\n",
    "#         br_atoms,\n",
    "#         species_index_mapping,\n",
    "#         br_cl_ratio=br_cl_ratio,\n",
    "#     )"
   ]
  },
  {
   "cell_type": "code",
   "execution_count": null,
   "id": "cb58f313",
   "metadata": {},
   "outputs": [],
   "source": [
    "# archetype for default\n",
    "cfc_11 = Halogen(name='CFC-11', tropospheric_adjustment=0.13, lifetime=45, fractional_release=0.23, cl_atoms=2, br_atoms=0, molecular_weight=500, radiative_efficiency=0.2)"
   ]
  },
  {
   "cell_type": "code",
   "execution_count": null,
   "id": "826d00c9",
   "metadata": {},
   "outputs": [],
   "source": [
    "vars(cfc_11)"
   ]
  },
  {
   "cell_type": "code",
   "execution_count": null,
   "id": "1835c634",
   "metadata": {},
   "outputs": [],
   "source": [
    "class FGas(GreenhouseGas):\n",
    "    def __init__(self, radiative_efficiency, **kwargs):\n",
    "        super().__init__(**kwargs)\n",
    "        self.radiative_efficiency = radiative_efficiency\n",
    "        self.emissions_unit = 'kt {}/yr'.format(self.name.replace(\"-\", \"\"))\n",
    "        self.concentrations_unit = 'ppt'"
   ]
  },
  {
   "cell_type": "code",
   "execution_count": null,
   "id": "4d7d9dba",
   "metadata": {},
   "outputs": [],
   "source": [
    "hfc134a = FGas(name='HFC-134a', lifetime=23, radiative_efficiency=0.3, molecular_weight=140)"
   ]
  },
  {
   "cell_type": "code",
   "execution_count": null,
   "id": "da6635a4",
   "metadata": {},
   "outputs": [],
   "source": [
    "vars(hfc134a)"
   ]
  },
  {
   "cell_type": "code",
   "execution_count": null,
   "id": "3e3bd81a",
   "metadata": {},
   "outputs": [],
   "source": [
    "class CH4(GreenhouseGas):\n",
    "    def __init__(self, **kwargs):\n",
    "        self.molecular_weight=kwargs.pop('molecular_weight', 16.043)\n",
    "        self.lifetime = kwargs.pop('lifetime', 8.25)\n",
    "        self.tropospheric_adjustment = kwargs.pop('tropospheric_adjustment', -0.14)\n",
    "        \n",
    "        super().__init__(\n",
    "            name='CH4',\n",
    "            molecular_weight=self.molecular_weight, \n",
    "            lifetime=self.lifetime,\n",
    "            tropospheric_adjustment=self.tropospheric_adjustment,\n",
    "            #partition_fraction=self.partition_fraction,\n",
    "            **kwargs\n",
    "        )\n",
    "        self.ozone_radiative_efficiency = 1.75e-4\n",
    "        self.ozone_forcing_based_on = 'concentrations'\n",
    "        self.emissions_unit = kwargs.get('emissions_unit', 'Mt CH4/yr')\n",
    "        self.concentrations_unit = kwargs.get('concentration_unit', 'ppb')\n",
    "        self.iirf_0 = kwargs.get('iirf_0')\n",
    "        self.iirf_airborne = kwargs.get('iirf_airborne', 0.00032)\n",
    "        self.iirf_temperature = kwargs.get('iirf_temperature', -0.3)"
   ]
  },
  {
   "cell_type": "code",
   "execution_count": null,
   "id": "7abedde5",
   "metadata": {},
   "outputs": [],
   "source": [
    "ch4 = CH4(iirf_0 = 32)"
   ]
  },
  {
   "cell_type": "code",
   "execution_count": null,
   "id": "2d094431",
   "metadata": {},
   "outputs": [],
   "source": [
    "vars(ch4)"
   ]
  },
  {
   "cell_type": "code",
   "execution_count": null,
   "id": "85bdbf2e",
   "metadata": {},
   "outputs": [],
   "source": [
    "class N2O(GreenhouseGas):\n",
    "    def __init__(self, **kwargs):\n",
    "        self.molecular_weight=kwargs.pop('molecular_weight', 44.013)\n",
    "        self.lifetime = kwargs.pop('lifetime', 109)\n",
    "        self.tropospheric_adjustment = kwargs.pop('tropospheric_adjustment', 0.07)\n",
    "        \n",
    "        super().__init__(\n",
    "            name='N2O',\n",
    "            molecular_weight=self.molecular_weight, \n",
    "            lifetime=self.lifetime,\n",
    "            tropospheric_adjustment=self.tropospheric_adjustment,\n",
    "            **kwargs\n",
    "        )\n",
    "        self.ozone_radiative_efficiency = 7.10e-4\n",
    "        self.ozone_forcing_based_on = 'concentrations'\n",
    "        self.emissions_unit = kwargs.get('emissions_unit', 'Mt N2O/yr')\n",
    "        self.concentrations_unit = kwargs.get('concentration_unit', 'ppb')\n",
    "        self.iirf_0 = kwargs.get('iirf_0')"
   ]
  },
  {
   "cell_type": "code",
   "execution_count": null,
   "id": "adf09741",
   "metadata": {},
   "outputs": [],
   "source": [
    "n2o = N2O()\n",
    "vars(n2o)"
   ]
  },
  {
   "cell_type": "code",
   "execution_count": null,
   "id": "b29e3bb4",
   "metadata": {},
   "outputs": [],
   "source": [
    "# now let's say we want to simulate UKESM and say CH4 is indeed an aerosol precursor. Can we do this?\n",
    "# it doesn't complain...\n",
    "ch4 = CH4(ari_radiative_efficiency=0.4)"
   ]
  },
  {
   "cell_type": "code",
   "execution_count": null,
   "id": "3461010f",
   "metadata": {},
   "outputs": [],
   "source": [
    "#...but the argument is unused and doesnt appear as instance of CH4\n",
    "vars(ch4)"
   ]
  },
  {
   "cell_type": "code",
   "execution_count": null,
   "id": "c6fc1a9e",
   "metadata": {},
   "outputs": [],
   "source": [
    "class ShortLivedForcer(Specie):\n",
    "    \n",
    "    def __init__(self, name, **kwargs):\n",
    "        super().__init__(name, **kwargs)\n",
    "        self.emissions = kwargs.get('emissions')\n",
    "        self.forcing = kwargs.get('forcing')\n",
    "        self.emissions_unit = kwargs.get('emissions_unit', 'Mt {}/yr'.format(self.name.replace(\"-\", \"\")))"
   ]
  },
  {
   "cell_type": "code",
   "execution_count": null,
   "id": "307ecf7c",
   "metadata": {},
   "outputs": [],
   "source": [
    "# we'll make ERFari a direct property of the species, and ERFaci is a class\n",
    "\n",
    "class AerosolPrecursor(ShortLivedForcer):\n",
    "    def __init__(self, ari_radiative_efficiency, **kwargs):\n",
    "        super().__init__(**kwargs)\n",
    "        self.output_forcing = True"
   ]
  },
  {
   "cell_type": "code",
   "execution_count": null,
   "id": "eeefe523",
   "metadata": {},
   "outputs": [],
   "source": [
    "class Sulfur(AerosolPrecursor):\n",
    "    def __init__(self, **kwargs):\n",
    "        self.ari_radiative_efficiency = kwargs.pop('ari_radiative_efficiency', -0.0036167830509091486)\n",
    "        super().__init__(\n",
    "            name='Sulfur',\n",
    "            ari_radiative_efficiency=self.ari_radiative_efficiency,\n",
    "        )\n",
    "        self.emissions_unit = kwargs.get('emissions_unit', 'Mt SO2/yr')"
   ]
  },
  {
   "cell_type": "code",
   "execution_count": null,
   "id": "b1ca0c54",
   "metadata": {},
   "outputs": [],
   "source": [
    "sulfur = Sulfur()\n",
    "vars(sulfur)"
   ]
  },
  {
   "cell_type": "code",
   "execution_count": null,
   "id": "581d53e2",
   "metadata": {},
   "outputs": [],
   "source": [
    "class BC(AerosolPrecursor):\n",
    "    def __init__(self, **kwargs):\n",
    "        self.ari_radiative_efficiency = kwargs.pop('ari_radiative_efficiency', 0.0507748226795483)\n",
    "        super().__init__(\n",
    "            name='BC',\n",
    "            ari_radiative_efficiency=self.ari_radiative_efficiency,\n",
    "            **kwargs\n",
    "        )"
   ]
  },
  {
   "cell_type": "code",
   "execution_count": null,
   "id": "7d0ef768",
   "metadata": {},
   "outputs": [],
   "source": [
    "class OC(AerosolPrecursor):\n",
    "    def __init__(self, **kwargs):\n",
    "        self.ari_radiative_efficiency = kwargs.pop('ari_radiative_efficiency', -0.006214374446217472)\n",
    "        super().__init__(\n",
    "            name='OC',\n",
    "            ari_radiative_efficiency=self.ari_radiative_efficiency,\n",
    "            **kwargs\n",
    "        )"
   ]
  },
  {
   "cell_type": "code",
   "execution_count": null,
   "id": "42ec7274",
   "metadata": {},
   "outputs": [],
   "source": [
    "bc = BC()\n",
    "vars(bc)"
   ]
  },
  {
   "cell_type": "code",
   "execution_count": null,
   "id": "d6149bea",
   "metadata": {},
   "outputs": [],
   "source": [
    "oc = OC()\n",
    "vars(oc)"
   ]
  },
  {
   "cell_type": "code",
   "execution_count": null,
   "id": "78fd38ce",
   "metadata": {},
   "outputs": [],
   "source": [
    "class Ozone(Specie):\n",
    "    def __init__(self, **kwargs):\n",
    "        super().__init__(name='Ozone')\n",
    "        self.forcing_output=True\n",
    "        self.temperature_feedback = -0.037"
   ]
  },
  {
   "cell_type": "code",
   "execution_count": null,
   "id": "e30096ca",
   "metadata": {},
   "outputs": [],
   "source": [
    "ozone = Ozone()\n",
    "vars(ozone)"
   ]
  },
  {
   "cell_type": "code",
   "execution_count": null,
   "id": "cfc7008e",
   "metadata": {},
   "outputs": [],
   "source": [
    "class AerosolCloudInteractions():\n",
    "    def __init__(self, **kwargs):\n",
    "        super().__init__(name='Aerosol-cloud interactions')\n",
    "        self.forcing_output=True\n",
    "        #scale =\n",
    "        #shape_sulfur = \n",
    "        #shape_bcoc = "
   ]
  },
  {
   "cell_type": "code",
   "execution_count": null,
   "id": "de59ae60",
   "metadata": {},
   "outputs": [],
   "source": [
    "# class(Scenario):\n",
    "    \n",
    "#     def __init__(self, species_list):\n",
    "        "
   ]
  },
  {
   "cell_type": "code",
   "execution_count": null,
   "id": "4d9dcb9a",
   "metadata": {},
   "outputs": [],
   "source": [
    "species_list = [co2, ch4, n2o, bc, oc, sulfur, cfc_11]"
   ]
  },
  {
   "cell_type": "code",
   "execution_count": null,
   "id": "376c2814",
   "metadata": {},
   "outputs": [],
   "source": [
    "run_mode = {\n",
    "    'forcing driven' : False,\n",
    "    'CO2' : 'emissions',\n",
    "    'CH4' : 'emissions',\n",
    "    'N2O' : 'emissions',\n",
    "    'F-Gases': 'emissions',\n",
    "    'Montreal Gases': 'emissions',\n",
    "    'Aerosol-radiation interactions' : 'emissions',\n",
    "    'Aerosol-cloud interactions' : 'emissions',\n",
    "    'Ozone' : 'emissions',\n",
    "    'Land use' : None, #'emissions',\n",
    "    'Stratospheric water vapour':  None,#'emissions',\n",
    "    'Contrails' : None,#'emissions',\n",
    "    'Black carbon on snow' : None,#'emissions',\n",
    "    'Solar': None,#'forcing',\n",
    "    'Volcanic': None,#'forcing'\n",
    "}\n",
    "\n",
    "valid_run_modes = {\n",
    "    'forcing driven' : (False, True),\n",
    "    'CO2' : ('emissions', 'concentrations', 'forcing', None),\n",
    "    'CH4' : ('emissions', 'concentrations', 'forcing', None),\n",
    "    'N2O' : ('emissions', 'concentrations', 'forcing', None),\n",
    "    'F-Gases' : ('emissions', 'concentrations', 'forcing', None),\n",
    "    'Montreal Gases' : ('emissions', 'concentrations', 'forcing', None),\n",
    "    'Aerosol-radiation interactions' : ('emissions', 'forcing', None),\n",
    "    'Aerosol-cloud interactions': ('emissions', 'forcing', None),\n",
    "    'Ozone' : ('emissions', 'forcing', None),\n",
    "    'Land use' : ('emissions', 'forcing', None),\n",
    "    'Stratospheric water vapour' : ('emissions', 'forcing', None),\n",
    "    'Contrails' : ('emissions', 'forcing', None),\n",
    "    'Black carbon on snow' : ('emissions', 'forcing', None),\n",
    "    'Solar' : ('forcing', None),\n",
    "    'Volcanic' : ('forcing', None),\n",
    "}"
   ]
  },
  {
   "cell_type": "code",
   "execution_count": null,
   "id": "7c5533f0",
   "metadata": {},
   "outputs": [],
   "source": [
    "# if run_mode['Ozone']=='emissions':"
   ]
  },
  {
   "cell_type": "code",
   "execution_count": null,
   "id": "7f0dcbf5",
   "metadata": {},
   "outputs": [],
   "source": [
    "required_species_emissions_or_concentrations = {\n",
    "    'forcing driven' : None,\n",
    "    'CO2' : ['CO2', 'N2O'],\n",
    "    'CH4' : ['CH4', 'N2O'],\n",
    "    'N2O' : ['CO2', 'CH4', 'N2O'],\n",
    "    'F-Gases' : None,\n",
    "    'Montreal Gases' : None,\n",
    "    'Aerosol-radiation interactions': None,\n",
    "    'Aerosol-cloud interactions' : ['SO2', 'BC', 'OC'],\n",
    "    'Ozone' : ['CFC-11'],\n",
    "    'Land use' : ['CO2|AFOLU'],\n",
    "    'Stratospheric water vapour' : ['CH4'],\n",
    "    'Contrails' : ['NOx|Aviation'],\n",
    "    'Black carbon on snow' : ['BC'],\n",
    "    'Solar' : ['Solar'],\n",
    "    'Volcanic' : ['Volcanic'],\n",
    "}\n",
    "\n",
    "required_species = []\n",
    "\n",
    "for mode in run_mode:\n",
    "    if required_species_emissions_or_concentrations[mode] is None:\n",
    "        continue\n",
    "    if run_mode[mode] in ('emissions', 'concentrations') :\n",
    "        required_species.extend(required_species_emissions_or_concentrations[mode])\n",
    "    if mode in ('Solar', 'Volcanic'):\n",
    "        if run_mode[mode]=='forcing':\n",
    "            required_species.extend(required_species_emissions_or_concentrations[mode])\n",
    "        \n",
    "        \n",
    "required_species"
   ]
  },
  {
   "cell_type": "code",
   "execution_count": null,
   "id": "53afbc56",
   "metadata": {},
   "outputs": [],
   "source": [
    "required_species = list(set(required_species))\n",
    "required_species"
   ]
  },
  {
   "cell_type": "code",
   "execution_count": null,
   "id": "89c2ba5d",
   "metadata": {},
   "outputs": [],
   "source": [
    "co2.name"
   ]
  },
  {
   "cell_type": "code",
   "execution_count": null,
   "id": "dc5858fb",
   "metadata": {},
   "outputs": [],
   "source": [
    "species_list"
   ]
  },
  {
   "cell_type": "code",
   "execution_count": null,
   "id": "0bd55c45",
   "metadata": {},
   "outputs": [],
   "source": [
    "# # check for duplicates\n",
    "# species_names = []\n",
    "# for specie in species_list:\n",
    "#     if specie.name in species_names:\n",
    "#         raise ValueError('duplicate')\n",
    "#     species_names.append(specie.name)\n",
    "\n",
    "# # check everything required is defined in the scenario\n",
    "# for specie in required_species:\n",
    "#     if specie not in species_names:\n",
    "#         raise ValueError('not in scenario')"
   ]
  },
  {
   "cell_type": "code",
   "execution_count": null,
   "id": "6b1c2056",
   "metadata": {},
   "outputs": [],
   "source": [
    "#species_names"
   ]
  },
  {
   "cell_type": "code",
   "execution_count": null,
   "id": "be2270e4",
   "metadata": {},
   "outputs": [],
   "source": [
    "ozone_emissions_indices = []\n",
    "ozone_concentration_indices = []\n",
    "ari_indices = []\n",
    "ghg_indices = []\n",
    "index_mapping = {}\n",
    "\n",
    "for ispec, specie in enumerate(species_list):\n",
    "    index_mapping[specie.name] = ispec\n",
    "    specie.set_index(ispec)\n",
    "    if hasattr(specie, \"ozone_radiative_efficiency\"):\n",
    "        ozone_precursor_indices.append(ispec)\n",
    "    if isinstance(specie, GreenhouseGas):\n",
    "        ghg_indices.append(ispec)\n",
    "    if isinstance(specie, AerosolPrecursor):\n",
    "        ari_indices.append(ispec)"
   ]
  },
  {
   "cell_type": "code",
   "execution_count": null,
   "id": "64cdb3a2",
   "metadata": {},
   "outputs": [],
   "source": [
    "ozone_precursor_indices"
   ]
  },
  {
   "cell_type": "code",
   "execution_count": null,
   "id": "2a4a76d6",
   "metadata": {},
   "outputs": [],
   "source": [
    "ghg_indices"
   ]
  },
  {
   "cell_type": "code",
   "execution_count": null,
   "id": "2e533ceb",
   "metadata": {},
   "outputs": [],
   "source": [
    "ari_indices"
   ]
  },
  {
   "cell_type": "code",
   "execution_count": null,
   "id": "df212bfe",
   "metadata": {},
   "outputs": [],
   "source": [
    "aci_indices = [index_mapping[specie] for specie in ['Sulfur', 'BC', 'OC']] # in that order\n",
    "# then we can choose different treatments, e.g. stevens"
   ]
  },
  {
   "cell_type": "code",
   "execution_count": null,
   "id": "ecd4e438",
   "metadata": {},
   "outputs": [],
   "source": [
    "aci_indices"
   ]
  },
  {
   "cell_type": "code",
   "execution_count": null,
   "id": "db9b4433",
   "metadata": {},
   "outputs": [],
   "source": [
    "index_mapping"
   ]
  },
  {
   "cell_type": "code",
   "execution_count": null,
   "id": "50d0a224",
   "metadata": {},
   "outputs": [],
   "source": [
    "scenarios = ['ssp119', 'ssp126', 'ssp245', 'ssp370', 'ssp434', 'ssp460', 'ssp534-over', 'ssp585']"
   ]
  },
  {
   "cell_type": "code",
   "execution_count": null,
   "id": "c389064e",
   "metadata": {},
   "outputs": [],
   "source": []
  }
 ],
 "metadata": {
  "kernelspec": {
   "display_name": "Python 3 (ipykernel)",
   "language": "python",
   "name": "python3"
  },
  "language_info": {
   "codemirror_mode": {
    "name": "ipython",
    "version": 3
   },
   "file_extension": ".py",
   "mimetype": "text/x-python",
   "name": "python",
   "nbconvert_exporter": "python",
   "pygments_lexer": "ipython3",
   "version": "3.7.12"
  }
 },
 "nbformat": 4,
 "nbformat_minor": 5
}
