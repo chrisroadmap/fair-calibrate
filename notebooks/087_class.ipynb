{
 "cells": [
  {
   "cell_type": "markdown",
   "id": "7c3d5583",
   "metadata": {},
   "source": [
    "dicts are just more logical than classes"
   ]
  },
  {
   "cell_type": "code",
   "execution_count": null,
   "id": "f45bdc9e",
   "metadata": {},
   "outputs": [],
   "source": [
    "# Define a minimal and somewhat odd scenario\n",
    "species_list = [\n",
    "    \"CO2\", \n",
    "    \"CFC-11\",\n",
    "    \"CH4\", \n",
    "    \"NH3\", \n",
    "    \"Aerosol-radiation interactions\", \n",
    "    \"Aerosol-cloud interactions\",\n",
    "    \"Solar\",\n",
    "    \"Ozone\"\n",
    "]"
   ]
  },
  {
   "cell_type": "code",
   "execution_count": null,
   "id": "6cb81698",
   "metadata": {},
   "outputs": [],
   "source": [
    "species = {specie: {} for specie in species_list}"
   ]
  },
  {
   "cell_type": "code",
   "execution_count": null,
   "id": "6efbee9b",
   "metadata": {},
   "outputs": [],
   "source": [
    "species"
   ]
  },
  {
   "cell_type": "code",
   "execution_count": null,
   "id": "4bd1ca55",
   "metadata": {},
   "outputs": [],
   "source": [
    "species[\"CO2\"] = {\n",
    "    \"well_mixed_greenhouse_gas\": True,\n",
    "    \"co2_ch4_n2o\": True,\n",
    "    \"ozone_precursor\": False,\n",
    "    \"aerosol_radiation_precursor\": False,\n",
    "    \"aerosol_cloud_precursor\": False\n",
    "    \"emitted_directly\": True\n",
    "    emissions: np.ones(50) * 10\n",
    "    concentrations: np.ones(50) * np.nan\n",
    "    forcing: np.ones(50) * np.nan\n",
    "}"
   ]
  },
  {
   "cell_type": "code",
   "execution_count": null,
   "id": "cb734015",
   "metadata": {},
   "outputs": [],
   "source": [
    "species[\"Ozone\"] = {\n",
    "    \"well_mixed_greenhouse_gas\": False,\n",
    "    \"co2_ch4_n2o\": False,\n",
    "    \"ozone_precursor\": False,  # ozone is not a precursor of itself\n",
    "    \"aerosol_radiation_precursor\": False,\n",
    "    \"aerosol_cloud_precursor\": False,\n",
    "    \"emitted_directly\": False,\n",
    "    # it doesn't take emissions, so no need to define\n",
    "    # same for concentrations\n",
    "    forcing: np.ones(50) * np.nan\n",
    "}"
   ]
  },
  {
   "cell_type": "code",
   "execution_count": null,
   "id": "373f45c3",
   "metadata": {},
   "outputs": [],
   "source": [
    "species[\"Aerosol-cloud interactions\"] = {\n",
    "    \"well_mixed_greenhouse_gas\": False,\n",
    "    \"co2_ch4_n2o\": False,\n",
    "    \"ozone_precursor\": False,  # ozone is not a precursor of itself\n",
    "    \"aerosol_radiation_precursor\": False,\n",
    "    \"aerosol_cloud_precursor\": False,\n",
    "    \"emitted_directly\": False,\n",
    "    # it doesn't take emissions, so no need to define\n",
    "    # same for concentrations\n",
    "    forcing: np.ones(50) * np.nan\n",
    "    \"method\": \"Smith2021\",\n",
    "    \"depends_on\": [\"BC\", \"OC\", \"Sulfur\"]\n",
    "}"
   ]
  },
  {
   "cell_type": "code",
   "execution_count": null,
   "id": "2aee5e08",
   "metadata": {},
   "outputs": [],
   "source": [
    "class Specie():\n",
    "\n",
    "    def __init__(\n",
    "        self,\n",
    "        takes_emissions=False,\n",
    "        aerosol_radiation_precursor=False,\n",
    "        aerosol_cloud_precursor=False,\n",
    "        ozone_precursor=False,\n",
    "        well_mixed_ghg=False,\n",
    "        to_forcing=False,\n",
    "    ):\n",
    "        \n",
    "        self.takes_emissions = takes_emissions\n",
    "        self.aerosol_radiation_precursor = aerosol_radiation_precursor\n",
    "        self.aerosol_cloud_precursor = aerosol_cloud_precursor\n",
    "        self.ozone_precursor = ozone_precursor\n",
    "        self.well_mixed_ghg = well_mixed_ghg\n",
    "        self.to_forcing = to_forcing"
   ]
  },
  {
   "cell_type": "code",
   "execution_count": null,
   "id": "8880271b",
   "metadata": {},
   "outputs": [],
   "source": [
    "ozone = Specie(to_forcing=True)"
   ]
  },
  {
   "cell_type": "code",
   "execution_count": null,
   "id": "71a338f2",
   "metadata": {},
   "outputs": [],
   "source": [
    "class GreenhouseGas(Specie):\n",
    "    \n",
    "    def __init__(well_mixed_ghg=True, to_forcing=True):\n",
    "        return super().__init__(well_mixed_ghg=True, to_forcing=True)"
   ]
  },
  {
   "cell_type": "code",
   "execution_count": null,
   "id": "e094c727",
   "metadata": {},
   "outputs": [],
   "source": [
    "co2 = GreenhouseGas()"
   ]
  },
  {
   "cell_type": "code",
   "execution_count": null,
   "id": "de277e6a",
   "metadata": {},
   "outputs": [],
   "source": [
    "co2.well_mixed_ghg"
   ]
  },
  {
   "cell_type": "code",
   "execution_count": null,
   "id": "077bd87f",
   "metadata": {},
   "outputs": [],
   "source": [
    "isinstance(co2, GreenhouseGas)"
   ]
  },
  {
   "cell_type": "code",
   "execution_count": null,
   "id": "16875595",
   "metadata": {},
   "outputs": [],
   "source": [
    "class ShortLivedClimateForcer(Specie):\n",
    "    pass"
   ]
  },
  {
   "cell_type": "code",
   "execution_count": null,
   "id": "ce8590d8",
   "metadata": {},
   "outputs": [],
   "source": [
    "so2 = ShortLivedClimateForcer(\n",
    "    aerosol=True,\n",
    "    ozone=False,\n",
    ")"
   ]
  },
  {
   "cell_type": "code",
   "execution_count": null,
   "id": "0e5fc958",
   "metadata": {},
   "outputs": [],
   "source": []
  }
 ],
 "metadata": {
  "kernelspec": {
   "display_name": "Python 3 (ipykernel)",
   "language": "python",
   "name": "python3"
  },
  "language_info": {
   "codemirror_mode": {
    "name": "ipython",
    "version": 3
   },
   "file_extension": ".py",
   "mimetype": "text/x-python",
   "name": "python",
   "nbconvert_exporter": "python",
   "pygments_lexer": "ipython3",
   "version": "3.7.12"
  }
 },
 "nbformat": 4,
 "nbformat_minor": 5
}
