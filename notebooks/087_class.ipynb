{
 "cells": [
  {
   "cell_type": "markdown",
   "id": "7c3d5583",
   "metadata": {},
   "source": [
    "# Object-oriented FaIR\n",
    "\n",
    "Why do classes make absolutely zero sense?\n",
    "\n",
    "**TODO** sort out the fact that lifetime adjustments seem to be relative to present day for CO2 and pre-industrial for CH4"
   ]
  },
  {
   "cell_type": "code",
   "execution_count": null,
   "id": "aeecf398",
   "metadata": {},
   "outputs": [],
   "source": [
    "from abc import ABC\n",
    "import os\n",
    "\n",
    "import numpy as np\n",
    "import pandas as pd\n",
    "import matplotlib.pyplot as pl\n",
    "\n",
    "from fair21.constants.gases import MOLWT\n",
    "from fair21.constants import M_ATMOS, TIME_AXIS, SPECIES_AXIS\n",
    "from fair21.defaults.gases import iirf_horizon, iirf_max, pre_industrial_concentration\n",
    "from fair21.defaults import f_gas_list, montreal_gas_list, slcf_list, gas_list, n_gas_boxes, n_temperature_boxes, species_list\n",
    "from fair21.energy_balance_model import EnergyBalanceModel\n",
    "from fair21.exceptions import MissingInputError, IncompatibleConfigError, PartitionFractionError, LifetimeError, TimeNotDefinedError\n",
    "from fair21.gas_cycle import calculate_alpha\n",
    "from fair21.gas_cycle.forward import step_concentration\n",
    "from fair21.forcing.ghg import ghg"
   ]
  },
  {
   "cell_type": "code",
   "execution_count": null,
   "id": "50d0a224",
   "metadata": {},
   "outputs": [],
   "source": [
    "scenarios = ['ssp119', 'ssp126', 'ssp245', 'ssp370', 'ssp434', 'ssp460', 'ssp534-over', 'ssp585']"
   ]
  },
  {
   "cell_type": "code",
   "execution_count": null,
   "id": "c389064e",
   "metadata": {},
   "outputs": [],
   "source": [
    "# grab some emissions\n",
    "emissions = {}\n",
    "\n",
    "df = pd.read_csv('../data/rcmip/rcmip-emissions-annual-means-v5-1-0.csv')\n",
    "for iscen, scenario in enumerate(scenarios):\n",
    "    emissions[scenario] = {}\n",
    "    for ispec, specie in enumerate(species_list):\n",
    "        specie_rcmip_name = specie.replace(\"-\", \"\")\n",
    "        emissions[scenario][specie] = df.loc[\n",
    "            (df['Scenario']==scenario) & (df['Variable'].str.endswith(\"|\"+specie_rcmip_name)) & (df['Region']=='World'), '1750':\n",
    "        ].interpolate(axis=1).values.T.squeeze()\n",
    "    \n",
    "        # CO2 and N2O units need to behave\n",
    "        if specie in ('CO2', 'N2O'):\n",
    "            emissions[scenario][specie] = emissions[scenario][specie] / 1000"
   ]
  },
  {
   "cell_type": "code",
   "execution_count": null,
   "id": "5e9ce4ba",
   "metadata": {},
   "outputs": [],
   "source": [
    "scenario = 'ssp245'"
   ]
  },
  {
   "cell_type": "markdown",
   "id": "2075191d",
   "metadata": {},
   "source": [
    "`Specie` is an abstract base class. Everything that we care about for climate is a `Specie`, but we should encourage users to use derived classes like `GreenhouseGas`"
   ]
  },
  {
   "cell_type": "code",
   "execution_count": null,
   "id": "2aee5e08",
   "metadata": {},
   "outputs": [],
   "source": [
    "class Specie(ABC):\n",
    "    \n",
    "    def __init__(self, name, tropospheric_adjustment=0):\n",
    "        self.name = name\n",
    "        self.tropospheric_adjustment=tropospheric_adjustment\n",
    "    \n",
    "    def set_index(self, index):\n",
    "        self.index = index"
   ]
  },
  {
   "cell_type": "code",
   "execution_count": null,
   "id": "71a338f2",
   "metadata": {},
   "outputs": [],
   "source": [
    "class GreenhouseGas(Specie):\n",
    "    \n",
    "    def __init__(self, name, molecular_weight, lifetime, radiative_efficiency, **kwargs):\n",
    "        tropospheric_adjustment = kwargs.pop('tropospheric_adjustment', 0)\n",
    "        super().__init__(name, tropospheric_adjustment)\n",
    "        \n",
    "        # move the below to input verification method\n",
    "        self.molecular_weight = molecular_weight\n",
    "        self.lifetime = lifetime\n",
    "        self.radiative_efficiency = radiative_efficiency\n",
    "        if np.ndim(self.lifetime) == 1:\n",
    "            lifetime = np.asarray(lifetime)\n",
    "            # should we enforce whether strictly decreasing or not?\n",
    "            partition_fraction = kwargs.get('partition_fraction')\n",
    "            if partition_fraction is None:\n",
    "                raise MissingInputError('specify `partition_fraction` if specifying more than one `lifetime`') # custom exception needed\n",
    "            if len(partition_fraction) != len(lifetime):\n",
    "                raise IncompatibleConfigError('`partition_fraction` and `lifetime` are different shapes') # custom exception needed\n",
    "            partition_fraction = np.asarray(partition_fraction)\n",
    "            if ~np.isclose(np.sum(partition_fraction), 1):\n",
    "                raise PartitionFractionError('partition_fraction should sum to 1') # custom exception needed\n",
    "        elif np.ndim(self.lifetime) > 1:\n",
    "            raise LifetimeError('`lifetime` array dimension is greater than 1')\n",
    "        else:\n",
    "            partition_fraction=np.zeros(n_gas_boxes)\n",
    "            partition_fraction[0] = 1\n",
    "        self.partition_fraction=partition_fraction\n",
    "        self.emissions = kwargs.get('emissions')\n",
    "        self.concentration = kwargs.get('concentration')\n",
    "        self.forcing = kwargs.get('forcing')\n",
    "        self.g0, self.g1 = self.calculate_g(partition_fraction, lifetime, iirf_horizon=iirf_horizon)\n",
    "        self.iirf_0 = kwargs.get('iirf_0', self.lifetime_to_iirf_0(lifetime, partition_fraction, iirf_horizon=iirf_horizon))\n",
    "        self.iirf_cumulative = kwargs.get('iirf_cumulative', 0)\n",
    "        self.iirf_airborne = kwargs.get('iirf_airborne', 0)\n",
    "        self.iirf_temperature = kwargs.get('iirf_temperature', 0)\n",
    "        self.pre_industrial_concentration=kwargs.get('pre_industrial_concentration', 0)\n",
    "        self.natural_emissions_adjustment=kwargs.get('natural_emissions_adjustment', 0)\n",
    "        self.output_forcing=True\n",
    "\n",
    "\n",
    "    \n",
    "    @staticmethod\n",
    "    def calculate_g(partition_fraction, lifetime, iirf_horizon=100):\n",
    "        g1 = np.sum(partition_fraction * lifetime * (1 - (1 + iirf_horizon/lifetime) * np.exp(-iirf_horizon/lifetime)))\n",
    "        g0 = np.exp(-1 * np.sum(partition_fraction*lifetime*(1 - np.exp(-iirf_horizon/lifetime)))/g1)\n",
    "        return g0, g1\n",
    "    \n",
    "    @staticmethod\n",
    "    def lifetime_to_iirf_0(lifetime, partition_fraction=1,iirf_horizon=100):\n",
    "        return np.sum(lifetime * (1 - np.exp(-iirf_horizon / lifetime)) * partition_fraction)\n",
    "    \n",
    "    @property\n",
    "    def burden_per_emission(self):\n",
    "        return 1 / (M_ATMOS / 1e18 * self.molecular_weight / MOLWT['AIR'])"
   ]
  },
  {
   "cell_type": "code",
   "execution_count": null,
   "id": "b9adbc80",
   "metadata": {},
   "outputs": [],
   "source": [
    "class CO2(GreenhouseGas):\n",
    "    def __init__(self, **kwargs):\n",
    "        self.molecular_weight=kwargs.pop('molecular_weight', 44.009)\n",
    "        self.lifetime = kwargs.pop('lifetime', np.array([1e9, 394.4, 36.54, 4.304]))\n",
    "        self.partition_fraction = kwargs.pop('partition_fraction', np.array([0.2173, 0.2240, 0.2824, 0.2763]))\n",
    "        self.tropospheric_adjustment = kwargs.pop('tropospheric_adjustment', 0.05)\n",
    "        self.radiative_efficiency = kwargs.pop('radiative_efficiency', 1.3344985680386619e-05)\n",
    "        # we should calculate based on Meinshausen formula and provide this as a convenience method\n",
    "        # allowing for time variation\n",
    "        \n",
    "        super().__init__(\n",
    "            name=\"CO2\",\n",
    "            molecular_weight=self.molecular_weight, \n",
    "            lifetime=self.lifetime,\n",
    "            partition_fraction=self.partition_fraction,\n",
    "            tropospheric_adjustment=self.tropospheric_adjustment,\n",
    "            radiative_efficiency=self.radiative_efficiency,\n",
    "            **kwargs\n",
    "        )\n",
    "        self.emissions_unit = kwargs.get('emissions_unit', 'Gt CO2/yr')\n",
    "        self.concentration_unit = kwargs.get('concentration_unit', 'ppm')\n",
    "        self.iirf_0 = kwargs.get('iirf_0', 29)\n",
    "        self.iirf_cumulative = kwargs.get('iirf_cumulative', 0.00846)\n",
    "        self.iirf_airborne = kwargs.get('iirf_airborne', 0.000819)\n",
    "        self.iirf_temperature = kwargs.get('iirf_temperature', 4)\n",
    "        self.pre_industrial_concentration=kwargs.get('pre_industrial_concentration', 278.3)\n",
    "        \n",
    "        \n",
    "    # needs CH4 and N2O concentration\n",
    "    def calculate_radiative_efficiency():\n",
    "        pass"
   ]
  },
  {
   "cell_type": "code",
   "execution_count": null,
   "id": "899e9f0c",
   "metadata": {},
   "outputs": [],
   "source": [
    "co2 = CO2()"
   ]
  },
  {
   "cell_type": "code",
   "execution_count": null,
   "id": "d2751268",
   "metadata": {},
   "outputs": [],
   "source": [
    "vars(co2)"
   ]
  },
  {
   "cell_type": "code",
   "execution_count": null,
   "id": "101ec7d7",
   "metadata": {},
   "outputs": [],
   "source": [
    "co2.burden_per_emission"
   ]
  },
  {
   "cell_type": "code",
   "execution_count": null,
   "id": "60c8b2ef",
   "metadata": {},
   "outputs": [],
   "source": [
    "class Halogen(GreenhouseGas):\n",
    "    def __init__(self, cl_atoms, br_atoms, fractional_release, **kwargs):\n",
    "        super().__init__(**kwargs)\n",
    "        self.cl_atoms = cl_atoms\n",
    "        self.br_atoms = br_atoms\n",
    "        self.fractional_release = fractional_release\n",
    "        #self.radiative_efficiency = kwargs.get('radiative_efficiency')\n",
    "        self.ozone_radiative_efficiency = -1.25e-4\n",
    "        self.ozone_forcing_based_on = 'concentration'\n",
    "        self.emissions_unit = 'kt {}/yr'.format(self.name.replace(\"-\", \"\"))\n",
    "        self.concentration_unit = 'ppt'\n",
    "        self.pre_industrial_concentration=kwargs.get('pre_industrial_concentration', 0)\n",
    "        \n",
    "#     def calculate_eesc():\n",
    "#         pass\n",
    "    \n",
    "#         eesc = calculate_eesc(\n",
    "#         concentration,\n",
    "#         pre_industrial_concentration,\n",
    "#         fractional_release,\n",
    "#         cl_atoms,\n",
    "#         br_atoms,\n",
    "#         species_index_mapping,\n",
    "#         br_cl_ratio=br_cl_ratio,\n",
    "#     )"
   ]
  },
  {
   "cell_type": "code",
   "execution_count": null,
   "id": "cb58f313",
   "metadata": {},
   "outputs": [],
   "source": [
    "# archetype for default\n",
    "cfc_11 = Halogen(name='CFC-11', tropospheric_adjustment=0.13, lifetime=45, fractional_release=0.23, cl_atoms=2, br_atoms=0, molecular_weight=500, radiative_efficiency=0.2)"
   ]
  },
  {
   "cell_type": "code",
   "execution_count": null,
   "id": "826d00c9",
   "metadata": {},
   "outputs": [],
   "source": [
    "vars(cfc_11)"
   ]
  },
  {
   "cell_type": "code",
   "execution_count": null,
   "id": "1835c634",
   "metadata": {},
   "outputs": [],
   "source": [
    "class FGas(GreenhouseGas):\n",
    "    def __init__(self, **kwargs):\n",
    "        super().__init__(**kwargs)\n",
    "        self.emissions_unit = 'kt {}/yr'.format(self.name.replace(\"-\", \"\"))\n",
    "        self.concentration_unit = 'ppt'\n",
    "        self.pre_industrial_concentration=0"
   ]
  },
  {
   "cell_type": "code",
   "execution_count": null,
   "id": "4d7d9dba",
   "metadata": {},
   "outputs": [],
   "source": [
    "hfc134a = FGas(name='HFC-134a', lifetime=23, radiative_efficiency=0.3, molecular_weight=140)"
   ]
  },
  {
   "cell_type": "code",
   "execution_count": null,
   "id": "da6635a4",
   "metadata": {},
   "outputs": [],
   "source": [
    "vars(hfc134a)"
   ]
  },
  {
   "cell_type": "code",
   "execution_count": null,
   "id": "3e3bd81a",
   "metadata": {},
   "outputs": [],
   "source": [
    "class CH4(GreenhouseGas):\n",
    "    def __init__(self, **kwargs):\n",
    "        self.molecular_weight=kwargs.pop('molecular_weight', 16.043)\n",
    "        self.lifetime = kwargs.pop('lifetime', 8.25)\n",
    "        self.tropospheric_adjustment = kwargs.pop('tropospheric_adjustment', -0.14)\n",
    "        self.radiative_efficiency = kwargs.pop('radiative_efficiency', 0.00038864402860869495) # again this calcu needs to be done specific\n",
    "        \n",
    "        super().__init__(\n",
    "            name='CH4',\n",
    "            molecular_weight=self.molecular_weight, \n",
    "            lifetime=self.lifetime,\n",
    "            tropospheric_adjustment=self.tropospheric_adjustment,\n",
    "            radiative_efficiency=self.radiative_efficiency,\n",
    "            **kwargs\n",
    "        )\n",
    "        self.ozone_radiative_efficiency = 1.75e-4\n",
    "        self.ozone_forcing_based_on = 'concentration'\n",
    "        self.emissions_unit = kwargs.get('emissions_unit', 'Mt CH4/yr')\n",
    "        self.concentration_unit = kwargs.get('concentration_unit', 'ppb')\n",
    "        self.iirf_0 = kwargs.get('iirf_0')\n",
    "        self.iirf_airborne = kwargs.get('iirf_airborne', 0.00032)\n",
    "        self.iirf_temperature = kwargs.get('iirf_temperature', -0.3)\n",
    "        self.pre_industrial_concentration=kwargs.get('pre_industrial_concentration', 729.2)"
   ]
  },
  {
   "cell_type": "code",
   "execution_count": null,
   "id": "7abedde5",
   "metadata": {},
   "outputs": [],
   "source": [
    "ch4 = CH4()"
   ]
  },
  {
   "cell_type": "code",
   "execution_count": null,
   "id": "2d094431",
   "metadata": {},
   "outputs": [],
   "source": [
    "vars(ch4)"
   ]
  },
  {
   "cell_type": "code",
   "execution_count": null,
   "id": "85bdbf2e",
   "metadata": {},
   "outputs": [],
   "source": [
    "class N2O(GreenhouseGas):\n",
    "    def __init__(self, **kwargs):\n",
    "        self.molecular_weight=kwargs.pop('molecular_weight', 44.013)\n",
    "        self.lifetime = kwargs.pop('lifetime', 109)\n",
    "        self.tropospheric_adjustment = kwargs.pop('tropospheric_adjustment', 0.07)\n",
    "        self.radiative_efficiency = kwargs.pop('radiative_efficiency', 0.00319550741640458) # again this calcu needs to be done specific\n",
    "\n",
    "        super().__init__(\n",
    "            name='N2O',\n",
    "            molecular_weight=self.molecular_weight, \n",
    "            lifetime=self.lifetime,\n",
    "            tropospheric_adjustment=self.tropospheric_adjustment,\n",
    "            radiative_efficiency=self.radiative_efficiency,\n",
    "            **kwargs\n",
    "        )\n",
    "        self.ozone_radiative_efficiency = 7.10e-4\n",
    "        self.ozone_forcing_based_on = 'concentration'\n",
    "        self.emissions_unit = kwargs.get('emissions_unit', 'Mt N2O/yr')\n",
    "        self.concentration_unit = kwargs.get('concentration_unit', 'ppb')\n",
    "        self.iirf_0 = kwargs.get('iirf_0')\n",
    "        self.pre_industrial_concentration = kwargs.get('pre_industrial_concentration', 270.1)"
   ]
  },
  {
   "cell_type": "code",
   "execution_count": null,
   "id": "adf09741",
   "metadata": {},
   "outputs": [],
   "source": [
    "n2o = N2O()\n",
    "vars(n2o)"
   ]
  },
  {
   "cell_type": "code",
   "execution_count": null,
   "id": "b29e3bb4",
   "metadata": {},
   "outputs": [],
   "source": [
    "# now let's say we want to simulate UKESM and say CH4 is indeed an aerosol precursor. Can we do this?\n",
    "# it doesn't complain...\n",
    "ch4 = CH4(ari_radiative_efficiency=0.4)"
   ]
  },
  {
   "cell_type": "code",
   "execution_count": null,
   "id": "3461010f",
   "metadata": {},
   "outputs": [],
   "source": [
    "#...but the argument is unused and doesnt appear as instance of CH4. This needs to be sorted out\n",
    "vars(ch4)"
   ]
  },
  {
   "cell_type": "code",
   "execution_count": null,
   "id": "c6fc1a9e",
   "metadata": {},
   "outputs": [],
   "source": [
    "class ShortLivedForcer(Specie):\n",
    "    \n",
    "    def __init__(self, name, **kwargs):\n",
    "        super().__init__(name, **kwargs)\n",
    "        self.emissions = kwargs.get('emissions')\n",
    "        self.forcing = kwargs.get('forcing')\n",
    "        self.emissions_unit = kwargs.get('emissions_unit', 'Mt {}/yr'.format(self.name.replace(\"-\", \"\")))\n",
    "        self.pre_industrial_emissions = kwargs.get('pre_industrial_emissions', 0)"
   ]
  },
  {
   "cell_type": "code",
   "execution_count": null,
   "id": "307ecf7c",
   "metadata": {},
   "outputs": [],
   "source": [
    "# we'll make ERFari a direct property of the species, and ERFaci is a class\n",
    "\n",
    "class AerosolPrecursor(ShortLivedForcer):\n",
    "    def __init__(self, ari_radiative_efficiency, **kwargs):\n",
    "        super().__init__(**kwargs)\n",
    "        self.output_forcing = True"
   ]
  },
  {
   "cell_type": "code",
   "execution_count": null,
   "id": "eeefe523",
   "metadata": {},
   "outputs": [],
   "source": [
    "class Sulfur(AerosolPrecursor):\n",
    "    def __init__(self, **kwargs):\n",
    "        self.ari_radiative_efficiency = kwargs.pop('ari_radiative_efficiency', -0.0036167830509091486)\n",
    "        super().__init__(\n",
    "            name='Sulfur',\n",
    "            ari_radiative_efficiency=self.ari_radiative_efficiency,\n",
    "        )\n",
    "        self.emissions_unit = kwargs.get('emissions_unit', 'Mt SO2/yr')"
   ]
  },
  {
   "cell_type": "code",
   "execution_count": null,
   "id": "b1ca0c54",
   "metadata": {},
   "outputs": [],
   "source": [
    "sulfur = Sulfur()\n",
    "vars(sulfur)"
   ]
  },
  {
   "cell_type": "code",
   "execution_count": null,
   "id": "581d53e2",
   "metadata": {},
   "outputs": [],
   "source": [
    "class BC(AerosolPrecursor):\n",
    "    def __init__(self, **kwargs):\n",
    "        self.ari_radiative_efficiency = kwargs.pop('ari_radiative_efficiency', 0.0507748226795483)\n",
    "        super().__init__(\n",
    "            name='BC',\n",
    "            ari_radiative_efficiency=self.ari_radiative_efficiency,\n",
    "            **kwargs\n",
    "        )"
   ]
  },
  {
   "cell_type": "code",
   "execution_count": null,
   "id": "7d0ef768",
   "metadata": {},
   "outputs": [],
   "source": [
    "class OC(AerosolPrecursor):\n",
    "    def __init__(self, **kwargs):\n",
    "        self.ari_radiative_efficiency = kwargs.pop('ari_radiative_efficiency', -0.006214374446217472)\n",
    "        super().__init__(\n",
    "            name='OC',\n",
    "            ari_radiative_efficiency=self.ari_radiative_efficiency,\n",
    "            **kwargs\n",
    "        )"
   ]
  },
  {
   "cell_type": "code",
   "execution_count": null,
   "id": "42ec7274",
   "metadata": {},
   "outputs": [],
   "source": [
    "bc = BC()\n",
    "vars(bc)"
   ]
  },
  {
   "cell_type": "code",
   "execution_count": null,
   "id": "d6149bea",
   "metadata": {},
   "outputs": [],
   "source": [
    "oc = OC()\n",
    "vars(oc)"
   ]
  },
  {
   "cell_type": "code",
   "execution_count": null,
   "id": "78fd38ce",
   "metadata": {},
   "outputs": [],
   "source": [
    "class Ozone(Specie):\n",
    "    def __init__(self, **kwargs):\n",
    "        super().__init__(name='Ozone')\n",
    "        self.forcing_output=True\n",
    "        self.temperature_feedback = -0.037"
   ]
  },
  {
   "cell_type": "code",
   "execution_count": null,
   "id": "e30096ca",
   "metadata": {},
   "outputs": [],
   "source": [
    "ozone = Ozone()\n",
    "vars(ozone)"
   ]
  },
  {
   "cell_type": "code",
   "execution_count": null,
   "id": "cfc7008e",
   "metadata": {},
   "outputs": [],
   "source": [
    "class AerosolCloudInteractions():\n",
    "    def __init__(self, **kwargs):\n",
    "        super().__init__(name='Aerosol-cloud interactions')\n",
    "        self.forcing_output=True\n",
    "        #scale =\n",
    "        #shape_sulfur = \n",
    "        #shape_bcoc = "
   ]
  },
  {
   "cell_type": "code",
   "execution_count": null,
   "id": "4d9dcb9a",
   "metadata": {},
   "outputs": [],
   "source": [
    "#species_list = [co2, ch4, n2o]"
   ]
  },
  {
   "cell_type": "code",
   "execution_count": null,
   "id": "376c2814",
   "metadata": {},
   "outputs": [],
   "source": [
    "run_mode = {\n",
    "    'forcing driven' : False,\n",
    "    'CO2' : 'emissions',\n",
    "    'CH4' : 'emissions',\n",
    "    'N2O' : 'emissions',\n",
    "    'F-Gases': None,#'emissions',\n",
    "    'Montreal Gases': None,#'emissions',\n",
    "    'Aerosol-radiation interactions' : None,#'emissions',\n",
    "    'Aerosol-cloud interactions' : None,#'emissions',\n",
    "    'Ozone' : None,#'emissions',\n",
    "    'Land use' : None, #'emissions',\n",
    "    'Stratospheric water vapour':  None,#'emissions',\n",
    "    'Contrails' : None,#'emissions',\n",
    "    'Black carbon on snow' : None,#'emissions',\n",
    "    'Solar': None,#'forcing',\n",
    "    'Volcanic': None,#'forcing'\n",
    "}\n",
    "\n",
    "valid_run_modes = {\n",
    "    'forcing driven' : (False, True),\n",
    "    'CO2' : ('emissions', 'concentration', 'forcing', None),\n",
    "    'CH4' : ('emissions', 'concentration', 'forcing', None),\n",
    "    'N2O' : ('emissions', 'concentration', 'forcing', None),\n",
    "    'F-Gases' : ('emissions', 'concentration', 'forcing', None),\n",
    "    'Montreal Gases' : ('emissions', 'concentration', 'forcing', None),\n",
    "    'Aerosol-radiation interactions' : ('emissions', 'forcing', None),\n",
    "    'Aerosol-cloud interactions': ('emissions', 'forcing', None),\n",
    "    'Ozone' : ('emissions', 'forcing', None),\n",
    "    'Land use' : ('emissions', 'forcing', None),\n",
    "    'Stratospheric water vapour' : ('emissions', 'forcing', None),\n",
    "    'Contrails' : ('emissions', 'forcing', None),\n",
    "    'Black carbon on snow' : ('emissions', 'forcing', None),\n",
    "    'Solar' : ('forcing', None),\n",
    "    'Volcanic' : ('forcing', None),\n",
    "}"
   ]
  },
  {
   "cell_type": "code",
   "execution_count": null,
   "id": "7f0dcbf5",
   "metadata": {},
   "outputs": [],
   "source": [
    "required_species_emissions_or_concentration = {\n",
    "    'forcing driven' : None,\n",
    "    'CO2' : ['CO2', 'N2O'],\n",
    "    'CH4' : ['CH4', 'N2O'],\n",
    "    'N2O' : ['CO2', 'CH4', 'N2O'],\n",
    "    'F-Gases' : None,\n",
    "    'Montreal Gases' : None,\n",
    "    'Aerosol-radiation interactions': None,\n",
    "    'Aerosol-cloud interactions' : ['Sulfur', 'BC', 'OC'],\n",
    "    'Ozone' : ['CFC-11'],\n",
    "    'Land use' : ['CO2|AFOLU'],\n",
    "    'Stratospheric water vapour' : ['CH4'],\n",
    "    'Contrails' : ['NOx|Aviation'],\n",
    "    'Black carbon on snow' : ['BC'],\n",
    "    'Solar' : ['Solar'],\n",
    "    'Volcanic' : ['Volcanic'],\n",
    "}\n",
    "\n",
    "required_species = []\n",
    "\n",
    "for mode in run_mode:\n",
    "    if required_species_emissions_or_concentration[mode] is None:\n",
    "        continue\n",
    "    if run_mode[mode] in ('emissions', 'concentration') :\n",
    "        required_species.extend(required_species_emissions_or_concentration[mode])\n",
    "    if mode in ('Solar', 'Volcanic'):\n",
    "        if run_mode[mode]=='forcing':\n",
    "            required_species.extend(required_species_emissions_or_concentration[mode])\n",
    "\n",
    "required_species = list(set(required_species))\n",
    "required_species"
   ]
  },
  {
   "cell_type": "code",
   "execution_count": null,
   "id": "f0599ba3",
   "metadata": {},
   "outputs": [],
   "source": [
    "# # check for duplicates\n",
    "# species_names = []\n",
    "# for specie in species_list:\n",
    "#     if specie.name in species_names:\n",
    "#         raise DuplicatedSpeciesError(f'{specie.name} is non-unique in the scenario')\n",
    "#     species_names.append(specie.name)\n",
    "\n",
    "# # check everything required is defined in the scenario\n",
    "# for specie_name in required_species:\n",
    "#     if specie_name not in species_names:\n",
    "#         raise MissingInputError(f'{specie_name} is required but not in scenario')"
   ]
  },
  {
   "cell_type": "code",
   "execution_count": null,
   "id": "6b1c2056",
   "metadata": {},
   "outputs": [],
   "source": [
    "#species_names"
   ]
  },
  {
   "cell_type": "code",
   "execution_count": null,
   "id": "be2270e4",
   "metadata": {},
   "outputs": [],
   "source": [
    "# ozone_emissions_indices = []\n",
    "# ozone_concentration_indices = []\n",
    "# ari_indices = []\n",
    "# ghg_indices = []\n",
    "# index_mapping = {}\n",
    "\n",
    "# for ispec, specie in enumerate(species_list):\n",
    "#     index_mapping[specie.name] = ispec\n",
    "#     specie.set_index(ispec)\n",
    "#     if hasattr(specie, \"ozone_radiative_efficiency\") and isinstance(specie, ShortLivedForcer):\n",
    "#         ozone_emissions_indices.append(ispec)\n",
    "#     if hasattr(specie, \"ozone_radiative_efficiency\") and isinstance(specie, GreenhouseGas):\n",
    "#         ozone_concentration_indices.append(ispec)\n",
    "#     if isinstance(specie, GreenhouseGas):\n",
    "#         ghg_indices.append(ispec)\n",
    "#     if isinstance(specie, AerosolPrecursor):\n",
    "#         ari_indices.append(ispec)"
   ]
  },
  {
   "cell_type": "code",
   "execution_count": null,
   "id": "64cdb3a2",
   "metadata": {},
   "outputs": [],
   "source": [
    "#ozone_emissions_indices"
   ]
  },
  {
   "cell_type": "code",
   "execution_count": null,
   "id": "91b1f3d9",
   "metadata": {},
   "outputs": [],
   "source": [
    "#ozone_concentration_indices"
   ]
  },
  {
   "cell_type": "code",
   "execution_count": null,
   "id": "2a4a76d6",
   "metadata": {},
   "outputs": [],
   "source": [
    "#ghg_indices"
   ]
  },
  {
   "cell_type": "code",
   "execution_count": null,
   "id": "2e533ceb",
   "metadata": {},
   "outputs": [],
   "source": [
    "#ari_indices"
   ]
  },
  {
   "cell_type": "code",
   "execution_count": null,
   "id": "df212bfe",
   "metadata": {},
   "outputs": [],
   "source": [
    "if run_mode['Aerosol-cloud interactions']=='emissions':\n",
    "    aci_indices = [index_mapping[specie] for specie in required_species_emissions_or_concentration['Aerosol-cloud interactions']] # in that order\n",
    "    # then we can choose different treatments in  required_species_emissions_or_concentration['Aerosol-cloud interactions'], e.g. stevens\n",
    "else:\n",
    "    aci_indices = []"
   ]
  },
  {
   "cell_type": "code",
   "execution_count": null,
   "id": "ecd4e438",
   "metadata": {},
   "outputs": [],
   "source": [
    "aci_indices"
   ]
  },
  {
   "cell_type": "code",
   "execution_count": null,
   "id": "db9b4433",
   "metadata": {},
   "outputs": [],
   "source": [
    "class Scenario():\n",
    "    \"\"\"The Scenario class gathers all of the Species\"\"\""
   ]
  },
  {
   "cell_type": "code",
   "execution_count": null,
   "id": "d70f37c8",
   "metadata": {},
   "outputs": [],
   "source": [
    "class Config():\n",
    "    \"\"\"The Config class contains all of the parameters to run the model with\"\"\"\n",
    "    \n",
    "    def __init__(self, **kwargs):\n",
    "        \n",
    "        # Energy balance model\n",
    "        self.ocean_heat_capacity = kwargs.pop('ocean_heat_capacity', np.array([5, 20, 100]))\n",
    "        self.ocean_heat_transfer = kwargs.pop('ocean_heat_transfer', np.array([1, 2, 1]))\n",
    "        self.deep_ocean_efficacy = kwargs.pop('deep_ocean_efficacy', 1)\n",
    "        self.stochastic_run = kwargs.pop('stochastic_run', False)\n",
    "        self.sigma_eta = kwargs.pop('sigma_eta', 0.5)\n",
    "        self.sigma_xi = kwargs.pop('sigma_xi', 0.5)\n",
    "        self.gamma_autocorrelation = kwargs.pop('gamma_autocorrelation', 2)\n",
    "        self.seed = kwargs.pop('seed', None)\n",
    "        \n",
    "        # forcing uncertainty\n",
    "        \n",
    "        # gas cycle uncertainty: allow overwriting of what's in the Species\n",
    "        \n",
    "        # is volcanic and solar forcing a scenario or a config? think it's a scenario - don't include"
   ]
  },
  {
   "cell_type": "code",
   "execution_count": null,
   "id": "5264ebf6",
   "metadata": {},
   "outputs": [],
   "source": [
    "df = pd.read_csv(\n",
    "    os.path.join(\"..\", \"data\", \"calibration\", \"4xCO2_cummins.csv\")\n",
    ")\n",
    "models = df['model'].unique()\n",
    "params = {}\n",
    "for model in models:\n",
    "    params[model] = {}\n",
    "    for run in df.loc[df['model']==model, 'run']:\n",
    "        condition = (df['model']==model) & (df['run']==run)\n",
    "        params[model][run] = {}\n",
    "        params[model][run]['gamma_autocorrelation'] = df.loc[condition, 'gamma'].values[0]\n",
    "        params[model][run]['ocean_heat_capacity'] = df.loc[condition, 'C1':'C3'].values.squeeze()\n",
    "        params[model][run]['ocean_heat_transfer'] = df.loc[condition, 'kappa1':'kappa3'].values.squeeze()\n",
    "        params[model][run]['deep_ocean_efficacy'] = df.loc[condition, 'epsilon'].values[0]\n",
    "        params[model][run]['sigma_eta'] = df.loc[condition, 'sigma_eta'].values[0]\n",
    "        params[model][run]['sigma_xi'] = df.loc[condition, 'sigma_xi'].values[0]\n",
    "        params[model][run]['forcing_4co2'] = df.loc[condition, 'F_4xCO2'].values[0]"
   ]
  },
  {
   "cell_type": "code",
   "execution_count": null,
   "id": "c6a520f9",
   "metadata": {},
   "outputs": [],
   "source": [
    "params['CanESM5']['r1i1p1f1']"
   ]
  },
  {
   "cell_type": "code",
   "execution_count": null,
   "id": "fbdf0c11",
   "metadata": {},
   "outputs": [],
   "source": [
    "canesm5 = Config(**params['CanESM5']['r1i1p1f1'])\n",
    "noresm2 = Config(**params['NorESM2-LM']['r1i1p1f1'])\n",
    "giss = Config(**params['GISS-E2-1-G']['r1i1p1f1'])\n",
    "miroc6 = Config(**params['MIROC6']['r1i1p1f1'])\n",
    "hadgem3 = Config(**params['HadGEM3-GC31-LL']['r1i1p1f3'])\n",
    "\n",
    "vars(canesm5)"
   ]
  },
  {
   "cell_type": "code",
   "execution_count": null,
   "id": "3a92b9ba",
   "metadata": {},
   "outputs": [],
   "source": [
    "def _make_time_deltas(time):\n",
    "    time_inner_bounds = 0.5*(time[1:] + time[:-1])\n",
    "    time_lower_bound = time[0] - (time_inner_bounds[0] - time[0])\n",
    "    time_upper_bound = time[-1] + (time[-1] - time_inner_bounds[-1])\n",
    "    time_bounds = np.concatenate(([time_lower_bound], time_inner_bounds, [time_upper_bound]))\n",
    "    time_deltas = np.diff(time_bounds)\n",
    "    return time_deltas"
   ]
  },
  {
   "cell_type": "code",
   "execution_count": null,
   "id": "54bf4985",
   "metadata": {},
   "outputs": [],
   "source": [
    "%load_ext line_profiler"
   ]
  },
  {
   "cell_type": "code",
   "execution_count": null,
   "id": "dc52b7fc",
   "metadata": {},
   "outputs": [],
   "source": [
    "class FAIR():\n",
    "    \n",
    "    # species_list is a list of objects\n",
    "    # species_names is a list of strings\n",
    "        \n",
    "    def __init__(self, **kwargs):\n",
    "        # This is gonna be one hell of a docstring\n",
    "        \n",
    "        # Forcing species\n",
    "        if 'species' in kwargs:\n",
    "            species = kwargs.pop('species')\n",
    "            self.species = {}\n",
    "            if hasattr(species, '__iter__'):\n",
    "                # this will automatically update/avoid duplicates\n",
    "                self.species = {specie.name: specie for specie in species}\n",
    "            elif species is not None:\n",
    "                self.species = {species.name: species}\n",
    "\n",
    "        for attr in kwargs:\n",
    "            setattr(self, attr, kwargs[attr])\n",
    "            \n",
    "    def add_configs(self):\n",
    "        pass\n",
    "    \n",
    "    \n",
    "    def add_scenarios(self):\n",
    "        pass\n",
    "    \n",
    "            \n",
    "    def _assign_indices(self):\n",
    "        \"\"\"Assign a unique index to each specie included in the scenario.\"\"\"\n",
    "        self.species_index_mapping = {}\n",
    "        self.ghg_indices = []\n",
    "        for ispec, specie in enumerate(self.species):\n",
    "            self.species_index_mapping[specie] = ispec\n",
    "            if isinstance(self.species[specie], GreenhouseGas):\n",
    "                self.ghg_indices.append(ispec)\n",
    "            \n",
    "\n",
    "    def _initialise_arrays(self, n_timesteps, n_scenarios, n_configs, n_species):\n",
    "        self.emissions_array = np.ones((n_timesteps, n_scenarios, n_configs, n_species, 1)) * np.nan\n",
    "        self.concentration_array = np.ones((n_timesteps, n_scenarios, n_configs, n_species, 1)) * np.nan\n",
    "        self.forcing_sum_array = np.ones((n_timesteps, n_scenarios, n_configs, 1, 1)) * np.nan\n",
    "        self.forcing_array = np.ones((n_timesteps, n_scenarios, n_configs, n_species, 1)) * np.nan\n",
    "        self.g0_array = np.ones((1, n_scenarios, n_configs, n_species, 1)) * np.nan\n",
    "        self.g1_array = np.ones((1, n_scenarios, n_configs, n_species, 1)) * np.nan\n",
    "        self.alpha_lifetime = np.ones((1, n_scenarios, n_configs, n_species, 1))\n",
    "        self.airborne_emissions = np.zeros((1, n_scenarios, n_configs, n_species, 1))\n",
    "        self.gas_boxes = np.zeros((1, n_scenarios, n_configs, n_species, n_gas_boxes))\n",
    "        self.iirf_0_array = np.ones((1, 1, n_configs, n_species, 1)) * np.nan\n",
    "        self.iirf_cumulative_array = np.ones((1, 1, n_configs, n_species, 1)) * np.nan\n",
    "        self.iirf_temperature_array = np.ones((1, 1, n_configs, n_species, 1)) * np.nan\n",
    "        self.iirf_airborne_array = np.ones((1, 1, n_configs, n_species, 1)) * np.nan\n",
    "        self.burden_per_emission_array = np.ones((1, 1, 1, n_species, 1)) * np.nan\n",
    "        self.lifetime_array = np.ones((1, 1, n_configs, n_species, n_gas_boxes)) * np.nan\n",
    "        self.pre_industrial_emissions_array = np.ones((1, n_scenarios, n_configs, n_species, 1)) * np.nan\n",
    "        self.pre_industrial_concentration_array = np.ones((1, n_scenarios, n_configs, n_species, 1)) * np.nan\n",
    "        self.partition_fraction_array = np.zeros((1, 1, n_configs, n_species, n_gas_boxes))\n",
    "        self.natural_emissions_adjustment_array = np.zeros((1, n_scenarios, n_configs, n_species, 1))\n",
    "        self.radiative_efficiency_array = np.ones((1, 1, n_configs, n_species, 1)) * np.nan\n",
    "        self.tropospheric_adjustment_array = np.ones((1, 1, n_configs, n_species, 1)) * np.nan\n",
    "        \n",
    "        # This is an ugly amount of repetition, but I don't think it's possible to setattr on a slice of\n",
    "        # a numpy array without using eval, which is even uglier\n",
    "        \n",
    "        # time, scenario, config, species, box\n",
    "        # for iscen, scenario in enumerate(scenarios):\n",
    "        # for iconfig, config in enumerate(config):\n",
    "        iscen=0\n",
    "        iconfig=0\n",
    "        for ispec, specie in enumerate(self.species):\n",
    "            if hasattr(self.species[specie], 'emissions'):\n",
    "                self.emissions_array[:, iscen, iconfig, ispec, 0] = self.species[specie].emissions\n",
    "            if hasattr(self.species[specie], 'concentration'):\n",
    "                self.concentration_array[:, iscen, iconfig, ispec, 0] = self.species[specie].concentration\n",
    "            if hasattr(self.species[specie], 'forcing'):\n",
    "                self.tropospheric_adjustment_array[:, iscen, iconfig, ispec, 0] = self.species[specie].tropospheric_adjustment\n",
    "                self.forcing_array[:, iscen, iconfig, ispec, 0] = self.species[specie].forcing\n",
    "            if isinstance(self.species[specie], GreenhouseGas):\n",
    "                self.lifetime_array[:, iscen, iconfig, ispec, :] = self.species[specie].lifetime\n",
    "                self.partition_fraction_array[:, iscen, iconfig, ispec, :] = self.species[specie].partition_fraction\n",
    "                self.iirf_0_array[:, iscen, iconfig, ispec, :] = self.species[specie].iirf_0\n",
    "                self.iirf_cumulative_array[:, iscen, iconfig, ispec, :] = self.species[specie].iirf_cumulative\n",
    "                self.iirf_temperature_array[:, iscen, iconfig, ispec, :] = self.species[specie].iirf_temperature\n",
    "                self.iirf_airborne_array[:, iscen, iconfig, ispec, :] = self.species[specie].iirf_airborne\n",
    "                self.burden_per_emission_array[:, iscen, iconfig, ispec, :] = self.species[specie].burden_per_emission\n",
    "                self.pre_industrial_concentration_array[:, iscen, iconfig, ispec, :] = self.species[specie].pre_industrial_concentration\n",
    "                self.natural_emissions_adjustment_array[:, iscen, iconfig, ispec, :] = self.species[specie].natural_emissions_adjustment\n",
    "                self.radiative_efficiency_array[:, iscen, iconfig, ispec, :] = self.species[specie].radiative_efficiency\n",
    "                self.g0_array[:, iscen, iconfig, ispec, :] = self.species[specie].g0\n",
    "                self.g1_array[:, iscen, iconfig, ispec, :] = self.species[specie].g1\n",
    "            if isinstance(self.species[specie], Halogen):\n",
    "                self.fractional_release_array[:, iscen, iconfig, ispec, :] = self.species[specie].fractional_release\n",
    "                self.br_atoms_array[:, iscen, iconfig, ispec, :] = self.species[specie].br_atoms\n",
    "                self.cl_atoms_array[:, iscen, iconfig, ispec, :] = self.species[specie].cl_atoms\n",
    "                \n",
    "        self.cumulative_emissions_array = np.cumsum(self.emissions_array * self.time_deltas[:, None, None, None, None], axis=TIME_AXIS)\n",
    "        self.alpha_lifetime_array = np.ones((n_timesteps, n_scenarios, n_configs, n_species, 1))\n",
    "        self.airborne_emissions_array = np.zeros((n_timesteps, n_scenarios, n_configs, n_species, 1))\n",
    "        \n",
    "        # create temperature array of zeros if temperature not prescribed\n",
    "        self.temperature_prescribed=True\n",
    "        if not hasattr(self, 'temperature'):\n",
    "            self.temperature = np.zeros((n_timesteps, n_temperature_boxes))\n",
    "            self.temperature_prescribed=False\n",
    "    \n",
    "    def _fill_concentration(self):\n",
    "        \"\"\"After the emissions to concentrations step we want to put the concs into each GreenhouseGas\"\"\"\n",
    "        iscen=0\n",
    "        iconfig=0\n",
    "        for ispec, specie in enumerate(self.species):\n",
    "            if isinstance(self.species[specie], GreenhouseGas):\n",
    "                self.species[specie].concentration = self.concentration_array[:, iscen, iconfig, ispec, 0]\n",
    "                self.species[specie].cumulative_emissions = np.squeeze(self.cumulative_emissions_array[:, iscen, iconfig, ispec, 0])\n",
    "                self.species[specie].airborne_fraction = self.airborne_emissions_array[:, iscen, iconfig, ispec, 0] / self.cumulative_emissions_array[:, iscen, iconfig, ispec, 0]\n",
    "            if isinstance(self.species[specie], CH4):\n",
    "                self.species[specie].effective_lifetime = self.alpha_lifetime_array[:, iscen, iconfig, ispec, 0] * self.lifetime_array[:, iscen, iconfig, ispec, 0]\n",
    "    \n",
    "    \n",
    "    def _fill_forcing(self):\n",
    "        \"\"\"Add the forcing as an attribute to each Species\"\"\"\n",
    "        for ispec, specie in enumerate(self.species):\n",
    "            self.species[specie].forcing = self.forcing_array[:, 0, 0, ispec, 0]\n",
    "            self.forcing = self.forcing_sum_array[:, 0, 0, 0, 0]\n",
    "    \n",
    "    \n",
    "    def _perform_checks(self):\n",
    "        if not hasattr(self, 'time'):\n",
    "            raise TimeNotDefinedError(\"Time vector is not defined\")\n",
    "            \n",
    "                \n",
    "    def define_time(self, time):\n",
    "        self.time = ensure_numeric_array(time)\n",
    "        \n",
    "        \n",
    "    def prescribe_temperature(self, temperature):\n",
    "        self.temperature = ensure_numeric_array(temperature)\n",
    "        \n",
    "    \n",
    "    # this is the forward run - and should be generalised\n",
    "    def run(self):\n",
    "        \n",
    "        # run initial sense checks on inputs.\n",
    "        self._perform_checks()\n",
    "        \n",
    "        n_species = len(self.species)\n",
    "        n_scenarios = 1  # just for now\n",
    "        n_configs = 1 # just for now\n",
    "        n_timesteps = len(self.time)\n",
    "        self.time_deltas = _make_time_deltas(self.time)\n",
    "        \n",
    "        # initialise arrays. Using arrays makes things run quicker\n",
    "        self._assign_indices()\n",
    "        self._initialise_arrays(n_timesteps, n_scenarios, n_configs, n_species)\n",
    "        gas_boxes = np.zeros((1, n_scenarios, n_configs, n_species, n_gas_boxes))\n",
    "        temperature_boxes = np.zeros((1, n_scenarios, n_configs, 1, n_temperature_boxes))\n",
    "        self.temperature_prescribed=False\n",
    "#        if self.temperature_prescribed:\n",
    "#            temperature_boxes = self.temperature[0, :]\n",
    "        \n",
    "        # initialise the energy balance model and get critical vectors\n",
    "        # which itself needs to be run once per \"config\" and dimensioned correctly\n",
    "        ebm = EnergyBalanceModel(\n",
    "            ocean_heat_capacity=self.ocean_heat_capacity,\n",
    "            ocean_heat_transfer=self.ocean_heat_transfer,\n",
    "            deep_ocean_efficacy=self.deep_ocean_efficacy,\n",
    "            stochastic_run=self.stochastic_run,\n",
    "            sigma_eta=self.sigma_eta,\n",
    "            sigma_xi=self.sigma_xi,\n",
    "            gamma_autocorrelation=self.gamma_autocorrelation,\n",
    "            seed=self.seed,\n",
    "        )\n",
    "        ebm_matrix_d = ebm.eb_matrix_d\n",
    "        forcing_vector_d = ebm.forcing_vector_d\n",
    "        \n",
    "        for i_timestep in range(n_timesteps):\n",
    "            # 1. ghg emissions to concentrations\n",
    "            alpha_lifetime_array = calculate_alpha(\n",
    "                self.cumulative_emissions_array[[i_timestep], ...],\n",
    "                self.airborne_emissions_array[[i_timestep-1], ...],\n",
    "                0,\n",
    "                self.iirf_0_array,\n",
    "                self.iirf_cumulative_array,\n",
    "                self.iirf_temperature_array,\n",
    "                self.iirf_airborne_array,\n",
    "                self.g0_array,\n",
    "                self.g1_array,\n",
    "            )\n",
    "            alpha_lifetime_array[np.isnan(alpha_lifetime_array)]=1  # CF4 seems to have an issue. Should we raise warning?\n",
    "            self.concentration_array[[i_timestep], ...], gas_boxes, self.airborne_emissions_array[[i_timestep], ...] = step_concentration(\n",
    "                self.emissions_array[[i_timestep], ...], \n",
    "                gas_boxes,\n",
    "                self.airborne_emissions_array[[i_timestep-1], ...], \n",
    "                self.burden_per_emission_array,\n",
    "                self.lifetime_array,\n",
    "                alpha_lifetime=alpha_lifetime_array,\n",
    "                pre_industrial_concentration=self.pre_industrial_concentration_array,\n",
    "                timestep=self.time_deltas[i_timestep],\n",
    "                partition_fraction=self.partition_fraction_array,\n",
    "                natural_emissions_adjustment=self.natural_emissions_adjustment_array,\n",
    "            )\n",
    "            self.alpha_lifetime_array[[i_timestep], ...] = alpha_lifetime_array\n",
    "            \n",
    "            # 2. concentrations to emissions for ghg emissions:\n",
    "            # TODO:\n",
    "            \n",
    "            # 3. Greenhouse gas concentrations to forcing\n",
    "            self.forcing_array[[i_timestep], ...] = ghg(\n",
    "                self.concentration_array[[i_timestep], ...],\n",
    "                self.pre_industrial_concentration_array,\n",
    "                self.tropospheric_adjustment_array, \n",
    "                self.radiative_efficiency_array,\n",
    "                self.species_index_mapping\n",
    "            )\n",
    "            \n",
    "            # 4. aerosol emissions to forcing\n",
    "            # ozone here\n",
    "            # contrails here\n",
    "            # BC on snow here\n",
    "            # strat water vapour here\n",
    "            # land use here\n",
    "            # solar here\n",
    "            # volcanic here\n",
    "        \n",
    "            # 99. sum up all of the forcing calculated previously\n",
    "            self.forcing_sum_array[[i_timestep], ...] = np.nansum(self.forcing_array[[i_timestep], ...], axis=SPECIES_AXIS, keepdims=True)\n",
    "        \n",
    "            # 100. run the energy balance model - if temperature not prescribed - updating temperature boxes\n",
    "            temperature_boxes[0, 0, 0, 0, :] = self.temperature[i_timestep, :] + (1 - self.temperature_prescribed) * (\n",
    "                ebm_matrix_d @ temperature_boxes[0, 0, 0, 0, :] + forcing_vector_d * self.forcing_sum_array[i_timestep, 0, 0, 0, 0]\n",
    "            )\n",
    "            self.temperature[i_timestep] = temperature_boxes[0, 0, 0, 0, :]\n",
    "            \n",
    "        self._fill_concentration()\n",
    "        self._fill_forcing()\n",
    "\n",
    "\n",
    "    def plot(self, var):\n",
    "        pl.plot(np.arange(self.time), var)\n",
    "# \n",
    "\n",
    "# # this one for the general forcing\n",
    "# tropospheric_adjustment_array = np.ones((n_scenarios, n_species, 1, 1)) * np.nan\n",
    "# radiative_efficiency_array = np.ones((n_scenarios, n_species, 1, 1)) * np.nan\n",
    "# erf = np.ones((n_scenarios, n_species, n_timesteps, 1)) * np.nan\n",
    "\n",
    "# # ozone\n",
    "# fractional_release_array = np.zeros((1, n_species, 1, 1)) # gonna assume this doesn't change\n",
    "# cl_atoms_array = np.zeros((1, n_species, 1, 1))\n",
    "# br_atoms_array = np.zeros((1, n_species, 1, 1))\n",
    "# o3_radiative_efficiency_array = np.zeros((1, n_species, 1, 1))\n",
    "\n",
    "# for ispec, specie in enumerate(species_list):\n",
    "#     # options pertaining to SLCFs\n",
    "#     if specie in slcf_list:\n",
    "#         pre_industrial_emissions_array[:, ispec, :, :] = pre_industrial_emissions[specie]\n",
    "    \n",
    "#     # options pertaining to GHGs\n",
    "#     if specie in gas_list:\n",
    "\n",
    "        \n",
    "#     # options pertaining only to minor GHGs\n",
    "#     if specie in minor_gas_list:\n",
    "#         radiative_efficiency_array[:, ispec, :, :] = radiative_efficiency[specie]\n",
    "        \n",
    "\n",
    "#     # options pertaining to all species\n",
    "#     tropospheric_adjustment_array[:, ispec, :, :] = tropospheric_adjustment[specie]\n",
    "#     o3_radiative_efficiency_array[:, ispec, :, :] = o3_radiative_efficiency[specie]\n",
    "\n",
    "# g0, g1 = calculate_g(lifetime_array, partition_fraction_array)\n",
    "        \n",
    "    # times\n",
    "    # configs"
   ]
  },
  {
   "cell_type": "code",
   "execution_count": null,
   "id": "92213b74",
   "metadata": {},
   "outputs": [],
   "source": [
    "fair = FAIR()"
   ]
  },
  {
   "cell_type": "code",
   "execution_count": null,
   "id": "e8711d93",
   "metadata": {},
   "outputs": [],
   "source": [
    "fair"
   ]
  },
  {
   "cell_type": "code",
   "execution_count": null,
   "id": "8fbb0d3b",
   "metadata": {},
   "outputs": [],
   "source": [
    "vars(fair)"
   ]
  },
  {
   "cell_type": "code",
   "execution_count": null,
   "id": "0f9d0e96",
   "metadata": {},
   "outputs": [],
   "source": [
    "fair = FAIR(configs=(canesm5, noresm2, hadgem3, miroc6, giss))"
   ]
  },
  {
   "cell_type": "code",
   "execution_count": null,
   "id": "b422af6c",
   "metadata": {},
   "outputs": [],
   "source": [
    "vars(fair)"
   ]
  },
  {
   "cell_type": "code",
   "execution_count": null,
   "id": "752b5728",
   "metadata": {},
   "outputs": [],
   "source": [
    "fair = FAIR(species=(co2, ch4, n2o, sulfur))"
   ]
  },
  {
   "cell_type": "code",
   "execution_count": null,
   "id": "49ccb6b9",
   "metadata": {},
   "outputs": [],
   "source": [
    "fair"
   ]
  },
  {
   "cell_type": "code",
   "execution_count": null,
   "id": "81a19fe4",
   "metadata": {},
   "outputs": [],
   "source": [
    "vars(fair)"
   ]
  },
  {
   "cell_type": "code",
   "execution_count": null,
   "id": "014c54a6",
   "metadata": {},
   "outputs": [],
   "source": [
    "for specie in ['CO2', 'CH4', 'N2O', 'Sulfur']:\n",
    "    fair.species[specie].emissions = emissions['ssp245'][specie]"
   ]
  },
  {
   "cell_type": "code",
   "execution_count": null,
   "id": "de9e3a40",
   "metadata": {},
   "outputs": [],
   "source": [
    "fair.time=np.arange(1750.5,2501,1)"
   ]
  },
  {
   "cell_type": "code",
   "execution_count": null,
   "id": "8fe66a52",
   "metadata": {},
   "outputs": [],
   "source": [
    "fair.species"
   ]
  },
  {
   "cell_type": "code",
   "execution_count": null,
   "id": "7b8b2bd6",
   "metadata": {},
   "outputs": [],
   "source": [
    "isinstance(fair.species['CO2'], GreenhouseGas)"
   ]
  },
  {
   "cell_type": "code",
   "execution_count": null,
   "id": "36ed908c",
   "metadata": {},
   "outputs": [],
   "source": [
    "%%time\n",
    "fair.run()"
   ]
  },
  {
   "cell_type": "code",
   "execution_count": null,
   "id": "a82f3f3f",
   "metadata": {},
   "outputs": [],
   "source": [
    "## %lprun -f ghg fair.run()"
   ]
  },
  {
   "cell_type": "code",
   "execution_count": null,
   "id": "5fc533b3",
   "metadata": {},
   "outputs": [],
   "source": [
    "# %lprun -f EnergyBalanceModel.forcing_vector_d scen.run()"
   ]
  },
  {
   "cell_type": "code",
   "execution_count": null,
   "id": "90aebb08",
   "metadata": {},
   "outputs": [],
   "source": [
    "pl.plot(fair.species['CO2'].concentration)\n",
    "pl.plot(fair.species['CH4'].concentration)\n",
    "pl.plot(fair.species['N2O'].concentration)"
   ]
  },
  {
   "cell_type": "code",
   "execution_count": null,
   "id": "f6aad0df",
   "metadata": {},
   "outputs": [],
   "source": [
    "pl.plot(fair.forcing)"
   ]
  },
  {
   "cell_type": "code",
   "execution_count": null,
   "id": "a46ee8d8",
   "metadata": {},
   "outputs": [],
   "source": [
    "pl.plot(fair.species['CO2'].forcing)\n",
    "pl.plot(fair.species['CH4'].forcing)\n",
    "pl.plot(fair.species['N2O'].forcing)"
   ]
  },
  {
   "cell_type": "code",
   "execution_count": null,
   "id": "ca5df9ce",
   "metadata": {},
   "outputs": [],
   "source": [
    "pl.plot(fair.species['CO2'].airborne_fraction)\n",
    "pl.plot(fair.species['CH4'].airborne_fraction)\n",
    "pl.plot(fair.species['N2O'].airborne_fraction)"
   ]
  },
  {
   "cell_type": "code",
   "execution_count": null,
   "id": "81960fb4",
   "metadata": {},
   "outputs": [],
   "source": [
    "pl.plot(fair.species['CO2'].cumulative_emissions)"
   ]
  },
  {
   "cell_type": "code",
   "execution_count": null,
   "id": "135ccb7e",
   "metadata": {},
   "outputs": [],
   "source": [
    "pl.plot(fair.temperature)"
   ]
  },
  {
   "cell_type": "code",
   "execution_count": null,
   "id": "670ffd57",
   "metadata": {},
   "outputs": [],
   "source": []
  }
 ],
 "metadata": {
  "kernelspec": {
   "display_name": "Python 3 (ipykernel)",
   "language": "python",
   "name": "python3"
  },
  "language_info": {
   "codemirror_mode": {
    "name": "ipython",
    "version": 3
   },
   "file_extension": ".py",
   "mimetype": "text/x-python",
   "name": "python",
   "nbconvert_exporter": "python",
   "pygments_lexer": "ipython3",
   "version": "3.7.12"
  }
 },
 "nbformat": 4,
 "nbformat_minor": 5
}
