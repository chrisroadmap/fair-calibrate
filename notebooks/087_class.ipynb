{
 "cells": [
  {
   "cell_type": "markdown",
   "id": "7c3d5583",
   "metadata": {},
   "source": [
    "# Object-oriented FaIR\n",
    "\n",
    "Why do classes make absolutely zero sense?"
   ]
  },
  {
   "cell_type": "code",
   "execution_count": null,
   "id": "aeecf398",
   "metadata": {},
   "outputs": [],
   "source": [
    "from abc import ABC\n",
    "\n",
    "import numpy as np\n",
    "import pandas as pd\n",
    "\n",
    "from fair21.defaults.gases import iirf_horizon, pre_industrial_concentration\n",
    "from fair21.defaults import f_gas_list, montreal_gas_list, slcf_list, gas_list, n_gas_boxes\n",
    "from fair21.exceptions import MissingInputError, IncompatibleConfigError, PartitionFractionError, LifetimeError"
   ]
  },
  {
   "cell_type": "markdown",
   "id": "2075191d",
   "metadata": {},
   "source": [
    "`Specie` is an abstract base class. Everything that we care about for climate is a `Specie`, but we should encourage users to use derived classes like `GreenhouseGas`"
   ]
  },
  {
   "cell_type": "code",
   "execution_count": null,
   "id": "2aee5e08",
   "metadata": {},
   "outputs": [],
   "source": [
    "class Specie(ABC):\n",
    "    \n",
    "    def __init__(self, name, tropospheric_adjustment=1):\n",
    "        self.name = name\n",
    "        self.tropospheric_adjustment=tropospheric_adjustment\n",
    "    \n",
    "    def set_index(self, index):\n",
    "        self.index = index"
   ]
  },
  {
   "cell_type": "code",
   "execution_count": null,
   "id": "03aad0a4",
   "metadata": {},
   "outputs": [],
   "source": [
    "class FAIR():\n",
    "    def run():\n",
    "        pass"
   ]
  },
  {
   "cell_type": "code",
   "execution_count": null,
   "id": "71a338f2",
   "metadata": {},
   "outputs": [],
   "source": [
    "class GreenhouseGas(Specie):\n",
    "    \n",
    "    def __init__(self, name, molecular_weight, lifetime, radiative_efficiency, **kwargs):\n",
    "        tropospheric_adjustment = kwargs.pop('tropospheric_adjustment', 0)\n",
    "        super().__init__(name, tropospheric_adjustment)\n",
    "        \n",
    "        # move the below to input verification method\n",
    "        self.molecular_weight = molecular_weight\n",
    "        self.lifetime = lifetime\n",
    "        self.radiative_efficiency = radiative_efficiency\n",
    "        if np.ndim(self.lifetime) == 1:\n",
    "            lifetime = np.asarray(lifetime)\n",
    "            # should we enforce whether strictly decreasing or not?\n",
    "            partition_fraction = kwargs.get('partition_fraction')\n",
    "            if partition_fraction is None:\n",
    "                raise MissingInputError('specify `partition_fraction` if specifying more than one `lifetime`') # custom exception needed\n",
    "            if len(partition_fraction) != len(lifetime):\n",
    "                raise IncompatibleConfigError('`partition_fraction` and `lifetime` are different shapes') # custom exception needed\n",
    "            partition_fraction = np.asarray(partition_fraction)\n",
    "            if ~np.isclose(np.sum(partition_fraction), 1):\n",
    "                raise PartitionFractionError('partition_fraction should sum to 1') # custom exception needed\n",
    "        elif np.ndim(self.lifetime) > 1:\n",
    "            raise LifetimeError('`lifetime` array dimension is greater than 1')\n",
    "        else:\n",
    "            partition_fraction=1\n",
    "        self.partition_fraction=partition_fraction\n",
    "        self.emissions = kwargs.get('emissions')\n",
    "        self.concentrations = kwargs.get('concentrations')\n",
    "        self.forcing = kwargs.get('forcing')\n",
    "        self.g0, self.g1 = self.calculate_g(partition_fraction, lifetime, iirf_horizon=iirf_horizon)\n",
    "        self.iirf_0 = kwargs.get('iirf_0', self.lifetime_to_iirf_0(lifetime, partition_fraction, iirf_horizon=iirf_horizon))\n",
    "        self.iirf_cumulative = kwargs.get('iirf_cumulative', 0)\n",
    "        self.iirf_airborne = kwargs.get('iirf_airborne', 0)\n",
    "        self.iirf_temperature = kwargs.get('iirf_temperature', 0)\n",
    "        self.output_forcing=True\n",
    "        self.pre_industrial_concentrations=0\n",
    "\n",
    "    \n",
    "    @staticmethod\n",
    "    def calculate_g(partition_fraction, lifetime, iirf_horizon=100):\n",
    "        g1 = np.sum(partition_fraction * lifetime * (1 - (1 + iirf_horizon/lifetime) * np.exp(-iirf_horizon/lifetime)))\n",
    "        g0 = np.exp(-1 * np.sum(partition_fraction*lifetime*(1 - np.exp(-iirf_horizon/lifetime)))/g1)\n",
    "        return g0, g1\n",
    "    \n",
    "    @staticmethod\n",
    "    def lifetime_to_iirf_0(lifetime, partition_fraction=1,iirf_horizon=100):\n",
    "        return np.sum(lifetime * (1 - np.exp(-iirf_horizon / lifetime)) * partition_fraction)"
   ]
  },
  {
   "cell_type": "code",
   "execution_count": null,
   "id": "b9adbc80",
   "metadata": {},
   "outputs": [],
   "source": [
    "class CO2(GreenhouseGas):\n",
    "    def __init__(self, **kwargs):\n",
    "        self.molecular_weight=kwargs.pop('molecular_weight', 44.009)\n",
    "        self.lifetime = kwargs.pop('lifetime', np.array([1e9, 394.4, 36.54, 4.304]))\n",
    "        self.partition_fraction = kwargs.pop('partition_fraction', np.array([0.2173, 0.2240, 0.2824, 0.2763]))\n",
    "        self.tropospheric_adjustment = kwargs.pop('tropospheric_adjustment', 0.05)\n",
    "        self.radiative_efficiency = kwargs.pop('radiative_efficiency', 0.012895)  # Hodnebrog 2020: we should calculate based on Meinshausen formula and provide this as a convenience method\n",
    "        \n",
    "        super().__init__(\n",
    "            name=\"CO2\",\n",
    "            molecular_weight=self.molecular_weight, \n",
    "            lifetime=self.lifetime,\n",
    "            partition_fraction=self.partition_fraction,\n",
    "            tropospheric_adjustment=self.tropospheric_adjustment,\n",
    "            radiative_efficiency=self.radiative_efficiency,\n",
    "            **kwargs\n",
    "        )\n",
    "        self.emissions_unit = kwargs.get('emissions_unit', 'Gt CO2/yr')\n",
    "        self.concentrations_unit = kwargs.get('concentration_unit', 'ppm')\n",
    "        self.iirf_0 = kwargs.get('iirf_0', 29)\n",
    "        self.iirf_cumulative = kwargs.get('iirf_cumulative', 0.00846)\n",
    "        self.iirf_airborne = kwargs.get('iirf_airborne', 0.000819)\n",
    "        self.iirf_temperature = kwargs.get('iirf_temperature', 4)\n",
    "        self.pre_industrial_concentrations=kwargs.get('pre_industrial_concentrations', 278.3)"
   ]
  },
  {
   "cell_type": "code",
   "execution_count": null,
   "id": "899e9f0c",
   "metadata": {},
   "outputs": [],
   "source": [
    "co2 = CO2(\n",
    "#    emissions=np.ones(50) * 10,\n",
    "    molecular_weight=43,\n",
    "    iirf_0=32\n",
    ")"
   ]
  },
  {
   "cell_type": "code",
   "execution_count": null,
   "id": "d2751268",
   "metadata": {},
   "outputs": [],
   "source": [
    "vars(co2)"
   ]
  },
  {
   "cell_type": "code",
   "execution_count": null,
   "id": "0132c40b",
   "metadata": {},
   "outputs": [],
   "source": [
    "vars(co2)"
   ]
  },
  {
   "cell_type": "code",
   "execution_count": null,
   "id": "60c8b2ef",
   "metadata": {},
   "outputs": [],
   "source": [
    "class Halogen(GreenhouseGas):\n",
    "    def __init__(self, cl_atoms, br_atoms, fractional_release, **kwargs):\n",
    "        super().__init__(**kwargs)\n",
    "        self.cl_atoms = cl_atoms\n",
    "        self.br_atoms = br_atoms\n",
    "        self.fractional_release = fractional_release\n",
    "        #self.radiative_efficiency = kwargs.get('radiative_efficiency')\n",
    "        self.ozone_radiative_efficiency = -1.25e-4\n",
    "        self.ozone_forcing_based_on = 'concentrations'\n",
    "        self.emissions_unit = 'kt {}/yr'.format(self.name.replace(\"-\", \"\"))\n",
    "        self.concentrations_unit = 'ppt'\n",
    "        self.pre_industrial_concentrations=kwargs.get('pre_industrial_concentrations', 0)\n",
    "        \n",
    "#     def calculate_eesc():\n",
    "#         pass\n",
    "    \n",
    "#         eesc = calculate_eesc(\n",
    "#         concentration,\n",
    "#         pre_industrial_concentration,\n",
    "#         fractional_release,\n",
    "#         cl_atoms,\n",
    "#         br_atoms,\n",
    "#         species_index_mapping,\n",
    "#         br_cl_ratio=br_cl_ratio,\n",
    "#     )"
   ]
  },
  {
   "cell_type": "code",
   "execution_count": null,
   "id": "cb58f313",
   "metadata": {},
   "outputs": [],
   "source": [
    "# archetype for default\n",
    "cfc_11 = Halogen(name='CFC-11', tropospheric_adjustment=0.13, lifetime=45, fractional_release=0.23, cl_atoms=2, br_atoms=0, molecular_weight=500, radiative_efficiency=0.2)"
   ]
  },
  {
   "cell_type": "code",
   "execution_count": null,
   "id": "826d00c9",
   "metadata": {},
   "outputs": [],
   "source": [
    "vars(cfc_11)"
   ]
  },
  {
   "cell_type": "code",
   "execution_count": null,
   "id": "1835c634",
   "metadata": {},
   "outputs": [],
   "source": [
    "class FGas(GreenhouseGas):\n",
    "    def __init__(self, **kwargs):\n",
    "        super().__init__(**kwargs)\n",
    "        self.emissions_unit = 'kt {}/yr'.format(self.name.replace(\"-\", \"\"))\n",
    "        self.concentrations_unit = 'ppt'\n",
    "        self.pre_industrial_concentrations=0"
   ]
  },
  {
   "cell_type": "code",
   "execution_count": null,
   "id": "4d7d9dba",
   "metadata": {},
   "outputs": [],
   "source": [
    "hfc134a = FGas(name='HFC-134a', lifetime=23, radiative_efficiency=0.3, molecular_weight=140)"
   ]
  },
  {
   "cell_type": "code",
   "execution_count": null,
   "id": "da6635a4",
   "metadata": {},
   "outputs": [],
   "source": [
    "vars(hfc134a)"
   ]
  },
  {
   "cell_type": "code",
   "execution_count": null,
   "id": "3e3bd81a",
   "metadata": {},
   "outputs": [],
   "source": [
    "class CH4(GreenhouseGas):\n",
    "    def __init__(self, **kwargs):\n",
    "        self.molecular_weight=kwargs.pop('molecular_weight', 16.043)\n",
    "        self.lifetime = kwargs.pop('lifetime', 8.25)\n",
    "        self.tropospheric_adjustment = kwargs.pop('tropospheric_adjustment', -0.14)\n",
    "        \n",
    "        super().__init__(\n",
    "            name='CH4',\n",
    "            molecular_weight=self.molecular_weight, \n",
    "            lifetime=self.lifetime,\n",
    "            tropospheric_adjustment=self.tropospheric_adjustment,\n",
    "            #partition_fraction=self.partition_fraction,\n",
    "            **kwargs\n",
    "        )\n",
    "        self.ozone_radiative_efficiency = 1.75e-4\n",
    "        self.ozone_forcing_based_on = 'concentrations'\n",
    "        self.emissions_unit = kwargs.get('emissions_unit', 'Mt CH4/yr')\n",
    "        self.concentrations_unit = kwargs.get('concentration_unit', 'ppb')\n",
    "        self.iirf_0 = kwargs.get('iirf_0')\n",
    "        self.iirf_airborne = kwargs.get('iirf_airborne', 0.00032)\n",
    "        self.iirf_temperature = kwargs.get('iirf_temperature', -0.3)\n",
    "        self.pre_industrial_concentrations=kwargs.get('pre_industrial_concentrations', 729.2)"
   ]
  },
  {
   "cell_type": "code",
   "execution_count": null,
   "id": "7abedde5",
   "metadata": {},
   "outputs": [],
   "source": [
    "ch4 = CH4(iirf_0 = 32)"
   ]
  },
  {
   "cell_type": "code",
   "execution_count": null,
   "id": "2d094431",
   "metadata": {},
   "outputs": [],
   "source": [
    "vars(ch4)"
   ]
  },
  {
   "cell_type": "code",
   "execution_count": null,
   "id": "85bdbf2e",
   "metadata": {},
   "outputs": [],
   "source": [
    "class N2O(GreenhouseGas):\n",
    "    def __init__(self, **kwargs):\n",
    "        self.molecular_weight=kwargs.pop('molecular_weight', 44.013)\n",
    "        self.lifetime = kwargs.pop('lifetime', 109)\n",
    "        self.tropospheric_adjustment = kwargs.pop('tropospheric_adjustment', 0.07)\n",
    "        \n",
    "        super().__init__(\n",
    "            name='N2O',\n",
    "            molecular_weight=self.molecular_weight, \n",
    "            lifetime=self.lifetime,\n",
    "            tropospheric_adjustment=self.tropospheric_adjustment,\n",
    "            **kwargs\n",
    "        )\n",
    "        self.ozone_radiative_efficiency = 7.10e-4\n",
    "        self.ozone_forcing_based_on = 'concentrations'\n",
    "        self.emissions_unit = kwargs.get('emissions_unit', 'Mt N2O/yr')\n",
    "        self.concentrations_unit = kwargs.get('concentration_unit', 'ppb')\n",
    "        self.iirf_0 = kwargs.get('iirf_0')\n",
    "        self.pre_industrial_concentrations = kwargs.get('pre_industrial_concentrations', 270.1)"
   ]
  },
  {
   "cell_type": "code",
   "execution_count": null,
   "id": "adf09741",
   "metadata": {},
   "outputs": [],
   "source": [
    "n2o = N2O()\n",
    "vars(n2o)"
   ]
  },
  {
   "cell_type": "code",
   "execution_count": null,
   "id": "b29e3bb4",
   "metadata": {},
   "outputs": [],
   "source": [
    "# now let's say we want to simulate UKESM and say CH4 is indeed an aerosol precursor. Can we do this?\n",
    "# it doesn't complain...\n",
    "ch4 = CH4(ari_radiative_efficiency=0.4)"
   ]
  },
  {
   "cell_type": "code",
   "execution_count": null,
   "id": "3461010f",
   "metadata": {},
   "outputs": [],
   "source": [
    "#...but the argument is unused and doesnt appear as instance of CH4. This needs to be sorted out\n",
    "vars(ch4)"
   ]
  },
  {
   "cell_type": "code",
   "execution_count": null,
   "id": "c6fc1a9e",
   "metadata": {},
   "outputs": [],
   "source": [
    "class ShortLivedForcer(Specie):\n",
    "    \n",
    "    def __init__(self, name, **kwargs):\n",
    "        super().__init__(name, **kwargs)\n",
    "        self.emissions = kwargs.get('emissions')\n",
    "        self.forcing = kwargs.get('forcing')\n",
    "        self.emissions_unit = kwargs.get('emissions_unit', 'Mt {}/yr'.format(self.name.replace(\"-\", \"\")))\n",
    "        self.pre_industrial_emissions = kwargs.get('pre_industrial_emissions', 0)"
   ]
  },
  {
   "cell_type": "code",
   "execution_count": null,
   "id": "307ecf7c",
   "metadata": {},
   "outputs": [],
   "source": [
    "# we'll make ERFari a direct property of the species, and ERFaci is a class\n",
    "\n",
    "class AerosolPrecursor(ShortLivedForcer):\n",
    "    def __init__(self, ari_radiative_efficiency, **kwargs):\n",
    "        super().__init__(**kwargs)\n",
    "        self.output_forcing = True"
   ]
  },
  {
   "cell_type": "code",
   "execution_count": null,
   "id": "eeefe523",
   "metadata": {},
   "outputs": [],
   "source": [
    "class Sulfur(AerosolPrecursor):\n",
    "    def __init__(self, **kwargs):\n",
    "        self.ari_radiative_efficiency = kwargs.pop('ari_radiative_efficiency', -0.0036167830509091486)\n",
    "        super().__init__(\n",
    "            name='Sulfur',\n",
    "            ari_radiative_efficiency=self.ari_radiative_efficiency,\n",
    "        )\n",
    "        self.emissions_unit = kwargs.get('emissions_unit', 'Mt SO2/yr')"
   ]
  },
  {
   "cell_type": "code",
   "execution_count": null,
   "id": "b1ca0c54",
   "metadata": {},
   "outputs": [],
   "source": [
    "sulfur = Sulfur()\n",
    "vars(sulfur)"
   ]
  },
  {
   "cell_type": "code",
   "execution_count": null,
   "id": "581d53e2",
   "metadata": {},
   "outputs": [],
   "source": [
    "class BC(AerosolPrecursor):\n",
    "    def __init__(self, **kwargs):\n",
    "        self.ari_radiative_efficiency = kwargs.pop('ari_radiative_efficiency', 0.0507748226795483)\n",
    "        super().__init__(\n",
    "            name='BC',\n",
    "            ari_radiative_efficiency=self.ari_radiative_efficiency,\n",
    "            **kwargs\n",
    "        )"
   ]
  },
  {
   "cell_type": "code",
   "execution_count": null,
   "id": "7d0ef768",
   "metadata": {},
   "outputs": [],
   "source": [
    "class OC(AerosolPrecursor):\n",
    "    def __init__(self, **kwargs):\n",
    "        self.ari_radiative_efficiency = kwargs.pop('ari_radiative_efficiency', -0.006214374446217472)\n",
    "        super().__init__(\n",
    "            name='OC',\n",
    "            ari_radiative_efficiency=self.ari_radiative_efficiency,\n",
    "            **kwargs\n",
    "        )"
   ]
  },
  {
   "cell_type": "code",
   "execution_count": null,
   "id": "42ec7274",
   "metadata": {},
   "outputs": [],
   "source": [
    "bc = BC()\n",
    "vars(bc)"
   ]
  },
  {
   "cell_type": "code",
   "execution_count": null,
   "id": "d6149bea",
   "metadata": {},
   "outputs": [],
   "source": [
    "oc = OC()\n",
    "vars(oc)"
   ]
  },
  {
   "cell_type": "code",
   "execution_count": null,
   "id": "78fd38ce",
   "metadata": {},
   "outputs": [],
   "source": [
    "class Ozone(Specie):\n",
    "    def __init__(self, **kwargs):\n",
    "        super().__init__(name='Ozone')\n",
    "        self.forcing_output=True\n",
    "        self.temperature_feedback = -0.037"
   ]
  },
  {
   "cell_type": "code",
   "execution_count": null,
   "id": "e30096ca",
   "metadata": {},
   "outputs": [],
   "source": [
    "ozone = Ozone()\n",
    "vars(ozone)"
   ]
  },
  {
   "cell_type": "code",
   "execution_count": null,
   "id": "cfc7008e",
   "metadata": {},
   "outputs": [],
   "source": [
    "class AerosolCloudInteractions():\n",
    "    def __init__(self, **kwargs):\n",
    "        super().__init__(name='Aerosol-cloud interactions')\n",
    "        self.forcing_output=True\n",
    "        #scale =\n",
    "        #shape_sulfur = \n",
    "        #shape_bcoc = "
   ]
  },
  {
   "cell_type": "code",
   "execution_count": null,
   "id": "de59ae60",
   "metadata": {},
   "outputs": [],
   "source": [
    "# class(Scenario):\n",
    "    \n",
    "#     def __init__(self, species_list):\n",
    "        "
   ]
  },
  {
   "cell_type": "code",
   "execution_count": null,
   "id": "4d9dcb9a",
   "metadata": {},
   "outputs": [],
   "source": [
    "species_list = [co2, ch4, n2o]"
   ]
  },
  {
   "cell_type": "code",
   "execution_count": null,
   "id": "376c2814",
   "metadata": {},
   "outputs": [],
   "source": [
    "run_mode = {\n",
    "    'forcing driven' : False,\n",
    "    'CO2' : 'emissions',\n",
    "    'CH4' : 'emissions',\n",
    "    'N2O' : 'emissions',\n",
    "    'F-Gases': None,#'emissions',\n",
    "    'Montreal Gases': None,#'emissions',\n",
    "    'Aerosol-radiation interactions' : None,#'emissions',\n",
    "    'Aerosol-cloud interactions' : None,#'emissions',\n",
    "    'Ozone' : None,#'emissions',\n",
    "    'Land use' : None, #'emissions',\n",
    "    'Stratospheric water vapour':  None,#'emissions',\n",
    "    'Contrails' : None,#'emissions',\n",
    "    'Black carbon on snow' : None,#'emissions',\n",
    "    'Solar': None,#'forcing',\n",
    "    'Volcanic': None,#'forcing'\n",
    "}\n",
    "\n",
    "valid_run_modes = {\n",
    "    'forcing driven' : (False, True),\n",
    "    'CO2' : ('emissions', 'concentrations', 'forcing', None),\n",
    "    'CH4' : ('emissions', 'concentrations', 'forcing', None),\n",
    "    'N2O' : ('emissions', 'concentrations', 'forcing', None),\n",
    "    'F-Gases' : ('emissions', 'concentrations', 'forcing', None),\n",
    "    'Montreal Gases' : ('emissions', 'concentrations', 'forcing', None),\n",
    "    'Aerosol-radiation interactions' : ('emissions', 'forcing', None),\n",
    "    'Aerosol-cloud interactions': ('emissions', 'forcing', None),\n",
    "    'Ozone' : ('emissions', 'forcing', None),\n",
    "    'Land use' : ('emissions', 'forcing', None),\n",
    "    'Stratospheric water vapour' : ('emissions', 'forcing', None),\n",
    "    'Contrails' : ('emissions', 'forcing', None),\n",
    "    'Black carbon on snow' : ('emissions', 'forcing', None),\n",
    "    'Solar' : ('forcing', None),\n",
    "    'Volcanic' : ('forcing', None),\n",
    "}"
   ]
  },
  {
   "cell_type": "code",
   "execution_count": null,
   "id": "7f0dcbf5",
   "metadata": {},
   "outputs": [],
   "source": [
    "required_species_emissions_or_concentrations = {\n",
    "    'forcing driven' : None,\n",
    "    'CO2' : ['CO2', 'N2O'],\n",
    "    'CH4' : ['CH4', 'N2O'],\n",
    "    'N2O' : ['CO2', 'CH4', 'N2O'],\n",
    "    'F-Gases' : None,\n",
    "    'Montreal Gases' : None,\n",
    "    'Aerosol-radiation interactions': None,\n",
    "    'Aerosol-cloud interactions' : ['Sulfur', 'BC', 'OC'],\n",
    "    'Ozone' : ['CFC-11'],\n",
    "    'Land use' : ['CO2|AFOLU'],\n",
    "    'Stratospheric water vapour' : ['CH4'],\n",
    "    'Contrails' : ['NOx|Aviation'],\n",
    "    'Black carbon on snow' : ['BC'],\n",
    "    'Solar' : ['Solar'],\n",
    "    'Volcanic' : ['Volcanic'],\n",
    "}\n",
    "\n",
    "required_species = []\n",
    "\n",
    "for mode in run_mode:\n",
    "    if required_species_emissions_or_concentrations[mode] is None:\n",
    "        continue\n",
    "    if run_mode[mode] in ('emissions', 'concentrations') :\n",
    "        required_species.extend(required_species_emissions_or_concentrations[mode])\n",
    "    if mode in ('Solar', 'Volcanic'):\n",
    "        if run_mode[mode]=='forcing':\n",
    "            required_species.extend(required_species_emissions_or_concentrations[mode])\n",
    "\n",
    "required_species = list(set(required_species))\n",
    "required_species"
   ]
  },
  {
   "cell_type": "code",
   "execution_count": null,
   "id": "f0599ba3",
   "metadata": {},
   "outputs": [],
   "source": [
    "# check for duplicates\n",
    "species_names = []\n",
    "for specie in species_list:\n",
    "    if specie.name in species_names:\n",
    "        raise DuplicatedSpeciesError(f'{specie.name} is non-unique in the scenario')\n",
    "    species_names.append(specie.name)\n",
    "\n",
    "# check everything required is defined in the scenario\n",
    "for specie_name in required_species:\n",
    "    if specie_name not in species_names:\n",
    "        raise MissingInputError(f'{specie_name} is required but not in scenario')"
   ]
  },
  {
   "cell_type": "code",
   "execution_count": null,
   "id": "6b1c2056",
   "metadata": {},
   "outputs": [],
   "source": [
    "species_names"
   ]
  },
  {
   "cell_type": "code",
   "execution_count": null,
   "id": "be2270e4",
   "metadata": {},
   "outputs": [],
   "source": [
    "ozone_emissions_indices = []\n",
    "ozone_concentrations_indices = []\n",
    "ari_indices = []\n",
    "ghg_indices = []\n",
    "index_mapping = {}\n",
    "\n",
    "for ispec, specie in enumerate(species_list):\n",
    "    index_mapping[specie.name] = ispec\n",
    "    specie.set_index(ispec)\n",
    "    if hasattr(specie, \"ozone_radiative_efficiency\") and isinstance(specie, ShortLivedForcer):\n",
    "        ozone_emissions_indices.append(ispec)\n",
    "    if hasattr(specie, \"ozone_radiative_efficiency\") and isinstance(specie, GreenhouseGas):\n",
    "        ozone_concentrations_indices.append(ispec)\n",
    "    if isinstance(specie, GreenhouseGas):\n",
    "        ghg_indices.append(ispec)\n",
    "    if isinstance(specie, AerosolPrecursor):\n",
    "        ari_indices.append(ispec)"
   ]
  },
  {
   "cell_type": "code",
   "execution_count": null,
   "id": "64cdb3a2",
   "metadata": {},
   "outputs": [],
   "source": [
    "ozone_emissions_indices"
   ]
  },
  {
   "cell_type": "code",
   "execution_count": null,
   "id": "91b1f3d9",
   "metadata": {},
   "outputs": [],
   "source": [
    "ozone_concentrations_indices"
   ]
  },
  {
   "cell_type": "code",
   "execution_count": null,
   "id": "2a4a76d6",
   "metadata": {},
   "outputs": [],
   "source": [
    "ghg_indices"
   ]
  },
  {
   "cell_type": "code",
   "execution_count": null,
   "id": "2e533ceb",
   "metadata": {},
   "outputs": [],
   "source": [
    "ari_indices"
   ]
  },
  {
   "cell_type": "code",
   "execution_count": null,
   "id": "df212bfe",
   "metadata": {},
   "outputs": [],
   "source": [
    "if run_mode['Aerosol-cloud interactions']=='emissions':\n",
    "    aci_indices = [index_mapping[specie] for specie in required_species_emissions_or_concentrations['Aerosol-cloud interactions']] # in that order\n",
    "    # then we can choose different treatments in  required_species_emissions_or_concentrations['Aerosol-cloud interactions'], e.g. stevens\n",
    "else:\n",
    "    aci_indices = []"
   ]
  },
  {
   "cell_type": "code",
   "execution_count": null,
   "id": "ecd4e438",
   "metadata": {},
   "outputs": [],
   "source": [
    "aci_indices"
   ]
  },
  {
   "cell_type": "code",
   "execution_count": null,
   "id": "db9b4433",
   "metadata": {},
   "outputs": [],
   "source": [
    "index_mapping"
   ]
  },
  {
   "cell_type": "code",
   "execution_count": null,
   "id": "50d0a224",
   "metadata": {},
   "outputs": [],
   "source": [
    "scenarios = ['ssp119', 'ssp126', 'ssp245', 'ssp370', 'ssp434', 'ssp460', 'ssp534-over', 'ssp585']"
   ]
  },
  {
   "cell_type": "code",
   "execution_count": null,
   "id": "d70f37c8",
   "metadata": {},
   "outputs": [],
   "source": [
    "# initialise dicts for outputs. These will eventually be moved to the forward model\n",
    "n_timesteps = 751\n",
    "n_scenarios = len(scenarios)\n",
    "\n",
    "n_species = len(species_list)\n",
    "n_species"
   ]
  },
  {
   "cell_type": "code",
   "execution_count": null,
   "id": "3a92b9ba",
   "metadata": {},
   "outputs": [],
   "source": []
  },
  {
   "cell_type": "code",
   "execution_count": null,
   "id": "dc52b7fc",
   "metadata": {},
   "outputs": [],
   "source": [
    "class Scenario():\n",
    "    \n",
    "    # species_list is a list of objects\n",
    "    # species_names is a list of strings\n",
    "        \n",
    "    def __init__(self, species=None):\n",
    "        self.species = {}\n",
    "        \n",
    "        if hasattr(species, '__iter__'):\n",
    "            # this will automatically update/avoid duplicates\n",
    "            self.species = {specie.name: specie for specie in species}\n",
    "        elif species is not None:\n",
    "            self.species = {species.name: species}\n",
    "\n",
    "#         # if running emis or conc driven and >0 and <3 of CO2, CH4 and N2O are defined, fill in the others\n",
    "#         # with pre-industrial levels\n",
    "#         if run_mode[\"CO2\"] in (\"emissions\", \"concentrations\") or run_mode[\"CH4\"] in (\"emissions\", \"concentrations\") or run_mode[\"N2O\"] in (\"emissions\", \"concentrations\"):\n",
    "#             for gas in (\"CO2\", \"CH4\", \"N2O\"):\n",
    "#                 if \"CO2\" not in self.species:\n",
    "#                     self.species[\"CO2\"] = CO2(emissions = 0, concentrations = pre_industrial_concentration[\"CO2\"])\n",
    "#                 if \"CH4\" not in self.species:\n",
    "#                     self.species[\"CH4\"] = CH4(emissions = 0, concentrations = pre_industrial_concentration[\"CH4\"])\n",
    "#                 if \"N2O\" not in self.species:\n",
    "#                     self.species[\"N2O\"] = N2O(emissions = 0, concentrations = pre_industrial_concentration[\"N2O\"])\n",
    "\n",
    "    def _assign_indices(self):\n",
    "        \"\"\"Assign a unique index to each specie included in the scenario.\"\"\"\n",
    "        self.species_index_mapping = {}\n",
    "        for ispec, specie in enumerate(self.species):\n",
    "            self.species_index_mapping[specie] = ispec\n",
    "            \n",
    "\n",
    "    def _initialise_arrays(self, n_scenarios, n_species, n_timesteps):\n",
    "        self.emissions_array = np.ones((n_scenarios, n_species, n_timesteps, 1)) * np.nan\n",
    "        self.concentration_array = np.ones((n_scenarios, n_species, n_timesteps, 1)) * np.nan\n",
    "        self.forcing_array = np.ones((n_scenarios, n_species, n_timesteps, 1)) * np.nan\n",
    "        self.g0 = np.ones((n_scenarios, n_species, 1, 1)) * np.nan\n",
    "        self.g1 = np.ones((n_scenarios, n_species, 1, 1)) * np.nan\n",
    "        self.alpha_lifetime = np.ones((n_scenarios, n_species, 1, 1))\n",
    "        self.airborne_emissions = np.zeros((n_scenarios, n_species, 1, 1))\n",
    "        self.gas_boxes = np.zeros((n_scenarios, n_species, 1, n_gas_boxes))\n",
    "        self.iirf_0_array = np.ones((n_scenarios, n_species, 1, 1)) * np.nan\n",
    "        self.iirf_cumulative_array = np.ones((n_scenarios, n_species, 1, 1)) * np.nan\n",
    "        self.iirf_temperature_array = np.ones((n_scenarios, n_species, 1, 1)) * np.nan\n",
    "        self.iirf_airborne_array = np.ones((n_scenarios, n_species, 1, 1)) * np.nan\n",
    "        self.burden_per_emission_array = np.ones((1, n_species, 1, 1)) * np.nan\n",
    "        self.lifetime_array = np.ones((n_scenarios, n_species, 1, n_gas_boxes)) * np.nan\n",
    "        self.pre_industrial_emissions_array = np.ones((n_scenarios, n_species, 1, 1)) * np.nan\n",
    "        self.pre_industrial_concentration_array = np.ones((n_scenarios, n_species, 1, 1)) * np.nan\n",
    "        self.partition_fraction_array = np.zeros((n_scenarios, n_species, 1, n_gas_boxes))\n",
    "        self.natural_emissions_adjustment_array = np.ones((n_scenarios, n_species, 1, 1)) * np.nan\n",
    "        \n",
    "        \n",
    "        # This is an ugly amount of repetition, but I don't think it's possible to setattr on a slice of\n",
    "        # a numpy array without using eval, which is even uglier\n",
    "        for ispec, specie in enumerate(self.species):\n",
    "            if hasattr(self.species[specie], 'emissions'):\n",
    "                self.emissions_array[0, ispec, :, 0] = self.species[specie].emissions\n",
    "            if hasattr(self.species[specie], 'concentration'):\n",
    "                self.concentration_array[0, ispec, :, 0] = self.species[specie].concentration\n",
    "            if hasattr(self.species[specie], 'forcing'):\n",
    "                self.forcing_array[0, ispec, :, 0] = self.species[specie].forcing\n",
    "            if isinstance(self.species[specie], GreenhouseGas):\n",
    "                self.lifetime_array[:, ispec, :, :] = self.species[specie].lifetime\n",
    "                self.partition_fraction_array[:, ispec, :, :] = self.species[specie].partition_fraction\n",
    "                self.iirf_0_array[:, ispec, :, :] = self.species[specie].iirf_0\n",
    "                self.iirf_cumulative_array[:, ispec, :, :] = self.species[specie].iirf_cumulative\n",
    "                self.iirf_temperature_array[:, ispec, :, :] = self.species[specie].iirf_temperature\n",
    "                self.iirf_airborne_array[:, ispec, :, :] = self.species[specie].iirf_airborne\n",
    "                self.burden_per_emission_array[:, ispec, :, :] = self.species[specie].burden_per_emission\n",
    "                self.pre_industrial_concentration_array[:, ispec, :, :] = self.species[specie].pre_industrial_concentration\n",
    "                self.natural_emissions_adjustment_array[:, ispec, :, :] = self.species[specie].natural_emissions_adjustment\n",
    "                self.radiative_efficiency[:, ispec, :, :] = self.species[specie].radiative_efficiency\n",
    "                self.g0[:, ispec, :, :] = self.species[specie].g0\n",
    "                self.g1[:, ispec, :, :] = self.species[specie].g1\n",
    "            if isinstance(self.species[specie], Halogen):\n",
    "                self.fractional_release_array[:, ispec, :, :] = self.species[specie].fractional_release\n",
    "                self.br_atoms_array[:, ispec, :, :] = self.species[specie].br_atoms\n",
    "                self.cl_atoms_array[:, ispec, :, :] = self.species[specie].cl_atoms\n",
    "                \n",
    "    # this is the forward run - and should be generalised\n",
    "    def run(self):\n",
    "        \n",
    "        n_species = len(self.species)\n",
    "        n_scenarios = 1  # just for now\n",
    "        n_timesteps = 751 # also a placeholder\n",
    "        \n",
    "        # initialise arrays. Using arrays makes things run quicker\n",
    "        self._assign_indices()\n",
    "        self._initialise_arrays(n_scenarios, n_species, n_timesteps)\n",
    "\n",
    "        \n",
    "\n",
    "\n",
    "# cumulative_emissions_array = np.cumsum(emissions_array, axis=TIME_AXIS)\n",
    "\n",
    "# # this one for the general forcing\n",
    "# tropospheric_adjustment_array = np.ones((n_scenarios, n_species, 1, 1)) * np.nan\n",
    "# radiative_efficiency_array = np.ones((n_scenarios, n_species, 1, 1)) * np.nan\n",
    "# erf = np.ones((n_scenarios, n_species, n_timesteps, 1)) * np.nan\n",
    "\n",
    "# # ozone\n",
    "# fractional_release_array = np.zeros((1, n_species, 1, 1)) # gonna assume this doesn't change\n",
    "# cl_atoms_array = np.zeros((1, n_species, 1, 1))\n",
    "# br_atoms_array = np.zeros((1, n_species, 1, 1))\n",
    "# o3_radiative_efficiency_array = np.zeros((1, n_species, 1, 1))\n",
    "\n",
    "# for ispec, specie in enumerate(species_list):\n",
    "#     # options pertaining to SLCFs\n",
    "#     if specie in slcf_list:\n",
    "#         pre_industrial_emissions_array[:, ispec, :, :] = pre_industrial_emissions[specie]\n",
    "    \n",
    "#     # options pertaining to GHGs\n",
    "#     if specie in gas_list:\n",
    "\n",
    "        \n",
    "#     # options pertaining only to minor GHGs\n",
    "#     if specie in minor_gas_list:\n",
    "#         radiative_efficiency_array[:, ispec, :, :] = radiative_efficiency[specie]\n",
    "        \n",
    "\n",
    "#     # options pertaining to all species\n",
    "#     tropospheric_adjustment_array[:, ispec, :, :] = tropospheric_adjustment[specie]\n",
    "#     o3_radiative_efficiency_array[:, ispec, :, :] = o3_radiative_efficiency[specie]\n",
    "\n",
    "# g0, g1 = calculate_g(lifetime_array, partition_fraction_array)\n",
    "        \n",
    "    # times\n",
    "    # configs"
   ]
  },
  {
   "cell_type": "code",
   "execution_count": null,
   "id": "92213b74",
   "metadata": {},
   "outputs": [],
   "source": [
    "scen = Scenario()"
   ]
  },
  {
   "cell_type": "code",
   "execution_count": null,
   "id": "e8711d93",
   "metadata": {},
   "outputs": [],
   "source": [
    "scen"
   ]
  },
  {
   "cell_type": "code",
   "execution_count": null,
   "id": "8fbb0d3b",
   "metadata": {},
   "outputs": [],
   "source": [
    "vars(scen)"
   ]
  },
  {
   "cell_type": "code",
   "execution_count": null,
   "id": "752b5728",
   "metadata": {},
   "outputs": [],
   "source": [
    "scen = Scenario(species=(co2, ch4, n2o))"
   ]
  },
  {
   "cell_type": "code",
   "execution_count": null,
   "id": "5e9ce4ba",
   "metadata": {},
   "outputs": [],
   "source": [
    "scenario = 'ssp245'"
   ]
  },
  {
   "cell_type": "code",
   "execution_count": null,
   "id": "c389064e",
   "metadata": {},
   "outputs": [],
   "source": [
    "# grab some emissions\n",
    "emissions = {}\n",
    "\n",
    "df = pd.read_csv('../data/rcmip/rcmip-emissions-annual-means-v5-1-0.csv')\n",
    "for iscen, scenario in enumerate(scenarios):\n",
    "    emissions[scenario] = {}\n",
    "    for igas, gas in enumerate(gas_list):\n",
    "        gas_rcmip_name = gas.replace(\"-\", \"\")\n",
    "        emissions[scenario][gas] = df.loc[\n",
    "            (df['Scenario']==scenario) & (df['Variable'].str.endswith(\"|\"+gas_rcmip_name)) & (df['Region']=='World'), '1750':\n",
    "        ].interpolate(axis=1).values.T.squeeze()\n",
    "    \n",
    "        # CO2 and N2O units need to behave\n",
    "        if gas in ('CO2', 'N2O'):\n",
    "            emissions[scenario][gas] = emissions[scenario][gas] / 1000"
   ]
  },
  {
   "cell_type": "code",
   "execution_count": null,
   "id": "014c54a6",
   "metadata": {},
   "outputs": [],
   "source": [
    "for gas in ['CO2', 'CH4', 'N2O']:\n",
    "    scen.species[gas].emissions = emissions['ssp245'][gas]"
   ]
  },
  {
   "cell_type": "code",
   "execution_count": null,
   "id": "a12abcb0",
   "metadata": {},
   "outputs": [],
   "source": [
    "vars(scen.species['CH4'])"
   ]
  },
  {
   "cell_type": "code",
   "execution_count": null,
   "id": "5fc533b3",
   "metadata": {},
   "outputs": [],
   "source": [
    "scen.run()"
   ]
  },
  {
   "cell_type": "code",
   "execution_count": null,
   "id": "90aebb08",
   "metadata": {},
   "outputs": [],
   "source": [
    "vars(scen)"
   ]
  },
  {
   "cell_type": "code",
   "execution_count": null,
   "id": "c0b0da68",
   "metadata": {},
   "outputs": [],
   "source": [
    "# scenario = 'ssp245'\n",
    "# from fair21.defaults import f_gas_list, montreal_gas_list, slcf_list\n",
    "# for specie in f_gas_list + montreal_gas_list + slcf_list:\n",
    "#     print (specie)"
   ]
  },
  {
   "cell_type": "code",
   "execution_count": null,
   "id": "f6aad0df",
   "metadata": {},
   "outputs": [],
   "source": []
  }
 ],
 "metadata": {
  "kernelspec": {
   "display_name": "Python 3 (ipykernel)",
   "language": "python",
   "name": "python3"
  },
  "language_info": {
   "codemirror_mode": {
    "name": "ipython",
    "version": 3
   },
   "file_extension": ".py",
   "mimetype": "text/x-python",
   "name": "python",
   "nbconvert_exporter": "python",
   "pygments_lexer": "ipython3",
   "version": "3.7.12"
  }
 },
 "nbformat": 4,
 "nbformat_minor": 5
}
