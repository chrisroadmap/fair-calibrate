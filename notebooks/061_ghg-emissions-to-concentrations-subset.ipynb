{
 "cells": [
  {
   "cell_type": "markdown",
   "id": "87f81209",
   "metadata": {},
   "source": [
    "# Greenhouse gas emissions to concentrations\n",
    "\n",
    "Sometimes we don't want to run a 43-gas scenario and just want a subset.\n",
    "\n",
    "Here I will run 5 gases: CO2, CH4, N2O, CFC11 and HFC134a."
   ]
  },
  {
   "cell_type": "code",
   "execution_count": null,
   "id": "5d02ac2f",
   "metadata": {},
   "outputs": [],
   "source": [
    "import numpy as np\n",
    "import pandas as pd\n",
    "import matplotlib.pyplot as pl\n",
    "from scipy.interpolate import interp1d\n",
    "import pickle\n",
    "from climateforcing.utils import mkdir_p\n",
    "\n",
    "from fair21.constants.gases import molwt, burden_per_emission, lifetime\n",
    "from fair21.defaults.gases import (\n",
    "    partition_fraction,\n",
    "    pre_industrial_concentration,\n",
    "    natural_emissions_adjustment,\n",
    "    iirf_0,\n",
    "    iirf_cumulative,\n",
    "    iirf_temperature,\n",
    "    iirf_airborne,\n",
    "    iirf_horizon\n",
    ")\n",
    "from fair21.gas_cycle import (\n",
    "    calculate_g,\n",
    "    calculate_alpha\n",
    ")\n",
    "from fair21.gas_cycle.forward import step_concentration"
   ]
  },
  {
   "cell_type": "code",
   "execution_count": null,
   "id": "b054de52",
   "metadata": {},
   "outputs": [],
   "source": [
    "gas_list = ['CO2', 'CH4', 'N2O', 'CFC-11', 'HFC-134a']"
   ]
  },
  {
   "cell_type": "code",
   "execution_count": null,
   "id": "ba3e47f0",
   "metadata": {},
   "outputs": [],
   "source": [
    "# grab some emissions\n",
    "emissions = {}\n",
    "df = pd.read_csv('../data/rcmip/rcmip-emissions-annual-means-v5-1-0.csv')\n",
    "for gas in gas_list:\n",
    "    gas_rcmip_name = gas.replace(\"-\", \"\")\n",
    "    emissions[gas] = df.loc[\n",
    "        (df['Scenario']=='ssp245') & (df['Variable'].str.endswith(\"|\"+gas_rcmip_name)) & (df['Region']=='World'), '1750':\n",
    "    ].interpolate(axis=1).values.squeeze()\n",
    "    \n",
    "# CO2 and N2O units need to behave\n",
    "emissions[\"CO2\"] = emissions[\"CO2\"] / 1000\n",
    "emissions[\"N2O\"] = emissions[\"N2O\"] / 1000\n",
    "#co2_emissions = 1/1000 * df.loc[(df['Scenario']=='ssp245') & (df['Variable']=='Emissions|CO2') & (df['Region']=='World'), '1750':].interpolate(axis=1).values.squeeze()\n",
    "#ch4_emissions = df.loc[(df['Scenario']=='ssp245') & (df['Variable']=='Emissions|CH4') & (df['Region']=='World'), '1750':].interpolate(axis=1).values.squeeze()\n",
    "#cfc11_emissions = df.loc[(df['Scenario']=='ssp245') & (df['Variable']=='Emissions|Montreal Gases|CFC|CFC11') & (df['Region']=='World'), '1750':].interpolate(axis=1).values.squeeze()"
   ]
  },
  {
   "cell_type": "code",
   "execution_count": null,
   "id": "eac45ae9",
   "metadata": {},
   "outputs": [],
   "source": [
    "# initialise dicts for outputs. These will eventually be moved to the forward model\n",
    "concentration = {}\n",
    "airborne_emissions = {}\n",
    "cumulative_emissions = {}"
   ]
  },
  {
   "cell_type": "code",
   "execution_count": null,
   "id": "3c73d81d",
   "metadata": {},
   "outputs": [],
   "source": [
    "# grab some concentrations\n",
    "concentration_rcmip = {}\n",
    "df = pd.read_csv('../data/rcmip/rcmip-concentrations-annual-means-v5-1-0.csv')\n",
    "for gas in gas_list:\n",
    "    gas_rcmip_name = gas.replace(\"-\", \"\")\n",
    "    concentration_rcmip[gas] = df.loc[\n",
    "        (df['Scenario']=='ssp245') & (df['Variable'].str.endswith(\"|\"+gas_rcmip_name)) & (df['Region']=='World'), '1750':\n",
    "    ].interpolate(axis=1).values.squeeze()"
   ]
  },
  {
   "cell_type": "code",
   "execution_count": null,
   "id": "b1e1cf5a",
   "metadata": {},
   "outputs": [],
   "source": [
    "# grab indicative temperature projections\n",
    "df = pd.read_csv('../data/rcmip-phase2/rcmip-phase2-fair162-ssp245-mean-temperature.csv')\n",
    "ssp245_temperature_rfmip = df['temperature'].values"
   ]
  },
  {
   "cell_type": "code",
   "execution_count": null,
   "id": "4b46c4e8",
   "metadata": {},
   "outputs": [],
   "source": [
    "n_gases = len(gas_list)\n",
    "n_gases"
   ]
  },
  {
   "cell_type": "code",
   "execution_count": null,
   "id": "4ecf49fe",
   "metadata": {},
   "outputs": [],
   "source": [
    "n_timesteps = len(emissions['CFC-11'])"
   ]
  },
  {
   "cell_type": "code",
   "execution_count": null,
   "id": "bfceb401",
   "metadata": {},
   "outputs": [],
   "source": [
    "%%time\n",
    "\n",
    "# initialise arrays. Using arrays makes things run quicker\n",
    "emissions_array = np.ones((n_timesteps, n_gases)) * np.nan\n",
    "concentration_array = np.ones((n_timesteps, n_gases)) * np.nan\n",
    "g0 = np.ones((n_gases)) * np.nan\n",
    "g1 = np.ones((n_gases)) * np.nan\n",
    "alpha_lifetime = np.ones((n_gases))\n",
    "airborne_emissions = np.zeros((n_gases))\n",
    "gas_boxes = np.zeros((n_gases, 4))  # TODO: 4 needs to be unhardcoded\n",
    "cumulative_emissions_array = np.ones((n_timesteps, n_gases)) * np.nan\n",
    "iirf_0_array = np.ones(n_gases) * np.nan\n",
    "iirf_cumulative_array = np.ones(n_gases) * np.nan\n",
    "iirf_temperature_array = np.ones(n_gases) * np.nan\n",
    "iirf_airborne_array = np.ones(n_gases) * np.nan\n",
    "burden_per_emission_array = np.ones(n_gases) * np.nan\n",
    "lifetime_array = np.ones((n_gases, 4)) * np.nan\n",
    "pre_industrial_concentration_array = np.ones(n_gases) * np.nan\n",
    "partition_fraction_array = np.zeros((n_gases, 4))\n",
    "natural_emissions_adjustment_array = np.ones(n_gases) * np.nan\n",
    "\n",
    "for i, gas in enumerate(gas_list):\n",
    "    emissions_array[:, i] = emissions[gas]\n",
    "    cumulative_emissions_array[:, i] = np.cumsum(emissions[gas])\n",
    "    g0[i], g1[i] = calculate_g(lifetime[gas], partition_fraction=partition_fraction[gas])\n",
    "    iirf_0_array[i] = iirf_0[gas]\n",
    "    iirf_cumulative_array[i] = iirf_cumulative[gas]\n",
    "    iirf_temperature_array[i] = iirf_temperature[gas]\n",
    "    iirf_airborne_array[i] = iirf_airborne[gas]\n",
    "    burden_per_emission_array[i] = burden_per_emission[gas]\n",
    "    lifetime_array[i, :] = lifetime[gas]\n",
    "    pre_industrial_concentration_array[i] = pre_industrial_concentration[gas]\n",
    "    partition_fraction_array[i, :] = partition_fraction[gas]\n",
    "    natural_emissions_adjustment_array[i] = natural_emissions_adjustment[gas]\n",
    "\n",
    "for i in range(n_timesteps):\n",
    "    alpha_lifetime = calculate_alpha(\n",
    "        cumulative_emissions_array[i],\n",
    "        airborne_emissions,\n",
    "        ssp245_temperature_rfmip[i],\n",
    "        iirf_0_array,\n",
    "        iirf_cumulative_array,\n",
    "        iirf_temperature_array,\n",
    "        iirf_airborne_array,\n",
    "        g0,\n",
    "        g1,\n",
    "    )\n",
    "    alpha_lifetime[np.isnan(alpha_lifetime)]=1  # CF4 seems to have an issue. Should we raise warning?\n",
    "    concentration_array[i, :], gas_boxes, airborne_emissions = step_concentration(\n",
    "        emissions_array[i, :, None], \n",
    "        gas_boxes,\n",
    "        airborne_emissions, \n",
    "        burden_per_emission_array,\n",
    "        lifetime_array,\n",
    "        alpha_lifetime=alpha_lifetime[:, None],\n",
    "        pre_industrial_concentration=pre_industrial_concentration_array,\n",
    "        timestep=1,\n",
    "        partition_fraction=partition_fraction_array,\n",
    "        natural_emissions_adjustment=natural_emissions_adjustment_array[:, None],\n",
    "    )"
   ]
  },
  {
   "cell_type": "code",
   "execution_count": null,
   "id": "ac3d8ef1",
   "metadata": {},
   "outputs": [],
   "source": [
    "# put back together\n",
    "for i, gas in enumerate(gas_list):\n",
    "    concentration[gas] = concentration_array[:, i]"
   ]
  },
  {
   "cell_type": "code",
   "execution_count": null,
   "id": "e5095f2f",
   "metadata": {},
   "outputs": [],
   "source": [
    "fig, ax = pl.subplots(2, 3, figsize=(16,9))\n",
    "for igas, gas in enumerate(gas_list):\n",
    "    iy = igas % 3\n",
    "    ix = igas // 3\n",
    "    ax[ix, iy].plot(np.arange(1750.5, 2501), concentration[gas], label='FaIR 2.1')\n",
    "    ax[ix, iy].plot(np.arange(1750.5, 2501), concentration_rcmip[gas], label='History + MAGICC6')\n",
    "    ax[ix, iy].set_title(gas)\n",
    "fig.tight_layout()"
   ]
  }
 ],
 "metadata": {
  "kernelspec": {
   "display_name": "Python 3 (ipykernel)",
   "language": "python",
   "name": "python3"
  },
  "language_info": {
   "codemirror_mode": {
    "name": "ipython",
    "version": 3
   },
   "file_extension": ".py",
   "mimetype": "text/x-python",
   "name": "python",
   "nbconvert_exporter": "python",
   "pygments_lexer": "ipython3",
   "version": "3.7.12"
  }
 },
 "nbformat": 4,
 "nbformat_minor": 5
}
