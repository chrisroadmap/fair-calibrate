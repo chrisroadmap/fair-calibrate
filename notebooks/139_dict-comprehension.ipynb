{
 "cells": [
  {
   "cell_type": "code",
   "execution_count": null,
   "id": "2e5b1e9a",
   "metadata": {},
   "outputs": [],
   "source": [
    "import pandas as pd\n",
    "\n",
    "from fair21.defaults import montreal_gas_list, gas_list"
   ]
  },
  {
   "cell_type": "code",
   "execution_count": null,
   "id": "458695d8",
   "metadata": {},
   "outputs": [],
   "source": [
    "montreal_gas_list"
   ]
  },
  {
   "cell_type": "code",
   "execution_count": null,
   "id": "cfcbc7f7",
   "metadata": {},
   "outputs": [],
   "source": [
    "# grab some concentrations\n",
    "concentration_rcmip = {}\n",
    "df = pd.read_csv('../data/rcmip/rcmip-concentrations-annual-means-v5-1-0.csv')\n",
    "for gas in gas_list:\n",
    "    gas_rcmip_name = gas.replace(\"-\", \"\")\n",
    "    concentration_rcmip[gas] = df.loc[\n",
    "        (df['Scenario']=='ssp245') & (df['Variable'].str.endswith(\"|\"+gas_rcmip_name)) & (df['Region']=='World'), '1750':\n",
    "    ].interpolate(axis=1).values.squeeze()"
   ]
  },
  {
   "cell_type": "code",
   "execution_count": null,
   "id": "cc343ab1",
   "metadata": {},
   "outputs": [],
   "source": [
    "{gas:concentration_rcmip[gas][200] for gas in montreal_gas_list}"
   ]
  },
  {
   "cell_type": "code",
   "execution_count": null,
   "id": "ce3dc190",
   "metadata": {},
   "outputs": [],
   "source": [
    "concentration_rcmip.keys()"
   ]
  },
  {
   "cell_type": "code",
   "execution_count": null,
   "id": "b355d858",
   "metadata": {},
   "outputs": [],
   "source": []
  }
 ],
 "metadata": {
  "kernelspec": {
   "display_name": "Python 3 (ipykernel)",
   "language": "python",
   "name": "python3"
  },
  "language_info": {
   "codemirror_mode": {
    "name": "ipython",
    "version": 3
   },
   "file_extension": ".py",
   "mimetype": "text/x-python",
   "name": "python",
   "nbconvert_exporter": "python",
   "pygments_lexer": "ipython3",
   "version": "3.7.10"
  }
 },
 "nbformat": 4,
 "nbformat_minor": 5
}
