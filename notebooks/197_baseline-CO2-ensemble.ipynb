{
 "cells": [
  {
   "cell_type": "code",
   "execution_count": null,
   "id": "12f145f2",
   "metadata": {},
   "outputs": [],
   "source": [
    "import pandas as pd\n",
    "import scipy.stats\n",
    "import matplotlib.pyplot as pl"
   ]
  },
  {
   "cell_type": "code",
   "execution_count": null,
   "id": "7fa16382",
   "metadata": {},
   "outputs": [],
   "source": [
    "samples = 1500000"
   ]
  },
  {
   "cell_type": "code",
   "execution_count": null,
   "id": "7b8cf3a0",
   "metadata": {},
   "outputs": [],
   "source": [
    "NINETY_TO_ONESIGMA = scipy.stats.norm.ppf(0.95)"
   ]
  },
  {
   "cell_type": "code",
   "execution_count": null,
   "id": "ae982409",
   "metadata": {},
   "outputs": [],
   "source": [
    "co2_1750_conc = scipy.stats.norm.rvs(size=samples, loc=278.3, scale=2.9/NINETY_TO_ONESIGMA, random_state=1067061)"
   ]
  },
  {
   "cell_type": "code",
   "execution_count": null,
   "id": "370f2587",
   "metadata": {},
   "outputs": [],
   "source": [
    "pl.hist(co2_1750_conc)"
   ]
  },
  {
   "cell_type": "code",
   "execution_count": null,
   "id": "be5ff818",
   "metadata": {},
   "outputs": [],
   "source": [
    "df = pd.DataFrame({\n",
    "    'co2_concentration' : co2_1750_conc\n",
    "})"
   ]
  },
  {
   "cell_type": "code",
   "execution_count": null,
   "id": "980211ff",
   "metadata": {},
   "outputs": [],
   "source": [
    "df"
   ]
  },
  {
   "cell_type": "code",
   "execution_count": null,
   "id": "d74a9302",
   "metadata": {},
   "outputs": [],
   "source": [
    "df.to_csv('../data/parameter_sets/co2_concentration_1750.csv', index=False)"
   ]
  },
  {
   "cell_type": "code",
   "execution_count": null,
   "id": "b71578dd",
   "metadata": {},
   "outputs": [],
   "source": []
  }
 ],
 "metadata": {
  "kernelspec": {
   "display_name": "Python 3",
   "language": "python",
   "name": "python3"
  },
  "language_info": {
   "codemirror_mode": {
    "name": "ipython",
    "version": 3
   },
   "file_extension": ".py",
   "mimetype": "text/x-python",
   "name": "python",
   "nbconvert_exporter": "python",
   "pygments_lexer": "ipython3",
   "version": "3.10.6"
  }
 },
 "nbformat": 4,
 "nbformat_minor": 5
}
