{
 "cells": [
  {
   "cell_type": "markdown",
   "id": "3bd1fb58",
   "metadata": {},
   "source": [
    "# Download CMIP6 4xCO2 data\n",
    "\n",
    "This uses `netcdf-scm` to grab and process data.\n",
    "\n",
    "See https://gitlab.com/netcdf-scm/netcdf-scm. This is based on one of the notebook examples.\n",
    "\n",
    "Nicholls, Z, Lewis, J, Makin, M, et al. Regionally aggregated, stitched and de-drifted CMIP-climate data, processed with netCDF-SCM v2.0.0. Geosci Data J. 2021; 00: 1– 45. https://doi.org/10.1002/gdj3.113"
   ]
  },
  {
   "cell_type": "code",
   "execution_count": null,
   "id": "22079d84",
   "metadata": {},
   "outputs": [],
   "source": [
    "from climateforcing.utils import mkdir_p\n",
    "import netcdf_scm.io\n",
    "import os\n",
    "import glob\n",
    "import requests\n",
    "import zipfile\n",
    "from tqdm import tqdm \n",
    "import scmdata\n",
    "import matplotlib.pyplot as plt\n",
    "import platform"
   ]
  },
  {
   "cell_type": "code",
   "execution_count": null,
   "id": "09faa697",
   "metadata": {},
   "outputs": [],
   "source": [
    "platform.system()"
   ]
  },
  {
   "cell_type": "code",
   "execution_count": null,
   "id": "572b24ce",
   "metadata": {},
   "outputs": [],
   "source": [
    "# file to save the downloaded zip in\n",
    "ZIP_FILE = os.path.join(\"..\", \"data\", \"netcdf-scm\", \"4xCO2_data.zip\")\n",
    "ZIP_FILE"
   ]
  },
  {
   "cell_type": "code",
   "execution_count": null,
   "id": "87a3bf82",
   "metadata": {},
   "outputs": [],
   "source": [
    "# directory in which to extract data\n",
    "DATA_DIR = os.path.join(\"..\", \"data\", \"netcdf-scm\", \"cmip_data\")\n",
    "mkdir_p(DATA_DIR)"
   ]
  },
  {
   "cell_type": "code",
   "execution_count": null,
   "id": "b414c231",
   "metadata": {},
   "outputs": [],
   "source": [
    "# from https://stackoverflow.com/questions/40419395/python-zipfile-extractall-ioerror-on-windows-when-extracting-files-from-long-pat\n",
    "class ZipfileLongPaths(zipfile.ZipFile):\n",
    "\n",
    "    def _extract_member(self, member, targetpath, pwd):\n",
    "        targetpath = winapi_path(targetpath)\n",
    "        return zipfile.ZipFile._extract_member(self, member, targetpath, pwd)\n",
    "    \n",
    "    \n",
    "def winapi_path(dos_path, encoding=None):\n",
    "    path = os.path.abspath(dos_path)\n",
    "    if platform.system() == \"Windows\":\n",
    "        if path.startswith(\"\\\\\\\\\"):\n",
    "            path = \"\\\\\\\\?\\\\UNC\\\\\" + path[2:]\n",
    "        else:\n",
    "            path = \"\\\\\\\\?\\\\\" + path \n",
    "    return path  "
   ]
  },
  {
   "cell_type": "code",
   "execution_count": null,
   "id": "73451d01",
   "metadata": {},
   "outputs": [],
   "source": [
    "experiments = (\n",
    "    \"abrupt-4xCO2\",\n",
    ")\n",
    "variables = (\n",
    "    \"tas\",\n",
    "    \"rsdt\",\n",
    "    \"rsut\",\n",
    "    \"rlut\",\n",
    ")\n",
    "\n",
    "for exp in experiments:\n",
    "    for var in variables:\n",
    "        print(f\"Downloading {exp} {var}\")\n",
    "        params = (\n",
    "            (\"experiment_id\", exp),\n",
    "            (\"variable_id\", var),\n",
    "            (\"timeseriestype\", \"average-year-mid-year\"),\n",
    "            (\"normalised\", \"21-yr-running-mean\"),\n",
    "        )\n",
    "        url = \"https://cmip6.science.unimelb.edu.au/api/v1/download_zip\"\n",
    "\n",
    "        r = requests.get(url, params=params)\n",
    "        r.raise_for_status()\n",
    "\n",
    "        with open(ZIP_FILE, \"wb\") as f:\n",
    "            f.write(r.content)\n",
    "\n",
    "        zip_ref = ZipfileLongPaths(ZIP_FILE, \"r\")\n",
    "        zip_ref.extractall(DATA_DIR)\n",
    "        zip_ref.close()\n",
    "\n",
    "print(\"Finished\")"
   ]
  },
  {
   "cell_type": "code",
   "execution_count": null,
   "id": "8de03dd6",
   "metadata": {},
   "outputs": [],
   "source": [
    "available_files = glob.glob(winapi_path(os.path.join(DATA_DIR, \"**\", \"abrupt-4xCO2\", \"**\", \"*.MAG\")), recursive=True)\n",
    "print(f\"{len(available_files)} available files\")\n",
    "available_files[:5]"
   ]
  },
  {
   "cell_type": "code",
   "execution_count": null,
   "id": "409e4e7d",
   "metadata": {},
   "outputs": [],
   "source": [
    "db = [\n",
    "    netcdf_scm.io.load_mag_file(f, \"CMIP6Output\")\n",
    "    for f in tqdm(available_files, position=0, leave=True)\n",
    "]"
   ]
  },
  {
   "cell_type": "code",
   "execution_count": null,
   "id": "bb58aeb0",
   "metadata": {},
   "outputs": [],
   "source": [
    "db = scmdata.run_append(db).filter(region=\"World\")\n",
    "db.head()"
   ]
  },
  {
   "cell_type": "code",
   "execution_count": null,
   "id": "33f5b28b",
   "metadata": {},
   "outputs": [],
   "source": [
    "required_vars = {\"tas\", \"rlut\", \"rsut\", \"rsdt\"}\n",
    "force_first_year = 1850\n",
    "\n",
    "out = []\n",
    "for scdf in tqdm(db.groupby([\"climate_model\", \"member_id\", \"scenario\"]), position=0, leave=True):\n",
    "    climate_model = scdf.get_unique_meta(\"climate_model\", True)\n",
    "    scenario = scdf.get_unique_meta(\"scenario\", True)\n",
    "    member_id = scdf.get_unique_meta(\"member_id\", True)\n",
    "    available_vars = scdf[\"variable\"].unique()\n",
    "    if not all([v in available_vars for v in required_vars]):\n",
    "        print(f\"Not all required data for {climate_model} {member_id} {scenario}\")\n",
    "        print(\"Available vars: {}\".format(available_vars))\n",
    "        continue\n",
    "\n",
    "    rndt = (\n",
    "        scdf.filter(variable=\"rsdt\")\n",
    "        .subtract(scdf.filter(variable=\"rsut\"), op_cols={\"variable\": \"rsdt - rsut\"})\n",
    "        .subtract(scdf.filter(variable=\"rlut\"), op_cols={\"variable\": \"rndt\"})\n",
    "    )\n",
    "\n",
    "    keep = scmdata.run_append([scdf, rndt]).timeseries(\n",
    "        time_axis=\"year\", drop_all_nan_times=True\n",
    "    )\n",
    "    \n",
    "    if keep.shape[1]<150:\n",
    "        print(f\"Time series is too short in {climate_model} {member_id} {scenario}\")\n",
    "        continue\n",
    "    \n",
    "    first_year = keep.columns[0]\n",
    "    keep.columns = keep.columns.map(lambda x: force_first_year + x - first_year)\n",
    "\n",
    "    out.append(scmdata.ScmRun(keep))\n",
    "\n",
    "out = scmdata.run_append(out)\n",
    "out.head()"
   ]
  },
  {
   "cell_type": "code",
   "execution_count": null,
   "id": "eb520437",
   "metadata": {},
   "outputs": [],
   "source": [
    "for sdf in out.groupby(\"scenario\"):\n",
    "    scenario = sdf.get_unique_meta(\"scenario\", True)\n",
    "    ax = sdf.filter(variable=\"tas\").lineplot(hue=\"climate_model\", time_axis=\"year\")\n",
    "    ax.set_title(scenario)\n",
    "    plt.show()"
   ]
  },
  {
   "cell_type": "code",
   "execution_count": null,
   "id": "c6926e93",
   "metadata": {},
   "outputs": [],
   "source": [
    "out"
   ]
  },
  {
   "cell_type": "code",
   "execution_count": null,
   "id": "210955d8",
   "metadata": {},
   "outputs": [],
   "source": [
    "out.to_csv(os.path.join(\"..\", \"data\", \"netcdf-scm\", \"4xCO2.csv\"))"
   ]
  },
  {
   "cell_type": "code",
   "execution_count": null,
   "id": "9617d4f0",
   "metadata": {},
   "outputs": [],
   "source": []
  }
 ],
 "metadata": {
  "kernelspec": {
   "display_name": "Python 3 (ipykernel)",
   "language": "python",
   "name": "python3"
  },
  "language_info": {
   "codemirror_mode": {
    "name": "ipython",
    "version": 3
   },
   "file_extension": ".py",
   "mimetype": "text/x-python",
   "name": "python",
   "nbconvert_exporter": "python",
   "pygments_lexer": "ipython3",
   "version": "3.7.10"
  }
 },
 "nbformat": 4,
 "nbformat_minor": 5
}
