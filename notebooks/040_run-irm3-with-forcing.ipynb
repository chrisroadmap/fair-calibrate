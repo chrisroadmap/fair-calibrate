{
 "cells": [
  {
   "cell_type": "markdown",
   "id": "7ca42a84",
   "metadata": {},
   "source": [
    "# Run the three-layer IRM\n",
    "\n",
    "This notebook will demonstrate the inclusion of ocean heat uptake.\n",
    "\n",
    "We will use example forcing from RFMIP to demonstrate."
   ]
  },
  {
   "cell_type": "code",
   "execution_count": null,
   "id": "7c8fba9e",
   "metadata": {},
   "outputs": [],
   "source": [
    "import os\n",
    "\n",
    "import numpy as np\n",
    "import matplotlib.pyplot as pl\n",
    "import pandas as pd\n",
    "import scipy.linalg\n",
    "import scipy.stats\n",
    "from scipy.interpolate import interp1d\n",
    "import json\n",
    "from tqdm import tqdm"
   ]
  },
  {
   "cell_type": "code",
   "execution_count": null,
   "id": "71709502",
   "metadata": {},
   "outputs": [],
   "source": [
    "df = pd.read_csv(\n",
    "    os.path.join(\"..\", \"data\", \"calibration\", \"4xCO2_cummins.csv\")\n",
    ")"
   ]
  },
  {
   "cell_type": "code",
   "execution_count": null,
   "id": "7c951fa1",
   "metadata": {},
   "outputs": [],
   "source": [
    "models = df['model'].unique()\n",
    "models"
   ]
  },
  {
   "cell_type": "code",
   "execution_count": null,
   "id": "c5e60d2c",
   "metadata": {},
   "outputs": [],
   "source": [
    "params = {}\n",
    "for model in models:\n",
    "    params[model] = {}\n",
    "    for run in df.loc[df['model']==model, 'run']:\n",
    "        condition = (df['model']==model) & (df['run']==run)\n",
    "        params[model][run] = {}\n",
    "        params[model][run]['gamma_autocorrelation'] = df.loc[condition, 'gamma'].values[0]\n",
    "        params[model][run]['ocean_heat_capacity'] = df.loc[condition, 'C1':'C3'].values.squeeze()\n",
    "        params[model][run]['ocean_heat_transfer'] = df.loc[condition, 'kappa1':'kappa3'].values.squeeze()\n",
    "        params[model][run]['deep_ocean_efficacy'] = df.loc[condition, 'epsilon'].values[0]\n",
    "        params[model][run]['sigma_eta'] = df.loc[condition, 'sigma_eta'].values[0]\n",
    "        params[model][run]['sigma_xi'] = df.loc[condition, 'sigma_xi'].values[0]\n",
    "        params[model][run]['forcing_4co2'] = df.loc[condition, 'F_4xCO2'].values[0]"
   ]
  },
  {
   "cell_type": "code",
   "execution_count": null,
   "id": "b443e288",
   "metadata": {},
   "outputs": [],
   "source": [
    "# TODO: move to a constants module\n",
    "\n",
    "NBOX = 3  # hard code for now, to do is a truly flexible model\n",
    "EARTH_RADIUS = 6.371e6  # m\n",
    "SECONDS_PER_YEAR = 365.2425 * 24 * 60 * 60  # we can be cleverer about this\n",
    "DOUBLING_TIME_1PCT = np.log(2)/np.log(1.01)  # about 69.7\n",
    "forcing_2co2_4co2_ratio=0.476304  # TODO: un-hardcode this and calculate directly from Meinshausen or Etminan relations."
   ]
  },
  {
   "cell_type": "code",
   "execution_count": null,
   "id": "a16bafc0",
   "metadata": {},
   "outputs": [],
   "source": [
    "class EnergyBalanceModel:\n",
    "    \n",
    "    def __init__(self, **kwargs):\n",
    "        self.ocean_heat_capacity = kwargs.get('ocean_heat_capacity', np.array([5, 20, 100]))\n",
    "        self.ocean_heat_transfer = kwargs.get('ocean_heat_transfer', np.array([1, 2, 1]))\n",
    "        self.deep_ocean_efficacy = kwargs.get('deep_ocean_efficacy', 1)\n",
    "        self.forcing_4co2 = kwargs.get('forcing_4co2', 8)\n",
    "        self.stochastic_run = kwargs.get('stochastic_run', False)\n",
    "        self.sigma_eta = kwargs.get('sigma_eta', 0.5)\n",
    "        self.sigma_xi = kwargs.get('sigma_xi', 0.5)\n",
    "        self.gamma_autocorrelation = kwargs.get('gamma_autocorrelation', 2)\n",
    "        self.seed = kwargs.get('seed', None)\n",
    "\n",
    "    def _eb_matrix(self):\n",
    "        # Define the matrix of differential equations\n",
    "        # Cummins et al. (2020); Leach et al. (2021)\n",
    "        eb_matrix = np.array(\n",
    "            [\n",
    "                [\n",
    "                    -(self.ocean_heat_transfer[0]+self.ocean_heat_transfer[1])/self.ocean_heat_capacity[0],\n",
    "                    self.ocean_heat_transfer[1]/self.ocean_heat_capacity[0], \n",
    "                    0\n",
    "                ],\n",
    "                [\n",
    "                    self.ocean_heat_transfer[1]/self.ocean_heat_capacity[1],\n",
    "                    -(self.ocean_heat_transfer[1]+self.deep_ocean_efficacy*self.ocean_heat_transfer[2])/self.ocean_heat_capacity[1],\n",
    "                    self.deep_ocean_efficacy*self.ocean_heat_transfer[2]/self.ocean_heat_capacity[1]\n",
    "                ],\n",
    "                [\n",
    "                    0, \n",
    "                    self.ocean_heat_transfer[2]/self.ocean_heat_capacity[2],\n",
    "                    -self.ocean_heat_transfer[2]/self.ocean_heat_capacity[2]\n",
    "                ]\n",
    "            ]\n",
    "        )\n",
    "        return(eb_matrix)\n",
    "    \n",
    "        \n",
    "    def impulse_response(self):\n",
    "        eb_matrix = self._eb_matrix()\n",
    "\n",
    "        # calculate the eigenvectors and eigenvalues, these are the timescales of responses\n",
    "        eb_matrix_eigenvalues, eb_matrix_eigenvectors = scipy.linalg.eig(eb_matrix)\n",
    "        self.timescales = -1/(np.real(eb_matrix_eigenvalues))\n",
    "        self.response_coefficients = self.timescales * (eb_matrix_eigenvectors[0,:] * scipy.linalg.inv(eb_matrix_eigenvectors)[:,0]) / self.ocean_heat_capacity[0]\n",
    "\n",
    "        \n",
    "    def emergent_parameters(self):\n",
    "        # requires impulse response step\n",
    "        if not hasattr(self, 'timescales'):\n",
    "            self.impulse_response()\n",
    "        self.ecs = self.forcing_4co2 * forcing_2co2_4co2_ratio * np.sum(self.response_coefficients)\n",
    "        self.tcr = self.forcing_4co2 * forcing_2co2_4co2_ratio * np.sum(\n",
    "            self.response_coefficients*(\n",
    "                1 - self.timescales/DOUBLING_TIME_1PCT * (\n",
    "                    1 - np.exp(-DOUBLING_TIME_1PCT/self.timescales)\n",
    "                )\n",
    "            )\n",
    "        )\n",
    "    \n",
    "    def add_forcing(self, forcing, time):\n",
    "        self.forcing = forcing\n",
    "        self.time = time\n",
    "    \n",
    "    def run(self):\n",
    "        # eventually, we'll need a separate case for when forcing is not known in advance, or where there's\n",
    "        # temperature feedbacks on the forcing\n",
    "        # this is a key difference between a simple EBM and FaIR!\n",
    "\n",
    "        # internal variables\n",
    "        nmatrix = NBOX + self.stochastic_run\n",
    "        n_timesteps = len(self.time)\n",
    "        \n",
    "        # Define the forcing vector\n",
    "        forcing_vector = np.array([1/self.ocean_heat_capacity[0], 0, 0])\n",
    "    \n",
    "        # Prepend eb_matrix with stochastic terms if this is a stochastic run: Cummins et al. (2020) eqs. 13 and 14\n",
    "        eb_matrix = self._eb_matrix()\n",
    "        if self.stochastic_run:\n",
    "            eb_matrix = np.insert(eb_matrix, 0, np.zeros(NBOX), axis=0)\n",
    "            prepend_col = np.zeros(nmatrix)\n",
    "            prepend_col[0] = -self.gamma_autocorrelation\n",
    "            prepend_col[1] = 1/self.ocean_heat_capacity[0]\n",
    "            eb_matrix = np.insert(eb_matrix, 0, prepend_col, axis=1)\n",
    "            forcing_vector = np.zeros(nmatrix)\n",
    "            forcing_vector[0] = self.gamma_autocorrelation\n",
    "    \n",
    "        # Calculate the matrix exponential\n",
    "        eb_matrix_d = scipy.linalg.expm(eb_matrix)\n",
    "    \n",
    "        # Solve for temperature\n",
    "        forcing_vector_d = scipy.linalg.solve(eb_matrix, (eb_matrix_d - np.identity(nmatrix)) @ forcing_vector)\n",
    "    \n",
    "        # define stochastic matrix\n",
    "        stochastic_d = np.zeros((n_timesteps, nmatrix))\n",
    "    \n",
    "        # stochastic stuff\n",
    "        if self.stochastic_run:\n",
    "            q_mat = np.zeros((nmatrix, nmatrix))\n",
    "            q_mat[0,0] = self.sigma_eta**2\n",
    "            q_mat[1,1] = (self.sigma_xi/self.ocean_heat_capacity[0])**2\n",
    "            ## use Van Loan (1978) to compute the matrix exponential\n",
    "            h_mat = np.zeros((nmatrix*2, nmatrix*2))\n",
    "            h_mat[:nmatrix,:nmatrix] = -eb_matrix\n",
    "            h_mat[:nmatrix,nmatrix:] = q_mat\n",
    "            h_mat[nmatrix:,nmatrix:] = eb_matrix.T\n",
    "            g_mat = scipy.linalg.expm(h_mat)\n",
    "            q_mat_d = g_mat[nmatrix:,nmatrix:].T @ g_mat[:nmatrix,nmatrix:]\n",
    "            q_mat_d = q_mat_d.astype(np.float64)\n",
    "            stochastic_d = scipy.stats.multivariate_normal.rvs(\n",
    "                size=n_timesteps, mean=np.zeros(nmatrix), cov=q_mat_d, random_state=self.seed\n",
    "            )\n",
    "        solution = np.zeros((n_timesteps, nmatrix))\n",
    "        for i in range(1, n_timesteps):\n",
    "            solution[i, :] = eb_matrix_d @ solution[i-1, :] + forcing_vector_d * self.forcing[i-1] + stochastic_d[i-1, :]\n",
    "\n",
    "        if self.stochastic_run:\n",
    "            self.temperature = solution[:, 1:]\n",
    "            self.stochastic_forcing = solution[:, 0]\n",
    "        else:\n",
    "            self.temperature = solution\n",
    "        self.toa_imbalance = self.forcing - self.ocean_heat_transfer[0]*self.temperature[:,0] + (1 - self.deep_ocean_efficacy) * self.ocean_heat_transfer[2] * (self.temperature[:,1] - self.temperature[:,2])\n",
    "        self.ocean_heat_content_change = np.cumsum(self.toa_imbalance * np.concatenate(([0], np.diff(self.time)))) * EARTH_RADIUS**2 * 4 * np.pi * SECONDS_PER_YEAR"
   ]
  },
  {
   "cell_type": "code",
   "execution_count": null,
   "id": "5170dac0",
   "metadata": {},
   "outputs": [],
   "source": [
    "time = np.arange(1850, 2101)\n",
    "time.shape"
   ]
  },
  {
   "cell_type": "code",
   "execution_count": null,
   "id": "10e2eeb3",
   "metadata": {},
   "outputs": [],
   "source": [
    "df_forcing = pd.read_csv(\n",
    "    os.path.join(\"..\", \"data\", \"forcing\", \"RFMIP-ERF-tier2.csv\")\n",
    ")"
   ]
  },
  {
   "cell_type": "code",
   "execution_count": null,
   "id": "03983341",
   "metadata": {},
   "outputs": [],
   "source": [
    "ebm = EnergyBalanceModel(**params['GISS-E2-1-G']['r1i1p1f1'])"
   ]
  },
  {
   "cell_type": "code",
   "execution_count": null,
   "id": "1b1395d8",
   "metadata": {},
   "outputs": [],
   "source": [
    "ebm.add_forcing(forcing = df_forcing['GISS-E2-1-G TOT'].values, time=np.arange(1850, 2101))"
   ]
  },
  {
   "cell_type": "code",
   "execution_count": null,
   "id": "13a3a21f",
   "metadata": {},
   "outputs": [],
   "source": [
    "ebm.run()"
   ]
  },
  {
   "cell_type": "code",
   "execution_count": null,
   "id": "d702c0e1",
   "metadata": {},
   "outputs": [],
   "source": [
    "ebm.temperature"
   ]
  },
  {
   "cell_type": "code",
   "execution_count": null,
   "id": "af887d32",
   "metadata": {},
   "outputs": [],
   "source": [
    "pl.plot(ebm.time, ebm.temperature[:,0], label='surface / top ocean layer')\n",
    "pl.plot(ebm.time, ebm.temperature[:,1], label='second ocean layer')\n",
    "pl.plot(ebm.time, ebm.temperature[:,2], label='deep ocean layer')\n",
    "pl.ylabel('K relative to 1850')\n",
    "pl.title('GISS-E2-1-G SSP2-4.5 temperature change')\n",
    "pl.legend()"
   ]
  },
  {
   "cell_type": "code",
   "execution_count": null,
   "id": "f40c7849",
   "metadata": {},
   "outputs": [],
   "source": [
    "pl.plot(ebm.time, ebm.ocean_heat_content_change/10**21)\n",
    "pl.ylabel('ZJ relative to 1850')\n",
    "pl.title('GISS-E2-1-G SSP2-4.5 change in OHC')"
   ]
  },
  {
   "cell_type": "code",
   "execution_count": null,
   "id": "0cae155d",
   "metadata": {},
   "outputs": [],
   "source": [
    "# A very, very crude estimate of global thermosteric sea level rise\n",
    "# use Kuhlbrodt & Gregory 2012 multi-model-mean of 0.113 mm / ZJ thermal expansion coefficient\n",
    "\n",
    "pl.plot(ebm.time, ebm.ocean_heat_content_change/10**21*0.113)\n",
    "pl.ylabel('mm relative to 1850')\n",
    "pl.title('GISS-E2-1-G SSP2-4.5 thermosteric sea level rise')"
   ]
  },
  {
   "cell_type": "code",
   "execution_count": null,
   "id": "a769aea9",
   "metadata": {},
   "outputs": [],
   "source": [
    "pl.plot(ebm.time, ebm.toa_imbalance)\n",
    "pl.ylabel('W m$^{-2}$ relative to 1850')\n",
    "pl.title('GISS-E2-1-G SSP2-4.5 TOA energy imbalance')"
   ]
  },
  {
   "cell_type": "markdown",
   "id": "57299ca1",
   "metadata": {},
   "source": [
    "## Test with non-yearly timestep\n",
    "\n",
    "For this I'll use the IPCC AR6 forcing, but interpolated to monthly and monthly volcanic forcing substituted in.\n",
    "\n",
    "Use Donald Cummins' default parameters for the EBM."
   ]
  },
  {
   "cell_type": "code",
   "execution_count": null,
   "id": "5c7726b5",
   "metadata": {},
   "outputs": [],
   "source": [
    "df_volcanic = pd.read_csv(\n",
    "    os.path.join(\"..\", \"data\", \"forcing\", \"volcanic_sAOD_monthly_175001-201912.csv\"),\n",
    "    index_col=0\n",
    ")\n",
    "df_volcanic"
   ]
  },
  {
   "cell_type": "code",
   "execution_count": null,
   "id": "3e5f777b",
   "metadata": {},
   "outputs": [],
   "source": [
    "# see https://github.com/chrisroadmap/ar6/blob/main/notebooks/040_chapter2_volcanic_erf.ipynb\n",
    "df_volcanic['forcing'] = df_volcanic['stratospheric_AOD'] * (-20) + 0.2582047762183514\n",
    "pl.plot(df_volcanic['forcing'])"
   ]
  },
  {
   "cell_type": "code",
   "execution_count": null,
   "id": "a458b57d",
   "metadata": {},
   "outputs": [],
   "source": [
    "df_solar_anthro = pd.read_csv(\n",
    "    os.path.join(\"..\", \"data\", \"forcing\", \"AR6_ERF_1750-2019_solar_anthro.csv\"),\n",
    "    index_col=0\n",
    ")\n",
    "df_solar_anthro"
   ]
  },
  {
   "cell_type": "code",
   "execution_count": null,
   "id": "45c672d6",
   "metadata": {},
   "outputs": [],
   "source": [
    "f = interp1d(np.arange(1750.5, 2020), df_solar_anthro['solar'], fill_value='extrapolate')\n",
    "solar = f(np.arange(1750+1/24, 2020, 1/12))\n",
    "f = interp1d(np.arange(1750.5, 2020), df_solar_anthro['total_anthropogenic'], fill_value='extrapolate')\n",
    "anthro = f(np.arange(1750+1/24, 2020, 1/12))\n",
    "ar6_forcing_monthly = solar + anthro + df_volcanic['forcing'].values\n",
    "pl.plot(np.arange(1750+1/24, 2020, 1/12), ar6_forcing_monthly)"
   ]
  },
  {
   "cell_type": "code",
   "execution_count": null,
   "id": "59aacbff",
   "metadata": {},
   "outputs": [],
   "source": [
    "# run\n",
    "ebm = EnergyBalanceModel()\n",
    "ebm.add_forcing(forcing=ar6_forcing_monthly, time=np.arange(1750+1/24, 2020, 1/12))\n",
    "ebm.run()"
   ]
  },
  {
   "cell_type": "code",
   "execution_count": null,
   "id": "10787195",
   "metadata": {},
   "outputs": [],
   "source": [
    "pl.plot(ebm.time, ebm.temperature[:,0], label='surface / top ocean layer')\n",
    "pl.plot(ebm.time, ebm.temperature[:,1], label='second ocean layer')\n",
    "pl.plot(ebm.time, ebm.temperature[:,2], label='deep ocean layer')\n",
    "pl.ylabel('K relative to 1750')\n",
    "pl.title('Forcing-driven historical temperature change')\n",
    "pl.legend()"
   ]
  },
  {
   "cell_type": "code",
   "execution_count": null,
   "id": "ca364458",
   "metadata": {},
   "outputs": [],
   "source": [
    "pl.plot(ebm.time, ebm.ocean_heat_content_change/10**21)\n",
    "pl.ylabel('ZJ relative to 1750')\n",
    "pl.title('Forcing-driven change in OHC')"
   ]
  },
  {
   "cell_type": "code",
   "execution_count": null,
   "id": "b025cb7a",
   "metadata": {},
   "outputs": [],
   "source": [
    "# A very, very crude estimate of global thermosteric sea level rise\n",
    "# use Kuhlbrodt & Gregory 2012 multi-model-mean of 0.113 mm / ZJ thermal expansion coefficient\n",
    "\n",
    "pl.plot(ebm.time, ebm.ocean_heat_content_change/10**21*0.113)\n",
    "pl.ylabel('mm relative to 1750')\n",
    "pl.title('Forcing-driven thermosteric sea level rise')"
   ]
  },
  {
   "cell_type": "code",
   "execution_count": null,
   "id": "de9a1c50",
   "metadata": {},
   "outputs": [],
   "source": [
    "pl.plot(ebm.time, ebm.toa_imbalance)\n",
    "pl.ylabel('W m$^{-2}$ relative to 1850')\n",
    "pl.title('Forcing-driven TOA energy imbalance')"
   ]
  },
  {
   "cell_type": "markdown",
   "id": "8a581cd4",
   "metadata": {},
   "source": [
    "## Run RFMIP with their tuned scenarios"
   ]
  },
  {
   "cell_type": "code",
   "execution_count": null,
   "id": "1fd6a576",
   "metadata": {},
   "outputs": [],
   "source": [
    "results = {}\n",
    "rfmip_forcing = {}\n",
    "models = ['CanESM5', 'CNRM-CM6-1', 'GISS-E2-1-G', 'HadGEM3-GC31-LL', 'MIROC6']\n",
    "runs = {}\n",
    "for model in models:\n",
    "    runs[model] = 'r1i1p1f1'\n",
    "# exceptions\n",
    "runs['CanESM5'] = 'r1i1p2f1'\n",
    "runs['CNRM-CM6-1'] = 'r1i1p1f2'\n",
    "runs['HadGEM3-GC31-LL'] = 'r1i1p1f3'\n",
    "# no NorESM2 as we can't find a convergent three layer tuning... yet\n",
    "# GFDL-CM4 also not in Zeb's data\n",
    "# and no IPSL! I'm going to have to synda this"
   ]
  },
  {
   "cell_type": "code",
   "execution_count": null,
   "id": "65ea9701",
   "metadata": {},
   "outputs": [],
   "source": [
    "for model in models:\n",
    "    rfmip_forcing[model] = df_forcing['%s TOT' % model].values\n",
    "    ebm = EnergyBalanceModel(**params[model][runs[model]])\n",
    "    ebm.emergent_parameters()\n",
    "    ebm.add_forcing(forcing = rfmip_forcing[model], time=np.arange(1850, 2101))\n",
    "    ebm.run()\n",
    "    \n",
    "    # TODO: method to easily save out results to an object or dict. Glen Harris's version had a nice Results class for this\n",
    "    results[model] = ebm.__dict__"
   ]
  },
  {
   "cell_type": "code",
   "execution_count": null,
   "id": "8e029d78",
   "metadata": {},
   "outputs": [],
   "source": [
    "# this is what the combined input/output dict looks like\n",
    "results[model]"
   ]
  },
  {
   "cell_type": "code",
   "execution_count": null,
   "id": "ce7eab4b",
   "metadata": {},
   "outputs": [],
   "source": [
    "for model in models:\n",
    "    pl.plot(np.arange(1850, 2101), results[model]['temperature'][:,0], label=model)\n",
    "pl.legend()"
   ]
  },
  {
   "cell_type": "code",
   "execution_count": null,
   "id": "6fe4d30c",
   "metadata": {},
   "outputs": [],
   "source": [
    "for model in models:\n",
    "    print(model, results[model]['ecs'], results[model]['tcr'])"
   ]
  },
  {
   "cell_type": "markdown",
   "id": "c47310b4",
   "metadata": {},
   "source": [
    "### Compare to each model's CMIP6 ScenarioMIP SSP2-4.5"
   ]
  },
  {
   "cell_type": "code",
   "execution_count": null,
   "id": "99310f0a",
   "metadata": {},
   "outputs": [],
   "source": [
    "df = pd.read_csv(os.path.join(\"..\", \"data\", \"netcdf-scm\", \"ssp245.csv\"))\n",
    "df\n",
    "# I only want certain i, p, f combinations of some models\n",
    "filters = {\n",
    "    'CanESM5': 'i1p2f1',\n",
    "    'CNRM-CM6-1': 'i1p1f2',\n",
    "    'GISS-E2-1-G': 'i1p1f2',\n",
    "    'HadGEM3-GC31-LL': 'i1p1f3',\n",
    "    'MIROC6': 'i1p1f1'   \n",
    "}\n",
    "\n",
    "cmip6 = {}\n",
    "\n",
    "for model in models:\n",
    "    condition = (df['climate_model']==model) & df['member_id'].str.contains(filters[model]) & (df['variable']=='tas')\n",
    "    cmip6[model] = {}\n",
    "    cmip6[model]['tas'] = df.loc[condition].values[:,9:]\n",
    "    condition = (df['climate_model']==model) & df['member_id'].str.contains(filters[model]) & (df['variable']=='rndt')\n",
    "    cmip6[model]['rndt'] = df.loc[condition].values[:,9:]"
   ]
  },
  {
   "cell_type": "code",
   "execution_count": null,
   "id": "cd4a81d2",
   "metadata": {},
   "outputs": [],
   "source": [
    "fig, ax = pl.subplots(2,3, figsize=(16, 9))\n",
    "for i, model in enumerate(models):\n",
    "    ax[i%2,i//2].plot(np.arange(1850, 2101), results[model]['temperature'][:,0], color='k', label='Emulation')\n",
    "    #ax[0,0].fill_between(np.arange(1850, 2101), np.min(cmip6[model]['tas'], axis=0), np.max(cmip6[model]['tas'], axis=0), color='r', alpha=0.3)\n",
    "    ax[i%2,i//2].plot(np.arange(1850, 2101), cmip6[model]['tas'].mean(axis=0), color='r', label='CMIP6 (single-model ensemble mean)')\n",
    "    ax[i%2,i//2].set_title(model)\n",
    "ax[0,0].legend()"
   ]
  },
  {
   "cell_type": "code",
   "execution_count": null,
   "id": "bcb98ec9",
   "metadata": {},
   "outputs": [],
   "source": [
    "# I want to see what an ensemble looks like!\n",
    "n_ens = 100\n",
    "\n",
    "ens = {}\n",
    "for im, model in tqdm(enumerate(models)):\n",
    "    ens[model] = {}\n",
    "    for i in tqdm(range(n_ens), leave=True):\n",
    "        params[model]['seed'] = im*1000+i\n",
    "        ebm = EnergyBalanceModel(stochastic_run=True, **params[model][runs[model]])\n",
    "        ebm.add_forcing(forcing = rfmip_forcing[model], time=np.arange(1850, 2101))\n",
    "        ebm.run()\n",
    "    \n",
    "        # TODO: method to easily save out results to an object or dict. Glen Harris's version had a nice Results class for this\n",
    "        ens[model][i] = ebm.__dict__"
   ]
  },
  {
   "cell_type": "code",
   "execution_count": null,
   "id": "44d50ed7",
   "metadata": {},
   "outputs": [],
   "source": [
    "fig, ax = pl.subplots(2,4, figsize=(16,9))\n",
    "for im, model in enumerate(models):\n",
    "    for i in range(n_ens):\n",
    "        ax[im//4,im%4].plot(np.arange(1850, 2101), ens[model][i]['temperature'][:,0], color='k', alpha=0.2)\n",
    "    #for run in branch_points['historical'][model]:\n",
    "    ax[im//4,im%4].plot(np.arange(1850, 2101), cmip6[model]['tas'].T, color='r', alpha=0.5)\n",
    "    ax[im//4,im%4].set_xlim(1850,2100)\n",
    "    ax[im//4,im%4].set_ylim(-1,6)\n",
    "    ax[im//4,im%4].grid()\n",
    "    ax[im//4,im%4].set_title(model)"
   ]
  },
  {
   "cell_type": "code",
   "execution_count": null,
   "id": "bf84710d",
   "metadata": {},
   "outputs": [],
   "source": [
    "fig, ax = pl.subplots(2,4, figsize=(16,9))\n",
    "for im, model in enumerate(models):\n",
    "    for i in range(n_ens):\n",
    "        ax[im//4,im%4].plot(np.arange(1850, 2101), ens[model][i]['toa_imbalance'], color='k', alpha=0.2)\n",
    "    ax[im//4,im%4].plot(np.arange(1850, 2101), cmip6[model]['rndt'].T, color='r', alpha=0.5)\n",
    "    ax[im//4,im%4].set_xlim(1850,2100)\n",
    "    ax[im//4,im%4].set_ylim(-2,3)\n",
    "    ax[im//4,im%4].grid()\n",
    "    ax[im//4,im%4].set_title(model)"
   ]
  },
  {
   "cell_type": "code",
   "execution_count": null,
   "id": "d87bb29f",
   "metadata": {},
   "outputs": [],
   "source": [
    "fig, ax = pl.subplots(2,4, figsize=(16,9))\n",
    "for im, model in enumerate(models):\n",
    "    for i in range(n_ens):\n",
    "        ax[im//4,im%4].plot(np.arange(1850, 2101), ens[model][i]['ocean_heat_content_change'], color='k', alpha=0.2)\n",
    "    ax[im//4,im%4].plot(np.arange(1850, 2101), np.cumsum(cmip6[model]['rndt'].T, axis=0) * EARTH_RADIUS**2 * 4 * np.pi * SECONDS_PER_YEAR, color='r', alpha=0.5)\n",
    "    ax[im//4,im%4].set_xlim(1850,2100)\n",
    "    ax[im//4,im%4].set_ylim(-5e23, 3.5e24)\n",
    "    ax[im//4,im%4].grid()\n",
    "    ax[im//4,im%4].set_title(model)"
   ]
  },
  {
   "cell_type": "code",
   "execution_count": null,
   "id": "6c9bb54f",
   "metadata": {},
   "outputs": [],
   "source": []
  }
 ],
 "metadata": {
  "kernelspec": {
   "display_name": "Python 3 (ipykernel)",
   "language": "python",
   "name": "python3"
  },
  "language_info": {
   "codemirror_mode": {
    "name": "ipython",
    "version": 3
   },
   "file_extension": ".py",
   "mimetype": "text/x-python",
   "name": "python",
   "nbconvert_exporter": "python",
   "pygments_lexer": "ipython3",
   "version": "3.7.10"
  }
 },
 "nbformat": 4,
 "nbformat_minor": 5
}
