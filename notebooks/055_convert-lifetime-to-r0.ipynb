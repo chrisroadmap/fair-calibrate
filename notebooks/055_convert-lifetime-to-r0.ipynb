{
 "cells": [
  {
   "cell_type": "markdown",
   "id": "7b927c6f",
   "metadata": {},
   "source": [
    "# Convert greenhouse gas atmospheric lifetime to time-integrated airborne fraction\n",
    "\n",
    "The generalised impulse-response formulation of FaIR takes four parameters:\n",
    "\n",
    "- iirf_0: pre-industrial time-integrated airborne fraction\n",
    "- iirf_cumulative: changes in time-integrated airborne fraction with cumulative emissions\n",
    "- iirf_temperature: changes in time-integrated airborne fraction with warming\n",
    "- iirf_airborne: changes in time-integrated airborne fraction with atmospheric airborne fraction\n",
    "\n",
    "For gases other than CO2 and CH4, we do not implement any feedbacks, thus only iirf_0 is important. It has a functional relationship to the greenhouse gas atmospheric lifetime.\n",
    "\n",
    "**TODO**: the impact of BDC in a warming climate will actually speed up oxidation of gases where a stratospheric loss pathway is important"
   ]
  },
  {
   "cell_type": "code",
   "execution_count": null,
   "id": "921172b6",
   "metadata": {},
   "outputs": [],
   "source": [
    "import numpy as np\n",
    "\n",
    "from fair21.gas_cycle.tools import lifetime_to_iirf_0\n",
    "from fair21.defaults.gases import lifetime\n",
    "from fair21.defaults import gas_list_excl_co2_ch4"
   ]
  },
  {
   "cell_type": "markdown",
   "id": "6df39011",
   "metadata": {},
   "source": [
    "## Example for methane\n",
    "\n",
    "We see that $r_0 \\approx \\tau$ for short-lived gases"
   ]
  },
  {
   "cell_type": "code",
   "execution_count": null,
   "id": "c19b1f51",
   "metadata": {},
   "outputs": [],
   "source": [
    "lifetime_to_iirf_0(8.25)"
   ]
  },
  {
   "cell_type": "markdown",
   "id": "16295d94",
   "metadata": {},
   "source": [
    "## All gases in database"
   ]
  },
  {
   "cell_type": "code",
   "execution_count": null,
   "id": "fe6401ca",
   "metadata": {},
   "outputs": [],
   "source": [
    "for gas in gas_list_excl_co2_ch4:\n",
    "    print(gas, lifetime_to_iirf_0(lifetime[gas]))"
   ]
  },
  {
   "cell_type": "code",
   "execution_count": null,
   "id": "1c253c69",
   "metadata": {},
   "outputs": [],
   "source": []
  }
 ],
 "metadata": {
  "kernelspec": {
   "display_name": "Python 3 (ipykernel)",
   "language": "python",
   "name": "python3"
  },
  "language_info": {
   "codemirror_mode": {
    "name": "ipython",
    "version": 3
   },
   "file_extension": ".py",
   "mimetype": "text/x-python",
   "name": "python",
   "nbconvert_exporter": "python",
   "pygments_lexer": "ipython3",
   "version": "3.7.12"
  }
 },
 "nbformat": 4,
 "nbformat_minor": 5
}
