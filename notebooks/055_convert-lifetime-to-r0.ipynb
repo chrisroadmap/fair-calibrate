{
 "cells": [
  {
   "cell_type": "markdown",
   "id": "6119e270",
   "metadata": {},
   "source": [
    "# Convert greenhouse gas atmospheric lifetime to time-integrated airborne fraction\n",
    "\n",
    "The generalised impulse-response formulation of FaIR takes four parameters:\n",
    "\n",
    "- iirf_0: pre-industrial time-integrated airborne fraction\n",
    "- iirf_cumulative: changes in time-integrated airborne fraction with cumulative emissions\n",
    "- iirf_temperature: changes in time-integrated airborne fraction with warming\n",
    "- iirf_airborne: changes in time-integrated airborne fraction with atmospheric airborne fraction\n",
    "\n",
    "For gases other than CO2 and CH4, we do not implement any feedbacks, thus only iirf_0 is important. It has a functional relationship to the greenhouse gas atmospheric lifetime."
   ]
  },
  {
   "cell_type": "code",
   "execution_count": null,
   "id": "4f113530",
   "metadata": {},
   "outputs": [],
   "source": [
    "import numpy as np\n",
    "\n",
    "from fair21.defaults.gases import lifetime, iirf_horizon\n",
    "from fair21.defaults import gas_list_excl_co2_ch4"
   ]
  },
  {
   "cell_type": "markdown",
   "id": "9fc3919f",
   "metadata": {},
   "source": [
    "iirf_0 is the 100-year time-integrated airborne fraction to a pulse emission. We know that the gas's atmospheric airborne fraction $a(t)$ for a gas with lifetime $\\tau$ after time $t$ is therefore\n",
    "\n",
    "$a(t) = \\exp(-t/tau)$\n",
    "\n",
    "and integrating this for 100 years after a pulse emissions gives us:\n",
    "\n",
    "$r_0(t) = \\int_0^{100} \\exp(-t/\\tau) dt = \\tau (1 - \\exp (-100 / \\tau))$"
   ]
  },
  {
   "cell_type": "code",
   "execution_count": null,
   "id": "cfbb85f6",
   "metadata": {},
   "outputs": [],
   "source": [
    "def lifetime_to_iirf_0(lifetime, iirf_horizon=100):\n",
    "    \"\"\"Converts greenhouse gas atmospheric lifetime to time-integrated airborne fraction.\n",
    "    \n",
    "    Parameters\n",
    "    ----------\n",
    "    lifetime : float\n",
    "        greenhouse gas atmospheric lifetime (yr)\n",
    "    iirf_horizon : float, optional\n",
    "        time horizon for time-integrated airborne fraction.\n",
    "        \n",
    "    Returns\n",
    "    -------\n",
    "    iirf_0 : float\n",
    "        time-integrated airborne fraction\n",
    "    \"\"\"\n",
    "    \n",
    "    return (lifetime * (1 - np.exp(-iirf_horizon / lifetime)))"
   ]
  },
  {
   "cell_type": "markdown",
   "id": "7e4ca96e",
   "metadata": {},
   "source": [
    "## Example for methane\n",
    "\n",
    "We see that $r_0 \\approx \\tau$ for short-lived gases"
   ]
  },
  {
   "cell_type": "code",
   "execution_count": null,
   "id": "f97f3ed1",
   "metadata": {},
   "outputs": [],
   "source": [
    "lifetime_to_iirf_0(8.25)"
   ]
  },
  {
   "cell_type": "markdown",
   "id": "94317e62",
   "metadata": {},
   "source": [
    "## All gases in database"
   ]
  },
  {
   "cell_type": "code",
   "execution_count": null,
   "id": "876537e0",
   "metadata": {},
   "outputs": [],
   "source": [
    "for gas in gas_list_excl_co2_ch4:\n",
    "    print(gas, lifetime_to_iirf_0(lifetime[gas]))"
   ]
  },
  {
   "cell_type": "code",
   "execution_count": null,
   "id": "226d8847",
   "metadata": {},
   "outputs": [],
   "source": [
    "lifetime['CFC-12']"
   ]
  },
  {
   "cell_type": "code",
   "execution_count": null,
   "id": "888c9b7e",
   "metadata": {},
   "outputs": [],
   "source": []
  }
 ],
 "metadata": {
  "kernelspec": {
   "display_name": "Python 3 (ipykernel)",
   "language": "python",
   "name": "python3"
  },
  "language_info": {
   "codemirror_mode": {
    "name": "ipython",
    "version": 3
   },
   "file_extension": ".py",
   "mimetype": "text/x-python",
   "name": "python",
   "nbconvert_exporter": "python",
   "pygments_lexer": "ipython3",
   "version": "3.7.10"
  }
 },
 "nbformat": 4,
 "nbformat_minor": 5
}
