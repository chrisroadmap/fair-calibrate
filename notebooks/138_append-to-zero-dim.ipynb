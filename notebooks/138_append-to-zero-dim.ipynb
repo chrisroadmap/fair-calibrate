{
 "cells": [
  {
   "cell_type": "markdown",
   "id": "89fdacb0",
   "metadata": {},
   "source": [
    "# Demonstration of appending to a zero-dimension in an array"
   ]
  },
  {
   "cell_type": "code",
   "execution_count": null,
   "id": "7211f12c",
   "metadata": {},
   "outputs": [],
   "source": [
    "import numpy as np"
   ]
  },
  {
   "cell_type": "code",
   "execution_count": null,
   "id": "aa1385f0",
   "metadata": {},
   "outputs": [],
   "source": [
    "erf = np.zeros((750, 0))"
   ]
  },
  {
   "cell_type": "code",
   "execution_count": null,
   "id": "6d3b802d",
   "metadata": {},
   "outputs": [],
   "source": [
    "erf"
   ]
  },
  {
   "cell_type": "code",
   "execution_count": null,
   "id": "f2b09d98",
   "metadata": {},
   "outputs": [],
   "source": [
    "erf = np.concatenate((erf, np.ones((750, 1))), axis=1)"
   ]
  },
  {
   "cell_type": "code",
   "execution_count": null,
   "id": "49be6a25",
   "metadata": {},
   "outputs": [],
   "source": [
    "erf.shape"
   ]
  },
  {
   "cell_type": "code",
   "execution_count": null,
   "id": "0db8ba59",
   "metadata": {},
   "outputs": [],
   "source": [
    "erf = np.concatenate((erf, 3*np.ones((750, 1))), axis=1)"
   ]
  },
  {
   "cell_type": "code",
   "execution_count": null,
   "id": "8d06ecd5",
   "metadata": {},
   "outputs": [],
   "source": [
    "erf.shape"
   ]
  },
  {
   "cell_type": "code",
   "execution_count": null,
   "id": "8141f9ff",
   "metadata": {},
   "outputs": [],
   "source": [
    "erf"
   ]
  },
  {
   "cell_type": "code",
   "execution_count": null,
   "id": "f66a847d",
   "metadata": {},
   "outputs": [],
   "source": []
  }
 ],
 "metadata": {
  "kernelspec": {
   "display_name": "Python 3 (ipykernel)",
   "language": "python",
   "name": "python3"
  },
  "language_info": {
   "codemirror_mode": {
    "name": "ipython",
    "version": 3
   },
   "file_extension": ".py",
   "mimetype": "text/x-python",
   "name": "python",
   "nbconvert_exporter": "python",
   "pygments_lexer": "ipython3",
   "version": "3.7.12"
  }
 },
 "nbformat": 4,
 "nbformat_minor": 5
}
