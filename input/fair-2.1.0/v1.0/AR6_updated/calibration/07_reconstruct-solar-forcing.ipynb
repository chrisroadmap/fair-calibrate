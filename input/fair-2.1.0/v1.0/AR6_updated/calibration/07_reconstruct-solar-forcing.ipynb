{
 "cells": [
  {
   "cell_type": "markdown",
   "id": "86e43827",
   "metadata": {},
   "source": [
    "# Method of AR6, but want forcing to act at the year end, not midyear\n",
    "\n",
    "e.g. the solar forcing in 1750/01/01 is the action of the forcing over the 1749 calendar year. Here we get point estimates for time bounds 1750 to 2300."
   ]
  },
  {
   "cell_type": "markdown",
   "id": "8722fac1",
   "metadata": {},
   "source": [
    "Based on https://github.com/chrisroadmap/ar6 notebook 50"
   ]
  },
  {
   "cell_type": "code",
   "execution_count": null,
   "id": "a232e675",
   "metadata": {},
   "outputs": [],
   "source": [
    "import numpy as np\n",
    "from netCDF4 import Dataset\n",
    "import matplotlib.pyplot as pl\n",
    "import pandas as pd\n",
    "import pooch"
   ]
  },
  {
   "cell_type": "code",
   "execution_count": null,
   "id": "bf1a3624",
   "metadata": {},
   "outputs": [],
   "source": [
    "ssi14c = pooch.retrieve(\n",
    "    'https://sharebox.lsce.ipsl.fr/index.php/s/LpiCUCkSmx0P6bb/download?path=%2F&files=SSI_14C_cycle_yearly_cmip_v20160613_fc.nc',\n",
    "    known_hash=\"7a973502cdcfa492f2006bd1283827f8b0ef632efd7cf32a2d67ec350bfa2da1\"\n",
    ")"
   ]
  },
  {
   "cell_type": "code",
   "execution_count": null,
   "id": "348de66f",
   "metadata": {},
   "outputs": [],
   "source": [
    "cmip6 = pooch.retrieve(\n",
    "    'http://aims3.llnl.gov/thredds/fileServer/user_pub_work/input4MIPs/CMIP6/CMIP/SOLARIS-HEPPA/SOLARIS-HEPPA-3-2/atmos/mon/multiple/gm/v20170103/solarforcing-ref-mon_input4MIPs_solar_CMIP_SOLARIS-HEPPA-3-2_gn_185001-229912.nc',\n",
    "    known_hash=None\n",
    ")"
   ]
  },
  {
   "cell_type": "code",
   "execution_count": null,
   "id": "aa50cd78",
   "metadata": {},
   "outputs": [],
   "source": [
    "cmip6"
   ]
  },
  {
   "cell_type": "code",
   "execution_count": null,
   "id": "19508db3",
   "metadata": {},
   "outputs": [],
   "source": [
    "solar_df = pd.DataFrame(index=np.arange(1750,2300))\n",
    "solar_df.index.name = 'Year'"
   ]
  },
  {
   "cell_type": "code",
   "execution_count": null,
   "id": "75a96b5d",
   "metadata": {},
   "outputs": [],
   "source": [
    "nc = Dataset(ssi14c)\n",
    "wl_bin = nc.variables['wavelength_bin'][:]\n",
    "time   = nc.variables['time'][:]\n",
    "ssi    = nc.variables['ssi'][:]\n",
    "nc.close()"
   ]
  },
  {
   "cell_type": "code",
   "execution_count": null,
   "id": "cfe08014",
   "metadata": {},
   "outputs": [],
   "source": [
    "time"
   ]
  },
  {
   "cell_type": "code",
   "execution_count": null,
   "id": "9e4a8272",
   "metadata": {},
   "outputs": [],
   "source": [
    "nc_future = Dataset(cmip6)\n",
    "tsi_future = nc_future.variables['tsi'][:]\n",
    "nc_future.close()"
   ]
  },
  {
   "cell_type": "code",
   "execution_count": null,
   "id": "04472bf2",
   "metadata": {},
   "outputs": [],
   "source": [
    "len(tsi_future)"
   ]
  },
  {
   "cell_type": "code",
   "execution_count": null,
   "id": "e12deada",
   "metadata": {},
   "outputs": [],
   "source": [
    "years_future = np.arange(1850, 2300)\n",
    "isleap = np.zeros(450)\n",
    "isleap[np.logical_and(years_future%4==0, np.logical_or(years_future%100!=0, years_future%400==0))] = 1"
   ]
  },
  {
   "cell_type": "code",
   "execution_count": null,
   "id": "b8dce5d8",
   "metadata": {},
   "outputs": [],
   "source": [
    "isleap[:10]"
   ]
  },
  {
   "cell_type": "code",
   "execution_count": null,
   "id": "1566afa3",
   "metadata": {},
   "outputs": [],
   "source": [
    "pl.plot(isleap)"
   ]
  },
  {
   "cell_type": "code",
   "execution_count": null,
   "id": "02ce8a73",
   "metadata": {},
   "outputs": [],
   "source": [
    "time[8504:8605]"
   ]
  },
  {
   "cell_type": "code",
   "execution_count": null,
   "id": "69846631",
   "metadata": {},
   "outputs": [],
   "source": [
    "ssi[8504]"
   ]
  },
  {
   "cell_type": "code",
   "execution_count": null,
   "id": "67c96b02",
   "metadata": {},
   "outputs": [],
   "source": [
    "tsi = np.zeros((551))\n",
    "for i, idx in enumerate(range(8504, 8605)):\n",
    "    tsi[i] = np.sum(ssi[idx,:]*wl_bin)"
   ]
  },
  {
   "cell_type": "code",
   "execution_count": null,
   "id": "370199d7",
   "metadata": {},
   "outputs": [],
   "source": [
    "tsi[:101]"
   ]
  },
  {
   "cell_type": "code",
   "execution_count": null,
   "id": "874b1d46",
   "metadata": {},
   "outputs": [],
   "source": [
    "for i, year in enumerate(years_future):\n",
    "    weights = [31,28+isleap[i],31,30,31,30,31,31,30,31,30,31]\n",
    "    tsi[i+101] = np.average(tsi_future[i*12:(i+1)*12], weights=weights)"
   ]
  },
  {
   "cell_type": "code",
   "execution_count": null,
   "id": "b88c8671",
   "metadata": {},
   "outputs": [],
   "source": [
    "pl.plot(np.arange(1750, 2301), tsi)"
   ]
  },
  {
   "cell_type": "code",
   "execution_count": null,
   "id": "ac8c8369",
   "metadata": {},
   "outputs": [],
   "source": [
    "time[8499], np.sum(ssi[8499,:]*wl_bin)"
   ]
  },
  {
   "cell_type": "code",
   "execution_count": null,
   "id": "20a6b0a2",
   "metadata": {},
   "outputs": [],
   "source": [
    "time[8500], np.sum(ssi[8500,:]*wl_bin) # start of next cycle; exclude"
   ]
  },
  {
   "cell_type": "code",
   "execution_count": null,
   "id": "84120101",
   "metadata": {},
   "outputs": [],
   "source": [
    "tsi_baseline = np.sum(np.mean(ssi[1:8500,:], axis=0)*wl_bin)  # actually an error in AR6, we start from second cycle for some reason\n",
    "tsi_baseline"
   ]
  },
  {
   "cell_type": "code",
   "execution_count": null,
   "id": "8a74fa9f",
   "metadata": {},
   "outputs": [],
   "source": [
    "solar_erf_1750_2300 = (tsi-tsi_baseline) * 0.25 * 0.71 * 0.72"
   ]
  },
  {
   "cell_type": "code",
   "execution_count": null,
   "id": "22ade578",
   "metadata": {},
   "outputs": [],
   "source": [
    "df = pd.DataFrame(solar_erf_1750_2300, index=np.arange(1750,2301), columns=['erf'])\n",
    "df.index.name='year'\n",
    "df"
   ]
  },
  {
   "cell_type": "code",
   "execution_count": null,
   "id": "fe14e65b",
   "metadata": {},
   "outputs": [],
   "source": [
    "df.to_csv('../../data/forcing/solar_erf_timebounds.csv')"
   ]
  },
  {
   "cell_type": "code",
   "execution_count": null,
   "id": "05cde155",
   "metadata": {},
   "outputs": [],
   "source": []
  }
 ],
 "metadata": {
  "kernelspec": {
   "display_name": "Python 3 (ipykernel)",
   "language": "python",
   "name": "python3"
  },
  "language_info": {
   "codemirror_mode": {
    "name": "ipython",
    "version": 3
   },
   "file_extension": ".py",
   "mimetype": "text/x-python",
   "name": "python",
   "nbconvert_exporter": "python",
   "pygments_lexer": "ipython3",
   "version": "3.11.0"
  }
 },
 "nbformat": 4,
 "nbformat_minor": 5
}
