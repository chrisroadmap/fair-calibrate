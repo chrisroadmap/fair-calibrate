{
 "cells": [
  {
   "cell_type": "markdown",
   "id": "2f46afde",
   "metadata": {},
   "source": [
    "# Combine Haozhe's 4xCO2 netcdf data into one file"
   ]
  },
  {
   "cell_type": "code",
   "execution_count": null,
   "id": "79cc1fa6",
   "metadata": {},
   "outputs": [],
   "source": [
    "import pandas as pd\n",
    "import glob\n",
    "from pathlib import PurePath\n",
    "import os\n",
    "from netCDF4 import Dataset\n",
    "from dotenv import dotenv_values\n",
    "from fair import __version__"
   ]
  },
  {
   "cell_type": "code",
   "execution_count": null,
   "id": "29ae8f11",
   "metadata": {},
   "outputs": [],
   "source": [
    "cal_v = dotenv_values(\"../../.env\")['CALIBRATION_VERSION']\n",
    "fair_v = dotenv_values(\"../../.env\")['FAIR_VERSION']\n",
    "\n",
    "assert fair_v == __version__"
   ]
  },
  {
   "cell_type": "code",
   "execution_count": null,
   "id": "f544a120",
   "metadata": {},
   "outputs": [],
   "source": [
    "available_files = glob.glob('../../data/longrunmip/longrunmip_data/*.nc')"
   ]
  },
  {
   "cell_type": "code",
   "execution_count": null,
   "id": "4c338768",
   "metadata": {},
   "outputs": [],
   "source": [
    "lines = []\n",
    "maxlen = 0\n",
    "for file in available_files:\n",
    "    model = PurePath(file).parts[5].split('_')[2]\n",
    "    var = PurePath(file).parts[5].split('_')[0]\n",
    "    nc = Dataset(file)\n",
    "    data = nc.variables[f\"{var}_glbmean\"][:]\n",
    "    if len(data) > maxlen:\n",
    "        maxlen = len(data)\n",
    "    line = ['CMIP', model, 'r1i1p1f1', 'longrunmip', 'unspecified', 'World', 'abrupt-4xCO2', 'W m^-2', var]\n",
    "    line.extend(data)\n",
    "    lines.append(line)\n",
    "maxlen"
   ]
  },
  {
   "cell_type": "code",
   "execution_count": null,
   "id": "754c15ad",
   "metadata": {},
   "outputs": [],
   "source": [
    "df = pd.DataFrame(\n",
    "    lines, columns = (\n",
    "        ['activity_id', 'climate_model', 'member_id', 'mip_era', 'model', 'region', 'scenario', 'unit', 'variable'] +\n",
    "        [\"X%d\" % year for year in range(1, maxlen+1)]\n",
    "    )\n",
    ")\n",
    "#df.dropna(inplace=True)"
   ]
  },
  {
   "cell_type": "code",
   "execution_count": null,
   "id": "b78601e2",
   "metadata": {},
   "outputs": [],
   "source": [
    "os.makedirs(f'../../output/fair-{fair_v}/v{cal_v}/calibrations/', exist_ok=True)"
   ]
  },
  {
   "cell_type": "code",
   "execution_count": null,
   "id": "15c79135",
   "metadata": {},
   "outputs": [],
   "source": [
    "df.to_csv(f'../../output/fair-{fair_v}/v{cal_v}/calibrations/4xCO2_longrunmip.csv', index=False)"
   ]
  },
  {
   "cell_type": "code",
   "execution_count": null,
   "id": "1a40b1bd",
   "metadata": {},
   "outputs": [],
   "source": []
  }
 ],
 "metadata": {
  "kernelspec": {
   "display_name": "Python 3 (ipykernel)",
   "language": "python",
   "name": "python3"
  },
  "language_info": {
   "codemirror_mode": {
    "name": "ipython",
    "version": 3
   },
   "file_extension": ".py",
   "mimetype": "text/x-python",
   "name": "python",
   "nbconvert_exporter": "python",
   "pygments_lexer": "ipython3",
   "version": "3.10.6"
  }
 },
 "nbformat": 4,
 "nbformat_minor": 5
}
