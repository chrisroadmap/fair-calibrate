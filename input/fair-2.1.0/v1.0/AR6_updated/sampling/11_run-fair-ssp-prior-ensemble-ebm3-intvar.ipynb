{
 "cells": [
  {
   "cell_type": "markdown",
   "id": "d52269f2",
   "metadata": {},
   "source": [
    "# AR6 calibration of FaIR 2.1\n",
    "\n",
    "- use logsum aerosol indirect forcing relationship.\n",
    "- aerosol direct is from AR6.\n",
    "- three layer model for climate response.\n",
    "- include overlap of the major GHGs.\n",
    "- prognostic equation for land use related forcing (e.g. from FaIR 1.6).\n",
    "- ozone relationship from FaIR 1.6 used in AR6.\n",
    "- interactive methane lifetime\n",
    "- internal variability (here included)\n",
    "\n",
    "We have to do this slightly differently to the examples so far. 1.5 million ensemble members is going to take up too much memory, so we run in batches of 1000, initialising a new FaIR instance for each batch, and saving the output as we go."
   ]
  },
  {
   "cell_type": "markdown",
   "id": "f6efed3c",
   "metadata": {},
   "source": [
    "## Basic imports"
   ]
  },
  {
   "cell_type": "code",
   "execution_count": null,
   "id": "f0770b5c",
   "metadata": {},
   "outputs": [],
   "source": [
    "import os\n",
    "\n",
    "import numpy as np\n",
    "import pandas as pd\n",
    "import matplotlib.pyplot as pl\n",
    "import scipy.stats\n",
    "from tqdm.auto import tqdm\n",
    "import xarray as xr\n",
    "\n",
    "from fair import FAIR\n",
    "from fair.interface import fill, initialise\n",
    "from fair.io import read_properties\n",
    "from fair.forcing.ghg import meinshausen2020\n",
    "\n",
    "from dotenv import dotenv_values\n",
    "from fair import __version__\n",
    "\n",
    "import warnings # remove in v2.1.1"
   ]
  },
  {
   "cell_type": "code",
   "execution_count": null,
   "id": "2b4630f5",
   "metadata": {},
   "outputs": [],
   "source": [
    "cal_v = dotenv_values(\"../../.env\")[\"CALIBRATION_VERSION\"]\n",
    "samples = int(dotenv_values(\"../../.env\")[\"PRIOR_SAMPLES\"])\n",
    "batch_size = int(dotenv_values(\"../../.env\")[\"BATCH_SIZE\"])\n",
    "fair_v = dotenv_values(\"../../.env\")[\"FAIR_VERSION\"]\n",
    "\n",
    "assert fair_v == __version__"
   ]
  },
  {
   "cell_type": "markdown",
   "id": "7a498042",
   "metadata": {},
   "source": [
    "## Set up problem"
   ]
  },
  {
   "cell_type": "code",
   "execution_count": null,
   "id": "01c59b36",
   "metadata": {},
   "outputs": [],
   "source": [
    "erf_2co2 = meinshausen2020(\n",
    "    np.array([554.30, 731.41, 273.87]) * np.ones((1, 1, 1, 3)),\n",
    "    np.array([277.15, 731.41, 273.87]) * np.ones((1, 1, 1, 3)),\n",
    "    np.array((1.05, 0.86, 1.07)) * np.ones((1, 1, 1, 1)),\n",
    "    np.ones((1, 1, 1, 3)),\n",
    "    np.array([True, False, False]),\n",
    "    np.array([False, True, False]),\n",
    "    np.array([False, False, True]),\n",
    "    np.array([False, False, False])\n",
    ").squeeze()[0]\n",
    "erf_2co2"
   ]
  },
  {
   "cell_type": "code",
   "execution_count": null,
   "id": "a3272bf4",
   "metadata": {},
   "outputs": [],
   "source": [
    "scenarios = ['ssp245']"
   ]
  },
  {
   "cell_type": "code",
   "execution_count": null,
   "id": "842f3bde",
   "metadata": {},
   "outputs": [],
   "source": [
    "df_forc = pd.read_csv('../../data/forcing/table_A3.3_historical_ERF_1750-2019_best_estimate.csv')\n",
    "df_solar = pd.read_csv('../../data/forcing/solar_erf_timebounds.csv', index_col='year')\n",
    "df_volcanic = pd.read_csv('../../data/forcing/volcanic_ERF_monthly_-950001-201912.csv')"
   ]
  },
  {
   "cell_type": "code",
   "execution_count": null,
   "id": "c1acb9cc",
   "metadata": {},
   "outputs": [],
   "source": [
    "volcanic_forcing = np.zeros(352)\n",
    "for i, year in enumerate(np.arange(1750, 2021)):\n",
    "    volcanic_forcing[i] = np.mean(df_volcanic.loc[((year-1)<=df_volcanic['year'])&(df_volcanic['year']<year)].erf)\n",
    "volcanic_forcing[271:281] = np.linspace(1, 0, 10) * volcanic_forcing[270]"
   ]
  },
  {
   "cell_type": "code",
   "execution_count": null,
   "id": "844c5804",
   "metadata": {},
   "outputs": [],
   "source": [
    "solar_forcing = df_solar['erf'].loc[1750:2101].values"
   ]
  },
  {
   "cell_type": "code",
   "execution_count": null,
   "id": "d062adeb",
   "metadata": {},
   "outputs": [],
   "source": [
    "volcanic_forcing[245]"
   ]
  },
  {
   "cell_type": "code",
   "execution_count": null,
   "id": "e1b5ebd6",
   "metadata": {},
   "outputs": [],
   "source": [
    "pl.plot(volcanic_forcing)"
   ]
  },
  {
   "cell_type": "code",
   "execution_count": null,
   "id": "2fd1c083",
   "metadata": {},
   "outputs": [],
   "source": [
    "da_emissions = xr.load_dataarray(f'../../output/fair-{fair_v}/v{cal_v}/emissions/ssp_emissions_1750-2500.nc')"
   ]
  },
  {
   "cell_type": "code",
   "execution_count": null,
   "id": "71869920",
   "metadata": {},
   "outputs": [],
   "source": [
    "da_emissions"
   ]
  },
  {
   "cell_type": "code",
   "execution_count": null,
   "id": "3f116782",
   "metadata": {},
   "outputs": [],
   "source": [
    "species, properties = read_properties()"
   ]
  },
  {
   "cell_type": "markdown",
   "id": "c36acb10",
   "metadata": {},
   "source": [
    "## Load in pre-calculated prior parameter sets\n",
    "\n",
    "These should also be binaries really"
   ]
  },
  {
   "cell_type": "code",
   "execution_count": null,
   "id": "dfbd5e87",
   "metadata": {},
   "outputs": [],
   "source": [
    "df_cc=pd.read_csv(f'../../output/fair-{fair_v}/v{cal_v}/priors/carbon_cycle.csv')\n",
    "df_cr=pd.read_csv(f'../../output/fair-{fair_v}/v{cal_v}/priors/climate_response_ebm3.csv')\n",
    "df_aci=pd.read_csv(f'../../output/fair-{fair_v}/v{cal_v}/priors/aerosol_cloud.csv')\n",
    "df_ari=pd.read_csv(f'../../output/fair-{fair_v}/v{cal_v}/priors/aerosol_radiation.csv')\n",
    "df_ozone=pd.read_csv(f'../../output/fair-{fair_v}/v{cal_v}/priors/ozone.csv')\n",
    "df_scaling=pd.read_csv(f'../../output/fair-{fair_v}/v{cal_v}/priors/forcing_scaling.csv')\n",
    "df_1750co2=pd.read_csv(f'../../output/fair-{fair_v}/v{cal_v}/priors/co2_concentration_1750.csv')"
   ]
  },
  {
   "cell_type": "code",
   "execution_count": null,
   "id": "5950f483",
   "metadata": {},
   "outputs": [],
   "source": [
    "df_ari"
   ]
  },
  {
   "cell_type": "code",
   "execution_count": null,
   "id": "7c801962",
   "metadata": {},
   "outputs": [],
   "source": [
    "df_aci"
   ]
  },
  {
   "cell_type": "code",
   "execution_count": null,
   "id": "83decd37",
   "metadata": {},
   "outputs": [],
   "source": [
    "df_cc"
   ]
  },
  {
   "cell_type": "code",
   "execution_count": null,
   "id": "3094f4eb",
   "metadata": {},
   "outputs": [],
   "source": [
    "df_cr"
   ]
  },
  {
   "cell_type": "code",
   "execution_count": null,
   "id": "6cf24a7d",
   "metadata": {},
   "outputs": [],
   "source": [
    "df_scaling"
   ]
  },
  {
   "cell_type": "code",
   "execution_count": null,
   "id": "81da4b0f",
   "metadata": {},
   "outputs": [],
   "source": [
    "df_1750co2"
   ]
  },
  {
   "cell_type": "markdown",
   "id": "f0086598",
   "metadata": {},
   "source": [
    "## Generate 1.5 million ensemble members in batches of 1000"
   ]
  },
  {
   "cell_type": "code",
   "execution_count": null,
   "id": "1b4eb1e6",
   "metadata": {},
   "outputs": [],
   "source": [
    "seedgen = 1355763\n",
    "seedstep = 399\n",
    "\n",
    "trend_shape = np.ones(352)\n",
    "trend_shape[:271] = np.linspace(0, 1, 271)\n",
    "\n",
    "# for all except temperature, the full time series is not important so we can save a bit of space\n",
    "temp_out = np.ones((252, samples)) * np.nan\n",
    "ohc_out = np.ones((samples)) * np.nan\n",
    "fari_out = np.ones((samples)) * np.nan\n",
    "faci_out = np.ones((samples)) * np.nan\n",
    "co2_out = np.ones((samples)) * np.nan\n",
    "fo3_out = np.ones((samples)) * np.nan\n",
    "ecs = np.ones(samples) * np.nan\n",
    "tcr = np.ones(samples) * np.nan\n",
    "\n",
    "calibrated_f4co2_mean = df_cr['F_4xCO2'].mean()\n",
    "\n",
    "for ibatch, batch_start in tqdm(enumerate(range(0, samples, batch_size)), total=samples/batch_size):\n",
    "    batch_end = batch_start + batch_size\n",
    "    \n",
    "    f = FAIR(ch4_method='Thornhill2021')\n",
    "    f.define_time(1750, 2101, 1)\n",
    "    f.define_scenarios(scenarios)\n",
    "    f.define_configs(list(range(batch_start, batch_end)))\n",
    "    f.define_species(species, properties)\n",
    "    f.allocate()\n",
    "    \n",
    "    # emissions and forcing\n",
    "    #f.fill_from_rcmip()\n",
    "    da = da_emissions.loc[dict(config='unspecified', scenario='ssp245')][:351, ...]\n",
    "    fe = da.expand_dims(dim=['scenario', 'config'], axis=(1,2))\n",
    "    f.emissions = fe.drop('config') * np.ones((1,1,batch_size,1))\n",
    "    \n",
    "    fill(f.forcing, volcanic_forcing[:, None, None] * df_scaling.loc[batch_start:batch_end-1, 'Volcanic'].values.squeeze(), specie='Volcanic')\n",
    "    fill(f.forcing, \n",
    "         solar_forcing[:, None, None] * \n",
    "         df_scaling.loc[batch_start:batch_end-1, 'solar_amplitude'].values.squeeze() + \n",
    "         trend_shape[:, None, None] * df_scaling.loc[batch_start:batch_end-1, 'solar_trend'].values.squeeze(),\n",
    "         specie='Solar'\n",
    "    )\n",
    "    \n",
    "    # climate response\n",
    "    fill(f.climate_configs['ocean_heat_capacity'], df_cr.loc[batch_start:batch_end-1, 'c1':'c3'].values)\n",
    "    fill(f.climate_configs['ocean_heat_transfer'], df_cr.loc[batch_start:batch_end-1, 'kappa1':'kappa3'].values)\n",
    "    fill(f.climate_configs['deep_ocean_efficacy'], df_cr.loc[batch_start:batch_end-1, 'epsilon'].values.squeeze())\n",
    "    fill(f.climate_configs['gamma_autocorrelation'], df_cr.loc[batch_start:batch_end-1, 'gamma'].values.squeeze())\n",
    "    fill(f.climate_configs['sigma_eta'], df_cr.loc[batch_start:batch_end-1, 'sigma_eta'].values.squeeze())\n",
    "    fill(f.climate_configs['sigma_xi'], df_cr.loc[batch_start:batch_end-1, 'sigma_xi'].values.squeeze())\n",
    "    fill(f.climate_configs['seed'], np.arange(seedgen+batch_start*seedstep, seedgen+batch_end*seedstep, seedstep, dtype=int))\n",
    "    fill(f.climate_configs['stochastic_run'], True)\n",
    "    fill(f.climate_configs['use_seed'], True)\n",
    "    fill(f.climate_configs['forcing_4co2'], df_cr.loc[batch_start:batch_end-1,'F_4xCO2'])\n",
    "    \n",
    "    # species level\n",
    "    f.fill_species_configs()\n",
    "    \n",
    "    # carbon cycle\n",
    "    fill(f.species_configs['iirf_0'], df_cc.loc[batch_start:batch_end-1, 'r0'].values.squeeze(), specie='CO2')\n",
    "    fill(f.species_configs['iirf_airborne'], df_cc.loc[batch_start:batch_end-1, 'rA'].values.squeeze(), specie='CO2')\n",
    "    fill(f.species_configs['iirf_uptake'], df_cc.loc[batch_start:batch_end-1, 'rU'].values.squeeze(), specie='CO2')\n",
    "    fill(f.species_configs['iirf_temperature'], df_cc.loc[batch_start:batch_end-1, 'rT'].values.squeeze(), specie='CO2')\n",
    "    \n",
    "    # aerosol indirect\n",
    "    fill(f.species_configs['aci_scale'], df_aci.loc[batch_start:batch_end-1, 'beta'].values.squeeze())\n",
    "    fill(f.species_configs['aci_shape'], df_aci.loc[batch_start:batch_end-1, 'shape_so2'].values.squeeze(), specie='Sulfur')\n",
    "    fill(f.species_configs['aci_shape'], df_aci.loc[batch_start:batch_end-1, 'shape_bc'].values.squeeze(), specie='BC')\n",
    "    fill(f.species_configs['aci_shape'], df_aci.loc[batch_start:batch_end-1, 'shape_oc'].values.squeeze(), specie='OC')\n",
    "        \n",
    "    # methane lifetime baseline\n",
    "    fill(f.species_configs['unperturbed_lifetime'], 10.11702748, specie='CH4')\n",
    "    \n",
    "    # emissions adjustments for N2O and CH4 (we don't want to make these defaults as people might wanna run pulse expts with these gases)\n",
    "    fill(f.species_configs['baseline_emissions'], 19.019783117809567, specie='CH4')\n",
    "    fill(f.species_configs['baseline_emissions'], 0.08602230754, specie='N2O')\n",
    "    \n",
    "    # aerosol direct\n",
    "    for specie in df_ari:\n",
    "        fill(f.species_configs['erfari_radiative_efficiency'], df_ari.loc[batch_start:batch_end-1, specie], specie=specie)\n",
    "    \n",
    "    # forcing\n",
    "    for specie in df_scaling:\n",
    "        if specie in ['minorGHG', 'solar_amplitude', 'solar_trend', 'Volcanic']:\n",
    "            continue\n",
    "        fill(f.species_configs['forcing_scale'], df_scaling.loc[batch_start:batch_end-1, specie].values.squeeze(), specie=specie)\n",
    "    for specie in ['CFC-11', 'CFC-12', 'CFC-113', 'CFC-114', 'CFC-115', 'HCFC-22', 'HCFC-141b', 'HCFC-142b',\n",
    "        'CCl4', 'CHCl3', 'CH2Cl2', 'CH3Cl', 'CH3CCl3', 'CH3Br', 'Halon-1211', 'Halon-1202', 'Halon-1301', 'Halon-2402',\n",
    "        'CF4', 'C2F6', 'C3F8', 'c-C4F8', 'C4F10', 'C5F12', 'C6F14', 'C7F16', 'C8F18', 'NF3', 'SF6', 'SO2F2',\n",
    "        'HFC-125', 'HFC-134a', 'HFC-143a', 'HFC-152a', 'HFC-227ea', 'HFC-23', 'HFC-236fa', 'HFC-245fa', 'HFC-32',\n",
    "        'HFC-365mfc', 'HFC-4310mee']:\n",
    "        fill(f.species_configs['forcing_scale'], df_scaling.loc[batch_start:batch_end-1, 'minorGHG'].values.squeeze(), specie=specie)\n",
    "\n",
    "    # ozone\n",
    "    for specie in df_ozone:\n",
    "        fill(f.species_configs['ozone_radiative_efficiency'], df_ozone.loc[batch_start:batch_end-1, specie], specie=specie)\n",
    "    \n",
    "    # tune down volcanic efficacy\n",
    "    fill(f.species_configs['forcing_efficacy'], 0.6, specie='Volcanic')\n",
    "    \n",
    "    \n",
    "    # initial condition of CO2 concentration (but not baseline for forcing calculations)\n",
    "    fill(f.species_configs['baseline_concentration'], df_1750co2.loc[batch_start:batch_end-1, 'co2_concentration'].values.squeeze(), specie='CO2')\n",
    "\n",
    "    # initial conditions\n",
    "    initialise(f.concentration, f.species_configs['baseline_concentration'])\n",
    "    initialise(f.forcing, 0)\n",
    "    initialise(f.temperature, 0)\n",
    "    initialise(f.cumulative_emissions, 0)\n",
    "    initialise(f.airborne_emissions, 0)\n",
    "    \n",
    "    with warnings.catch_warnings():\n",
    "        warnings.simplefilter(\"ignore\")\n",
    "        f.run(progress=False)\n",
    "    \n",
    "    # at this point dump out some batch output and put the constraining in another notebook\n",
    "    temp_out[:, batch_start:batch_end] = f.temperature[100:, 0, :, 0]\n",
    "    ohc_out[batch_start:batch_end] = f.ocean_heat_content_change[268:270, 0, :].mean(axis=0)-f.ocean_heat_content_change[221:223, 0, :].mean(axis=0)\n",
    "    co2_out[batch_start:batch_end] = f.concentration[264, 0, :, 2]\n",
    "    fari_out[batch_start:batch_end] = np.average(f.forcing[255:266, 0, :, 56], weights=np.array([0.5, 1, 1, 1, 1, 1, 1, 1, 1, 1, 0.5]), axis=0)\n",
    "    faci_out[batch_start:batch_end] = np.average(f.forcing[255:266, 0, :, 57], weights=np.array([0.5, 1, 1, 1, 1, 1, 1, 1, 1, 1, 0.5]), axis=0)\n",
    "    fo3_out[batch_start:batch_end] = f.forcing[269:271, 0, :, 58].mean(axis=0)\n",
    "    ecs[batch_start:batch_end] = f.ebms.ecs\n",
    "    tcr[batch_start:batch_end] = f.ebms.tcr"
   ]
  },
  {
   "cell_type": "code",
   "execution_count": null,
   "id": "80c2ece1",
   "metadata": {},
   "outputs": [],
   "source": [
    "f.ebms.ecs"
   ]
  },
  {
   "cell_type": "code",
   "execution_count": null,
   "id": "d423fd79",
   "metadata": {},
   "outputs": [],
   "source": [
    "#2 * erf_2co2 * (1 + 0.561*(calibrated_f4co2_mean - df_cr.loc[:100,'F_4xCO2'])/calibrated_f4co2_mean)"
   ]
  },
  {
   "cell_type": "code",
   "execution_count": null,
   "id": "46ff8a4a",
   "metadata": {},
   "outputs": [],
   "source": [
    "# # use F2xCO2 and scale factor to determine ECS: this is what each climate simulation actually \"sees\"\n",
    "# calibrated_f4co2_mean = df_cr['F_4xCO2'].mean()\n",
    "\n",
    "# ecs = np.ones(samples) * np.nan\n",
    "# tcr = np.ones(samples) * np.nan\n",
    "# for iconf in tqdm(range(samples)):\n",
    "#     ebm = EnergyBalanceModel(\n",
    "#         ocean_heat_capacity = np.array([df_cr.loc[iconf,'c1'], df_cr.loc[iconf,'c2'], df_cr.loc[iconf, 'c3']]),\n",
    "#         ocean_heat_transfer = np.array([df_cr.loc[iconf,'kappa1'], df_cr.loc[iconf,'kappa2'], df_cr.loc[iconf,'kappa3']]),\n",
    "#         deep_ocean_efficacy = df_cr.loc[iconf,'epsilon'],\n",
    "#         forcing_4co2 = 2 * erf_2co2 * (1+ 0.561*(calibrated_f4co2_mean - df_cr.loc[iconf,'F_4xCO2'])/calibrated_f4co2_mean) #2*erf_2co2*df_scale.loc[i,'CO2'],\n",
    "#     )\n",
    "#     ebm.emergent_parameters()\n",
    "#     ecs[iconf] = ebm.ecs\n",
    "#     tcr[iconf] = ebm.tcr"
   ]
  },
  {
   "cell_type": "code",
   "execution_count": null,
   "id": "102d484b",
   "metadata": {},
   "outputs": [],
   "source": [
    "# pl.plot(f.temperature[100:, 0, :, 0]);"
   ]
  },
  {
   "cell_type": "code",
   "execution_count": null,
   "id": "680be090",
   "metadata": {},
   "outputs": [],
   "source": [
    "# pl.plot(f.ocean_heat_content_change[100:, 0, :]);"
   ]
  },
  {
   "cell_type": "code",
   "execution_count": null,
   "id": "57ad8bb5",
   "metadata": {},
   "outputs": [],
   "source": [
    "# pl.plot(f.concentration[100:, 0, :, 2]);"
   ]
  },
  {
   "cell_type": "code",
   "execution_count": null,
   "id": "ae8f1c8f",
   "metadata": {},
   "outputs": [],
   "source": [
    "# pl.plot(f.concentration[100:, 0, :, 3]);"
   ]
  },
  {
   "cell_type": "code",
   "execution_count": null,
   "id": "ba2e2d26",
   "metadata": {},
   "outputs": [],
   "source": [
    "# pl.plot(f.forcing[:, 0, :, 2]);"
   ]
  },
  {
   "cell_type": "code",
   "execution_count": null,
   "id": "c866c21a",
   "metadata": {},
   "outputs": [],
   "source": [
    "# pl.plot(f.forcing[:, 0, :, 55]);"
   ]
  },
  {
   "cell_type": "code",
   "execution_count": null,
   "id": "9de77dea",
   "metadata": {},
   "outputs": [],
   "source": [
    "# pl.plot(f.forcing[:, 0, :, 56]);"
   ]
  },
  {
   "cell_type": "code",
   "execution_count": null,
   "id": "3d1b5554",
   "metadata": {},
   "outputs": [],
   "source": [
    "# pl.plot(f.forcing[:, 0, :, 57]);"
   ]
  },
  {
   "cell_type": "code",
   "execution_count": null,
   "id": "3e8ea6ab",
   "metadata": {},
   "outputs": [],
   "source": [
    "# pl.plot(f.forcing.loc[dict(specie='Contrails', scenario='ssp245')]);"
   ]
  },
  {
   "cell_type": "code",
   "execution_count": null,
   "id": "976ff4ed",
   "metadata": {},
   "outputs": [],
   "source": [
    "# pl.plot(f.forcing.loc[dict(specie='Light absorbing particles on snow and ice', scenario='ssp245')]);"
   ]
  },
  {
   "cell_type": "code",
   "execution_count": null,
   "id": "432ced5f",
   "metadata": {},
   "outputs": [],
   "source": [
    "# pl.plot(f.forcing.loc[dict(specie='Land use', scenario='ssp245')]);"
   ]
  },
  {
   "cell_type": "code",
   "execution_count": null,
   "id": "1aa2c07b",
   "metadata": {},
   "outputs": [],
   "source": [
    "# pl.plot(f.forcing.loc[dict(specie='Stratospheric water vapour', scenario='ssp245')]);"
   ]
  },
  {
   "cell_type": "code",
   "execution_count": null,
   "id": "a5e47f23",
   "metadata": {},
   "outputs": [],
   "source": [
    "# pl.plot(f.forcing.loc[dict(specie='Solar', scenario='ssp245')]);"
   ]
  },
  {
   "cell_type": "code",
   "execution_count": null,
   "id": "a357f1e0",
   "metadata": {},
   "outputs": [],
   "source": [
    "# pl.plot(f.forcing.loc[dict(specie='Volcanic', scenario='ssp245')]);"
   ]
  },
  {
   "cell_type": "code",
   "execution_count": null,
   "id": "dde83e50",
   "metadata": {},
   "outputs": [],
   "source": [
    "# pl.plot(f.forcing_sum.loc[dict(scenario='ssp245')]);"
   ]
  },
  {
   "cell_type": "code",
   "execution_count": null,
   "id": "4152dec3",
   "metadata": {},
   "outputs": [],
   "source": [
    "os.makedirs(f'../../output/fair-{fair_v}/v{cal_v}/prior_runs/', exist_ok=True)"
   ]
  },
  {
   "cell_type": "code",
   "execution_count": null,
   "id": "719b87b3",
   "metadata": {},
   "outputs": [],
   "source": [
    "np.save(f'../../output/fair-{fair_v}/v{cal_v}/prior_runs/temperature_1850-2101.npy', temp_out, allow_pickle=True)\n",
    "np.save(f'../../output/fair-{fair_v}/v{cal_v}/prior_runs/ocean_heat_content_2018_minus_1971.npy', ohc_out, allow_pickle=True)\n",
    "np.save(f'../../output/fair-{fair_v}/v{cal_v}/prior_runs/concentration_co2_2014.npy', co2_out, allow_pickle=True)\n",
    "np.save(f'../../output/fair-{fair_v}/v{cal_v}/prior_runs/forcing_ari_2005-2014_mean.npy', fari_out, allow_pickle=True)\n",
    "np.save(f'../../output/fair-{fair_v}/v{cal_v}/prior_runs/forcing_aci_2005-2014_mean.npy', faci_out, allow_pickle=True)\n",
    "np.save(f'../../output/fair-{fair_v}/v{cal_v}/prior_runs/forcing_ozone_2019.npy', fo3_out, allow_pickle=True)\n",
    "np.save(f'../../output/fair-{fair_v}/v{cal_v}/prior_runs/ecs.npy', ecs, allow_pickle=True)\n",
    "np.save(f'../../output/fair-{fair_v}/v{cal_v}/prior_runs/tcr.npy', tcr, allow_pickle=True)"
   ]
  },
  {
   "cell_type": "code",
   "execution_count": null,
   "id": "6c6219fe",
   "metadata": {},
   "outputs": [],
   "source": [
    "# pl.hist(ohc_out)\n",
    "# np.percentile(ohc_out, (5, 50, 95))"
   ]
  },
  {
   "cell_type": "code",
   "execution_count": null,
   "id": "b6ed52cf",
   "metadata": {},
   "outputs": [],
   "source": [
    "# pl.hist(co2_out)\n",
    "# np.percentile(co2_out, (5, 50, 95))"
   ]
  },
  {
   "cell_type": "code",
   "execution_count": null,
   "id": "4f4cc442",
   "metadata": {},
   "outputs": [],
   "source": [
    "# pl.hist(fari_out)\n",
    "# np.percentile(fari_out, (5, 50, 95))"
   ]
  },
  {
   "cell_type": "code",
   "execution_count": null,
   "id": "a2b7fa22",
   "metadata": {},
   "outputs": [],
   "source": [
    "# pl.hist(faci_out)\n",
    "# np.percentile(faci_out, (5, 50, 95))"
   ]
  },
  {
   "cell_type": "code",
   "execution_count": null,
   "id": "63c34437",
   "metadata": {},
   "outputs": [],
   "source": [
    "# pl.hist(fo3_out)\n",
    "# np.percentile(fo3_out, (5, 50, 95))"
   ]
  },
  {
   "cell_type": "code",
   "execution_count": null,
   "id": "8b42f74c",
   "metadata": {},
   "outputs": [],
   "source": [
    "# pl.hist(ecs)\n",
    "# np.percentile(ecs, (5, 50, 95))"
   ]
  },
  {
   "cell_type": "code",
   "execution_count": null,
   "id": "f327c730",
   "metadata": {},
   "outputs": [],
   "source": [
    "# pl.hist(tcr)\n",
    "# np.percentile(tcr, (5, 50, 95))"
   ]
  },
  {
   "cell_type": "code",
   "execution_count": null,
   "id": "cfd97f8b",
   "metadata": {},
   "outputs": [],
   "source": []
  }
 ],
 "metadata": {
  "kernelspec": {
   "display_name": "Python 3 (ipykernel)",
   "language": "python",
   "name": "python3"
  },
  "language_info": {
   "codemirror_mode": {
    "name": "ipython",
    "version": 3
   },
   "file_extension": ".py",
   "mimetype": "text/x-python",
   "name": "python",
   "nbconvert_exporter": "python",
   "pygments_lexer": "ipython3",
   "version": "3.11.0"
  }
 },
 "nbformat": 4,
 "nbformat_minor": 5
}
