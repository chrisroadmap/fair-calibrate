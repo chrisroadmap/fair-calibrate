{
 "cells": [
  {
   "cell_type": "markdown",
   "id": "d52269f2",
   "metadata": {},
   "source": [
    "# Posterior 1 on historical RMSE\n",
    "\n",
    "- RMSE to GSAT of < 0.16K"
   ]
  },
  {
   "cell_type": "markdown",
   "id": "f6efed3c",
   "metadata": {},
   "source": [
    "## Basic imports"
   ]
  },
  {
   "cell_type": "code",
   "execution_count": null,
   "id": "f0770b5c",
   "metadata": {},
   "outputs": [],
   "source": [
    "import glob\n",
    "import os\n",
    "\n",
    "import numpy as np\n",
    "import pandas as pd\n",
    "import matplotlib.pyplot as pl\n",
    "import time\n",
    "import scipy.stats\n",
    "import scipy.optimize\n",
    "from tqdm.auto import tqdm\n",
    "\n",
    "from fair.energy_balance_model import EnergyBalanceModel\n",
    "\n",
    "from dotenv import dotenv_values\n",
    "from fair import __version__"
   ]
  },
  {
   "cell_type": "code",
   "execution_count": null,
   "id": "0b6e9c27",
   "metadata": {},
   "outputs": [],
   "source": [
    "# TODO: convert to script and grab the constraint set from the directory name, not the environment."
   ]
  },
  {
   "cell_type": "code",
   "execution_count": null,
   "id": "c6f2245b",
   "metadata": {},
   "outputs": [],
   "source": [
    "cal_v = dotenv_values(\"../../../.env\")[\"CALIBRATION_VERSION\"]\n",
    "samples = int(dotenv_values(\"../../../.env\")[\"PRIOR_SAMPLES\"])\n",
    "fair_v = dotenv_values(\"../../../.env\")[\"FAIR_VERSION\"]\n",
    "constraint_set = dotenv_values(\"../../../.env\")[\"CONSTRAINT_SET\"]\n",
    "\n",
    "assert fair_v == __version__"
   ]
  },
  {
   "cell_type": "code",
   "execution_count": null,
   "id": "2a0c096d",
   "metadata": {},
   "outputs": [],
   "source": [
    "# pl.rcParams['font.size'] = 16\n",
    "# pl.rcParams['font.family'] = 'Arial'\n",
    "# pl.rcParams['ytick.direction'] = 'in'\n",
    "# pl.rcParams['ytick.minor.visible'] = True\n",
    "# pl.rcParams['ytick.major.right'] = True\n",
    "# pl.rcParams['ytick.right'] = True\n",
    "# pl.rcParams['xtick.direction'] = 'in'\n",
    "# pl.rcParams['xtick.minor.visible'] = True\n",
    "# pl.rcParams['xtick.major.top'] = True\n",
    "# pl.rcParams['xtick.top'] = True\n",
    "# pl.rcParams['axes.spines.top'] = True\n",
    "# pl.rcParams['axes.spines.bottom'] = True\n",
    "# pl.rcParams['figure.dpi'] = 150"
   ]
  },
  {
   "cell_type": "markdown",
   "id": "c36acb10",
   "metadata": {},
   "source": [
    "## Load in results"
   ]
  },
  {
   "cell_type": "code",
   "execution_count": null,
   "id": "dfbd5e87",
   "metadata": {},
   "outputs": [],
   "source": [
    "temp_in = np.load(f'../../../output/fair-{fair_v}/v{cal_v}/prior_runs/temperature_1850-2101.npy')"
   ]
  },
  {
   "cell_type": "markdown",
   "id": "f0086598",
   "metadata": {},
   "source": [
    "## 1. surface temperature 1850-2020"
   ]
  },
  {
   "cell_type": "code",
   "execution_count": null,
   "id": "7f96ef11",
   "metadata": {},
   "outputs": [],
   "source": [
    "df_gmst = pd.read_csv('../../../data/forcing/AR6_GMST.csv')\n",
    "gmst = df_gmst['gmst'].values"
   ]
  },
  {
   "cell_type": "code",
   "execution_count": null,
   "id": "4cb932ca",
   "metadata": {},
   "outputs": [],
   "source": [
    "def rmse(obs, mod):\n",
    "    return np.sqrt(np.sum((obs-mod)**2)/len(obs))"
   ]
  },
  {
   "cell_type": "code",
   "execution_count": null,
   "id": "8a27dcc8",
   "metadata": {},
   "outputs": [],
   "source": [
    "weights = np.ones(52)\n",
    "weights[0] = 0.5\n",
    "weights[-1] = 0.5"
   ]
  },
  {
   "cell_type": "code",
   "execution_count": null,
   "id": "1b4eb1e6",
   "metadata": {},
   "outputs": [],
   "source": [
    "rmse_temp = np.zeros((samples))"
   ]
  },
  {
   "cell_type": "code",
   "execution_count": null,
   "id": "0e378c0d",
   "metadata": {},
   "outputs": [],
   "source": [
    "# fig, ax = pl.subplots(figsize=(5, 5))\n",
    "# ax.fill_between(\n",
    "#     np.arange(1850, 2102), \n",
    "#     np.min(temp_in-np.average(temp_in[:52, :], weights=weights, axis=0), axis=1), \n",
    "#     np.max(temp_in-np.average(temp_in[:52, :], weights=weights, axis=0), axis=1),\n",
    "#     color='#000000',\n",
    "#     alpha=0.2,\n",
    "# )\n",
    "# ax.fill_between(\n",
    "#     np.arange(1850, 2102), \n",
    "#     np.percentile(temp_in-np.average(temp_in[:52, :], weights=weights, axis=0), 5, axis=1), \n",
    "#     np.percentile(temp_in-np.average(temp_in[:52, :], weights=weights, axis=0), 95, axis=1),\n",
    "#     color='#000000',\n",
    "#     alpha=0.2,\n",
    "# )\n",
    "# ax.fill_between(\n",
    "#     np.arange(1850, 2102), \n",
    "#     np.percentile(temp_in-np.average(temp_in[:52, :], weights=weights, axis=0), 16, axis=1), \n",
    "#     np.percentile(temp_in-np.average(temp_in[:52, :], weights=weights, axis=0), 84, axis=1),\n",
    "#     color='#000000',\n",
    "#     alpha=0.2,\n",
    "# )\n",
    "# ax.plot(\n",
    "#     np.arange(1850, 2102), \n",
    "#     np.median(temp_in-np.average(temp_in[:52, :], weights=weights, axis=0), axis=1), \n",
    "#     color='#000000',\n",
    "# )\n",
    "# ax.plot(np.arange(1850.5, 2021), gmst, color='b')\n",
    "\n",
    "# ax.set_xlim(1850,2100)\n",
    "# ax.set_ylim(-1, 5)\n",
    "# ax.set_ylabel('°C relative to 1850-1900')\n",
    "# ax.axhline(0, color='k', ls=\":\", lw=0.5)\n",
    "# pl.tight_layout()\n",
    "\n",
    "# #pl.title('Temperature anomaly - unconstrained')\n",
    "# # pl.savefig('../plots/prior_ssp245.png')"
   ]
  },
  {
   "cell_type": "code",
   "execution_count": null,
   "id": "a5eeed38",
   "metadata": {},
   "outputs": [],
   "source": [
    "for i in tqdm(range(samples)):\n",
    "    rmse_temp[i] = rmse(gmst[:171], temp_in[:171,i]-np.average(temp_in[:52, i], weights=weights, axis=0))"
   ]
  },
  {
   "cell_type": "code",
   "execution_count": null,
   "id": "1c929e09",
   "metadata": {},
   "outputs": [],
   "source": [
    "accept_temp=(rmse_temp<0.16)\n",
    "#accept_temp = np.logical_or.reduce((rmse_hadcrut<0.125, rmse_noaa<0.125, rmse_berkeley<0.125, rmse_kadow<0.125))\n",
    "print(np.sum(accept_temp))\n",
    "valid_temp = np.arange(samples, dtype=int)[accept_temp]"
   ]
  },
  {
   "cell_type": "code",
   "execution_count": null,
   "id": "3c089962",
   "metadata": {},
   "outputs": [],
   "source": [
    "fig, ax = pl.subplots(figsize=(5,5))\n",
    "ax.fill_between(\n",
    "    np.arange(1850, 2102), \n",
    "    np.min(temp_in[:,accept_temp]-np.average(temp_in[:52, accept_temp], weights=weights, axis=0), axis=1), \n",
    "    np.max(temp_in[:,accept_temp]-np.average(temp_in[:52, accept_temp], weights=weights, axis=0), axis=1),\n",
    "    color='#000000',\n",
    "    alpha=0.2,\n",
    ")\n",
    "ax.fill_between(\n",
    "    np.arange(1850.5, 2102), \n",
    "    np.percentile(temp_in[:,accept_temp]-np.average(temp_in[:52, accept_temp], weights=weights, axis=0), 5, axis=1), \n",
    "    np.percentile(temp_in[:,accept_temp]-np.average(temp_in[:52, accept_temp], weights=weights, axis=0), 95, axis=1),\n",
    "    color='#000000',\n",
    "    alpha=0.2,\n",
    ")\n",
    "ax.fill_between(\n",
    "    np.arange(1850.5, 2102), \n",
    "    np.percentile(temp_in[:,accept_temp]-np.average(temp_in[:52, accept_temp], weights=weights, axis=0), 16, axis=1), \n",
    "    np.percentile(temp_in[:,accept_temp]-np.average(temp_in[:52, accept_temp], weights=weights, axis=0), 84, axis=1),\n",
    "    color='#000000',\n",
    "    alpha=0.2,\n",
    ")\n",
    "ax.plot(\n",
    "    np.arange(1850.5, 2102), \n",
    "    np.median(temp_in[:,accept_temp]-np.average(temp_in[:52, accept_temp], weights=weights, axis=0), axis=1), \n",
    "    color='#000000',\n",
    ")\n",
    "\n",
    "ax.plot(np.arange(1850.5, 2021), gmst, color='b')\n",
    "\n",
    "ax.set_xlim(1850,2100)\n",
    "ax.set_ylim(-1, 5)\n",
    "ax.set_ylabel('°C relative to 1850-1900')\n",
    "ax.axhline(0, color='k', ls=\":\", lw=0.5)\n",
    "pl.tight_layout()\n",
    "#pl.savefig('../plots/post_rsme_ssp245.png')"
   ]
  },
  {
   "cell_type": "code",
   "execution_count": null,
   "id": "705749d8",
   "metadata": {},
   "outputs": [],
   "source": [
    "valid_temp = np.arange(samples, dtype=int)[accept_temp]"
   ]
  },
  {
   "cell_type": "code",
   "execution_count": null,
   "id": "9b236c95",
   "metadata": {},
   "outputs": [],
   "source": [
    "os.makedirs(f'../../../output/fair-{fair_v}/v{cal_v}/posteriors/{constraint_set}', exist_ok=True)"
   ]
  },
  {
   "cell_type": "code",
   "execution_count": null,
   "id": "3a6402d3",
   "metadata": {},
   "outputs": [],
   "source": [
    "np.savetxt(f'../../../output/fair-{fair_v}/v{cal_v}/posteriors/{constraint_set}/runids_rmse_pass.csv', valid_temp)"
   ]
  },
  {
   "cell_type": "code",
   "execution_count": null,
   "id": "09de57d4",
   "metadata": {},
   "outputs": [],
   "source": [
    "pl.hist(rmse_temp, bins=np.arange(0,0.51,0.01))"
   ]
  },
  {
   "cell_type": "code",
   "execution_count": null,
   "id": "5e5bc029",
   "metadata": {},
   "outputs": [],
   "source": []
  }
 ],
 "metadata": {
  "kernelspec": {
   "display_name": "Python 3 (ipykernel)",
   "language": "python",
   "name": "python3"
  },
  "language_info": {
   "codemirror_mode": {
    "name": "ipython",
    "version": 3
   },
   "file_extension": ".py",
   "mimetype": "text/x-python",
   "name": "python",
   "nbconvert_exporter": "python",
   "pygments_lexer": "ipython3",
   "version": "3.11.0"
  }
 },
 "nbformat": 4,
 "nbformat_minor": 5
}
