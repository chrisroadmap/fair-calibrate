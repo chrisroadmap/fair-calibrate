{
 "cells": [
  {
   "cell_type": "markdown",
   "id": "865483ca",
   "metadata": {},
   "source": [
    "# Takes constrained runs and dumps into a new file\n",
    "\n",
    "This is what the people want!"
   ]
  },
  {
   "cell_type": "code",
   "execution_count": null,
   "id": "87c6f80b",
   "metadata": {},
   "outputs": [],
   "source": [
    "import numpy as np\n",
    "import pandas as pd\n",
    "import matplotlib.pyplot as pl\n",
    "\n",
    "from dotenv import dotenv_values\n",
    "from fair import __version__"
   ]
  },
  {
   "cell_type": "code",
   "execution_count": null,
   "id": "45b4bdd7",
   "metadata": {},
   "outputs": [],
   "source": [
    "cal_v = dotenv_values(\"../../../.env\")[\"CALIBRATION_VERSION\"]\n",
    "samples = int(dotenv_values(\"../../../.env\")[\"PRIOR_SAMPLES\"])\n",
    "output_ensemble_size = int(dotenv_values(\"../../../.env\")[\"POSTERIOR_SAMPLES\"])\n",
    "fair_v = dotenv_values(\"../../../.env\")[\"FAIR_VERSION\"]\n",
    "constraint_set = dotenv_values(\"../../../.env\")[\"CONSTRAINT_SET\"]\n",
    "\n",
    "assert fair_v == __version__"
   ]
  },
  {
   "cell_type": "code",
   "execution_count": null,
   "id": "7b709195",
   "metadata": {},
   "outputs": [],
   "source": [
    "df_cc=pd.read_csv(f'../../../output/fair-{fair_v}/v{cal_v}/priors/carbon_cycle.csv')\n",
    "df_cr=pd.read_csv(f'../../../output/fair-{fair_v}/v{cal_v}/priors/climate_response_ebm3.csv')\n",
    "df_aci=pd.read_csv(f'../../../output/fair-{fair_v}/v{cal_v}/priors/aerosol_cloud.csv')\n",
    "df_ari=pd.read_csv(f'../../../output/fair-{fair_v}/v{cal_v}/priors/aerosol_radiation.csv')\n",
    "df_ozone=pd.read_csv(f'../../../output/fair-{fair_v}/v{cal_v}/priors/ozone.csv')\n",
    "df_scaling=pd.read_csv(f'../../../output/fair-{fair_v}/v{cal_v}/priors/forcing_scaling.csv')\n",
    "df_1750co2=pd.read_csv(f'../../../output/fair-{fair_v}/v{cal_v}/priors/co2_concentration_1750.csv')"
   ]
  },
  {
   "cell_type": "code",
   "execution_count": null,
   "id": "8ef4ad9f",
   "metadata": {},
   "outputs": [],
   "source": [
    "valid_all = np.loadtxt(f'../../../output/fair-{fair_v}/v{cal_v}/posteriors/{constraint_set}/runids_rmse_reweighted_pass.csv').astype(np.int64)#[:1000]\n",
    "valid_all"
   ]
  },
  {
   "cell_type": "code",
   "execution_count": null,
   "id": "765359d8",
   "metadata": {},
   "outputs": [],
   "source": [
    "seed = 1355763 + 399 * valid_all\n",
    "seed"
   ]
  },
  {
   "cell_type": "code",
   "execution_count": null,
   "id": "1818ffcb",
   "metadata": {},
   "outputs": [],
   "source": [
    "params_out = pd.concat(\n",
    "    (\n",
    "        df_cr.loc[valid_all, :], \n",
    "        df_cc.loc[valid_all, :], \n",
    "        df_ari.loc[valid_all, :], \n",
    "        df_aci.loc[valid_all, :], \n",
    "        df_ozone.loc[valid_all, :], \n",
    "        df_scaling.loc[valid_all, :], \n",
    "        df_1750co2.loc[valid_all, :],\n",
    "        pd.Series(seed, index=valid_all)\n",
    "    )\n",
    ", axis=1)"
   ]
  },
  {
   "cell_type": "code",
   "execution_count": null,
   "id": "fb1511c9",
   "metadata": {},
   "outputs": [],
   "source": [
    "pd.Series(seed, index=valid_all)"
   ]
  },
  {
   "cell_type": "code",
   "execution_count": null,
   "id": "4ee1f0e1",
   "metadata": {},
   "outputs": [],
   "source": [
    "params_out.columns = ['gamma', 'c1', 'c2', 'c3', 'kappa1', 'kappa2', 'kappa3', 'epsilon',\n",
    "       'sigma_eta', 'sigma_xi', 'F_4xCO2', 'r0', 'rU', 'rT', 'rA', 'ari BC', 'ari CH4',\n",
    "       'ari CO', 'ari N2O', 'ari NH3', 'ari NOx', 'ari OC', 'ari Sulfur', 'ari VOC',\n",
    "       'ari Equivalent effective stratospheric chlorine', 'shape_so2',\n",
    "       'shape_bc', 'shape_oc', 'beta', 'o3 CH4', 'o3 N2O',\n",
    "       'o3 Equivalent effective stratospheric chlorine', 'o3 CO', 'o3 VOC', 'o3 NOx',\n",
    "       'scale CO2', 'scale CH4', 'scale N2O', 'scale minorGHG', 'scale Stratospheric water vapour',\n",
    "       'scale Contrails', 'scale Light absorbing particles on snow and ice', 'scale Land use',\n",
    "       'scale Volcanic', 'solar_amplitude', 'solar_trend', 'co2_concentration_1750', 'seed']"
   ]
  },
  {
   "cell_type": "code",
   "execution_count": null,
   "id": "43b5ed99",
   "metadata": {},
   "outputs": [],
   "source": [
    "params_out.drop(columns=['ari CO'], inplace=True)"
   ]
  },
  {
   "cell_type": "code",
   "execution_count": null,
   "id": "be052bd3",
   "metadata": {},
   "outputs": [],
   "source": [
    "params_out.to_csv(f'../../../output/fair-{fair_v}/v{cal_v}/posteriors/{constraint_set}/calibrated_constrained_parameters.csv')"
   ]
  },
  {
   "cell_type": "code",
   "execution_count": null,
   "id": "18181025",
   "metadata": {},
   "outputs": [],
   "source": []
  }
 ],
 "metadata": {
  "kernelspec": {
   "display_name": "Python 3 (ipykernel)",
   "language": "python",
   "name": "python3"
  },
  "language_info": {
   "codemirror_mode": {
    "name": "ipython",
    "version": 3
   },
   "file_extension": ".py",
   "mimetype": "text/x-python",
   "name": "python",
   "nbconvert_exporter": "python",
   "pygments_lexer": "ipython3",
   "version": "3.11.0"
  }
 },
 "nbformat": 4,
 "nbformat_minor": 5
}
