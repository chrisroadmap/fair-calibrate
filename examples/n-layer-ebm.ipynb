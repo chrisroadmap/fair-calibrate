{
 "cells": [
  {
   "cell_type": "markdown",
   "id": "7ca42a84",
   "metadata": {},
   "source": [
    "# Run the n-layer energy balance model\n",
    "\n",
    "For the two and three layer cases we'll take the MLE estimates from Cummins et al. (2020) for HadGEM2-ES."
   ]
  },
  {
   "cell_type": "code",
   "execution_count": null,
   "id": "7c8fba9e",
   "metadata": {},
   "outputs": [],
   "source": [
    "import os\n",
    "\n",
    "import matplotlib.pyplot as pl\n",
    "import numpy as np\n",
    "import pandas as pd\n",
    "\n",
    "from fair21.energy_balance_model import EnergyBalanceModel"
   ]
  },
  {
   "cell_type": "code",
   "execution_count": null,
   "id": "10e2eeb3",
   "metadata": {},
   "outputs": [],
   "source": [
    "df_forcing = pd.read_csv(\n",
    "    os.path.join(\"..\", \"data\", \"forcing\", \"RFMIP-ERF-tier2.csv\")\n",
    ")"
   ]
  },
  {
   "cell_type": "code",
   "execution_count": null,
   "id": "03983341",
   "metadata": {},
   "outputs": [],
   "source": [
    "ebm3 = EnergyBalanceModel(\n",
    "    ocean_heat_capacity=[3.62, 9.47, 98.66],\n",
    "    ocean_heat_transfer=[0.54, 2.39, 0.63],\n",
    "    deep_ocean_efficacy=1.59,\n",
    "    gamma_autocorrelation=1.73,\n",
    "    sigma_xi=0.32,\n",
    "    sigma_eta=0.43,\n",
    "    forcing_4co2=6.35,\n",
    "    stochastic_run=True,\n",
    "    seed=16\n",
    ")"
   ]
  },
  {
   "cell_type": "code",
   "execution_count": null,
   "id": "1b1395d8",
   "metadata": {},
   "outputs": [],
   "source": [
    "ebm3.add_forcing(forcing = df_forcing['GISS-E2-1-G TOT'].values, timestep=1)"
   ]
  },
  {
   "cell_type": "code",
   "execution_count": null,
   "id": "13a3a21f",
   "metadata": {},
   "outputs": [],
   "source": [
    "ebm3.run()"
   ]
  },
  {
   "cell_type": "code",
   "execution_count": null,
   "id": "d702c0e1",
   "metadata": {},
   "outputs": [],
   "source": [
    "ebm3.temperature"
   ]
  },
  {
   "cell_type": "code",
   "execution_count": null,
   "id": "8f86c799",
   "metadata": {},
   "outputs": [],
   "source": [
    "time = np.arange(1850.5, 2101)"
   ]
  },
  {
   "cell_type": "code",
   "execution_count": null,
   "id": "af887d32",
   "metadata": {},
   "outputs": [],
   "source": [
    "pl.plot(time, ebm3.temperature[:,0], label='surface / top ocean layer')\n",
    "pl.plot(time, ebm3.temperature[:,1], label='second ocean layer')\n",
    "pl.plot(time, ebm3.temperature[:,2], label='deep ocean layer')\n",
    "pl.ylabel('K relative to 1850')\n",
    "pl.title('SSP2-4.5 temperature change')\n",
    "pl.legend()"
   ]
  },
  {
   "cell_type": "code",
   "execution_count": null,
   "id": "859f9553",
   "metadata": {},
   "outputs": [],
   "source": [
    "ebm3.emergent_parameters()\n",
    "ebm3.ecs, ebm3.tcr"
   ]
  },
  {
   "cell_type": "code",
   "execution_count": null,
   "id": "6c9bb54f",
   "metadata": {},
   "outputs": [],
   "source": [
    "ebm2 = EnergyBalanceModel(\n",
    "    ocean_heat_capacity=[7.73, 89.29],\n",
    "    ocean_heat_transfer=[0.63, 0.52],\n",
    "    deep_ocean_efficacy=1.52,\n",
    "    gamma_autocorrelation=1.58,\n",
    "    sigma_xi=0.64,\n",
    "    sigma_eta=0.43,\n",
    "    stochastic_run=True,\n",
    "    forcing_4co2=6.86,\n",
    "    seed=16\n",
    ")"
   ]
  },
  {
   "cell_type": "code",
   "execution_count": null,
   "id": "419eb55a",
   "metadata": {},
   "outputs": [],
   "source": [
    "ebm2.add_forcing(forcing = df_forcing['GISS-E2-1-G TOT'].values, timestep=1)"
   ]
  },
  {
   "cell_type": "code",
   "execution_count": null,
   "id": "f94064c3",
   "metadata": {},
   "outputs": [],
   "source": [
    "ebm2.emergent_parameters()\n",
    "ebm2.ecs, ebm2.tcr"
   ]
  },
  {
   "cell_type": "code",
   "execution_count": null,
   "id": "dd53c404",
   "metadata": {},
   "outputs": [],
   "source": [
    "ebm2.run()"
   ]
  },
  {
   "cell_type": "code",
   "execution_count": null,
   "id": "7007f25f",
   "metadata": {},
   "outputs": [],
   "source": []
  }
 ],
 "metadata": {
  "kernelspec": {
   "display_name": "Python 3 (ipykernel)",
   "language": "python",
   "name": "python3"
  },
  "language_info": {
   "codemirror_mode": {
    "name": "ipython",
    "version": 3
   },
   "file_extension": ".py",
   "mimetype": "text/x-python",
   "name": "python",
   "nbconvert_exporter": "python",
   "pygments_lexer": "ipython3",
   "version": "3.7.12"
  }
 },
 "nbformat": 4,
 "nbformat_minor": 5
}
