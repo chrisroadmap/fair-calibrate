{
 "cells": [
  {
   "cell_type": "markdown",
   "id": "0df0c32b",
   "metadata": {},
   "source": [
    "# CO2 equilibrium runs\n",
    "\n",
    "We'll mimic abrupt 4xCO2 runs from all 66 CMIP6 model calibrations and create Gregory plots."
   ]
  },
  {
   "cell_type": "code",
   "execution_count": null,
   "id": "610de62c",
   "metadata": {},
   "outputs": [],
   "source": [
    "import copy\n",
    "\n",
    "import matplotlib.pyplot as pl\n",
    "import numpy as np\n",
    "import pandas as pd\n",
    "\n",
    "from fair21 import SpeciesID, Category, RunMode, Species, Scenario, ClimateResponse, SpeciesConfig, Config, FAIR\n",
    "from fair21.forcing.ghg import calculate_ghg_forcing\n",
    "from fair21.defaults.default_species_config import default_species_config"
   ]
  },
  {
   "cell_type": "markdown",
   "id": "588e0cbf",
   "metadata": {},
   "source": [
    "## 1. start by defining SpeciesID\n",
    "\n",
    "Today we're running CO2 forcing-driven. Each model is given the same concentration time series, but has a different forcing. We have calibrations of 4xCO2 forcing from the fitting procedure.\n",
    "\n",
    "At the moment, because of the forcing relationship we also have to define CH4 and N2O if we want to run CO2 concentration-driven."
   ]
  },
  {
   "cell_type": "code",
   "execution_count": null,
   "id": "0be91262",
   "metadata": {},
   "outputs": [],
   "source": [
    "species_ids = {}\n",
    "species_ids['co2'] = SpeciesID('CO2', Category.CO2, RunMode.CONCENTRATION)\n",
    "species_ids['ch4'] = SpeciesID('CH4', Category.CH4, RunMode.CONCENTRATION)\n",
    "species_ids['n2o'] = SpeciesID('N2O', Category.N2O, RunMode.CONCENTRATION)"
   ]
  },
  {
   "cell_type": "markdown",
   "id": "ddba56b3",
   "metadata": {},
   "source": [
    "## 2. Define Species\n",
    "\n",
    "Let's run 1000 years of abrupt-4xCO2. Remember we need one species for each config, and this time there's 66 configs. We will obtain 4xCO2 forcing from each, but we need to calculate how the forcing in each model scales to the FaIR default treatment."
   ]
  },
  {
   "cell_type": "code",
   "execution_count": null,
   "id": "44a37319",
   "metadata": {},
   "outputs": [],
   "source": [
    "co2, ch4, n2o = (\n",
    "    default_species_config['co2'].baseline_concentration,\n",
    "    default_species_config['ch4'].baseline_concentration,\n",
    "    default_species_config['n2o'].baseline_concentration\n",
    ")\n",
    "print(co2, ch4, n2o)"
   ]
  },
  {
   "cell_type": "code",
   "execution_count": null,
   "id": "c68197c9",
   "metadata": {},
   "outputs": [],
   "source": [
    "species_co2 = Species(species_ids['co2'], concentration=np.ones(1000)*4*co2)\n",
    "species_ch4 = Species(species_ids['ch4'], concentration=np.ones(1000)*ch4)\n",
    "species_n2o = Species(species_ids['n2o'], concentration=np.ones(1000)*n2o)"
   ]
  },
  {
   "cell_type": "code",
   "execution_count": null,
   "id": "29fd4699",
   "metadata": {},
   "outputs": [],
   "source": [
    "species_co2"
   ]
  },
  {
   "cell_type": "markdown",
   "id": "a1ba1d0b",
   "metadata": {},
   "source": [
    "# 3. Define Scenario\n",
    "\n",
    "This is fairly easy: we have one scenario (abrupt-4xCO2) containing three species (CO2, CH4, N2O).\n",
    "\n",
    "Even though we only have a single scenario, it needs to be a list"
   ]
  },
  {
   "cell_type": "code",
   "execution_count": null,
   "id": "750d6f54",
   "metadata": {},
   "outputs": [],
   "source": [
    "scenarios = [Scenario('abrupt-4xCO2', [species_co2, species_ch4, species_n2o])]\n",
    "scenarios"
   ]
  },
  {
   "cell_type": "markdown",
   "id": "908d6938",
   "metadata": {},
   "source": [
    "## 4. Create ClimateResponse"
   ]
  },
  {
   "cell_type": "code",
   "execution_count": null,
   "id": "8b6e9301",
   "metadata": {},
   "outputs": [],
   "source": [
    "df_4xco2 = pd.read_csv('../data/calibration/4xCO2_cummins.csv')\n",
    "df_4xco2.set_index(['model', 'run'], inplace=True)\n",
    "df_4xco2#['F_4xCO2']"
   ]
  },
  {
   "cell_type": "code",
   "execution_count": null,
   "id": "2fb745ed",
   "metadata": {},
   "outputs": [],
   "source": [
    "climate_response = {}\n",
    "\n",
    "for i, (index, data) in enumerate(df_4xco2.iterrows()):\n",
    "    climate_response[index] = ClimateResponse(\n",
    "        ocean_heat_capacity = np.array([data['C1'], data['C2'], data['C3']]),\n",
    "        ocean_heat_transfer = np.array([data['kappa1'], data['kappa2'], data['kappa3']]),\n",
    "        deep_ocean_efficacy = data['epsilon'],\n",
    "        stochastic_run = True,\n",
    "        sigma_eta = data['sigma_eta'],\n",
    "        sigma_xi = data['sigma_xi'],\n",
    "        gamma_autocorrelation = data['gamma'],\n",
    "        seed = i*10101\n",
    "    )"
   ]
  },
  {
   "cell_type": "markdown",
   "id": "0bd4d1cc",
   "metadata": {},
   "source": [
    "## 5. Create SpeciesConfig\n",
    "\n",
    "The only thing that is necessary to do here is to scale the CO2 forcing and turn the tropospheric adjustment to 0 to avoid double counting a scaling factor."
   ]
  },
  {
   "cell_type": "code",
   "execution_count": null,
   "id": "eafb19a6",
   "metadata": {},
   "outputs": [],
   "source": [
    "forcing_4co2_fair = calculate_ghg_forcing(\n",
    "    np.array([4*co2, ch4, n2o]).reshape((1, 1, 1, 3, 1)),\n",
    "    np.array([co2, ch4, n2o]).reshape((1, 1, 1, 3, 1)),\n",
    "    np.array([1, 1, 1]).reshape((1, 1, 1, 3, 1)), \n",
    "    None,\n",
    "    0, 1, 2, []\n",
    ").squeeze()[0]\n",
    "forcing_4co2_fair"
   ]
  },
  {
   "cell_type": "code",
   "execution_count": null,
   "id": "ad2756a1",
   "metadata": {},
   "outputs": [],
   "source": [
    "species_configs = {}\n",
    "\n",
    "for index, data in df_4xco2.iterrows():\n",
    "    species_configs[index] = []\n",
    "    for species_label in ['co2', 'ch4', 'n2o']:\n",
    "        # NOTE: really important to use copy here, otherwise we are just creating multiple references to the\n",
    "        # default dict\n",
    "        species_configs[index].append(copy.copy(default_species_config[species_label]))\n",
    "        \n",
    "        # the defaults also contain the SpeciesID that has a default name and run mode. We want to override this.\n",
    "        species_configs[index][-1].species_id = species_ids[species_label]\n",
    "        \n",
    "    # now set specific CO2 options: CO2 is index 0\n",
    "    species_configs[index][0].tropospheric_adjustment = 0\n",
    "    species_configs[index][0].scale = data['F_4xCO2'] / forcing_4co2_fair"
   ]
  },
  {
   "cell_type": "code",
   "execution_count": null,
   "id": "4ca011b5",
   "metadata": {},
   "outputs": [],
   "source": [
    "species_configs"
   ]
  },
  {
   "cell_type": "markdown",
   "id": "5f3761d7",
   "metadata": {},
   "source": [
    "## 6. Create Configs"
   ]
  },
  {
   "cell_type": "code",
   "execution_count": null,
   "id": "b0c515dc",
   "metadata": {},
   "outputs": [],
   "source": [
    "configs = []\n",
    "for index, data in df_4xco2.iterrows():\n",
    "    configs.append(Config(index, climate_response[index], species_configs[index]))"
   ]
  },
  {
   "cell_type": "markdown",
   "id": "add64f90",
   "metadata": {},
   "source": [
    "## 7. Run FaIR"
   ]
  },
  {
   "cell_type": "code",
   "execution_count": null,
   "id": "521a08fe",
   "metadata": {},
   "outputs": [],
   "source": [
    "# define time vector\n",
    "time = np.arange(0.5, 1000)\n",
    "\n",
    "# initialise\n",
    "fair = FAIR(scenarios, configs, time)\n",
    "\n",
    "# run\n",
    "fair.run()"
   ]
  },
  {
   "cell_type": "markdown",
   "id": "3f0afe4b",
   "metadata": {},
   "source": [
    "## 8. Show results\n",
    "\n",
    "Although we can get convincing internal variability for T and N individually, it appears that the stochastic variability is correlated."
   ]
  },
  {
   "cell_type": "code",
   "execution_count": null,
   "id": "781f4c37",
   "metadata": {},
   "outputs": [],
   "source": [
    "for i, (index, data) in enumerate(df_4xco2.iterrows()):\n",
    "    pl.plot(time, fair.temperature[:, 0, i, 0, 0])"
   ]
  },
  {
   "cell_type": "code",
   "execution_count": null,
   "id": "7ea5285d",
   "metadata": {},
   "outputs": [],
   "source": [
    "for i, (index, data) in enumerate(df_4xco2.iterrows()):\n",
    "    pl.plot(time, fair.toa_imbalance[:, 0, i, 0, 0])"
   ]
  },
  {
   "cell_type": "code",
   "execution_count": null,
   "id": "1de97658",
   "metadata": {},
   "outputs": [],
   "source": [
    "for i, (index, data) in enumerate(df_4xco2.iterrows()):\n",
    "    pl.plot(time[800:], fair.toa_imbalance[800:, 0, i, 0, 0])\n",
    "pl.axhline(0, color='k')"
   ]
  },
  {
   "cell_type": "code",
   "execution_count": null,
   "id": "cd881479",
   "metadata": {},
   "outputs": [],
   "source": [
    "fig, ax = pl.subplots(11, 6, figsize=(16, 30))\n",
    "\n",
    "for i, (index, data) in enumerate(df_4xco2.iterrows()):\n",
    "    ax[i//6,i%6].scatter(fair.temperature[:, 0, i, 0, 0], fair.toa_imbalance[:, 0, i, 0, 0])\n",
    "    ax[i//6,i%6].set_xlim(0,13)\n",
    "    ax[i//6,i%6].set_ylim(-1, 10)\n",
    "    ax[i//6,i%6].axhline(0, color='k')\n",
    "    ax[i//6,i%6].set_title(index, fontsize=6)"
   ]
  },
  {
   "cell_type": "code",
   "execution_count": null,
   "id": "b6a8a4fc",
   "metadata": {},
   "outputs": [],
   "source": [
    "fig, ax = pl.subplots(11, 6, figsize=(16, 30))\n",
    "\n",
    "for i, (index, data) in enumerate(df_4xco2.iterrows()):\n",
    "    ax[i//6,i%6].scatter(fair.temperature[:150, 0, i, 0, 0], fair.toa_imbalance[:150, 0, i, 0, 0])\n",
    "    ax[i//6,i%6].set_xlim(0,13)\n",
    "    ax[i//6,i%6].set_ylim(-1, 10)\n",
    "    ax[i//6,i%6].axhline(0, color='k')\n",
    "    ax[i//6,i%6].set_title(index, fontsize=6)"
   ]
  },
  {
   "cell_type": "code",
   "execution_count": null,
   "id": "64511eb6",
   "metadata": {},
   "outputs": [],
   "source": [
    "for i, (index, data) in enumerate(df_4xco2.iterrows()):\n",
    "    pl.semilogy(time, fair.emissions_array[:, 0, i, 0, 0])"
   ]
  },
  {
   "cell_type": "code",
   "execution_count": null,
   "id": "539f8075",
   "metadata": {},
   "outputs": [],
   "source": [
    "for i, (index, data) in enumerate(df_4xco2.iterrows()):\n",
    "    pl.plot(time[200:], fair.emissions_array[200:, 0, i, 0, 0])"
   ]
  },
  {
   "cell_type": "code",
   "execution_count": null,
   "id": "dd39fcd5",
   "metadata": {},
   "outputs": [],
   "source": []
  }
 ],
 "metadata": {
  "kernelspec": {
   "display_name": "Python 3 (ipykernel)",
   "language": "python",
   "name": "python3"
  },
  "language_info": {
   "codemirror_mode": {
    "name": "ipython",
    "version": 3
   },
   "file_extension": ".py",
   "mimetype": "text/x-python",
   "name": "python",
   "nbconvert_exporter": "python",
   "pygments_lexer": "ipython3",
   "version": "3.7.12"
  }
 },
 "nbformat": 4,
 "nbformat_minor": 5
}
