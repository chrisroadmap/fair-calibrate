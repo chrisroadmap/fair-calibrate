{
 "cells": [
  {
   "cell_type": "markdown",
   "id": "c63595e7",
   "metadata": {},
   "source": [
    "# Investigate different GHG forcing relationships\n",
    "\n",
    "Run GHGs concentrations driven and investigate the impact of different GHG forcing relationships (Meinshausen et al. 2020, Myhre et al. 1998, TODO Leach et al. 2021, TODO Etminan et al. 2016) using SSP5-8.5.\n",
    "\n",
    "TODO mix and match GHG species included as emissions driven."
   ]
  },
  {
   "cell_type": "code",
   "execution_count": null,
   "id": "73db168e",
   "metadata": {},
   "outputs": [],
   "source": [
    "import matplotlib.pyplot as pl\n",
    "\n",
    "from fair21 import FAIR\n",
    "from fair21.interface import fill, initialise\n",
    "from fair21.io import read_properties"
   ]
  },
  {
   "cell_type": "code",
   "execution_count": null,
   "id": "a28ad6c8",
   "metadata": {},
   "outputs": [],
   "source": [
    "%load_ext autoreload"
   ]
  },
  {
   "cell_type": "code",
   "execution_count": null,
   "id": "e800ff68",
   "metadata": {},
   "outputs": [],
   "source": [
    "%autoreload 2"
   ]
  },
  {
   "cell_type": "markdown",
   "id": "d05b81e0",
   "metadata": {},
   "source": [
    "## Meinshausen et al 2020 forcing, all GHGs provided"
   ]
  },
  {
   "cell_type": "code",
   "execution_count": null,
   "id": "61276574",
   "metadata": {},
   "outputs": [],
   "source": [
    "f1 = FAIR()"
   ]
  },
  {
   "cell_type": "code",
   "execution_count": null,
   "id": "25fb9e52",
   "metadata": {},
   "outputs": [],
   "source": [
    "scenarios = ['ssp585']"
   ]
  },
  {
   "cell_type": "code",
   "execution_count": null,
   "id": "505780a5",
   "metadata": {},
   "outputs": [],
   "source": [
    "f1.define_scenarios(scenarios)"
   ]
  },
  {
   "cell_type": "code",
   "execution_count": null,
   "id": "ddf32cd2",
   "metadata": {},
   "outputs": [],
   "source": [
    "f1.define_time(1750, 2500, 1)"
   ]
  },
  {
   "cell_type": "code",
   "execution_count": null,
   "id": "29145222",
   "metadata": {},
   "outputs": [],
   "source": [
    "species, properties = read_properties()"
   ]
  },
  {
   "cell_type": "code",
   "execution_count": null,
   "id": "59f2a346",
   "metadata": {},
   "outputs": [],
   "source": [
    "## not running emissions-driven so drop CO2 precursors\n",
    "#species.remove('CO2 FFI')\n",
    "#species.remove('CO2 AFOLU')"
   ]
  },
  {
   "cell_type": "code",
   "execution_count": null,
   "id": "f50d2880",
   "metadata": {},
   "outputs": [],
   "source": [
    "# set to concentration-driven runs for GHGs\n",
    "for k,v in properties.items():\n",
    "    if properties[k]['greenhouse_gas'] and properties[k]['input_mode'] in ['emissions', 'calculated']:\n",
    "        properties[k]['input_mode']='concentration'"
   ]
  },
  {
   "cell_type": "code",
   "execution_count": null,
   "id": "d4344304",
   "metadata": {},
   "outputs": [],
   "source": [
    "f1.define_species(species, properties)"
   ]
  },
  {
   "cell_type": "code",
   "execution_count": null,
   "id": "b2673921",
   "metadata": {},
   "outputs": [],
   "source": [
    "f1.define_configs(['UKESM1-0-LL'])"
   ]
  },
  {
   "cell_type": "code",
   "execution_count": null,
   "id": "04168a1a",
   "metadata": {},
   "outputs": [],
   "source": [
    "f1.allocate()"
   ]
  },
  {
   "cell_type": "code",
   "execution_count": null,
   "id": "8b739261",
   "metadata": {},
   "outputs": [],
   "source": [
    "f1.fill_species_configs()\n",
    "fill(f1.species_configs['baseline_concentration'], 731.4059957, specie='CH4')\n",
    "fill(f1.species_configs['baseline_concentration'], 277.1470032, specie='CO2')\n",
    "fill(f1.species_configs['baseline_concentration'], 273.8650513, specie='N2O')"
   ]
  },
  {
   "cell_type": "code",
   "execution_count": null,
   "id": "10f7f71d",
   "metadata": {},
   "outputs": [],
   "source": [
    "f1.ghg_method='Meinshausen2020'"
   ]
  },
  {
   "cell_type": "code",
   "execution_count": null,
   "id": "89dcfdb9",
   "metadata": {},
   "outputs": [],
   "source": [
    "fill(f1.climate_configs['ocean_heat_capacity'], [ 2.91730005, 11.28317472, 73.2487238 ], config='UKESM1-0-LL')\n",
    "fill(f1.climate_configs['ocean_heat_transfer'], [0.65576633, 2.59787768, 0.61293389], config='UKESM1-0-LL')\n",
    "fill(f1.climate_configs['deep_ocean_efficacy'], 1.13370877488901, config='UKESM1-0-LL')\n",
    "fill(f1.climate_configs['stochastic_run'], False, config='UKESM1-0-LL')\n",
    "fill(f1.climate_configs['use_seed'], False, config='UKESM1-0-LL')"
   ]
  },
  {
   "cell_type": "code",
   "execution_count": null,
   "id": "5af0bf3a",
   "metadata": {},
   "outputs": [],
   "source": [
    "f1.fill_from_rcmip()"
   ]
  },
  {
   "cell_type": "code",
   "execution_count": null,
   "id": "7d9f5710",
   "metadata": {},
   "outputs": [],
   "source": [
    "initialise(f1.temperature, 0)"
   ]
  },
  {
   "cell_type": "code",
   "execution_count": null,
   "id": "eca4fa46",
   "metadata": {},
   "outputs": [],
   "source": [
    "f1.run()"
   ]
  },
  {
   "cell_type": "markdown",
   "id": "df51dded",
   "metadata": {},
   "source": [
    "## Myhre et al. 1998 forcing, all GHGs provided"
   ]
  },
  {
   "cell_type": "code",
   "execution_count": null,
   "id": "4374d3ab",
   "metadata": {},
   "outputs": [],
   "source": [
    "f2 = FAIR()"
   ]
  },
  {
   "cell_type": "code",
   "execution_count": null,
   "id": "bc02ee4b",
   "metadata": {},
   "outputs": [],
   "source": [
    "f2.define_time(1750, 2500, 1)"
   ]
  },
  {
   "cell_type": "code",
   "execution_count": null,
   "id": "d996ba91",
   "metadata": {},
   "outputs": [],
   "source": [
    "f2.define_scenarios(scenarios)"
   ]
  },
  {
   "cell_type": "code",
   "execution_count": null,
   "id": "ae0c5e3e",
   "metadata": {},
   "outputs": [],
   "source": [
    "f2.define_species(species, properties)"
   ]
  },
  {
   "cell_type": "code",
   "execution_count": null,
   "id": "7bf6cb6b",
   "metadata": {},
   "outputs": [],
   "source": [
    "f2.define_configs(['UKESM1-0-LL'])"
   ]
  },
  {
   "cell_type": "code",
   "execution_count": null,
   "id": "b78c70cc",
   "metadata": {},
   "outputs": [],
   "source": [
    "f2.allocate()"
   ]
  },
  {
   "cell_type": "code",
   "execution_count": null,
   "id": "10bee730",
   "metadata": {},
   "outputs": [],
   "source": [
    "f2.fill_species_configs()\n",
    "fill(f2.species_configs['baseline_concentration'], 731.4059957, specie='CH4')\n",
    "fill(f2.species_configs['baseline_concentration'], 277.1470032, specie='CO2')\n",
    "fill(f2.species_configs['baseline_concentration'], 273.8650513, specie='N2O')"
   ]
  },
  {
   "cell_type": "code",
   "execution_count": null,
   "id": "d007e325",
   "metadata": {},
   "outputs": [],
   "source": [
    "fill(f2.species_configs['tropospheric_adjustment'], 0)"
   ]
  },
  {
   "cell_type": "code",
   "execution_count": null,
   "id": "2fa1b10b",
   "metadata": {},
   "outputs": [],
   "source": [
    "f2.ghg_method='Myhre1998'"
   ]
  },
  {
   "cell_type": "code",
   "execution_count": null,
   "id": "d85e6e6d",
   "metadata": {},
   "outputs": [],
   "source": [
    "fill(f2.climate_configs['ocean_heat_capacity'], [ 2.91730005, 11.28317472, 73.2487238 ], config='UKESM1-0-LL')\n",
    "fill(f2.climate_configs['ocean_heat_transfer'], [0.65576633, 2.59787768, 0.61293389], config='UKESM1-0-LL')\n",
    "fill(f2.climate_configs['deep_ocean_efficacy'], 1.13370877488901, config='UKESM1-0-LL')\n",
    "fill(f2.climate_configs['stochastic_run'], False, config='UKESM1-0-LL')\n",
    "fill(f2.climate_configs['use_seed'], False, config='UKESM1-0-LL')"
   ]
  },
  {
   "cell_type": "code",
   "execution_count": null,
   "id": "ab0a01cd",
   "metadata": {},
   "outputs": [],
   "source": [
    "f2.fill_from_rcmip()"
   ]
  },
  {
   "cell_type": "code",
   "execution_count": null,
   "id": "528a52c5",
   "metadata": {},
   "outputs": [],
   "source": [
    "initialise(f2.temperature, 0)"
   ]
  },
  {
   "cell_type": "code",
   "execution_count": null,
   "id": "b2866d90",
   "metadata": {},
   "outputs": [],
   "source": [
    "f2.run()"
   ]
  },
  {
   "cell_type": "code",
   "execution_count": null,
   "id": "c09684ce",
   "metadata": {},
   "outputs": [],
   "source": [
    "pl.plot(f1.timebounds, f1.forcing_sum.loc[dict(config='UKESM1-0-LL')], label='Meinshausen et al. 2020')\n",
    "pl.plot(f2.timebounds, f2.forcing_sum.loc[dict(config='UKESM1-0-LL')], label='Myhre et al. 1998')\n",
    "pl.legend()"
   ]
  },
  {
   "cell_type": "code",
   "execution_count": null,
   "id": "7fefb58f",
   "metadata": {},
   "outputs": [],
   "source": [
    "pl.plot(f1.timebounds, f1.temperature.loc[dict(config='UKESM1-0-LL', layer=0)], label='Meinshausen et al. 2020')\n",
    "pl.plot(f2.timebounds, f2.temperature.loc[dict(config='UKESM1-0-LL', layer=0)], label='Myhre et al. 1998')\n",
    "pl.legend()"
   ]
  },
  {
   "cell_type": "code",
   "execution_count": null,
   "id": "446de5ac",
   "metadata": {},
   "outputs": [],
   "source": [
    "pl.plot(f1.timebounds, f1.forcing.loc[dict(config='UKESM1-0-LL', specie='CO2')], label='Meinshausen et al. 2020')\n",
    "pl.plot(f2.timebounds, f2.forcing.loc[dict(config='UKESM1-0-LL', specie='CO2')], label='Myhre et al. 1998')\n",
    "pl.legend()"
   ]
  },
  {
   "cell_type": "code",
   "execution_count": null,
   "id": "f86d3636",
   "metadata": {},
   "outputs": [],
   "source": [
    "pl.plot(f1.timebounds, f1.forcing.loc[dict(config='UKESM1-0-LL', specie='CH4')], label='Meinshausen et al. 2020')\n",
    "pl.plot(f2.timebounds, f2.forcing.loc[dict(config='UKESM1-0-LL', specie='CH4')], label='Myhre et al. 1998')\n",
    "pl.legend()"
   ]
  },
  {
   "cell_type": "code",
   "execution_count": null,
   "id": "0ba4cf40",
   "metadata": {},
   "outputs": [],
   "source": [
    "pl.plot(f1.timebounds, f1.forcing.loc[dict(config='UKESM1-0-LL', specie='N2O')], label='Meinshausen et al. 2020')\n",
    "pl.plot(f2.timebounds, f2.forcing.loc[dict(config='UKESM1-0-LL', specie='N2O')], label='Myhre et al. 1998')\n",
    "pl.legend()"
   ]
  },
  {
   "cell_type": "code",
   "execution_count": null,
   "id": "e89c92c5",
   "metadata": {},
   "outputs": [],
   "source": [
    "f1.forcing.loc[dict(config='UKESM1-0-LL', specie='CO2', timebounds=2020)]"
   ]
  },
  {
   "cell_type": "code",
   "execution_count": null,
   "id": "86c6e287",
   "metadata": {},
   "outputs": [],
   "source": [
    "f2.forcing.loc[dict(config='UKESM1-0-LL', specie='CO2', timebounds=2020)]"
   ]
  },
  {
   "cell_type": "markdown",
   "id": "4e99d647",
   "metadata": {},
   "source": [
    "## Meinshausen et al. 2020 forcing, only big three"
   ]
  },
  {
   "cell_type": "code",
   "execution_count": null,
   "id": "52230e41",
   "metadata": {},
   "outputs": [],
   "source": [
    "f5 = FAIR()"
   ]
  },
  {
   "cell_type": "code",
   "execution_count": null,
   "id": "cb4156f4",
   "metadata": {},
   "outputs": [],
   "source": [
    "f5.define_scenarios(scenarios)"
   ]
  },
  {
   "cell_type": "code",
   "execution_count": null,
   "id": "f76ed2ae",
   "metadata": {},
   "outputs": [],
   "source": [
    "f5.define_time(1750, 2500, 1)"
   ]
  },
  {
   "cell_type": "code",
   "execution_count": null,
   "id": "b25903e2",
   "metadata": {},
   "outputs": [],
   "source": [
    "species = ['CO2', 'CH4', 'N2O']"
   ]
  },
  {
   "cell_type": "code",
   "execution_count": null,
   "id": "da9985c8",
   "metadata": {},
   "outputs": [],
   "source": [
    "properties = {\n",
    "    'CO2': {\n",
    "        'type': 'co2',\n",
    "        'input_mode': 'concentration',\n",
    "        'greenhouse_gas': True,\n",
    "        'aerosol_chemistry_from_emissions': False,\n",
    "        'aerosol_chemistry_from_concentration': False\n",
    "    },\n",
    "    'CH4': {\n",
    "        'type': 'ch4',\n",
    "        'input_mode': 'concentration',\n",
    "        'greenhouse_gas': True,\n",
    "        'aerosol_chemistry_from_emissions': False,\n",
    "        'aerosol_chemistry_from_concentration': False\n",
    "    },\n",
    "    'N2O': {\n",
    "        'type': 'n2o',\n",
    "        'input_mode': 'concentration',\n",
    "        'greenhouse_gas': True,\n",
    "        'aerosol_chemistry_from_emissions': False,\n",
    "        'aerosol_chemistry_from_concentration': False\n",
    "    },\n",
    "}"
   ]
  },
  {
   "cell_type": "code",
   "execution_count": null,
   "id": "6d82d0dd",
   "metadata": {},
   "outputs": [],
   "source": [
    "## not running emissions-driven so drop CO2 precursors\n",
    "#species.remove('CO2 FFI')\n",
    "#species.remove('CO2 AFOLU')"
   ]
  },
  {
   "cell_type": "code",
   "execution_count": null,
   "id": "446e4220",
   "metadata": {},
   "outputs": [],
   "source": [
    "f5.define_species(species, properties)"
   ]
  },
  {
   "cell_type": "code",
   "execution_count": null,
   "id": "972e4aea",
   "metadata": {},
   "outputs": [],
   "source": [
    "f5.define_configs(['UKESM1-0-LL'])"
   ]
  },
  {
   "cell_type": "code",
   "execution_count": null,
   "id": "6feb2da9",
   "metadata": {},
   "outputs": [],
   "source": [
    "f5.allocate()"
   ]
  },
  {
   "cell_type": "code",
   "execution_count": null,
   "id": "cf598285",
   "metadata": {},
   "outputs": [],
   "source": [
    "f5.fill_species_configs()"
   ]
  },
  {
   "cell_type": "code",
   "execution_count": null,
   "id": "a8439318",
   "metadata": {},
   "outputs": [],
   "source": [
    "f5.ghg_method='Meinshausen2020'"
   ]
  },
  {
   "cell_type": "code",
   "execution_count": null,
   "id": "ffc92162",
   "metadata": {},
   "outputs": [],
   "source": [
    "fill(f5.climate_configs['ocean_heat_capacity'], [ 2.91730005, 11.28317472, 73.2487238 ], config='UKESM1-0-LL')\n",
    "fill(f5.climate_configs['ocean_heat_transfer'], [0.65576633, 2.59787768, 0.61293389], config='UKESM1-0-LL')\n",
    "fill(f5.climate_configs['deep_ocean_efficacy'], 1.13370877488901, config='UKESM1-0-LL')\n",
    "fill(f5.climate_configs['stochastic_run'], False, config='UKESM1-0-LL')\n",
    "fill(f5.climate_configs['use_seed'], False, config='UKESM1-0-LL')"
   ]
  },
  {
   "cell_type": "code",
   "execution_count": null,
   "id": "3f92f1c7",
   "metadata": {},
   "outputs": [],
   "source": [
    "f5.fill_from_rcmip()\n",
    "fill(f5.species_configs['baseline_concentration'], 731.4059957, specie='CH4')\n",
    "fill(f5.species_configs['baseline_concentration'], 277.1470032, specie='CO2')\n",
    "fill(f5.species_configs['baseline_concentration'], 273.8650513, specie='N2O')"
   ]
  },
  {
   "cell_type": "code",
   "execution_count": null,
   "id": "cee9f94a",
   "metadata": {},
   "outputs": [],
   "source": [
    "initialise(f5.temperature, 0)"
   ]
  },
  {
   "cell_type": "code",
   "execution_count": null,
   "id": "a9441919",
   "metadata": {},
   "outputs": [],
   "source": [
    "f5.run()"
   ]
  },
  {
   "cell_type": "code",
   "execution_count": null,
   "id": "c1b69836",
   "metadata": {},
   "outputs": [],
   "source": [
    "pl.plot(f5.forcing.squeeze())"
   ]
  },
  {
   "cell_type": "markdown",
   "id": "d25bc397",
   "metadata": {},
   "source": [
    "## Myhre et al. 1998 forcing, only big three"
   ]
  },
  {
   "cell_type": "code",
   "execution_count": null,
   "id": "b9722fd3",
   "metadata": {},
   "outputs": [],
   "source": [
    "f6 = FAIR()"
   ]
  },
  {
   "cell_type": "code",
   "execution_count": null,
   "id": "6fd5b207",
   "metadata": {},
   "outputs": [],
   "source": [
    "f6.define_scenarios(scenarios)"
   ]
  },
  {
   "cell_type": "code",
   "execution_count": null,
   "id": "0e85c556",
   "metadata": {},
   "outputs": [],
   "source": [
    "f6.define_time(1750, 2500, 1)"
   ]
  },
  {
   "cell_type": "code",
   "execution_count": null,
   "id": "cbaf6025",
   "metadata": {},
   "outputs": [],
   "source": [
    "species = ['CO2', 'CH4', 'N2O']"
   ]
  },
  {
   "cell_type": "code",
   "execution_count": null,
   "id": "dea7e408",
   "metadata": {},
   "outputs": [],
   "source": [
    "properties = {\n",
    "    'CO2': {\n",
    "        'type': 'co2',\n",
    "        'input_mode': 'concentration',\n",
    "        'greenhouse_gas': True,\n",
    "        'aerosol_chemistry_from_emissions': False,\n",
    "        'aerosol_chemistry_from_concentration': False\n",
    "    },\n",
    "    'CH4': {\n",
    "        'type': 'ch4',\n",
    "        'input_mode': 'concentration',\n",
    "        'greenhouse_gas': True,\n",
    "        'aerosol_chemistry_from_emissions': False,\n",
    "        'aerosol_chemistry_from_concentration': False\n",
    "    },\n",
    "    'N2O': {\n",
    "        'type': 'n2o',\n",
    "        'input_mode': 'concentration',\n",
    "        'greenhouse_gas': True,\n",
    "        'aerosol_chemistry_from_emissions': False,\n",
    "        'aerosol_chemistry_from_concentration': False\n",
    "    },\n",
    "}"
   ]
  },
  {
   "cell_type": "code",
   "execution_count": null,
   "id": "3cfa4db6",
   "metadata": {},
   "outputs": [],
   "source": [
    "## not running emissions-driven so drop CO2 precursors\n",
    "#species.remove('CO2 FFI')\n",
    "#species.remove('CO2 AFOLU')"
   ]
  },
  {
   "cell_type": "code",
   "execution_count": null,
   "id": "115cc0ce",
   "metadata": {},
   "outputs": [],
   "source": [
    "f6.define_species(species, properties)"
   ]
  },
  {
   "cell_type": "code",
   "execution_count": null,
   "id": "3d6bea08",
   "metadata": {},
   "outputs": [],
   "source": [
    "f6.define_configs(['UKESM1-0-LL'])"
   ]
  },
  {
   "cell_type": "code",
   "execution_count": null,
   "id": "75ccb0bd",
   "metadata": {},
   "outputs": [],
   "source": [
    "f6.allocate()"
   ]
  },
  {
   "cell_type": "code",
   "execution_count": null,
   "id": "a408a15d",
   "metadata": {},
   "outputs": [],
   "source": [
    "f6.fill_species_configs()"
   ]
  },
  {
   "cell_type": "code",
   "execution_count": null,
   "id": "ffb27cfc",
   "metadata": {},
   "outputs": [],
   "source": [
    "f6.ghg_method='Myhre1998'"
   ]
  },
  {
   "cell_type": "code",
   "execution_count": null,
   "id": "2c9064d4",
   "metadata": {},
   "outputs": [],
   "source": [
    "fill(f6.climate_configs['ocean_heat_capacity'], [ 2.91730005, 11.28317472, 73.2487238 ], config='UKESM1-0-LL')\n",
    "fill(f6.climate_configs['ocean_heat_transfer'], [0.65576633, 2.59787768, 0.61293389], config='UKESM1-0-LL')\n",
    "fill(f6.climate_configs['deep_ocean_efficacy'], 1.13370877488901, config='UKESM1-0-LL')\n",
    "fill(f6.climate_configs['stochastic_run'], False, config='UKESM1-0-LL')\n",
    "fill(f6.climate_configs['use_seed'], False, config='UKESM1-0-LL')"
   ]
  },
  {
   "cell_type": "code",
   "execution_count": null,
   "id": "48bc1e7e",
   "metadata": {},
   "outputs": [],
   "source": [
    "f6.fill_from_rcmip()\n",
    "fill(f6.species_configs['baseline_concentration'], 731.4059957, specie='CH4')\n",
    "fill(f6.species_configs['baseline_concentration'], 277.1470032, specie='CO2')\n",
    "fill(f6.species_configs['baseline_concentration'], 273.8650513, specie='N2O')"
   ]
  },
  {
   "cell_type": "code",
   "execution_count": null,
   "id": "e1092eea",
   "metadata": {},
   "outputs": [],
   "source": [
    "fill(f6.species_configs['tropospheric_adjustment'], 0)"
   ]
  },
  {
   "cell_type": "code",
   "execution_count": null,
   "id": "d057365b",
   "metadata": {},
   "outputs": [],
   "source": [
    "initialise(f6.temperature, 0)"
   ]
  },
  {
   "cell_type": "code",
   "execution_count": null,
   "id": "54db8c88",
   "metadata": {},
   "outputs": [],
   "source": [
    "f6.run()"
   ]
  },
  {
   "cell_type": "code",
   "execution_count": null,
   "id": "172247d0",
   "metadata": {},
   "outputs": [],
   "source": [
    "pl.plot(f6.forcing.squeeze())"
   ]
  },
  {
   "cell_type": "markdown",
   "id": "bfe9a950",
   "metadata": {},
   "source": [
    "## Meinshausen et al. 2020 forcing, only one minor GHG"
   ]
  },
  {
   "cell_type": "code",
   "execution_count": null,
   "id": "65ad2590",
   "metadata": {},
   "outputs": [],
   "source": [
    "f9 = FAIR()"
   ]
  },
  {
   "cell_type": "code",
   "execution_count": null,
   "id": "9e6f9d89",
   "metadata": {},
   "outputs": [],
   "source": [
    "f9.define_scenarios(scenarios)"
   ]
  },
  {
   "cell_type": "code",
   "execution_count": null,
   "id": "f36cae38",
   "metadata": {},
   "outputs": [],
   "source": [
    "f9.define_time(1750, 2500, 1)"
   ]
  },
  {
   "cell_type": "code",
   "execution_count": null,
   "id": "fe165cef",
   "metadata": {},
   "outputs": [],
   "source": [
    "species = ['HFC-134a']"
   ]
  },
  {
   "cell_type": "code",
   "execution_count": null,
   "id": "45021af8",
   "metadata": {},
   "outputs": [],
   "source": [
    "properties = {\n",
    "    'HFC-134a': {\n",
    "        'type': 'f-gas',\n",
    "        'input_mode': 'concentration',\n",
    "        'greenhouse_gas': True,\n",
    "        'aerosol_chemistry_from_emissions': False,\n",
    "        'aerosol_chemistry_from_concentration': False\n",
    "    },\n",
    "}"
   ]
  },
  {
   "cell_type": "code",
   "execution_count": null,
   "id": "20e420cf",
   "metadata": {},
   "outputs": [],
   "source": [
    "## not running emissions-driven so drop CO2 precursors\n",
    "#species.remove('CO2 FFI')\n",
    "#species.remove('CO2 AFOLU')"
   ]
  },
  {
   "cell_type": "code",
   "execution_count": null,
   "id": "7758d277",
   "metadata": {},
   "outputs": [],
   "source": [
    "f9.define_species(species, properties)"
   ]
  },
  {
   "cell_type": "code",
   "execution_count": null,
   "id": "591e3e43",
   "metadata": {},
   "outputs": [],
   "source": [
    "f9.define_configs(['UKESM1-0-LL'])"
   ]
  },
  {
   "cell_type": "code",
   "execution_count": null,
   "id": "f9ebeefb",
   "metadata": {},
   "outputs": [],
   "source": [
    "f9.allocate()"
   ]
  },
  {
   "cell_type": "code",
   "execution_count": null,
   "id": "420bf886",
   "metadata": {},
   "outputs": [],
   "source": [
    "f9.fill_species_configs()"
   ]
  },
  {
   "cell_type": "code",
   "execution_count": null,
   "id": "30b01ee9",
   "metadata": {},
   "outputs": [],
   "source": [
    "f9.ghg_method='Meinshausen2020'"
   ]
  },
  {
   "cell_type": "code",
   "execution_count": null,
   "id": "192ebf84",
   "metadata": {},
   "outputs": [],
   "source": [
    "fill(f9.climate_configs['ocean_heat_capacity'], [ 2.91730005, 11.28317472, 73.2487238 ], config='UKESM1-0-LL')\n",
    "fill(f9.climate_configs['ocean_heat_transfer'], [0.65576633, 2.59787768, 0.61293389], config='UKESM1-0-LL')\n",
    "fill(f9.climate_configs['deep_ocean_efficacy'], 1.13370877488901, config='UKESM1-0-LL')\n",
    "fill(f9.climate_configs['stochastic_run'], False, config='UKESM1-0-LL')\n",
    "fill(f9.climate_configs['use_seed'], False, config='UKESM1-0-LL')"
   ]
  },
  {
   "cell_type": "code",
   "execution_count": null,
   "id": "f0d12da4",
   "metadata": {},
   "outputs": [],
   "source": [
    "f9.fill_from_rcmip()\n",
    "fill(f9.species_configs['baseline_concentration'], 0, specie='HFC-134a')"
   ]
  },
  {
   "cell_type": "code",
   "execution_count": null,
   "id": "6c1ff09d",
   "metadata": {},
   "outputs": [],
   "source": [
    "initialise(f9.temperature, 0)"
   ]
  },
  {
   "cell_type": "code",
   "execution_count": null,
   "id": "c0e6fbbe",
   "metadata": {},
   "outputs": [],
   "source": [
    "f9.run()"
   ]
  },
  {
   "cell_type": "code",
   "execution_count": null,
   "id": "e961b019",
   "metadata": {},
   "outputs": [],
   "source": [
    "f9._minor_ghg_indices\n",
    "f9.species_configs['greenhouse_gas_radiative_efficiency']"
   ]
  },
  {
   "cell_type": "code",
   "execution_count": null,
   "id": "ad7d2beb",
   "metadata": {},
   "outputs": [],
   "source": [
    "pl.plot(f9.concentration.squeeze())"
   ]
  },
  {
   "cell_type": "code",
   "execution_count": null,
   "id": "47541219",
   "metadata": {},
   "outputs": [],
   "source": [
    "pl.plot(f9.forcing.squeeze())"
   ]
  },
  {
   "cell_type": "markdown",
   "id": "f45a1537",
   "metadata": {},
   "source": [
    "## Myhre et al. 1998 forcing, only one minor GHG"
   ]
  },
  {
   "cell_type": "code",
   "execution_count": null,
   "id": "8dad28ec",
   "metadata": {},
   "outputs": [],
   "source": [
    "f10 = FAIR()"
   ]
  },
  {
   "cell_type": "code",
   "execution_count": null,
   "id": "1b76a715",
   "metadata": {},
   "outputs": [],
   "source": [
    "f10.define_scenarios(scenarios)"
   ]
  },
  {
   "cell_type": "code",
   "execution_count": null,
   "id": "42b7d3ab",
   "metadata": {},
   "outputs": [],
   "source": [
    "f10.define_time(1750, 2500, 1)"
   ]
  },
  {
   "cell_type": "code",
   "execution_count": null,
   "id": "37aa98ec",
   "metadata": {},
   "outputs": [],
   "source": [
    "species = ['HFC-134a']"
   ]
  },
  {
   "cell_type": "code",
   "execution_count": null,
   "id": "dd347d3f",
   "metadata": {},
   "outputs": [],
   "source": [
    "properties = {\n",
    "    'HFC-134a': {\n",
    "        'type': 'f-gas',\n",
    "        'input_mode': 'concentration',\n",
    "        'greenhouse_gas': True,\n",
    "        'aerosol_chemistry_from_emissions': False,\n",
    "        'aerosol_chemistry_from_concentration': False\n",
    "    },\n",
    "}"
   ]
  },
  {
   "cell_type": "code",
   "execution_count": null,
   "id": "ce2e1eac",
   "metadata": {},
   "outputs": [],
   "source": [
    "## not running emissions-driven so drop CO2 precursors\n",
    "#species.remove('CO2 FFI')\n",
    "#species.remove('CO2 AFOLU')"
   ]
  },
  {
   "cell_type": "code",
   "execution_count": null,
   "id": "f30b895b",
   "metadata": {},
   "outputs": [],
   "source": [
    "f10.define_species(species, properties)"
   ]
  },
  {
   "cell_type": "code",
   "execution_count": null,
   "id": "4ace1a0a",
   "metadata": {},
   "outputs": [],
   "source": [
    "f10.define_configs(['UKESM1-0-LL'])"
   ]
  },
  {
   "cell_type": "code",
   "execution_count": null,
   "id": "e6bcff94",
   "metadata": {},
   "outputs": [],
   "source": [
    "f10.allocate()"
   ]
  },
  {
   "cell_type": "code",
   "execution_count": null,
   "id": "e8d68c03",
   "metadata": {},
   "outputs": [],
   "source": [
    "f10.fill_species_configs()"
   ]
  },
  {
   "cell_type": "code",
   "execution_count": null,
   "id": "6c722677",
   "metadata": {},
   "outputs": [],
   "source": [
    "f10.ghg_method='Myhre1998'"
   ]
  },
  {
   "cell_type": "code",
   "execution_count": null,
   "id": "33b09d28",
   "metadata": {},
   "outputs": [],
   "source": [
    "fill(f10.climate_configs['ocean_heat_capacity'], [ 2.91730005, 11.28317472, 73.2487238 ], config='UKESM1-0-LL')\n",
    "fill(f10.climate_configs['ocean_heat_transfer'], [0.65576633, 2.59787768, 0.61293389], config='UKESM1-0-LL')\n",
    "fill(f10.climate_configs['deep_ocean_efficacy'], 1.13370877488901, config='UKESM1-0-LL')\n",
    "fill(f10.climate_configs['stochastic_run'], False, config='UKESM1-0-LL')\n",
    "fill(f10.climate_configs['use_seed'], False, config='UKESM1-0-LL')"
   ]
  },
  {
   "cell_type": "code",
   "execution_count": null,
   "id": "80ebdcc7",
   "metadata": {},
   "outputs": [],
   "source": [
    "f10.fill_from_rcmip()\n",
    "fill(f10.species_configs['baseline_concentration'], 0, specie='HFC-134a')"
   ]
  },
  {
   "cell_type": "code",
   "execution_count": null,
   "id": "4524f0ef",
   "metadata": {},
   "outputs": [],
   "source": [
    "initialise(f10.temperature, 0)"
   ]
  },
  {
   "cell_type": "code",
   "execution_count": null,
   "id": "b2e7c7d3",
   "metadata": {},
   "outputs": [],
   "source": [
    "f10.run()"
   ]
  },
  {
   "cell_type": "code",
   "execution_count": null,
   "id": "61dcaa8b",
   "metadata": {},
   "outputs": [],
   "source": [
    "pl.plot(f10.concentration.squeeze())"
   ]
  },
  {
   "cell_type": "code",
   "execution_count": null,
   "id": "72932d00",
   "metadata": {},
   "outputs": [],
   "source": [
    "pl.plot(f10.forcing.squeeze())"
   ]
  },
  {
   "cell_type": "markdown",
   "id": "883a78fa",
   "metadata": {},
   "source": [
    "## Myhre et al. 1998 forcing, only CO2\n",
    "\n",
    "The lovely simple logarithmic relationship."
   ]
  },
  {
   "cell_type": "code",
   "execution_count": null,
   "id": "0b313bdd",
   "metadata": {},
   "outputs": [],
   "source": [
    "f14 = FAIR()"
   ]
  },
  {
   "cell_type": "code",
   "execution_count": null,
   "id": "ddb85e8b",
   "metadata": {},
   "outputs": [],
   "source": [
    "f14.define_scenarios(scenarios)"
   ]
  },
  {
   "cell_type": "code",
   "execution_count": null,
   "id": "1772e2d8",
   "metadata": {},
   "outputs": [],
   "source": [
    "f14.define_time(1750, 2500, 1)"
   ]
  },
  {
   "cell_type": "code",
   "execution_count": null,
   "id": "b971b503",
   "metadata": {},
   "outputs": [],
   "source": [
    "species = ['CO2']"
   ]
  },
  {
   "cell_type": "code",
   "execution_count": null,
   "id": "590d1d06",
   "metadata": {},
   "outputs": [],
   "source": [
    "properties = {\n",
    "    'CO2': {\n",
    "        'type': 'co2',\n",
    "        'input_mode': 'concentration',\n",
    "        'greenhouse_gas': True,\n",
    "        'aerosol_chemistry_from_emissions': False,\n",
    "        'aerosol_chemistry_from_concentration': False\n",
    "    },\n",
    "}"
   ]
  },
  {
   "cell_type": "code",
   "execution_count": null,
   "id": "fb7f7cc3",
   "metadata": {},
   "outputs": [],
   "source": [
    "f14.define_species(species, properties)"
   ]
  },
  {
   "cell_type": "code",
   "execution_count": null,
   "id": "eae05e87",
   "metadata": {},
   "outputs": [],
   "source": [
    "f14.define_configs(['UKESM1-0-LL'])"
   ]
  },
  {
   "cell_type": "code",
   "execution_count": null,
   "id": "f11ccf9d",
   "metadata": {},
   "outputs": [],
   "source": [
    "f14.allocate()"
   ]
  },
  {
   "cell_type": "code",
   "execution_count": null,
   "id": "9b694a70",
   "metadata": {},
   "outputs": [],
   "source": [
    "f14.fill_species_configs()"
   ]
  },
  {
   "cell_type": "code",
   "execution_count": null,
   "id": "bb909790",
   "metadata": {},
   "outputs": [],
   "source": [
    "f14.ghg_method='Myhre1998'"
   ]
  },
  {
   "cell_type": "code",
   "execution_count": null,
   "id": "b4f7dbf6",
   "metadata": {},
   "outputs": [],
   "source": [
    "fill(f14.climate_configs['ocean_heat_capacity'], [ 2.91730005, 11.28317472, 73.2487238 ], config='UKESM1-0-LL')\n",
    "fill(f14.climate_configs['ocean_heat_transfer'], [0.65576633, 2.59787768, 0.61293389], config='UKESM1-0-LL')\n",
    "fill(f14.climate_configs['deep_ocean_efficacy'], 1.13370877488901, config='UKESM1-0-LL')\n",
    "fill(f14.climate_configs['stochastic_run'], False, config='UKESM1-0-LL')\n",
    "fill(f14.climate_configs['use_seed'], False, config='UKESM1-0-LL')"
   ]
  },
  {
   "cell_type": "code",
   "execution_count": null,
   "id": "c530057b",
   "metadata": {},
   "outputs": [],
   "source": [
    "f14.fill_from_rcmip()\n",
    "fill(f14.species_configs['baseline_concentration'], 277.1470032, specie='CO2')"
   ]
  },
  {
   "cell_type": "code",
   "execution_count": null,
   "id": "8e7a04b3",
   "metadata": {},
   "outputs": [],
   "source": [
    "initialise(f14.temperature, 0)"
   ]
  },
  {
   "cell_type": "code",
   "execution_count": null,
   "id": "f7d3fa4e",
   "metadata": {},
   "outputs": [],
   "source": [
    "f14.run()"
   ]
  },
  {
   "cell_type": "code",
   "execution_count": null,
   "id": "3eb79537",
   "metadata": {},
   "outputs": [],
   "source": [
    "pl.plot(f14.concentration.squeeze())"
   ]
  },
  {
   "cell_type": "code",
   "execution_count": null,
   "id": "8f185f2f",
   "metadata": {},
   "outputs": [],
   "source": [
    "pl.plot(f14.forcing.squeeze())"
   ]
  },
  {
   "cell_type": "code",
   "execution_count": null,
   "id": "efc023ee",
   "metadata": {},
   "outputs": [],
   "source": []
  }
 ],
 "metadata": {
  "kernelspec": {
   "display_name": "Python 3 (ipykernel)",
   "language": "python",
   "name": "python3"
  },
  "language_info": {
   "codemirror_mode": {
    "name": "ipython",
    "version": 3
   },
   "file_extension": ".py",
   "mimetype": "text/x-python",
   "name": "python",
   "nbconvert_exporter": "python",
   "pygments_lexer": "ipython3",
   "version": "3.7.12"
  }
 },
 "nbformat": 4,
 "nbformat_minor": 5
}
