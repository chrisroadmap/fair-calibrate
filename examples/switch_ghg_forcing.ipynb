{
 "cells": [
  {
   "cell_type": "markdown",
   "id": "c63595e7",
   "metadata": {},
   "source": [
    "# Investigate different GHG radiative forcing relationships\n",
    "\n",
    "Run GHGs concentrations driven and investigate the impact of different GHG forcing relationships (Meinshausen et al. 2020, Myhre et al. 1998, Leach et al. 2021, Etminan et al. 2016) using SSP5-8.5.\n",
    "\n",
    "We will also set tropospheric adjustments to zero in each case so we are comparing SARF.\n",
    "\n",
    "This might be better coded up as a test rather than an example."
   ]
  },
  {
   "cell_type": "code",
   "execution_count": null,
   "id": "73db168e",
   "metadata": {},
   "outputs": [],
   "source": [
    "import copy\n",
    "\n",
    "import matplotlib.pyplot as pl\n",
    "\n",
    "from fair21 import FAIR\n",
    "from fair21.interface import fill, initialise\n",
    "from fair21.io import read_properties"
   ]
  },
  {
   "cell_type": "code",
   "execution_count": null,
   "id": "a28ad6c8",
   "metadata": {},
   "outputs": [],
   "source": [
    "%load_ext autoreload"
   ]
  },
  {
   "cell_type": "code",
   "execution_count": null,
   "id": "e800ff68",
   "metadata": {},
   "outputs": [],
   "source": [
    "%autoreload 2"
   ]
  },
  {
   "cell_type": "markdown",
   "id": "d05b81e0",
   "metadata": {},
   "source": [
    "## Test 1: all GHGs and other forcers"
   ]
  },
  {
   "cell_type": "code",
   "execution_count": null,
   "id": "61276574",
   "metadata": {},
   "outputs": [],
   "source": [
    "f1 = FAIR()"
   ]
  },
  {
   "cell_type": "code",
   "execution_count": null,
   "id": "25fb9e52",
   "metadata": {},
   "outputs": [],
   "source": [
    "scenarios = ['ssp585']"
   ]
  },
  {
   "cell_type": "code",
   "execution_count": null,
   "id": "505780a5",
   "metadata": {},
   "outputs": [],
   "source": [
    "f1.define_scenarios(scenarios)"
   ]
  },
  {
   "cell_type": "code",
   "execution_count": null,
   "id": "ddf32cd2",
   "metadata": {},
   "outputs": [],
   "source": [
    "f1.define_time(1750, 2500, 1)"
   ]
  },
  {
   "cell_type": "code",
   "execution_count": null,
   "id": "29145222",
   "metadata": {},
   "outputs": [],
   "source": [
    "species, properties = read_properties()"
   ]
  },
  {
   "cell_type": "code",
   "execution_count": null,
   "id": "59f2a346",
   "metadata": {},
   "outputs": [],
   "source": [
    "## not running emissions-driven so drop CO2 precursors\n",
    "#species.remove('CO2 FFI')\n",
    "#species.remove('CO2 AFOLU')"
   ]
  },
  {
   "cell_type": "code",
   "execution_count": null,
   "id": "f50d2880",
   "metadata": {},
   "outputs": [],
   "source": [
    "# set to concentration-driven runs for GHGs\n",
    "for k,v in properties.items():\n",
    "    if properties[k]['greenhouse_gas'] and properties[k]['input_mode'] in ['emissions', 'calculated']:\n",
    "        properties[k]['input_mode']='concentration'"
   ]
  },
  {
   "cell_type": "code",
   "execution_count": null,
   "id": "d4344304",
   "metadata": {},
   "outputs": [],
   "source": [
    "f1.define_species(species, properties)"
   ]
  },
  {
   "cell_type": "code",
   "execution_count": null,
   "id": "b2673921",
   "metadata": {},
   "outputs": [],
   "source": [
    "f1.define_configs(['UKESM1-0-LL'])"
   ]
  },
  {
   "cell_type": "code",
   "execution_count": null,
   "id": "04168a1a",
   "metadata": {},
   "outputs": [],
   "source": [
    "f1.allocate()"
   ]
  },
  {
   "cell_type": "code",
   "execution_count": null,
   "id": "8b739261",
   "metadata": {},
   "outputs": [],
   "source": [
    "f1.fill_species_configs()\n",
    "fill(f1.species_configs['baseline_concentration'], 731.4059957, specie='CH4')\n",
    "fill(f1.species_configs['baseline_concentration'], 277.1470032, specie='CO2')\n",
    "fill(f1.species_configs['baseline_concentration'], 273.8650513, specie='N2O')"
   ]
  },
  {
   "cell_type": "code",
   "execution_count": null,
   "id": "a2bc93ae",
   "metadata": {},
   "outputs": [],
   "source": [
    "fill(f1.species_configs['tropospheric_adjustment'], 0)"
   ]
  },
  {
   "cell_type": "code",
   "execution_count": null,
   "id": "10f7f71d",
   "metadata": {},
   "outputs": [],
   "source": [
    "f1.ghg_method='Meinshausen2020'"
   ]
  },
  {
   "cell_type": "code",
   "execution_count": null,
   "id": "89dcfdb9",
   "metadata": {},
   "outputs": [],
   "source": [
    "fill(f1.climate_configs['ocean_heat_capacity'], [ 2.91730005, 11.28317472, 73.2487238 ], config='UKESM1-0-LL')\n",
    "fill(f1.climate_configs['ocean_heat_transfer'], [0.65576633, 2.59787768, 0.61293389], config='UKESM1-0-LL')\n",
    "fill(f1.climate_configs['deep_ocean_efficacy'], 1.13370877488901, config='UKESM1-0-LL')\n",
    "fill(f1.climate_configs['stochastic_run'], False, config='UKESM1-0-LL')\n",
    "fill(f1.climate_configs['use_seed'], False, config='UKESM1-0-LL')"
   ]
  },
  {
   "cell_type": "code",
   "execution_count": null,
   "id": "5af0bf3a",
   "metadata": {},
   "outputs": [],
   "source": [
    "f1.fill_from_rcmip()"
   ]
  },
  {
   "cell_type": "code",
   "execution_count": null,
   "id": "7d9f5710",
   "metadata": {},
   "outputs": [],
   "source": [
    "initialise(f1.temperature, 0)"
   ]
  },
  {
   "cell_type": "code",
   "execution_count": null,
   "id": "eca4fa46",
   "metadata": {},
   "outputs": [],
   "source": [
    "f1.run()"
   ]
  },
  {
   "cell_type": "code",
   "execution_count": null,
   "id": "c069a7a2",
   "metadata": {},
   "outputs": [],
   "source": [
    "f2 = copy.deepcopy(f1)"
   ]
  },
  {
   "cell_type": "code",
   "execution_count": null,
   "id": "8431110e",
   "metadata": {},
   "outputs": [],
   "source": [
    "f2.ghg_method='Myhre1998'"
   ]
  },
  {
   "cell_type": "code",
   "execution_count": null,
   "id": "dd1aa6ef",
   "metadata": {},
   "outputs": [],
   "source": [
    "f2.run()"
   ]
  },
  {
   "cell_type": "code",
   "execution_count": null,
   "id": "20b955df",
   "metadata": {},
   "outputs": [],
   "source": [
    "f3 = copy.deepcopy(f1)"
   ]
  },
  {
   "cell_type": "code",
   "execution_count": null,
   "id": "a9c9a572",
   "metadata": {},
   "outputs": [],
   "source": [
    "f3.ghg_method='Etminan2016'"
   ]
  },
  {
   "cell_type": "code",
   "execution_count": null,
   "id": "61ddb92f",
   "metadata": {},
   "outputs": [],
   "source": [
    "f3.run()"
   ]
  },
  {
   "cell_type": "code",
   "execution_count": null,
   "id": "c4fbfe79",
   "metadata": {},
   "outputs": [],
   "source": [
    "f4 = copy.deepcopy(f1)"
   ]
  },
  {
   "cell_type": "code",
   "execution_count": null,
   "id": "dc76269d",
   "metadata": {},
   "outputs": [],
   "source": [
    "f4.ghg_method='Leach2021'"
   ]
  },
  {
   "cell_type": "code",
   "execution_count": null,
   "id": "35c220eb",
   "metadata": {},
   "outputs": [],
   "source": [
    "f4.run()"
   ]
  },
  {
   "cell_type": "code",
   "execution_count": null,
   "id": "c09684ce",
   "metadata": {},
   "outputs": [],
   "source": [
    "pl.plot(f1.timebounds, f1.forcing_sum.loc[dict(config='UKESM1-0-LL')], label='Meinshausen et al. 2020')\n",
    "pl.plot(f2.timebounds, f2.forcing_sum.loc[dict(config='UKESM1-0-LL')], label='Myhre et al. 1998')\n",
    "pl.plot(f3.timebounds, f3.forcing_sum.loc[dict(config='UKESM1-0-LL')], label='Etminan et al. 2016')\n",
    "pl.plot(f4.timebounds, f4.forcing_sum.loc[dict(config='UKESM1-0-LL')], label='Leach et al. 2021')\n",
    "pl.title('Total radiative forcing')\n",
    "pl.legend()"
   ]
  },
  {
   "cell_type": "code",
   "execution_count": null,
   "id": "7fefb58f",
   "metadata": {},
   "outputs": [],
   "source": [
    "pl.plot(f1.timebounds, f1.temperature.loc[dict(config='UKESM1-0-LL', layer=0)], label='Meinshausen et al. 2020')\n",
    "pl.plot(f2.timebounds, f2.temperature.loc[dict(config='UKESM1-0-LL', layer=0)], label='Myhre et al. 1998')\n",
    "pl.plot(f3.timebounds, f3.temperature.loc[dict(config='UKESM1-0-LL', layer=0)], label='Etminan et al. 2016')\n",
    "pl.plot(f4.timebounds, f4.temperature.loc[dict(config='UKESM1-0-LL', layer=0)], label='Leach et al. 2021')\n",
    "pl.title('Temperature anomaly')\n",
    "pl.legend()"
   ]
  },
  {
   "cell_type": "code",
   "execution_count": null,
   "id": "446de5ac",
   "metadata": {},
   "outputs": [],
   "source": [
    "pl.plot(f1.timebounds, f1.forcing.loc[dict(config='UKESM1-0-LL', specie='CO2')], label='Meinshausen et al. 2020')\n",
    "pl.plot(f2.timebounds, f2.forcing.loc[dict(config='UKESM1-0-LL', specie='CO2')], label='Myhre et al. 1998')\n",
    "pl.plot(f3.timebounds, f3.forcing.loc[dict(config='UKESM1-0-LL', specie='CO2')], label='Etminan et al. 2016')\n",
    "pl.plot(f4.timebounds, f4.forcing.loc[dict(config='UKESM1-0-LL', specie='CO2')], label='Leach et al. 2021')\n",
    "pl.title('CO2 radiative forcing')\n",
    "pl.legend()"
   ]
  },
  {
   "cell_type": "code",
   "execution_count": null,
   "id": "f86d3636",
   "metadata": {},
   "outputs": [],
   "source": [
    "pl.plot(f1.timebounds, f1.forcing.loc[dict(config='UKESM1-0-LL', specie='CH4')], label='Meinshausen et al. 2020')\n",
    "pl.plot(f2.timebounds, f2.forcing.loc[dict(config='UKESM1-0-LL', specie='CH4')], label='Myhre et al. 1998')\n",
    "pl.plot(f3.timebounds, f3.forcing.loc[dict(config='UKESM1-0-LL', specie='CH4')], label='Etminan et al. 2016')\n",
    "pl.plot(f4.timebounds, f4.forcing.loc[dict(config='UKESM1-0-LL', specie='CH4')], label='Leach et al. 2021')\n",
    "pl.title('CH4 radiative forcing')\n",
    "pl.legend()"
   ]
  },
  {
   "cell_type": "code",
   "execution_count": null,
   "id": "0ba4cf40",
   "metadata": {},
   "outputs": [],
   "source": [
    "pl.plot(f1.timebounds, f1.forcing.loc[dict(config='UKESM1-0-LL', specie='N2O')], label='Meinshausen et al. 2020')\n",
    "pl.plot(f2.timebounds, f2.forcing.loc[dict(config='UKESM1-0-LL', specie='N2O')], label='Myhre et al. 1998')\n",
    "pl.plot(f3.timebounds, f3.forcing.loc[dict(config='UKESM1-0-LL', specie='N2O')], label='Etminan et al. 2016')\n",
    "pl.plot(f4.timebounds, f4.forcing.loc[dict(config='UKESM1-0-LL', specie='N2O')], label='Leach et al. 2021')\n",
    "pl.title('N2O radiative forcing')\n",
    "pl.legend()"
   ]
  },
  {
   "cell_type": "code",
   "execution_count": null,
   "id": "e89c92c5",
   "metadata": {},
   "outputs": [],
   "source": [
    "f1.forcing.loc[dict(config='UKESM1-0-LL', specie='CO2', timebounds=2020)]"
   ]
  },
  {
   "cell_type": "markdown",
   "id": "4e99d647",
   "metadata": {},
   "source": [
    "## Test 2: only the main 3 GHGs"
   ]
  },
  {
   "cell_type": "code",
   "execution_count": null,
   "id": "52230e41",
   "metadata": {},
   "outputs": [],
   "source": [
    "f5 = FAIR()"
   ]
  },
  {
   "cell_type": "code",
   "execution_count": null,
   "id": "cb4156f4",
   "metadata": {},
   "outputs": [],
   "source": [
    "f5.define_scenarios(scenarios)"
   ]
  },
  {
   "cell_type": "code",
   "execution_count": null,
   "id": "f76ed2ae",
   "metadata": {},
   "outputs": [],
   "source": [
    "f5.define_time(1750, 2500, 1)"
   ]
  },
  {
   "cell_type": "code",
   "execution_count": null,
   "id": "b25903e2",
   "metadata": {},
   "outputs": [],
   "source": [
    "species = ['CO2', 'CH4', 'N2O']"
   ]
  },
  {
   "cell_type": "code",
   "execution_count": null,
   "id": "da9985c8",
   "metadata": {},
   "outputs": [],
   "source": [
    "properties = {\n",
    "    'CO2': {\n",
    "        'type': 'co2',\n",
    "        'input_mode': 'concentration',\n",
    "        'greenhouse_gas': True,\n",
    "        'aerosol_chemistry_from_emissions': False,\n",
    "        'aerosol_chemistry_from_concentration': False\n",
    "    },\n",
    "    'CH4': {\n",
    "        'type': 'ch4',\n",
    "        'input_mode': 'concentration',\n",
    "        'greenhouse_gas': True,\n",
    "        'aerosol_chemistry_from_emissions': False,\n",
    "        'aerosol_chemistry_from_concentration': False\n",
    "    },\n",
    "    'N2O': {\n",
    "        'type': 'n2o',\n",
    "        'input_mode': 'concentration',\n",
    "        'greenhouse_gas': True,\n",
    "        'aerosol_chemistry_from_emissions': False,\n",
    "        'aerosol_chemistry_from_concentration': False\n",
    "    },\n",
    "}"
   ]
  },
  {
   "cell_type": "code",
   "execution_count": null,
   "id": "6d82d0dd",
   "metadata": {},
   "outputs": [],
   "source": [
    "## not running emissions-driven so drop CO2 precursors\n",
    "#species.remove('CO2 FFI')\n",
    "#species.remove('CO2 AFOLU')"
   ]
  },
  {
   "cell_type": "code",
   "execution_count": null,
   "id": "446e4220",
   "metadata": {},
   "outputs": [],
   "source": [
    "f5.define_species(species, properties)"
   ]
  },
  {
   "cell_type": "code",
   "execution_count": null,
   "id": "972e4aea",
   "metadata": {},
   "outputs": [],
   "source": [
    "f5.define_configs(['UKESM1-0-LL'])"
   ]
  },
  {
   "cell_type": "code",
   "execution_count": null,
   "id": "6feb2da9",
   "metadata": {},
   "outputs": [],
   "source": [
    "f5.allocate()"
   ]
  },
  {
   "cell_type": "code",
   "execution_count": null,
   "id": "cf598285",
   "metadata": {},
   "outputs": [],
   "source": [
    "f5.fill_species_configs()"
   ]
  },
  {
   "cell_type": "code",
   "execution_count": null,
   "id": "a8439318",
   "metadata": {},
   "outputs": [],
   "source": [
    "f5.ghg_method='Meinshausen2020'"
   ]
  },
  {
   "cell_type": "code",
   "execution_count": null,
   "id": "ffc92162",
   "metadata": {},
   "outputs": [],
   "source": [
    "fill(f5.climate_configs['ocean_heat_capacity'], [ 2.91730005, 11.28317472, 73.2487238 ], config='UKESM1-0-LL')\n",
    "fill(f5.climate_configs['ocean_heat_transfer'], [0.65576633, 2.59787768, 0.61293389], config='UKESM1-0-LL')\n",
    "fill(f5.climate_configs['deep_ocean_efficacy'], 1.13370877488901, config='UKESM1-0-LL')\n",
    "fill(f5.climate_configs['stochastic_run'], False, config='UKESM1-0-LL')\n",
    "fill(f5.climate_configs['use_seed'], False, config='UKESM1-0-LL')"
   ]
  },
  {
   "cell_type": "code",
   "execution_count": null,
   "id": "3f92f1c7",
   "metadata": {},
   "outputs": [],
   "source": [
    "f5.fill_from_rcmip()\n",
    "fill(f5.species_configs['baseline_concentration'], 731.4059957, specie='CH4')\n",
    "fill(f5.species_configs['baseline_concentration'], 277.1470032, specie='CO2')\n",
    "fill(f5.species_configs['baseline_concentration'], 273.8650513, specie='N2O')"
   ]
  },
  {
   "cell_type": "code",
   "execution_count": null,
   "id": "e7d6984b",
   "metadata": {},
   "outputs": [],
   "source": [
    "fill(f5.species_configs['tropospheric_adjustment'], 0)"
   ]
  },
  {
   "cell_type": "code",
   "execution_count": null,
   "id": "cee9f94a",
   "metadata": {},
   "outputs": [],
   "source": [
    "initialise(f5.temperature, 0)"
   ]
  },
  {
   "cell_type": "code",
   "execution_count": null,
   "id": "a9441919",
   "metadata": {},
   "outputs": [],
   "source": [
    "f5.run()"
   ]
  },
  {
   "cell_type": "code",
   "execution_count": null,
   "id": "b9722fd3",
   "metadata": {},
   "outputs": [],
   "source": [
    "f6 = copy.deepcopy(f5)"
   ]
  },
  {
   "cell_type": "code",
   "execution_count": null,
   "id": "6fd5b207",
   "metadata": {},
   "outputs": [],
   "source": [
    "f6.ghg_method='Myhre1998'"
   ]
  },
  {
   "cell_type": "code",
   "execution_count": null,
   "id": "54db8c88",
   "metadata": {},
   "outputs": [],
   "source": [
    "f6.run()"
   ]
  },
  {
   "cell_type": "code",
   "execution_count": null,
   "id": "f8902db8",
   "metadata": {},
   "outputs": [],
   "source": [
    "f7 = copy.deepcopy(f5)"
   ]
  },
  {
   "cell_type": "code",
   "execution_count": null,
   "id": "357c9d3b",
   "metadata": {},
   "outputs": [],
   "source": [
    "f7.ghg_method='Etminan2016'"
   ]
  },
  {
   "cell_type": "code",
   "execution_count": null,
   "id": "d34e61bc",
   "metadata": {},
   "outputs": [],
   "source": [
    "f7.run()"
   ]
  },
  {
   "cell_type": "code",
   "execution_count": null,
   "id": "8aff3b71",
   "metadata": {},
   "outputs": [],
   "source": [
    "f8 = copy.deepcopy(f5)"
   ]
  },
  {
   "cell_type": "code",
   "execution_count": null,
   "id": "d019d4c9",
   "metadata": {},
   "outputs": [],
   "source": [
    "f8.ghg_method='Leach2021'"
   ]
  },
  {
   "cell_type": "code",
   "execution_count": null,
   "id": "754c2dbd",
   "metadata": {},
   "outputs": [],
   "source": [
    "f8.run()"
   ]
  },
  {
   "cell_type": "code",
   "execution_count": null,
   "id": "c88b3d28",
   "metadata": {},
   "outputs": [],
   "source": [
    "pl.plot(f5.timebounds, f5.forcing_sum.loc[dict(config='UKESM1-0-LL')], label='Meinshausen et al. 2020')\n",
    "pl.plot(f6.timebounds, f6.forcing_sum.loc[dict(config='UKESM1-0-LL')], label='Myhre et al. 1998')\n",
    "pl.plot(f7.timebounds, f7.forcing_sum.loc[dict(config='UKESM1-0-LL')], label='Etminan et al. 2016')\n",
    "pl.plot(f8.timebounds, f8.forcing_sum.loc[dict(config='UKESM1-0-LL')], label='Leach et al. 2016')\n",
    "pl.title('Total radiative forcing')\n",
    "pl.legend()"
   ]
  },
  {
   "cell_type": "code",
   "execution_count": null,
   "id": "9707a9fe",
   "metadata": {},
   "outputs": [],
   "source": [
    "pl.plot(f5.timebounds, f5.temperature.loc[dict(config='UKESM1-0-LL', layer=0)], label='Meinshausen et al. 2020')\n",
    "pl.plot(f6.timebounds, f6.temperature.loc[dict(config='UKESM1-0-LL', layer=0)], label='Myhre et al. 1998')\n",
    "pl.plot(f7.timebounds, f7.temperature.loc[dict(config='UKESM1-0-LL', layer=0)], label='Etminan et al. 2016')\n",
    "pl.plot(f8.timebounds, f8.temperature.loc[dict(config='UKESM1-0-LL', layer=0)], label='Leach et al. 2016')\n",
    "pl.title('Temperature')\n",
    "pl.legend()"
   ]
  },
  {
   "cell_type": "code",
   "execution_count": null,
   "id": "c6687c17",
   "metadata": {},
   "outputs": [],
   "source": [
    "pl.plot(f5.timebounds, f5.forcing.loc[dict(config='UKESM1-0-LL', specie='CO2')], label='Meinshausen et al. 2020')\n",
    "pl.plot(f6.timebounds, f6.forcing.loc[dict(config='UKESM1-0-LL', specie='CO2')], label='Myhre et al. 1998')\n",
    "pl.plot(f7.timebounds, f7.forcing.loc[dict(config='UKESM1-0-LL', specie='CO2')], label='Etminan et al. 2016')\n",
    "pl.plot(f8.timebounds, f8.forcing.loc[dict(config='UKESM1-0-LL', specie='CO2')], label='Leach et al. 2016')\n",
    "pl.title('CO2 radiative forcing')\n",
    "pl.legend()"
   ]
  },
  {
   "cell_type": "code",
   "execution_count": null,
   "id": "1e15126d",
   "metadata": {},
   "outputs": [],
   "source": [
    "pl.plot(f5.timebounds, f5.forcing.loc[dict(config='UKESM1-0-LL', specie='CH4')], label='Meinshausen et al. 2020')\n",
    "pl.plot(f6.timebounds, f6.forcing.loc[dict(config='UKESM1-0-LL', specie='CH4')], label='Myhre et al. 1998')\n",
    "pl.plot(f7.timebounds, f7.forcing.loc[dict(config='UKESM1-0-LL', specie='CH4')], label='Etminan et al. 2016')\n",
    "pl.plot(f8.timebounds, f8.forcing.loc[dict(config='UKESM1-0-LL', specie='CH4')], label='Leach et al. 2016')\n",
    "pl.title('CH4 radiative forcing')\n",
    "pl.legend()"
   ]
  },
  {
   "cell_type": "code",
   "execution_count": null,
   "id": "fc6f4138",
   "metadata": {},
   "outputs": [],
   "source": [
    "pl.plot(f5.timebounds, f5.forcing.loc[dict(config='UKESM1-0-LL', specie='N2O')], label='Meinshausen et al. 2020')\n",
    "pl.plot(f6.timebounds, f6.forcing.loc[dict(config='UKESM1-0-LL', specie='N2O')], label='Myhre et al. 1998')\n",
    "pl.plot(f7.timebounds, f7.forcing.loc[dict(config='UKESM1-0-LL', specie='N2O')], label='Etminan et al. 2016')\n",
    "pl.plot(f8.timebounds, f8.forcing.loc[dict(config='UKESM1-0-LL', specie='N2O')], label='Leach et al. 2016')\n",
    "pl.title('N2O radiative forcing')\n",
    "pl.legend()"
   ]
  },
  {
   "cell_type": "markdown",
   "id": "bfe9a950",
   "metadata": {},
   "source": [
    "## Test 3: only one minor GHG\n",
    "\n",
    "All should be identical"
   ]
  },
  {
   "cell_type": "code",
   "execution_count": null,
   "id": "65ad2590",
   "metadata": {},
   "outputs": [],
   "source": [
    "f9 = FAIR()"
   ]
  },
  {
   "cell_type": "code",
   "execution_count": null,
   "id": "9e6f9d89",
   "metadata": {},
   "outputs": [],
   "source": [
    "f9.define_scenarios(scenarios)"
   ]
  },
  {
   "cell_type": "code",
   "execution_count": null,
   "id": "f36cae38",
   "metadata": {},
   "outputs": [],
   "source": [
    "f9.define_time(1750, 2500, 1)"
   ]
  },
  {
   "cell_type": "code",
   "execution_count": null,
   "id": "fe165cef",
   "metadata": {},
   "outputs": [],
   "source": [
    "species = ['HFC-134a']"
   ]
  },
  {
   "cell_type": "code",
   "execution_count": null,
   "id": "45021af8",
   "metadata": {},
   "outputs": [],
   "source": [
    "properties = {\n",
    "    'HFC-134a': {\n",
    "        'type': 'f-gas',\n",
    "        'input_mode': 'concentration',\n",
    "        'greenhouse_gas': True,\n",
    "        'aerosol_chemistry_from_emissions': False,\n",
    "        'aerosol_chemistry_from_concentration': False\n",
    "    },\n",
    "}"
   ]
  },
  {
   "cell_type": "code",
   "execution_count": null,
   "id": "20e420cf",
   "metadata": {},
   "outputs": [],
   "source": [
    "## not running emissions-driven so drop CO2 precursors\n",
    "#species.remove('CO2 FFI')\n",
    "#species.remove('CO2 AFOLU')"
   ]
  },
  {
   "cell_type": "code",
   "execution_count": null,
   "id": "7758d277",
   "metadata": {},
   "outputs": [],
   "source": [
    "f9.define_species(species, properties)"
   ]
  },
  {
   "cell_type": "code",
   "execution_count": null,
   "id": "591e3e43",
   "metadata": {},
   "outputs": [],
   "source": [
    "f9.define_configs(['UKESM1-0-LL'])"
   ]
  },
  {
   "cell_type": "code",
   "execution_count": null,
   "id": "f9ebeefb",
   "metadata": {},
   "outputs": [],
   "source": [
    "f9.allocate()"
   ]
  },
  {
   "cell_type": "code",
   "execution_count": null,
   "id": "420bf886",
   "metadata": {},
   "outputs": [],
   "source": [
    "f9.fill_species_configs()"
   ]
  },
  {
   "cell_type": "code",
   "execution_count": null,
   "id": "30b01ee9",
   "metadata": {},
   "outputs": [],
   "source": [
    "f9.ghg_method='Meinshausen2020'"
   ]
  },
  {
   "cell_type": "code",
   "execution_count": null,
   "id": "192ebf84",
   "metadata": {},
   "outputs": [],
   "source": [
    "fill(f9.climate_configs['ocean_heat_capacity'], [ 2.91730005, 11.28317472, 73.2487238 ], config='UKESM1-0-LL')\n",
    "fill(f9.climate_configs['ocean_heat_transfer'], [0.65576633, 2.59787768, 0.61293389], config='UKESM1-0-LL')\n",
    "fill(f9.climate_configs['deep_ocean_efficacy'], 1.13370877488901, config='UKESM1-0-LL')\n",
    "fill(f9.climate_configs['stochastic_run'], False, config='UKESM1-0-LL')\n",
    "fill(f9.climate_configs['use_seed'], False, config='UKESM1-0-LL')"
   ]
  },
  {
   "cell_type": "code",
   "execution_count": null,
   "id": "f0d12da4",
   "metadata": {},
   "outputs": [],
   "source": [
    "f9.fill_from_rcmip()\n",
    "fill(f9.species_configs['baseline_concentration'], 0, specie='HFC-134a')"
   ]
  },
  {
   "cell_type": "code",
   "execution_count": null,
   "id": "6c1ff09d",
   "metadata": {},
   "outputs": [],
   "source": [
    "initialise(f9.temperature, 0)"
   ]
  },
  {
   "cell_type": "code",
   "execution_count": null,
   "id": "c0e6fbbe",
   "metadata": {},
   "outputs": [],
   "source": [
    "f9.run()"
   ]
  },
  {
   "cell_type": "code",
   "execution_count": null,
   "id": "8dad28ec",
   "metadata": {},
   "outputs": [],
   "source": [
    "f10 = copy.deepcopy(f9)"
   ]
  },
  {
   "cell_type": "code",
   "execution_count": null,
   "id": "1b76a715",
   "metadata": {},
   "outputs": [],
   "source": [
    "f10.ghg_method='myhre1998'"
   ]
  },
  {
   "cell_type": "code",
   "execution_count": null,
   "id": "42b7d3ab",
   "metadata": {},
   "outputs": [],
   "source": [
    "f10.run()"
   ]
  },
  {
   "cell_type": "code",
   "execution_count": null,
   "id": "7da8f762",
   "metadata": {},
   "outputs": [],
   "source": [
    "f11 = copy.deepcopy(f9)"
   ]
  },
  {
   "cell_type": "code",
   "execution_count": null,
   "id": "3400a76e",
   "metadata": {},
   "outputs": [],
   "source": [
    "f11.ghg_method='etminan2016'"
   ]
  },
  {
   "cell_type": "code",
   "execution_count": null,
   "id": "0da33446",
   "metadata": {},
   "outputs": [],
   "source": [
    "f11.run()"
   ]
  },
  {
   "cell_type": "code",
   "execution_count": null,
   "id": "21d80e9e",
   "metadata": {},
   "outputs": [],
   "source": [
    "f12 = copy.deepcopy(f9)"
   ]
  },
  {
   "cell_type": "code",
   "execution_count": null,
   "id": "1870da74",
   "metadata": {},
   "outputs": [],
   "source": [
    "f12.ghg_method='leach2021'"
   ]
  },
  {
   "cell_type": "code",
   "execution_count": null,
   "id": "432e26e1",
   "metadata": {},
   "outputs": [],
   "source": [
    "f12.run()"
   ]
  },
  {
   "cell_type": "code",
   "execution_count": null,
   "id": "558b53c0",
   "metadata": {},
   "outputs": [],
   "source": [
    "pl.plot(f9.timebounds, f9.forcing_sum.loc[dict(config='UKESM1-0-LL')], label='Meinshausen et al. 2020')\n",
    "pl.plot(f10.timebounds, f10.forcing_sum.loc[dict(config='UKESM1-0-LL')], label='Myhre et al. 1998')\n",
    "pl.plot(f11.timebounds, f11.forcing_sum.loc[dict(config='UKESM1-0-LL')], label='Etminan et al. 2016')\n",
    "pl.plot(f12.timebounds, f12.forcing_sum.loc[dict(config='UKESM1-0-LL')], label='Leach et al. 2021')\n",
    "pl.title('Total forcing')\n",
    "pl.legend()"
   ]
  },
  {
   "cell_type": "code",
   "execution_count": null,
   "id": "ae95a421",
   "metadata": {},
   "outputs": [],
   "source": [
    "pl.plot(f9.timebounds, f9.temperature.loc[dict(config='UKESM1-0-LL', layer=0)], label='Meinshausen et al. 2020')\n",
    "pl.plot(f10.timebounds, f10.temperature.loc[dict(config='UKESM1-0-LL', layer=0)], label='Myhre et al. 1998')\n",
    "pl.plot(f11.timebounds, f11.temperature.loc[dict(config='UKESM1-0-LL', layer=0)], label='Etminan et al. 2016')\n",
    "pl.plot(f12.timebounds, f12.temperature.loc[dict(config='UKESM1-0-LL', layer=0)], label='Leach et al. 2021')\n",
    "pl.title('Temperature')\n",
    "pl.legend()"
   ]
  },
  {
   "cell_type": "code",
   "execution_count": null,
   "id": "241c2cf0",
   "metadata": {},
   "outputs": [],
   "source": [
    "pl.plot(f9.timebounds, f9.forcing.loc[dict(config='UKESM1-0-LL', specie='HFC-134a')], label='Meinshausen et al. 2020')\n",
    "pl.plot(f10.timebounds, f10.forcing.loc[dict(config='UKESM1-0-LL', specie='HFC-134a')], label='Myhre et al. 1998')\n",
    "pl.plot(f11.timebounds, f11.forcing.loc[dict(config='UKESM1-0-LL', specie='HFC-134a')], label='Etminan et al. 2016')\n",
    "pl.plot(f12.timebounds, f12.forcing.loc[dict(config='UKESM1-0-LL', specie='HFC-134a')], label='Leach et al. 2021')\n",
    "pl.title('HFC-134a forcing')\n",
    "pl.legend()"
   ]
  },
  {
   "cell_type": "markdown",
   "id": "883a78fa",
   "metadata": {},
   "source": [
    "## Only CO2\n",
    "\n",
    "Will only work for Myhre (reducing to the classical log relationship) and Leach. For Etminan and Meinshausen, CH4 and N2O have to be provided (but could be set to PI or PD values)."
   ]
  },
  {
   "cell_type": "code",
   "execution_count": null,
   "id": "0b313bdd",
   "metadata": {},
   "outputs": [],
   "source": [
    "f14 = FAIR()"
   ]
  },
  {
   "cell_type": "code",
   "execution_count": null,
   "id": "ddb85e8b",
   "metadata": {},
   "outputs": [],
   "source": [
    "f14.define_scenarios(scenarios)"
   ]
  },
  {
   "cell_type": "code",
   "execution_count": null,
   "id": "1772e2d8",
   "metadata": {},
   "outputs": [],
   "source": [
    "f14.define_time(1750, 2500, 1)"
   ]
  },
  {
   "cell_type": "code",
   "execution_count": null,
   "id": "b971b503",
   "metadata": {},
   "outputs": [],
   "source": [
    "species = ['CO2']"
   ]
  },
  {
   "cell_type": "code",
   "execution_count": null,
   "id": "590d1d06",
   "metadata": {},
   "outputs": [],
   "source": [
    "properties = {\n",
    "    'CO2': {\n",
    "        'type': 'co2',\n",
    "        'input_mode': 'concentration',\n",
    "        'greenhouse_gas': True,\n",
    "        'aerosol_chemistry_from_emissions': False,\n",
    "        'aerosol_chemistry_from_concentration': False\n",
    "    },\n",
    "}"
   ]
  },
  {
   "cell_type": "code",
   "execution_count": null,
   "id": "fb7f7cc3",
   "metadata": {},
   "outputs": [],
   "source": [
    "f14.define_species(species, properties)"
   ]
  },
  {
   "cell_type": "code",
   "execution_count": null,
   "id": "eae05e87",
   "metadata": {},
   "outputs": [],
   "source": [
    "f14.define_configs(['UKESM1-0-LL'])"
   ]
  },
  {
   "cell_type": "code",
   "execution_count": null,
   "id": "f11ccf9d",
   "metadata": {},
   "outputs": [],
   "source": [
    "f14.allocate()"
   ]
  },
  {
   "cell_type": "code",
   "execution_count": null,
   "id": "9b694a70",
   "metadata": {},
   "outputs": [],
   "source": [
    "f14.fill_species_configs()"
   ]
  },
  {
   "cell_type": "code",
   "execution_count": null,
   "id": "bb909790",
   "metadata": {},
   "outputs": [],
   "source": [
    "f14.ghg_method='Myhre1998'"
   ]
  },
  {
   "cell_type": "code",
   "execution_count": null,
   "id": "b4f7dbf6",
   "metadata": {},
   "outputs": [],
   "source": [
    "fill(f14.climate_configs['ocean_heat_capacity'], [ 2.91730005, 11.28317472, 73.2487238 ], config='UKESM1-0-LL')\n",
    "fill(f14.climate_configs['ocean_heat_transfer'], [0.65576633, 2.59787768, 0.61293389], config='UKESM1-0-LL')\n",
    "fill(f14.climate_configs['deep_ocean_efficacy'], 1.13370877488901, config='UKESM1-0-LL')\n",
    "fill(f14.climate_configs['stochastic_run'], False, config='UKESM1-0-LL')\n",
    "fill(f14.climate_configs['use_seed'], False, config='UKESM1-0-LL')"
   ]
  },
  {
   "cell_type": "code",
   "execution_count": null,
   "id": "c530057b",
   "metadata": {},
   "outputs": [],
   "source": [
    "f14.fill_from_rcmip()\n",
    "fill(f14.species_configs['baseline_concentration'], 277.1470032, specie='CO2')"
   ]
  },
  {
   "cell_type": "code",
   "execution_count": null,
   "id": "8e7a04b3",
   "metadata": {},
   "outputs": [],
   "source": [
    "initialise(f14.temperature, 0)"
   ]
  },
  {
   "cell_type": "code",
   "execution_count": null,
   "id": "f7d3fa4e",
   "metadata": {},
   "outputs": [],
   "source": [
    "f14.run()"
   ]
  },
  {
   "cell_type": "code",
   "execution_count": null,
   "id": "edc8b878",
   "metadata": {},
   "outputs": [],
   "source": [
    "f16 = copy.deepcopy(f14)"
   ]
  },
  {
   "cell_type": "code",
   "execution_count": null,
   "id": "74a6cddb",
   "metadata": {},
   "outputs": [],
   "source": [
    "f16.ghg_method='leach2021'"
   ]
  },
  {
   "cell_type": "code",
   "execution_count": null,
   "id": "9d55462e",
   "metadata": {},
   "outputs": [],
   "source": [
    "f16.run()"
   ]
  },
  {
   "cell_type": "code",
   "execution_count": null,
   "id": "3eb79537",
   "metadata": {},
   "outputs": [],
   "source": [
    "pl.plot(f14.timebounds, f14.forcing_sum.loc[dict(config='UKESM1-0-LL')], label='Myhre et al. 1998')\n",
    "pl.plot(f16.timebounds, f16.forcing_sum.loc[dict(config='UKESM1-0-LL')], label='Leach et al. 2021')\n",
    "pl.title('Total forcing')\n",
    "pl.legend()"
   ]
  },
  {
   "cell_type": "code",
   "execution_count": null,
   "id": "8f185f2f",
   "metadata": {},
   "outputs": [],
   "source": [
    "pl.plot(f14.timebounds, f14.temperature.loc[dict(config='UKESM1-0-LL', layer=0)], label='Myhre et al. 1998')\n",
    "pl.plot(f16.timebounds, f16.temperature.loc[dict(config='UKESM1-0-LL', layer=0)], label='Leach et al. 2021')\n",
    "pl.title('Temperature')\n",
    "pl.legend()"
   ]
  },
  {
   "cell_type": "code",
   "execution_count": null,
   "id": "efc023ee",
   "metadata": {},
   "outputs": [],
   "source": []
  }
 ],
 "metadata": {
  "kernelspec": {
   "display_name": "Python 3 (ipykernel)",
   "language": "python",
   "name": "python3"
  },
  "language_info": {
   "codemirror_mode": {
    "name": "ipython",
    "version": 3
   },
   "file_extension": ".py",
   "mimetype": "text/x-python",
   "name": "python",
   "nbconvert_exporter": "python",
   "pygments_lexer": "ipython3",
   "version": "3.7.12"
  }
 },
 "nbformat": 4,
 "nbformat_minor": 5
}
