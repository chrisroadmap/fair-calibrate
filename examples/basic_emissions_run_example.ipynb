{
 "cells": [
  {
   "cell_type": "markdown",
   "id": "ae8f2073",
   "metadata": {},
   "source": [
    "# Example of FaIRv2.1\n",
    "\n",
    "FaIR v2.1 is object-oriented and designed to be more flexible than its predecessors. This does mean that setting up a problem is different to before - gone are the days of 60 keyword arguments to `fair_scm` and we now use hierarchical classes with fewer arguments that in the long run should be easier to use. Of course, there is a learning curve, and will take some getting used to. This tutorial aims to walk through a simple problem using FaIR 2.1.\n",
    "\n",
    "The structure of FaIR 2.1 centres around the `FAIR` class, which contains all information about the scenario(s), the forcer(s) we want to investigate, and any configurations specific to each species and the response of the climate.\n",
    "\n",
    "A run is defined as follows:\n",
    "\n",
    "```\n",
    "fair = FAIR(scenarios, configs, timestep, run_config)\n",
    "```\n",
    "\n",
    "This loads scenarios and configurations into FaIR. The model is run with\n",
    "\n",
    "```\n",
    "fair.run()\n",
    "```\n",
    "\n",
    "results are stored within the `fair` instance, and can be obtained such as\n",
    "\n",
    "```\n",
    "print(fair.temperature)\n",
    "```\n",
    "\n",
    "Multiple `scenarios` and `configs` can be supplied in a `FAIR` instance, and due to internal parallelisation is the fastest way to run the model (100 ensemble members per second for 1750-2100 on my Mac for an emissions driven run). The total number of scenarios that will be run is the product of `scenarios` and `configs`. For example we might want to run three emissions `scenarios` -- let's say SSP1-2.6, SSP2-4.5 and SSP3-7.0 -- using climate calibrations (`configs`) from the UKESM, GFDL, MIROC and NorESM climate models. This would give us a total of 3$\\times$4 = 12 ensemble members in total which are run in parallel.\n",
    "\n",
    "The most difficult part to learning FaIR 2.1 is correctly defining the `scenarios` and `configs`. As in previous versions of FaIR, there is a lot of flexibility, and simplifying the calling interface (`fair_scm` in v1.x) has come at the cost of most of these options being moved into one of the `SpeciesID`, `ClimateResponse`, `SpeciesConfig` or `RunConfig` instances.\n",
    "\n",
    "## Recommended order for setting up a problem\n",
    "\n",
    "In this tutorial the recommended order in which to define a problem is set out step by step, and is as follows:\n",
    "\n",
    "1. Define each `SpeciesID`: what is forcing our model and how?\n",
    "2. Assign data (emissions, concentration, forcing etc.) to each `SpeciesID` in the `Species` class\n",
    "3. Create one or more `Scenario`s, which are each defined as a list of `Species`. The list of `Scenario`s is the first attribute of the `FAIR` class above.\n",
    "4. Create instances of `ClimateResponse`: how we want the climate to behave for each `Scenario`.\n",
    "5. For each of the `ClimateResponse` instances, create a list of `SpeciesConfig`s that cover the same `SpeciesID`s that go into the `Scenario`s (in the same order).\n",
    "6. Create a list of `Config`s containing lists of `ClimateResponse` and `SpeciesConfig`. This goes into the second attribute of the `FAIR` class.\n",
    "7. Define a `timestep` value in years. This is the third attribute of `FAIR`. It's optional if the timestep is one year.\n",
    "8. Define any additional top-level run configurations in the `RunConfig` class. This is the fourth attribute of `FAIR`. Again if using default run configurations, it's optional.\n",
    "9. Run `FAIR`."
   ]
  },
  {
   "cell_type": "markdown",
   "id": "79c67783",
   "metadata": {},
   "source": [
    "## Defining the scope of our problem"
   ]
  },
  {
   "cell_type": "markdown",
   "id": "ceeecf60",
   "metadata": {},
   "source": [
    "### The SpeciesID\n",
    "\n",
    "The starting point is the `SpeciesID` class which defines the forcers -- anthropogenic or natural -- that are present in your scenario. Each `SpeciesID` is assigned a name that is used to distinguish it from other species, along with a `Category` class that defines what the thing actually is, and a `RunMode` that defines how we want to include this particular `SpeciesID` in the model."
   ]
  },
  {
   "cell_type": "code",
   "execution_count": null,
   "id": "ffc6d3b1",
   "metadata": {},
   "outputs": [],
   "source": [
    "from fair21 import SpeciesID, Category, RunMode"
   ]
  },
  {
   "cell_type": "code",
   "execution_count": null,
   "id": "65fa271f",
   "metadata": {},
   "outputs": [],
   "source": [
    "print(SpeciesID.__doc__)"
   ]
  },
  {
   "cell_type": "markdown",
   "id": "e5e6c354",
   "metadata": {},
   "source": [
    "In this example we'll start off running a scenario with CO2 from fossil fuels and industry, CO2 from AFOLU, CH4, N2O, and Sulfur (note you don't need the full 40 species used in v1.1-1.6). To highlight some of the functionality we'll run CO2 and Sulfur emissions-driven, and CH4 and N2O concentration-driven. (This is akin to an `esm-ssp585` kind of run from CMIP6, though with fewer species). We'll use totally fake data here - this is not intended to represent a real-world scenario but just to highlight how FaIR works.\n",
    "\n",
    "First, we need to define the `SpeciesID`s of all of the things we want to include. Full simulations may have 50 or more species included, so it can be beneficial to build a `dict` of `SpeciesID`s, particularly as we will re-use them later. This is what we'll do here.\n",
    "\n",
    "Finally, it's important to be consistent about the `name` attribute given to each `SpeciesID` as this will be used later in the `SpeciesConfig`s."
   ]
  },
  {
   "cell_type": "code",
   "execution_count": null,
   "id": "10b36024",
   "metadata": {},
   "outputs": [],
   "source": [
    "species_ids = {}\n",
    "species_ids['co2_ffi'] = SpeciesID('CO2 Fossil fuel and industrial', Category.CO2_FFI, RunMode.EMISSIONS)\n",
    "species_ids['co2_afolu'] = SpeciesID('CO2 AFOLU', Category.CO2_AFOLU, RunMode.EMISSIONS)\n",
    "species_ids['co2'] = SpeciesID('CO2', Category.CO2, RunMode.FROM_OTHER_SPECIES)\n",
    "species_ids['ch4'] = SpeciesID('CH4', Category.CH4, RunMode.CONCENTRATION)\n",
    "species_ids['n2o'] = SpeciesID('N2O', Category.N2O, RunMode.CONCENTRATION)\n",
    "species_ids['sulfur'] = SpeciesID('Sulfur', Category.SULFUR, RunMode.EMISSIONS)\n",
    "species_ids['aci'] = SpeciesID('Aerosol-cloud interactions', Category.AEROSOL_CLOUD_INTERACTIONS, RunMode.FROM_OTHER_SPECIES)"
   ]
  },
  {
   "cell_type": "markdown",
   "id": "0a20ed9a",
   "metadata": {},
   "source": [
    "There's a few things going on here. We see that `Category` and `RunMode` have specific values that they can take: they are `dataclass`es (a new feature in Python 3.7, so FaIR 2.1 requires at least this version of Python). Let's explore these a litte more closely."
   ]
  },
  {
   "cell_type": "markdown",
   "id": "a921d49e",
   "metadata": {},
   "source": [
    "### Category class\n",
    "\n",
    "We see there's 20 or valid values for `Category` which can be attached to a `SpeciesID` or `Species`, and everything included in FaIR must fall into one of these categories:"
   ]
  },
  {
   "cell_type": "code",
   "execution_count": null,
   "id": "c2410dcb",
   "metadata": {},
   "outputs": [],
   "source": [
    "dir(Category)"
   ]
  },
  {
   "cell_type": "markdown",
   "id": "e21d2af0",
   "metadata": {},
   "source": [
    "Trying to access a `Category` outside of this raises an error. But miscellaneous forcings that are not part of the above categorization can be included as`Category.OTHER` (cf. FaIR v1.0 considering non-CO2 forcings)."
   ]
  },
  {
   "cell_type": "code",
   "execution_count": null,
   "id": "7e876748",
   "metadata": {},
   "outputs": [],
   "source": [
    "try:\n",
    "    Category.COSMIC_RAYS\n",
    "except Exception as exc:\n",
    "    print(f\"{str(exc)} is not a valid Category\")"
   ]
  },
  {
   "cell_type": "markdown",
   "id": "8e2afceb",
   "metadata": {},
   "source": [
    "### RunMode class\n",
    "\n",
    "The `RunMode` defines how we want to drive the model for each `Species`. It is defined as a attribute of `SpeciesID` and takes one of four possible values:\n",
    "\n",
    "1. `RunMode.EMISSIONS`\n",
    "2. `RunMode.CONCENTRATION`\n",
    "3. `RunMode.FORCING`\n",
    "4. `RunMode.FROM_OTHER_SPECIES`\n",
    "\n",
    "The first three are self-explanatory. `RunMode.FROM_OTHER_SPECIES` is used when there's no direct emission or concentration relationship to a climate forcing agent.\n",
    "\n",
    "In our example above, we use `RunMode.FROM_OTHER_SPECIES` for CO2 because the total burden of atmospheric CO2 comes from two sources: fossil fuel + industry and AFOLU (which are emissions-driven). In reality this is true for many emissions sources, but CO2 AFOLU has a special treatment in FaIR and as such when running emissions-driven it is necessary to separate the sources."
   ]
  },
  {
   "cell_type": "markdown",
   "id": "b4a8aa79",
   "metadata": {},
   "source": [
    "Not all `RunMode`s are defined or sensible for all `Species`."
   ]
  },
  {
   "cell_type": "code",
   "execution_count": null,
   "id": "1d2251d0",
   "metadata": {},
   "outputs": [],
   "source": [
    "try:\n",
    "    SpeciesID('Solar', Category.SOLAR, RunMode.EMISSIONS)\n",
    "except Exception as exc:\n",
    "    print(str(exc))"
   ]
  },
  {
   "cell_type": "markdown",
   "id": "414c037c",
   "metadata": {},
   "source": [
    "and in fact, we can't run just the plain `Category.CO2` mode emissions-driven either."
   ]
  },
  {
   "cell_type": "code",
   "execution_count": null,
   "id": "79f0d9b5",
   "metadata": {},
   "outputs": [],
   "source": [
    "try:\n",
    "    SpeciesID('Total CO2', Category.CO2, RunMode.EMISSIONS)\n",
    "except Exception as exc:\n",
    "    print(str(exc))"
   ]
  },
  {
   "cell_type": "markdown",
   "id": "1ccab5ba",
   "metadata": {},
   "source": [
    "That's not to say that `Category.CO2` can't take emissions: when we provide a concentration-driven CO2 run, we have no idea what the source of the CO2 actually was so we have to assign it all to one group. We'll revisit this when we come to concentration-driven CO2 runs.\n",
    "\n",
    "The other thing we have done in our example is defined a `Category.AEROSOL_CLOUD_INTERACTIONS` that calculated this forcing from sulfur emissions."
   ]
  },
  {
   "cell_type": "markdown",
   "id": "99f1524c",
   "metadata": {},
   "source": [
    "## Assigning data: the Species class\n",
    "\n",
    "`SpeciesID` just tells us what is present. To build a `Scenario`, we have to populate it with `Species` that assigns emissions, concentrations or forcing to a `SpeciesID`. We can run multiple `Scenario`s per evaluation of FaIR, and therefore we can have several instances of `Species` pointing to the same `SpeciesID` when running a scenario batch. This is what we will do below, running two scenarios."
   ]
  },
  {
   "cell_type": "code",
   "execution_count": null,
   "id": "20b7636e",
   "metadata": {},
   "outputs": [],
   "source": [
    "from fair21 import Species\n",
    "import numpy as np"
   ]
  },
  {
   "cell_type": "code",
   "execution_count": null,
   "id": "388a6e4f",
   "metadata": {},
   "outputs": [],
   "source": [
    "print(Species.__doc__)"
   ]
  },
  {
   "cell_type": "markdown",
   "id": "ce87325b",
   "metadata": {},
   "source": [
    "Here, we'll run two 50 year long scenarios. The first will have emissions and concentrations for the 50 years that roughly reflect present-day emissions or concentrations to each `Species`. The second will ramp up to that level in year 50 from pre-industrial levels.\n",
    "\n",
    "Again, we'll use `dict`s to group together `Scenario`s. We require a `list` of `Species` for each `Scenario`. The order in which `Species` are input doesn't matter (unlike in FaIR 1.1-1.6), but it must be consistent across `Scenario`s and later on in `SpeciesConfig`s.\n",
    "\n",
    "Note also that we need to define the total CO2 and Aerosol-cloud interaction `Species`, but we do not assign emissions or forcing to them.\n",
    "\n",
    "For CH4 and N2O (and in fact, every greenhouse gas), the pre-industrial concentrations are stored as `baseline_concentrations` in a module of species defaults, and can be imported."
   ]
  },
  {
   "cell_type": "code",
   "execution_count": null,
   "id": "23d6c6f2",
   "metadata": {},
   "outputs": [],
   "source": [
    "from fair21.defaults.default_species_config import default_species_config\n",
    "\n",
    "ch4_concentration_pi = default_species_config['ch4'].baseline_concentration\n",
    "n2o_concentration_pi = default_species_config['n2o'].baseline_concentration\n",
    "print(f\"Default baseline concentrations: CH4 = {ch4_concentration_pi} ppb, N2O = {n2o_concentration_pi} ppb\")\n",
    "\n",
    "# for a list of defined defaults\n",
    "print()\n",
    "print(\"Default species defined:\", list(default_species_config.keys()))"
   ]
  },
  {
   "cell_type": "code",
   "execution_count": null,
   "id": "e545e0b6",
   "metadata": {},
   "outputs": [],
   "source": [
    "species = {}\n",
    "\n",
    "# remember the order!\n",
    "species['abrupt'] = [\n",
    "    Species(species_ids['co2_ffi'], emissions=np.ones(50)*38), # default unit GtCO2/yr\n",
    "    Species(species_ids['co2_afolu'], emissions=np.ones(50)*3) ,\n",
    "    Species(species_ids['ch4'], concentration=np.ones(50)*1800), # default unit ppb\n",
    "    Species(species_ids['n2o'], concentration=np.ones(50)*325),\n",
    "    Species(species_ids['sulfur'], emissions=np.ones(50)*100), # default unit MtSO2/yr\n",
    "    Species(species_ids['co2']),\n",
    "    Species(species_ids['aci'])\n",
    "]\n",
    "\n",
    "species['ramp'] = [\n",
    "    Species(species_ids['co2_ffi'], emissions=np.linspace(0, 38, 50)), # default unit GtCO2/yr\n",
    "    Species(species_ids['co2_afolu'], emissions=np.linspace(0, 3, 50)), \n",
    "    Species(species_ids['ch4'], concentration=np.linspace(ch4_concentration_pi, 1800, 50)),\n",
    "    Species(species_ids['n2o'], concentration=np.linspace(n2o_concentration_pi, 325, 50)),\n",
    "    Species(species_ids['sulfur'], emissions=np.ones(50)*100), # default unit MtSO2/yr\n",
    "    Species(species_ids['co2']),\n",
    "    Species(species_ids['aci'])\n",
    "]"
   ]
  },
  {
   "cell_type": "markdown",
   "id": "fe89e1d2",
   "metadata": {},
   "source": [
    "We see that `SpeciesID`s are re-used as they uniquely define what each substance actually is, but `Species` are defined once per `Scenario` as we can investigate different forcing pathways with the same setup.\n",
    "\n",
    "Let's see an example of what the `Species` class looks like to the code."
   ]
  },
  {
   "cell_type": "code",
   "execution_count": null,
   "id": "69ed958e",
   "metadata": {},
   "outputs": [],
   "source": [
    "species['ramp'][3]"
   ]
  },
  {
   "cell_type": "markdown",
   "id": "07358a69",
   "metadata": {},
   "source": [
    "## Defining Scenarios\n",
    "\n",
    "We have declared all of our `Species`, and we now need to formally assign them to `Scenario`s in the code."
   ]
  },
  {
   "cell_type": "code",
   "execution_count": null,
   "id": "a62691ba",
   "metadata": {},
   "outputs": [],
   "source": [
    "from fair21 import Scenario"
   ]
  },
  {
   "cell_type": "code",
   "execution_count": null,
   "id": "7cfdf477",
   "metadata": {},
   "outputs": [],
   "source": [
    "print(Scenario.__doc__)"
   ]
  },
  {
   "cell_type": "markdown",
   "id": "6f926186",
   "metadata": {},
   "source": [
    "`scenarios` go into `fair` as a list, and we can take a peek at what our `Scenario` actually looks like to FaIR."
   ]
  },
  {
   "cell_type": "code",
   "execution_count": null,
   "id": "e70c9337",
   "metadata": {},
   "outputs": [],
   "source": [
    "scenarios = []\n",
    "for scenario in ['abrupt', 'ramp']:\n",
    "    scenarios.append(Scenario(scenario, species[scenario]))"
   ]
  },
  {
   "cell_type": "markdown",
   "id": "80937b55",
   "metadata": {},
   "source": [
    "## The Configs\n",
    "\n",
    "`Scenario`s define what goes into the model, but `Config`s define the model behaviour. There are two types of configs (well, actually three if you include the overall run configs, but these are defined at the top level and we'll revisit these later):\n",
    "\n",
    "1. `ClimateResponse` defines the climate sensitivity, ocean heat capacities, heat transfer coefficient, etc. It defines how forcing is converted to temperature in the model. Only one `ClimateResponse` per config should be defined.\n",
    "2. `SpeciesConfig` defines things such as greenhouse gas lifetimes, radiative forcing efficacy, gas cycle airborne fraction, and many other things. It has a lot of options, and a lot of flexibility. A list containing a `SpeciesConfig` for each defined species in the scenarios needs to be provided.\n",
    "\n",
    "`Config`s are defined as follows:\n",
    "\n",
    "```\n",
    "config = Config(name, climate_response, species_configs)\n",
    "```\n",
    "\n",
    "We then provide a list of configs to FaIR."
   ]
  },
  {
   "cell_type": "markdown",
   "id": "724e454d",
   "metadata": {},
   "source": [
    "In this example, we'll provide three configs representing high, medium and low climate sensitivity climate models, and also vary the `SpeciesConfig` in each to provide some variation in the carbon cycle feedbacks and the strength of the aerosol forcing."
   ]
  },
  {
   "cell_type": "markdown",
   "id": "21591c03",
   "metadata": {},
   "source": [
    "### Climate response\n",
    "\n",
    "We'll start with the climate response which is slightly easier. This is an $n$-box energy balance model, where $n=3$ by default (this can be changed in the `RunConfig`). "
   ]
  },
  {
   "cell_type": "code",
   "execution_count": null,
   "id": "d9db0654",
   "metadata": {},
   "outputs": [],
   "source": [
    "from fair21 import ClimateResponse"
   ]
  },
  {
   "cell_type": "code",
   "execution_count": null,
   "id": "180fe42b",
   "metadata": {},
   "outputs": [],
   "source": [
    "print(ClimateResponse.__doc__)"
   ]
  },
  {
   "cell_type": "code",
   "execution_count": null,
   "id": "6433b4f9",
   "metadata": {},
   "outputs": [],
   "source": [
    "climate_response = {}\n",
    "climate_response['high'] = ClimateResponse(\n",
    "    ocean_heat_capacity = np.array([5, 15, 80]),\n",
    "    ocean_heat_transfer = np.array([0.6, 1.3, 1.0]),\n",
    "    deep_ocean_efficacy = 1.29,\n",
    "    stochastic_run = False\n",
    ")\n",
    "climate_response['central'] = ClimateResponse(\n",
    "    ocean_heat_capacity = np.array([8, 14, 100]),\n",
    "    ocean_heat_transfer = np.array([1.1, 1.6, 0.9]),\n",
    "    deep_ocean_efficacy = 1.1,\n",
    "    stochastic_run = False\n",
    ")\n",
    "climate_response['low'] = ClimateResponse(\n",
    "    ocean_heat_capacity = np.array([6, 11, 75]),\n",
    "    ocean_heat_transfer = np.array([1.7, 2.0, 1.1]),\n",
    "    deep_ocean_efficacy = 0.8,\n",
    "    stochastic_run = False\n",
    ")"
   ]
  },
  {
   "cell_type": "markdown",
   "id": "094a23bd",
   "metadata": {},
   "source": [
    "### Species configuration\n",
    "\n",
    "There are a lot of options - but only a few per species are used. And to make things easier, the `default_species_config` module contains many really useful defaults."
   ]
  },
  {
   "cell_type": "code",
   "execution_count": null,
   "id": "a6913cfc",
   "metadata": {},
   "outputs": [],
   "source": [
    "from fair21 import SpeciesConfig"
   ]
  },
  {
   "cell_type": "code",
   "execution_count": null,
   "id": "996c719b",
   "metadata": {},
   "outputs": [],
   "source": [
    "print(SpeciesConfig.__doc__)"
   ]
  },
  {
   "cell_type": "markdown",
   "id": "b0d3bfc7",
   "metadata": {},
   "source": [
    "Here's an example of a default:"
   ]
  },
  {
   "cell_type": "code",
   "execution_count": null,
   "id": "4e8876ad",
   "metadata": {},
   "outputs": [],
   "source": [
    "default_species_config['co2']"
   ]
  },
  {
   "cell_type": "markdown",
   "id": "6b8c6ed5",
   "metadata": {},
   "source": [
    "Again let's create a `dict` with the key `config` name from the `ClimateResponse` and a list of `SpeciesConfig`s.\n",
    "\n",
    "In most cases you won't need to modify the defaults too much and they can be used as a starting point. So let's do this, looping through `config` and `species` but just for fun maybe also vary some of the sensivities in the carbon cycle, and switch the aerosol indirect treatment to Stevens.\n",
    "\n",
    "Do remember, that the order of the list elements corresponding to each `Species` must match the order they appear in the `Scenario`."
   ]
  },
  {
   "cell_type": "markdown",
   "id": "cee2c5b3",
   "metadata": {},
   "source": [
    "#### Fill in defaults"
   ]
  },
  {
   "cell_type": "code",
   "execution_count": null,
   "id": "80a2af35",
   "metadata": {},
   "outputs": [],
   "source": [
    "species_ids"
   ]
  },
  {
   "cell_type": "markdown",
   "id": "4113bac3",
   "metadata": {},
   "source": [
    "<div class=\"alert alert-block alert-warning\">\n",
    "It's really important to use `copy` here, otherwise we are just creating multiple references to the default dict.\n",
    "</div>"
   ]
  },
  {
   "cell_type": "code",
   "execution_count": null,
   "id": "3954b271",
   "metadata": {},
   "outputs": [],
   "source": [
    "import copy\n",
    "species_configs = {}\n",
    "\n",
    "for config_label in ['high', 'central', 'low']:\n",
    "    species_configs[config_label] = []\n",
    "    for species_label in ['co2_ffi', 'co2_afolu', 'ch4', 'n2o', 'sulfur', 'co2', 'aci']:\n",
    "        # use copy here!\n",
    "        species_configs[config_label].append(copy.copy(default_species_config[species_label]))\n",
    "        # the defaults also contain the SpeciesID that has a default name and run mode. We want to override this.\n",
    "        species_configs[config_label][-1].species_id = species_ids[species_label]"
   ]
  },
  {
   "cell_type": "markdown",
   "id": "0eb9b8f8",
   "metadata": {},
   "source": [
    "#### Modify carbon cycle, sulfur and ERFaci configs\n",
    "\n",
    "In small problems like this you might be able to remember the indices of each specie, but in case you need a reminder - and this is very useful for big problems such as a full CMIP6 run:"
   ]
  },
  {
   "cell_type": "code",
   "execution_count": null,
   "id": "85e17c91",
   "metadata": {},
   "outputs": [],
   "source": [
    "for ispecconf in range(len(species_configs[config_label])):\n",
    "    print (ispecconf, species_configs[config_label][ispecconf].species_id.name)"
   ]
  },
  {
   "cell_type": "markdown",
   "id": "30dab761",
   "metadata": {},
   "source": [
    "So if we want to modify the carbon cycle, we have to modify the properties in `SpeciesConfig` of CO2, which is list element number 5.\n",
    "\n",
    "First, let's examine the defaults:"
   ]
  },
  {
   "cell_type": "code",
   "execution_count": null,
   "id": "cbf65574",
   "metadata": {},
   "outputs": [],
   "source": [
    "print(\n",
    "    species_configs['central'][5].iirf_airborne,\n",
    "    species_configs['central'][5].iirf_cumulative,\n",
    "    species_configs['central'][5].iirf_temperature\n",
    ")"
   ]
  },
  {
   "cell_type": "markdown",
   "id": "e20e6521",
   "metadata": {},
   "source": [
    "Again, it's fake data, but let's double the feedback parameters in the \"high\" case and set them to zero in the \"low\" case."
   ]
  },
  {
   "cell_type": "code",
   "execution_count": null,
   "id": "ee7dfe2c",
   "metadata": {},
   "outputs": [],
   "source": [
    "species_configs['high'][5].iirf_airborne = species_configs['central'][5].iirf_airborne*2 \n",
    "species_configs['high'][5].iirf_cumulative = species_configs['central'][5].iirf_cumulative*2 \n",
    "species_configs['high'][5].iirf_temperature = species_configs['central'][5].iirf_temperature*2\n",
    "\n",
    "species_configs['low'][5].iirf_airborne = 0\n",
    "species_configs['low'][5].iirf_cumulative = 0\n",
    "species_configs['low'][5].iirf_temperature = 0"
   ]
  },
  {
   "cell_type": "markdown",
   "id": "8cc3f9b4",
   "metadata": {},
   "source": [
    "For Sulfur, we'll override the baseline (pre-industrial) emissions from the default value provided, which is 1750.\n",
    "\n",
    "From above, we know Sulfur emissions is array index 4, and the aerosol-cloud interactions forcing is array index 6.\n",
    "\n",
    "We'll use the beta (scale) and Qn (Sulfur) from Stevens (2015). Later we also need to change the aerosol-cloud interactions `RunMode` in the `RunConfig` settings too, to set this to the Stevens (2015) treatment rather than the FaIR v1.3 default."
   ]
  },
  {
   "cell_type": "code",
   "execution_count": null,
   "id": "0145c5a9",
   "metadata": {},
   "outputs": [],
   "source": [
    "for config_label in ['high', 'central', 'low']:\n",
    "    species_configs[config_label][4].baseline_emissions = 0\n",
    "    species_configs[config_label][6].aci_params = {\n",
    "        \"scale\": 1, \"Sulfur\": 60\n",
    "    }"
   ]
  },
  {
   "cell_type": "markdown",
   "id": "207dae45",
   "metadata": {},
   "source": [
    "### now, let's assign to Configs"
   ]
  },
  {
   "cell_type": "code",
   "execution_count": null,
   "id": "3d60bb2e",
   "metadata": {},
   "outputs": [],
   "source": [
    "from fair21 import Config\n",
    "\n",
    "configs = []\n",
    "for config_label in ['high', 'central', 'low']:\n",
    "    configs.append(Config(config_label, climate_response[config_label], species_configs[config_label]))"
   ]
  },
  {
   "cell_type": "markdown",
   "id": "52f56c4c",
   "metadata": {},
   "source": [
    "## modify the RunConfig\n",
    "\n",
    "change the aerosol forcing behaviour to Stevens (2015)"
   ]
  },
  {
   "cell_type": "code",
   "execution_count": null,
   "id": "1cb584db",
   "metadata": {},
   "outputs": [],
   "source": [
    "from fair21 import RunConfig, ACIMethod"
   ]
  },
  {
   "cell_type": "code",
   "execution_count": null,
   "id": "49f0ae5f",
   "metadata": {},
   "outputs": [],
   "source": [
    "run_config = RunConfig(aci_method=ACIMethod.STEVENS2015)"
   ]
  },
  {
   "cell_type": "code",
   "execution_count": null,
   "id": "35f6c4a7",
   "metadata": {},
   "outputs": [],
   "source": [
    "run_config"
   ]
  },
  {
   "cell_type": "markdown",
   "id": "ce8943dc",
   "metadata": {},
   "source": [
    "## Now, we can run FaIR"
   ]
  },
  {
   "cell_type": "code",
   "execution_count": null,
   "id": "36d76fac",
   "metadata": {},
   "outputs": [],
   "source": [
    "from fair21 import FAIR"
   ]
  },
  {
   "cell_type": "code",
   "execution_count": null,
   "id": "dfa3d2a2",
   "metadata": {},
   "outputs": [],
   "source": [
    "timestep = 1  # not required, but demonstrated\n",
    "fair = FAIR(scenarios, configs, timestep, run_config)"
   ]
  },
  {
   "cell_type": "code",
   "execution_count": null,
   "id": "b0e31516",
   "metadata": {},
   "outputs": [],
   "source": [
    "fair.run()"
   ]
  },
  {
   "cell_type": "code",
   "execution_count": null,
   "id": "81bd48cd",
   "metadata": {},
   "outputs": [],
   "source": [
    "fair.temperature.shape"
   ]
  },
  {
   "cell_type": "code",
   "execution_count": null,
   "id": "8888c6a6",
   "metadata": {},
   "outputs": [],
   "source": [
    "import matplotlib.pyplot as pl"
   ]
  },
  {
   "cell_type": "code",
   "execution_count": null,
   "id": "0d41a4b3",
   "metadata": {},
   "outputs": [],
   "source": [
    "pl.plot(np.arange(50), fair.temperature[:,0,:,0,0], label=['high','medium','low'])\n",
    "pl.title('Ramp scenario: temperature')\n",
    "pl.xlabel('year')\n",
    "pl.ylabel('Temperature anomaly (K)')\n",
    "pl.legend()"
   ]
  },
  {
   "cell_type": "code",
   "execution_count": null,
   "id": "73f803f6",
   "metadata": {},
   "outputs": [],
   "source": [
    "pl.plot(np.arange(50), fair.concentration_array[:,1,:,5,0], label=['high','medium','low'])\n",
    "pl.title('Ramp scenario: CO2')\n",
    "pl.xlabel('year')\n",
    "pl.ylabel('CO2 (ppm)')\n",
    "pl.legend()"
   ]
  },
  {
   "cell_type": "code",
   "execution_count": null,
   "id": "4a23cc23",
   "metadata": {},
   "outputs": [],
   "source": [
    "fair.forcing_sum_array.shape"
   ]
  },
  {
   "cell_type": "code",
   "execution_count": null,
   "id": "d684fe8f",
   "metadata": {},
   "outputs": [],
   "source": [
    "pl.plot(np.arange(50), fair.forcing_sum_array[:,0,:,0,0], label=['high','medium','low'])\n",
    "pl.title('Ramp scenario: forcing')\n",
    "pl.xlabel('year')\n",
    "pl.ylabel('Total ERF (W m$^{-2}$)')\n",
    "pl.legend()"
   ]
  },
  {
   "cell_type": "code",
   "execution_count": null,
   "id": "70e9eb53",
   "metadata": {},
   "outputs": [],
   "source": [
    "pl.plot(np.arange(50), fair.temperature[:,1,:,0,0], label=['high','medium','low'])\n",
    "pl.title('Abrupt scenario: temperature')\n",
    "pl.xlabel('year')\n",
    "pl.ylabel('Temperature anomaly (K)')\n",
    "pl.legend()"
   ]
  },
  {
   "cell_type": "code",
   "execution_count": null,
   "id": "d9654705",
   "metadata": {},
   "outputs": [],
   "source": [
    "pl.plot(np.arange(50), fair.forcing_sum_array[:,1,:,0,0], label=['high','medium','low'])\n",
    "pl.title('Abrupt scenario: forcing')\n",
    "pl.xlabel('year')\n",
    "pl.ylabel('Total ERF (W m$^{-2}$)')\n",
    "pl.legend()"
   ]
  },
  {
   "cell_type": "code",
   "execution_count": null,
   "id": "ae85c39b",
   "metadata": {},
   "outputs": [],
   "source": [
    "pl.plot(np.arange(50), fair.concentration_array[:,0,:,5,0], label=['high','medium','low'])\n",
    "pl.title('Abrupt scenario: CO2')\n",
    "pl.xlabel('year')\n",
    "pl.ylabel('CO2 (ppm)')\n",
    "pl.legend()"
   ]
  },
  {
   "cell_type": "code",
   "execution_count": null,
   "id": "9ad63c93",
   "metadata": {},
   "outputs": [],
   "source": []
  }
 ],
 "metadata": {
  "kernelspec": {
   "display_name": "Python 3 (ipykernel)",
   "language": "python",
   "name": "python3"
  },
  "language_info": {
   "codemirror_mode": {
    "name": "ipython",
    "version": 3
   },
   "file_extension": ".py",
   "mimetype": "text/x-python",
   "name": "python",
   "nbconvert_exporter": "python",
   "pygments_lexer": "ipython3",
   "version": "3.7.12"
  }
 },
 "nbformat": 4,
 "nbformat_minor": 5
}
