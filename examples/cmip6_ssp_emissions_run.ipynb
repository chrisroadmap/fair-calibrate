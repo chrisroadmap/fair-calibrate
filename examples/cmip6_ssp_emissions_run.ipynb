{
 "cells": [
  {
   "cell_type": "markdown",
   "id": "404f9173",
   "metadata": {},
   "source": [
    "# SSP emissions runs using CMIP6 calibrations\n",
    "\n",
    "This notebook gives an example of running SSP scenarios in FaIR using climate response calibrations from 66 CMIP6 models for a total of 8$\\times$66 = 528 ensemble members in parallel.\n",
    "\n",
    "We will run stochastic mode to attempt to capture internal variability."
   ]
  },
  {
   "cell_type": "code",
   "execution_count": null,
   "id": "9dd82491",
   "metadata": {},
   "outputs": [],
   "source": [
    "import numpy as np\n",
    "import pandas as pd\n",
    "import matplotlib.pyplot as pl\n",
    "import time\n",
    "\n",
    "from fair21 import SpeciesID, Category, Config, Species, RunMode, Scenario, ClimateResponse, FAIR\n",
    "from fair21.defaults import species_config_from_default"
   ]
  },
  {
   "cell_type": "markdown",
   "id": "9c262f95",
   "metadata": {},
   "source": [
    "## Define our SpeciesIDs\n",
    "\n",
    "In this run, we want to include the kitchen sink - so the dict of `SpeciesID`s contains everything possible. When constructing your own scenarios, this could be copied as a starting point."
   ]
  },
  {
   "cell_type": "code",
   "execution_count": null,
   "id": "3372e88b",
   "metadata": {},
   "outputs": [],
   "source": [
    "species_ids = {\n",
    "    # Greenhouse gases and precursors\n",
    "    'co2_ffi': SpeciesID('CO2 fossil fuel and industrial', Category.CO2_FFI),\n",
    "    'co2_afolu': SpeciesID('CO2 AFOLU', Category.CO2_AFOLU),\n",
    "    'co2': SpeciesID('CO2', Category.CO2),\n",
    "    'ch4': SpeciesID('CH4', Category.CH4),\n",
    "    'n2o': SpeciesID('N2O', Category.N2O),\n",
    "    'cfc-11': SpeciesID('CFC-11', Category.CFC_11),\n",
    "    'cfc-12': SpeciesID('CFC-12', Category.OTHER_HALOGEN),\n",
    "    'cfc-113': SpeciesID('CFC-113', Category.OTHER_HALOGEN),\n",
    "    'cfc-114': SpeciesID('CFC-114', Category.OTHER_HALOGEN),\n",
    "    'cfc-115': SpeciesID('CFC-115', Category.OTHER_HALOGEN),\n",
    "    'ccl4': SpeciesID('CCl4', Category.OTHER_HALOGEN),\n",
    "    'chcl3': SpeciesID('CHCl3', Category.OTHER_HALOGEN),\n",
    "    'ch2cl2': SpeciesID('CH2Cl2', Category.OTHER_HALOGEN),\n",
    "    'ch3cl': SpeciesID('CH3Cl', Category.OTHER_HALOGEN),\n",
    "    'ch3ccl3': SpeciesID('CH3CCl3', Category.OTHER_HALOGEN),\n",
    "    'ch3br': SpeciesID('CH3Br', Category.OTHER_HALOGEN),\n",
    "    'halon-1211': SpeciesID('Halon-1211', Category.OTHER_HALOGEN),\n",
    "    'halon-1301': SpeciesID('Halon-1301', Category.OTHER_HALOGEN),\n",
    "    'halon-2402': SpeciesID('Halon-2402', Category.OTHER_HALOGEN),\n",
    "    'cf4': SpeciesID('CF4', Category.F_GAS),\n",
    "    'c2f6': SpeciesID('C2F6', Category.F_GAS),\n",
    "    'c3f8': SpeciesID('C3F8', Category.F_GAS),\n",
    "    'c-c4f8': SpeciesID('C-C4F8', Category.F_GAS),\n",
    "    'c4f10': SpeciesID('C4F10', Category.F_GAS),\n",
    "    'c5f12': SpeciesID('C5F12', Category.F_GAS),\n",
    "    'c6f14': SpeciesID('C6F14', Category.F_GAS),\n",
    "    'c7f16': SpeciesID('C7F16', Category.F_GAS),\n",
    "    'c8f18': SpeciesID('C8F18', Category.F_GAS),\n",
    "    'hfc-125': SpeciesID('HFC-125', Category.F_GAS),\n",
    "    'hfc-134a': SpeciesID('HFC-134a', Category.F_GAS),\n",
    "    'hfc-143a': SpeciesID('HFC-143a', Category.F_GAS),\n",
    "    'hfc-152a': SpeciesID('HFC-152a', Category.F_GAS),\n",
    "    'hfc-227ea': SpeciesID('HFC-227ea', Category.F_GAS),\n",
    "    'hfc-23': SpeciesID('HFC-23', Category.F_GAS),\n",
    "    'hfc-236fa': SpeciesID('HFC-236fa', Category.F_GAS),\n",
    "    'hfc-245fa': SpeciesID('HFC-245fa', Category.F_GAS),\n",
    "    'hfc-32': SpeciesID('HFC-32', Category.F_GAS),\n",
    "    'hfc-365mfc': SpeciesID('HFC-365mfc', Category.F_GAS),\n",
    "    'hfc-4310mee': SpeciesID('HFC-4310mee', Category.F_GAS),\n",
    "    'nf3': SpeciesID('NF3', Category.F_GAS),\n",
    "    'sf6': SpeciesID('SF6', Category.F_GAS),\n",
    "    'so2f2': SpeciesID('SO2F2', Category.F_GAS),\n",
    "    # aerosols, ozone, and their precursors\n",
    "    'sulfur': SpeciesID('Sulfur', Category.SULFUR),\n",
    "    'bc': SpeciesID('BC', Category.BC),\n",
    "    'oc': SpeciesID('OC', Category.OC),\n",
    "    'nh3': SpeciesID('NH3', Category.OTHER_AEROSOL),\n",
    "    'voc': SpeciesID('VOC', Category.SLCF_OZONE_PRECURSOR),\n",
    "    'co': SpeciesID('CO', Category.SLCF_OZONE_PRECURSOR),\n",
    "    'nox': SpeciesID('NOx', Category.SLCF_OZONE_PRECURSOR),\n",
    "    'ari': SpeciesID('Aerosol-Radiation Interactions', Category.AEROSOL_RADIATION_INTERACTIONS),\n",
    "    'aci': SpeciesID('Aerosol-Cloud Interactions', Category.AEROSOL_CLOUD_INTERACTIONS),\n",
    "    'ozone': SpeciesID('Ozone', Category.OZONE),\n",
    "    # Contrails and precursors\n",
    "    'nox_aviation': SpeciesID('NOx Aviation', Category.NOX_AVIATION),\n",
    "    'contrails': SpeciesID('Contrails', Category.CONTRAILS),\n",
    "    # other minor anthropogenic\n",
    "    'lapsi': SpeciesID('Light absorbing particles on snow and ice', Category.LAPSI),\n",
    "    'h2o_stratospheric': SpeciesID('H2O Stratospheric', Category.H2O_STRATOSPHERIC),\n",
    "    'land_use': SpeciesID('Land Use', Category.LAND_USE),\n",
    "    # natural\n",
    "    'solar': SpeciesID('Solar', Category.SOLAR),\n",
    "    'volcanic': SpeciesID('Volcanic', Category.VOLCANIC)\n",
    "}"
   ]
  },
  {
   "cell_type": "markdown",
   "id": "60a8c9b9",
   "metadata": {},
   "source": [
    "## Grab emissions from SSPs\n",
    "\n",
    "We use Zeb and Jared's SSP database to fill in our emissions time series. We'll also build our list of `Scenario`s to put into FaIR.\n",
    "\n",
    "For this, we need to separate out the species that are emitted from those that aren't but we still want to include in the final scenario."
   ]
  },
  {
   "cell_type": "code",
   "execution_count": null,
   "id": "338b128d",
   "metadata": {},
   "outputs": [],
   "source": [
    "# these will use the dict keys from above rather than the actual species names.\n",
    "# Remember, order is not important, but we need to have consistency between the order the species are input here and in the\n",
    "# SpeciesConfigs later on.\n",
    "\n",
    "# We'll use mixed-case here, because we want to extract these species from the RCMIP database and that's how they're \n",
    "# entered there\n",
    "emitted_species = [\n",
    "    'CO2_FFI', 'CO2_AFOLU', 'CH4', 'N2O',\n",
    "    'Sulfur', 'BC', 'OC', 'NH3', 'NOx', 'VOC', 'CO',\n",
    "    'CFC-11', 'CFC-12', 'CFC-113', 'CFC-114', 'CFC-115',\n",
    "    'CCl4', 'CHCl3', 'CH2Cl2', 'CH3Cl', 'CH3CCl3', 'CH3Br',\n",
    "    'Halon-1211', 'Halon-1301', 'Halon-2402',\n",
    "    'CF4', 'C2F6', 'C3F8', 'c-C4F8', 'C4F10', 'C5F12', 'C6F14', 'C7F16', 'C8F18',\n",
    "    'NF3', 'SF6', 'SO2F2',\n",
    "    'HFC-125', 'HFC-134a', 'HFC-143a', 'HFC-152a', 'HFC-227ea', 'HFC-23', 'HFC-236fa', 'HFC-245fa', 'HFC-32', 'HFC-365mfc',\n",
    "    'HFC-4310mee', 'NOx_aviation']\n",
    "forced_species = ['solar', 'volcanic']\n",
    "from_other_species = ['co2', 'ari', 'aci', 'ozone', 'contrails', 'lapsi', 'h2o_stratospheric', 'land_use']\n",
    "\n",
    "species_to_include = emitted_species + forced_species + from_other_species"
   ]
  },
  {
   "cell_type": "code",
   "execution_count": null,
   "id": "28d0c861",
   "metadata": {},
   "outputs": [],
   "source": [
    "scenarios_to_include = ['ssp119', 'ssp126', 'ssp245', 'ssp370', 'ssp434', 'ssp460', 'ssp534-over', 'ssp585']\n",
    "scenarios = []"
   ]
  },
  {
   "cell_type": "code",
   "execution_count": null,
   "id": "86913c83",
   "metadata": {},
   "outputs": [],
   "source": [
    "df_emis = pd.read_csv('../data/rcmip/rcmip-emissions-annual-means-v5-1-0.csv')\n",
    "df_forc = pd.read_csv('../data/forcing/table_A3.3_historical_ERF_1750-2019_best_estimate.csv')"
   ]
  },
  {
   "cell_type": "markdown",
   "id": "6c2675c2",
   "metadata": {},
   "source": [
    "### Fill in emissions"
   ]
  },
  {
   "cell_type": "code",
   "execution_count": null,
   "id": "8dda49df",
   "metadata": {},
   "outputs": [],
   "source": [
    "for iscen, scenario in enumerate(scenarios_to_include):\n",
    "    list_of_species = []\n",
    "    for ispec, species in enumerate(emitted_species):\n",
    "        species_rcmip_name = species.replace(\"-\", \"\")\n",
    "        if species == 'NOx_aviation':\n",
    "            species_rcmip_name = 'NOx|MAGICC Fossil and Industrial|Aircraft'\n",
    "        elif species == 'CO2_FFI':\n",
    "            species_rcmip_name = 'CO2|MAGICC Fossil and Industrial'\n",
    "        elif species == 'CO2_AFOLU':\n",
    "            species_rcmip_name = 'CO2|MAGICC AFOLU'\n",
    "        emis_in = df_emis.loc[\n",
    "            (df_emis['Scenario']==scenario) & (df_emis['Variable'].str.endswith(\"|\"+species_rcmip_name)) & \n",
    "            (df_emis['Region']=='World'), '1750':'2100'\n",
    "        ].interpolate(axis=1).values.squeeze()\n",
    "\n",
    "        # CO2 and N2O units need to behave: TODO, sort this out\n",
    "        if species in ('CO2_FFI', 'CO2_AFOLU', 'N2O'):\n",
    "            emis_in = emis_in / 1000\n",
    "        list_of_species.append(Species(species_ids[species.lower()], emissions=emis_in))\n",
    "        \n",
    "    # solar and volcanic forcing still a little hacky\n",
    "    solar_forcing = np.zeros(351)\n",
    "    solar_forcing[:270] = df_forc['solar'].values\n",
    "    volcanic_forcing = np.zeros(351)\n",
    "    volcanic_forcing[:270] = df_forc['volcanic'].values\n",
    "    list_of_species.append(Species(species_ids['solar'], forcing=solar_forcing))\n",
    "    list_of_species.append(Species(species_ids['volcanic'], forcing=volcanic_forcing))\n",
    "    \n",
    "    # add derived species: at this stage just a declaration that we want them\n",
    "    for species in from_other_species:\n",
    "        list_of_species.append(Species(species_ids[species]))\n",
    "        \n",
    "    scenarios.append(Scenario(scenario, list_of_species))"
   ]
  },
  {
   "cell_type": "markdown",
   "id": "c5d18489",
   "metadata": {},
   "source": [
    "## Fill in Configs\n",
    "\n",
    "- Grab ClimateResponse configs from calibrations\n",
    "- use default SpeciesConfigs"
   ]
  },
  {
   "cell_type": "code",
   "execution_count": null,
   "id": "fe5f5dbb",
   "metadata": {},
   "outputs": [],
   "source": [
    "df = pd.read_csv(\"../data/calibration/4xCO2_cummins.csv\")\n",
    "models = df['model'].unique()\n",
    "\n",
    "params = {}\n",
    "\n",
    "configs = []\n",
    "\n",
    "seedgen = 1355763\n",
    "for imodel, model in enumerate(models):\n",
    "    for run in df.loc[df['model']==model, 'run']:\n",
    "        condition = (df['model']==model) & (df['run']==run)\n",
    "        config_name = f\"{model}_{run}\"\n",
    "        climate_response = ClimateResponse(\n",
    "            ocean_heat_capacity = df.loc[condition, 'C1':'C3'].values.squeeze(),\n",
    "            ocean_heat_transfer = df.loc[condition, 'kappa1':'kappa3'].values.squeeze(),\n",
    "            deep_ocean_efficacy = df.loc[condition, 'epsilon'].values[0],\n",
    "            gamma_autocorrelation = df.loc[condition, 'gamma'].values[0],\n",
    "            sigma_eta = df.loc[condition, 'sigma_eta'].values[0],\n",
    "            sigma_xi = df.loc[condition, 'sigma_xi'].values[0],\n",
    "            stochastic_run = True,\n",
    "            seed = seedgen\n",
    "        )\n",
    "        seedgen = seedgen+399\n",
    "        species_config = [species_config_from_default(species) for species in species_to_include]\n",
    "        configs.append(Config(config_name, climate_response, species_config))"
   ]
  },
  {
   "cell_type": "markdown",
   "id": "862a619a",
   "metadata": {},
   "source": [
    "## Run FaIR"
   ]
  },
  {
   "cell_type": "code",
   "execution_count": null,
   "id": "161f66b1",
   "metadata": {},
   "outputs": [],
   "source": [
    "start = time.time()\n",
    "fair = FAIR(scenarios, configs, time=np.arange(1750.5, 2101))\n",
    "fair.run()\n",
    "end = time.time()\n",
    "print (f\"{len(scenarios) * len(configs)} ensemble members in {end - start}s.\")"
   ]
  },
  {
   "cell_type": "markdown",
   "id": "4789d5c2",
   "metadata": {},
   "source": [
    "## Make some nice plots"
   ]
  },
  {
   "cell_type": "code",
   "execution_count": null,
   "id": "38c93cec",
   "metadata": {},
   "outputs": [],
   "source": [
    "fig, ax = pl.subplots(2, 4, figsize=(16, 10))\n",
    "\n",
    "for i in range(8):\n",
    "    ax[i//4,i%4].fill_between(\n",
    "        np.arange(1850.5, 2101), \n",
    "        np.min(fair.temperature[100:, i, :, 0, 0]-fair.temperature[100:151, i, :, 0, 0].mean(axis=0), axis=1), \n",
    "        np.max(fair.temperature[100:, i, :, 0, 0]-fair.temperature[100:151, i, :, 0, 0].mean(axis=0), axis=1),\n",
    "        color='#000000',\n",
    "        alpha=0.2,\n",
    "    )\n",
    "    ax[i//4,i%4].fill_between(\n",
    "        np.arange(1850.5, 2101), \n",
    "        np.percentile(fair.temperature[100:, i, :, 0, 0]-fair.temperature[100:151, i, :, 0, 0].mean(axis=0), 5, axis=1), \n",
    "        np.percentile(fair.temperature[100:, i, :, 0, 0]-fair.temperature[100:151, i, :, 0, 0].mean(axis=0), 95, axis=1),\n",
    "        color='#000000',\n",
    "        alpha=0.2,\n",
    "    )\n",
    "    ax[i//4,i%4].fill_between(\n",
    "        np.arange(1850.5, 2101), \n",
    "        np.percentile(fair.temperature[100:, i, :, 0, 0]-fair.temperature[100:151, i, :, 0, 0].mean(axis=0), 16, axis=1), \n",
    "        np.percentile(fair.temperature[100:, i, :, 0, 0]-fair.temperature[100:151, i, :, 0, 0].mean(axis=0), 84, axis=1),\n",
    "        color='#000000',\n",
    "        alpha=0.2,\n",
    "    )\n",
    "    ax[i//4,i%4].plot(\n",
    "        np.arange(1850.5, 2101), \n",
    "        np.median(fair.temperature[100:, i, :, 0, 0]-fair.temperature[100:151, i, :, 0, 0].mean(axis=0), axis=1), \n",
    "        color='#000000',\n",
    "    )\n",
    "    ax[i//4,i%4].set_xlim(1850,2100)\n",
    "    ax[i//4,i%4].set_ylim(-1, 10)\n",
    "    ax[i//4,i%4].axhline(0, color='k', ls=\":\", lw=0.5)\n",
    "    ax[i//4,i%4].set_title(scenarios_to_include[i])"
   ]
  },
  {
   "cell_type": "code",
   "execution_count": null,
   "id": "8619d227",
   "metadata": {},
   "outputs": [],
   "source": [
    "fair.forcing_array[264, 2, :, 54, 0]*47/37"
   ]
  },
  {
   "cell_type": "code",
   "execution_count": null,
   "id": "200e3e84",
   "metadata": {},
   "outputs": [],
   "source": []
  }
 ],
 "metadata": {
  "kernelspec": {
   "display_name": "Python 3 (ipykernel)",
   "language": "python",
   "name": "python3"
  },
  "language_info": {
   "codemirror_mode": {
    "name": "ipython",
    "version": 3
   },
   "file_extension": ".py",
   "mimetype": "text/x-python",
   "name": "python",
   "nbconvert_exporter": "python",
   "pygments_lexer": "ipython3",
   "version": "3.7.12"
  }
 },
 "nbformat": 4,
 "nbformat_minor": 5
}
