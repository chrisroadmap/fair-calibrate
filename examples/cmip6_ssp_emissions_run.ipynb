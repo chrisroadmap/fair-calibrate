{
 "cells": [
  {
   "cell_type": "markdown",
   "id": "404f9173",
   "metadata": {},
   "source": [
    "# SSP emissions runs using CMIP6 calibrations\n",
    "\n",
    "This notebook gives an example of running SSP scenarios in FaIR using climate response calibrations from 66 CMIP6 models for a total of 8$\\times$66 = 528 ensemble members in parallel.\n",
    "\n",
    "We will run stochastic mode to attempt to capture internal variability."
   ]
  },
  {
   "cell_type": "code",
   "execution_count": null,
   "id": "9dd82491",
   "metadata": {},
   "outputs": [],
   "source": [
    "import copy\n",
    "\n",
    "import numpy as np\n",
    "import pandas as pd\n",
    "\n",
    "from fair21 import FAIR\n",
    "from fair21.io import read_properties\n",
    "from fair21.interface import fill, initialise\n",
    "from fair21.earth_params import seconds_per_year"
   ]
  },
  {
   "cell_type": "code",
   "execution_count": null,
   "id": "b97e45d1",
   "metadata": {},
   "outputs": [],
   "source": [
    "f = FAIR()"
   ]
  },
  {
   "cell_type": "code",
   "execution_count": null,
   "id": "2faf20eb",
   "metadata": {},
   "outputs": [],
   "source": [
    "# create world running from 1850 to 2100, at 1-year intervals\n",
    "f.define_time(1850, 2100, 1)"
   ]
  },
  {
   "cell_type": "code",
   "execution_count": null,
   "id": "c0128227",
   "metadata": {},
   "outputs": [],
   "source": [
    "# Define SSP scenarios\n",
    "scenarios = ['ssp119', 'ssp126', 'ssp245', 'ssp370', 'ssp434', 'ssp460', 'ssp534-over', 'ssp585']\n",
    "f.define_scenarios(scenarios)"
   ]
  },
  {
   "cell_type": "code",
   "execution_count": null,
   "id": "ba2941c1",
   "metadata": {},
   "outputs": [],
   "source": [
    "df = pd.read_csv(\"../data/calibration/4xCO2_cummins.csv\")\n",
    "models = df['model'].unique()\n",
    "configs = []\n",
    "\n",
    "for imodel, model in enumerate(models):\n",
    "    for run in df.loc[df['model']==model, 'run']:\n",
    "        configs.append(f\"{model}_{run}\")\n",
    "f.define_configs(configs)"
   ]
  },
  {
   "cell_type": "code",
   "execution_count": null,
   "id": "232f0ba7",
   "metadata": {},
   "outputs": [],
   "source": [
    "properties = read_properties()\n",
    "species = list(properties.keys())"
   ]
  },
  {
   "cell_type": "code",
   "execution_count": null,
   "id": "223ca746",
   "metadata": {},
   "outputs": [],
   "source": [
    "f.define_species(species, properties)"
   ]
  },
  {
   "cell_type": "code",
   "execution_count": null,
   "id": "0f15b80d",
   "metadata": {},
   "outputs": [],
   "source": [
    "f.run_control(ch4_method='Thornhill2021', aci_method='Stevens2015')"
   ]
  },
  {
   "cell_type": "code",
   "execution_count": null,
   "id": "249567ee",
   "metadata": {},
   "outputs": [],
   "source": [
    "f.allocate()"
   ]
  },
  {
   "cell_type": "code",
   "execution_count": null,
   "id": "8fc7013a",
   "metadata": {},
   "outputs": [],
   "source": [
    "f.run_control(ch4_method='Thornhill2021')"
   ]
  },
  {
   "cell_type": "code",
   "execution_count": null,
   "id": "f278230c",
   "metadata": {},
   "outputs": [],
   "source": [
    "f.aci_method  # sort out overwriting"
   ]
  },
  {
   "cell_type": "code",
   "execution_count": null,
   "id": "21827c55",
   "metadata": {},
   "outputs": [],
   "source": [
    "df_emis = pd.read_csv('../data/rcmip/rcmip-emissions-annual-means-v5-1-0.csv')\n",
    "df_conc = pd.read_csv('../data/rcmip/rcmip-concentrations-annual-means-v5-1-0.csv')\n",
    "df_forc = pd.read_csv('../data/rcmip/rcmip-radiative-forcing-annual-means-v5-1-0.csv')"
   ]
  },
  {
   "cell_type": "code",
   "execution_count": null,
   "id": "6068a19e",
   "metadata": {},
   "outputs": [],
   "source": [
    "species_to_rcmip = {specie: specie.replace(\"-\", \"\") for specie in species}\n",
    "species_to_rcmip['CO2 FFI'] = 'CO2|MAGICC Fossil and Industrial'\n",
    "species_to_rcmip['CO2 AFOLU'] = 'CO2|MAGICC AFOLU'\n",
    "species_to_rcmip['NOx aviation'] = 'NOx|MAGICC Fossil and Industrial|Aircraft'\n",
    "for specie in ['CO2', 'Solar', 'Volcanic', 'Aerosol-radiation interactions', 'Aerosol-cloud interactions', 'Ozone',\n",
    "               'Contrails', 'Light absorbing particles on snow and ice', 'Stratospheric water vapour', 'Land use']:\n",
    "    del(species_to_rcmip[specie])\n",
    "#species_to_rcmip"
   ]
  },
  {
   "cell_type": "code",
   "execution_count": null,
   "id": "611844be",
   "metadata": {},
   "outputs": [],
   "source": [
    "desired_emissions_units = {specie: f'kt {specie.replace(\"-\", \"\")}/yr' for specie in species}\n",
    "desired_emissions_units['CO2 FFI'] = 'Gt CO2/yr'\n",
    "desired_emissions_units['CO2 AFOLU'] = 'Gt CO2/yr'\n",
    "desired_emissions_units['CH4'] = 'Gt CO2/yr'\n",
    "desired_emissions_units['N2O'] = 'Mt N2O/yr'\n",
    "desired_emissions_units['Sulfur'] = 'Mt SO2/yr'\n",
    "desired_emissions_units['BC'] = 'Mt BC/yr'\n",
    "desired_emissions_units['OC'] = 'Mt OC/yr'\n",
    "desired_emissions_units['NH3'] = 'Mt NH3/yr'\n",
    "desired_emissions_units['NOx'] = 'Mt NO2/yr'\n",
    "desired_emissions_units['NOx aviation'] = 'Mt NO2/yr'\n",
    "desired_emissions_units['VOC'] = 'Mt VOC/yr'\n",
    "desired_emissions_units['CO'] = 'Mt CO/yr'\n",
    "\n",
    "for specie in ['CO2', 'Solar', 'Volcanic', 'Aerosol-radiation interactions', 'Aerosol-cloud interactions', 'Ozone',\n",
    "               'Contrails', 'Light absorbing particles on snow and ice', 'Stratospheric water vapour', 'Land use']:\n",
    "    del(desired_emissions_units[specie])\n",
    "desired_emissions_units"
   ]
  },
  {
   "cell_type": "code",
   "execution_count": null,
   "id": "e26a9937",
   "metadata": {},
   "outputs": [],
   "source": [
    "compound_convert = {}\n",
    "df = pd.read_csv('../src/fair21/defaults/data/ar6/species_configs_properties.csv', index_col=0)\n",
    "species_molwts = {specie.replace(\"-\",\"\"): value for specie, value in dict(df['molecular_weight']).items()}\n",
    "\n",
    "species_molwts['C'] = 12.011\n",
    "species_molwts['NO2'] = 46.006\n",
    "species_molwts['NO'] = 30.006\n",
    "species_molwts['N'] = 14.007\n",
    "species_molwts['N2'] = 28.014\n",
    "species_molwts['SO2'] = 64.069\n",
    "species_molwts['S'] = 32.07\n",
    "\n",
    "for specie_from, mw_from in species_molwts.items():\n",
    "     if ~np.isnan(mw_from):\n",
    "        compound_convert[specie_from.replace(\"-\", \"\")] = {}\n",
    "        for specie_to, mw_to in species_molwts.items():\n",
    "            if ~np.isnan(mw_to):\n",
    "                compound_convert[specie_from.replace(\"-\", \"\")][specie_to] = mw_to/mw_from\n",
    "compound_convert"
   ]
  },
  {
   "cell_type": "code",
   "execution_count": null,
   "id": "a01785f0",
   "metadata": {},
   "outputs": [],
   "source": [
    "time_convert = {\n",
    "    'yr': {\n",
    "        'yr': 1,\n",
    "        'day': 1 / (seconds_per_year / 3600 / 24),\n",
    "        's': 1 / seconds_per_year,\n",
    "    },\n",
    "    'day' : {\n",
    "        'yr': seconds_per_year / 3600 / 24,\n",
    "        'day': 1,\n",
    "        's': 3600 * 24,\n",
    "    },\n",
    "    's' : {\n",
    "        'yr': seconds_per_year,\n",
    "        'day': 1 / 3600 / 24,\n",
    "        's': 1,\n",
    "    }\n",
    "}"
   ]
  },
  {
   "cell_type": "code",
   "execution_count": null,
   "id": "44905d19",
   "metadata": {},
   "outputs": [],
   "source": [
    "prefix_convert = {\n",
    "    'Mt': {\n",
    "        'Gt': 0.001,\n",
    "        'Tg': 1,\n",
    "        'Mt': 1,\n",
    "        'kt': 1000,\n",
    "        't': 1e6,\n",
    "        'kg': 1e9,\n",
    "        'g': 1e12\n",
    "    },\n",
    "    'kt': {\n",
    "        'Gt': 1e-6,\n",
    "        'Tg': 1e-3,\n",
    "        'Mt': 1e-3,\n",
    "        'kt': 1,\n",
    "        't': 1e3,\n",
    "        'kg': 1e6,\n",
    "        'g': 1e9\n",
    "    },\n",
    "}"
   ]
  },
  {
   "cell_type": "code",
   "execution_count": null,
   "id": "f078ee53",
   "metadata": {},
   "outputs": [],
   "source": [
    "specie = 'CO2 FFI'\n",
    "unit = df_emis.loc[\n",
    "    (df_emis['Scenario']=='ssp119') & (df_emis['Variable'].str.endswith(species_to_rcmip[specie])) & \n",
    "    (df_emis['Region']=='World'),\n",
    "'Unit'].values[0]#.interpolate(axis=1).values.squeeze()\n",
    "prefix_convert[unit.split()[0]][desired_emissions_units[specie].split()[0]]"
   ]
  },
  {
   "cell_type": "code",
   "execution_count": null,
   "id": "f1f0b2ed",
   "metadata": {},
   "outputs": [],
   "source": [
    "compound_convert[unit.split()[1].split('/')[0]][desired_emissions_units[specie].split()[1].split('/')[0]]"
   ]
  },
  {
   "cell_type": "code",
   "execution_count": null,
   "id": "b3ca6abb",
   "metadata": {},
   "outputs": [],
   "source": [
    "time_convert[unit.split()[1].split('/')[1]][desired_emissions_units[specie].split()[1].split('/')[1]]"
   ]
  },
  {
   "cell_type": "code",
   "execution_count": null,
   "id": "153eb070",
   "metadata": {},
   "outputs": [],
   "source": [
    "# for specie, specie_rcmip_name in species_to_rcmip.items():\n",
    "#     unit = df_emis.loc[\n",
    "#         (df_emis['Scenario']==scenario) & (df_emis['Variable'].str.endswith(\"|\"+specie_rcmip_name)) & \n",
    "#         (df_emis['Region']=='World'), 'Unit'\n",
    "#         ].values[0]\n",
    "#     print(unit)\n",
    "#     print(prefix_convert[unit.split()[0]][desired_emissions_units[specie].split()[0]])"
   ]
  },
  {
   "cell_type": "code",
   "execution_count": null,
   "id": "86173b1a",
   "metadata": {},
   "outputs": [],
   "source": [
    "df['baseline_concentration']['CO2']\n",
    "\n",
    "#properties['CO2 FFI']"
   ]
  },
  {
   "cell_type": "code",
   "execution_count": null,
   "id": "828fe492",
   "metadata": {},
   "outputs": [],
   "source": [
    "for scenario in scenarios:\n",
    "    for specie, specie_rcmip_name in species_to_rcmip.items():\n",
    "        emis_in = df_emis.loc[\n",
    "            (df_emis['Scenario']==scenario) & (df_emis['Variable'].str.endswith(\"|\"+specie_rcmip_name)) & \n",
    "            (df_emis['Region']=='World'), str(f.timebounds[0]):str(f.timebounds[-2])\n",
    "        ].interpolate(axis=1).values.squeeze()\n",
    "        # TODO: raise error if can't find\n",
    "        \n",
    "        unit = df_emis.loc[\n",
    "            (df_emis['Scenario']==scenario) & (df_emis['Variable'].str.endswith(\"|\"+specie_rcmip_name)) & \n",
    "            (df_emis['Region']=='World'), 'Unit'\n",
    "        ].values[0]\n",
    "\n",
    "        emis_in = emis_in * (\n",
    "            prefix_convert[unit.split()[0]][desired_emissions_units[specie].split()[0]] *\n",
    "            compound_convert[unit.split()[1].split('/')[0]][desired_emissions_units[specie].split()[1].split('/')[0]] *\n",
    "            time_convert[unit.split()[1].split('/')[1]][desired_emissions_units[specie].split()[1].split('/')[1]]\n",
    "        )\n",
    "\n",
    "        fill(f.emissions, emis_in[:, None], specie=specie, scenario=scenario)\n",
    "        \n",
    "    for specie in ['Volcanic', 'Solar']:\n",
    "        forc_in = df_forc.loc[\n",
    "            (df_forc['Scenario']==scenario) & (df_forc['Variable'].str.endswith(\"|\"+specie)) & \n",
    "            (df_forc['Region']=='World'), str(f.timebounds[0]):str(f.timebounds[-1])\n",
    "        ].interpolate(axis=1).values.squeeze()\n",
    "        fill(f.forcing, forc_in[:, None], specie=specie, scenario=scenario)\n",
    "\n",
    "for specie in species:\n",
    "    if df.loc[specie, 'greenhouse_gas']:\n",
    "        initialise(f.concentration, df['baseline_concentration'][specie], specie=specie)\n",
    "        \n",
    "initialise(f.forcing, 0)\n",
    "initialise(f.temperature, 0)\n",
    "initialise(f.cumulative_emissions, 0)\n",
    "initialise(f.airborne_emissions, 0)"
   ]
  },
  {
   "cell_type": "code",
   "execution_count": null,
   "id": "23ad0421",
   "metadata": {},
   "outputs": [],
   "source": [
    "#f.concentration[0,0,0,:]"
   ]
  },
  {
   "cell_type": "code",
   "execution_count": null,
   "id": "13a6585c",
   "metadata": {},
   "outputs": [],
   "source": [
    "f.fill_species_configs()"
   ]
  },
  {
   "cell_type": "code",
   "execution_count": null,
   "id": "2ec473dc",
   "metadata": {},
   "outputs": [],
   "source": [
    "f.climate_configs"
   ]
  },
  {
   "cell_type": "code",
   "execution_count": null,
   "id": "7c6c7fda",
   "metadata": {},
   "outputs": [],
   "source": [
    "df = pd.read_csv(\"../data/calibration/4xCO2_cummins.csv\")\n",
    "models = df['model'].unique()\n",
    "\n",
    "seed = 1355763\n",
    "\n",
    "for config in configs:\n",
    "    model, run = config.split('_')\n",
    "    condition = (df['model']==model) & (df['run']==run)\n",
    "    fill(f.climate_configs['ocean_heat_capacity'], df.loc[condition, 'C1':'C3'].values.squeeze(), config=config)\n",
    "    fill(f.climate_configs['ocean_heat_transfer'], df.loc[condition, 'kappa1':'kappa3'].values.squeeze(), config=config)\n",
    "    fill(f.climate_configs['deep_ocean_efficacy'], df.loc[condition, 'epsilon'].values[0], config=config)\n",
    "    fill(f.climate_configs['gamma_autocorrelation'], df.loc[condition, 'gamma'].values[0], config=config)\n",
    "    fill(f.climate_configs['sigma_eta'], df.loc[condition, 'sigma_eta'].values[0], config=config)\n",
    "    fill(f.climate_configs['sigma_xi'], df.loc[condition, 'sigma_xi'].values[0], config=config)\n",
    "    fill(f.climate_configs['stochastic_run'], True, config=config)\n",
    "    fill(f.climate_configs['use_seed'], True, config=config)\n",
    "    fill(f.climate_configs['seed'], seed, config=config)\n",
    "    \n",
    "    seed = seed + 399"
   ]
  },
  {
   "cell_type": "code",
   "execution_count": null,
   "id": "76af88a1",
   "metadata": {},
   "outputs": [],
   "source": [
    "f.climate_configs"
   ]
  },
  {
   "cell_type": "markdown",
   "id": "862a619a",
   "metadata": {},
   "source": [
    "## Run FaIR"
   ]
  },
  {
   "cell_type": "code",
   "execution_count": null,
   "id": "95de95cc",
   "metadata": {},
   "outputs": [],
   "source": [
    "f.climate_configs['use_seed'][0]"
   ]
  },
  {
   "cell_type": "code",
   "execution_count": null,
   "id": "161f66b1",
   "metadata": {},
   "outputs": [],
   "source": [
    "f.run()"
   ]
  },
  {
   "cell_type": "code",
   "execution_count": null,
   "id": "fd3b4c13",
   "metadata": {},
   "outputs": [],
   "source": [
    "f.ebms"
   ]
  },
  {
   "cell_type": "code",
   "execution_count": null,
   "id": "b04b90a0",
   "metadata": {},
   "outputs": [],
   "source": [
    "import matplotlib.pyplot as pl"
   ]
  },
  {
   "cell_type": "markdown",
   "id": "4789d5c2",
   "metadata": {},
   "source": [
    "## Make some nice plots"
   ]
  },
  {
   "cell_type": "code",
   "execution_count": null,
   "id": "73030e5b",
   "metadata": {},
   "outputs": [],
   "source": [
    "pl.plot(f.timebounds, f.temperature.loc[dict(scenario='ssp119', layer=0)], label=f.configs);\n",
    "#pl.title('Ramp scenario: temperature')\n",
    "#pl.xlabel('year')\n",
    "#pl.ylabel('Temperature anomaly (K)')\n",
    "#pl.legend()"
   ]
  },
  {
   "cell_type": "code",
   "execution_count": null,
   "id": "38c93cec",
   "metadata": {},
   "outputs": [],
   "source": [
    "fig, ax = pl.subplots(2, 4, figsize=(16, 10))\n",
    "\n",
    "for i in range(8):\n",
    "    ax[i//4,i%4].fill_between(\n",
    "        np.arange(1850.5, 2101), \n",
    "        np.min(fair.temperature[100:, i, :, 0, 0]-fair.temperature[100:151, i, :, 0, 0].mean(axis=0), axis=1), \n",
    "        np.max(fair.temperature[100:, i, :, 0, 0]-fair.temperature[100:151, i, :, 0, 0].mean(axis=0), axis=1),\n",
    "        color='#000000',\n",
    "        alpha=0.2,\n",
    "    )\n",
    "    ax[i//4,i%4].fill_between(\n",
    "        np.arange(1850.5, 2101), \n",
    "        np.percentile(fair.temperature[100:, i, :, 0, 0]-fair.temperature[100:151, i, :, 0, 0].mean(axis=0), 5, axis=1), \n",
    "        np.percentile(fair.temperature[100:, i, :, 0, 0]-fair.temperature[100:151, i, :, 0, 0].mean(axis=0), 95, axis=1),\n",
    "        color='#000000',\n",
    "        alpha=0.2,\n",
    "    )\n",
    "    ax[i//4,i%4].fill_between(\n",
    "        np.arange(1850.5, 2101), \n",
    "        np.percentile(fair.temperature[100:, i, :, 0, 0]-fair.temperature[100:151, i, :, 0, 0].mean(axis=0), 16, axis=1), \n",
    "        np.percentile(fair.temperature[100:, i, :, 0, 0]-fair.temperature[100:151, i, :, 0, 0].mean(axis=0), 84, axis=1),\n",
    "        color='#000000',\n",
    "        alpha=0.2,\n",
    "    )\n",
    "    ax[i//4,i%4].plot(\n",
    "        np.arange(1850.5, 2101), \n",
    "        np.median(fair.temperature[100:, i, :, 0, 0]-fair.temperature[100:151, i, :, 0, 0].mean(axis=0), axis=1), \n",
    "        color='#000000',\n",
    "    )\n",
    "    ax[i//4,i%4].set_xlim(1850,2100)\n",
    "    ax[i//4,i%4].set_ylim(-1, 10)\n",
    "    ax[i//4,i%4].axhline(0, color='k', ls=\":\", lw=0.5)\n",
    "    ax[i//4,i%4].set_title(scenarios_to_include[i])\n",
    "pl.suptitle('Temperature anomaly')"
   ]
  },
  {
   "cell_type": "code",
   "execution_count": null,
   "id": "c57760b7",
   "metadata": {},
   "outputs": [],
   "source": [
    "fair.calculate_ocean_heat_content_change()"
   ]
  },
  {
   "cell_type": "code",
   "execution_count": null,
   "id": "85d378fa",
   "metadata": {},
   "outputs": [],
   "source": [
    "fig, ax = pl.subplots(2, 4, figsize=(16, 10))\n",
    "\n",
    "for i in range(8):\n",
    "    ax[i//4,i%4].fill_between(\n",
    "        np.arange(1850.5, 2101), \n",
    "        np.min(fair.ocean_heat_content_change[100:, i, :, 0, 0]-fair.ocean_heat_content_change[100:151, i, :, 0, 0].mean(axis=0), axis=1), \n",
    "        np.max(fair.ocean_heat_content_change[100:, i, :, 0, 0]-fair.ocean_heat_content_change[100:151, i, :, 0, 0].mean(axis=0), axis=1),\n",
    "        color='#000000',\n",
    "        alpha=0.2,\n",
    "    )\n",
    "    ax[i//4,i%4].fill_between(\n",
    "        np.arange(1850.5, 2101), \n",
    "        np.percentile(fair.ocean_heat_content_change[100:, i, :, 0, 0]-fair.ocean_heat_content_change[100:151, i, :, 0, 0].mean(axis=0), 5, axis=1), \n",
    "        np.percentile(fair.ocean_heat_content_change[100:, i, :, 0, 0]-fair.ocean_heat_content_change[100:151, i, :, 0, 0].mean(axis=0), 95, axis=1),\n",
    "        color='#000000',\n",
    "        alpha=0.2,\n",
    "    )\n",
    "    ax[i//4,i%4].fill_between(\n",
    "        np.arange(1850.5, 2101), \n",
    "        np.percentile(fair.ocean_heat_content_change[100:, i, :, 0, 0]-fair.ocean_heat_content_change[100:151, i, :, 0, 0].mean(axis=0), 16, axis=1), \n",
    "        np.percentile(fair.ocean_heat_content_change[100:, i, :, 0, 0]-fair.ocean_heat_content_change[100:151, i, :, 0, 0].mean(axis=0), 84, axis=1),\n",
    "        color='#000000',\n",
    "        alpha=0.2,\n",
    "    )\n",
    "    ax[i//4,i%4].plot(\n",
    "        np.arange(1850.5, 2101), \n",
    "        np.median(fair.ocean_heat_content_change[100:, i, :, 0, 0]-fair.ocean_heat_content_change[100:151, i, :, 0, 0].mean(axis=0), axis=1), \n",
    "        color='#000000',\n",
    "    )\n",
    "    ax[i//4,i%4].set_xlim(1850,2100)\n",
    "    #ax[i//4,i%4].set_ylim(-1, 10)\n",
    "    ax[i//4,i%4].axhline(0, color='k', ls=\":\", lw=0.5)\n",
    "    ax[i//4,i%4].set_title(scenarios_to_include[i])\n",
    "\n",
    "pl.suptitle('Ocean heat content change')"
   ]
  },
  {
   "cell_type": "code",
   "execution_count": null,
   "id": "8619d227",
   "metadata": {},
   "outputs": [],
   "source": [
    "# Squirrel this away as a TODO to check ozone forcing\n",
    "fair.forcing_array[269, 2, :, 54, 0]"
   ]
  },
  {
   "cell_type": "code",
   "execution_count": null,
   "id": "e5b2faf0",
   "metadata": {},
   "outputs": [],
   "source": [
    "fair.species_index_mapping"
   ]
  },
  {
   "cell_type": "code",
   "execution_count": null,
   "id": "7118723e",
   "metadata": {},
   "outputs": [],
   "source": [
    "scenarios[0].name"
   ]
  },
  {
   "cell_type": "code",
   "execution_count": null,
   "id": "9acfe2a7",
   "metadata": {},
   "outputs": [],
   "source": [
    "fair.scenarios[0].list_of_species[51].species_id.name"
   ]
  },
  {
   "cell_type": "code",
   "execution_count": null,
   "id": "d888b768",
   "metadata": {},
   "outputs": [],
   "source": [
    "fig, ax = pl.subplots(2, 4, figsize=(16, 10))\n",
    "\n",
    "for i in range(8):\n",
    "    ax[i//4,i%4].fill_between(\n",
    "        np.arange(1850.5, 2101), \n",
    "        np.min(fair.scenarios[i].list_of_species[51].concentration[100:, :], axis=1), \n",
    "        np.max(fair.scenarios[i].list_of_species[51].concentration[100:, :], axis=1),\n",
    "        color='#000000',\n",
    "        alpha=0.2,\n",
    "    )\n",
    "    ax[i//4,i%4].fill_between(\n",
    "        np.arange(1850.5, 2101), \n",
    "        np.percentile(fair.scenarios[i].list_of_species[51].concentration[100:, :], 5, axis=1), \n",
    "        np.percentile(fair.scenarios[i].list_of_species[51].concentration[100:, :], 95, axis=1),\n",
    "        color='#000000',\n",
    "        alpha=0.2,\n",
    "    )\n",
    "    ax[i//4,i%4].fill_between(\n",
    "        np.arange(1850.5, 2101), \n",
    "        np.percentile(fair.scenarios[i].list_of_species[51].concentration[100:, :], 16, axis=1), \n",
    "        np.percentile(fair.scenarios[i].list_of_species[51].concentration[100:, :], 84, axis=1),\n",
    "        color='#000000',\n",
    "        alpha=0.2,\n",
    "    )\n",
    "    ax[i//4,i%4].plot(\n",
    "        np.arange(1850.5, 2101), \n",
    "        np.median(fair.scenarios[i].list_of_species[51].concentration[100:, :], axis=1), \n",
    "        color='#000000',\n",
    "    )\n",
    "    ax[i//4,i%4].set_xlim(1850,2100)\n",
    "    ax[i//4,i%4].set_title(scenarios_to_include[i])\n",
    "pl.suptitle('CO2 concentrations')"
   ]
  },
  {
   "cell_type": "code",
   "execution_count": null,
   "id": "915a89c9",
   "metadata": {},
   "outputs": [],
   "source": [
    "pl.plot(fair.toa_imbalance[:,7,0,0,0])"
   ]
  },
  {
   "cell_type": "code",
   "execution_count": null,
   "id": "936155dd",
   "metadata": {},
   "outputs": [],
   "source": [
    "pl.plot(fair.forcing_sum_array[:,7,0,0,0])\n",
    "fair.forcing_sum_array[-1,7,0,0,0]"
   ]
  },
  {
   "cell_type": "code",
   "execution_count": null,
   "id": "3bf222dd",
   "metadata": {},
   "outputs": [],
   "source": [
    "fair.forcing_sum_array[270,7,0,0,0]"
   ]
  },
  {
   "cell_type": "code",
   "execution_count": null,
   "id": "b249c147",
   "metadata": {},
   "outputs": [],
   "source": [
    "pl.plot(fair.temperature[:, 7, 0, 0, 0])\n",
    "pl.plot(fair.temperature[:, 7, 0, 0, 1])\n",
    "pl.plot(fair.temperature[:, 7, 0, 0, 2])"
   ]
  },
  {
   "cell_type": "code",
   "execution_count": null,
   "id": "97817096",
   "metadata": {},
   "outputs": [],
   "source": []
  },
  {
   "cell_type": "code",
   "execution_count": null,
   "id": "6bbd1625",
   "metadata": {},
   "outputs": [],
   "source": []
  }
 ],
 "metadata": {
  "kernelspec": {
   "display_name": "Python 3 (ipykernel)",
   "language": "python",
   "name": "python3"
  },
  "language_info": {
   "codemirror_mode": {
    "name": "ipython",
    "version": 3
   },
   "file_extension": ".py",
   "mimetype": "text/x-python",
   "name": "python",
   "nbconvert_exporter": "python",
   "pygments_lexer": "ipython3",
   "version": "3.7.12"
  }
 },
 "nbformat": 4,
 "nbformat_minor": 5
}
