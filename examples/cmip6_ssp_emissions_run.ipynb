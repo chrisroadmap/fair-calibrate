{
 "cells": [
  {
   "cell_type": "markdown",
   "id": "404f9173",
   "metadata": {},
   "source": [
    "# SSP emissions runs using CMIP6 calibrations\n",
    "\n",
    "This notebook gives an example of running SSP scenarios in FaIR using climate response calibrations from 66 CMIP6 models for a total of 8$\\times$66 = 528 ensemble members in parallel.\n",
    "\n",
    "We will run stochastic mode to attempt to capture internal variability."
   ]
  },
  {
   "cell_type": "code",
   "execution_count": null,
   "id": "9dd82491",
   "metadata": {},
   "outputs": [],
   "source": [
    "import copy\n",
    "\n",
    "import matplotlib.pyplot as pl\n",
    "import numpy as np\n",
    "import pandas as pd\n",
    "\n",
    "from fair21 import FAIR\n",
    "from fair21.io import read_properties\n",
    "from fair21.interface import fill, initialise\n",
    "from fair21.earth_params import seconds_per_year"
   ]
  },
  {
   "cell_type": "code",
   "execution_count": null,
   "id": "ebbd1083",
   "metadata": {},
   "outputs": [],
   "source": [
    "%load_ext autoreload"
   ]
  },
  {
   "cell_type": "code",
   "execution_count": null,
   "id": "6ff53ff0",
   "metadata": {},
   "outputs": [],
   "source": [
    "%autoreload 2"
   ]
  },
  {
   "cell_type": "code",
   "execution_count": null,
   "id": "b97e45d1",
   "metadata": {},
   "outputs": [],
   "source": [
    "f = FAIR(ch4_method='thornhill2021')"
   ]
  },
  {
   "cell_type": "code",
   "execution_count": null,
   "id": "2faf20eb",
   "metadata": {},
   "outputs": [],
   "source": [
    "# create world running from 1750 to 2100, at 1-year intervals\n",
    "f.define_time(1750, 2100, 1)"
   ]
  },
  {
   "cell_type": "code",
   "execution_count": null,
   "id": "c0128227",
   "metadata": {},
   "outputs": [],
   "source": [
    "# Define SSP scenarios\n",
    "scenarios = ['ssp119', 'ssp126', 'ssp245', 'ssp370', 'ssp434', 'ssp460', 'ssp534-over', 'ssp585']\n",
    "f.define_scenarios(scenarios)"
   ]
  },
  {
   "cell_type": "code",
   "execution_count": null,
   "id": "ba2941c1",
   "metadata": {},
   "outputs": [],
   "source": [
    "df = pd.read_csv(\"../data/calibration/4xCO2_cummins.csv\")\n",
    "models = df['model'].unique()\n",
    "configs = []\n",
    "\n",
    "for imodel, model in enumerate(models):\n",
    "    for run in df.loc[df['model']==model, 'run']:\n",
    "        configs.append(f\"{model}_{run}\")\n",
    "f.define_configs(configs)"
   ]
  },
  {
   "cell_type": "code",
   "execution_count": null,
   "id": "232f0ba7",
   "metadata": {},
   "outputs": [],
   "source": [
    "properties = read_properties()\n",
    "species = list(properties.keys())"
   ]
  },
  {
   "cell_type": "code",
   "execution_count": null,
   "id": "029a6925",
   "metadata": {},
   "outputs": [],
   "source": [
    "species"
   ]
  },
  {
   "cell_type": "code",
   "execution_count": null,
   "id": "223ca746",
   "metadata": {},
   "outputs": [],
   "source": [
    "f.define_species(species, properties)"
   ]
  },
  {
   "cell_type": "code",
   "execution_count": null,
   "id": "249567ee",
   "metadata": {},
   "outputs": [],
   "source": [
    "f.allocate()"
   ]
  },
  {
   "cell_type": "code",
   "execution_count": null,
   "id": "34ab1e13",
   "metadata": {},
   "outputs": [],
   "source": [
    "f.ch4_method"
   ]
  },
  {
   "cell_type": "code",
   "execution_count": null,
   "id": "21827c55",
   "metadata": {},
   "outputs": [],
   "source": [
    "df_emis = pd.read_csv('../data/rcmip/rcmip-emissions-annual-means-v5-1-0.csv')\n",
    "df_conc = pd.read_csv('../data/rcmip/rcmip-concentrations-annual-means-v5-1-0.csv')\n",
    "df_forc = pd.read_csv('../data/rcmip/rcmip-radiative-forcing-annual-means-v5-1-0.csv')"
   ]
  },
  {
   "cell_type": "code",
   "execution_count": null,
   "id": "6068a19e",
   "metadata": {},
   "outputs": [],
   "source": [
    "species_to_rcmip = {specie: specie.replace(\"-\", \"\") for specie in species}\n",
    "species_to_rcmip['CO2 FFI'] = 'CO2|MAGICC Fossil and Industrial'\n",
    "species_to_rcmip['CO2 AFOLU'] = 'CO2|MAGICC AFOLU'\n",
    "species_to_rcmip['NOx aviation'] = 'NOx|MAGICC Fossil and Industrial|Aircraft'\n",
    "for specie in ['CO2', 'Solar', 'Volcanic', 'Aerosol-radiation interactions', 'Aerosol-cloud interactions', 'Ozone',\n",
    "               'Contrails', 'Light absorbing particles on snow and ice', 'Stratospheric water vapour', 'Land use',\n",
    "               'Equivalent effective stratospheric chlorine']:\n",
    "    del(species_to_rcmip[specie])\n",
    "#species_to_rcmip"
   ]
  },
  {
   "cell_type": "code",
   "execution_count": null,
   "id": "611844be",
   "metadata": {},
   "outputs": [],
   "source": [
    "desired_emissions_units = {specie: f'kt {specie.replace(\"-\", \"\")}/yr' for specie in species}\n",
    "desired_emissions_units['CO2 FFI'] = 'Gt CO2/yr'\n",
    "desired_emissions_units['CO2 AFOLU'] = 'Gt CO2/yr'\n",
    "desired_emissions_units['CH4'] = 'Mt CH4/yr'\n",
    "desired_emissions_units['N2O'] = 'Mt N2O/yr'\n",
    "desired_emissions_units['Sulfur'] = 'Mt SO2/yr'\n",
    "desired_emissions_units['BC'] = 'Mt BC/yr'\n",
    "desired_emissions_units['OC'] = 'Mt OC/yr'\n",
    "desired_emissions_units['NH3'] = 'Mt NH3/yr'\n",
    "desired_emissions_units['NOx'] = 'Mt NO2/yr'\n",
    "desired_emissions_units['NOx aviation'] = 'Mt NO2/yr'\n",
    "desired_emissions_units['VOC'] = 'Mt VOC/yr'\n",
    "desired_emissions_units['CO'] = 'Mt CO/yr'\n",
    "\n",
    "for specie in ['CO2', 'Solar', 'Volcanic', 'Aerosol-radiation interactions', 'Aerosol-cloud interactions', 'Ozone',\n",
    "               'Contrails', 'Light absorbing particles on snow and ice', 'Stratospheric water vapour', 'Land use',\n",
    "               'Equivalent effective stratospheric chlorine']:\n",
    "    del(desired_emissions_units[specie])\n",
    "desired_emissions_units"
   ]
  },
  {
   "cell_type": "code",
   "execution_count": null,
   "id": "e26a9937",
   "metadata": {},
   "outputs": [],
   "source": [
    "compound_convert = {}\n",
    "df = pd.read_csv('../src/fair21/defaults/data/ar6/species_configs_properties.csv', index_col=0)\n",
    "species_molwts = {specie.replace(\"-\",\"\"): value for specie, value in dict(df['molecular_weight']).items()}\n",
    "\n",
    "species_molwts['C'] = 12.011\n",
    "species_molwts['NO2'] = 46.006\n",
    "species_molwts['NO'] = 30.006\n",
    "species_molwts['N'] = 14.007\n",
    "species_molwts['N2'] = 28.014\n",
    "species_molwts['SO2'] = 64.069\n",
    "species_molwts['S'] = 32.07\n",
    "\n",
    "for specie_from, mw_from in species_molwts.items():\n",
    "     if ~np.isnan(mw_from):\n",
    "        compound_convert[specie_from.replace(\"-\", \"\")] = {}\n",
    "        for specie_to, mw_to in species_molwts.items():\n",
    "            if ~np.isnan(mw_to):\n",
    "                compound_convert[specie_from.replace(\"-\", \"\")][specie_to] = mw_to/mw_from\n",
    "compound_convert"
   ]
  },
  {
   "cell_type": "code",
   "execution_count": null,
   "id": "a01785f0",
   "metadata": {},
   "outputs": [],
   "source": [
    "time_convert = {\n",
    "    'yr': {\n",
    "        'yr': 1,\n",
    "        'day': 1 / (seconds_per_year / 3600 / 24),\n",
    "        's': 1 / seconds_per_year,\n",
    "    },\n",
    "    'day' : {\n",
    "        'yr': seconds_per_year / 3600 / 24,\n",
    "        'day': 1,\n",
    "        's': 3600 * 24,\n",
    "    },\n",
    "    's' : {\n",
    "        'yr': seconds_per_year,\n",
    "        'day': 1 / 3600 / 24,\n",
    "        's': 1,\n",
    "    }\n",
    "}"
   ]
  },
  {
   "cell_type": "code",
   "execution_count": null,
   "id": "44905d19",
   "metadata": {},
   "outputs": [],
   "source": [
    "prefix_convert = {\n",
    "    'Mt': {\n",
    "        'Gt': 0.001,\n",
    "        'Tg': 1,\n",
    "        'Mt': 1,\n",
    "        'kt': 1000,\n",
    "        't': 1e6,\n",
    "        'kg': 1e9,\n",
    "        'g': 1e12\n",
    "    },\n",
    "    'kt': {\n",
    "        'Gt': 1e-6,\n",
    "        'Tg': 1e-3,\n",
    "        'Mt': 1e-3,\n",
    "        'kt': 1,\n",
    "        't': 1e3,\n",
    "        'kg': 1e6,\n",
    "        'g': 1e9\n",
    "    },\n",
    "}"
   ]
  },
  {
   "cell_type": "code",
   "execution_count": null,
   "id": "f078ee53",
   "metadata": {},
   "outputs": [],
   "source": [
    "specie = 'CO2 FFI'\n",
    "unit = df_emis.loc[\n",
    "    (df_emis['Scenario']=='ssp119') & (df_emis['Variable'].str.endswith(species_to_rcmip[specie])) & \n",
    "    (df_emis['Region']=='World'),\n",
    "'Unit'].values[0]#.interpolate(axis=1).values.squeeze()\n",
    "prefix_convert[unit.split()[0]][desired_emissions_units[specie].split()[0]]"
   ]
  },
  {
   "cell_type": "code",
   "execution_count": null,
   "id": "f1f0b2ed",
   "metadata": {},
   "outputs": [],
   "source": [
    "compound_convert[unit.split()[1].split('/')[0]][desired_emissions_units[specie].split()[1].split('/')[0]]"
   ]
  },
  {
   "cell_type": "code",
   "execution_count": null,
   "id": "b3ca6abb",
   "metadata": {},
   "outputs": [],
   "source": [
    "time_convert[unit.split()[1].split('/')[1]][desired_emissions_units[specie].split()[1].split('/')[1]]"
   ]
  },
  {
   "cell_type": "code",
   "execution_count": null,
   "id": "86173b1a",
   "metadata": {},
   "outputs": [],
   "source": [
    "df['baseline_concentration']['CO2']\n",
    "\n",
    "#properties['CO2 FFI']"
   ]
  },
  {
   "cell_type": "code",
   "execution_count": null,
   "id": "828fe492",
   "metadata": {},
   "outputs": [],
   "source": [
    "for scenario in scenarios:\n",
    "    for specie, specie_rcmip_name in species_to_rcmip.items():\n",
    "        emis_in = df_emis.loc[\n",
    "            (df_emis['Scenario']==scenario) & (df_emis['Variable'].str.endswith(\"|\"+specie_rcmip_name)) & \n",
    "            (df_emis['Region']=='World'), str(f.timebounds[0]):str(f.timebounds[-2])\n",
    "        ].interpolate(axis=1).values.squeeze()\n",
    "        # TODO: raise error if can't find\n",
    "        \n",
    "        unit = df_emis.loc[\n",
    "            (df_emis['Scenario']==scenario) & (df_emis['Variable'].str.endswith(\"|\"+specie_rcmip_name)) & \n",
    "            (df_emis['Region']=='World'), 'Unit'\n",
    "        ].values[0]\n",
    "\n",
    "        emis_in = emis_in * (\n",
    "            prefix_convert[unit.split()[0]][desired_emissions_units[specie].split()[0]] *\n",
    "            compound_convert[unit.split()[1].split('/')[0]][desired_emissions_units[specie].split()[1].split('/')[0]] *\n",
    "            time_convert[unit.split()[1].split('/')[1]][desired_emissions_units[specie].split()[1].split('/')[1]]\n",
    "        )\n",
    "\n",
    "        fill(f.emissions, emis_in[:, None], specie=specie, scenario=scenario)\n",
    "        \n",
    "    for specie in ['Volcanic', 'Solar']:\n",
    "        forc_in = df_forc.loc[\n",
    "            (df_forc['Scenario']==scenario) & (df_forc['Variable'].str.endswith(\"|\"+specie)) & \n",
    "            (df_forc['Region']=='World'), str(f.timebounds[0]):str(f.timebounds[-1])\n",
    "        ].interpolate(axis=1).values.squeeze()\n",
    "        fill(f.forcing, forc_in[:, None], specie=specie, scenario=scenario)\n",
    "\n",
    "for specie in species:\n",
    "    if df.loc[specie, 'concentration']:\n",
    "        initialise(f.concentration, df['baseline_concentration'][specie], specie=specie)\n",
    "        \n",
    "initialise(f.forcing, 0)\n",
    "initialise(f.temperature, 0)\n",
    "initialise(f.cumulative_emissions, 0)\n",
    "initialise(f.airborne_emissions, 0)"
   ]
  },
  {
   "cell_type": "code",
   "execution_count": null,
   "id": "23ad0421",
   "metadata": {},
   "outputs": [],
   "source": [
    "#f.concentration[0,0,0,:]"
   ]
  },
  {
   "cell_type": "code",
   "execution_count": null,
   "id": "13a6585c",
   "metadata": {},
   "outputs": [],
   "source": [
    "f.fill_species_configs()"
   ]
  },
  {
   "cell_type": "code",
   "execution_count": null,
   "id": "2c0a16d4",
   "metadata": {},
   "outputs": [],
   "source": [
    "fill(f.species_configs['unperturbed_lifetime'], 10.8537568, specie='CH4')"
   ]
  },
  {
   "cell_type": "code",
   "execution_count": null,
   "id": "b182ed2f",
   "metadata": {},
   "outputs": [],
   "source": [
    "f.species_configs"
   ]
  },
  {
   "cell_type": "code",
   "execution_count": null,
   "id": "7c6c7fda",
   "metadata": {},
   "outputs": [],
   "source": [
    "df = pd.read_csv(\"../data/calibration/4xCO2_cummins.csv\")\n",
    "models = df['model'].unique()\n",
    "\n",
    "seed = 1355763\n",
    "\n",
    "for config in configs:\n",
    "    model, run = config.split('_')\n",
    "    condition = (df['model']==model) & (df['run']==run)\n",
    "    fill(f.climate_configs['ocean_heat_capacity'], df.loc[condition, 'C1':'C3'].values.squeeze(), config=config)\n",
    "    fill(f.climate_configs['ocean_heat_transfer'], df.loc[condition, 'kappa1':'kappa3'].values.squeeze(), config=config)\n",
    "    fill(f.climate_configs['deep_ocean_efficacy'], df.loc[condition, 'epsilon'].values[0], config=config)\n",
    "    fill(f.climate_configs['gamma_autocorrelation'], df.loc[condition, 'gamma'].values[0], config=config)\n",
    "    fill(f.climate_configs['sigma_eta'], df.loc[condition, 'sigma_eta'].values[0], config=config)\n",
    "    fill(f.climate_configs['sigma_xi'], df.loc[condition, 'sigma_xi'].values[0], config=config)\n",
    "    fill(f.climate_configs['stochastic_run'], True, config=config)\n",
    "    fill(f.climate_configs['use_seed'], True, config=config)\n",
    "    fill(f.climate_configs['seed'], seed, config=config)\n",
    "    \n",
    "    seed = seed + 399"
   ]
  },
  {
   "cell_type": "code",
   "execution_count": null,
   "id": "76af88a1",
   "metadata": {},
   "outputs": [],
   "source": [
    "f.climate_configs"
   ]
  },
  {
   "cell_type": "markdown",
   "id": "862a619a",
   "metadata": {},
   "source": [
    "## Run FaIR"
   ]
  },
  {
   "cell_type": "code",
   "execution_count": null,
   "id": "00c0faf0",
   "metadata": {},
   "outputs": [],
   "source": [
    "f.properties_df"
   ]
  },
  {
   "cell_type": "code",
   "execution_count": null,
   "id": "f5e13987",
   "metadata": {},
   "outputs": [],
   "source": [
    "fill(f.species_configs['baseline_emissions'], 19.01978312, specie='CH4')\n",
    "fill(f.species_configs['baseline_emissions'], 0.08602230754, specie='N2O')"
   ]
  },
  {
   "cell_type": "code",
   "execution_count": null,
   "id": "161f66b1",
   "metadata": {},
   "outputs": [],
   "source": [
    "f.run()"
   ]
  },
  {
   "cell_type": "markdown",
   "id": "4789d5c2",
   "metadata": {},
   "source": [
    "## Make some nice plots"
   ]
  },
  {
   "cell_type": "code",
   "execution_count": null,
   "id": "73030e5b",
   "metadata": {},
   "outputs": [],
   "source": [
    "pl.plot(f.timebounds, f.temperature.loc[dict(scenario='ssp119', layer=0)], label=f.configs);\n",
    "pl.title('ssp119: temperature')\n",
    "pl.xlabel('year')\n",
    "pl.ylabel('Temperature anomaly (K)')\n",
    "#pl.legend()"
   ]
  },
  {
   "cell_type": "code",
   "execution_count": null,
   "id": "fcc4e4eb",
   "metadata": {},
   "outputs": [],
   "source": [
    "pl.plot(f.timebounds, f.species_configs['unperturbed_lifetime'].loc[dict(specie='CH4', gasbox=0)].data * f.alpha_lifetime.loc[dict(scenario='ssp119', specie='CH4')], label=f.configs);\n",
    "pl.title('ssp119: methane lifetime')\n",
    "pl.xlabel('year')\n",
    "pl.ylabel('methane lifetime (yr)')\n",
    "\n",
    "#f.species_configs['unperturbed_lifetime'].loc[dict(specie='CH4', gasbox=0)] * "
   ]
  },
  {
   "cell_type": "code",
   "execution_count": null,
   "id": "97817096",
   "metadata": {},
   "outputs": [],
   "source": [
    "pl.plot(f.timebounds, f.forcing.loc[dict(scenario='ssp119', specie='CO2')], label=f.configs);\n",
    "pl.title('ssp119: CO2 forcing')\n",
    "pl.xlabel('year')\n",
    "pl.ylabel('W/m2')"
   ]
  },
  {
   "cell_type": "code",
   "execution_count": null,
   "id": "6bbd1625",
   "metadata": {},
   "outputs": [],
   "source": [
    "pl.plot(f.timebounds, f.forcing.loc[dict(scenario='ssp119', specie='CH4')], label=f.configs);\n",
    "pl.title('ssp119: methane forcing')\n",
    "pl.xlabel('year')\n",
    "pl.ylabel('W/m2')"
   ]
  },
  {
   "cell_type": "code",
   "execution_count": null,
   "id": "5a447834",
   "metadata": {},
   "outputs": [],
   "source": [
    "pl.plot(f.timebounds, f.concentration.loc[dict(scenario='ssp119', specie='CH4')], label=f.configs);\n",
    "pl.title('ssp119: methane concentration')\n",
    "pl.xlabel('year')\n",
    "pl.ylabel('Temperature anomaly (K)')"
   ]
  },
  {
   "cell_type": "code",
   "execution_count": null,
   "id": "0b48aa88",
   "metadata": {},
   "outputs": [],
   "source": [
    "pl.plot(f.timebounds, f.concentration.loc[dict(scenario='ssp119', specie='Equivalent effective stratospheric chlorine')], label=f.configs);\n",
    "pl.title('ssp119: EESC')\n",
    "pl.xlabel('year')\n",
    "pl.ylabel('ppt')"
   ]
  },
  {
   "cell_type": "code",
   "execution_count": null,
   "id": "f6159784",
   "metadata": {},
   "outputs": [],
   "source": [
    "pl.plot(f.timebounds, f.forcing.loc[dict(scenario='ssp119', specie='N2O')], label=f.configs);\n",
    "pl.title('ssp119: N2O concentration')\n",
    "pl.xlabel('year')\n",
    "pl.ylabel('ppb')"
   ]
  },
  {
   "cell_type": "code",
   "execution_count": null,
   "id": "362cea65",
   "metadata": {},
   "outputs": [],
   "source": [
    "pl.plot(f.timebounds, f.forcing.loc[dict(scenario='ssp119', specie='N2O')], label=f.configs);\n",
    "pl.title('ssp119: N2O forcing')\n",
    "pl.xlabel('year')\n",
    "pl.ylabel('W/m2')"
   ]
  },
  {
   "cell_type": "code",
   "execution_count": null,
   "id": "6e54610f",
   "metadata": {},
   "outputs": [],
   "source": [
    "pl.plot(f.timebounds, f.concentration.loc[dict(scenario='ssp119', specie='CH3Cl')], label=f.configs);\n",
    "pl.title('ssp119: Halon-1211 concentration')\n",
    "pl.xlabel('year')\n",
    "pl.ylabel('ppt')"
   ]
  },
  {
   "cell_type": "code",
   "execution_count": null,
   "id": "08cb3539",
   "metadata": {},
   "outputs": [],
   "source": [
    "pl.plot(f.timebounds, f.forcing.loc[dict(scenario='ssp119', specie='Aerosol-radiation interactions')], label=f.configs);\n",
    "pl.title('ssp119: ERFari')\n",
    "pl.xlabel('year')\n",
    "pl.ylabel('W/m2')"
   ]
  },
  {
   "cell_type": "code",
   "execution_count": null,
   "id": "5be36a14",
   "metadata": {},
   "outputs": [],
   "source": [
    "pl.plot(f.timebounds, f.forcing.loc[dict(scenario='ssp119', specie='Aerosol-cloud interactions')], label=f.configs);\n",
    "pl.title('ssp119: ERFaci')\n",
    "pl.xlabel('year')\n",
    "pl.ylabel('W/m2')"
   ]
  },
  {
   "cell_type": "code",
   "execution_count": null,
   "id": "3a282249",
   "metadata": {},
   "outputs": [],
   "source": [
    "pl.plot(f.timebounds, f.forcing.loc[dict(scenario='ssp119', specie='Ozone')], label=f.configs);\n",
    "pl.title('ssp119: Ozone forcing')\n",
    "pl.xlabel('year')\n",
    "pl.ylabel('W/m2')"
   ]
  },
  {
   "cell_type": "code",
   "execution_count": null,
   "id": "756c55db",
   "metadata": {},
   "outputs": [],
   "source": [
    "pl.plot(f.timebounds, f.forcing.loc[dict(scenario='ssp119', specie='Contrails')], label=f.configs);\n",
    "pl.title('ssp119: Contrails')\n",
    "pl.xlabel('year')\n",
    "pl.ylabel('W/m2')"
   ]
  },
  {
   "cell_type": "code",
   "execution_count": null,
   "id": "c7e4235b",
   "metadata": {},
   "outputs": [],
   "source": [
    "pl.plot(f.timebounds, f.forcing.loc[dict(scenario='ssp119', specie='Light absorbing particles on snow and ice')], label=f.configs);\n",
    "pl.title('ssp119: LAPSI')\n",
    "pl.xlabel('year')\n",
    "pl.ylabel('W/m2')"
   ]
  },
  {
   "cell_type": "code",
   "execution_count": null,
   "id": "bca5e50f",
   "metadata": {},
   "outputs": [],
   "source": [
    "pl.plot(f.timebounds, f.forcing.loc[dict(scenario='ssp119', specie='Land use')], label=f.configs);\n",
    "pl.title('ssp119: land use forcing')\n",
    "pl.xlabel('year')\n",
    "pl.ylabel('W/m2')"
   ]
  },
  {
   "cell_type": "code",
   "execution_count": null,
   "id": "11ed918d",
   "metadata": {},
   "outputs": [],
   "source": [
    "pl.plot(f.timebounds, f.forcing.loc[dict(scenario='ssp119', specie='Solar')], label=f.configs);\n",
    "pl.title('ssp119: solar forcing')\n",
    "pl.xlabel('year')\n",
    "pl.ylabel('W/m2')"
   ]
  },
  {
   "cell_type": "code",
   "execution_count": null,
   "id": "1b7c73e5",
   "metadata": {},
   "outputs": [],
   "source": [
    "pl.plot(f.timebounds, f.forcing.loc[dict(scenario='ssp119', specie='Volcanic')], label=f.configs);\n",
    "pl.title('ssp119: volcanic forcing')\n",
    "pl.xlabel('year')\n",
    "pl.ylabel('W/m2')"
   ]
  },
  {
   "cell_type": "code",
   "execution_count": null,
   "id": "e010ae31",
   "metadata": {},
   "outputs": [],
   "source": [
    "pl.plot(f.timebounds, f.forcing.loc[dict(scenario='ssp119', specie='Stratospheric water vapour')], label=f.configs);\n",
    "pl.title('ssp119: Stratospheric water vapour forcing')\n",
    "pl.xlabel('year')\n",
    "pl.ylabel('W/m2')"
   ]
  },
  {
   "cell_type": "code",
   "execution_count": null,
   "id": "f0ddf1a8",
   "metadata": {},
   "outputs": [],
   "source": [
    "pl.plot(f.timebounds, f.temperature.loc[dict(scenario='ssp126', layer=0)], label=f.configs);\n",
    "pl.title('ssp126: temperature')\n",
    "pl.xlabel('year')\n",
    "pl.ylabel('Temperature anomaly (K)')\n",
    "#pl.legend()"
   ]
  },
  {
   "cell_type": "code",
   "execution_count": null,
   "id": "79d150d6",
   "metadata": {},
   "outputs": [],
   "source": [
    "pl.plot(f.timebounds, f.temperature.loc[dict(scenario='ssp245', layer=0)], label=f.configs);\n",
    "pl.title('ssp245: temperature')\n",
    "pl.xlabel('year')\n",
    "pl.ylabel('Temperature anomaly (K)')\n",
    "#pl.legend()"
   ]
  },
  {
   "cell_type": "code",
   "execution_count": null,
   "id": "38d20587",
   "metadata": {},
   "outputs": [],
   "source": [
    "pl.plot(f.timebounds, f.temperature.loc[dict(scenario='ssp370', layer=0)], label=f.configs);\n",
    "pl.title('ssp370: temperature')\n",
    "pl.xlabel('year')\n",
    "pl.ylabel('Temperature anomaly (K)')\n",
    "#pl.legend()"
   ]
  },
  {
   "cell_type": "code",
   "execution_count": null,
   "id": "73a8d318",
   "metadata": {},
   "outputs": [],
   "source": [
    "pl.plot(f.timebounds, f.temperature.loc[dict(scenario='ssp585', layer=0)], label=f.configs);\n",
    "pl.title('ssp585: temperature')\n",
    "pl.xlabel('year')\n",
    "pl.ylabel('Temperature anomaly (K)')\n",
    "#pl.legend()"
   ]
  },
  {
   "cell_type": "code",
   "execution_count": null,
   "id": "9ba30dfd",
   "metadata": {},
   "outputs": [],
   "source": [
    "pl.plot(f.timebounds, f.forcing.loc[dict(scenario='ssp126', specie='Ozone')], label=f.configs);\n",
    "pl.title('ssp119: Ozone forcing')\n",
    "pl.xlabel('year')\n",
    "pl.ylabel('W/m2')"
   ]
  },
  {
   "cell_type": "code",
   "execution_count": null,
   "id": "d4a2dc5d",
   "metadata": {},
   "outputs": [],
   "source": [
    "pl.plot(f.timebounds, f.forcing.loc[dict(scenario='ssp245', specie='Ozone')], label=f.configs);\n",
    "pl.title('ssp119: Ozone forcing')\n",
    "pl.xlabel('year')\n",
    "pl.ylabel('W/m2')"
   ]
  },
  {
   "cell_type": "code",
   "execution_count": null,
   "id": "370be98f",
   "metadata": {},
   "outputs": [],
   "source": [
    "pl.plot(f.timebounds, f.forcing.loc[dict(scenario='ssp370', specie='Ozone')], label=f.configs);\n",
    "pl.title('ssp119: Ozone forcing')\n",
    "pl.xlabel('year')\n",
    "pl.ylabel('W/m2')"
   ]
  },
  {
   "cell_type": "code",
   "execution_count": null,
   "id": "27d93249",
   "metadata": {},
   "outputs": [],
   "source": [
    "pl.plot(f.timebounds, f.forcing.loc[dict(scenario='ssp585', specie='Ozone')], label=f.configs);\n",
    "pl.title('ssp119: Ozone forcing')\n",
    "pl.xlabel('year')\n",
    "pl.ylabel('W/m2')"
   ]
  },
  {
   "cell_type": "code",
   "execution_count": null,
   "id": "ae0a76d8",
   "metadata": {},
   "outputs": [],
   "source": []
  }
 ],
 "metadata": {
  "kernelspec": {
   "display_name": "Python 3 (ipykernel)",
   "language": "python",
   "name": "python3"
  },
  "language_info": {
   "codemirror_mode": {
    "name": "ipython",
    "version": 3
   },
   "file_extension": ".py",
   "mimetype": "text/x-python",
   "name": "python",
   "nbconvert_exporter": "python",
   "pygments_lexer": "ipython3",
   "version": "3.7.12"
  }
 },
 "nbformat": 4,
 "nbformat_minor": 5
}
